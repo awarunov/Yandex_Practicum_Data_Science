{
 "cells": [
  {
   "cell_type": "markdown",
   "metadata": {},
   "source": [
    "# Определение перспективного тарифа для телеком-компании\n",
    "\n",
    "Клиентам предлагают два тарифных плана: «Смарт» и «Ультра». Чтобы скорректировать рекламный бюджет, коммерческий департамент хочет понять, какой тариф приносит больше денег.\n",
    "Предстоит сделать предварительный анализ тарифов на небольшой выборке клиентов. \n",
    "В нашем распоряжении данные 500 пользователей «Мегалайна»: кто они, откуда, каким тарифом пользуются, сколько звонков и сообщений каждый отправил за 2018 год. Нужно проанализировать поведение клиентов и сделать вывод — какой тариф лучше.\n",
    "\n",
    "\n",
    "**Описание тарифов**\n",
    "\n",
    "\n",
    "**Тариф «Смарт»**\n",
    "Ежемесячная плата: 550 рублей\n",
    "Включено 500 минут разговора, 50 сообщений и 15 Гб интернет-трафика\n",
    "Стоимость услуг сверх тарифного пакета:\n",
    "минута разговора: 3 рубля\n",
    "сообщение: 3 рубля\n",
    "1 Гб интернет-трафика: 200 рублей\n",
    "\n",
    "\n",
    "**Тариф «Ультра»**\n",
    "Ежемесячная плата: 1950 рублей\n",
    "Включено 3000 минут разговора, 1000 сообщений и 30 Гб интернет-трафика\n",
    "Стоимость услуг сверх тарифного пакета:\n",
    "минута разговора: 1 рубль\n",
    "сообщение: 1 рубль\n",
    "1 Гб интернет-трафика: 150 рублей\n",
    "\n",
    "\n",
    "**Описание данных**\n",
    "\n",
    "\n",
    "**Таблица users (информация о пользователях):**\n",
    "\n",
    "\n",
    "user_id — уникальный идентификатор пользователя\n",
    "\n",
    "\n",
    "first_name — имя пользователя\n",
    "\n",
    "\n",
    "last_name — фамилия пользователя\n",
    "\n",
    "\n",
    "age — возраст пользователя (годы)\n",
    "\n",
    "\n",
    "reg_date — дата подключения тарифа (день, месяц, год)\n",
    "\n",
    "\n",
    "churn_date — дата прекращения пользования тарифом (если значение пропущено, то тариф ещё действовал на момент выгрузки данных)\n",
    "\n",
    "\n",
    "city — город проживания пользователя\n",
    "\n",
    "\n",
    "tariff — название тарифного плана\n",
    "\n",
    "\n",
    "**Таблица calls (информация о звонках):**\n",
    "\n",
    "\n",
    "id — уникальный номер звонка\n",
    "\n",
    "\n",
    "call_date — дата звонка\n",
    "\n",
    "\n",
    "duration — длительность звонка в минутах\n",
    "\n",
    "\n",
    "user_id — идентификатор пользователя, сделавшего звонок\n",
    "\n",
    "\n",
    "Таблица messages (информация о сообщениях):\n",
    "\n",
    "\n",
    "id — уникальный номер сообщения\n",
    "\n",
    "\n",
    "message_date — дата сообщения\n",
    "\n",
    "\n",
    "user_id — идентификатор пользователя, отправившего сообщение\n",
    "\n",
    "\n",
    "**Таблица internet (информация об интернет-сессиях):**\n",
    "\n",
    "\n",
    "id — уникальный номер сессии\n",
    "\n",
    "\n",
    "mb_used — объём потраченного за сессию интернет-трафика (в мегабайтах)\n",
    "\n",
    "\n",
    "session_date — дата интернет-сессии\n",
    "\n",
    "\n",
    "user_id — идентификатор пользователя\n",
    "\n",
    "\n",
    "**Таблица tariffs (информация о тарифах):**\n",
    "\n",
    "\n",
    "tariff_name — название тарифа\n",
    "\n",
    "\n",
    "rub_monthly_fee — ежемесячная абонентская плата в рублях\n",
    "\n",
    "\n",
    "minutes_included — количество минут разговора в месяц, включённых в абонентскую плату\n",
    "\n",
    "\n",
    "messages_included — количество сообщений в месяц, включённых в абонентскую плату\n",
    "\n",
    "\n",
    "mb_per_month_included — объём интернет-трафика, включённого в абонентскую плату (в мегабайтах)\n",
    "\n",
    "\n",
    "rub_per_minute — стоимость минуты разговора сверх тарифного пакета (например, если в тарифе 100 минут разговора в месяц, то со \n",
    "101 минуты будет взиматься плата)\n",
    "\n",
    "\n",
    "rub_per_message — стоимость отправки сообщения сверх тарифного пакета\n",
    "\n",
    "\n",
    "rub_per_gb — стоимость дополнительного гигабайта интернет-трафика сверх тарифного пакета (1 гигабайт = 1024 мегабайта)\n",
    "\n",
    "\n",
    "**План выполенния проекта:**\n",
    "1. Открытие файлов с данными и изучение общей информации\n",
    "Путь к файлам:\n",
    "/datasets/calls.csv, /datasets/internet.csv, /datasets/messages.csv, /datasets/tariffs.csv, /datasets/users.csv.\n",
    "\n",
    "\n",
    "2. Подготовка данных\n",
    "Приведение данные к нужным типам;\n",
    "Поиск и исправление ошибок в данных, если они есть.\n",
    "Пояснение, какие ошибки нашли и как их исправили. В данных имеются звонки с нулевой продолжительностью - нулями обозначены пропущенные звонки, поэтому их не нужно удалять.\n",
    "**Посчитать для каждого пользователя:**\n",
    "\n",
    "\n",
    "количество сделанных звонков и израсходованных минут разговора по месяцам;\n",
    "\n",
    "\n",
    "количество отправленных сообщений по месяцам;\n",
    "\n",
    "\n",
    "объем израсходованного интернет-трафика по месяцам;\n",
    "\n",
    "\n",
    "помесячную выручку с каждого пользователя (нужно отнять бесплатный лимит из суммарного количества звонков, сообщений и интернет-трафика, остаток умножить на значение из тарифного плана, прибавить абонентскую плату, соответствующую тарифному плану).\n",
    "\n",
    "\n",
    "3. Анализ данных\n",
    "Описание поведения клиентов оператора, исходя из выборки. Сколько минут разговора, сколько сообщений и какой объём интернет-трафика требуется пользователям каждого тарифа в месяц? Посчитать среднее количество, дисперсию и стандартное отклонение. Построить гистограммы. Описать распределения.\n",
    "\n",
    "\n",
    "4. Проверка гипотез\n",
    "средняя выручка пользователей тарифов «Ультра» и «Смарт» различаются;\n",
    "средняя выручка пользователей из Москвы отличается от выручки пользователей из других регионов.\n",
    "Пороговое значение alpha задаём самостоятельно.\n",
    "**Пояснение:**\n",
    "как формулировали нулевую и альтернативную гипотезы;\n",
    "какой критерий использовали для проверки гипотез и почему.\n",
    "\n",
    "\n",
    "5. Общий вывод"
   ]
  },
  {
   "cell_type": "markdown",
   "metadata": {},
   "source": [
    "## Изучение данных из файлов"
   ]
  },
  {
   "cell_type": "code",
   "execution_count": 1,
   "metadata": {},
   "outputs": [],
   "source": [
    "import pandas as pd\n",
    "import seaborn as sns\n",
    "import matplotlib.pyplot as plt\n",
    "import numpy as np\n",
    "import traceback\n",
    "from scipy import stats as st\n",
    "pd.set_option('display.max_rows', 100)\n",
    "pd.set_option('display.max_columns', 29)"
   ]
  },
  {
   "cell_type": "code",
   "execution_count": 2,
   "metadata": {
    "scrolled": false
   },
   "outputs": [
    {
     "name": "stdout",
     "output_type": "stream",
     "text": [
      "Общая информация о датасете calls.csv :\n",
      "<class 'pandas.core.frame.DataFrame'>\n",
      "RangeIndex: 202607 entries, 0 to 202606\n",
      "Data columns (total 4 columns):\n",
      " #   Column     Non-Null Count   Dtype  \n",
      "---  ------     --------------   -----  \n",
      " 0   id         202607 non-null  object \n",
      " 1   call_date  202607 non-null  object \n",
      " 2   duration   202607 non-null  float64\n",
      " 3   user_id    202607 non-null  int64  \n",
      "dtypes: float64(1), int64(1), object(2)\n",
      "memory usage: 6.2+ MB\n"
     ]
    },
    {
     "data": {
      "text/html": [
       "<div>\n",
       "<style scoped>\n",
       "    .dataframe tbody tr th:only-of-type {\n",
       "        vertical-align: middle;\n",
       "    }\n",
       "\n",
       "    .dataframe tbody tr th {\n",
       "        vertical-align: top;\n",
       "    }\n",
       "\n",
       "    .dataframe thead th {\n",
       "        text-align: right;\n",
       "    }\n",
       "</style>\n",
       "<table border=\"1\" class=\"dataframe\">\n",
       "  <thead>\n",
       "    <tr style=\"text-align: right;\">\n",
       "      <th></th>\n",
       "      <th>id</th>\n",
       "      <th>call_date</th>\n",
       "      <th>duration</th>\n",
       "      <th>user_id</th>\n",
       "    </tr>\n",
       "  </thead>\n",
       "  <tbody>\n",
       "    <tr>\n",
       "      <th>0</th>\n",
       "      <td>1000_0</td>\n",
       "      <td>2018-07-25</td>\n",
       "      <td>0.00</td>\n",
       "      <td>1000</td>\n",
       "    </tr>\n",
       "    <tr>\n",
       "      <th>1</th>\n",
       "      <td>1000_1</td>\n",
       "      <td>2018-08-17</td>\n",
       "      <td>0.00</td>\n",
       "      <td>1000</td>\n",
       "    </tr>\n",
       "    <tr>\n",
       "      <th>2</th>\n",
       "      <td>1000_2</td>\n",
       "      <td>2018-06-11</td>\n",
       "      <td>2.85</td>\n",
       "      <td>1000</td>\n",
       "    </tr>\n",
       "    <tr>\n",
       "      <th>3</th>\n",
       "      <td>1000_3</td>\n",
       "      <td>2018-09-21</td>\n",
       "      <td>13.80</td>\n",
       "      <td>1000</td>\n",
       "    </tr>\n",
       "    <tr>\n",
       "      <th>4</th>\n",
       "      <td>1000_4</td>\n",
       "      <td>2018-12-15</td>\n",
       "      <td>5.18</td>\n",
       "      <td>1000</td>\n",
       "    </tr>\n",
       "    <tr>\n",
       "      <th>...</th>\n",
       "      <td>...</td>\n",
       "      <td>...</td>\n",
       "      <td>...</td>\n",
       "      <td>...</td>\n",
       "    </tr>\n",
       "    <tr>\n",
       "      <th>202602</th>\n",
       "      <td>1499_215</td>\n",
       "      <td>2018-12-26</td>\n",
       "      <td>0.76</td>\n",
       "      <td>1499</td>\n",
       "    </tr>\n",
       "    <tr>\n",
       "      <th>202603</th>\n",
       "      <td>1499_216</td>\n",
       "      <td>2018-10-18</td>\n",
       "      <td>18.83</td>\n",
       "      <td>1499</td>\n",
       "    </tr>\n",
       "    <tr>\n",
       "      <th>202604</th>\n",
       "      <td>1499_217</td>\n",
       "      <td>2018-11-10</td>\n",
       "      <td>10.81</td>\n",
       "      <td>1499</td>\n",
       "    </tr>\n",
       "    <tr>\n",
       "      <th>202605</th>\n",
       "      <td>1499_218</td>\n",
       "      <td>2018-10-06</td>\n",
       "      <td>4.27</td>\n",
       "      <td>1499</td>\n",
       "    </tr>\n",
       "    <tr>\n",
       "      <th>202606</th>\n",
       "      <td>1499_219</td>\n",
       "      <td>2018-12-14</td>\n",
       "      <td>19.62</td>\n",
       "      <td>1499</td>\n",
       "    </tr>\n",
       "  </tbody>\n",
       "</table>\n",
       "<p>202607 rows × 4 columns</p>\n",
       "</div>"
      ],
      "text/plain": [
       "              id   call_date  duration  user_id\n",
       "0         1000_0  2018-07-25      0.00     1000\n",
       "1         1000_1  2018-08-17      0.00     1000\n",
       "2         1000_2  2018-06-11      2.85     1000\n",
       "3         1000_3  2018-09-21     13.80     1000\n",
       "4         1000_4  2018-12-15      5.18     1000\n",
       "...          ...         ...       ...      ...\n",
       "202602  1499_215  2018-12-26      0.76     1499\n",
       "202603  1499_216  2018-10-18     18.83     1499\n",
       "202604  1499_217  2018-11-10     10.81     1499\n",
       "202605  1499_218  2018-10-06      4.27     1499\n",
       "202606  1499_219  2018-12-14     19.62     1499\n",
       "\n",
       "[202607 rows x 4 columns]"
      ]
     },
     "metadata": {},
     "output_type": "display_data"
    },
    {
     "name": "stdout",
     "output_type": "stream",
     "text": [
      "Минимальные значения в датасете calls.csv :\n",
      "id               1000_0\n",
      "call_date    2018-01-01\n",
      "duration            0.0\n",
      "user_id            1000\n",
      "dtype: object \n",
      "\n",
      "Максимальные значения в датасете calls.csv :\n",
      "id              1499_99\n",
      "call_date    2018-12-31\n",
      "duration           38.0\n",
      "user_id            1499\n",
      "dtype: object \n",
      "\n",
      "Количество дубликатов в датасете calls.csv :\n",
      "0 \n",
      "\n",
      "Колонки с пропущенными значениями в датасете:\n",
      "\n",
      "[id           0\n",
      "call_date    0\n",
      "duration     0\n",
      "user_id      0\n",
      "dtype: int64] \n",
      "\n",
      "Общая информация о датасете internet.csv :\n",
      "<class 'pandas.core.frame.DataFrame'>\n",
      "RangeIndex: 149396 entries, 0 to 149395\n",
      "Data columns (total 5 columns):\n",
      " #   Column        Non-Null Count   Dtype  \n",
      "---  ------        --------------   -----  \n",
      " 0   Unnamed: 0    149396 non-null  int64  \n",
      " 1   id            149396 non-null  object \n",
      " 2   mb_used       149396 non-null  float64\n",
      " 3   session_date  149396 non-null  object \n",
      " 4   user_id       149396 non-null  int64  \n",
      "dtypes: float64(1), int64(2), object(2)\n",
      "memory usage: 5.7+ MB\n"
     ]
    },
    {
     "data": {
      "text/html": [
       "<div>\n",
       "<style scoped>\n",
       "    .dataframe tbody tr th:only-of-type {\n",
       "        vertical-align: middle;\n",
       "    }\n",
       "\n",
       "    .dataframe tbody tr th {\n",
       "        vertical-align: top;\n",
       "    }\n",
       "\n",
       "    .dataframe thead th {\n",
       "        text-align: right;\n",
       "    }\n",
       "</style>\n",
       "<table border=\"1\" class=\"dataframe\">\n",
       "  <thead>\n",
       "    <tr style=\"text-align: right;\">\n",
       "      <th></th>\n",
       "      <th>Unnamed: 0</th>\n",
       "      <th>id</th>\n",
       "      <th>mb_used</th>\n",
       "      <th>session_date</th>\n",
       "      <th>user_id</th>\n",
       "    </tr>\n",
       "  </thead>\n",
       "  <tbody>\n",
       "    <tr>\n",
       "      <th>0</th>\n",
       "      <td>0</td>\n",
       "      <td>1000_0</td>\n",
       "      <td>112.95</td>\n",
       "      <td>2018-11-25</td>\n",
       "      <td>1000</td>\n",
       "    </tr>\n",
       "    <tr>\n",
       "      <th>1</th>\n",
       "      <td>1</td>\n",
       "      <td>1000_1</td>\n",
       "      <td>1052.81</td>\n",
       "      <td>2018-09-07</td>\n",
       "      <td>1000</td>\n",
       "    </tr>\n",
       "    <tr>\n",
       "      <th>2</th>\n",
       "      <td>2</td>\n",
       "      <td>1000_2</td>\n",
       "      <td>1197.26</td>\n",
       "      <td>2018-06-25</td>\n",
       "      <td>1000</td>\n",
       "    </tr>\n",
       "    <tr>\n",
       "      <th>3</th>\n",
       "      <td>3</td>\n",
       "      <td>1000_3</td>\n",
       "      <td>550.27</td>\n",
       "      <td>2018-08-22</td>\n",
       "      <td>1000</td>\n",
       "    </tr>\n",
       "    <tr>\n",
       "      <th>4</th>\n",
       "      <td>4</td>\n",
       "      <td>1000_4</td>\n",
       "      <td>302.56</td>\n",
       "      <td>2018-09-24</td>\n",
       "      <td>1000</td>\n",
       "    </tr>\n",
       "    <tr>\n",
       "      <th>...</th>\n",
       "      <td>...</td>\n",
       "      <td>...</td>\n",
       "      <td>...</td>\n",
       "      <td>...</td>\n",
       "      <td>...</td>\n",
       "    </tr>\n",
       "    <tr>\n",
       "      <th>149391</th>\n",
       "      <td>149391</td>\n",
       "      <td>1499_152</td>\n",
       "      <td>318.90</td>\n",
       "      <td>2018-10-03</td>\n",
       "      <td>1499</td>\n",
       "    </tr>\n",
       "    <tr>\n",
       "      <th>149392</th>\n",
       "      <td>149392</td>\n",
       "      <td>1499_153</td>\n",
       "      <td>490.13</td>\n",
       "      <td>2018-12-14</td>\n",
       "      <td>1499</td>\n",
       "    </tr>\n",
       "    <tr>\n",
       "      <th>149393</th>\n",
       "      <td>149393</td>\n",
       "      <td>1499_154</td>\n",
       "      <td>0.00</td>\n",
       "      <td>2018-10-27</td>\n",
       "      <td>1499</td>\n",
       "    </tr>\n",
       "    <tr>\n",
       "      <th>149394</th>\n",
       "      <td>149394</td>\n",
       "      <td>1499_155</td>\n",
       "      <td>1246.32</td>\n",
       "      <td>2018-11-26</td>\n",
       "      <td>1499</td>\n",
       "    </tr>\n",
       "    <tr>\n",
       "      <th>149395</th>\n",
       "      <td>149395</td>\n",
       "      <td>1499_156</td>\n",
       "      <td>544.37</td>\n",
       "      <td>2018-10-26</td>\n",
       "      <td>1499</td>\n",
       "    </tr>\n",
       "  </tbody>\n",
       "</table>\n",
       "<p>149396 rows × 5 columns</p>\n",
       "</div>"
      ],
      "text/plain": [
       "        Unnamed: 0        id  mb_used session_date  user_id\n",
       "0                0    1000_0   112.95   2018-11-25     1000\n",
       "1                1    1000_1  1052.81   2018-09-07     1000\n",
       "2                2    1000_2  1197.26   2018-06-25     1000\n",
       "3                3    1000_3   550.27   2018-08-22     1000\n",
       "4                4    1000_4   302.56   2018-09-24     1000\n",
       "...            ...       ...      ...          ...      ...\n",
       "149391      149391  1499_152   318.90   2018-10-03     1499\n",
       "149392      149392  1499_153   490.13   2018-12-14     1499\n",
       "149393      149393  1499_154     0.00   2018-10-27     1499\n",
       "149394      149394  1499_155  1246.32   2018-11-26     1499\n",
       "149395      149395  1499_156   544.37   2018-10-26     1499\n",
       "\n",
       "[149396 rows x 5 columns]"
      ]
     },
     "metadata": {},
     "output_type": "display_data"
    },
    {
     "name": "stdout",
     "output_type": "stream",
     "text": [
      "Минимальные значения в датасете internet.csv :\n",
      "Unnamed: 0               0\n",
      "id                  1000_0\n",
      "mb_used                0.0\n",
      "session_date    2018-01-01\n",
      "user_id               1000\n",
      "dtype: object \n",
      "\n",
      "Максимальные значения в датасете internet.csv :\n",
      "Unnamed: 0          149395\n",
      "id                 1499_99\n",
      "mb_used            1724.83\n",
      "session_date    2018-12-31\n",
      "user_id               1499\n",
      "dtype: object \n",
      "\n",
      "Количество дубликатов в датасете internet.csv :\n",
      "0 \n",
      "\n",
      "Колонки с пропущенными значениями в датасете:\n",
      "\n",
      "[Unnamed: 0      0\n",
      "id              0\n",
      "mb_used         0\n",
      "session_date    0\n",
      "user_id         0\n",
      "dtype: int64] \n",
      "\n",
      "Общая информация о датасете messages.csv :\n",
      "<class 'pandas.core.frame.DataFrame'>\n",
      "RangeIndex: 123036 entries, 0 to 123035\n",
      "Data columns (total 3 columns):\n",
      " #   Column        Non-Null Count   Dtype \n",
      "---  ------        --------------   ----- \n",
      " 0   id            123036 non-null  object\n",
      " 1   message_date  123036 non-null  object\n",
      " 2   user_id       123036 non-null  int64 \n",
      "dtypes: int64(1), object(2)\n",
      "memory usage: 2.8+ MB\n"
     ]
    },
    {
     "data": {
      "text/html": [
       "<div>\n",
       "<style scoped>\n",
       "    .dataframe tbody tr th:only-of-type {\n",
       "        vertical-align: middle;\n",
       "    }\n",
       "\n",
       "    .dataframe tbody tr th {\n",
       "        vertical-align: top;\n",
       "    }\n",
       "\n",
       "    .dataframe thead th {\n",
       "        text-align: right;\n",
       "    }\n",
       "</style>\n",
       "<table border=\"1\" class=\"dataframe\">\n",
       "  <thead>\n",
       "    <tr style=\"text-align: right;\">\n",
       "      <th></th>\n",
       "      <th>id</th>\n",
       "      <th>message_date</th>\n",
       "      <th>user_id</th>\n",
       "    </tr>\n",
       "  </thead>\n",
       "  <tbody>\n",
       "    <tr>\n",
       "      <th>0</th>\n",
       "      <td>1000_0</td>\n",
       "      <td>2018-06-27</td>\n",
       "      <td>1000</td>\n",
       "    </tr>\n",
       "    <tr>\n",
       "      <th>1</th>\n",
       "      <td>1000_1</td>\n",
       "      <td>2018-10-08</td>\n",
       "      <td>1000</td>\n",
       "    </tr>\n",
       "    <tr>\n",
       "      <th>2</th>\n",
       "      <td>1000_2</td>\n",
       "      <td>2018-08-04</td>\n",
       "      <td>1000</td>\n",
       "    </tr>\n",
       "    <tr>\n",
       "      <th>3</th>\n",
       "      <td>1000_3</td>\n",
       "      <td>2018-06-16</td>\n",
       "      <td>1000</td>\n",
       "    </tr>\n",
       "    <tr>\n",
       "      <th>4</th>\n",
       "      <td>1000_4</td>\n",
       "      <td>2018-12-05</td>\n",
       "      <td>1000</td>\n",
       "    </tr>\n",
       "    <tr>\n",
       "      <th>...</th>\n",
       "      <td>...</td>\n",
       "      <td>...</td>\n",
       "      <td>...</td>\n",
       "    </tr>\n",
       "    <tr>\n",
       "      <th>123031</th>\n",
       "      <td>1499_179</td>\n",
       "      <td>2018-12-12</td>\n",
       "      <td>1499</td>\n",
       "    </tr>\n",
       "    <tr>\n",
       "      <th>123032</th>\n",
       "      <td>1499_180</td>\n",
       "      <td>2018-09-28</td>\n",
       "      <td>1499</td>\n",
       "    </tr>\n",
       "    <tr>\n",
       "      <th>123033</th>\n",
       "      <td>1499_181</td>\n",
       "      <td>2018-09-27</td>\n",
       "      <td>1499</td>\n",
       "    </tr>\n",
       "    <tr>\n",
       "      <th>123034</th>\n",
       "      <td>1499_182</td>\n",
       "      <td>2018-11-15</td>\n",
       "      <td>1499</td>\n",
       "    </tr>\n",
       "    <tr>\n",
       "      <th>123035</th>\n",
       "      <td>1499_183</td>\n",
       "      <td>2018-11-16</td>\n",
       "      <td>1499</td>\n",
       "    </tr>\n",
       "  </tbody>\n",
       "</table>\n",
       "<p>123036 rows × 3 columns</p>\n",
       "</div>"
      ],
      "text/plain": [
       "              id message_date  user_id\n",
       "0         1000_0   2018-06-27     1000\n",
       "1         1000_1   2018-10-08     1000\n",
       "2         1000_2   2018-08-04     1000\n",
       "3         1000_3   2018-06-16     1000\n",
       "4         1000_4   2018-12-05     1000\n",
       "...          ...          ...      ...\n",
       "123031  1499_179   2018-12-12     1499\n",
       "123032  1499_180   2018-09-28     1499\n",
       "123033  1499_181   2018-09-27     1499\n",
       "123034  1499_182   2018-11-15     1499\n",
       "123035  1499_183   2018-11-16     1499\n",
       "\n",
       "[123036 rows x 3 columns]"
      ]
     },
     "metadata": {},
     "output_type": "display_data"
    },
    {
     "name": "stdout",
     "output_type": "stream",
     "text": [
      "Минимальные значения в датасете messages.csv :\n",
      "id                  1000_0\n",
      "message_date    2018-01-02\n",
      "user_id               1000\n",
      "dtype: object \n",
      "\n",
      "Максимальные значения в датасете messages.csv :\n",
      "id                 1499_99\n",
      "message_date    2018-12-31\n",
      "user_id               1499\n",
      "dtype: object \n",
      "\n",
      "Количество дубликатов в датасете messages.csv :\n",
      "0 \n",
      "\n",
      "Колонки с пропущенными значениями в датасете:\n",
      "\n",
      "[id              0\n",
      "message_date    0\n",
      "user_id         0\n",
      "dtype: int64] \n",
      "\n",
      "Общая информация о датасете tariffs.csv :\n",
      "<class 'pandas.core.frame.DataFrame'>\n",
      "RangeIndex: 2 entries, 0 to 1\n",
      "Data columns (total 8 columns):\n",
      " #   Column                 Non-Null Count  Dtype \n",
      "---  ------                 --------------  ----- \n",
      " 0   messages_included      2 non-null      int64 \n",
      " 1   mb_per_month_included  2 non-null      int64 \n",
      " 2   minutes_included       2 non-null      int64 \n",
      " 3   rub_monthly_fee        2 non-null      int64 \n",
      " 4   rub_per_gb             2 non-null      int64 \n",
      " 5   rub_per_message        2 non-null      int64 \n",
      " 6   rub_per_minute         2 non-null      int64 \n",
      " 7   tariff_name            2 non-null      object\n",
      "dtypes: int64(7), object(1)\n",
      "memory usage: 256.0+ bytes\n"
     ]
    },
    {
     "data": {
      "text/html": [
       "<div>\n",
       "<style scoped>\n",
       "    .dataframe tbody tr th:only-of-type {\n",
       "        vertical-align: middle;\n",
       "    }\n",
       "\n",
       "    .dataframe tbody tr th {\n",
       "        vertical-align: top;\n",
       "    }\n",
       "\n",
       "    .dataframe thead th {\n",
       "        text-align: right;\n",
       "    }\n",
       "</style>\n",
       "<table border=\"1\" class=\"dataframe\">\n",
       "  <thead>\n",
       "    <tr style=\"text-align: right;\">\n",
       "      <th></th>\n",
       "      <th>messages_included</th>\n",
       "      <th>mb_per_month_included</th>\n",
       "      <th>minutes_included</th>\n",
       "      <th>rub_monthly_fee</th>\n",
       "      <th>rub_per_gb</th>\n",
       "      <th>rub_per_message</th>\n",
       "      <th>rub_per_minute</th>\n",
       "      <th>tariff_name</th>\n",
       "    </tr>\n",
       "  </thead>\n",
       "  <tbody>\n",
       "    <tr>\n",
       "      <th>0</th>\n",
       "      <td>50</td>\n",
       "      <td>15360</td>\n",
       "      <td>500</td>\n",
       "      <td>550</td>\n",
       "      <td>200</td>\n",
       "      <td>3</td>\n",
       "      <td>3</td>\n",
       "      <td>smart</td>\n",
       "    </tr>\n",
       "    <tr>\n",
       "      <th>1</th>\n",
       "      <td>1000</td>\n",
       "      <td>30720</td>\n",
       "      <td>3000</td>\n",
       "      <td>1950</td>\n",
       "      <td>150</td>\n",
       "      <td>1</td>\n",
       "      <td>1</td>\n",
       "      <td>ultra</td>\n",
       "    </tr>\n",
       "  </tbody>\n",
       "</table>\n",
       "</div>"
      ],
      "text/plain": [
       "   messages_included  mb_per_month_included  minutes_included  \\\n",
       "0                 50                  15360               500   \n",
       "1               1000                  30720              3000   \n",
       "\n",
       "   rub_monthly_fee  rub_per_gb  rub_per_message  rub_per_minute tariff_name  \n",
       "0              550         200                3               3       smart  \n",
       "1             1950         150                1               1       ultra  "
      ]
     },
     "metadata": {},
     "output_type": "display_data"
    },
    {
     "name": "stdout",
     "output_type": "stream",
     "text": [
      "Минимальные значения в датасете tariffs.csv :\n",
      "messages_included           50\n",
      "mb_per_month_included    15360\n",
      "minutes_included           500\n",
      "rub_monthly_fee            550\n",
      "rub_per_gb                 150\n",
      "rub_per_message              1\n",
      "rub_per_minute               1\n",
      "tariff_name              smart\n",
      "dtype: object \n",
      "\n",
      "Максимальные значения в датасете tariffs.csv :\n",
      "messages_included         1000\n",
      "mb_per_month_included    30720\n",
      "minutes_included          3000\n",
      "rub_monthly_fee           1950\n",
      "rub_per_gb                 200\n",
      "rub_per_message              3\n",
      "rub_per_minute               3\n",
      "tariff_name              ultra\n",
      "dtype: object \n",
      "\n",
      "Количество дубликатов в датасете tariffs.csv :\n",
      "0 \n",
      "\n",
      "Колонки с пропущенными значениями в датасете:\n",
      "\n",
      "[messages_included        0\n",
      "mb_per_month_included    0\n",
      "minutes_included         0\n",
      "rub_monthly_fee          0\n",
      "rub_per_gb               0\n",
      "rub_per_message          0\n",
      "rub_per_minute           0\n",
      "tariff_name              0\n",
      "dtype: int64] \n",
      "\n",
      "Общая информация о датасете users.csv :\n",
      "<class 'pandas.core.frame.DataFrame'>\n",
      "RangeIndex: 500 entries, 0 to 499\n",
      "Data columns (total 8 columns):\n",
      " #   Column      Non-Null Count  Dtype \n",
      "---  ------      --------------  ----- \n",
      " 0   user_id     500 non-null    int64 \n",
      " 1   age         500 non-null    int64 \n",
      " 2   churn_date  38 non-null     object\n",
      " 3   city        500 non-null    object\n",
      " 4   first_name  500 non-null    object\n",
      " 5   last_name   500 non-null    object\n",
      " 6   reg_date    500 non-null    object\n",
      " 7   tariff      500 non-null    object\n",
      "dtypes: int64(2), object(6)\n",
      "memory usage: 31.4+ KB\n"
     ]
    },
    {
     "data": {
      "text/html": [
       "<div>\n",
       "<style scoped>\n",
       "    .dataframe tbody tr th:only-of-type {\n",
       "        vertical-align: middle;\n",
       "    }\n",
       "\n",
       "    .dataframe tbody tr th {\n",
       "        vertical-align: top;\n",
       "    }\n",
       "\n",
       "    .dataframe thead th {\n",
       "        text-align: right;\n",
       "    }\n",
       "</style>\n",
       "<table border=\"1\" class=\"dataframe\">\n",
       "  <thead>\n",
       "    <tr style=\"text-align: right;\">\n",
       "      <th></th>\n",
       "      <th>user_id</th>\n",
       "      <th>age</th>\n",
       "      <th>churn_date</th>\n",
       "      <th>city</th>\n",
       "      <th>first_name</th>\n",
       "      <th>last_name</th>\n",
       "      <th>reg_date</th>\n",
       "      <th>tariff</th>\n",
       "    </tr>\n",
       "  </thead>\n",
       "  <tbody>\n",
       "    <tr>\n",
       "      <th>0</th>\n",
       "      <td>1000</td>\n",
       "      <td>52</td>\n",
       "      <td>NaN</td>\n",
       "      <td>Краснодар</td>\n",
       "      <td>Рафаил</td>\n",
       "      <td>Верещагин</td>\n",
       "      <td>2018-05-25</td>\n",
       "      <td>ultra</td>\n",
       "    </tr>\n",
       "    <tr>\n",
       "      <th>1</th>\n",
       "      <td>1001</td>\n",
       "      <td>41</td>\n",
       "      <td>NaN</td>\n",
       "      <td>Москва</td>\n",
       "      <td>Иван</td>\n",
       "      <td>Ежов</td>\n",
       "      <td>2018-11-01</td>\n",
       "      <td>smart</td>\n",
       "    </tr>\n",
       "    <tr>\n",
       "      <th>2</th>\n",
       "      <td>1002</td>\n",
       "      <td>59</td>\n",
       "      <td>NaN</td>\n",
       "      <td>Стерлитамак</td>\n",
       "      <td>Евгений</td>\n",
       "      <td>Абрамович</td>\n",
       "      <td>2018-06-17</td>\n",
       "      <td>smart</td>\n",
       "    </tr>\n",
       "    <tr>\n",
       "      <th>3</th>\n",
       "      <td>1003</td>\n",
       "      <td>23</td>\n",
       "      <td>NaN</td>\n",
       "      <td>Москва</td>\n",
       "      <td>Белла</td>\n",
       "      <td>Белякова</td>\n",
       "      <td>2018-08-17</td>\n",
       "      <td>ultra</td>\n",
       "    </tr>\n",
       "    <tr>\n",
       "      <th>4</th>\n",
       "      <td>1004</td>\n",
       "      <td>68</td>\n",
       "      <td>NaN</td>\n",
       "      <td>Новокузнецк</td>\n",
       "      <td>Татьяна</td>\n",
       "      <td>Авдеенко</td>\n",
       "      <td>2018-05-14</td>\n",
       "      <td>ultra</td>\n",
       "    </tr>\n",
       "    <tr>\n",
       "      <th>...</th>\n",
       "      <td>...</td>\n",
       "      <td>...</td>\n",
       "      <td>...</td>\n",
       "      <td>...</td>\n",
       "      <td>...</td>\n",
       "      <td>...</td>\n",
       "      <td>...</td>\n",
       "      <td>...</td>\n",
       "    </tr>\n",
       "    <tr>\n",
       "      <th>495</th>\n",
       "      <td>1495</td>\n",
       "      <td>65</td>\n",
       "      <td>NaN</td>\n",
       "      <td>Иркутск</td>\n",
       "      <td>Авксентий</td>\n",
       "      <td>Фокин</td>\n",
       "      <td>2018-08-28</td>\n",
       "      <td>ultra</td>\n",
       "    </tr>\n",
       "    <tr>\n",
       "      <th>496</th>\n",
       "      <td>1496</td>\n",
       "      <td>36</td>\n",
       "      <td>NaN</td>\n",
       "      <td>Вологда</td>\n",
       "      <td>Трифон</td>\n",
       "      <td>Блохин</td>\n",
       "      <td>2018-01-27</td>\n",
       "      <td>smart</td>\n",
       "    </tr>\n",
       "    <tr>\n",
       "      <th>497</th>\n",
       "      <td>1497</td>\n",
       "      <td>32</td>\n",
       "      <td>NaN</td>\n",
       "      <td>Челябинск</td>\n",
       "      <td>Каролина</td>\n",
       "      <td>Агеева</td>\n",
       "      <td>2018-10-09</td>\n",
       "      <td>smart</td>\n",
       "    </tr>\n",
       "    <tr>\n",
       "      <th>498</th>\n",
       "      <td>1498</td>\n",
       "      <td>68</td>\n",
       "      <td>2018-10-25</td>\n",
       "      <td>Владикавказ</td>\n",
       "      <td>Всеволод</td>\n",
       "      <td>Акимчин</td>\n",
       "      <td>2018-07-19</td>\n",
       "      <td>smart</td>\n",
       "    </tr>\n",
       "    <tr>\n",
       "      <th>499</th>\n",
       "      <td>1499</td>\n",
       "      <td>35</td>\n",
       "      <td>NaN</td>\n",
       "      <td>Пермь</td>\n",
       "      <td>Гектор</td>\n",
       "      <td>Корнилов</td>\n",
       "      <td>2018-09-27</td>\n",
       "      <td>smart</td>\n",
       "    </tr>\n",
       "  </tbody>\n",
       "</table>\n",
       "<p>500 rows × 8 columns</p>\n",
       "</div>"
      ],
      "text/plain": [
       "     user_id  age  churn_date         city first_name  last_name    reg_date  \\\n",
       "0       1000   52         NaN    Краснодар     Рафаил  Верещагин  2018-05-25   \n",
       "1       1001   41         NaN       Москва       Иван       Ежов  2018-11-01   \n",
       "2       1002   59         NaN  Стерлитамак    Евгений  Абрамович  2018-06-17   \n",
       "3       1003   23         NaN       Москва      Белла   Белякова  2018-08-17   \n",
       "4       1004   68         NaN  Новокузнецк    Татьяна   Авдеенко  2018-05-14   \n",
       "..       ...  ...         ...          ...        ...        ...         ...   \n",
       "495     1495   65         NaN      Иркутск  Авксентий      Фокин  2018-08-28   \n",
       "496     1496   36         NaN      Вологда     Трифон     Блохин  2018-01-27   \n",
       "497     1497   32         NaN    Челябинск   Каролина     Агеева  2018-10-09   \n",
       "498     1498   68  2018-10-25  Владикавказ   Всеволод    Акимчин  2018-07-19   \n",
       "499     1499   35         NaN        Пермь     Гектор   Корнилов  2018-09-27   \n",
       "\n",
       "    tariff  \n",
       "0    ultra  \n",
       "1    smart  \n",
       "2    smart  \n",
       "3    ultra  \n",
       "4    ultra  \n",
       "..     ...  \n",
       "495  ultra  \n",
       "496  smart  \n",
       "497  smart  \n",
       "498  smart  \n",
       "499  smart  \n",
       "\n",
       "[500 rows x 8 columns]"
      ]
     },
     "metadata": {},
     "output_type": "display_data"
    },
    {
     "name": "stdout",
     "output_type": "stream",
     "text": [
      "Минимальные значения в датасете users.csv :\n",
      "user_id              1000\n",
      "age                    18\n",
      "city          Архангельск\n",
      "first_name      Авксентий\n",
      "last_name          Ёлчина\n",
      "reg_date       2018-01-01\n",
      "tariff              smart\n",
      "dtype: object \n",
      "\n",
      "Максимальные значения в датасете users.csv :\n",
      "user_id             1499\n",
      "age                   75\n",
      "city           Ярославль\n",
      "first_name           Яна\n",
      "last_name          Яшина\n",
      "reg_date      2018-12-31\n",
      "tariff             ultra\n",
      "dtype: object \n",
      "\n",
      "Количество дубликатов в датасете users.csv :\n",
      "0 \n",
      "\n",
      "Колонки с пропущенными значениями в датасете:\n",
      "\n",
      "[user_id         0\n",
      "age             0\n",
      "churn_date    462\n",
      "city            0\n",
      "first_name      0\n",
      "last_name       0\n",
      "reg_date        0\n",
      "tariff          0\n",
      "dtype: int64] \n",
      "\n"
     ]
    }
   ],
   "source": [
    "data_all = {'calls': pd.Series(['calls.csv', []], index=['file_name', 'nan']), \n",
    "            'internet':pd.Series(['internet.csv', []], index=['file_name', 'nan']), \n",
    "            'messages': pd.Series(['messages.csv', []], index=['file_name', 'nan']), \n",
    "            'tariffs': pd.Series(['tariffs.csv', []], index=['file_name', 'nan']),\n",
    "            'users':pd.Series(['users.csv', []], index=['file_name','nan'])}\n",
    "local_path = 'C:/Users/timpu/DataScience_Projects/Стат_Анализ_Определение_перспективного_тарифа_для_телеком-компании/data/'\n",
    "try:\n",
    "    for key_name, all_data in data_all.items():\n",
    "        data = pd.read_csv('/datasets/' + all_data['file_name'])\n",
    "        all_data['data'] = data\n",
    "except FileNotFoundError:\n",
    "    for key_name, all_data in data_all.items():\n",
    "        data = pd.read_csv(local_path + all_data['file_name'])\n",
    "        all_data['data'] = data\n",
    "except:\n",
    "    print('Возникла ошибка в коде, нужно перепроверить!')\n",
    "    traceback.print_exc()\n",
    "else:\n",
    "    for key_name, all_data in data_all.items():\n",
    "        print('Общая информация о датасете', all_data['file_name'], ':')\n",
    "        all_data['data'].info()\n",
    "        display(all_data['data'])\n",
    "        print('Минимальные значения в датасете', all_data['file_name'], ':')\n",
    "        print(all_data['data'].min(), '\\n')\n",
    "        print('Максимальные значения в датасете', all_data['file_name'], ':')\n",
    "        print(all_data['data'].max(), '\\n')\n",
    "        print('Количество дубликатов в датасете', all_data['file_name'], ':')\n",
    "        print(all_data['data'].duplicated().sum(), '\\n')\n",
    "        all_data['nan'].append(all_data['data'].isna().sum())\n",
    "        print('Колонки с пропущенными значениями в датасете:\\n')\n",
    "        print(all_data['nan'], '\\n')"
   ]
  },
  {
   "cell_type": "markdown",
   "metadata": {},
   "source": [
    "### Вывод"
   ]
  },
  {
   "cell_type": "markdown",
   "metadata": {},
   "source": [
    "Представленные в датасетах данные имеют пропуски только в датасете users.csv в колонке churn_date, которые означают продолжение пользования пользователем выбранным тарифом по состоянию на конец 2018 года. Столбцы всех датасетов, содержащих даты, неправильного типа данных. При выгрузке данных из internet.csv возник столбец 'Unnamed: 0', являющийся индексным столбцом. Также в выгрузке данных имеется столбец 'id', который также не имеет значения для исследования, поэтому мы эти столбцы исключим при предобработке данных.\n"
   ]
  },
  {
   "cell_type": "markdown",
   "metadata": {},
   "source": [
    "## Предобработка данных"
   ]
  },
  {
   "cell_type": "code",
   "execution_count": 3,
   "metadata": {
    "scrolled": false
   },
   "outputs": [
    {
     "name": "stdout",
     "output_type": "stream",
     "text": [
      "Общая информация о датасете: calls.csv\n",
      "<class 'pandas.core.frame.DataFrame'>\n",
      "RangeIndex: 202607 entries, 0 to 202606\n",
      "Data columns (total 3 columns):\n",
      " #   Column     Non-Null Count   Dtype         \n",
      "---  ------     --------------   -----         \n",
      " 0   call_date  202607 non-null  datetime64[ns]\n",
      " 1   duration   202607 non-null  int64         \n",
      " 2   user_id    202607 non-null  int64         \n",
      "dtypes: datetime64[ns](1), int64(2)\n",
      "memory usage: 4.6 MB\n",
      "\n",
      "\n",
      "Общая информация о датасете: internet.csv\n",
      "<class 'pandas.core.frame.DataFrame'>\n",
      "RangeIndex: 149396 entries, 0 to 149395\n",
      "Data columns (total 3 columns):\n",
      " #   Column        Non-Null Count   Dtype         \n",
      "---  ------        --------------   -----         \n",
      " 0   mb_used       149396 non-null  float64       \n",
      " 1   session_date  149396 non-null  datetime64[ns]\n",
      " 2   user_id       149396 non-null  int64         \n",
      "dtypes: datetime64[ns](1), float64(1), int64(1)\n",
      "memory usage: 3.4 MB\n",
      "\n",
      "\n",
      "Общая информация о датасете: messages.csv\n",
      "<class 'pandas.core.frame.DataFrame'>\n",
      "RangeIndex: 123036 entries, 0 to 123035\n",
      "Data columns (total 2 columns):\n",
      " #   Column        Non-Null Count   Dtype         \n",
      "---  ------        --------------   -----         \n",
      " 0   message_date  123036 non-null  datetime64[ns]\n",
      " 1   user_id       123036 non-null  int64         \n",
      "dtypes: datetime64[ns](1), int64(1)\n",
      "memory usage: 1.9 MB\n",
      "\n",
      "\n",
      "Общая информация о датасете: tariffs.csv\n",
      "<class 'pandas.core.frame.DataFrame'>\n",
      "RangeIndex: 2 entries, 0 to 1\n",
      "Data columns (total 8 columns):\n",
      " #   Column                 Non-Null Count  Dtype \n",
      "---  ------                 --------------  ----- \n",
      " 0   messages_included      2 non-null      int64 \n",
      " 1   mb_per_month_included  2 non-null      int64 \n",
      " 2   minutes_included       2 non-null      int64 \n",
      " 3   rub_monthly_fee        2 non-null      int64 \n",
      " 4   rub_per_gb             2 non-null      int64 \n",
      " 5   rub_per_message        2 non-null      int64 \n",
      " 6   rub_per_minute         2 non-null      int64 \n",
      " 7   tariff_name            2 non-null      object\n",
      "dtypes: int64(7), object(1)\n",
      "memory usage: 256.0+ bytes\n",
      "\n",
      "\n",
      "Общая информация о датасете: users.csv\n",
      "<class 'pandas.core.frame.DataFrame'>\n",
      "RangeIndex: 500 entries, 0 to 499\n",
      "Data columns (total 8 columns):\n",
      " #   Column      Non-Null Count  Dtype         \n",
      "---  ------      --------------  -----         \n",
      " 0   user_id     500 non-null    int64         \n",
      " 1   age         500 non-null    int64         \n",
      " 2   churn_date  38 non-null     datetime64[ns]\n",
      " 3   city        500 non-null    object        \n",
      " 4   first_name  500 non-null    object        \n",
      " 5   last_name   500 non-null    object        \n",
      " 6   reg_date    500 non-null    datetime64[ns]\n",
      " 7   tariff      500 non-null    object        \n",
      "dtypes: datetime64[ns](2), int64(2), object(4)\n",
      "memory usage: 31.4+ KB\n",
      "\n",
      "\n"
     ]
    }
   ],
   "source": [
    "#df_all_pre_proces = data_all.copy()\n",
    "\n",
    "for key_name, all_data in data_all.items():\n",
    "    for col in all_data['data'].columns:\n",
    "        if 'date' in col:\n",
    "            all_data['data'][col] = all_data['data'][col].astype('datetime64[M]')\n",
    "        if 'duration' in col:\n",
    "            all_data['data'][col] = np.ceil(all_data['data'][col]).astype('int64')\n",
    "        if col in ['Unnamed: 0', 'id']:\n",
    "            all_data['data'] = all_data['data'].drop(col, axis = 1, errors='ignore')\n",
    "    print('Общая информация о датасете:', all_data['file_name'])\n",
    "    all_data['data'].info()\n",
    "    print('\\n')"
   ]
  },
  {
   "cell_type": "markdown",
   "metadata": {},
   "source": [
    "### Вывод"
   ]
  },
  {
   "cell_type": "markdown",
   "metadata": {},
   "source": [
    "Проведена преобработка: изменён формат колонок '_date', продолжительность звонков округлена до целых в большую сторону в соотвествии с правилами биллинга оператора. Исключены лишние столбцы \"Unnamed: 0\", \"id\"."
   ]
  },
  {
   "cell_type": "markdown",
   "metadata": {},
   "source": [
    "## Расчёты и добавление результатов в таблицы"
   ]
  },
  {
   "cell_type": "code",
   "execution_count": 4,
   "metadata": {
    "scrolled": false
   },
   "outputs": [
    {
     "name": "stdout",
     "output_type": "stream",
     "text": [
      "Cчитаем помесячную продолжительность звонков (calls), количество сообщений (messages) и израсходованный интернет-трафик (internet):\n"
     ]
    },
    {
     "data": {
      "text/html": [
       "<div>\n",
       "<style scoped>\n",
       "    .dataframe tbody tr th:only-of-type {\n",
       "        vertical-align: middle;\n",
       "    }\n",
       "\n",
       "    .dataframe tbody tr th {\n",
       "        vertical-align: top;\n",
       "    }\n",
       "\n",
       "    .dataframe thead th {\n",
       "        text-align: right;\n",
       "    }\n",
       "</style>\n",
       "<table border=\"1\" class=\"dataframe\">\n",
       "  <thead>\n",
       "    <tr style=\"text-align: right;\">\n",
       "      <th></th>\n",
       "      <th>user_id</th>\n",
       "      <th>calls_month</th>\n",
       "      <th>duration</th>\n",
       "    </tr>\n",
       "  </thead>\n",
       "  <tbody>\n",
       "    <tr>\n",
       "      <th>0</th>\n",
       "      <td>1000</td>\n",
       "      <td>2018-05</td>\n",
       "      <td>159</td>\n",
       "    </tr>\n",
       "    <tr>\n",
       "      <th>1</th>\n",
       "      <td>1000</td>\n",
       "      <td>2018-06</td>\n",
       "      <td>172</td>\n",
       "    </tr>\n",
       "    <tr>\n",
       "      <th>2</th>\n",
       "      <td>1000</td>\n",
       "      <td>2018-07</td>\n",
       "      <td>340</td>\n",
       "    </tr>\n",
       "    <tr>\n",
       "      <th>3</th>\n",
       "      <td>1000</td>\n",
       "      <td>2018-08</td>\n",
       "      <td>408</td>\n",
       "    </tr>\n",
       "    <tr>\n",
       "      <th>4</th>\n",
       "      <td>1000</td>\n",
       "      <td>2018-09</td>\n",
       "      <td>466</td>\n",
       "    </tr>\n",
       "    <tr>\n",
       "      <th>...</th>\n",
       "      <td>...</td>\n",
       "      <td>...</td>\n",
       "      <td>...</td>\n",
       "    </tr>\n",
       "    <tr>\n",
       "      <th>3169</th>\n",
       "      <td>1498</td>\n",
       "      <td>2018-10</td>\n",
       "      <td>247</td>\n",
       "    </tr>\n",
       "    <tr>\n",
       "      <th>3170</th>\n",
       "      <td>1499</td>\n",
       "      <td>2018-09</td>\n",
       "      <td>70</td>\n",
       "    </tr>\n",
       "    <tr>\n",
       "      <th>3171</th>\n",
       "      <td>1499</td>\n",
       "      <td>2018-10</td>\n",
       "      <td>449</td>\n",
       "    </tr>\n",
       "    <tr>\n",
       "      <th>3172</th>\n",
       "      <td>1499</td>\n",
       "      <td>2018-11</td>\n",
       "      <td>612</td>\n",
       "    </tr>\n",
       "    <tr>\n",
       "      <th>3173</th>\n",
       "      <td>1499</td>\n",
       "      <td>2018-12</td>\n",
       "      <td>492</td>\n",
       "    </tr>\n",
       "  </tbody>\n",
       "</table>\n",
       "<p>3174 rows × 3 columns</p>\n",
       "</div>"
      ],
      "text/plain": [
       "      user_id calls_month  duration\n",
       "0        1000     2018-05       159\n",
       "1        1000     2018-06       172\n",
       "2        1000     2018-07       340\n",
       "3        1000     2018-08       408\n",
       "4        1000     2018-09       466\n",
       "...       ...         ...       ...\n",
       "3169     1498     2018-10       247\n",
       "3170     1499     2018-09        70\n",
       "3171     1499     2018-10       449\n",
       "3172     1499     2018-11       612\n",
       "3173     1499     2018-12       492\n",
       "\n",
       "[3174 rows x 3 columns]"
      ]
     },
     "metadata": {},
     "output_type": "display_data"
    },
    {
     "data": {
      "text/html": [
       "<div>\n",
       "<style scoped>\n",
       "    .dataframe tbody tr th:only-of-type {\n",
       "        vertical-align: middle;\n",
       "    }\n",
       "\n",
       "    .dataframe tbody tr th {\n",
       "        vertical-align: top;\n",
       "    }\n",
       "\n",
       "    .dataframe thead th {\n",
       "        text-align: right;\n",
       "    }\n",
       "</style>\n",
       "<table border=\"1\" class=\"dataframe\">\n",
       "  <thead>\n",
       "    <tr style=\"text-align: right;\">\n",
       "      <th></th>\n",
       "      <th>user_id</th>\n",
       "      <th>internet_month</th>\n",
       "      <th>mb_used</th>\n",
       "    </tr>\n",
       "  </thead>\n",
       "  <tbody>\n",
       "    <tr>\n",
       "      <th>0</th>\n",
       "      <td>1000</td>\n",
       "      <td>2018-05</td>\n",
       "      <td>2253.49</td>\n",
       "    </tr>\n",
       "    <tr>\n",
       "      <th>1</th>\n",
       "      <td>1000</td>\n",
       "      <td>2018-06</td>\n",
       "      <td>23233.77</td>\n",
       "    </tr>\n",
       "    <tr>\n",
       "      <th>2</th>\n",
       "      <td>1000</td>\n",
       "      <td>2018-07</td>\n",
       "      <td>14003.64</td>\n",
       "    </tr>\n",
       "    <tr>\n",
       "      <th>3</th>\n",
       "      <td>1000</td>\n",
       "      <td>2018-08</td>\n",
       "      <td>14055.93</td>\n",
       "    </tr>\n",
       "    <tr>\n",
       "      <th>4</th>\n",
       "      <td>1000</td>\n",
       "      <td>2018-09</td>\n",
       "      <td>14568.91</td>\n",
       "    </tr>\n",
       "    <tr>\n",
       "      <th>...</th>\n",
       "      <td>...</td>\n",
       "      <td>...</td>\n",
       "      <td>...</td>\n",
       "    </tr>\n",
       "    <tr>\n",
       "      <th>3198</th>\n",
       "      <td>1498</td>\n",
       "      <td>2018-10</td>\n",
       "      <td>20579.36</td>\n",
       "    </tr>\n",
       "    <tr>\n",
       "      <th>3199</th>\n",
       "      <td>1499</td>\n",
       "      <td>2018-09</td>\n",
       "      <td>1845.75</td>\n",
       "    </tr>\n",
       "    <tr>\n",
       "      <th>3200</th>\n",
       "      <td>1499</td>\n",
       "      <td>2018-10</td>\n",
       "      <td>17788.51</td>\n",
       "    </tr>\n",
       "    <tr>\n",
       "      <th>3201</th>\n",
       "      <td>1499</td>\n",
       "      <td>2018-11</td>\n",
       "      <td>17963.31</td>\n",
       "    </tr>\n",
       "    <tr>\n",
       "      <th>3202</th>\n",
       "      <td>1499</td>\n",
       "      <td>2018-12</td>\n",
       "      <td>13055.58</td>\n",
       "    </tr>\n",
       "  </tbody>\n",
       "</table>\n",
       "<p>3203 rows × 3 columns</p>\n",
       "</div>"
      ],
      "text/plain": [
       "      user_id internet_month   mb_used\n",
       "0        1000        2018-05   2253.49\n",
       "1        1000        2018-06  23233.77\n",
       "2        1000        2018-07  14003.64\n",
       "3        1000        2018-08  14055.93\n",
       "4        1000        2018-09  14568.91\n",
       "...       ...            ...       ...\n",
       "3198     1498        2018-10  20579.36\n",
       "3199     1499        2018-09   1845.75\n",
       "3200     1499        2018-10  17788.51\n",
       "3201     1499        2018-11  17963.31\n",
       "3202     1499        2018-12  13055.58\n",
       "\n",
       "[3203 rows x 3 columns]"
      ]
     },
     "metadata": {},
     "output_type": "display_data"
    },
    {
     "data": {
      "text/html": [
       "<div>\n",
       "<style scoped>\n",
       "    .dataframe tbody tr th:only-of-type {\n",
       "        vertical-align: middle;\n",
       "    }\n",
       "\n",
       "    .dataframe tbody tr th {\n",
       "        vertical-align: top;\n",
       "    }\n",
       "\n",
       "    .dataframe thead th {\n",
       "        text-align: right;\n",
       "    }\n",
       "</style>\n",
       "<table border=\"1\" class=\"dataframe\">\n",
       "  <thead>\n",
       "    <tr style=\"text-align: right;\">\n",
       "      <th></th>\n",
       "      <th>user_id</th>\n",
       "      <th>messages_month</th>\n",
       "      <th>messages</th>\n",
       "    </tr>\n",
       "  </thead>\n",
       "  <tbody>\n",
       "    <tr>\n",
       "      <th>0</th>\n",
       "      <td>1000</td>\n",
       "      <td>2018-05</td>\n",
       "      <td>22</td>\n",
       "    </tr>\n",
       "    <tr>\n",
       "      <th>1</th>\n",
       "      <td>1000</td>\n",
       "      <td>2018-06</td>\n",
       "      <td>60</td>\n",
       "    </tr>\n",
       "    <tr>\n",
       "      <th>2</th>\n",
       "      <td>1000</td>\n",
       "      <td>2018-07</td>\n",
       "      <td>75</td>\n",
       "    </tr>\n",
       "    <tr>\n",
       "      <th>3</th>\n",
       "      <td>1000</td>\n",
       "      <td>2018-08</td>\n",
       "      <td>81</td>\n",
       "    </tr>\n",
       "    <tr>\n",
       "      <th>4</th>\n",
       "      <td>1000</td>\n",
       "      <td>2018-09</td>\n",
       "      <td>57</td>\n",
       "    </tr>\n",
       "    <tr>\n",
       "      <th>...</th>\n",
       "      <td>...</td>\n",
       "      <td>...</td>\n",
       "      <td>...</td>\n",
       "    </tr>\n",
       "    <tr>\n",
       "      <th>2712</th>\n",
       "      <td>1498</td>\n",
       "      <td>2018-10</td>\n",
       "      <td>42</td>\n",
       "    </tr>\n",
       "    <tr>\n",
       "      <th>2713</th>\n",
       "      <td>1499</td>\n",
       "      <td>2018-09</td>\n",
       "      <td>11</td>\n",
       "    </tr>\n",
       "    <tr>\n",
       "      <th>2714</th>\n",
       "      <td>1499</td>\n",
       "      <td>2018-10</td>\n",
       "      <td>48</td>\n",
       "    </tr>\n",
       "    <tr>\n",
       "      <th>2715</th>\n",
       "      <td>1499</td>\n",
       "      <td>2018-11</td>\n",
       "      <td>59</td>\n",
       "    </tr>\n",
       "    <tr>\n",
       "      <th>2716</th>\n",
       "      <td>1499</td>\n",
       "      <td>2018-12</td>\n",
       "      <td>66</td>\n",
       "    </tr>\n",
       "  </tbody>\n",
       "</table>\n",
       "<p>2717 rows × 3 columns</p>\n",
       "</div>"
      ],
      "text/plain": [
       "      user_id messages_month  messages\n",
       "0        1000        2018-05        22\n",
       "1        1000        2018-06        60\n",
       "2        1000        2018-07        75\n",
       "3        1000        2018-08        81\n",
       "4        1000        2018-09        57\n",
       "...       ...            ...       ...\n",
       "2712     1498        2018-10        42\n",
       "2713     1499        2018-09        11\n",
       "2714     1499        2018-10        48\n",
       "2715     1499        2018-11        59\n",
       "2716     1499        2018-12        66\n",
       "\n",
       "[2717 rows x 3 columns]"
      ]
     },
     "metadata": {},
     "output_type": "display_data"
    },
    {
     "name": "stdout",
     "output_type": "stream",
     "text": [
      "Считаем помесячную выручку с каждого пользователя (monthly_revenue):\n"
     ]
    },
    {
     "data": {
      "text/html": [
       "<div>\n",
       "<style scoped>\n",
       "    .dataframe tbody tr th:only-of-type {\n",
       "        vertical-align: middle;\n",
       "    }\n",
       "\n",
       "    .dataframe tbody tr th {\n",
       "        vertical-align: top;\n",
       "    }\n",
       "\n",
       "    .dataframe thead th {\n",
       "        text-align: right;\n",
       "    }\n",
       "</style>\n",
       "<table border=\"1\" class=\"dataframe\">\n",
       "  <thead>\n",
       "    <tr style=\"text-align: right;\">\n",
       "      <th></th>\n",
       "      <th>user_id</th>\n",
       "      <th>month</th>\n",
       "      <th>calls_dur_sum</th>\n",
       "      <th>internet_used_gb</th>\n",
       "      <th>messages_count</th>\n",
       "      <th>tariff</th>\n",
       "      <th>city</th>\n",
       "      <th>messages_included</th>\n",
       "      <th>gb_per_month_included</th>\n",
       "      <th>minutes_included</th>\n",
       "      <th>rub_monthly_fee</th>\n",
       "      <th>rub_per_gb</th>\n",
       "      <th>rub_per_message</th>\n",
       "      <th>rub_per_minute</th>\n",
       "      <th>calls_revenue_add</th>\n",
       "      <th>internet_revenue_add</th>\n",
       "      <th>messages_revenue_add</th>\n",
       "      <th>monthly_revenue</th>\n",
       "    </tr>\n",
       "  </thead>\n",
       "  <tbody>\n",
       "    <tr>\n",
       "      <th>0</th>\n",
       "      <td>1000</td>\n",
       "      <td>2018-05</td>\n",
       "      <td>159.0</td>\n",
       "      <td>3.0</td>\n",
       "      <td>22.0</td>\n",
       "      <td>ultra</td>\n",
       "      <td>Краснодар</td>\n",
       "      <td>1000</td>\n",
       "      <td>30.0</td>\n",
       "      <td>3000</td>\n",
       "      <td>1950</td>\n",
       "      <td>150</td>\n",
       "      <td>1</td>\n",
       "      <td>1</td>\n",
       "      <td>0.0</td>\n",
       "      <td>0.0</td>\n",
       "      <td>0.0</td>\n",
       "      <td>1950.0</td>\n",
       "    </tr>\n",
       "    <tr>\n",
       "      <th>1</th>\n",
       "      <td>1000</td>\n",
       "      <td>2018-06</td>\n",
       "      <td>172.0</td>\n",
       "      <td>23.0</td>\n",
       "      <td>60.0</td>\n",
       "      <td>ultra</td>\n",
       "      <td>Краснодар</td>\n",
       "      <td>1000</td>\n",
       "      <td>30.0</td>\n",
       "      <td>3000</td>\n",
       "      <td>1950</td>\n",
       "      <td>150</td>\n",
       "      <td>1</td>\n",
       "      <td>1</td>\n",
       "      <td>0.0</td>\n",
       "      <td>0.0</td>\n",
       "      <td>0.0</td>\n",
       "      <td>1950.0</td>\n",
       "    </tr>\n",
       "    <tr>\n",
       "      <th>2</th>\n",
       "      <td>1000</td>\n",
       "      <td>2018-07</td>\n",
       "      <td>340.0</td>\n",
       "      <td>14.0</td>\n",
       "      <td>75.0</td>\n",
       "      <td>ultra</td>\n",
       "      <td>Краснодар</td>\n",
       "      <td>1000</td>\n",
       "      <td>30.0</td>\n",
       "      <td>3000</td>\n",
       "      <td>1950</td>\n",
       "      <td>150</td>\n",
       "      <td>1</td>\n",
       "      <td>1</td>\n",
       "      <td>0.0</td>\n",
       "      <td>0.0</td>\n",
       "      <td>0.0</td>\n",
       "      <td>1950.0</td>\n",
       "    </tr>\n",
       "    <tr>\n",
       "      <th>3</th>\n",
       "      <td>1000</td>\n",
       "      <td>2018-08</td>\n",
       "      <td>408.0</td>\n",
       "      <td>14.0</td>\n",
       "      <td>81.0</td>\n",
       "      <td>ultra</td>\n",
       "      <td>Краснодар</td>\n",
       "      <td>1000</td>\n",
       "      <td>30.0</td>\n",
       "      <td>3000</td>\n",
       "      <td>1950</td>\n",
       "      <td>150</td>\n",
       "      <td>1</td>\n",
       "      <td>1</td>\n",
       "      <td>0.0</td>\n",
       "      <td>0.0</td>\n",
       "      <td>0.0</td>\n",
       "      <td>1950.0</td>\n",
       "    </tr>\n",
       "    <tr>\n",
       "      <th>4</th>\n",
       "      <td>1000</td>\n",
       "      <td>2018-09</td>\n",
       "      <td>466.0</td>\n",
       "      <td>15.0</td>\n",
       "      <td>57.0</td>\n",
       "      <td>ultra</td>\n",
       "      <td>Краснодар</td>\n",
       "      <td>1000</td>\n",
       "      <td>30.0</td>\n",
       "      <td>3000</td>\n",
       "      <td>1950</td>\n",
       "      <td>150</td>\n",
       "      <td>1</td>\n",
       "      <td>1</td>\n",
       "      <td>0.0</td>\n",
       "      <td>0.0</td>\n",
       "      <td>0.0</td>\n",
       "      <td>1950.0</td>\n",
       "    </tr>\n",
       "    <tr>\n",
       "      <th>...</th>\n",
       "      <td>...</td>\n",
       "      <td>...</td>\n",
       "      <td>...</td>\n",
       "      <td>...</td>\n",
       "      <td>...</td>\n",
       "      <td>...</td>\n",
       "      <td>...</td>\n",
       "      <td>...</td>\n",
       "      <td>...</td>\n",
       "      <td>...</td>\n",
       "      <td>...</td>\n",
       "      <td>...</td>\n",
       "      <td>...</td>\n",
       "      <td>...</td>\n",
       "      <td>...</td>\n",
       "      <td>...</td>\n",
       "      <td>...</td>\n",
       "      <td>...</td>\n",
       "    </tr>\n",
       "    <tr>\n",
       "      <th>3209</th>\n",
       "      <td>1489</td>\n",
       "      <td>2018-08</td>\n",
       "      <td>0.0</td>\n",
       "      <td>11.0</td>\n",
       "      <td>17.0</td>\n",
       "      <td>smart</td>\n",
       "      <td>Санкт-Петербург</td>\n",
       "      <td>50</td>\n",
       "      <td>15.0</td>\n",
       "      <td>500</td>\n",
       "      <td>550</td>\n",
       "      <td>200</td>\n",
       "      <td>3</td>\n",
       "      <td>3</td>\n",
       "      <td>0.0</td>\n",
       "      <td>0.0</td>\n",
       "      <td>0.0</td>\n",
       "      <td>550.0</td>\n",
       "    </tr>\n",
       "    <tr>\n",
       "      <th>3210</th>\n",
       "      <td>1489</td>\n",
       "      <td>2018-09</td>\n",
       "      <td>0.0</td>\n",
       "      <td>17.0</td>\n",
       "      <td>32.0</td>\n",
       "      <td>smart</td>\n",
       "      <td>Санкт-Петербург</td>\n",
       "      <td>50</td>\n",
       "      <td>15.0</td>\n",
       "      <td>500</td>\n",
       "      <td>550</td>\n",
       "      <td>200</td>\n",
       "      <td>3</td>\n",
       "      <td>3</td>\n",
       "      <td>0.0</td>\n",
       "      <td>400.0</td>\n",
       "      <td>0.0</td>\n",
       "      <td>950.0</td>\n",
       "    </tr>\n",
       "    <tr>\n",
       "      <th>3211</th>\n",
       "      <td>1489</td>\n",
       "      <td>2018-10</td>\n",
       "      <td>0.0</td>\n",
       "      <td>20.0</td>\n",
       "      <td>21.0</td>\n",
       "      <td>smart</td>\n",
       "      <td>Санкт-Петербург</td>\n",
       "      <td>50</td>\n",
       "      <td>15.0</td>\n",
       "      <td>500</td>\n",
       "      <td>550</td>\n",
       "      <td>200</td>\n",
       "      <td>3</td>\n",
       "      <td>3</td>\n",
       "      <td>0.0</td>\n",
       "      <td>1000.0</td>\n",
       "      <td>0.0</td>\n",
       "      <td>1550.0</td>\n",
       "    </tr>\n",
       "    <tr>\n",
       "      <th>3212</th>\n",
       "      <td>1489</td>\n",
       "      <td>2018-11</td>\n",
       "      <td>0.0</td>\n",
       "      <td>18.0</td>\n",
       "      <td>20.0</td>\n",
       "      <td>smart</td>\n",
       "      <td>Санкт-Петербург</td>\n",
       "      <td>50</td>\n",
       "      <td>15.0</td>\n",
       "      <td>500</td>\n",
       "      <td>550</td>\n",
       "      <td>200</td>\n",
       "      <td>3</td>\n",
       "      <td>3</td>\n",
       "      <td>0.0</td>\n",
       "      <td>600.0</td>\n",
       "      <td>0.0</td>\n",
       "      <td>1150.0</td>\n",
       "    </tr>\n",
       "    <tr>\n",
       "      <th>3213</th>\n",
       "      <td>1489</td>\n",
       "      <td>2018-12</td>\n",
       "      <td>0.0</td>\n",
       "      <td>17.0</td>\n",
       "      <td>35.0</td>\n",
       "      <td>smart</td>\n",
       "      <td>Санкт-Петербург</td>\n",
       "      <td>50</td>\n",
       "      <td>15.0</td>\n",
       "      <td>500</td>\n",
       "      <td>550</td>\n",
       "      <td>200</td>\n",
       "      <td>3</td>\n",
       "      <td>3</td>\n",
       "      <td>0.0</td>\n",
       "      <td>400.0</td>\n",
       "      <td>0.0</td>\n",
       "      <td>950.0</td>\n",
       "    </tr>\n",
       "  </tbody>\n",
       "</table>\n",
       "<p>3214 rows × 18 columns</p>\n",
       "</div>"
      ],
      "text/plain": [
       "      user_id    month  calls_dur_sum  internet_used_gb  messages_count  \\\n",
       "0        1000  2018-05          159.0               3.0            22.0   \n",
       "1        1000  2018-06          172.0              23.0            60.0   \n",
       "2        1000  2018-07          340.0              14.0            75.0   \n",
       "3        1000  2018-08          408.0              14.0            81.0   \n",
       "4        1000  2018-09          466.0              15.0            57.0   \n",
       "...       ...      ...            ...               ...             ...   \n",
       "3209     1489  2018-08            0.0              11.0            17.0   \n",
       "3210     1489  2018-09            0.0              17.0            32.0   \n",
       "3211     1489  2018-10            0.0              20.0            21.0   \n",
       "3212     1489  2018-11            0.0              18.0            20.0   \n",
       "3213     1489  2018-12            0.0              17.0            35.0   \n",
       "\n",
       "     tariff             city  messages_included  gb_per_month_included  \\\n",
       "0     ultra        Краснодар               1000                   30.0   \n",
       "1     ultra        Краснодар               1000                   30.0   \n",
       "2     ultra        Краснодар               1000                   30.0   \n",
       "3     ultra        Краснодар               1000                   30.0   \n",
       "4     ultra        Краснодар               1000                   30.0   \n",
       "...     ...              ...                ...                    ...   \n",
       "3209  smart  Санкт-Петербург                 50                   15.0   \n",
       "3210  smart  Санкт-Петербург                 50                   15.0   \n",
       "3211  smart  Санкт-Петербург                 50                   15.0   \n",
       "3212  smart  Санкт-Петербург                 50                   15.0   \n",
       "3213  smart  Санкт-Петербург                 50                   15.0   \n",
       "\n",
       "      minutes_included  rub_monthly_fee  rub_per_gb  rub_per_message  \\\n",
       "0                 3000             1950         150                1   \n",
       "1                 3000             1950         150                1   \n",
       "2                 3000             1950         150                1   \n",
       "3                 3000             1950         150                1   \n",
       "4                 3000             1950         150                1   \n",
       "...                ...              ...         ...              ...   \n",
       "3209               500              550         200                3   \n",
       "3210               500              550         200                3   \n",
       "3211               500              550         200                3   \n",
       "3212               500              550         200                3   \n",
       "3213               500              550         200                3   \n",
       "\n",
       "      rub_per_minute  calls_revenue_add  internet_revenue_add  \\\n",
       "0                  1                0.0                   0.0   \n",
       "1                  1                0.0                   0.0   \n",
       "2                  1                0.0                   0.0   \n",
       "3                  1                0.0                   0.0   \n",
       "4                  1                0.0                   0.0   \n",
       "...              ...                ...                   ...   \n",
       "3209               3                0.0                   0.0   \n",
       "3210               3                0.0                 400.0   \n",
       "3211               3                0.0                1000.0   \n",
       "3212               3                0.0                 600.0   \n",
       "3213               3                0.0                 400.0   \n",
       "\n",
       "      messages_revenue_add  monthly_revenue  \n",
       "0                      0.0           1950.0  \n",
       "1                      0.0           1950.0  \n",
       "2                      0.0           1950.0  \n",
       "3                      0.0           1950.0  \n",
       "4                      0.0           1950.0  \n",
       "...                    ...              ...  \n",
       "3209                   0.0            550.0  \n",
       "3210                   0.0            950.0  \n",
       "3211                   0.0           1550.0  \n",
       "3212                   0.0           1150.0  \n",
       "3213                   0.0            950.0  \n",
       "\n",
       "[3214 rows x 18 columns]"
      ]
     },
     "metadata": {},
     "output_type": "display_data"
    }
   ],
   "source": [
    "#df_all_proces = df_all_pre_proces.copy()\n",
    "#del df_all_pre_proces\n",
    "\n",
    "data_all['messages']['data']['messages'] = 0\n",
    "df_merge = pd.DataFrame()\n",
    "print('Cчитаем помесячную продолжительность звонков (calls), количество сообщений (messages) и израсходованный интернет-трафик (internet):')\n",
    "for key_name in ['calls', 'internet', 'messages']:\n",
    "        for col in data_all[key_name]['data'].columns:\n",
    "            if 'date' in col:\n",
    "                data_all[key_name]['data'].rename(columns={col: key_name + '_month'}, inplace=True)\n",
    "                \n",
    "                data_all[key_name]['gr_by'] = (data_all[key_name]['data']\n",
    "                                               .groupby(by=['user_id', key_name + '_month']).agg(['count', 'sum'])\n",
    "                                              )\n",
    "                data_all[key_name]['gr_by'] = (data_all[key_name]['gr_by']\n",
    "                                               .drop(('duration','count'), axis = 1, errors='ignore')\n",
    "                                              )\n",
    "                data_all[key_name]['gr_by'] = (data_all[key_name]['gr_by']\n",
    "                                               .drop(('mb_used','count'), axis = 1, errors='ignore')\n",
    "                                              )\n",
    "                data_all[key_name]['gr_by'] = (data_all[key_name]['gr_by']\n",
    "                                               .drop(('messages','sum'), axis = 1, errors='ignore')\n",
    "                                              )\n",
    "                data_all[key_name]['gr_by'].columns = data_all[key_name]['gr_by'].columns.droplevel(1)\n",
    "                data_all[key_name]['gr_by'] = data_all[key_name]['gr_by'].reset_index()\n",
    "                \n",
    "                data_all[key_name]['gr_by_disp'] = data_all[key_name]['gr_by'].copy()\n",
    "                data_all[key_name]['gr_by_disp'][key_name + '_month'] = (data_all[key_name]['gr_by_disp'][key_name + '_month']\n",
    "                                                                         .dt.strftime(\"%Y-%m\")\n",
    "                                                                        )\n",
    "                display(data_all[key_name]['gr_by_disp'])\n",
    "                data_all[key_name]['gr_by'].rename(columns={key_name + '_month': 'month'}, inplace=True)\n",
    "                if not df_merge.empty:\n",
    "                    df_merge = df_merge.merge(data_all[key_name]['gr_by'], how='outer', on=['user_id', 'month'])\n",
    "                else:\n",
    "                    df_merge = data_all[key_name]['gr_by'].copy()\n",
    "\n",
    "print('Считаем помесячную выручку с каждого пользователя (monthly_revenue):')\n",
    "df_merge['month'] = df_merge['month'].dt.strftime(\"%Y-%m\")\n",
    "df_merge.columns = ['user_id', 'month', 'calls_dur_sum', 'internet_used', 'messages_count']\n",
    "df_merge = df_merge.merge(data_all['users']['data'][['user_id', 'tariff', 'city']], how='inner', on=['user_id'])\n",
    "df_merge = df_merge.merge(data_all['tariffs']['data'], how='inner', left_on = 'tariff', right_on='tariff_name')\n",
    "df_merge = df_merge.drop('tariff_name', axis = 1)\n",
    "df_merge = df_merge.fillna(0)\n",
    "\n",
    "df_merge['internet_used'] = np.ceil(df_merge['internet_used'] / 1024).astype('float64')\n",
    "df_merge.rename(columns={'internet_used': 'internet_used_gb'}, inplace=True)\n",
    "df_merge['mb_per_month_included'] = (df_merge['mb_per_month_included'] / 1024).astype('float64')\n",
    "df_merge.rename(columns={'mb_per_month_included': 'gb_per_month_included'}, inplace=True)\n",
    "\n",
    "df_merge.loc[(df_merge['calls_dur_sum'] <= df_merge['minutes_included']), 'calls_revenue_add'] = 0\n",
    "df_merge.loc[(df_merge['calls_dur_sum'] > df_merge['minutes_included']), 'calls_revenue_add'] = (\n",
    "    df_merge['calls_dur_sum'] - df_merge['minutes_included']) * df_merge['rub_per_minute']\n",
    "\n",
    "df_merge.loc[(df_merge['internet_used_gb'] <= df_merge['gb_per_month_included']), 'internet_revenue_add'] = 0\n",
    "df_merge.loc[(df_merge['internet_used_gb'] > df_merge['gb_per_month_included']), 'internet_revenue_add'] = (\n",
    "    df_merge['internet_used_gb'] - df_merge['gb_per_month_included']) * df_merge['rub_per_gb']\n",
    "\n",
    "df_merge.loc[(df_merge['messages_count'] <= df_merge['messages_included']), 'messages_revenue_add'] = 0\n",
    "df_merge.loc[(df_merge['messages_count'] > df_merge['messages_included']), 'messages_revenue_add'] = (\n",
    "    df_merge['messages_count'] - df_merge['messages_included']) * df_merge['rub_per_message']\n",
    "\n",
    "df_merge['monthly_revenue'] = (\n",
    "    df_merge['calls_revenue_add'] + df_merge['internet_revenue_add'] + df_merge['messages_revenue_add'] \n",
    "    + df_merge['rub_monthly_fee']\n",
    ")\n",
    "\n",
    "display(df_merge)\n"
   ]
  },
  {
   "cell_type": "markdown",
   "metadata": {},
   "source": [
    "### Вывод "
   ]
  },
  {
   "cell_type": "markdown",
   "metadata": {},
   "source": [
    "В данном разделе поситали помесячную продолжительность звонков (calls-duration-sum), количество сообщений (messages-messages-count) и израсходованный интернет-трафик (internet-mb_used-sum), сгруппировав данные по id пользователя и месяцу пользования услугами. Затем посчитали ежемесячный доход monthly_revenue от каждого пользователя с учётом выбранного им тарифа, включающего различные опции за различную абонентскую плату. "
   ]
  },
  {
   "cell_type": "markdown",
   "metadata": {},
   "source": [
    "## Исследовательский анализ данных"
   ]
  },
  {
   "cell_type": "markdown",
   "metadata": {},
   "source": [
    "### Опиcание поведения клиентов оператора, исходя из выборки. Определение количества минут разговора, количества сообщений и объёма интернет-трафика, расходуемого пользователями каждого тарифа в месяц. Расчёт среднего количества, дисперсии и стандартного отклонения. Построение гистограмм. Описание распределения."
   ]
  },
  {
   "cell_type": "code",
   "execution_count": 5,
   "metadata": {},
   "outputs": [
    {
     "name": "stdout",
     "output_type": "stream",
     "text": [
      "Поиск и удаление аномальных значений в датасете универсальным методом (1,5*IQR):\n",
      "\n",
      "user_id - граница верхнего уса ящика = 1759.38\n",
      "user_id - граница нижнего уса ящика = 744.38\n",
      "\n",
      "calls_dur_sum - граница верхнего уса ящика = 1049.5\n",
      "calls_dur_sum - граница нижнего уса ящика = 0\n",
      "\n",
      "internet_used_gb - граница верхнего уса ящика = 33.0\n",
      "internet_used_gb - граница нижнего уса ящика = 1.0\n",
      "\n",
      "messages_count - граница верхнего уса ящика = 129.0\n",
      "messages_count - граница нижнего уса ящика = 0\n",
      "\n",
      "messages_included - граница верхнего уса ящика = 2425.0\n",
      "messages_included - граница нижнего уса ящика = 0\n",
      "\n",
      "gb_per_month_included - граница верхнего уса ящика = 52.5\n",
      "gb_per_month_included - граница нижнего уса ящика = 0\n",
      "\n",
      "minutes_included - граница верхнего уса ящика = 6750.0\n",
      "minutes_included - граница нижнего уса ящика = 0\n",
      "\n",
      "rub_monthly_fee - граница верхнего уса ящика = 4050.0\n",
      "rub_monthly_fee - граница нижнего уса ящика = 0\n",
      "\n",
      "rub_per_gb - граница верхнего уса ящика = 275.0\n",
      "rub_per_gb - граница нижнего уса ящика = 75.0\n",
      "\n",
      "rub_per_message - граница верхнего уса ящика = 6.0\n",
      "rub_per_message - граница нижнего уса ящика = 0\n",
      "\n",
      "rub_per_minute - граница верхнего уса ящика = 6.0\n",
      "rub_per_minute - граница нижнего уса ящика = 0\n",
      "\n",
      "calls_revenue_add - граница верхнего уса ящика = 0.0\n",
      "calls_revenue_add - граница нижнего уса ящика = 0.0\n",
      "\n",
      "internet_revenue_add - граница верхнего уса ящика = 2000.0\n",
      "internet_revenue_add - граница нижнего уса ящика = 0\n",
      "\n",
      "messages_revenue_add - граница верхнего уса ящика = 0.0\n",
      "messages_revenue_add - граница нижнего уса ящика = 0.0\n",
      "\n",
      "monthly_revenue - граница верхнего уса ящика = 3750.0\n",
      "monthly_revenue - граница нижнего уса ящика = 0\n",
      "\n"
     ]
    }
   ],
   "source": [
    "print('Поиск и удаление аномальных значений в датасете универсальным методом (1,5*IQR):\\n')\n",
    "col_ns = []\n",
    "num_cl = 0 \n",
    "#df_merge_clear = df_merge.copy()\n",
    "#del df_merge\n",
    "\n",
    "for col in df_merge.columns:\n",
    "    try:\n",
    "        q25, q75 = np.percentile(df_merge[col], [25, 75])\n",
    "        IQR = q75 - q25\n",
    "        max_ = round(q75+(1.5*IQR), 2)\n",
    "        min_ = round(q25-(1.5*IQR), 2)\n",
    "        print(col, f'- граница верхнего уса ящика = {max_}') if max_ != df_merge[col].max() else print(col, '- граница верхнего уса ящика = максимальному значению')\n",
    "        print(col, f'- граница нижнего уса ящика = {min_}\\n') if min_ >= 0 else print(col, '- граница нижнего уса ящика = 0\\n')\n",
    "        num_cl += df_merge.loc[df_merge[col] < min_, col].count()\n",
    "        df_merge.loc[df_merge[col] < min_, col] = df_merge[col].median()\n",
    "        num_cl += df_merge.loc[df_merge[col] > max_, col].count()\n",
    "        df_merge.loc[df_merge[col] > max_, col] = df_merge[col].median()\n",
    "        col_ns.append(col)\n",
    "    except:\n",
    "        next"
   ]
  },
  {
   "cell_type": "code",
   "execution_count": 6,
   "metadata": {},
   "outputs": [
    {
     "name": "stdout",
     "output_type": "stream",
     "text": [
      "Доля редких и выбивающихся (аномальных) значений к исходному количеству записей составляет:\n",
      "2.96 %\n"
     ]
    }
   ],
   "source": [
    "print('Доля редких и выбивающихся (аномальных) значений к исходному количеству записей составляет:')\n",
    "print(round(num_cl/df_merge.size, 4)*100, '%')"
   ]
  },
  {
   "cell_type": "code",
   "execution_count": 7,
   "metadata": {
    "scrolled": false
   },
   "outputs": [
    {
     "data": {
      "image/png": "[encoded data removed]",
      "text/plain": [
       "<Figure size 1152x648 with 1 Axes>"
      ]
     },
     "metadata": {},
     "output_type": "display_data"
    },
    {
     "data": {
      "image/png": "[encoded data removed]",
      "text/plain": [
       "<Figure size 1152x648 with 1 Axes>"
      ]
     },
     "metadata": {},
     "output_type": "display_data"
    },
    {
     "data": {
      "image/png": "[encoded data removed]",
      "text/plain": [
       "<Figure size 1152x648 with 1 Axes>"
      ]
     },
     "metadata": {},
     "output_type": "display_data"
    },
    {
     "name": "stdout",
     "output_type": "stream",
     "text": [
      "Продолжительность звонков, количество сообщений, количество интернета по тарифам: среднее, дисперсия, \n",
      "      стандартное отклонение за 2018 г.:\n"
     ]
    },
    {
     "data": {
      "text/html": [
       "<style  type=\"text/css\" >\n",
       "</style><table id=\"T_f1996_\" ><thead>    <tr>        <th class=\"blank level0\" ></th>        <th class=\"col_heading level0 col0\" colspan=\"3\">calls_dur_sum</th>        <th class=\"col_heading level0 col3\" colspan=\"3\">messages_count</th>        <th class=\"col_heading level0 col6\" colspan=\"3\">internet_used_gb</th>        <th class=\"col_heading level0 col9\" colspan=\"3\">monthly_revenue</th>    </tr>    <tr>        <th class=\"blank level1\" ></th>        <th class=\"col_heading level1 col0\" >mean</th>        <th class=\"col_heading level1 col1\" >var</th>        <th class=\"col_heading level1 col2\" >std</th>        <th class=\"col_heading level1 col3\" >mean</th>        <th class=\"col_heading level1 col4\" >var</th>        <th class=\"col_heading level1 col5\" >std</th>        <th class=\"col_heading level1 col6\" >mean</th>        <th class=\"col_heading level1 col7\" >var</th>        <th class=\"col_heading level1 col8\" >std</th>        <th class=\"col_heading level1 col9\" >mean</th>        <th class=\"col_heading level1 col10\" >var</th>        <th class=\"col_heading level1 col11\" >std</th>    </tr>    <tr>        <th class=\"index_name level0\" >tariff</th>        <th class=\"blank\" ></th>        <th class=\"blank\" ></th>        <th class=\"blank\" ></th>        <th class=\"blank\" ></th>        <th class=\"blank\" ></th>        <th class=\"blank\" ></th>        <th class=\"blank\" ></th>        <th class=\"blank\" ></th>        <th class=\"blank\" ></th>        <th class=\"blank\" ></th>        <th class=\"blank\" ></th>        <th class=\"blank\" ></th>    </tr></thead><tbody>\n",
       "                <tr>\n",
       "                        <th id=\"T_f1996_level0_row0\" class=\"row_heading level0 row0\" >smart</th>\n",
       "                        <td id=\"T_f1996_row0_col0\" class=\"data row0 col0\" >416.9</td>\n",
       "                        <td id=\"T_f1996_row0_col1\" class=\"data row0 col1\" >35325.0</td>\n",
       "                        <td id=\"T_f1996_row0_col2\" class=\"data row0 col2\" >187.9</td>\n",
       "                        <td id=\"T_f1996_row0_col3\" class=\"data row0 col3\" >33.1</td>\n",
       "                        <td id=\"T_f1996_row0_col4\" class=\"data row0 col4\" >767.7</td>\n",
       "                        <td id=\"T_f1996_row0_col5\" class=\"data row0 col5\" >27.7</td>\n",
       "                        <td id=\"T_f1996_row0_col6\" class=\"data row0 col6\" >16.3</td>\n",
       "                        <td id=\"T_f1996_row0_col7\" class=\"data row0 col7\" >31.4</td>\n",
       "                        <td id=\"T_f1996_row0_col8\" class=\"data row0 col8\" >5.6</td>\n",
       "                        <td id=\"T_f1996_row0_col9\" class=\"data row0 col9\" >1257.3</td>\n",
       "                        <td id=\"T_f1996_row0_col10\" class=\"data row0 col10\" >543017.5</td>\n",
       "                        <td id=\"T_f1996_row0_col11\" class=\"data row0 col11\" >736.9</td>\n",
       "            </tr>\n",
       "            <tr>\n",
       "                        <th id=\"T_f1996_level0_row1\" class=\"row_heading level0 row1\" >ultra</th>\n",
       "                        <td id=\"T_f1996_row1_col0\" class=\"data row1 col0\" >480.3</td>\n",
       "                        <td id=\"T_f1996_row1_col1\" class=\"data row1 col1\" >70369.5</td>\n",
       "                        <td id=\"T_f1996_row1_col2\" class=\"data row1 col2\" >265.3</td>\n",
       "                        <td id=\"T_f1996_row1_col3\" class=\"data row1 col3\" >38.5</td>\n",
       "                        <td id=\"T_f1996_row1_col4\" class=\"data row1 col4\" >1187.9</td>\n",
       "                        <td id=\"T_f1996_row1_col5\" class=\"data row1 col5\" >34.5</td>\n",
       "                        <td id=\"T_f1996_row1_col6\" class=\"data row1 col6\" >17.9</td>\n",
       "                        <td id=\"T_f1996_row1_col7\" class=\"data row1 col7\" >60.4</td>\n",
       "                        <td id=\"T_f1996_row1_col8\" class=\"data row1 col8\" >7.8</td>\n",
       "                        <td id=\"T_f1996_row1_col9\" class=\"data row1 col9\" >2045.2</td>\n",
       "                        <td id=\"T_f1996_row1_col10\" class=\"data row1 col10\" >99311.0</td>\n",
       "                        <td id=\"T_f1996_row1_col11\" class=\"data row1 col11\" >315.1</td>\n",
       "            </tr>\n",
       "    </tbody></table>"
      ],
      "text/plain": [
       "<pandas.io.formats.style.Styler at 0x7f76e6f2e220>"
      ]
     },
     "metadata": {},
     "output_type": "display_data"
    },
    {
     "data": {
      "image/png": "[encoded data removed]",
      "text/plain": [
       "<Figure size 1152x648 with 1 Axes>"
      ]
     },
     "metadata": {},
     "output_type": "display_data"
    }
   ],
   "source": [
    "plt.style.use('seaborn-white')\n",
    "plt.figure(figsize=(16,9))\n",
    "plt.hist([df_merge[df_merge['tariff'] == 'smart']['calls_dur_sum'], \n",
    "          df_merge[df_merge['tariff'] == 'ultra']['calls_dur_sum']], \n",
    "         bins='sturges', alpha=0.5, label=['тариф smart', 'тариф ultra'])\n",
    "\n",
    "plt.legend(loc='upper right')\n",
    "plt.title(f'Тарифы: продолжительность звонков')\n",
    "plt.xlabel('Продолжительность звонков, мин.')\n",
    "plt.ylabel(\"Частота\")\n",
    "plt.show()\n",
    "plt.style.use('seaborn-white')\n",
    "plt.figure(figsize=(16,9))\n",
    "plt.hist([df_merge[df_merge['tariff'] == 'smart']['messages_count'], \n",
    "          df_merge[df_merge['tariff'] == 'ultra']['messages_count']], \n",
    "         bins='sturges', alpha=0.5, label=['тариф smart', 'тариф ultra'])\n",
    "\n",
    "plt.legend(loc='upper right')\n",
    "plt.title(f'Тарифы: количество сообщений')\n",
    "plt.xlabel('Количество сообщений, шт.')\n",
    "plt.ylabel(\"Частота\")\n",
    "plt.show()\n",
    "plt.style.use('seaborn-white')\n",
    "plt.figure(figsize=(16,9))\n",
    "plt.hist([df_merge[df_merge['tariff'] == 'smart']['internet_used_gb'], \n",
    "          df_merge[df_merge['tariff'] == 'ultra']['internet_used_gb']], \n",
    "         bins='sturges', alpha=0.5, label=['тариф smart', 'тариф ultra'])\n",
    "\n",
    "plt.legend(loc='upper right')\n",
    "plt.title(f'Тарифы: количество интернета')\n",
    "plt.xlabel('Количество интернета, Gb')\n",
    "plt.ylabel(\"Частота\")\n",
    "plt.show()\n",
    "print(\"\"\"Продолжительность звонков, количество сообщений, количество интернета по тарифам: среднее, дисперсия, \n",
    "      стандартное отклонение за 2018 г.:\"\"\")\n",
    "display(df_merge.groupby(by='tariff')[['calls_dur_sum', 'messages_count', 'internet_used_gb', 'monthly_revenue']]\n",
    "        .agg(['mean', 'var', 'std']).style.format('{:.1f}', na_rep='-'))\n",
    "\n",
    "plt.style.use('seaborn-white')\n",
    "plt.figure(figsize=(16,9))\n",
    "plt.hist([df_merge[df_merge['tariff'] == 'smart']['monthly_revenue'], \n",
    "          df_merge[df_merge['tariff'] == 'ultra']['monthly_revenue']], \n",
    "         bins='sturges', alpha=0.5, label=['тариф smart', 'тариф ultra'])\n",
    "\n",
    "plt.legend(loc='upper right')\n",
    "plt.title(f'Тарифы: помесячная выручка')\n",
    "plt.xlabel('Выручка, руб.')\n",
    "plt.ylabel(\"Частота\")\n",
    "plt.show()\n"
   ]
  },
  {
   "cell_type": "markdown",
   "metadata": {},
   "source": [
    "#### Вывод"
   ]
  },
  {
   "cell_type": "markdown",
   "metadata": {},
   "source": [
    "Потребительское поведение клиентов при пользовании услугами (по данным визуализации - графиками распределений выборки): 1. большинство пользователей тарифа smart использует 350 и 480 минут звонков, тарифа ultra - 440 минут; 2. большинство пользователей тарифа smart и ultra не пользуется услугами сообщений, оставшиеся использует пользователи пользуются услугами сообщений без выраженного нормального распределения, частота стремится к равномерному распределению, на тарифе ultra наблюдается пик частоты (более половины от макимального 0 значения) на 30 сообщениях; 3. большинство пользователей тарифа smart использует от 12 до 22 Гб трафика, тарифа ultra - от 10 до 28 Гб.\n",
    "\n",
    "По графикам можно заключить, что пользователи тарифа ultra количественно потребляют телекомуникационные услуги всех видов более равномерно, то есть частота имеет более широкий и равномерный интервал.\n",
    "\n",
    "Распределения потребления услуг голосовой связи и интернет-трафика на тарифе smart стремятся к нормальным.\n",
    "\n",
    "Распределения потребления услуг голосовой связи, интернет-трафика и сообщений на тарифе ultra стремятся к равномерным, с множеством слабовыраженных пиков частоты.\n",
    "\n",
    "Распределения выручки, ожидаемо, зависит от тарифа и применяемой абонентской платы, пики значений частоты для значений превышающих значения абонентской платы более выражены для тарифа smart."
   ]
  },
  {
   "cell_type": "markdown",
   "metadata": {},
   "source": [
    "### Проверка гипотез"
   ]
  },
  {
   "cell_type": "markdown",
   "metadata": {},
   "source": [
    "#### Cредняя выручка пользователей тарифов «Ультра» и «Смарт» различаются"
   ]
  },
  {
   "cell_type": "markdown",
   "metadata": {},
   "source": [
    "**Нулевая гипотеза:** средняя выручка по тарифам \"Ультра\" и \"Смарт\" одинакова.\n",
    "**Альтернативная гипотеза:** средня выручка по тарифу \"Ультра\" не равна средней по тарифу \"Смарт\" "
   ]
  },
  {
   "cell_type": "markdown",
   "metadata": {},
   "source": [
    "Пороговое значение alpha задаём 5%."
   ]
  },
  {
   "cell_type": "code",
   "execution_count": 8,
   "metadata": {},
   "outputs": [
    {
     "name": "stdout",
     "output_type": "stream",
     "text": [
      "p-значение: 5.343258132e-313\n",
      "Отвергаем нулевую гипотезу\n",
      "\n",
      "Средние значения совокупностей (ежемесячной выручки за 2018 год по тарифам)\n",
      "smart: 1257.26\n",
      "ultra: 2045.21\n"
     ]
    }
   ],
   "source": [
    "smart = df_merge[df_merge['tariff'] =='smart']['monthly_revenue']\n",
    "ultra = df_merge[df_merge['tariff'] == 'ultra']['monthly_revenue']\n",
    "\n",
    "alpha = .05  \n",
    "\n",
    "results = st.ttest_ind(\n",
    "    smart, \n",
    "    ultra,\n",
    "    equal_var = False)\n",
    "\n",
    "print('p-значение:', results.pvalue)\n",
    "\n",
    "if results.pvalue < alpha:\n",
    "    print('Отвергаем нулевую гипотезу\\n')\n",
    "    print('Средние значения совокупностей (ежемесячной выручки за 2018 год по тарифам)')\n",
    "    print('smart:', round(smart.mean(), 2))\n",
    "    print('ultra:', round(ultra.mean(), 2))\n",
    "else:\n",
    "    print('Не получилось отвергнуть нулевую гипотезу') "
   ]
  },
  {
   "cell_type": "markdown",
   "metadata": {},
   "source": [
    "#### Cредняя выручка пользователей из Москвы отличается от выручки пользователей из других регионов"
   ]
  },
  {
   "cell_type": "markdown",
   "metadata": {},
   "source": [
    "**Нулевая гипотеза:** средняя выручка от пользователей из Москвы и от пользователей из других регионов одинакова\n",
    "**Альтернативная гипотеза:** средняя выручка от пользователей из Москвы меньше или больше (не равна) средней выручки от пользователей из других регионов"
   ]
  },
  {
   "cell_type": "markdown",
   "metadata": {},
   "source": [
    "Пороговое значение alpha задаём 5%."
   ]
  },
  {
   "cell_type": "code",
   "execution_count": 9,
   "metadata": {},
   "outputs": [
    {
     "data": {
      "text/plain": [
       "8       1950.0\n",
       "9       1950.0\n",
       "10      1950.0\n",
       "11      1950.0\n",
       "12      1950.0\n",
       "         ...  \n",
       "3169     950.0\n",
       "3170     550.0\n",
       "3171    1750.0\n",
       "3172    1350.0\n",
       "3173     750.0\n",
       "Name: monthly_revenue, Length: 611, dtype: float64"
      ]
     },
     "metadata": {},
     "output_type": "display_data"
    },
    {
     "name": "stdout",
     "output_type": "stream",
     "text": [
      "p-значение: 0.2563955374465304\n",
      "Не получилось отвергнуть нулевую гипотезу\n"
     ]
    }
   ],
   "source": [
    "Mos = df_merge[df_merge['city'] =='Москва']['monthly_revenue']\n",
    "non_Mos = df_merge[df_merge['city'] != 'Москва']['monthly_revenue']\n",
    "alpha = .05  \n",
    "\n",
    "results = st.ttest_ind(\n",
    "    Mos, \n",
    "    non_Mos)\n",
    "\n",
    "print('p-значение:', results.pvalue)\n",
    "\n",
    "if results.pvalue < alpha:\n",
    "    print(\"Отвергаем нулевую гипотезу\")\n",
    "else:\n",
    "    print(\"Не получилось отвергнуть нулевую гипотезу\") "
   ]
  },
  {
   "cell_type": "markdown",
   "metadata": {},
   "source": [
    "#### Вопрос: как формулировали нулевую и альтернативную гипотезы"
   ]
  },
  {
   "cell_type": "markdown",
   "metadata": {},
   "source": [
    "За нулевую гипотезу взято строго противоположное проверяемой гипотезе утверждение, за альтернативную гипотезу принято утверждение, которое исчерпывает все варианты событий."
   ]
  },
  {
   "cell_type": "markdown",
   "metadata": {},
   "source": [
    "#### Вопрос: какой критерий использовали для проверки гипотез и почему"
   ]
  },
  {
   "cell_type": "markdown",
   "metadata": {},
   "source": [
    "При проведении исследования гопотез использовали T-критерий Стьюдента, так как предполагаем нормальное распределение средних выборок относительно истинного среднего и равную дисперсию."
   ]
  },
  {
   "cell_type": "markdown",
   "metadata": {},
   "source": [
    "## Общий вывод"
   ]
  },
  {
   "cell_type": "markdown",
   "metadata": {},
   "source": [
    "Нами проведено исследование датасетов, содержащих данные за 2018 год о звонках, сообщениях и интернет-трафике пользователей. В процессе исследования нами проведена предобработка данных в необходимом объёме, устранены лишние столбцы, исправлены типы данных, данные нормализованы путём определения и устранения выбросов универсальным способом, постороены и изучены гистограммы распределений, посчитаны помесячные выручки, дисперсии, стандартные отклонения и средние за 2018 г., сформулированы гипотезы о средних выручек по тарифам на основе выборок за 2018 г. и проведены статистические тесты."
   ]
  },
  {
   "cell_type": "markdown",
   "metadata": {},
   "source": [
    "Таким образом, исходя из имеющихся данных о потребительском поведении клиентов за 2018 год, учитывая данные о средней выручке, можно сделать вывод о том, что оказание услуг по тарифу ultra для телекоммуникационной компании является более интересным и привлекательным, а привлечение клиентов по этому тарифу более приоритетным."
   ]
  }
 ],
 "metadata": {
  "ExecuteTimeLog": [
   {
    "duration": 294,
    "start_time": "2022-03-16T20:00:57.539Z"
   },
   {
    "duration": 249,
    "start_time": "2022-03-16T20:01:07.266Z"
   },
   {
    "duration": 1892,
    "start_time": "2022-03-16T20:01:12.073Z"
   },
   {
    "duration": 337,
    "start_time": "2022-03-16T20:01:14.000Z"
   },
   {
    "duration": 354,
    "start_time": "2022-03-16T20:01:34.593Z"
   },
   {
    "duration": 332,
    "start_time": "2022-03-16T20:02:13.994Z"
   },
   {
    "duration": 3,
    "start_time": "2022-03-16T20:02:46.198Z"
   },
   {
    "duration": 684,
    "start_time": "2022-03-16T20:02:46.203Z"
   },
   {
    "duration": 76,
    "start_time": "2022-03-16T20:03:15.955Z"
   },
   {
    "duration": 74,
    "start_time": "2022-03-16T20:03:36.004Z"
   },
   {
    "duration": 68,
    "start_time": "2022-03-16T20:03:45.685Z"
   },
   {
    "duration": 71,
    "start_time": "2022-03-16T20:05:43.839Z"
   },
   {
    "duration": 75,
    "start_time": "2022-03-16T20:06:02.831Z"
   },
   {
    "duration": 65,
    "start_time": "2022-03-16T20:06:54.136Z"
   },
   {
    "duration": 81,
    "start_time": "2022-03-16T20:07:12.481Z"
   },
   {
    "duration": 66,
    "start_time": "2022-03-16T20:07:22.569Z"
   },
   {
    "duration": 78,
    "start_time": "2022-03-16T20:10:24.404Z"
   },
   {
    "duration": 155,
    "start_time": "2022-03-16T20:13:27.088Z"
   },
   {
    "duration": 58,
    "start_time": "2022-03-16T20:13:44.839Z"
   },
   {
    "duration": 59,
    "start_time": "2022-03-16T20:27:08.778Z"
   },
   {
    "duration": 622,
    "start_time": "2022-03-16T20:27:14.481Z"
   },
   {
    "duration": 57,
    "start_time": "2022-03-16T20:27:20.937Z"
   },
   {
    "duration": 98,
    "start_time": "2022-03-16T20:27:40.346Z"
   },
   {
    "duration": 61,
    "start_time": "2022-03-16T20:30:08.732Z"
   },
   {
    "duration": 99,
    "start_time": "2022-03-16T20:31:33.398Z"
   },
   {
    "duration": 105,
    "start_time": "2022-03-16T20:32:13.959Z"
   },
   {
    "duration": 95,
    "start_time": "2022-03-16T20:32:28.616Z"
   },
   {
    "duration": 101,
    "start_time": "2022-03-16T20:33:20.360Z"
   },
   {
    "duration": 103,
    "start_time": "2022-03-16T20:34:13.714Z"
   },
   {
    "duration": 122,
    "start_time": "2022-03-16T20:34:27.562Z"
   },
   {
    "duration": 89,
    "start_time": "2022-03-16T20:34:41.978Z"
   },
   {
    "duration": 644,
    "start_time": "2022-03-16T20:34:47.314Z"
   },
   {
    "duration": 108,
    "start_time": "2022-03-16T20:34:58.259Z"
   },
   {
    "duration": 103,
    "start_time": "2022-03-16T20:35:13.779Z"
   },
   {
    "duration": 91,
    "start_time": "2022-03-16T20:35:49.916Z"
   },
   {
    "duration": 111,
    "start_time": "2022-03-16T20:36:23.397Z"
   },
   {
    "duration": 5233,
    "start_time": "2022-03-16T20:37:16.765Z"
   },
   {
    "duration": 1147,
    "start_time": "2022-03-16T20:37:38.610Z"
   },
   {
    "duration": 308,
    "start_time": "2022-03-16T20:39:26.971Z"
   },
   {
    "duration": 107,
    "start_time": "2022-03-16T20:39:42.145Z"
   },
   {
    "duration": 102,
    "start_time": "2022-03-16T20:40:15.842Z"
   },
   {
    "duration": 324,
    "start_time": "2022-03-16T20:40:42.577Z"
   },
   {
    "duration": 15847,
    "start_time": "2022-03-16T20:40:54.225Z"
   },
   {
    "duration": 116,
    "start_time": "2022-03-16T20:43:25.421Z"
   },
   {
    "duration": 108,
    "start_time": "2022-03-16T20:43:38.166Z"
   },
   {
    "duration": 107,
    "start_time": "2022-03-16T20:44:39.494Z"
   },
   {
    "duration": 47,
    "start_time": "2022-03-17T09:16:20.235Z"
   },
   {
    "duration": 436,
    "start_time": "2022-03-17T09:16:28.634Z"
   },
   {
    "duration": 159,
    "start_time": "2022-03-17T09:16:29.072Z"
   },
   {
    "duration": 37,
    "start_time": "2022-03-17T09:16:32.649Z"
   },
   {
    "duration": 17,
    "start_time": "2022-03-17T09:16:52.169Z"
   },
   {
    "duration": 94,
    "start_time": "2022-03-17T09:16:57.336Z"
   },
   {
    "duration": 21,
    "start_time": "2022-03-17T09:18:24.951Z"
   },
   {
    "duration": 37,
    "start_time": "2022-03-17T09:18:36.072Z"
   },
   {
    "duration": 55,
    "start_time": "2022-03-17T09:19:03.958Z"
   },
   {
    "duration": 3,
    "start_time": "2022-03-17T09:19:16.919Z"
   },
   {
    "duration": 180,
    "start_time": "2022-03-17T09:19:16.924Z"
   },
   {
    "duration": 47,
    "start_time": "2022-03-17T09:19:19.895Z"
   },
   {
    "duration": 73,
    "start_time": "2022-03-17T09:19:29.935Z"
   },
   {
    "duration": 51,
    "start_time": "2022-03-17T09:19:44.774Z"
   },
   {
    "duration": 51,
    "start_time": "2022-03-17T09:21:41.804Z"
   },
   {
    "duration": 60,
    "start_time": "2022-03-17T09:21:54.821Z"
   },
   {
    "duration": 3,
    "start_time": "2022-03-17T09:22:10.551Z"
   },
   {
    "duration": 165,
    "start_time": "2022-03-17T09:22:10.556Z"
   },
   {
    "duration": 47,
    "start_time": "2022-03-17T09:22:13.811Z"
   },
   {
    "duration": 54,
    "start_time": "2022-03-17T09:22:22.227Z"
   },
   {
    "duration": 53,
    "start_time": "2022-03-17T09:22:26.923Z"
   },
   {
    "duration": 51,
    "start_time": "2022-03-17T09:22:36.251Z"
   },
   {
    "duration": 39,
    "start_time": "2022-03-17T09:23:23.427Z"
   },
   {
    "duration": 27,
    "start_time": "2022-03-17T09:23:33.834Z"
   },
   {
    "duration": 6,
    "start_time": "2022-03-17T10:19:00.152Z"
   },
   {
    "duration": 7,
    "start_time": "2022-03-17T10:19:09.259Z"
   },
   {
    "duration": 5,
    "start_time": "2022-03-17T10:19:50.275Z"
   },
   {
    "duration": 109,
    "start_time": "2022-03-17T10:20:07.226Z"
   },
   {
    "duration": 108,
    "start_time": "2022-03-17T10:20:15.818Z"
   },
   {
    "duration": 5,
    "start_time": "2022-03-17T10:20:24.163Z"
   },
   {
    "duration": 10,
    "start_time": "2022-03-17T10:20:35.130Z"
   },
   {
    "duration": 8,
    "start_time": "2022-03-17T10:20:44.442Z"
   },
   {
    "duration": 1914,
    "start_time": "2022-03-17T10:37:54.373Z"
   },
   {
    "duration": 13,
    "start_time": "2022-03-17T10:41:21.510Z"
   },
   {
    "duration": 52,
    "start_time": "2022-03-17T10:41:29.037Z"
   },
   {
    "duration": 20,
    "start_time": "2022-03-17T10:45:59.847Z"
   },
   {
    "duration": 17,
    "start_time": "2022-03-17T10:46:05.041Z"
   },
   {
    "duration": 16,
    "start_time": "2022-03-17T10:46:19.016Z"
   },
   {
    "duration": 16,
    "start_time": "2022-03-17T10:46:26.169Z"
   },
   {
    "duration": 24,
    "start_time": "2022-03-17T10:59:57.867Z"
   },
   {
    "duration": 21,
    "start_time": "2022-03-17T11:03:28.875Z"
   },
   {
    "duration": 2013,
    "start_time": "2022-03-17T11:04:02.321Z"
   },
   {
    "duration": 1215,
    "start_time": "2022-03-17T11:05:07.727Z"
   },
   {
    "duration": 151,
    "start_time": "2022-03-17T11:23:50.942Z"
   },
   {
    "duration": 135,
    "start_time": "2022-03-17T11:23:56.484Z"
   },
   {
    "duration": 110,
    "start_time": "2022-03-17T11:24:11.276Z"
   },
   {
    "duration": 118,
    "start_time": "2022-03-17T11:43:48.689Z"
   },
   {
    "duration": 126,
    "start_time": "2022-03-17T11:44:03.559Z"
   },
   {
    "duration": 112,
    "start_time": "2022-03-17T11:45:58.717Z"
   },
   {
    "duration": 125,
    "start_time": "2022-03-17T11:53:00.519Z"
   },
   {
    "duration": 117,
    "start_time": "2022-03-17T11:53:13.502Z"
   },
   {
    "duration": 546,
    "start_time": "2022-03-17T11:53:58.997Z"
   },
   {
    "duration": 569,
    "start_time": "2022-03-17T11:54:20.534Z"
   },
   {
    "duration": 524,
    "start_time": "2022-03-17T11:54:41.824Z"
   },
   {
    "duration": 113,
    "start_time": "2022-03-17T11:56:57.906Z"
   },
   {
    "duration": 2918,
    "start_time": "2022-03-17T12:01:17.479Z"
   },
   {
    "duration": 114,
    "start_time": "2022-03-17T12:02:18.549Z"
   },
   {
    "duration": 24,
    "start_time": "2022-03-17T12:03:01.909Z"
   },
   {
    "duration": 23,
    "start_time": "2022-03-17T12:03:35.660Z"
   },
   {
    "duration": 91,
    "start_time": "2022-03-17T12:04:49.797Z"
   },
   {
    "duration": 119,
    "start_time": "2022-03-17T12:04:54.883Z"
   },
   {
    "duration": 52,
    "start_time": "2022-03-17T12:06:09.958Z"
   },
   {
    "duration": 23,
    "start_time": "2022-03-17T12:06:42.027Z"
   },
   {
    "duration": 24,
    "start_time": "2022-03-17T12:06:50.713Z"
   },
   {
    "duration": 24,
    "start_time": "2022-03-17T12:06:56.193Z"
   },
   {
    "duration": 30,
    "start_time": "2022-03-17T12:07:22.176Z"
   },
   {
    "duration": 113,
    "start_time": "2022-03-17T12:08:03.304Z"
   },
   {
    "duration": 107,
    "start_time": "2022-03-17T12:08:36.926Z"
   },
   {
    "duration": 123,
    "start_time": "2022-03-17T12:09:14.550Z"
   },
   {
    "duration": 113,
    "start_time": "2022-03-17T12:09:21.829Z"
   },
   {
    "duration": 122,
    "start_time": "2022-03-17T12:09:59.782Z"
   },
   {
    "duration": 113,
    "start_time": "2022-03-17T12:10:03.774Z"
   },
   {
    "duration": 118,
    "start_time": "2022-03-17T12:10:13.238Z"
   },
   {
    "duration": 141,
    "start_time": "2022-03-17T12:14:11.269Z"
   },
   {
    "duration": 77,
    "start_time": "2022-03-17T12:14:31.145Z"
   },
   {
    "duration": 43,
    "start_time": "2022-03-17T12:14:36.165Z"
   },
   {
    "duration": 114,
    "start_time": "2022-03-17T12:16:07.759Z"
   },
   {
    "duration": 20346,
    "start_time": "2022-03-17T12:16:34.471Z"
   },
   {
    "duration": 3366,
    "start_time": "2022-03-17T12:17:40.172Z"
   },
   {
    "duration": 121,
    "start_time": "2022-03-17T12:18:10.711Z"
   },
   {
    "duration": 118,
    "start_time": "2022-03-17T12:18:32.453Z"
   },
   {
    "duration": 111,
    "start_time": "2022-03-17T12:19:00.661Z"
   },
   {
    "duration": 133,
    "start_time": "2022-03-17T12:19:21.020Z"
   },
   {
    "duration": 136,
    "start_time": "2022-03-17T12:19:27.092Z"
   },
   {
    "duration": 3373,
    "start_time": "2022-03-17T12:20:13.783Z"
   },
   {
    "duration": 3624,
    "start_time": "2022-03-17T12:21:22.956Z"
   },
   {
    "duration": 132,
    "start_time": "2022-03-17T12:22:06.498Z"
   },
   {
    "duration": 112,
    "start_time": "2022-03-17T12:22:17.330Z"
   },
   {
    "duration": 148,
    "start_time": "2022-03-17T12:24:49.383Z"
   },
   {
    "duration": 117,
    "start_time": "2022-03-17T12:24:58.689Z"
   },
   {
    "duration": 119,
    "start_time": "2022-03-17T12:25:13.487Z"
   },
   {
    "duration": 113,
    "start_time": "2022-03-17T12:25:21.903Z"
   },
   {
    "duration": 112,
    "start_time": "2022-03-17T12:25:33.646Z"
   },
   {
    "duration": 120,
    "start_time": "2022-03-17T12:25:50.102Z"
   },
   {
    "duration": 114,
    "start_time": "2022-03-17T12:26:00.942Z"
   },
   {
    "duration": 111,
    "start_time": "2022-03-17T12:26:22.334Z"
   },
   {
    "duration": 122,
    "start_time": "2022-03-17T12:26:31.350Z"
   },
   {
    "duration": 126,
    "start_time": "2022-03-17T12:27:00.405Z"
   },
   {
    "duration": 107,
    "start_time": "2022-03-17T12:27:12.853Z"
   },
   {
    "duration": 110,
    "start_time": "2022-03-17T12:30:28.258Z"
   },
   {
    "duration": 107,
    "start_time": "2022-03-17T12:30:42.666Z"
   },
   {
    "duration": 130,
    "start_time": "2022-03-17T12:31:17.010Z"
   },
   {
    "duration": 139,
    "start_time": "2022-03-17T12:31:22.642Z"
   },
   {
    "duration": 2888,
    "start_time": "2022-03-17T12:31:47.681Z"
   },
   {
    "duration": 109,
    "start_time": "2022-03-17T12:32:10.489Z"
   },
   {
    "duration": 110,
    "start_time": "2022-03-17T12:32:17.609Z"
   },
   {
    "duration": 13,
    "start_time": "2022-03-17T12:34:06.183Z"
   },
   {
    "duration": 24,
    "start_time": "2022-03-17T12:34:33.936Z"
   },
   {
    "duration": 55,
    "start_time": "2022-03-17T12:34:41.983Z"
   },
   {
    "duration": 49,
    "start_time": "2022-03-17T12:34:57.251Z"
   },
   {
    "duration": 50,
    "start_time": "2022-03-17T12:35:34.125Z"
   },
   {
    "duration": 576,
    "start_time": "2022-03-17T12:36:07.638Z"
   },
   {
    "duration": 24,
    "start_time": "2022-03-17T12:36:28.453Z"
   },
   {
    "duration": 48,
    "start_time": "2022-03-17T12:36:59.645Z"
   },
   {
    "duration": 24,
    "start_time": "2022-03-17T12:37:10.636Z"
   },
   {
    "duration": 24,
    "start_time": "2022-03-17T12:37:36.452Z"
   },
   {
    "duration": 393,
    "start_time": "2022-03-17T12:37:51.587Z"
   },
   {
    "duration": 26,
    "start_time": "2022-03-17T12:38:05.843Z"
   },
   {
    "duration": 77,
    "start_time": "2022-03-17T12:38:36.282Z"
   },
   {
    "duration": 2860,
    "start_time": "2022-03-17T12:39:28.928Z"
   },
   {
    "duration": 11057,
    "start_time": "2022-03-17T12:39:50.330Z"
   },
   {
    "duration": 3312,
    "start_time": "2022-03-17T12:40:19.453Z"
   },
   {
    "duration": 315,
    "start_time": "2022-03-17T12:41:02.650Z"
   },
   {
    "duration": 324,
    "start_time": "2022-03-17T12:41:38.278Z"
   },
   {
    "duration": 508,
    "start_time": "2022-03-17T12:43:39.398Z"
   },
   {
    "duration": 168,
    "start_time": "2022-03-17T12:44:51.069Z"
   },
   {
    "duration": 390,
    "start_time": "2022-03-17T12:44:55.117Z"
   },
   {
    "duration": 347,
    "start_time": "2022-03-17T12:45:00.605Z"
   },
   {
    "duration": 384,
    "start_time": "2022-03-17T12:45:24.244Z"
   },
   {
    "duration": 376,
    "start_time": "2022-03-17T12:45:34.900Z"
   },
   {
    "duration": 370,
    "start_time": "2022-03-17T12:46:01.963Z"
   },
   {
    "duration": 364,
    "start_time": "2022-03-17T12:46:20.172Z"
   },
   {
    "duration": 370,
    "start_time": "2022-03-17T12:46:54.290Z"
   },
   {
    "duration": 2090,
    "start_time": "2022-03-17T13:39:53.445Z"
   },
   {
    "duration": 15,
    "start_time": "2022-03-17T13:40:05.150Z"
   },
   {
    "duration": 24,
    "start_time": "2022-03-17T13:40:32.416Z"
   },
   {
    "duration": 610,
    "start_time": "2022-03-17T13:42:20.139Z"
   },
   {
    "duration": 205,
    "start_time": "2022-03-17T13:47:21.997Z"
   },
   {
    "duration": 146,
    "start_time": "2022-03-17T13:47:39.453Z"
   },
   {
    "duration": 2,
    "start_time": "2022-03-17T13:47:53.468Z"
   },
   {
    "duration": 152,
    "start_time": "2022-03-17T13:47:53.472Z"
   },
   {
    "duration": 26,
    "start_time": "2022-03-17T13:47:53.626Z"
   },
   {
    "duration": 391,
    "start_time": "2022-03-17T13:47:53.653Z"
   },
   {
    "duration": 24,
    "start_time": "2022-03-17T13:47:54.046Z"
   },
   {
    "duration": 110,
    "start_time": "2022-03-17T13:47:57.796Z"
   },
   {
    "duration": 175,
    "start_time": "2022-03-17T13:48:03.045Z"
   },
   {
    "duration": 173,
    "start_time": "2022-03-17T13:48:11.245Z"
   },
   {
    "duration": 19,
    "start_time": "2022-03-17T13:49:05.740Z"
   },
   {
    "duration": 10,
    "start_time": "2022-03-17T13:50:14.339Z"
   },
   {
    "duration": 8,
    "start_time": "2022-03-17T13:50:47.482Z"
   },
   {
    "duration": 397,
    "start_time": "2022-03-17T13:50:54.776Z"
   },
   {
    "duration": 168,
    "start_time": "2022-03-17T13:50:55.175Z"
   },
   {
    "duration": 28,
    "start_time": "2022-03-17T13:50:55.345Z"
   },
   {
    "duration": 428,
    "start_time": "2022-03-17T13:50:55.375Z"
   },
   {
    "duration": 33,
    "start_time": "2022-03-17T13:50:55.805Z"
   },
   {
    "duration": 496,
    "start_time": "2022-03-17T13:50:59.490Z"
   },
   {
    "duration": 1186,
    "start_time": "2022-03-17T13:55:58.234Z"
   },
   {
    "duration": 153,
    "start_time": "2022-03-17T13:55:59.422Z"
   },
   {
    "duration": 26,
    "start_time": "2022-03-17T13:55:59.576Z"
   },
   {
    "duration": 378,
    "start_time": "2022-03-17T13:55:59.604Z"
   },
   {
    "duration": 27,
    "start_time": "2022-03-17T13:55:59.984Z"
   },
   {
    "duration": 441,
    "start_time": "2022-03-17T13:56:00.014Z"
   },
   {
    "duration": 469,
    "start_time": "2022-03-17T13:57:38.540Z"
   },
   {
    "duration": 77,
    "start_time": "2022-03-17T13:57:45.003Z"
   },
   {
    "duration": 116,
    "start_time": "2022-03-17T13:58:14.092Z"
   },
   {
    "duration": 114,
    "start_time": "2022-03-17T13:58:18.610Z"
   },
   {
    "duration": 14,
    "start_time": "2022-03-17T13:58:25.386Z"
   },
   {
    "duration": 69,
    "start_time": "2022-03-17T13:59:39.850Z"
   },
   {
    "duration": 55,
    "start_time": "2022-03-17T14:00:01.978Z"
   },
   {
    "duration": 49,
    "start_time": "2022-03-17T14:00:48.977Z"
   },
   {
    "duration": 28,
    "start_time": "2022-03-17T14:01:20.360Z"
   },
   {
    "duration": 361,
    "start_time": "2022-03-17T14:12:05.309Z"
   },
   {
    "duration": 62,
    "start_time": "2022-03-17T14:12:11.308Z"
   },
   {
    "duration": 75,
    "start_time": "2022-03-17T17:04:02.559Z"
   },
   {
    "duration": 2000,
    "start_time": "2022-03-17T17:04:10.784Z"
   },
   {
    "duration": 0,
    "start_time": "2022-03-17T17:04:12.786Z"
   },
   {
    "duration": 0,
    "start_time": "2022-03-17T17:04:12.788Z"
   },
   {
    "duration": 0,
    "start_time": "2022-03-17T17:04:12.791Z"
   },
   {
    "duration": 0,
    "start_time": "2022-03-17T17:04:12.793Z"
   },
   {
    "duration": 0,
    "start_time": "2022-03-17T17:04:12.794Z"
   },
   {
    "duration": 14,
    "start_time": "2022-03-17T17:04:21.093Z"
   },
   {
    "duration": 11,
    "start_time": "2022-03-17T17:04:32.910Z"
   },
   {
    "duration": 13,
    "start_time": "2022-03-17T17:04:53.722Z"
   },
   {
    "duration": 0,
    "start_time": "2022-03-17T17:04:53.738Z"
   },
   {
    "duration": 15,
    "start_time": "2022-03-17T17:04:53.742Z"
   },
   {
    "duration": 0,
    "start_time": "2022-03-17T17:04:53.760Z"
   },
   {
    "duration": 0,
    "start_time": "2022-03-17T17:04:53.762Z"
   },
   {
    "duration": 0,
    "start_time": "2022-03-17T17:04:53.764Z"
   },
   {
    "duration": 12,
    "start_time": "2022-03-17T17:04:58.900Z"
   },
   {
    "duration": 14,
    "start_time": "2022-03-17T17:05:38.166Z"
   },
   {
    "duration": 4803,
    "start_time": "2022-03-17T17:07:02.799Z"
   },
   {
    "duration": 4042,
    "start_time": "2022-03-17T17:07:17.936Z"
   },
   {
    "duration": 71,
    "start_time": "2022-03-17T17:07:35.712Z"
   },
   {
    "duration": 24,
    "start_time": "2022-03-17T17:07:43.224Z"
   },
   {
    "duration": 5,
    "start_time": "2022-03-17T17:07:47.036Z"
   },
   {
    "duration": 238,
    "start_time": "2022-03-17T17:07:47.044Z"
   },
   {
    "duration": 41,
    "start_time": "2022-03-17T17:07:47.284Z"
   },
   {
    "duration": 646,
    "start_time": "2022-03-17T17:07:47.328Z"
   },
   {
    "duration": 40,
    "start_time": "2022-03-17T17:07:47.978Z"
   },
   {
    "duration": 87,
    "start_time": "2022-03-17T17:07:48.021Z"
   },
   {
    "duration": 17995,
    "start_time": "2022-03-17T17:07:51.465Z"
   },
   {
    "duration": 15,
    "start_time": "2022-03-17T19:07:12.355Z"
   },
   {
    "duration": 72,
    "start_time": "2022-03-17T19:07:18.329Z"
   },
   {
    "duration": 18028,
    "start_time": "2022-03-17T19:13:02.992Z"
   },
   {
    "duration": 31,
    "start_time": "2022-03-17T19:21:28.610Z"
   },
   {
    "duration": 17,
    "start_time": "2022-03-17T19:21:48.259Z"
   },
   {
    "duration": 214,
    "start_time": "2022-03-17T19:22:33.862Z"
   },
   {
    "duration": 27984,
    "start_time": "2022-03-17T19:30:53.359Z"
   },
   {
    "duration": 25515,
    "start_time": "2022-03-17T19:31:58.567Z"
   },
   {
    "duration": 23090,
    "start_time": "2022-03-17T19:33:18.963Z"
   },
   {
    "duration": 25203,
    "start_time": "2022-03-17T19:34:23.291Z"
   },
   {
    "duration": 3812,
    "start_time": "2022-03-17T19:38:51.858Z"
   },
   {
    "duration": 15,
    "start_time": "2022-03-17T19:40:05.457Z"
   },
   {
    "duration": 220,
    "start_time": "2022-03-17T19:40:18.969Z"
   },
   {
    "duration": 3512,
    "start_time": "2022-03-17T19:41:04.634Z"
   },
   {
    "duration": 538,
    "start_time": "2022-03-17T19:41:16.115Z"
   },
   {
    "duration": 1220,
    "start_time": "2022-03-17T19:41:46.259Z"
   },
   {
    "duration": 218,
    "start_time": "2022-03-17T19:42:47.685Z"
   },
   {
    "duration": 224,
    "start_time": "2022-03-17T19:43:15.879Z"
   },
   {
    "duration": 199,
    "start_time": "2022-03-17T19:43:24.790Z"
   },
   {
    "duration": 279,
    "start_time": "2022-03-17T19:43:56.295Z"
   },
   {
    "duration": 32,
    "start_time": "2022-03-17T19:44:30.695Z"
   },
   {
    "duration": 4257,
    "start_time": "2022-03-17T19:48:03.155Z"
   },
   {
    "duration": 1698,
    "start_time": "2022-03-17T19:52:02.734Z"
   },
   {
    "duration": 237,
    "start_time": "2022-03-17T19:52:04.435Z"
   },
   {
    "duration": 47,
    "start_time": "2022-03-17T19:52:04.682Z"
   },
   {
    "duration": 677,
    "start_time": "2022-03-17T19:52:04.733Z"
   },
   {
    "duration": 32,
    "start_time": "2022-03-17T19:52:05.412Z"
   },
   {
    "duration": 59,
    "start_time": "2022-03-17T19:52:05.447Z"
   },
   {
    "duration": 16,
    "start_time": "2022-03-17T19:52:05.509Z"
   },
   {
    "duration": 201,
    "start_time": "2022-03-17T19:52:05.528Z"
   },
   {
    "duration": 896,
    "start_time": "2022-03-17T19:52:05.731Z"
   },
   {
    "duration": 799,
    "start_time": "2022-03-17T19:53:23.347Z"
   },
   {
    "duration": 437,
    "start_time": "2022-03-17T19:54:14.427Z"
   },
   {
    "duration": 345,
    "start_time": "2022-03-17T19:54:34.132Z"
   },
   {
    "duration": 15,
    "start_time": "2022-03-17T19:54:55.588Z"
   },
   {
    "duration": 162,
    "start_time": "2022-03-17T19:55:41.725Z"
   },
   {
    "duration": 15,
    "start_time": "2022-03-17T19:55:45.789Z"
   },
   {
    "duration": 151,
    "start_time": "2022-03-17T19:56:11.069Z"
   },
   {
    "duration": 22,
    "start_time": "2022-03-17T19:56:15.718Z"
   },
   {
    "duration": 32,
    "start_time": "2022-03-17T19:56:29.262Z"
   },
   {
    "duration": 26,
    "start_time": "2022-03-17T19:57:09.121Z"
   },
   {
    "duration": 225,
    "start_time": "2022-03-17T19:57:22.528Z"
   },
   {
    "duration": 212,
    "start_time": "2022-03-17T19:57:36.296Z"
   },
   {
    "duration": 279,
    "start_time": "2022-03-17T19:58:41.514Z"
   },
   {
    "duration": 319,
    "start_time": "2022-03-17T19:59:47.977Z"
   },
   {
    "duration": 217,
    "start_time": "2022-03-17T20:00:35.170Z"
   },
   {
    "duration": 361,
    "start_time": "2022-03-17T20:00:53.162Z"
   },
   {
    "duration": 159,
    "start_time": "2022-03-17T20:04:40.335Z"
   },
   {
    "duration": 218,
    "start_time": "2022-03-17T20:05:00.200Z"
   },
   {
    "duration": 20,
    "start_time": "2022-03-17T20:05:36.122Z"
   },
   {
    "duration": 219,
    "start_time": "2022-03-17T20:05:53.752Z"
   },
   {
    "duration": 285,
    "start_time": "2022-03-17T20:06:09.584Z"
   },
   {
    "duration": 232,
    "start_time": "2022-03-17T20:07:09.706Z"
   },
   {
    "duration": 402,
    "start_time": "2022-03-17T20:08:12.669Z"
   },
   {
    "duration": 164,
    "start_time": "2022-03-17T20:08:33.581Z"
   },
   {
    "duration": 413,
    "start_time": "2022-03-17T20:08:38.260Z"
   },
   {
    "duration": 314,
    "start_time": "2022-03-17T20:08:52.925Z"
   },
   {
    "duration": 422,
    "start_time": "2022-03-17T20:09:01.252Z"
   },
   {
    "duration": 325,
    "start_time": "2022-03-17T20:09:17.109Z"
   },
   {
    "duration": 249,
    "start_time": "2022-03-17T20:29:44.606Z"
   },
   {
    "duration": 378,
    "start_time": "2022-03-17T20:29:59.399Z"
   },
   {
    "duration": 380,
    "start_time": "2022-03-17T20:30:23.937Z"
   },
   {
    "duration": 150,
    "start_time": "2022-03-17T20:33:44.779Z"
   },
   {
    "duration": 354,
    "start_time": "2022-03-17T20:33:54.795Z"
   },
   {
    "duration": 505,
    "start_time": "2022-03-17T20:34:16.396Z"
   },
   {
    "duration": 358,
    "start_time": "2022-03-17T20:34:26.804Z"
   },
   {
    "duration": 360,
    "start_time": "2022-03-17T20:34:31.436Z"
   },
   {
    "duration": 340,
    "start_time": "2022-03-17T20:34:58.164Z"
   },
   {
    "duration": 450,
    "start_time": "2022-03-17T20:35:06.125Z"
   },
   {
    "duration": 580,
    "start_time": "2022-03-17T20:35:20.565Z"
   },
   {
    "duration": 489,
    "start_time": "2022-03-17T20:35:56.022Z"
   },
   {
    "duration": 13,
    "start_time": "2022-03-17T20:36:28.230Z"
   },
   {
    "duration": 328,
    "start_time": "2022-03-17T20:36:47.903Z"
   },
   {
    "duration": 147,
    "start_time": "2022-03-17T20:36:57.999Z"
   },
   {
    "duration": 350,
    "start_time": "2022-03-17T20:37:21.047Z"
   },
   {
    "duration": 343,
    "start_time": "2022-03-17T20:37:32.512Z"
   },
   {
    "duration": 631,
    "start_time": "2022-03-17T20:38:13.329Z"
   },
   {
    "duration": 183,
    "start_time": "2022-03-17T20:38:19.888Z"
   },
   {
    "duration": 102,
    "start_time": "2022-03-17T20:39:17.954Z"
   },
   {
    "duration": 68,
    "start_time": "2022-03-17T20:39:35.244Z"
   },
   {
    "duration": 19,
    "start_time": "2022-03-17T20:39:50.541Z"
   },
   {
    "duration": 13,
    "start_time": "2022-03-17T20:40:08.628Z"
   },
   {
    "duration": 2041,
    "start_time": "2022-03-17T20:41:12.509Z"
   },
   {
    "duration": 2908,
    "start_time": "2022-03-17T20:41:30.990Z"
   },
   {
    "duration": 9,
    "start_time": "2022-03-17T20:41:47.206Z"
   },
   {
    "duration": 14,
    "start_time": "2022-03-17T20:42:18.590Z"
   },
   {
    "duration": 45,
    "start_time": "2022-03-17T20:49:56.999Z"
   },
   {
    "duration": 7,
    "start_time": "2022-03-17T20:50:18.312Z"
   },
   {
    "duration": 19,
    "start_time": "2022-03-17T20:50:39.160Z"
   },
   {
    "duration": 51,
    "start_time": "2022-03-17T20:52:07.739Z"
   },
   {
    "duration": 48,
    "start_time": "2022-03-17T21:01:50.982Z"
   },
   {
    "duration": 46,
    "start_time": "2022-03-17T21:02:14.743Z"
   },
   {
    "duration": 7,
    "start_time": "2022-03-17T21:02:22.213Z"
   },
   {
    "duration": 217,
    "start_time": "2022-03-17T21:02:22.535Z"
   },
   {
    "duration": 49,
    "start_time": "2022-03-17T21:02:26.062Z"
   },
   {
    "duration": 56,
    "start_time": "2022-03-17T21:02:45.921Z"
   },
   {
    "duration": 118,
    "start_time": "2022-03-17T21:06:14.173Z"
   },
   {
    "duration": 167,
    "start_time": "2022-03-17T21:06:30.304Z"
   },
   {
    "duration": 125,
    "start_time": "2022-03-17T21:06:45.724Z"
   },
   {
    "duration": 133,
    "start_time": "2022-03-17T21:08:51.249Z"
   },
   {
    "duration": 107,
    "start_time": "2022-03-17T21:09:05.607Z"
   },
   {
    "duration": 81,
    "start_time": "2022-03-17T21:09:15.574Z"
   },
   {
    "duration": 80,
    "start_time": "2022-03-17T21:09:35.396Z"
   },
   {
    "duration": 180,
    "start_time": "2022-03-17T21:12:21.684Z"
   },
   {
    "duration": 113,
    "start_time": "2022-03-17T21:13:19.461Z"
   },
   {
    "duration": 93,
    "start_time": "2022-03-17T21:14:24.693Z"
   },
   {
    "duration": 98,
    "start_time": "2022-03-17T21:14:32.534Z"
   },
   {
    "duration": 114,
    "start_time": "2022-03-17T21:15:01.460Z"
   },
   {
    "duration": 129,
    "start_time": "2022-03-17T21:15:12.703Z"
   },
   {
    "duration": 85,
    "start_time": "2022-03-17T21:15:44.800Z"
   },
   {
    "duration": 97,
    "start_time": "2022-03-17T21:16:20.745Z"
   },
   {
    "duration": 115,
    "start_time": "2022-03-17T21:16:52.985Z"
   },
   {
    "duration": 107,
    "start_time": "2022-03-17T21:20:05.332Z"
   },
   {
    "duration": 210,
    "start_time": "2022-03-17T21:20:56.880Z"
   },
   {
    "duration": 2755,
    "start_time": "2022-03-17T21:23:14.400Z"
   },
   {
    "duration": 108,
    "start_time": "2022-03-17T21:24:55.423Z"
   },
   {
    "duration": 780,
    "start_time": "2022-03-17T21:25:30.435Z"
   },
   {
    "duration": 103,
    "start_time": "2022-03-17T21:27:03.605Z"
   },
   {
    "duration": 143,
    "start_time": "2022-03-17T21:28:58.295Z"
   },
   {
    "duration": 179,
    "start_time": "2022-03-17T21:29:04.135Z"
   },
   {
    "duration": 111,
    "start_time": "2022-03-17T21:29:13.440Z"
   },
   {
    "duration": 60,
    "start_time": "2022-03-17T21:29:40.016Z"
   },
   {
    "duration": 758,
    "start_time": "2022-03-17T21:30:05.130Z"
   },
   {
    "duration": 801,
    "start_time": "2022-03-17T21:30:53.410Z"
   },
   {
    "duration": 740,
    "start_time": "2022-03-17T21:32:16.228Z"
   },
   {
    "duration": 784,
    "start_time": "2022-03-17T21:36:07.168Z"
   },
   {
    "duration": 924,
    "start_time": "2022-03-17T21:36:29.081Z"
   },
   {
    "duration": 855,
    "start_time": "2022-03-17T21:36:53.522Z"
   },
   {
    "duration": 125,
    "start_time": "2022-03-17T21:37:01.801Z"
   },
   {
    "duration": 165,
    "start_time": "2022-03-17T21:37:18.610Z"
   },
   {
    "duration": 82,
    "start_time": "2022-03-17T21:37:24.945Z"
   },
   {
    "duration": 776,
    "start_time": "2022-03-17T21:38:22.186Z"
   },
   {
    "duration": 84,
    "start_time": "2022-03-17T21:40:04.973Z"
   },
   {
    "duration": 762,
    "start_time": "2022-03-17T21:40:27.517Z"
   },
   {
    "duration": 1527,
    "start_time": "2022-03-17T21:42:02.638Z"
   },
   {
    "duration": 95,
    "start_time": "2022-03-17T21:43:00.794Z"
   },
   {
    "duration": 59,
    "start_time": "2022-03-17T21:43:18.848Z"
   },
   {
    "duration": 29,
    "start_time": "2022-03-17T21:43:51.058Z"
   },
   {
    "duration": 24,
    "start_time": "2022-03-17T21:43:59.650Z"
   },
   {
    "duration": 51,
    "start_time": "2022-03-17T21:44:12.122Z"
   },
   {
    "duration": 50,
    "start_time": "2022-03-17T21:45:19.140Z"
   },
   {
    "duration": 1545,
    "start_time": "2022-03-17T21:46:23.879Z"
   },
   {
    "duration": 222,
    "start_time": "2022-03-17T21:46:25.427Z"
   },
   {
    "duration": 193,
    "start_time": "2022-03-17T21:46:25.651Z"
   },
   {
    "duration": 0,
    "start_time": "2022-03-17T21:46:25.847Z"
   },
   {
    "duration": 0,
    "start_time": "2022-03-17T21:46:25.848Z"
   },
   {
    "duration": 0,
    "start_time": "2022-03-17T21:46:25.850Z"
   },
   {
    "duration": 0,
    "start_time": "2022-03-17T21:46:25.852Z"
   },
   {
    "duration": 0,
    "start_time": "2022-03-17T21:46:25.853Z"
   },
   {
    "duration": 0,
    "start_time": "2022-03-17T21:46:25.855Z"
   },
   {
    "duration": 0,
    "start_time": "2022-03-17T21:46:25.857Z"
   },
   {
    "duration": 53,
    "start_time": "2022-03-17T21:47:40.686Z"
   },
   {
    "duration": 24,
    "start_time": "2022-03-17T21:47:48.750Z"
   },
   {
    "duration": 62,
    "start_time": "2022-03-17T21:47:57.198Z"
   },
   {
    "duration": 35,
    "start_time": "2022-03-17T21:49:34.944Z"
   },
   {
    "duration": 55,
    "start_time": "2022-03-17T21:49:58.593Z"
   },
   {
    "duration": 151,
    "start_time": "2022-03-17T21:51:39.091Z"
   },
   {
    "duration": 49,
    "start_time": "2022-03-17T21:52:45.364Z"
   },
   {
    "duration": 59,
    "start_time": "2022-03-17T21:53:00.317Z"
   },
   {
    "duration": 71,
    "start_time": "2022-03-17T21:54:27.966Z"
   },
   {
    "duration": 57,
    "start_time": "2022-03-17T21:54:35.230Z"
   },
   {
    "duration": 46,
    "start_time": "2022-03-17T21:55:59.560Z"
   },
   {
    "duration": 48,
    "start_time": "2022-03-17T21:56:05.089Z"
   },
   {
    "duration": 63,
    "start_time": "2022-03-17T21:56:14.555Z"
   },
   {
    "duration": 143,
    "start_time": "2022-03-17T21:59:32.789Z"
   },
   {
    "duration": 70,
    "start_time": "2022-03-17T21:59:41.252Z"
   },
   {
    "duration": 65,
    "start_time": "2022-03-17T22:04:43.282Z"
   },
   {
    "duration": 71,
    "start_time": "2022-03-17T22:06:19.116Z"
   },
   {
    "duration": 70,
    "start_time": "2022-03-17T22:06:37.767Z"
   },
   {
    "duration": 165,
    "start_time": "2022-03-17T22:08:11.176Z"
   },
   {
    "duration": 220,
    "start_time": "2022-03-17T22:08:29.264Z"
   },
   {
    "duration": 160,
    "start_time": "2022-03-17T22:08:42.160Z"
   },
   {
    "duration": 208,
    "start_time": "2022-03-17T22:08:52.775Z"
   },
   {
    "duration": 218,
    "start_time": "2022-03-17T22:09:01.824Z"
   },
   {
    "duration": 148,
    "start_time": "2022-03-17T22:09:38.128Z"
   },
   {
    "duration": 2823,
    "start_time": "2022-03-17T22:09:43.025Z"
   },
   {
    "duration": 3082,
    "start_time": "2022-03-17T22:10:00.273Z"
   },
   {
    "duration": 8,
    "start_time": "2022-03-17T22:10:10.530Z"
   },
   {
    "duration": 88,
    "start_time": "2022-03-17T22:10:19.980Z"
   },
   {
    "duration": 77,
    "start_time": "2022-03-17T22:10:37.729Z"
   },
   {
    "duration": 74,
    "start_time": "2022-03-17T22:11:07.218Z"
   },
   {
    "duration": 219,
    "start_time": "2022-03-17T22:11:45.972Z"
   },
   {
    "duration": 191,
    "start_time": "2022-03-17T22:11:58.195Z"
   },
   {
    "duration": 202,
    "start_time": "2022-03-17T22:12:34.597Z"
   },
   {
    "duration": 193,
    "start_time": "2022-03-17T22:12:55.261Z"
   },
   {
    "duration": 198,
    "start_time": "2022-03-17T22:13:19.006Z"
   },
   {
    "duration": 202,
    "start_time": "2022-03-17T22:13:39.430Z"
   },
   {
    "duration": 93,
    "start_time": "2022-03-17T22:14:02.326Z"
   },
   {
    "duration": 65,
    "start_time": "2022-03-17T22:14:15.840Z"
   },
   {
    "duration": 114,
    "start_time": "2022-03-18T08:38:20.487Z"
   },
   {
    "duration": 1873,
    "start_time": "2022-03-18T08:38:25.485Z"
   },
   {
    "duration": 0,
    "start_time": "2022-03-18T08:38:27.361Z"
   },
   {
    "duration": 0,
    "start_time": "2022-03-18T08:38:27.363Z"
   },
   {
    "duration": 0,
    "start_time": "2022-03-18T08:38:27.365Z"
   },
   {
    "duration": 0,
    "start_time": "2022-03-18T08:38:27.367Z"
   },
   {
    "duration": 0,
    "start_time": "2022-03-18T08:38:27.369Z"
   },
   {
    "duration": 0,
    "start_time": "2022-03-18T08:38:27.384Z"
   },
   {
    "duration": 0,
    "start_time": "2022-03-18T08:38:27.385Z"
   },
   {
    "duration": 0,
    "start_time": "2022-03-18T08:38:27.387Z"
   },
   {
    "duration": 12,
    "start_time": "2022-03-18T08:38:34.622Z"
   },
   {
    "duration": 13,
    "start_time": "2022-03-18T08:38:46.494Z"
   },
   {
    "duration": 2124,
    "start_time": "2022-03-18T08:38:58.477Z"
   },
   {
    "duration": 0,
    "start_time": "2022-03-18T08:39:00.604Z"
   },
   {
    "duration": 0,
    "start_time": "2022-03-18T08:39:00.606Z"
   },
   {
    "duration": 0,
    "start_time": "2022-03-18T08:39:00.608Z"
   },
   {
    "duration": 0,
    "start_time": "2022-03-18T08:39:00.610Z"
   },
   {
    "duration": 0,
    "start_time": "2022-03-18T08:39:00.612Z"
   },
   {
    "duration": 0,
    "start_time": "2022-03-18T08:39:00.614Z"
   },
   {
    "duration": 0,
    "start_time": "2022-03-18T08:39:00.616Z"
   },
   {
    "duration": 0,
    "start_time": "2022-03-18T08:39:00.617Z"
   },
   {
    "duration": 0,
    "start_time": "2022-03-18T08:39:00.618Z"
   },
   {
    "duration": 1657,
    "start_time": "2022-03-18T08:39:24.994Z"
   },
   {
    "duration": 0,
    "start_time": "2022-03-18T08:39:26.655Z"
   },
   {
    "duration": 0,
    "start_time": "2022-03-18T08:39:26.657Z"
   },
   {
    "duration": 0,
    "start_time": "2022-03-18T08:39:26.660Z"
   },
   {
    "duration": 0,
    "start_time": "2022-03-18T08:39:26.662Z"
   },
   {
    "duration": 0,
    "start_time": "2022-03-18T08:39:26.664Z"
   },
   {
    "duration": 1,
    "start_time": "2022-03-18T08:39:26.684Z"
   },
   {
    "duration": 0,
    "start_time": "2022-03-18T08:39:26.687Z"
   },
   {
    "duration": 0,
    "start_time": "2022-03-18T08:39:26.689Z"
   },
   {
    "duration": 0,
    "start_time": "2022-03-18T08:39:26.691Z"
   },
   {
    "duration": 11,
    "start_time": "2022-03-18T08:39:37.066Z"
   },
   {
    "duration": 14,
    "start_time": "2022-03-18T08:39:43.258Z"
   },
   {
    "duration": 22,
    "start_time": "2022-03-18T08:39:48.779Z"
   },
   {
    "duration": 237,
    "start_time": "2022-03-18T08:39:54.786Z"
   },
   {
    "duration": 19,
    "start_time": "2022-03-18T08:40:13.897Z"
   },
   {
    "duration": 1788,
    "start_time": "2022-03-18T08:40:46.585Z"
   },
   {
    "duration": 1665,
    "start_time": "2022-03-18T08:41:46.721Z"
   },
   {
    "duration": 1459,
    "start_time": "2022-03-18T08:43:33.359Z"
   },
   {
    "duration": 6836,
    "start_time": "2022-03-18T08:43:52.901Z"
   },
   {
    "duration": 75,
    "start_time": "2022-03-18T09:00:49.304Z"
   },
   {
    "duration": 284,
    "start_time": "2022-03-18T09:00:49.382Z"
   },
   {
    "duration": 116,
    "start_time": "2022-03-18T09:00:49.669Z"
   },
   {
    "duration": 617,
    "start_time": "2022-03-18T09:00:49.788Z"
   },
   {
    "duration": 32,
    "start_time": "2022-03-18T09:00:50.410Z"
   },
   {
    "duration": 62,
    "start_time": "2022-03-18T09:00:50.446Z"
   },
   {
    "duration": 20,
    "start_time": "2022-03-18T09:00:50.511Z"
   },
   {
    "duration": 162,
    "start_time": "2022-03-18T09:00:50.534Z"
   },
   {
    "duration": 399,
    "start_time": "2022-03-18T09:00:50.701Z"
   },
   {
    "duration": 384,
    "start_time": "2022-03-18T09:01:00.376Z"
   },
   {
    "duration": 147,
    "start_time": "2022-03-18T09:01:18.627Z"
   },
   {
    "duration": 334,
    "start_time": "2022-03-18T09:01:22.915Z"
   },
   {
    "duration": 425,
    "start_time": "2022-03-18T09:01:29.875Z"
   },
   {
    "duration": 373,
    "start_time": "2022-03-18T09:17:27.786Z"
   },
   {
    "duration": 153,
    "start_time": "2022-03-18T09:17:39.722Z"
   },
   {
    "duration": 318,
    "start_time": "2022-03-18T09:17:50.484Z"
   },
   {
    "duration": 168,
    "start_time": "2022-03-18T09:18:01.482Z"
   },
   {
    "duration": 337,
    "start_time": "2022-03-18T09:18:26.865Z"
   },
   {
    "duration": 146,
    "start_time": "2022-03-18T09:18:40.602Z"
   },
   {
    "duration": 324,
    "start_time": "2022-03-18T09:18:49.024Z"
   },
   {
    "duration": 464,
    "start_time": "2022-03-18T09:18:57.352Z"
   },
   {
    "duration": 139,
    "start_time": "2022-03-18T09:19:26.376Z"
   },
   {
    "duration": 658,
    "start_time": "2022-03-18T09:19:35.496Z"
   },
   {
    "duration": 506,
    "start_time": "2022-03-18T09:26:39.536Z"
   },
   {
    "duration": 490,
    "start_time": "2022-03-18T09:26:54.704Z"
   },
   {
    "duration": 3243,
    "start_time": "2022-03-18T09:27:13.152Z"
   },
   {
    "duration": 1477,
    "start_time": "2022-03-18T09:31:06.814Z"
   },
   {
    "duration": 242,
    "start_time": "2022-03-18T09:31:08.294Z"
   },
   {
    "duration": 88,
    "start_time": "2022-03-18T09:31:08.539Z"
   },
   {
    "duration": 553,
    "start_time": "2022-03-18T09:31:08.629Z"
   },
   {
    "duration": 36,
    "start_time": "2022-03-18T09:31:09.187Z"
   },
   {
    "duration": 33,
    "start_time": "2022-03-18T09:31:09.225Z"
   },
   {
    "duration": 34,
    "start_time": "2022-03-18T09:31:09.260Z"
   },
   {
    "duration": 154,
    "start_time": "2022-03-18T09:31:09.296Z"
   },
   {
    "duration": 390,
    "start_time": "2022-03-18T09:31:09.452Z"
   },
   {
    "duration": 4529,
    "start_time": "2022-03-18T09:31:09.844Z"
   },
   {
    "duration": 2342,
    "start_time": "2022-03-18T09:31:54.830Z"
   },
   {
    "duration": 491,
    "start_time": "2022-03-18T09:32:10.541Z"
   },
   {
    "duration": 351,
    "start_time": "2022-03-18T09:34:59.034Z"
   },
   {
    "duration": 2164,
    "start_time": "2022-03-18T09:36:57.889Z"
   },
   {
    "duration": 358,
    "start_time": "2022-03-18T09:58:26.673Z"
   },
   {
    "duration": 326,
    "start_time": "2022-03-18T09:58:52.585Z"
   },
   {
    "duration": 327,
    "start_time": "2022-03-18T10:05:56.114Z"
   },
   {
    "duration": 339,
    "start_time": "2022-03-18T10:06:37.530Z"
   },
   {
    "duration": 1560,
    "start_time": "2022-03-18T10:07:23.345Z"
   },
   {
    "duration": 10052,
    "start_time": "2022-03-18T10:07:59.687Z"
   },
   {
    "duration": 12473,
    "start_time": "2022-03-18T10:12:51.835Z"
   },
   {
    "duration": 202,
    "start_time": "2022-03-18T10:15:02.272Z"
   },
   {
    "duration": 151,
    "start_time": "2022-03-18T10:16:48.375Z"
   },
   {
    "duration": 16,
    "start_time": "2022-03-18T10:16:53.982Z"
   },
   {
    "duration": 4,
    "start_time": "2022-03-18T10:17:00.694Z"
   },
   {
    "duration": 226,
    "start_time": "2022-03-18T10:17:00.701Z"
   },
   {
    "duration": 87,
    "start_time": "2022-03-18T10:17:00.931Z"
   },
   {
    "duration": 588,
    "start_time": "2022-03-18T10:17:01.020Z"
   },
   {
    "duration": 31,
    "start_time": "2022-03-18T10:17:01.611Z"
   },
   {
    "duration": 56,
    "start_time": "2022-03-18T10:17:01.644Z"
   },
   {
    "duration": 14,
    "start_time": "2022-03-18T10:17:01.702Z"
   },
   {
    "duration": 166,
    "start_time": "2022-03-18T10:17:01.719Z"
   },
   {
    "duration": 365,
    "start_time": "2022-03-18T10:17:01.888Z"
   },
   {
    "duration": 396,
    "start_time": "2022-03-18T10:17:02.255Z"
   },
   {
    "duration": 20,
    "start_time": "2022-03-18T10:17:15.688Z"
   },
   {
    "duration": 38,
    "start_time": "2022-03-18T10:19:02.436Z"
   },
   {
    "duration": 286,
    "start_time": "2022-03-18T10:29:02.394Z"
   },
   {
    "duration": 69,
    "start_time": "2022-03-18T10:29:07.618Z"
   },
   {
    "duration": 7,
    "start_time": "2022-03-18T10:35:31.020Z"
   },
   {
    "duration": 1258,
    "start_time": "2022-03-18T10:35:38.284Z"
   },
   {
    "duration": 161,
    "start_time": "2022-03-18T10:38:05.562Z"
   },
   {
    "duration": 4,
    "start_time": "2022-03-18T10:38:20.690Z"
   },
   {
    "duration": 223,
    "start_time": "2022-03-18T10:38:20.698Z"
   },
   {
    "duration": 92,
    "start_time": "2022-03-18T10:38:20.924Z"
   },
   {
    "duration": 603,
    "start_time": "2022-03-18T10:38:21.019Z"
   },
   {
    "duration": 32,
    "start_time": "2022-03-18T10:38:21.626Z"
   },
   {
    "duration": 56,
    "start_time": "2022-03-18T10:38:21.661Z"
   },
   {
    "duration": 14,
    "start_time": "2022-03-18T10:38:21.720Z"
   },
   {
    "duration": 189,
    "start_time": "2022-03-18T10:38:21.736Z"
   },
   {
    "duration": 391,
    "start_time": "2022-03-18T10:38:21.927Z"
   },
   {
    "duration": 384,
    "start_time": "2022-03-18T10:38:22.320Z"
   },
   {
    "duration": 5,
    "start_time": "2022-03-18T10:38:38.521Z"
   },
   {
    "duration": 4,
    "start_time": "2022-03-18T10:39:29.816Z"
   },
   {
    "duration": 4,
    "start_time": "2022-03-18T10:39:46.200Z"
   },
   {
    "duration": 220,
    "start_time": "2022-03-18T10:39:46.207Z"
   },
   {
    "duration": 82,
    "start_time": "2022-03-18T10:39:46.429Z"
   },
   {
    "duration": 590,
    "start_time": "2022-03-18T10:39:46.513Z"
   },
   {
    "duration": 32,
    "start_time": "2022-03-18T10:39:47.107Z"
   },
   {
    "duration": 60,
    "start_time": "2022-03-18T10:39:47.141Z"
   },
   {
    "duration": 13,
    "start_time": "2022-03-18T10:39:47.204Z"
   },
   {
    "duration": 181,
    "start_time": "2022-03-18T10:39:47.219Z"
   },
   {
    "duration": 391,
    "start_time": "2022-03-18T10:39:47.402Z"
   },
   {
    "duration": 350,
    "start_time": "2022-03-18T10:39:47.796Z"
   },
   {
    "duration": 323,
    "start_time": "2022-03-18T10:39:51.776Z"
   },
   {
    "duration": 311,
    "start_time": "2022-03-18T10:40:07.336Z"
   },
   {
    "duration": 65,
    "start_time": "2022-03-18T10:40:26.935Z"
   },
   {
    "duration": 23,
    "start_time": "2022-03-18T10:41:50.854Z"
   },
   {
    "duration": 76,
    "start_time": "2022-03-18T10:42:27.349Z"
   },
   {
    "duration": 75,
    "start_time": "2022-03-18T10:42:35.593Z"
   },
   {
    "duration": 77,
    "start_time": "2022-03-18T10:42:47.453Z"
   },
   {
    "duration": 70,
    "start_time": "2022-03-18T10:43:44.532Z"
   },
   {
    "duration": 1329,
    "start_time": "2022-03-18T10:43:51.564Z"
   },
   {
    "duration": 74,
    "start_time": "2022-03-18T10:45:46.674Z"
   },
   {
    "duration": 38,
    "start_time": "2022-03-18T10:46:15.561Z"
   },
   {
    "duration": 30,
    "start_time": "2022-03-18T10:46:28.633Z"
   },
   {
    "duration": 1450,
    "start_time": "2022-03-18T10:46:38.161Z"
   },
   {
    "duration": 352,
    "start_time": "2022-03-18T10:54:33.288Z"
   },
   {
    "duration": 358,
    "start_time": "2022-03-18T10:55:00.344Z"
   },
   {
    "duration": 351,
    "start_time": "2022-03-18T10:55:27.582Z"
   },
   {
    "duration": 390,
    "start_time": "2022-03-18T10:56:20.383Z"
   },
   {
    "duration": 355,
    "start_time": "2022-03-18T10:56:34.966Z"
   },
   {
    "duration": 769,
    "start_time": "2022-03-18T10:58:01.973Z"
   },
   {
    "duration": 0,
    "start_time": "2022-03-18T10:59:09.251Z"
   },
   {
    "duration": 1304,
    "start_time": "2022-03-18T10:59:11.365Z"
   },
   {
    "duration": 5,
    "start_time": "2022-03-18T10:59:27.131Z"
   },
   {
    "duration": 16628,
    "start_time": "2022-03-18T10:59:49.699Z"
   },
   {
    "duration": 2944,
    "start_time": "2022-03-18T11:04:34.317Z"
   },
   {
    "duration": 352,
    "start_time": "2022-03-18T11:16:13.137Z"
   },
   {
    "duration": 351,
    "start_time": "2022-03-18T11:17:16.247Z"
   },
   {
    "duration": 1699,
    "start_time": "2022-03-18T11:17:54.099Z"
   },
   {
    "duration": 25,
    "start_time": "2022-03-18T11:19:39.429Z"
   },
   {
    "duration": 23,
    "start_time": "2022-03-18T11:19:45.614Z"
   },
   {
    "duration": 222,
    "start_time": "2022-03-18T11:20:05.525Z"
   },
   {
    "duration": 772,
    "start_time": "2022-03-18T11:20:12.733Z"
   },
   {
    "duration": 214,
    "start_time": "2022-03-18T11:20:18.204Z"
   },
   {
    "duration": 757,
    "start_time": "2022-03-18T11:20:46.020Z"
   },
   {
    "duration": 177,
    "start_time": "2022-03-18T11:28:25.860Z"
   },
   {
    "duration": 19,
    "start_time": "2022-03-18T11:28:34.044Z"
   },
   {
    "duration": 336,
    "start_time": "2022-03-18T11:39:47.689Z"
   },
   {
    "duration": 318,
    "start_time": "2022-03-18T11:39:58.257Z"
   },
   {
    "duration": 346,
    "start_time": "2022-03-18T11:40:01.504Z"
   },
   {
    "duration": 9,
    "start_time": "2022-03-18T11:50:08.896Z"
   },
   {
    "duration": 8,
    "start_time": "2022-03-18T11:50:19.637Z"
   },
   {
    "duration": 8,
    "start_time": "2022-03-18T11:50:51.677Z"
   },
   {
    "duration": 4,
    "start_time": "2022-03-18T11:50:55.049Z"
   },
   {
    "duration": 203,
    "start_time": "2022-03-18T11:50:55.055Z"
   },
   {
    "duration": 75,
    "start_time": "2022-03-18T11:50:55.260Z"
   },
   {
    "duration": 545,
    "start_time": "2022-03-18T11:50:55.338Z"
   },
   {
    "duration": 30,
    "start_time": "2022-03-18T11:50:55.887Z"
   },
   {
    "duration": 32,
    "start_time": "2022-03-18T11:50:55.919Z"
   },
   {
    "duration": 39,
    "start_time": "2022-03-18T11:50:55.954Z"
   },
   {
    "duration": 156,
    "start_time": "2022-03-18T11:50:55.995Z"
   },
   {
    "duration": 331,
    "start_time": "2022-03-18T11:50:56.154Z"
   },
   {
    "duration": 343,
    "start_time": "2022-03-18T11:50:56.487Z"
   },
   {
    "duration": 352,
    "start_time": "2022-03-18T11:50:56.833Z"
   },
   {
    "duration": 9,
    "start_time": "2022-03-18T11:50:57.187Z"
   },
   {
    "duration": 7,
    "start_time": "2022-03-18T11:50:59.806Z"
   },
   {
    "duration": 217,
    "start_time": "2022-03-18T11:51:05.493Z"
   },
   {
    "duration": 285,
    "start_time": "2022-03-18T11:51:19.469Z"
   },
   {
    "duration": 1193,
    "start_time": "2022-03-18T11:51:25.716Z"
   },
   {
    "duration": 5229,
    "start_time": "2022-03-18T11:52:30.484Z"
   },
   {
    "duration": 5275,
    "start_time": "2022-03-18T11:54:35.489Z"
   },
   {
    "duration": 2335,
    "start_time": "2022-03-18T12:03:43.775Z"
   },
   {
    "duration": 15,
    "start_time": "2022-03-18T13:02:55.609Z"
   },
   {
    "duration": 8,
    "start_time": "2022-03-18T13:03:04.129Z"
   },
   {
    "duration": 1660,
    "start_time": "2022-03-18T13:04:39.707Z"
   },
   {
    "duration": 230,
    "start_time": "2022-03-18T13:04:41.369Z"
   },
   {
    "duration": 100,
    "start_time": "2022-03-18T13:04:41.606Z"
   },
   {
    "duration": 561,
    "start_time": "2022-03-18T13:04:41.709Z"
   },
   {
    "duration": 37,
    "start_time": "2022-03-18T13:04:42.273Z"
   },
   {
    "duration": 32,
    "start_time": "2022-03-18T13:04:42.312Z"
   },
   {
    "duration": 37,
    "start_time": "2022-03-18T13:04:42.347Z"
   },
   {
    "duration": 144,
    "start_time": "2022-03-18T13:04:42.387Z"
   },
   {
    "duration": 357,
    "start_time": "2022-03-18T13:04:42.536Z"
   },
   {
    "duration": 352,
    "start_time": "2022-03-18T13:04:42.896Z"
   },
   {
    "duration": 367,
    "start_time": "2022-03-18T13:04:43.251Z"
   },
   {
    "duration": 74,
    "start_time": "2022-03-18T13:05:01.729Z"
   },
   {
    "duration": 1553,
    "start_time": "2022-03-18T13:05:17.805Z"
   },
   {
    "duration": 226,
    "start_time": "2022-03-18T13:05:19.360Z"
   },
   {
    "duration": 72,
    "start_time": "2022-03-18T13:05:19.589Z"
   },
   {
    "duration": 558,
    "start_time": "2022-03-18T13:05:19.682Z"
   },
   {
    "duration": 45,
    "start_time": "2022-03-18T13:05:20.242Z"
   },
   {
    "duration": 41,
    "start_time": "2022-03-18T13:05:20.290Z"
   },
   {
    "duration": 14,
    "start_time": "2022-03-18T13:05:20.334Z"
   },
   {
    "duration": 183,
    "start_time": "2022-03-18T13:05:20.350Z"
   },
   {
    "duration": 371,
    "start_time": "2022-03-18T13:05:20.536Z"
   },
   {
    "duration": 360,
    "start_time": "2022-03-18T13:05:20.911Z"
   },
   {
    "duration": 376,
    "start_time": "2022-03-18T13:05:21.273Z"
   },
   {
    "duration": 1667,
    "start_time": "2022-03-18T13:05:21.652Z"
   },
   {
    "duration": 546,
    "start_time": "2022-03-18T13:07:17.141Z"
   },
   {
    "duration": 1443,
    "start_time": "2022-03-18T13:07:24.784Z"
   },
   {
    "duration": 145,
    "start_time": "2022-03-18T13:28:10.911Z"
   },
   {
    "duration": 158,
    "start_time": "2022-03-18T13:28:36.329Z"
   },
   {
    "duration": 151,
    "start_time": "2022-03-18T13:28:42.054Z"
   },
   {
    "duration": 1399,
    "start_time": "2022-03-18T13:32:11.035Z"
   },
   {
    "duration": 1436,
    "start_time": "2022-03-18T13:35:03.873Z"
   },
   {
    "duration": 30,
    "start_time": "2022-03-18T13:36:18.791Z"
   },
   {
    "duration": 1612,
    "start_time": "2022-03-18T13:37:13.321Z"
   },
   {
    "duration": 830,
    "start_time": "2022-03-18T13:37:34.110Z"
   },
   {
    "duration": 1566,
    "start_time": "2022-03-18T13:39:09.645Z"
   },
   {
    "duration": 1604,
    "start_time": "2022-03-18T13:39:18.659Z"
   },
   {
    "duration": 1729,
    "start_time": "2022-03-18T13:39:30.429Z"
   },
   {
    "duration": 1628,
    "start_time": "2022-03-18T13:39:35.796Z"
   },
   {
    "duration": 2710,
    "start_time": "2022-03-18T13:39:41.147Z"
   },
   {
    "duration": 746,
    "start_time": "2022-03-18T13:39:49.180Z"
   },
   {
    "duration": 1472,
    "start_time": "2022-03-18T13:40:04.284Z"
   },
   {
    "duration": 289,
    "start_time": "2022-03-20T10:35:33.497Z"
   },
   {
    "duration": 364,
    "start_time": "2022-03-20T10:35:39.669Z"
   },
   {
    "duration": 2020,
    "start_time": "2022-03-20T10:35:53.457Z"
   },
   {
    "duration": 5138,
    "start_time": "2022-03-20T10:36:45.134Z"
   },
   {
    "duration": 55,
    "start_time": "2022-03-20T10:36:52.182Z"
   },
   {
    "duration": 210,
    "start_time": "2022-03-20T10:36:53.847Z"
   },
   {
    "duration": 168,
    "start_time": "2022-03-20T10:37:00.182Z"
   },
   {
    "duration": 170,
    "start_time": "2022-03-20T10:37:38.872Z"
   },
   {
    "duration": 178,
    "start_time": "2022-03-20T10:37:50.167Z"
   },
   {
    "duration": 248,
    "start_time": "2022-03-20T10:38:56.758Z"
   },
   {
    "duration": 183,
    "start_time": "2022-03-20T10:39:54.836Z"
   },
   {
    "duration": 1110,
    "start_time": "2022-03-20T10:40:18.098Z"
   },
   {
    "duration": 536,
    "start_time": "2022-03-20T10:40:35.988Z"
   },
   {
    "duration": 716,
    "start_time": "2022-03-20T10:40:54.331Z"
   },
   {
    "duration": 195,
    "start_time": "2022-03-20T10:41:02.709Z"
   },
   {
    "duration": 171,
    "start_time": "2022-03-20T10:41:22.358Z"
   },
   {
    "duration": 205,
    "start_time": "2022-03-20T10:41:30.740Z"
   },
   {
    "duration": 244,
    "start_time": "2022-03-20T10:41:33.663Z"
   },
   {
    "duration": 156,
    "start_time": "2022-03-20T10:42:09.877Z"
   },
   {
    "duration": 286,
    "start_time": "2022-03-20T10:42:22.676Z"
   },
   {
    "duration": 159,
    "start_time": "2022-03-20T10:43:16.857Z"
   },
   {
    "duration": 266,
    "start_time": "2022-03-20T10:43:29.182Z"
   },
   {
    "duration": 227,
    "start_time": "2022-03-20T10:44:18.664Z"
   },
   {
    "duration": 225,
    "start_time": "2022-03-20T10:46:23.108Z"
   },
   {
    "duration": 246,
    "start_time": "2022-03-20T10:48:42.392Z"
   },
   {
    "duration": 173,
    "start_time": "2022-03-20T10:49:10.551Z"
   },
   {
    "duration": 235,
    "start_time": "2022-03-20T10:51:26.231Z"
   },
   {
    "duration": 255,
    "start_time": "2022-03-20T10:52:15.171Z"
   },
   {
    "duration": 194,
    "start_time": "2022-03-20T10:52:50.843Z"
   },
   {
    "duration": 205,
    "start_time": "2022-03-20T10:53:38.051Z"
   },
   {
    "duration": 187,
    "start_time": "2022-03-20T10:57:11.392Z"
   },
   {
    "duration": 206,
    "start_time": "2022-03-20T10:57:22.168Z"
   },
   {
    "duration": 246,
    "start_time": "2022-03-20T10:57:28.432Z"
   },
   {
    "duration": 237,
    "start_time": "2022-03-20T10:58:27.250Z"
   },
   {
    "duration": 264,
    "start_time": "2022-03-20T10:58:40.082Z"
   },
   {
    "duration": 240,
    "start_time": "2022-03-20T10:58:57.490Z"
   },
   {
    "duration": 241,
    "start_time": "2022-03-20T10:59:13.559Z"
   },
   {
    "duration": 193,
    "start_time": "2022-03-20T10:59:19.355Z"
   },
   {
    "duration": 179,
    "start_time": "2022-03-20T10:59:55.203Z"
   },
   {
    "duration": 236,
    "start_time": "2022-03-20T11:01:20.461Z"
   },
   {
    "duration": 204,
    "start_time": "2022-03-20T11:02:24.383Z"
   },
   {
    "duration": 197,
    "start_time": "2022-03-20T11:02:32.077Z"
   },
   {
    "duration": 229,
    "start_time": "2022-03-20T11:02:46.791Z"
   },
   {
    "duration": 4088,
    "start_time": "2022-03-20T11:04:25.825Z"
   },
   {
    "duration": 194,
    "start_time": "2022-03-20T11:12:00.171Z"
   },
   {
    "duration": 194,
    "start_time": "2022-03-20T11:12:14.739Z"
   },
   {
    "duration": 239,
    "start_time": "2022-03-20T11:12:33.778Z"
   },
   {
    "duration": 165,
    "start_time": "2022-03-20T11:12:54.180Z"
   },
   {
    "duration": 173,
    "start_time": "2022-03-20T11:13:13.918Z"
   },
   {
    "duration": 285,
    "start_time": "2022-03-20T11:13:46.542Z"
   },
   {
    "duration": 183,
    "start_time": "2022-03-20T11:13:57.740Z"
   },
   {
    "duration": 179,
    "start_time": "2022-03-20T11:14:15.021Z"
   },
   {
    "duration": 251,
    "start_time": "2022-03-20T11:14:39.281Z"
   },
   {
    "duration": 184,
    "start_time": "2022-03-20T11:14:54.845Z"
   },
   {
    "duration": 195,
    "start_time": "2022-03-20T11:15:01.578Z"
   },
   {
    "duration": 206,
    "start_time": "2022-03-20T11:15:09.719Z"
   },
   {
    "duration": 3928,
    "start_time": "2022-03-20T11:17:09.177Z"
   },
   {
    "duration": 189,
    "start_time": "2022-03-20T11:22:36.295Z"
   },
   {
    "duration": 189,
    "start_time": "2022-03-20T11:28:02.238Z"
   },
   {
    "duration": 171,
    "start_time": "2022-03-20T11:28:25.695Z"
   },
   {
    "duration": 182,
    "start_time": "2022-03-20T11:28:45.526Z"
   },
   {
    "duration": 197,
    "start_time": "2022-03-20T11:30:35.913Z"
   },
   {
    "duration": 194,
    "start_time": "2022-03-20T11:31:00.507Z"
   },
   {
    "duration": 188,
    "start_time": "2022-03-20T11:31:07.209Z"
   },
   {
    "duration": 186,
    "start_time": "2022-03-20T11:34:08.790Z"
   },
   {
    "duration": 187,
    "start_time": "2022-03-20T11:34:29.021Z"
   },
   {
    "duration": 188,
    "start_time": "2022-03-20T11:35:08.966Z"
   },
   {
    "duration": 227,
    "start_time": "2022-03-20T11:35:43.976Z"
   },
   {
    "duration": 131,
    "start_time": "2022-03-20T11:35:57.952Z"
   },
   {
    "duration": 139,
    "start_time": "2022-03-20T11:36:04.503Z"
   },
   {
    "duration": 179,
    "start_time": "2022-03-20T11:36:19.024Z"
   },
   {
    "duration": 234,
    "start_time": "2022-03-20T11:36:34.321Z"
   },
   {
    "duration": 226,
    "start_time": "2022-03-20T11:36:55.665Z"
   },
   {
    "duration": 28,
    "start_time": "2022-03-20T11:43:33.016Z"
   },
   {
    "duration": 3,
    "start_time": "2022-03-20T11:44:15.202Z"
   },
   {
    "duration": 9,
    "start_time": "2022-03-20T11:44:15.208Z"
   },
   {
    "duration": 307,
    "start_time": "2022-03-20T11:44:15.219Z"
   },
   {
    "duration": 98,
    "start_time": "2022-03-20T11:44:15.529Z"
   },
   {
    "duration": 874,
    "start_time": "2022-03-20T11:44:15.642Z"
   },
   {
    "duration": 32,
    "start_time": "2022-03-20T11:44:22.306Z"
   },
   {
    "duration": 39,
    "start_time": "2022-03-20T11:44:45.188Z"
   },
   {
    "duration": 230,
    "start_time": "2022-03-20T11:58:15.387Z"
   },
   {
    "duration": 12,
    "start_time": "2022-03-20T12:07:08.824Z"
   },
   {
    "duration": 9,
    "start_time": "2022-03-20T12:07:30.031Z"
   },
   {
    "duration": 10,
    "start_time": "2022-03-20T12:07:35.726Z"
   },
   {
    "duration": 314,
    "start_time": "2022-03-20T12:08:17.354Z"
   },
   {
    "duration": 320,
    "start_time": "2022-03-20T12:08:53.529Z"
   },
   {
    "duration": 237,
    "start_time": "2022-03-20T12:09:20.385Z"
   },
   {
    "duration": 212,
    "start_time": "2022-03-20T12:09:33.553Z"
   },
   {
    "duration": 193,
    "start_time": "2022-03-20T12:10:01.961Z"
   },
   {
    "duration": 319,
    "start_time": "2022-03-20T12:10:05.497Z"
   },
   {
    "duration": 203,
    "start_time": "2022-03-20T12:14:53.640Z"
   },
   {
    "duration": 233,
    "start_time": "2022-03-20T12:15:10.679Z"
   },
   {
    "duration": 208,
    "start_time": "2022-03-20T12:15:52.736Z"
   },
   {
    "duration": 252,
    "start_time": "2022-03-20T12:15:57.185Z"
   },
   {
    "duration": 256,
    "start_time": "2022-03-20T12:16:25.305Z"
   },
   {
    "duration": 253,
    "start_time": "2022-03-20T12:18:23.613Z"
   },
   {
    "duration": 3904,
    "start_time": "2022-03-20T12:18:43.663Z"
   },
   {
    "duration": 256,
    "start_time": "2022-03-20T12:19:00.652Z"
   },
   {
    "duration": 3962,
    "start_time": "2022-03-20T12:30:47.538Z"
   },
   {
    "duration": 2140,
    "start_time": "2022-03-20T12:31:00.396Z"
   },
   {
    "duration": 203,
    "start_time": "2022-03-20T12:34:22.905Z"
   },
   {
    "duration": 215,
    "start_time": "2022-03-20T12:34:33.056Z"
   },
   {
    "duration": 249,
    "start_time": "2022-03-20T12:34:49.488Z"
   },
   {
    "duration": 203,
    "start_time": "2022-03-20T12:35:25.660Z"
   },
   {
    "duration": 77,
    "start_time": "2022-03-20T12:35:51.052Z"
   },
   {
    "duration": 6,
    "start_time": "2022-03-20T12:36:05.043Z"
   },
   {
    "duration": 193,
    "start_time": "2022-03-20T12:36:12.459Z"
   },
   {
    "duration": 261,
    "start_time": "2022-03-20T12:37:01.036Z"
   },
   {
    "duration": 239,
    "start_time": "2022-03-20T12:37:38.612Z"
   },
   {
    "duration": 189,
    "start_time": "2022-03-20T12:38:47.471Z"
   },
   {
    "duration": 334,
    "start_time": "2022-03-20T12:39:38.531Z"
   },
   {
    "duration": 288,
    "start_time": "2022-03-20T12:39:52.975Z"
   },
   {
    "duration": 214,
    "start_time": "2022-03-20T12:42:20.054Z"
   },
   {
    "duration": 9,
    "start_time": "2022-03-20T12:42:59.275Z"
   },
   {
    "duration": 236,
    "start_time": "2022-03-20T12:43:25.371Z"
   },
   {
    "duration": 195,
    "start_time": "2022-03-20T12:43:40.619Z"
   },
   {
    "duration": 237,
    "start_time": "2022-03-20T12:44:03.011Z"
   },
   {
    "duration": 15,
    "start_time": "2022-03-20T12:44:22.484Z"
   },
   {
    "duration": 32,
    "start_time": "2022-03-20T12:44:53.733Z"
   },
   {
    "duration": 54,
    "start_time": "2022-03-20T12:48:21.874Z"
   },
   {
    "duration": 38,
    "start_time": "2022-03-20T12:48:25.633Z"
   },
   {
    "duration": 3,
    "start_time": "2022-03-20T12:48:44.313Z"
   },
   {
    "duration": 14,
    "start_time": "2022-03-20T12:48:44.318Z"
   },
   {
    "duration": 263,
    "start_time": "2022-03-20T12:48:44.334Z"
   },
   {
    "duration": 201,
    "start_time": "2022-03-20T12:48:44.600Z"
   },
   {
    "duration": 20,
    "start_time": "2022-03-20T12:48:44.803Z"
   },
   {
    "duration": 3,
    "start_time": "2022-03-20T12:49:30.908Z"
   },
   {
    "duration": 10,
    "start_time": "2022-03-20T12:49:30.914Z"
   },
   {
    "duration": 317,
    "start_time": "2022-03-20T12:49:30.926Z"
   },
   {
    "duration": 280,
    "start_time": "2022-03-20T12:49:31.246Z"
   },
   {
    "duration": 27,
    "start_time": "2022-03-20T12:49:34.636Z"
   },
   {
    "duration": 188,
    "start_time": "2022-03-20T12:52:16.648Z"
   },
   {
    "duration": 945,
    "start_time": "2022-03-20T12:52:23.399Z"
   },
   {
    "duration": 217,
    "start_time": "2022-03-20T12:52:58.632Z"
   },
   {
    "duration": 215,
    "start_time": "2022-03-20T12:56:29.643Z"
   },
   {
    "duration": 192,
    "start_time": "2022-03-20T12:57:08.244Z"
   },
   {
    "duration": 265,
    "start_time": "2022-03-20T12:57:19.829Z"
   },
   {
    "duration": 207,
    "start_time": "2022-03-20T12:57:32.460Z"
   },
   {
    "duration": 11,
    "start_time": "2022-03-20T12:58:07.693Z"
   },
   {
    "duration": 16,
    "start_time": "2022-03-20T12:58:12.954Z"
   },
   {
    "duration": 10,
    "start_time": "2022-03-20T12:58:15.430Z"
   },
   {
    "duration": 29,
    "start_time": "2022-03-20T12:58:57.215Z"
   },
   {
    "duration": 71,
    "start_time": "2022-03-20T12:59:17.233Z"
   },
   {
    "duration": 75,
    "start_time": "2022-03-20T12:59:31.583Z"
   },
   {
    "duration": 162,
    "start_time": "2022-03-20T12:59:44.792Z"
   },
   {
    "duration": 170,
    "start_time": "2022-03-20T13:00:04.616Z"
   },
   {
    "duration": 69,
    "start_time": "2022-03-20T13:00:21.168Z"
   },
   {
    "duration": 341,
    "start_time": "2022-03-20T13:02:03.179Z"
   },
   {
    "duration": 171,
    "start_time": "2022-03-20T13:02:17.576Z"
   },
   {
    "duration": 66,
    "start_time": "2022-03-20T13:02:30.946Z"
   },
   {
    "duration": 161,
    "start_time": "2022-03-20T13:02:38.202Z"
   },
   {
    "duration": 53,
    "start_time": "2022-03-20T13:03:06.404Z"
   },
   {
    "duration": 56,
    "start_time": "2022-03-20T13:03:21.668Z"
   },
   {
    "duration": 162,
    "start_time": "2022-03-20T13:03:25.997Z"
   },
   {
    "duration": 51,
    "start_time": "2022-03-20T13:03:57.964Z"
   },
   {
    "duration": 55,
    "start_time": "2022-03-20T13:04:27.293Z"
   },
   {
    "duration": 230,
    "start_time": "2022-03-20T13:04:32.944Z"
   },
   {
    "duration": 60,
    "start_time": "2022-03-20T13:04:45.461Z"
   },
   {
    "duration": 84,
    "start_time": "2022-03-20T13:05:03.472Z"
   },
   {
    "duration": 4,
    "start_time": "2022-03-20T13:05:11.801Z"
   },
   {
    "duration": 1725,
    "start_time": "2022-03-20T13:05:11.808Z"
   },
   {
    "duration": 283,
    "start_time": "2022-03-20T13:05:13.535Z"
   },
   {
    "duration": 74,
    "start_time": "2022-03-20T13:05:13.821Z"
   },
   {
    "duration": 66,
    "start_time": "2022-03-20T13:05:17.833Z"
   },
   {
    "duration": 181,
    "start_time": "2022-03-20T13:05:40.909Z"
   },
   {
    "duration": 161,
    "start_time": "2022-03-20T13:06:15.184Z"
   },
   {
    "duration": 210,
    "start_time": "2022-03-20T13:06:51.689Z"
   },
   {
    "duration": 70,
    "start_time": "2022-03-20T13:07:00.211Z"
   },
   {
    "duration": 155,
    "start_time": "2022-03-20T13:07:14.330Z"
   },
   {
    "duration": 283,
    "start_time": "2022-03-20T13:07:33.561Z"
   },
   {
    "duration": 59,
    "start_time": "2022-03-20T13:07:56.907Z"
   },
   {
    "duration": 226,
    "start_time": "2022-03-20T13:08:21.067Z"
   },
   {
    "duration": 166,
    "start_time": "2022-03-20T13:08:35.452Z"
   },
   {
    "duration": 225,
    "start_time": "2022-03-20T13:08:41.708Z"
   },
   {
    "duration": 310,
    "start_time": "2022-03-20T13:08:48.796Z"
   },
   {
    "duration": 241,
    "start_time": "2022-03-20T13:08:59.908Z"
   },
   {
    "duration": 8,
    "start_time": "2022-03-20T13:09:19.558Z"
   },
   {
    "duration": 225,
    "start_time": "2022-03-20T13:09:26.108Z"
   },
   {
    "duration": 327,
    "start_time": "2022-03-20T13:09:51.534Z"
   },
   {
    "duration": 315,
    "start_time": "2022-03-20T13:10:11.414Z"
   },
   {
    "duration": 271,
    "start_time": "2022-03-20T13:10:29.014Z"
   },
   {
    "duration": 305,
    "start_time": "2022-03-20T13:10:34.966Z"
   },
   {
    "duration": 203,
    "start_time": "2022-03-20T13:10:40.230Z"
   },
   {
    "duration": 96,
    "start_time": "2022-03-20T13:10:51.279Z"
   },
   {
    "duration": 205,
    "start_time": "2022-03-20T13:11:05.543Z"
   },
   {
    "duration": 62,
    "start_time": "2022-03-21T17:51:44.930Z"
   },
   {
    "duration": 3,
    "start_time": "2022-03-21T17:51:56.320Z"
   },
   {
    "duration": 1432,
    "start_time": "2022-03-21T17:51:56.325Z"
   },
   {
    "duration": 0,
    "start_time": "2022-03-21T17:51:57.759Z"
   },
   {
    "duration": 0,
    "start_time": "2022-03-21T17:51:57.760Z"
   },
   {
    "duration": 11,
    "start_time": "2022-03-21T17:52:02.008Z"
   },
   {
    "duration": 18095,
    "start_time": "2022-03-21T17:52:40.335Z"
   },
   {
    "duration": 58,
    "start_time": "2022-03-21T17:52:58.433Z"
   },
   {
    "duration": 267,
    "start_time": "2022-03-21T17:52:58.494Z"
   },
   {
    "duration": 125,
    "start_time": "2022-03-21T17:53:16.146Z"
   },
   {
    "duration": 124,
    "start_time": "2022-03-21T17:53:49.283Z"
   },
   {
    "duration": 182,
    "start_time": "2022-03-21T17:53:54.417Z"
   },
   {
    "duration": 3,
    "start_time": "2022-03-21T17:54:15.948Z"
   },
   {
    "duration": 6,
    "start_time": "2022-03-21T17:54:15.952Z"
   },
   {
    "duration": 179,
    "start_time": "2022-03-21T17:54:15.959Z"
   },
   {
    "duration": 115,
    "start_time": "2022-03-21T17:54:20.794Z"
   },
   {
    "duration": 115,
    "start_time": "2022-03-21T18:10:02.898Z"
   },
   {
    "duration": 56,
    "start_time": "2022-03-21T18:14:17.189Z"
   },
   {
    "duration": 55,
    "start_time": "2022-03-21T18:15:02.053Z"
   },
   {
    "duration": 3,
    "start_time": "2022-03-21T18:16:56.885Z"
   },
   {
    "duration": 10,
    "start_time": "2022-03-21T18:16:56.890Z"
   },
   {
    "duration": 171,
    "start_time": "2022-03-21T18:16:57.192Z"
   },
   {
    "duration": 59,
    "start_time": "2022-03-21T18:17:00.368Z"
   },
   {
    "duration": 121,
    "start_time": "2022-03-21T18:18:45.186Z"
   },
   {
    "duration": 55,
    "start_time": "2022-03-21T18:19:19.874Z"
   },
   {
    "duration": 114,
    "start_time": "2022-03-21T18:42:19.034Z"
   },
   {
    "duration": 129,
    "start_time": "2022-03-21T18:43:15.467Z"
   },
   {
    "duration": 113,
    "start_time": "2022-03-21T18:43:34.859Z"
   },
   {
    "duration": 26,
    "start_time": "2022-03-21T18:48:40.907Z"
   },
   {
    "duration": 208,
    "start_time": "2022-03-21T18:49:03.908Z"
   },
   {
    "duration": 160,
    "start_time": "2022-03-21T18:49:18.228Z"
   },
   {
    "duration": 188,
    "start_time": "2022-03-21T18:49:38.364Z"
   },
   {
    "duration": 192,
    "start_time": "2022-03-21T18:49:53.317Z"
   },
   {
    "duration": 117,
    "start_time": "2022-03-21T18:50:03.773Z"
   },
   {
    "duration": 190,
    "start_time": "2022-03-21T18:50:12.837Z"
   },
   {
    "duration": 266,
    "start_time": "2022-03-21T19:10:39.937Z"
   },
   {
    "duration": 248,
    "start_time": "2022-03-21T19:11:09.858Z"
   },
   {
    "duration": 555,
    "start_time": "2022-03-21T19:17:15.883Z"
   },
   {
    "duration": 119,
    "start_time": "2022-03-21T19:33:52.991Z"
   },
   {
    "duration": 511,
    "start_time": "2022-03-21T19:34:30.104Z"
   },
   {
    "duration": 688,
    "start_time": "2022-03-21T19:34:52.145Z"
   },
   {
    "duration": 120,
    "start_time": "2022-03-21T19:37:34.500Z"
   },
   {
    "duration": 176,
    "start_time": "2022-03-21T19:37:47.371Z"
   },
   {
    "duration": 5,
    "start_time": "2022-03-21T19:38:17.292Z"
   },
   {
    "duration": 402,
    "start_time": "2022-03-21T19:38:24.188Z"
   },
   {
    "duration": 529,
    "start_time": "2022-03-21T19:39:18.694Z"
   },
   {
    "duration": 811,
    "start_time": "2022-03-21T19:40:02.997Z"
   },
   {
    "duration": 776,
    "start_time": "2022-03-21T19:40:56.648Z"
   },
   {
    "duration": 2089,
    "start_time": "2022-03-21T19:41:19.783Z"
   },
   {
    "duration": 6,
    "start_time": "2022-03-21T19:47:33.759Z"
   },
   {
    "duration": 6,
    "start_time": "2022-03-21T19:47:46.894Z"
   },
   {
    "duration": 1776,
    "start_time": "2022-03-21T19:51:59.621Z"
   },
   {
    "duration": 1589,
    "start_time": "2022-03-21T19:55:07.512Z"
   },
   {
    "duration": 1434,
    "start_time": "2022-03-21T19:55:19.568Z"
   },
   {
    "duration": 1451,
    "start_time": "2022-03-21T19:58:22.140Z"
   },
   {
    "duration": 5489,
    "start_time": "2022-03-21T20:04:36.821Z"
   },
   {
    "duration": 1089,
    "start_time": "2022-03-21T20:04:57.646Z"
   },
   {
    "duration": 1100,
    "start_time": "2022-03-21T20:08:42.297Z"
   },
   {
    "duration": 1047,
    "start_time": "2022-03-21T20:08:59.674Z"
   },
   {
    "duration": 1149,
    "start_time": "2022-03-21T20:09:23.210Z"
   },
   {
    "duration": 12,
    "start_time": "2022-03-21T20:09:31.485Z"
   },
   {
    "duration": 1252,
    "start_time": "2022-03-21T20:09:48.539Z"
   },
   {
    "duration": 1047,
    "start_time": "2022-03-21T20:09:54.835Z"
   },
   {
    "duration": 1158,
    "start_time": "2022-03-21T20:10:01.979Z"
   },
   {
    "duration": 1115,
    "start_time": "2022-03-21T20:10:05.371Z"
   },
   {
    "duration": 1166,
    "start_time": "2022-03-21T20:10:09.579Z"
   },
   {
    "duration": 3,
    "start_time": "2022-03-21T20:10:18.930Z"
   },
   {
    "duration": 10,
    "start_time": "2022-03-21T20:10:18.935Z"
   },
   {
    "duration": 243,
    "start_time": "2022-03-21T20:10:18.946Z"
   },
   {
    "duration": 95,
    "start_time": "2022-03-21T20:10:19.191Z"
   },
   {
    "duration": 508,
    "start_time": "2022-03-21T20:10:19.289Z"
   },
   {
    "duration": 39,
    "start_time": "2022-03-21T20:10:19.799Z"
   },
   {
    "duration": 1129,
    "start_time": "2022-03-21T20:10:25.868Z"
   },
   {
    "duration": 1419,
    "start_time": "2022-03-21T20:12:10.863Z"
   },
   {
    "duration": 1152,
    "start_time": "2022-03-21T20:15:33.283Z"
   },
   {
    "duration": 1122,
    "start_time": "2022-03-21T20:15:46.082Z"
   },
   {
    "duration": 187,
    "start_time": "2022-03-21T20:37:46.767Z"
   },
   {
    "duration": 177,
    "start_time": "2022-03-21T20:38:03.439Z"
   },
   {
    "duration": 178,
    "start_time": "2022-03-21T20:38:28.384Z"
   },
   {
    "duration": 197,
    "start_time": "2022-03-21T20:38:49.063Z"
   },
   {
    "duration": 190,
    "start_time": "2022-03-21T20:39:06.024Z"
   },
   {
    "duration": 193,
    "start_time": "2022-03-21T20:39:12.824Z"
   },
   {
    "duration": 182,
    "start_time": "2022-03-21T20:39:27.096Z"
   },
   {
    "duration": 267,
    "start_time": "2022-03-21T20:39:32.840Z"
   },
   {
    "duration": 186,
    "start_time": "2022-03-21T20:39:42.721Z"
   },
   {
    "duration": 179,
    "start_time": "2022-03-21T20:39:53.505Z"
   },
   {
    "duration": 186,
    "start_time": "2022-03-21T20:39:59.905Z"
   },
   {
    "duration": 201,
    "start_time": "2022-03-21T20:40:04.865Z"
   },
   {
    "duration": 2,
    "start_time": "2022-03-21T20:41:54.748Z"
   },
   {
    "duration": 126,
    "start_time": "2022-03-21T20:46:56.169Z"
   },
   {
    "duration": 116,
    "start_time": "2022-03-21T20:49:50.605Z"
   },
   {
    "duration": 1155,
    "start_time": "2022-03-21T20:50:30.349Z"
   },
   {
    "duration": 14,
    "start_time": "2022-03-21T20:52:14.824Z"
   },
   {
    "duration": 12,
    "start_time": "2022-03-21T20:52:18.423Z"
   },
   {
    "duration": 10,
    "start_time": "2022-03-21T20:52:37.865Z"
   },
   {
    "duration": 11,
    "start_time": "2022-03-21T20:52:47.878Z"
   },
   {
    "duration": 9,
    "start_time": "2022-03-21T20:53:30.713Z"
   },
   {
    "duration": 99,
    "start_time": "2022-03-21T20:55:28.084Z"
   },
   {
    "duration": 10,
    "start_time": "2022-03-21T20:55:37.611Z"
   },
   {
    "duration": 93,
    "start_time": "2022-03-21T20:57:15.838Z"
   },
   {
    "duration": 10,
    "start_time": "2022-03-21T20:57:30.296Z"
   },
   {
    "duration": 94,
    "start_time": "2022-03-21T20:57:42.494Z"
   },
   {
    "duration": 92,
    "start_time": "2022-03-21T20:57:57.311Z"
   },
   {
    "duration": 1030,
    "start_time": "2022-03-21T20:58:38.768Z"
   },
   {
    "duration": 1103,
    "start_time": "2022-03-21T20:59:07.800Z"
   },
   {
    "duration": 36,
    "start_time": "2022-03-21T20:59:48.593Z"
   },
   {
    "duration": 130,
    "start_time": "2022-03-21T21:02:46.934Z"
   },
   {
    "duration": 9,
    "start_time": "2022-03-21T21:02:54.750Z"
   },
   {
    "duration": 124,
    "start_time": "2022-03-21T21:06:03.401Z"
   },
   {
    "duration": 2739,
    "start_time": "2022-03-21T21:06:11.993Z"
   },
   {
    "duration": 2640,
    "start_time": "2022-03-21T21:09:38.062Z"
   },
   {
    "duration": 6,
    "start_time": "2022-03-21T21:10:06.375Z"
   },
   {
    "duration": 2834,
    "start_time": "2022-03-21T21:10:51.102Z"
   },
   {
    "duration": 9,
    "start_time": "2022-03-21T21:12:31.019Z"
   },
   {
    "duration": 3,
    "start_time": "2022-03-21T21:13:43.083Z"
   },
   {
    "duration": 1110,
    "start_time": "2022-03-21T21:13:49.402Z"
   },
   {
    "duration": 37,
    "start_time": "2022-03-21T21:15:49.950Z"
   },
   {
    "duration": 22,
    "start_time": "2022-03-21T21:16:02.734Z"
   },
   {
    "duration": 14,
    "start_time": "2022-03-21T21:16:06.917Z"
   },
   {
    "duration": 1099,
    "start_time": "2022-03-21T21:16:27.774Z"
   },
   {
    "duration": 1092,
    "start_time": "2022-03-21T21:36:27.725Z"
   },
   {
    "duration": 1234,
    "start_time": "2022-03-21T21:40:27.410Z"
   },
   {
    "duration": 1012,
    "start_time": "2022-03-21T21:41:51.269Z"
   },
   {
    "duration": 113,
    "start_time": "2022-03-21T21:43:23.085Z"
   },
   {
    "duration": 3,
    "start_time": "2022-03-21T21:43:28.182Z"
   },
   {
    "duration": 9,
    "start_time": "2022-03-21T21:44:00.551Z"
   },
   {
    "duration": 9,
    "start_time": "2022-03-21T21:44:06.895Z"
   },
   {
    "duration": 8,
    "start_time": "2022-03-21T21:44:29.024Z"
   },
   {
    "duration": 3,
    "start_time": "2022-03-21T21:44:43.895Z"
   },
   {
    "duration": 5,
    "start_time": "2022-03-21T21:48:40.125Z"
   },
   {
    "duration": 10,
    "start_time": "2022-03-21T21:49:01.580Z"
   },
   {
    "duration": 10,
    "start_time": "2022-03-21T21:49:05.085Z"
   },
   {
    "duration": 8,
    "start_time": "2022-03-21T21:49:16.925Z"
   },
   {
    "duration": 15,
    "start_time": "2022-03-21T21:49:33.461Z"
   },
   {
    "duration": 169,
    "start_time": "2022-03-21T21:52:19.217Z"
   },
   {
    "duration": 121,
    "start_time": "2022-03-21T21:52:47.497Z"
   },
   {
    "duration": 160,
    "start_time": "2022-03-21T21:53:12.482Z"
   },
   {
    "duration": 157,
    "start_time": "2022-03-21T21:53:34.754Z"
   },
   {
    "duration": 57,
    "start_time": "2022-03-21T21:55:27.789Z"
   },
   {
    "duration": 58,
    "start_time": "2022-03-21T21:56:13.437Z"
   },
   {
    "duration": 2,
    "start_time": "2022-03-21T21:56:21.851Z"
   },
   {
    "duration": 9,
    "start_time": "2022-03-21T21:56:21.856Z"
   },
   {
    "duration": 174,
    "start_time": "2022-03-21T21:56:21.867Z"
   },
   {
    "duration": 57,
    "start_time": "2022-03-21T21:56:25.413Z"
   },
   {
    "duration": 116,
    "start_time": "2022-03-21T21:56:54.398Z"
   },
   {
    "duration": 58,
    "start_time": "2022-03-21T21:57:01.846Z"
   },
   {
    "duration": 56,
    "start_time": "2022-03-21T21:57:23.623Z"
   },
   {
    "duration": 68,
    "start_time": "2022-03-21T21:57:28.926Z"
   },
   {
    "duration": 55,
    "start_time": "2022-03-21T21:58:03.191Z"
   },
   {
    "duration": 3,
    "start_time": "2022-03-21T21:58:59.735Z"
   },
   {
    "duration": 1122,
    "start_time": "2022-03-21T21:58:59.740Z"
   },
   {
    "duration": 175,
    "start_time": "2022-03-21T21:59:00.864Z"
   },
   {
    "duration": 64,
    "start_time": "2022-03-21T21:59:01.041Z"
   },
   {
    "duration": 344,
    "start_time": "2022-03-21T21:59:01.108Z"
   },
   {
    "duration": 23,
    "start_time": "2022-03-21T21:59:01.454Z"
   },
   {
    "duration": 116,
    "start_time": "2022-03-21T21:59:01.479Z"
   },
   {
    "duration": 989,
    "start_time": "2022-03-21T21:59:01.597Z"
   },
   {
    "duration": 193,
    "start_time": "2022-03-21T21:59:02.588Z"
   },
   {
    "duration": 204,
    "start_time": "2022-03-21T21:59:02.783Z"
   },
   {
    "duration": 211,
    "start_time": "2022-03-21T21:59:02.990Z"
   },
   {
    "duration": 1013,
    "start_time": "2022-03-21T21:59:03.203Z"
   },
   {
    "duration": 20,
    "start_time": "2022-03-21T21:59:04.217Z"
   },
   {
    "duration": 148,
    "start_time": "2022-03-21T22:00:49.377Z"
   },
   {
    "duration": 60,
    "start_time": "2022-03-21T22:03:06.019Z"
   },
   {
    "duration": 115,
    "start_time": "2022-03-21T22:04:16.941Z"
   },
   {
    "duration": 138,
    "start_time": "2022-03-21T22:04:24.028Z"
   },
   {
    "duration": 54,
    "start_time": "2022-03-21T22:05:11.809Z"
   },
   {
    "duration": 65,
    "start_time": "2022-03-21T22:05:37.190Z"
   },
   {
    "duration": 56,
    "start_time": "2022-03-21T22:07:17.384Z"
   },
   {
    "duration": 2,
    "start_time": "2022-03-21T22:07:39.663Z"
   },
   {
    "duration": 6,
    "start_time": "2022-03-21T22:07:39.668Z"
   },
   {
    "duration": 158,
    "start_time": "2022-03-21T22:07:39.676Z"
   },
   {
    "duration": 57,
    "start_time": "2022-03-21T22:07:47.857Z"
   },
   {
    "duration": 56,
    "start_time": "2022-03-21T22:08:04.434Z"
   },
   {
    "duration": 56,
    "start_time": "2022-03-21T22:08:28.889Z"
   },
   {
    "duration": 58,
    "start_time": "2022-03-21T22:08:33.609Z"
   },
   {
    "duration": 59,
    "start_time": "2022-03-21T22:08:43.650Z"
   },
   {
    "duration": 61,
    "start_time": "2022-03-21T22:12:18.126Z"
   },
   {
    "duration": 63,
    "start_time": "2022-03-21T22:12:37.719Z"
   },
   {
    "duration": 66,
    "start_time": "2022-03-21T22:12:45.959Z"
   },
   {
    "duration": 66,
    "start_time": "2022-03-21T22:12:52.695Z"
   },
   {
    "duration": 64,
    "start_time": "2022-03-21T22:12:58.631Z"
   },
   {
    "duration": 58,
    "start_time": "2022-03-21T22:13:05.159Z"
   },
   {
    "duration": 983,
    "start_time": "2022-03-21T22:13:56.600Z"
   },
   {
    "duration": 1141,
    "start_time": "2022-03-21T22:14:00.449Z"
   },
   {
    "duration": 4,
    "start_time": "2022-03-21T22:14:36.907Z"
   },
   {
    "duration": 1142,
    "start_time": "2022-03-21T22:14:36.913Z"
   },
   {
    "duration": 182,
    "start_time": "2022-03-21T22:14:38.057Z"
   },
   {
    "duration": 63,
    "start_time": "2022-03-21T22:14:38.241Z"
   },
   {
    "duration": 446,
    "start_time": "2022-03-21T22:14:38.307Z"
   },
   {
    "duration": 26,
    "start_time": "2022-03-21T22:14:38.754Z"
   },
   {
    "duration": 110,
    "start_time": "2022-03-21T22:14:38.782Z"
   },
   {
    "duration": 1077,
    "start_time": "2022-03-21T22:14:38.894Z"
   },
   {
    "duration": 206,
    "start_time": "2022-03-21T22:14:39.973Z"
   },
   {
    "duration": 203,
    "start_time": "2022-03-21T22:14:40.181Z"
   },
   {
    "duration": 196,
    "start_time": "2022-03-21T22:14:40.387Z"
   },
   {
    "duration": 469,
    "start_time": "2022-03-21T22:14:40.585Z"
   },
   {
    "duration": 0,
    "start_time": "2022-03-21T22:14:41.056Z"
   },
   {
    "duration": 5,
    "start_time": "2022-03-21T22:15:15.308Z"
   },
   {
    "duration": 1160,
    "start_time": "2022-03-21T22:15:15.315Z"
   },
   {
    "duration": 181,
    "start_time": "2022-03-21T22:15:16.477Z"
   },
   {
    "duration": 58,
    "start_time": "2022-03-21T22:15:16.661Z"
   },
   {
    "duration": 434,
    "start_time": "2022-03-21T22:15:16.721Z"
   },
   {
    "duration": 23,
    "start_time": "2022-03-21T22:15:17.157Z"
   },
   {
    "duration": 112,
    "start_time": "2022-03-21T22:15:17.181Z"
   },
   {
    "duration": 1082,
    "start_time": "2022-03-21T22:15:17.294Z"
   },
   {
    "duration": 195,
    "start_time": "2022-03-21T22:15:18.377Z"
   },
   {
    "duration": 244,
    "start_time": "2022-03-21T22:15:18.575Z"
   },
   {
    "duration": 206,
    "start_time": "2022-03-21T22:15:18.821Z"
   },
   {
    "duration": 473,
    "start_time": "2022-03-21T22:15:19.033Z"
   },
   {
    "duration": 0,
    "start_time": "2022-03-21T22:15:19.508Z"
   },
   {
    "duration": 4,
    "start_time": "2022-03-21T22:15:49.319Z"
   },
   {
    "duration": 1246,
    "start_time": "2022-03-21T22:15:49.324Z"
   },
   {
    "duration": 180,
    "start_time": "2022-03-21T22:15:50.572Z"
   },
   {
    "duration": 61,
    "start_time": "2022-03-21T22:15:50.753Z"
   },
   {
    "duration": 446,
    "start_time": "2022-03-21T22:15:50.815Z"
   },
   {
    "duration": 23,
    "start_time": "2022-03-21T22:15:51.263Z"
   },
   {
    "duration": 111,
    "start_time": "2022-03-21T22:15:51.289Z"
   },
   {
    "duration": 1096,
    "start_time": "2022-03-21T22:15:51.402Z"
   },
   {
    "duration": 202,
    "start_time": "2022-03-21T22:15:52.500Z"
   },
   {
    "duration": 207,
    "start_time": "2022-03-21T22:15:52.704Z"
   },
   {
    "duration": 200,
    "start_time": "2022-03-21T22:15:52.913Z"
   },
   {
    "duration": 469,
    "start_time": "2022-03-21T22:15:53.114Z"
   },
   {
    "duration": 0,
    "start_time": "2022-03-21T22:15:53.585Z"
   },
   {
    "duration": 4,
    "start_time": "2022-03-21T22:16:24.324Z"
   },
   {
    "duration": 1132,
    "start_time": "2022-03-21T22:16:24.329Z"
   },
   {
    "duration": 181,
    "start_time": "2022-03-21T22:16:25.463Z"
   },
   {
    "duration": 59,
    "start_time": "2022-03-21T22:16:25.646Z"
   },
   {
    "duration": 443,
    "start_time": "2022-03-21T22:16:25.707Z"
   },
   {
    "duration": 22,
    "start_time": "2022-03-21T22:16:26.152Z"
   },
   {
    "duration": 109,
    "start_time": "2022-03-21T22:16:26.176Z"
   },
   {
    "duration": 1503,
    "start_time": "2022-03-21T22:16:26.286Z"
   },
   {
    "duration": 212,
    "start_time": "2022-03-21T22:16:27.790Z"
   },
   {
    "duration": 205,
    "start_time": "2022-03-21T22:16:28.004Z"
   },
   {
    "duration": 200,
    "start_time": "2022-03-21T22:16:28.211Z"
   },
   {
    "duration": 473,
    "start_time": "2022-03-21T22:16:28.412Z"
   },
   {
    "duration": 0,
    "start_time": "2022-03-21T22:16:28.887Z"
   },
   {
    "duration": 4,
    "start_time": "2022-03-21T22:16:50.824Z"
   },
   {
    "duration": 1129,
    "start_time": "2022-03-21T22:16:50.829Z"
   },
   {
    "duration": 188,
    "start_time": "2022-03-21T22:16:51.960Z"
   },
   {
    "duration": 60,
    "start_time": "2022-03-21T22:16:52.152Z"
   },
   {
    "duration": 450,
    "start_time": "2022-03-21T22:16:52.213Z"
   },
   {
    "duration": 22,
    "start_time": "2022-03-21T22:16:52.664Z"
   },
   {
    "duration": 108,
    "start_time": "2022-03-21T22:16:52.688Z"
   },
   {
    "duration": 1076,
    "start_time": "2022-03-21T22:16:52.798Z"
   },
   {
    "duration": 194,
    "start_time": "2022-03-21T22:16:53.875Z"
   },
   {
    "duration": 196,
    "start_time": "2022-03-21T22:16:54.071Z"
   },
   {
    "duration": 207,
    "start_time": "2022-03-21T22:16:54.268Z"
   },
   {
    "duration": 456,
    "start_time": "2022-03-21T22:16:54.476Z"
   },
   {
    "duration": 0,
    "start_time": "2022-03-21T22:16:54.934Z"
   },
   {
    "duration": 2,
    "start_time": "2022-03-21T22:18:11.620Z"
   },
   {
    "duration": 15,
    "start_time": "2022-03-21T22:18:29.354Z"
   },
   {
    "duration": 15,
    "start_time": "2022-03-21T22:19:09.531Z"
   },
   {
    "duration": 147,
    "start_time": "2022-03-21T22:20:56.277Z"
   },
   {
    "duration": 15,
    "start_time": "2022-03-21T22:21:06.917Z"
   },
   {
    "duration": 16,
    "start_time": "2022-03-21T22:21:47.798Z"
   },
   {
    "duration": 16,
    "start_time": "2022-03-21T22:22:12.679Z"
   },
   {
    "duration": 22,
    "start_time": "2022-03-21T22:23:12.140Z"
   },
   {
    "duration": 23,
    "start_time": "2022-03-21T22:23:30.857Z"
   },
   {
    "duration": 1050,
    "start_time": "2022-03-21T22:23:43.712Z"
   },
   {
    "duration": 22,
    "start_time": "2022-03-21T22:24:36.089Z"
   },
   {
    "duration": 1060,
    "start_time": "2022-03-21T22:24:58.747Z"
   },
   {
    "duration": 1081,
    "start_time": "2022-03-21T22:25:37.524Z"
   },
   {
    "duration": 19,
    "start_time": "2022-03-21T22:25:53.164Z"
   },
   {
    "duration": 1323,
    "start_time": "2022-03-21T22:26:23.355Z"
   },
   {
    "duration": 1085,
    "start_time": "2022-03-21T22:26:55.397Z"
   },
   {
    "duration": 4,
    "start_time": "2022-03-21T22:27:25.284Z"
   },
   {
    "duration": 17,
    "start_time": "2022-03-21T22:27:38.356Z"
   },
   {
    "duration": 15,
    "start_time": "2022-03-21T22:29:25.857Z"
   },
   {
    "duration": 998,
    "start_time": "2022-03-21T22:32:43.546Z"
   },
   {
    "duration": 145,
    "start_time": "2022-03-21T22:33:33.987Z"
   },
   {
    "duration": 58,
    "start_time": "2022-03-21T22:35:35.692Z"
   },
   {
    "duration": 25,
    "start_time": "2022-03-21T22:36:35.095Z"
   },
   {
    "duration": 267,
    "start_time": "2022-03-21T22:37:09.848Z"
   },
   {
    "duration": 353,
    "start_time": "2022-03-21T22:37:15.855Z"
   },
   {
    "duration": 240,
    "start_time": "2022-03-21T22:37:47.647Z"
   },
   {
    "duration": 406,
    "start_time": "2022-03-21T22:39:03.785Z"
   },
   {
    "duration": 252,
    "start_time": "2022-03-21T22:40:28.644Z"
   },
   {
    "duration": 256,
    "start_time": "2022-03-21T22:40:44.923Z"
   },
   {
    "duration": 6083,
    "start_time": "2022-03-22T20:31:22.680Z"
   },
   {
    "duration": 95,
    "start_time": "2022-03-22T20:31:40.403Z"
   },
   {
    "duration": 149,
    "start_time": "2022-03-22T20:39:47.569Z"
   },
   {
    "duration": 7,
    "start_time": "2022-03-22T20:40:00.164Z"
   },
   {
    "duration": 13,
    "start_time": "2022-03-22T20:40:00.174Z"
   },
   {
    "duration": 262,
    "start_time": "2022-03-22T20:40:00.189Z"
   },
   {
    "duration": 96,
    "start_time": "2022-03-22T20:40:00.453Z"
   },
   {
    "duration": 583,
    "start_time": "2022-03-22T20:40:00.552Z"
   },
   {
    "duration": 44,
    "start_time": "2022-03-22T20:40:01.137Z"
   },
   {
    "duration": 162,
    "start_time": "2022-03-22T20:40:01.183Z"
   },
   {
    "duration": 2051,
    "start_time": "2022-03-22T20:40:01.348Z"
   },
   {
    "duration": 372,
    "start_time": "2022-03-22T20:40:03.402Z"
   },
   {
    "duration": 357,
    "start_time": "2022-03-22T20:40:40.571Z"
   },
   {
    "duration": 11,
    "start_time": "2022-03-22T20:44:51.604Z"
   },
   {
    "duration": 29,
    "start_time": "2022-03-22T20:46:03.950Z"
   },
   {
    "duration": 21,
    "start_time": "2022-03-22T20:46:16.645Z"
   },
   {
    "duration": 62,
    "start_time": "2022-03-22T20:47:17.711Z"
   },
   {
    "duration": 56,
    "start_time": "2022-03-22T20:47:26.871Z"
   },
   {
    "duration": 60,
    "start_time": "2022-03-22T20:47:39.231Z"
   },
   {
    "duration": 58,
    "start_time": "2022-03-22T20:47:47.015Z"
   },
   {
    "duration": 24,
    "start_time": "2022-03-22T20:47:52.959Z"
   },
   {
    "duration": 42,
    "start_time": "2022-03-22T20:47:58.288Z"
   },
   {
    "duration": 348,
    "start_time": "2022-03-22T20:49:22.849Z"
   },
   {
    "duration": 370,
    "start_time": "2022-03-22T20:49:31.219Z"
   },
   {
    "duration": 340,
    "start_time": "2022-03-22T20:50:45.547Z"
   },
   {
    "duration": 422,
    "start_time": "2022-03-22T20:51:00.035Z"
   },
   {
    "duration": 369,
    "start_time": "2022-03-22T20:51:26.900Z"
   },
   {
    "duration": 440,
    "start_time": "2022-03-22T20:52:36.501Z"
   },
   {
    "duration": 388,
    "start_time": "2022-03-22T20:53:09.791Z"
   },
   {
    "duration": 98,
    "start_time": "2022-03-22T20:53:35.933Z"
   },
   {
    "duration": 486,
    "start_time": "2022-03-22T20:53:41.240Z"
   },
   {
    "duration": 342,
    "start_time": "2022-03-22T20:53:59.438Z"
   },
   {
    "duration": 337,
    "start_time": "2022-03-22T20:54:14.135Z"
   },
   {
    "duration": 313,
    "start_time": "2022-03-22T20:55:46.801Z"
   },
   {
    "duration": 394,
    "start_time": "2022-03-22T20:55:59.224Z"
   },
   {
    "duration": 335,
    "start_time": "2022-03-22T20:56:05.073Z"
   },
   {
    "duration": 332,
    "start_time": "2022-03-22T20:56:13.600Z"
   },
   {
    "duration": 339,
    "start_time": "2022-03-22T20:56:18.169Z"
   },
   {
    "duration": 346,
    "start_time": "2022-03-22T20:56:27.769Z"
   },
   {
    "duration": 341,
    "start_time": "2022-03-22T20:56:32.553Z"
   },
   {
    "duration": 347,
    "start_time": "2022-03-22T20:56:43.633Z"
   },
   {
    "duration": 348,
    "start_time": "2022-03-22T20:56:49.746Z"
   },
   {
    "duration": 429,
    "start_time": "2022-03-22T20:57:07.338Z"
   },
   {
    "duration": 335,
    "start_time": "2022-03-22T20:57:16.786Z"
   },
   {
    "duration": 351,
    "start_time": "2022-03-22T20:57:22.075Z"
   },
   {
    "duration": 385,
    "start_time": "2022-03-22T20:57:34.203Z"
   },
   {
    "duration": 347,
    "start_time": "2022-03-22T20:57:43.154Z"
   },
   {
    "duration": 354,
    "start_time": "2022-03-22T20:57:53.203Z"
   },
   {
    "duration": 871,
    "start_time": "2022-03-22T21:05:53.670Z"
   },
   {
    "duration": 593,
    "start_time": "2022-03-22T21:06:05.781Z"
   },
   {
    "duration": 16086,
    "start_time": "2022-03-22T21:10:30.061Z"
   },
   {
    "duration": 1916,
    "start_time": "2022-03-22T21:10:52.603Z"
   },
   {
    "duration": 502,
    "start_time": "2022-03-22T21:11:01.277Z"
   },
   {
    "duration": 629,
    "start_time": "2022-03-22T21:11:18.077Z"
   },
   {
    "duration": 445,
    "start_time": "2022-03-22T21:12:00.503Z"
   },
   {
    "duration": 508,
    "start_time": "2022-03-22T21:13:29.143Z"
   },
   {
    "duration": 531,
    "start_time": "2022-03-22T21:14:22.201Z"
   },
   {
    "duration": 547,
    "start_time": "2022-03-22T21:14:37.185Z"
   },
   {
    "duration": 921,
    "start_time": "2022-03-22T21:14:46.681Z"
   },
   {
    "duration": 730,
    "start_time": "2022-03-22T21:15:47.250Z"
   },
   {
    "duration": 491,
    "start_time": "2022-03-22T21:18:13.877Z"
   },
   {
    "duration": 670,
    "start_time": "2022-03-22T21:18:36.285Z"
   },
   {
    "duration": 509,
    "start_time": "2022-03-22T21:19:13.870Z"
   },
   {
    "duration": 561,
    "start_time": "2022-03-22T21:20:15.014Z"
   },
   {
    "duration": 457,
    "start_time": "2022-03-22T21:20:35.358Z"
   },
   {
    "duration": 139,
    "start_time": "2022-03-22T21:34:31.481Z"
   },
   {
    "duration": 504,
    "start_time": "2022-03-22T21:34:38.473Z"
   },
   {
    "duration": 554,
    "start_time": "2022-03-22T21:35:27.594Z"
   },
   {
    "duration": 86,
    "start_time": "2022-03-22T21:37:14.061Z"
   },
   {
    "duration": 476,
    "start_time": "2022-03-22T21:37:23.019Z"
   },
   {
    "duration": 482,
    "start_time": "2022-03-22T21:38:08.397Z"
   },
   {
    "duration": 694,
    "start_time": "2022-03-22T21:38:13.221Z"
   },
   {
    "duration": 500,
    "start_time": "2022-03-22T21:38:39.166Z"
   },
   {
    "duration": 505,
    "start_time": "2022-03-22T21:38:53.495Z"
   },
   {
    "duration": 495,
    "start_time": "2022-03-22T21:39:07.679Z"
   },
   {
    "duration": 492,
    "start_time": "2022-03-22T21:39:24.688Z"
   },
   {
    "duration": 728,
    "start_time": "2022-03-22T21:40:41.376Z"
   },
   {
    "duration": 587,
    "start_time": "2022-03-22T21:40:59.321Z"
   },
   {
    "duration": 504,
    "start_time": "2022-03-22T21:41:18.273Z"
   },
   {
    "duration": 497,
    "start_time": "2022-03-22T21:43:37.428Z"
   },
   {
    "duration": 497,
    "start_time": "2022-03-22T21:43:50.396Z"
   },
   {
    "duration": 500,
    "start_time": "2022-03-22T21:46:51.208Z"
   },
   {
    "duration": 136,
    "start_time": "2022-03-22T21:47:20.512Z"
   },
   {
    "duration": 8,
    "start_time": "2022-03-22T21:51:20.335Z"
   },
   {
    "duration": 607,
    "start_time": "2022-03-22T21:51:28.478Z"
   },
   {
    "duration": 491,
    "start_time": "2022-03-22T21:55:53.820Z"
   },
   {
    "duration": 500,
    "start_time": "2022-03-22T21:56:41.276Z"
   },
   {
    "duration": 487,
    "start_time": "2022-03-22T21:56:49.132Z"
   },
   {
    "duration": 490,
    "start_time": "2022-03-22T21:57:02.613Z"
   },
   {
    "duration": 91,
    "start_time": "2022-03-22T21:57:11.149Z"
   },
   {
    "duration": 595,
    "start_time": "2022-03-22T21:57:22.893Z"
   },
   {
    "duration": 493,
    "start_time": "2022-03-22T21:57:53.438Z"
   },
   {
    "duration": 496,
    "start_time": "2022-03-22T21:58:34.838Z"
   },
   {
    "duration": 485,
    "start_time": "2022-03-22T21:59:08.590Z"
   },
   {
    "duration": 498,
    "start_time": "2022-03-22T22:00:15.025Z"
   },
   {
    "duration": 752,
    "start_time": "2022-03-22T22:05:31.324Z"
   },
   {
    "duration": 634,
    "start_time": "2022-03-22T22:06:04.600Z"
   },
   {
    "duration": 483,
    "start_time": "2022-03-22T22:06:17.728Z"
   },
   {
    "duration": 526,
    "start_time": "2022-03-22T22:06:26.736Z"
   },
   {
    "duration": 540,
    "start_time": "2022-03-22T22:08:26.954Z"
   },
   {
    "duration": 537,
    "start_time": "2022-03-22T22:08:38.164Z"
   },
   {
    "duration": 628,
    "start_time": "2022-03-22T22:09:03.235Z"
   },
   {
    "duration": 489,
    "start_time": "2022-03-22T22:09:15.019Z"
   },
   {
    "duration": 537,
    "start_time": "2022-03-22T22:09:35.226Z"
   },
   {
    "duration": 539,
    "start_time": "2022-03-22T22:09:56.077Z"
   },
   {
    "duration": 109,
    "start_time": "2022-03-22T22:10:15.381Z"
   },
   {
    "duration": 537,
    "start_time": "2022-03-22T22:10:42.045Z"
   },
   {
    "duration": 523,
    "start_time": "2022-03-22T22:12:19.440Z"
   },
   {
    "duration": 654,
    "start_time": "2022-03-22T22:12:35.184Z"
   },
   {
    "duration": 404,
    "start_time": "2022-03-22T22:12:49.608Z"
   },
   {
    "duration": 20,
    "start_time": "2022-03-22T22:13:38.761Z"
   },
   {
    "duration": 399,
    "start_time": "2022-03-22T22:14:00.948Z"
   },
   {
    "duration": 362,
    "start_time": "2022-03-22T22:14:54.115Z"
   },
   {
    "duration": 400,
    "start_time": "2022-03-22T22:15:09.347Z"
   },
   {
    "duration": 539,
    "start_time": "2022-03-22T22:15:36.108Z"
   },
   {
    "duration": 770,
    "start_time": "2022-03-22T22:16:03.676Z"
   },
   {
    "duration": 676,
    "start_time": "2022-03-22T22:16:55.046Z"
   },
   {
    "duration": 671,
    "start_time": "2022-03-22T22:17:06.077Z"
   },
   {
    "duration": 669,
    "start_time": "2022-03-22T22:17:35.484Z"
   },
   {
    "duration": 18,
    "start_time": "2022-03-22T22:17:51.231Z"
   },
   {
    "duration": 814,
    "start_time": "2022-03-22T22:17:56.375Z"
   },
   {
    "duration": 692,
    "start_time": "2022-03-22T22:19:23.465Z"
   },
   {
    "duration": 681,
    "start_time": "2022-03-22T22:20:37.209Z"
   },
   {
    "duration": 759,
    "start_time": "2022-03-22T22:21:07.778Z"
   },
   {
    "duration": 617,
    "start_time": "2022-03-22T22:21:50.499Z"
   },
   {
    "duration": 495,
    "start_time": "2022-03-22T22:22:36.422Z"
   },
   {
    "duration": 597,
    "start_time": "2022-03-22T22:22:46.709Z"
   },
   {
    "duration": 760,
    "start_time": "2022-03-22T22:22:55.877Z"
   },
   {
    "duration": 627,
    "start_time": "2022-03-22T22:23:03.605Z"
   },
   {
    "duration": 922,
    "start_time": "2022-03-22T22:24:27.334Z"
   },
   {
    "duration": 1039,
    "start_time": "2022-03-22T22:29:13.164Z"
   },
   {
    "duration": 915,
    "start_time": "2022-03-22T22:29:24.516Z"
   },
   {
    "duration": 558,
    "start_time": "2022-03-22T22:29:54.005Z"
   },
   {
    "duration": 769,
    "start_time": "2022-03-22T22:30:09.110Z"
   },
   {
    "duration": 1390,
    "start_time": "2022-03-22T22:30:26.838Z"
   },
   {
    "duration": 1395,
    "start_time": "2022-03-22T22:31:39.943Z"
   },
   {
    "duration": 316,
    "start_time": "2022-03-22T22:43:30.223Z"
   },
   {
    "duration": 319,
    "start_time": "2022-03-22T22:43:42.013Z"
   },
   {
    "duration": 1233,
    "start_time": "2022-03-22T22:44:28.111Z"
   },
   {
    "duration": 1435,
    "start_time": "2022-03-22T22:44:38.063Z"
   },
   {
    "duration": 1229,
    "start_time": "2022-03-22T22:45:26.792Z"
   },
   {
    "duration": 3307,
    "start_time": "2022-03-22T22:48:23.820Z"
   },
   {
    "duration": 1374,
    "start_time": "2022-03-22T22:48:40.588Z"
   },
   {
    "duration": 1412,
    "start_time": "2022-03-22T22:51:49.192Z"
   },
   {
    "duration": 1183,
    "start_time": "2022-03-22T23:07:00.108Z"
   },
   {
    "duration": 332,
    "start_time": "2022-03-22T23:16:48.975Z"
   },
   {
    "duration": 294,
    "start_time": "2022-03-22T23:17:17.656Z"
   },
   {
    "duration": 112,
    "start_time": "2022-03-22T23:18:31.153Z"
   },
   {
    "duration": 294,
    "start_time": "2022-03-22T23:19:19.259Z"
   },
   {
    "duration": 83,
    "start_time": "2022-03-22T23:19:55.316Z"
   },
   {
    "duration": 94,
    "start_time": "2022-03-22T23:20:11.012Z"
   },
   {
    "duration": 87,
    "start_time": "2022-03-22T23:21:15.636Z"
   },
   {
    "duration": 93,
    "start_time": "2022-03-22T23:22:50.919Z"
   },
   {
    "duration": 89,
    "start_time": "2022-03-22T23:23:11.991Z"
   },
   {
    "duration": 350,
    "start_time": "2022-03-22T23:23:21.199Z"
   },
   {
    "duration": 85,
    "start_time": "2022-03-22T23:24:48.353Z"
   },
   {
    "duration": 307,
    "start_time": "2022-03-22T23:24:53.169Z"
   },
   {
    "duration": 342,
    "start_time": "2022-03-22T23:25:15.145Z"
   },
   {
    "duration": 354,
    "start_time": "2022-03-22T23:25:44.522Z"
   },
   {
    "duration": 470,
    "start_time": "2022-03-22T23:25:51.170Z"
   },
   {
    "duration": 372,
    "start_time": "2022-03-22T23:26:09.451Z"
   },
   {
    "duration": 366,
    "start_time": "2022-03-22T23:26:38.939Z"
   },
   {
    "duration": 361,
    "start_time": "2022-03-22T23:27:12.916Z"
   },
   {
    "duration": 332,
    "start_time": "2022-03-22T23:27:31.677Z"
   },
   {
    "duration": 338,
    "start_time": "2022-03-22T23:27:55.684Z"
   },
   {
    "duration": 378,
    "start_time": "2022-03-22T23:28:08.612Z"
   },
   {
    "duration": 331,
    "start_time": "2022-03-22T23:28:54.439Z"
   },
   {
    "duration": 332,
    "start_time": "2022-03-22T23:29:04.240Z"
   },
   {
    "duration": 332,
    "start_time": "2022-03-22T23:29:10.758Z"
   },
   {
    "duration": 1155,
    "start_time": "2022-03-22T23:41:26.212Z"
   },
   {
    "duration": 4,
    "start_time": "2022-03-22T23:41:33.806Z"
   },
   {
    "duration": 4,
    "start_time": "2022-03-22T23:41:37.149Z"
   },
   {
    "duration": 228,
    "start_time": "2022-03-22T23:42:43.935Z"
   },
   {
    "duration": 366,
    "start_time": "2022-03-22T23:43:30.416Z"
   },
   {
    "duration": 57,
    "start_time": "2022-03-22T23:45:11.794Z"
   },
   {
    "duration": 290,
    "start_time": "2022-03-22T23:45:44.019Z"
   },
   {
    "duration": 296,
    "start_time": "2022-03-22T23:47:09.958Z"
   },
   {
    "duration": 55,
    "start_time": "2022-03-22T23:48:08.527Z"
   },
   {
    "duration": 292,
    "start_time": "2022-03-22T23:49:40.506Z"
   },
   {
    "duration": 383,
    "start_time": "2022-03-22T23:49:58.512Z"
   },
   {
    "duration": 384,
    "start_time": "2022-03-22T23:50:09.935Z"
   },
   {
    "duration": 385,
    "start_time": "2022-03-22T23:50:32.441Z"
   },
   {
    "duration": 550,
    "start_time": "2022-03-22T23:51:11.810Z"
   },
   {
    "duration": 339,
    "start_time": "2022-03-22T23:51:26.587Z"
   },
   {
    "duration": 290,
    "start_time": "2022-03-22T23:53:59.101Z"
   },
   {
    "duration": 373,
    "start_time": "2022-03-22T23:54:15.821Z"
   },
   {
    "duration": 367,
    "start_time": "2022-03-22T23:54:36.462Z"
   },
   {
    "duration": 383,
    "start_time": "2022-03-22T23:55:48.384Z"
   },
   {
    "duration": 350,
    "start_time": "2022-03-22T23:55:55.357Z"
   },
   {
    "duration": 1375,
    "start_time": "2022-03-22T23:59:22.324Z"
   },
   {
    "duration": 1226,
    "start_time": "2022-03-22T23:59:31.716Z"
   },
   {
    "duration": 447,
    "start_time": "2022-03-22T23:59:58.805Z"
   },
   {
    "duration": 299,
    "start_time": "2022-03-23T00:00:06.923Z"
   },
   {
    "duration": 456,
    "start_time": "2022-03-23T00:02:04.127Z"
   },
   {
    "duration": 117,
    "start_time": "2022-03-23T00:10:30.395Z"
   },
   {
    "duration": 17,
    "start_time": "2022-03-23T00:10:39.937Z"
   },
   {
    "duration": 5,
    "start_time": "2022-03-23T00:12:01.843Z"
   },
   {
    "duration": 4,
    "start_time": "2022-03-23T00:12:05.299Z"
   },
   {
    "duration": 296,
    "start_time": "2022-03-23T00:12:17.211Z"
   },
   {
    "duration": 18,
    "start_time": "2022-03-23T00:12:48.404Z"
   },
   {
    "duration": 618,
    "start_time": "2022-03-23T00:13:15.933Z"
   },
   {
    "duration": 606,
    "start_time": "2022-03-23T00:14:18.550Z"
   },
   {
    "duration": 800,
    "start_time": "2022-03-23T00:16:34.704Z"
   },
   {
    "duration": 393,
    "start_time": "2022-03-23T00:17:21.513Z"
   },
   {
    "duration": 420,
    "start_time": "2022-03-23T00:18:08.578Z"
   },
   {
    "duration": 49,
    "start_time": "2022-03-23T20:42:57.547Z"
   },
   {
    "duration": 131038,
    "start_time": "2022-03-23T20:43:58.652Z"
   },
   {
    "duration": 497,
    "start_time": "2022-03-23T20:46:09.693Z"
   },
   {
    "duration": 187,
    "start_time": "2022-03-23T20:46:10.191Z"
   },
   {
    "duration": 79,
    "start_time": "2022-03-23T20:46:10.381Z"
   },
   {
    "duration": 352,
    "start_time": "2022-03-23T20:46:10.462Z"
   },
   {
    "duration": 28,
    "start_time": "2022-03-23T20:46:10.816Z"
   },
   {
    "duration": 1234,
    "start_time": "2022-03-23T20:46:10.846Z"
   },
   {
    "duration": 256,
    "start_time": "2022-03-23T20:46:12.082Z"
   },
   {
    "duration": 5,
    "start_time": "2022-03-23T20:48:42.716Z"
   },
   {
    "duration": 5,
    "start_time": "2022-03-23T20:48:59.112Z"
   },
   {
    "duration": 9,
    "start_time": "2022-03-23T20:48:59.119Z"
   },
   {
    "duration": 186,
    "start_time": "2022-03-23T20:48:59.129Z"
   },
   {
    "duration": 60,
    "start_time": "2022-03-23T20:48:59.318Z"
   },
   {
    "duration": 353,
    "start_time": "2022-03-23T20:48:59.380Z"
   },
   {
    "duration": 27,
    "start_time": "2022-03-23T20:48:59.735Z"
   },
   {
    "duration": 1214,
    "start_time": "2022-03-23T20:48:59.764Z"
   },
   {
    "duration": 259,
    "start_time": "2022-03-23T20:49:00.980Z"
   },
   {
    "duration": 4,
    "start_time": "2022-03-23T20:49:07.325Z"
   },
   {
    "duration": 4,
    "start_time": "2022-03-23T20:49:22.886Z"
   },
   {
    "duration": 837,
    "start_time": "2022-03-23T21:10:35.390Z"
   },
   {
    "duration": 761,
    "start_time": "2022-03-23T21:10:55.533Z"
   },
   {
    "duration": 198,
    "start_time": "2022-03-23T21:12:32.856Z"
   },
   {
    "duration": 248,
    "start_time": "2022-03-23T21:13:30.072Z"
   },
   {
    "duration": 349,
    "start_time": "2022-03-23T21:13:33.257Z"
   },
   {
    "duration": 115,
    "start_time": "2022-03-23T21:13:57.609Z"
   },
   {
    "duration": 163,
    "start_time": "2022-03-23T21:14:11.761Z"
   },
   {
    "duration": 842,
    "start_time": "2022-03-23T21:14:31.866Z"
   },
   {
    "duration": 243,
    "start_time": "2022-03-23T21:14:48.210Z"
   },
   {
    "duration": 184,
    "start_time": "2022-03-23T21:14:57.963Z"
   },
   {
    "duration": 156,
    "start_time": "2022-03-23T21:15:34.643Z"
   },
   {
    "duration": 249,
    "start_time": "2022-03-23T21:15:56.748Z"
   },
   {
    "duration": 240,
    "start_time": "2022-03-23T21:19:02.280Z"
   },
   {
    "duration": 302,
    "start_time": "2022-03-23T21:19:13.751Z"
   },
   {
    "duration": 333,
    "start_time": "2022-03-23T21:19:27.113Z"
   },
   {
    "duration": 213,
    "start_time": "2022-03-23T21:22:06.540Z"
   },
   {
    "duration": 139,
    "start_time": "2022-03-23T21:22:15.683Z"
   },
   {
    "duration": 15,
    "start_time": "2022-03-23T21:22:36.900Z"
   },
   {
    "duration": 12,
    "start_time": "2022-03-23T21:22:44.877Z"
   },
   {
    "duration": 135,
    "start_time": "2022-03-23T21:24:00.622Z"
   },
   {
    "duration": 122,
    "start_time": "2022-03-23T21:24:08.990Z"
   },
   {
    "duration": 4,
    "start_time": "2022-03-23T21:25:01.539Z"
   },
   {
    "duration": 6,
    "start_time": "2022-03-23T21:25:01.545Z"
   },
   {
    "duration": 164,
    "start_time": "2022-03-23T21:25:01.553Z"
   },
   {
    "duration": 62,
    "start_time": "2022-03-23T21:25:01.719Z"
   },
   {
    "duration": 336,
    "start_time": "2022-03-23T21:25:01.783Z"
   },
   {
    "duration": 26,
    "start_time": "2022-03-23T21:25:02.121Z"
   },
   {
    "duration": 1176,
    "start_time": "2022-03-23T21:25:02.148Z"
   },
   {
    "duration": 758,
    "start_time": "2022-03-23T21:25:03.325Z"
   },
   {
    "duration": 253,
    "start_time": "2022-03-23T21:25:19.216Z"
   },
   {
    "duration": 172,
    "start_time": "2022-03-23T21:25:25.831Z"
   },
   {
    "duration": 160,
    "start_time": "2022-03-23T21:25:37.815Z"
   },
   {
    "duration": 268,
    "start_time": "2022-03-23T21:49:18.499Z"
   },
   {
    "duration": 588,
    "start_time": "2022-03-23T21:55:47.562Z"
   },
   {
    "duration": 822,
    "start_time": "2022-03-23T21:56:46.563Z"
   },
   {
    "duration": 1205,
    "start_time": "2022-03-23T21:57:24.772Z"
   },
   {
    "duration": 2257,
    "start_time": "2022-03-23T21:58:00.821Z"
   },
   {
    "duration": 2138,
    "start_time": "2022-03-23T21:58:21.149Z"
   },
   {
    "duration": 2576,
    "start_time": "2022-03-23T22:00:14.569Z"
   },
   {
    "duration": 2334,
    "start_time": "2022-03-23T22:01:06.993Z"
   },
   {
    "duration": 2338,
    "start_time": "2022-03-23T22:02:53.307Z"
   },
   {
    "duration": 1903,
    "start_time": "2022-03-23T22:04:55.230Z"
   },
   {
    "duration": 3286,
    "start_time": "2022-03-23T22:06:59.296Z"
   },
   {
    "duration": 2830,
    "start_time": "2022-03-23T22:07:26.944Z"
   },
   {
    "duration": 560,
    "start_time": "2022-03-23T22:08:16.175Z"
   },
   {
    "duration": 2258,
    "start_time": "2022-03-23T22:08:36.530Z"
   },
   {
    "duration": 1968,
    "start_time": "2022-03-23T22:09:10.672Z"
   },
   {
    "duration": 1375,
    "start_time": "2022-03-23T22:10:26.294Z"
   },
   {
    "duration": 955,
    "start_time": "2022-03-23T22:10:35.346Z"
   },
   {
    "duration": 71,
    "start_time": "2022-03-23T22:13:33.196Z"
   },
   {
    "duration": 63,
    "start_time": "2022-03-23T22:13:50.587Z"
   },
   {
    "duration": 68,
    "start_time": "2022-03-23T22:13:59.131Z"
   },
   {
    "duration": 69,
    "start_time": "2022-03-23T22:14:25.348Z"
   },
   {
    "duration": 89,
    "start_time": "2022-03-23T22:14:31.069Z"
   },
   {
    "duration": 69,
    "start_time": "2022-03-23T22:16:28.126Z"
   },
   {
    "duration": 124,
    "start_time": "2022-03-23T22:16:35.822Z"
   },
   {
    "duration": 1321,
    "start_time": "2022-03-23T22:18:10.792Z"
   },
   {
    "duration": 934,
    "start_time": "2022-03-23T22:25:40.191Z"
   },
   {
    "duration": 1407,
    "start_time": "2022-03-23T22:27:13.506Z"
   },
   {
    "duration": 970,
    "start_time": "2022-03-23T22:27:57.257Z"
   },
   {
    "duration": 1274,
    "start_time": "2022-03-23T22:28:12.315Z"
   },
   {
    "duration": 1008,
    "start_time": "2022-03-23T22:29:09.939Z"
   },
   {
    "duration": 987,
    "start_time": "2022-03-23T22:30:17.916Z"
   },
   {
    "duration": 1284,
    "start_time": "2022-03-23T22:31:28.398Z"
   },
   {
    "duration": 1022,
    "start_time": "2022-03-23T22:32:06.311Z"
   },
   {
    "duration": 1225,
    "start_time": "2022-03-23T22:33:24.392Z"
   },
   {
    "duration": 950,
    "start_time": "2022-03-23T22:33:32.617Z"
   },
   {
    "duration": 1238,
    "start_time": "2022-03-23T22:33:40.297Z"
   },
   {
    "duration": 990,
    "start_time": "2022-03-23T22:34:14.601Z"
   },
   {
    "duration": 1258,
    "start_time": "2022-03-23T22:35:44.507Z"
   },
   {
    "duration": 93,
    "start_time": "2022-03-23T22:38:04.342Z"
   },
   {
    "duration": 62,
    "start_time": "2022-03-23T22:39:10.663Z"
   },
   {
    "duration": 972,
    "start_time": "2022-03-23T22:40:27.049Z"
   },
   {
    "duration": 1239,
    "start_time": "2022-03-23T22:56:30.106Z"
   },
   {
    "duration": 12,
    "start_time": "2022-03-23T22:59:28.093Z"
   },
   {
    "duration": 1043,
    "start_time": "2022-03-23T23:00:58.494Z"
   },
   {
    "duration": 3650,
    "start_time": "2022-03-23T23:02:33.801Z"
   },
   {
    "duration": 3812,
    "start_time": "2022-03-23T23:02:57.809Z"
   },
   {
    "duration": 4573,
    "start_time": "2022-03-23T23:03:16.072Z"
   },
   {
    "duration": 4086,
    "start_time": "2022-03-23T23:09:09.151Z"
   },
   {
    "duration": 4398,
    "start_time": "2022-03-23T23:09:51.697Z"
   },
   {
    "duration": 3909,
    "start_time": "2022-03-23T23:10:24.425Z"
   },
   {
    "duration": 3620,
    "start_time": "2022-03-23T23:11:11.857Z"
   },
   {
    "duration": 4214,
    "start_time": "2022-03-23T23:11:28.625Z"
   },
   {
    "duration": 4154,
    "start_time": "2022-03-23T23:12:00.553Z"
   },
   {
    "duration": 4292,
    "start_time": "2022-03-23T23:12:17.850Z"
   },
   {
    "duration": 4300,
    "start_time": "2022-03-23T23:14:02.284Z"
   },
   {
    "duration": 4164,
    "start_time": "2022-03-23T23:14:19.260Z"
   },
   {
    "duration": 5,
    "start_time": "2022-03-23T23:14:46.001Z"
   },
   {
    "duration": 4,
    "start_time": "2022-03-23T23:14:46.008Z"
   },
   {
    "duration": 146,
    "start_time": "2022-03-23T23:14:46.014Z"
   },
   {
    "duration": 71,
    "start_time": "2022-03-23T23:14:46.162Z"
   },
   {
    "duration": 670,
    "start_time": "2022-03-23T23:14:46.234Z"
   },
   {
    "duration": 26,
    "start_time": "2022-03-23T23:14:46.906Z"
   },
   {
    "duration": 1131,
    "start_time": "2022-03-23T23:14:46.934Z"
   },
   {
    "duration": 797,
    "start_time": "2022-03-23T23:14:48.067Z"
   },
   {
    "duration": 5158,
    "start_time": "2022-03-23T23:14:50.788Z"
   },
   {
    "duration": 5414,
    "start_time": "2022-03-23T23:15:01.605Z"
   },
   {
    "duration": 5290,
    "start_time": "2022-03-23T23:16:36.728Z"
   },
   {
    "duration": 5350,
    "start_time": "2022-03-23T23:16:49.176Z"
   },
   {
    "duration": 5225,
    "start_time": "2022-03-23T23:19:50.962Z"
   },
   {
    "duration": 5355,
    "start_time": "2022-03-23T23:20:25.746Z"
   },
   {
    "duration": 5168,
    "start_time": "2022-03-23T23:20:39.627Z"
   },
   {
    "duration": 5363,
    "start_time": "2022-03-23T23:23:01.709Z"
   },
   {
    "duration": 519,
    "start_time": "2022-03-23T23:37:24.723Z"
   },
   {
    "duration": 155,
    "start_time": "2022-03-23T23:38:03.785Z"
   },
   {
    "duration": 156,
    "start_time": "2022-03-23T23:38:28.321Z"
   },
   {
    "duration": 117,
    "start_time": "2022-03-23T23:45:07.080Z"
   },
   {
    "duration": 156,
    "start_time": "2022-03-23T23:45:19.456Z"
   },
   {
    "duration": 156,
    "start_time": "2022-03-23T23:46:40.638Z"
   },
   {
    "duration": 162,
    "start_time": "2022-03-23T23:47:21.593Z"
   },
   {
    "duration": 166,
    "start_time": "2022-03-23T23:47:36.402Z"
   },
   {
    "duration": 156,
    "start_time": "2022-03-23T23:48:38.755Z"
   },
   {
    "duration": 168,
    "start_time": "2022-03-23T23:56:02.201Z"
   },
   {
    "duration": 1554,
    "start_time": "2022-03-23T23:56:14.490Z"
   },
   {
    "duration": 1809,
    "start_time": "2022-03-23T23:57:20.955Z"
   },
   {
    "duration": 1969,
    "start_time": "2022-03-23T23:58:24.955Z"
   },
   {
    "duration": 1723,
    "start_time": "2022-03-23T23:59:00.227Z"
   },
   {
    "duration": 1840,
    "start_time": "2022-03-23T23:59:12.044Z"
   },
   {
    "duration": 1823,
    "start_time": "2022-03-24T00:01:06.939Z"
   },
   {
    "duration": 2181,
    "start_time": "2022-03-24T00:01:16.606Z"
   },
   {
    "duration": 1773,
    "start_time": "2022-03-24T00:01:58.943Z"
   },
   {
    "duration": 60,
    "start_time": "2022-03-24T00:03:40.392Z"
   },
   {
    "duration": 1921,
    "start_time": "2022-03-24T00:03:46.024Z"
   },
   {
    "duration": 2221,
    "start_time": "2022-03-24T00:04:00.057Z"
   },
   {
    "duration": 1930,
    "start_time": "2022-03-24T00:04:50.504Z"
   },
   {
    "duration": 1948,
    "start_time": "2022-03-24T00:05:01.474Z"
   },
   {
    "duration": 2354,
    "start_time": "2022-03-24T00:05:15.481Z"
   },
   {
    "duration": 1900,
    "start_time": "2022-03-24T00:05:25.194Z"
   },
   {
    "duration": 1943,
    "start_time": "2022-03-24T00:05:38.113Z"
   },
   {
    "duration": 1952,
    "start_time": "2022-03-24T00:06:46.404Z"
   },
   {
    "duration": 2312,
    "start_time": "2022-03-24T00:08:01.109Z"
   },
   {
    "duration": 2016,
    "start_time": "2022-03-24T00:08:05.668Z"
   },
   {
    "duration": 5407,
    "start_time": "2022-03-24T10:18:24.326Z"
   },
   {
    "duration": 795,
    "start_time": "2022-03-24T10:18:29.736Z"
   },
   {
    "duration": 251,
    "start_time": "2022-03-24T10:18:30.534Z"
   },
   {
    "duration": 106,
    "start_time": "2022-03-24T10:18:30.788Z"
   },
   {
    "duration": 570,
    "start_time": "2022-03-24T10:18:30.899Z"
   },
   {
    "duration": 40,
    "start_time": "2022-03-24T10:18:31.472Z"
   },
   {
    "duration": 2023,
    "start_time": "2022-03-24T10:18:31.514Z"
   },
   {
    "duration": 1243,
    "start_time": "2022-03-24T10:18:33.540Z"
   },
   {
    "duration": 8412,
    "start_time": "2022-03-24T10:18:34.786Z"
   },
   {
    "duration": 10204,
    "start_time": "2022-03-24T10:18:43.202Z"
   },
   {
    "duration": 3240,
    "start_time": "2022-03-24T10:18:53.409Z"
   },
   {
    "duration": 833,
    "start_time": "2022-03-24T10:18:56.651Z"
   },
   {
    "duration": 325,
    "start_time": "2022-03-24T10:18:57.486Z"
   },
   {
    "duration": 303,
    "start_time": "2022-03-24T10:18:57.815Z"
   },
   {
    "duration": 421,
    "start_time": "2022-03-24T10:18:58.121Z"
   },
   {
    "duration": 77,
    "start_time": "2022-03-24T10:18:58.544Z"
   },
   {
    "duration": 7831,
    "start_time": "2022-03-24T10:20:41.440Z"
   },
   {
    "duration": 6,
    "start_time": "2022-03-24T10:20:52.145Z"
   },
   {
    "duration": 18,
    "start_time": "2022-03-24T10:20:52.154Z"
   },
   {
    "duration": 229,
    "start_time": "2022-03-24T10:20:52.174Z"
   },
   {
    "duration": 89,
    "start_time": "2022-03-24T10:20:52.405Z"
   },
   {
    "duration": 575,
    "start_time": "2022-03-24T10:20:52.497Z"
   },
   {
    "duration": 39,
    "start_time": "2022-03-24T10:20:53.074Z"
   },
   {
    "duration": 2218,
    "start_time": "2022-03-24T10:20:53.115Z"
   },
   {
    "duration": 1351,
    "start_time": "2022-03-24T10:20:55.335Z"
   },
   {
    "duration": 7865,
    "start_time": "2022-03-24T10:21:06.347Z"
   },
   {
    "duration": 3515,
    "start_time": "2022-03-24T10:33:03.053Z"
   },
   {
    "duration": 3952,
    "start_time": "2022-03-24T10:33:30.462Z"
   },
   {
    "duration": 4895,
    "start_time": "2022-03-24T10:33:51.694Z"
   },
   {
    "duration": 5125,
    "start_time": "2022-03-24T10:37:00.674Z"
   },
   {
    "duration": 375,
    "start_time": "2022-03-24T10:37:20.729Z"
   },
   {
    "duration": 4428,
    "start_time": "2022-03-24T10:38:35.888Z"
   },
   {
    "duration": 361,
    "start_time": "2022-03-24T10:39:00.247Z"
   },
   {
    "duration": 360,
    "start_time": "2022-03-24T10:42:34.356Z"
   },
   {
    "duration": 17,
    "start_time": "2022-03-24T10:42:40.332Z"
   },
   {
    "duration": 28,
    "start_time": "2022-03-24T10:42:54.636Z"
   },
   {
    "duration": 368,
    "start_time": "2022-03-24T10:44:39.922Z"
   },
   {
    "duration": 21,
    "start_time": "2022-03-24T10:46:56.544Z"
   },
   {
    "duration": 347,
    "start_time": "2022-03-24T10:48:53.421Z"
   },
   {
    "duration": 364,
    "start_time": "2022-03-24T10:49:08.821Z"
   },
   {
    "duration": 224,
    "start_time": "2022-03-24T10:49:59.924Z"
   },
   {
    "duration": 393,
    "start_time": "2022-03-24T10:50:37.292Z"
   },
   {
    "duration": 389,
    "start_time": "2022-03-24T10:57:25.341Z"
   },
   {
    "duration": 20,
    "start_time": "2022-03-24T10:57:41.491Z"
   },
   {
    "duration": 16,
    "start_time": "2022-03-24T11:03:36.661Z"
   },
   {
    "duration": 20,
    "start_time": "2022-03-24T11:03:44.509Z"
   },
   {
    "duration": 354,
    "start_time": "2022-03-24T11:03:52.668Z"
   },
   {
    "duration": 19,
    "start_time": "2022-03-24T11:05:20.092Z"
   },
   {
    "duration": 18,
    "start_time": "2022-03-24T11:06:29.979Z"
   },
   {
    "duration": 366,
    "start_time": "2022-03-24T11:06:35.512Z"
   },
   {
    "duration": 19,
    "start_time": "2022-03-24T11:07:58.944Z"
   },
   {
    "duration": 18,
    "start_time": "2022-03-24T11:09:04.505Z"
   },
   {
    "duration": 372,
    "start_time": "2022-03-24T11:09:29.783Z"
   },
   {
    "duration": 490,
    "start_time": "2022-03-24T11:09:54.095Z"
   },
   {
    "duration": 33,
    "start_time": "2022-03-24T11:11:11.006Z"
   },
   {
    "duration": 23,
    "start_time": "2022-03-24T11:11:24.845Z"
   },
   {
    "duration": 27,
    "start_time": "2022-03-24T11:11:33.309Z"
   },
   {
    "duration": 31,
    "start_time": "2022-03-24T11:11:54.132Z"
   },
   {
    "duration": 30,
    "start_time": "2022-03-24T11:11:57.052Z"
   },
   {
    "duration": 32,
    "start_time": "2022-03-24T11:12:06.436Z"
   },
   {
    "duration": 28,
    "start_time": "2022-03-24T11:12:13.413Z"
   },
   {
    "duration": 32,
    "start_time": "2022-03-24T11:12:28.235Z"
   },
   {
    "duration": 34,
    "start_time": "2022-03-24T11:12:50.536Z"
   },
   {
    "duration": 153,
    "start_time": "2022-03-24T11:13:18.499Z"
   },
   {
    "duration": 59,
    "start_time": "2022-03-24T11:13:26.476Z"
   },
   {
    "duration": 43,
    "start_time": "2022-03-24T11:17:04.151Z"
   },
   {
    "duration": 153,
    "start_time": "2022-03-24T11:17:42.671Z"
   },
   {
    "duration": 34,
    "start_time": "2022-03-24T11:17:46.015Z"
   },
   {
    "duration": 35,
    "start_time": "2022-03-24T11:17:58.446Z"
   },
   {
    "duration": 33,
    "start_time": "2022-03-24T11:18:27.341Z"
   },
   {
    "duration": 36,
    "start_time": "2022-03-24T11:18:34.717Z"
   },
   {
    "duration": 32,
    "start_time": "2022-03-24T11:21:43.075Z"
   },
   {
    "duration": 50,
    "start_time": "2022-03-24T11:23:15.929Z"
   },
   {
    "duration": 556,
    "start_time": "2022-03-24T11:24:04.759Z"
   },
   {
    "duration": 581,
    "start_time": "2022-03-24T11:24:08.816Z"
   },
   {
    "duration": 547,
    "start_time": "2022-03-24T11:24:15.752Z"
   },
   {
    "duration": 351,
    "start_time": "2022-03-24T11:24:24.415Z"
   },
   {
    "duration": 351,
    "start_time": "2022-03-24T11:24:35.343Z"
   },
   {
    "duration": 331,
    "start_time": "2022-03-24T11:24:40.807Z"
   },
   {
    "duration": 33,
    "start_time": "2022-03-24T11:25:38.734Z"
   },
   {
    "duration": 34,
    "start_time": "2022-03-24T11:32:13.431Z"
   },
   {
    "duration": 305,
    "start_time": "2022-03-24T11:51:53.459Z"
   },
   {
    "duration": 33,
    "start_time": "2022-03-24T11:52:29.506Z"
   },
   {
    "duration": 311,
    "start_time": "2022-03-24T11:53:08.433Z"
   },
   {
    "duration": 304,
    "start_time": "2022-03-24T11:54:24.456Z"
   },
   {
    "duration": 330,
    "start_time": "2022-03-24T11:54:40.079Z"
   },
   {
    "duration": 421,
    "start_time": "2022-03-24T11:55:11.223Z"
   },
   {
    "duration": 37,
    "start_time": "2022-03-24T11:57:22.086Z"
   },
   {
    "duration": 33,
    "start_time": "2022-03-24T11:58:12.883Z"
   },
   {
    "duration": 7,
    "start_time": "2022-03-24T12:04:37.988Z"
   },
   {
    "duration": 32,
    "start_time": "2022-03-24T12:04:43.196Z"
   },
   {
    "duration": 32,
    "start_time": "2022-03-24T12:37:47.878Z"
   },
   {
    "duration": 28,
    "start_time": "2022-03-24T12:38:55.553Z"
   },
   {
    "duration": 6,
    "start_time": "2022-03-24T12:39:56.072Z"
   },
   {
    "duration": 10,
    "start_time": "2022-03-24T12:40:08.935Z"
   },
   {
    "duration": 27,
    "start_time": "2022-03-24T12:41:19.174Z"
   },
   {
    "duration": 193,
    "start_time": "2022-03-24T12:41:45.078Z"
   },
   {
    "duration": 26,
    "start_time": "2022-03-24T12:41:58.959Z"
   },
   {
    "duration": 364,
    "start_time": "2022-03-24T12:44:23.539Z"
   },
   {
    "duration": 352,
    "start_time": "2022-03-24T12:44:54.971Z"
   },
   {
    "duration": 243,
    "start_time": "2022-03-24T12:45:21.434Z"
   },
   {
    "duration": 65,
    "start_time": "2022-03-24T12:46:02.098Z"
   },
   {
    "duration": 32,
    "start_time": "2022-03-24T12:46:16.430Z"
   },
   {
    "duration": 444,
    "start_time": "2022-03-24T12:54:29.450Z"
   },
   {
    "duration": 399,
    "start_time": "2022-03-24T12:55:09.168Z"
   },
   {
    "duration": 397,
    "start_time": "2022-03-24T12:55:44.360Z"
   },
   {
    "duration": 440,
    "start_time": "2022-03-24T12:55:57.760Z"
   },
   {
    "duration": 389,
    "start_time": "2022-03-24T12:56:15.135Z"
   },
   {
    "duration": 419,
    "start_time": "2022-03-24T12:56:51.022Z"
   },
   {
    "duration": 400,
    "start_time": "2022-03-24T12:57:07.654Z"
   },
   {
    "duration": 387,
    "start_time": "2022-03-24T12:57:25.501Z"
   },
   {
    "duration": 353,
    "start_time": "2022-03-24T12:58:28.141Z"
   },
   {
    "duration": 359,
    "start_time": "2022-03-24T12:58:42.797Z"
   },
   {
    "duration": 478,
    "start_time": "2022-03-24T12:59:00.844Z"
   },
   {
    "duration": 362,
    "start_time": "2022-03-24T12:59:47.524Z"
   },
   {
    "duration": 375,
    "start_time": "2022-03-24T13:00:11.117Z"
   },
   {
    "duration": 418,
    "start_time": "2022-03-24T13:00:58.626Z"
   },
   {
    "duration": 3113,
    "start_time": "2022-03-24T13:17:48.963Z"
   },
   {
    "duration": 4325,
    "start_time": "2022-03-24T13:21:28.384Z"
   },
   {
    "duration": 855,
    "start_time": "2022-03-24T13:23:33.794Z"
   },
   {
    "duration": 669,
    "start_time": "2022-03-24T13:23:59.699Z"
   },
   {
    "duration": 360,
    "start_time": "2022-03-24T13:24:23.275Z"
   },
   {
    "duration": 669,
    "start_time": "2022-03-24T13:25:04.490Z"
   },
   {
    "duration": 731,
    "start_time": "2022-03-24T13:25:58.801Z"
   },
   {
    "duration": 667,
    "start_time": "2022-03-24T13:29:18.909Z"
   },
   {
    "duration": 55,
    "start_time": "2022-03-24T13:29:40.388Z"
   },
   {
    "duration": 54,
    "start_time": "2022-03-24T13:30:06.237Z"
   },
   {
    "duration": 56,
    "start_time": "2022-03-24T13:30:40.860Z"
   },
   {
    "duration": 58,
    "start_time": "2022-03-24T13:32:29.242Z"
   },
   {
    "duration": 336,
    "start_time": "2022-03-24T13:32:55.624Z"
   },
   {
    "duration": 57,
    "start_time": "2022-03-24T13:35:07.879Z"
   },
   {
    "duration": 71,
    "start_time": "2022-03-24T13:35:48.381Z"
   },
   {
    "duration": 329,
    "start_time": "2022-03-24T13:36:10.694Z"
   },
   {
    "duration": 323,
    "start_time": "2022-03-24T13:36:21.413Z"
   },
   {
    "duration": 450,
    "start_time": "2022-03-24T13:44:53.134Z"
   },
   {
    "duration": 323,
    "start_time": "2022-03-24T13:45:11.668Z"
   },
   {
    "duration": 321,
    "start_time": "2022-03-24T13:45:22.709Z"
   },
   {
    "duration": 343,
    "start_time": "2022-03-24T13:46:02.636Z"
   },
   {
    "duration": 345,
    "start_time": "2022-03-24T13:46:56.866Z"
   },
   {
    "duration": 246,
    "start_time": "2022-03-24T13:55:58.250Z"
   },
   {
    "duration": 242,
    "start_time": "2022-03-24T13:56:52.001Z"
   },
   {
    "duration": 239,
    "start_time": "2022-03-24T13:57:11.848Z"
   },
   {
    "duration": 234,
    "start_time": "2022-03-24T14:01:38.916Z"
   },
   {
    "duration": 191,
    "start_time": "2022-03-24T14:01:46.860Z"
   },
   {
    "duration": 110,
    "start_time": "2022-03-24T14:02:10.753Z"
   },
   {
    "duration": 211,
    "start_time": "2022-03-24T14:02:46.279Z"
   },
   {
    "duration": 8020,
    "start_time": "2022-03-24T14:05:34.336Z"
   },
   {
    "duration": 8327,
    "start_time": "2022-03-24T14:06:16.258Z"
   },
   {
    "duration": 8308,
    "start_time": "2022-03-24T14:06:33.911Z"
   },
   {
    "duration": 34,
    "start_time": "2022-03-24T14:09:54.691Z"
   },
   {
    "duration": 100,
    "start_time": "2022-03-24T14:10:43.986Z"
   },
   {
    "duration": 572,
    "start_time": "2022-03-24T14:10:49.482Z"
   },
   {
    "duration": 35,
    "start_time": "2022-03-24T14:10:53.080Z"
   },
   {
    "duration": 9,
    "start_time": "2022-03-24T14:13:27.464Z"
   },
   {
    "duration": 546,
    "start_time": "2022-03-24T14:17:08.077Z"
   },
   {
    "duration": 200,
    "start_time": "2022-03-24T14:18:18.468Z"
   },
   {
    "duration": 210,
    "start_time": "2022-03-24T14:18:45.339Z"
   },
   {
    "duration": 212,
    "start_time": "2022-03-24T14:18:58.066Z"
   },
   {
    "duration": 217,
    "start_time": "2022-03-24T14:20:19.186Z"
   },
   {
    "duration": 317,
    "start_time": "2022-03-24T14:20:25.212Z"
   },
   {
    "duration": 1448,
    "start_time": "2022-03-24T14:22:23.415Z"
   },
   {
    "duration": 1797,
    "start_time": "2022-03-24T14:23:24.469Z"
   },
   {
    "duration": 50,
    "start_time": "2022-03-24T18:33:46.591Z"
   },
   {
    "duration": 86255,
    "start_time": "2022-03-24T18:35:10.674Z"
   },
   {
    "duration": 468,
    "start_time": "2022-03-24T18:36:36.931Z"
   },
   {
    "duration": 175,
    "start_time": "2022-03-24T18:36:37.401Z"
   },
   {
    "duration": 70,
    "start_time": "2022-03-24T18:36:37.578Z"
   },
   {
    "duration": 349,
    "start_time": "2022-03-24T18:36:37.650Z"
   },
   {
    "duration": 24,
    "start_time": "2022-03-24T18:36:38.001Z"
   },
   {
    "duration": 1221,
    "start_time": "2022-03-24T18:36:38.026Z"
   },
   {
    "duration": 762,
    "start_time": "2022-03-24T18:36:39.249Z"
   },
   {
    "duration": 5024,
    "start_time": "2022-03-24T18:36:40.013Z"
   },
   {
    "duration": 5154,
    "start_time": "2022-03-24T18:36:45.039Z"
   },
   {
    "duration": 3018,
    "start_time": "2022-03-24T18:36:50.194Z"
   },
   {
    "duration": 120,
    "start_time": "2022-03-24T18:47:50.624Z"
   },
   {
    "duration": 5,
    "start_time": "2022-03-24T18:48:02.440Z"
   },
   {
    "duration": 6,
    "start_time": "2022-03-24T18:48:02.447Z"
   },
   {
    "duration": 167,
    "start_time": "2022-03-24T18:48:02.455Z"
   },
   {
    "duration": 61,
    "start_time": "2022-03-24T18:48:02.624Z"
   },
   {
    "duration": 346,
    "start_time": "2022-03-24T18:48:02.687Z"
   },
   {
    "duration": 25,
    "start_time": "2022-03-24T18:48:03.034Z"
   },
   {
    "duration": 1217,
    "start_time": "2022-03-24T18:48:03.060Z"
   },
   {
    "duration": 775,
    "start_time": "2022-03-24T18:48:04.279Z"
   },
   {
    "duration": 5234,
    "start_time": "2022-03-24T18:48:05.056Z"
   },
   {
    "duration": 5534,
    "start_time": "2022-03-24T18:48:10.292Z"
   },
   {
    "duration": 2729,
    "start_time": "2022-03-24T18:48:15.828Z"
   },
   {
    "duration": 470,
    "start_time": "2022-03-24T18:49:03.193Z"
   },
   {
    "duration": 1698,
    "start_time": "2022-03-24T18:49:20.674Z"
   },
   {
    "duration": 166,
    "start_time": "2022-03-24T19:01:48.042Z"
   },
   {
    "duration": 163,
    "start_time": "2022-03-24T19:02:40.114Z"
   },
   {
    "duration": 4,
    "start_time": "2022-03-24T19:03:25.348Z"
   },
   {
    "duration": 8,
    "start_time": "2022-03-24T19:03:25.354Z"
   },
   {
    "duration": 157,
    "start_time": "2022-03-24T19:03:25.363Z"
   },
   {
    "duration": 64,
    "start_time": "2022-03-24T19:03:25.522Z"
   },
   {
    "duration": 418,
    "start_time": "2022-03-24T19:03:25.590Z"
   },
   {
    "duration": 24,
    "start_time": "2022-03-24T19:03:26.010Z"
   },
   {
    "duration": 1057,
    "start_time": "2022-03-24T19:03:26.036Z"
   },
   {
    "duration": 845,
    "start_time": "2022-03-24T19:03:27.095Z"
   },
   {
    "duration": 5025,
    "start_time": "2022-03-24T19:03:27.942Z"
   },
   {
    "duration": 5370,
    "start_time": "2022-03-24T19:03:32.968Z"
   },
   {
    "duration": 3099,
    "start_time": "2022-03-24T19:03:38.339Z"
   },
   {
    "duration": 128,
    "start_time": "2022-03-24T19:03:41.439Z"
   },
   {
    "duration": 178,
    "start_time": "2022-03-24T19:03:50.788Z"
   },
   {
    "duration": 123,
    "start_time": "2022-03-24T19:04:20.300Z"
   },
   {
    "duration": 159,
    "start_time": "2022-03-24T19:04:56.269Z"
   },
   {
    "duration": 2892,
    "start_time": "2022-03-24T19:05:47.030Z"
   },
   {
    "duration": 2810,
    "start_time": "2022-03-24T19:05:59.047Z"
   },
   {
    "duration": 2965,
    "start_time": "2022-03-24T19:06:12.471Z"
   },
   {
    "duration": 2695,
    "start_time": "2022-03-24T19:06:24.686Z"
   },
   {
    "duration": 2745,
    "start_time": "2022-03-24T19:06:38.303Z"
   },
   {
    "duration": 2719,
    "start_time": "2022-03-24T19:07:02.079Z"
   },
   {
    "duration": 124,
    "start_time": "2022-03-24T19:07:30.354Z"
   },
   {
    "duration": 252,
    "start_time": "2022-03-24T19:07:38.160Z"
   },
   {
    "duration": 120,
    "start_time": "2022-03-24T19:07:44.545Z"
   },
   {
    "duration": 124,
    "start_time": "2022-03-24T19:08:00.586Z"
   },
   {
    "duration": 180,
    "start_time": "2022-03-24T19:08:11.233Z"
   },
   {
    "duration": 98,
    "start_time": "2022-03-24T19:09:43.331Z"
   },
   {
    "duration": 173,
    "start_time": "2022-03-24T19:11:18.877Z"
   },
   {
    "duration": 224,
    "start_time": "2022-03-24T19:11:53.478Z"
   },
   {
    "duration": 127,
    "start_time": "2022-03-24T19:15:12.915Z"
   },
   {
    "duration": 119,
    "start_time": "2022-03-24T19:15:39.835Z"
   },
   {
    "duration": 651,
    "start_time": "2022-03-24T19:28:18.620Z"
   },
   {
    "duration": 3,
    "start_time": "2022-03-24T19:31:12.672Z"
   },
   {
    "duration": 2,
    "start_time": "2022-03-24T19:31:20.713Z"
   },
   {
    "duration": 3,
    "start_time": "2022-03-24T19:31:32.024Z"
   },
   {
    "duration": 126,
    "start_time": "2022-03-24T19:35:14.854Z"
   },
   {
    "duration": 221,
    "start_time": "2022-03-24T19:39:21.218Z"
   },
   {
    "duration": 1143,
    "start_time": "2022-03-24T19:53:38.217Z"
   },
   {
    "duration": 1153,
    "start_time": "2022-03-24T19:54:42.602Z"
   },
   {
    "duration": 1064,
    "start_time": "2022-03-24T19:54:56.530Z"
   },
   {
    "duration": 1094,
    "start_time": "2022-03-24T19:58:16.687Z"
   },
   {
    "duration": 1073,
    "start_time": "2022-03-24T19:58:55.320Z"
   },
   {
    "duration": 1223,
    "start_time": "2022-03-24T20:01:04.946Z"
   },
   {
    "duration": 1091,
    "start_time": "2022-03-24T20:01:38.195Z"
   },
   {
    "duration": 834,
    "start_time": "2022-03-24T20:02:01.451Z"
   },
   {
    "duration": 1103,
    "start_time": "2022-03-24T20:02:19.936Z"
   },
   {
    "duration": 950,
    "start_time": "2022-03-24T20:03:14.733Z"
   },
   {
    "duration": 977,
    "start_time": "2022-03-24T20:05:57.216Z"
   },
   {
    "duration": 1064,
    "start_time": "2022-03-24T20:07:45.368Z"
   },
   {
    "duration": 13,
    "start_time": "2022-03-24T20:08:58.058Z"
   },
   {
    "duration": 1120,
    "start_time": "2022-03-24T20:09:14.843Z"
   },
   {
    "duration": 951,
    "start_time": "2022-03-24T20:09:48.284Z"
   },
   {
    "duration": 757,
    "start_time": "2022-03-24T20:10:24.053Z"
   },
   {
    "duration": 709,
    "start_time": "2022-03-24T20:11:06.342Z"
   },
   {
    "duration": 79,
    "start_time": "2022-03-24T20:11:30.983Z"
   },
   {
    "duration": 12,
    "start_time": "2022-03-24T20:13:17.896Z"
   },
   {
    "duration": 786,
    "start_time": "2022-03-24T20:15:06.122Z"
   },
   {
    "duration": 2465,
    "start_time": "2022-03-24T20:15:29.467Z"
   },
   {
    "duration": 744,
    "start_time": "2022-03-24T20:15:52.724Z"
   },
   {
    "duration": 662,
    "start_time": "2022-03-24T20:16:42.470Z"
   },
   {
    "duration": 62,
    "start_time": "2022-03-24T20:17:11.357Z"
   },
   {
    "duration": 702,
    "start_time": "2022-03-24T20:17:18.468Z"
   },
   {
    "duration": 728,
    "start_time": "2022-03-24T20:18:25.377Z"
   },
   {
    "duration": 1215,
    "start_time": "2022-03-24T20:19:15.952Z"
   },
   {
    "duration": 1058,
    "start_time": "2022-03-24T20:19:35.319Z"
   },
   {
    "duration": 1196,
    "start_time": "2022-03-24T20:20:10.440Z"
   },
   {
    "duration": 1087,
    "start_time": "2022-03-24T20:20:16.695Z"
   },
   {
    "duration": 1144,
    "start_time": "2022-03-24T20:20:41.384Z"
   },
   {
    "duration": 6,
    "start_time": "2022-03-24T20:21:20.648Z"
   },
   {
    "duration": 1121,
    "start_time": "2022-03-24T20:21:33.768Z"
   },
   {
    "duration": 1145,
    "start_time": "2022-03-24T20:22:02.057Z"
   },
   {
    "duration": 1187,
    "start_time": "2022-03-24T20:22:18.657Z"
   },
   {
    "duration": 1092,
    "start_time": "2022-03-24T20:22:28.874Z"
   },
   {
    "duration": 1094,
    "start_time": "2022-03-24T20:24:03.652Z"
   },
   {
    "duration": 1170,
    "start_time": "2022-03-24T20:24:12.484Z"
   },
   {
    "duration": 1073,
    "start_time": "2022-03-24T20:24:19.949Z"
   },
   {
    "duration": 958,
    "start_time": "2022-03-24T20:24:26.772Z"
   },
   {
    "duration": 1072,
    "start_time": "2022-03-24T20:24:38.453Z"
   },
   {
    "duration": 1167,
    "start_time": "2022-03-24T20:25:03.604Z"
   },
   {
    "duration": 1175,
    "start_time": "2022-03-24T20:25:19.485Z"
   },
   {
    "duration": 1059,
    "start_time": "2022-03-24T20:25:29.997Z"
   },
   {
    "duration": 1227,
    "start_time": "2022-03-24T20:25:42.638Z"
   },
   {
    "duration": 2520,
    "start_time": "2022-03-24T20:26:52.128Z"
   },
   {
    "duration": 297,
    "start_time": "2022-03-24T21:08:39.344Z"
   },
   {
    "duration": 320,
    "start_time": "2022-03-24T21:10:51.627Z"
   },
   {
    "duration": 643,
    "start_time": "2022-03-24T21:20:26.632Z"
   },
   {
    "duration": 64,
    "start_time": "2022-03-24T21:24:16.186Z"
   },
   {
    "duration": 10,
    "start_time": "2022-03-24T21:24:21.106Z"
   },
   {
    "duration": 682,
    "start_time": "2022-03-24T21:25:10.828Z"
   },
   {
    "duration": 688,
    "start_time": "2022-03-24T21:26:04.110Z"
   },
   {
    "duration": 161,
    "start_time": "2022-03-24T21:26:52.366Z"
   },
   {
    "duration": 5309,
    "start_time": "2022-03-24T21:28:56.889Z"
   },
   {
    "duration": 5352,
    "start_time": "2022-03-24T21:29:15.640Z"
   },
   {
    "duration": 14,
    "start_time": "2022-03-24T21:31:32.019Z"
   },
   {
    "duration": 12,
    "start_time": "2022-03-24T21:31:39.299Z"
   },
   {
    "duration": 52,
    "start_time": "2022-03-24T21:34:25.423Z"
   },
   {
    "duration": 10,
    "start_time": "2022-03-24T21:34:52.432Z"
   },
   {
    "duration": 18,
    "start_time": "2022-03-24T21:36:14.529Z"
   },
   {
    "duration": 139,
    "start_time": "2022-03-24T21:37:39.226Z"
   },
   {
    "duration": 121,
    "start_time": "2022-03-24T21:38:01.724Z"
   },
   {
    "duration": 142,
    "start_time": "2022-03-24T21:39:05.380Z"
   },
   {
    "duration": 135,
    "start_time": "2022-03-24T21:39:41.509Z"
   },
   {
    "duration": 172,
    "start_time": "2022-03-24T21:40:01.893Z"
   },
   {
    "duration": 192,
    "start_time": "2022-03-24T21:40:21.458Z"
   },
   {
    "duration": 187,
    "start_time": "2022-03-24T21:41:41.790Z"
   },
   {
    "duration": 350,
    "start_time": "2022-03-24T21:43:06.744Z"
   },
   {
    "duration": 200,
    "start_time": "2022-03-24T21:43:21.840Z"
   },
   {
    "duration": 197,
    "start_time": "2022-03-24T21:48:17.455Z"
   },
   {
    "duration": 6,
    "start_time": "2022-03-24T21:48:36.743Z"
   },
   {
    "duration": 11,
    "start_time": "2022-03-24T21:48:57.047Z"
   },
   {
    "duration": 200,
    "start_time": "2022-03-24T21:49:04.503Z"
   },
   {
    "duration": 61,
    "start_time": "2022-03-24T21:51:31.667Z"
   },
   {
    "duration": 69,
    "start_time": "2022-03-24T21:51:58.459Z"
   },
   {
    "duration": 85,
    "start_time": "2022-03-24T21:55:26.080Z"
   },
   {
    "duration": 58,
    "start_time": "2022-03-24T21:55:42.880Z"
   },
   {
    "duration": 70,
    "start_time": "2022-03-24T21:56:09.233Z"
   },
   {
    "duration": 9,
    "start_time": "2022-03-24T21:56:55.896Z"
   },
   {
    "duration": 531,
    "start_time": "2022-03-24T21:57:08.944Z"
   },
   {
    "duration": 495,
    "start_time": "2022-03-24T21:57:27.193Z"
   },
   {
    "duration": 486,
    "start_time": "2022-03-24T21:57:49.962Z"
   },
   {
    "duration": 7,
    "start_time": "2022-03-24T21:59:09.755Z"
   },
   {
    "duration": 5,
    "start_time": "2022-03-24T21:59:32.868Z"
   },
   {
    "duration": 6,
    "start_time": "2022-03-24T21:59:47.636Z"
   },
   {
    "duration": 5167,
    "start_time": "2022-03-24T22:02:45.521Z"
   },
   {
    "duration": 6,
    "start_time": "2022-03-24T22:03:24.890Z"
   },
   {
    "duration": 290,
    "start_time": "2022-03-24T22:05:21.629Z"
   },
   {
    "duration": 309,
    "start_time": "2022-03-24T22:05:36.221Z"
   },
   {
    "duration": 298,
    "start_time": "2022-03-24T22:05:47.805Z"
   },
   {
    "duration": 289,
    "start_time": "2022-03-24T22:06:40.263Z"
   },
   {
    "duration": 1289,
    "start_time": "2022-03-24T22:09:55.058Z"
   },
   {
    "duration": 1181,
    "start_time": "2022-03-24T22:10:27.298Z"
   },
   {
    "duration": 9976,
    "start_time": "2022-03-24T22:13:09.005Z"
   },
   {
    "duration": 550,
    "start_time": "2022-03-24T22:13:42.350Z"
   },
   {
    "duration": 930,
    "start_time": "2022-03-24T22:14:17.135Z"
   },
   {
    "duration": 559,
    "start_time": "2022-03-24T22:15:29.786Z"
   },
   {
    "duration": 582,
    "start_time": "2022-03-24T22:16:02.890Z"
   },
   {
    "duration": 1183,
    "start_time": "2022-03-24T22:22:14.786Z"
   },
   {
    "duration": 362,
    "start_time": "2022-03-24T22:23:40.275Z"
   },
   {
    "duration": 545,
    "start_time": "2022-03-24T22:23:49.226Z"
   },
   {
    "duration": 60,
    "start_time": "2022-03-24T22:26:10.238Z"
   },
   {
    "duration": 405,
    "start_time": "2022-03-24T22:26:19.653Z"
   },
   {
    "duration": 422,
    "start_time": "2022-03-24T22:27:01.455Z"
   },
   {
    "duration": 569,
    "start_time": "2022-03-24T22:27:10.670Z"
   },
   {
    "duration": 565,
    "start_time": "2022-03-24T22:27:38.551Z"
   },
   {
    "duration": 444,
    "start_time": "2022-03-24T22:28:16.320Z"
   },
   {
    "duration": 616,
    "start_time": "2022-03-24T22:30:26.507Z"
   },
   {
    "duration": 149,
    "start_time": "2022-03-24T22:32:41.990Z"
   },
   {
    "duration": 12,
    "start_time": "2022-03-24T22:33:17.264Z"
   },
   {
    "duration": 396,
    "start_time": "2022-03-24T22:33:51.359Z"
   },
   {
    "duration": 515,
    "start_time": "2022-03-24T22:34:00.400Z"
   },
   {
    "duration": 466,
    "start_time": "2022-03-24T22:37:57.414Z"
   },
   {
    "duration": 421,
    "start_time": "2022-03-24T22:38:55.054Z"
   },
   {
    "duration": 567,
    "start_time": "2022-03-24T22:39:18.215Z"
   },
   {
    "duration": 437,
    "start_time": "2022-03-24T22:39:39.664Z"
   },
   {
    "duration": 435,
    "start_time": "2022-03-24T22:39:55.159Z"
   },
   {
    "duration": 465,
    "start_time": "2022-03-24T22:40:09.480Z"
   },
   {
    "duration": 576,
    "start_time": "2022-03-24T22:40:28.640Z"
   },
   {
    "duration": 450,
    "start_time": "2022-03-24T22:40:48.617Z"
   },
   {
    "duration": 470,
    "start_time": "2022-03-24T22:40:56.435Z"
   },
   {
    "duration": 474,
    "start_time": "2022-03-24T22:41:10.578Z"
   },
   {
    "duration": 590,
    "start_time": "2022-03-24T22:41:27.738Z"
   },
   {
    "duration": 464,
    "start_time": "2022-03-24T22:41:43.626Z"
   },
   {
    "duration": 455,
    "start_time": "2022-03-24T22:42:02.820Z"
   },
   {
    "duration": 588,
    "start_time": "2022-03-24T22:42:17.842Z"
   },
   {
    "duration": 468,
    "start_time": "2022-03-24T22:42:29.683Z"
   },
   {
    "duration": 447,
    "start_time": "2022-03-24T22:42:49.763Z"
   },
   {
    "duration": 447,
    "start_time": "2022-03-24T22:43:15.661Z"
   },
   {
    "duration": 554,
    "start_time": "2022-03-24T22:43:30.765Z"
   },
   {
    "duration": 6,
    "start_time": "2022-03-24T22:44:37.486Z"
   },
   {
    "duration": 5,
    "start_time": "2022-03-24T22:47:14.104Z"
   },
   {
    "duration": 4,
    "start_time": "2022-03-24T22:47:14.111Z"
   },
   {
    "duration": 162,
    "start_time": "2022-03-24T22:47:14.117Z"
   },
   {
    "duration": 74,
    "start_time": "2022-03-24T22:47:14.281Z"
   },
   {
    "duration": 342,
    "start_time": "2022-03-24T22:47:14.358Z"
   },
   {
    "duration": 25,
    "start_time": "2022-03-24T22:47:14.702Z"
   },
   {
    "duration": 1263,
    "start_time": "2022-03-24T22:47:14.728Z"
   },
   {
    "duration": 796,
    "start_time": "2022-03-24T22:47:15.993Z"
   },
   {
    "duration": 4,
    "start_time": "2022-03-24T22:47:27.781Z"
   },
   {
    "duration": 7,
    "start_time": "2022-03-24T22:47:27.787Z"
   },
   {
    "duration": 155,
    "start_time": "2022-03-24T22:47:27.796Z"
   },
   {
    "duration": 71,
    "start_time": "2022-03-24T22:47:27.953Z"
   },
   {
    "duration": 327,
    "start_time": "2022-03-24T22:47:28.026Z"
   },
   {
    "duration": 24,
    "start_time": "2022-03-24T22:47:28.355Z"
   },
   {
    "duration": 1212,
    "start_time": "2022-03-24T22:47:28.380Z"
   },
   {
    "duration": 877,
    "start_time": "2022-03-24T22:47:29.594Z"
   },
   {
    "duration": 5071,
    "start_time": "2022-03-24T22:47:30.473Z"
   },
   {
    "duration": 5325,
    "start_time": "2022-03-24T22:47:35.546Z"
   },
   {
    "duration": 293,
    "start_time": "2022-03-24T22:47:40.873Z"
   },
   {
    "duration": 3127,
    "start_time": "2022-03-24T22:47:41.168Z"
   },
   {
    "duration": 446,
    "start_time": "2022-03-24T22:47:44.297Z"
   },
   {
    "duration": 6,
    "start_time": "2022-03-24T22:47:50.282Z"
   },
   {
    "duration": 512,
    "start_time": "2022-03-24T22:48:19.707Z"
   },
   {
    "duration": 6,
    "start_time": "2022-03-24T22:48:33.258Z"
   },
   {
    "duration": 651,
    "start_time": "2022-03-24T22:49:26.196Z"
   },
   {
    "duration": 6,
    "start_time": "2022-03-24T22:49:35.431Z"
   },
   {
    "duration": 9,
    "start_time": "2022-03-24T22:50:10.644Z"
   },
   {
    "duration": 178,
    "start_time": "2022-03-24T22:50:42.453Z"
   },
   {
    "duration": 549,
    "start_time": "2022-03-24T22:51:07.437Z"
   },
   {
    "duration": 6,
    "start_time": "2022-03-24T22:51:40.447Z"
   },
   {
    "duration": 517,
    "start_time": "2022-03-24T22:53:40.707Z"
   },
   {
    "duration": 6,
    "start_time": "2022-03-24T22:53:50.961Z"
   },
   {
    "duration": 6,
    "start_time": "2022-03-24T22:54:05.978Z"
   },
   {
    "duration": 4,
    "start_time": "2022-03-24T22:54:16.285Z"
   },
   {
    "duration": 4,
    "start_time": "2022-03-24T22:54:16.292Z"
   },
   {
    "duration": 160,
    "start_time": "2022-03-24T22:54:16.298Z"
   },
   {
    "duration": 73,
    "start_time": "2022-03-24T22:54:16.460Z"
   },
   {
    "duration": 447,
    "start_time": "2022-03-24T22:54:16.536Z"
   },
   {
    "duration": 31,
    "start_time": "2022-03-24T22:54:16.984Z"
   },
   {
    "duration": 1143,
    "start_time": "2022-03-24T22:54:17.016Z"
   },
   {
    "duration": 921,
    "start_time": "2022-03-24T22:54:18.161Z"
   },
   {
    "duration": 5423,
    "start_time": "2022-03-24T22:54:19.084Z"
   },
   {
    "duration": 5418,
    "start_time": "2022-03-24T22:54:24.509Z"
   },
   {
    "duration": 327,
    "start_time": "2022-03-24T22:54:29.929Z"
   },
   {
    "duration": 3269,
    "start_time": "2022-03-24T22:54:30.257Z"
   },
   {
    "duration": 454,
    "start_time": "2022-03-24T22:54:33.527Z"
   },
   {
    "duration": 43,
    "start_time": "2022-03-24T22:54:40.484Z"
   },
   {
    "duration": 6,
    "start_time": "2022-03-24T22:55:09.515Z"
   },
   {
    "duration": 671,
    "start_time": "2022-03-24T22:55:26.051Z"
   },
   {
    "duration": 891,
    "start_time": "2022-03-24T22:55:54.278Z"
   },
   {
    "duration": 303,
    "start_time": "2022-03-24T22:55:55.171Z"
   },
   {
    "duration": 195,
    "start_time": "2022-03-24T22:55:55.475Z"
   },
   {
    "duration": 81,
    "start_time": "2022-03-24T22:55:55.672Z"
   },
   {
    "duration": 360,
    "start_time": "2022-03-24T22:55:55.755Z"
   },
   {
    "duration": 24,
    "start_time": "2022-03-24T22:55:56.117Z"
   },
   {
    "duration": 1228,
    "start_time": "2022-03-24T22:55:56.142Z"
   },
   {
    "duration": 808,
    "start_time": "2022-03-24T22:55:57.372Z"
   },
   {
    "duration": 5524,
    "start_time": "2022-03-24T22:55:58.182Z"
   },
   {
    "duration": 5907,
    "start_time": "2022-03-24T22:56:03.735Z"
   },
   {
    "duration": 366,
    "start_time": "2022-03-24T22:56:09.644Z"
   },
   {
    "duration": 2944,
    "start_time": "2022-03-24T22:56:10.011Z"
   },
   {
    "duration": 869,
    "start_time": "2022-03-24T22:56:12.957Z"
   },
   {
    "duration": 7,
    "start_time": "2022-03-24T22:56:13.828Z"
   },
   {
    "duration": 524,
    "start_time": "2022-03-24T22:56:13.837Z"
   },
   {
    "duration": 66,
    "start_time": "2022-03-24T22:56:14.363Z"
   },
   {
    "duration": 482,
    "start_time": "2022-03-24T22:59:28.755Z"
   },
   {
    "duration": 6,
    "start_time": "2022-03-24T22:59:38.795Z"
   },
   {
    "duration": 936,
    "start_time": "2022-03-24T22:59:54.694Z"
   },
   {
    "duration": 318,
    "start_time": "2022-03-24T22:59:55.632Z"
   },
   {
    "duration": 205,
    "start_time": "2022-03-24T22:59:55.952Z"
   },
   {
    "duration": 83,
    "start_time": "2022-03-24T22:59:56.159Z"
   },
   {
    "duration": 356,
    "start_time": "2022-03-24T22:59:56.244Z"
   },
   {
    "duration": 31,
    "start_time": "2022-03-24T22:59:56.601Z"
   },
   {
    "duration": 1246,
    "start_time": "2022-03-24T22:59:56.633Z"
   },
   {
    "duration": 807,
    "start_time": "2022-03-24T22:59:57.881Z"
   },
   {
    "duration": 5683,
    "start_time": "2022-03-24T22:59:58.690Z"
   },
   {
    "duration": 6008,
    "start_time": "2022-03-24T23:00:04.376Z"
   },
   {
    "duration": 368,
    "start_time": "2022-03-24T23:00:10.385Z"
   },
   {
    "duration": 2973,
    "start_time": "2022-03-24T23:00:10.755Z"
   },
   {
    "duration": 899,
    "start_time": "2022-03-24T23:00:13.730Z"
   },
   {
    "duration": 6,
    "start_time": "2022-03-24T23:00:14.631Z"
   },
   {
    "duration": 533,
    "start_time": "2022-03-24T23:00:14.639Z"
   },
   {
    "duration": 69,
    "start_time": "2022-03-24T23:00:15.174Z"
   },
   {
    "duration": 527,
    "start_time": "2022-03-24T23:01:05.879Z"
   },
   {
    "duration": 559,
    "start_time": "2022-03-24T23:04:12.691Z"
   },
   {
    "duration": 39,
    "start_time": "2022-03-24T23:10:53.026Z"
   },
   {
    "duration": 5,
    "start_time": "2022-03-24T23:14:13.512Z"
   },
   {
    "duration": 4,
    "start_time": "2022-03-24T23:14:32.431Z"
   },
   {
    "duration": 4,
    "start_time": "2022-03-24T23:14:32.437Z"
   },
   {
    "duration": 175,
    "start_time": "2022-03-24T23:14:32.443Z"
   },
   {
    "duration": 63,
    "start_time": "2022-03-24T23:14:32.621Z"
   },
   {
    "duration": 393,
    "start_time": "2022-03-24T23:14:32.687Z"
   },
   {
    "duration": 36,
    "start_time": "2022-03-24T23:14:33.082Z"
   },
   {
    "duration": 1292,
    "start_time": "2022-03-24T23:14:33.121Z"
   },
   {
    "duration": 852,
    "start_time": "2022-03-24T23:14:34.416Z"
   },
   {
    "duration": 5449,
    "start_time": "2022-03-24T23:14:35.270Z"
   },
   {
    "duration": 5274,
    "start_time": "2022-03-24T23:14:40.721Z"
   },
   {
    "duration": 354,
    "start_time": "2022-03-24T23:14:45.997Z"
   },
   {
    "duration": 3040,
    "start_time": "2022-03-24T23:14:46.353Z"
   },
   {
    "duration": 475,
    "start_time": "2022-03-24T23:14:49.395Z"
   },
   {
    "duration": 681,
    "start_time": "2022-03-24T23:14:49.873Z"
   },
   {
    "duration": 52,
    "start_time": "2022-03-24T23:14:56.280Z"
   },
   {
    "duration": 8,
    "start_time": "2022-03-24T23:16:16.594Z"
   },
   {
    "duration": 8,
    "start_time": "2022-03-24T23:16:47.947Z"
   },
   {
    "duration": 89,
    "start_time": "2022-03-24T23:16:56.954Z"
   },
   {
    "duration": 8,
    "start_time": "2022-03-24T23:17:01.362Z"
   },
   {
    "duration": 110,
    "start_time": "2022-03-24T23:17:42.827Z"
   },
   {
    "duration": 10,
    "start_time": "2022-03-24T23:17:55.644Z"
   },
   {
    "duration": 15,
    "start_time": "2022-03-24T23:18:14.515Z"
   },
   {
    "duration": 11,
    "start_time": "2022-03-24T23:18:28.412Z"
   },
   {
    "duration": 11,
    "start_time": "2022-03-24T23:18:50.131Z"
   },
   {
    "duration": 21,
    "start_time": "2022-03-24T23:23:39.307Z"
   },
   {
    "duration": 24,
    "start_time": "2022-03-24T23:24:22.203Z"
   },
   {
    "duration": 16,
    "start_time": "2022-03-24T23:24:29.972Z"
   },
   {
    "duration": 18,
    "start_time": "2022-03-24T23:25:21.148Z"
   },
   {
    "duration": 27,
    "start_time": "2022-03-24T23:25:30.085Z"
   },
   {
    "duration": 31,
    "start_time": "2022-03-24T23:26:34.213Z"
   },
   {
    "duration": 18,
    "start_time": "2022-03-24T23:26:43.358Z"
   },
   {
    "duration": 18,
    "start_time": "2022-03-24T23:27:04.966Z"
   },
   {
    "duration": 30,
    "start_time": "2022-03-24T23:31:48.678Z"
   },
   {
    "duration": 20,
    "start_time": "2022-03-24T23:33:27.215Z"
   },
   {
    "duration": 25,
    "start_time": "2022-03-24T23:33:39.935Z"
   },
   {
    "duration": 29,
    "start_time": "2022-03-24T23:34:00.583Z"
   },
   {
    "duration": 27,
    "start_time": "2022-03-24T23:34:11.880Z"
   },
   {
    "duration": 17,
    "start_time": "2022-03-24T23:34:23.585Z"
   },
   {
    "duration": 66,
    "start_time": "2022-03-24T23:34:58.495Z"
   },
   {
    "duration": 26,
    "start_time": "2022-03-24T23:35:03.537Z"
   },
   {
    "duration": 24,
    "start_time": "2022-03-24T23:35:20.618Z"
   },
   {
    "duration": 5,
    "start_time": "2022-03-24T23:43:07.427Z"
   },
   {
    "duration": 64,
    "start_time": "2022-03-24T23:44:29.212Z"
   },
   {
    "duration": 28,
    "start_time": "2022-03-24T23:44:37.436Z"
   },
   {
    "duration": 27,
    "start_time": "2022-03-24T23:44:49.181Z"
   },
   {
    "duration": 25,
    "start_time": "2022-03-24T23:45:14.702Z"
   },
   {
    "duration": 21,
    "start_time": "2022-03-24T23:45:39.630Z"
   },
   {
    "duration": 20,
    "start_time": "2022-03-24T23:45:51.334Z"
   },
   {
    "duration": 33,
    "start_time": "2022-03-24T23:46:07.399Z"
   },
   {
    "duration": 22,
    "start_time": "2022-03-24T23:47:03.232Z"
   },
   {
    "duration": 21,
    "start_time": "2022-03-24T23:47:35.652Z"
   },
   {
    "duration": 22,
    "start_time": "2022-03-24T23:47:49.748Z"
   },
   {
    "duration": 23,
    "start_time": "2022-03-24T23:48:13.688Z"
   },
   {
    "duration": 22,
    "start_time": "2022-03-24T23:48:44.169Z"
   },
   {
    "duration": 22,
    "start_time": "2022-03-24T23:49:00.514Z"
   },
   {
    "duration": 22,
    "start_time": "2022-03-24T23:51:27.742Z"
   },
   {
    "duration": 16,
    "start_time": "2022-03-24T23:54:33.740Z"
   },
   {
    "duration": 11,
    "start_time": "2022-03-24T23:55:55.034Z"
   },
   {
    "duration": 11,
    "start_time": "2022-03-24T23:57:17.117Z"
   },
   {
    "duration": 13,
    "start_time": "2022-03-24T23:57:59.564Z"
   },
   {
    "duration": 11,
    "start_time": "2022-03-24T23:58:35.821Z"
   },
   {
    "duration": 65,
    "start_time": "2022-03-24T23:58:59.351Z"
   },
   {
    "duration": 11,
    "start_time": "2022-03-24T23:59:04.368Z"
   },
   {
    "duration": 12,
    "start_time": "2022-03-25T00:01:09.041Z"
   },
   {
    "duration": 18,
    "start_time": "2022-03-25T00:01:19.610Z"
   },
   {
    "duration": 16,
    "start_time": "2022-03-25T00:01:25.579Z"
   },
   {
    "duration": 16,
    "start_time": "2022-03-25T00:01:49.386Z"
   },
   {
    "duration": 13,
    "start_time": "2022-03-25T00:01:59.466Z"
   },
   {
    "duration": 13,
    "start_time": "2022-03-25T00:02:57.956Z"
   },
   {
    "duration": 17,
    "start_time": "2022-03-25T00:03:15.444Z"
   },
   {
    "duration": 14,
    "start_time": "2022-03-25T00:04:00.920Z"
   },
   {
    "duration": 19,
    "start_time": "2022-03-25T00:04:21.789Z"
   },
   {
    "duration": 18,
    "start_time": "2022-03-25T00:05:31.918Z"
   },
   {
    "duration": 15,
    "start_time": "2022-03-25T00:05:42.095Z"
   },
   {
    "duration": 14,
    "start_time": "2022-03-25T00:06:01.839Z"
   },
   {
    "duration": 15,
    "start_time": "2022-03-25T00:06:18.256Z"
   },
   {
    "duration": 14,
    "start_time": "2022-03-25T00:06:25.839Z"
   },
   {
    "duration": 14,
    "start_time": "2022-03-25T00:06:32.193Z"
   },
   {
    "duration": 10,
    "start_time": "2022-03-25T00:06:47.273Z"
   },
   {
    "duration": 12,
    "start_time": "2022-03-25T00:07:50.777Z"
   },
   {
    "duration": 13,
    "start_time": "2022-03-25T00:07:58.961Z"
   },
   {
    "duration": 64,
    "start_time": "2022-03-25T00:14:04.849Z"
   },
   {
    "duration": 18,
    "start_time": "2022-03-25T00:14:09.449Z"
   },
   {
    "duration": 15,
    "start_time": "2022-03-25T00:15:05.306Z"
   },
   {
    "duration": 12,
    "start_time": "2022-03-25T00:15:48.899Z"
   },
   {
    "duration": 15,
    "start_time": "2022-03-25T00:15:59.372Z"
   },
   {
    "duration": 21,
    "start_time": "2022-03-25T00:16:49.837Z"
   },
   {
    "duration": 20,
    "start_time": "2022-03-25T00:22:38.220Z"
   },
   {
    "duration": 21,
    "start_time": "2022-03-25T00:23:17.732Z"
   },
   {
    "duration": 20,
    "start_time": "2022-03-25T00:23:32.165Z"
   },
   {
    "duration": 23,
    "start_time": "2022-03-25T00:24:30.854Z"
   },
   {
    "duration": 22,
    "start_time": "2022-03-25T00:24:42.006Z"
   },
   {
    "duration": 22,
    "start_time": "2022-03-25T00:25:02.958Z"
   },
   {
    "duration": 10,
    "start_time": "2022-03-25T00:27:31.394Z"
   },
   {
    "duration": 11,
    "start_time": "2022-03-25T00:27:51.482Z"
   },
   {
    "duration": 11,
    "start_time": "2022-03-25T00:28:13.123Z"
   },
   {
    "duration": 12,
    "start_time": "2022-03-25T00:28:22.291Z"
   },
   {
    "duration": 11,
    "start_time": "2022-03-25T00:28:52.132Z"
   },
   {
    "duration": 14,
    "start_time": "2022-03-25T00:29:25.996Z"
   },
   {
    "duration": 9,
    "start_time": "2022-03-25T00:29:36.083Z"
   },
   {
    "duration": 17,
    "start_time": "2022-03-25T00:30:09.485Z"
   },
   {
    "duration": 11,
    "start_time": "2022-03-25T00:30:16.685Z"
   },
   {
    "duration": 11,
    "start_time": "2022-03-25T00:30:39.550Z"
   },
   {
    "duration": 12,
    "start_time": "2022-03-25T00:30:48.366Z"
   },
   {
    "duration": 15,
    "start_time": "2022-03-25T00:31:40.222Z"
   },
   {
    "duration": 10,
    "start_time": "2022-03-25T00:31:45.919Z"
   },
   {
    "duration": 17,
    "start_time": "2022-03-25T00:33:11.466Z"
   },
   {
    "duration": 41,
    "start_time": "2022-03-25T00:34:02.031Z"
   },
   {
    "duration": 3,
    "start_time": "2022-03-25T00:37:48.247Z"
   },
   {
    "duration": 4,
    "start_time": "2022-03-25T00:37:48.252Z"
   },
   {
    "duration": 155,
    "start_time": "2022-03-25T00:37:48.258Z"
   },
   {
    "duration": 58,
    "start_time": "2022-03-25T00:37:48.414Z"
   },
   {
    "duration": 342,
    "start_time": "2022-03-25T00:37:48.474Z"
   },
   {
    "duration": 27,
    "start_time": "2022-03-25T00:37:48.817Z"
   },
   {
    "duration": 1177,
    "start_time": "2022-03-25T00:37:48.846Z"
   },
   {
    "duration": 749,
    "start_time": "2022-03-25T00:37:50.024Z"
   },
   {
    "duration": 5026,
    "start_time": "2022-03-25T00:37:50.775Z"
   },
   {
    "duration": 5188,
    "start_time": "2022-03-25T00:37:55.802Z"
   },
   {
    "duration": 309,
    "start_time": "2022-03-25T00:38:00.991Z"
   },
   {
    "duration": 2740,
    "start_time": "2022-03-25T00:38:01.309Z"
   },
   {
    "duration": 785,
    "start_time": "2022-03-25T00:38:04.051Z"
   },
   {
    "duration": 495,
    "start_time": "2022-03-25T00:38:04.838Z"
   },
   {
    "duration": 11,
    "start_time": "2022-03-25T00:38:05.335Z"
   },
   {
    "duration": 16,
    "start_time": "2022-03-25T00:38:05.347Z"
   },
   {
    "duration": 9,
    "start_time": "2022-03-25T00:38:05.365Z"
   },
   {
    "duration": 34,
    "start_time": "2022-03-25T00:38:05.376Z"
   },
   {
    "duration": 8,
    "start_time": "2022-03-25T00:40:58.698Z"
   },
   {
    "duration": 11,
    "start_time": "2022-03-25T00:41:10.139Z"
   },
   {
    "duration": 11,
    "start_time": "2022-03-25T00:41:17.395Z"
   },
   {
    "duration": 5,
    "start_time": "2022-03-25T00:41:31.379Z"
   },
   {
    "duration": 11,
    "start_time": "2022-03-25T00:41:40.099Z"
   },
   {
    "duration": 9,
    "start_time": "2022-03-25T00:41:48.059Z"
   },
   {
    "duration": 10,
    "start_time": "2022-03-25T00:42:21.235Z"
   },
   {
    "duration": 9,
    "start_time": "2022-03-25T00:42:43.988Z"
   },
   {
    "duration": 7,
    "start_time": "2022-03-25T00:43:20.285Z"
   },
   {
    "duration": 46,
    "start_time": "2022-03-25T00:44:16.566Z"
   },
   {
    "duration": 9,
    "start_time": "2022-03-25T00:46:11.722Z"
   },
   {
    "duration": 52,
    "start_time": "2022-03-25T00:46:20.434Z"
   },
   {
    "duration": 17,
    "start_time": "2022-03-25T00:53:20.138Z"
   },
   {
    "duration": 13,
    "start_time": "2022-03-25T00:53:28.290Z"
   },
   {
    "duration": 16,
    "start_time": "2022-03-25T00:54:15.419Z"
   },
   {
    "duration": 12,
    "start_time": "2022-03-25T00:54:26.675Z"
   },
   {
    "duration": 15,
    "start_time": "2022-03-25T00:54:39.692Z"
   },
   {
    "duration": 12,
    "start_time": "2022-03-25T00:54:45.540Z"
   },
   {
    "duration": 16,
    "start_time": "2022-03-25T00:55:09.828Z"
   },
   {
    "duration": 12,
    "start_time": "2022-03-25T00:55:23.956Z"
   },
   {
    "duration": 19,
    "start_time": "2022-03-25T00:55:49.005Z"
   },
   {
    "duration": 14,
    "start_time": "2022-03-25T00:56:04.703Z"
   },
   {
    "duration": 13,
    "start_time": "2022-03-25T00:56:13.485Z"
   },
   {
    "duration": 12,
    "start_time": "2022-03-25T00:56:24.349Z"
   },
   {
    "duration": 13,
    "start_time": "2022-03-25T00:56:38.478Z"
   },
   {
    "duration": 12,
    "start_time": "2022-03-25T00:56:47.454Z"
   },
   {
    "duration": 131,
    "start_time": "2022-03-25T00:57:41.320Z"
   },
   {
    "duration": 168,
    "start_time": "2022-03-25T00:58:27.489Z"
   },
   {
    "duration": 5,
    "start_time": "2022-03-25T01:09:45.774Z"
   },
   {
    "duration": 7,
    "start_time": "2022-03-25T01:10:06.239Z"
   },
   {
    "duration": 27,
    "start_time": "2022-03-25T01:10:09.990Z"
   },
   {
    "duration": 15,
    "start_time": "2022-03-25T01:10:38.903Z"
   },
   {
    "duration": 15,
    "start_time": "2022-03-25T01:11:15.256Z"
   },
   {
    "duration": 16,
    "start_time": "2022-03-25T01:11:43.457Z"
   },
   {
    "duration": 16,
    "start_time": "2022-03-25T01:12:26.786Z"
   },
   {
    "duration": 27,
    "start_time": "2022-03-25T01:12:42.202Z"
   },
   {
    "duration": 45,
    "start_time": "2022-03-25T01:14:39.895Z"
   },
   {
    "duration": 1095,
    "start_time": "2022-03-25T01:14:59.789Z"
   },
   {
    "duration": 1252,
    "start_time": "2022-03-25T01:15:17.061Z"
   },
   {
    "duration": 5,
    "start_time": "2022-03-25T01:16:15.278Z"
   },
   {
    "duration": 5,
    "start_time": "2022-03-25T01:16:22.814Z"
   },
   {
    "duration": 1158,
    "start_time": "2022-03-25T01:16:32.663Z"
   },
   {
    "duration": 220,
    "start_time": "2022-03-25T01:18:27.785Z"
   },
   {
    "duration": 1588,
    "start_time": "2022-03-25T01:20:32.836Z"
   },
   {
    "duration": 522,
    "start_time": "2022-03-25T01:22:18.790Z"
   },
   {
    "duration": 464,
    "start_time": "2022-03-25T01:23:22.295Z"
   },
   {
    "duration": 450,
    "start_time": "2022-03-25T01:23:37.983Z"
   },
   {
    "duration": 1721,
    "start_time": "2022-03-25T01:25:04.777Z"
   },
   {
    "duration": 1807,
    "start_time": "2022-03-25T01:25:16.170Z"
   },
   {
    "duration": 158,
    "start_time": "2022-03-25T01:25:44.074Z"
   },
   {
    "duration": 171,
    "start_time": "2022-03-25T01:27:04.020Z"
   },
   {
    "duration": 168,
    "start_time": "2022-03-25T01:27:12.676Z"
   },
   {
    "duration": 123,
    "start_time": "2022-03-25T08:28:39.442Z"
   },
   {
    "duration": 71,
    "start_time": "2022-03-25T08:29:54.535Z"
   },
   {
    "duration": 4134,
    "start_time": "2022-03-25T08:30:02.094Z"
   },
   {
    "duration": 539,
    "start_time": "2022-03-25T08:30:06.232Z"
   },
   {
    "duration": 277,
    "start_time": "2022-03-25T08:30:06.773Z"
   },
   {
    "duration": 110,
    "start_time": "2022-03-25T08:30:07.052Z"
   },
   {
    "duration": 551,
    "start_time": "2022-03-25T08:30:07.165Z"
   },
   {
    "duration": 44,
    "start_time": "2022-03-25T08:30:07.719Z"
   },
   {
    "duration": 1202,
    "start_time": "2022-03-25T08:30:07.765Z"
   },
   {
    "duration": 769,
    "start_time": "2022-03-25T08:30:08.970Z"
   },
   {
    "duration": 5062,
    "start_time": "2022-03-25T08:30:09.741Z"
   },
   {
    "duration": 5052,
    "start_time": "2022-03-25T08:30:14.813Z"
   },
   {
    "duration": 323,
    "start_time": "2022-03-25T08:30:19.867Z"
   },
   {
    "duration": 2993,
    "start_time": "2022-03-25T08:30:20.192Z"
   },
   {
    "duration": 407,
    "start_time": "2022-03-25T08:30:23.187Z"
   },
   {
    "duration": 462,
    "start_time": "2022-03-25T08:30:23.597Z"
   },
   {
    "duration": 10,
    "start_time": "2022-03-25T08:30:24.061Z"
   },
   {
    "duration": 32,
    "start_time": "2022-03-25T08:30:24.073Z"
   },
   {
    "duration": 27,
    "start_time": "2022-03-25T08:30:24.107Z"
   },
   {
    "duration": 11,
    "start_time": "2022-03-25T08:30:24.135Z"
   },
   {
    "duration": 185,
    "start_time": "2022-03-25T08:30:24.148Z"
   },
   {
    "duration": 323,
    "start_time": "2022-03-25T08:30:46.869Z"
   },
   {
    "duration": 401,
    "start_time": "2022-03-25T08:31:16.818Z"
   },
   {
    "duration": 137,
    "start_time": "2022-03-25T08:31:36.356Z"
   },
   {
    "duration": 18,
    "start_time": "2022-03-25T08:31:49.380Z"
   },
   {
    "duration": 17,
    "start_time": "2022-03-25T08:33:16.487Z"
   },
   {
    "duration": 16,
    "start_time": "2022-03-25T08:33:43.010Z"
   },
   {
    "duration": 17,
    "start_time": "2022-03-25T08:34:16.913Z"
   },
   {
    "duration": 373,
    "start_time": "2022-03-25T08:34:52.001Z"
   },
   {
    "duration": 111,
    "start_time": "2022-03-25T08:35:26.684Z"
   },
   {
    "duration": 19,
    "start_time": "2022-03-25T08:35:46.201Z"
   },
   {
    "duration": 27,
    "start_time": "2022-03-25T08:36:19.711Z"
   },
   {
    "duration": 11,
    "start_time": "2022-03-25T08:37:18.326Z"
   },
   {
    "duration": 18,
    "start_time": "2022-03-25T08:37:40.709Z"
   },
   {
    "duration": 467,
    "start_time": "2022-03-25T08:41:39.010Z"
   },
   {
    "duration": 620,
    "start_time": "2022-03-25T08:43:16.808Z"
   },
   {
    "duration": 2638,
    "start_time": "2022-03-25T08:44:20.632Z"
   },
   {
    "duration": 2655,
    "start_time": "2022-03-25T08:44:42.462Z"
   },
   {
    "duration": 2624,
    "start_time": "2022-03-25T08:45:30.695Z"
   },
   {
    "duration": 773,
    "start_time": "2022-03-25T08:46:49.973Z"
   },
   {
    "duration": 2696,
    "start_time": "2022-03-25T08:47:05.996Z"
   },
   {
    "duration": 1561,
    "start_time": "2022-03-25T08:47:21.283Z"
   },
   {
    "duration": 1637,
    "start_time": "2022-03-25T08:47:26.922Z"
   },
   {
    "duration": 1728,
    "start_time": "2022-03-25T08:48:09.298Z"
   },
   {
    "duration": 1673,
    "start_time": "2022-03-25T08:48:21.394Z"
   },
   {
    "duration": 248,
    "start_time": "2022-03-25T08:50:50.726Z"
   },
   {
    "duration": 155,
    "start_time": "2022-03-25T08:51:02.920Z"
   },
   {
    "duration": 1606,
    "start_time": "2022-03-25T08:51:58.430Z"
   },
   {
    "duration": 1611,
    "start_time": "2022-03-25T08:54:16.628Z"
   },
   {
    "duration": 1713,
    "start_time": "2022-03-25T09:05:03.629Z"
   },
   {
    "duration": 2022,
    "start_time": "2022-03-25T09:05:56.752Z"
   },
   {
    "duration": 1892,
    "start_time": "2022-03-25T09:06:30.703Z"
   },
   {
    "duration": 384,
    "start_time": "2022-03-25T09:16:40.684Z"
   },
   {
    "duration": 371,
    "start_time": "2022-03-25T09:19:21.925Z"
   },
   {
    "duration": 374,
    "start_time": "2022-03-25T09:19:30.449Z"
   },
   {
    "duration": 377,
    "start_time": "2022-03-25T09:26:56.585Z"
   },
   {
    "duration": 359,
    "start_time": "2022-03-25T09:28:38.943Z"
   },
   {
    "duration": 17,
    "start_time": "2022-03-25T09:32:49.363Z"
   },
   {
    "duration": 137,
    "start_time": "2022-03-25T09:33:18.178Z"
   },
   {
    "duration": 148,
    "start_time": "2022-03-25T09:37:11.155Z"
   },
   {
    "duration": 21,
    "start_time": "2022-03-25T09:37:30.558Z"
   },
   {
    "duration": 16,
    "start_time": "2022-03-25T09:38:22.525Z"
   },
   {
    "duration": 137,
    "start_time": "2022-03-25T09:38:28.741Z"
   },
   {
    "duration": 229,
    "start_time": "2022-03-25T09:39:32.037Z"
   },
   {
    "duration": 292,
    "start_time": "2022-03-25T09:39:50.028Z"
   },
   {
    "duration": 148,
    "start_time": "2022-03-25T09:41:19.547Z"
   },
   {
    "duration": 143,
    "start_time": "2022-03-25T09:45:47.150Z"
   },
   {
    "duration": 210,
    "start_time": "2022-03-25T09:46:21.909Z"
   },
   {
    "duration": 158,
    "start_time": "2022-03-25T09:46:30.589Z"
   },
   {
    "duration": 273,
    "start_time": "2022-03-25T09:48:59.983Z"
   },
   {
    "duration": 18,
    "start_time": "2022-03-25T09:49:15.346Z"
   },
   {
    "duration": 275,
    "start_time": "2022-03-25T09:49:27.482Z"
   },
   {
    "duration": 13,
    "start_time": "2022-03-25T09:50:13.665Z"
   },
   {
    "duration": 760,
    "start_time": "2022-03-25T09:51:36.407Z"
   },
   {
    "duration": 193,
    "start_time": "2022-03-25T09:51:59.681Z"
   },
   {
    "duration": 196,
    "start_time": "2022-03-25T09:54:52.575Z"
   },
   {
    "duration": 195,
    "start_time": "2022-03-25T09:54:59.243Z"
   },
   {
    "duration": 195,
    "start_time": "2022-03-25T09:55:26.635Z"
   },
   {
    "duration": 193,
    "start_time": "2022-03-25T10:16:18.149Z"
   },
   {
    "duration": 193,
    "start_time": "2022-03-25T10:18:03.859Z"
   },
   {
    "duration": 191,
    "start_time": "2022-03-25T10:18:51.415Z"
   },
   {
    "duration": 197,
    "start_time": "2022-03-25T10:40:13.441Z"
   },
   {
    "duration": 190,
    "start_time": "2022-03-25T10:40:34.153Z"
   },
   {
    "duration": 312,
    "start_time": "2022-03-25T10:42:01.550Z"
   },
   {
    "duration": 323,
    "start_time": "2022-03-25T10:43:31.506Z"
   },
   {
    "duration": 880,
    "start_time": "2022-03-25T10:45:03.611Z"
   },
   {
    "duration": 355,
    "start_time": "2022-03-25T10:45:04.493Z"
   },
   {
    "duration": 191,
    "start_time": "2022-03-25T10:45:04.849Z"
   },
   {
    "duration": 69,
    "start_time": "2022-03-25T10:45:05.042Z"
   },
   {
    "duration": 382,
    "start_time": "2022-03-25T10:45:05.114Z"
   },
   {
    "duration": 24,
    "start_time": "2022-03-25T10:45:05.498Z"
   },
   {
    "duration": 1202,
    "start_time": "2022-03-25T10:45:05.524Z"
   },
   {
    "duration": 762,
    "start_time": "2022-03-25T10:45:06.728Z"
   },
   {
    "duration": 5222,
    "start_time": "2022-03-25T10:45:07.492Z"
   },
   {
    "duration": 5459,
    "start_time": "2022-03-25T10:45:12.715Z"
   },
   {
    "duration": 312,
    "start_time": "2022-03-25T10:45:18.176Z"
   },
   {
    "duration": 2826,
    "start_time": "2022-03-25T10:45:18.490Z"
   },
   {
    "duration": 836,
    "start_time": "2022-03-25T10:45:21.317Z"
   },
   {
    "duration": 462,
    "start_time": "2022-03-25T10:45:22.156Z"
   },
   {
    "duration": 16,
    "start_time": "2022-03-25T10:45:22.619Z"
   },
   {
    "duration": 20,
    "start_time": "2022-03-25T10:45:22.638Z"
   },
   {
    "duration": 11,
    "start_time": "2022-03-25T10:45:22.660Z"
   },
   {
    "duration": 9,
    "start_time": "2022-03-25T10:45:22.673Z"
   },
   {
    "duration": 193,
    "start_time": "2022-03-25T10:45:22.684Z"
   },
   {
    "duration": 1658,
    "start_time": "2022-03-25T10:45:22.879Z"
   },
   {
    "duration": 239,
    "start_time": "2022-03-25T10:45:24.540Z"
   },
   {
    "duration": 1700,
    "start_time": "2022-03-25T10:45:24.781Z"
   },
   {
    "duration": 369,
    "start_time": "2022-03-25T10:45:26.483Z"
   },
   {
    "duration": 0,
    "start_time": "2022-03-25T10:45:26.854Z"
   },
   {
    "duration": 150,
    "start_time": "2022-03-25T10:45:58.540Z"
   },
   {
    "duration": 142,
    "start_time": "2022-03-25T10:46:24.035Z"
   },
   {
    "duration": 138,
    "start_time": "2022-03-25T10:47:30.578Z"
   },
   {
    "duration": 297,
    "start_time": "2022-03-25T10:47:41.290Z"
   },
   {
    "duration": 343,
    "start_time": "2022-03-25T10:48:11.946Z"
   },
   {
    "duration": 292,
    "start_time": "2022-03-25T10:48:45.385Z"
   },
   {
    "duration": 262,
    "start_time": "2022-03-25T10:49:01.833Z"
   },
   {
    "duration": 261,
    "start_time": "2022-03-25T10:49:42.920Z"
   },
   {
    "duration": 220,
    "start_time": "2022-03-25T10:52:21.746Z"
   },
   {
    "duration": 245,
    "start_time": "2022-03-25T10:52:45.333Z"
   },
   {
    "duration": 127,
    "start_time": "2022-03-25T10:52:55.940Z"
   },
   {
    "duration": 17,
    "start_time": "2022-03-25T10:53:07.357Z"
   },
   {
    "duration": 5211,
    "start_time": "2022-03-25T16:26:10.316Z"
   },
   {
    "duration": 812,
    "start_time": "2022-03-25T16:26:15.530Z"
   },
   {
    "duration": 259,
    "start_time": "2022-03-25T16:26:16.345Z"
   },
   {
    "duration": 104,
    "start_time": "2022-03-25T16:26:16.606Z"
   },
   {
    "duration": 598,
    "start_time": "2022-03-25T16:26:16.713Z"
   },
   {
    "duration": 36,
    "start_time": "2022-03-25T16:26:17.313Z"
   },
   {
    "duration": 2888,
    "start_time": "2022-03-25T16:26:17.367Z"
   },
   {
    "duration": 1840,
    "start_time": "2022-03-25T16:26:20.258Z"
   },
   {
    "duration": 9380,
    "start_time": "2022-03-25T16:26:22.101Z"
   },
   {
    "duration": 10602,
    "start_time": "2022-03-25T16:26:31.484Z"
   },
   {
    "duration": 474,
    "start_time": "2022-03-25T16:26:42.089Z"
   },
   {
    "duration": 5861,
    "start_time": "2022-03-25T16:26:42.568Z"
   },
   {
    "duration": 783,
    "start_time": "2022-03-25T16:26:48.432Z"
   },
   {
    "duration": 870,
    "start_time": "2022-03-25T16:26:49.221Z"
   },
   {
    "duration": 15,
    "start_time": "2022-03-25T16:26:50.093Z"
   },
   {
    "duration": 61,
    "start_time": "2022-03-25T16:26:50.110Z"
   },
   {
    "duration": 16,
    "start_time": "2022-03-25T16:26:50.174Z"
   },
   {
    "duration": 14,
    "start_time": "2022-03-25T16:26:50.192Z"
   },
   {
    "duration": 350,
    "start_time": "2022-03-25T16:26:50.209Z"
   },
   {
    "duration": 3462,
    "start_time": "2022-03-25T16:26:50.562Z"
   },
   {
    "duration": 386,
    "start_time": "2022-03-25T16:26:54.026Z"
   },
   {
    "duration": 3097,
    "start_time": "2022-03-25T16:26:54.414Z"
   },
   {
    "duration": 984,
    "start_time": "2022-03-25T16:28:51.528Z"
   },
   {
    "duration": 1154,
    "start_time": "2022-03-25T16:29:12.719Z"
   },
   {
    "duration": 503,
    "start_time": "2022-03-25T16:29:58.626Z"
   },
   {
    "duration": 288,
    "start_time": "2022-03-25T16:31:10.770Z"
   },
   {
    "duration": 718,
    "start_time": "2022-03-25T16:32:01.714Z"
   },
   {
    "duration": 715,
    "start_time": "2022-03-25T16:32:15.146Z"
   },
   {
    "duration": 791,
    "start_time": "2022-03-25T16:34:08.157Z"
   },
   {
    "duration": 245,
    "start_time": "2022-03-25T16:37:21.074Z"
   },
   {
    "duration": 247,
    "start_time": "2022-03-25T16:37:50.465Z"
   },
   {
    "duration": 331,
    "start_time": "2022-03-25T16:38:09.425Z"
   },
   {
    "duration": 267,
    "start_time": "2022-03-25T16:41:29.237Z"
   },
   {
    "duration": 332,
    "start_time": "2022-03-25T16:42:20.774Z"
   },
   {
    "duration": 338,
    "start_time": "2022-03-25T16:42:35.497Z"
   },
   {
    "duration": 1902,
    "start_time": "2022-03-25T16:44:05.857Z"
   },
   {
    "duration": 252,
    "start_time": "2022-03-25T16:44:35.388Z"
   },
   {
    "duration": 343,
    "start_time": "2022-03-25T16:46:03.829Z"
   },
   {
    "duration": 1412,
    "start_time": "2022-03-25T16:47:18.983Z"
   },
   {
    "duration": 1095,
    "start_time": "2022-03-25T16:48:05.727Z"
   },
   {
    "duration": 1007,
    "start_time": "2022-03-25T16:52:59.878Z"
   },
   {
    "duration": 157,
    "start_time": "2022-03-25T16:56:01.185Z"
   },
   {
    "duration": 311,
    "start_time": "2022-03-25T16:56:21.331Z"
   },
   {
    "duration": 233,
    "start_time": "2022-03-25T16:57:02.795Z"
   },
   {
    "duration": 324,
    "start_time": "2022-03-25T16:57:14.570Z"
   },
   {
    "duration": 317,
    "start_time": "2022-03-25T16:57:24.267Z"
   },
   {
    "duration": 322,
    "start_time": "2022-03-25T16:57:31.291Z"
   },
   {
    "duration": 412,
    "start_time": "2022-03-25T16:57:37.397Z"
   },
   {
    "duration": 325,
    "start_time": "2022-03-25T16:58:04.564Z"
   },
   {
    "duration": 414,
    "start_time": "2022-03-25T17:02:27.609Z"
   },
   {
    "duration": 427,
    "start_time": "2022-03-25T17:03:48.171Z"
   },
   {
    "duration": 378,
    "start_time": "2022-03-25T17:03:56.154Z"
   },
   {
    "duration": 402,
    "start_time": "2022-03-25T17:04:38.995Z"
   },
   {
    "duration": 658,
    "start_time": "2022-03-25T17:04:57.740Z"
   },
   {
    "duration": 522,
    "start_time": "2022-03-25T17:05:48.054Z"
   },
   {
    "duration": 1293,
    "start_time": "2022-03-25T17:08:12.833Z"
   },
   {
    "duration": 1061,
    "start_time": "2022-03-25T17:10:11.657Z"
   },
   {
    "duration": 858,
    "start_time": "2022-03-25T17:10:27.467Z"
   },
   {
    "duration": 312,
    "start_time": "2022-03-25T17:10:36.387Z"
   },
   {
    "duration": 538,
    "start_time": "2022-03-25T17:12:03.389Z"
   },
   {
    "duration": 1141,
    "start_time": "2022-03-25T17:12:10.837Z"
   },
   {
    "duration": 846,
    "start_time": "2022-03-25T17:12:36.541Z"
   },
   {
    "duration": 1335,
    "start_time": "2022-03-25T17:18:19.199Z"
   },
   {
    "duration": 303,
    "start_time": "2022-03-25T17:20:45.209Z"
   },
   {
    "duration": 1475,
    "start_time": "2022-03-25T17:21:46.678Z"
   },
   {
    "duration": 1429,
    "start_time": "2022-03-25T17:21:57.658Z"
   },
   {
    "duration": 331,
    "start_time": "2022-03-25T17:38:40.716Z"
   },
   {
    "duration": 997,
    "start_time": "2022-03-25T17:41:11.297Z"
   },
   {
    "duration": 393,
    "start_time": "2022-03-25T17:46:43.895Z"
   },
   {
    "duration": 53,
    "start_time": "2022-04-07T20:17:52.412Z"
   },
   {
    "duration": 4298,
    "start_time": "2022-04-07T20:17:59.882Z"
   },
   {
    "duration": 538,
    "start_time": "2022-04-07T20:18:04.183Z"
   },
   {
    "duration": 187,
    "start_time": "2022-04-07T20:18:04.723Z"
   },
   {
    "duration": 69,
    "start_time": "2022-04-07T20:18:04.911Z"
   },
   {
    "duration": 4,
    "start_time": "2022-04-07T20:18:35.181Z"
   },
   {
    "duration": 2,
    "start_time": "2022-04-07T20:18:35.197Z"
   },
   {
    "duration": 175,
    "start_time": "2022-04-07T20:18:35.202Z"
   },
   {
    "duration": 66,
    "start_time": "2022-04-07T20:18:35.379Z"
   },
   {
    "duration": 355,
    "start_time": "2022-04-07T20:18:35.447Z"
   },
   {
    "duration": 25,
    "start_time": "2022-04-07T20:18:35.805Z"
   },
   {
    "duration": 1128,
    "start_time": "2022-04-07T20:18:35.832Z"
   },
   {
    "duration": 719,
    "start_time": "2022-04-07T20:18:36.962Z"
   },
   {
    "duration": 5306,
    "start_time": "2022-04-07T20:18:42.320Z"
   },
   {
    "duration": 38,
    "start_time": "2022-04-07T20:27:13.667Z"
   },
   {
    "duration": 38,
    "start_time": "2022-04-07T21:15:18.991Z"
   },
   {
    "duration": 3864,
    "start_time": "2022-04-07T21:15:46.247Z"
   },
   {
    "duration": 4,
    "start_time": "2022-04-07T21:16:14.610Z"
   },
   {
    "duration": 12,
    "start_time": "2022-04-07T21:16:14.616Z"
   },
   {
    "duration": 178,
    "start_time": "2022-04-07T21:16:14.630Z"
   },
   {
    "duration": 38,
    "start_time": "2022-04-07T21:16:14.811Z"
   },
   {
    "duration": 377,
    "start_time": "2022-04-07T21:16:14.851Z"
   },
   {
    "duration": 27,
    "start_time": "2022-04-07T21:16:15.230Z"
   },
   {
    "duration": 1350,
    "start_time": "2022-04-07T21:16:15.258Z"
   },
   {
    "duration": 949,
    "start_time": "2022-04-07T21:16:16.611Z"
   },
   {
    "duration": 5145,
    "start_time": "2022-04-07T21:16:29.041Z"
   },
   {
    "duration": 380,
    "start_time": "2022-04-07T21:18:34.852Z"
   },
   {
    "duration": 1407,
    "start_time": "2022-04-07T21:53:40.357Z"
   },
   {
    "duration": 160,
    "start_time": "2022-04-07T21:55:27.721Z"
   },
   {
    "duration": 158,
    "start_time": "2022-04-07T21:56:00.401Z"
   },
   {
    "duration": 180,
    "start_time": "2022-04-07T21:56:15.058Z"
   },
   {
    "duration": 161,
    "start_time": "2022-04-07T21:56:53.674Z"
   },
   {
    "duration": 1491,
    "start_time": "2022-04-07T21:57:41.075Z"
   },
   {
    "duration": 1460,
    "start_time": "2022-04-07T21:58:03.380Z"
   },
   {
    "duration": 1411,
    "start_time": "2022-04-07T21:58:23.436Z"
   },
   {
    "duration": 1149,
    "start_time": "2022-04-07T22:00:20.255Z"
   },
   {
    "duration": 741,
    "start_time": "2022-04-07T22:02:51.481Z"
   },
   {
    "duration": 37,
    "start_time": "2022-04-07T22:03:09.937Z"
   },
   {
    "duration": 36,
    "start_time": "2022-04-07T22:03:17.154Z"
   },
   {
    "duration": 5,
    "start_time": "2022-04-07T22:03:22.042Z"
   },
   {
    "duration": 12,
    "start_time": "2022-04-07T22:03:22.049Z"
   },
   {
    "duration": 167,
    "start_time": "2022-04-07T22:03:22.063Z"
   },
   {
    "duration": 39,
    "start_time": "2022-04-07T22:03:39.521Z"
   },
   {
    "duration": 38,
    "start_time": "2022-04-07T22:03:59.874Z"
   },
   {
    "duration": 159,
    "start_time": "2022-04-07T22:04:21.458Z"
   },
   {
    "duration": 5,
    "start_time": "2022-04-07T22:04:26.493Z"
   },
   {
    "duration": 15,
    "start_time": "2022-04-07T22:04:26.500Z"
   },
   {
    "duration": 167,
    "start_time": "2022-04-07T22:04:26.517Z"
   },
   {
    "duration": 44,
    "start_time": "2022-04-07T22:04:26.687Z"
   },
   {
    "duration": 455,
    "start_time": "2022-04-07T22:04:26.733Z"
   },
   {
    "duration": 35,
    "start_time": "2022-04-07T22:04:27.190Z"
   },
   {
    "duration": 1083,
    "start_time": "2022-04-07T22:04:27.227Z"
   },
   {
    "duration": 153,
    "start_time": "2022-04-07T22:04:30.476Z"
   },
   {
    "duration": 58,
    "start_time": "2022-04-07T22:05:26.829Z"
   },
   {
    "duration": 39,
    "start_time": "2022-04-07T22:05:50.812Z"
   },
   {
    "duration": 5,
    "start_time": "2022-04-07T22:06:30.454Z"
   },
   {
    "duration": 38,
    "start_time": "2022-04-07T22:06:40.005Z"
   },
   {
    "duration": 57,
    "start_time": "2022-04-07T22:06:52.646Z"
   },
   {
    "duration": 163,
    "start_time": "2022-04-07T22:07:04.087Z"
   },
   {
    "duration": 39,
    "start_time": "2022-04-07T22:08:20.903Z"
   },
   {
    "duration": 38,
    "start_time": "2022-04-07T22:08:29.544Z"
   },
   {
    "duration": 41,
    "start_time": "2022-04-07T22:09:04.545Z"
   },
   {
    "duration": 38,
    "start_time": "2022-04-07T22:09:18.929Z"
   },
   {
    "duration": 46,
    "start_time": "2022-04-07T22:09:30.009Z"
   },
   {
    "duration": 40,
    "start_time": "2022-04-07T22:11:30.292Z"
   },
   {
    "duration": 139,
    "start_time": "2022-04-07T22:12:18.285Z"
   },
   {
    "duration": 741,
    "start_time": "2022-04-07T22:13:10.151Z"
   },
   {
    "duration": 25,
    "start_time": "2022-04-07T22:26:15.677Z"
   },
   {
    "duration": 21,
    "start_time": "2022-04-07T22:26:46.919Z"
   },
   {
    "duration": 23,
    "start_time": "2022-04-07T22:27:57.520Z"
   },
   {
    "duration": 7,
    "start_time": "2022-04-07T22:32:15.078Z"
   },
   {
    "duration": 23,
    "start_time": "2022-04-07T22:32:45.045Z"
   },
   {
    "duration": 7,
    "start_time": "2022-04-07T22:33:43.727Z"
   },
   {
    "duration": 22,
    "start_time": "2022-04-07T22:34:08.551Z"
   },
   {
    "duration": 13,
    "start_time": "2022-04-07T22:36:00.834Z"
   },
   {
    "duration": 18,
    "start_time": "2022-04-07T22:36:34.820Z"
   },
   {
    "duration": 22,
    "start_time": "2022-04-07T22:36:41.755Z"
   },
   {
    "duration": 20,
    "start_time": "2022-04-07T22:36:58.211Z"
   },
   {
    "duration": 151,
    "start_time": "2022-04-07T22:37:47.741Z"
   },
   {
    "duration": 11,
    "start_time": "2022-04-07T22:37:54.941Z"
   },
   {
    "duration": 5,
    "start_time": "2022-04-07T22:38:52.901Z"
   },
   {
    "duration": 24,
    "start_time": "2022-04-07T22:38:58.295Z"
   },
   {
    "duration": 230,
    "start_time": "2022-04-07T22:39:17.854Z"
   },
   {
    "duration": 235,
    "start_time": "2022-04-07T22:40:49.575Z"
   },
   {
    "duration": 22,
    "start_time": "2022-04-07T22:40:57.552Z"
   },
   {
    "duration": 15,
    "start_time": "2022-04-07T22:41:10.336Z"
   },
   {
    "duration": 5,
    "start_time": "2022-04-07T22:41:21.121Z"
   },
   {
    "duration": 45,
    "start_time": "2022-04-07T22:41:35.201Z"
   },
   {
    "duration": 12,
    "start_time": "2022-04-07T22:41:55.968Z"
   },
   {
    "duration": 10,
    "start_time": "2022-04-07T22:42:31.010Z"
   },
   {
    "duration": 12,
    "start_time": "2022-04-07T22:42:36.578Z"
   },
   {
    "duration": 23,
    "start_time": "2022-04-07T22:43:11.515Z"
   },
   {
    "duration": 23,
    "start_time": "2022-04-07T22:43:28.530Z"
   },
   {
    "duration": 22,
    "start_time": "2022-04-07T22:43:44.307Z"
   },
   {
    "duration": 4,
    "start_time": "2022-04-07T22:43:50.614Z"
   },
   {
    "duration": 11,
    "start_time": "2022-04-07T22:43:50.621Z"
   },
   {
    "duration": 165,
    "start_time": "2022-04-07T22:43:50.634Z"
   },
   {
    "duration": 45,
    "start_time": "2022-04-07T22:43:50.801Z"
   },
   {
    "duration": 26,
    "start_time": "2022-04-07T22:43:54.547Z"
   },
   {
    "duration": 4,
    "start_time": "2022-04-07T22:44:23.305Z"
   },
   {
    "duration": 8,
    "start_time": "2022-04-07T22:44:23.311Z"
   },
   {
    "duration": 181,
    "start_time": "2022-04-07T22:44:23.321Z"
   },
   {
    "duration": 46,
    "start_time": "2022-04-07T22:44:23.505Z"
   },
   {
    "duration": 7,
    "start_time": "2022-04-07T22:44:35.949Z"
   },
   {
    "duration": 7,
    "start_time": "2022-04-07T22:44:57.925Z"
   },
   {
    "duration": 7,
    "start_time": "2022-04-07T22:45:06.253Z"
   },
   {
    "duration": 6,
    "start_time": "2022-04-07T22:45:21.237Z"
   },
   {
    "duration": 9,
    "start_time": "2022-04-07T22:45:51.629Z"
   },
   {
    "duration": 16,
    "start_time": "2022-04-07T22:46:02.605Z"
   },
   {
    "duration": 17,
    "start_time": "2022-04-07T22:46:08.278Z"
   },
   {
    "duration": 17,
    "start_time": "2022-04-07T22:46:14.558Z"
   },
   {
    "duration": 9,
    "start_time": "2022-04-07T22:46:45.455Z"
   },
   {
    "duration": 7,
    "start_time": "2022-04-07T22:46:59.695Z"
   },
   {
    "duration": 41,
    "start_time": "2022-04-07T22:47:58.793Z"
   },
   {
    "duration": 37,
    "start_time": "2022-04-07T22:48:27.953Z"
   },
   {
    "duration": 25,
    "start_time": "2022-04-07T22:49:52.090Z"
   },
   {
    "duration": 4,
    "start_time": "2022-04-07T22:50:14.764Z"
   },
   {
    "duration": 43,
    "start_time": "2022-04-07T22:50:37.355Z"
   },
   {
    "duration": 8,
    "start_time": "2022-04-07T22:50:51.500Z"
   },
   {
    "duration": 4,
    "start_time": "2022-04-07T22:56:25.907Z"
   },
   {
    "duration": 13,
    "start_time": "2022-04-07T22:56:30.674Z"
   },
   {
    "duration": 5,
    "start_time": "2022-04-07T22:57:59.681Z"
   },
   {
    "duration": 12,
    "start_time": "2022-04-07T22:57:59.688Z"
   },
   {
    "duration": 170,
    "start_time": "2022-04-07T22:57:59.702Z"
   },
   {
    "duration": 51,
    "start_time": "2022-04-07T22:57:59.875Z"
   },
   {
    "duration": 358,
    "start_time": "2022-04-07T22:57:59.928Z"
   },
   {
    "duration": 33,
    "start_time": "2022-04-07T22:58:00.287Z"
   },
   {
    "duration": 1186,
    "start_time": "2022-04-07T22:58:00.322Z"
   },
   {
    "duration": 822,
    "start_time": "2022-04-07T22:58:03.933Z"
   },
   {
    "duration": 4433,
    "start_time": "2022-04-07T22:59:01.422Z"
   },
   {
    "duration": 181,
    "start_time": "2022-04-07T23:12:37.127Z"
   },
   {
    "duration": 160,
    "start_time": "2022-04-07T23:13:58.131Z"
   },
   {
    "duration": 175,
    "start_time": "2022-04-07T23:27:30.130Z"
   },
   {
    "duration": 165,
    "start_time": "2022-04-07T23:28:37.811Z"
   },
   {
    "duration": 166,
    "start_time": "2022-04-07T23:29:25.884Z"
   },
   {
    "duration": 168,
    "start_time": "2022-04-07T23:29:55.204Z"
   },
   {
    "duration": 166,
    "start_time": "2022-04-07T23:40:08.220Z"
   },
   {
    "duration": 156,
    "start_time": "2022-04-07T23:42:31.852Z"
   },
   {
    "duration": 164,
    "start_time": "2022-04-07T23:43:28.406Z"
   },
   {
    "duration": 175,
    "start_time": "2022-04-07T23:45:10.656Z"
   },
   {
    "duration": 152,
    "start_time": "2022-04-07T23:47:25.659Z"
   },
   {
    "duration": 180,
    "start_time": "2022-04-07T23:47:35.499Z"
   },
   {
    "duration": 143,
    "start_time": "2022-04-07T23:47:48.762Z"
   },
   {
    "duration": 148,
    "start_time": "2022-04-07T23:48:04.443Z"
   },
   {
    "duration": 158,
    "start_time": "2022-04-07T23:49:32.573Z"
   },
   {
    "duration": 2322,
    "start_time": "2022-04-07T23:49:54.142Z"
   },
   {
    "duration": 175,
    "start_time": "2022-04-07T23:52:28.904Z"
   },
   {
    "duration": 149,
    "start_time": "2022-04-07T23:54:03.123Z"
   },
   {
    "duration": 178,
    "start_time": "2022-04-07T23:54:12.962Z"
   },
   {
    "duration": 140,
    "start_time": "2022-04-07T23:54:25.786Z"
   },
   {
    "duration": 179,
    "start_time": "2022-04-07T23:54:32.186Z"
   },
   {
    "duration": 178,
    "start_time": "2022-04-07T23:54:47.139Z"
   },
   {
    "duration": 172,
    "start_time": "2022-04-08T00:04:50.977Z"
   },
   {
    "duration": 187,
    "start_time": "2022-04-08T00:05:33.162Z"
   },
   {
    "duration": 180,
    "start_time": "2022-04-08T00:06:09.257Z"
   },
   {
    "duration": 179,
    "start_time": "2022-04-08T00:07:40.811Z"
   },
   {
    "duration": 188,
    "start_time": "2022-04-08T00:10:31.007Z"
   },
   {
    "duration": 179,
    "start_time": "2022-04-08T00:19:56.906Z"
   },
   {
    "duration": 185,
    "start_time": "2022-04-08T00:20:16.659Z"
   },
   {
    "duration": 183,
    "start_time": "2022-04-08T00:20:33.803Z"
   },
   {
    "duration": 25,
    "start_time": "2022-04-08T00:36:25.454Z"
   },
   {
    "duration": 140,
    "start_time": "2022-04-08T00:36:47.117Z"
   },
   {
    "duration": 2214,
    "start_time": "2022-04-08T00:36:56.285Z"
   },
   {
    "duration": 47,
    "start_time": "2022-04-08T00:37:27.392Z"
   },
   {
    "duration": 47,
    "start_time": "2022-04-08T00:38:16.072Z"
   },
   {
    "duration": 46,
    "start_time": "2022-04-08T00:39:14.618Z"
   },
   {
    "duration": 52,
    "start_time": "2022-04-08T00:41:53.069Z"
   },
   {
    "duration": 55,
    "start_time": "2022-04-08T00:42:07.837Z"
   },
   {
    "duration": 57,
    "start_time": "2022-04-08T00:44:18.975Z"
   },
   {
    "duration": 64,
    "start_time": "2022-04-08T00:50:16.718Z"
   },
   {
    "duration": 56,
    "start_time": "2022-04-08T00:51:56.008Z"
   },
   {
    "duration": 8,
    "start_time": "2022-04-08T00:52:32.714Z"
   },
   {
    "duration": 58,
    "start_time": "2022-04-08T00:52:49.739Z"
   },
   {
    "duration": 59,
    "start_time": "2022-04-08T00:53:45.714Z"
   },
   {
    "duration": 60,
    "start_time": "2022-04-08T00:54:24.355Z"
   },
   {
    "duration": 8,
    "start_time": "2022-04-08T00:55:23.084Z"
   },
   {
    "duration": 69,
    "start_time": "2022-04-08T00:55:43.596Z"
   },
   {
    "duration": 63,
    "start_time": "2022-04-08T00:55:57.564Z"
   },
   {
    "duration": 53,
    "start_time": "2022-04-08T00:57:10.558Z"
   },
   {
    "duration": 57,
    "start_time": "2022-04-08T00:57:30.120Z"
   },
   {
    "duration": 53,
    "start_time": "2022-04-08T00:58:34.336Z"
   },
   {
    "duration": 55,
    "start_time": "2022-04-08T00:59:04.777Z"
   },
   {
    "duration": 160,
    "start_time": "2022-04-08T01:00:08.346Z"
   },
   {
    "duration": 54,
    "start_time": "2022-04-08T01:00:32.019Z"
   },
   {
    "duration": 158,
    "start_time": "2022-04-08T01:01:29.036Z"
   },
   {
    "duration": 53,
    "start_time": "2022-04-08T01:01:36.100Z"
   },
   {
    "duration": 51,
    "start_time": "2022-04-08T01:02:11.883Z"
   },
   {
    "duration": 50,
    "start_time": "2022-04-08T01:02:36.398Z"
   },
   {
    "duration": 57,
    "start_time": "2022-04-08T01:04:48.568Z"
   },
   {
    "duration": 67,
    "start_time": "2022-04-08T01:07:22.883Z"
   },
   {
    "duration": 75,
    "start_time": "2022-04-08T01:08:19.516Z"
   },
   {
    "duration": 69,
    "start_time": "2022-04-08T01:09:58.951Z"
   },
   {
    "duration": 73,
    "start_time": "2022-04-08T01:10:27.943Z"
   },
   {
    "duration": 76,
    "start_time": "2022-04-08T01:10:38.271Z"
   },
   {
    "duration": 79,
    "start_time": "2022-04-08T01:11:10.256Z"
   },
   {
    "duration": 82,
    "start_time": "2022-04-08T01:14:06.892Z"
   },
   {
    "duration": 68,
    "start_time": "2022-04-08T01:15:08.933Z"
   },
   {
    "duration": 70,
    "start_time": "2022-04-08T01:15:54.430Z"
   },
   {
    "duration": 61,
    "start_time": "2022-04-08T01:16:25.566Z"
   },
   {
    "duration": 60,
    "start_time": "2022-04-08T01:16:49.655Z"
   },
   {
    "duration": 60,
    "start_time": "2022-04-08T01:17:11.735Z"
   },
   {
    "duration": 56,
    "start_time": "2022-04-08T01:22:03.230Z"
   },
   {
    "duration": 52,
    "start_time": "2022-04-08T01:22:22.469Z"
   },
   {
    "duration": 59,
    "start_time": "2022-04-08T01:23:53.080Z"
   },
   {
    "duration": 63,
    "start_time": "2022-04-08T01:24:47.465Z"
   },
   {
    "duration": 64,
    "start_time": "2022-04-08T01:25:11.697Z"
   },
   {
    "duration": 184,
    "start_time": "2022-04-08T01:33:19.844Z"
   },
   {
    "duration": 63,
    "start_time": "2022-04-08T01:33:42.899Z"
   },
   {
    "duration": 62,
    "start_time": "2022-04-08T01:37:12.791Z"
   },
   {
    "duration": 2199,
    "start_time": "2022-04-08T01:45:43.058Z"
   },
   {
    "duration": 57,
    "start_time": "2022-04-08T01:45:57.940Z"
   },
   {
    "duration": 2239,
    "start_time": "2022-04-08T01:46:23.020Z"
   },
   {
    "duration": 60,
    "start_time": "2022-04-08T01:46:39.620Z"
   },
   {
    "duration": 1456,
    "start_time": "2022-04-09T21:21:00.179Z"
   },
   {
    "duration": 3233,
    "start_time": "2022-04-09T21:21:09.734Z"
   },
   {
    "duration": 32,
    "start_time": "2022-04-09T21:21:12.969Z"
   },
   {
    "duration": 0,
    "start_time": "2022-04-09T21:21:13.002Z"
   },
   {
    "duration": 11,
    "start_time": "2022-04-09T21:21:16.623Z"
   },
   {
    "duration": 4,
    "start_time": "2022-04-09T21:21:25.931Z"
   },
   {
    "duration": 13,
    "start_time": "2022-04-09T21:21:25.936Z"
   },
   {
    "duration": 0,
    "start_time": "2022-04-09T21:21:25.951Z"
   },
   {
    "duration": 12,
    "start_time": "2022-04-09T21:21:43.872Z"
   },
   {
    "duration": 3,
    "start_time": "2022-04-09T21:22:16.193Z"
   },
   {
    "duration": 3,
    "start_time": "2022-04-09T21:22:23.738Z"
   },
   {
    "duration": 5,
    "start_time": "2022-04-09T21:22:23.743Z"
   },
   {
    "duration": 179,
    "start_time": "2022-04-09T21:22:23.750Z"
   },
   {
    "duration": 56,
    "start_time": "2022-04-09T21:22:28.361Z"
   },
   {
    "duration": 52,
    "start_time": "2022-04-09T21:23:03.882Z"
   },
   {
    "duration": 51,
    "start_time": "2022-04-09T21:23:24.346Z"
   },
   {
    "duration": 48,
    "start_time": "2022-04-09T21:24:23.387Z"
   },
   {
    "duration": 49,
    "start_time": "2022-04-09T21:24:57.659Z"
   },
   {
    "duration": 17,
    "start_time": "2022-04-09T21:25:09.923Z"
   },
   {
    "duration": 14,
    "start_time": "2022-04-09T21:25:14.076Z"
   },
   {
    "duration": 15,
    "start_time": "2022-04-09T21:25:22.084Z"
   },
   {
    "duration": 15,
    "start_time": "2022-04-09T21:26:02.493Z"
   },
   {
    "duration": 48,
    "start_time": "2022-04-09T21:27:56.992Z"
   },
   {
    "duration": 40,
    "start_time": "2022-04-09T21:28:12.840Z"
   },
   {
    "duration": 42,
    "start_time": "2022-04-09T21:28:46.689Z"
   },
   {
    "duration": 20,
    "start_time": "2022-04-09T21:30:36.484Z"
   },
   {
    "duration": 45,
    "start_time": "2022-04-09T21:31:03.675Z"
   },
   {
    "duration": 54,
    "start_time": "2022-04-09T21:31:38.701Z"
   },
   {
    "duration": 211,
    "start_time": "2022-04-09T21:32:54.342Z"
   },
   {
    "duration": 56,
    "start_time": "2022-04-09T21:32:59.678Z"
   },
   {
    "duration": 2391,
    "start_time": "2022-04-09T21:34:07.360Z"
   },
   {
    "duration": 20,
    "start_time": "2022-04-09T21:34:43.409Z"
   },
   {
    "duration": 55,
    "start_time": "2022-04-09T21:35:01.809Z"
   },
   {
    "duration": 49,
    "start_time": "2022-04-09T21:35:18.737Z"
   },
   {
    "duration": 41,
    "start_time": "2022-04-09T21:37:43.356Z"
   },
   {
    "duration": 22,
    "start_time": "2022-04-09T21:44:59.182Z"
   },
   {
    "duration": 388,
    "start_time": "2022-04-09T21:45:10.981Z"
   },
   {
    "duration": 257,
    "start_time": "2022-04-09T21:45:30.334Z"
   },
   {
    "duration": 353,
    "start_time": "2022-04-09T21:45:51.434Z"
   },
   {
    "duration": 45,
    "start_time": "2022-04-09T21:46:26.241Z"
   },
   {
    "duration": 66,
    "start_time": "2022-04-09T21:46:48.008Z"
   },
   {
    "duration": 21,
    "start_time": "2022-04-09T21:48:29.826Z"
   },
   {
    "duration": 21,
    "start_time": "2022-04-09T21:49:09.979Z"
   },
   {
    "duration": 40,
    "start_time": "2022-04-09T21:49:36.284Z"
   },
   {
    "duration": 46,
    "start_time": "2022-04-09T21:49:46.124Z"
   },
   {
    "duration": 39,
    "start_time": "2022-04-09T21:50:35.141Z"
   },
   {
    "duration": 41,
    "start_time": "2022-04-09T21:50:52.342Z"
   },
   {
    "duration": 42,
    "start_time": "2022-04-09T21:51:15.102Z"
   },
   {
    "duration": 47,
    "start_time": "2022-04-09T21:52:02.830Z"
   },
   {
    "duration": 17,
    "start_time": "2022-04-09T21:54:45.042Z"
   },
   {
    "duration": 41,
    "start_time": "2022-04-09T21:59:37.880Z"
   },
   {
    "duration": 46,
    "start_time": "2022-04-09T22:01:03.705Z"
   },
   {
    "duration": 42,
    "start_time": "2022-04-09T22:01:24.937Z"
   },
   {
    "duration": 23,
    "start_time": "2022-04-09T22:02:51.188Z"
   },
   {
    "duration": 21,
    "start_time": "2022-04-09T22:03:30.589Z"
   },
   {
    "duration": 7,
    "start_time": "2022-04-09T22:04:10.510Z"
   },
   {
    "duration": 427,
    "start_time": "2022-04-09T22:04:21.213Z"
   },
   {
    "duration": 61,
    "start_time": "2022-04-09T22:04:51.310Z"
   },
   {
    "duration": 26,
    "start_time": "2022-04-09T22:06:18.576Z"
   },
   {
    "duration": 50,
    "start_time": "2022-04-09T22:06:51.186Z"
   },
   {
    "duration": 14,
    "start_time": "2022-04-09T22:09:31.471Z"
   },
   {
    "duration": 21,
    "start_time": "2022-04-09T22:09:41.139Z"
   },
   {
    "duration": 42,
    "start_time": "2022-04-09T22:10:00.077Z"
   },
   {
    "duration": 70,
    "start_time": "2022-04-09T22:11:40.045Z"
   },
   {
    "duration": 26,
    "start_time": "2022-04-09T22:12:01.519Z"
   },
   {
    "duration": 68,
    "start_time": "2022-04-09T22:12:15.743Z"
   },
   {
    "duration": 72,
    "start_time": "2022-04-09T22:12:23.679Z"
   },
   {
    "duration": 54,
    "start_time": "2022-04-09T22:12:30.496Z"
   },
   {
    "duration": 40,
    "start_time": "2022-04-09T22:12:35.327Z"
   },
   {
    "duration": 17,
    "start_time": "2022-04-09T22:12:41.152Z"
   },
   {
    "duration": 17,
    "start_time": "2022-04-09T22:12:54.504Z"
   },
   {
    "duration": 41,
    "start_time": "2022-04-09T22:13:00.391Z"
   },
   {
    "duration": 16,
    "start_time": "2022-04-09T22:14:18.834Z"
   },
   {
    "duration": 40,
    "start_time": "2022-04-09T22:14:26.650Z"
   },
   {
    "duration": 18,
    "start_time": "2022-04-09T22:15:53.660Z"
   },
   {
    "duration": 20,
    "start_time": "2022-04-09T22:16:24.053Z"
   },
   {
    "duration": 42,
    "start_time": "2022-04-09T22:21:34.331Z"
   },
   {
    "duration": 42,
    "start_time": "2022-04-09T22:22:06.699Z"
   },
   {
    "duration": 43,
    "start_time": "2022-04-09T22:29:17.876Z"
   },
   {
    "duration": 3147,
    "start_time": "2022-04-09T22:30:04.444Z"
   },
   {
    "duration": 20,
    "start_time": "2022-04-09T22:37:53.414Z"
   },
   {
    "duration": 27,
    "start_time": "2022-04-09T22:40:16.450Z"
   },
   {
    "duration": 47,
    "start_time": "2022-04-09T22:40:28.690Z"
   },
   {
    "duration": 50,
    "start_time": "2022-04-09T22:40:38.402Z"
   },
   {
    "duration": 52,
    "start_time": "2022-04-09T22:40:55.123Z"
   },
   {
    "duration": 20,
    "start_time": "2022-04-09T22:43:57.078Z"
   },
   {
    "duration": 22,
    "start_time": "2022-04-09T22:44:27.607Z"
   },
   {
    "duration": 48,
    "start_time": "2022-04-09T22:44:37.294Z"
   },
   {
    "duration": 3501,
    "start_time": "2022-04-09T22:44:59.288Z"
   },
   {
    "duration": 82,
    "start_time": "2022-04-09T22:45:17.048Z"
   },
   {
    "duration": 56,
    "start_time": "2022-04-09T22:53:47.257Z"
   },
   {
    "duration": 51,
    "start_time": "2022-04-09T22:54:05.661Z"
   },
   {
    "duration": 53,
    "start_time": "2022-04-09T22:55:41.998Z"
   },
   {
    "duration": 78,
    "start_time": "2022-04-09T22:56:48.521Z"
   },
   {
    "duration": 51,
    "start_time": "2022-04-09T22:58:52.410Z"
   },
   {
    "duration": 42,
    "start_time": "2022-04-09T22:59:47.028Z"
   },
   {
    "duration": 26,
    "start_time": "2022-04-09T23:00:50.521Z"
   },
   {
    "duration": 38,
    "start_time": "2022-04-09T23:02:11.560Z"
   },
   {
    "duration": 40,
    "start_time": "2022-04-09T23:02:37.513Z"
   },
   {
    "duration": 51,
    "start_time": "2022-04-09T23:03:06.369Z"
   },
   {
    "duration": 50,
    "start_time": "2022-04-09T23:03:33.201Z"
   },
   {
    "duration": 52,
    "start_time": "2022-04-09T23:04:16.177Z"
   },
   {
    "duration": 48,
    "start_time": "2022-04-09T23:04:26.681Z"
   },
   {
    "duration": 52,
    "start_time": "2022-04-09T23:05:23.170Z"
   },
   {
    "duration": 50,
    "start_time": "2022-04-09T23:05:55.411Z"
   },
   {
    "duration": 49,
    "start_time": "2022-04-09T23:06:29.916Z"
   },
   {
    "duration": 51,
    "start_time": "2022-04-09T23:07:41.197Z"
   },
   {
    "duration": 51,
    "start_time": "2022-04-09T23:07:57.485Z"
   },
   {
    "duration": 53,
    "start_time": "2022-04-09T23:08:31.702Z"
   },
   {
    "duration": 57,
    "start_time": "2022-04-09T23:09:13.655Z"
   },
   {
    "duration": 73,
    "start_time": "2022-04-09T23:12:08.811Z"
   },
   {
    "duration": 52,
    "start_time": "2022-04-09T23:12:33.371Z"
   },
   {
    "duration": 50,
    "start_time": "2022-04-09T23:14:07.309Z"
   },
   {
    "duration": 203,
    "start_time": "2022-04-09T23:15:41.551Z"
   },
   {
    "duration": 52,
    "start_time": "2022-04-09T23:15:55.312Z"
   },
   {
    "duration": 50,
    "start_time": "2022-04-09T23:16:23.696Z"
   },
   {
    "duration": 52,
    "start_time": "2022-04-09T23:16:54.914Z"
   },
   {
    "duration": 50,
    "start_time": "2022-04-09T23:17:19.018Z"
   },
   {
    "duration": 67,
    "start_time": "2022-04-09T23:19:17.131Z"
   },
   {
    "duration": 61,
    "start_time": "2022-04-09T23:20:32.516Z"
   },
   {
    "duration": 61,
    "start_time": "2022-04-09T23:20:50.949Z"
   },
   {
    "duration": 52,
    "start_time": "2022-04-09T23:21:18.157Z"
   },
   {
    "duration": 50,
    "start_time": "2022-04-09T23:21:50.926Z"
   },
   {
    "duration": 78,
    "start_time": "2022-04-09T23:22:09.142Z"
   },
   {
    "duration": 69,
    "start_time": "2022-04-09T23:23:25.129Z"
   },
   {
    "duration": 3311,
    "start_time": "2022-04-09T23:23:41.100Z"
   },
   {
    "duration": 85,
    "start_time": "2022-04-09T23:24:10.434Z"
   },
   {
    "duration": 75,
    "start_time": "2022-04-09T23:24:22.417Z"
   },
   {
    "duration": 76,
    "start_time": "2022-04-09T23:24:44.033Z"
   },
   {
    "duration": 50,
    "start_time": "2022-04-09T23:25:28.627Z"
   },
   {
    "duration": 45,
    "start_time": "2022-04-09T23:25:53.203Z"
   },
   {
    "duration": 52,
    "start_time": "2022-04-09T23:26:52.132Z"
   },
   {
    "duration": 54,
    "start_time": "2022-04-09T23:27:08.356Z"
   },
   {
    "duration": 52,
    "start_time": "2022-04-09T23:27:33.900Z"
   },
   {
    "duration": 57,
    "start_time": "2022-04-09T23:32:40.475Z"
   },
   {
    "duration": 52,
    "start_time": "2022-04-09T23:32:48.074Z"
   },
   {
    "duration": 49,
    "start_time": "2022-04-09T23:33:00.906Z"
   },
   {
    "duration": 55,
    "start_time": "2022-04-09T23:33:18.947Z"
   },
   {
    "duration": 53,
    "start_time": "2022-04-09T23:34:30.124Z"
   },
   {
    "duration": 64,
    "start_time": "2022-04-09T23:35:38.982Z"
   },
   {
    "duration": 54,
    "start_time": "2022-04-09T23:35:55.464Z"
   },
   {
    "duration": 50,
    "start_time": "2022-04-09T23:36:05.287Z"
   },
   {
    "duration": 52,
    "start_time": "2022-04-09T23:36:19.286Z"
   },
   {
    "duration": 53,
    "start_time": "2022-04-09T23:36:50.760Z"
   },
   {
    "duration": 49,
    "start_time": "2022-04-09T23:40:53.908Z"
   },
   {
    "duration": 52,
    "start_time": "2022-04-09T23:41:13.876Z"
   },
   {
    "duration": 56,
    "start_time": "2022-04-09T23:42:15.799Z"
   },
   {
    "duration": 56,
    "start_time": "2022-04-09T23:42:34.502Z"
   },
   {
    "duration": 53,
    "start_time": "2022-04-09T23:42:42.173Z"
   },
   {
    "duration": 54,
    "start_time": "2022-04-09T23:42:59.790Z"
   },
   {
    "duration": 54,
    "start_time": "2022-04-09T23:43:22.600Z"
   },
   {
    "duration": 56,
    "start_time": "2022-04-09T23:44:17.879Z"
   },
   {
    "duration": 57,
    "start_time": "2022-04-09T23:44:43.144Z"
   },
   {
    "duration": 53,
    "start_time": "2022-04-09T23:46:08.745Z"
   },
   {
    "duration": 54,
    "start_time": "2022-04-09T23:46:33.426Z"
   },
   {
    "duration": 55,
    "start_time": "2022-04-09T23:46:53.483Z"
   },
   {
    "duration": 54,
    "start_time": "2022-04-09T23:47:10.754Z"
   },
   {
    "duration": 51,
    "start_time": "2022-04-09T23:47:54.924Z"
   },
   {
    "duration": 53,
    "start_time": "2022-04-09T23:49:25.639Z"
   },
   {
    "duration": 77,
    "start_time": "2022-04-09T23:49:44.287Z"
   },
   {
    "duration": 59,
    "start_time": "2022-04-09T23:50:55.680Z"
   },
   {
    "duration": 60,
    "start_time": "2022-04-09T23:51:35.057Z"
   },
   {
    "duration": 60,
    "start_time": "2022-04-09T23:52:13.147Z"
   },
   {
    "duration": 62,
    "start_time": "2022-04-09T23:52:30.610Z"
   },
   {
    "duration": 69,
    "start_time": "2022-04-09T23:53:35.027Z"
   },
   {
    "duration": 7,
    "start_time": "2022-04-09T23:58:32.482Z"
   },
   {
    "duration": 59,
    "start_time": "2022-04-09T23:58:46.337Z"
   },
   {
    "duration": 64,
    "start_time": "2022-04-10T00:01:29.061Z"
   },
   {
    "duration": 60,
    "start_time": "2022-04-10T00:01:55.975Z"
   },
   {
    "duration": 55,
    "start_time": "2022-04-10T00:02:05.223Z"
   },
   {
    "duration": 53,
    "start_time": "2022-04-10T00:02:41.687Z"
   },
   {
    "duration": 48,
    "start_time": "2022-04-10T00:03:51.793Z"
   },
   {
    "duration": 37,
    "start_time": "2022-04-10T00:04:55.251Z"
   },
   {
    "duration": 49,
    "start_time": "2022-04-10T00:05:01.425Z"
   },
   {
    "duration": 162,
    "start_time": "2022-04-10T00:12:05.740Z"
   },
   {
    "duration": 155,
    "start_time": "2022-04-10T00:12:55.597Z"
   },
   {
    "duration": 163,
    "start_time": "2022-04-10T00:17:00.523Z"
   },
   {
    "duration": 161,
    "start_time": "2022-04-10T00:23:12.913Z"
   },
   {
    "duration": 59,
    "start_time": "2022-04-10T00:31:27.179Z"
   },
   {
    "duration": 54,
    "start_time": "2022-04-10T00:31:56.331Z"
   },
   {
    "duration": 96,
    "start_time": "2022-04-10T00:32:30.300Z"
   },
   {
    "duration": 103,
    "start_time": "2022-04-10T00:33:15.310Z"
   },
   {
    "duration": 107,
    "start_time": "2022-04-10T00:36:56.650Z"
   },
   {
    "duration": 152,
    "start_time": "2022-04-10T00:37:38.172Z"
   },
   {
    "duration": 96,
    "start_time": "2022-04-10T00:38:22.724Z"
   },
   {
    "duration": 95,
    "start_time": "2022-04-10T00:38:53.749Z"
   },
   {
    "duration": 101,
    "start_time": "2022-04-10T00:39:51.334Z"
   },
   {
    "duration": 168,
    "start_time": "2022-04-10T00:40:27.639Z"
   },
   {
    "duration": 111,
    "start_time": "2022-04-10T00:40:40.479Z"
   },
   {
    "duration": 96,
    "start_time": "2022-04-10T00:40:51.942Z"
   },
   {
    "duration": 247,
    "start_time": "2022-04-10T00:42:23.520Z"
   },
   {
    "duration": 110,
    "start_time": "2022-04-10T00:43:05.346Z"
   },
   {
    "duration": 180,
    "start_time": "2022-04-10T00:48:36.115Z"
   },
   {
    "duration": 8,
    "start_time": "2022-04-10T00:51:06.986Z"
   },
   {
    "duration": 7,
    "start_time": "2022-04-10T00:51:33.692Z"
   },
   {
    "duration": 167,
    "start_time": "2022-04-10T00:51:40.132Z"
   },
   {
    "duration": 147,
    "start_time": "2022-04-10T00:53:41.743Z"
   },
   {
    "duration": 219,
    "start_time": "2022-04-10T00:57:07.709Z"
   },
   {
    "duration": 214,
    "start_time": "2022-04-10T01:02:49.019Z"
   },
   {
    "duration": 218,
    "start_time": "2022-04-10T01:04:53.974Z"
   },
   {
    "duration": 227,
    "start_time": "2022-04-10T01:06:18.832Z"
   },
   {
    "duration": 220,
    "start_time": "2022-04-10T01:10:40.284Z"
   },
   {
    "duration": 212,
    "start_time": "2022-04-10T01:21:06.345Z"
   },
   {
    "duration": 196,
    "start_time": "2022-04-10T01:21:20.673Z"
   },
   {
    "duration": 197,
    "start_time": "2022-04-10T01:23:32.397Z"
   },
   {
    "duration": 192,
    "start_time": "2022-04-10T01:24:36.477Z"
   },
   {
    "duration": 214,
    "start_time": "2022-04-10T01:51:16.527Z"
   },
   {
    "duration": 3310,
    "start_time": "2022-04-10T01:51:53.126Z"
   },
   {
    "duration": 199,
    "start_time": "2022-04-10T01:52:06.390Z"
   },
   {
    "duration": 197,
    "start_time": "2022-04-10T01:52:53.568Z"
   },
   {
    "duration": 4,
    "start_time": "2022-04-10T01:57:11.184Z"
   },
   {
    "duration": 6,
    "start_time": "2022-04-10T01:57:11.190Z"
   },
   {
    "duration": 205,
    "start_time": "2022-04-10T01:57:11.198Z"
   },
   {
    "duration": 159,
    "start_time": "2022-04-10T01:57:11.405Z"
   },
   {
    "duration": 388,
    "start_time": "2022-04-10T01:57:11.566Z"
   },
   {
    "duration": 33,
    "start_time": "2022-04-10T01:57:11.956Z"
   },
   {
    "duration": 965,
    "start_time": "2022-04-10T01:57:11.991Z"
   },
   {
    "duration": 205,
    "start_time": "2022-04-10T01:57:12.958Z"
   },
   {
    "duration": 4,
    "start_time": "2022-04-10T01:57:19.179Z"
   },
   {
    "duration": 4,
    "start_time": "2022-04-10T01:57:19.186Z"
   },
   {
    "duration": 208,
    "start_time": "2022-04-10T01:57:19.192Z"
   },
   {
    "duration": 170,
    "start_time": "2022-04-10T01:57:19.402Z"
   },
   {
    "duration": 392,
    "start_time": "2022-04-10T01:57:19.575Z"
   },
   {
    "duration": 28,
    "start_time": "2022-04-10T01:57:19.969Z"
   },
   {
    "duration": 1054,
    "start_time": "2022-04-10T01:57:19.999Z"
   },
   {
    "duration": 194,
    "start_time": "2022-04-10T01:57:21.055Z"
   },
   {
    "duration": 720,
    "start_time": "2022-04-10T01:57:23.716Z"
   },
   {
    "duration": 601,
    "start_time": "2022-04-10T02:06:58.504Z"
   },
   {
    "duration": 1718,
    "start_time": "2022-04-10T02:07:16.777Z"
   },
   {
    "duration": 728,
    "start_time": "2022-04-10T02:07:47.816Z"
   },
   {
    "duration": 596,
    "start_time": "2022-04-10T02:07:55.554Z"
   },
   {
    "duration": 743,
    "start_time": "2022-04-10T02:08:20.362Z"
   },
   {
    "duration": 584,
    "start_time": "2022-04-10T02:08:38.097Z"
   },
   {
    "duration": 720,
    "start_time": "2022-04-10T02:08:52.019Z"
   },
   {
    "duration": 621,
    "start_time": "2022-04-10T02:09:06.020Z"
   },
   {
    "duration": 727,
    "start_time": "2022-04-10T02:09:32.587Z"
   },
   {
    "duration": 781,
    "start_time": "2022-04-10T02:11:12.725Z"
   },
   {
    "duration": 638,
    "start_time": "2022-04-10T02:11:30.743Z"
   },
   {
    "duration": 782,
    "start_time": "2022-04-10T02:11:41.990Z"
   },
   {
    "duration": 631,
    "start_time": "2022-04-10T02:11:52.591Z"
   },
   {
    "duration": 798,
    "start_time": "2022-04-10T02:12:07.870Z"
   },
   {
    "duration": 677,
    "start_time": "2022-04-10T02:12:34.904Z"
   },
   {
    "duration": 3865,
    "start_time": "2022-04-10T02:13:01.088Z"
   },
   {
    "duration": 664,
    "start_time": "2022-04-10T02:13:26.977Z"
   },
   {
    "duration": 789,
    "start_time": "2022-04-10T02:14:42.153Z"
   },
   {
    "duration": 258,
    "start_time": "2022-04-10T02:15:01.098Z"
   },
   {
    "duration": 701,
    "start_time": "2022-04-10T02:15:08.730Z"
   },
   {
    "duration": 3846,
    "start_time": "2022-04-10T02:15:24.099Z"
   },
   {
    "duration": 3887,
    "start_time": "2022-04-10T02:15:41.820Z"
   },
   {
    "duration": 3731,
    "start_time": "2022-04-10T02:16:50.293Z"
   },
   {
    "duration": 787,
    "start_time": "2022-04-10T02:17:31.023Z"
   },
   {
    "duration": 616,
    "start_time": "2022-04-10T02:19:56.217Z"
   },
   {
    "duration": 747,
    "start_time": "2022-04-10T02:20:17.345Z"
   },
   {
    "duration": 613,
    "start_time": "2022-04-10T02:21:39.834Z"
   },
   {
    "duration": 719,
    "start_time": "2022-04-10T02:23:53.501Z"
   },
   {
    "duration": 615,
    "start_time": "2022-04-10T02:24:40.934Z"
   },
   {
    "duration": 977,
    "start_time": "2022-04-10T02:25:10.591Z"
   },
   {
    "duration": 186,
    "start_time": "2022-04-10T02:26:09.864Z"
   },
   {
    "duration": 143,
    "start_time": "2022-04-10T02:26:40.930Z"
   },
   {
    "duration": 138,
    "start_time": "2022-04-10T02:26:49.561Z"
   },
   {
    "duration": 150,
    "start_time": "2022-04-10T02:27:11.929Z"
   },
   {
    "duration": 602,
    "start_time": "2022-04-10T02:27:19.570Z"
   },
   {
    "duration": 260,
    "start_time": "2022-04-10T02:28:02.778Z"
   },
   {
    "duration": 606,
    "start_time": "2022-04-10T02:28:09.723Z"
   },
   {
    "duration": 714,
    "start_time": "2022-04-10T02:29:20.812Z"
   },
   {
    "duration": 149,
    "start_time": "2022-04-10T02:29:51.701Z"
   },
   {
    "duration": 611,
    "start_time": "2022-04-10T02:29:57.653Z"
   },
   {
    "duration": 751,
    "start_time": "2022-04-10T02:33:49.680Z"
   },
   {
    "duration": 9665,
    "start_time": "2022-04-10T02:34:29.347Z"
   },
   {
    "duration": 10365,
    "start_time": "2022-04-10T02:34:45.963Z"
   },
   {
    "duration": 560,
    "start_time": "2022-04-10T02:35:18.692Z"
   },
   {
    "duration": 1457,
    "start_time": "2022-04-10T02:35:44.461Z"
   },
   {
    "duration": 642,
    "start_time": "2022-04-10T02:36:19.958Z"
   },
   {
    "duration": 789,
    "start_time": "2022-04-10T02:36:35.598Z"
   },
   {
    "duration": 2915,
    "start_time": "2022-04-10T02:38:32.184Z"
   },
   {
    "duration": 735,
    "start_time": "2022-04-10T02:38:52.881Z"
   },
   {
    "duration": 612,
    "start_time": "2022-04-10T02:39:02.616Z"
   },
   {
    "duration": 9931,
    "start_time": "2022-04-10T02:39:21.521Z"
   },
   {
    "duration": 706,
    "start_time": "2022-04-10T02:40:15.402Z"
   },
   {
    "duration": 1808,
    "start_time": "2022-04-10T02:40:24.250Z"
   },
   {
    "duration": 773,
    "start_time": "2022-04-10T02:40:37.882Z"
   },
   {
    "duration": 691,
    "start_time": "2022-04-10T02:41:54.828Z"
   },
   {
    "duration": 711,
    "start_time": "2022-04-10T02:42:18.085Z"
   },
   {
    "duration": 663,
    "start_time": "2022-04-10T02:42:28.293Z"
   },
   {
    "duration": 788,
    "start_time": "2022-04-10T02:43:19.543Z"
   },
   {
    "duration": 615,
    "start_time": "2022-04-10T02:43:29.119Z"
   },
   {
    "duration": 750,
    "start_time": "2022-04-10T02:44:05.542Z"
   },
   {
    "duration": 619,
    "start_time": "2022-04-10T02:45:35.952Z"
   },
   {
    "duration": 23,
    "start_time": "2022-04-10T02:47:49.999Z"
   },
   {
    "duration": 22,
    "start_time": "2022-04-10T02:48:19.164Z"
   },
   {
    "duration": 728,
    "start_time": "2022-04-10T02:48:36.236Z"
   },
   {
    "duration": 27,
    "start_time": "2022-04-10T02:49:19.045Z"
   },
   {
    "duration": 23,
    "start_time": "2022-04-10T02:49:29.167Z"
   },
   {
    "duration": 16,
    "start_time": "2022-04-10T02:49:46.238Z"
   },
   {
    "duration": 18,
    "start_time": "2022-04-10T02:50:02.143Z"
   },
   {
    "duration": 19,
    "start_time": "2022-04-10T02:52:05.576Z"
   },
   {
    "duration": 19,
    "start_time": "2022-04-10T02:52:24.857Z"
   },
   {
    "duration": 772,
    "start_time": "2022-04-10T02:52:35.608Z"
   },
   {
    "duration": 21,
    "start_time": "2022-04-10T02:52:48.944Z"
   },
   {
    "duration": 20,
    "start_time": "2022-04-10T02:53:00.202Z"
   },
   {
    "duration": 21,
    "start_time": "2022-04-10T02:54:38.748Z"
   },
   {
    "duration": 21,
    "start_time": "2022-04-10T02:55:38.740Z"
   },
   {
    "duration": 147,
    "start_time": "2022-04-10T02:55:49.742Z"
   },
   {
    "duration": 20,
    "start_time": "2022-04-10T02:56:04.325Z"
   },
   {
    "duration": 67,
    "start_time": "2022-04-10T02:56:34.125Z"
   },
   {
    "duration": 662,
    "start_time": "2022-04-10T02:56:48.022Z"
   },
   {
    "duration": 780,
    "start_time": "2022-04-10T02:57:30.223Z"
   },
   {
    "duration": 611,
    "start_time": "2022-04-10T02:57:49.854Z"
   },
   {
    "duration": 856,
    "start_time": "2022-04-10T03:00:40.162Z"
   },
   {
    "duration": 777,
    "start_time": "2022-04-10T03:12:52.065Z"
   },
   {
    "duration": 196,
    "start_time": "2022-04-10T03:13:59.132Z"
   },
   {
    "duration": 863,
    "start_time": "2022-04-10T03:14:48.412Z"
   },
   {
    "duration": 1126,
    "start_time": "2022-04-10T03:15:15.445Z"
   },
   {
    "duration": 54,
    "start_time": "2022-04-10T03:22:11.089Z"
   },
   {
    "duration": 787,
    "start_time": "2022-04-10T03:22:21.527Z"
   },
   {
    "duration": 350,
    "start_time": "2022-04-10T03:22:22.316Z"
   },
   {
    "duration": 217,
    "start_time": "2022-04-10T03:22:28.725Z"
   },
   {
    "duration": 202,
    "start_time": "2022-04-10T03:23:05.366Z"
   },
   {
    "duration": 3253,
    "start_time": "2022-04-10T03:23:43.223Z"
   },
   {
    "duration": 195,
    "start_time": "2022-04-10T03:23:48.295Z"
   },
   {
    "duration": 89,
    "start_time": "2022-04-10T03:24:08.735Z"
   },
   {
    "duration": 201,
    "start_time": "2022-04-10T03:24:24.623Z"
   },
   {
    "duration": 202,
    "start_time": "2022-04-10T03:24:31.719Z"
   },
   {
    "duration": 212,
    "start_time": "2022-04-10T03:25:04.497Z"
   },
   {
    "duration": 193,
    "start_time": "2022-04-10T03:25:32.977Z"
   },
   {
    "duration": 8,
    "start_time": "2022-04-10T03:26:09.986Z"
   },
   {
    "duration": 202,
    "start_time": "2022-04-10T03:26:16.969Z"
   },
   {
    "duration": 197,
    "start_time": "2022-04-10T03:26:37.267Z"
   },
   {
    "duration": 207,
    "start_time": "2022-04-10T03:26:45.866Z"
   },
   {
    "duration": 209,
    "start_time": "2022-04-10T03:27:53.156Z"
   },
   {
    "duration": 200,
    "start_time": "2022-04-10T03:28:07.117Z"
   },
   {
    "duration": 201,
    "start_time": "2022-04-10T03:28:40.341Z"
   },
   {
    "duration": 204,
    "start_time": "2022-04-10T03:28:54.300Z"
   },
   {
    "duration": 215,
    "start_time": "2022-04-10T03:29:24.294Z"
   },
   {
    "duration": 5243,
    "start_time": "2022-04-10T03:36:05.431Z"
   },
   {
    "duration": 207,
    "start_time": "2022-04-10T03:36:25.054Z"
   },
   {
    "duration": 203,
    "start_time": "2022-04-10T03:37:04.631Z"
   },
   {
    "duration": 204,
    "start_time": "2022-04-10T03:38:03.072Z"
   },
   {
    "duration": 206,
    "start_time": "2022-04-10T03:38:53.240Z"
   },
   {
    "duration": 252,
    "start_time": "2022-04-10T03:39:29.074Z"
   },
   {
    "duration": 200,
    "start_time": "2022-04-10T03:40:04.610Z"
   },
   {
    "duration": 194,
    "start_time": "2022-04-10T03:40:40.067Z"
   },
   {
    "duration": 190,
    "start_time": "2022-04-10T03:40:57.770Z"
   },
   {
    "duration": 254,
    "start_time": "2022-04-10T03:41:15.595Z"
   },
   {
    "duration": 207,
    "start_time": "2022-04-10T03:42:04.732Z"
   },
   {
    "duration": 188,
    "start_time": "2022-04-10T03:42:15.597Z"
   },
   {
    "duration": 200,
    "start_time": "2022-04-10T03:42:21.797Z"
   },
   {
    "duration": 288,
    "start_time": "2022-04-10T03:46:47.939Z"
   },
   {
    "duration": 7,
    "start_time": "2022-04-10T03:48:31.628Z"
   },
   {
    "duration": 7,
    "start_time": "2022-04-10T03:48:39.756Z"
   },
   {
    "duration": 8,
    "start_time": "2022-04-10T03:49:08.685Z"
   },
   {
    "duration": 8,
    "start_time": "2022-04-10T03:49:18.925Z"
   },
   {
    "duration": 7,
    "start_time": "2022-04-10T03:49:35.781Z"
   },
   {
    "duration": 240,
    "start_time": "2022-04-10T03:49:41.597Z"
   },
   {
    "duration": 241,
    "start_time": "2022-04-10T03:49:51.125Z"
   },
   {
    "duration": 23,
    "start_time": "2022-04-10T03:50:26.391Z"
   },
   {
    "duration": 159,
    "start_time": "2022-04-10T03:50:47.223Z"
   },
   {
    "duration": 199,
    "start_time": "2022-04-10T04:33:02.084Z"
   },
   {
    "duration": 162,
    "start_time": "2022-04-10T04:34:59.428Z"
   },
   {
    "duration": 160,
    "start_time": "2022-04-10T04:36:04.679Z"
   },
   {
    "duration": 11,
    "start_time": "2022-04-10T04:52:54.525Z"
   },
   {
    "duration": 4,
    "start_time": "2022-04-10T04:53:05.498Z"
   },
   {
    "duration": 4,
    "start_time": "2022-04-10T04:53:05.504Z"
   },
   {
    "duration": 199,
    "start_time": "2022-04-10T04:53:05.510Z"
   },
   {
    "duration": 156,
    "start_time": "2022-04-10T04:53:05.714Z"
   },
   {
    "duration": 314,
    "start_time": "2022-04-10T04:53:05.872Z"
   },
   {
    "duration": 25,
    "start_time": "2022-04-10T04:53:06.188Z"
   },
   {
    "duration": 972,
    "start_time": "2022-04-10T04:53:06.215Z"
   },
   {
    "duration": 886,
    "start_time": "2022-04-10T04:53:07.189Z"
   },
   {
    "duration": 4004,
    "start_time": "2022-04-10T04:53:08.081Z"
   },
   {
    "duration": 4030,
    "start_time": "2022-04-10T04:53:21.405Z"
   },
   {
    "duration": 3813,
    "start_time": "2022-04-10T04:53:25.509Z"
   },
   {
    "duration": 3956,
    "start_time": "2022-04-10T04:58:48.275Z"
   },
   {
    "duration": 4068,
    "start_time": "2022-04-10T04:58:54.316Z"
   },
   {
    "duration": 3883,
    "start_time": "2022-04-10T04:59:03.580Z"
   },
   {
    "duration": 4078,
    "start_time": "2022-04-10T05:05:14.684Z"
   },
   {
    "duration": 3960,
    "start_time": "2022-04-10T05:05:30.381Z"
   },
   {
    "duration": 3963,
    "start_time": "2022-04-10T05:05:58.749Z"
   },
   {
    "duration": 4019,
    "start_time": "2022-04-10T05:06:09.445Z"
   },
   {
    "duration": 3899,
    "start_time": "2022-04-10T05:06:18.573Z"
   },
   {
    "duration": 4068,
    "start_time": "2022-04-10T05:06:30.589Z"
   },
   {
    "duration": 256,
    "start_time": "2022-04-10T05:09:37.841Z"
   },
   {
    "duration": 4,
    "start_time": "2022-04-10T05:11:04.892Z"
   },
   {
    "duration": 5,
    "start_time": "2022-04-10T05:11:04.897Z"
   },
   {
    "duration": 193,
    "start_time": "2022-04-10T05:11:04.904Z"
   },
   {
    "duration": 146,
    "start_time": "2022-04-10T05:11:05.098Z"
   },
   {
    "duration": 307,
    "start_time": "2022-04-10T05:11:05.245Z"
   },
   {
    "duration": 28,
    "start_time": "2022-04-10T05:11:05.553Z"
   },
   {
    "duration": 1159,
    "start_time": "2022-04-10T05:11:05.583Z"
   },
   {
    "duration": 599,
    "start_time": "2022-04-10T05:11:06.743Z"
   },
   {
    "duration": 4068,
    "start_time": "2022-04-10T05:11:07.343Z"
   },
   {
    "duration": 3950,
    "start_time": "2022-04-10T05:11:11.413Z"
   },
   {
    "duration": 267,
    "start_time": "2022-04-10T05:11:15.365Z"
   },
   {
    "duration": 2469,
    "start_time": "2022-04-10T05:11:15.634Z"
   },
   {
    "duration": 349,
    "start_time": "2022-04-10T05:11:18.104Z"
   },
   {
    "duration": 495,
    "start_time": "2022-04-10T05:11:18.455Z"
   },
   {
    "duration": 10,
    "start_time": "2022-04-10T05:11:18.952Z"
   },
   {
    "duration": 26,
    "start_time": "2022-04-10T05:11:18.964Z"
   },
   {
    "duration": 8,
    "start_time": "2022-04-10T05:11:18.992Z"
   },
   {
    "duration": 8,
    "start_time": "2022-04-10T05:11:19.001Z"
   },
   {
    "duration": 251,
    "start_time": "2022-04-10T05:11:58.148Z"
   },
   {
    "duration": 5,
    "start_time": "2022-04-10T05:32:28.205Z"
   },
   {
    "duration": 591,
    "start_time": "2022-04-10T05:32:35.500Z"
   },
   {
    "duration": 686,
    "start_time": "2022-04-10T05:32:49.445Z"
   },
   {
    "duration": 798,
    "start_time": "2022-04-10T05:33:00.910Z"
   },
   {
    "duration": 383,
    "start_time": "2022-04-10T05:33:01.710Z"
   },
   {
    "duration": 227,
    "start_time": "2022-04-10T05:33:02.095Z"
   },
   {
    "duration": 179,
    "start_time": "2022-04-10T05:33:02.325Z"
   },
   {
    "duration": 328,
    "start_time": "2022-04-10T05:33:02.505Z"
   },
   {
    "duration": 24,
    "start_time": "2022-04-10T05:33:02.835Z"
   },
   {
    "duration": 1024,
    "start_time": "2022-04-10T05:33:02.861Z"
   },
   {
    "duration": 629,
    "start_time": "2022-04-10T05:33:03.887Z"
   },
   {
    "duration": 4159,
    "start_time": "2022-04-10T05:33:04.518Z"
   },
   {
    "duration": 3923,
    "start_time": "2022-04-10T05:33:08.680Z"
   },
   {
    "duration": 291,
    "start_time": "2022-04-10T05:33:12.605Z"
   },
   {
    "duration": 2783,
    "start_time": "2022-04-10T05:33:12.899Z"
   },
   {
    "duration": 667,
    "start_time": "2022-04-10T05:33:15.684Z"
   },
   {
    "duration": 525,
    "start_time": "2022-04-10T05:33:16.353Z"
   },
   {
    "duration": 10,
    "start_time": "2022-04-10T05:33:16.881Z"
   },
   {
    "duration": 15,
    "start_time": "2022-04-10T05:33:16.893Z"
   },
   {
    "duration": 11,
    "start_time": "2022-04-10T05:33:16.910Z"
   },
   {
    "duration": 10,
    "start_time": "2022-04-10T05:33:16.923Z"
   },
   {
    "duration": 185,
    "start_time": "2022-04-10T05:33:16.935Z"
   },
   {
    "duration": 1489,
    "start_time": "2022-04-10T05:33:17.122Z"
   },
   {
    "duration": 205,
    "start_time": "2022-04-10T05:33:18.613Z"
   },
   {
    "duration": 1482,
    "start_time": "2022-04-10T05:33:18.820Z"
   },
   {
    "duration": 438,
    "start_time": "2022-04-10T05:33:20.303Z"
   },
   {
    "duration": 156,
    "start_time": "2022-04-10T05:33:20.743Z"
   },
   {
    "duration": 441,
    "start_time": "2022-04-10T05:33:20.900Z"
   },
   {
    "duration": 159,
    "start_time": "2022-04-10T05:38:57.019Z"
   },
   {
    "duration": 150,
    "start_time": "2022-04-10T05:39:27.636Z"
   },
   {
    "duration": 198,
    "start_time": "2022-04-10T05:43:14.450Z"
   },
   {
    "duration": 194,
    "start_time": "2022-04-10T05:51:49.740Z"
   },
   {
    "duration": 190,
    "start_time": "2022-04-10T05:52:48.397Z"
   },
   {
    "duration": 192,
    "start_time": "2022-04-10T05:53:35.429Z"
   },
   {
    "duration": 192,
    "start_time": "2022-04-10T05:54:12.511Z"
   },
   {
    "duration": 157,
    "start_time": "2022-04-10T05:57:22.074Z"
   },
   {
    "duration": 4,
    "start_time": "2022-04-10T06:02:45.470Z"
   },
   {
    "duration": 4,
    "start_time": "2022-04-10T06:02:45.476Z"
   },
   {
    "duration": 196,
    "start_time": "2022-04-10T06:02:45.482Z"
   },
   {
    "duration": 153,
    "start_time": "2022-04-10T06:02:45.680Z"
   },
   {
    "duration": 387,
    "start_time": "2022-04-10T06:02:45.835Z"
   },
   {
    "duration": 22,
    "start_time": "2022-04-10T06:02:46.224Z"
   },
   {
    "duration": 896,
    "start_time": "2022-04-10T06:02:46.248Z"
   },
   {
    "duration": 687,
    "start_time": "2022-04-10T06:02:47.145Z"
   },
   {
    "duration": 3454,
    "start_time": "2022-04-10T06:02:47.835Z"
   },
   {
    "duration": 0,
    "start_time": "2022-04-10T06:02:51.292Z"
   },
   {
    "duration": 160,
    "start_time": "2022-04-10T06:04:10.491Z"
   },
   {
    "duration": 4,
    "start_time": "2022-04-10T06:04:16.826Z"
   },
   {
    "duration": 6,
    "start_time": "2022-04-10T06:04:16.831Z"
   },
   {
    "duration": 193,
    "start_time": "2022-04-10T06:04:16.838Z"
   },
   {
    "duration": 161,
    "start_time": "2022-04-10T06:04:17.032Z"
   },
   {
    "duration": 310,
    "start_time": "2022-04-10T06:04:17.195Z"
   },
   {
    "duration": 23,
    "start_time": "2022-04-10T06:04:17.507Z"
   },
   {
    "duration": 1024,
    "start_time": "2022-04-10T06:04:17.532Z"
   },
   {
    "duration": 760,
    "start_time": "2022-04-10T06:04:18.558Z"
   },
   {
    "duration": 3569,
    "start_time": "2022-04-10T06:04:19.320Z"
   },
   {
    "duration": 0,
    "start_time": "2022-04-10T06:04:22.891Z"
   },
   {
    "duration": 0,
    "start_time": "2022-04-10T06:04:22.892Z"
   },
   {
    "duration": 0,
    "start_time": "2022-04-10T06:04:22.894Z"
   },
   {
    "duration": 1,
    "start_time": "2022-04-10T06:04:22.894Z"
   },
   {
    "duration": 0,
    "start_time": "2022-04-10T06:04:22.895Z"
   },
   {
    "duration": 0,
    "start_time": "2022-04-10T06:04:22.896Z"
   },
   {
    "duration": 0,
    "start_time": "2022-04-10T06:04:22.897Z"
   },
   {
    "duration": 0,
    "start_time": "2022-04-10T06:04:22.898Z"
   },
   {
    "duration": 0,
    "start_time": "2022-04-10T06:04:22.899Z"
   },
   {
    "duration": 0,
    "start_time": "2022-04-10T06:04:22.900Z"
   },
   {
    "duration": 0,
    "start_time": "2022-04-10T06:04:22.901Z"
   },
   {
    "duration": 0,
    "start_time": "2022-04-10T06:04:22.902Z"
   },
   {
    "duration": 0,
    "start_time": "2022-04-10T06:04:22.903Z"
   },
   {
    "duration": 0,
    "start_time": "2022-04-10T06:04:22.903Z"
   },
   {
    "duration": 0,
    "start_time": "2022-04-10T06:04:22.904Z"
   },
   {
    "duration": 0,
    "start_time": "2022-04-10T06:04:22.905Z"
   },
   {
    "duration": 3438,
    "start_time": "2022-04-10T06:05:40.014Z"
   },
   {
    "duration": 842,
    "start_time": "2022-04-10T06:06:10.774Z"
   },
   {
    "duration": 350,
    "start_time": "2022-04-10T06:06:11.618Z"
   },
   {
    "duration": 206,
    "start_time": "2022-04-10T06:06:11.970Z"
   },
   {
    "duration": 255,
    "start_time": "2022-04-10T06:06:12.180Z"
   },
   {
    "duration": 341,
    "start_time": "2022-04-10T06:06:12.437Z"
   },
   {
    "duration": 26,
    "start_time": "2022-04-10T06:06:12.781Z"
   },
   {
    "duration": 1274,
    "start_time": "2022-04-10T06:06:12.809Z"
   },
   {
    "duration": 670,
    "start_time": "2022-04-10T06:06:14.084Z"
   },
   {
    "duration": 3711,
    "start_time": "2022-04-10T06:06:14.755Z"
   },
   {
    "duration": 0,
    "start_time": "2022-04-10T06:06:18.468Z"
   },
   {
    "duration": 0,
    "start_time": "2022-04-10T06:06:18.469Z"
   },
   {
    "duration": 0,
    "start_time": "2022-04-10T06:06:18.470Z"
   },
   {
    "duration": 0,
    "start_time": "2022-04-10T06:06:18.471Z"
   },
   {
    "duration": 0,
    "start_time": "2022-04-10T06:06:18.472Z"
   },
   {
    "duration": 0,
    "start_time": "2022-04-10T06:06:18.473Z"
   },
   {
    "duration": 0,
    "start_time": "2022-04-10T06:06:18.474Z"
   },
   {
    "duration": 0,
    "start_time": "2022-04-10T06:06:18.475Z"
   },
   {
    "duration": 0,
    "start_time": "2022-04-10T06:06:18.476Z"
   },
   {
    "duration": 0,
    "start_time": "2022-04-10T06:06:18.481Z"
   },
   {
    "duration": 0,
    "start_time": "2022-04-10T06:06:18.481Z"
   },
   {
    "duration": 0,
    "start_time": "2022-04-10T06:06:18.482Z"
   },
   {
    "duration": 0,
    "start_time": "2022-04-10T06:06:18.483Z"
   },
   {
    "duration": 0,
    "start_time": "2022-04-10T06:06:18.484Z"
   },
   {
    "duration": 0,
    "start_time": "2022-04-10T06:06:18.486Z"
   },
   {
    "duration": 0,
    "start_time": "2022-04-10T06:06:18.487Z"
   },
   {
    "duration": 2814,
    "start_time": "2022-04-10T06:06:53.177Z"
   },
   {
    "duration": 141,
    "start_time": "2022-04-10T06:07:14.777Z"
   },
   {
    "duration": 118,
    "start_time": "2022-04-10T06:07:51.316Z"
   },
   {
    "duration": 100,
    "start_time": "2022-04-10T06:10:20.014Z"
   },
   {
    "duration": 4022,
    "start_time": "2022-04-10T06:10:31.590Z"
   },
   {
    "duration": 4,
    "start_time": "2022-04-10T06:10:49.189Z"
   },
   {
    "duration": 5,
    "start_time": "2022-04-10T06:10:49.195Z"
   },
   {
    "duration": 195,
    "start_time": "2022-04-10T06:10:49.202Z"
   },
   {
    "duration": 158,
    "start_time": "2022-04-10T06:10:49.399Z"
   },
   {
    "duration": 312,
    "start_time": "2022-04-10T06:10:49.559Z"
   },
   {
    "duration": 28,
    "start_time": "2022-04-10T06:10:49.873Z"
   },
   {
    "duration": 1093,
    "start_time": "2022-04-10T06:10:49.902Z"
   },
   {
    "duration": 642,
    "start_time": "2022-04-10T06:10:50.996Z"
   },
   {
    "duration": 3747,
    "start_time": "2022-04-10T06:10:58.319Z"
   },
   {
    "duration": 793,
    "start_time": "2022-04-10T06:11:40.221Z"
   },
   {
    "duration": 343,
    "start_time": "2022-04-10T06:11:41.016Z"
   },
   {
    "duration": 205,
    "start_time": "2022-04-10T06:11:41.360Z"
   },
   {
    "duration": 195,
    "start_time": "2022-04-10T06:11:41.567Z"
   },
   {
    "duration": 315,
    "start_time": "2022-04-10T06:11:41.763Z"
   },
   {
    "duration": 24,
    "start_time": "2022-04-10T06:11:42.081Z"
   },
   {
    "duration": 1007,
    "start_time": "2022-04-10T06:11:42.106Z"
   },
   {
    "duration": 638,
    "start_time": "2022-04-10T06:11:43.115Z"
   },
   {
    "duration": 3643,
    "start_time": "2022-04-10T06:11:43.754Z"
   },
   {
    "duration": 0,
    "start_time": "2022-04-10T06:11:47.400Z"
   },
   {
    "duration": 0,
    "start_time": "2022-04-10T06:11:47.401Z"
   },
   {
    "duration": 0,
    "start_time": "2022-04-10T06:11:47.402Z"
   },
   {
    "duration": 0,
    "start_time": "2022-04-10T06:11:47.403Z"
   },
   {
    "duration": 0,
    "start_time": "2022-04-10T06:11:47.404Z"
   },
   {
    "duration": 0,
    "start_time": "2022-04-10T06:11:47.405Z"
   },
   {
    "duration": 0,
    "start_time": "2022-04-10T06:11:47.406Z"
   },
   {
    "duration": 0,
    "start_time": "2022-04-10T06:11:47.407Z"
   },
   {
    "duration": 0,
    "start_time": "2022-04-10T06:11:47.408Z"
   },
   {
    "duration": 0,
    "start_time": "2022-04-10T06:11:47.409Z"
   },
   {
    "duration": 0,
    "start_time": "2022-04-10T06:11:47.410Z"
   },
   {
    "duration": 0,
    "start_time": "2022-04-10T06:11:47.411Z"
   },
   {
    "duration": 0,
    "start_time": "2022-04-10T06:11:47.412Z"
   },
   {
    "duration": 0,
    "start_time": "2022-04-10T06:11:47.413Z"
   },
   {
    "duration": 0,
    "start_time": "2022-04-10T06:11:47.414Z"
   },
   {
    "duration": 0,
    "start_time": "2022-04-10T06:11:47.415Z"
   },
   {
    "duration": 95,
    "start_time": "2022-04-10T06:12:41.030Z"
   },
   {
    "duration": 4177,
    "start_time": "2022-04-10T06:13:14.118Z"
   },
   {
    "duration": 113,
    "start_time": "2022-04-10T06:13:44.718Z"
   },
   {
    "duration": 4194,
    "start_time": "2022-04-10T06:13:51.582Z"
   },
   {
    "duration": 3776,
    "start_time": "2022-04-10T06:14:31.929Z"
   },
   {
    "duration": 151,
    "start_time": "2022-04-10T06:16:36.130Z"
   },
   {
    "duration": 55,
    "start_time": "2022-04-12T01:00:26.838Z"
   },
   {
    "duration": 4513,
    "start_time": "2022-04-12T01:00:54.611Z"
   },
   {
    "duration": 628,
    "start_time": "2022-04-12T01:00:59.127Z"
   },
   {
    "duration": 244,
    "start_time": "2022-04-12T01:00:59.758Z"
   },
   {
    "duration": 239,
    "start_time": "2022-04-12T01:01:00.005Z"
   },
   {
    "duration": 356,
    "start_time": "2022-04-12T01:01:00.247Z"
   },
   {
    "duration": 35,
    "start_time": "2022-04-12T01:01:00.605Z"
   },
   {
    "duration": 1210,
    "start_time": "2022-04-12T01:01:00.642Z"
   },
   {
    "duration": 795,
    "start_time": "2022-04-12T01:01:01.855Z"
   },
   {
    "duration": 4147,
    "start_time": "2022-04-12T01:01:02.652Z"
   },
   {
    "duration": 0,
    "start_time": "2022-04-12T01:01:06.802Z"
   },
   {
    "duration": 0,
    "start_time": "2022-04-12T01:01:06.803Z"
   },
   {
    "duration": 0,
    "start_time": "2022-04-12T01:01:06.805Z"
   },
   {
    "duration": 0,
    "start_time": "2022-04-12T01:01:06.806Z"
   },
   {
    "duration": 0,
    "start_time": "2022-04-12T01:01:06.807Z"
   },
   {
    "duration": 0,
    "start_time": "2022-04-12T01:01:06.809Z"
   },
   {
    "duration": 0,
    "start_time": "2022-04-12T01:01:06.818Z"
   },
   {
    "duration": 0,
    "start_time": "2022-04-12T01:01:06.820Z"
   },
   {
    "duration": 0,
    "start_time": "2022-04-12T01:01:06.822Z"
   },
   {
    "duration": 0,
    "start_time": "2022-04-12T01:01:06.823Z"
   },
   {
    "duration": 0,
    "start_time": "2022-04-12T01:01:06.825Z"
   },
   {
    "duration": 0,
    "start_time": "2022-04-12T01:01:06.826Z"
   },
   {
    "duration": 0,
    "start_time": "2022-04-12T01:01:06.827Z"
   },
   {
    "duration": 0,
    "start_time": "2022-04-12T01:01:06.829Z"
   },
   {
    "duration": 0,
    "start_time": "2022-04-12T01:01:06.830Z"
   },
   {
    "duration": 0,
    "start_time": "2022-04-12T01:01:06.831Z"
   },
   {
    "duration": 918,
    "start_time": "2022-04-12T01:01:49.974Z"
   },
   {
    "duration": 364,
    "start_time": "2022-04-12T01:01:50.895Z"
   },
   {
    "duration": 231,
    "start_time": "2022-04-12T01:01:51.261Z"
   },
   {
    "duration": 218,
    "start_time": "2022-04-12T01:01:51.495Z"
   },
   {
    "duration": 352,
    "start_time": "2022-04-12T01:01:51.714Z"
   },
   {
    "duration": 28,
    "start_time": "2022-04-12T01:01:52.068Z"
   },
   {
    "duration": 1163,
    "start_time": "2022-04-12T01:01:52.098Z"
   },
   {
    "duration": 713,
    "start_time": "2022-04-12T01:01:53.264Z"
   },
   {
    "duration": 2792,
    "start_time": "2022-04-12T01:01:53.979Z"
   },
   {
    "duration": 0,
    "start_time": "2022-04-12T01:01:56.774Z"
   },
   {
    "duration": 0,
    "start_time": "2022-04-12T01:01:56.775Z"
   },
   {
    "duration": 0,
    "start_time": "2022-04-12T01:01:56.777Z"
   },
   {
    "duration": 0,
    "start_time": "2022-04-12T01:01:56.778Z"
   },
   {
    "duration": 0,
    "start_time": "2022-04-12T01:01:56.779Z"
   },
   {
    "duration": 0,
    "start_time": "2022-04-12T01:01:56.780Z"
   },
   {
    "duration": 0,
    "start_time": "2022-04-12T01:01:56.781Z"
   },
   {
    "duration": 0,
    "start_time": "2022-04-12T01:01:56.782Z"
   },
   {
    "duration": 0,
    "start_time": "2022-04-12T01:01:56.783Z"
   },
   {
    "duration": 0,
    "start_time": "2022-04-12T01:01:56.784Z"
   },
   {
    "duration": 0,
    "start_time": "2022-04-12T01:01:56.785Z"
   },
   {
    "duration": 0,
    "start_time": "2022-04-12T01:01:56.787Z"
   },
   {
    "duration": 0,
    "start_time": "2022-04-12T01:01:56.788Z"
   },
   {
    "duration": 0,
    "start_time": "2022-04-12T01:01:56.789Z"
   },
   {
    "duration": 0,
    "start_time": "2022-04-12T01:01:56.790Z"
   },
   {
    "duration": 0,
    "start_time": "2022-04-12T01:01:56.791Z"
   },
   {
    "duration": 2744,
    "start_time": "2022-04-12T01:02:22.210Z"
   },
   {
    "duration": 187,
    "start_time": "2022-04-12T01:13:03.952Z"
   },
   {
    "duration": 110,
    "start_time": "2022-04-12T01:13:59.248Z"
   },
   {
    "duration": 104,
    "start_time": "2022-04-12T01:14:05.080Z"
   },
   {
    "duration": 91,
    "start_time": "2022-04-12T01:14:46.856Z"
   },
   {
    "duration": 99,
    "start_time": "2022-04-12T01:15:57.090Z"
   },
   {
    "duration": 103,
    "start_time": "2022-04-12T01:20:07.456Z"
   },
   {
    "duration": 109,
    "start_time": "2022-04-12T01:21:47.642Z"
   },
   {
    "duration": 112,
    "start_time": "2022-04-12T01:25:04.838Z"
   },
   {
    "duration": 84,
    "start_time": "2022-04-12T01:26:40.367Z"
   },
   {
    "duration": 36,
    "start_time": "2022-04-12T01:27:40.121Z"
   },
   {
    "duration": 3868,
    "start_time": "2022-04-12T01:27:48.008Z"
   },
   {
    "duration": 183,
    "start_time": "2022-04-12T01:29:08.907Z"
   },
   {
    "duration": 3724,
    "start_time": "2022-04-12T01:29:26.666Z"
   },
   {
    "duration": 915,
    "start_time": "2022-04-12T01:30:30.471Z"
   },
   {
    "duration": 378,
    "start_time": "2022-04-12T01:30:31.388Z"
   },
   {
    "duration": 240,
    "start_time": "2022-04-12T01:30:31.768Z"
   },
   {
    "duration": 228,
    "start_time": "2022-04-12T01:30:32.017Z"
   },
   {
    "duration": 368,
    "start_time": "2022-04-12T01:30:32.247Z"
   },
   {
    "duration": 30,
    "start_time": "2022-04-12T01:30:32.618Z"
   },
   {
    "duration": 1184,
    "start_time": "2022-04-12T01:30:32.650Z"
   },
   {
    "duration": 733,
    "start_time": "2022-04-12T01:30:33.836Z"
   },
   {
    "duration": 4252,
    "start_time": "2022-04-12T01:30:34.571Z"
   },
   {
    "duration": 0,
    "start_time": "2022-04-12T01:30:38.826Z"
   },
   {
    "duration": 1,
    "start_time": "2022-04-12T01:30:38.827Z"
   },
   {
    "duration": 0,
    "start_time": "2022-04-12T01:30:38.829Z"
   },
   {
    "duration": 0,
    "start_time": "2022-04-12T01:30:38.831Z"
   },
   {
    "duration": 0,
    "start_time": "2022-04-12T01:30:38.833Z"
   },
   {
    "duration": 0,
    "start_time": "2022-04-12T01:30:38.834Z"
   },
   {
    "duration": 0,
    "start_time": "2022-04-12T01:30:38.836Z"
   },
   {
    "duration": 0,
    "start_time": "2022-04-12T01:30:38.837Z"
   },
   {
    "duration": 0,
    "start_time": "2022-04-12T01:30:38.839Z"
   },
   {
    "duration": 0,
    "start_time": "2022-04-12T01:30:38.841Z"
   },
   {
    "duration": 0,
    "start_time": "2022-04-12T01:30:38.842Z"
   },
   {
    "duration": 0,
    "start_time": "2022-04-12T01:30:38.844Z"
   },
   {
    "duration": 0,
    "start_time": "2022-04-12T01:30:38.845Z"
   },
   {
    "duration": 0,
    "start_time": "2022-04-12T01:30:38.847Z"
   },
   {
    "duration": 0,
    "start_time": "2022-04-12T01:30:38.848Z"
   },
   {
    "duration": 0,
    "start_time": "2022-04-12T01:30:38.850Z"
   },
   {
    "duration": 5,
    "start_time": "2022-04-12T01:32:11.713Z"
   },
   {
    "duration": 8,
    "start_time": "2022-04-12T01:32:11.721Z"
   },
   {
    "duration": 247,
    "start_time": "2022-04-12T01:32:11.731Z"
   },
   {
    "duration": 44,
    "start_time": "2022-04-12T01:32:11.982Z"
   },
   {
    "duration": 21,
    "start_time": "2022-04-12T01:32:12.028Z"
   },
   {
    "duration": 0,
    "start_time": "2022-04-12T01:32:12.052Z"
   },
   {
    "duration": 1,
    "start_time": "2022-04-12T01:32:12.054Z"
   },
   {
    "duration": 0,
    "start_time": "2022-04-12T01:32:12.056Z"
   },
   {
    "duration": 4245,
    "start_time": "2022-04-12T01:32:14.838Z"
   },
   {
    "duration": 4,
    "start_time": "2022-04-12T01:34:32.300Z"
   },
   {
    "duration": 12,
    "start_time": "2022-04-12T01:34:32.306Z"
   },
   {
    "duration": 474,
    "start_time": "2022-04-12T01:34:32.320Z"
   },
   {
    "duration": 34,
    "start_time": "2022-04-12T01:34:32.797Z"
   },
   {
    "duration": 17,
    "start_time": "2022-04-12T01:34:32.833Z"
   },
   {
    "duration": 0,
    "start_time": "2022-04-12T01:34:32.852Z"
   },
   {
    "duration": 0,
    "start_time": "2022-04-12T01:34:32.855Z"
   },
   {
    "duration": 0,
    "start_time": "2022-04-12T01:34:32.856Z"
   },
   {
    "duration": 4040,
    "start_time": "2022-04-12T01:34:38.408Z"
   },
   {
    "duration": 28,
    "start_time": "2022-04-12T01:35:14.626Z"
   },
   {
    "duration": 4,
    "start_time": "2022-04-12T01:35:23.551Z"
   },
   {
    "duration": 11,
    "start_time": "2022-04-12T01:35:23.558Z"
   },
   {
    "duration": 221,
    "start_time": "2022-04-12T01:35:23.571Z"
   },
   {
    "duration": 39,
    "start_time": "2022-04-12T01:35:23.795Z"
   },
   {
    "duration": 16,
    "start_time": "2022-04-12T01:35:23.836Z"
   },
   {
    "duration": 0,
    "start_time": "2022-04-12T01:35:23.853Z"
   },
   {
    "duration": 0,
    "start_time": "2022-04-12T01:35:23.855Z"
   },
   {
    "duration": 0,
    "start_time": "2022-04-12T01:35:23.856Z"
   },
   {
    "duration": 4180,
    "start_time": "2022-04-12T01:35:26.993Z"
   },
   {
    "duration": 15,
    "start_time": "2022-04-12T01:35:38.203Z"
   },
   {
    "duration": 839,
    "start_time": "2022-04-12T01:36:18.656Z"
   },
   {
    "duration": 373,
    "start_time": "2022-04-12T01:36:19.498Z"
   },
   {
    "duration": 246,
    "start_time": "2022-04-12T01:36:19.873Z"
   },
   {
    "duration": 27,
    "start_time": "2022-04-12T01:36:20.122Z"
   },
   {
    "duration": 129,
    "start_time": "2022-04-12T01:36:20.151Z"
   },
   {
    "duration": 0,
    "start_time": "2022-04-12T01:36:20.282Z"
   },
   {
    "duration": 0,
    "start_time": "2022-04-12T01:36:20.284Z"
   },
   {
    "duration": 0,
    "start_time": "2022-04-12T01:36:20.285Z"
   },
   {
    "duration": 0,
    "start_time": "2022-04-12T01:36:20.286Z"
   },
   {
    "duration": 0,
    "start_time": "2022-04-12T01:36:20.287Z"
   },
   {
    "duration": 0,
    "start_time": "2022-04-12T01:36:20.288Z"
   },
   {
    "duration": 0,
    "start_time": "2022-04-12T01:36:20.289Z"
   },
   {
    "duration": 0,
    "start_time": "2022-04-12T01:36:20.290Z"
   },
   {
    "duration": 0,
    "start_time": "2022-04-12T01:36:20.291Z"
   },
   {
    "duration": 0,
    "start_time": "2022-04-12T01:36:20.292Z"
   },
   {
    "duration": 0,
    "start_time": "2022-04-12T01:36:20.293Z"
   },
   {
    "duration": 0,
    "start_time": "2022-04-12T01:36:20.294Z"
   },
   {
    "duration": 0,
    "start_time": "2022-04-12T01:36:20.318Z"
   },
   {
    "duration": 0,
    "start_time": "2022-04-12T01:36:20.320Z"
   },
   {
    "duration": 0,
    "start_time": "2022-04-12T01:36:20.321Z"
   },
   {
    "duration": 0,
    "start_time": "2022-04-12T01:36:20.322Z"
   },
   {
    "duration": 0,
    "start_time": "2022-04-12T01:36:20.323Z"
   },
   {
    "duration": 0,
    "start_time": "2022-04-12T01:36:20.324Z"
   },
   {
    "duration": 0,
    "start_time": "2022-04-12T01:36:20.325Z"
   },
   {
    "duration": 0,
    "start_time": "2022-04-12T01:36:20.326Z"
   },
   {
    "duration": 210,
    "start_time": "2022-04-12T01:36:51.344Z"
   },
   {
    "duration": 349,
    "start_time": "2022-04-12T01:36:57.872Z"
   },
   {
    "duration": 883,
    "start_time": "2022-04-12T01:37:20.817Z"
   },
   {
    "duration": 370,
    "start_time": "2022-04-12T01:37:21.702Z"
   },
   {
    "duration": 229,
    "start_time": "2022-04-12T01:37:22.075Z"
   },
   {
    "duration": 213,
    "start_time": "2022-04-12T01:37:22.317Z"
   },
   {
    "duration": 369,
    "start_time": "2022-04-12T01:37:22.532Z"
   },
   {
    "duration": 37,
    "start_time": "2022-04-12T01:37:22.903Z"
   },
   {
    "duration": 1155,
    "start_time": "2022-04-12T01:37:22.941Z"
   },
   {
    "duration": 697,
    "start_time": "2022-04-12T01:37:24.097Z"
   },
   {
    "duration": 4352,
    "start_time": "2022-04-12T01:37:24.795Z"
   },
   {
    "duration": 0,
    "start_time": "2022-04-12T01:37:29.149Z"
   },
   {
    "duration": 0,
    "start_time": "2022-04-12T01:37:29.151Z"
   },
   {
    "duration": 0,
    "start_time": "2022-04-12T01:37:29.152Z"
   },
   {
    "duration": 0,
    "start_time": "2022-04-12T01:37:29.153Z"
   },
   {
    "duration": 0,
    "start_time": "2022-04-12T01:37:29.155Z"
   },
   {
    "duration": 0,
    "start_time": "2022-04-12T01:37:29.156Z"
   },
   {
    "duration": 0,
    "start_time": "2022-04-12T01:37:29.157Z"
   },
   {
    "duration": 0,
    "start_time": "2022-04-12T01:37:29.159Z"
   },
   {
    "duration": 0,
    "start_time": "2022-04-12T01:37:29.160Z"
   },
   {
    "duration": 0,
    "start_time": "2022-04-12T01:37:29.161Z"
   },
   {
    "duration": 0,
    "start_time": "2022-04-12T01:37:29.162Z"
   },
   {
    "duration": 0,
    "start_time": "2022-04-12T01:37:29.163Z"
   },
   {
    "duration": 0,
    "start_time": "2022-04-12T01:37:29.164Z"
   },
   {
    "duration": 0,
    "start_time": "2022-04-12T01:37:29.165Z"
   },
   {
    "duration": 0,
    "start_time": "2022-04-12T01:37:29.166Z"
   },
   {
    "duration": 0,
    "start_time": "2022-04-12T01:37:29.168Z"
   },
   {
    "duration": 190,
    "start_time": "2022-04-12T01:38:47.619Z"
   },
   {
    "duration": 873,
    "start_time": "2022-04-12T01:39:06.518Z"
   },
   {
    "duration": 372,
    "start_time": "2022-04-12T01:39:07.393Z"
   },
   {
    "duration": 238,
    "start_time": "2022-04-12T01:39:07.767Z"
   },
   {
    "duration": 212,
    "start_time": "2022-04-12T01:39:08.017Z"
   },
   {
    "duration": 356,
    "start_time": "2022-04-12T01:39:08.231Z"
   },
   {
    "duration": 38,
    "start_time": "2022-04-12T01:39:08.589Z"
   },
   {
    "duration": 1168,
    "start_time": "2022-04-12T01:39:08.629Z"
   },
   {
    "duration": 696,
    "start_time": "2022-04-12T01:39:09.799Z"
   },
   {
    "duration": 4374,
    "start_time": "2022-04-12T01:39:10.497Z"
   },
   {
    "duration": 0,
    "start_time": "2022-04-12T01:39:14.873Z"
   },
   {
    "duration": 0,
    "start_time": "2022-04-12T01:39:14.875Z"
   },
   {
    "duration": 0,
    "start_time": "2022-04-12T01:39:14.876Z"
   },
   {
    "duration": 0,
    "start_time": "2022-04-12T01:39:14.877Z"
   },
   {
    "duration": 0,
    "start_time": "2022-04-12T01:39:14.878Z"
   },
   {
    "duration": 0,
    "start_time": "2022-04-12T01:39:14.879Z"
   },
   {
    "duration": 0,
    "start_time": "2022-04-12T01:39:14.880Z"
   },
   {
    "duration": 0,
    "start_time": "2022-04-12T01:39:14.881Z"
   },
   {
    "duration": 0,
    "start_time": "2022-04-12T01:39:14.882Z"
   },
   {
    "duration": 0,
    "start_time": "2022-04-12T01:39:14.883Z"
   },
   {
    "duration": 0,
    "start_time": "2022-04-12T01:39:14.884Z"
   },
   {
    "duration": 0,
    "start_time": "2022-04-12T01:39:14.885Z"
   },
   {
    "duration": 0,
    "start_time": "2022-04-12T01:39:14.887Z"
   },
   {
    "duration": 0,
    "start_time": "2022-04-12T01:39:14.888Z"
   },
   {
    "duration": 0,
    "start_time": "2022-04-12T01:39:14.889Z"
   },
   {
    "duration": 0,
    "start_time": "2022-04-12T01:39:14.890Z"
   },
   {
    "duration": 814,
    "start_time": "2022-04-12T01:40:31.366Z"
   },
   {
    "duration": 366,
    "start_time": "2022-04-12T01:40:32.183Z"
   },
   {
    "duration": 237,
    "start_time": "2022-04-12T01:40:32.555Z"
   },
   {
    "duration": 54,
    "start_time": "2022-04-12T01:40:32.795Z"
   },
   {
    "duration": 373,
    "start_time": "2022-04-12T01:40:32.852Z"
   },
   {
    "duration": 31,
    "start_time": "2022-04-12T01:40:33.227Z"
   },
   {
    "duration": 1208,
    "start_time": "2022-04-12T01:40:33.260Z"
   },
   {
    "duration": 714,
    "start_time": "2022-04-12T01:40:34.471Z"
   },
   {
    "duration": 4926,
    "start_time": "2022-04-12T01:40:35.189Z"
   },
   {
    "duration": 4955,
    "start_time": "2022-04-12T01:40:40.117Z"
   },
   {
    "duration": 325,
    "start_time": "2022-04-12T01:40:45.074Z"
   },
   {
    "duration": 2761,
    "start_time": "2022-04-12T01:40:45.402Z"
   },
   {
    "duration": 414,
    "start_time": "2022-04-12T01:40:48.165Z"
   },
   {
    "duration": 602,
    "start_time": "2022-04-12T01:40:48.582Z"
   },
   {
    "duration": 12,
    "start_time": "2022-04-12T01:40:49.187Z"
   },
   {
    "duration": 18,
    "start_time": "2022-04-12T01:40:49.218Z"
   },
   {
    "duration": 10,
    "start_time": "2022-04-12T01:40:49.238Z"
   },
   {
    "duration": 13,
    "start_time": "2022-04-12T01:40:49.250Z"
   },
   {
    "duration": 212,
    "start_time": "2022-04-12T01:40:49.265Z"
   },
   {
    "duration": 1666,
    "start_time": "2022-04-12T01:40:49.479Z"
   },
   {
    "duration": 231,
    "start_time": "2022-04-12T01:40:51.147Z"
   },
   {
    "duration": 1996,
    "start_time": "2022-04-12T01:40:51.379Z"
   },
   {
    "duration": 401,
    "start_time": "2022-04-12T01:40:53.377Z"
   },
   {
    "duration": 180,
    "start_time": "2022-04-12T01:40:53.780Z"
   },
   {
    "duration": 502,
    "start_time": "2022-04-12T01:40:53.962Z"
   },
   {
    "duration": 919,
    "start_time": "2022-04-12T01:45:39.173Z"
   },
   {
    "duration": 374,
    "start_time": "2022-04-12T01:45:40.095Z"
   },
   {
    "duration": 241,
    "start_time": "2022-04-12T01:45:40.471Z"
   },
   {
    "duration": 133,
    "start_time": "2022-04-12T01:45:40.717Z"
   },
   {
    "duration": 366,
    "start_time": "2022-04-12T01:45:40.852Z"
   },
   {
    "duration": 27,
    "start_time": "2022-04-12T01:45:41.220Z"
   },
   {
    "duration": 1201,
    "start_time": "2022-04-12T01:45:41.249Z"
   },
   {
    "duration": 740,
    "start_time": "2022-04-12T01:45:42.452Z"
   },
   {
    "duration": 4941,
    "start_time": "2022-04-12T01:45:43.194Z"
   },
   {
    "duration": 4786,
    "start_time": "2022-04-12T01:45:48.138Z"
   },
   {
    "duration": 601,
    "start_time": "2022-04-12T01:45:52.926Z"
   },
   {
    "duration": 2509,
    "start_time": "2022-04-12T01:45:53.529Z"
   },
   {
    "duration": 509,
    "start_time": "2022-04-12T01:45:56.040Z"
   },
   {
    "duration": 476,
    "start_time": "2022-04-12T01:45:56.551Z"
   },
   {
    "duration": 12,
    "start_time": "2022-04-12T01:45:57.029Z"
   },
   {
    "duration": 162,
    "start_time": "2022-04-12T01:45:57.043Z"
   },
   {
    "duration": 26,
    "start_time": "2022-04-12T01:45:57.207Z"
   },
   {
    "duration": 16,
    "start_time": "2022-04-12T01:45:57.235Z"
   },
   {
    "duration": 192,
    "start_time": "2022-04-12T01:45:57.254Z"
   },
   {
    "duration": 1767,
    "start_time": "2022-04-12T01:45:57.448Z"
   },
   {
    "duration": 240,
    "start_time": "2022-04-12T01:45:59.217Z"
   },
   {
    "duration": 1862,
    "start_time": "2022-04-12T01:45:59.459Z"
   },
   {
    "duration": 408,
    "start_time": "2022-04-12T01:46:01.323Z"
   },
   {
    "duration": 192,
    "start_time": "2022-04-12T01:46:01.733Z"
   },
   {
    "duration": 523,
    "start_time": "2022-04-12T01:46:01.927Z"
   },
   {
    "duration": 904,
    "start_time": "2022-04-12T01:49:44.881Z"
   },
   {
    "duration": 376,
    "start_time": "2022-04-12T01:49:45.787Z"
   },
   {
    "duration": 238,
    "start_time": "2022-04-12T01:49:46.165Z"
   },
   {
    "duration": 218,
    "start_time": "2022-04-12T01:49:46.406Z"
   },
   {
    "duration": 376,
    "start_time": "2022-04-12T01:49:46.626Z"
   },
   {
    "duration": 32,
    "start_time": "2022-04-12T01:49:47.004Z"
   },
   {
    "duration": 1191,
    "start_time": "2022-04-12T01:49:47.038Z"
   },
   {
    "duration": 698,
    "start_time": "2022-04-12T01:49:48.231Z"
   },
   {
    "duration": 4320,
    "start_time": "2022-04-12T01:49:48.931Z"
   },
   {
    "duration": 0,
    "start_time": "2022-04-12T01:49:53.253Z"
   },
   {
    "duration": 0,
    "start_time": "2022-04-12T01:49:53.255Z"
   },
   {
    "duration": 0,
    "start_time": "2022-04-12T01:49:53.255Z"
   },
   {
    "duration": 0,
    "start_time": "2022-04-12T01:49:53.257Z"
   },
   {
    "duration": 0,
    "start_time": "2022-04-12T01:49:53.258Z"
   },
   {
    "duration": 0,
    "start_time": "2022-04-12T01:49:53.259Z"
   },
   {
    "duration": 0,
    "start_time": "2022-04-12T01:49:53.260Z"
   },
   {
    "duration": 0,
    "start_time": "2022-04-12T01:49:53.261Z"
   },
   {
    "duration": 0,
    "start_time": "2022-04-12T01:49:53.262Z"
   },
   {
    "duration": 0,
    "start_time": "2022-04-12T01:49:53.263Z"
   },
   {
    "duration": 0,
    "start_time": "2022-04-12T01:49:53.264Z"
   },
   {
    "duration": 0,
    "start_time": "2022-04-12T01:49:53.265Z"
   },
   {
    "duration": 0,
    "start_time": "2022-04-12T01:49:53.266Z"
   },
   {
    "duration": 0,
    "start_time": "2022-04-12T01:49:53.268Z"
   },
   {
    "duration": 0,
    "start_time": "2022-04-12T01:49:53.268Z"
   },
   {
    "duration": 0,
    "start_time": "2022-04-12T01:49:53.270Z"
   },
   {
    "duration": 113,
    "start_time": "2022-04-12T01:50:16.936Z"
   },
   {
    "duration": 860,
    "start_time": "2022-04-12T01:50:26.721Z"
   },
   {
    "duration": 374,
    "start_time": "2022-04-12T01:50:27.584Z"
   },
   {
    "duration": 245,
    "start_time": "2022-04-12T01:50:27.960Z"
   },
   {
    "duration": 130,
    "start_time": "2022-04-12T01:50:28.218Z"
   },
   {
    "duration": 356,
    "start_time": "2022-04-12T01:50:28.350Z"
   },
   {
    "duration": 34,
    "start_time": "2022-04-12T01:50:28.708Z"
   },
   {
    "duration": 1222,
    "start_time": "2022-04-12T01:50:28.744Z"
   },
   {
    "duration": 738,
    "start_time": "2022-04-12T01:50:29.968Z"
   },
   {
    "duration": 5055,
    "start_time": "2022-04-12T01:50:30.708Z"
   },
   {
    "duration": 5221,
    "start_time": "2022-04-12T01:50:35.766Z"
   },
   {
    "duration": 596,
    "start_time": "2022-04-12T01:50:40.989Z"
   },
   {
    "duration": 2523,
    "start_time": "2022-04-12T01:50:41.587Z"
   },
   {
    "duration": 630,
    "start_time": "2022-04-12T01:50:44.112Z"
   },
   {
    "duration": 516,
    "start_time": "2022-04-12T01:50:44.744Z"
   },
   {
    "duration": 13,
    "start_time": "2022-04-12T01:50:45.262Z"
   },
   {
    "duration": 18,
    "start_time": "2022-04-12T01:50:45.277Z"
   },
   {
    "duration": 11,
    "start_time": "2022-04-12T01:50:45.319Z"
   },
   {
    "duration": 16,
    "start_time": "2022-04-12T01:50:45.332Z"
   },
   {
    "duration": 214,
    "start_time": "2022-04-12T01:50:45.350Z"
   },
   {
    "duration": 1684,
    "start_time": "2022-04-12T01:50:45.567Z"
   },
   {
    "duration": 227,
    "start_time": "2022-04-12T01:50:47.253Z"
   },
   {
    "duration": 1702,
    "start_time": "2022-04-12T01:50:47.482Z"
   },
   {
    "duration": 389,
    "start_time": "2022-04-12T01:50:49.185Z"
   },
   {
    "duration": 177,
    "start_time": "2022-04-12T01:50:49.576Z"
   },
   {
    "duration": 499,
    "start_time": "2022-04-12T01:50:49.755Z"
   },
   {
    "duration": 337,
    "start_time": "2022-04-12T01:54:10.205Z"
   },
   {
    "duration": 221,
    "start_time": "2022-04-12T01:55:20.374Z"
   },
   {
    "duration": 187,
    "start_time": "2022-04-12T01:56:02.935Z"
   },
   {
    "duration": 846,
    "start_time": "2022-04-12T01:57:03.046Z"
   },
   {
    "duration": 383,
    "start_time": "2022-04-12T01:57:03.894Z"
   },
   {
    "duration": 208,
    "start_time": "2022-04-12T01:57:04.279Z"
   },
   {
    "duration": 140,
    "start_time": "2022-04-12T01:57:04.490Z"
   },
   {
    "duration": 367,
    "start_time": "2022-04-12T01:57:04.632Z"
   },
   {
    "duration": 33,
    "start_time": "2022-04-12T01:57:05.001Z"
   },
   {
    "duration": 1192,
    "start_time": "2022-04-12T01:57:05.036Z"
   },
   {
    "duration": 705,
    "start_time": "2022-04-12T01:57:06.230Z"
   },
   {
    "duration": 4938,
    "start_time": "2022-04-12T01:57:06.937Z"
   },
   {
    "duration": 4791,
    "start_time": "2022-04-12T01:57:11.878Z"
   },
   {
    "duration": 578,
    "start_time": "2022-04-12T01:57:16.670Z"
   },
   {
    "duration": 2460,
    "start_time": "2022-04-12T01:57:17.250Z"
   },
   {
    "duration": 526,
    "start_time": "2022-04-12T01:57:19.712Z"
   },
   {
    "duration": 480,
    "start_time": "2022-04-12T01:57:20.240Z"
   },
   {
    "duration": 11,
    "start_time": "2022-04-12T01:57:20.722Z"
   },
   {
    "duration": 20,
    "start_time": "2022-04-12T01:57:20.735Z"
   },
   {
    "duration": 10,
    "start_time": "2022-04-12T01:57:20.756Z"
   },
   {
    "duration": 10,
    "start_time": "2022-04-12T01:57:20.768Z"
   },
   {
    "duration": 222,
    "start_time": "2022-04-12T01:57:20.780Z"
   },
   {
    "duration": 1663,
    "start_time": "2022-04-12T01:57:21.004Z"
   },
   {
    "duration": 232,
    "start_time": "2022-04-12T01:57:22.669Z"
   },
   {
    "duration": 1721,
    "start_time": "2022-04-12T01:57:22.902Z"
   },
   {
    "duration": 428,
    "start_time": "2022-04-12T01:57:24.625Z"
   },
   {
    "duration": 182,
    "start_time": "2022-04-12T01:57:25.054Z"
   },
   {
    "duration": 503,
    "start_time": "2022-04-12T01:57:25.238Z"
   },
   {
    "duration": 845,
    "start_time": "2022-04-12T01:58:25.560Z"
   },
   {
    "duration": 362,
    "start_time": "2022-04-12T01:58:26.407Z"
   },
   {
    "duration": 207,
    "start_time": "2022-04-12T01:58:26.771Z"
   },
   {
    "duration": 242,
    "start_time": "2022-04-12T01:58:26.980Z"
   },
   {
    "duration": 353,
    "start_time": "2022-04-12T01:58:27.225Z"
   },
   {
    "duration": 27,
    "start_time": "2022-04-12T01:58:27.579Z"
   },
   {
    "duration": 1176,
    "start_time": "2022-04-12T01:58:27.608Z"
   },
   {
    "duration": 701,
    "start_time": "2022-04-12T01:58:28.786Z"
   },
   {
    "duration": 4754,
    "start_time": "2022-04-12T01:58:29.489Z"
   },
   {
    "duration": 4717,
    "start_time": "2022-04-12T01:58:34.245Z"
   },
   {
    "duration": 316,
    "start_time": "2022-04-12T01:58:38.964Z"
   },
   {
    "duration": 2732,
    "start_time": "2022-04-12T01:58:39.282Z"
   },
   {
    "duration": 425,
    "start_time": "2022-04-12T01:58:42.019Z"
   },
   {
    "duration": 629,
    "start_time": "2022-04-12T01:58:42.447Z"
   },
   {
    "duration": 11,
    "start_time": "2022-04-12T01:58:43.078Z"
   },
   {
    "duration": 31,
    "start_time": "2022-04-12T01:58:43.091Z"
   },
   {
    "duration": 13,
    "start_time": "2022-04-12T01:58:43.123Z"
   },
   {
    "duration": 12,
    "start_time": "2022-04-12T01:58:43.138Z"
   },
   {
    "duration": 205,
    "start_time": "2022-04-12T01:58:43.152Z"
   },
   {
    "duration": 1682,
    "start_time": "2022-04-12T01:58:43.358Z"
   },
   {
    "duration": 229,
    "start_time": "2022-04-12T01:58:45.042Z"
   },
   {
    "duration": 1752,
    "start_time": "2022-04-12T01:58:45.274Z"
   },
   {
    "duration": 405,
    "start_time": "2022-04-12T01:58:47.027Z"
   },
   {
    "duration": 181,
    "start_time": "2022-04-12T01:58:47.434Z"
   },
   {
    "duration": 512,
    "start_time": "2022-04-12T01:58:47.616Z"
   },
   {
    "duration": 188,
    "start_time": "2022-04-12T02:01:03.267Z"
   },
   {
    "duration": 178,
    "start_time": "2022-04-12T02:01:10.051Z"
   },
   {
    "duration": 845,
    "start_time": "2022-04-12T02:03:12.545Z"
   },
   {
    "duration": 364,
    "start_time": "2022-04-12T02:03:13.392Z"
   },
   {
    "duration": 204,
    "start_time": "2022-04-12T02:03:13.758Z"
   },
   {
    "duration": 139,
    "start_time": "2022-04-12T02:03:13.964Z"
   },
   {
    "duration": 352,
    "start_time": "2022-04-12T02:03:14.105Z"
   },
   {
    "duration": 29,
    "start_time": "2022-04-12T02:03:14.459Z"
   },
   {
    "duration": 1199,
    "start_time": "2022-04-12T02:03:14.490Z"
   },
   {
    "duration": 709,
    "start_time": "2022-04-12T02:03:15.690Z"
   },
   {
    "duration": 4710,
    "start_time": "2022-04-12T02:03:16.401Z"
   },
   {
    "duration": 4705,
    "start_time": "2022-04-12T02:03:21.113Z"
   },
   {
    "duration": 325,
    "start_time": "2022-04-12T02:03:25.820Z"
   },
   {
    "duration": 3025,
    "start_time": "2022-04-12T02:03:26.147Z"
   },
   {
    "duration": 414,
    "start_time": "2022-04-12T02:03:29.174Z"
   },
   {
    "duration": 610,
    "start_time": "2022-04-12T02:03:29.591Z"
   },
   {
    "duration": 21,
    "start_time": "2022-04-12T02:03:30.202Z"
   },
   {
    "duration": 17,
    "start_time": "2022-04-12T02:03:30.225Z"
   },
   {
    "duration": 10,
    "start_time": "2022-04-12T02:03:30.244Z"
   },
   {
    "duration": 13,
    "start_time": "2022-04-12T02:03:30.256Z"
   },
   {
    "duration": 212,
    "start_time": "2022-04-12T02:03:30.271Z"
   },
   {
    "duration": 1681,
    "start_time": "2022-04-12T02:03:30.485Z"
   },
   {
    "duration": 243,
    "start_time": "2022-04-12T02:03:32.168Z"
   },
   {
    "duration": 1750,
    "start_time": "2022-04-12T02:03:32.417Z"
   },
   {
    "duration": 417,
    "start_time": "2022-04-12T02:03:34.169Z"
   },
   {
    "duration": 182,
    "start_time": "2022-04-12T02:03:34.588Z"
   },
   {
    "duration": 514,
    "start_time": "2022-04-12T02:03:34.772Z"
   },
   {
    "duration": 108,
    "start_time": "2022-04-12T02:09:43.721Z"
   },
   {
    "duration": 916,
    "start_time": "2022-04-12T02:09:51.640Z"
   },
   {
    "duration": 356,
    "start_time": "2022-04-12T02:09:52.558Z"
   },
   {
    "duration": 202,
    "start_time": "2022-04-12T02:09:52.917Z"
   },
   {
    "duration": 135,
    "start_time": "2022-04-12T02:09:53.122Z"
   },
   {
    "duration": 362,
    "start_time": "2022-04-12T02:09:53.259Z"
   },
   {
    "duration": 27,
    "start_time": "2022-04-12T02:09:53.623Z"
   },
   {
    "duration": 1204,
    "start_time": "2022-04-12T02:09:53.652Z"
   },
   {
    "duration": 734,
    "start_time": "2022-04-12T02:09:54.858Z"
   },
   {
    "duration": 4930,
    "start_time": "2022-04-12T02:09:55.593Z"
   },
   {
    "duration": 5080,
    "start_time": "2022-04-12T02:10:00.541Z"
   },
   {
    "duration": 606,
    "start_time": "2022-04-12T02:10:05.623Z"
   },
   {
    "duration": 2449,
    "start_time": "2022-04-12T02:10:06.231Z"
   },
   {
    "duration": 522,
    "start_time": "2022-04-12T02:10:08.681Z"
   },
   {
    "duration": 464,
    "start_time": "2022-04-12T02:10:09.205Z"
   },
   {
    "duration": 12,
    "start_time": "2022-04-12T02:10:09.670Z"
   },
   {
    "duration": 36,
    "start_time": "2022-04-12T02:10:09.683Z"
   },
   {
    "duration": 11,
    "start_time": "2022-04-12T02:10:09.720Z"
   },
   {
    "duration": 11,
    "start_time": "2022-04-12T02:10:09.733Z"
   },
   {
    "duration": 204,
    "start_time": "2022-04-12T02:10:09.746Z"
   },
   {
    "duration": 1723,
    "start_time": "2022-04-12T02:10:09.952Z"
   },
   {
    "duration": 249,
    "start_time": "2022-04-12T02:10:11.677Z"
   },
   {
    "duration": 1764,
    "start_time": "2022-04-12T02:10:11.929Z"
   },
   {
    "duration": 406,
    "start_time": "2022-04-12T02:10:13.695Z"
   },
   {
    "duration": 180,
    "start_time": "2022-04-12T02:10:14.103Z"
   },
   {
    "duration": 500,
    "start_time": "2022-04-12T02:10:14.285Z"
   },
   {
    "duration": 7,
    "start_time": "2022-04-12T02:14:12.814Z"
   },
   {
    "duration": 872,
    "start_time": "2022-04-12T02:14:17.334Z"
   },
   {
    "duration": 839,
    "start_time": "2022-04-12T02:14:44.536Z"
   },
   {
    "duration": 714,
    "start_time": "2022-04-12T02:15:13.663Z"
   },
   {
    "duration": 873,
    "start_time": "2022-04-12T02:15:21.153Z"
   },
   {
    "duration": 733,
    "start_time": "2022-04-12T02:15:34.193Z"
   },
   {
    "duration": 979,
    "start_time": "2022-04-12T02:15:44.393Z"
   },
   {
    "duration": 730,
    "start_time": "2022-04-12T02:15:56.745Z"
   },
   {
    "duration": 7552,
    "start_time": "2022-04-12T02:16:16.354Z"
   },
   {
    "duration": 703,
    "start_time": "2022-04-12T02:16:37.859Z"
   },
   {
    "duration": 896,
    "start_time": "2022-04-12T02:16:48.674Z"
   },
   {
    "duration": 1280,
    "start_time": "2022-04-12T02:17:06.339Z"
   },
   {
    "duration": 784,
    "start_time": "2022-04-12T02:17:16.283Z"
   },
   {
    "duration": 884,
    "start_time": "2022-04-12T02:17:54.901Z"
   },
   {
    "duration": 370,
    "start_time": "2022-04-12T02:17:55.787Z"
   },
   {
    "duration": 209,
    "start_time": "2022-04-12T02:17:56.160Z"
   },
   {
    "duration": 126,
    "start_time": "2022-04-12T02:17:56.371Z"
   },
   {
    "duration": 383,
    "start_time": "2022-04-12T02:17:56.499Z"
   },
   {
    "duration": 36,
    "start_time": "2022-04-12T02:17:56.884Z"
   },
   {
    "duration": 1163,
    "start_time": "2022-04-12T02:17:56.922Z"
   },
   {
    "duration": 823,
    "start_time": "2022-04-12T02:17:58.086Z"
   },
   {
    "duration": 4961,
    "start_time": "2022-04-12T02:17:58.918Z"
   },
   {
    "duration": 4873,
    "start_time": "2022-04-12T02:18:03.882Z"
   },
   {
    "duration": 588,
    "start_time": "2022-04-12T02:18:08.756Z"
   },
   {
    "duration": 2481,
    "start_time": "2022-04-12T02:18:09.346Z"
   },
   {
    "duration": 535,
    "start_time": "2022-04-12T02:18:11.829Z"
   },
   {
    "duration": 486,
    "start_time": "2022-04-12T02:18:12.366Z"
   },
   {
    "duration": 12,
    "start_time": "2022-04-12T02:18:12.853Z"
   },
   {
    "duration": 23,
    "start_time": "2022-04-12T02:18:12.866Z"
   },
   {
    "duration": 31,
    "start_time": "2022-04-12T02:18:12.890Z"
   },
   {
    "duration": 31,
    "start_time": "2022-04-12T02:18:12.922Z"
   },
   {
    "duration": 174,
    "start_time": "2022-04-12T02:18:12.955Z"
   },
   {
    "duration": 1674,
    "start_time": "2022-04-12T02:18:13.131Z"
   },
   {
    "duration": 242,
    "start_time": "2022-04-12T02:18:14.807Z"
   },
   {
    "duration": 1801,
    "start_time": "2022-04-12T02:18:15.050Z"
   },
   {
    "duration": 398,
    "start_time": "2022-04-12T02:18:16.852Z"
   },
   {
    "duration": 182,
    "start_time": "2022-04-12T02:18:17.251Z"
   },
   {
    "duration": 514,
    "start_time": "2022-04-12T02:18:17.434Z"
   },
   {
    "duration": 239,
    "start_time": "2022-04-12T02:20:44.213Z"
   },
   {
    "duration": 900,
    "start_time": "2022-04-12T02:21:49.486Z"
   },
   {
    "duration": 375,
    "start_time": "2022-04-12T02:21:50.388Z"
   },
   {
    "duration": 199,
    "start_time": "2022-04-12T02:21:50.765Z"
   },
   {
    "duration": 141,
    "start_time": "2022-04-12T02:21:50.966Z"
   },
   {
    "duration": 361,
    "start_time": "2022-04-12T02:21:51.109Z"
   },
   {
    "duration": 29,
    "start_time": "2022-04-12T02:21:51.472Z"
   },
   {
    "duration": 1147,
    "start_time": "2022-04-12T02:21:51.503Z"
   },
   {
    "duration": 797,
    "start_time": "2022-04-12T02:21:52.652Z"
   },
   {
    "duration": 5036,
    "start_time": "2022-04-12T02:21:53.451Z"
   },
   {
    "duration": 4800,
    "start_time": "2022-04-12T02:21:58.490Z"
   },
   {
    "duration": 617,
    "start_time": "2022-04-12T02:22:03.291Z"
   },
   {
    "duration": 2582,
    "start_time": "2022-04-12T02:22:03.909Z"
   },
   {
    "duration": 524,
    "start_time": "2022-04-12T02:22:06.494Z"
   },
   {
    "duration": 469,
    "start_time": "2022-04-12T02:22:07.021Z"
   },
   {
    "duration": 12,
    "start_time": "2022-04-12T02:22:07.493Z"
   },
   {
    "duration": 27,
    "start_time": "2022-04-12T02:22:07.507Z"
   },
   {
    "duration": 11,
    "start_time": "2022-04-12T02:22:07.537Z"
   },
   {
    "duration": 11,
    "start_time": "2022-04-12T02:22:07.550Z"
   },
   {
    "duration": 214,
    "start_time": "2022-04-12T02:22:07.563Z"
   },
   {
    "duration": 1756,
    "start_time": "2022-04-12T02:22:07.779Z"
   },
   {
    "duration": 243,
    "start_time": "2022-04-12T02:22:09.536Z"
   },
   {
    "duration": 1775,
    "start_time": "2022-04-12T02:22:09.781Z"
   },
   {
    "duration": 415,
    "start_time": "2022-04-12T02:22:11.558Z"
   },
   {
    "duration": 190,
    "start_time": "2022-04-12T02:22:11.976Z"
   },
   {
    "duration": 518,
    "start_time": "2022-04-12T02:22:12.169Z"
   },
   {
    "duration": 6,
    "start_time": "2022-04-12T02:23:44.868Z"
   },
   {
    "duration": 150,
    "start_time": "2022-04-12T02:23:50.316Z"
   },
   {
    "duration": 999,
    "start_time": "2022-04-12T02:23:54.252Z"
   },
   {
    "duration": 843,
    "start_time": "2022-04-12T02:24:03.620Z"
   },
   {
    "duration": 1175,
    "start_time": "2022-04-12T02:24:25.117Z"
   },
   {
    "duration": 896,
    "start_time": "2022-04-12T02:24:33.380Z"
   },
   {
    "duration": 1735,
    "start_time": "2022-04-12T02:29:08.692Z"
   },
   {
    "duration": 1674,
    "start_time": "2022-04-12T02:30:14.036Z"
   },
   {
    "duration": 861,
    "start_time": "2022-04-12T02:32:46.016Z"
   },
   {
    "duration": 358,
    "start_time": "2022-04-12T02:32:46.879Z"
   },
   {
    "duration": 200,
    "start_time": "2022-04-12T02:32:47.239Z"
   },
   {
    "duration": 137,
    "start_time": "2022-04-12T02:32:47.441Z"
   },
   {
    "duration": 371,
    "start_time": "2022-04-12T02:32:47.580Z"
   },
   {
    "duration": 29,
    "start_time": "2022-04-12T02:32:47.953Z"
   },
   {
    "duration": 1163,
    "start_time": "2022-04-12T02:32:47.984Z"
   },
   {
    "duration": 770,
    "start_time": "2022-04-12T02:32:49.149Z"
   },
   {
    "duration": 4870,
    "start_time": "2022-04-12T02:32:49.921Z"
   },
   {
    "duration": 4745,
    "start_time": "2022-04-12T02:32:54.794Z"
   },
   {
    "duration": 617,
    "start_time": "2022-04-12T02:32:59.541Z"
   },
   {
    "duration": 2707,
    "start_time": "2022-04-12T02:33:00.160Z"
   },
   {
    "duration": 545,
    "start_time": "2022-04-12T02:33:02.869Z"
   },
   {
    "duration": 496,
    "start_time": "2022-04-12T02:33:03.416Z"
   },
   {
    "duration": 13,
    "start_time": "2022-04-12T02:33:03.919Z"
   },
   {
    "duration": 20,
    "start_time": "2022-04-12T02:33:03.934Z"
   },
   {
    "duration": 14,
    "start_time": "2022-04-12T02:33:03.956Z"
   },
   {
    "duration": 45,
    "start_time": "2022-04-12T02:33:03.973Z"
   },
   {
    "duration": 207,
    "start_time": "2022-04-12T02:33:04.021Z"
   },
   {
    "duration": 1813,
    "start_time": "2022-04-12T02:33:04.231Z"
   },
   {
    "duration": 234,
    "start_time": "2022-04-12T02:33:06.046Z"
   },
   {
    "duration": 1659,
    "start_time": "2022-04-12T02:33:06.282Z"
   },
   {
    "duration": 407,
    "start_time": "2022-04-12T02:33:07.943Z"
   },
   {
    "duration": 188,
    "start_time": "2022-04-12T02:33:08.353Z"
   },
   {
    "duration": 524,
    "start_time": "2022-04-12T02:33:08.544Z"
   },
   {
    "duration": 171,
    "start_time": "2022-04-12T02:38:41.156Z"
   },
   {
    "duration": 918,
    "start_time": "2022-04-12T02:42:01.306Z"
   },
   {
    "duration": 365,
    "start_time": "2022-04-12T02:42:02.226Z"
   },
   {
    "duration": 204,
    "start_time": "2022-04-12T02:42:02.593Z"
   },
   {
    "duration": 149,
    "start_time": "2022-04-12T02:42:02.800Z"
   },
   {
    "duration": 359,
    "start_time": "2022-04-12T02:42:02.951Z"
   },
   {
    "duration": 29,
    "start_time": "2022-04-12T02:42:03.312Z"
   },
   {
    "duration": 1177,
    "start_time": "2022-04-12T02:42:03.343Z"
   },
   {
    "duration": 767,
    "start_time": "2022-04-12T02:42:04.522Z"
   },
   {
    "duration": 4964,
    "start_time": "2022-04-12T02:42:05.291Z"
   },
   {
    "duration": 4812,
    "start_time": "2022-04-12T02:42:10.259Z"
   },
   {
    "duration": 631,
    "start_time": "2022-04-12T02:42:15.072Z"
   },
   {
    "duration": 2517,
    "start_time": "2022-04-12T02:42:15.706Z"
   },
   {
    "duration": 513,
    "start_time": "2022-04-12T02:42:18.225Z"
   },
   {
    "duration": 485,
    "start_time": "2022-04-12T02:42:18.741Z"
   },
   {
    "duration": 11,
    "start_time": "2022-04-12T02:42:19.229Z"
   },
   {
    "duration": 34,
    "start_time": "2022-04-12T02:42:19.242Z"
   },
   {
    "duration": 15,
    "start_time": "2022-04-12T02:42:19.278Z"
   },
   {
    "duration": 14,
    "start_time": "2022-04-12T02:42:19.295Z"
   },
   {
    "duration": 186,
    "start_time": "2022-04-12T02:42:19.319Z"
   },
   {
    "duration": 1681,
    "start_time": "2022-04-12T02:42:19.507Z"
   },
   {
    "duration": 229,
    "start_time": "2022-04-12T02:42:21.190Z"
   },
   {
    "duration": 1622,
    "start_time": "2022-04-12T02:42:21.421Z"
   },
   {
    "duration": 559,
    "start_time": "2022-04-12T02:42:23.045Z"
   },
   {
    "duration": 188,
    "start_time": "2022-04-12T02:42:23.606Z"
   },
   {
    "duration": 519,
    "start_time": "2022-04-12T02:42:23.796Z"
   },
   {
    "duration": 60,
    "start_time": "2022-04-14T12:38:26.300Z"
   },
   {
    "duration": 1495,
    "start_time": "2022-04-14T12:38:33.186Z"
   },
   {
    "duration": 537,
    "start_time": "2022-04-14T12:38:35.731Z"
   },
   {
    "duration": 71,
    "start_time": "2022-04-14T12:50:24.827Z"
   },
   {
    "duration": 144,
    "start_time": "2022-04-14T12:53:02.953Z"
   },
   {
    "duration": 69,
    "start_time": "2022-04-14T12:53:16.723Z"
   },
   {
    "duration": 116,
    "start_time": "2022-04-14T12:55:45.784Z"
   },
   {
    "duration": 166,
    "start_time": "2022-04-14T12:59:44.145Z"
   },
   {
    "duration": 761,
    "start_time": "2022-04-14T14:01:29.599Z"
   },
   {
    "duration": 954,
    "start_time": "2022-04-14T14:04:09.712Z"
   },
   {
    "duration": 919,
    "start_time": "2022-04-14T14:05:04.241Z"
   },
   {
    "duration": 1066,
    "start_time": "2022-04-14T14:05:39.065Z"
   },
   {
    "duration": 149,
    "start_time": "2022-04-14T14:11:54.047Z"
   },
   {
    "duration": 178,
    "start_time": "2022-04-14T14:16:11.210Z"
   },
   {
    "duration": 113,
    "start_time": "2022-04-14T14:16:35.507Z"
   },
   {
    "duration": 8,
    "start_time": "2022-04-14T14:17:47.453Z"
   },
   {
    "duration": 12,
    "start_time": "2022-04-14T14:17:47.463Z"
   },
   {
    "duration": 960,
    "start_time": "2022-04-14T14:17:47.476Z"
   },
   {
    "duration": 175,
    "start_time": "2022-04-14T14:17:52.645Z"
   },
   {
    "duration": 1080,
    "start_time": "2022-04-14T14:19:37.848Z"
   },
   {
    "duration": 1119,
    "start_time": "2022-04-14T14:19:50.409Z"
   },
   {
    "duration": 46,
    "start_time": "2022-04-15T01:31:37.675Z"
   },
   {
    "duration": 2,
    "start_time": "2022-04-15T01:31:45.025Z"
   },
   {
    "duration": 1354,
    "start_time": "2022-04-15T01:31:45.029Z"
   },
   {
    "duration": 869,
    "start_time": "2022-04-15T01:31:46.385Z"
   },
   {
    "duration": 117,
    "start_time": "2022-04-15T01:31:50.265Z"
   },
   {
    "duration": 59,
    "start_time": "2022-04-15T01:32:07.824Z"
   },
   {
    "duration": 91,
    "start_time": "2022-04-15T01:32:30.345Z"
   },
   {
    "duration": 105,
    "start_time": "2022-04-15T01:33:17.321Z"
   },
   {
    "duration": 159,
    "start_time": "2022-04-15T01:33:34.330Z"
   },
   {
    "duration": 923,
    "start_time": "2022-04-15T01:36:16.519Z"
   },
   {
    "duration": 844,
    "start_time": "2022-04-15T01:37:48.928Z"
   },
   {
    "duration": 184,
    "start_time": "2022-04-15T01:38:27.191Z"
   },
   {
    "duration": 15,
    "start_time": "2022-04-15T01:41:24.381Z"
   },
   {
    "duration": 9,
    "start_time": "2022-04-15T01:42:01.569Z"
   },
   {
    "duration": 3,
    "start_time": "2022-04-15T01:43:35.294Z"
   },
   {
    "duration": 7,
    "start_time": "2022-04-15T01:43:57.687Z"
   },
   {
    "duration": 7,
    "start_time": "2022-04-15T01:45:05.880Z"
   },
   {
    "duration": 124,
    "start_time": "2022-04-15T01:45:26.368Z"
   },
   {
    "duration": 8,
    "start_time": "2022-04-15T01:45:37.784Z"
   },
   {
    "duration": 12,
    "start_time": "2022-04-15T01:45:59.785Z"
   },
   {
    "duration": 12,
    "start_time": "2022-04-15T01:46:07.409Z"
   },
   {
    "duration": 17,
    "start_time": "2022-04-15T01:46:35.658Z"
   },
   {
    "duration": 9,
    "start_time": "2022-04-15T02:01:27.021Z"
   },
   {
    "duration": 9,
    "start_time": "2022-04-15T02:01:53.309Z"
   },
   {
    "duration": 14,
    "start_time": "2022-04-15T02:02:02.301Z"
   },
   {
    "duration": 15,
    "start_time": "2022-04-15T02:05:16.410Z"
   },
   {
    "duration": 36,
    "start_time": "2022-04-15T02:05:25.706Z"
   },
   {
    "duration": 1273,
    "start_time": "2022-04-15T02:13:25.853Z"
   },
   {
    "duration": 15,
    "start_time": "2022-04-15T02:13:49.844Z"
   },
   {
    "duration": 17,
    "start_time": "2022-04-15T02:14:11.611Z"
   },
   {
    "duration": 803,
    "start_time": "2022-04-15T02:21:40.534Z"
   },
   {
    "duration": 1662,
    "start_time": "2022-04-15T02:25:21.851Z"
   },
   {
    "duration": 1704,
    "start_time": "2022-04-15T02:26:13.748Z"
   },
   {
    "duration": 15,
    "start_time": "2022-04-15T02:26:30.444Z"
   },
   {
    "duration": 11,
    "start_time": "2022-04-15T02:26:42.797Z"
   },
   {
    "duration": 24,
    "start_time": "2022-04-15T02:26:50.557Z"
   },
   {
    "duration": 12,
    "start_time": "2022-04-15T02:27:04.852Z"
   },
   {
    "duration": 184,
    "start_time": "2022-04-15T02:28:03.525Z"
   },
   {
    "duration": 815,
    "start_time": "2022-04-15T02:29:07.239Z"
   },
   {
    "duration": 817,
    "start_time": "2022-04-15T02:29:18.288Z"
   },
   {
    "duration": 823,
    "start_time": "2022-04-15T02:29:25.447Z"
   },
   {
    "duration": 1624,
    "start_time": "2022-04-15T02:31:21.363Z"
   },
   {
    "duration": 1544,
    "start_time": "2022-04-15T02:31:48.107Z"
   },
   {
    "duration": 1639,
    "start_time": "2022-04-15T02:35:22.351Z"
   },
   {
    "duration": 1577,
    "start_time": "2022-04-15T02:35:35.592Z"
   },
   {
    "duration": 9,
    "start_time": "2022-04-15T02:40:42.887Z"
   },
   {
    "duration": 13,
    "start_time": "2022-04-15T02:43:30.833Z"
   },
   {
    "duration": 9,
    "start_time": "2022-04-15T02:43:45.146Z"
   },
   {
    "duration": 13,
    "start_time": "2022-04-15T02:43:59.019Z"
   },
   {
    "duration": 9,
    "start_time": "2022-04-15T03:05:08.019Z"
   },
   {
    "duration": 10,
    "start_time": "2022-04-15T03:05:19.156Z"
   },
   {
    "duration": 9,
    "start_time": "2022-04-15T03:05:42.092Z"
   },
   {
    "duration": 9,
    "start_time": "2022-04-15T03:05:50.166Z"
   },
   {
    "duration": 1232,
    "start_time": "2022-04-15T03:09:47.994Z"
   },
   {
    "duration": 10,
    "start_time": "2022-04-15T03:09:54.481Z"
   },
   {
    "duration": 10,
    "start_time": "2022-04-15T03:10:11.481Z"
   },
   {
    "duration": 15,
    "start_time": "2022-04-15T03:10:16.898Z"
   },
   {
    "duration": 13,
    "start_time": "2022-04-15T03:10:23.738Z"
   },
   {
    "duration": 14,
    "start_time": "2022-04-15T03:10:48.235Z"
   },
   {
    "duration": 54,
    "start_time": "2022-04-15T03:12:12.748Z"
   },
   {
    "duration": 1336,
    "start_time": "2022-04-15T03:12:30.781Z"
   },
   {
    "duration": 11,
    "start_time": "2022-04-15T03:13:09.109Z"
   },
   {
    "duration": 1264,
    "start_time": "2022-04-15T03:13:28.790Z"
   },
   {
    "duration": 32,
    "start_time": "2022-04-15T03:14:22.071Z"
   },
   {
    "duration": 32,
    "start_time": "2022-04-15T03:14:33.727Z"
   },
   {
    "duration": 54,
    "start_time": "2022-04-15T03:15:32.616Z"
   },
   {
    "duration": 33,
    "start_time": "2022-04-15T03:16:09.923Z"
   },
   {
    "duration": 199,
    "start_time": "2022-04-15T03:16:49.570Z"
   },
   {
    "duration": 35,
    "start_time": "2022-04-15T03:17:07.465Z"
   },
   {
    "duration": 5,
    "start_time": "2022-04-15T03:18:24.013Z"
   },
   {
    "duration": 251,
    "start_time": "2022-04-15T03:18:34.796Z"
   },
   {
    "duration": 30,
    "start_time": "2022-04-15T03:18:57.404Z"
   },
   {
    "duration": 32,
    "start_time": "2022-04-15T03:19:20.260Z"
   },
   {
    "duration": 32,
    "start_time": "2022-04-15T03:19:25.693Z"
   },
   {
    "duration": 29,
    "start_time": "2022-04-15T03:19:49.053Z"
   },
   {
    "duration": 51,
    "start_time": "2022-04-15T03:20:01.894Z"
   },
   {
    "duration": 49,
    "start_time": "2022-04-15T03:20:12.582Z"
   },
   {
    "duration": 49,
    "start_time": "2022-04-15T03:20:22.527Z"
   },
   {
    "duration": 63,
    "start_time": "2022-04-15T03:20:59.447Z"
   },
   {
    "duration": 48,
    "start_time": "2022-04-15T03:21:20.720Z"
   },
   {
    "duration": 12,
    "start_time": "2022-04-15T03:33:22.175Z"
   },
   {
    "duration": 9,
    "start_time": "2022-04-15T03:33:28.206Z"
   },
   {
    "duration": 5,
    "start_time": "2022-04-15T03:34:02.781Z"
   },
   {
    "duration": 4,
    "start_time": "2022-04-15T03:34:25.416Z"
   },
   {
    "duration": 5,
    "start_time": "2022-04-15T03:35:47.681Z"
   },
   {
    "duration": 4,
    "start_time": "2022-04-15T03:35:58.273Z"
   },
   {
    "duration": 4,
    "start_time": "2022-04-15T03:36:04.155Z"
   },
   {
    "duration": 4,
    "start_time": "2022-04-15T03:36:11.258Z"
   },
   {
    "duration": 5,
    "start_time": "2022-04-15T03:36:17.978Z"
   },
   {
    "duration": 39,
    "start_time": "2022-04-15T03:37:12.347Z"
   },
   {
    "duration": 47,
    "start_time": "2022-04-15T03:37:18.955Z"
   },
   {
    "duration": 31,
    "start_time": "2022-04-15T03:38:08.477Z"
   },
   {
    "duration": 73,
    "start_time": "2022-04-15T03:38:29.228Z"
   },
   {
    "duration": 65,
    "start_time": "2022-04-15T03:39:35.397Z"
   },
   {
    "duration": 70,
    "start_time": "2022-04-15T03:40:03.719Z"
   },
   {
    "duration": 419,
    "start_time": "2022-04-15T03:40:14.192Z"
   },
   {
    "duration": 31,
    "start_time": "2022-04-15T03:40:22.175Z"
   },
   {
    "duration": 71,
    "start_time": "2022-04-15T03:40:31.303Z"
   },
   {
    "duration": 3079,
    "start_time": "2022-04-15T03:44:23.501Z"
   },
   {
    "duration": 115,
    "start_time": "2022-04-15T03:45:14.412Z"
   },
   {
    "duration": 121,
    "start_time": "2022-04-15T03:45:33.741Z"
   },
   {
    "duration": 3326,
    "start_time": "2022-04-15T03:46:59.575Z"
   },
   {
    "duration": 96,
    "start_time": "2022-04-15T03:47:55.560Z"
   },
   {
    "duration": 149,
    "start_time": "2022-04-15T03:48:39.681Z"
   },
   {
    "duration": 152,
    "start_time": "2022-04-15T03:49:06.210Z"
   },
   {
    "duration": 329,
    "start_time": "2022-04-15T03:51:04.868Z"
   },
   {
    "duration": 161,
    "start_time": "2022-04-15T03:52:03.606Z"
   },
   {
    "duration": 135,
    "start_time": "2022-04-15T04:34:49.785Z"
   },
   {
    "duration": 133,
    "start_time": "2022-04-15T04:35:36.946Z"
   },
   {
    "duration": 194,
    "start_time": "2022-04-15T04:38:34.973Z"
   },
   {
    "duration": 157,
    "start_time": "2022-04-15T04:39:17.004Z"
   },
   {
    "duration": 371,
    "start_time": "2022-04-15T04:40:29.497Z"
   },
   {
    "duration": 380,
    "start_time": "2022-04-15T04:40:39.753Z"
   },
   {
    "duration": 369,
    "start_time": "2022-04-15T04:41:02.362Z"
   },
   {
    "duration": 88,
    "start_time": "2022-04-15T04:41:35.218Z"
   },
   {
    "duration": 128,
    "start_time": "2022-04-15T04:43:42.220Z"
   },
   {
    "duration": 4,
    "start_time": "2022-04-15T04:43:54.557Z"
   },
   {
    "duration": 95,
    "start_time": "2022-04-15T04:44:04.061Z"
   },
   {
    "duration": 105,
    "start_time": "2022-04-15T04:44:15.676Z"
   },
   {
    "duration": 90,
    "start_time": "2022-04-15T04:44:28.340Z"
   },
   {
    "duration": 186,
    "start_time": "2022-04-15T04:44:49.941Z"
   },
   {
    "duration": 102,
    "start_time": "2022-04-15T04:45:00.230Z"
   },
   {
    "duration": 104,
    "start_time": "2022-04-15T04:45:13.742Z"
   },
   {
    "duration": 68,
    "start_time": "2022-04-15T04:45:32.239Z"
   },
   {
    "duration": 93,
    "start_time": "2022-04-15T04:46:24.911Z"
   },
   {
    "duration": 86,
    "start_time": "2022-04-15T04:47:06.408Z"
   },
   {
    "duration": 78,
    "start_time": "2022-04-15T04:48:03.418Z"
   },
   {
    "duration": 103,
    "start_time": "2022-04-15T04:48:49.923Z"
   },
   {
    "duration": 104,
    "start_time": "2022-04-15T04:49:13.691Z"
   },
   {
    "duration": 105,
    "start_time": "2022-04-15T04:49:43.180Z"
   },
   {
    "duration": 106,
    "start_time": "2022-04-15T04:50:28.936Z"
   },
   {
    "duration": 87,
    "start_time": "2022-04-15T04:50:47.741Z"
   },
   {
    "duration": 107,
    "start_time": "2022-04-15T04:50:56.516Z"
   },
   {
    "duration": 118,
    "start_time": "2022-04-15T04:51:01.322Z"
   },
   {
    "duration": 109,
    "start_time": "2022-04-15T04:51:09.214Z"
   },
   {
    "duration": 107,
    "start_time": "2022-04-15T04:52:31.416Z"
   },
   {
    "duration": 103,
    "start_time": "2022-04-15T04:53:41.345Z"
   },
   {
    "duration": 99,
    "start_time": "2022-04-15T04:53:57.369Z"
   },
   {
    "duration": 96,
    "start_time": "2022-04-15T04:54:49.890Z"
   },
   {
    "duration": 110,
    "start_time": "2022-04-15T04:55:02.467Z"
   },
   {
    "duration": 3122,
    "start_time": "2022-04-15T04:56:19.308Z"
   },
   {
    "duration": 2990,
    "start_time": "2022-04-15T04:56:44.964Z"
   },
   {
    "duration": 3062,
    "start_time": "2022-04-15T04:57:45.606Z"
   },
   {
    "duration": 129,
    "start_time": "2022-04-15T04:57:51.414Z"
   },
   {
    "duration": 103,
    "start_time": "2022-04-15T04:58:12.207Z"
   },
   {
    "duration": 119,
    "start_time": "2022-04-15T04:58:29.166Z"
   },
   {
    "duration": 152,
    "start_time": "2022-04-15T04:58:39.071Z"
   },
   {
    "duration": 133,
    "start_time": "2022-04-15T04:59:30.623Z"
   },
   {
    "duration": 122,
    "start_time": "2022-04-15T04:59:37.832Z"
   },
   {
    "duration": 69,
    "start_time": "2022-04-15T05:00:06.545Z"
   },
   {
    "duration": 431,
    "start_time": "2022-04-15T05:00:14.919Z"
   },
   {
    "duration": 191,
    "start_time": "2022-04-15T05:11:01.080Z"
   },
   {
    "duration": 52,
    "start_time": "2022-04-15T09:37:31.999Z"
   },
   {
    "duration": 2,
    "start_time": "2022-04-15T09:37:38.480Z"
   },
   {
    "duration": 1565,
    "start_time": "2022-04-15T09:37:38.485Z"
   },
   {
    "duration": 850,
    "start_time": "2022-04-15T09:37:40.420Z"
   },
   {
    "duration": 204,
    "start_time": "2022-04-15T09:38:19.868Z"
   },
   {
    "duration": 1257,
    "start_time": "2022-04-15T09:38:24.012Z"
   },
   {
    "duration": 868,
    "start_time": "2022-04-15T09:38:48.028Z"
   },
   {
    "duration": 59,
    "start_time": "2022-04-15T09:42:15.144Z"
   },
   {
    "duration": 3,
    "start_time": "2022-04-15T09:42:24.608Z"
   },
   {
    "duration": 10,
    "start_time": "2022-04-15T09:42:24.612Z"
   },
   {
    "duration": 838,
    "start_time": "2022-04-15T09:42:24.623Z"
   },
   {
    "duration": 169,
    "start_time": "2022-04-15T09:42:25.462Z"
   },
   {
    "duration": 135,
    "start_time": "2022-04-15T09:42:25.633Z"
   },
   {
    "duration": 106,
    "start_time": "2022-04-15T09:42:29.608Z"
   },
   {
    "duration": 108,
    "start_time": "2022-04-15T09:43:01.472Z"
   },
   {
    "duration": 194,
    "start_time": "2022-04-15T09:44:31.165Z"
   },
   {
    "duration": 123,
    "start_time": "2022-04-15T09:44:43.341Z"
   },
   {
    "duration": 122,
    "start_time": "2022-04-15T09:45:10.621Z"
   },
   {
    "duration": 127,
    "start_time": "2022-04-15T09:46:50.491Z"
   },
   {
    "duration": 123,
    "start_time": "2022-04-15T09:47:13.706Z"
   },
   {
    "duration": 105,
    "start_time": "2022-04-15T09:52:27.677Z"
   },
   {
    "duration": 94,
    "start_time": "2022-04-15T10:10:46.607Z"
   },
   {
    "duration": 100,
    "start_time": "2022-04-15T10:12:23.129Z"
   },
   {
    "duration": 111,
    "start_time": "2022-04-15T10:13:41.665Z"
   },
   {
    "duration": 159,
    "start_time": "2022-04-15T10:14:39.518Z"
   },
   {
    "duration": 137,
    "start_time": "2022-04-15T10:15:03.574Z"
   },
   {
    "duration": 117,
    "start_time": "2022-04-15T10:18:33.618Z"
   },
   {
    "duration": 114,
    "start_time": "2022-04-15T10:20:32.833Z"
   },
   {
    "duration": 124,
    "start_time": "2022-04-15T10:21:15.978Z"
   },
   {
    "duration": 146,
    "start_time": "2022-04-15T10:21:24.712Z"
   },
   {
    "duration": 233,
    "start_time": "2022-04-15T10:22:02.883Z"
   },
   {
    "duration": 152,
    "start_time": "2022-04-15T10:23:07.608Z"
   },
   {
    "duration": 157,
    "start_time": "2022-04-15T10:23:46.790Z"
   },
   {
    "duration": 125,
    "start_time": "2022-04-15T10:24:19.686Z"
   },
   {
    "duration": 132,
    "start_time": "2022-04-15T10:24:48.653Z"
   },
   {
    "duration": 137,
    "start_time": "2022-04-15T10:26:36.251Z"
   },
   {
    "duration": 147,
    "start_time": "2022-04-15T10:27:19.131Z"
   },
   {
    "duration": 141,
    "start_time": "2022-04-15T10:27:53.371Z"
   },
   {
    "duration": 175,
    "start_time": "2022-04-15T10:48:52.244Z"
   },
   {
    "duration": 146,
    "start_time": "2022-04-15T10:49:20.189Z"
   },
   {
    "duration": 165,
    "start_time": "2022-04-15T10:49:26.740Z"
   },
   {
    "duration": 138,
    "start_time": "2022-04-15T10:49:49.092Z"
   },
   {
    "duration": 184,
    "start_time": "2022-04-15T10:50:12.595Z"
   },
   {
    "duration": 122,
    "start_time": "2022-04-15T10:50:22.715Z"
   },
   {
    "duration": 140,
    "start_time": "2022-04-15T10:50:36.226Z"
   },
   {
    "duration": 146,
    "start_time": "2022-04-15T10:50:54.211Z"
   },
   {
    "duration": 423,
    "start_time": "2022-04-15T10:51:07.098Z"
   },
   {
    "duration": 131,
    "start_time": "2022-04-15T10:51:11.721Z"
   },
   {
    "duration": 180,
    "start_time": "2022-04-15T10:52:11.649Z"
   },
   {
    "duration": 125,
    "start_time": "2022-04-15T10:54:14.007Z"
   },
   {
    "duration": 127,
    "start_time": "2022-04-15T10:54:34.695Z"
   },
   {
    "duration": 134,
    "start_time": "2022-04-15T10:58:44.555Z"
   },
   {
    "duration": 128,
    "start_time": "2022-04-15T10:58:53.395Z"
   },
   {
    "duration": 187,
    "start_time": "2022-04-15T11:00:07.505Z"
   },
   {
    "duration": 97,
    "start_time": "2022-04-15T11:48:11.080Z"
   },
   {
    "duration": 35,
    "start_time": "2022-04-15T11:50:38.302Z"
   },
   {
    "duration": 144,
    "start_time": "2022-04-15T12:00:03.570Z"
   },
   {
    "duration": 131,
    "start_time": "2022-04-15T12:00:42.391Z"
   },
   {
    "duration": 141,
    "start_time": "2022-04-15T12:00:51.349Z"
   },
   {
    "duration": 113,
    "start_time": "2022-04-15T12:01:06.383Z"
   },
   {
    "duration": 112,
    "start_time": "2022-04-15T12:01:20.780Z"
   },
   {
    "duration": 127,
    "start_time": "2022-04-15T12:01:40.699Z"
   },
   {
    "duration": 143,
    "start_time": "2022-04-15T12:01:57.740Z"
   },
   {
    "duration": 125,
    "start_time": "2022-04-15T12:02:04.559Z"
   },
   {
    "duration": 120,
    "start_time": "2022-04-15T12:02:28.469Z"
   },
   {
    "duration": 115,
    "start_time": "2022-04-15T12:02:33.123Z"
   },
   {
    "duration": 815,
    "start_time": "2022-04-15T12:02:40.291Z"
   },
   {
    "duration": 130,
    "start_time": "2022-04-15T12:03:16.482Z"
   },
   {
    "duration": 140,
    "start_time": "2022-04-15T12:09:01.348Z"
   },
   {
    "duration": 133,
    "start_time": "2022-04-15T12:09:19.740Z"
   },
   {
    "duration": 18,
    "start_time": "2022-04-15T12:16:23.620Z"
   },
   {
    "duration": 6,
    "start_time": "2022-04-15T12:16:29.844Z"
   },
   {
    "duration": 5,
    "start_time": "2022-04-15T12:17:23.556Z"
   },
   {
    "duration": 7,
    "start_time": "2022-04-15T12:18:15.410Z"
   },
   {
    "duration": 5,
    "start_time": "2022-04-15T12:18:26.642Z"
   },
   {
    "duration": 6,
    "start_time": "2022-04-15T12:18:36.155Z"
   },
   {
    "duration": 4,
    "start_time": "2022-04-15T12:27:15.915Z"
   },
   {
    "duration": 21,
    "start_time": "2022-04-15T12:29:02.408Z"
   },
   {
    "duration": 134,
    "start_time": "2022-04-15T12:31:21.078Z"
   },
   {
    "duration": 142,
    "start_time": "2022-04-15T12:31:44.198Z"
   },
   {
    "duration": 39,
    "start_time": "2022-04-15T12:32:12.351Z"
   },
   {
    "duration": 95,
    "start_time": "2022-04-15T12:45:56.335Z"
   },
   {
    "duration": 184,
    "start_time": "2022-04-15T12:46:30.279Z"
   },
   {
    "duration": 55,
    "start_time": "2022-04-15T12:46:37.310Z"
   },
   {
    "duration": 59,
    "start_time": "2022-04-15T12:46:42.471Z"
   },
   {
    "duration": 56,
    "start_time": "2022-04-15T12:46:55.919Z"
   },
   {
    "duration": 5,
    "start_time": "2022-04-15T12:47:38.280Z"
   },
   {
    "duration": 172,
    "start_time": "2022-04-15T12:47:43.765Z"
   },
   {
    "duration": 5,
    "start_time": "2022-04-15T12:48:06.493Z"
   },
   {
    "duration": 100,
    "start_time": "2022-04-15T12:48:14.181Z"
   },
   {
    "duration": 49,
    "start_time": "2022-04-15T12:48:44.277Z"
   },
   {
    "duration": 3,
    "start_time": "2022-04-15T12:52:48.291Z"
   },
   {
    "duration": 17,
    "start_time": "2022-04-15T12:52:48.296Z"
   },
   {
    "duration": 1264,
    "start_time": "2022-04-15T12:52:48.315Z"
   },
   {
    "duration": 300,
    "start_time": "2022-04-15T12:52:52.289Z"
   },
   {
    "duration": 27,
    "start_time": "2022-04-15T12:52:59.354Z"
   },
   {
    "duration": 49,
    "start_time": "2022-04-15T12:53:24.616Z"
   },
   {
    "duration": 4,
    "start_time": "2022-04-15T12:53:45.155Z"
   },
   {
    "duration": 72,
    "start_time": "2022-04-15T12:53:48.952Z"
   },
   {
    "duration": 38,
    "start_time": "2022-04-15T12:54:11.992Z"
   },
   {
    "duration": 39,
    "start_time": "2022-04-15T12:54:18.063Z"
   },
   {
    "duration": 40,
    "start_time": "2022-04-15T12:54:23.828Z"
   },
   {
    "duration": 64,
    "start_time": "2022-04-15T12:54:42.799Z"
   },
   {
    "duration": 41,
    "start_time": "2022-04-15T12:54:58.615Z"
   },
   {
    "duration": 41,
    "start_time": "2022-04-15T12:55:04.148Z"
   },
   {
    "duration": 338,
    "start_time": "2022-04-15T12:55:14.872Z"
   },
   {
    "duration": 26,
    "start_time": "2022-04-15T12:57:26.508Z"
   },
   {
    "duration": 29,
    "start_time": "2022-04-15T12:57:51.036Z"
   },
   {
    "duration": 41,
    "start_time": "2022-04-15T12:58:24.356Z"
   },
   {
    "duration": 17,
    "start_time": "2022-04-15T12:58:44.060Z"
   },
   {
    "duration": 2,
    "start_time": "2022-04-15T12:58:56.162Z"
   },
   {
    "duration": 17,
    "start_time": "2022-04-15T12:58:56.166Z"
   },
   {
    "duration": 952,
    "start_time": "2022-04-15T12:58:56.185Z"
   },
   {
    "duration": 217,
    "start_time": "2022-04-15T12:58:57.139Z"
   },
   {
    "duration": 13,
    "start_time": "2022-04-15T12:59:02.027Z"
   },
   {
    "duration": 18,
    "start_time": "2022-04-15T12:59:06.347Z"
   },
   {
    "duration": 3,
    "start_time": "2022-04-15T12:59:47.744Z"
   },
   {
    "duration": 23,
    "start_time": "2022-04-15T12:59:47.749Z"
   },
   {
    "duration": 1014,
    "start_time": "2022-04-15T12:59:47.774Z"
   },
   {
    "duration": 59,
    "start_time": "2022-04-15T12:59:50.376Z"
   },
   {
    "duration": 133,
    "start_time": "2022-04-15T13:00:45.624Z"
   },
   {
    "duration": 185,
    "start_time": "2022-04-15T13:01:09.985Z"
   },
   {
    "duration": 91,
    "start_time": "2022-04-15T13:03:41.135Z"
   },
   {
    "duration": 33,
    "start_time": "2022-04-15T13:04:05.933Z"
   },
   {
    "duration": 30,
    "start_time": "2022-04-15T13:07:58.610Z"
   },
   {
    "duration": 7,
    "start_time": "2022-04-15T13:08:12.530Z"
   },
   {
    "duration": 94,
    "start_time": "2022-04-15T13:09:15.552Z"
   },
   {
    "duration": 6,
    "start_time": "2022-04-15T13:09:28.287Z"
   },
   {
    "duration": 6,
    "start_time": "2022-04-15T13:10:11.975Z"
   },
   {
    "duration": 91,
    "start_time": "2022-04-15T13:12:14.029Z"
   },
   {
    "duration": 3,
    "start_time": "2022-04-15T13:12:25.267Z"
   },
   {
    "duration": 30,
    "start_time": "2022-04-15T13:12:25.272Z"
   },
   {
    "duration": 1003,
    "start_time": "2022-04-15T13:12:25.304Z"
   },
   {
    "duration": 163,
    "start_time": "2022-04-15T13:12:28.173Z"
   },
   {
    "duration": 101,
    "start_time": "2022-04-15T13:12:36.467Z"
   },
   {
    "duration": 2,
    "start_time": "2022-04-15T13:12:43.609Z"
   },
   {
    "duration": 7,
    "start_time": "2022-04-15T13:12:43.613Z"
   },
   {
    "duration": 942,
    "start_time": "2022-04-15T13:12:43.622Z"
   },
   {
    "duration": 212,
    "start_time": "2022-04-15T13:12:44.566Z"
   },
   {
    "duration": 107,
    "start_time": "2022-04-15T13:12:49.684Z"
   },
   {
    "duration": 93,
    "start_time": "2022-04-15T13:12:57.996Z"
   },
   {
    "duration": 78,
    "start_time": "2022-04-15T13:13:28.766Z"
   },
   {
    "duration": 1023,
    "start_time": "2022-04-15T13:15:43.443Z"
   },
   {
    "duration": 1176,
    "start_time": "2022-04-15T13:16:21.434Z"
   },
   {
    "duration": 189,
    "start_time": "2022-04-15T13:17:34.185Z"
   },
   {
    "duration": 147,
    "start_time": "2022-04-15T13:17:51.544Z"
   },
   {
    "duration": 120,
    "start_time": "2022-04-15T13:18:48.127Z"
   },
   {
    "duration": 83,
    "start_time": "2022-04-15T13:19:33.862Z"
   },
   {
    "duration": 92,
    "start_time": "2022-04-15T13:19:56.309Z"
   },
   {
    "duration": 6,
    "start_time": "2022-04-15T13:20:06.463Z"
   },
   {
    "duration": 23,
    "start_time": "2022-04-15T13:20:15.437Z"
   },
   {
    "duration": 129,
    "start_time": "2022-04-15T13:20:39.805Z"
   },
   {
    "duration": 6,
    "start_time": "2022-04-15T13:20:59.637Z"
   },
   {
    "duration": 166,
    "start_time": "2022-04-15T13:22:13.412Z"
   },
   {
    "duration": 198,
    "start_time": "2022-04-15T13:22:18.995Z"
   },
   {
    "duration": 179,
    "start_time": "2022-04-15T13:22:29.180Z"
   },
   {
    "duration": 6,
    "start_time": "2022-04-15T13:22:35.195Z"
   },
   {
    "duration": 28,
    "start_time": "2022-04-15T13:33:27.368Z"
   },
   {
    "duration": 11,
    "start_time": "2022-04-15T13:34:12.528Z"
   },
   {
    "duration": 11,
    "start_time": "2022-04-15T13:38:12.564Z"
   },
   {
    "duration": 12,
    "start_time": "2022-04-15T13:38:50.963Z"
   },
   {
    "duration": 11,
    "start_time": "2022-04-15T13:38:59.660Z"
   },
   {
    "duration": 11,
    "start_time": "2022-04-15T13:39:17.890Z"
   },
   {
    "duration": 10,
    "start_time": "2022-04-15T13:39:42.186Z"
   },
   {
    "duration": 3,
    "start_time": "2022-04-15T13:39:59.574Z"
   },
   {
    "duration": 6,
    "start_time": "2022-04-15T13:39:59.579Z"
   },
   {
    "duration": 900,
    "start_time": "2022-04-15T13:39:59.587Z"
   },
   {
    "duration": 181,
    "start_time": "2022-04-15T13:40:00.489Z"
   },
   {
    "duration": 29,
    "start_time": "2022-04-15T13:40:05.297Z"
   },
   {
    "duration": 41,
    "start_time": "2022-04-15T13:40:25.089Z"
   },
   {
    "duration": 147,
    "start_time": "2022-04-15T13:42:08.780Z"
   },
   {
    "duration": 26,
    "start_time": "2022-04-15T13:42:18.919Z"
   },
   {
    "duration": 39,
    "start_time": "2022-04-15T13:42:33.311Z"
   },
   {
    "duration": 33,
    "start_time": "2022-04-15T13:43:13.664Z"
   },
   {
    "duration": 7,
    "start_time": "2022-04-15T13:43:33.455Z"
   },
   {
    "duration": 7,
    "start_time": "2022-04-15T13:44:25.357Z"
   },
   {
    "duration": 5,
    "start_time": "2022-04-15T13:44:41.613Z"
   },
   {
    "duration": 5,
    "start_time": "2022-04-15T13:44:49.709Z"
   },
   {
    "duration": 5,
    "start_time": "2022-04-15T13:46:29.536Z"
   },
   {
    "duration": 48,
    "start_time": "2022-04-16T11:23:45.173Z"
   },
   {
    "duration": 2,
    "start_time": "2022-04-16T11:23:52.051Z"
   },
   {
    "duration": 1433,
    "start_time": "2022-04-16T11:23:52.055Z"
   },
   {
    "duration": 844,
    "start_time": "2022-04-16T11:23:54.361Z"
   },
   {
    "duration": 3070,
    "start_time": "2022-04-16T11:24:09.074Z"
   },
   {
    "duration": 86,
    "start_time": "2022-04-16T11:26:33.626Z"
   },
   {
    "duration": 845,
    "start_time": "2022-04-16T11:28:32.960Z"
   },
   {
    "duration": 969,
    "start_time": "2022-04-16T11:33:40.076Z"
   },
   {
    "duration": 606,
    "start_time": "2022-04-16T11:40:54.333Z"
   },
   {
    "duration": 3629,
    "start_time": "2022-04-16T11:43:25.094Z"
   },
   {
    "duration": 537,
    "start_time": "2022-04-16T11:52:00.297Z"
   },
   {
    "duration": 507,
    "start_time": "2022-04-16T11:52:37.064Z"
   },
   {
    "duration": 551,
    "start_time": "2022-04-16T11:53:33.457Z"
   },
   {
    "duration": 2747,
    "start_time": "2022-04-16T11:53:56.738Z"
   },
   {
    "duration": 513,
    "start_time": "2022-04-16T11:54:15.171Z"
   },
   {
    "duration": 501,
    "start_time": "2022-04-16T11:54:51.963Z"
   },
   {
    "duration": 541,
    "start_time": "2022-04-16T11:55:30.659Z"
   },
   {
    "duration": 483,
    "start_time": "2022-04-16T11:56:15.908Z"
   },
   {
    "duration": 475,
    "start_time": "2022-04-16T11:56:33.741Z"
   },
   {
    "duration": 444,
    "start_time": "2022-04-16T11:57:44.797Z"
   },
   {
    "duration": 443,
    "start_time": "2022-04-16T11:58:17.174Z"
   },
   {
    "duration": 458,
    "start_time": "2022-04-16T11:58:36.535Z"
   },
   {
    "duration": 516,
    "start_time": "2022-04-16T12:00:04.194Z"
   },
   {
    "duration": 526,
    "start_time": "2022-04-16T12:00:20.044Z"
   },
   {
    "duration": 521,
    "start_time": "2022-04-16T12:00:45.218Z"
   },
   {
    "duration": 614,
    "start_time": "2022-04-16T12:01:02.050Z"
   },
   {
    "duration": 3594,
    "start_time": "2022-04-16T12:01:37.020Z"
   },
   {
    "duration": 3495,
    "start_time": "2022-04-16T12:10:51.477Z"
   },
   {
    "duration": 3818,
    "start_time": "2022-04-16T12:12:02.270Z"
   },
   {
    "duration": 3559,
    "start_time": "2022-04-16T12:12:36.024Z"
   },
   {
    "duration": 3558,
    "start_time": "2022-04-16T12:13:42.257Z"
   },
   {
    "duration": 4003,
    "start_time": "2022-04-16T12:14:59.121Z"
   },
   {
    "duration": 4340,
    "start_time": "2022-04-16T12:16:00.260Z"
   },
   {
    "duration": 184,
    "start_time": "2022-04-16T12:16:27.300Z"
   },
   {
    "duration": 3937,
    "start_time": "2022-04-16T12:16:32.733Z"
   },
   {
    "duration": 3,
    "start_time": "2022-04-16T12:16:59.294Z"
   },
   {
    "duration": 1164,
    "start_time": "2022-04-16T12:16:59.313Z"
   },
   {
    "duration": 3874,
    "start_time": "2022-04-16T12:17:00.480Z"
   },
   {
    "duration": 0,
    "start_time": "2022-04-16T12:17:04.359Z"
   },
   {
    "duration": 0,
    "start_time": "2022-04-16T12:17:04.360Z"
   },
   {
    "duration": 0,
    "start_time": "2022-04-16T12:17:04.361Z"
   },
   {
    "duration": 0,
    "start_time": "2022-04-16T12:17:04.362Z"
   },
   {
    "duration": 0,
    "start_time": "2022-04-16T12:17:04.364Z"
   },
   {
    "duration": 0,
    "start_time": "2022-04-16T12:17:04.364Z"
   },
   {
    "duration": 0,
    "start_time": "2022-04-16T12:17:04.366Z"
   },
   {
    "duration": 0,
    "start_time": "2022-04-16T12:17:04.367Z"
   },
   {
    "duration": 0,
    "start_time": "2022-04-16T12:17:04.368Z"
   },
   {
    "duration": 0,
    "start_time": "2022-04-16T12:17:04.369Z"
   },
   {
    "duration": 0,
    "start_time": "2022-04-16T12:17:04.370Z"
   },
   {
    "duration": 0,
    "start_time": "2022-04-16T12:17:04.372Z"
   },
   {
    "duration": 0,
    "start_time": "2022-04-16T12:17:04.373Z"
   },
   {
    "duration": 0,
    "start_time": "2022-04-16T12:17:04.374Z"
   },
   {
    "duration": 0,
    "start_time": "2022-04-16T12:17:04.376Z"
   },
   {
    "duration": 0,
    "start_time": "2022-04-16T12:17:04.377Z"
   },
   {
    "duration": 0,
    "start_time": "2022-04-16T12:17:04.378Z"
   },
   {
    "duration": 0,
    "start_time": "2022-04-16T12:17:04.379Z"
   },
   {
    "duration": 0,
    "start_time": "2022-04-16T12:17:04.380Z"
   },
   {
    "duration": 0,
    "start_time": "2022-04-16T12:17:04.381Z"
   },
   {
    "duration": 0,
    "start_time": "2022-04-16T12:17:04.382Z"
   },
   {
    "duration": 0,
    "start_time": "2022-04-16T12:17:04.383Z"
   },
   {
    "duration": 3214,
    "start_time": "2022-04-16T12:17:21.342Z"
   },
   {
    "duration": 7570,
    "start_time": "2022-04-16T12:20:05.554Z"
   },
   {
    "duration": 567,
    "start_time": "2022-04-16T12:20:59.034Z"
   },
   {
    "duration": 684,
    "start_time": "2022-04-16T12:21:23.787Z"
   },
   {
    "duration": 197,
    "start_time": "2022-04-16T12:25:04.993Z"
   },
   {
    "duration": 4669,
    "start_time": "2022-04-16T12:26:16.992Z"
   },
   {
    "duration": 58,
    "start_time": "2022-04-19T00:42:19.701Z"
   },
   {
    "duration": 2223,
    "start_time": "2022-04-19T00:42:24.713Z"
   },
   {
    "duration": 682,
    "start_time": "2022-04-19T00:42:31.184Z"
   },
   {
    "duration": 900,
    "start_time": "2022-04-19T00:42:47.273Z"
   },
   {
    "duration": 928,
    "start_time": "2022-04-19T00:43:12.426Z"
   },
   {
    "duration": 16,
    "start_time": "2022-04-19T00:47:36.569Z"
   },
   {
    "duration": 877,
    "start_time": "2022-04-19T00:47:51.385Z"
   },
   {
    "duration": 73,
    "start_time": "2022-04-19T00:54:57.443Z"
   },
   {
    "duration": 982,
    "start_time": "2022-04-19T00:55:24.945Z"
   },
   {
    "duration": 980,
    "start_time": "2022-04-19T00:57:17.356Z"
   },
   {
    "duration": 76,
    "start_time": "2022-04-19T01:18:05.215Z"
   },
   {
    "duration": 71,
    "start_time": "2022-04-19T01:19:35.247Z"
   },
   {
    "duration": 900,
    "start_time": "2022-04-19T01:26:58.609Z"
   },
   {
    "duration": 896,
    "start_time": "2022-04-19T01:27:33.251Z"
   },
   {
    "duration": 962,
    "start_time": "2022-04-19T01:28:05.076Z"
   },
   {
    "duration": 69,
    "start_time": "2022-04-19T01:28:40.540Z"
   },
   {
    "duration": 61,
    "start_time": "2022-04-19T01:28:51.556Z"
   },
   {
    "duration": 1529,
    "start_time": "2022-04-19T01:34:11.929Z"
   },
   {
    "duration": 1379,
    "start_time": "2022-04-19T01:34:35.588Z"
   },
   {
    "duration": 1429,
    "start_time": "2022-04-19T01:35:31.229Z"
   },
   {
    "duration": 87,
    "start_time": "2022-04-19T01:36:37.583Z"
   },
   {
    "duration": 1481,
    "start_time": "2022-04-19T01:36:49.653Z"
   },
   {
    "duration": 929,
    "start_time": "2022-04-19T01:37:33.312Z"
   },
   {
    "duration": 937,
    "start_time": "2022-04-19T01:40:03.194Z"
   },
   {
    "duration": 919,
    "start_time": "2022-04-19T01:52:04.026Z"
   },
   {
    "duration": 927,
    "start_time": "2022-04-19T01:53:20.133Z"
   },
   {
    "duration": 926,
    "start_time": "2022-04-19T01:59:23.436Z"
   },
   {
    "duration": 887,
    "start_time": "2022-04-19T01:59:51.837Z"
   },
   {
    "duration": 952,
    "start_time": "2022-04-19T02:02:06.760Z"
   },
   {
    "duration": 940,
    "start_time": "2022-04-19T02:02:41.871Z"
   },
   {
    "duration": 950,
    "start_time": "2022-04-19T02:03:17.576Z"
   },
   {
    "duration": 933,
    "start_time": "2022-04-19T02:03:33.649Z"
   },
   {
    "duration": 892,
    "start_time": "2022-04-19T02:04:40.394Z"
   },
   {
    "duration": 74,
    "start_time": "2022-04-19T02:05:48.994Z"
   },
   {
    "duration": 920,
    "start_time": "2022-04-19T02:05:58.899Z"
   },
   {
    "duration": 966,
    "start_time": "2022-04-19T02:06:27.460Z"
   },
   {
    "duration": 958,
    "start_time": "2022-04-19T02:08:03.678Z"
   },
   {
    "duration": 970,
    "start_time": "2022-04-19T02:10:17.050Z"
   },
   {
    "duration": 881,
    "start_time": "2022-04-19T02:14:39.103Z"
   },
   {
    "duration": 943,
    "start_time": "2022-04-19T02:15:00.127Z"
   },
   {
    "duration": 918,
    "start_time": "2022-04-19T02:15:52.632Z"
   },
   {
    "duration": 927,
    "start_time": "2022-04-19T02:16:33.537Z"
   },
   {
    "duration": 888,
    "start_time": "2022-04-19T02:17:34.962Z"
   },
   {
    "duration": 895,
    "start_time": "2022-04-19T02:18:01.739Z"
   },
   {
    "duration": 951,
    "start_time": "2022-04-19T02:18:31.595Z"
   },
   {
    "duration": 914,
    "start_time": "2022-04-19T02:18:49.603Z"
   },
   {
    "duration": 949,
    "start_time": "2022-04-19T02:19:09.971Z"
   },
   {
    "duration": 904,
    "start_time": "2022-04-19T02:19:44.124Z"
   },
   {
    "duration": 978,
    "start_time": "2022-04-19T02:22:24.112Z"
   },
   {
    "duration": 955,
    "start_time": "2022-04-19T02:23:33.001Z"
   },
   {
    "duration": 889,
    "start_time": "2022-04-19T02:24:46.386Z"
   },
   {
    "duration": 905,
    "start_time": "2022-04-19T02:25:49.884Z"
   },
   {
    "duration": 867,
    "start_time": "2022-04-19T02:27:51.175Z"
   },
   {
    "duration": 887,
    "start_time": "2022-04-19T02:29:09.759Z"
   },
   {
    "duration": 80,
    "start_time": "2022-04-19T02:30:17.953Z"
   },
   {
    "duration": 906,
    "start_time": "2022-04-19T02:30:49.033Z"
   },
   {
    "duration": 904,
    "start_time": "2022-04-19T02:33:07.253Z"
   },
   {
    "duration": 887,
    "start_time": "2022-04-19T02:36:37.545Z"
   },
   {
    "duration": 891,
    "start_time": "2022-04-19T02:37:42.059Z"
   },
   {
    "duration": 916,
    "start_time": "2022-04-19T02:41:41.544Z"
   },
   {
    "duration": 921,
    "start_time": "2022-04-19T02:44:36.019Z"
   },
   {
    "duration": 1977,
    "start_time": "2022-04-19T02:48:55.216Z"
   },
   {
    "duration": 564,
    "start_time": "2022-04-19T02:49:14.240Z"
   },
   {
    "duration": 654,
    "start_time": "2022-04-19T02:49:20.992Z"
   },
   {
    "duration": 1069,
    "start_time": "2022-04-19T02:50:27.985Z"
   },
   {
    "duration": 873,
    "start_time": "2022-04-19T02:51:43.172Z"
   },
   {
    "duration": 949,
    "start_time": "2022-04-19T02:52:22.884Z"
   },
   {
    "duration": 880,
    "start_time": "2022-04-19T02:52:39.661Z"
   },
   {
    "duration": 927,
    "start_time": "2022-04-19T02:53:03.630Z"
   },
   {
    "duration": 959,
    "start_time": "2022-04-19T03:01:45.371Z"
   },
   {
    "duration": 997,
    "start_time": "2022-04-19T03:03:13.996Z"
   },
   {
    "duration": 957,
    "start_time": "2022-04-19T03:03:39.421Z"
   },
   {
    "duration": 434,
    "start_time": "2022-04-19T03:07:25.137Z"
   },
   {
    "duration": 77,
    "start_time": "2022-04-19T03:07:52.553Z"
   },
   {
    "duration": 413,
    "start_time": "2022-04-19T03:11:41.221Z"
   },
   {
    "duration": 921,
    "start_time": "2022-04-19T03:11:58.312Z"
   },
   {
    "duration": 959,
    "start_time": "2022-04-19T03:12:28.449Z"
   },
   {
    "duration": 979,
    "start_time": "2022-04-19T03:13:16.249Z"
   },
   {
    "duration": 960,
    "start_time": "2022-04-19T03:13:29.066Z"
   },
   {
    "duration": 72,
    "start_time": "2022-04-19T03:14:02.369Z"
   },
   {
    "duration": 936,
    "start_time": "2022-04-19T03:14:12.529Z"
   },
   {
    "duration": 898,
    "start_time": "2022-04-19T03:15:00.435Z"
   },
   {
    "duration": 948,
    "start_time": "2022-04-19T03:16:11.984Z"
   },
   {
    "duration": 943,
    "start_time": "2022-04-19T03:17:05.782Z"
   },
   {
    "duration": 887,
    "start_time": "2022-04-19T03:17:34.958Z"
   },
   {
    "duration": 917,
    "start_time": "2022-04-19T03:18:29.136Z"
   },
   {
    "duration": 6,
    "start_time": "2022-04-19T03:18:46.584Z"
   },
   {
    "duration": 60,
    "start_time": "2022-04-19T03:19:32.768Z"
   },
   {
    "duration": 5,
    "start_time": "2022-04-19T03:19:40.432Z"
   },
   {
    "duration": 5,
    "start_time": "2022-04-19T03:20:17.793Z"
   },
   {
    "duration": 24,
    "start_time": "2022-04-19T03:21:05.523Z"
   },
   {
    "duration": 6,
    "start_time": "2022-04-19T03:22:58.516Z"
   },
   {
    "duration": 25,
    "start_time": "2022-04-19T03:23:03.396Z"
   },
   {
    "duration": 24,
    "start_time": "2022-04-19T03:23:18.749Z"
   },
   {
    "duration": 4,
    "start_time": "2022-04-19T03:23:58.942Z"
   },
   {
    "duration": 24,
    "start_time": "2022-04-19T03:24:13.374Z"
   },
   {
    "duration": 21,
    "start_time": "2022-04-19T03:24:56.518Z"
   },
   {
    "duration": 5,
    "start_time": "2022-04-19T03:25:05.664Z"
   },
   {
    "duration": 6,
    "start_time": "2022-04-19T03:25:49.082Z"
   },
   {
    "duration": 68,
    "start_time": "2022-04-19T03:26:03.705Z"
   },
   {
    "duration": 6,
    "start_time": "2022-04-19T03:26:15.833Z"
   },
   {
    "duration": 71,
    "start_time": "2022-04-19T03:26:33.826Z"
   },
   {
    "duration": 6,
    "start_time": "2022-04-19T03:27:08.370Z"
   },
   {
    "duration": 6,
    "start_time": "2022-04-19T03:28:10.140Z"
   },
   {
    "duration": 6,
    "start_time": "2022-04-19T03:28:23.509Z"
   },
   {
    "duration": 5,
    "start_time": "2022-04-19T03:28:43.428Z"
   },
   {
    "duration": 82,
    "start_time": "2022-04-19T03:31:24.695Z"
   },
   {
    "duration": 15,
    "start_time": "2022-04-19T03:31:47.665Z"
   },
   {
    "duration": 4,
    "start_time": "2022-04-19T03:32:28.984Z"
   },
   {
    "duration": 15,
    "start_time": "2022-04-19T03:32:36.633Z"
   },
   {
    "duration": 7,
    "start_time": "2022-04-19T03:33:13.554Z"
   },
   {
    "duration": 265,
    "start_time": "2022-04-19T03:34:41.300Z"
   },
   {
    "duration": 177,
    "start_time": "2022-04-19T03:36:04.070Z"
   },
   {
    "duration": 149,
    "start_time": "2022-04-19T03:37:43.704Z"
   },
   {
    "duration": 99,
    "start_time": "2022-04-19T03:38:13.409Z"
   },
   {
    "duration": 105,
    "start_time": "2022-04-19T03:38:52.873Z"
   },
   {
    "duration": 1832,
    "start_time": "2022-04-19T03:39:12.938Z"
   },
   {
    "duration": 88,
    "start_time": "2022-04-19T03:39:32.621Z"
   },
   {
    "duration": 85,
    "start_time": "2022-04-19T03:39:41.713Z"
   },
   {
    "duration": 69,
    "start_time": "2022-04-19T03:41:12.709Z"
   },
   {
    "duration": 5,
    "start_time": "2022-04-19T03:42:06.886Z"
   },
   {
    "duration": 16,
    "start_time": "2022-04-19T03:42:40.278Z"
   },
   {
    "duration": 16,
    "start_time": "2022-04-19T03:42:50.718Z"
   },
   {
    "duration": 6,
    "start_time": "2022-04-19T03:43:36.703Z"
   },
   {
    "duration": 14,
    "start_time": "2022-04-19T03:51:38.250Z"
   },
   {
    "duration": 7,
    "start_time": "2022-04-19T03:52:45.403Z"
   },
   {
    "duration": 8,
    "start_time": "2022-04-19T03:53:21.683Z"
   },
   {
    "duration": 7,
    "start_time": "2022-04-19T03:53:51.789Z"
   },
   {
    "duration": 8,
    "start_time": "2022-04-19T03:54:35.189Z"
   },
   {
    "duration": 7,
    "start_time": "2022-04-19T03:54:47.318Z"
   },
   {
    "duration": 5,
    "start_time": "2022-04-19T03:54:54.942Z"
   },
   {
    "duration": 7,
    "start_time": "2022-04-19T03:55:21.310Z"
   },
   {
    "duration": 72,
    "start_time": "2022-04-19T03:55:58.175Z"
   },
   {
    "duration": 52,
    "start_time": "2022-04-19T03:56:29.432Z"
   },
   {
    "duration": 1215,
    "start_time": "2022-04-19T04:01:34.911Z"
   },
   {
    "duration": 1283,
    "start_time": "2022-04-19T04:02:30.961Z"
   },
   {
    "duration": 1071,
    "start_time": "2022-04-19T04:08:48.170Z"
   },
   {
    "duration": 1038,
    "start_time": "2022-04-19T04:08:57.169Z"
   },
   {
    "duration": 53,
    "start_time": "2022-04-19T04:09:22.409Z"
   },
   {
    "duration": 52,
    "start_time": "2022-04-19T04:09:33.563Z"
   },
   {
    "duration": 53,
    "start_time": "2022-04-19T04:09:49.065Z"
   },
   {
    "duration": 1454,
    "start_time": "2022-04-19T04:12:23.357Z"
   },
   {
    "duration": 13,
    "start_time": "2022-04-19T04:17:06.589Z"
   },
   {
    "duration": 987,
    "start_time": "2022-04-19T04:19:07.045Z"
   },
   {
    "duration": 948,
    "start_time": "2022-04-19T04:20:57.697Z"
   },
   {
    "duration": 23,
    "start_time": "2022-04-19T04:21:21.777Z"
   },
   {
    "duration": 84,
    "start_time": "2022-04-19T04:22:33.195Z"
   },
   {
    "duration": 23,
    "start_time": "2022-04-19T04:22:38.363Z"
   },
   {
    "duration": 84,
    "start_time": "2022-04-19T04:23:31.693Z"
   },
   {
    "duration": 22,
    "start_time": "2022-04-19T04:23:37.460Z"
   },
   {
    "duration": 3,
    "start_time": "2022-04-19T04:23:53.380Z"
   },
   {
    "duration": 4,
    "start_time": "2022-04-19T04:23:53.386Z"
   },
   {
    "duration": 954,
    "start_time": "2022-04-19T04:23:53.392Z"
   },
   {
    "duration": 198,
    "start_time": "2022-04-19T04:23:54.348Z"
   },
   {
    "duration": 13,
    "start_time": "2022-04-19T04:23:57.725Z"
   },
   {
    "duration": 1104,
    "start_time": "2022-04-19T04:24:50.615Z"
   },
   {
    "duration": 183,
    "start_time": "2022-04-19T04:25:03.206Z"
   },
   {
    "duration": 40,
    "start_time": "2022-04-19T04:25:30.335Z"
   },
   {
    "duration": 54,
    "start_time": "2022-04-19T04:26:45.768Z"
   },
   {
    "duration": 55,
    "start_time": "2022-04-19T04:27:11.210Z"
   },
   {
    "duration": 2038,
    "start_time": "2022-04-19T04:27:23.699Z"
   },
   {
    "duration": 54,
    "start_time": "2022-04-19T04:27:35.529Z"
   },
   {
    "duration": 3,
    "start_time": "2022-04-19T04:27:47.478Z"
   },
   {
    "duration": 4,
    "start_time": "2022-04-19T04:27:47.483Z"
   },
   {
    "duration": 856,
    "start_time": "2022-04-19T04:27:47.489Z"
   },
   {
    "duration": 195,
    "start_time": "2022-04-19T04:27:48.347Z"
   },
   {
    "duration": 68,
    "start_time": "2022-04-19T04:27:50.395Z"
   },
   {
    "duration": 32,
    "start_time": "2022-04-19T04:57:46.537Z"
   },
   {
    "duration": 66,
    "start_time": "2022-04-19T04:57:55.129Z"
   },
   {
    "duration": 43,
    "start_time": "2022-04-19T04:58:02.377Z"
   },
   {
    "duration": 51,
    "start_time": "2022-04-19T04:59:26.271Z"
   },
   {
    "duration": 53,
    "start_time": "2022-04-19T04:59:50.859Z"
   },
   {
    "duration": 51,
    "start_time": "2022-04-19T05:00:00.613Z"
   },
   {
    "duration": 51,
    "start_time": "2022-04-19T05:01:47.239Z"
   },
   {
    "duration": 16,
    "start_time": "2022-04-19T05:06:20.860Z"
   },
   {
    "duration": 2,
    "start_time": "2022-04-19T05:07:15.155Z"
   },
   {
    "duration": 4,
    "start_time": "2022-04-19T05:07:15.159Z"
   },
   {
    "duration": 917,
    "start_time": "2022-04-19T05:07:15.165Z"
   },
   {
    "duration": 200,
    "start_time": "2022-04-19T05:07:16.084Z"
   },
   {
    "duration": 16,
    "start_time": "2022-04-19T05:07:18.685Z"
   },
   {
    "duration": 1220,
    "start_time": "2022-04-19T05:07:50.622Z"
   },
   {
    "duration": 76,
    "start_time": "2022-04-19T05:08:05.231Z"
   },
   {
    "duration": 56,
    "start_time": "2022-04-19T05:08:48.751Z"
   },
   {
    "duration": 6,
    "start_time": "2022-04-19T05:09:05.519Z"
   },
   {
    "duration": 15,
    "start_time": "2022-04-19T05:09:15.816Z"
   },
   {
    "duration": 8,
    "start_time": "2022-04-19T05:09:42.920Z"
   },
   {
    "duration": 5,
    "start_time": "2022-04-19T05:10:18.305Z"
   },
   {
    "duration": 66,
    "start_time": "2022-04-19T05:10:36.209Z"
   },
   {
    "duration": 14,
    "start_time": "2022-04-19T05:10:59.465Z"
   },
   {
    "duration": 16,
    "start_time": "2022-04-19T05:11:38.691Z"
   },
   {
    "duration": 45,
    "start_time": "2022-04-19T05:11:44.954Z"
   },
   {
    "duration": 56,
    "start_time": "2022-04-19T05:12:00.147Z"
   },
   {
    "duration": 27,
    "start_time": "2022-04-19T05:12:38.292Z"
   },
   {
    "duration": 37,
    "start_time": "2022-04-19T05:13:04.558Z"
   },
   {
    "duration": 58,
    "start_time": "2022-04-19T05:13:23.613Z"
   },
   {
    "duration": 38,
    "start_time": "2022-04-19T05:13:49.893Z"
   },
   {
    "duration": 37,
    "start_time": "2022-04-19T05:14:02.901Z"
   },
   {
    "duration": 53,
    "start_time": "2022-04-19T05:14:27.798Z"
   },
   {
    "duration": 38,
    "start_time": "2022-04-19T05:14:43.590Z"
   },
   {
    "duration": 26,
    "start_time": "2022-04-19T05:14:59.222Z"
   },
   {
    "duration": 57,
    "start_time": "2022-04-19T05:15:10.567Z"
   },
   {
    "duration": 15,
    "start_time": "2022-04-19T05:15:53.487Z"
   },
   {
    "duration": 16,
    "start_time": "2022-04-19T05:16:17.985Z"
   },
   {
    "duration": 12,
    "start_time": "2022-04-19T05:16:56.049Z"
   },
   {
    "duration": 20,
    "start_time": "2022-04-19T05:17:34.050Z"
   },
   {
    "duration": 13,
    "start_time": "2022-04-19T05:17:51.066Z"
   },
   {
    "duration": 15,
    "start_time": "2022-04-19T05:18:09.707Z"
   },
   {
    "duration": 12,
    "start_time": "2022-04-19T05:18:50.315Z"
   },
   {
    "duration": 48,
    "start_time": "2022-04-20T01:25:32.523Z"
   },
   {
    "duration": 3,
    "start_time": "2022-04-20T01:25:41.272Z"
   },
   {
    "duration": 1310,
    "start_time": "2022-04-20T01:25:41.276Z"
   },
   {
    "duration": 858,
    "start_time": "2022-04-20T01:25:42.588Z"
   },
   {
    "duration": 166,
    "start_time": "2022-04-20T01:25:43.447Z"
   },
   {
    "duration": 17,
    "start_time": "2022-04-20T01:25:49.304Z"
   },
   {
    "duration": 15,
    "start_time": "2022-04-20T01:25:56.568Z"
   },
   {
    "duration": 69,
    "start_time": "2022-04-20T01:26:30.625Z"
   },
   {
    "duration": 14,
    "start_time": "2022-04-20T01:26:41.665Z"
   },
   {
    "duration": 79,
    "start_time": "2022-04-20T01:27:16.675Z"
   },
   {
    "duration": 2209,
    "start_time": "2022-04-20T01:30:54.338Z"
   },
   {
    "duration": 2154,
    "start_time": "2022-04-20T01:31:47.241Z"
   },
   {
    "duration": 2,
    "start_time": "2022-04-20T01:32:13.095Z"
   },
   {
    "duration": 5,
    "start_time": "2022-04-20T01:32:13.099Z"
   },
   {
    "duration": 831,
    "start_time": "2022-04-20T01:32:13.105Z"
   },
   {
    "duration": 168,
    "start_time": "2022-04-20T01:32:13.938Z"
   },
   {
    "duration": 2121,
    "start_time": "2022-04-20T01:32:17.465Z"
   },
   {
    "duration": 2316,
    "start_time": "2022-04-20T01:32:33.945Z"
   },
   {
    "duration": 76,
    "start_time": "2022-04-20T01:32:59.186Z"
   },
   {
    "duration": 77,
    "start_time": "2022-04-20T01:35:52.061Z"
   },
   {
    "duration": 74,
    "start_time": "2022-04-20T01:37:35.192Z"
   },
   {
    "duration": 22,
    "start_time": "2022-04-20T01:37:42.495Z"
   },
   {
    "duration": 76,
    "start_time": "2022-04-20T01:37:48.711Z"
   },
   {
    "duration": 77,
    "start_time": "2022-04-20T01:38:01.711Z"
   },
   {
    "duration": 24,
    "start_time": "2022-04-20T01:38:05.440Z"
   },
   {
    "duration": 76,
    "start_time": "2022-04-20T01:38:12.663Z"
   },
   {
    "duration": 838,
    "start_time": "2022-04-20T01:40:39.021Z"
   },
   {
    "duration": 2665,
    "start_time": "2022-04-20T01:43:12.694Z"
   },
   {
    "duration": 2499,
    "start_time": "2022-04-20T01:43:48.487Z"
   },
   {
    "duration": 57,
    "start_time": "2022-04-20T01:44:10.384Z"
   },
   {
    "duration": 57,
    "start_time": "2022-04-20T01:44:21.327Z"
   },
   {
    "duration": 2121,
    "start_time": "2022-04-20T01:44:32.528Z"
   },
   {
    "duration": 56,
    "start_time": "2022-04-20T01:44:49.009Z"
   },
   {
    "duration": 2,
    "start_time": "2022-04-20T01:47:23.759Z"
   },
   {
    "duration": 6,
    "start_time": "2022-04-20T01:47:23.763Z"
   },
   {
    "duration": 818,
    "start_time": "2022-04-20T01:47:23.771Z"
   },
   {
    "duration": 260,
    "start_time": "2022-04-20T01:47:24.590Z"
   },
   {
    "duration": 2053,
    "start_time": "2022-04-20T01:47:45.956Z"
   },
   {
    "duration": 2,
    "start_time": "2022-04-20T01:47:52.482Z"
   },
   {
    "duration": 5,
    "start_time": "2022-04-20T01:47:52.487Z"
   },
   {
    "duration": 801,
    "start_time": "2022-04-20T01:47:52.493Z"
   },
   {
    "duration": 169,
    "start_time": "2022-04-20T01:47:53.296Z"
   },
   {
    "duration": 2151,
    "start_time": "2022-04-20T01:47:57.293Z"
   },
   {
    "duration": 2,
    "start_time": "2022-04-20T01:48:25.321Z"
   },
   {
    "duration": 7,
    "start_time": "2022-04-20T01:48:25.325Z"
   },
   {
    "duration": 803,
    "start_time": "2022-04-20T01:48:25.333Z"
   },
   {
    "duration": 170,
    "start_time": "2022-04-20T01:48:26.138Z"
   },
   {
    "duration": 2154,
    "start_time": "2022-04-20T01:48:29.813Z"
   },
   {
    "duration": 2051,
    "start_time": "2022-04-20T01:48:53.269Z"
   },
   {
    "duration": 2210,
    "start_time": "2022-04-20T01:53:07.172Z"
   },
   {
    "duration": 2236,
    "start_time": "2022-04-20T01:53:29.469Z"
   },
   {
    "duration": 2097,
    "start_time": "2022-04-20T01:53:52.908Z"
   },
   {
    "duration": 2,
    "start_time": "2022-04-20T01:54:32.205Z"
   },
   {
    "duration": 5,
    "start_time": "2022-04-20T01:54:32.209Z"
   },
   {
    "duration": 785,
    "start_time": "2022-04-20T01:54:32.215Z"
   },
   {
    "duration": 172,
    "start_time": "2022-04-20T01:54:33.002Z"
   },
   {
    "duration": 2020,
    "start_time": "2022-04-20T01:54:37.301Z"
   },
   {
    "duration": 59,
    "start_time": "2022-04-20T01:54:55.925Z"
   },
   {
    "duration": 2038,
    "start_time": "2022-04-20T01:55:22.813Z"
   },
   {
    "duration": 63,
    "start_time": "2022-04-20T01:55:59.846Z"
   },
   {
    "duration": 59,
    "start_time": "2022-04-20T01:56:13.743Z"
   },
   {
    "duration": 60,
    "start_time": "2022-04-20T01:56:30.063Z"
   },
   {
    "duration": 57,
    "start_time": "2022-04-20T02:09:50.872Z"
   },
   {
    "duration": 57,
    "start_time": "2022-04-20T02:10:04.216Z"
   },
   {
    "duration": 3,
    "start_time": "2022-04-20T02:10:33.770Z"
   },
   {
    "duration": 12,
    "start_time": "2022-04-20T02:10:33.774Z"
   },
   {
    "duration": 819,
    "start_time": "2022-04-20T02:10:33.788Z"
   },
   {
    "duration": 171,
    "start_time": "2022-04-20T02:10:34.609Z"
   },
   {
    "duration": 70,
    "start_time": "2022-04-20T02:10:38.737Z"
   },
   {
    "duration": 56,
    "start_time": "2022-04-20T02:10:59.473Z"
   },
   {
    "duration": 60,
    "start_time": "2022-04-20T02:11:14.296Z"
   },
   {
    "duration": 93,
    "start_time": "2022-04-20T02:11:52.441Z"
   },
   {
    "duration": 90,
    "start_time": "2022-04-20T02:12:26.676Z"
   },
   {
    "duration": 89,
    "start_time": "2022-04-20T02:13:41.796Z"
   },
   {
    "duration": 3,
    "start_time": "2022-04-20T02:14:15.614Z"
   },
   {
    "duration": 6,
    "start_time": "2022-04-20T02:14:15.618Z"
   },
   {
    "duration": 798,
    "start_time": "2022-04-20T02:14:15.626Z"
   },
   {
    "duration": 162,
    "start_time": "2022-04-20T02:14:16.425Z"
   },
   {
    "duration": 111,
    "start_time": "2022-04-20T02:14:18.757Z"
   },
   {
    "duration": 72,
    "start_time": "2022-04-20T02:14:38.038Z"
   },
   {
    "duration": 77,
    "start_time": "2022-04-20T02:15:25.063Z"
   },
   {
    "duration": 10,
    "start_time": "2022-04-20T02:18:09.322Z"
   },
   {
    "duration": 2,
    "start_time": "2022-04-20T02:18:23.315Z"
   },
   {
    "duration": 5,
    "start_time": "2022-04-20T02:18:23.319Z"
   },
   {
    "duration": 780,
    "start_time": "2022-04-20T02:18:23.325Z"
   },
   {
    "duration": 172,
    "start_time": "2022-04-20T02:18:24.107Z"
   },
   {
    "duration": 91,
    "start_time": "2022-04-20T02:18:25.970Z"
   },
   {
    "duration": 72,
    "start_time": "2022-04-20T02:18:34.978Z"
   },
   {
    "duration": 71,
    "start_time": "2022-04-20T02:18:43.971Z"
   },
   {
    "duration": 135,
    "start_time": "2022-04-20T02:23:44.185Z"
   },
   {
    "duration": 27,
    "start_time": "2022-04-20T02:23:57.895Z"
   },
   {
    "duration": 27,
    "start_time": "2022-04-20T02:24:34.073Z"
   },
   {
    "duration": 85,
    "start_time": "2022-04-20T02:25:14.802Z"
   },
   {
    "duration": 80,
    "start_time": "2022-04-20T02:25:48.098Z"
   },
   {
    "duration": 134,
    "start_time": "2022-04-20T02:27:58.582Z"
   },
   {
    "duration": 140,
    "start_time": "2022-04-20T02:29:14.176Z"
   },
   {
    "duration": 123,
    "start_time": "2022-04-20T02:29:41.952Z"
   },
   {
    "duration": 113,
    "start_time": "2022-04-20T02:30:03.416Z"
   },
   {
    "duration": 103,
    "start_time": "2022-04-20T02:30:14.504Z"
   },
   {
    "duration": 137,
    "start_time": "2022-04-20T02:34:38.110Z"
   },
   {
    "duration": 16,
    "start_time": "2022-04-20T02:34:44.871Z"
   },
   {
    "duration": 121,
    "start_time": "2022-04-20T02:35:34.791Z"
   },
   {
    "duration": 11,
    "start_time": "2022-04-20T02:35:46.983Z"
   },
   {
    "duration": 45,
    "start_time": "2022-04-20T02:36:32.817Z"
   },
   {
    "duration": 106,
    "start_time": "2022-04-20T02:37:04.753Z"
   },
   {
    "duration": 97,
    "start_time": "2022-04-20T02:37:17.987Z"
   },
   {
    "duration": 2,
    "start_time": "2022-04-20T02:37:53.948Z"
   },
   {
    "duration": 5,
    "start_time": "2022-04-20T02:37:53.952Z"
   },
   {
    "duration": 893,
    "start_time": "2022-04-20T02:37:53.959Z"
   },
   {
    "duration": 177,
    "start_time": "2022-04-20T02:37:54.854Z"
   },
   {
    "duration": 8,
    "start_time": "2022-04-20T02:37:56.754Z"
   },
   {
    "duration": 193,
    "start_time": "2022-04-20T02:38:07.922Z"
   },
   {
    "duration": 87,
    "start_time": "2022-04-20T02:41:42.871Z"
   },
   {
    "duration": 87,
    "start_time": "2022-04-20T02:47:12.725Z"
   },
   {
    "duration": 7,
    "start_time": "2022-04-20T02:48:26.106Z"
   },
   {
    "duration": 2,
    "start_time": "2022-04-20T02:48:33.978Z"
   },
   {
    "duration": 5,
    "start_time": "2022-04-20T02:48:33.982Z"
   },
   {
    "duration": 772,
    "start_time": "2022-04-20T02:48:33.989Z"
   },
   {
    "duration": 177,
    "start_time": "2022-04-20T02:48:34.763Z"
   },
   {
    "duration": 18,
    "start_time": "2022-04-20T02:48:34.942Z"
   },
   {
    "duration": 15,
    "start_time": "2022-04-20T02:48:39.926Z"
   },
   {
    "duration": 16,
    "start_time": "2022-04-20T02:50:06.760Z"
   },
   {
    "duration": 2,
    "start_time": "2022-04-20T02:50:20.398Z"
   },
   {
    "duration": 5,
    "start_time": "2022-04-20T02:50:20.402Z"
   },
   {
    "duration": 769,
    "start_time": "2022-04-20T02:50:20.408Z"
   },
   {
    "duration": 166,
    "start_time": "2022-04-20T02:50:21.179Z"
   },
   {
    "duration": 17,
    "start_time": "2022-04-20T02:50:23.688Z"
   },
   {
    "duration": 51,
    "start_time": "2022-04-20T02:50:52.841Z"
   },
   {
    "duration": 2,
    "start_time": "2022-04-20T02:51:07.626Z"
   },
   {
    "duration": 7,
    "start_time": "2022-04-20T02:51:07.630Z"
   },
   {
    "duration": 961,
    "start_time": "2022-04-20T02:51:07.638Z"
   },
   {
    "duration": 185,
    "start_time": "2022-04-20T02:51:08.601Z"
   },
   {
    "duration": 9,
    "start_time": "2022-04-20T02:51:08.788Z"
   },
   {
    "duration": 127,
    "start_time": "2022-04-20T02:51:11.098Z"
   },
   {
    "duration": 84,
    "start_time": "2022-04-20T02:51:40.922Z"
   },
   {
    "duration": 3,
    "start_time": "2022-04-20T02:51:50.436Z"
   },
   {
    "duration": 5,
    "start_time": "2022-04-20T02:51:50.441Z"
   },
   {
    "duration": 836,
    "start_time": "2022-04-20T02:51:50.448Z"
   },
   {
    "duration": 196,
    "start_time": "2022-04-20T02:51:51.286Z"
   },
   {
    "duration": 9,
    "start_time": "2022-04-20T02:51:53.314Z"
   },
   {
    "duration": 131,
    "start_time": "2022-04-20T02:52:01.002Z"
   },
   {
    "duration": 84,
    "start_time": "2022-04-20T02:53:02.548Z"
   },
   {
    "duration": 84,
    "start_time": "2022-04-20T02:53:06.364Z"
   },
   {
    "duration": 3,
    "start_time": "2022-04-20T02:53:09.887Z"
   },
   {
    "duration": 5,
    "start_time": "2022-04-20T02:53:09.892Z"
   },
   {
    "duration": 868,
    "start_time": "2022-04-20T02:53:09.899Z"
   },
   {
    "duration": 206,
    "start_time": "2022-04-20T02:53:10.769Z"
   },
   {
    "duration": 9,
    "start_time": "2022-04-20T02:53:12.876Z"
   },
   {
    "duration": 128,
    "start_time": "2022-04-20T02:53:15.212Z"
   },
   {
    "duration": 17,
    "start_time": "2022-04-20T02:55:53.199Z"
   },
   {
    "duration": 58,
    "start_time": "2022-04-20T02:56:43.746Z"
   },
   {
    "duration": 3,
    "start_time": "2022-04-20T02:56:56.343Z"
   },
   {
    "duration": 5,
    "start_time": "2022-04-20T02:56:56.348Z"
   },
   {
    "duration": 771,
    "start_time": "2022-04-20T02:56:56.354Z"
   },
   {
    "duration": 155,
    "start_time": "2022-04-20T02:56:57.127Z"
   },
   {
    "duration": 10,
    "start_time": "2022-04-20T02:57:01.761Z"
   },
   {
    "duration": 134,
    "start_time": "2022-04-20T02:57:04.457Z"
   },
   {
    "duration": 2,
    "start_time": "2022-04-20T02:58:09.248Z"
   },
   {
    "duration": 5,
    "start_time": "2022-04-20T02:58:09.253Z"
   },
   {
    "duration": 785,
    "start_time": "2022-04-20T02:58:09.260Z"
   },
   {
    "duration": 161,
    "start_time": "2022-04-20T02:58:10.047Z"
   },
   {
    "duration": 9,
    "start_time": "2022-04-20T02:58:12.297Z"
   },
   {
    "duration": 138,
    "start_time": "2022-04-20T02:58:15.914Z"
   },
   {
    "duration": 100,
    "start_time": "2022-04-20T02:58:47.923Z"
   },
   {
    "duration": 84,
    "start_time": "2022-04-20T02:59:12.228Z"
   },
   {
    "duration": 7,
    "start_time": "2022-04-20T03:00:02.181Z"
   },
   {
    "duration": 8,
    "start_time": "2022-04-20T03:00:05.965Z"
   },
   {
    "duration": 2,
    "start_time": "2022-04-20T03:00:12.579Z"
   },
   {
    "duration": 5,
    "start_time": "2022-04-20T03:00:12.583Z"
   },
   {
    "duration": 801,
    "start_time": "2022-04-20T03:00:12.589Z"
   },
   {
    "duration": 165,
    "start_time": "2022-04-20T03:00:13.391Z"
   },
   {
    "duration": 18,
    "start_time": "2022-04-20T03:00:15.892Z"
   },
   {
    "duration": 3,
    "start_time": "2022-04-20T03:00:47.117Z"
   },
   {
    "duration": 1106,
    "start_time": "2022-04-20T03:00:47.122Z"
   },
   {
    "duration": 918,
    "start_time": "2022-04-20T03:00:48.230Z"
   },
   {
    "duration": 154,
    "start_time": "2022-04-20T03:00:49.149Z"
   },
   {
    "duration": 112,
    "start_time": "2022-04-20T03:00:49.305Z"
   },
   {
    "duration": 0,
    "start_time": "2022-04-20T03:00:49.423Z"
   },
   {
    "duration": 0,
    "start_time": "2022-04-20T03:00:49.424Z"
   },
   {
    "duration": 0,
    "start_time": "2022-04-20T03:00:49.425Z"
   },
   {
    "duration": 0,
    "start_time": "2022-04-20T03:00:49.426Z"
   },
   {
    "duration": 0,
    "start_time": "2022-04-20T03:00:49.427Z"
   },
   {
    "duration": 0,
    "start_time": "2022-04-20T03:00:49.428Z"
   },
   {
    "duration": 0,
    "start_time": "2022-04-20T03:00:49.428Z"
   },
   {
    "duration": 0,
    "start_time": "2022-04-20T03:00:49.429Z"
   },
   {
    "duration": 0,
    "start_time": "2022-04-20T03:00:49.431Z"
   },
   {
    "duration": 0,
    "start_time": "2022-04-20T03:00:49.431Z"
   },
   {
    "duration": 0,
    "start_time": "2022-04-20T03:00:49.432Z"
   },
   {
    "duration": 0,
    "start_time": "2022-04-20T03:00:49.433Z"
   },
   {
    "duration": 0,
    "start_time": "2022-04-20T03:00:49.434Z"
   },
   {
    "duration": 0,
    "start_time": "2022-04-20T03:00:49.435Z"
   },
   {
    "duration": 0,
    "start_time": "2022-04-20T03:00:49.436Z"
   },
   {
    "duration": 0,
    "start_time": "2022-04-20T03:00:49.437Z"
   },
   {
    "duration": 0,
    "start_time": "2022-04-20T03:00:49.438Z"
   },
   {
    "duration": 0,
    "start_time": "2022-04-20T03:00:49.439Z"
   },
   {
    "duration": 0,
    "start_time": "2022-04-20T03:00:49.440Z"
   },
   {
    "duration": 0,
    "start_time": "2022-04-20T03:00:49.441Z"
   },
   {
    "duration": 18,
    "start_time": "2022-04-20T03:01:04.304Z"
   },
   {
    "duration": 15,
    "start_time": "2022-04-20T03:01:12.162Z"
   },
   {
    "duration": 151,
    "start_time": "2022-04-20T03:02:22.522Z"
   },
   {
    "duration": 115,
    "start_time": "2022-04-20T03:04:16.021Z"
   },
   {
    "duration": 101,
    "start_time": "2022-04-20T03:06:08.591Z"
   },
   {
    "duration": 99,
    "start_time": "2022-04-20T03:08:56.883Z"
   },
   {
    "duration": 103,
    "start_time": "2022-04-20T03:09:07.659Z"
   },
   {
    "duration": 102,
    "start_time": "2022-04-20T03:09:39.133Z"
   },
   {
    "duration": 2,
    "start_time": "2022-04-20T03:09:45.957Z"
   },
   {
    "duration": 7,
    "start_time": "2022-04-20T03:09:45.961Z"
   },
   {
    "duration": 831,
    "start_time": "2022-04-20T03:09:45.969Z"
   },
   {
    "duration": 176,
    "start_time": "2022-04-20T03:09:46.801Z"
   },
   {
    "duration": 8,
    "start_time": "2022-04-20T03:09:49.421Z"
   },
   {
    "duration": 143,
    "start_time": "2022-04-20T03:09:54.427Z"
   },
   {
    "duration": 1597,
    "start_time": "2022-04-20T03:10:32.445Z"
   },
   {
    "duration": 1483,
    "start_time": "2022-04-20T03:10:36.158Z"
   },
   {
    "duration": 1683,
    "start_time": "2022-04-20T03:10:40.884Z"
   },
   {
    "duration": 3,
    "start_time": "2022-04-20T03:10:49.745Z"
   },
   {
    "duration": 48,
    "start_time": "2022-04-20T03:10:49.750Z"
   },
   {
    "duration": 824,
    "start_time": "2022-04-20T03:10:49.800Z"
   },
   {
    "duration": 167,
    "start_time": "2022-04-20T03:10:50.626Z"
   },
   {
    "duration": 8,
    "start_time": "2022-04-20T03:10:52.837Z"
   },
   {
    "duration": 1716,
    "start_time": "2022-04-20T03:11:01.341Z"
   },
   {
    "duration": 134,
    "start_time": "2022-04-20T03:11:35.837Z"
   },
   {
    "duration": 99,
    "start_time": "2022-04-20T03:11:43.911Z"
   },
   {
    "duration": 1535,
    "start_time": "2022-04-20T03:12:02.662Z"
   },
   {
    "duration": 66,
    "start_time": "2022-04-20T03:12:39.550Z"
   },
   {
    "duration": 66,
    "start_time": "2022-04-20T03:13:17.736Z"
   },
   {
    "duration": 71,
    "start_time": "2022-04-20T03:13:32.480Z"
   },
   {
    "duration": 57,
    "start_time": "2022-04-20T03:13:49.233Z"
   },
   {
    "duration": 71,
    "start_time": "2022-04-20T03:14:01.297Z"
   },
   {
    "duration": 56,
    "start_time": "2022-04-20T03:14:28.977Z"
   },
   {
    "duration": 70,
    "start_time": "2022-04-20T03:14:42.785Z"
   },
   {
    "duration": 63,
    "start_time": "2022-04-20T03:14:55.843Z"
   },
   {
    "duration": 64,
    "start_time": "2022-04-20T03:15:20.763Z"
   },
   {
    "duration": 135,
    "start_time": "2022-04-20T03:15:41.821Z"
   },
   {
    "duration": 70,
    "start_time": "2022-04-20T03:16:11.763Z"
   },
   {
    "duration": 62,
    "start_time": "2022-04-20T03:16:33.134Z"
   },
   {
    "duration": 61,
    "start_time": "2022-04-20T03:16:40.732Z"
   },
   {
    "duration": 64,
    "start_time": "2022-04-20T03:17:12.893Z"
   },
   {
    "duration": 105,
    "start_time": "2022-04-20T03:18:48.792Z"
   },
   {
    "duration": 99,
    "start_time": "2022-04-20T03:23:22.015Z"
   },
   {
    "duration": 95,
    "start_time": "2022-04-20T03:24:53.254Z"
   },
   {
    "duration": 99,
    "start_time": "2022-04-20T03:26:04.504Z"
   },
   {
    "duration": 159,
    "start_time": "2022-04-20T03:34:28.290Z"
   },
   {
    "duration": 39,
    "start_time": "2022-04-20T03:34:42.137Z"
   },
   {
    "duration": 46,
    "start_time": "2022-04-20T03:49:55.444Z"
   },
   {
    "duration": 101,
    "start_time": "2022-04-20T03:50:15.588Z"
   },
   {
    "duration": 49,
    "start_time": "2022-04-20T03:50:54.758Z"
   },
   {
    "duration": 52,
    "start_time": "2022-04-20T03:51:18.758Z"
   },
   {
    "duration": 50,
    "start_time": "2022-04-20T03:51:51.423Z"
   },
   {
    "duration": 51,
    "start_time": "2022-04-20T03:53:23.376Z"
   },
   {
    "duration": 48,
    "start_time": "2022-04-20T03:53:36.473Z"
   },
   {
    "duration": 140,
    "start_time": "2022-04-20T03:53:55.794Z"
   },
   {
    "duration": 132,
    "start_time": "2022-04-20T03:54:19.635Z"
   },
   {
    "duration": 109,
    "start_time": "2022-04-20T03:54:36.503Z"
   },
   {
    "duration": 154,
    "start_time": "2022-04-20T03:55:02.771Z"
   },
   {
    "duration": 97,
    "start_time": "2022-04-20T03:55:07.732Z"
   },
   {
    "duration": 44,
    "start_time": "2022-04-20T04:27:25.388Z"
   },
   {
    "duration": 43,
    "start_time": "2022-04-20T04:28:09.755Z"
   },
   {
    "duration": 101,
    "start_time": "2022-04-20T04:28:31.549Z"
   },
   {
    "duration": 118,
    "start_time": "2022-04-20T04:30:13.975Z"
   },
   {
    "duration": 136,
    "start_time": "2022-04-20T04:30:52.096Z"
   },
   {
    "duration": 123,
    "start_time": "2022-04-20T04:44:55.264Z"
   },
   {
    "duration": 71,
    "start_time": "2022-04-20T04:45:24.569Z"
   },
   {
    "duration": 72,
    "start_time": "2022-04-20T04:45:37.602Z"
   },
   {
    "duration": 72,
    "start_time": "2022-04-20T04:46:05.961Z"
   },
   {
    "duration": 70,
    "start_time": "2022-04-20T04:46:22.618Z"
   },
   {
    "duration": 128,
    "start_time": "2022-04-20T04:46:35.027Z"
   },
   {
    "duration": 6,
    "start_time": "2022-04-20T04:47:57.237Z"
   },
   {
    "duration": 2164,
    "start_time": "2022-04-20T04:48:01.867Z"
   },
   {
    "duration": 6,
    "start_time": "2022-04-20T04:49:59.550Z"
   },
   {
    "duration": 106,
    "start_time": "2022-04-20T04:50:04.654Z"
   },
   {
    "duration": 97,
    "start_time": "2022-04-20T04:50:22.703Z"
   },
   {
    "duration": 129,
    "start_time": "2022-04-20T04:54:51.198Z"
   },
   {
    "duration": 33,
    "start_time": "2022-04-20T04:55:14.425Z"
   },
   {
    "duration": 2,
    "start_time": "2022-04-20T04:55:29.599Z"
   },
   {
    "duration": 9,
    "start_time": "2022-04-20T04:55:29.603Z"
   },
   {
    "duration": 909,
    "start_time": "2022-04-20T04:55:29.614Z"
   },
   {
    "duration": 170,
    "start_time": "2022-04-20T04:55:30.525Z"
   },
   {
    "duration": 17,
    "start_time": "2022-04-20T04:55:33.126Z"
   },
   {
    "duration": 2082,
    "start_time": "2022-04-20T04:56:47.448Z"
   },
   {
    "duration": 2206,
    "start_time": "2022-04-20T04:57:09.959Z"
   },
   {
    "duration": 123,
    "start_time": "2022-04-20T04:57:36.881Z"
   },
   {
    "duration": 11,
    "start_time": "2022-04-20T04:57:54.072Z"
   },
   {
    "duration": 2,
    "start_time": "2022-04-20T04:58:09.869Z"
   },
   {
    "duration": 6,
    "start_time": "2022-04-20T04:58:09.873Z"
   },
   {
    "duration": 764,
    "start_time": "2022-04-20T04:58:09.880Z"
   },
   {
    "duration": 162,
    "start_time": "2022-04-20T04:58:10.645Z"
   },
   {
    "duration": 124,
    "start_time": "2022-04-20T04:58:13.281Z"
   },
   {
    "duration": 13,
    "start_time": "2022-04-20T04:59:19.691Z"
   },
   {
    "duration": 12,
    "start_time": "2022-04-20T04:59:28.347Z"
   },
   {
    "duration": 3,
    "start_time": "2022-04-20T04:59:34.900Z"
   },
   {
    "duration": 8,
    "start_time": "2022-04-20T04:59:34.904Z"
   },
   {
    "duration": 778,
    "start_time": "2022-04-20T04:59:34.914Z"
   },
   {
    "duration": 165,
    "start_time": "2022-04-20T04:59:35.693Z"
   },
   {
    "duration": 142,
    "start_time": "2022-04-20T04:59:35.860Z"
   },
   {
    "duration": 13,
    "start_time": "2022-04-20T04:59:37.876Z"
   },
   {
    "duration": 2,
    "start_time": "2022-04-20T05:00:06.861Z"
   },
   {
    "duration": 9,
    "start_time": "2022-04-20T05:00:06.865Z"
   },
   {
    "duration": 828,
    "start_time": "2022-04-20T05:00:06.875Z"
   },
   {
    "duration": 187,
    "start_time": "2022-04-20T05:00:07.705Z"
   },
   {
    "duration": 190,
    "start_time": "2022-04-20T05:00:10.363Z"
   },
   {
    "duration": 20,
    "start_time": "2022-04-20T05:01:09.325Z"
   },
   {
    "duration": 18,
    "start_time": "2022-04-20T05:01:23.757Z"
   },
   {
    "duration": 19,
    "start_time": "2022-04-20T05:01:43.582Z"
   },
   {
    "duration": 39,
    "start_time": "2022-04-20T05:01:59.070Z"
   },
   {
    "duration": 41,
    "start_time": "2022-04-20T05:02:17.719Z"
   },
   {
    "duration": 31,
    "start_time": "2022-04-20T05:05:37.572Z"
   },
   {
    "duration": 8,
    "start_time": "2022-04-20T05:06:01.603Z"
   },
   {
    "duration": 2,
    "start_time": "2022-04-20T05:06:07.607Z"
   },
   {
    "duration": 6,
    "start_time": "2022-04-20T05:06:07.611Z"
   },
   {
    "duration": 792,
    "start_time": "2022-04-20T05:06:07.618Z"
   },
   {
    "duration": 158,
    "start_time": "2022-04-20T05:06:08.424Z"
   },
   {
    "duration": 121,
    "start_time": "2022-04-20T05:06:10.795Z"
   },
   {
    "duration": 27,
    "start_time": "2022-04-20T05:06:28.756Z"
   },
   {
    "duration": 30,
    "start_time": "2022-04-20T05:07:08.877Z"
   },
   {
    "duration": 31,
    "start_time": "2022-04-20T05:07:26.533Z"
   },
   {
    "duration": 31,
    "start_time": "2022-04-20T05:07:37.332Z"
   },
   {
    "duration": 2,
    "start_time": "2022-04-20T05:07:44.613Z"
   },
   {
    "duration": 4,
    "start_time": "2022-04-20T05:07:44.617Z"
   },
   {
    "duration": 828,
    "start_time": "2022-04-20T05:07:44.623Z"
   },
   {
    "duration": 178,
    "start_time": "2022-04-20T05:07:45.453Z"
   },
   {
    "duration": 121,
    "start_time": "2022-04-20T05:07:47.388Z"
   },
   {
    "duration": 55,
    "start_time": "2022-04-20T05:08:13.982Z"
   },
   {
    "duration": 52,
    "start_time": "2022-04-20T05:08:39.591Z"
   },
   {
    "duration": 51,
    "start_time": "2022-04-20T05:09:27.487Z"
   },
   {
    "duration": 55,
    "start_time": "2022-04-20T05:10:15.761Z"
   },
   {
    "duration": 57,
    "start_time": "2022-04-20T05:10:42.146Z"
   },
   {
    "duration": 43,
    "start_time": "2022-04-20T05:11:33.923Z"
   },
   {
    "duration": 18,
    "start_time": "2022-04-20T05:13:58.437Z"
   },
   {
    "duration": 45,
    "start_time": "2022-04-20T05:14:12.324Z"
   },
   {
    "duration": 42,
    "start_time": "2022-04-20T05:14:59.630Z"
   },
   {
    "duration": 2,
    "start_time": "2022-04-20T05:15:06.270Z"
   },
   {
    "duration": 10,
    "start_time": "2022-04-20T05:15:06.274Z"
   },
   {
    "duration": 883,
    "start_time": "2022-04-20T05:15:06.286Z"
   },
   {
    "duration": 183,
    "start_time": "2022-04-20T05:15:07.171Z"
   },
   {
    "duration": 175,
    "start_time": "2022-04-20T05:15:09.462Z"
   },
   {
    "duration": 45,
    "start_time": "2022-04-20T05:16:33.785Z"
   },
   {
    "duration": 22,
    "start_time": "2022-04-20T05:16:44.512Z"
   },
   {
    "duration": 2,
    "start_time": "2022-04-20T05:16:55.976Z"
   },
   {
    "duration": 18,
    "start_time": "2022-04-20T05:16:55.979Z"
   },
   {
    "duration": 844,
    "start_time": "2022-04-20T05:16:55.999Z"
   },
   {
    "duration": 179,
    "start_time": "2022-04-20T05:16:56.845Z"
   },
   {
    "duration": 146,
    "start_time": "2022-04-20T05:17:02.040Z"
   },
   {
    "duration": 23,
    "start_time": "2022-04-20T05:17:39.009Z"
   },
   {
    "duration": 3,
    "start_time": "2022-04-20T05:17:46.620Z"
   },
   {
    "duration": 8,
    "start_time": "2022-04-20T05:17:46.625Z"
   },
   {
    "duration": 828,
    "start_time": "2022-04-20T05:17:46.635Z"
   },
   {
    "duration": 181,
    "start_time": "2022-04-20T05:17:47.465Z"
   },
   {
    "duration": 161,
    "start_time": "2022-04-20T05:17:52.905Z"
   },
   {
    "duration": 31,
    "start_time": "2022-04-20T05:18:06.098Z"
   },
   {
    "duration": 2,
    "start_time": "2022-04-20T05:18:12.965Z"
   },
   {
    "duration": 6,
    "start_time": "2022-04-20T05:18:12.969Z"
   },
   {
    "duration": 857,
    "start_time": "2022-04-20T05:18:12.976Z"
   },
   {
    "duration": 178,
    "start_time": "2022-04-20T05:18:13.834Z"
   },
   {
    "duration": 144,
    "start_time": "2022-04-20T05:18:16.089Z"
   },
   {
    "duration": 9,
    "start_time": "2022-04-20T14:09:48.279Z"
   },
   {
    "duration": 51,
    "start_time": "2022-04-20T14:10:15.594Z"
   },
   {
    "duration": 2,
    "start_time": "2022-04-20T14:10:20.583Z"
   },
   {
    "duration": 1248,
    "start_time": "2022-04-20T14:10:20.587Z"
   },
   {
    "duration": 940,
    "start_time": "2022-04-20T14:10:21.837Z"
   },
   {
    "duration": 182,
    "start_time": "2022-04-20T14:10:22.779Z"
   },
   {
    "duration": 265,
    "start_time": "2022-04-20T14:10:25.408Z"
   },
   {
    "duration": 68,
    "start_time": "2022-04-20T14:11:33.718Z"
   },
   {
    "duration": 3,
    "start_time": "2022-04-20T14:11:50.983Z"
   },
   {
    "duration": 7,
    "start_time": "2022-04-20T14:11:50.988Z"
   },
   {
    "duration": 1067,
    "start_time": "2022-04-20T14:11:50.997Z"
   },
   {
    "duration": 184,
    "start_time": "2022-04-20T14:11:52.065Z"
   },
   {
    "duration": 226,
    "start_time": "2022-04-20T14:11:54.941Z"
   },
   {
    "duration": 64,
    "start_time": "2022-04-20T14:13:11.439Z"
   },
   {
    "duration": 306,
    "start_time": "2022-04-20T14:13:54.849Z"
   },
   {
    "duration": 53,
    "start_time": "2022-04-20T14:25:39.386Z"
   },
   {
    "duration": 3,
    "start_time": "2022-04-20T14:25:55.673Z"
   },
   {
    "duration": 1363,
    "start_time": "2022-04-20T14:25:55.678Z"
   },
   {
    "duration": 1616,
    "start_time": "2022-04-20T14:25:57.043Z"
   },
   {
    "duration": 257,
    "start_time": "2022-04-20T14:25:58.661Z"
   },
   {
    "duration": 338,
    "start_time": "2022-04-20T14:26:01.378Z"
   },
   {
    "duration": 262,
    "start_time": "2022-04-20T14:28:43.933Z"
   },
   {
    "duration": 44,
    "start_time": "2022-04-20T14:29:22.879Z"
   },
   {
    "duration": 4,
    "start_time": "2022-04-20T23:51:28.886Z"
   },
   {
    "duration": 1297,
    "start_time": "2022-04-20T23:51:28.891Z"
   },
   {
    "duration": 940,
    "start_time": "2022-04-20T23:51:30.190Z"
   },
   {
    "duration": 176,
    "start_time": "2022-04-20T23:51:31.132Z"
   },
   {
    "duration": 144,
    "start_time": "2022-04-20T23:51:33.624Z"
   },
   {
    "duration": 43,
    "start_time": "2022-04-20T23:58:53.266Z"
   },
   {
    "duration": 2,
    "start_time": "2022-04-20T23:58:58.935Z"
   },
   {
    "duration": 4,
    "start_time": "2022-04-20T23:58:58.939Z"
   },
   {
    "duration": 913,
    "start_time": "2022-04-20T23:58:58.945Z"
   },
   {
    "duration": 185,
    "start_time": "2022-04-20T23:58:59.859Z"
   },
   {
    "duration": 165,
    "start_time": "2022-04-20T23:59:01.490Z"
   },
   {
    "duration": 48,
    "start_time": "2022-04-20T23:59:15.490Z"
   },
   {
    "duration": 45,
    "start_time": "2022-04-20T23:59:30.675Z"
   },
   {
    "duration": 2,
    "start_time": "2022-04-21T00:00:02.255Z"
   },
   {
    "duration": 22,
    "start_time": "2022-04-21T00:00:02.259Z"
   },
   {
    "duration": 887,
    "start_time": "2022-04-21T00:00:02.283Z"
   },
   {
    "duration": 193,
    "start_time": "2022-04-21T00:00:03.172Z"
   },
   {
    "duration": 181,
    "start_time": "2022-04-21T00:00:05.715Z"
   },
   {
    "duration": 50,
    "start_time": "2022-04-21T00:01:49.013Z"
   },
   {
    "duration": 51,
    "start_time": "2022-04-21T00:02:09.365Z"
   },
   {
    "duration": 54,
    "start_time": "2022-04-21T00:02:14.349Z"
   },
   {
    "duration": 3,
    "start_time": "2022-04-21T00:02:23.726Z"
   },
   {
    "duration": 5,
    "start_time": "2022-04-21T00:02:23.731Z"
   },
   {
    "duration": 914,
    "start_time": "2022-04-21T00:02:23.738Z"
   },
   {
    "duration": 183,
    "start_time": "2022-04-21T00:02:24.654Z"
   },
   {
    "duration": 169,
    "start_time": "2022-04-21T00:02:31.887Z"
   },
   {
    "duration": 47,
    "start_time": "2022-04-21T00:03:31.464Z"
   },
   {
    "duration": 50,
    "start_time": "2022-04-21T00:04:11.440Z"
   },
   {
    "duration": 2,
    "start_time": "2022-04-21T00:04:17.784Z"
   },
   {
    "duration": 4,
    "start_time": "2022-04-21T00:04:17.789Z"
   },
   {
    "duration": 989,
    "start_time": "2022-04-21T00:04:17.794Z"
   },
   {
    "duration": 204,
    "start_time": "2022-04-21T00:04:18.785Z"
   },
   {
    "duration": 154,
    "start_time": "2022-04-21T00:04:21.073Z"
   },
   {
    "duration": 53,
    "start_time": "2022-04-21T00:06:10.699Z"
   },
   {
    "duration": 2,
    "start_time": "2022-04-21T00:06:14.495Z"
   },
   {
    "duration": 7,
    "start_time": "2022-04-21T00:06:14.500Z"
   },
   {
    "duration": 999,
    "start_time": "2022-04-21T00:06:14.509Z"
   },
   {
    "duration": 206,
    "start_time": "2022-04-21T00:06:15.511Z"
   },
   {
    "duration": 216,
    "start_time": "2022-04-21T00:06:15.720Z"
   },
   {
    "duration": 56,
    "start_time": "2022-04-21T00:06:18.651Z"
   },
   {
    "duration": 52,
    "start_time": "2022-04-21T00:06:28.684Z"
   },
   {
    "duration": 3,
    "start_time": "2022-04-21T00:06:31.894Z"
   },
   {
    "duration": 7,
    "start_time": "2022-04-21T00:06:31.899Z"
   },
   {
    "duration": 853,
    "start_time": "2022-04-21T00:06:31.907Z"
   },
   {
    "duration": 186,
    "start_time": "2022-04-21T00:06:32.762Z"
   },
   {
    "duration": 195,
    "start_time": "2022-04-21T00:06:32.950Z"
   },
   {
    "duration": 52,
    "start_time": "2022-04-21T00:08:00.902Z"
   },
   {
    "duration": 112,
    "start_time": "2022-04-21T00:08:21.564Z"
   },
   {
    "duration": 52,
    "start_time": "2022-04-21T00:08:31.156Z"
   },
   {
    "duration": 53,
    "start_time": "2022-04-21T00:11:49.218Z"
   },
   {
    "duration": 2,
    "start_time": "2022-04-21T00:13:05.692Z"
   },
   {
    "duration": 4,
    "start_time": "2022-04-21T00:13:05.696Z"
   },
   {
    "duration": 909,
    "start_time": "2022-04-21T00:13:05.702Z"
   },
   {
    "duration": 194,
    "start_time": "2022-04-21T00:13:06.613Z"
   },
   {
    "duration": 191,
    "start_time": "2022-04-21T00:13:11.131Z"
   },
   {
    "duration": 39,
    "start_time": "2022-04-21T00:14:43.806Z"
   },
   {
    "duration": 41,
    "start_time": "2022-04-21T00:15:54.455Z"
   },
   {
    "duration": 2,
    "start_time": "2022-04-21T00:16:01.432Z"
   },
   {
    "duration": 6,
    "start_time": "2022-04-21T00:16:01.436Z"
   },
   {
    "duration": 887,
    "start_time": "2022-04-21T00:16:01.444Z"
   },
   {
    "duration": 194,
    "start_time": "2022-04-21T00:16:02.332Z"
   },
   {
    "duration": 205,
    "start_time": "2022-04-21T00:16:04.591Z"
   },
   {
    "duration": 42,
    "start_time": "2022-04-21T00:16:38.166Z"
   },
   {
    "duration": 3,
    "start_time": "2022-04-21T00:16:46.762Z"
   },
   {
    "duration": 6,
    "start_time": "2022-04-21T00:16:46.766Z"
   },
   {
    "duration": 907,
    "start_time": "2022-04-21T00:16:46.773Z"
   },
   {
    "duration": 194,
    "start_time": "2022-04-21T00:16:47.682Z"
   },
   {
    "duration": 151,
    "start_time": "2022-04-21T00:16:49.575Z"
   },
   {
    "duration": 46,
    "start_time": "2022-04-21T00:17:11.687Z"
   },
   {
    "duration": 43,
    "start_time": "2022-04-21T00:17:38.880Z"
   },
   {
    "duration": 2,
    "start_time": "2022-04-21T00:17:57.602Z"
   },
   {
    "duration": 5,
    "start_time": "2022-04-21T00:17:57.606Z"
   },
   {
    "duration": 897,
    "start_time": "2022-04-21T00:17:57.612Z"
   },
   {
    "duration": 169,
    "start_time": "2022-04-21T00:17:58.510Z"
   },
   {
    "duration": 2,
    "start_time": "2022-04-21T00:20:08.451Z"
   },
   {
    "duration": 5,
    "start_time": "2022-04-21T00:20:08.455Z"
   },
   {
    "duration": 913,
    "start_time": "2022-04-21T00:20:08.462Z"
   },
   {
    "duration": 194,
    "start_time": "2022-04-21T00:20:09.377Z"
   },
   {
    "duration": 160,
    "start_time": "2022-04-21T00:20:09.573Z"
   },
   {
    "duration": 8,
    "start_time": "2022-04-21T00:20:09.735Z"
   },
   {
    "duration": 0,
    "start_time": "2022-04-21T00:20:09.745Z"
   },
   {
    "duration": 0,
    "start_time": "2022-04-21T00:20:09.746Z"
   },
   {
    "duration": 0,
    "start_time": "2022-04-21T00:20:09.747Z"
   },
   {
    "duration": 0,
    "start_time": "2022-04-21T00:20:09.749Z"
   },
   {
    "duration": 0,
    "start_time": "2022-04-21T00:20:09.750Z"
   },
   {
    "duration": 0,
    "start_time": "2022-04-21T00:20:09.751Z"
   },
   {
    "duration": 0,
    "start_time": "2022-04-21T00:20:09.752Z"
   },
   {
    "duration": 0,
    "start_time": "2022-04-21T00:20:09.753Z"
   },
   {
    "duration": 0,
    "start_time": "2022-04-21T00:20:09.754Z"
   },
   {
    "duration": 0,
    "start_time": "2022-04-21T00:20:09.754Z"
   },
   {
    "duration": 0,
    "start_time": "2022-04-21T00:20:09.756Z"
   },
   {
    "duration": 0,
    "start_time": "2022-04-21T00:20:09.757Z"
   },
   {
    "duration": 0,
    "start_time": "2022-04-21T00:20:09.757Z"
   },
   {
    "duration": 0,
    "start_time": "2022-04-21T00:20:09.758Z"
   },
   {
    "duration": 0,
    "start_time": "2022-04-21T00:20:09.759Z"
   },
   {
    "duration": 0,
    "start_time": "2022-04-21T00:20:09.760Z"
   },
   {
    "duration": 0,
    "start_time": "2022-04-21T00:20:09.761Z"
   },
   {
    "duration": 0,
    "start_time": "2022-04-21T00:20:09.762Z"
   },
   {
    "duration": 0,
    "start_time": "2022-04-21T00:20:09.763Z"
   },
   {
    "duration": 40,
    "start_time": "2022-04-21T00:20:53.885Z"
   },
   {
    "duration": 37,
    "start_time": "2022-04-21T00:21:49.254Z"
   },
   {
    "duration": 2,
    "start_time": "2022-04-21T00:22:03.857Z"
   },
   {
    "duration": 5,
    "start_time": "2022-04-21T00:22:03.861Z"
   },
   {
    "duration": 966,
    "start_time": "2022-04-21T00:22:03.868Z"
   },
   {
    "duration": 191,
    "start_time": "2022-04-21T00:22:04.836Z"
   },
   {
    "duration": 149,
    "start_time": "2022-04-21T00:22:06.630Z"
   },
   {
    "duration": 64,
    "start_time": "2022-04-21T00:22:18.989Z"
   },
   {
    "duration": 41,
    "start_time": "2022-04-21T00:22:32.654Z"
   },
   {
    "duration": 37,
    "start_time": "2022-04-21T00:30:58.339Z"
   },
   {
    "duration": 50,
    "start_time": "2022-04-21T00:39:58.831Z"
   },
   {
    "duration": 39,
    "start_time": "2022-04-21T00:40:10.023Z"
   },
   {
    "duration": 50,
    "start_time": "2022-04-21T00:40:23.023Z"
   },
   {
    "duration": 55,
    "start_time": "2022-04-21T00:47:35.394Z"
   },
   {
    "duration": 1041,
    "start_time": "2022-04-21T00:50:00.420Z"
   },
   {
    "duration": 1146,
    "start_time": "2022-04-21T00:50:07.683Z"
   },
   {
    "duration": 54,
    "start_time": "2022-04-21T00:50:29.932Z"
   },
   {
    "duration": 52,
    "start_time": "2022-04-21T00:50:42.691Z"
   },
   {
    "duration": 61,
    "start_time": "2022-04-21T00:50:51.261Z"
   },
   {
    "duration": 55,
    "start_time": "2022-04-21T00:52:36.334Z"
   },
   {
    "duration": 73,
    "start_time": "2022-04-21T00:53:15.927Z"
   },
   {
    "duration": 290,
    "start_time": "2022-04-21T01:01:43.833Z"
   },
   {
    "duration": 1057,
    "start_time": "2022-04-21T01:02:10.778Z"
   },
   {
    "duration": 2,
    "start_time": "2022-04-21T01:02:35.345Z"
   },
   {
    "duration": 5,
    "start_time": "2022-04-21T01:02:35.349Z"
   },
   {
    "duration": 871,
    "start_time": "2022-04-21T01:02:35.355Z"
   },
   {
    "duration": 188,
    "start_time": "2022-04-21T01:02:36.227Z"
   },
   {
    "duration": 396,
    "start_time": "2022-04-21T01:02:42.650Z"
   },
   {
    "duration": 68,
    "start_time": "2022-04-21T01:03:07.411Z"
   },
   {
    "duration": 62,
    "start_time": "2022-04-21T01:04:40.597Z"
   },
   {
    "duration": 3,
    "start_time": "2022-04-21T01:04:47.265Z"
   },
   {
    "duration": 5,
    "start_time": "2022-04-21T01:04:47.269Z"
   },
   {
    "duration": 860,
    "start_time": "2022-04-21T01:04:47.275Z"
   },
   {
    "duration": 178,
    "start_time": "2022-04-21T01:04:48.137Z"
   },
   {
    "duration": 187,
    "start_time": "2022-04-21T01:04:50.333Z"
   },
   {
    "duration": 65,
    "start_time": "2022-04-21T01:05:03.743Z"
   },
   {
    "duration": 2,
    "start_time": "2022-04-21T01:05:10.221Z"
   },
   {
    "duration": 5,
    "start_time": "2022-04-21T01:05:10.225Z"
   },
   {
    "duration": 909,
    "start_time": "2022-04-21T01:05:10.232Z"
   },
   {
    "duration": 190,
    "start_time": "2022-04-21T01:05:11.143Z"
   },
   {
    "duration": 200,
    "start_time": "2022-04-21T01:05:16.989Z"
   },
   {
    "duration": 75,
    "start_time": "2022-04-21T01:08:19.201Z"
   },
   {
    "duration": 3,
    "start_time": "2022-04-21T01:08:24.601Z"
   },
   {
    "duration": 4,
    "start_time": "2022-04-21T01:08:24.606Z"
   },
   {
    "duration": 857,
    "start_time": "2022-04-21T01:08:24.611Z"
   },
   {
    "duration": 185,
    "start_time": "2022-04-21T01:08:25.470Z"
   },
   {
    "duration": 227,
    "start_time": "2022-04-21T01:08:27.313Z"
   },
   {
    "duration": 79,
    "start_time": "2022-04-21T01:11:59.199Z"
   },
   {
    "duration": 3,
    "start_time": "2022-04-21T01:12:06.323Z"
   },
   {
    "duration": 5,
    "start_time": "2022-04-21T01:12:06.328Z"
   },
   {
    "duration": 896,
    "start_time": "2022-04-21T01:12:06.335Z"
   },
   {
    "duration": 189,
    "start_time": "2022-04-21T01:12:07.232Z"
   },
   {
    "duration": 465,
    "start_time": "2022-04-21T01:12:09.086Z"
   },
   {
    "duration": 306,
    "start_time": "2022-04-21T01:16:22.579Z"
   },
   {
    "duration": 2,
    "start_time": "2022-04-21T01:16:37.146Z"
   },
   {
    "duration": 6,
    "start_time": "2022-04-21T01:16:37.150Z"
   },
   {
    "duration": 879,
    "start_time": "2022-04-21T01:16:37.158Z"
   },
   {
    "duration": 188,
    "start_time": "2022-04-21T01:16:38.039Z"
   },
   {
    "duration": 1618,
    "start_time": "2022-04-21T01:16:38.230Z"
   },
   {
    "duration": 1590,
    "start_time": "2022-04-21T01:16:40.635Z"
   },
   {
    "duration": 33,
    "start_time": "2022-04-21T01:17:16.627Z"
   },
   {
    "duration": 21,
    "start_time": "2022-04-21T01:17:42.389Z"
   },
   {
    "duration": 2,
    "start_time": "2022-04-21T01:17:46.236Z"
   },
   {
    "duration": 5,
    "start_time": "2022-04-21T01:17:46.240Z"
   },
   {
    "duration": 871,
    "start_time": "2022-04-21T01:17:46.247Z"
   },
   {
    "duration": 177,
    "start_time": "2022-04-21T01:17:47.119Z"
   },
   {
    "duration": 35,
    "start_time": "2022-04-21T01:17:50.116Z"
   },
   {
    "duration": 119,
    "start_time": "2022-04-21T01:18:07.820Z"
   },
   {
    "duration": 24,
    "start_time": "2022-04-21T01:19:56.504Z"
   },
   {
    "duration": 2,
    "start_time": "2022-04-21T01:20:03.403Z"
   },
   {
    "duration": 7,
    "start_time": "2022-04-21T01:20:03.407Z"
   },
   {
    "duration": 904,
    "start_time": "2022-04-21T01:20:03.416Z"
   },
   {
    "duration": 191,
    "start_time": "2022-04-21T01:20:04.322Z"
   },
   {
    "duration": 445,
    "start_time": "2022-04-21T01:20:07.271Z"
   },
   {
    "duration": 299,
    "start_time": "2022-04-21T01:20:38.538Z"
   },
   {
    "duration": 136,
    "start_time": "2022-04-21T01:21:00.818Z"
   },
   {
    "duration": 3,
    "start_time": "2022-04-21T01:21:19.785Z"
   },
   {
    "duration": 8,
    "start_time": "2022-04-21T01:21:19.790Z"
   },
   {
    "duration": 877,
    "start_time": "2022-04-21T01:21:19.800Z"
   },
   {
    "duration": 190,
    "start_time": "2022-04-21T01:21:20.679Z"
   },
   {
    "duration": 177,
    "start_time": "2022-04-21T01:21:26.018Z"
   },
   {
    "duration": 61,
    "start_time": "2022-04-21T01:22:33.763Z"
   },
   {
    "duration": 62,
    "start_time": "2022-04-21T01:22:51.939Z"
   },
   {
    "duration": 3,
    "start_time": "2022-04-21T01:22:59.185Z"
   },
   {
    "duration": 4,
    "start_time": "2022-04-21T01:22:59.190Z"
   },
   {
    "duration": 885,
    "start_time": "2022-04-21T01:22:59.195Z"
   },
   {
    "duration": 191,
    "start_time": "2022-04-21T01:23:00.082Z"
   },
   {
    "duration": 184,
    "start_time": "2022-04-21T01:23:02.171Z"
   },
   {
    "duration": 61,
    "start_time": "2022-04-21T01:23:42.564Z"
   },
   {
    "duration": 2,
    "start_time": "2022-04-21T01:23:47.893Z"
   },
   {
    "duration": 5,
    "start_time": "2022-04-21T01:23:47.897Z"
   },
   {
    "duration": 913,
    "start_time": "2022-04-21T01:23:47.903Z"
   },
   {
    "duration": 175,
    "start_time": "2022-04-21T01:23:48.818Z"
   },
   {
    "duration": 1016,
    "start_time": "2022-04-21T01:23:50.971Z"
   },
   {
    "duration": 68,
    "start_time": "2022-04-21T01:24:23.918Z"
   },
   {
    "duration": 2,
    "start_time": "2022-04-21T01:24:38.586Z"
   },
   {
    "duration": 5,
    "start_time": "2022-04-21T01:24:38.590Z"
   },
   {
    "duration": 920,
    "start_time": "2022-04-21T01:24:38.596Z"
   },
   {
    "duration": 176,
    "start_time": "2022-04-21T01:24:39.518Z"
   },
   {
    "duration": 96,
    "start_time": "2022-04-21T01:24:44.557Z"
   },
   {
    "duration": 21,
    "start_time": "2022-04-21T01:27:08.369Z"
   },
   {
    "duration": 2,
    "start_time": "2022-04-21T01:27:27.117Z"
   },
   {
    "duration": 4,
    "start_time": "2022-04-21T01:27:27.121Z"
   },
   {
    "duration": 858,
    "start_time": "2022-04-21T01:27:27.127Z"
   },
   {
    "duration": 191,
    "start_time": "2022-04-21T01:27:27.987Z"
   },
   {
    "duration": 1056,
    "start_time": "2022-04-21T01:27:30.409Z"
   },
   {
    "duration": 78,
    "start_time": "2022-04-21T01:29:38.284Z"
   },
   {
    "duration": 21,
    "start_time": "2022-04-21T01:30:13.260Z"
   },
   {
    "duration": 85,
    "start_time": "2022-04-21T01:30:33.767Z"
   },
   {
    "duration": 20,
    "start_time": "2022-04-21T01:30:47.653Z"
   },
   {
    "duration": 8,
    "start_time": "2022-04-21T01:31:11.766Z"
   },
   {
    "duration": 3,
    "start_time": "2022-04-21T01:31:18.785Z"
   },
   {
    "duration": 11,
    "start_time": "2022-04-21T01:31:18.790Z"
   },
   {
    "duration": 951,
    "start_time": "2022-04-21T01:31:18.803Z"
   },
   {
    "duration": 200,
    "start_time": "2022-04-21T01:31:19.755Z"
   },
   {
    "duration": 30,
    "start_time": "2022-04-21T01:31:21.725Z"
   },
   {
    "duration": 1810,
    "start_time": "2022-04-21T01:31:39.430Z"
   },
   {
    "duration": 1591,
    "start_time": "2022-04-21T01:32:08.991Z"
   },
   {
    "duration": 3,
    "start_time": "2022-04-21T01:32:19.925Z"
   },
   {
    "duration": 6,
    "start_time": "2022-04-21T01:32:19.930Z"
   },
   {
    "duration": 904,
    "start_time": "2022-04-21T01:32:19.938Z"
   },
   {
    "duration": 189,
    "start_time": "2022-04-21T01:32:20.844Z"
   },
   {
    "duration": 1582,
    "start_time": "2022-04-21T01:32:23.071Z"
   },
   {
    "duration": 66,
    "start_time": "2022-04-21T01:37:05.414Z"
   },
   {
    "duration": 68,
    "start_time": "2022-04-21T01:37:22.254Z"
   },
   {
    "duration": 8,
    "start_time": "2022-04-21T01:39:09.672Z"
   },
   {
    "duration": 3,
    "start_time": "2022-04-21T01:39:17.220Z"
   },
   {
    "duration": 7,
    "start_time": "2022-04-21T01:39:17.224Z"
   },
   {
    "duration": 974,
    "start_time": "2022-04-21T01:39:17.233Z"
   },
   {
    "duration": 204,
    "start_time": "2022-04-21T01:39:18.209Z"
   },
   {
    "duration": 100,
    "start_time": "2022-04-21T01:39:20.687Z"
   },
   {
    "duration": 64,
    "start_time": "2022-04-21T01:41:13.891Z"
   },
   {
    "duration": 76,
    "start_time": "2022-04-21T01:41:24.234Z"
   },
   {
    "duration": 8,
    "start_time": "2022-04-21T01:41:38.138Z"
   },
   {
    "duration": 2,
    "start_time": "2022-04-21T01:41:52.011Z"
   },
   {
    "duration": 7,
    "start_time": "2022-04-21T01:41:52.015Z"
   },
   {
    "duration": 853,
    "start_time": "2022-04-21T01:41:52.023Z"
   },
   {
    "duration": 182,
    "start_time": "2022-04-21T01:41:52.878Z"
   },
   {
    "duration": 31,
    "start_time": "2022-04-21T01:41:54.755Z"
   },
   {
    "duration": 62,
    "start_time": "2022-04-21T01:45:47.849Z"
   },
   {
    "duration": 29,
    "start_time": "2022-04-21T01:46:04.456Z"
   },
   {
    "duration": 32,
    "start_time": "2022-04-21T01:59:06.929Z"
   },
   {
    "duration": 8,
    "start_time": "2022-04-21T02:00:10.379Z"
   },
   {
    "duration": 2,
    "start_time": "2022-04-21T02:00:18.515Z"
   },
   {
    "duration": 6,
    "start_time": "2022-04-21T02:00:18.520Z"
   },
   {
    "duration": 929,
    "start_time": "2022-04-21T02:00:18.528Z"
   },
   {
    "duration": 196,
    "start_time": "2022-04-21T02:00:19.459Z"
   },
   {
    "duration": 1189,
    "start_time": "2022-04-21T02:00:21.170Z"
   },
   {
    "duration": 65,
    "start_time": "2022-04-21T02:00:41.667Z"
   },
   {
    "duration": 9,
    "start_time": "2022-04-21T02:01:30.309Z"
   },
   {
    "duration": 4,
    "start_time": "2022-04-21T02:01:34.631Z"
   },
   {
    "duration": 5,
    "start_time": "2022-04-21T02:01:34.636Z"
   },
   {
    "duration": 832,
    "start_time": "2022-04-21T02:01:34.643Z"
   },
   {
    "duration": 182,
    "start_time": "2022-04-21T02:01:35.476Z"
   },
   {
    "duration": 65,
    "start_time": "2022-04-21T02:01:40.916Z"
   },
   {
    "duration": 8,
    "start_time": "2022-04-21T02:05:24.257Z"
   },
   {
    "duration": 2,
    "start_time": "2022-04-21T02:05:29.453Z"
   },
   {
    "duration": 6,
    "start_time": "2022-04-21T02:05:29.457Z"
   },
   {
    "duration": 849,
    "start_time": "2022-04-21T02:05:29.465Z"
   },
   {
    "duration": 177,
    "start_time": "2022-04-21T02:05:30.316Z"
   },
   {
    "duration": 30,
    "start_time": "2022-04-21T02:05:31.936Z"
   },
   {
    "duration": 29,
    "start_time": "2022-04-21T02:07:33.564Z"
   },
   {
    "duration": 26,
    "start_time": "2022-04-21T02:08:02.772Z"
   },
   {
    "duration": 9,
    "start_time": "2022-04-21T02:08:37.046Z"
   },
   {
    "duration": 2,
    "start_time": "2022-04-21T02:08:42.196Z"
   },
   {
    "duration": 7,
    "start_time": "2022-04-21T02:08:42.201Z"
   },
   {
    "duration": 842,
    "start_time": "2022-04-21T02:08:42.210Z"
   },
   {
    "duration": 184,
    "start_time": "2022-04-21T02:08:43.053Z"
   },
   {
    "duration": 61,
    "start_time": "2022-04-21T02:08:44.909Z"
   },
   {
    "duration": 91,
    "start_time": "2022-04-21T02:09:36.982Z"
   },
   {
    "duration": 8,
    "start_time": "2022-04-21T02:09:45.543Z"
   },
   {
    "duration": 2,
    "start_time": "2022-04-21T02:09:49.911Z"
   },
   {
    "duration": 7,
    "start_time": "2022-04-21T02:09:49.915Z"
   },
   {
    "duration": 836,
    "start_time": "2022-04-21T02:09:49.923Z"
   },
   {
    "duration": 186,
    "start_time": "2022-04-21T02:09:50.761Z"
   },
   {
    "duration": 30,
    "start_time": "2022-04-21T02:09:52.519Z"
   },
   {
    "duration": 45,
    "start_time": "2022-04-21T02:11:19.048Z"
   },
   {
    "duration": 9,
    "start_time": "2022-04-21T02:12:38.113Z"
   },
   {
    "duration": 3,
    "start_time": "2022-04-21T02:12:42.071Z"
   },
   {
    "duration": 8,
    "start_time": "2022-04-21T02:12:42.076Z"
   },
   {
    "duration": 865,
    "start_time": "2022-04-21T02:12:42.086Z"
   },
   {
    "duration": 185,
    "start_time": "2022-04-21T02:12:42.954Z"
   },
   {
    "duration": 33,
    "start_time": "2022-04-21T02:12:44.410Z"
   },
   {
    "duration": 59,
    "start_time": "2022-04-21T02:16:11.111Z"
   },
   {
    "duration": 3,
    "start_time": "2022-04-21T02:16:21.550Z"
   },
   {
    "duration": 7,
    "start_time": "2022-04-21T02:16:21.555Z"
   },
   {
    "duration": 887,
    "start_time": "2022-04-21T02:16:21.564Z"
   },
   {
    "duration": 190,
    "start_time": "2022-04-21T02:16:22.453Z"
   },
   {
    "duration": 78,
    "start_time": "2022-04-21T02:16:24.790Z"
   },
   {
    "duration": 8,
    "start_time": "2022-04-21T02:16:57.472Z"
   },
   {
    "duration": 3,
    "start_time": "2022-04-21T02:17:01.539Z"
   },
   {
    "duration": 10,
    "start_time": "2022-04-21T02:17:01.544Z"
   },
   {
    "duration": 863,
    "start_time": "2022-04-21T02:17:01.556Z"
   },
   {
    "duration": 168,
    "start_time": "2022-04-21T02:17:02.420Z"
   },
   {
    "duration": 85,
    "start_time": "2022-04-21T02:17:04.247Z"
   },
   {
    "duration": 9,
    "start_time": "2022-04-21T02:18:11.905Z"
   },
   {
    "duration": 3,
    "start_time": "2022-04-21T02:18:31.132Z"
   },
   {
    "duration": 10,
    "start_time": "2022-04-21T02:18:31.136Z"
   },
   {
    "duration": 823,
    "start_time": "2022-04-21T02:18:31.148Z"
   },
   {
    "duration": 175,
    "start_time": "2022-04-21T02:18:31.973Z"
   },
   {
    "duration": 83,
    "start_time": "2022-04-21T02:18:33.569Z"
   },
   {
    "duration": 71,
    "start_time": "2022-04-21T02:19:16.058Z"
   },
   {
    "duration": 59,
    "start_time": "2022-04-21T02:19:38.196Z"
   },
   {
    "duration": 2,
    "start_time": "2022-04-21T02:20:13.369Z"
   },
   {
    "duration": 9,
    "start_time": "2022-04-21T02:20:13.373Z"
   },
   {
    "duration": 922,
    "start_time": "2022-04-21T02:20:13.385Z"
   },
   {
    "duration": 202,
    "start_time": "2022-04-21T02:20:14.309Z"
   },
   {
    "duration": 148,
    "start_time": "2022-04-21T02:20:17.517Z"
   },
   {
    "duration": 56,
    "start_time": "2022-04-21T02:21:29.494Z"
   },
   {
    "duration": 50,
    "start_time": "2022-04-21T02:21:57.943Z"
   },
   {
    "duration": 1096,
    "start_time": "2022-04-21T02:23:39.776Z"
   },
   {
    "duration": 46,
    "start_time": "2022-04-21T02:25:01.490Z"
   },
   {
    "duration": 47,
    "start_time": "2022-04-21T02:25:13.514Z"
   },
   {
    "duration": 50,
    "start_time": "2022-04-21T02:25:28.996Z"
   },
   {
    "duration": 60,
    "start_time": "2022-04-21T02:25:52.331Z"
   },
   {
    "duration": 56,
    "start_time": "2022-04-21T02:26:20.580Z"
   },
   {
    "duration": 51,
    "start_time": "2022-04-21T02:26:43.076Z"
   },
   {
    "duration": 64,
    "start_time": "2022-04-21T02:26:54.668Z"
   },
   {
    "duration": 65,
    "start_time": "2022-04-21T02:27:11.989Z"
   },
   {
    "duration": 52,
    "start_time": "2022-04-21T02:28:03.823Z"
   },
   {
    "duration": 3,
    "start_time": "2022-04-21T02:28:09.115Z"
   },
   {
    "duration": 1132,
    "start_time": "2022-04-21T02:28:09.119Z"
   },
   {
    "duration": 982,
    "start_time": "2022-04-21T02:28:10.253Z"
   },
   {
    "duration": 187,
    "start_time": "2022-04-21T02:28:11.236Z"
   },
   {
    "duration": 221,
    "start_time": "2022-04-21T02:28:11.426Z"
   },
   {
    "duration": 0,
    "start_time": "2022-04-21T02:28:11.649Z"
   },
   {
    "duration": 0,
    "start_time": "2022-04-21T02:28:11.650Z"
   },
   {
    "duration": 0,
    "start_time": "2022-04-21T02:28:11.651Z"
   },
   {
    "duration": 0,
    "start_time": "2022-04-21T02:28:11.652Z"
   },
   {
    "duration": 0,
    "start_time": "2022-04-21T02:28:11.653Z"
   },
   {
    "duration": 0,
    "start_time": "2022-04-21T02:28:11.654Z"
   },
   {
    "duration": 0,
    "start_time": "2022-04-21T02:28:11.655Z"
   },
   {
    "duration": 0,
    "start_time": "2022-04-21T02:28:11.656Z"
   },
   {
    "duration": 0,
    "start_time": "2022-04-21T02:28:11.656Z"
   },
   {
    "duration": 0,
    "start_time": "2022-04-21T02:28:11.657Z"
   },
   {
    "duration": 0,
    "start_time": "2022-04-21T02:28:11.658Z"
   },
   {
    "duration": 0,
    "start_time": "2022-04-21T02:28:11.659Z"
   },
   {
    "duration": 0,
    "start_time": "2022-04-21T02:28:11.660Z"
   },
   {
    "duration": 0,
    "start_time": "2022-04-21T02:28:11.660Z"
   },
   {
    "duration": 0,
    "start_time": "2022-04-21T02:28:11.661Z"
   },
   {
    "duration": 0,
    "start_time": "2022-04-21T02:28:11.662Z"
   },
   {
    "duration": 0,
    "start_time": "2022-04-21T02:28:11.663Z"
   },
   {
    "duration": 0,
    "start_time": "2022-04-21T02:28:11.664Z"
   },
   {
    "duration": 0,
    "start_time": "2022-04-21T02:28:11.665Z"
   },
   {
    "duration": 0,
    "start_time": "2022-04-21T02:28:11.666Z"
   },
   {
    "duration": 54,
    "start_time": "2022-04-21T02:29:09.721Z"
   },
   {
    "duration": 66,
    "start_time": "2022-04-21T02:30:20.394Z"
   },
   {
    "duration": 1283,
    "start_time": "2022-04-21T02:30:52.171Z"
   },
   {
    "duration": 321,
    "start_time": "2022-04-21T02:31:31.684Z"
   },
   {
    "duration": 369,
    "start_time": "2022-04-21T02:31:49.324Z"
   },
   {
    "duration": 1225,
    "start_time": "2022-04-21T02:32:18.989Z"
   },
   {
    "duration": 1225,
    "start_time": "2022-04-21T02:32:39.405Z"
   },
   {
    "duration": 69,
    "start_time": "2022-04-21T02:35:50.121Z"
   },
   {
    "duration": 1072,
    "start_time": "2022-04-21T02:36:12.643Z"
   },
   {
    "duration": 3,
    "start_time": "2022-04-21T02:36:17.837Z"
   },
   {
    "duration": 8,
    "start_time": "2022-04-21T02:36:17.842Z"
   },
   {
    "duration": 986,
    "start_time": "2022-04-21T02:36:17.852Z"
   },
   {
    "duration": 200,
    "start_time": "2022-04-21T02:36:18.840Z"
   },
   {
    "duration": 1081,
    "start_time": "2022-04-21T02:36:22.433Z"
   },
   {
    "duration": 52,
    "start_time": "2022-04-21T02:36:43.539Z"
   },
   {
    "duration": 48,
    "start_time": "2022-04-21T02:36:59.811Z"
   },
   {
    "duration": 52,
    "start_time": "2022-04-21T02:39:12.214Z"
   },
   {
    "duration": 67,
    "start_time": "2022-04-21T02:40:54.879Z"
   },
   {
    "duration": 58,
    "start_time": "2022-04-21T02:41:02.823Z"
   },
   {
    "duration": 52,
    "start_time": "2022-04-21T02:43:08.684Z"
   },
   {
    "duration": 60,
    "start_time": "2022-04-21T02:46:18.028Z"
   },
   {
    "duration": 50,
    "start_time": "2022-04-21T03:00:47.606Z"
   },
   {
    "duration": 66,
    "start_time": "2022-04-21T03:06:41.988Z"
   },
   {
    "duration": 7,
    "start_time": "2022-04-21T03:06:47.628Z"
   },
   {
    "duration": 5,
    "start_time": "2022-04-21T03:07:39.287Z"
   },
   {
    "duration": 6,
    "start_time": "2022-04-21T03:08:27.815Z"
   },
   {
    "duration": 3,
    "start_time": "2022-04-21T03:08:32.766Z"
   },
   {
    "duration": 8,
    "start_time": "2022-04-21T03:08:32.771Z"
   },
   {
    "duration": 855,
    "start_time": "2022-04-21T03:08:32.780Z"
   },
   {
    "duration": 51,
    "start_time": "2022-04-21T03:08:37.191Z"
   },
   {
    "duration": 129,
    "start_time": "2022-04-21T03:18:52.260Z"
   },
   {
    "duration": 89,
    "start_time": "2022-04-21T03:19:07.212Z"
   },
   {
    "duration": 83,
    "start_time": "2022-04-21T03:19:26.420Z"
   },
   {
    "duration": 88,
    "start_time": "2022-04-21T03:19:51.557Z"
   },
   {
    "duration": 82,
    "start_time": "2022-04-21T03:20:53.751Z"
   },
   {
    "duration": 86,
    "start_time": "2022-04-21T03:21:24.999Z"
   },
   {
    "duration": 145,
    "start_time": "2022-04-21T03:24:52.027Z"
   },
   {
    "duration": 59,
    "start_time": "2022-04-21T03:25:45.941Z"
   },
   {
    "duration": 59,
    "start_time": "2022-04-21T03:26:40.654Z"
   },
   {
    "duration": 71,
    "start_time": "2022-04-21T03:26:54.751Z"
   },
   {
    "duration": 75,
    "start_time": "2022-04-21T03:27:24.263Z"
   },
   {
    "duration": 69,
    "start_time": "2022-04-21T03:27:31.854Z"
   },
   {
    "duration": 69,
    "start_time": "2022-04-21T03:27:48.895Z"
   },
   {
    "duration": 64,
    "start_time": "2022-04-21T03:28:01.840Z"
   },
   {
    "duration": 65,
    "start_time": "2022-04-21T03:28:15.156Z"
   },
   {
    "duration": 61,
    "start_time": "2022-04-21T03:29:25.506Z"
   },
   {
    "duration": 71,
    "start_time": "2022-04-21T03:30:00.507Z"
   },
   {
    "duration": 67,
    "start_time": "2022-04-21T04:28:13.958Z"
   },
   {
    "duration": 59,
    "start_time": "2022-04-21T04:28:42.917Z"
   },
   {
    "duration": 67,
    "start_time": "2022-04-21T04:29:09.999Z"
   },
   {
    "duration": 56,
    "start_time": "2022-04-21T04:30:41.767Z"
   },
   {
    "duration": 65,
    "start_time": "2022-04-21T04:30:51.024Z"
   },
   {
    "duration": 74,
    "start_time": "2022-04-21T04:31:09.592Z"
   },
   {
    "duration": 62,
    "start_time": "2022-04-21T04:31:35.944Z"
   },
   {
    "duration": 64,
    "start_time": "2022-04-21T04:32:32.170Z"
   },
   {
    "duration": 59,
    "start_time": "2022-04-21T04:33:11.139Z"
   },
   {
    "duration": 66,
    "start_time": "2022-04-21T04:33:37.274Z"
   },
   {
    "duration": 72,
    "start_time": "2022-04-21T04:37:11.055Z"
   },
   {
    "duration": 68,
    "start_time": "2022-04-21T04:37:19.249Z"
   },
   {
    "duration": 67,
    "start_time": "2022-04-21T04:46:43.594Z"
   },
   {
    "duration": 67,
    "start_time": "2022-04-21T04:47:13.597Z"
   },
   {
    "duration": 2,
    "start_time": "2022-04-21T04:47:22.708Z"
   },
   {
    "duration": 5,
    "start_time": "2022-04-21T04:47:22.712Z"
   },
   {
    "duration": 891,
    "start_time": "2022-04-21T04:47:22.718Z"
   },
   {
    "duration": 161,
    "start_time": "2022-04-21T04:47:23.611Z"
   },
   {
    "duration": 140,
    "start_time": "2022-04-21T04:47:26.867Z"
   },
   {
    "duration": 65,
    "start_time": "2022-04-21T04:48:25.557Z"
   },
   {
    "duration": 125,
    "start_time": "2022-04-21T04:48:46.100Z"
   },
   {
    "duration": 1013,
    "start_time": "2022-04-21T04:48:52.451Z"
   },
   {
    "duration": 69,
    "start_time": "2022-04-21T04:49:09.557Z"
   },
   {
    "duration": 71,
    "start_time": "2022-04-21T04:49:25.492Z"
   },
   {
    "duration": 65,
    "start_time": "2022-04-21T04:49:41.949Z"
   },
   {
    "duration": 63,
    "start_time": "2022-04-21T04:49:53.164Z"
   },
   {
    "duration": 64,
    "start_time": "2022-04-21T04:50:35.174Z"
   },
   {
    "duration": 70,
    "start_time": "2022-04-21T04:50:48.967Z"
   },
   {
    "duration": 69,
    "start_time": "2022-04-21T04:54:28.383Z"
   },
   {
    "duration": 80,
    "start_time": "2022-04-21T04:59:42.669Z"
   },
   {
    "duration": 74,
    "start_time": "2022-04-21T05:01:52.581Z"
   },
   {
    "duration": 76,
    "start_time": "2022-04-21T05:03:12.589Z"
   },
   {
    "duration": 74,
    "start_time": "2022-04-21T05:03:26.532Z"
   },
   {
    "duration": 55,
    "start_time": "2022-04-21T05:03:42.765Z"
   },
   {
    "duration": 57,
    "start_time": "2022-04-21T05:04:10.381Z"
   },
   {
    "duration": 15,
    "start_time": "2022-04-21T10:34:37.033Z"
   },
   {
    "duration": 47,
    "start_time": "2022-04-21T10:34:42.118Z"
   },
   {
    "duration": 2,
    "start_time": "2022-04-21T10:34:48.332Z"
   },
   {
    "duration": 1289,
    "start_time": "2022-04-21T10:34:48.335Z"
   },
   {
    "duration": 897,
    "start_time": "2022-04-21T10:34:49.626Z"
   },
   {
    "duration": 180,
    "start_time": "2022-04-21T10:34:50.525Z"
   },
   {
    "duration": 130,
    "start_time": "2022-04-21T10:34:52.870Z"
   },
   {
    "duration": 51,
    "start_time": "2022-04-21T10:35:27.630Z"
   },
   {
    "duration": 53,
    "start_time": "2022-04-21T10:37:03.404Z"
   },
   {
    "duration": 52,
    "start_time": "2022-04-21T10:37:34.028Z"
   },
   {
    "duration": 70,
    "start_time": "2022-04-21T10:48:52.624Z"
   },
   {
    "duration": 71,
    "start_time": "2022-04-21T10:48:58.515Z"
   },
   {
    "duration": 70,
    "start_time": "2022-04-21T10:51:45.585Z"
   },
   {
    "duration": 73,
    "start_time": "2022-04-21T11:03:47.805Z"
   },
   {
    "duration": 72,
    "start_time": "2022-04-21T11:10:36.583Z"
   },
   {
    "duration": 69,
    "start_time": "2022-04-21T11:11:44.477Z"
   },
   {
    "duration": 72,
    "start_time": "2022-04-21T11:17:14.389Z"
   },
   {
    "duration": 77,
    "start_time": "2022-04-21T11:20:30.963Z"
   },
   {
    "duration": 71,
    "start_time": "2022-04-21T11:20:59.935Z"
   },
   {
    "duration": 70,
    "start_time": "2022-04-21T11:21:09.103Z"
   },
   {
    "duration": 71,
    "start_time": "2022-04-21T11:22:14.366Z"
   },
   {
    "duration": 3,
    "start_time": "2022-04-21T11:22:45.803Z"
   },
   {
    "duration": 72,
    "start_time": "2022-04-21T11:22:55.709Z"
   },
   {
    "duration": 3,
    "start_time": "2022-04-21T11:23:18.507Z"
   },
   {
    "duration": 72,
    "start_time": "2022-04-21T11:23:24.764Z"
   },
   {
    "duration": 66,
    "start_time": "2022-04-21T11:23:31.052Z"
   },
   {
    "duration": 72,
    "start_time": "2022-04-21T11:23:49.699Z"
   },
   {
    "duration": 71,
    "start_time": "2022-04-21T11:25:38.022Z"
   },
   {
    "duration": 3,
    "start_time": "2022-04-21T11:30:11.965Z"
   },
   {
    "duration": 3,
    "start_time": "2022-04-21T11:30:20.766Z"
   },
   {
    "duration": 6,
    "start_time": "2022-04-21T11:30:20.771Z"
   },
   {
    "duration": 14592,
    "start_time": "2022-04-21T11:30:20.778Z"
   },
   {
    "duration": 0,
    "start_time": "2022-04-21T11:30:35.371Z"
   },
   {
    "duration": 3,
    "start_time": "2022-04-21T11:31:06.620Z"
   },
   {
    "duration": 7,
    "start_time": "2022-04-21T11:31:06.624Z"
   },
   {
    "duration": 940,
    "start_time": "2022-04-21T11:31:06.633Z"
   },
   {
    "duration": 187,
    "start_time": "2022-04-21T11:31:07.575Z"
   },
   {
    "duration": 146,
    "start_time": "2022-04-21T11:31:10.972Z"
   },
   {
    "duration": 3,
    "start_time": "2022-04-21T11:32:22.106Z"
   },
   {
    "duration": 2,
    "start_time": "2022-04-21T11:32:30.226Z"
   },
   {
    "duration": 11,
    "start_time": "2022-04-21T11:32:30.230Z"
   },
   {
    "duration": 907,
    "start_time": "2022-04-21T11:32:30.242Z"
   },
   {
    "duration": 167,
    "start_time": "2022-04-21T11:32:31.151Z"
   },
   {
    "duration": 153,
    "start_time": "2022-04-21T11:32:33.443Z"
   },
   {
    "duration": 4,
    "start_time": "2022-04-21T11:33:11.913Z"
   },
   {
    "duration": 3,
    "start_time": "2022-04-21T11:33:22.856Z"
   },
   {
    "duration": 8,
    "start_time": "2022-04-21T11:33:22.860Z"
   },
   {
    "duration": 846,
    "start_time": "2022-04-21T11:33:22.869Z"
   },
   {
    "duration": 180,
    "start_time": "2022-04-21T11:33:23.716Z"
   },
   {
    "duration": 175,
    "start_time": "2022-04-21T11:33:25.953Z"
   },
   {
    "duration": 60,
    "start_time": "2022-04-21T11:34:19.529Z"
   },
   {
    "duration": 85,
    "start_time": "2022-04-21T11:34:59.880Z"
   },
   {
    "duration": 72,
    "start_time": "2022-04-21T11:37:02.427Z"
   },
   {
    "duration": 126,
    "start_time": "2022-04-21T11:37:20.350Z"
   },
   {
    "duration": 114,
    "start_time": "2022-04-21T11:41:42.655Z"
   },
   {
    "duration": 68,
    "start_time": "2022-04-21T11:42:25.186Z"
   },
   {
    "duration": 115,
    "start_time": "2022-04-21T11:43:22.999Z"
   },
   {
    "duration": 11,
    "start_time": "2022-04-21T11:43:41.136Z"
   },
   {
    "duration": 75,
    "start_time": "2022-04-21T11:44:11.366Z"
   },
   {
    "duration": 124,
    "start_time": "2022-04-21T11:50:25.828Z"
   },
   {
    "duration": 69,
    "start_time": "2022-04-21T11:50:32.312Z"
   },
   {
    "duration": 2123,
    "start_time": "2022-04-21T12:00:14.252Z"
   },
   {
    "duration": 73,
    "start_time": "2022-04-21T12:01:37.486Z"
   },
   {
    "duration": 69,
    "start_time": "2022-04-21T12:03:15.411Z"
   },
   {
    "duration": 77,
    "start_time": "2022-04-21T12:09:22.741Z"
   },
   {
    "duration": 79,
    "start_time": "2022-04-21T12:14:01.286Z"
   },
   {
    "duration": 94,
    "start_time": "2022-04-21T12:21:46.313Z"
   },
   {
    "duration": 55,
    "start_time": "2022-04-21T12:24:17.300Z"
   },
   {
    "duration": 3,
    "start_time": "2022-04-21T12:29:30.539Z"
   },
   {
    "duration": 7,
    "start_time": "2022-04-21T12:29:30.544Z"
   },
   {
    "duration": 871,
    "start_time": "2022-04-21T12:29:30.552Z"
   },
   {
    "duration": 184,
    "start_time": "2022-04-21T12:29:31.424Z"
   },
   {
    "duration": 165,
    "start_time": "2022-04-21T12:29:33.505Z"
   },
   {
    "duration": 126,
    "start_time": "2022-04-21T12:30:19.779Z"
   },
   {
    "duration": 97,
    "start_time": "2022-04-21T12:30:26.552Z"
   },
   {
    "duration": 3,
    "start_time": "2022-04-21T12:30:31.036Z"
   },
   {
    "duration": 8,
    "start_time": "2022-04-21T12:30:31.041Z"
   },
   {
    "duration": 878,
    "start_time": "2022-04-21T12:30:31.050Z"
   },
   {
    "duration": 195,
    "start_time": "2022-04-21T12:30:31.929Z"
   },
   {
    "duration": 162,
    "start_time": "2022-04-21T12:30:33.259Z"
   },
   {
    "duration": 75,
    "start_time": "2022-04-21T12:30:56.822Z"
   },
   {
    "duration": 4,
    "start_time": "2022-04-21T12:31:16.325Z"
   },
   {
    "duration": 6,
    "start_time": "2022-04-21T12:31:16.331Z"
   },
   {
    "duration": 848,
    "start_time": "2022-04-21T12:31:16.338Z"
   },
   {
    "duration": 185,
    "start_time": "2022-04-21T12:31:17.187Z"
   },
   {
    "duration": 146,
    "start_time": "2022-04-21T12:31:20.385Z"
   },
   {
    "duration": 140,
    "start_time": "2022-04-21T12:47:56.350Z"
   },
   {
    "duration": 126,
    "start_time": "2022-04-21T12:48:35.021Z"
   },
   {
    "duration": 123,
    "start_time": "2022-04-21T12:48:56.820Z"
   },
   {
    "duration": 480,
    "start_time": "2022-04-21T12:49:17.996Z"
   },
   {
    "duration": 750,
    "start_time": "2022-04-21T12:58:33.300Z"
   },
   {
    "duration": 1122,
    "start_time": "2022-04-21T13:00:19.182Z"
   },
   {
    "duration": 1159,
    "start_time": "2022-04-21T13:01:12.231Z"
   },
   {
    "duration": 1150,
    "start_time": "2022-04-21T13:02:03.599Z"
   },
   {
    "duration": 1222,
    "start_time": "2022-04-21T13:02:15.015Z"
   },
   {
    "duration": 1140,
    "start_time": "2022-04-21T13:02:24.759Z"
   },
   {
    "duration": 1141,
    "start_time": "2022-04-21T13:02:55.309Z"
   },
   {
    "duration": 1059,
    "start_time": "2022-04-21T13:13:33.560Z"
   },
   {
    "duration": 1135,
    "start_time": "2022-04-21T13:14:55.530Z"
   },
   {
    "duration": 1140,
    "start_time": "2022-04-21T13:15:08.322Z"
   },
   {
    "duration": 3052,
    "start_time": "2022-04-21T13:16:22.921Z"
   },
   {
    "duration": 3008,
    "start_time": "2022-04-21T13:16:51.385Z"
   },
   {
    "duration": 1057,
    "start_time": "2022-04-21T13:17:14.408Z"
   },
   {
    "duration": 2087,
    "start_time": "2022-04-21T13:17:43.928Z"
   },
   {
    "duration": 2151,
    "start_time": "2022-04-21T13:18:03.328Z"
   },
   {
    "duration": 1176,
    "start_time": "2022-04-21T13:19:09.909Z"
   },
   {
    "duration": 1186,
    "start_time": "2022-04-21T13:19:36.701Z"
   },
   {
    "duration": 1114,
    "start_time": "2022-04-21T13:35:09.206Z"
   },
   {
    "duration": 8,
    "start_time": "2022-04-21T13:35:58.437Z"
   },
   {
    "duration": 1332,
    "start_time": "2022-04-21T13:36:05.261Z"
   },
   {
    "duration": 1146,
    "start_time": "2022-04-21T13:36:32.148Z"
   },
   {
    "duration": 3,
    "start_time": "2022-04-21T13:36:39.099Z"
   },
   {
    "duration": 5,
    "start_time": "2022-04-21T13:36:39.104Z"
   },
   {
    "duration": 939,
    "start_time": "2022-04-21T13:36:39.111Z"
   },
   {
    "duration": 204,
    "start_time": "2022-04-21T13:36:40.051Z"
   },
   {
    "duration": 165,
    "start_time": "2022-04-21T13:36:40.257Z"
   },
   {
    "duration": 2,
    "start_time": "2022-04-21T13:36:40.424Z"
   },
   {
    "duration": 5,
    "start_time": "2022-04-21T13:36:40.428Z"
   },
   {
    "duration": 1170,
    "start_time": "2022-04-21T13:36:42.444Z"
   },
   {
    "duration": 618,
    "start_time": "2022-04-21T13:36:57.596Z"
   },
   {
    "duration": 6,
    "start_time": "2022-04-21T13:37:19.219Z"
   },
   {
    "duration": 12,
    "start_time": "2022-04-21T13:37:40.571Z"
   },
   {
    "duration": 8,
    "start_time": "2022-04-21T13:37:54.555Z"
   },
   {
    "duration": 145,
    "start_time": "2022-04-21T13:38:07.763Z"
   },
   {
    "duration": 18,
    "start_time": "2022-04-21T13:38:13.675Z"
   },
   {
    "duration": 13,
    "start_time": "2022-04-21T13:38:22.491Z"
   },
   {
    "duration": 12,
    "start_time": "2022-04-21T13:38:31.427Z"
   },
   {
    "duration": 12,
    "start_time": "2022-04-21T13:38:54.930Z"
   },
   {
    "duration": 8,
    "start_time": "2022-04-21T13:39:08.530Z"
   },
   {
    "duration": 14,
    "start_time": "2022-04-21T13:39:23.185Z"
   },
   {
    "duration": 17,
    "start_time": "2022-04-21T13:39:34.929Z"
   },
   {
    "duration": 21,
    "start_time": "2022-04-21T13:39:53.009Z"
   },
   {
    "duration": 22,
    "start_time": "2022-04-21T13:41:07.751Z"
   },
   {
    "duration": 1809,
    "start_time": "2022-04-21T13:57:33.007Z"
   },
   {
    "duration": 1676,
    "start_time": "2022-04-21T13:57:51.807Z"
   },
   {
    "duration": 27,
    "start_time": "2022-04-21T13:58:36.966Z"
   },
   {
    "duration": 28,
    "start_time": "2022-04-21T13:59:07.453Z"
   },
   {
    "duration": 28,
    "start_time": "2022-04-21T13:59:27.485Z"
   },
   {
    "duration": 28,
    "start_time": "2022-04-21T13:59:34.724Z"
   },
   {
    "duration": 3,
    "start_time": "2022-04-21T14:00:10.432Z"
   },
   {
    "duration": 7,
    "start_time": "2022-04-21T14:00:10.437Z"
   },
   {
    "duration": 863,
    "start_time": "2022-04-21T14:00:10.445Z"
   },
   {
    "duration": 187,
    "start_time": "2022-04-21T14:00:11.310Z"
   },
   {
    "duration": 167,
    "start_time": "2022-04-21T14:00:11.499Z"
   },
   {
    "duration": 2,
    "start_time": "2022-04-21T14:00:11.668Z"
   },
   {
    "duration": 5,
    "start_time": "2022-04-21T14:00:11.672Z"
   },
   {
    "duration": 30,
    "start_time": "2022-04-21T14:00:13.076Z"
   },
   {
    "duration": 29,
    "start_time": "2022-04-21T14:00:32.700Z"
   },
   {
    "duration": 27,
    "start_time": "2022-04-21T14:00:41.820Z"
   },
   {
    "duration": 1155,
    "start_time": "2022-04-21T14:03:56.956Z"
   },
   {
    "duration": 20,
    "start_time": "2022-04-21T14:04:50.551Z"
   },
   {
    "duration": 1142,
    "start_time": "2022-04-21T14:05:02.399Z"
   },
   {
    "duration": 20,
    "start_time": "2022-04-21T14:05:13.543Z"
   },
   {
    "duration": 20,
    "start_time": "2022-04-21T14:09:46.378Z"
   },
   {
    "duration": 1133,
    "start_time": "2022-04-21T14:11:47.536Z"
   },
   {
    "duration": 1865,
    "start_time": "2022-04-21T19:36:45.213Z"
   },
   {
    "duration": 3,
    "start_time": "2022-04-21T19:36:47.081Z"
   },
   {
    "duration": 1415,
    "start_time": "2022-04-21T19:36:47.086Z"
   },
   {
    "duration": 265,
    "start_time": "2022-04-21T19:36:48.504Z"
   },
   {
    "duration": 801,
    "start_time": "2022-04-21T19:36:51.215Z"
   },
   {
    "duration": 1474,
    "start_time": "2022-04-21T19:38:54.834Z"
   },
   {
    "duration": 114,
    "start_time": "2022-04-21T19:39:27.433Z"
   },
   {
    "duration": 119,
    "start_time": "2022-04-21T19:39:35.578Z"
   },
   {
    "duration": 5,
    "start_time": "2022-04-21T19:41:38.355Z"
   },
   {
    "duration": 8,
    "start_time": "2022-04-21T19:41:38.362Z"
   },
   {
    "duration": 1282,
    "start_time": "2022-04-21T19:41:38.373Z"
   },
   {
    "duration": 268,
    "start_time": "2022-04-21T19:41:39.657Z"
   },
   {
    "duration": 244,
    "start_time": "2022-04-21T19:41:43.364Z"
   },
   {
    "duration": 2226,
    "start_time": "2022-04-21T19:58:54.000Z"
   },
   {
    "duration": 2275,
    "start_time": "2022-04-21T19:59:30.177Z"
   },
   {
    "duration": 5,
    "start_time": "2022-04-21T20:48:57.560Z"
   },
   {
    "duration": 5,
    "start_time": "2022-04-21T21:05:05.075Z"
   },
   {
    "duration": 1482,
    "start_time": "2022-04-21T21:05:05.084Z"
   },
   {
    "duration": 285,
    "start_time": "2022-04-21T21:05:06.568Z"
   },
   {
    "duration": 270,
    "start_time": "2022-04-21T21:05:06.856Z"
   },
   {
    "duration": 2116,
    "start_time": "2022-04-21T21:05:07.128Z"
   },
   {
    "duration": 66,
    "start_time": "2022-04-21T21:07:57.900Z"
   },
   {
    "duration": 120,
    "start_time": "2022-04-21T21:15:24.046Z"
   },
   {
    "duration": 4,
    "start_time": "2022-04-21T21:15:44.203Z"
   },
   {
    "duration": 1306,
    "start_time": "2022-04-21T21:15:44.210Z"
   },
   {
    "duration": 292,
    "start_time": "2022-04-21T21:15:45.518Z"
   },
   {
    "duration": 243,
    "start_time": "2022-04-21T21:15:49.709Z"
   },
   {
    "duration": 2124,
    "start_time": "2022-04-21T21:16:34.870Z"
   },
   {
    "duration": 2216,
    "start_time": "2022-04-21T21:16:51.406Z"
   },
   {
    "duration": 2164,
    "start_time": "2022-04-21T21:17:08.127Z"
   },
   {
    "duration": 1253,
    "start_time": "2022-04-24T21:42:58.768Z"
   },
   {
    "duration": 943,
    "start_time": "2022-04-24T21:43:00.024Z"
   },
   {
    "duration": 196,
    "start_time": "2022-04-24T21:43:00.969Z"
   },
   {
    "duration": 183,
    "start_time": "2022-04-24T21:43:01.168Z"
   },
   {
    "duration": 145,
    "start_time": "2022-04-24T21:48:33.676Z"
   },
   {
    "duration": 3269,
    "start_time": "2022-04-24T21:49:01.289Z"
   },
   {
    "duration": 3368,
    "start_time": "2022-04-24T21:52:19.544Z"
   },
   {
    "duration": 3284,
    "start_time": "2022-04-24T21:52:33.430Z"
   },
   {
    "duration": 1342,
    "start_time": "2022-04-24T21:57:43.470Z"
   },
   {
    "duration": 4,
    "start_time": "2022-04-24T21:59:31.157Z"
   },
   {
    "duration": 3140,
    "start_time": "2022-04-24T21:59:40.751Z"
   },
   {
    "duration": 1841,
    "start_time": "2022-04-24T22:24:07.214Z"
   },
   {
    "duration": 1555,
    "start_time": "2022-04-24T22:25:51.508Z"
   },
   {
    "duration": 1633,
    "start_time": "2022-04-24T22:26:27.597Z"
   },
   {
    "duration": 78,
    "start_time": "2022-04-25T16:43:01.788Z"
   },
   {
    "duration": 1822,
    "start_time": "2022-04-25T16:43:05.575Z"
   },
   {
    "duration": 1352,
    "start_time": "2022-04-25T16:43:07.400Z"
   },
   {
    "duration": 275,
    "start_time": "2022-04-25T16:43:08.755Z"
   },
   {
    "duration": 267,
    "start_time": "2022-04-25T16:43:09.033Z"
   },
   {
    "duration": 102,
    "start_time": "2022-04-25T16:43:09.303Z"
   },
   {
    "duration": 86,
    "start_time": "2022-04-25T16:44:20.486Z"
   },
   {
    "duration": 102,
    "start_time": "2022-04-25T16:44:27.561Z"
   },
   {
    "duration": 126,
    "start_time": "2022-04-25T16:44:34.655Z"
   },
   {
    "duration": 89,
    "start_time": "2022-04-25T17:05:37.608Z"
   },
   {
    "duration": 17,
    "start_time": "2022-04-25T17:07:04.354Z"
   },
   {
    "duration": 16,
    "start_time": "2022-04-25T17:10:02.653Z"
   },
   {
    "duration": 120,
    "start_time": "2022-04-25T17:10:07.613Z"
   },
   {
    "duration": 0,
    "start_time": "2022-04-25T17:10:07.736Z"
   },
   {
    "duration": 0,
    "start_time": "2022-04-25T17:10:07.737Z"
   },
   {
    "duration": 0,
    "start_time": "2022-04-25T17:10:07.740Z"
   },
   {
    "duration": 0,
    "start_time": "2022-04-25T17:10:07.741Z"
   },
   {
    "duration": 0,
    "start_time": "2022-04-25T17:10:07.743Z"
   },
   {
    "duration": 0,
    "start_time": "2022-04-25T17:10:07.745Z"
   },
   {
    "duration": 16,
    "start_time": "2022-04-25T17:10:10.212Z"
   },
   {
    "duration": 5,
    "start_time": "2022-04-25T17:10:24.909Z"
   },
   {
    "duration": 12,
    "start_time": "2022-04-25T17:10:33.397Z"
   },
   {
    "duration": 5,
    "start_time": "2022-04-25T17:19:36.366Z"
   },
   {
    "duration": 1318,
    "start_time": "2022-04-25T17:19:36.375Z"
   },
   {
    "duration": 282,
    "start_time": "2022-04-25T17:19:37.695Z"
   },
   {
    "duration": 250,
    "start_time": "2022-04-25T17:19:37.980Z"
   },
   {
    "duration": 95,
    "start_time": "2022-04-25T17:19:38.233Z"
   },
   {
    "duration": 23,
    "start_time": "2022-04-25T17:19:38.330Z"
   },
   {
    "duration": 2968,
    "start_time": "2022-04-25T17:19:38.355Z"
   },
   {
    "duration": 11,
    "start_time": "2022-04-25T17:19:41.326Z"
   },
   {
    "duration": 120,
    "start_time": "2022-04-25T17:22:00.500Z"
   },
   {
    "duration": 1540,
    "start_time": "2022-04-25T17:22:56.869Z"
   },
   {
    "duration": 6,
    "start_time": "2022-04-25T17:23:34.331Z"
   },
   {
    "duration": 1322,
    "start_time": "2022-04-25T17:23:34.340Z"
   },
   {
    "duration": 289,
    "start_time": "2022-04-25T17:23:35.664Z"
   },
   {
    "duration": 255,
    "start_time": "2022-04-25T17:23:35.956Z"
   },
   {
    "duration": 98,
    "start_time": "2022-04-25T17:23:36.214Z"
   },
   {
    "duration": 5,
    "start_time": "2022-04-25T17:23:36.314Z"
   },
   {
    "duration": 2851,
    "start_time": "2022-04-25T17:23:36.321Z"
   },
   {
    "duration": 11,
    "start_time": "2022-04-25T17:23:39.175Z"
   },
   {
    "duration": 12,
    "start_time": "2022-04-25T17:23:42.174Z"
   },
   {
    "duration": 12,
    "start_time": "2022-04-25T17:24:34.518Z"
   },
   {
    "duration": 10,
    "start_time": "2022-04-25T17:44:32.495Z"
   },
   {
    "duration": 12,
    "start_time": "2022-04-25T17:44:35.479Z"
   },
   {
    "duration": 3562,
    "start_time": "2022-04-25T18:09:52.608Z"
   },
   {
    "duration": 3006,
    "start_time": "2022-04-25T18:10:57.864Z"
   },
   {
    "duration": 150,
    "start_time": "2022-05-01T22:14:46.206Z"
   },
   {
    "duration": 57,
    "start_time": "2022-05-04T11:15:53.134Z"
   },
   {
    "duration": 1358,
    "start_time": "2022-05-04T11:15:58.952Z"
   },
   {
    "duration": 1069,
    "start_time": "2022-05-04T11:16:05.208Z"
   },
   {
    "duration": 119,
    "start_time": "2022-05-04T11:16:22.384Z"
   },
   {
    "duration": 106,
    "start_time": "2022-05-04T11:16:25.729Z"
   },
   {
    "duration": 1182,
    "start_time": "2022-05-04T11:28:26.627Z"
   },
   {
    "duration": 203,
    "start_time": "2022-05-04T11:29:00.711Z"
   },
   {
    "duration": 218,
    "start_time": "2022-05-04T11:29:00.916Z"
   },
   {
    "duration": 77,
    "start_time": "2022-05-04T11:29:01.136Z"
   },
   {
    "duration": 4,
    "start_time": "2022-05-04T11:29:01.216Z"
   },
   {
    "duration": 2050,
    "start_time": "2022-05-04T11:29:01.221Z"
   },
   {
    "duration": 11,
    "start_time": "2022-05-04T11:29:03.274Z"
   },
   {
    "duration": 27,
    "start_time": "2022-05-04T11:29:03.287Z"
   },
   {
    "duration": 41,
    "start_time": "2022-05-04T12:54:35.436Z"
   },
   {
    "duration": 1037,
    "start_time": "2022-05-04T13:41:40.756Z"
   },
   {
    "duration": 680,
    "start_time": "2022-05-04T13:41:46.002Z"
   },
   {
    "duration": 1979,
    "start_time": "2022-05-04T13:42:02.395Z"
   },
   {
    "duration": 9,
    "start_time": "2022-05-04T13:42:48.052Z"
   },
   {
    "duration": 1108,
    "start_time": "2022-05-04T13:43:00.866Z"
   },
   {
    "duration": 61,
    "start_time": "2022-05-07T21:38:15.586Z"
   },
   {
    "duration": 1514,
    "start_time": "2022-05-07T21:38:23.904Z"
   },
   {
    "duration": 1152,
    "start_time": "2022-05-07T21:38:25.420Z"
   },
   {
    "duration": 431,
    "start_time": "2022-05-07T21:38:27.958Z"
   },
   {
    "duration": 174,
    "start_time": "2022-05-07T21:39:00.096Z"
   },
   {
    "duration": 90,
    "start_time": "2022-05-07T21:39:29.184Z"
   },
   {
    "duration": 196,
    "start_time": "2022-05-07T21:49:07.993Z"
   },
   {
    "duration": 5,
    "start_time": "2022-05-07T21:58:26.671Z"
   },
   {
    "duration": 1105,
    "start_time": "2022-05-07T21:58:26.678Z"
   },
   {
    "duration": 106,
    "start_time": "2022-05-07T21:58:27.784Z"
   },
   {
    "duration": 0,
    "start_time": "2022-05-07T21:58:27.892Z"
   },
   {
    "duration": 0,
    "start_time": "2022-05-07T21:58:27.894Z"
   },
   {
    "duration": 0,
    "start_time": "2022-05-07T21:58:27.895Z"
   },
   {
    "duration": 0,
    "start_time": "2022-05-07T21:58:27.896Z"
   },
   {
    "duration": 0,
    "start_time": "2022-05-07T21:58:27.897Z"
   },
   {
    "duration": 0,
    "start_time": "2022-05-07T21:58:27.898Z"
   },
   {
    "duration": 382,
    "start_time": "2022-05-07T21:59:27.024Z"
   },
   {
    "duration": 4,
    "start_time": "2022-05-07T22:00:05.133Z"
   },
   {
    "duration": 1107,
    "start_time": "2022-05-07T22:00:05.140Z"
   },
   {
    "duration": 428,
    "start_time": "2022-05-07T22:00:06.249Z"
   },
   {
    "duration": 19,
    "start_time": "2022-05-07T22:00:06.679Z"
   },
   {
    "duration": 0,
    "start_time": "2022-05-07T22:00:06.700Z"
   },
   {
    "duration": 0,
    "start_time": "2022-05-07T22:00:06.701Z"
   },
   {
    "duration": 0,
    "start_time": "2022-05-07T22:00:06.703Z"
   },
   {
    "duration": 0,
    "start_time": "2022-05-07T22:00:06.704Z"
   },
   {
    "duration": 0,
    "start_time": "2022-05-07T22:00:06.705Z"
   },
   {
    "duration": 100,
    "start_time": "2022-05-07T22:01:50.355Z"
   },
   {
    "duration": 171,
    "start_time": "2022-05-07T22:03:17.950Z"
   },
   {
    "duration": 85,
    "start_time": "2022-05-07T22:05:30.810Z"
   },
   {
    "duration": 81,
    "start_time": "2022-05-07T22:05:41.137Z"
   },
   {
    "duration": 4,
    "start_time": "2022-05-07T22:05:44.628Z"
   },
   {
    "duration": 1049,
    "start_time": "2022-05-07T22:05:44.634Z"
   },
   {
    "duration": 212,
    "start_time": "2022-05-07T22:05:45.685Z"
   },
   {
    "duration": 200,
    "start_time": "2022-05-07T22:05:45.899Z"
   },
   {
    "duration": 90,
    "start_time": "2022-05-07T22:06:30.634Z"
   },
   {
    "duration": 4,
    "start_time": "2022-05-07T22:07:13.328Z"
   },
   {
    "duration": 1076,
    "start_time": "2022-05-07T22:07:13.335Z"
   },
   {
    "duration": 232,
    "start_time": "2022-05-07T22:07:14.412Z"
   },
   {
    "duration": 175,
    "start_time": "2022-05-07T22:07:17.922Z"
   },
   {
    "duration": 4,
    "start_time": "2022-05-07T22:07:54.110Z"
   },
   {
    "duration": 1129,
    "start_time": "2022-05-07T22:07:54.116Z"
   },
   {
    "duration": 208,
    "start_time": "2022-05-07T22:07:55.247Z"
   },
   {
    "duration": 179,
    "start_time": "2022-05-07T22:07:57.156Z"
   },
   {
    "duration": 81,
    "start_time": "2022-05-07T22:13:59.694Z"
   },
   {
    "duration": 4,
    "start_time": "2022-05-07T22:14:06.448Z"
   },
   {
    "duration": 1152,
    "start_time": "2022-05-07T22:14:06.456Z"
   },
   {
    "duration": 227,
    "start_time": "2022-05-07T22:14:07.610Z"
   },
   {
    "duration": 28,
    "start_time": "2022-05-07T22:14:10.020Z"
   },
   {
    "duration": 26,
    "start_time": "2022-05-07T22:17:32.409Z"
   },
   {
    "duration": 26,
    "start_time": "2022-05-07T22:17:46.959Z"
   },
   {
    "duration": 3,
    "start_time": "2022-05-07T22:18:27.413Z"
   },
   {
    "duration": 1084,
    "start_time": "2022-05-07T22:18:27.420Z"
   },
   {
    "duration": 216,
    "start_time": "2022-05-07T22:18:28.507Z"
   },
   {
    "duration": 25,
    "start_time": "2022-05-07T22:18:34.945Z"
   },
   {
    "duration": 38,
    "start_time": "2022-05-07T22:19:56.211Z"
   },
   {
    "duration": 30,
    "start_time": "2022-05-07T22:20:30.445Z"
   },
   {
    "duration": 2775,
    "start_time": "2022-05-07T22:21:07.692Z"
   },
   {
    "duration": 4,
    "start_time": "2022-05-07T22:21:12.007Z"
   },
   {
    "duration": 1066,
    "start_time": "2022-05-07T22:21:12.015Z"
   },
   {
    "duration": 210,
    "start_time": "2022-05-07T22:21:13.083Z"
   },
   {
    "duration": 833,
    "start_time": "2022-05-07T22:21:14.580Z"
   },
   {
    "duration": 198,
    "start_time": "2022-05-07T22:23:15.575Z"
   },
   {
    "duration": 1197,
    "start_time": "2022-05-07T22:35:44.077Z"
   },
   {
    "duration": 859,
    "start_time": "2022-05-07T22:36:43.559Z"
   },
   {
    "duration": 2795,
    "start_time": "2022-05-07T22:37:05.552Z"
   },
   {
    "duration": 2753,
    "start_time": "2022-05-07T22:37:43.280Z"
   },
   {
    "duration": 2909,
    "start_time": "2022-05-07T22:39:12.602Z"
   },
   {
    "duration": 4,
    "start_time": "2022-05-07T22:42:52.938Z"
   },
   {
    "duration": 1050,
    "start_time": "2022-05-07T22:42:52.948Z"
   },
   {
    "duration": 218,
    "start_time": "2022-05-07T22:42:54.000Z"
   },
   {
    "duration": 185,
    "start_time": "2022-05-07T22:42:59.286Z"
   },
   {
    "duration": 181,
    "start_time": "2022-05-07T22:43:19.079Z"
   },
   {
    "duration": 733,
    "start_time": "2022-05-07T22:43:34.512Z"
   },
   {
    "duration": 694,
    "start_time": "2022-05-07T22:44:16.489Z"
   },
   {
    "duration": 4,
    "start_time": "2022-05-07T22:44:21.173Z"
   },
   {
    "duration": 1032,
    "start_time": "2022-05-07T22:44:21.181Z"
   },
   {
    "duration": 201,
    "start_time": "2022-05-07T22:44:22.232Z"
   },
   {
    "duration": 743,
    "start_time": "2022-05-07T22:44:24.304Z"
   },
   {
    "duration": 738,
    "start_time": "2022-05-07T22:45:20.706Z"
   },
   {
    "duration": 734,
    "start_time": "2022-05-07T22:48:10.621Z"
   },
   {
    "duration": 48,
    "start_time": "2022-05-07T22:49:38.519Z"
   },
   {
    "duration": 52,
    "start_time": "2022-05-07T22:50:27.304Z"
   },
   {
    "duration": 4,
    "start_time": "2022-05-07T22:50:38.878Z"
   },
   {
    "duration": 1098,
    "start_time": "2022-05-07T22:50:38.888Z"
   },
   {
    "duration": 207,
    "start_time": "2022-05-07T22:50:42.199Z"
   },
   {
    "duration": 92,
    "start_time": "2022-05-07T22:51:24.929Z"
   },
   {
    "duration": 804,
    "start_time": "2022-05-07T22:51:30.657Z"
   },
   {
    "duration": 2675,
    "start_time": "2022-05-07T22:55:31.982Z"
   },
   {
    "duration": 2757,
    "start_time": "2022-05-07T22:55:59.798Z"
   },
   {
    "duration": 2836,
    "start_time": "2022-05-07T22:58:35.833Z"
   },
   {
    "duration": 2734,
    "start_time": "2022-05-07T22:59:07.497Z"
   },
   {
    "duration": 2837,
    "start_time": "2022-05-07T22:59:43.385Z"
   },
   {
    "duration": 3,
    "start_time": "2022-05-07T23:00:19.673Z"
   },
   {
    "duration": 1129,
    "start_time": "2022-05-07T23:00:19.680Z"
   },
   {
    "duration": 229,
    "start_time": "2022-05-07T23:00:20.811Z"
   },
   {
    "duration": 2845,
    "start_time": "2022-05-07T23:00:23.107Z"
   },
   {
    "duration": 2780,
    "start_time": "2022-05-07T23:00:45.131Z"
   },
   {
    "duration": 2688,
    "start_time": "2022-05-07T23:01:14.755Z"
   },
   {
    "duration": 2800,
    "start_time": "2022-05-07T23:01:30.019Z"
   },
   {
    "duration": 3,
    "start_time": "2022-05-07T23:01:50.962Z"
   },
   {
    "duration": 1042,
    "start_time": "2022-05-07T23:01:50.969Z"
   },
   {
    "duration": 206,
    "start_time": "2022-05-07T23:01:52.034Z"
   },
   {
    "duration": 56,
    "start_time": "2022-05-07T23:01:53.740Z"
   },
   {
    "duration": 52,
    "start_time": "2022-05-07T23:01:58.708Z"
   },
   {
    "duration": 135,
    "start_time": "2022-05-07T23:02:41.702Z"
   },
   {
    "duration": 2708,
    "start_time": "2022-05-07T23:03:37.861Z"
   },
   {
    "duration": 4,
    "start_time": "2022-05-07T23:03:44.431Z"
   },
   {
    "duration": 1038,
    "start_time": "2022-05-07T23:03:44.437Z"
   },
   {
    "duration": 216,
    "start_time": "2022-05-07T23:03:45.477Z"
   },
   {
    "duration": 60,
    "start_time": "2022-05-07T23:03:47.406Z"
   },
   {
    "duration": 57,
    "start_time": "2022-05-07T23:05:18.408Z"
   },
   {
    "duration": 2692,
    "start_time": "2022-05-07T23:06:05.450Z"
   },
   {
    "duration": 2736,
    "start_time": "2022-05-07T23:06:27.297Z"
   },
   {
    "duration": 2649,
    "start_time": "2022-05-07T23:07:08.658Z"
   },
   {
    "duration": 5,
    "start_time": "2022-05-07T23:07:24.288Z"
   },
   {
    "duration": 1083,
    "start_time": "2022-05-07T23:07:24.295Z"
   },
   {
    "duration": 216,
    "start_time": "2022-05-07T23:07:25.380Z"
   },
   {
    "duration": 59,
    "start_time": "2022-05-07T23:07:29.178Z"
   },
   {
    "duration": 60,
    "start_time": "2022-05-07T23:08:33.108Z"
   },
   {
    "duration": 4,
    "start_time": "2022-05-07T23:09:07.441Z"
   },
   {
    "duration": 1033,
    "start_time": "2022-05-07T23:09:07.447Z"
   },
   {
    "duration": 207,
    "start_time": "2022-05-07T23:09:08.482Z"
   },
   {
    "duration": 65,
    "start_time": "2022-05-07T23:09:28.509Z"
   },
   {
    "duration": 59,
    "start_time": "2022-05-07T23:10:40.959Z"
   },
   {
    "duration": 766,
    "start_time": "2022-05-07T23:11:20.696Z"
   },
   {
    "duration": 2793,
    "start_time": "2022-05-07T23:11:30.144Z"
   },
   {
    "duration": 3,
    "start_time": "2022-05-07T23:11:37.839Z"
   },
   {
    "duration": 1033,
    "start_time": "2022-05-07T23:11:37.844Z"
   },
   {
    "duration": 207,
    "start_time": "2022-05-07T23:11:38.879Z"
   },
   {
    "duration": 232,
    "start_time": "2022-05-07T23:11:41.361Z"
   },
   {
    "duration": 4,
    "start_time": "2022-05-07T23:12:14.328Z"
   },
   {
    "duration": 1119,
    "start_time": "2022-05-07T23:12:14.337Z"
   },
   {
    "duration": 213,
    "start_time": "2022-05-07T23:12:15.458Z"
   },
   {
    "duration": 217,
    "start_time": "2022-05-07T23:12:17.265Z"
   },
   {
    "duration": 2928,
    "start_time": "2022-05-07T23:12:31.147Z"
   },
   {
    "duration": 3,
    "start_time": "2022-05-07T23:12:37.751Z"
   },
   {
    "duration": 1106,
    "start_time": "2022-05-07T23:12:37.760Z"
   },
   {
    "duration": 221,
    "start_time": "2022-05-07T23:12:38.869Z"
   },
   {
    "duration": 204,
    "start_time": "2022-05-07T23:12:41.554Z"
   },
   {
    "duration": 3251,
    "start_time": "2022-05-07T23:15:03.261Z"
   },
   {
    "duration": 4,
    "start_time": "2022-05-07T23:15:08.451Z"
   },
   {
    "duration": 1122,
    "start_time": "2022-05-07T23:15:08.457Z"
   },
   {
    "duration": 220,
    "start_time": "2022-05-07T23:15:09.580Z"
   },
   {
    "duration": 164,
    "start_time": "2022-05-07T23:15:11.652Z"
   },
   {
    "duration": 2682,
    "start_time": "2022-05-07T23:19:37.834Z"
   },
   {
    "duration": 4,
    "start_time": "2022-05-07T23:19:42.764Z"
   },
   {
    "duration": 1008,
    "start_time": "2022-05-07T23:19:42.772Z"
   },
   {
    "duration": 215,
    "start_time": "2022-05-07T23:19:43.782Z"
   },
   {
    "duration": 163,
    "start_time": "2022-05-07T23:19:46.105Z"
   },
   {
    "duration": 4,
    "start_time": "2022-05-07T23:22:21.167Z"
   },
   {
    "duration": 1072,
    "start_time": "2022-05-07T23:22:21.175Z"
   },
   {
    "duration": 208,
    "start_time": "2022-05-07T23:22:22.250Z"
   },
   {
    "duration": 89,
    "start_time": "2022-05-07T23:22:23.661Z"
   },
   {
    "duration": 826,
    "start_time": "2022-05-07T23:22:54.450Z"
   },
   {
    "duration": 4,
    "start_time": "2022-05-07T23:23:04.936Z"
   },
   {
    "duration": 1088,
    "start_time": "2022-05-07T23:23:04.949Z"
   },
   {
    "duration": 221,
    "start_time": "2022-05-07T23:23:06.039Z"
   },
   {
    "duration": 189,
    "start_time": "2022-05-07T23:23:08.302Z"
   },
   {
    "duration": 2644,
    "start_time": "2022-05-07T23:30:31.718Z"
   },
   {
    "duration": 4,
    "start_time": "2022-05-07T23:30:39.994Z"
   },
   {
    "duration": 1031,
    "start_time": "2022-05-07T23:30:40.003Z"
   },
   {
    "duration": 206,
    "start_time": "2022-05-07T23:30:41.036Z"
   },
   {
    "duration": 43,
    "start_time": "2022-05-07T23:30:42.909Z"
   },
   {
    "duration": 798,
    "start_time": "2022-05-07T23:33:05.953Z"
   },
   {
    "duration": 2894,
    "start_time": "2022-05-07T23:34:03.514Z"
   },
   {
    "duration": 4,
    "start_time": "2022-05-07T23:34:07.932Z"
   },
   {
    "duration": 1007,
    "start_time": "2022-05-07T23:34:07.938Z"
   },
   {
    "duration": 213,
    "start_time": "2022-05-07T23:34:08.947Z"
   },
   {
    "duration": 171,
    "start_time": "2022-05-07T23:34:10.745Z"
   },
   {
    "duration": 11592,
    "start_time": "2022-05-07T23:35:06.778Z"
   },
   {
    "duration": 0,
    "start_time": "2022-05-07T23:35:18.371Z"
   },
   {
    "duration": 0,
    "start_time": "2022-05-07T23:35:18.373Z"
   },
   {
    "duration": 0,
    "start_time": "2022-05-07T23:35:18.374Z"
   },
   {
    "duration": 4984,
    "start_time": "2022-05-07T23:35:19.922Z"
   },
   {
    "duration": 4,
    "start_time": "2022-05-07T23:35:32.053Z"
   },
   {
    "duration": 1078,
    "start_time": "2022-05-07T23:35:32.060Z"
   },
   {
    "duration": 207,
    "start_time": "2022-05-07T23:35:33.142Z"
   },
   {
    "duration": 231,
    "start_time": "2022-05-07T23:35:37.602Z"
   },
   {
    "duration": 66,
    "start_time": "2022-05-07T23:41:43.665Z"
   },
   {
    "duration": 4,
    "start_time": "2022-05-07T23:42:15.177Z"
   },
   {
    "duration": 2002,
    "start_time": "2022-05-07T23:42:22.762Z"
   },
   {
    "duration": 1143,
    "start_time": "2022-05-08T00:08:00.567Z"
   },
   {
    "duration": 953,
    "start_time": "2022-05-08T00:12:32.908Z"
   },
   {
    "duration": 825,
    "start_time": "2022-05-08T00:16:41.928Z"
   },
   {
    "duration": 972,
    "start_time": "2022-05-08T00:17:34.521Z"
   },
   {
    "duration": 1016,
    "start_time": "2022-05-08T00:19:30.955Z"
   },
   {
    "duration": 9,
    "start_time": "2022-05-08T00:26:27.867Z"
   },
   {
    "duration": 9,
    "start_time": "2022-05-08T00:28:59.022Z"
   },
   {
    "duration": 10,
    "start_time": "2022-05-08T00:30:58.185Z"
   },
   {
    "duration": 10,
    "start_time": "2022-05-08T00:31:17.697Z"
   },
   {
    "duration": 5,
    "start_time": "2022-05-08T00:32:36.979Z"
   },
   {
    "duration": 14,
    "start_time": "2022-05-08T00:32:43.099Z"
   },
   {
    "duration": 11,
    "start_time": "2022-05-08T00:32:53.706Z"
   },
   {
    "duration": 10,
    "start_time": "2022-05-08T00:33:02.755Z"
   },
   {
    "duration": 13,
    "start_time": "2022-05-08T00:33:30.452Z"
   },
   {
    "duration": 12,
    "start_time": "2022-05-08T00:33:42.324Z"
   },
   {
    "duration": 65,
    "start_time": "2022-05-08T13:57:33.033Z"
   },
   {
    "duration": 1332,
    "start_time": "2022-05-19T22:42:45.337Z"
   },
   {
    "duration": 1770,
    "start_time": "2022-05-19T22:42:46.671Z"
   },
   {
    "duration": 168,
    "start_time": "2022-05-19T22:42:48.443Z"
   },
   {
    "duration": 262,
    "start_time": "2022-05-19T22:42:48.613Z"
   },
   {
    "duration": 54,
    "start_time": "2022-05-19T22:42:48.877Z"
   },
   {
    "duration": 4,
    "start_time": "2022-05-19T22:42:48.932Z"
   },
   {
    "duration": 769,
    "start_time": "2022-05-19T22:42:48.937Z"
   },
   {
    "duration": 9,
    "start_time": "2022-05-19T22:42:49.707Z"
   },
   {
    "duration": 10,
    "start_time": "2022-05-19T22:43:03.035Z"
   }
  ],
  "kernelspec": {
   "display_name": "Python 3 (ipykernel)",
   "language": "python",
   "name": "python3"
  },
  "language_info": {
   "codemirror_mode": {
    "name": "ipython",
    "version": 3
   },
   "file_extension": ".py",
   "mimetype": "text/x-python",
   "name": "python",
   "nbconvert_exporter": "python",
   "pygments_lexer": "ipython3",
   "version": "3.9.7"
  },
  "toc": {
   "base_numbering": 1,
   "nav_menu": {
    "height": "252.998px",
    "width": "418.545px"
   },
   "number_sections": true,
   "sideBar": true,
   "skip_h1_title": true,
   "title_cell": "Содержание",
   "title_sidebar": "Contents",
   "toc_cell": true,
   "toc_position": {
    "height": "calc(100% - 180px)",
    "left": "10px",
    "top": "150px",
    "width": "213.008px"
   },
   "toc_section_display": true,
   "toc_window_display": true
  }
 },
 "nbformat": 4,
 "nbformat_minor": 4
}
