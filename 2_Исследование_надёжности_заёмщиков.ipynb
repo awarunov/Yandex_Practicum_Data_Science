{
 "cells": [
  {
   "cell_type": "markdown",
   "id": "146f71bb",
   "metadata": {},
   "source": [
    "# Исследование надежности заемщиков"
   ]
  },
  {
   "cell_type": "markdown",
   "id": "b9c034b3",
   "metadata": {},
   "source": [
    "Описание проекта   \n",
    "Заказчик — кредитный отдел банка.   \n",
    "Нужно разобраться, влияет ли семейное положение и количество детей клиента на факт погашения кредита в срок. Входные данные от банка — статистика о платёжеспособности клиентов.   \n",
    "Результаты исследования будут учтены при построении модели кредитного скоринга — специальной системы, которая оценивает способность потенциального заёмщика вернуть кредит банку."
   ]
  },
  {
   "cell_type": "markdown",
   "id": "4e9e3d3d",
   "metadata": {},
   "source": [
    "### Шаг 1. Обзор данных"
   ]
  },
  {
   "cell_type": "code",
   "execution_count": 1,
   "id": "d02242b2",
   "metadata": {},
   "outputs": [],
   "source": [
    "import pandas as pd\n",
    "# df = pd.read_csv('/home/user-0-1534496771/work/data.csv')\n",
    "# df.info()"
   ]
  },
  {
   "cell_type": "code",
   "execution_count": 2,
   "id": "3c772ed8",
   "metadata": {},
   "outputs": [],
   "source": [
    "#код ревьюера\n",
    "try:\n",
    "    df = pd.read_csv('/datasets/data.csv')\n",
    "except:\n",
    "    df = pd.read_csv('C:/Users/User/data.csv')"
   ]
  },
  {
   "cell_type": "code",
   "execution_count": 3,
   "id": "8cd06589",
   "metadata": {},
   "outputs": [
    {
     "name": "stdout",
     "output_type": "stream",
     "text": [
      "<class 'pandas.core.frame.DataFrame'>\n",
      "RangeIndex: 21525 entries, 0 to 21524\n",
      "Data columns (total 12 columns):\n",
      "children            21525 non-null int64\n",
      "days_employed       19351 non-null float64\n",
      "dob_years           21525 non-null int64\n",
      "education           21525 non-null object\n",
      "education_id        21525 non-null int64\n",
      "family_status       21525 non-null object\n",
      "family_status_id    21525 non-null int64\n",
      "gender              21525 non-null object\n",
      "income_type         21525 non-null object\n",
      "debt                21525 non-null int64\n",
      "total_income        19351 non-null float64\n",
      "purpose             21525 non-null object\n",
      "dtypes: float64(2), int64(5), object(5)\n",
      "memory usage: 2.0+ MB\n",
      "None\n",
      "\n",
      "Количество дубликатов: 54\n",
      "\n",
      "Количество пропусков:\n",
      "children               0\n",
      "days_employed       2174\n",
      "dob_years              0\n",
      "education              0\n",
      "education_id           0\n",
      "family_status          0\n",
      "family_status_id       0\n",
      "gender                 0\n",
      "income_type            0\n",
      "debt                   0\n",
      "total_income        2174\n",
      "purpose                0\n",
      "dtype: int64\n",
      "\n",
      "Минимальные:\n",
      "children                               -1\n",
      "days_employed                    -18388.9\n",
      "dob_years                               0\n",
      "education                          ВЫСШЕЕ\n",
      "education_id                            0\n",
      "family_status       Не женат / не замужем\n",
      "family_status_id                        0\n",
      "gender                                  F\n",
      "income_type                   безработный\n",
      "debt                                    0\n",
      "total_income                      20667.3\n",
      "purpose                        автомобили\n",
      "dtype: object\n",
      "\n",
      "Максимальные:\n",
      "children                         20\n",
      "days_employed                401755\n",
      "dob_years                        75\n",
      "education            ученая степень\n",
      "education_id                      4\n",
      "family_status       женат / замужем\n",
      "family_status_id                  4\n",
      "gender                          XNA\n",
      "income_type                 студент\n",
      "debt                              1\n",
      "total_income             2.2656e+06\n",
      "purpose             сыграть свадьбу\n",
      "dtype: object\n",
      "\n",
      "Значения количества детей клиента в датасете:\n",
      "[-1, 0, 1, 2, 3, 4, 5, 20]\n",
      "\n",
      "Значения возраста клиента в датасете:\n",
      "[0, 19, 20, 21, 22, 23, 24, 25, 26, 27, 28, 29, 30, 31, 32, 33, 34, 35, 36, 37, 38, 39, 40, 41, 42, 43, 44, 45, 46, 47, 48, 49, 50, 51, 52, 53, 54, 55, 56, 57, 58, 59, 60, 61, 62, 63, 64, 65, 66, 67, 68, 69, 70, 71, 72, 73, 74, 75]\n",
      "\n",
      "Значения образования клиента в датасете:\n",
      "['ВЫСШЕЕ', 'Высшее', 'НАЧАЛЬНОЕ', 'НЕОКОНЧЕННОЕ ВЫСШЕЕ', 'Начальное', 'Неоконченное высшее', 'СРЕДНЕЕ', 'Среднее', 'УЧЕНАЯ СТЕПЕНЬ', 'Ученая степень', 'высшее', 'начальное', 'неоконченное высшее', 'среднее', 'ученая степень']\n",
      "\n",
      "Значения семейного положения клиента в датасете:\n",
      "['Не женат / не замужем', 'в разводе', 'вдовец / вдова', 'гражданский брак', 'женат / замужем']\n",
      "\n",
      "Значения income_type клиента в датасете:\n",
      "['безработный', 'в декрете', 'госслужащий', 'компаньон', 'пенсионер', 'предприниматель', 'сотрудник', 'студент']\n",
      "Значения пола клиента в датасете:\n",
      "F      14236\n",
      "M       7288\n",
      "XNA        1\n",
      "Name: gender, dtype: int64\n",
      "\n",
      "Минимальное значение общего трудового стажа в днях среди положительных значений датасета:\n",
      "328728.72060451825\n",
      "Максимальное значение общего трудового стажа в днях среди отрицательных значений датасета:\n",
      "18388.949900568383\n"
     ]
    }
   ],
   "source": [
    "print(df.info())\n",
    "print()\n",
    "print('Количество дубликатов:', df.duplicated().sum())\n",
    "print()\n",
    "print('Количество пропусков:')\n",
    "print(df.isna().sum())\n",
    "print()\n",
    "print('Минимальные:')\n",
    "print(df.min())\n",
    "print()\n",
    "print('Максимальные:')\n",
    "print(df.max())\n",
    "print()\n",
    "print('Значения количества детей клиента в датасете:')\n",
    "print(sorted(df['children'].unique()))\n",
    "print()\n",
    "print('Значения возраста клиента в датасете:')\n",
    "print(sorted(df['dob_years'].unique()))\n",
    "print()\n",
    "print('Значения образования клиента в датасете:')\n",
    "print(sorted(df['education'].unique()))\n",
    "print()\n",
    "print('Значения семейного положения клиента в датасете:')\n",
    "print(sorted(df['family_status'].unique()))\n",
    "print()\n",
    "print('Значения income_type клиента в датасете:')\n",
    "print(sorted(df['income_type'].unique()))\n",
    "\n",
    "print('Значения пола клиента в датасете:')\n",
    "print(df['gender'].value_counts())\n",
    "print()\n",
    "print('Минимальное значение общего трудового стажа в днях среди положительных значений датасета:')\n",
    "print(min(df[df['days_employed'] > 0]['days_employed']))\n",
    "print('Максимальное значение общего трудового стажа в днях среди отрицательных значений датасета:')\n",
    "print(max(abs(df[df['days_employed'] < 0]['days_employed'])))\n",
    "\n",
    "\n"
   ]
  },
  {
   "cell_type": "markdown",
   "id": "b325c0ef",
   "metadata": {},
   "source": [
    "В результате обзора данных в столбцах days_employed, total_income выявлены пропуски данных, также имеются дубликаты строк, также аномальные (странные) значения: в столбцах days_employed и children встречаются отрицательные значения, в столбце children присутствует значение 20, в столбце days_employed положительные значения от 900 лет (нормыльными значениями представляются отрицательные значения по модулю), в столбце dob_years встречается значение 0, в столбце education встречаются повторы в разных регистрах, в столбце gender присутствует значение XNA."
   ]
  },
  {
   "cell_type": "markdown",
   "id": "4932104d",
   "metadata": {},
   "source": [
    "### Шаг 2.1 Заполнение пропусков"
   ]
  },
  {
   "cell_type": "code",
   "execution_count": 4,
   "id": "41a4855d",
   "metadata": {},
   "outputs": [
    {
     "name": "stdout",
     "output_type": "stream",
     "text": [
      "Количество и доля пропущенных значений в каждом столбце days_employed и\n",
      "total_income составляют соответственно: 2174 шт. 10.1 %\n",
      "Медиана столбца total_income: 145017.9\n"
     ]
    }
   ],
   "source": [
    " try:\n",
    "    print('Количество и доля пропущенных значений в каждом столбце days_employed и\\ntotal_income составляют соответственно:', \n",
    "          df['days_employed'].isna().sum(), 'шт.', round(df['days_employed'].isna().mean()*100, 1), '%')\n",
    "    print('Медиана столбца total_income:', round(df['total_income'].median(), 1))\n",
    "    df['total_income'] = df['total_income'].fillna(df.groupby('income_type')['total_income'].transform(\"median\"))\n",
    "except:\n",
    "    print('Возникла ошибка, нужно разбираться!')"
   ]
  },
  {
   "cell_type": "markdown",
   "id": "7a79d5cd",
   "metadata": {},
   "source": [
    "В двух столбцах предоставленного датасета отсуствуют значения (NaN) в количестве 2174 шт. в каждом. Это составляет около 10 % данных соответствующих столбцов датасета. Исходя из имеющегося описания даных, пропуски содержатся в столбце days_employed - это общий трудовой стаж в днях и в столбце total_income — это ежемесячный доход. Среди возможных причин появления пропусков - отсуствие занятости заёмщиков, наличие \"теневой\" занятости заёмщиков, ошибки при выгрузке данных кредитным отделом банка, незаполненность анкетных данных заёмщиками. Заполнение пропусков медианными значениями в данном случае является наилучшим решением, так как целью исследования является анализ поведения клиента по данным, указанным в иных столбцах датасета и заполнение медианными значениями окажет наименьший эффект на результаты исследования."
   ]
  },
  {
   "cell_type": "markdown",
   "id": "dbe70733",
   "metadata": {},
   "source": [
    "### Шаг 2.2 Проверка данных на аномалии и исправления."
   ]
  },
  {
   "cell_type": "code",
   "execution_count": 5,
   "id": "cabed450",
   "metadata": {},
   "outputs": [
    {
     "name": "stdout",
     "output_type": "stream",
     "text": [
      "Количество аномальных значений столбца days_employed(все положительные значения) 3445 , что составляет долю в размере 16.0 % от всего количества записей датасета - исправлено замещением аномальных положительных значений медианами\n",
      "отрицательных значений по типам занятости клиентов (по модулю соотвествуют описанию данных), отрицательные значения замещены их модулями, оставшиеся заполнены \n",
      "медианой всех значений по модулю, отрицательные значения в количестве 15906 замещены модулем их значений.\n",
      "Количество отрицательных значений столбца children(исправлено - заполнено модулем значений): 47\n",
      "Максимальное значение столбца children(исправлено - заполнено медианой): 20\n"
     ]
    }
   ],
   "source": [
    "try:\n",
    "    print('Количество аномальных значений столбца days_employed(все положительные значения)',\n",
    "      df[df['days_employed'] > 0]['days_employed'].count(), ', что составляет долю в размере', round((df[df['days_employed'] > 0]['days_employed'].count()/len(df))*100, 2),\n",
    "      '%', '''от всего количества записей датасета - исправлено замещением аномальных положительных значений медианами\n",
    "отрицательных значений по типам занятости клиентов (по модулю соотвествуют описанию данных), отрицательные значения замещены их модулями, оставшиеся заполнены \n",
    "медианой всех значений по модулю, отрицательные значения в количестве''', df[df['days_employed'] < 0]['days_employed'].count(),\n",
    "      'замещены модулем их значений.')\n",
    "    df['days_employed'] = df[df['days_employed'] < 0].groupby('income_type')['days_employed'].transform(\"median\")\n",
    "    df['days_employed'] = df['days_employed'].abs()\n",
    "    df['days_employed'] = df['days_employed'].fillna(df.groupby('income_type')['days_employed'].transform(\"median\"))\n",
    "    #заполняем оставшиеся пропуски, не входящие в группы нормальных значений, медианой колонки\n",
    "    df['days_employed'] = df['days_employed'].fillna(df['days_employed'].median())\n",
    "    print('Количество отрицательных значений столбца children(исправлено - заполнено модулем значений):', df[df['children'] < 0]['children'].count())\n",
    "    df['children'] = df['children'].abs()\n",
    "    print('Максимальное значение столбца children(исправлено - заполнено медианой):', df['children'].max())\n",
    "    df[df['children'] == 20] = df['children'].median()\n",
    "except:\n",
    "    print('Возникла ошибка, нужно разбираться!')"
   ]
  },
  {
   "cell_type": "markdown",
   "id": "1d0539d1",
   "metadata": {},
   "source": [
    "В столбце children содержатся 47 отрицательных значений, что не соотвествует описанию данных. Такое несоотвествие считаем аномалией и заменяем модулем значений.\n",
    "Максимальное значение столбца children 20, что не соотвествует возможным значениям в соотвествии с описанием данных. Данное несоотвествие считаем аномалией и заменяем медианой значений."
   ]
  },
  {
   "cell_type": "markdown",
   "id": "d08fc159",
   "metadata": {},
   "source": [
    "### Шаг 2.3. Изменение типов данных."
   ]
  },
  {
   "cell_type": "code",
   "execution_count": 6,
   "id": "10388d14",
   "metadata": {},
   "outputs": [],
   "source": [
    "df['total_income'] = df['total_income'].astype('int64')"
   ]
  },
  {
   "cell_type": "markdown",
   "id": "e12faa00",
   "metadata": {},
   "source": [
    "### Шаг 2.4. Удаление дубликатов."
   ]
  },
  {
   "cell_type": "code",
   "execution_count": 7,
   "id": "9a015894",
   "metadata": {},
   "outputs": [
    {
     "name": "stdout",
     "output_type": "stream",
     "text": [
      "['высшее' 'среднее' 'Среднее' 'СРЕДНЕЕ' 'ВЫСШЕЕ' 'неоконченное высшее'\n",
      " 'начальное' 'Высшее' 'НЕОКОНЧЕННОЕ ВЫСШЕЕ' 'Неоконченное высшее' 0.0\n",
      " 'НАЧАЛЬНОЕ' 'Начальное' 'Ученая степень' 'УЧЕНАЯ СТЕПЕНЬ'\n",
      " 'ученая степень']\n",
      "['женат / замужем' 'гражданский брак' 'вдовец / вдова' 'в разводе'\n",
      " 'не женат / не замужем']\n",
      "['f' 'm' 'xna']\n",
      "['покупка жилья' 'приобретение автомобиля' 'дополнительное образование'\n",
      " 'сыграть свадьбу' 'операции с жильем' 'образование'\n",
      " 'на проведение свадьбы' 'покупка жилья для семьи' 'покупка недвижимости'\n",
      " 'покупка коммерческой недвижимости' 'покупка жилой недвижимости'\n",
      " 'строительство собственной недвижимости' 'недвижимость'\n",
      " 'строительство недвижимости' 'на покупку подержанного автомобиля'\n",
      " 'на покупку своего автомобиля' 'операции с коммерческой недвижимостью'\n",
      " 'строительство жилой недвижимости' 'жилье'\n",
      " 'операции со своей недвижимостью' 'автомобили' 'заняться образованием'\n",
      " 'сделка с подержанным автомобилем' 'получение образования' 'автомобиль'\n",
      " 'свадьба' 'получение дополнительного образования' 'покупка своего жилья'\n",
      " 'операции с недвижимостью' 'получение высшего образования'\n",
      " 'свой автомобиль' 'сделка с автомобилем' 'профильное образование'\n",
      " 'высшее образование' 'покупка жилья для сдачи' 'на покупку автомобиля'\n",
      " 'ремонт жилью' 'заняться высшим образованием']\n"
     ]
    }
   ],
   "source": [
    "try:\n",
    "    df = df.drop_duplicates()\n",
    "    print(df['education'].unique())\n",
    "    df['education'] = df['education'].str.lower()\n",
    "    df['family_status'] = df['family_status'].str.lower()\n",
    "    df['gender'] = df['gender'].str.lower()\n",
    "    df = df.dropna()\n",
    "    print(df['family_status'].unique())\n",
    "    print(df['gender'].unique())\n",
    "    print(df['purpose'].unique())\n",
    "    \n",
    "except:\n",
    "    print('Возникла ошибка, нужно разбираться!')"
   ]
  },
  {
   "cell_type": "markdown",
   "id": "24cc8716",
   "metadata": {},
   "source": [
    "Выбор метода поиска и удаления дубликатов определяется поставленной задачей. Так для поиска полных дубликатов строк в датасете использован метод drop_duplicates(). Для поиска неполных дубликатов использован метод unique(), т.к. не требуется подсчёт упоминания вариантов каждого значения в датасете. Также использован метод str.lower(), который заменяет значения, переводя в нижний регистр строковые данные. Появление дубликатов обусловлено ошибками при выгрузке данных, ошибками при вводе в всвязи с отсуствием общей категоризации данных на разных участках их ввода."
   ]
  },
  {
   "cell_type": "markdown",
   "id": "a4f7e80a",
   "metadata": {},
   "source": [
    "### Шаг 2.5. Формирование дополнительных датафреймов словарей, декомпозиция исходного датафрейма."
   ]
  },
  {
   "cell_type": "code",
   "execution_count": 8,
   "id": "28ac229f",
   "metadata": {},
   "outputs": [],
   "source": [
    "try:\n",
    "    df1 = df[['education_id', 'education']]\n",
    "    df2 = df[['family_status_id', 'family_status']]\n",
    "    df = df.drop(columns={'education', 'family_status'})\n",
    "except:\n",
    "    print('Возникла ошибка, нужно разбираться!')"
   ]
  },
  {
   "cell_type": "markdown",
   "id": "31431eca",
   "metadata": {},
   "source": [
    "### Шаг 2.6. Категоризация дохода."
   ]
  },
  {
   "cell_type": "code",
   "execution_count": 9,
   "id": "dfda6665",
   "metadata": {},
   "outputs": [],
   "source": [
    "def total_income_category(row):\n",
    "    if row['total_income'] in range(30001):\n",
    "        return 'E'\n",
    "    elif row['total_income'] in range(30001, 50001):\n",
    "        return 'D'\n",
    "    elif row['total_income'] in range(50001, 200001):\n",
    "        return 'C'\n",
    "    elif row['total_income'] in range(200001, 1000001):\n",
    "        return 'B'\n",
    "    elif row['total_income'] in range(1000001, (row['total_income']+1)):\n",
    "        return 'A'\n",
    "df['total_income_category'] = df.apply(total_income_category, axis = 1)"
   ]
  },
  {
   "cell_type": "markdown",
   "id": "8ec7b0e6",
   "metadata": {},
   "source": [
    "### Шаг 2.7. Категоризация целей кредита."
   ]
  },
  {
   "cell_type": "code",
   "execution_count": 10,
   "id": "e2924b3c",
   "metadata": {},
   "outputs": [],
   "source": [
    "def purpose_category(purpose):\n",
    "    if 'авто' in purpose:\n",
    "        return 'операции с автомобилем'\n",
    "    elif 'недвиж' in purpose or 'жил' in purpose:\n",
    "        return 'операции с недвижимостью'\n",
    "    elif 'свадьб' in purpose:\n",
    "        return 'проведение свадьбы'\n",
    "    elif 'образо' in purpose:\n",
    "        return 'получение образования'\n",
    "try:\n",
    "    df['purpose_category'] = df['purpose'].apply(purpose_category)\n",
    "except:\n",
    "    print('Возникла ошибка, нужно разбираться!')"
   ]
  },
  {
   "cell_type": "markdown",
   "id": "c119c96c",
   "metadata": {},
   "source": [
    "### Шаг 3. Ответы на вопросы."
   ]
  },
  {
   "cell_type": "markdown",
   "id": "cace0706",
   "metadata": {},
   "source": [
    "##### Вопрос 1: Есть ли зависимость между количеством детей и возвратом кредита в срок?"
   ]
  },
  {
   "cell_type": "code",
   "execution_count": 11,
   "id": "a4b86897",
   "metadata": {},
   "outputs": [
    {
     "data": {
      "text/html": [
       "<div>\n",
       "<style scoped>\n",
       "    .dataframe tbody tr th:only-of-type {\n",
       "        vertical-align: middle;\n",
       "    }\n",
       "\n",
       "    .dataframe tbody tr th {\n",
       "        vertical-align: top;\n",
       "    }\n",
       "\n",
       "    .dataframe thead th {\n",
       "        text-align: right;\n",
       "    }\n",
       "</style>\n",
       "<table border=\"1\" class=\"dataframe\">\n",
       "  <thead>\n",
       "    <tr style=\"text-align: right;\">\n",
       "      <th></th>\n",
       "      <th>children</th>\n",
       "      <th>total.count</th>\n",
       "      <th>debt_1.count</th>\n",
       "      <th>debt_1.mean</th>\n",
       "    </tr>\n",
       "  </thead>\n",
       "  <tbody>\n",
       "    <tr>\n",
       "      <td>0</td>\n",
       "      <td>0.0</td>\n",
       "      <td>14107</td>\n",
       "      <td>1063.0</td>\n",
       "      <td>7.54%</td>\n",
       "    </tr>\n",
       "    <tr>\n",
       "      <td>1</td>\n",
       "      <td>1.0</td>\n",
       "      <td>4856</td>\n",
       "      <td>445.0</td>\n",
       "      <td>9.16%</td>\n",
       "    </tr>\n",
       "    <tr>\n",
       "      <td>2</td>\n",
       "      <td>2.0</td>\n",
       "      <td>2052</td>\n",
       "      <td>194.0</td>\n",
       "      <td>9.45%</td>\n",
       "    </tr>\n",
       "    <tr>\n",
       "      <td>3</td>\n",
       "      <td>3.0</td>\n",
       "      <td>330</td>\n",
       "      <td>27.0</td>\n",
       "      <td>8.18%</td>\n",
       "    </tr>\n",
       "    <tr>\n",
       "      <td>4</td>\n",
       "      <td>4.0</td>\n",
       "      <td>41</td>\n",
       "      <td>4.0</td>\n",
       "      <td>9.76%</td>\n",
       "    </tr>\n",
       "    <tr>\n",
       "      <td>5</td>\n",
       "      <td>5.0</td>\n",
       "      <td>9</td>\n",
       "      <td>0.0</td>\n",
       "      <td>0.0%</td>\n",
       "    </tr>\n",
       "  </tbody>\n",
       "</table>\n",
       "</div>"
      ],
      "text/plain": [
       "   children  total.count  debt_1.count debt_1.mean\n",
       "0       0.0        14107        1063.0       7.54%\n",
       "1       1.0         4856         445.0       9.16%\n",
       "2       2.0         2052         194.0       9.45%\n",
       "3       3.0          330          27.0       8.18%\n",
       "4       4.0           41           4.0       9.76%\n",
       "5       5.0            9           0.0        0.0%"
      ]
     },
     "execution_count": 11,
     "metadata": {},
     "output_type": "execute_result"
    }
   ],
   "source": [
    "df_pivot_children = df.pivot_table(index='children', values='debt', aggfunc=['count', 'sum', 'mean']).reset_index()\n",
    "df_pivot_children.columns = df_pivot_children.columns.droplevel(1)\n",
    "df_pivot_children.columns = ['children', 'total.count', 'debt_1.count', 'debt_1.mean']\n",
    "df_pivot_children['debt_1.mean'] = (df_pivot_children['debt_1.mean'] * 100).round(2).astype(str) + '%'\n",
    "df_pivot_children"
   ]
  },
  {
   "cell_type": "markdown",
   "id": "62687f73",
   "metadata": {},
   "source": [
    "**Вывод 1: Исследуя зависимость между наличием детей у заёмщика и возвратом кредита в срок, можно прийти к выводу, что максимальная доля должников в группах заёмщиков по количеству детей составляют группы с 2-мя и 4-мя детьми. Сравнивая показатели групп заёмщиков с детьми и бездетных заёмщиков, можно прийти к выводу, что заёмщики с детьми чаще допускают просрочку, но незначительно, на порядка 2%. С увеличением количества детей уменьшается репрезентативность выборки. Так для заёмщиков с 5 детьми выборке не имеется случаев посрочки.**"
   ]
  },
  {
   "cell_type": "markdown",
   "id": "02539dd8",
   "metadata": {},
   "source": [
    "##### Вопрос 2: Есть ли зависимость между семейным положением и возвратом кредита в срок?"
   ]
  },
  {
   "cell_type": "code",
   "execution_count": 12,
   "id": "195cbf44",
   "metadata": {},
   "outputs": [
    {
     "data": {
      "text/html": [
       "<div>\n",
       "<style scoped>\n",
       "    .dataframe tbody tr th:only-of-type {\n",
       "        vertical-align: middle;\n",
       "    }\n",
       "\n",
       "    .dataframe tbody tr th {\n",
       "        vertical-align: top;\n",
       "    }\n",
       "\n",
       "    .dataframe thead th {\n",
       "        text-align: right;\n",
       "    }\n",
       "</style>\n",
       "<table border=\"1\" class=\"dataframe\">\n",
       "  <thead>\n",
       "    <tr style=\"text-align: right;\">\n",
       "      <th></th>\n",
       "      <th>family_status</th>\n",
       "      <th>total.count</th>\n",
       "      <th>debt_1.count</th>\n",
       "      <th>debt_1.mean</th>\n",
       "    </tr>\n",
       "  </thead>\n",
       "  <tbody>\n",
       "    <tr>\n",
       "      <td>0</td>\n",
       "      <td>женат / замужем</td>\n",
       "      <td>12295</td>\n",
       "      <td>928.0</td>\n",
       "      <td>7.55%</td>\n",
       "    </tr>\n",
       "    <tr>\n",
       "      <td>1</td>\n",
       "      <td>гражданский брак</td>\n",
       "      <td>4151</td>\n",
       "      <td>385.0</td>\n",
       "      <td>9.27%</td>\n",
       "    </tr>\n",
       "    <tr>\n",
       "      <td>2</td>\n",
       "      <td>вдовец / вдова</td>\n",
       "      <td>955</td>\n",
       "      <td>63.0</td>\n",
       "      <td>6.6%</td>\n",
       "    </tr>\n",
       "    <tr>\n",
       "      <td>3</td>\n",
       "      <td>в разводе</td>\n",
       "      <td>1193</td>\n",
       "      <td>84.0</td>\n",
       "      <td>7.04%</td>\n",
       "    </tr>\n",
       "    <tr>\n",
       "      <td>4</td>\n",
       "      <td>не женат / не замужем</td>\n",
       "      <td>2801</td>\n",
       "      <td>273.0</td>\n",
       "      <td>9.75%</td>\n",
       "    </tr>\n",
       "  </tbody>\n",
       "</table>\n",
       "</div>"
      ],
      "text/plain": [
       "           family_status  total.count  debt_1.count debt_1.mean\n",
       "0        женат / замужем        12295         928.0       7.55%\n",
       "1       гражданский брак         4151         385.0       9.27%\n",
       "2         вдовец / вдова          955          63.0        6.6%\n",
       "3              в разводе         1193          84.0       7.04%\n",
       "4  не женат / не замужем         2801         273.0       9.75%"
      ]
     },
     "execution_count": 12,
     "metadata": {},
     "output_type": "execute_result"
    }
   ],
   "source": [
    "df_pivot_family = df.pivot_table(index='family_status_id', values='debt', aggfunc=['count', 'sum', 'mean']).reset_index()\n",
    "df_pivot_family.columns = df_pivot_family.columns.droplevel(1)\n",
    "df_pivot_family.columns = ['family_status_id', 'total.count', 'debt_1.count', 'debt_1.mean']\n",
    "df_pivot_family['debt_1.mean'] = (df_pivot_family['debt_1.mean'] * 100).round(2).astype(str) + '%'\n",
    "df_pivot_family = df_pivot_family.merge(df2.drop_duplicates().reset_index(drop=True).sort_values('family_status_id'), how='inner', on='family_status_id').drop(columns = 'family_status_id')\n",
    "df_pivot_family = df_pivot_family[['family_status', 'total.count', 'debt_1.count', 'debt_1.mean']]\n",
    "df_pivot_family"
   ]
  },
  {
   "cell_type": "markdown",
   "id": "94df211c",
   "metadata": {},
   "source": [
    "**Вывод 2: Исследуя зависимость между семейным положением и просрочками по кредитам, можно прийти к выводу, что большинство просрочек допускают кредиторы относящиеся к группам холостых и состоящих в гражданском браке, менее всех - в разводе и вдовцы(вдовицы), но выборки по ним не репрезентативны.**"
   ]
  },
  {
   "cell_type": "markdown",
   "id": "c19cb909",
   "metadata": {},
   "source": [
    "##### Вопрос 3: Есть ли зависимость между уровнем дохода и возвратом кредита в срок?"
   ]
  },
  {
   "cell_type": "code",
   "execution_count": 13,
   "id": "2cd2ced8",
   "metadata": {},
   "outputs": [
    {
     "data": {
      "text/html": [
       "<div>\n",
       "<style scoped>\n",
       "    .dataframe tbody tr th:only-of-type {\n",
       "        vertical-align: middle;\n",
       "    }\n",
       "\n",
       "    .dataframe tbody tr th {\n",
       "        vertical-align: top;\n",
       "    }\n",
       "\n",
       "    .dataframe thead th {\n",
       "        text-align: right;\n",
       "    }\n",
       "</style>\n",
       "<table border=\"1\" class=\"dataframe\">\n",
       "  <thead>\n",
       "    <tr style=\"text-align: right;\">\n",
       "      <th></th>\n",
       "      <th>total_income_category</th>\n",
       "      <th>total.count</th>\n",
       "      <th>debt_1.count</th>\n",
       "      <th>debt_1.mean</th>\n",
       "    </tr>\n",
       "  </thead>\n",
       "  <tbody>\n",
       "    <tr>\n",
       "      <td>0</td>\n",
       "      <td>A</td>\n",
       "      <td>25</td>\n",
       "      <td>2</td>\n",
       "      <td>8.0%</td>\n",
       "    </tr>\n",
       "    <tr>\n",
       "      <td>1</td>\n",
       "      <td>B</td>\n",
       "      <td>5022</td>\n",
       "      <td>354</td>\n",
       "      <td>7.05%</td>\n",
       "    </tr>\n",
       "    <tr>\n",
       "      <td>2</td>\n",
       "      <td>C</td>\n",
       "      <td>15976</td>\n",
       "      <td>1354</td>\n",
       "      <td>8.48%</td>\n",
       "    </tr>\n",
       "    <tr>\n",
       "      <td>3</td>\n",
       "      <td>D</td>\n",
       "      <td>350</td>\n",
       "      <td>21</td>\n",
       "      <td>6.0%</td>\n",
       "    </tr>\n",
       "    <tr>\n",
       "      <td>4</td>\n",
       "      <td>E</td>\n",
       "      <td>22</td>\n",
       "      <td>2</td>\n",
       "      <td>9.09%</td>\n",
       "    </tr>\n",
       "  </tbody>\n",
       "</table>\n",
       "</div>"
      ],
      "text/plain": [
       "  total_income_category  total.count  debt_1.count debt_1.mean\n",
       "0                     A           25             2        8.0%\n",
       "1                     B         5022           354       7.05%\n",
       "2                     C        15976          1354       8.48%\n",
       "3                     D          350            21        6.0%\n",
       "4                     E           22             2       9.09%"
      ]
     },
     "execution_count": 13,
     "metadata": {},
     "output_type": "execute_result"
    }
   ],
   "source": [
    "df_pivot_income = df.pivot_table(index='total_income_category', values='debt', aggfunc=['count', 'sum', 'mean']).reset_index()\n",
    "df_pivot_income.columns = df_pivot_income.columns.droplevel(1)\n",
    "df_pivot_income.columns = ['total_income_category', 'total.count', 'debt_1.count', 'debt_1.mean']\n",
    "df_pivot_income['debt_1.mean'] = (df_pivot_income['debt_1.mean'] * 100).round(2).astype(str) + '%'\n",
    "df_pivot_income['debt_1.count'] = df_pivot_income['debt_1.count'].astype(int)\n",
    "df_pivot_income"
   ]
  },
  {
   "cell_type": "markdown",
   "id": "91532454",
   "metadata": {},
   "source": [
    "**Вывод 3: Исследуя зависимость между уровнем дохода и просрочками по кредиту, можно прийти к выводу, что максимальная доля просрочек имеется в нерепрезентативной выборке группы с доходом до 30 тыс., тем же недостатоком характеризуется и выборка заёмщиков с доходом от 1 млн. Максимальная просрочка достигается в репрезентативной группе с доходом от 50 тыс. до 200 тыс.**"
   ]
  },
  {
   "cell_type": "markdown",
   "id": "4b89c520",
   "metadata": {},
   "source": [
    "##### Вопрос 4: Как разные цели кредита влияют на его возврат в срок?"
   ]
  },
  {
   "cell_type": "code",
   "execution_count": 14,
   "id": "4851c2b5",
   "metadata": {},
   "outputs": [
    {
     "data": {
      "text/html": [
       "<div>\n",
       "<style scoped>\n",
       "    .dataframe tbody tr th:only-of-type {\n",
       "        vertical-align: middle;\n",
       "    }\n",
       "\n",
       "    .dataframe tbody tr th {\n",
       "        vertical-align: top;\n",
       "    }\n",
       "\n",
       "    .dataframe thead th {\n",
       "        text-align: right;\n",
       "    }\n",
       "</style>\n",
       "<table border=\"1\" class=\"dataframe\">\n",
       "  <thead>\n",
       "    <tr style=\"text-align: right;\">\n",
       "      <th></th>\n",
       "      <th>purpose_category</th>\n",
       "      <th>total.count</th>\n",
       "      <th>debt_1.count</th>\n",
       "      <th>debt_1.mean</th>\n",
       "    </tr>\n",
       "  </thead>\n",
       "  <tbody>\n",
       "    <tr>\n",
       "      <td>0</td>\n",
       "      <td>операции с автомобилем</td>\n",
       "      <td>4292</td>\n",
       "      <td>401</td>\n",
       "      <td>9.34%</td>\n",
       "    </tr>\n",
       "    <tr>\n",
       "      <td>1</td>\n",
       "      <td>операции с недвижимостью</td>\n",
       "      <td>10778</td>\n",
       "      <td>780</td>\n",
       "      <td>7.24%</td>\n",
       "    </tr>\n",
       "    <tr>\n",
       "      <td>2</td>\n",
       "      <td>получение образования</td>\n",
       "      <td>3999</td>\n",
       "      <td>369</td>\n",
       "      <td>9.23%</td>\n",
       "    </tr>\n",
       "    <tr>\n",
       "      <td>3</td>\n",
       "      <td>проведение свадьбы</td>\n",
       "      <td>2326</td>\n",
       "      <td>183</td>\n",
       "      <td>7.87%</td>\n",
       "    </tr>\n",
       "  </tbody>\n",
       "</table>\n",
       "</div>"
      ],
      "text/plain": [
       "           purpose_category  total.count  debt_1.count debt_1.mean\n",
       "0    операции с автомобилем         4292           401       9.34%\n",
       "1  операции с недвижимостью        10778           780       7.24%\n",
       "2     получение образования         3999           369       9.23%\n",
       "3        проведение свадьбы         2326           183       7.87%"
      ]
     },
     "execution_count": 14,
     "metadata": {},
     "output_type": "execute_result"
    }
   ],
   "source": [
    "df_pivot_purpose = df.pivot_table(index='purpose_category', values='debt', aggfunc=['count', 'sum', 'mean']).reset_index()\n",
    "df_pivot_purpose.columns = df_pivot_purpose.columns.droplevel(1)\n",
    "df_pivot_purpose.columns = ['purpose_category', 'total.count', 'debt_1.count', 'debt_1.mean']\n",
    "df_pivot_purpose['debt_1.mean'] = (df_pivot_purpose['debt_1.mean'] * 100).round(2).astype(str) + '%'\n",
    "df_pivot_purpose['debt_1.count'] = df_pivot_purpose['debt_1.count'].astype(int)\n",
    "df_pivot_purpose"
   ]
  },
  {
   "cell_type": "markdown",
   "id": "4b15b817",
   "metadata": {},
   "source": [
    "**Вывод 4: Исследуя зависимость между целями кредита и просрочками по нему, можно прийти к выводу, что больше остальных допускают просрочки заёмщики кредитов на операции с автомобилем и на получение образования. Меньше всех - на операции с недвижимостью, учитывая и самую большую группу заёмщиков с данной целью.**"
   ]
  },
  {
   "cell_type": "markdown",
   "id": "89df71cc",
   "metadata": {},
   "source": [
    "### Общий вывод:"
   ]
  },
  {
   "cell_type": "markdown",
   "id": "bf2fc953",
   "metadata": {},
   "source": [
    "**Исследование проведено по данным о банковских операциях по обслуживанию клиентов-физических лиц заёмщиков. Данные содержат ряд параметров, позволяющих исследовать потребителькое поведение клиента, а именно причины и факторы просрочек в оплате кредитов. Обобщая результат проведенного исследования можно сделать вывод о том, что существует ряд факторов, указывающих на риск возможной просрочки. Так нами проведён анализ данных, на основании которого установлено, что наиболее подвержены просрочкам по кредитам не женатые/не замужние, а равно состоящие в \"гражданском браке\" заёмщики, имеющие детей, с уровнем дохода до 30 тыс., а также от 50 тыс. до 200 тыс., пользующиеся кредитом для целей совершения операций с автомобилем или получения образования.**"
   ]
  }
 ],
 "metadata": {
  "ExecuteTimeLog": [
   {
    "duration": 3185,
    "start_time": "2022-02-24T13:42:22.812Z"
   },
   {
    "duration": 2499,
    "start_time": "2022-02-24T13:42:27.035Z"
   },
   {
    "duration": 2346,
    "start_time": "2022-02-24T13:46:56.360Z"
   },
   {
    "duration": 2446,
    "start_time": "2022-02-24T14:00:29.769Z"
   },
   {
    "duration": 8,
    "start_time": "2022-02-24T14:00:41.625Z"
   },
   {
    "duration": 287,
    "start_time": "2022-02-24T14:01:51.919Z"
   },
   {
    "duration": 1017,
    "start_time": "2022-02-24T14:12:11.278Z"
   },
   {
    "duration": 2868,
    "start_time": "2022-02-25T02:59:57.197Z"
   },
   {
    "duration": 278,
    "start_time": "2022-02-25T03:00:38.190Z"
   },
   {
    "duration": 276,
    "start_time": "2022-02-25T03:03:29.675Z"
   },
   {
    "duration": 11,
    "start_time": "2022-02-25T03:03:29.953Z"
   },
   {
    "duration": 5,
    "start_time": "2022-02-25T03:03:29.967Z"
   },
   {
    "duration": 104,
    "start_time": "2022-02-25T03:03:29.975Z"
   },
   {
    "duration": 11,
    "start_time": "2022-02-25T03:03:30.081Z"
   },
   {
    "duration": 6925,
    "start_time": "2022-02-25T03:14:39.965Z"
   },
   {
    "duration": 48,
    "start_time": "2022-02-25T03:15:09.814Z"
   },
   {
    "duration": 99,
    "start_time": "2022-02-25T03:16:10.671Z"
   },
   {
    "duration": 285,
    "start_time": "2022-02-25T03:16:35.790Z"
   },
   {
    "duration": 286,
    "start_time": "2022-02-25T03:16:49.999Z"
   },
   {
    "duration": 485,
    "start_time": "2022-02-25T03:18:30.513Z"
   },
   {
    "duration": 106,
    "start_time": "2022-02-25T03:19:21.715Z"
   },
   {
    "duration": 93,
    "start_time": "2022-02-25T03:20:22.739Z"
   },
   {
    "duration": 156,
    "start_time": "2022-02-25T03:20:38.915Z"
   },
   {
    "duration": 624,
    "start_time": "2022-02-25T03:21:02.067Z"
   },
   {
    "duration": 37,
    "start_time": "2022-02-25T03:22:06.901Z"
   },
   {
    "duration": 108,
    "start_time": "2022-02-25T03:24:17.841Z"
   },
   {
    "duration": 49,
    "start_time": "2022-02-25T03:24:27.151Z"
   },
   {
    "duration": 321,
    "start_time": "2022-02-25T03:25:34.650Z"
   },
   {
    "duration": 44,
    "start_time": "2022-02-25T03:25:44.242Z"
   },
   {
    "duration": 50,
    "start_time": "2022-02-25T03:25:52.482Z"
   },
   {
    "duration": 45,
    "start_time": "2022-02-25T03:26:27.468Z"
   },
   {
    "duration": 30,
    "start_time": "2022-02-25T03:28:00.844Z"
   },
   {
    "duration": 295,
    "start_time": "2022-02-25T03:28:52.062Z"
   },
   {
    "duration": 286,
    "start_time": "2022-02-25T03:29:09.238Z"
   },
   {
    "duration": 357,
    "start_time": "2022-02-25T03:29:13.921Z"
   },
   {
    "duration": 9,
    "start_time": "2022-02-25T03:29:14.280Z"
   },
   {
    "duration": 4,
    "start_time": "2022-02-25T03:29:14.293Z"
   },
   {
    "duration": 95,
    "start_time": "2022-02-25T03:29:14.300Z"
   },
   {
    "duration": 12,
    "start_time": "2022-02-25T03:29:14.398Z"
   },
   {
    "duration": 272,
    "start_time": "2022-02-25T03:29:17.095Z"
   },
   {
    "duration": 327,
    "start_time": "2022-02-25T03:29:28.563Z"
   },
   {
    "duration": 10,
    "start_time": "2022-02-25T03:29:28.893Z"
   },
   {
    "duration": 4,
    "start_time": "2022-02-25T03:29:28.907Z"
   },
   {
    "duration": 98,
    "start_time": "2022-02-25T03:29:28.914Z"
   },
   {
    "duration": 11,
    "start_time": "2022-02-25T03:29:33.135Z"
   },
   {
    "duration": 5,
    "start_time": "2022-02-25T03:37:41.360Z"
   },
   {
    "duration": 5065,
    "start_time": "2022-02-25T03:38:58.971Z"
   },
   {
    "duration": 89,
    "start_time": "2022-02-25T03:42:01.614Z"
   },
   {
    "duration": 108,
    "start_time": "2022-02-25T03:42:29.862Z"
   },
   {
    "duration": 3755,
    "start_time": "2022-02-25T03:42:39.430Z"
   },
   {
    "duration": 449,
    "start_time": "2022-02-25T03:43:27.632Z"
   },
   {
    "duration": 489,
    "start_time": "2022-02-25T03:43:51.792Z"
   },
   {
    "duration": 38,
    "start_time": "2022-02-25T03:52:21.220Z"
   },
   {
    "duration": 50,
    "start_time": "2022-02-25T04:10:20.825Z"
   },
   {
    "duration": 287,
    "start_time": "2022-02-25T04:10:40.290Z"
   },
   {
    "duration": 10,
    "start_time": "2022-02-25T04:10:40.580Z"
   },
   {
    "duration": 5,
    "start_time": "2022-02-25T04:10:40.593Z"
   },
   {
    "duration": 98,
    "start_time": "2022-02-25T04:10:40.601Z"
   },
   {
    "duration": 12,
    "start_time": "2022-02-25T04:10:40.702Z"
   },
   {
    "duration": 55,
    "start_time": "2022-02-25T04:10:40.716Z"
   },
   {
    "duration": 57,
    "start_time": "2022-02-25T04:10:43.817Z"
   },
   {
    "duration": 55,
    "start_time": "2022-02-25T04:11:13.050Z"
   },
   {
    "duration": 53,
    "start_time": "2022-02-25T04:11:28.307Z"
   },
   {
    "duration": 53,
    "start_time": "2022-02-25T04:12:10.268Z"
   },
   {
    "duration": 229,
    "start_time": "2022-02-25T04:12:35.876Z"
   },
   {
    "duration": 10,
    "start_time": "2022-02-25T04:12:36.108Z"
   },
   {
    "duration": 4,
    "start_time": "2022-02-25T04:12:36.121Z"
   },
   {
    "duration": 89,
    "start_time": "2022-02-25T04:12:36.128Z"
   },
   {
    "duration": 13,
    "start_time": "2022-02-25T04:12:36.220Z"
   },
   {
    "duration": 52,
    "start_time": "2022-02-25T04:12:36.236Z"
   },
   {
    "duration": 70,
    "start_time": "2022-02-25T04:12:36.291Z"
   },
   {
    "duration": 49,
    "start_time": "2022-02-25T04:12:38.325Z"
   },
   {
    "duration": 50,
    "start_time": "2022-02-25T04:13:42.469Z"
   },
   {
    "duration": 300,
    "start_time": "2022-02-25T04:14:29.606Z"
   },
   {
    "duration": 331,
    "start_time": "2022-02-25T04:14:47.766Z"
   },
   {
    "duration": 312,
    "start_time": "2022-02-25T04:15:37.375Z"
   },
   {
    "duration": 55,
    "start_time": "2022-02-25T04:16:32.905Z"
   },
   {
    "duration": 31,
    "start_time": "2022-02-25T04:16:52.897Z"
   },
   {
    "duration": 313,
    "start_time": "2022-02-25T04:17:05.081Z"
   },
   {
    "duration": 39,
    "start_time": "2022-02-25T04:17:12.321Z"
   },
   {
    "duration": 121,
    "start_time": "2022-02-25T04:18:09.562Z"
   },
   {
    "duration": 102,
    "start_time": "2022-02-25T04:18:13.747Z"
   },
   {
    "duration": 103,
    "start_time": "2022-02-25T04:18:26.699Z"
   },
   {
    "duration": 42,
    "start_time": "2022-02-25T04:18:45.483Z"
   },
   {
    "duration": 102,
    "start_time": "2022-02-25T04:21:55.239Z"
   },
   {
    "duration": 298,
    "start_time": "2022-02-25T04:22:28.064Z"
   },
   {
    "duration": 339,
    "start_time": "2022-02-25T04:22:51.320Z"
   },
   {
    "duration": 47,
    "start_time": "2022-02-25T04:23:33.090Z"
   },
   {
    "duration": 33,
    "start_time": "2022-02-25T04:25:15.380Z"
   },
   {
    "duration": 40,
    "start_time": "2022-02-25T04:25:44.411Z"
   },
   {
    "duration": 62,
    "start_time": "2022-02-25T04:25:55.069Z"
   },
   {
    "duration": 308,
    "start_time": "2022-02-25T04:27:34.575Z"
   },
   {
    "duration": 303,
    "start_time": "2022-02-25T04:27:53.878Z"
   },
   {
    "duration": 311,
    "start_time": "2022-02-25T04:40:40.918Z"
   },
   {
    "duration": 1104,
    "start_time": "2022-02-25T04:41:20.406Z"
   },
   {
    "duration": 496,
    "start_time": "2022-02-25T04:42:00.600Z"
   },
   {
    "duration": 3794,
    "start_time": "2022-02-25T04:42:42.529Z"
   },
   {
    "duration": 2176,
    "start_time": "2022-02-25T04:44:25.891Z"
   },
   {
    "duration": 306,
    "start_time": "2022-02-25T04:44:43.297Z"
   },
   {
    "duration": 9,
    "start_time": "2022-02-25T04:44:43.607Z"
   },
   {
    "duration": 5,
    "start_time": "2022-02-25T04:44:43.621Z"
   },
   {
    "duration": 99,
    "start_time": "2022-02-25T04:44:43.629Z"
   },
   {
    "duration": 11,
    "start_time": "2022-02-25T04:44:43.731Z"
   },
   {
    "duration": 45,
    "start_time": "2022-02-25T04:44:43.745Z"
   },
   {
    "duration": 2134,
    "start_time": "2022-02-25T04:44:47.651Z"
   },
   {
    "duration": 3535,
    "start_time": "2022-02-25T04:45:29.701Z"
   },
   {
    "duration": 517,
    "start_time": "2022-02-25T04:46:37.877Z"
   },
   {
    "duration": 520,
    "start_time": "2022-02-25T04:46:56.213Z"
   },
   {
    "duration": 1282,
    "start_time": "2022-02-25T04:50:45.302Z"
   },
   {
    "duration": 2331,
    "start_time": "2022-02-25T04:51:07.867Z"
   },
   {
    "duration": 336,
    "start_time": "2022-02-25T04:51:28.152Z"
   },
   {
    "duration": 10,
    "start_time": "2022-02-25T04:51:28.491Z"
   },
   {
    "duration": 20,
    "start_time": "2022-02-25T04:51:28.504Z"
   },
   {
    "duration": 86,
    "start_time": "2022-02-25T04:51:28.527Z"
   },
   {
    "duration": 13,
    "start_time": "2022-02-25T04:51:28.615Z"
   },
   {
    "duration": 79,
    "start_time": "2022-02-25T04:51:28.630Z"
   },
   {
    "duration": 2081,
    "start_time": "2022-02-25T04:51:32.123Z"
   },
   {
    "duration": 1281,
    "start_time": "2022-02-25T04:52:04.620Z"
   },
   {
    "duration": 2311,
    "start_time": "2022-02-25T04:52:18.332Z"
   },
   {
    "duration": 239,
    "start_time": "2022-02-25T04:52:45.242Z"
   },
   {
    "duration": 10,
    "start_time": "2022-02-25T04:52:45.484Z"
   },
   {
    "duration": 4,
    "start_time": "2022-02-25T04:52:45.497Z"
   },
   {
    "duration": 97,
    "start_time": "2022-02-25T04:52:45.504Z"
   },
   {
    "duration": 11,
    "start_time": "2022-02-25T04:52:45.604Z"
   },
   {
    "duration": 48,
    "start_time": "2022-02-25T04:52:45.618Z"
   },
   {
    "duration": 2072,
    "start_time": "2022-02-25T04:52:47.605Z"
   },
   {
    "duration": 5206,
    "start_time": "2022-02-25T04:53:29.678Z"
   },
   {
    "duration": 111,
    "start_time": "2022-02-25T04:54:14.255Z"
   },
   {
    "duration": 3714,
    "start_time": "2022-02-25T04:54:26.336Z"
   },
   {
    "duration": 281,
    "start_time": "2022-02-25T04:55:10.352Z"
   },
   {
    "duration": 4081,
    "start_time": "2022-02-25T04:55:25.521Z"
   },
   {
    "duration": 65,
    "start_time": "2022-02-25T04:56:14.908Z"
   },
   {
    "duration": 3925,
    "start_time": "2022-02-25T04:57:05.754Z"
   },
   {
    "duration": 1311,
    "start_time": "2022-02-25T04:59:00.967Z"
   },
   {
    "duration": 111,
    "start_time": "2022-02-25T05:05:24.446Z"
   },
   {
    "duration": 105,
    "start_time": "2022-02-25T05:05:35.221Z"
   },
   {
    "duration": 1282,
    "start_time": "2022-02-25T05:06:09.165Z"
   },
   {
    "duration": 1275,
    "start_time": "2022-02-25T05:06:50.783Z"
   },
   {
    "duration": 464,
    "start_time": "2022-02-25T05:07:05.903Z"
   },
   {
    "duration": 153,
    "start_time": "2022-02-25T05:08:11.624Z"
   },
   {
    "duration": 148,
    "start_time": "2022-02-25T05:09:32.875Z"
   },
   {
    "duration": 220,
    "start_time": "2022-02-25T05:11:28.424Z"
   },
   {
    "duration": 10,
    "start_time": "2022-02-25T05:11:28.646Z"
   },
   {
    "duration": 6,
    "start_time": "2022-02-25T05:11:28.658Z"
   },
   {
    "duration": 67,
    "start_time": "2022-02-25T05:11:28.666Z"
   },
   {
    "duration": 32,
    "start_time": "2022-02-25T05:11:28.737Z"
   },
   {
    "duration": 33,
    "start_time": "2022-02-25T05:11:28.772Z"
   },
   {
    "duration": 3784,
    "start_time": "2022-02-25T05:11:28.808Z"
   },
   {
    "duration": 4297,
    "start_time": "2022-02-25T05:11:58.191Z"
   },
   {
    "duration": 1133,
    "start_time": "2022-02-25T05:12:26.534Z"
   },
   {
    "duration": 548,
    "start_time": "2022-02-25T05:12:40.734Z"
   },
   {
    "duration": 1053,
    "start_time": "2022-02-25T05:14:09.248Z"
   },
   {
    "duration": 615,
    "start_time": "2022-02-25T07:31:50.341Z"
   },
   {
    "duration": 955,
    "start_time": "2022-02-25T07:31:59.184Z"
   },
   {
    "duration": 6,
    "start_time": "2022-02-25T07:32:00.141Z"
   },
   {
    "duration": 5,
    "start_time": "2022-02-25T07:32:00.149Z"
   },
   {
    "duration": 44,
    "start_time": "2022-02-25T07:32:00.156Z"
   },
   {
    "duration": 7,
    "start_time": "2022-02-25T07:32:00.202Z"
   },
   {
    "duration": 27,
    "start_time": "2022-02-25T07:32:00.232Z"
   },
   {
    "duration": 1787,
    "start_time": "2022-02-25T07:32:00.001Z"
   },
   {
    "duration": 1403,
    "start_time": "2022-02-25T07:32:10.603Z"
   },
   {
    "duration": 1278,
    "start_time": "2022-02-25T07:32:52.859Z"
   },
   {
    "duration": 1310,
    "start_time": "2022-02-25T07:33:20.450Z"
   },
   {
    "duration": 322,
    "start_time": "2022-02-25T07:38:44.396Z"
   },
   {
    "duration": 4265,
    "start_time": "2022-02-25T07:40:01.811Z"
   },
   {
    "duration": 32,
    "start_time": "2022-02-25T07:40:42.074Z"
   },
   {
    "duration": 1369,
    "start_time": "2022-02-25T07:40:56.645Z"
   },
   {
    "duration": 1471,
    "start_time": "2022-02-25T07:44:19.006Z"
   },
   {
    "duration": 575,
    "start_time": "2022-02-25T07:48:37.282Z"
   },
   {
    "duration": 1352,
    "start_time": "2022-02-25T07:48:52.953Z"
   },
   {
    "duration": 532,
    "start_time": "2022-02-25T07:51:21.558Z"
   },
   {
    "duration": 534,
    "start_time": "2022-02-25T07:52:36.054Z"
   },
   {
    "duration": 302,
    "start_time": "2022-02-25T07:53:24.253Z"
   },
   {
    "duration": 278,
    "start_time": "2022-02-25T07:53:37.470Z"
   },
   {
    "duration": 6,
    "start_time": "2022-02-25T07:53:37.749Z"
   },
   {
    "duration": 8,
    "start_time": "2022-02-25T07:53:37.757Z"
   },
   {
    "duration": 58,
    "start_time": "2022-02-25T07:53:37.767Z"
   },
   {
    "duration": 9,
    "start_time": "2022-02-25T07:53:37.827Z"
   },
   {
    "duration": 20,
    "start_time": "2022-02-25T07:53:37.837Z"
   },
   {
    "duration": 294,
    "start_time": "2022-02-25T07:53:40.620Z"
   },
   {
    "duration": 18,
    "start_time": "2022-02-25T07:53:46.988Z"
   },
   {
    "duration": 13,
    "start_time": "2022-02-25T07:54:28.880Z"
   },
   {
    "duration": 18,
    "start_time": "2022-02-25T07:54:48.867Z"
   },
   {
    "duration": 1533,
    "start_time": "2022-02-25T07:55:12.291Z"
   },
   {
    "duration": 2541,
    "start_time": "2022-02-25T07:55:48.323Z"
   },
   {
    "duration": 2776,
    "start_time": "2022-02-25T07:57:18.664Z"
   },
   {
    "duration": 68,
    "start_time": "2022-02-25T07:58:03.721Z"
   },
   {
    "duration": 86,
    "start_time": "2022-02-25T07:58:17.808Z"
   },
   {
    "duration": 390,
    "start_time": "2022-02-25T07:59:38.842Z"
   },
   {
    "duration": 132,
    "start_time": "2022-02-25T08:02:01.237Z"
   },
   {
    "duration": 221,
    "start_time": "2022-02-25T08:02:18.547Z"
   },
   {
    "duration": 241,
    "start_time": "2022-02-25T08:03:51.218Z"
   },
   {
    "duration": 220,
    "start_time": "2022-02-25T08:04:20.234Z"
   },
   {
    "duration": 86,
    "start_time": "2022-02-25T08:10:54.314Z"
   },
   {
    "duration": 1743,
    "start_time": "2022-02-25T08:12:34.502Z"
   },
   {
    "duration": 207,
    "start_time": "2022-02-25T08:12:56.006Z"
   },
   {
    "duration": 6,
    "start_time": "2022-02-25T08:12:56.215Z"
   },
   {
    "duration": 5,
    "start_time": "2022-02-25T08:12:56.223Z"
   },
   {
    "duration": 46,
    "start_time": "2022-02-25T08:12:56.230Z"
   },
   {
    "duration": 8,
    "start_time": "2022-02-25T08:12:56.278Z"
   },
   {
    "duration": 21,
    "start_time": "2022-02-25T08:12:56.287Z"
   },
   {
    "duration": 1198,
    "start_time": "2022-02-25T08:12:58.688Z"
   },
   {
    "duration": 19,
    "start_time": "2022-02-25T08:15:09.558Z"
   },
   {
    "duration": 6,
    "start_time": "2022-02-25T08:15:20.179Z"
   },
   {
    "duration": 3522,
    "start_time": "2022-02-25T08:37:27.135Z"
   },
   {
    "duration": 3368,
    "start_time": "2022-02-25T08:38:00.871Z"
   },
   {
    "duration": 766,
    "start_time": "2022-02-25T08:38:06.495Z"
   },
   {
    "duration": 880,
    "start_time": "2022-02-25T08:38:26.174Z"
   },
   {
    "duration": 101,
    "start_time": "2022-02-25T08:38:45.965Z"
   },
   {
    "duration": 326,
    "start_time": "2022-02-25T08:38:59.182Z"
   },
   {
    "duration": 885,
    "start_time": "2022-02-25T08:39:04.333Z"
   },
   {
    "duration": 339,
    "start_time": "2022-02-25T08:39:42.173Z"
   },
   {
    "duration": 1712,
    "start_time": "2022-02-25T08:41:50.258Z"
   },
   {
    "duration": 1708,
    "start_time": "2022-02-25T08:41:50.263Z"
   },
   {
    "duration": 1708,
    "start_time": "2022-02-25T08:41:50.264Z"
   },
   {
    "duration": 1707,
    "start_time": "2022-02-25T08:41:50.265Z"
   },
   {
    "duration": 1707,
    "start_time": "2022-02-25T08:41:50.267Z"
   },
   {
    "duration": 1708,
    "start_time": "2022-02-25T08:41:50.267Z"
   },
   {
    "duration": 1707,
    "start_time": "2022-02-25T08:41:50.268Z"
   },
   {
    "duration": 351,
    "start_time": "2022-02-25T08:42:19.154Z"
   },
   {
    "duration": 322,
    "start_time": "2022-02-25T08:42:46.586Z"
   },
   {
    "duration": 27919,
    "start_time": "2022-02-25T08:49:40.638Z"
   },
   {
    "duration": 1290,
    "start_time": "2022-02-25T08:50:14.966Z"
   },
   {
    "duration": 367,
    "start_time": "2022-02-25T08:51:48.707Z"
   },
   {
    "duration": 1703,
    "start_time": "2022-02-25T08:54:48.109Z"
   },
   {
    "duration": 1703,
    "start_time": "2022-02-25T08:54:48.110Z"
   },
   {
    "duration": 1704,
    "start_time": "2022-02-25T08:54:48.110Z"
   },
   {
    "duration": 1704,
    "start_time": "2022-02-25T08:54:48.111Z"
   },
   {
    "duration": 1704,
    "start_time": "2022-02-25T08:54:48.112Z"
   },
   {
    "duration": 1703,
    "start_time": "2022-02-25T08:54:48.113Z"
   },
   {
    "duration": 1702,
    "start_time": "2022-02-25T08:54:48.115Z"
   },
   {
    "duration": 432,
    "start_time": "2022-02-25T08:54:59.466Z"
   },
   {
    "duration": 1554,
    "start_time": "2022-02-25T08:55:36.536Z"
   },
   {
    "duration": 112,
    "start_time": "2022-02-25T08:55:48.575Z"
   },
   {
    "duration": 299,
    "start_time": "2022-02-25T08:58:47.592Z"
   },
   {
    "duration": 7,
    "start_time": "2022-02-25T08:58:47.893Z"
   },
   {
    "duration": 4,
    "start_time": "2022-02-25T08:58:47.901Z"
   },
   {
    "duration": 59,
    "start_time": "2022-02-25T08:58:47.907Z"
   },
   {
    "duration": 8,
    "start_time": "2022-02-25T08:58:47.968Z"
   },
   {
    "duration": 22,
    "start_time": "2022-02-25T08:58:47.977Z"
   },
   {
    "duration": 56260,
    "start_time": "2022-02-25T08:58:48.001Z"
   },
   {
    "duration": 1553,
    "start_time": "2022-02-25T09:06:40.612Z"
   },
   {
    "duration": 507,
    "start_time": "2022-02-25T09:06:58.141Z"
   },
   {
    "duration": 594,
    "start_time": "2022-02-25T09:07:44.163Z"
   },
   {
    "duration": 96,
    "start_time": "2022-02-25T09:08:15.754Z"
   },
   {
    "duration": 1636,
    "start_time": "2022-02-25T09:08:24.066Z"
   },
   {
    "duration": 1411,
    "start_time": "2022-02-25T09:12:14.382Z"
   },
   {
    "duration": 368,
    "start_time": "2022-02-25T09:22:17.516Z"
   },
   {
    "duration": 6,
    "start_time": "2022-02-25T09:22:17.886Z"
   },
   {
    "duration": 4,
    "start_time": "2022-02-25T09:22:17.893Z"
   },
   {
    "duration": 46,
    "start_time": "2022-02-25T09:22:17.899Z"
   },
   {
    "duration": 8,
    "start_time": "2022-02-25T09:22:17.946Z"
   },
   {
    "duration": 18,
    "start_time": "2022-02-25T09:22:17.955Z"
   },
   {
    "duration": 2825,
    "start_time": "2022-02-25T09:22:23.948Z"
   },
   {
    "duration": 322,
    "start_time": "2022-02-25T09:23:25.435Z"
   },
   {
    "duration": 20,
    "start_time": "2022-02-25T09:23:30.571Z"
   },
   {
    "duration": 5,
    "start_time": "2022-02-25T09:23:52.155Z"
   },
   {
    "duration": 515,
    "start_time": "2022-02-25T09:24:29.091Z"
   },
   {
    "duration": 532,
    "start_time": "2022-02-25T09:24:57.857Z"
   },
   {
    "duration": 667,
    "start_time": "2022-02-25T09:25:07.105Z"
   },
   {
    "duration": 2093,
    "start_time": "2022-02-25T09:25:47.169Z"
   },
   {
    "duration": 1449,
    "start_time": "2022-02-25T09:26:05.360Z"
   },
   {
    "duration": 1238,
    "start_time": "2022-02-25T09:28:56.277Z"
   },
   {
    "duration": 1387,
    "start_time": "2022-02-25T09:29:19.589Z"
   },
   {
    "duration": 6,
    "start_time": "2022-02-25T09:30:06.324Z"
   },
   {
    "duration": 8,
    "start_time": "2022-02-25T09:30:18.787Z"
   },
   {
    "duration": 1771,
    "start_time": "2022-02-25T09:30:45.012Z"
   },
   {
    "duration": 1410,
    "start_time": "2022-02-25T09:45:41.564Z"
   },
   {
    "duration": 1542,
    "start_time": "2022-02-25T09:45:56.332Z"
   },
   {
    "duration": 1597,
    "start_time": "2022-02-25T09:45:59.844Z"
   },
   {
    "duration": 306,
    "start_time": "2022-02-25T09:47:15.280Z"
   },
   {
    "duration": 6,
    "start_time": "2022-02-25T09:47:15.588Z"
   },
   {
    "duration": 4,
    "start_time": "2022-02-25T09:47:15.596Z"
   },
   {
    "duration": 45,
    "start_time": "2022-02-25T09:47:15.601Z"
   },
   {
    "duration": 7,
    "start_time": "2022-02-25T09:47:15.648Z"
   },
   {
    "duration": 19,
    "start_time": "2022-02-25T09:47:15.657Z"
   },
   {
    "duration": 2591,
    "start_time": "2022-02-25T09:47:15.678Z"
   },
   {
    "duration": 2490,
    "start_time": "2022-02-25T09:47:38.275Z"
   },
   {
    "duration": 2542,
    "start_time": "2022-02-25T09:47:51.731Z"
   },
   {
    "duration": 1421,
    "start_time": "2022-02-25T09:48:11.010Z"
   },
   {
    "duration": 122,
    "start_time": "2022-02-25T09:48:39.729Z"
   },
   {
    "duration": 1318,
    "start_time": "2022-02-25T09:48:44.081Z"
   },
   {
    "duration": 1326,
    "start_time": "2022-02-25T09:49:06.512Z"
   },
   {
    "duration": 322,
    "start_time": "2022-02-25T09:49:31.098Z"
   },
   {
    "duration": 2529,
    "start_time": "2022-02-25T09:49:44.728Z"
   },
   {
    "duration": 102,
    "start_time": "2022-02-25T09:50:56.119Z"
   },
   {
    "duration": 866,
    "start_time": "2022-02-25T09:57:05.131Z"
   },
   {
    "duration": 7,
    "start_time": "2022-02-25T09:57:05.999Z"
   },
   {
    "duration": 7,
    "start_time": "2022-02-25T09:57:06.007Z"
   },
   {
    "duration": 48,
    "start_time": "2022-02-25T09:57:06.016Z"
   },
   {
    "duration": 7,
    "start_time": "2022-02-25T09:57:06.066Z"
   },
   {
    "duration": 21,
    "start_time": "2022-02-25T09:57:06.074Z"
   },
   {
    "duration": 799,
    "start_time": "2022-02-25T09:58:00.078Z"
   },
   {
    "duration": 8,
    "start_time": "2022-02-25T09:58:00.880Z"
   },
   {
    "duration": 14,
    "start_time": "2022-02-25T09:58:00.890Z"
   },
   {
    "duration": 60,
    "start_time": "2022-02-25T09:58:00.906Z"
   },
   {
    "duration": 12,
    "start_time": "2022-02-25T09:58:00.968Z"
   },
   {
    "duration": 35,
    "start_time": "2022-02-25T09:58:00.982Z"
   },
   {
    "duration": 8,
    "start_time": "2022-02-25T09:58:04.071Z"
   },
   {
    "duration": 7,
    "start_time": "2022-02-25T09:58:40.070Z"
   },
   {
    "duration": 5,
    "start_time": "2022-02-25T09:59:02.374Z"
   },
   {
    "duration": 2492,
    "start_time": "2022-02-25T09:59:16.703Z"
   },
   {
    "duration": 1446,
    "start_time": "2022-02-25T10:03:06.257Z"
   },
   {
    "duration": 325,
    "start_time": "2022-02-25T10:03:33.769Z"
   },
   {
    "duration": 6,
    "start_time": "2022-02-25T10:03:48.280Z"
   },
   {
    "duration": 1521,
    "start_time": "2022-02-25T10:11:02.428Z"
   },
   {
    "duration": 18,
    "start_time": "2022-02-25T10:11:41.528Z"
   },
   {
    "duration": 345,
    "start_time": "2022-02-25T10:20:47.017Z"
   },
   {
    "duration": 6,
    "start_time": "2022-02-25T10:20:47.364Z"
   },
   {
    "duration": 7,
    "start_time": "2022-02-25T10:20:47.372Z"
   },
   {
    "duration": 58,
    "start_time": "2022-02-25T10:20:47.381Z"
   },
   {
    "duration": 8,
    "start_time": "2022-02-25T10:20:47.440Z"
   },
   {
    "duration": 21,
    "start_time": "2022-02-25T10:20:47.449Z"
   },
   {
    "duration": 20,
    "start_time": "2022-02-25T10:20:50.879Z"
   },
   {
    "duration": 54,
    "start_time": "2022-02-25T10:20:58.614Z"
   },
   {
    "duration": 387,
    "start_time": "2022-02-25T10:23:30.022Z"
   },
   {
    "duration": 1331,
    "start_time": "2022-02-25T10:23:53.712Z"
   },
   {
    "duration": 339,
    "start_time": "2022-02-25T10:23:59.611Z"
   },
   {
    "duration": 821,
    "start_time": "2022-02-25T10:24:02.318Z"
   },
   {
    "duration": 6,
    "start_time": "2022-02-25T10:24:03.141Z"
   },
   {
    "duration": 3,
    "start_time": "2022-02-25T10:24:03.150Z"
   },
   {
    "duration": 46,
    "start_time": "2022-02-25T10:24:03.155Z"
   },
   {
    "duration": 7,
    "start_time": "2022-02-25T10:24:03.202Z"
   },
   {
    "duration": 37,
    "start_time": "2022-02-25T10:24:03.211Z"
   },
   {
    "duration": 32,
    "start_time": "2022-02-25T10:24:03.250Z"
   },
   {
    "duration": 26,
    "start_time": "2022-02-25T10:24:16.264Z"
   },
   {
    "duration": 21,
    "start_time": "2022-02-25T10:26:18.030Z"
   },
   {
    "duration": 38,
    "start_time": "2022-02-25T10:26:36.046Z"
   },
   {
    "duration": 24,
    "start_time": "2022-02-25T10:27:13.499Z"
   },
   {
    "duration": 266,
    "start_time": "2022-02-25T10:29:04.424Z"
   },
   {
    "duration": 5,
    "start_time": "2022-02-25T10:29:04.692Z"
   },
   {
    "duration": 12,
    "start_time": "2022-02-25T10:29:04.699Z"
   },
   {
    "duration": 61,
    "start_time": "2022-02-25T10:29:04.712Z"
   },
   {
    "duration": 9,
    "start_time": "2022-02-25T10:29:04.775Z"
   },
   {
    "duration": 41,
    "start_time": "2022-02-25T10:29:04.786Z"
   },
   {
    "duration": 25,
    "start_time": "2022-02-25T10:29:07.947Z"
   },
   {
    "duration": 399,
    "start_time": "2022-02-25T10:31:35.326Z"
   },
   {
    "duration": 35,
    "start_time": "2022-02-25T10:31:50.512Z"
   },
   {
    "duration": 31,
    "start_time": "2022-02-25T10:33:25.107Z"
   },
   {
    "duration": 34,
    "start_time": "2022-02-25T10:34:04.230Z"
   },
   {
    "duration": 30,
    "start_time": "2022-02-25T10:34:14.182Z"
   },
   {
    "duration": 36,
    "start_time": "2022-02-25T10:34:19.550Z"
   },
   {
    "duration": 28,
    "start_time": "2022-02-25T10:35:33.981Z"
   },
   {
    "duration": 28,
    "start_time": "2022-02-25T10:35:39.965Z"
   },
   {
    "duration": 30,
    "start_time": "2022-02-25T10:35:57.733Z"
   },
   {
    "duration": 29,
    "start_time": "2022-02-25T10:36:06.868Z"
   },
   {
    "duration": 388,
    "start_time": "2022-02-25T10:36:45.956Z"
   },
   {
    "duration": 24,
    "start_time": "2022-02-25T10:37:05.739Z"
   },
   {
    "duration": 31,
    "start_time": "2022-02-25T10:37:17.731Z"
   },
   {
    "duration": 41,
    "start_time": "2022-02-25T10:37:25.964Z"
   },
   {
    "duration": 30,
    "start_time": "2022-02-25T10:37:36.075Z"
   },
   {
    "duration": 45,
    "start_time": "2022-02-25T10:37:51.770Z"
   },
   {
    "duration": 651,
    "start_time": "2022-02-25T10:48:58.126Z"
   },
   {
    "duration": 40,
    "start_time": "2022-02-25T10:49:17.342Z"
   },
   {
    "duration": 36,
    "start_time": "2022-02-25T10:49:59.914Z"
   },
   {
    "duration": 46,
    "start_time": "2022-02-25T11:08:31.563Z"
   },
   {
    "duration": 102,
    "start_time": "2022-02-25T11:09:49.686Z"
   },
   {
    "duration": 54,
    "start_time": "2022-02-25T11:10:21.833Z"
   },
   {
    "duration": 54,
    "start_time": "2022-02-25T11:10:36.753Z"
   },
   {
    "duration": 53,
    "start_time": "2022-02-25T11:11:47.824Z"
   },
   {
    "duration": 112,
    "start_time": "2022-02-25T11:12:07.592Z"
   },
   {
    "duration": 287,
    "start_time": "2022-02-25T11:12:26.211Z"
   },
   {
    "duration": 5,
    "start_time": "2022-02-25T11:12:26.500Z"
   },
   {
    "duration": 4,
    "start_time": "2022-02-25T11:12:26.507Z"
   },
   {
    "duration": 45,
    "start_time": "2022-02-25T11:12:26.512Z"
   },
   {
    "duration": 7,
    "start_time": "2022-02-25T11:12:26.559Z"
   },
   {
    "duration": 21,
    "start_time": "2022-02-25T11:12:26.567Z"
   },
   {
    "duration": 105,
    "start_time": "2022-02-25T11:12:29.039Z"
   },
   {
    "duration": 107,
    "start_time": "2022-02-25T11:12:42.151Z"
   },
   {
    "duration": 56,
    "start_time": "2022-02-25T11:12:51.054Z"
   },
   {
    "duration": 55,
    "start_time": "2022-02-25T11:13:10.143Z"
   },
   {
    "duration": 61,
    "start_time": "2022-02-25T11:13:29.518Z"
   },
   {
    "duration": 51,
    "start_time": "2022-02-25T11:14:45.364Z"
   },
   {
    "duration": 67,
    "start_time": "2022-02-25T11:15:31.033Z"
   },
   {
    "duration": 8,
    "start_time": "2022-02-25T11:16:51.666Z"
   },
   {
    "duration": 8,
    "start_time": "2022-02-25T11:16:59.737Z"
   },
   {
    "duration": 42,
    "start_time": "2022-02-25T11:17:17.682Z"
   },
   {
    "duration": 42,
    "start_time": "2022-02-25T11:18:13.448Z"
   },
   {
    "duration": 42,
    "start_time": "2022-02-25T11:18:26.697Z"
   },
   {
    "duration": 276,
    "start_time": "2022-02-25T11:18:53.913Z"
   },
   {
    "duration": 8,
    "start_time": "2022-02-25T11:18:54.191Z"
   },
   {
    "duration": 2,
    "start_time": "2022-02-25T11:18:54.201Z"
   },
   {
    "duration": 48,
    "start_time": "2022-02-25T11:18:54.205Z"
   },
   {
    "duration": 7,
    "start_time": "2022-02-25T11:18:54.255Z"
   },
   {
    "duration": 19,
    "start_time": "2022-02-25T11:18:54.263Z"
   },
   {
    "duration": 42,
    "start_time": "2022-02-25T11:18:57.000Z"
   },
   {
    "duration": 241,
    "start_time": "2022-02-25T11:20:17.246Z"
   },
   {
    "duration": 40,
    "start_time": "2022-02-25T11:20:42.254Z"
   },
   {
    "duration": 401,
    "start_time": "2022-02-25T11:21:52.604Z"
   },
   {
    "duration": 40,
    "start_time": "2022-02-25T11:22:14.964Z"
   },
   {
    "duration": 41,
    "start_time": "2022-02-25T11:22:22.900Z"
   },
   {
    "duration": 43,
    "start_time": "2022-02-25T11:23:21.260Z"
   },
   {
    "duration": 21,
    "start_time": "2022-02-25T11:23:35.171Z"
   },
   {
    "duration": 342,
    "start_time": "2022-02-25T11:23:56.691Z"
   },
   {
    "duration": 21,
    "start_time": "2022-02-25T11:24:15.386Z"
   },
   {
    "duration": 376,
    "start_time": "2022-02-25T11:24:33.418Z"
   },
   {
    "duration": 21,
    "start_time": "2022-02-25T11:24:41.497Z"
   },
   {
    "duration": 21,
    "start_time": "2022-02-25T11:27:33.207Z"
   },
   {
    "duration": 23,
    "start_time": "2022-02-25T11:27:44.414Z"
   },
   {
    "duration": 27,
    "start_time": "2022-02-25T11:39:03.915Z"
   },
   {
    "duration": 119,
    "start_time": "2022-02-25T11:41:02.282Z"
   },
   {
    "duration": 27,
    "start_time": "2022-02-25T11:41:10.561Z"
   },
   {
    "duration": 112,
    "start_time": "2022-02-25T11:41:34.681Z"
   },
   {
    "duration": 39,
    "start_time": "2022-02-25T11:41:47.496Z"
   },
   {
    "duration": 27,
    "start_time": "2022-02-25T11:43:08.743Z"
   },
   {
    "duration": 26,
    "start_time": "2022-02-25T11:43:41.118Z"
   },
   {
    "duration": 27,
    "start_time": "2022-02-25T11:43:49.103Z"
   },
   {
    "duration": 340,
    "start_time": "2022-02-25T11:44:24.325Z"
   },
   {
    "duration": 10,
    "start_time": "2022-02-25T12:17:16.555Z"
   },
   {
    "duration": 11,
    "start_time": "2022-02-25T12:18:49.568Z"
   },
   {
    "duration": 10,
    "start_time": "2022-02-25T12:19:11.840Z"
   },
   {
    "duration": 297,
    "start_time": "2022-02-25T12:19:32.006Z"
   },
   {
    "duration": 10,
    "start_time": "2022-02-25T12:19:35.745Z"
   },
   {
    "duration": 8,
    "start_time": "2022-02-25T12:20:02.024Z"
   },
   {
    "duration": 9,
    "start_time": "2022-02-25T12:20:11.422Z"
   },
   {
    "duration": 9,
    "start_time": "2022-02-25T12:22:06.469Z"
   },
   {
    "duration": 11,
    "start_time": "2022-02-25T12:27:07.840Z"
   },
   {
    "duration": 10,
    "start_time": "2022-02-25T12:27:29.512Z"
   },
   {
    "duration": 323,
    "start_time": "2022-02-25T12:27:52.192Z"
   },
   {
    "duration": 501,
    "start_time": "2022-02-25T12:28:20.457Z"
   },
   {
    "duration": 28,
    "start_time": "2022-02-25T12:28:38.831Z"
   },
   {
    "duration": 228,
    "start_time": "2022-02-25T12:29:24.248Z"
   },
   {
    "duration": 791,
    "start_time": "2022-02-25T12:29:28.678Z"
   },
   {
    "duration": 185,
    "start_time": "2022-02-25T12:30:13.779Z"
   },
   {
    "duration": 19,
    "start_time": "2022-02-25T12:30:18.670Z"
   },
   {
    "duration": 31,
    "start_time": "2022-02-25T12:30:27.541Z"
   },
   {
    "duration": 24,
    "start_time": "2022-02-25T12:31:25.236Z"
   },
   {
    "duration": 37,
    "start_time": "2022-02-25T12:32:31.443Z"
   },
   {
    "duration": 31,
    "start_time": "2022-02-25T12:33:16.410Z"
   },
   {
    "duration": 62,
    "start_time": "2022-02-25T12:33:51.659Z"
   },
   {
    "duration": 51,
    "start_time": "2022-02-25T12:34:04.106Z"
   },
   {
    "duration": 55,
    "start_time": "2022-02-25T12:34:43.956Z"
   },
   {
    "duration": 17,
    "start_time": "2022-02-25T12:40:56.585Z"
   },
   {
    "duration": 59,
    "start_time": "2022-02-25T12:41:06.106Z"
   },
   {
    "duration": 189,
    "start_time": "2022-02-25T12:41:13.964Z"
   },
   {
    "duration": 19,
    "start_time": "2022-02-25T12:41:14.155Z"
   },
   {
    "duration": 3,
    "start_time": "2022-02-25T12:41:14.177Z"
   },
   {
    "duration": 63,
    "start_time": "2022-02-25T12:41:14.182Z"
   },
   {
    "duration": 9,
    "start_time": "2022-02-25T12:41:14.247Z"
   },
   {
    "duration": 22,
    "start_time": "2022-02-25T12:41:14.258Z"
   },
   {
    "duration": 53,
    "start_time": "2022-02-25T12:41:18.561Z"
   },
   {
    "duration": 18,
    "start_time": "2022-02-25T12:42:09.088Z"
   },
   {
    "duration": 55,
    "start_time": "2022-02-25T12:42:19.632Z"
   },
   {
    "duration": 309,
    "start_time": "2022-02-25T12:42:45.255Z"
   },
   {
    "duration": 376,
    "start_time": "2022-02-25T12:43:02.095Z"
   },
   {
    "duration": 17,
    "start_time": "2022-02-25T12:43:10.455Z"
   },
   {
    "duration": 19,
    "start_time": "2022-02-25T12:43:37.175Z"
   },
   {
    "duration": 34,
    "start_time": "2022-02-25T12:43:57.894Z"
   },
   {
    "duration": 303,
    "start_time": "2022-02-25T12:44:21.005Z"
   },
   {
    "duration": 34,
    "start_time": "2022-02-25T12:44:24.486Z"
   },
   {
    "duration": 323,
    "start_time": "2022-02-25T12:44:39.006Z"
   },
   {
    "duration": 32,
    "start_time": "2022-02-25T12:44:45.909Z"
   },
   {
    "duration": 462,
    "start_time": "2022-02-25T13:01:15.161Z"
   },
   {
    "duration": 1095,
    "start_time": "2022-02-25T13:01:25.768Z"
   },
   {
    "duration": 84,
    "start_time": "2022-02-25T13:01:26.866Z"
   },
   {
    "duration": 6,
    "start_time": "2022-02-25T13:01:26.954Z"
   },
   {
    "duration": 106,
    "start_time": "2022-02-25T13:01:26.962Z"
   },
   {
    "duration": 13,
    "start_time": "2022-02-25T13:01:27.070Z"
   },
   {
    "duration": 63,
    "start_time": "2022-02-25T13:01:27.085Z"
   },
   {
    "duration": 111,
    "start_time": "2022-02-25T13:01:28.697Z"
   },
   {
    "duration": 417,
    "start_time": "2022-02-25T13:02:25.660Z"
   },
   {
    "duration": 89,
    "start_time": "2022-02-25T13:02:39.119Z"
   },
   {
    "duration": 90,
    "start_time": "2022-02-25T13:03:02.088Z"
   },
   {
    "duration": 94,
    "start_time": "2022-02-25T13:04:05.519Z"
   },
   {
    "duration": 100,
    "start_time": "2022-02-25T13:04:52.094Z"
   },
   {
    "duration": 109,
    "start_time": "2022-02-25T13:06:16.924Z"
   },
   {
    "duration": 105,
    "start_time": "2022-02-25T13:06:41.084Z"
   },
   {
    "duration": 2535,
    "start_time": "2022-02-25T13:08:02.227Z"
   },
   {
    "duration": 2270,
    "start_time": "2022-02-25T13:08:15.218Z"
   },
   {
    "duration": 97,
    "start_time": "2022-02-25T13:10:07.017Z"
   },
   {
    "duration": 83,
    "start_time": "2022-02-25T13:10:14.194Z"
   },
   {
    "duration": 56,
    "start_time": "2022-02-25T13:10:39.300Z"
   },
   {
    "duration": 44,
    "start_time": "2022-02-25T13:10:55.751Z"
   },
   {
    "duration": 48,
    "start_time": "2022-02-25T13:11:20.327Z"
   },
   {
    "duration": 91,
    "start_time": "2022-02-25T13:12:01.038Z"
   },
   {
    "duration": 326,
    "start_time": "2022-02-25T13:12:11.687Z"
   },
   {
    "duration": 37,
    "start_time": "2022-02-25T13:12:56.922Z"
   },
   {
    "duration": 418,
    "start_time": "2022-02-25T13:13:52.157Z"
   },
   {
    "duration": 27,
    "start_time": "2022-02-25T13:15:06.194Z"
   },
   {
    "duration": 18,
    "start_time": "2022-02-25T13:20:13.167Z"
   },
   {
    "duration": 31,
    "start_time": "2022-02-25T13:20:56.692Z"
   },
   {
    "duration": 28,
    "start_time": "2022-02-25T13:21:22.011Z"
   },
   {
    "duration": 299,
    "start_time": "2022-02-25T13:22:09.506Z"
   },
   {
    "duration": 290,
    "start_time": "2022-02-25T13:22:57.051Z"
   },
   {
    "duration": 303,
    "start_time": "2022-02-25T13:23:01.963Z"
   },
   {
    "duration": 77,
    "start_time": "2022-02-25T13:23:02.270Z"
   },
   {
    "duration": 5,
    "start_time": "2022-02-25T13:23:02.351Z"
   },
   {
    "duration": 105,
    "start_time": "2022-02-25T13:23:02.359Z"
   },
   {
    "duration": 12,
    "start_time": "2022-02-25T13:23:02.467Z"
   },
   {
    "duration": 68,
    "start_time": "2022-02-25T13:23:02.482Z"
   },
   {
    "duration": 37,
    "start_time": "2022-02-25T13:23:02.553Z"
   },
   {
    "duration": 384,
    "start_time": "2022-02-25T13:23:02.592Z"
   },
   {
    "duration": 285,
    "start_time": "2022-02-25T13:23:07.769Z"
   },
   {
    "duration": 103,
    "start_time": "2022-02-25T13:25:35.624Z"
   },
   {
    "duration": 99,
    "start_time": "2022-02-25T13:26:01.031Z"
   },
   {
    "duration": 448,
    "start_time": "2022-02-25T13:26:09.087Z"
   },
   {
    "duration": 304,
    "start_time": "2022-02-25T13:26:28.528Z"
   },
   {
    "duration": 62,
    "start_time": "2022-02-25T13:26:28.835Z"
   },
   {
    "duration": 26,
    "start_time": "2022-02-25T13:26:28.900Z"
   },
   {
    "duration": 108,
    "start_time": "2022-02-25T13:26:28.930Z"
   },
   {
    "duration": 12,
    "start_time": "2022-02-25T13:26:29.040Z"
   },
   {
    "duration": 32,
    "start_time": "2022-02-25T13:26:29.054Z"
   },
   {
    "duration": 67,
    "start_time": "2022-02-25T13:26:29.088Z"
   },
   {
    "duration": 297,
    "start_time": "2022-02-25T13:26:30.879Z"
   },
   {
    "duration": 2155,
    "start_time": "2022-02-25T13:27:21.959Z"
   },
   {
    "duration": 3236,
    "start_time": "2022-02-25T13:27:29.021Z"
   },
   {
    "duration": 2046,
    "start_time": "2022-02-25T13:28:03.413Z"
   },
   {
    "duration": 87,
    "start_time": "2022-02-25T13:31:43.626Z"
   },
   {
    "duration": 102,
    "start_time": "2022-02-25T13:31:57.001Z"
   },
   {
    "duration": 113,
    "start_time": "2022-02-25T13:32:56.447Z"
   },
   {
    "duration": 1348,
    "start_time": "2022-02-25T13:33:19.807Z"
   },
   {
    "duration": 275,
    "start_time": "2022-02-25T13:34:20.864Z"
   },
   {
    "duration": 282,
    "start_time": "2022-02-25T13:34:37.440Z"
   },
   {
    "duration": 285,
    "start_time": "2022-02-25T13:36:42.230Z"
   },
   {
    "duration": 285,
    "start_time": "2022-02-25T13:37:14.235Z"
   },
   {
    "duration": 349,
    "start_time": "2022-02-25T13:37:20.579Z"
   },
   {
    "duration": 23,
    "start_time": "2022-02-25T13:37:42.051Z"
   },
   {
    "duration": 6,
    "start_time": "2022-02-25T13:37:58.515Z"
   },
   {
    "duration": 11,
    "start_time": "2022-02-25T13:38:31.042Z"
   },
   {
    "duration": 22,
    "start_time": "2022-02-25T13:38:36.194Z"
   },
   {
    "duration": 17,
    "start_time": "2022-02-25T13:39:21.760Z"
   },
   {
    "duration": 12,
    "start_time": "2022-02-25T13:39:55.816Z"
   },
   {
    "duration": 10,
    "start_time": "2022-02-25T13:42:09.895Z"
   },
   {
    "duration": 11,
    "start_time": "2022-02-25T13:42:44.957Z"
   },
   {
    "duration": 11,
    "start_time": "2022-02-25T13:43:30.157Z"
   },
   {
    "duration": 9,
    "start_time": "2022-02-25T13:43:56.228Z"
   },
   {
    "duration": 10,
    "start_time": "2022-02-25T13:44:41.331Z"
   },
   {
    "duration": 10,
    "start_time": "2022-02-25T13:44:53.820Z"
   },
   {
    "duration": 9,
    "start_time": "2022-02-25T13:44:58.491Z"
   },
   {
    "duration": 15,
    "start_time": "2022-02-25T13:46:18.290Z"
   },
   {
    "duration": 13,
    "start_time": "2022-02-25T13:47:03.890Z"
   },
   {
    "duration": 15,
    "start_time": "2022-02-25T13:47:20.496Z"
   },
   {
    "duration": 15,
    "start_time": "2022-02-25T13:47:38.713Z"
   },
   {
    "duration": 20,
    "start_time": "2022-02-25T13:48:13.000Z"
   },
   {
    "duration": 1510,
    "start_time": "2022-02-25T15:40:48.314Z"
   },
   {
    "duration": 69,
    "start_time": "2022-02-25T15:40:49.827Z"
   },
   {
    "duration": 6,
    "start_time": "2022-02-25T15:40:49.910Z"
   },
   {
    "duration": 80,
    "start_time": "2022-02-25T15:40:54.247Z"
   },
   {
    "duration": 22,
    "start_time": "2022-02-25T15:46:06.687Z"
   },
   {
    "duration": 17,
    "start_time": "2022-02-25T15:46:18.374Z"
   },
   {
    "duration": 496,
    "start_time": "2022-02-25T15:48:01.496Z"
   },
   {
    "duration": 121,
    "start_time": "2022-02-25T15:48:38.953Z"
   },
   {
    "duration": 480,
    "start_time": "2022-02-25T15:49:28.410Z"
   },
   {
    "duration": 123,
    "start_time": "2022-02-25T15:49:46.075Z"
   },
   {
    "duration": 720,
    "start_time": "2022-02-25T15:49:53.547Z"
   },
   {
    "duration": 451,
    "start_time": "2022-02-25T15:50:14.860Z"
   },
   {
    "duration": 131,
    "start_time": "2022-02-25T15:50:27.675Z"
   },
   {
    "duration": 508,
    "start_time": "2022-02-25T15:50:34.275Z"
   },
   {
    "duration": 23,
    "start_time": "2022-02-25T16:04:22.990Z"
   },
   {
    "duration": 130,
    "start_time": "2022-02-25T16:07:23.664Z"
   },
   {
    "duration": 473,
    "start_time": "2022-02-25T16:07:29.423Z"
   },
   {
    "duration": 164,
    "start_time": "2022-02-25T16:07:59.610Z"
   },
   {
    "duration": 59,
    "start_time": "2022-02-25T16:08:07.761Z"
   },
   {
    "duration": 411,
    "start_time": "2022-02-25T16:08:57.540Z"
   },
   {
    "duration": 432,
    "start_time": "2022-02-25T16:09:03.383Z"
   },
   {
    "duration": 58,
    "start_time": "2022-02-25T16:09:03.818Z"
   },
   {
    "duration": 30,
    "start_time": "2022-02-25T16:09:03.880Z"
   },
   {
    "duration": 98,
    "start_time": "2022-02-25T16:09:03.914Z"
   },
   {
    "duration": 13,
    "start_time": "2022-02-25T16:09:04.015Z"
   },
   {
    "duration": 40,
    "start_time": "2022-02-25T16:09:04.031Z"
   },
   {
    "duration": 60,
    "start_time": "2022-02-25T16:09:04.074Z"
   },
   {
    "duration": 42,
    "start_time": "2022-02-25T16:09:05.602Z"
   },
   {
    "duration": 36,
    "start_time": "2022-02-25T16:09:13.211Z"
   },
   {
    "duration": 36,
    "start_time": "2022-02-25T16:09:40.979Z"
   },
   {
    "duration": 34,
    "start_time": "2022-02-25T16:13:10.320Z"
   },
   {
    "duration": 33,
    "start_time": "2022-02-25T16:13:15.688Z"
   },
   {
    "duration": 51,
    "start_time": "2022-02-25T16:14:06.041Z"
   },
   {
    "duration": 34,
    "start_time": "2022-02-25T16:14:12.912Z"
   },
   {
    "duration": 23,
    "start_time": "2022-02-25T16:14:43.650Z"
   },
   {
    "duration": 125,
    "start_time": "2022-02-25T16:17:39.064Z"
   },
   {
    "duration": 22,
    "start_time": "2022-02-25T16:18:11.742Z"
   },
   {
    "duration": 21,
    "start_time": "2022-02-25T16:18:37.887Z"
   },
   {
    "duration": 23,
    "start_time": "2022-02-25T16:19:51.833Z"
   },
   {
    "duration": 23,
    "start_time": "2022-02-25T16:20:21.505Z"
   },
   {
    "duration": 23,
    "start_time": "2022-02-25T16:20:34.393Z"
   },
   {
    "duration": 29,
    "start_time": "2022-02-25T16:20:48.371Z"
   },
   {
    "duration": 20,
    "start_time": "2022-02-25T16:20:56.018Z"
   },
   {
    "duration": 17,
    "start_time": "2022-02-25T16:21:22.708Z"
   },
   {
    "duration": 21,
    "start_time": "2022-02-25T16:21:32.234Z"
   },
   {
    "duration": 26,
    "start_time": "2022-02-25T16:23:00.494Z"
   },
   {
    "duration": 23,
    "start_time": "2022-02-25T16:23:08.955Z"
   },
   {
    "duration": 24,
    "start_time": "2022-02-25T16:23:32.709Z"
   },
   {
    "duration": 131,
    "start_time": "2022-02-25T16:24:26.743Z"
   },
   {
    "duration": 167,
    "start_time": "2022-02-25T16:24:52.743Z"
   },
   {
    "duration": 468,
    "start_time": "2022-02-25T16:25:01.255Z"
   },
   {
    "duration": 34,
    "start_time": "2022-02-25T16:25:18.034Z"
   },
   {
    "duration": 27,
    "start_time": "2022-02-25T16:25:37.858Z"
   },
   {
    "duration": 23,
    "start_time": "2022-02-25T16:26:10.748Z"
   },
   {
    "duration": 23,
    "start_time": "2022-02-25T16:26:40.164Z"
   },
   {
    "duration": 24,
    "start_time": "2022-02-25T16:27:15.901Z"
   },
   {
    "duration": 26,
    "start_time": "2022-02-25T16:27:56.056Z"
   },
   {
    "duration": 27,
    "start_time": "2022-02-25T16:28:17.289Z"
   },
   {
    "duration": 126,
    "start_time": "2022-02-25T16:30:52.582Z"
   },
   {
    "duration": 25,
    "start_time": "2022-02-25T16:31:03.566Z"
   },
   {
    "duration": 25,
    "start_time": "2022-02-25T16:31:20.806Z"
   },
   {
    "duration": 128,
    "start_time": "2022-02-25T16:34:03.774Z"
   },
   {
    "duration": 133,
    "start_time": "2022-02-25T16:34:15.293Z"
   },
   {
    "duration": 138,
    "start_time": "2022-02-25T16:34:19.877Z"
   },
   {
    "duration": 134,
    "start_time": "2022-02-25T16:34:28.069Z"
   },
   {
    "duration": 1294,
    "start_time": "2022-02-25T16:35:18.895Z"
   },
   {
    "duration": 454,
    "start_time": "2022-02-25T16:35:27.711Z"
   },
   {
    "duration": 897,
    "start_time": "2022-02-25T16:35:36.247Z"
   },
   {
    "duration": 203,
    "start_time": "2022-02-25T16:36:33.318Z"
   },
   {
    "duration": 36,
    "start_time": "2022-02-25T16:36:44.320Z"
   },
   {
    "duration": 693,
    "start_time": "2022-02-25T16:40:11.303Z"
   },
   {
    "duration": 688,
    "start_time": "2022-02-25T16:40:26.807Z"
   },
   {
    "duration": 402,
    "start_time": "2022-02-25T16:46:00.384Z"
   },
   {
    "duration": 390,
    "start_time": "2022-02-25T16:46:10.224Z"
   },
   {
    "duration": 9630,
    "start_time": "2022-02-25T16:47:41.203Z"
   },
   {
    "duration": 398,
    "start_time": "2022-02-25T16:48:05.795Z"
   },
   {
    "duration": 29,
    "start_time": "2022-02-25T16:49:00.836Z"
   },
   {
    "duration": 27,
    "start_time": "2022-02-25T16:49:14.012Z"
   },
   {
    "duration": 395,
    "start_time": "2022-02-25T16:49:24.067Z"
   },
   {
    "duration": 26,
    "start_time": "2022-02-25T16:49:34.644Z"
   },
   {
    "duration": 120,
    "start_time": "2022-02-25T16:51:09.406Z"
   },
   {
    "duration": 141,
    "start_time": "2022-02-25T16:51:23.559Z"
   },
   {
    "duration": 120,
    "start_time": "2022-02-25T16:51:31.864Z"
   },
   {
    "duration": 26,
    "start_time": "2022-02-25T16:51:39.033Z"
   },
   {
    "duration": 28,
    "start_time": "2022-02-25T16:51:54.896Z"
   },
   {
    "duration": 26,
    "start_time": "2022-02-25T16:52:02.272Z"
   },
   {
    "duration": 28,
    "start_time": "2022-02-25T16:52:17.471Z"
   },
   {
    "duration": 27,
    "start_time": "2022-02-25T16:52:23.815Z"
   },
   {
    "duration": 128,
    "start_time": "2022-02-25T16:52:39.296Z"
   },
   {
    "duration": 29,
    "start_time": "2022-02-25T16:52:46.888Z"
   },
   {
    "duration": 30,
    "start_time": "2022-02-25T16:53:45.930Z"
   },
   {
    "duration": 394,
    "start_time": "2022-02-25T16:54:42.603Z"
   },
   {
    "duration": 419,
    "start_time": "2022-02-25T16:55:11.888Z"
   },
   {
    "duration": 61,
    "start_time": "2022-02-25T16:55:12.309Z"
   },
   {
    "duration": 5,
    "start_time": "2022-02-25T16:55:12.373Z"
   },
   {
    "duration": 103,
    "start_time": "2022-02-25T16:55:12.380Z"
   },
   {
    "duration": 10,
    "start_time": "2022-02-25T16:55:12.485Z"
   },
   {
    "duration": 34,
    "start_time": "2022-02-25T16:55:12.511Z"
   },
   {
    "duration": 36,
    "start_time": "2022-02-25T16:55:12.547Z"
   },
   {
    "duration": 464,
    "start_time": "2022-02-25T16:55:12.586Z"
   },
   {
    "duration": 411,
    "start_time": "2022-02-25T16:55:51.356Z"
   },
   {
    "duration": 390,
    "start_time": "2022-02-25T16:56:17.228Z"
   },
   {
    "duration": 63,
    "start_time": "2022-02-25T16:58:04.983Z"
   },
   {
    "duration": 59,
    "start_time": "2022-02-25T16:58:20.265Z"
   },
   {
    "duration": 52,
    "start_time": "2022-02-25T16:58:36.576Z"
   },
   {
    "duration": 53,
    "start_time": "2022-02-25T16:59:01.705Z"
   },
   {
    "duration": 54,
    "start_time": "2022-02-25T17:00:21.122Z"
   },
   {
    "duration": 79,
    "start_time": "2022-02-25T17:01:57.597Z"
   },
   {
    "duration": 76,
    "start_time": "2022-02-25T17:02:42.198Z"
   },
   {
    "duration": 49,
    "start_time": "2022-02-25T17:02:48.886Z"
   },
   {
    "duration": 48,
    "start_time": "2022-02-25T17:03:02.471Z"
   },
   {
    "duration": 49,
    "start_time": "2022-02-25T17:03:15.286Z"
   },
   {
    "duration": 379,
    "start_time": "2022-02-25T17:05:09.785Z"
   },
   {
    "duration": 55,
    "start_time": "2022-02-25T17:05:31.882Z"
   },
   {
    "duration": 50,
    "start_time": "2022-02-25T17:05:51.331Z"
   },
   {
    "duration": 45,
    "start_time": "2022-02-25T17:06:09.370Z"
   },
   {
    "duration": 36,
    "start_time": "2022-02-25T17:06:29.923Z"
   },
   {
    "duration": 51,
    "start_time": "2022-02-25T17:09:30.470Z"
   },
   {
    "duration": 47,
    "start_time": "2022-02-25T17:09:38.406Z"
   },
   {
    "duration": 49,
    "start_time": "2022-02-25T17:09:56.942Z"
   },
   {
    "duration": 62,
    "start_time": "2022-02-25T17:12:57.033Z"
   },
   {
    "duration": 2637,
    "start_time": "2022-02-25T17:13:48.227Z"
   },
   {
    "duration": 3049,
    "start_time": "2022-02-25T17:15:12.861Z"
   },
   {
    "duration": 2910,
    "start_time": "2022-02-25T17:15:26.851Z"
   },
   {
    "duration": 55,
    "start_time": "2022-02-25T17:15:45.669Z"
   },
   {
    "duration": 275,
    "start_time": "2022-02-25T17:16:07.521Z"
   },
   {
    "duration": 79,
    "start_time": "2022-02-25T17:16:27.112Z"
   },
   {
    "duration": 56,
    "start_time": "2022-02-25T17:16:35.582Z"
   },
   {
    "duration": 57,
    "start_time": "2022-02-25T17:16:46.207Z"
   },
   {
    "duration": 53,
    "start_time": "2022-02-25T17:17:01.653Z"
   },
   {
    "duration": 54,
    "start_time": "2022-02-25T17:18:31.376Z"
   },
   {
    "duration": 297,
    "start_time": "2022-02-25T17:19:58.459Z"
   },
   {
    "duration": 60,
    "start_time": "2022-02-25T17:19:58.759Z"
   },
   {
    "duration": 5,
    "start_time": "2022-02-25T17:19:58.822Z"
   },
   {
    "duration": 100,
    "start_time": "2022-02-25T17:19:58.829Z"
   },
   {
    "duration": 13,
    "start_time": "2022-02-25T17:19:58.931Z"
   },
   {
    "duration": 34,
    "start_time": "2022-02-25T17:19:58.947Z"
   },
   {
    "duration": 61,
    "start_time": "2022-02-25T17:19:58.984Z"
   },
   {
    "duration": 76,
    "start_time": "2022-02-25T17:19:59.048Z"
   },
   {
    "duration": 13,
    "start_time": "2022-02-25T17:22:50.357Z"
   },
   {
    "duration": 236,
    "start_time": "2022-02-25T17:23:40.176Z"
   },
   {
    "duration": 12,
    "start_time": "2022-02-25T17:23:40.415Z"
   },
   {
    "duration": 86,
    "start_time": "2022-02-25T17:23:40.431Z"
   },
   {
    "duration": 5,
    "start_time": "2022-02-25T17:23:40.520Z"
   },
   {
    "duration": 102,
    "start_time": "2022-02-25T17:23:40.528Z"
   },
   {
    "duration": 12,
    "start_time": "2022-02-25T17:23:40.633Z"
   },
   {
    "duration": 66,
    "start_time": "2022-02-25T17:23:40.648Z"
   },
   {
    "duration": 37,
    "start_time": "2022-02-25T17:23:40.716Z"
   },
   {
    "duration": 72,
    "start_time": "2022-02-25T17:23:40.758Z"
   },
   {
    "duration": 47,
    "start_time": "2022-02-25T17:23:40.832Z"
   },
   {
    "duration": 155,
    "start_time": "2022-02-25T17:24:49.642Z"
   },
   {
    "duration": 12,
    "start_time": "2022-02-25T17:24:58.472Z"
   },
   {
    "duration": 13,
    "start_time": "2022-02-25T17:25:09.601Z"
   },
   {
    "duration": 741,
    "start_time": "2022-02-25T17:25:30.347Z"
   },
   {
    "duration": 12,
    "start_time": "2022-02-25T17:25:31.091Z"
   },
   {
    "duration": 61,
    "start_time": "2022-02-25T17:25:31.106Z"
   },
   {
    "duration": 5,
    "start_time": "2022-02-25T17:25:31.169Z"
   },
   {
    "duration": 101,
    "start_time": "2022-02-25T17:25:31.177Z"
   },
   {
    "duration": 29,
    "start_time": "2022-02-25T17:25:31.281Z"
   },
   {
    "duration": 38,
    "start_time": "2022-02-25T17:25:31.314Z"
   },
   {
    "duration": 61,
    "start_time": "2022-02-25T17:25:31.355Z"
   },
   {
    "duration": 55,
    "start_time": "2022-02-25T17:25:31.420Z"
   },
   {
    "duration": 67,
    "start_time": "2022-02-25T17:25:31.477Z"
   },
   {
    "duration": 58,
    "start_time": "2022-02-25T17:30:55.855Z"
   },
   {
    "duration": 30,
    "start_time": "2022-02-25T17:31:15.264Z"
   },
   {
    "duration": 252,
    "start_time": "2022-02-25T17:33:14.261Z"
   },
   {
    "duration": 12,
    "start_time": "2022-02-25T17:33:14.515Z"
   },
   {
    "duration": 32,
    "start_time": "2022-02-25T17:33:14.530Z"
   },
   {
    "duration": 5,
    "start_time": "2022-02-25T17:33:14.564Z"
   },
   {
    "duration": 113,
    "start_time": "2022-02-25T17:33:14.571Z"
   },
   {
    "duration": 24,
    "start_time": "2022-02-25T17:33:14.687Z"
   },
   {
    "duration": 39,
    "start_time": "2022-02-25T17:33:14.713Z"
   },
   {
    "duration": 58,
    "start_time": "2022-02-25T17:33:14.754Z"
   },
   {
    "duration": 53,
    "start_time": "2022-02-25T17:33:14.817Z"
   },
   {
    "duration": 79,
    "start_time": "2022-02-25T17:33:14.873Z"
   },
   {
    "duration": 232,
    "start_time": "2022-02-25T17:33:28.335Z"
   },
   {
    "duration": 12,
    "start_time": "2022-02-25T17:33:28.570Z"
   },
   {
    "duration": 29,
    "start_time": "2022-02-25T17:33:28.585Z"
   },
   {
    "duration": 4,
    "start_time": "2022-02-25T17:33:28.617Z"
   },
   {
    "duration": 96,
    "start_time": "2022-02-25T17:33:28.623Z"
   },
   {
    "duration": 11,
    "start_time": "2022-02-25T17:33:28.721Z"
   },
   {
    "duration": 33,
    "start_time": "2022-02-25T17:33:28.735Z"
   },
   {
    "duration": 59,
    "start_time": "2022-02-25T17:33:28.771Z"
   },
   {
    "duration": 52,
    "start_time": "2022-02-25T17:33:28.835Z"
   },
   {
    "duration": 47,
    "start_time": "2022-02-25T17:33:28.910Z"
   },
   {
    "duration": 310,
    "start_time": "2022-02-25T17:36:17.127Z"
   },
   {
    "duration": 306,
    "start_time": "2022-02-25T17:36:41.350Z"
   },
   {
    "duration": 216,
    "start_time": "2022-02-25T17:36:51.413Z"
   },
   {
    "duration": 14,
    "start_time": "2022-02-25T17:36:51.632Z"
   },
   {
    "duration": 31,
    "start_time": "2022-02-25T17:36:51.648Z"
   },
   {
    "duration": 4,
    "start_time": "2022-02-25T17:36:51.682Z"
   },
   {
    "duration": 84,
    "start_time": "2022-02-25T17:36:56.727Z"
   },
   {
    "duration": 85,
    "start_time": "2022-02-25T17:37:10.039Z"
   },
   {
    "duration": 83,
    "start_time": "2022-02-25T17:37:52.994Z"
   },
   {
    "duration": 83,
    "start_time": "2022-02-25T17:38:39.386Z"
   },
   {
    "duration": 98,
    "start_time": "2022-02-25T17:39:05.074Z"
   },
   {
    "duration": 12,
    "start_time": "2022-02-25T17:42:01.557Z"
   },
   {
    "duration": 15,
    "start_time": "2022-02-25T17:42:24.037Z"
   },
   {
    "duration": 12,
    "start_time": "2022-02-25T17:42:37.125Z"
   },
   {
    "duration": 11,
    "start_time": "2022-02-25T17:42:44.718Z"
   },
   {
    "duration": 92,
    "start_time": "2022-02-25T17:42:51.662Z"
   },
   {
    "duration": 96,
    "start_time": "2022-02-25T17:45:06.553Z"
   },
   {
    "duration": 62,
    "start_time": "2022-02-25T17:45:41.698Z"
   },
   {
    "duration": 46,
    "start_time": "2022-02-25T17:46:01.764Z"
   },
   {
    "duration": 125,
    "start_time": "2022-02-25T17:46:52.475Z"
   },
   {
    "duration": 49,
    "start_time": "2022-02-25T17:47:02.268Z"
   },
   {
    "duration": 43,
    "start_time": "2022-02-25T17:47:53.181Z"
   },
   {
    "duration": 48,
    "start_time": "2022-02-25T17:48:15.260Z"
   },
   {
    "duration": 74,
    "start_time": "2022-02-25T17:56:44.375Z"
   },
   {
    "duration": 63,
    "start_time": "2022-02-25T17:57:06.583Z"
   },
   {
    "duration": 69,
    "start_time": "2022-02-25T17:57:22.263Z"
   },
   {
    "duration": 2656,
    "start_time": "2022-02-25T17:57:56.336Z"
   },
   {
    "duration": 110,
    "start_time": "2022-02-25T17:58:33.364Z"
   },
   {
    "duration": 61,
    "start_time": "2022-02-25T17:58:41.464Z"
   },
   {
    "duration": 74,
    "start_time": "2022-02-25T17:58:52.104Z"
   },
   {
    "duration": 382,
    "start_time": "2022-02-25T17:59:13.411Z"
   },
   {
    "duration": 13,
    "start_time": "2022-02-25T17:59:13.796Z"
   },
   {
    "duration": 45,
    "start_time": "2022-02-25T17:59:17.194Z"
   },
   {
    "duration": 222,
    "start_time": "2022-02-25T17:59:24.198Z"
   },
   {
    "duration": 12,
    "start_time": "2022-02-25T17:59:24.423Z"
   },
   {
    "duration": 47,
    "start_time": "2022-02-25T17:59:31.857Z"
   },
   {
    "duration": 71,
    "start_time": "2022-02-25T17:59:36.754Z"
   },
   {
    "duration": 50,
    "start_time": "2022-02-25T17:59:43.379Z"
   },
   {
    "duration": 64,
    "start_time": "2022-02-25T17:59:59.266Z"
   },
   {
    "duration": 456,
    "start_time": "2022-02-25T18:01:04.684Z"
   },
   {
    "duration": 51,
    "start_time": "2022-02-25T18:02:04.597Z"
   },
   {
    "duration": 56,
    "start_time": "2022-02-25T18:02:14.325Z"
   },
   {
    "duration": 245,
    "start_time": "2022-02-25T18:02:30.941Z"
   },
   {
    "duration": 11,
    "start_time": "2022-02-25T18:02:31.188Z"
   },
   {
    "duration": 49,
    "start_time": "2022-02-25T18:02:31.202Z"
   },
   {
    "duration": 7,
    "start_time": "2022-02-25T18:02:31.254Z"
   },
   {
    "duration": 107,
    "start_time": "2022-02-25T18:02:31.264Z"
   },
   {
    "duration": 13,
    "start_time": "2022-02-25T18:02:31.374Z"
   },
   {
    "duration": 48,
    "start_time": "2022-02-25T18:02:31.389Z"
   },
   {
    "duration": 38,
    "start_time": "2022-02-25T18:02:31.440Z"
   },
   {
    "duration": 82,
    "start_time": "2022-02-25T18:02:31.482Z"
   },
   {
    "duration": 71,
    "start_time": "2022-02-25T18:02:31.567Z"
   },
   {
    "duration": 10908,
    "start_time": "2022-02-25T18:04:24.545Z"
   },
   {
    "duration": 28,
    "start_time": "2022-02-25T18:06:04.450Z"
   },
   {
    "duration": 477,
    "start_time": "2022-02-25T18:06:21.835Z"
   },
   {
    "duration": 11,
    "start_time": "2022-02-25T18:06:22.315Z"
   },
   {
    "duration": 43,
    "start_time": "2022-02-25T18:06:25.618Z"
   },
   {
    "duration": 315,
    "start_time": "2022-02-25T18:06:34.570Z"
   },
   {
    "duration": 14,
    "start_time": "2022-02-25T18:06:34.888Z"
   },
   {
    "duration": 41,
    "start_time": "2022-02-25T18:06:38.394Z"
   },
   {
    "duration": 39,
    "start_time": "2022-02-25T18:06:44.619Z"
   },
   {
    "duration": 37,
    "start_time": "2022-02-25T18:06:49.475Z"
   },
   {
    "duration": 75,
    "start_time": "2022-02-25T18:07:24.371Z"
   },
   {
    "duration": 47,
    "start_time": "2022-02-25T18:08:16.373Z"
   },
   {
    "duration": 233,
    "start_time": "2022-02-25T18:08:24.672Z"
   },
   {
    "duration": 12,
    "start_time": "2022-02-25T18:08:24.909Z"
   },
   {
    "duration": 45,
    "start_time": "2022-02-25T18:08:24.925Z"
   },
   {
    "duration": 5,
    "start_time": "2022-02-25T18:08:24.972Z"
   },
   {
    "duration": 105,
    "start_time": "2022-02-25T18:08:24.979Z"
   },
   {
    "duration": 29,
    "start_time": "2022-02-25T18:08:25.087Z"
   },
   {
    "duration": 34,
    "start_time": "2022-02-25T18:08:25.118Z"
   },
   {
    "duration": 60,
    "start_time": "2022-02-25T18:08:25.155Z"
   },
   {
    "duration": 53,
    "start_time": "2022-02-25T18:08:25.218Z"
   },
   {
    "duration": 68,
    "start_time": "2022-02-25T18:08:25.274Z"
   },
   {
    "duration": 9920,
    "start_time": "2022-02-25T18:08:49.461Z"
   },
   {
    "duration": 59,
    "start_time": "2022-02-25T18:09:24.454Z"
   },
   {
    "duration": 241,
    "start_time": "2022-02-25T18:10:11.063Z"
   },
   {
    "duration": 11,
    "start_time": "2022-02-25T18:10:11.307Z"
   },
   {
    "duration": 68,
    "start_time": "2022-02-25T18:10:15.351Z"
   },
   {
    "duration": 66,
    "start_time": "2022-02-25T18:11:54.626Z"
   },
   {
    "duration": 74,
    "start_time": "2022-02-25T18:12:13.585Z"
   },
   {
    "duration": 78,
    "start_time": "2022-02-25T18:12:24.866Z"
   },
   {
    "duration": 250,
    "start_time": "2022-02-25T18:12:33.419Z"
   },
   {
    "duration": 11,
    "start_time": "2022-02-25T18:12:33.671Z"
   },
   {
    "duration": 98,
    "start_time": "2022-02-25T18:12:33.685Z"
   },
   {
    "duration": 5,
    "start_time": "2022-02-25T18:12:33.786Z"
   },
   {
    "duration": 97,
    "start_time": "2022-02-25T18:12:33.793Z"
   },
   {
    "duration": 12,
    "start_time": "2022-02-25T18:12:33.911Z"
   },
   {
    "duration": 39,
    "start_time": "2022-02-25T18:12:33.926Z"
   },
   {
    "duration": 68,
    "start_time": "2022-02-25T18:12:33.968Z"
   },
   {
    "duration": 73,
    "start_time": "2022-02-25T18:12:34.040Z"
   },
   {
    "duration": 51,
    "start_time": "2022-02-25T18:12:34.116Z"
   },
   {
    "duration": 3052,
    "start_time": "2022-02-25T18:15:21.542Z"
   },
   {
    "duration": 125,
    "start_time": "2022-02-25T18:15:43.831Z"
   },
   {
    "duration": 2748,
    "start_time": "2022-02-25T18:15:52.861Z"
   },
   {
    "duration": 9916,
    "start_time": "2022-02-25T18:16:38.207Z"
   },
   {
    "duration": 64,
    "start_time": "2022-02-25T18:17:03.000Z"
   },
   {
    "duration": 356,
    "start_time": "2022-02-25T18:17:15.799Z"
   },
   {
    "duration": 12,
    "start_time": "2022-02-25T18:17:16.157Z"
   },
   {
    "duration": 87,
    "start_time": "2022-02-25T18:17:16.172Z"
   },
   {
    "duration": 5,
    "start_time": "2022-02-25T18:17:16.262Z"
   },
   {
    "duration": 102,
    "start_time": "2022-02-25T18:17:16.270Z"
   },
   {
    "duration": 12,
    "start_time": "2022-02-25T18:17:16.374Z"
   },
   {
    "duration": 49,
    "start_time": "2022-02-25T18:17:16.411Z"
   },
   {
    "duration": 68,
    "start_time": "2022-02-25T18:17:16.464Z"
   },
   {
    "duration": 82,
    "start_time": "2022-02-25T18:17:16.535Z"
   },
   {
    "duration": 48,
    "start_time": "2022-02-25T18:17:16.620Z"
   },
   {
    "duration": 9583,
    "start_time": "2022-02-25T18:18:06.161Z"
   },
   {
    "duration": 63,
    "start_time": "2022-02-25T18:18:18.542Z"
   },
   {
    "duration": 273,
    "start_time": "2022-02-25T18:18:34.402Z"
   },
   {
    "duration": 12,
    "start_time": "2022-02-25T18:18:34.678Z"
   },
   {
    "duration": 67,
    "start_time": "2022-02-25T18:18:34.693Z"
   },
   {
    "duration": 5,
    "start_time": "2022-02-25T18:18:34.763Z"
   },
   {
    "duration": 99,
    "start_time": "2022-02-25T18:18:34.770Z"
   },
   {
    "duration": 11,
    "start_time": "2022-02-25T18:18:34.871Z"
   },
   {
    "duration": 55,
    "start_time": "2022-02-25T18:18:34.885Z"
   },
   {
    "duration": 36,
    "start_time": "2022-02-25T18:18:34.944Z"
   },
   {
    "duration": 71,
    "start_time": "2022-02-25T18:18:34.983Z"
   },
   {
    "duration": 63,
    "start_time": "2022-02-25T18:18:35.057Z"
   },
   {
    "duration": 61,
    "start_time": "2022-02-25T18:18:47.263Z"
   },
   {
    "duration": 218,
    "start_time": "2022-02-25T18:20:58.395Z"
   },
   {
    "duration": 11,
    "start_time": "2022-02-25T18:20:58.616Z"
   },
   {
    "duration": 70,
    "start_time": "2022-02-25T18:21:03.160Z"
   },
   {
    "duration": 68,
    "start_time": "2022-02-25T18:21:28.904Z"
   },
   {
    "duration": 212,
    "start_time": "2022-02-25T18:21:39.050Z"
   },
   {
    "duration": 11,
    "start_time": "2022-02-25T18:21:39.265Z"
   },
   {
    "duration": 75,
    "start_time": "2022-02-25T18:21:39.278Z"
   },
   {
    "duration": 88,
    "start_time": "2022-02-25T18:21:47.928Z"
   },
   {
    "duration": 312,
    "start_time": "2022-02-25T18:23:21.419Z"
   },
   {
    "duration": 11,
    "start_time": "2022-02-25T18:23:21.734Z"
   },
   {
    "duration": 1011,
    "start_time": "2022-02-25T18:23:28.616Z"
   },
   {
    "duration": 79,
    "start_time": "2022-02-25T18:23:52.872Z"
   },
   {
    "duration": 40,
    "start_time": "2022-02-25T18:24:06.650Z"
   },
   {
    "duration": 79,
    "start_time": "2022-02-25T18:28:07.246Z"
   },
   {
    "duration": 64,
    "start_time": "2022-02-25T18:28:17.796Z"
   },
   {
    "duration": 65,
    "start_time": "2022-02-25T18:28:56.781Z"
   },
   {
    "duration": 66,
    "start_time": "2022-02-25T18:29:34.619Z"
   },
   {
    "duration": 135,
    "start_time": "2022-02-25T18:29:42.429Z"
   },
   {
    "duration": 70,
    "start_time": "2022-02-25T18:29:50.005Z"
   },
   {
    "duration": 67,
    "start_time": "2022-02-25T18:30:28.247Z"
   },
   {
    "duration": 361,
    "start_time": "2022-02-25T18:30:43.865Z"
   },
   {
    "duration": 13,
    "start_time": "2022-02-25T18:30:44.230Z"
   },
   {
    "duration": 75,
    "start_time": "2022-02-25T18:30:55.598Z"
   },
   {
    "duration": 70,
    "start_time": "2022-02-25T18:31:12.519Z"
   },
   {
    "duration": 65,
    "start_time": "2022-02-25T18:31:31.182Z"
   },
   {
    "duration": 67,
    "start_time": "2022-02-25T18:31:46.182Z"
   },
   {
    "duration": 265,
    "start_time": "2022-02-25T18:32:07.634Z"
   },
   {
    "duration": 12,
    "start_time": "2022-02-25T18:32:07.901Z"
   },
   {
    "duration": 74,
    "start_time": "2022-02-25T18:32:21.297Z"
   },
   {
    "duration": 67,
    "start_time": "2022-02-25T18:34:18.242Z"
   },
   {
    "duration": 234,
    "start_time": "2022-02-25T18:34:28.870Z"
   },
   {
    "duration": 12,
    "start_time": "2022-02-25T18:34:29.107Z"
   },
   {
    "duration": 64,
    "start_time": "2022-02-25T18:34:29.122Z"
   },
   {
    "duration": 62,
    "start_time": "2022-02-25T18:34:42.330Z"
   },
   {
    "duration": 65,
    "start_time": "2022-02-25T18:34:57.609Z"
   },
   {
    "duration": 532,
    "start_time": "2022-02-25T18:35:33.908Z"
   },
   {
    "duration": 12,
    "start_time": "2022-02-25T18:35:34.444Z"
   },
   {
    "duration": 68,
    "start_time": "2022-02-25T18:35:34.460Z"
   },
   {
    "duration": 5,
    "start_time": "2022-02-25T18:35:34.530Z"
   },
   {
    "duration": 84,
    "start_time": "2022-02-25T18:35:34.537Z"
   },
   {
    "duration": 11,
    "start_time": "2022-02-25T18:35:34.623Z"
   },
   {
    "duration": 31,
    "start_time": "2022-02-25T18:35:34.636Z"
   },
   {
    "duration": 55,
    "start_time": "2022-02-25T18:35:34.670Z"
   },
   {
    "duration": 50,
    "start_time": "2022-02-25T18:35:34.729Z"
   },
   {
    "duration": 71,
    "start_time": "2022-02-25T18:35:34.782Z"
   },
   {
    "duration": 6,
    "start_time": "2022-02-25T18:39:34.814Z"
   },
   {
    "duration": 32,
    "start_time": "2022-02-25T18:39:48.855Z"
   },
   {
    "duration": 149,
    "start_time": "2022-02-25T18:43:39.076Z"
   },
   {
    "duration": 139,
    "start_time": "2022-02-25T18:44:47.861Z"
   },
   {
    "duration": 93,
    "start_time": "2022-02-25T18:45:03.941Z"
   },
   {
    "duration": 73,
    "start_time": "2022-02-25T18:45:47.327Z"
   },
   {
    "duration": 145,
    "start_time": "2022-02-25T18:46:28.095Z"
   },
   {
    "duration": 94,
    "start_time": "2022-02-25T18:47:11.664Z"
   },
   {
    "duration": 935,
    "start_time": "2022-02-26T21:35:48.280Z"
   },
   {
    "duration": 31,
    "start_time": "2022-02-26T21:36:01.521Z"
   },
   {
    "duration": 61,
    "start_time": "2022-02-26T21:36:41.995Z"
   },
   {
    "duration": 4,
    "start_time": "2022-02-26T21:36:50.017Z"
   },
   {
    "duration": 6,
    "start_time": "2022-02-26T21:37:01.073Z"
   },
   {
    "duration": 259,
    "start_time": "2022-02-26T21:37:06.078Z"
   },
   {
    "duration": 6,
    "start_time": "2022-02-26T21:37:09.746Z"
   },
   {
    "duration": 515,
    "start_time": "2022-02-26T21:37:48.361Z"
   },
   {
    "duration": 6,
    "start_time": "2022-02-26T21:37:48.877Z"
   },
   {
    "duration": 33,
    "start_time": "2022-02-26T21:37:48.885Z"
   },
   {
    "duration": 276,
    "start_time": "2022-02-26T21:37:48.921Z"
   },
   {
    "duration": 65,
    "start_time": "2022-02-26T21:37:49.134Z"
   },
   {
    "duration": 62,
    "start_time": "2022-02-26T21:37:49.138Z"
   },
   {
    "duration": 58,
    "start_time": "2022-02-26T21:37:49.143Z"
   },
   {
    "duration": 56,
    "start_time": "2022-02-26T21:37:49.146Z"
   },
   {
    "duration": 54,
    "start_time": "2022-02-26T21:37:49.149Z"
   },
   {
    "duration": 53,
    "start_time": "2022-02-26T21:37:49.152Z"
   },
   {
    "duration": 5,
    "start_time": "2022-02-26T21:38:20.999Z"
   },
   {
    "duration": 887,
    "start_time": "2022-02-26T21:38:31.063Z"
   },
   {
    "duration": 15,
    "start_time": "2022-02-26T21:38:35.264Z"
   },
   {
    "duration": 29,
    "start_time": "2022-02-26T21:38:57.984Z"
   },
   {
    "duration": 28,
    "start_time": "2022-02-26T21:40:44.442Z"
   },
   {
    "duration": 354,
    "start_time": "2022-02-26T21:40:49.898Z"
   },
   {
    "duration": 29,
    "start_time": "2022-02-26T21:40:52.482Z"
   },
   {
    "duration": 5,
    "start_time": "2022-02-26T21:47:00.922Z"
   },
   {
    "duration": 192,
    "start_time": "2022-02-26T21:47:07.834Z"
   },
   {
    "duration": 5,
    "start_time": "2022-02-26T21:47:11.209Z"
   },
   {
    "duration": 5,
    "start_time": "2022-02-26T21:47:25.553Z"
   },
   {
    "duration": 5,
    "start_time": "2022-02-26T21:48:02.684Z"
   },
   {
    "duration": 148,
    "start_time": "2022-02-26T21:52:42.457Z"
   },
   {
    "duration": 51,
    "start_time": "2022-02-26T21:52:49.999Z"
   },
   {
    "duration": 47,
    "start_time": "2022-02-26T21:53:36.513Z"
   },
   {
    "duration": 1896,
    "start_time": "2022-02-26T21:54:00.379Z"
   },
   {
    "duration": 88,
    "start_time": "2022-02-26T21:54:43.875Z"
   },
   {
    "duration": 26,
    "start_time": "2022-02-26T22:03:27.981Z"
   },
   {
    "duration": 24,
    "start_time": "2022-02-26T22:03:59.191Z"
   },
   {
    "duration": 167,
    "start_time": "2022-02-26T22:04:05.319Z"
   },
   {
    "duration": 26,
    "start_time": "2022-02-26T22:04:08.271Z"
   },
   {
    "duration": 50,
    "start_time": "2022-02-26T22:04:21.456Z"
   },
   {
    "duration": 28,
    "start_time": "2022-02-26T22:09:34.822Z"
   },
   {
    "duration": 272,
    "start_time": "2022-02-26T22:09:43.149Z"
   },
   {
    "duration": 218,
    "start_time": "2022-02-26T22:10:12.462Z"
   },
   {
    "duration": 26,
    "start_time": "2022-02-26T22:10:18.375Z"
   },
   {
    "duration": 202,
    "start_time": "2022-02-26T22:10:24.118Z"
   },
   {
    "duration": 27,
    "start_time": "2022-02-26T22:10:30.174Z"
   },
   {
    "duration": 26,
    "start_time": "2022-02-26T22:10:38.391Z"
   },
   {
    "duration": 27,
    "start_time": "2022-02-26T22:11:11.090Z"
   },
   {
    "duration": 14,
    "start_time": "2022-02-26T22:12:04.968Z"
   },
   {
    "duration": 11,
    "start_time": "2022-02-26T22:12:58.377Z"
   },
   {
    "duration": 22,
    "start_time": "2022-02-26T22:13:23.538Z"
   },
   {
    "duration": 46,
    "start_time": "2022-02-26T22:13:29.714Z"
   },
   {
    "duration": 64,
    "start_time": "2022-02-26T22:15:18.966Z"
   },
   {
    "duration": 32,
    "start_time": "2022-02-26T22:15:41.740Z"
   },
   {
    "duration": 34,
    "start_time": "2022-02-26T22:16:25.671Z"
   },
   {
    "duration": 369,
    "start_time": "2022-02-26T22:16:42.206Z"
   },
   {
    "duration": 145,
    "start_time": "2022-02-26T22:18:16.462Z"
   },
   {
    "duration": 33,
    "start_time": "2022-02-26T22:18:26.061Z"
   },
   {
    "duration": 19,
    "start_time": "2022-02-26T22:18:38.174Z"
   },
   {
    "duration": 4,
    "start_time": "2022-02-26T22:18:57.038Z"
   },
   {
    "duration": 56,
    "start_time": "2022-02-26T22:19:05.325Z"
   },
   {
    "duration": 35,
    "start_time": "2022-02-26T22:19:30.543Z"
   },
   {
    "duration": 66,
    "start_time": "2022-02-26T22:21:55.394Z"
   },
   {
    "duration": 74,
    "start_time": "2022-02-26T22:22:44.635Z"
   },
   {
    "duration": 349,
    "start_time": "2022-02-26T22:23:15.331Z"
   },
   {
    "duration": 66,
    "start_time": "2022-02-26T22:23:21.299Z"
   },
   {
    "duration": 72,
    "start_time": "2022-02-26T22:23:35.915Z"
   },
   {
    "duration": 69,
    "start_time": "2022-02-26T22:24:23.637Z"
   },
   {
    "duration": 78,
    "start_time": "2022-02-26T22:24:38.447Z"
   },
   {
    "duration": 81,
    "start_time": "2022-02-26T22:28:05.826Z"
   },
   {
    "duration": 69,
    "start_time": "2022-02-26T22:28:28.065Z"
   },
   {
    "duration": 60,
    "start_time": "2022-02-26T22:28:38.001Z"
   },
   {
    "duration": 62,
    "start_time": "2022-02-26T22:29:00.923Z"
   },
   {
    "duration": 65,
    "start_time": "2022-02-26T22:29:25.955Z"
   },
   {
    "duration": 14,
    "start_time": "2022-02-26T22:30:17.004Z"
   },
   {
    "duration": 197,
    "start_time": "2022-02-26T22:30:42.748Z"
   },
   {
    "duration": 22,
    "start_time": "2022-02-26T22:30:45.604Z"
   },
   {
    "duration": 169,
    "start_time": "2022-02-26T22:31:09.892Z"
   },
   {
    "duration": 13,
    "start_time": "2022-02-26T22:31:12.317Z"
   },
   {
    "duration": 13,
    "start_time": "2022-02-26T22:31:25.253Z"
   },
   {
    "duration": 14,
    "start_time": "2022-02-26T22:31:52.382Z"
   },
   {
    "duration": 14,
    "start_time": "2022-02-26T22:32:07.174Z"
   },
   {
    "duration": 12,
    "start_time": "2022-02-26T22:32:17.437Z"
   },
   {
    "duration": 229,
    "start_time": "2022-02-26T22:32:21.333Z"
   },
   {
    "duration": 13,
    "start_time": "2022-02-26T22:32:23.478Z"
   },
   {
    "duration": 413,
    "start_time": "2022-02-26T22:32:46.823Z"
   },
   {
    "duration": 11,
    "start_time": "2022-02-26T22:32:48.487Z"
   },
   {
    "duration": 14,
    "start_time": "2022-02-26T22:33:45.864Z"
   },
   {
    "duration": 213,
    "start_time": "2022-02-26T22:33:49.429Z"
   },
   {
    "duration": 15,
    "start_time": "2022-02-26T22:33:50.719Z"
   },
   {
    "duration": 13,
    "start_time": "2022-02-26T22:33:57.320Z"
   },
   {
    "duration": 18,
    "start_time": "2022-02-26T22:34:21.865Z"
   },
   {
    "duration": 16,
    "start_time": "2022-02-26T22:36:41.091Z"
   },
   {
    "duration": 146,
    "start_time": "2022-02-26T22:36:55.620Z"
   },
   {
    "duration": 15,
    "start_time": "2022-02-26T22:36:57.916Z"
   },
   {
    "duration": 18,
    "start_time": "2022-02-26T22:37:48.740Z"
   },
   {
    "duration": 19,
    "start_time": "2022-02-26T22:38:31.094Z"
   },
   {
    "duration": 10,
    "start_time": "2022-02-26T22:38:37.894Z"
   },
   {
    "duration": 154,
    "start_time": "2022-02-26T22:38:40.565Z"
   },
   {
    "duration": 11,
    "start_time": "2022-02-26T22:38:43.454Z"
   },
   {
    "duration": 10,
    "start_time": "2022-02-26T22:39:33.815Z"
   },
   {
    "duration": 140,
    "start_time": "2022-02-26T22:39:52.655Z"
   },
   {
    "duration": 9,
    "start_time": "2022-02-26T22:39:56.920Z"
   },
   {
    "duration": 10,
    "start_time": "2022-02-26T22:40:35.040Z"
   },
   {
    "duration": 11,
    "start_time": "2022-02-26T22:40:41.409Z"
   },
   {
    "duration": 23,
    "start_time": "2022-02-26T22:41:48.026Z"
   },
   {
    "duration": 168,
    "start_time": "2022-02-26T22:42:15.795Z"
   },
   {
    "duration": 10,
    "start_time": "2022-02-26T22:42:19.945Z"
   },
   {
    "duration": 23,
    "start_time": "2022-02-26T22:44:29.822Z"
   },
   {
    "duration": 141,
    "start_time": "2022-02-26T22:44:37.861Z"
   },
   {
    "duration": 10,
    "start_time": "2022-02-26T22:44:40.525Z"
   },
   {
    "duration": 26,
    "start_time": "2022-02-26T22:44:45.311Z"
   },
   {
    "duration": 22,
    "start_time": "2022-02-26T22:45:28.487Z"
   },
   {
    "duration": 216,
    "start_time": "2022-02-26T22:46:45.207Z"
   },
   {
    "duration": 9,
    "start_time": "2022-02-26T22:46:45.425Z"
   },
   {
    "duration": 36,
    "start_time": "2022-02-26T22:46:45.436Z"
   },
   {
    "duration": 12,
    "start_time": "2022-02-26T22:46:45.474Z"
   },
   {
    "duration": 91,
    "start_time": "2022-02-26T22:46:45.488Z"
   },
   {
    "duration": 8,
    "start_time": "2022-02-26T22:46:45.581Z"
   },
   {
    "duration": 51,
    "start_time": "2022-02-26T22:46:45.591Z"
   },
   {
    "duration": 33,
    "start_time": "2022-02-26T22:46:45.645Z"
   },
   {
    "duration": 50,
    "start_time": "2022-02-26T22:46:45.680Z"
   },
   {
    "duration": 79,
    "start_time": "2022-02-26T22:46:45.732Z"
   },
   {
    "duration": 4863,
    "start_time": "2022-02-26T22:51:31.238Z"
   },
   {
    "duration": 421,
    "start_time": "2022-02-26T22:52:21.327Z"
   },
   {
    "duration": 162,
    "start_time": "2022-02-26T22:53:27.816Z"
   },
   {
    "duration": 65,
    "start_time": "2022-02-26T22:54:57.258Z"
   },
   {
    "duration": 553,
    "start_time": "2022-02-26T22:55:29.315Z"
   },
   {
    "duration": 86,
    "start_time": "2022-02-26T22:55:45.442Z"
   },
   {
    "duration": 49,
    "start_time": "2022-02-26T22:56:16.723Z"
   },
   {
    "duration": 71,
    "start_time": "2022-02-26T22:56:29.379Z"
   },
   {
    "duration": 15,
    "start_time": "2022-02-26T22:56:38.259Z"
   },
   {
    "duration": 11,
    "start_time": "2022-02-26T22:56:51.156Z"
   },
   {
    "duration": 5168,
    "start_time": "2022-02-26T22:57:12.596Z"
   },
   {
    "duration": 12,
    "start_time": "2022-02-26T22:57:27.364Z"
   },
   {
    "duration": 5859,
    "start_time": "2022-02-26T22:59:32.703Z"
   },
   {
    "duration": 75,
    "start_time": "2022-02-26T23:00:41.032Z"
   },
   {
    "duration": 5341,
    "start_time": "2022-02-26T23:00:54.759Z"
   },
   {
    "duration": 80,
    "start_time": "2022-02-26T23:01:47.634Z"
   },
   {
    "duration": 225,
    "start_time": "2022-02-26T23:01:55.305Z"
   },
   {
    "duration": 60,
    "start_time": "2022-02-26T23:04:14.228Z"
   },
   {
    "duration": 5,
    "start_time": "2022-02-26T23:04:27.084Z"
   },
   {
    "duration": 202,
    "start_time": "2022-02-26T23:04:32.092Z"
   },
   {
    "duration": 209,
    "start_time": "2022-02-26T23:04:44.621Z"
   },
   {
    "duration": 2982,
    "start_time": "2022-02-26T23:05:24.781Z"
   },
   {
    "duration": 9,
    "start_time": "2022-02-26T23:08:07.402Z"
   },
   {
    "duration": 5,
    "start_time": "2022-02-26T23:15:16.801Z"
   },
   {
    "duration": 403,
    "start_time": "2022-02-26T23:15:25.505Z"
   },
   {
    "duration": 349,
    "start_time": "2022-02-26T23:16:05.770Z"
   },
   {
    "duration": 96,
    "start_time": "2022-02-26T23:17:11.372Z"
   },
   {
    "duration": 26,
    "start_time": "2022-02-26T23:17:57.428Z"
   },
   {
    "duration": 5240,
    "start_time": "2022-02-26T23:19:09.976Z"
   },
   {
    "duration": 5062,
    "start_time": "2022-02-26T23:19:58.696Z"
   },
   {
    "duration": 4928,
    "start_time": "2022-02-26T23:20:13.824Z"
   },
   {
    "duration": 5173,
    "start_time": "2022-02-26T23:21:20.922Z"
   },
   {
    "duration": 5693,
    "start_time": "2022-02-26T23:22:09.931Z"
   },
   {
    "duration": 23,
    "start_time": "2022-02-26T23:23:21.301Z"
   },
   {
    "duration": 72,
    "start_time": "2022-02-26T23:25:09.591Z"
   },
   {
    "duration": 3798,
    "start_time": "2022-02-26T23:25:37.654Z"
   },
   {
    "duration": 5183,
    "start_time": "2022-02-26T23:27:56.139Z"
   },
   {
    "duration": 19,
    "start_time": "2022-02-26T23:28:10.994Z"
   },
   {
    "duration": 30,
    "start_time": "2022-02-26T23:29:02.379Z"
   },
   {
    "duration": 4841,
    "start_time": "2022-02-26T23:29:17.691Z"
   },
   {
    "duration": 5514,
    "start_time": "2022-02-26T23:29:50.812Z"
   },
   {
    "duration": 26,
    "start_time": "2022-02-26T23:30:07.132Z"
   },
   {
    "duration": 21,
    "start_time": "2022-02-26T23:30:38.366Z"
   },
   {
    "duration": 67,
    "start_time": "2022-02-26T23:31:04.095Z"
   },
   {
    "duration": 33,
    "start_time": "2022-02-26T23:31:29.631Z"
   },
   {
    "duration": 21,
    "start_time": "2022-02-26T23:31:40.135Z"
   },
   {
    "duration": 182,
    "start_time": "2022-02-26T23:32:05.352Z"
   },
   {
    "duration": 63,
    "start_time": "2022-02-26T23:32:26.576Z"
   },
   {
    "duration": 21,
    "start_time": "2022-02-26T23:32:35.440Z"
   },
   {
    "duration": 21,
    "start_time": "2022-02-26T23:33:05.376Z"
   },
   {
    "duration": 41,
    "start_time": "2022-02-26T23:33:50.865Z"
   },
   {
    "duration": 63,
    "start_time": "2022-02-26T23:44:54.232Z"
   },
   {
    "duration": 37,
    "start_time": "2022-02-26T23:45:11.823Z"
   },
   {
    "duration": 35,
    "start_time": "2022-02-26T23:46:10.961Z"
   },
   {
    "duration": 119,
    "start_time": "2022-02-26T23:46:37.362Z"
   },
   {
    "duration": 907,
    "start_time": "2022-02-26T23:46:52.457Z"
   },
   {
    "duration": 68,
    "start_time": "2022-02-26T23:47:39.978Z"
   },
   {
    "duration": 39,
    "start_time": "2022-02-26T23:47:55.018Z"
   },
   {
    "duration": 45,
    "start_time": "2022-02-26T23:48:32.412Z"
   },
   {
    "duration": 45,
    "start_time": "2022-02-26T23:49:58.661Z"
   },
   {
    "duration": 38,
    "start_time": "2022-02-26T23:51:11.830Z"
   },
   {
    "duration": 47,
    "start_time": "2022-02-26T23:51:47.655Z"
   },
   {
    "duration": 50,
    "start_time": "2022-02-26T23:51:56.631Z"
   },
   {
    "duration": 40,
    "start_time": "2022-02-26T23:52:35.599Z"
   },
   {
    "duration": 77,
    "start_time": "2022-02-26T23:53:00.201Z"
   },
   {
    "duration": 36,
    "start_time": "2022-02-26T23:53:09.337Z"
   },
   {
    "duration": 67,
    "start_time": "2022-02-26T23:53:48.033Z"
   },
   {
    "duration": 30,
    "start_time": "2022-02-26T23:54:06.851Z"
   },
   {
    "duration": 34,
    "start_time": "2022-02-26T23:54:46.402Z"
   },
   {
    "duration": 37,
    "start_time": "2022-02-26T23:55:38.180Z"
   },
   {
    "duration": 34,
    "start_time": "2022-02-27T00:00:50.156Z"
   },
   {
    "duration": 32,
    "start_time": "2022-02-27T00:05:53.848Z"
   },
   {
    "duration": 34,
    "start_time": "2022-02-27T00:06:18.753Z"
   },
   {
    "duration": 93,
    "start_time": "2022-02-27T00:06:27.905Z"
   },
   {
    "duration": 34,
    "start_time": "2022-02-27T00:06:35.361Z"
   },
   {
    "duration": 36,
    "start_time": "2022-02-27T00:06:51.345Z"
   },
   {
    "duration": 33,
    "start_time": "2022-02-27T00:07:13.698Z"
   },
   {
    "duration": 35,
    "start_time": "2022-02-27T00:07:28.041Z"
   },
   {
    "duration": 34,
    "start_time": "2022-02-27T00:07:34.835Z"
   },
   {
    "duration": 33,
    "start_time": "2022-02-27T00:07:57.611Z"
   },
   {
    "duration": 36,
    "start_time": "2022-02-27T00:08:09.635Z"
   },
   {
    "duration": 35,
    "start_time": "2022-02-27T00:08:15.515Z"
   },
   {
    "duration": 35,
    "start_time": "2022-02-27T00:09:45.981Z"
   },
   {
    "duration": 69,
    "start_time": "2022-02-27T00:27:19.579Z"
   },
   {
    "duration": 63,
    "start_time": "2022-02-27T00:27:44.116Z"
   },
   {
    "duration": 35,
    "start_time": "2022-02-27T00:29:23.109Z"
   },
   {
    "duration": 35,
    "start_time": "2022-02-27T00:29:51.662Z"
   },
   {
    "duration": 79,
    "start_time": "2022-02-27T00:38:28.577Z"
   },
   {
    "duration": 34,
    "start_time": "2022-02-27T00:38:49.769Z"
   },
   {
    "duration": 70,
    "start_time": "2022-02-27T00:40:00.099Z"
   },
   {
    "duration": 80,
    "start_time": "2022-02-27T00:40:21.883Z"
   },
   {
    "duration": 59,
    "start_time": "2022-02-27T00:40:58.339Z"
   },
   {
    "duration": 66,
    "start_time": "2022-02-27T01:00:21.133Z"
   },
   {
    "duration": 60,
    "start_time": "2022-02-27T01:00:34.213Z"
   },
   {
    "duration": 62,
    "start_time": "2022-02-27T01:01:43.541Z"
   },
   {
    "duration": 226,
    "start_time": "2022-02-27T01:03:01.647Z"
   },
   {
    "duration": 40,
    "start_time": "2022-02-27T01:03:11.592Z"
   },
   {
    "duration": 40,
    "start_time": "2022-02-27T01:03:49.400Z"
   },
   {
    "duration": 41,
    "start_time": "2022-02-27T01:04:22.432Z"
   },
   {
    "duration": 55,
    "start_time": "2022-02-27T01:04:43.217Z"
   },
   {
    "duration": 58,
    "start_time": "2022-02-27T01:05:33.739Z"
   },
   {
    "duration": 296,
    "start_time": "2022-02-27T01:05:55.075Z"
   },
   {
    "duration": 54,
    "start_time": "2022-02-27T01:06:11.262Z"
   },
   {
    "duration": 53,
    "start_time": "2022-02-27T01:07:16.388Z"
   },
   {
    "duration": 53,
    "start_time": "2022-02-27T01:16:15.641Z"
   },
   {
    "duration": 54,
    "start_time": "2022-02-27T01:17:12.745Z"
   },
   {
    "duration": 250,
    "start_time": "2022-02-27T01:26:23.821Z"
   },
   {
    "duration": 704,
    "start_time": "2022-02-27T01:26:53.477Z"
   },
   {
    "duration": 54,
    "start_time": "2022-02-27T01:42:13.759Z"
   },
   {
    "duration": 56,
    "start_time": "2022-02-27T01:43:22.321Z"
   },
   {
    "duration": 54,
    "start_time": "2022-02-27T01:43:56.993Z"
   },
   {
    "duration": 57,
    "start_time": "2022-02-27T01:49:44.529Z"
   },
   {
    "duration": 55,
    "start_time": "2022-02-27T01:50:41.585Z"
   },
   {
    "duration": 55,
    "start_time": "2022-02-27T01:54:38.509Z"
   },
   {
    "duration": 40,
    "start_time": "2022-02-27T01:55:13.542Z"
   },
   {
    "duration": 120,
    "start_time": "2022-02-27T01:57:32.986Z"
   },
   {
    "duration": 53,
    "start_time": "2022-02-27T01:57:40.962Z"
   },
   {
    "duration": 53,
    "start_time": "2022-02-27T01:58:47.492Z"
   },
   {
    "duration": 54,
    "start_time": "2022-02-27T01:58:56.812Z"
   },
   {
    "duration": 58,
    "start_time": "2022-02-27T02:05:44.348Z"
   },
   {
    "duration": 69,
    "start_time": "2022-02-27T02:06:01.109Z"
   },
   {
    "duration": 56,
    "start_time": "2022-02-27T02:06:25.301Z"
   },
   {
    "duration": 57,
    "start_time": "2022-02-27T02:13:04.501Z"
   },
   {
    "duration": 66,
    "start_time": "2022-02-27T02:17:52.828Z"
   },
   {
    "duration": 62,
    "start_time": "2022-02-27T02:18:34.788Z"
   },
   {
    "duration": 59,
    "start_time": "2022-02-27T02:18:56.244Z"
   },
   {
    "duration": 67,
    "start_time": "2022-02-27T02:20:32.062Z"
   },
   {
    "duration": 56,
    "start_time": "2022-02-27T02:22:13.096Z"
   },
   {
    "duration": 84,
    "start_time": "2022-02-27T03:01:16.312Z"
   },
   {
    "duration": 230,
    "start_time": "2022-02-27T03:02:44.834Z"
   },
   {
    "duration": 385,
    "start_time": "2022-02-27T03:04:02.843Z"
   },
   {
    "duration": 10,
    "start_time": "2022-02-27T03:04:03.230Z"
   },
   {
    "duration": 41,
    "start_time": "2022-02-27T03:04:03.242Z"
   },
   {
    "duration": 37,
    "start_time": "2022-02-27T03:04:03.285Z"
   },
   {
    "duration": 89,
    "start_time": "2022-02-27T03:04:03.324Z"
   },
   {
    "duration": 9,
    "start_time": "2022-02-27T03:04:03.415Z"
   },
   {
    "duration": 53,
    "start_time": "2022-02-27T03:04:03.426Z"
   },
   {
    "duration": 39,
    "start_time": "2022-02-27T03:04:03.481Z"
   },
   {
    "duration": 90,
    "start_time": "2022-02-27T03:04:03.523Z"
   },
   {
    "duration": 64,
    "start_time": "2022-02-27T03:04:06.076Z"
   },
   {
    "duration": 210,
    "start_time": "2022-02-27T03:04:12.157Z"
   },
   {
    "duration": 216,
    "start_time": "2022-02-27T03:05:24.718Z"
   },
   {
    "duration": 55,
    "start_time": "2022-02-27T03:05:34.565Z"
   },
   {
    "duration": 113,
    "start_time": "2022-02-27T03:06:48.568Z"
   },
   {
    "duration": 56,
    "start_time": "2022-02-27T03:07:07.270Z"
   },
   {
    "duration": 56,
    "start_time": "2022-02-27T03:07:20.281Z"
   },
   {
    "duration": 60,
    "start_time": "2022-02-27T03:08:17.168Z"
   },
   {
    "duration": 54,
    "start_time": "2022-02-27T03:08:26.553Z"
   },
   {
    "duration": 56,
    "start_time": "2022-02-27T03:10:27.652Z"
   },
   {
    "duration": 57,
    "start_time": "2022-02-27T03:11:20.621Z"
   },
   {
    "duration": 64,
    "start_time": "2022-02-27T03:11:36.580Z"
   },
   {
    "duration": 60,
    "start_time": "2022-02-27T03:13:38.912Z"
   },
   {
    "duration": 59,
    "start_time": "2022-02-27T03:19:26.031Z"
   },
   {
    "duration": 56,
    "start_time": "2022-02-27T03:19:50.111Z"
   },
   {
    "duration": 60,
    "start_time": "2022-02-27T03:19:56.655Z"
   },
   {
    "duration": 75,
    "start_time": "2022-02-27T03:22:19.979Z"
   },
   {
    "duration": 255,
    "start_time": "2022-02-27T03:24:57.661Z"
   },
   {
    "duration": 95,
    "start_time": "2022-02-27T03:26:08.454Z"
   },
   {
    "duration": 867,
    "start_time": "2022-02-27T03:42:13.772Z"
   },
   {
    "duration": 6,
    "start_time": "2022-02-27T03:43:25.748Z"
   },
   {
    "duration": 6,
    "start_time": "2022-02-27T03:43:39.195Z"
   },
   {
    "duration": 256,
    "start_time": "2022-02-27T03:47:06.825Z"
   },
   {
    "duration": 6,
    "start_time": "2022-02-27T03:47:14.568Z"
   },
   {
    "duration": 106,
    "start_time": "2022-02-27T03:48:08.050Z"
   },
   {
    "duration": 76,
    "start_time": "2022-02-27T03:48:41.026Z"
   },
   {
    "duration": 66,
    "start_time": "2022-02-27T03:50:07.205Z"
   },
   {
    "duration": 70,
    "start_time": "2022-02-27T03:50:32.565Z"
   },
   {
    "duration": 74,
    "start_time": "2022-02-27T03:51:25.885Z"
   },
   {
    "duration": 67,
    "start_time": "2022-02-27T03:52:18.639Z"
   },
   {
    "duration": 70,
    "start_time": "2022-02-27T03:52:27.559Z"
   },
   {
    "duration": 71,
    "start_time": "2022-02-27T04:03:01.935Z"
   },
   {
    "duration": 72,
    "start_time": "2022-02-27T04:03:25.606Z"
   },
   {
    "duration": 77,
    "start_time": "2022-02-27T04:15:39.318Z"
   },
   {
    "duration": 104,
    "start_time": "2022-02-27T04:16:27.159Z"
   },
   {
    "duration": 77,
    "start_time": "2022-02-27T04:17:00.319Z"
   },
   {
    "duration": 66,
    "start_time": "2022-02-27T04:19:52.331Z"
   },
   {
    "duration": 64,
    "start_time": "2022-02-27T04:20:23.692Z"
   },
   {
    "duration": 63,
    "start_time": "2022-02-27T04:21:15.413Z"
   },
   {
    "duration": 59,
    "start_time": "2022-02-27T04:21:36.173Z"
   },
   {
    "duration": 53,
    "start_time": "2022-02-27T04:21:49.909Z"
   },
   {
    "duration": 68,
    "start_time": "2022-02-27T04:22:16.238Z"
   },
   {
    "duration": 212,
    "start_time": "2022-02-27T04:26:53.003Z"
   },
   {
    "duration": 4729,
    "start_time": "2022-02-27T04:27:09.868Z"
   },
   {
    "duration": 640,
    "start_time": "2022-02-27T04:27:51.980Z"
   },
   {
    "duration": 792,
    "start_time": "2022-02-27T04:28:23.501Z"
   },
   {
    "duration": 3532,
    "start_time": "2022-02-27T04:28:32.629Z"
   },
   {
    "duration": 1364,
    "start_time": "2022-02-27T04:30:08.255Z"
   },
   {
    "duration": 1370,
    "start_time": "2022-02-27T04:30:17.231Z"
   },
   {
    "duration": 252,
    "start_time": "2022-02-27T04:32:31.929Z"
   },
   {
    "duration": 57,
    "start_time": "2022-02-27T04:33:16.194Z"
   },
   {
    "duration": 54,
    "start_time": "2022-02-27T04:34:28.795Z"
   },
   {
    "duration": 67,
    "start_time": "2022-02-27T04:44:18.775Z"
   },
   {
    "duration": 239,
    "start_time": "2022-02-27T04:46:33.449Z"
   },
   {
    "duration": 59,
    "start_time": "2022-02-27T04:58:36.489Z"
   },
   {
    "duration": 188,
    "start_time": "2022-02-27T04:58:41.913Z"
   },
   {
    "duration": 9,
    "start_time": "2022-02-27T04:58:42.104Z"
   },
   {
    "duration": 21,
    "start_time": "2022-02-27T04:58:42.116Z"
   },
   {
    "duration": 4,
    "start_time": "2022-02-27T04:58:42.139Z"
   },
   {
    "duration": 90,
    "start_time": "2022-02-27T04:58:42.145Z"
   },
   {
    "duration": 11,
    "start_time": "2022-02-27T04:58:42.237Z"
   },
   {
    "duration": 25,
    "start_time": "2022-02-27T04:58:42.250Z"
   },
   {
    "duration": 39,
    "start_time": "2022-02-27T04:58:42.277Z"
   },
   {
    "duration": 85,
    "start_time": "2022-02-27T04:58:42.319Z"
   },
   {
    "duration": 60,
    "start_time": "2022-02-27T04:58:42.406Z"
   },
   {
    "duration": 90,
    "start_time": "2022-02-27T04:58:42.468Z"
   },
   {
    "duration": 78,
    "start_time": "2022-02-27T04:58:42.560Z"
   },
   {
    "duration": 237,
    "start_time": "2022-02-27T05:12:57.625Z"
   },
   {
    "duration": 9,
    "start_time": "2022-02-27T05:12:57.864Z"
   },
   {
    "duration": 27,
    "start_time": "2022-02-27T05:12:57.876Z"
   },
   {
    "duration": 5,
    "start_time": "2022-02-27T05:12:57.905Z"
   },
   {
    "duration": 66,
    "start_time": "2022-02-27T05:12:57.911Z"
   },
   {
    "duration": 30,
    "start_time": "2022-02-27T05:12:57.979Z"
   },
   {
    "duration": 32,
    "start_time": "2022-02-27T05:12:58.011Z"
   },
   {
    "duration": 22,
    "start_time": "2022-02-27T05:12:58.044Z"
   },
   {
    "duration": 87,
    "start_time": "2022-02-27T05:12:58.069Z"
   },
   {
    "duration": 78,
    "start_time": "2022-02-27T05:12:58.158Z"
   },
   {
    "duration": 87,
    "start_time": "2022-02-27T05:12:58.238Z"
   },
   {
    "duration": 78,
    "start_time": "2022-02-27T05:12:58.327Z"
   },
   {
    "duration": 160,
    "start_time": "2022-02-27T05:15:32.963Z"
   },
   {
    "duration": 9,
    "start_time": "2022-02-27T05:15:33.125Z"
   },
   {
    "duration": 27,
    "start_time": "2022-02-27T05:15:33.136Z"
   },
   {
    "duration": 4,
    "start_time": "2022-02-27T05:15:33.165Z"
   },
   {
    "duration": 79,
    "start_time": "2022-02-27T05:15:33.171Z"
   },
   {
    "duration": 10,
    "start_time": "2022-02-27T05:15:33.252Z"
   },
   {
    "duration": 41,
    "start_time": "2022-02-27T05:15:33.264Z"
   },
   {
    "duration": 23,
    "start_time": "2022-02-27T05:15:33.307Z"
   },
   {
    "duration": 87,
    "start_time": "2022-02-27T05:15:33.332Z"
   },
   {
    "duration": 60,
    "start_time": "2022-02-27T05:15:33.421Z"
   },
   {
    "duration": 86,
    "start_time": "2022-02-27T05:15:33.483Z"
   },
   {
    "duration": 81,
    "start_time": "2022-02-27T05:15:33.571Z"
   },
   {
    "duration": 2617,
    "start_time": "2022-03-07T11:29:02.271Z"
   },
   {
    "duration": -1125,
    "start_time": "2022-03-07T11:29:06.015Z"
   },
   {
    "duration": -1123,
    "start_time": "2022-03-07T11:29:06.017Z"
   },
   {
    "duration": -1124,
    "start_time": "2022-03-07T11:29:06.019Z"
   },
   {
    "duration": -1125,
    "start_time": "2022-03-07T11:29:06.021Z"
   },
   {
    "duration": -1124,
    "start_time": "2022-03-07T11:29:06.022Z"
   },
   {
    "duration": -1125,
    "start_time": "2022-03-07T11:29:06.024Z"
   },
   {
    "duration": -1125,
    "start_time": "2022-03-07T11:29:06.025Z"
   },
   {
    "duration": -1126,
    "start_time": "2022-03-07T11:29:06.028Z"
   },
   {
    "duration": -1127,
    "start_time": "2022-03-07T11:29:06.030Z"
   },
   {
    "duration": -1126,
    "start_time": "2022-03-07T11:29:06.031Z"
   },
   {
    "duration": -1126,
    "start_time": "2022-03-07T11:29:06.032Z"
   },
   {
    "duration": 59,
    "start_time": "2022-03-07T11:29:52.313Z"
   },
   {
    "duration": 568,
    "start_time": "2022-03-07T11:30:01.316Z"
   },
   {
    "duration": 56,
    "start_time": "2022-03-07T11:30:01.886Z"
   },
   {
    "duration": 9,
    "start_time": "2022-03-07T11:30:01.944Z"
   },
   {
    "duration": 19,
    "start_time": "2022-03-07T11:30:01.955Z"
   },
   {
    "duration": 27,
    "start_time": "2022-03-07T11:30:01.976Z"
   },
   {
    "duration": 65,
    "start_time": "2022-03-07T11:30:02.005Z"
   },
   {
    "duration": 7,
    "start_time": "2022-03-07T11:30:02.072Z"
   },
   {
    "duration": 35,
    "start_time": "2022-03-07T11:30:02.081Z"
   },
   {
    "duration": 20,
    "start_time": "2022-03-07T11:30:02.118Z"
   },
   {
    "duration": 66,
    "start_time": "2022-03-07T11:30:02.139Z"
   },
   {
    "duration": 53,
    "start_time": "2022-03-07T11:30:02.206Z"
   },
   {
    "duration": 82,
    "start_time": "2022-03-07T11:30:02.261Z"
   },
   {
    "duration": 62,
    "start_time": "2022-03-07T11:30:02.345Z"
   },
   {
    "duration": 10,
    "start_time": "2022-03-07T11:30:16.509Z"
   },
   {
    "duration": 34,
    "start_time": "2022-03-07T11:32:28.503Z"
   },
   {
    "duration": 7,
    "start_time": "2022-03-07T11:33:11.649Z"
   },
   {
    "duration": 7,
    "start_time": "2022-03-07T11:33:51.004Z"
   },
   {
    "duration": 12,
    "start_time": "2022-03-07T11:35:48.789Z"
   },
   {
    "duration": 351,
    "start_time": "2022-03-07T11:39:52.402Z"
   },
   {
    "duration": 22,
    "start_time": "2022-03-07T11:39:55.715Z"
   },
   {
    "duration": 583,
    "start_time": "2022-03-10T09:58:04.103Z"
   },
   {
    "duration": 598,
    "start_time": "2022-03-10T09:58:32.118Z"
   },
   {
    "duration": 62,
    "start_time": "2022-03-10T09:58:35.169Z"
   },
   {
    "duration": 52,
    "start_time": "2022-03-10T10:01:46.594Z"
   },
   {
    "duration": 11,
    "start_time": "2022-03-10T10:01:50.306Z"
   },
   {
    "duration": 292,
    "start_time": "2022-03-10T10:05:41.526Z"
   },
   {
    "duration": 32,
    "start_time": "2022-03-10T10:06:42.156Z"
   },
   {
    "duration": 25,
    "start_time": "2022-03-10T10:06:52.069Z"
   },
   {
    "duration": 25,
    "start_time": "2022-03-10T10:07:00.652Z"
   },
   {
    "duration": 29,
    "start_time": "2022-03-10T10:07:21.628Z"
   },
   {
    "duration": 47,
    "start_time": "2022-03-10T10:07:37.180Z"
   },
   {
    "duration": 24,
    "start_time": "2022-03-10T10:07:49.724Z"
   },
   {
    "duration": 40,
    "start_time": "2022-03-10T10:08:14.211Z"
   },
   {
    "duration": 30,
    "start_time": "2022-03-10T10:09:28.090Z"
   },
   {
    "duration": 31,
    "start_time": "2022-03-10T10:11:15.591Z"
   },
   {
    "duration": 31,
    "start_time": "2022-03-10T10:11:21.368Z"
   },
   {
    "duration": 28,
    "start_time": "2022-03-10T10:11:36.248Z"
   },
   {
    "duration": 32,
    "start_time": "2022-03-10T10:13:50.629Z"
   },
   {
    "duration": 59,
    "start_time": "2022-03-10T10:15:44.834Z"
   },
   {
    "duration": 77,
    "start_time": "2022-03-10T10:16:55.330Z"
   },
   {
    "duration": 96,
    "start_time": "2022-03-10T10:18:03.281Z"
   },
   {
    "duration": 73,
    "start_time": "2022-03-10T10:18:22.416Z"
   },
   {
    "duration": 266,
    "start_time": "2022-03-11T11:15:54.803Z"
   },
   {
    "duration": 603,
    "start_time": "2022-03-11T11:16:10.417Z"
   },
   {
    "duration": 53,
    "start_time": "2022-03-11T11:16:11.022Z"
   },
   {
    "duration": 72,
    "start_time": "2022-03-11T11:16:15.938Z"
   },
   {
    "duration": 114,
    "start_time": "2022-03-11T11:17:00.089Z"
   },
   {
    "duration": 118,
    "start_time": "2022-03-11T11:17:21.096Z"
   },
   {
    "duration": 117,
    "start_time": "2022-03-11T11:17:43.408Z"
   },
   {
    "duration": 121,
    "start_time": "2022-03-11T11:18:40.632Z"
   },
   {
    "duration": 80,
    "start_time": "2022-03-11T11:18:55.319Z"
   },
   {
    "duration": 81,
    "start_time": "2022-03-11T11:31:12.227Z"
   },
   {
    "duration": 547,
    "start_time": "2022-03-11T12:40:32.141Z"
   },
   {
    "duration": 45,
    "start_time": "2022-03-11T12:40:32.691Z"
   },
   {
    "duration": 74,
    "start_time": "2022-03-11T12:40:36.325Z"
   },
   {
    "duration": 91,
    "start_time": "2022-03-11T12:44:51.957Z"
   },
   {
    "duration": 57,
    "start_time": "2022-03-11T12:52:17.690Z"
   },
   {
    "duration": 74,
    "start_time": "2022-03-11T12:52:23.272Z"
   },
   {
    "duration": 76,
    "start_time": "2022-03-11T12:52:49.008Z"
   },
   {
    "duration": 544,
    "start_time": "2022-03-11T12:53:20.104Z"
   },
   {
    "duration": 76,
    "start_time": "2022-03-11T12:53:35.920Z"
   },
   {
    "duration": 74,
    "start_time": "2022-03-11T12:53:47.415Z"
   },
   {
    "duration": 78,
    "start_time": "2022-03-11T12:54:01.254Z"
   },
   {
    "duration": 79,
    "start_time": "2022-03-11T12:54:09.127Z"
   },
   {
    "duration": 78,
    "start_time": "2022-03-11T12:54:30.750Z"
   },
   {
    "duration": 80,
    "start_time": "2022-03-11T12:54:53.366Z"
   },
   {
    "duration": 76,
    "start_time": "2022-03-11T12:55:18.117Z"
   },
   {
    "duration": 79,
    "start_time": "2022-03-11T12:56:10.965Z"
   },
   {
    "duration": 104,
    "start_time": "2022-03-11T12:56:22.597Z"
   },
   {
    "duration": 338,
    "start_time": "2022-03-11T12:56:58.492Z"
   },
   {
    "duration": 74,
    "start_time": "2022-03-11T12:57:24.291Z"
   },
   {
    "duration": 113,
    "start_time": "2022-03-11T12:59:30.834Z"
   },
   {
    "duration": 82,
    "start_time": "2022-03-11T12:59:41.145Z"
   },
   {
    "duration": 80,
    "start_time": "2022-03-11T13:06:20.324Z"
   },
   {
    "duration": 77,
    "start_time": "2022-03-11T13:07:26.031Z"
   },
   {
    "duration": 74,
    "start_time": "2022-03-11T13:07:56.925Z"
   },
   {
    "duration": 81,
    "start_time": "2022-03-11T13:09:02.139Z"
   },
   {
    "duration": 78,
    "start_time": "2022-03-11T13:09:24.724Z"
   },
   {
    "duration": 76,
    "start_time": "2022-03-11T13:09:58.442Z"
   },
   {
    "duration": 79,
    "start_time": "2022-03-11T13:10:30.425Z"
   },
   {
    "duration": 76,
    "start_time": "2022-03-11T13:10:48.953Z"
   },
   {
    "duration": 60,
    "start_time": "2022-03-11T13:18:32.758Z"
   },
   {
    "duration": 90,
    "start_time": "2022-03-11T13:18:37.094Z"
   },
   {
    "duration": 86,
    "start_time": "2022-03-11T13:21:27.019Z"
   },
   {
    "duration": 90,
    "start_time": "2022-03-11T13:22:10.066Z"
   },
   {
    "duration": 85,
    "start_time": "2022-03-11T13:22:32.505Z"
   },
   {
    "duration": 88,
    "start_time": "2022-03-11T13:22:46.857Z"
   },
   {
    "duration": 83,
    "start_time": "2022-03-11T13:24:23.720Z"
   },
   {
    "duration": 85,
    "start_time": "2022-03-11T13:24:38.614Z"
   },
   {
    "duration": 85,
    "start_time": "2022-03-11T13:25:12.430Z"
   },
   {
    "duration": 81,
    "start_time": "2022-03-11T13:25:46.694Z"
   },
   {
    "duration": 85,
    "start_time": "2022-03-11T13:27:25.772Z"
   },
   {
    "duration": 86,
    "start_time": "2022-03-11T13:29:05.114Z"
   },
   {
    "duration": 85,
    "start_time": "2022-03-11T13:29:51.433Z"
   },
   {
    "duration": 85,
    "start_time": "2022-03-11T13:30:13.105Z"
   },
   {
    "duration": 85,
    "start_time": "2022-03-11T13:34:35.531Z"
   },
   {
    "duration": 90,
    "start_time": "2022-03-11T13:35:14.203Z"
   },
   {
    "duration": 86,
    "start_time": "2022-03-11T13:36:28.249Z"
   },
   {
    "duration": 230,
    "start_time": "2022-03-12T18:51:51.252Z"
   },
   {
    "duration": 761,
    "start_time": "2022-03-12T18:51:55.380Z"
   },
   {
    "duration": 43,
    "start_time": "2022-03-12T18:51:56.143Z"
   },
   {
    "duration": 108,
    "start_time": "2022-03-12T18:51:56.188Z"
   },
   {
    "duration": 94,
    "start_time": "2022-03-12T18:51:58.691Z"
   },
   {
    "duration": 105,
    "start_time": "2022-03-12T18:54:17.606Z"
   },
   {
    "duration": 96,
    "start_time": "2022-03-12T18:55:18.946Z"
   },
   {
    "duration": 94,
    "start_time": "2022-03-12T18:55:55.881Z"
   },
   {
    "duration": 102,
    "start_time": "2022-03-12T18:57:48.932Z"
   },
   {
    "duration": 337,
    "start_time": "2022-03-12T19:02:15.865Z"
   },
   {
    "duration": 274,
    "start_time": "2022-03-12T19:03:06.419Z"
   },
   {
    "duration": 257,
    "start_time": "2022-03-12T19:03:16.587Z"
   },
   {
    "duration": 253,
    "start_time": "2022-03-12T19:03:52.069Z"
   },
   {
    "duration": 486,
    "start_time": "2022-03-12T19:04:16.818Z"
   },
   {
    "duration": 105,
    "start_time": "2022-03-12T19:04:34.428Z"
   },
   {
    "duration": 260,
    "start_time": "2022-03-12T19:05:01.462Z"
   },
   {
    "duration": 258,
    "start_time": "2022-03-12T19:06:59.216Z"
   },
   {
    "duration": 247,
    "start_time": "2022-03-12T19:07:30.393Z"
   },
   {
    "duration": 245,
    "start_time": "2022-03-12T19:07:42.257Z"
   },
   {
    "duration": 58,
    "start_time": "2022-03-12T19:14:02.507Z"
   },
   {
    "duration": 536,
    "start_time": "2022-03-12T19:14:08.244Z"
   },
   {
    "duration": 441,
    "start_time": "2022-03-12T19:14:33.323Z"
   },
   {
    "duration": 450,
    "start_time": "2022-03-12T19:15:18.428Z"
   },
   {
    "duration": 459,
    "start_time": "2022-03-12T19:15:45.166Z"
   },
   {
    "duration": 67,
    "start_time": "2022-03-12T19:16:07.750Z"
   },
   {
    "duration": 577,
    "start_time": "2022-03-12T19:18:15.711Z"
   },
   {
    "duration": 49,
    "start_time": "2022-03-12T19:18:16.291Z"
   },
   {
    "duration": 341,
    "start_time": "2022-03-12T19:18:16.341Z"
   },
   {
    "duration": 20,
    "start_time": "2022-03-12T19:18:16.684Z"
   },
   {
    "duration": 38,
    "start_time": "2022-03-12T19:18:16.705Z"
   },
   {
    "duration": 4,
    "start_time": "2022-03-12T19:18:16.744Z"
   },
   {
    "duration": 59,
    "start_time": "2022-03-12T19:18:16.750Z"
   },
   {
    "duration": 22,
    "start_time": "2022-03-12T19:18:16.811Z"
   },
   {
    "duration": 24,
    "start_time": "2022-03-12T19:18:16.834Z"
   },
   {
    "duration": 20,
    "start_time": "2022-03-12T19:18:16.860Z"
   },
   {
    "duration": 71,
    "start_time": "2022-03-12T19:18:16.882Z"
   },
   {
    "duration": 51,
    "start_time": "2022-03-12T19:18:16.955Z"
   },
   {
    "duration": 79,
    "start_time": "2022-03-12T19:18:17.008Z"
   },
   {
    "duration": 62,
    "start_time": "2022-03-12T19:18:17.089Z"
   },
   {
    "duration": 4344,
    "start_time": "2022-03-12T19:20:52.733Z"
   },
   {
    "duration": 2,
    "start_time": "2022-03-12T19:21:14.675Z"
   },
   {
    "duration": 46,
    "start_time": "2022-03-12T19:21:14.679Z"
   },
   {
    "duration": 92,
    "start_time": "2022-03-12T19:21:14.726Z"
   },
   {
    "duration": 105,
    "start_time": "2022-03-12T19:22:08.734Z"
   },
   {
    "duration": 93,
    "start_time": "2022-03-12T19:22:34.422Z"
   },
   {
    "duration": 377,
    "start_time": "2022-03-12T19:22:50.350Z"
   },
   {
    "duration": 61,
    "start_time": "2022-03-12T19:23:12.416Z"
   },
   {
    "duration": 266,
    "start_time": "2022-03-12T19:23:52.904Z"
   },
   {
    "duration": 2329,
    "start_time": "2022-03-12T19:24:15.985Z"
   },
   {
    "duration": 97,
    "start_time": "2022-03-12T19:24:52.690Z"
   },
   {
    "duration": 257,
    "start_time": "2022-03-12T19:25:16.282Z"
   },
   {
    "duration": 268,
    "start_time": "2022-03-12T19:26:22.036Z"
   },
   {
    "duration": 274,
    "start_time": "2022-03-12T19:28:17.983Z"
   },
   {
    "duration": 287,
    "start_time": "2022-03-12T19:33:50.063Z"
   },
   {
    "duration": 547,
    "start_time": "2022-03-12T19:36:57.473Z"
   },
   {
    "duration": 53,
    "start_time": "2022-03-12T19:36:58.021Z"
   },
   {
    "duration": 259,
    "start_time": "2022-03-12T19:37:38.359Z"
   },
   {
    "duration": 586,
    "start_time": "2022-03-12T19:37:43.275Z"
   },
   {
    "duration": 46,
    "start_time": "2022-03-12T19:37:43.863Z"
   },
   {
    "duration": 116,
    "start_time": "2022-03-12T19:37:43.911Z"
   },
   {
    "duration": 114,
    "start_time": "2022-03-12T19:58:16.645Z"
   },
   {
    "duration": 105,
    "start_time": "2022-03-12T19:59:14.950Z"
   },
   {
    "duration": 23,
    "start_time": "2022-03-12T20:09:11.564Z"
   },
   {
    "duration": 25,
    "start_time": "2022-03-12T20:09:35.812Z"
   },
   {
    "duration": 11,
    "start_time": "2022-03-12T20:14:35.540Z"
   },
   {
    "duration": 4,
    "start_time": "2022-03-12T20:14:40.721Z"
   },
   {
    "duration": 50,
    "start_time": "2022-03-12T20:14:40.727Z"
   },
   {
    "duration": 94,
    "start_time": "2022-03-12T20:14:40.779Z"
   },
   {
    "duration": 17,
    "start_time": "2022-03-12T20:14:40.875Z"
   },
   {
    "duration": 7,
    "start_time": "2022-03-12T20:14:45.740Z"
   },
   {
    "duration": 64,
    "start_time": "2022-03-12T20:31:44.426Z"
   },
   {
    "duration": 196,
    "start_time": "2022-03-12T20:32:11.882Z"
   },
   {
    "duration": 10,
    "start_time": "2022-03-12T20:32:46.109Z"
   },
   {
    "duration": 12,
    "start_time": "2022-03-12T20:33:07.668Z"
   },
   {
    "duration": 184,
    "start_time": "2022-03-12T20:34:49.442Z"
   },
   {
    "duration": 60,
    "start_time": "2022-03-12T20:40:38.031Z"
   },
   {
    "duration": 16,
    "start_time": "2022-03-12T20:41:24.008Z"
   },
   {
    "duration": 16,
    "start_time": "2022-03-12T20:41:43.000Z"
   },
   {
    "duration": 11,
    "start_time": "2022-03-12T20:41:48.664Z"
   },
   {
    "duration": 12,
    "start_time": "2022-03-12T20:44:04.346Z"
   },
   {
    "duration": 12,
    "start_time": "2022-03-12T20:44:18.068Z"
   },
   {
    "duration": 10,
    "start_time": "2022-03-12T20:45:34.917Z"
   },
   {
    "duration": 13,
    "start_time": "2022-03-12T20:45:54.942Z"
   },
   {
    "duration": 213,
    "start_time": "2022-03-12T20:47:15.881Z"
   },
   {
    "duration": 22,
    "start_time": "2022-03-12T20:47:39.405Z"
   },
   {
    "duration": 19,
    "start_time": "2022-03-12T20:48:05.651Z"
   },
   {
    "duration": 13,
    "start_time": "2022-03-12T20:48:32.522Z"
   },
   {
    "duration": 17,
    "start_time": "2022-03-12T20:48:55.690Z"
   },
   {
    "duration": 18,
    "start_time": "2022-03-12T20:50:12.628Z"
   },
   {
    "duration": 25,
    "start_time": "2022-03-12T20:50:26.485Z"
   },
   {
    "duration": 19,
    "start_time": "2022-03-12T20:51:09.126Z"
   },
   {
    "duration": 28,
    "start_time": "2022-03-12T20:51:42.478Z"
   },
   {
    "duration": 49,
    "start_time": "2022-03-12T20:52:59.274Z"
   },
   {
    "duration": 18,
    "start_time": "2022-03-12T20:53:27.305Z"
   },
   {
    "duration": 24,
    "start_time": "2022-03-12T20:53:35.120Z"
   },
   {
    "duration": 145,
    "start_time": "2022-03-12T20:56:41.876Z"
   },
   {
    "duration": 26,
    "start_time": "2022-03-12T20:57:41.396Z"
   },
   {
    "duration": 26,
    "start_time": "2022-03-12T20:58:42.926Z"
   },
   {
    "duration": 29,
    "start_time": "2022-03-12T20:58:54.933Z"
   },
   {
    "duration": 23,
    "start_time": "2022-03-12T20:59:02.293Z"
   },
   {
    "duration": 21,
    "start_time": "2022-03-12T20:59:05.997Z"
   },
   {
    "duration": 21,
    "start_time": "2022-03-12T20:59:12.910Z"
   },
   {
    "duration": 25,
    "start_time": "2022-03-12T20:59:18.965Z"
   },
   {
    "duration": 29,
    "start_time": "2022-03-12T20:59:28.925Z"
   },
   {
    "duration": 57,
    "start_time": "2022-03-12T20:59:43.757Z"
   },
   {
    "duration": 25,
    "start_time": "2022-03-12T20:59:50.069Z"
   },
   {
    "duration": 27,
    "start_time": "2022-03-12T21:00:27.518Z"
   },
   {
    "duration": 207,
    "start_time": "2022-03-12T21:00:50.095Z"
   },
   {
    "duration": 203,
    "start_time": "2022-03-12T21:01:13.050Z"
   },
   {
    "duration": 36,
    "start_time": "2022-03-12T21:01:20.031Z"
   },
   {
    "duration": 57,
    "start_time": "2022-03-12T21:02:04.250Z"
   },
   {
    "duration": 28,
    "start_time": "2022-03-12T21:02:23.321Z"
   },
   {
    "duration": 40,
    "start_time": "2022-03-12T21:03:06.729Z"
   },
   {
    "duration": 4787,
    "start_time": "2022-03-12T21:03:36.513Z"
   },
   {
    "duration": 23,
    "start_time": "2022-03-12T21:15:19.102Z"
   },
   {
    "duration": 4400,
    "start_time": "2022-03-12T21:17:20.514Z"
   },
   {
    "duration": 20,
    "start_time": "2022-03-12T21:17:43.570Z"
   },
   {
    "duration": 22,
    "start_time": "2022-03-12T21:23:41.241Z"
   },
   {
    "duration": 180,
    "start_time": "2022-03-12T21:23:54.946Z"
   },
   {
    "duration": 24,
    "start_time": "2022-03-12T21:24:10.745Z"
   },
   {
    "duration": 16,
    "start_time": "2022-03-12T21:24:28.834Z"
   },
   {
    "duration": 17,
    "start_time": "2022-03-12T21:25:22.900Z"
   },
   {
    "duration": 16,
    "start_time": "2022-03-12T21:25:43.060Z"
   },
   {
    "duration": 194,
    "start_time": "2022-03-12T21:28:17.455Z"
   },
   {
    "duration": 2243,
    "start_time": "2022-03-12T21:30:12.394Z"
   },
   {
    "duration": 2119,
    "start_time": "2022-03-12T21:38:21.146Z"
   },
   {
    "duration": 2540,
    "start_time": "2022-03-12T21:38:52.691Z"
   },
   {
    "duration": 2144,
    "start_time": "2022-03-12T21:39:33.812Z"
   },
   {
    "duration": 2084,
    "start_time": "2022-03-12T21:39:44.380Z"
   },
   {
    "duration": 2104,
    "start_time": "2022-03-12T21:39:51.332Z"
   },
   {
    "duration": 3,
    "start_time": "2022-03-12T21:40:07.497Z"
   },
   {
    "duration": 44,
    "start_time": "2022-03-12T21:40:07.502Z"
   },
   {
    "duration": 114,
    "start_time": "2022-03-12T21:40:07.549Z"
   },
   {
    "duration": 18,
    "start_time": "2022-03-12T21:40:07.664Z"
   },
   {
    "duration": 189,
    "start_time": "2022-03-12T21:40:12.965Z"
   },
   {
    "duration": 12,
    "start_time": "2022-03-12T21:40:20.173Z"
   },
   {
    "duration": 20,
    "start_time": "2022-03-12T21:40:37.237Z"
   },
   {
    "duration": 2422,
    "start_time": "2022-03-12T21:41:02.365Z"
   },
   {
    "duration": 14,
    "start_time": "2022-03-12T21:42:17.984Z"
   },
   {
    "duration": 20,
    "start_time": "2022-03-12T21:42:35.239Z"
   },
   {
    "duration": 192,
    "start_time": "2022-03-12T21:45:00.099Z"
   },
   {
    "duration": 57,
    "start_time": "2022-03-12T21:46:04.603Z"
   },
   {
    "duration": 67,
    "start_time": "2022-03-12T21:46:12.939Z"
   },
   {
    "duration": 20,
    "start_time": "2022-03-12T21:46:24.740Z"
   },
   {
    "duration": 18,
    "start_time": "2022-03-12T21:46:46.500Z"
   },
   {
    "duration": 19,
    "start_time": "2022-03-12T21:47:06.924Z"
   },
   {
    "duration": 23,
    "start_time": "2022-03-12T21:47:23.197Z"
   },
   {
    "duration": 3,
    "start_time": "2022-03-12T21:47:29.731Z"
   },
   {
    "duration": 48,
    "start_time": "2022-03-12T21:47:29.736Z"
   },
   {
    "duration": 90,
    "start_time": "2022-03-12T21:47:29.786Z"
   },
   {
    "duration": 17,
    "start_time": "2022-03-12T21:47:29.878Z"
   },
   {
    "duration": 24,
    "start_time": "2022-03-12T21:47:34.781Z"
   },
   {
    "duration": 21,
    "start_time": "2022-03-12T21:49:04.635Z"
   },
   {
    "duration": 17,
    "start_time": "2022-03-12T21:50:28.040Z"
   },
   {
    "duration": 3,
    "start_time": "2022-03-12T21:50:57.115Z"
   },
   {
    "duration": 48,
    "start_time": "2022-03-12T21:50:57.119Z"
   },
   {
    "duration": 92,
    "start_time": "2022-03-12T21:50:57.168Z"
   },
   {
    "duration": 17,
    "start_time": "2022-03-12T21:50:57.261Z"
   },
   {
    "duration": 17,
    "start_time": "2022-03-12T21:51:01.033Z"
   },
   {
    "duration": 17,
    "start_time": "2022-03-12T21:51:25.938Z"
   },
   {
    "duration": 13,
    "start_time": "2022-03-12T21:51:37.642Z"
   },
   {
    "duration": 13,
    "start_time": "2022-03-12T21:51:53.811Z"
   },
   {
    "duration": 13,
    "start_time": "2022-03-12T21:52:06.905Z"
   },
   {
    "duration": 3,
    "start_time": "2022-03-12T21:52:10.876Z"
   },
   {
    "duration": 47,
    "start_time": "2022-03-12T21:52:10.881Z"
   },
   {
    "duration": 93,
    "start_time": "2022-03-12T21:52:10.930Z"
   },
   {
    "duration": 20,
    "start_time": "2022-03-12T21:52:11.033Z"
   },
   {
    "duration": 20,
    "start_time": "2022-03-12T21:52:11.056Z"
   },
   {
    "duration": 18,
    "start_time": "2022-03-12T21:52:22.474Z"
   },
   {
    "duration": 2,
    "start_time": "2022-03-12T21:53:07.293Z"
   },
   {
    "duration": 46,
    "start_time": "2022-03-12T21:53:07.297Z"
   },
   {
    "duration": 94,
    "start_time": "2022-03-12T21:53:07.345Z"
   },
   {
    "duration": 19,
    "start_time": "2022-03-12T21:53:07.441Z"
   },
   {
    "duration": 21,
    "start_time": "2022-03-12T21:53:10.147Z"
   },
   {
    "duration": 3,
    "start_time": "2022-03-12T21:53:20.967Z"
   },
   {
    "duration": 46,
    "start_time": "2022-03-12T21:53:20.972Z"
   },
   {
    "duration": 96,
    "start_time": "2022-03-12T21:53:21.020Z"
   },
   {
    "duration": 31,
    "start_time": "2022-03-12T21:53:21.118Z"
   },
   {
    "duration": 20,
    "start_time": "2022-03-12T21:53:24.164Z"
   },
   {
    "duration": 20,
    "start_time": "2022-03-12T21:58:35.743Z"
   },
   {
    "duration": 13,
    "start_time": "2022-03-12T21:59:13.380Z"
   },
   {
    "duration": 15,
    "start_time": "2022-03-12T22:00:01.788Z"
   },
   {
    "duration": 2,
    "start_time": "2022-03-12T22:00:08.490Z"
   },
   {
    "duration": 58,
    "start_time": "2022-03-12T22:00:08.494Z"
   },
   {
    "duration": 91,
    "start_time": "2022-03-12T22:00:08.554Z"
   },
   {
    "duration": 17,
    "start_time": "2022-03-12T22:00:08.647Z"
   },
   {
    "duration": 21,
    "start_time": "2022-03-12T22:00:12.861Z"
   },
   {
    "duration": 18,
    "start_time": "2022-03-12T22:02:09.751Z"
   },
   {
    "duration": 2,
    "start_time": "2022-03-12T22:02:18.583Z"
   },
   {
    "duration": 48,
    "start_time": "2022-03-12T22:02:18.587Z"
   },
   {
    "duration": 86,
    "start_time": "2022-03-12T22:02:18.638Z"
   },
   {
    "duration": 18,
    "start_time": "2022-03-12T22:02:18.733Z"
   },
   {
    "duration": 16,
    "start_time": "2022-03-12T22:02:22.456Z"
   },
   {
    "duration": 152,
    "start_time": "2022-03-12T22:06:52.844Z"
   },
   {
    "duration": 11,
    "start_time": "2022-03-12T22:07:03.227Z"
   },
   {
    "duration": 11,
    "start_time": "2022-03-12T22:18:42.184Z"
   },
   {
    "duration": 341,
    "start_time": "2022-03-12T22:19:15.089Z"
   },
   {
    "duration": 3,
    "start_time": "2022-03-12T22:19:44.017Z"
   },
   {
    "duration": 45,
    "start_time": "2022-03-12T22:19:44.021Z"
   },
   {
    "duration": 96,
    "start_time": "2022-03-12T22:19:44.068Z"
   },
   {
    "duration": 18,
    "start_time": "2022-03-12T22:19:44.165Z"
   },
   {
    "duration": 185,
    "start_time": "2022-03-12T22:19:48.665Z"
   },
   {
    "duration": 11,
    "start_time": "2022-03-12T22:20:22.833Z"
   },
   {
    "duration": 13,
    "start_time": "2022-03-12T22:20:49.458Z"
   },
   {
    "duration": 3,
    "start_time": "2022-03-12T22:20:59.382Z"
   },
   {
    "duration": 45,
    "start_time": "2022-03-12T22:20:59.386Z"
   },
   {
    "duration": 84,
    "start_time": "2022-03-12T22:20:59.434Z"
   },
   {
    "duration": 28,
    "start_time": "2022-03-12T22:20:59.520Z"
   },
   {
    "duration": 18,
    "start_time": "2022-03-12T22:21:02.769Z"
   },
   {
    "duration": 14,
    "start_time": "2022-03-12T22:21:45.531Z"
   },
   {
    "duration": 3,
    "start_time": "2022-03-12T22:21:50.498Z"
   },
   {
    "duration": 45,
    "start_time": "2022-03-12T22:21:50.502Z"
   },
   {
    "duration": 98,
    "start_time": "2022-03-12T22:21:50.550Z"
   },
   {
    "duration": 18,
    "start_time": "2022-03-12T22:21:50.650Z"
   },
   {
    "duration": 18,
    "start_time": "2022-03-12T22:21:50.670Z"
   },
   {
    "duration": 8,
    "start_time": "2022-03-12T22:23:01.997Z"
   },
   {
    "duration": 7,
    "start_time": "2022-03-12T22:23:19.093Z"
   },
   {
    "duration": 9,
    "start_time": "2022-03-12T22:24:29.606Z"
   },
   {
    "duration": 9,
    "start_time": "2022-03-12T22:24:59.879Z"
   },
   {
    "duration": 8,
    "start_time": "2022-03-12T22:26:43.786Z"
   },
   {
    "duration": 13,
    "start_time": "2022-03-12T22:27:12.306Z"
   },
   {
    "duration": 20,
    "start_time": "2022-03-12T22:29:41.540Z"
   },
   {
    "duration": 18,
    "start_time": "2022-03-12T22:30:55.294Z"
   },
   {
    "duration": 18,
    "start_time": "2022-03-12T22:31:59.880Z"
   },
   {
    "duration": 8,
    "start_time": "2022-03-12T22:32:19.128Z"
   },
   {
    "duration": 3,
    "start_time": "2022-03-12T22:33:32.325Z"
   },
   {
    "duration": 44,
    "start_time": "2022-03-12T22:33:32.330Z"
   },
   {
    "duration": 86,
    "start_time": "2022-03-12T22:33:32.376Z"
   },
   {
    "duration": 17,
    "start_time": "2022-03-12T22:33:32.464Z"
   },
   {
    "duration": 8,
    "start_time": "2022-03-12T22:33:39.510Z"
   },
   {
    "duration": 7,
    "start_time": "2022-03-12T22:34:02.114Z"
   },
   {
    "duration": 8,
    "start_time": "2022-03-12T22:34:09.346Z"
   },
   {
    "duration": 10,
    "start_time": "2022-03-12T22:34:49.761Z"
   },
   {
    "duration": 10,
    "start_time": "2022-03-12T22:35:15.123Z"
   },
   {
    "duration": 3,
    "start_time": "2022-03-12T22:35:21.757Z"
   },
   {
    "duration": 47,
    "start_time": "2022-03-12T22:35:21.761Z"
   },
   {
    "duration": 89,
    "start_time": "2022-03-12T22:35:21.810Z"
   },
   {
    "duration": 19,
    "start_time": "2022-03-12T22:35:21.901Z"
   },
   {
    "duration": 10,
    "start_time": "2022-03-12T22:35:25.602Z"
   },
   {
    "duration": 11,
    "start_time": "2022-03-12T22:35:53.805Z"
   },
   {
    "duration": 181,
    "start_time": "2022-03-12T22:36:55.077Z"
   },
   {
    "duration": 20,
    "start_time": "2022-03-12T22:37:42.596Z"
   },
   {
    "duration": 21,
    "start_time": "2022-03-12T22:37:59.395Z"
   },
   {
    "duration": 21,
    "start_time": "2022-03-12T22:38:20.478Z"
   },
   {
    "duration": 15,
    "start_time": "2022-03-12T22:38:35.182Z"
   },
   {
    "duration": 2,
    "start_time": "2022-03-12T22:38:50.989Z"
   },
   {
    "duration": 49,
    "start_time": "2022-03-12T22:38:50.993Z"
   },
   {
    "duration": 104,
    "start_time": "2022-03-12T22:38:51.044Z"
   },
   {
    "duration": 28,
    "start_time": "2022-03-12T22:38:51.151Z"
   },
   {
    "duration": 14,
    "start_time": "2022-03-12T22:38:55.422Z"
   },
   {
    "duration": 11,
    "start_time": "2022-03-12T22:39:03.855Z"
   },
   {
    "duration": 63,
    "start_time": "2022-03-12T22:39:57.575Z"
   },
   {
    "duration": 185,
    "start_time": "2022-03-12T22:40:45.433Z"
   },
   {
    "duration": 16,
    "start_time": "2022-03-12T22:41:28.479Z"
   },
   {
    "duration": 16,
    "start_time": "2022-03-12T22:41:40.904Z"
   },
   {
    "duration": 3,
    "start_time": "2022-03-12T22:41:49.308Z"
   },
   {
    "duration": 48,
    "start_time": "2022-03-12T22:41:49.312Z"
   },
   {
    "duration": 92,
    "start_time": "2022-03-12T22:41:49.363Z"
   },
   {
    "duration": 18,
    "start_time": "2022-03-12T22:41:49.457Z"
   },
   {
    "duration": 18,
    "start_time": "2022-03-12T22:41:53.976Z"
   },
   {
    "duration": 58,
    "start_time": "2022-03-12T22:42:19.040Z"
   },
   {
    "duration": 17,
    "start_time": "2022-03-12T22:42:24.298Z"
   },
   {
    "duration": 26,
    "start_time": "2022-03-12T22:43:00.129Z"
   },
   {
    "duration": 34,
    "start_time": "2022-03-12T22:45:14.778Z"
   },
   {
    "duration": 60,
    "start_time": "2022-03-12T22:46:08.484Z"
   },
   {
    "duration": 56,
    "start_time": "2022-03-12T22:46:17.501Z"
   },
   {
    "duration": 28,
    "start_time": "2022-03-12T22:47:24.381Z"
   },
   {
    "duration": 35,
    "start_time": "2022-03-12T22:47:50.917Z"
   },
   {
    "duration": 27,
    "start_time": "2022-03-12T22:48:33.797Z"
   },
   {
    "duration": 18,
    "start_time": "2022-03-12T22:48:43.214Z"
   },
   {
    "duration": 19,
    "start_time": "2022-03-12T22:49:20.111Z"
   },
   {
    "duration": 24,
    "start_time": "2022-03-12T22:50:29.416Z"
   },
   {
    "duration": 2,
    "start_time": "2022-03-12T22:51:33.531Z"
   },
   {
    "duration": 50,
    "start_time": "2022-03-12T22:51:33.535Z"
   },
   {
    "duration": 93,
    "start_time": "2022-03-12T22:51:33.587Z"
   },
   {
    "duration": 18,
    "start_time": "2022-03-12T22:51:33.682Z"
   },
   {
    "duration": 11,
    "start_time": "2022-03-12T22:51:38.305Z"
   },
   {
    "duration": 23,
    "start_time": "2022-03-12T22:52:14.785Z"
   },
   {
    "duration": 28,
    "start_time": "2022-03-12T22:53:11.938Z"
   },
   {
    "duration": 3,
    "start_time": "2022-03-12T22:56:47.678Z"
   },
   {
    "duration": 60,
    "start_time": "2022-03-12T22:56:47.683Z"
   },
   {
    "duration": 88,
    "start_time": "2022-03-12T22:56:47.745Z"
   },
   {
    "duration": 18,
    "start_time": "2022-03-12T22:56:47.835Z"
   },
   {
    "duration": 44,
    "start_time": "2022-03-12T22:56:52.141Z"
   },
   {
    "duration": 6,
    "start_time": "2022-03-12T23:02:29.532Z"
   },
   {
    "duration": 10,
    "start_time": "2022-03-12T23:02:57.589Z"
   },
   {
    "duration": 778,
    "start_time": "2022-03-12T23:03:30.157Z"
   },
   {
    "duration": 3,
    "start_time": "2022-03-12T23:03:40.171Z"
   },
   {
    "duration": 43,
    "start_time": "2022-03-12T23:03:40.176Z"
   },
   {
    "duration": 89,
    "start_time": "2022-03-12T23:03:40.221Z"
   },
   {
    "duration": 28,
    "start_time": "2022-03-12T23:03:40.312Z"
   },
   {
    "duration": 11,
    "start_time": "2022-03-12T23:03:40.342Z"
   },
   {
    "duration": 12,
    "start_time": "2022-03-12T23:03:43.372Z"
   },
   {
    "duration": 45,
    "start_time": "2022-03-12T23:04:21.814Z"
   },
   {
    "duration": 7,
    "start_time": "2022-03-12T23:04:49.543Z"
   },
   {
    "duration": 3,
    "start_time": "2022-03-12T23:04:57.130Z"
   },
   {
    "duration": 45,
    "start_time": "2022-03-12T23:04:57.135Z"
   },
   {
    "duration": 87,
    "start_time": "2022-03-12T23:04:57.182Z"
   },
   {
    "duration": 16,
    "start_time": "2022-03-12T23:04:57.271Z"
   },
   {
    "duration": 46,
    "start_time": "2022-03-12T23:04:59.295Z"
   },
   {
    "duration": 2,
    "start_time": "2022-03-12T23:05:11.685Z"
   },
   {
    "duration": 46,
    "start_time": "2022-03-12T23:05:11.689Z"
   },
   {
    "duration": 97,
    "start_time": "2022-03-12T23:05:11.737Z"
   },
   {
    "duration": 18,
    "start_time": "2022-03-12T23:05:11.836Z"
   },
   {
    "duration": 44,
    "start_time": "2022-03-12T23:05:15.367Z"
   },
   {
    "duration": 3,
    "start_time": "2022-03-12T23:05:52.446Z"
   },
   {
    "duration": 45,
    "start_time": "2022-03-12T23:05:52.450Z"
   },
   {
    "duration": 82,
    "start_time": "2022-03-12T23:05:52.497Z"
   },
   {
    "duration": 17,
    "start_time": "2022-03-12T23:05:52.581Z"
   },
   {
    "duration": 43,
    "start_time": "2022-03-12T23:05:55.992Z"
   },
   {
    "duration": 3,
    "start_time": "2022-03-12T23:06:41.772Z"
   },
   {
    "duration": 47,
    "start_time": "2022-03-12T23:06:41.776Z"
   },
   {
    "duration": 83,
    "start_time": "2022-03-12T23:06:41.825Z"
   },
   {
    "duration": 30,
    "start_time": "2022-03-12T23:06:41.909Z"
   },
   {
    "duration": 34,
    "start_time": "2022-03-12T23:06:44.777Z"
   },
   {
    "duration": 16,
    "start_time": "2022-03-12T23:15:42.293Z"
   },
   {
    "duration": 2,
    "start_time": "2022-03-12T23:15:48.608Z"
   },
   {
    "duration": 45,
    "start_time": "2022-03-12T23:15:48.612Z"
   },
   {
    "duration": 92,
    "start_time": "2022-03-12T23:15:48.659Z"
   },
   {
    "duration": 84,
    "start_time": "2022-03-12T23:16:18.315Z"
   },
   {
    "duration": 10,
    "start_time": "2022-03-12T23:16:36.570Z"
   },
   {
    "duration": 11,
    "start_time": "2022-03-12T23:18:17.757Z"
   },
   {
    "duration": 11,
    "start_time": "2022-03-12T23:19:29.806Z"
   },
   {
    "duration": 10,
    "start_time": "2022-03-12T23:19:57.326Z"
   },
   {
    "duration": 11,
    "start_time": "2022-03-12T23:20:48.391Z"
   },
   {
    "duration": 12,
    "start_time": "2022-03-12T23:21:00.830Z"
   },
   {
    "duration": 239,
    "start_time": "2022-03-13T07:40:44.792Z"
   },
   {
    "duration": 608,
    "start_time": "2022-03-13T07:40:51.140Z"
   },
   {
    "duration": 53,
    "start_time": "2022-03-13T07:40:51.750Z"
   },
   {
    "duration": 108,
    "start_time": "2022-03-13T07:40:51.805Z"
   },
   {
    "duration": 12,
    "start_time": "2022-03-13T07:40:51.915Z"
   },
   {
    "duration": 59,
    "start_time": "2022-03-13T07:40:51.929Z"
   },
   {
    "duration": 4,
    "start_time": "2022-03-13T07:40:51.990Z"
   },
   {
    "duration": 7,
    "start_time": "2022-03-13T07:40:51.996Z"
   },
   {
    "duration": 10,
    "start_time": "2022-03-13T07:40:52.005Z"
   },
   {
    "duration": 692,
    "start_time": "2022-03-13T07:40:55.534Z"
   },
   {
    "duration": 750,
    "start_time": "2022-03-13T07:41:03.119Z"
   },
   {
    "duration": 7,
    "start_time": "2022-03-13T07:42:01.952Z"
   },
   {
    "duration": 3,
    "start_time": "2022-03-13T07:42:07.794Z"
   },
   {
    "duration": 44,
    "start_time": "2022-03-13T07:42:07.800Z"
   },
   {
    "duration": 102,
    "start_time": "2022-03-13T07:42:07.846Z"
   },
   {
    "duration": 16,
    "start_time": "2022-03-13T07:42:07.951Z"
   },
   {
    "duration": 2,
    "start_time": "2022-03-13T07:42:16.957Z"
   },
   {
    "duration": 59,
    "start_time": "2022-03-13T07:42:16.961Z"
   },
   {
    "duration": 93,
    "start_time": "2022-03-13T07:42:17.022Z"
   },
   {
    "duration": 11,
    "start_time": "2022-03-13T07:42:17.117Z"
   },
   {
    "duration": 48,
    "start_time": "2022-03-13T07:42:17.130Z"
   },
   {
    "duration": 4,
    "start_time": "2022-03-13T07:42:17.179Z"
   },
   {
    "duration": 84,
    "start_time": "2022-03-13T07:42:17.184Z"
   },
   {
    "duration": 8,
    "start_time": "2022-03-13T07:42:17.270Z"
   },
   {
    "duration": 739,
    "start_time": "2022-03-13T07:42:19.656Z"
   },
   {
    "duration": 742,
    "start_time": "2022-03-13T07:44:32.604Z"
   },
   {
    "duration": 755,
    "start_time": "2022-03-13T07:45:16.277Z"
   },
   {
    "duration": 523,
    "start_time": "2022-03-13T07:50:41.283Z"
   },
   {
    "duration": 542,
    "start_time": "2022-03-13T07:51:16.164Z"
   },
   {
    "duration": 539,
    "start_time": "2022-03-13T07:51:26.235Z"
   },
   {
    "duration": 17,
    "start_time": "2022-03-13T07:51:58.101Z"
   },
   {
    "duration": 35,
    "start_time": "2022-03-13T07:52:11.012Z"
   },
   {
    "duration": 37,
    "start_time": "2022-03-13T07:52:23.694Z"
   },
   {
    "duration": 544,
    "start_time": "2022-03-13T08:00:18.903Z"
   },
   {
    "duration": 557,
    "start_time": "2022-03-13T08:00:30.390Z"
   },
   {
    "duration": 527,
    "start_time": "2022-03-13T08:00:36.102Z"
   },
   {
    "duration": 538,
    "start_time": "2022-03-13T08:02:24.680Z"
   },
   {
    "duration": 532,
    "start_time": "2022-03-13T08:02:30.495Z"
   },
   {
    "duration": 76,
    "start_time": "2022-03-13T08:02:44.632Z"
   },
   {
    "duration": 528,
    "start_time": "2022-03-13T08:02:50.575Z"
   },
   {
    "duration": 526,
    "start_time": "2022-03-13T08:03:03.985Z"
   },
   {
    "duration": 23,
    "start_time": "2022-03-13T08:03:23.961Z"
   },
   {
    "duration": 529,
    "start_time": "2022-03-13T08:04:13.690Z"
   },
   {
    "duration": 573,
    "start_time": "2022-03-13T08:04:22.378Z"
   },
   {
    "duration": 554,
    "start_time": "2022-03-13T08:04:31.826Z"
   },
   {
    "duration": 244,
    "start_time": "2022-03-13T08:05:00.434Z"
   },
   {
    "duration": 4,
    "start_time": "2022-03-13T08:05:09.020Z"
   },
   {
    "duration": 63,
    "start_time": "2022-03-13T08:05:09.026Z"
   },
   {
    "duration": 106,
    "start_time": "2022-03-13T08:05:09.092Z"
   },
   {
    "duration": 13,
    "start_time": "2022-03-13T08:05:09.204Z"
   },
   {
    "duration": 56,
    "start_time": "2022-03-13T08:05:09.219Z"
   },
   {
    "duration": 5,
    "start_time": "2022-03-13T08:05:09.278Z"
   },
   {
    "duration": 87,
    "start_time": "2022-03-13T08:05:09.285Z"
   },
   {
    "duration": 64,
    "start_time": "2022-03-13T08:07:23.421Z"
   },
   {
    "duration": 10,
    "start_time": "2022-03-13T08:07:29.750Z"
   },
   {
    "duration": 535,
    "start_time": "2022-03-13T08:07:35.894Z"
   },
   {
    "duration": 549,
    "start_time": "2022-03-13T08:08:06.278Z"
   },
   {
    "duration": 40,
    "start_time": "2022-03-13T08:10:33.552Z"
   },
   {
    "duration": 2,
    "start_time": "2022-03-13T08:14:04.347Z"
   },
   {
    "duration": 47,
    "start_time": "2022-03-13T08:14:04.352Z"
   },
   {
    "duration": 111,
    "start_time": "2022-03-13T08:14:04.401Z"
   },
   {
    "duration": 11,
    "start_time": "2022-03-13T08:14:04.514Z"
   },
   {
    "duration": 56,
    "start_time": "2022-03-13T08:14:04.526Z"
   },
   {
    "duration": 3,
    "start_time": "2022-03-13T08:14:04.584Z"
   },
   {
    "duration": 71,
    "start_time": "2022-03-13T08:14:04.589Z"
   },
   {
    "duration": 9,
    "start_time": "2022-03-13T08:14:04.662Z"
   },
   {
    "duration": 544,
    "start_time": "2022-03-13T08:14:04.673Z"
   },
   {
    "duration": 36,
    "start_time": "2022-03-13T08:14:08.294Z"
   },
   {
    "duration": 25,
    "start_time": "2022-03-13T08:14:58.366Z"
   },
   {
    "duration": 38,
    "start_time": "2022-03-13T08:15:09.407Z"
   },
   {
    "duration": 28,
    "start_time": "2022-03-13T08:15:18.415Z"
   },
   {
    "duration": 38,
    "start_time": "2022-03-13T08:15:50.584Z"
   },
   {
    "duration": 27,
    "start_time": "2022-03-13T08:17:18.890Z"
   },
   {
    "duration": 40,
    "start_time": "2022-03-13T08:17:54.402Z"
   },
   {
    "duration": 2,
    "start_time": "2022-03-13T08:18:28.082Z"
   },
   {
    "duration": 52,
    "start_time": "2022-03-13T08:18:28.087Z"
   },
   {
    "duration": 92,
    "start_time": "2022-03-13T08:18:28.141Z"
   },
   {
    "duration": 11,
    "start_time": "2022-03-13T08:18:28.235Z"
   },
   {
    "duration": 42,
    "start_time": "2022-03-13T08:18:28.248Z"
   },
   {
    "duration": 3,
    "start_time": "2022-03-13T08:18:28.292Z"
   },
   {
    "duration": 74,
    "start_time": "2022-03-13T08:18:28.297Z"
   },
   {
    "duration": 8,
    "start_time": "2022-03-13T08:18:28.374Z"
   },
   {
    "duration": 559,
    "start_time": "2022-03-13T08:18:28.383Z"
   },
   {
    "duration": 42,
    "start_time": "2022-03-13T08:18:30.595Z"
   },
   {
    "duration": 38,
    "start_time": "2022-03-13T08:25:25.267Z"
   },
   {
    "duration": 28,
    "start_time": "2022-03-13T08:25:50.244Z"
   },
   {
    "duration": 24,
    "start_time": "2022-03-13T08:32:05.193Z"
   },
   {
    "duration": 42,
    "start_time": "2022-03-13T08:32:28.680Z"
   },
   {
    "duration": 10,
    "start_time": "2022-03-13T08:32:58.960Z"
   },
   {
    "duration": 20,
    "start_time": "2022-03-13T09:37:40.809Z"
   },
   {
    "duration": 197,
    "start_time": "2022-03-13T09:54:44.072Z"
   },
   {
    "duration": 31,
    "start_time": "2022-03-13T09:55:31.072Z"
   },
   {
    "duration": 71,
    "start_time": "2022-03-13T10:00:49.448Z"
   },
   {
    "duration": 26,
    "start_time": "2022-03-13T10:01:07.464Z"
   },
   {
    "duration": 20,
    "start_time": "2022-03-13T10:02:40.966Z"
   },
   {
    "duration": 21,
    "start_time": "2022-03-13T10:02:50.609Z"
   },
   {
    "duration": 294,
    "start_time": "2022-03-13T10:03:41.490Z"
   },
   {
    "duration": 21,
    "start_time": "2022-03-13T10:04:28.762Z"
   },
   {
    "duration": 25,
    "start_time": "2022-03-13T10:04:42.635Z"
   },
   {
    "duration": 2,
    "start_time": "2022-03-13T10:04:49.422Z"
   },
   {
    "duration": 76,
    "start_time": "2022-03-13T10:04:49.427Z"
   },
   {
    "duration": 99,
    "start_time": "2022-03-13T10:04:49.505Z"
   },
   {
    "duration": 11,
    "start_time": "2022-03-13T10:04:49.607Z"
   },
   {
    "duration": 50,
    "start_time": "2022-03-13T10:04:49.620Z"
   },
   {
    "duration": 4,
    "start_time": "2022-03-13T10:04:49.672Z"
   },
   {
    "duration": 71,
    "start_time": "2022-03-13T10:04:49.678Z"
   },
   {
    "duration": 10,
    "start_time": "2022-03-13T10:04:49.759Z"
   },
   {
    "duration": 526,
    "start_time": "2022-03-13T10:04:49.771Z"
   },
   {
    "duration": 9,
    "start_time": "2022-03-13T10:04:50.299Z"
   },
   {
    "duration": 88,
    "start_time": "2022-03-13T10:04:50.310Z"
   },
   {
    "duration": 24,
    "start_time": "2022-03-13T10:04:55.814Z"
   },
   {
    "duration": 28,
    "start_time": "2022-03-13T10:05:01.202Z"
   },
   {
    "duration": 25,
    "start_time": "2022-03-13T10:05:05.699Z"
   },
   {
    "duration": 28,
    "start_time": "2022-03-13T10:07:12.007Z"
   },
   {
    "duration": 26,
    "start_time": "2022-03-13T10:07:26.318Z"
   },
   {
    "duration": 29,
    "start_time": "2022-03-13T10:07:34.862Z"
   },
   {
    "duration": 32,
    "start_time": "2022-03-13T10:08:11.664Z"
   },
   {
    "duration": 220,
    "start_time": "2022-03-13T10:08:39.616Z"
   },
   {
    "duration": 227,
    "start_time": "2022-03-13T10:08:46.336Z"
   },
   {
    "duration": 27,
    "start_time": "2022-03-13T10:09:46.625Z"
   },
   {
    "duration": 4,
    "start_time": "2022-03-13T10:13:18.746Z"
   },
   {
    "duration": 49,
    "start_time": "2022-03-13T10:13:18.752Z"
   },
   {
    "duration": 102,
    "start_time": "2022-03-13T10:13:18.803Z"
   },
   {
    "duration": 11,
    "start_time": "2022-03-13T10:13:18.907Z"
   },
   {
    "duration": 49,
    "start_time": "2022-03-13T10:13:18.920Z"
   },
   {
    "duration": 3,
    "start_time": "2022-03-13T10:13:18.971Z"
   },
   {
    "duration": 61,
    "start_time": "2022-03-13T10:13:18.975Z"
   },
   {
    "duration": 26,
    "start_time": "2022-03-13T10:13:19.038Z"
   },
   {
    "duration": 542,
    "start_time": "2022-03-13T10:13:19.066Z"
   },
   {
    "duration": 10,
    "start_time": "2022-03-13T10:13:19.610Z"
   },
   {
    "duration": 85,
    "start_time": "2022-03-13T10:13:19.622Z"
   },
   {
    "duration": 31,
    "start_time": "2022-03-13T10:13:22.628Z"
   },
   {
    "duration": 29,
    "start_time": "2022-03-13T10:13:30.236Z"
   },
   {
    "duration": 28,
    "start_time": "2022-03-13T10:13:51.509Z"
   },
   {
    "duration": 3,
    "start_time": "2022-03-13T10:14:10.737Z"
   },
   {
    "duration": 69,
    "start_time": "2022-03-13T10:14:10.742Z"
   },
   {
    "duration": 97,
    "start_time": "2022-03-13T10:14:10.813Z"
   },
   {
    "duration": 12,
    "start_time": "2022-03-13T10:14:10.912Z"
   },
   {
    "duration": 49,
    "start_time": "2022-03-13T10:14:10.925Z"
   },
   {
    "duration": 16,
    "start_time": "2022-03-13T10:14:10.976Z"
   },
   {
    "duration": 84,
    "start_time": "2022-03-13T10:14:10.994Z"
   },
   {
    "duration": 9,
    "start_time": "2022-03-13T10:14:11.081Z"
   },
   {
    "duration": 548,
    "start_time": "2022-03-13T10:14:11.092Z"
   },
   {
    "duration": 17,
    "start_time": "2022-03-13T10:14:11.642Z"
   },
   {
    "duration": 81,
    "start_time": "2022-03-13T10:14:11.660Z"
   },
   {
    "duration": 28,
    "start_time": "2022-03-13T10:14:14.741Z"
   },
   {
    "duration": 2,
    "start_time": "2022-03-13T10:14:21.906Z"
   },
   {
    "duration": 50,
    "start_time": "2022-03-13T10:14:21.911Z"
   },
   {
    "duration": 103,
    "start_time": "2022-03-13T10:14:21.963Z"
   },
   {
    "duration": 12,
    "start_time": "2022-03-13T10:14:22.067Z"
   },
   {
    "duration": 34,
    "start_time": "2022-03-13T10:14:22.081Z"
   },
   {
    "duration": 4,
    "start_time": "2022-03-13T10:14:22.116Z"
   },
   {
    "duration": 93,
    "start_time": "2022-03-13T10:14:22.121Z"
   },
   {
    "duration": 10,
    "start_time": "2022-03-13T10:14:22.217Z"
   },
   {
    "duration": 591,
    "start_time": "2022-03-13T10:14:22.228Z"
   },
   {
    "duration": 10,
    "start_time": "2022-03-13T10:14:22.821Z"
   },
   {
    "duration": 81,
    "start_time": "2022-03-13T10:14:22.833Z"
   },
   {
    "duration": 28,
    "start_time": "2022-03-13T10:14:24.686Z"
   },
   {
    "duration": 28,
    "start_time": "2022-03-13T10:14:58.246Z"
   },
   {
    "duration": 31,
    "start_time": "2022-03-13T10:16:00.880Z"
   },
   {
    "duration": 25,
    "start_time": "2022-03-13T10:16:13.528Z"
   },
   {
    "duration": 248,
    "start_time": "2022-03-13T10:20:56.038Z"
   },
   {
    "duration": 786,
    "start_time": "2022-03-13T10:21:22.004Z"
   },
   {
    "duration": 219,
    "start_time": "2022-03-13T10:22:58.640Z"
   },
   {
    "duration": 7,
    "start_time": "2022-03-13T10:23:19.432Z"
   },
   {
    "duration": 7,
    "start_time": "2022-03-13T10:23:30.535Z"
   },
   {
    "duration": 23,
    "start_time": "2022-03-13T10:23:43.968Z"
   },
   {
    "duration": 215,
    "start_time": "2022-03-13T10:24:39.906Z"
   },
   {
    "duration": 218,
    "start_time": "2022-03-13T10:24:52.370Z"
   },
   {
    "duration": 12,
    "start_time": "2022-03-13T10:25:10.890Z"
   },
   {
    "duration": 13,
    "start_time": "2022-03-13T10:25:31.106Z"
   },
   {
    "duration": 208,
    "start_time": "2022-03-13T10:25:56.347Z"
   },
   {
    "duration": 237,
    "start_time": "2022-03-13T10:26:49.236Z"
   },
   {
    "duration": 226,
    "start_time": "2022-03-13T10:27:09.357Z"
   },
   {
    "duration": 12,
    "start_time": "2022-03-13T10:27:22.276Z"
   },
   {
    "duration": 31,
    "start_time": "2022-03-13T10:29:03.807Z"
   },
   {
    "duration": 31,
    "start_time": "2022-03-13T10:29:17.510Z"
   },
   {
    "duration": 30,
    "start_time": "2022-03-13T10:29:46.070Z"
   },
   {
    "duration": 27,
    "start_time": "2022-03-13T10:32:06.818Z"
   },
   {
    "duration": 25,
    "start_time": "2022-03-13T10:32:53.051Z"
   },
   {
    "duration": 90,
    "start_time": "2022-03-13T10:41:21.051Z"
   },
   {
    "duration": 52,
    "start_time": "2022-03-13T10:55:33.190Z"
   },
   {
    "duration": 59,
    "start_time": "2022-03-13T10:56:41.839Z"
   },
   {
    "duration": 61,
    "start_time": "2022-03-13T10:56:55.054Z"
   },
   {
    "duration": 4924,
    "start_time": "2022-03-13T10:59:39.573Z"
   },
   {
    "duration": 30,
    "start_time": "2022-03-13T11:00:04.227Z"
   },
   {
    "duration": 6,
    "start_time": "2022-03-13T11:04:41.713Z"
   },
   {
    "duration": 6,
    "start_time": "2022-03-13T11:04:50.168Z"
   },
   {
    "duration": 9,
    "start_time": "2022-03-13T11:05:40.058Z"
   },
   {
    "duration": 9,
    "start_time": "2022-03-13T11:08:32.941Z"
   },
   {
    "duration": 11,
    "start_time": "2022-03-13T11:08:54.326Z"
   },
   {
    "duration": 11,
    "start_time": "2022-03-13T11:09:09.685Z"
   },
   {
    "duration": 11,
    "start_time": "2022-03-13T11:10:31.232Z"
   },
   {
    "duration": 11,
    "start_time": "2022-03-13T11:10:57.567Z"
   },
   {
    "duration": 12,
    "start_time": "2022-03-13T11:11:15.015Z"
   },
   {
    "duration": 11,
    "start_time": "2022-03-13T11:11:55.744Z"
   },
   {
    "duration": 11,
    "start_time": "2022-03-13T11:12:14.233Z"
   },
   {
    "duration": 64,
    "start_time": "2022-03-13T11:18:09.632Z"
   },
   {
    "duration": 74,
    "start_time": "2022-03-13T11:18:35.545Z"
   },
   {
    "duration": 63,
    "start_time": "2022-03-13T11:19:16.178Z"
   },
   {
    "duration": 53,
    "start_time": "2022-03-13T11:19:48.907Z"
   },
   {
    "duration": 56,
    "start_time": "2022-03-13T11:20:05.276Z"
   },
   {
    "duration": 2,
    "start_time": "2022-03-13T11:20:19.007Z"
   },
   {
    "duration": 47,
    "start_time": "2022-03-13T11:20:19.011Z"
   },
   {
    "duration": 107,
    "start_time": "2022-03-13T11:20:19.060Z"
   },
   {
    "duration": 11,
    "start_time": "2022-03-13T11:20:19.169Z"
   },
   {
    "duration": 44,
    "start_time": "2022-03-13T11:20:19.181Z"
   },
   {
    "duration": 3,
    "start_time": "2022-03-13T11:20:19.227Z"
   },
   {
    "duration": 78,
    "start_time": "2022-03-13T11:20:19.232Z"
   },
   {
    "duration": 9,
    "start_time": "2022-03-13T11:20:19.312Z"
   },
   {
    "duration": 552,
    "start_time": "2022-03-13T11:20:19.323Z"
   },
   {
    "duration": 9,
    "start_time": "2022-03-13T11:20:19.877Z"
   },
   {
    "duration": 51,
    "start_time": "2022-03-13T11:20:19.888Z"
   },
   {
    "duration": 53,
    "start_time": "2022-03-13T11:20:22.539Z"
   },
   {
    "duration": 80,
    "start_time": "2022-03-13T11:21:15.333Z"
   },
   {
    "duration": 245,
    "start_time": "2022-03-13T11:21:24.422Z"
   },
   {
    "duration": 62,
    "start_time": "2022-03-13T11:22:15.646Z"
   },
   {
    "duration": 47,
    "start_time": "2022-03-13T11:30:03.950Z"
   },
   {
    "duration": 4,
    "start_time": "2022-03-13T11:30:53.483Z"
   },
   {
    "duration": 5,
    "start_time": "2022-03-13T11:31:37.187Z"
   },
   {
    "duration": 72,
    "start_time": "2022-03-13T11:33:50.846Z"
   },
   {
    "duration": 201,
    "start_time": "2022-03-13T11:35:10.655Z"
   },
   {
    "duration": 5,
    "start_time": "2022-03-13T11:35:18.303Z"
   },
   {
    "duration": 66,
    "start_time": "2022-03-13T11:35:31.656Z"
   },
   {
    "duration": 75,
    "start_time": "2022-03-13T11:37:35.835Z"
   },
   {
    "duration": 83,
    "start_time": "2022-03-13T11:38:27.036Z"
   },
   {
    "duration": 55,
    "start_time": "2022-03-13T11:38:35.948Z"
   },
   {
    "duration": 60,
    "start_time": "2022-03-13T11:38:52.411Z"
   },
   {
    "duration": 4,
    "start_time": "2022-03-13T11:39:02.916Z"
   },
   {
    "duration": 76,
    "start_time": "2022-03-13T11:39:10.924Z"
   },
   {
    "duration": 192,
    "start_time": "2022-03-13T11:39:16.706Z"
   },
   {
    "duration": 61,
    "start_time": "2022-03-13T11:39:34.440Z"
   },
   {
    "duration": 11,
    "start_time": "2022-03-13T11:39:55.677Z"
   },
   {
    "duration": 10,
    "start_time": "2022-03-13T11:40:03.349Z"
   },
   {
    "duration": 78,
    "start_time": "2022-03-13T11:40:37.990Z"
   },
   {
    "duration": 17,
    "start_time": "2022-03-13T11:40:56.647Z"
   },
   {
    "duration": 16,
    "start_time": "2022-03-13T11:41:03.176Z"
   },
   {
    "duration": 62,
    "start_time": "2022-03-13T11:41:19.002Z"
   },
   {
    "duration": 22,
    "start_time": "2022-03-13T11:41:28.247Z"
   },
   {
    "duration": 18,
    "start_time": "2022-03-13T11:41:36.599Z"
   },
   {
    "duration": 17,
    "start_time": "2022-03-13T11:41:50.080Z"
   },
   {
    "duration": 71,
    "start_time": "2022-03-13T11:42:32.153Z"
   },
   {
    "duration": 59,
    "start_time": "2022-03-13T11:42:48.953Z"
   },
   {
    "duration": 22,
    "start_time": "2022-03-13T11:42:59.672Z"
   },
   {
    "duration": 21,
    "start_time": "2022-03-13T11:43:10.986Z"
   },
   {
    "duration": 21,
    "start_time": "2022-03-13T11:43:24.427Z"
   },
   {
    "duration": 21,
    "start_time": "2022-03-13T11:43:38.690Z"
   },
   {
    "duration": 19,
    "start_time": "2022-03-13T11:43:46.819Z"
   },
   {
    "duration": 62,
    "start_time": "2022-03-13T11:44:19.787Z"
   },
   {
    "duration": 21,
    "start_time": "2022-03-13T11:44:41.803Z"
   },
   {
    "duration": 24,
    "start_time": "2022-03-13T11:45:02.684Z"
   },
   {
    "duration": 15,
    "start_time": "2022-03-13T11:46:22.590Z"
   },
   {
    "duration": 25,
    "start_time": "2022-03-13T11:46:36.549Z"
   },
   {
    "duration": 14,
    "start_time": "2022-03-13T11:46:40.703Z"
   },
   {
    "duration": 210,
    "start_time": "2022-03-13T11:47:16.967Z"
   },
   {
    "duration": 8,
    "start_time": "2022-03-13T11:47:45.095Z"
   },
   {
    "duration": 8,
    "start_time": "2022-03-13T11:48:10.791Z"
   },
   {
    "duration": 7,
    "start_time": "2022-03-13T11:48:34.921Z"
   },
   {
    "duration": 9,
    "start_time": "2022-03-13T11:49:00.745Z"
   },
   {
    "duration": 14,
    "start_time": "2022-03-13T11:49:12.170Z"
   },
   {
    "duration": 12,
    "start_time": "2022-03-13T11:49:16.089Z"
   },
   {
    "duration": 15,
    "start_time": "2022-03-13T11:49:19.257Z"
   },
   {
    "duration": 14,
    "start_time": "2022-03-13T11:49:27.442Z"
   },
   {
    "duration": 13,
    "start_time": "2022-03-13T11:49:45.947Z"
   },
   {
    "duration": 14,
    "start_time": "2022-03-13T11:49:50.468Z"
   },
   {
    "duration": 15,
    "start_time": "2022-03-13T11:49:56.442Z"
   },
   {
    "duration": 48,
    "start_time": "2022-03-13T11:51:04.307Z"
   },
   {
    "duration": 88,
    "start_time": "2022-03-13T11:51:26.900Z"
   },
   {
    "duration": 76,
    "start_time": "2022-03-13T11:52:02.116Z"
   },
   {
    "duration": 75,
    "start_time": "2022-03-13T11:52:18.804Z"
   },
   {
    "duration": 75,
    "start_time": "2022-03-13T11:53:04.439Z"
   },
   {
    "duration": 73,
    "start_time": "2022-03-13T11:53:12.766Z"
   },
   {
    "duration": 308,
    "start_time": "2022-03-13T12:24:37.904Z"
   },
   {
    "duration": 74,
    "start_time": "2022-03-13T12:28:19.534Z"
   },
   {
    "duration": 326,
    "start_time": "2022-03-13T12:28:36.566Z"
   },
   {
    "duration": 315,
    "start_time": "2022-03-13T12:29:02.887Z"
   },
   {
    "duration": 307,
    "start_time": "2022-03-13T12:30:04.528Z"
   },
   {
    "duration": 309,
    "start_time": "2022-03-13T12:30:23.089Z"
   },
   {
    "duration": 290,
    "start_time": "2022-03-13T12:30:52.401Z"
   },
   {
    "duration": 4,
    "start_time": "2022-03-13T12:31:05.347Z"
   },
   {
    "duration": 5,
    "start_time": "2022-03-13T12:31:17.769Z"
   },
   {
    "duration": 6,
    "start_time": "2022-03-13T12:31:30.730Z"
   },
   {
    "duration": 7,
    "start_time": "2022-03-13T12:31:37.938Z"
   },
   {
    "duration": 329,
    "start_time": "2022-03-13T12:32:14.988Z"
   },
   {
    "duration": 14,
    "start_time": "2022-03-13T12:33:07.644Z"
   },
   {
    "duration": 9,
    "start_time": "2022-03-13T12:33:19.165Z"
   },
   {
    "duration": 136,
    "start_time": "2022-03-13T12:36:52.520Z"
   },
   {
    "duration": 198,
    "start_time": "2022-03-13T12:38:15.908Z"
   },
   {
    "duration": 6,
    "start_time": "2022-03-13T12:38:26.076Z"
   },
   {
    "duration": 62,
    "start_time": "2022-03-13T12:39:13.126Z"
   },
   {
    "duration": 9,
    "start_time": "2022-03-13T12:40:01.919Z"
   },
   {
    "duration": 9,
    "start_time": "2022-03-13T12:40:16.622Z"
   },
   {
    "duration": 304,
    "start_time": "2022-03-13T12:40:48.391Z"
   },
   {
    "duration": 328,
    "start_time": "2022-03-13T12:41:06.123Z"
   },
   {
    "duration": 320,
    "start_time": "2022-03-13T12:42:15.897Z"
   },
   {
    "duration": 7,
    "start_time": "2022-03-13T12:42:22.889Z"
   },
   {
    "duration": 9,
    "start_time": "2022-03-13T12:42:36.985Z"
   },
   {
    "duration": 180,
    "start_time": "2022-03-13T12:43:46.066Z"
   },
   {
    "duration": 28,
    "start_time": "2022-03-13T12:43:53.366Z"
   },
   {
    "duration": 360,
    "start_time": "2022-03-13T12:47:21.936Z"
   },
   {
    "duration": 253,
    "start_time": "2022-03-13T12:51:20.740Z"
   },
   {
    "duration": 280,
    "start_time": "2022-03-13T12:51:39.677Z"
   },
   {
    "duration": 333,
    "start_time": "2022-03-13T12:52:11.662Z"
   },
   {
    "duration": 64,
    "start_time": "2022-03-13T12:52:24.846Z"
   },
   {
    "duration": 308,
    "start_time": "2022-03-13T12:52:40.271Z"
   },
   {
    "duration": 7,
    "start_time": "2022-03-14T09:19:37.330Z"
   },
   {
    "duration": 509,
    "start_time": "2022-03-14T09:19:42.359Z"
   },
   {
    "duration": 57,
    "start_time": "2022-03-14T09:19:42.870Z"
   },
   {
    "duration": 81,
    "start_time": "2022-03-14T09:19:42.929Z"
   },
   {
    "duration": 10,
    "start_time": "2022-03-14T09:19:43.011Z"
   },
   {
    "duration": 29,
    "start_time": "2022-03-14T09:19:44.654Z"
   },
   {
    "duration": 668,
    "start_time": "2022-03-14T09:24:29.057Z"
   },
   {
    "duration": 3,
    "start_time": "2022-03-14T09:24:43.230Z"
   },
   {
    "duration": 48,
    "start_time": "2022-03-14T09:24:43.234Z"
   },
   {
    "duration": 84,
    "start_time": "2022-03-14T09:24:43.284Z"
   },
   {
    "duration": 10,
    "start_time": "2022-03-14T09:24:43.369Z"
   },
   {
    "duration": 37,
    "start_time": "2022-03-14T09:24:43.380Z"
   },
   {
    "duration": 3,
    "start_time": "2022-03-14T09:24:43.418Z"
   },
   {
    "duration": 53,
    "start_time": "2022-03-14T09:24:43.422Z"
   },
   {
    "duration": 6,
    "start_time": "2022-03-14T09:24:43.477Z"
   },
   {
    "duration": 477,
    "start_time": "2022-03-14T09:24:45.570Z"
   },
   {
    "duration": 464,
    "start_time": "2022-03-14T09:25:16.041Z"
   },
   {
    "duration": 455,
    "start_time": "2022-03-14T09:25:24.120Z"
   },
   {
    "duration": 519,
    "start_time": "2022-03-14T09:25:51.904Z"
   },
   {
    "duration": 27,
    "start_time": "2022-03-14T09:27:58.126Z"
   },
   {
    "duration": 44,
    "start_time": "2022-03-14T11:28:12.981Z"
   },
   {
    "duration": 29,
    "start_time": "2022-03-14T11:34:39.632Z"
   },
   {
    "duration": 2,
    "start_time": "2022-03-14T11:35:06.279Z"
   },
   {
    "duration": 63,
    "start_time": "2022-03-14T11:35:06.283Z"
   },
   {
    "duration": 104,
    "start_time": "2022-03-14T11:35:06.348Z"
   },
   {
    "duration": 11,
    "start_time": "2022-03-14T11:35:06.454Z"
   },
   {
    "duration": 41,
    "start_time": "2022-03-14T11:35:06.467Z"
   },
   {
    "duration": 4,
    "start_time": "2022-03-14T11:35:06.510Z"
   },
   {
    "duration": 80,
    "start_time": "2022-03-14T11:35:06.516Z"
   },
   {
    "duration": 16,
    "start_time": "2022-03-14T11:35:06.598Z"
   },
   {
    "duration": 560,
    "start_time": "2022-03-14T11:35:06.616Z"
   },
   {
    "duration": 10,
    "start_time": "2022-03-14T11:35:07.180Z"
   },
   {
    "duration": 30,
    "start_time": "2022-03-14T11:35:07.192Z"
   },
   {
    "duration": 29,
    "start_time": "2022-03-14T11:35:09.022Z"
   },
   {
    "duration": 31,
    "start_time": "2022-03-14T11:35:22.116Z"
   },
   {
    "duration": 21,
    "start_time": "2022-03-14T11:35:33.941Z"
   },
   {
    "duration": 23,
    "start_time": "2022-03-14T11:35:38.324Z"
   },
   {
    "duration": 29,
    "start_time": "2022-03-14T11:35:43.100Z"
   },
   {
    "duration": 294,
    "start_time": "2022-03-14T11:36:19.389Z"
   },
   {
    "duration": 294,
    "start_time": "2022-03-14T11:36:19.390Z"
   },
   {
    "duration": 294,
    "start_time": "2022-03-14T11:36:19.391Z"
   },
   {
    "duration": 294,
    "start_time": "2022-03-14T11:36:19.392Z"
   },
   {
    "duration": 293,
    "start_time": "2022-03-14T11:36:19.393Z"
   },
   {
    "duration": 293,
    "start_time": "2022-03-14T11:36:19.394Z"
   },
   {
    "duration": 293,
    "start_time": "2022-03-14T11:36:19.395Z"
   },
   {
    "duration": 293,
    "start_time": "2022-03-14T11:36:19.396Z"
   },
   {
    "duration": 293,
    "start_time": "2022-03-14T11:36:19.397Z"
   },
   {
    "duration": 292,
    "start_time": "2022-03-14T11:36:19.399Z"
   },
   {
    "duration": 292,
    "start_time": "2022-03-14T11:36:19.400Z"
   },
   {
    "duration": 22,
    "start_time": "2022-03-14T11:36:21.268Z"
   },
   {
    "duration": 25,
    "start_time": "2022-03-14T11:36:40.227Z"
   },
   {
    "duration": 23,
    "start_time": "2022-03-14T11:37:00.756Z"
   },
   {
    "duration": 10,
    "start_time": "2022-03-14T11:38:38.361Z"
   },
   {
    "duration": 6,
    "start_time": "2022-03-14T11:40:29.335Z"
   },
   {
    "duration": 4,
    "start_time": "2022-03-14T11:41:58.646Z"
   },
   {
    "duration": 21,
    "start_time": "2022-03-14T11:42:19.301Z"
   },
   {
    "duration": 136,
    "start_time": "2022-03-14T11:42:33.197Z"
   },
   {
    "duration": 2,
    "start_time": "2022-03-14T11:42:40.558Z"
   },
   {
    "duration": 67,
    "start_time": "2022-03-14T11:42:40.562Z"
   },
   {
    "duration": 81,
    "start_time": "2022-03-14T11:42:40.631Z"
   },
   {
    "duration": 9,
    "start_time": "2022-03-14T11:42:40.714Z"
   },
   {
    "duration": 28,
    "start_time": "2022-03-14T11:42:40.725Z"
   },
   {
    "duration": 28,
    "start_time": "2022-03-14T11:42:40.755Z"
   },
   {
    "duration": 51,
    "start_time": "2022-03-14T11:42:40.784Z"
   },
   {
    "duration": 9,
    "start_time": "2022-03-14T11:42:40.837Z"
   },
   {
    "duration": 581,
    "start_time": "2022-03-14T11:42:40.848Z"
   },
   {
    "duration": 10,
    "start_time": "2022-03-14T11:42:41.430Z"
   },
   {
    "duration": 27,
    "start_time": "2022-03-14T11:42:41.441Z"
   },
   {
    "duration": 100,
    "start_time": "2022-03-14T11:42:43.788Z"
   },
   {
    "duration": 25,
    "start_time": "2022-03-14T11:42:46.676Z"
   },
   {
    "duration": 36,
    "start_time": "2022-03-14T11:45:00.250Z"
   },
   {
    "duration": 33,
    "start_time": "2022-03-14T11:45:09.178Z"
   },
   {
    "duration": 24,
    "start_time": "2022-03-14T11:45:28.138Z"
   },
   {
    "duration": 43,
    "start_time": "2022-03-14T11:45:40.569Z"
   },
   {
    "duration": 329,
    "start_time": "2022-03-14T11:51:27.180Z"
   },
   {
    "duration": 2,
    "start_time": "2022-03-14T11:51:41.560Z"
   },
   {
    "duration": 60,
    "start_time": "2022-03-14T11:51:41.564Z"
   },
   {
    "duration": 74,
    "start_time": "2022-03-14T11:51:41.625Z"
   },
   {
    "duration": 9,
    "start_time": "2022-03-14T11:51:41.702Z"
   },
   {
    "duration": 28,
    "start_time": "2022-03-14T11:51:41.713Z"
   },
   {
    "duration": 3,
    "start_time": "2022-03-14T11:51:41.743Z"
   },
   {
    "duration": 71,
    "start_time": "2022-03-14T11:51:41.747Z"
   },
   {
    "duration": 7,
    "start_time": "2022-03-14T11:51:41.820Z"
   },
   {
    "duration": 469,
    "start_time": "2022-03-14T11:51:41.829Z"
   },
   {
    "duration": 10,
    "start_time": "2022-03-14T11:51:42.299Z"
   },
   {
    "duration": 26,
    "start_time": "2022-03-14T11:51:42.310Z"
   },
   {
    "duration": 307,
    "start_time": "2022-03-14T11:51:44.187Z"
   },
   {
    "duration": 5,
    "start_time": "2022-03-14T11:52:32.835Z"
   },
   {
    "duration": 33,
    "start_time": "2022-03-14T11:53:06.658Z"
   },
   {
    "duration": 35,
    "start_time": "2022-03-14T11:53:43.010Z"
   },
   {
    "duration": 2,
    "start_time": "2022-03-14T11:54:00.015Z"
   },
   {
    "duration": 50,
    "start_time": "2022-03-14T11:54:00.020Z"
   },
   {
    "duration": 83,
    "start_time": "2022-03-14T11:54:00.072Z"
   },
   {
    "duration": 10,
    "start_time": "2022-03-14T11:54:00.157Z"
   },
   {
    "duration": 40,
    "start_time": "2022-03-14T11:54:00.168Z"
   },
   {
    "duration": 3,
    "start_time": "2022-03-14T11:54:00.211Z"
   },
   {
    "duration": 72,
    "start_time": "2022-03-14T11:54:00.215Z"
   },
   {
    "duration": 7,
    "start_time": "2022-03-14T11:54:00.288Z"
   },
   {
    "duration": 478,
    "start_time": "2022-03-14T11:54:00.297Z"
   },
   {
    "duration": 9,
    "start_time": "2022-03-14T11:54:00.777Z"
   },
   {
    "duration": 43,
    "start_time": "2022-03-14T11:54:00.788Z"
   },
   {
    "duration": 36,
    "start_time": "2022-03-14T11:54:06.257Z"
   },
   {
    "duration": 32,
    "start_time": "2022-03-14T11:54:21.393Z"
   },
   {
    "duration": 37,
    "start_time": "2022-03-14T11:54:49.889Z"
   },
   {
    "duration": 329,
    "start_time": "2022-03-14T11:56:38.023Z"
   },
   {
    "duration": 39,
    "start_time": "2022-03-14T11:57:59.525Z"
   },
   {
    "duration": 41,
    "start_time": "2022-03-14T11:58:39.509Z"
   },
   {
    "duration": 43,
    "start_time": "2022-03-14T11:59:30.803Z"
   },
   {
    "duration": 2,
    "start_time": "2022-03-14T11:59:35.822Z"
   },
   {
    "duration": 51,
    "start_time": "2022-03-14T11:59:35.826Z"
   },
   {
    "duration": 82,
    "start_time": "2022-03-14T11:59:35.879Z"
   },
   {
    "duration": 21,
    "start_time": "2022-03-14T11:59:35.963Z"
   },
   {
    "duration": 29,
    "start_time": "2022-03-14T11:59:35.986Z"
   },
   {
    "duration": 4,
    "start_time": "2022-03-14T11:59:36.017Z"
   },
   {
    "duration": 76,
    "start_time": "2022-03-14T11:59:36.022Z"
   },
   {
    "duration": 9,
    "start_time": "2022-03-14T11:59:36.099Z"
   },
   {
    "duration": 486,
    "start_time": "2022-03-14T11:59:36.110Z"
   },
   {
    "duration": 10,
    "start_time": "2022-03-14T11:59:36.598Z"
   },
   {
    "duration": 28,
    "start_time": "2022-03-14T11:59:36.609Z"
   },
   {
    "duration": 39,
    "start_time": "2022-03-14T11:59:38.523Z"
   },
   {
    "duration": 39,
    "start_time": "2022-03-14T12:00:04.260Z"
   },
   {
    "duration": 39,
    "start_time": "2022-03-14T12:00:27.771Z"
   },
   {
    "duration": 120,
    "start_time": "2022-03-14T12:02:55.584Z"
   },
   {
    "duration": 40,
    "start_time": "2022-03-14T12:03:36.175Z"
   },
   {
    "duration": 333,
    "start_time": "2022-03-14T12:03:57.671Z"
   },
   {
    "duration": 39,
    "start_time": "2022-03-14T12:04:24.118Z"
   },
   {
    "duration": 318,
    "start_time": "2022-03-14T12:04:38.718Z"
   },
   {
    "duration": 39,
    "start_time": "2022-03-14T12:05:39.189Z"
   },
   {
    "duration": 357,
    "start_time": "2022-03-14T12:07:06.412Z"
   },
   {
    "duration": 29,
    "start_time": "2022-03-14T12:07:19.116Z"
   },
   {
    "duration": 29,
    "start_time": "2022-03-14T12:07:31.139Z"
   },
   {
    "duration": 27,
    "start_time": "2022-03-14T12:07:53.418Z"
   },
   {
    "duration": 21,
    "start_time": "2022-03-14T12:08:04.170Z"
   },
   {
    "duration": 3,
    "start_time": "2022-03-14T12:08:14.542Z"
   },
   {
    "duration": 51,
    "start_time": "2022-03-14T12:08:14.546Z"
   },
   {
    "duration": 77,
    "start_time": "2022-03-14T12:08:14.598Z"
   },
   {
    "duration": 11,
    "start_time": "2022-03-14T12:08:14.680Z"
   },
   {
    "duration": 29,
    "start_time": "2022-03-14T12:08:14.692Z"
   },
   {
    "duration": 3,
    "start_time": "2022-03-14T12:08:14.722Z"
   },
   {
    "duration": 73,
    "start_time": "2022-03-14T12:08:14.727Z"
   },
   {
    "duration": 7,
    "start_time": "2022-03-14T12:08:14.802Z"
   },
   {
    "duration": 484,
    "start_time": "2022-03-14T12:08:14.811Z"
   },
   {
    "duration": 9,
    "start_time": "2022-03-14T12:08:15.296Z"
   },
   {
    "duration": 28,
    "start_time": "2022-03-14T12:08:15.307Z"
   },
   {
    "duration": 27,
    "start_time": "2022-03-14T12:08:19.786Z"
   },
   {
    "duration": 26,
    "start_time": "2022-03-14T12:08:54.913Z"
   },
   {
    "duration": 23,
    "start_time": "2022-03-14T12:12:16.830Z"
   },
   {
    "duration": 3,
    "start_time": "2022-03-14T12:12:58.417Z"
   },
   {
    "duration": 59,
    "start_time": "2022-03-14T12:12:58.422Z"
   },
   {
    "duration": 81,
    "start_time": "2022-03-14T12:12:58.483Z"
   },
   {
    "duration": 22,
    "start_time": "2022-03-14T12:12:58.566Z"
   },
   {
    "duration": 29,
    "start_time": "2022-03-14T12:12:58.590Z"
   },
   {
    "duration": 4,
    "start_time": "2022-03-14T12:12:58.620Z"
   },
   {
    "duration": 73,
    "start_time": "2022-03-14T12:12:58.625Z"
   },
   {
    "duration": 7,
    "start_time": "2022-03-14T12:12:58.700Z"
   },
   {
    "duration": 484,
    "start_time": "2022-03-14T12:12:58.709Z"
   },
   {
    "duration": 9,
    "start_time": "2022-03-14T12:12:59.195Z"
   },
   {
    "duration": 28,
    "start_time": "2022-03-14T12:12:59.205Z"
   },
   {
    "duration": 26,
    "start_time": "2022-03-14T12:13:01.173Z"
   },
   {
    "duration": 28,
    "start_time": "2022-03-14T12:13:39.533Z"
   },
   {
    "duration": 2,
    "start_time": "2022-03-14T12:13:56.894Z"
   },
   {
    "duration": 64,
    "start_time": "2022-03-14T12:13:56.898Z"
   },
   {
    "duration": 83,
    "start_time": "2022-03-14T12:13:56.963Z"
   },
   {
    "duration": 9,
    "start_time": "2022-03-14T12:13:57.048Z"
   },
   {
    "duration": 38,
    "start_time": "2022-03-14T12:13:57.059Z"
   },
   {
    "duration": 3,
    "start_time": "2022-03-14T12:13:57.099Z"
   },
   {
    "duration": 55,
    "start_time": "2022-03-14T12:13:57.103Z"
   },
   {
    "duration": 21,
    "start_time": "2022-03-14T12:13:57.160Z"
   },
   {
    "duration": 473,
    "start_time": "2022-03-14T12:13:57.183Z"
   },
   {
    "duration": 8,
    "start_time": "2022-03-14T12:13:57.658Z"
   },
   {
    "duration": 35,
    "start_time": "2022-03-14T12:13:57.668Z"
   },
   {
    "duration": 34,
    "start_time": "2022-03-14T12:13:59.252Z"
   },
   {
    "duration": 33,
    "start_time": "2022-03-14T12:18:07.976Z"
   },
   {
    "duration": 31,
    "start_time": "2022-03-14T12:18:20.904Z"
   },
   {
    "duration": 2,
    "start_time": "2022-03-14T12:18:36.532Z"
   },
   {
    "duration": 685,
    "start_time": "2022-03-14T12:18:36.536Z"
   },
   {
    "duration": 81,
    "start_time": "2022-03-14T12:18:37.222Z"
   },
   {
    "duration": 9,
    "start_time": "2022-03-14T12:18:37.305Z"
   },
   {
    "duration": 29,
    "start_time": "2022-03-14T12:18:37.315Z"
   },
   {
    "duration": 3,
    "start_time": "2022-03-14T12:18:37.345Z"
   },
   {
    "duration": 78,
    "start_time": "2022-03-14T12:18:37.349Z"
   },
   {
    "duration": 8,
    "start_time": "2022-03-14T12:18:37.428Z"
   },
   {
    "duration": 495,
    "start_time": "2022-03-14T12:18:37.438Z"
   },
   {
    "duration": 8,
    "start_time": "2022-03-14T12:18:37.935Z"
   },
   {
    "duration": 37,
    "start_time": "2022-03-14T12:18:37.944Z"
   },
   {
    "duration": 31,
    "start_time": "2022-03-14T12:18:40.552Z"
   },
   {
    "duration": 31,
    "start_time": "2022-03-14T12:23:18.307Z"
   },
   {
    "duration": 34,
    "start_time": "2022-03-14T12:23:44.994Z"
   },
   {
    "duration": 32,
    "start_time": "2022-03-14T12:23:51.715Z"
   },
   {
    "duration": 19,
    "start_time": "2022-03-14T12:52:33.766Z"
   },
   {
    "duration": 312,
    "start_time": "2022-03-14T12:55:15.298Z"
   },
   {
    "duration": 18,
    "start_time": "2022-03-14T12:55:34.922Z"
   },
   {
    "duration": 320,
    "start_time": "2022-03-14T12:55:49.514Z"
   },
   {
    "duration": 17,
    "start_time": "2022-03-14T12:56:01.657Z"
   },
   {
    "duration": 22,
    "start_time": "2022-03-14T12:56:22.577Z"
   },
   {
    "duration": 21,
    "start_time": "2022-03-14T12:56:30.409Z"
   },
   {
    "duration": 326,
    "start_time": "2022-03-14T12:56:40.344Z"
   },
   {
    "duration": 8,
    "start_time": "2022-03-14T12:57:08.224Z"
   },
   {
    "duration": 26,
    "start_time": "2022-03-14T12:58:32.414Z"
   },
   {
    "duration": 342,
    "start_time": "2022-03-14T12:59:47.229Z"
   },
   {
    "duration": 27,
    "start_time": "2022-03-14T13:00:13.573Z"
   },
   {
    "duration": 18,
    "start_time": "2022-03-14T13:08:59.316Z"
   },
   {
    "duration": 304,
    "start_time": "2022-03-14T13:10:33.266Z"
   },
   {
    "duration": 27,
    "start_time": "2022-03-14T13:10:53.209Z"
   },
   {
    "duration": 2,
    "start_time": "2022-03-14T13:11:13.719Z"
   },
   {
    "duration": 48,
    "start_time": "2022-03-14T13:11:13.723Z"
   },
   {
    "duration": 82,
    "start_time": "2022-03-14T13:11:13.773Z"
   },
   {
    "duration": 23,
    "start_time": "2022-03-14T13:11:13.857Z"
   },
   {
    "duration": 30,
    "start_time": "2022-03-14T13:11:13.882Z"
   },
   {
    "duration": 3,
    "start_time": "2022-03-14T13:11:13.913Z"
   },
   {
    "duration": 72,
    "start_time": "2022-03-14T13:11:13.917Z"
   },
   {
    "duration": 8,
    "start_time": "2022-03-14T13:11:13.990Z"
   },
   {
    "duration": 481,
    "start_time": "2022-03-14T13:11:14.000Z"
   },
   {
    "duration": 10,
    "start_time": "2022-03-14T13:11:14.482Z"
   },
   {
    "duration": 30,
    "start_time": "2022-03-14T13:11:14.494Z"
   },
   {
    "duration": 30,
    "start_time": "2022-03-14T13:11:14.526Z"
   },
   {
    "duration": 43,
    "start_time": "2022-03-14T13:11:14.557Z"
   },
   {
    "duration": 316,
    "start_time": "2022-03-14T13:11:19.369Z"
   },
   {
    "duration": 28,
    "start_time": "2022-03-14T13:11:42.705Z"
   },
   {
    "duration": 27,
    "start_time": "2022-03-14T13:11:50.728Z"
   },
   {
    "duration": 317,
    "start_time": "2022-03-14T13:11:56.271Z"
   },
   {
    "duration": 2,
    "start_time": "2022-03-14T13:12:13.447Z"
   },
   {
    "duration": 63,
    "start_time": "2022-03-14T13:12:13.451Z"
   },
   {
    "duration": 91,
    "start_time": "2022-03-14T13:12:13.516Z"
   },
   {
    "duration": 9,
    "start_time": "2022-03-14T13:12:13.609Z"
   },
   {
    "duration": 33,
    "start_time": "2022-03-14T13:12:13.620Z"
   },
   {
    "duration": 6,
    "start_time": "2022-03-14T13:12:13.655Z"
   },
   {
    "duration": 70,
    "start_time": "2022-03-14T13:12:13.663Z"
   },
   {
    "duration": 9,
    "start_time": "2022-03-14T13:12:13.734Z"
   },
   {
    "duration": 494,
    "start_time": "2022-03-14T13:12:13.744Z"
   },
   {
    "duration": 8,
    "start_time": "2022-03-14T13:12:14.240Z"
   },
   {
    "duration": 40,
    "start_time": "2022-03-14T13:12:14.250Z"
   },
   {
    "duration": 33,
    "start_time": "2022-03-14T13:12:14.292Z"
   },
   {
    "duration": 27,
    "start_time": "2022-03-14T13:12:14.326Z"
   },
   {
    "duration": 320,
    "start_time": "2022-03-14T13:12:19.680Z"
   },
   {
    "duration": 27,
    "start_time": "2022-03-14T13:12:24.641Z"
   },
   {
    "duration": 334,
    "start_time": "2022-03-14T13:12:35.176Z"
   },
   {
    "duration": 326,
    "start_time": "2022-03-14T13:12:47.056Z"
   },
   {
    "duration": 30,
    "start_time": "2022-03-14T13:13:29.199Z"
   },
   {
    "duration": 27,
    "start_time": "2022-03-14T13:13:44.542Z"
   },
   {
    "duration": 27,
    "start_time": "2022-03-14T13:13:50.038Z"
   },
   {
    "duration": 28,
    "start_time": "2022-03-14T13:14:11.638Z"
   },
   {
    "duration": 29,
    "start_time": "2022-03-14T13:14:32.901Z"
   },
   {
    "duration": 3,
    "start_time": "2022-03-14T13:14:37.339Z"
   },
   {
    "duration": 85,
    "start_time": "2022-03-14T13:14:37.344Z"
   },
   {
    "duration": 103,
    "start_time": "2022-03-14T13:14:37.437Z"
   },
   {
    "duration": 10,
    "start_time": "2022-03-14T13:14:37.541Z"
   },
   {
    "duration": 51,
    "start_time": "2022-03-14T13:14:37.553Z"
   },
   {
    "duration": 3,
    "start_time": "2022-03-14T13:14:37.605Z"
   },
   {
    "duration": 56,
    "start_time": "2022-03-14T13:14:37.610Z"
   },
   {
    "duration": 14,
    "start_time": "2022-03-14T13:14:37.667Z"
   },
   {
    "duration": 515,
    "start_time": "2022-03-14T13:14:37.684Z"
   },
   {
    "duration": 8,
    "start_time": "2022-03-14T13:14:38.201Z"
   },
   {
    "duration": 29,
    "start_time": "2022-03-14T13:14:38.211Z"
   },
   {
    "duration": 45,
    "start_time": "2022-03-14T13:14:38.241Z"
   },
   {
    "duration": 27,
    "start_time": "2022-03-14T13:14:38.289Z"
   },
   {
    "duration": 28,
    "start_time": "2022-03-14T13:14:41.493Z"
   },
   {
    "duration": 1408,
    "start_time": "2022-03-14T13:14:47.295Z"
   },
   {
    "duration": 28,
    "start_time": "2022-03-14T13:15:15.501Z"
   },
   {
    "duration": 28,
    "start_time": "2022-03-14T13:24:29.883Z"
   },
   {
    "duration": 30,
    "start_time": "2022-03-14T13:25:08.970Z"
   },
   {
    "duration": 672,
    "start_time": "2022-03-15T13:12:27.180Z"
   },
   {
    "duration": 53,
    "start_time": "2022-03-15T13:12:27.854Z"
   },
   {
    "duration": 124,
    "start_time": "2022-03-15T13:12:27.910Z"
   },
   {
    "duration": 13,
    "start_time": "2022-03-15T13:12:28.037Z"
   },
   {
    "duration": 58,
    "start_time": "2022-03-15T13:12:28.052Z"
   },
   {
    "duration": 5,
    "start_time": "2022-03-15T13:12:28.112Z"
   },
   {
    "duration": 82,
    "start_time": "2022-03-15T13:12:28.119Z"
   },
   {
    "duration": 11,
    "start_time": "2022-03-15T13:12:28.205Z"
   },
   {
    "duration": 597,
    "start_time": "2022-03-15T13:12:28.218Z"
   },
   {
    "duration": 10,
    "start_time": "2022-03-15T13:12:28.818Z"
   },
   {
    "duration": 46,
    "start_time": "2022-03-15T13:12:28.830Z"
   },
   {
    "duration": 63,
    "start_time": "2022-03-15T13:12:28.878Z"
   },
   {
    "duration": 34,
    "start_time": "2022-03-15T13:12:28.943Z"
   },
   {
    "duration": 57,
    "start_time": "2022-03-15T13:12:28.979Z"
   }
  ],
  "kernelspec": {
   "display_name": "Python 3 (ipykernel)",
   "language": "python",
   "name": "python3"
  },
  "language_info": {
   "codemirror_mode": {
    "name": "ipython",
    "version": 3
   },
   "file_extension": ".py",
   "mimetype": "text/x-python",
   "name": "python",
   "nbconvert_exporter": "python",
   "pygments_lexer": "ipython3",
   "version": "3.9.5"
  },
  "toc": {
   "base_numbering": 1,
   "nav_menu": {},
   "number_sections": true,
   "sideBar": true,
   "skip_h1_title": true,
   "title_cell": "Table of Contents",
   "title_sidebar": "Contents",
   "toc_cell": false,
   "toc_position": {},
   "toc_section_display": true,
   "toc_window_display": false
  }
 },
 "nbformat": 4,
 "nbformat_minor": 5
}
