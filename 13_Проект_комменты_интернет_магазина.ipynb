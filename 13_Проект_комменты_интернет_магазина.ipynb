{
 "cells": [
  {
   "cell_type": "markdown",
   "metadata": {
    "id": "PTW1cfpCXa0I"
   },
   "source": [
    "# Проект для «Викишоп» c BERT"
   ]
  },
  {
   "cell_type": "markdown",
   "metadata": {
    "id": "nmcW7y1NXa0J"
   },
   "source": [
    "Интернет-магазин «Викишоп» запускает новый сервис. Теперь пользователи могут редактировать и дополнять описания товаров, как в вики-сообществах. То есть клиенты предлагают свои правки и комментируют изменения других. Магазину нужен инструмент, который будет искать токсичные комментарии и отправлять их на модерацию. \n",
    "\n",
    "Обучите модель классифицировать комментарии на позитивные и негативные. В вашем распоряжении набор данных с разметкой о токсичности правок.\n",
    "\n",
    "Постройте модель со значением метрики качества *F1* не меньше 0.75. \n",
    "\n",
    "**Инструкция по выполнению проекта**\n",
    "\n",
    "1. Загрузите и подготовьте данные.\n",
    "2. Обучите разные модели. \n",
    "3. Сделайте выводы.\n",
    "\n",
    "Для выполнения проекта применять *BERT* необязательно, но вы можете попробовать.\n",
    "\n",
    "**Описание данных**\n",
    "\n",
    "Данные находятся в файле `toxic_comments.csv`. Столбец *text* в нём содержит текст комментария, а *toxic* — целевой признак."
   ]
  },
  {
   "cell_type": "markdown",
   "metadata": {
    "toc": true
   },
   "source": [
    "<h1>Содержание<span class=\"tocSkip\"></span></h1>\n",
    "<div class=\"toc\"><ul class=\"toc-item\"><li><span><a href=\"#Подготовка\" data-toc-modified-id=\"Подготовка-1\"><span class=\"toc-item-num\">1&nbsp;&nbsp;</span>Подготовка</a></span></li><li><span><a href=\"#Обучение\" data-toc-modified-id=\"Обучение-2\"><span class=\"toc-item-num\">2&nbsp;&nbsp;</span>Обучение</a></span></li><li><span><a href=\"#Выводы\" data-toc-modified-id=\"Выводы-3\"><span class=\"toc-item-num\">3&nbsp;&nbsp;</span>Выводы</a></span></li><li><span><a href=\"#Чек-лист-проверки\" data-toc-modified-id=\"Чек-лист-проверки-4\"><span class=\"toc-item-num\">4&nbsp;&nbsp;</span>Чек-лист проверки</a></span></li></ul></div>"
   ]
  },
  {
   "cell_type": "code",
   "execution_count": 1,
   "metadata": {
    "colab": {
     "base_uri": "https://localhost:8080/"
    },
    "executionInfo": {
     "elapsed": 6627,
     "status": "ok",
     "timestamp": 1661450124019,
     "user": {
      "displayName": "Артём Консул",
      "userId": "04615563729073930582"
     },
     "user_tz": -180
    },
    "id": "HCMMW65dYdG9",
    "outputId": "a619454c-a07c-4aa8-cab9-dba1193c9d02"
   },
   "outputs": [
    {
     "name": "stdout",
     "output_type": "stream",
     "text": [
      "Requirement already satisfied: catboost in /opt/conda/lib/python3.9/site-packages (1.0.3)\n",
      "Requirement already satisfied: transformers in /opt/conda/lib/python3.9/site-packages (4.12.5)\n",
      "Requirement already satisfied: plotly in /opt/conda/lib/python3.9/site-packages (from catboost) (5.4.0)\n",
      "Requirement already satisfied: graphviz in /opt/conda/lib/python3.9/site-packages (from catboost) (0.20)\n",
      "Requirement already satisfied: six in /opt/conda/lib/python3.9/site-packages (from catboost) (1.16.0)\n",
      "Requirement already satisfied: matplotlib in /opt/conda/lib/python3.9/site-packages (from catboost) (3.3.4)\n",
      "Requirement already satisfied: numpy>=1.16.0 in /opt/conda/lib/python3.9/site-packages (from catboost) (1.21.1)\n",
      "Requirement already satisfied: pandas>=0.24.0 in /opt/conda/lib/python3.9/site-packages (from catboost) (1.2.4)\n",
      "Requirement already satisfied: scipy in /opt/conda/lib/python3.9/site-packages (from catboost) (1.8.0)\n",
      "Requirement already satisfied: python-dateutil>=2.7.3 in /opt/conda/lib/python3.9/site-packages (from pandas>=0.24.0->catboost) (2.8.1)\n",
      "Requirement already satisfied: pytz>=2017.3 in /opt/conda/lib/python3.9/site-packages (from pandas>=0.24.0->catboost) (2021.1)\n",
      "Requirement already satisfied: sacremoses in /opt/conda/lib/python3.9/site-packages (from transformers) (0.0.53)\n",
      "Requirement already satisfied: huggingface-hub<1.0,>=0.1.0 in /opt/conda/lib/python3.9/site-packages (from transformers) (0.6.0)\n",
      "Requirement already satisfied: tqdm>=4.27 in /opt/conda/lib/python3.9/site-packages (from transformers) (4.61.2)\n",
      "Requirement already satisfied: tokenizers<0.11,>=0.10.1 in /opt/conda/lib/python3.9/site-packages (from transformers) (0.10.3)\n",
      "Requirement already satisfied: packaging>=20.0 in /opt/conda/lib/python3.9/site-packages (from transformers) (21.3)\n",
      "Requirement already satisfied: requests in /opt/conda/lib/python3.9/site-packages (from transformers) (2.25.1)\n",
      "Requirement already satisfied: regex!=2019.12.17 in /opt/conda/lib/python3.9/site-packages (from transformers) (2022.4.24)\n",
      "Requirement already satisfied: filelock in /opt/conda/lib/python3.9/site-packages (from transformers) (3.7.0)\n",
      "Requirement already satisfied: pyyaml>=5.1 in /opt/conda/lib/python3.9/site-packages (from transformers) (6.0)\n",
      "Requirement already satisfied: typing-extensions>=3.7.4.3 in /opt/conda/lib/python3.9/site-packages (from huggingface-hub<1.0,>=0.1.0->transformers) (4.2.0)\n",
      "Requirement already satisfied: pyparsing!=3.0.5,>=2.0.2 in /opt/conda/lib/python3.9/site-packages (from packaging>=20.0->transformers) (2.4.7)\n",
      "Requirement already satisfied: pillow>=6.2.0 in /opt/conda/lib/python3.9/site-packages (from matplotlib->catboost) (8.4.0)\n",
      "Requirement already satisfied: kiwisolver>=1.0.1 in /opt/conda/lib/python3.9/site-packages (from matplotlib->catboost) (1.4.2)\n",
      "Requirement already satisfied: cycler>=0.10 in /opt/conda/lib/python3.9/site-packages (from matplotlib->catboost) (0.11.0)\n",
      "Requirement already satisfied: tenacity>=6.2.0 in /opt/conda/lib/python3.9/site-packages (from plotly->catboost) (8.0.1)\n",
      "Requirement already satisfied: idna<3,>=2.5 in /opt/conda/lib/python3.9/site-packages (from requests->transformers) (2.10)\n",
      "Requirement already satisfied: certifi>=2017.4.17 in /opt/conda/lib/python3.9/site-packages (from requests->transformers) (2022.5.18.1)\n",
      "Requirement already satisfied: chardet<5,>=3.0.2 in /opt/conda/lib/python3.9/site-packages (from requests->transformers) (4.0.0)\n",
      "Requirement already satisfied: urllib3<1.27,>=1.21.1 in /opt/conda/lib/python3.9/site-packages (from requests->transformers) (1.26.6)\n",
      "Requirement already satisfied: click in /opt/conda/lib/python3.9/site-packages (from sacremoses->transformers) (8.1.3)\n",
      "Requirement already satisfied: joblib in /opt/conda/lib/python3.9/site-packages (from sacremoses->transformers) (1.1.0)\n"
     ]
    }
   ],
   "source": [
    "#!pip install catboost transformers"
   ]
  },
  {
   "cell_type": "code",
   "execution_count": 3,
   "metadata": {
    "colab": {
     "base_uri": "https://localhost:8080/",
     "height": 191
    },
    "executionInfo": {
     "elapsed": 1693,
     "status": "ok",
     "timestamp": 1661450128511,
     "user": {
      "displayName": "Артём Консул",
      "userId": "04615563729073930582"
     },
     "user_tz": -180
    },
    "id": "wXAjYSAGXa0L",
    "outputId": "3538bbda-6356-46b9-e16c-007c1e546134"
   },
   "outputs": [
    {
     "name": "stderr",
     "output_type": "stream",
     "text": [
      "[nltk_data] Downloading package stopwords to /home/jovyan/nltk_data...\n",
      "[nltk_data]   Unzipping corpora/stopwords.zip.\n",
      "[nltk_data] Downloading package wordnet to /home/jovyan/nltk_data...\n",
      "[nltk_data]   Package wordnet is already up-to-date!\n",
      "[nltk_data] Downloading package omw-1.4 to /home/jovyan/nltk_data...\n"
     ]
    },
    {
     "name": "stdout",
     "output_type": "stream",
     "text": [
      "G:/MyDrive/Data Science/Проекты/13 Интернет магазин комментарии/data/toxic_comments.csv\n",
      "/datasets/toxic_comments.csv\n",
      "/content/drive/MyDrive/Data Science/Проекты/13 Интернет магазин комментарии/data/toxic_comments.csv\n",
      "/content/drive/MyDrive/Data Science/Проекты/13 Интернет магазин комментарии/snapshots/inet_shp_commnts\n"
     ]
    },
    {
     "data": {
      "text/html": [
       "<style>.container { width:80% !important; }</style>"
      ],
      "text/plain": [
       "<IPython.core.display.HTML object>"
      ]
     },
     "metadata": {},
     "output_type": "display_data"
    }
   ],
   "source": [
    "import gc\n",
    "import re\n",
    "import nltk\n",
    "import string\n",
    "import pandas as pd\n",
    "import numpy as np\n",
    "from sklearn.model_selection import train_test_split\n",
    "\n",
    "from sklearn.metrics import f1_score\n",
    "from catboost import CatBoostClassifier\n",
    "from sklearn.linear_model import LogisticRegression\n",
    "\n",
    "from nltk.corpus import stopwords as nltk_stopwords\n",
    "from nltk.stem import WordNetLemmatizer\n",
    "\n",
    "nltk.download('stopwords')\n",
    "nltk.download('wordnet')\n",
    "nltk.download('omw-1.4')\n",
    "\n",
    "import torch\n",
    "from torch.utils.data import Dataset, DataLoader\n",
    "from torch import cuda\n",
    "import transformers\n",
    "from tqdm import notebook, tqdm\n",
    "from sklearn.model_selection import train_test_split, cross_val_score, GridSearchCV\n",
    "\n",
    "import os.path\n",
    "from scipy.stats import randint as sp_randint\n",
    "pd.set_option('display.max_rows', 100)\n",
    "pd.set_option('display.max_columns', 29)\n",
    "\n",
    "prjct_name = '13 Интернет магазин комментарии'\n",
    "\n",
    "file_name = 'toxic_comments.csv'\n",
    "snp_fname = 'inet_shp_commnts'\n",
    "data_fldr= 'data'\n",
    "snp_fldr = 'snapshots'\n",
    "path_to_prjct = ['MyDrive', 'Data Science', 'Проекты', prjct_name]\n",
    "\n",
    "local_path = os.path.join('G:' + os.sep, *map(''.join, path_to_prjct), data_fldr, file_name)\n",
    "print(local_path)\n",
    "web_path = os.path.join(os.sep, 'datasets', file_name)\n",
    "print(web_path)\n",
    "ggle_path = os.path.join(os.sep, 'content', 'drive', *map(''.join, path_to_prjct), data_fldr, file_name)\n",
    "print(ggle_path)\n",
    "snapsht_CB_path = os.path.join(os.sep, 'content', 'drive', *map(''.join, path_to_prjct), snp_fldr, snp_fname)\n",
    "print(snapsht_CB_path)\n",
    "from IPython.display import display, HTML\n",
    "display(HTML(\"<style>.container { width:80% !important; }</style>\"))\n",
    "%config InlineBackend.print_figure_kwargs={'facecolor' : \"w\"}"
   ]
  },
  {
   "cell_type": "markdown",
   "metadata": {
    "id": "rHTDU_SjXa0P"
   },
   "source": [
    "## Подготовка"
   ]
  },
  {
   "cell_type": "code",
   "execution_count": 4,
   "metadata": {
    "colab": {
     "base_uri": "https://localhost:8080/",
     "height": 892
    },
    "executionInfo": {
     "elapsed": 1608,
     "status": "ok",
     "timestamp": 1661450130107,
     "user": {
      "displayName": "Артём Консул",
      "userId": "04615563729073930582"
     },
     "user_tz": -180
    },
    "id": "TkTvu9F-Xa0P",
    "outputId": "2ea7e568-b0e3-4630-f304-d21be5c3bfa6"
   },
   "outputs": [
    {
     "name": "stdout",
     "output_type": "stream",
     "text": [
      "\n",
      "Обзор данных датасета:\n"
     ]
    },
    {
     "data": {
      "text/html": [
       "<div>\n",
       "<style scoped>\n",
       "    .dataframe tbody tr th:only-of-type {\n",
       "        vertical-align: middle;\n",
       "    }\n",
       "\n",
       "    .dataframe tbody tr th {\n",
       "        vertical-align: top;\n",
       "    }\n",
       "\n",
       "    .dataframe thead th {\n",
       "        text-align: right;\n",
       "    }\n",
       "</style>\n",
       "<table border=\"1\" class=\"dataframe\">\n",
       "  <thead>\n",
       "    <tr style=\"text-align: right;\">\n",
       "      <th></th>\n",
       "      <th>text</th>\n",
       "      <th>toxic</th>\n",
       "    </tr>\n",
       "  </thead>\n",
       "  <tbody>\n",
       "    <tr>\n",
       "      <th>0</th>\n",
       "      <td>Explanation\\nWhy the edits made under my usern...</td>\n",
       "      <td>0</td>\n",
       "    </tr>\n",
       "    <tr>\n",
       "      <th>1</th>\n",
       "      <td>D'aww! He matches this background colour I'm s...</td>\n",
       "      <td>0</td>\n",
       "    </tr>\n",
       "    <tr>\n",
       "      <th>2</th>\n",
       "      <td>Hey man, I'm really not trying to edit war. It...</td>\n",
       "      <td>0</td>\n",
       "    </tr>\n",
       "    <tr>\n",
       "      <th>3</th>\n",
       "      <td>\"\\nMore\\nI can't make any real suggestions on ...</td>\n",
       "      <td>0</td>\n",
       "    </tr>\n",
       "    <tr>\n",
       "      <th>4</th>\n",
       "      <td>You, sir, are my hero. Any chance you remember...</td>\n",
       "      <td>0</td>\n",
       "    </tr>\n",
       "    <tr>\n",
       "      <th>...</th>\n",
       "      <td>...</td>\n",
       "      <td>...</td>\n",
       "    </tr>\n",
       "    <tr>\n",
       "      <th>159446</th>\n",
       "      <td>\":::::And for the second time of asking, when ...</td>\n",
       "      <td>0</td>\n",
       "    </tr>\n",
       "    <tr>\n",
       "      <th>159447</th>\n",
       "      <td>You should be ashamed of yourself \\n\\nThat is ...</td>\n",
       "      <td>0</td>\n",
       "    </tr>\n",
       "    <tr>\n",
       "      <th>159448</th>\n",
       "      <td>Spitzer \\n\\nUmm, theres no actual article for ...</td>\n",
       "      <td>0</td>\n",
       "    </tr>\n",
       "    <tr>\n",
       "      <th>159449</th>\n",
       "      <td>And it looks like it was actually you who put ...</td>\n",
       "      <td>0</td>\n",
       "    </tr>\n",
       "    <tr>\n",
       "      <th>159450</th>\n",
       "      <td>\"\\nAnd ... I really don't think you understand...</td>\n",
       "      <td>0</td>\n",
       "    </tr>\n",
       "  </tbody>\n",
       "</table>\n",
       "<p>159292 rows × 2 columns</p>\n",
       "</div>"
      ],
      "text/plain": [
       "                                                     text  toxic\n",
       "0       Explanation\\nWhy the edits made under my usern...      0\n",
       "1       D'aww! He matches this background colour I'm s...      0\n",
       "2       Hey man, I'm really not trying to edit war. It...      0\n",
       "3       \"\\nMore\\nI can't make any real suggestions on ...      0\n",
       "4       You, sir, are my hero. Any chance you remember...      0\n",
       "...                                                   ...    ...\n",
       "159446  \":::::And for the second time of asking, when ...      0\n",
       "159447  You should be ashamed of yourself \\n\\nThat is ...      0\n",
       "159448  Spitzer \\n\\nUmm, theres no actual article for ...      0\n",
       "159449  And it looks like it was actually you who put ...      0\n",
       "159450  \"\\nAnd ... I really don't think you understand...      0\n",
       "\n",
       "[159292 rows x 2 columns]"
      ]
     },
     "metadata": {},
     "output_type": "display_data"
    },
    {
     "name": "stdout",
     "output_type": "stream",
     "text": [
      "Общая информация о данных датасета toxic_comments.csv:\n",
      "<class 'pandas.core.frame.DataFrame'>\n",
      "Int64Index: 159292 entries, 0 to 159450\n",
      "Data columns (total 2 columns):\n",
      " #   Column  Non-Null Count   Dtype \n",
      "---  ------  --------------   ----- \n",
      " 0   text    159292 non-null  object\n",
      " 1   toxic   159292 non-null  int64 \n",
      "dtypes: int64(1), object(1)\n",
      "memory usage: 3.6+ MB\n",
      "Количество дубликатов в данных датасета toxic_comments.csv:\n",
      "0 \n",
      "\n",
      "Колонки с пропущенными значениями в данных датасета toxic_comments.csv:\n",
      "\n",
      "text     0\n",
      "toxic    0\n",
      "dtype: int64 \n",
      "\n",
      "Уникальные значения в колонке toxic датасета, распределение классов toxic_comments.csv:\n",
      "\n",
      "0    143106\n",
      "1     16186\n",
      "Name: toxic, dtype: int64 \n",
      "\n"
     ]
    }
   ],
   "source": [
    "try:\n",
    "    data_full  = pd.read_csv(web_path, index_col = 0)\n",
    "except FileNotFoundError:\n",
    "    try:\n",
    "      data_full  = pd.read_csv(local_path, index_col = 0)\n",
    "    except FileNotFoundError:\n",
    "      data_full  = pd.read_csv(ggle_path, index_col = 0) \n",
    "print(f'\\nОбзор данных датасета:', sep='')\n",
    "display(data_full)\n",
    "print(f'Общая информация о данных датасета ', file_name, ':', sep='')\n",
    "data_full.info()\n",
    "print(f'Количество дубликатов в данных датасета ', file_name, ':', sep='')\n",
    "print(data_full.duplicated().sum(), '\\n')\n",
    "print(f'Колонки с пропущенными значениями в данных датасета ', file_name, ':\\n', sep='')\n",
    "print(data_full.isna().sum(), '\\n')\n",
    "print(f'Уникальные значения в колонке toxic датасета, распределение классов ', file_name, ':\\n', sep='')\n",
    "print(data_full['toxic'].value_counts(), '\\n')"
   ]
  },
  {
   "cell_type": "markdown",
   "metadata": {
    "id": "zCi7kRYZXa0R"
   },
   "source": [
    "**Вывод** Данные загружены, пропуски отсуствуют, видим неравенство классов, что будем учитывать при обучении моделей."
   ]
  },
  {
   "cell_type": "markdown",
   "metadata": {
    "id": "RM568RxTXa0S"
   },
   "source": [
    "Сделаем стратифицированную выборку из исходного датасета, в целях сокращения времени обработки данных, токенизации, подбора и обучения моделей."
   ]
  },
  {
   "cell_type": "code",
   "execution_count": 5,
   "metadata": {
    "colab": {
     "base_uri": "https://localhost:8080/"
    },
    "executionInfo": {
     "elapsed": 27,
     "status": "ok",
     "timestamp": 1661450130109,
     "user": {
      "displayName": "Артём Консул",
      "userId": "04615563729073930582"
     },
     "user_tz": -180
    },
    "id": "Ae02jSn4Xa0S",
    "outputId": "1fcb9487-9a3a-4027-e24b-e200ae25dcb1"
   },
   "outputs": [
    {
     "name": "stdout",
     "output_type": "stream",
     "text": [
      "0    716\n",
      "1     81\n",
      "Name: toxic, dtype: int64\n"
     ]
    }
   ],
   "source": [
    "data = data_full.groupby('toxic', group_keys=False).apply(lambda x: x.sample(frac=0.005, random_state=54321))\n",
    "print(data['toxic'].value_counts())\n",
    "stopwords = set(nltk_stopwords.words('english'))\n"
   ]
  },
  {
   "cell_type": "markdown",
   "metadata": {
    "id": "tEt7y5aoXa0U"
   },
   "source": [
    "Очистим память перед проведением обработки текстов датафрейма."
   ]
  },
  {
   "cell_type": "code",
   "execution_count": 7,
   "metadata": {
    "colab": {
     "base_uri": "https://localhost:8080/"
    },
    "executionInfo": {
     "elapsed": 26,
     "status": "ok",
     "timestamp": 1661450130111,
     "user": {
      "displayName": "Артём Консул",
      "userId": "04615563729073930582"
     },
     "user_tz": -180
    },
    "id": "DGxs-37QXa0U",
    "outputId": "4b7bac8d-a9a7-4056-9e1c-b02629d24572"
   },
   "outputs": [
    {
     "data": {
      "text/plain": [
       "81"
      ]
     },
     "execution_count": 7,
     "metadata": {},
     "output_type": "execute_result"
    }
   ],
   "source": [
    "gc.collect()"
   ]
  },
  {
   "cell_type": "markdown",
   "metadata": {
    "id": "a1uwA2mcXa0V"
   },
   "source": [
    "Определим максимальную длину текстов и приведём их кодировку к Unicode."
   ]
  },
  {
   "cell_type": "code",
   "execution_count": 8,
   "metadata": {
    "colab": {
     "base_uri": "https://localhost:8080/"
    },
    "executionInfo": {
     "elapsed": 23,
     "status": "ok",
     "timestamp": 1661450130113,
     "user": {
      "displayName": "Артём Консул",
      "userId": "04615563729073930582"
     },
     "user_tz": -180
    },
    "id": "20aCBefvXa0V",
    "outputId": "2fd5e49d-bc94-45a8-fd7d-9c77804571e6"
   },
   "outputs": [
    {
     "name": "stdout",
     "output_type": "stream",
     "text": [
      "Максимальная длина текстовой записи в датафрейме: 4887\n"
     ]
    }
   ],
   "source": [
    "def max_lenght(data):\n",
    "    max_len = 0\n",
    "    for i in data:\n",
    "        if len(i) > max_len:\n",
    "            max_len = len(i)\n",
    "    return max_len\n",
    "max_len = max_lenght(data['text'])\n",
    "print(f'Максимальная длина текстовой записи в датафрейме: {max_len}')"
   ]
  },
  {
   "cell_type": "markdown",
   "metadata": {
    "id": "TMxAK65vXa0W"
   },
   "source": [
    "Очистим тексты датафрейма от стоп-слов, лематизируем, заполним 0 исключенные значения, выровняв длину текстов"
   ]
  },
  {
   "cell_type": "code",
   "execution_count": 9,
   "metadata": {
    "executionInfo": {
     "elapsed": 2146,
     "status": "ok",
     "timestamp": 1661450132241,
     "user": {
      "displayName": "Артём Консул",
      "userId": "04615563729073930582"
     },
     "user_tz": -180
    },
    "id": "0p0THAVwXa0W",
    "scrolled": false
   },
   "outputs": [],
   "source": [
    "lemmatizer = WordNetLemmatizer()\n",
    "def clear_text(text):\n",
    "    paded_text =0\n",
    "    \n",
    "    text = re.sub(r'[^a-zA-Z]', ' ', text)\n",
    "    text = text.lower()#[w.lower() for w in text]\n",
    "    text = text.split()\n",
    "    text = [lemmatizer.lemmatize(word) for word in text]\n",
    "    text = [word for word in text if word not in stopwords]        \n",
    "    padded_text = text + ['0']*(max_len-len(text))\n",
    "#    return text, paded_text\n",
    "    return ' '.join(text), ' '.join(padded_text)\n",
    "#    word_list = nltk.word_tokenize(text)\n",
    "    #lemmatized_output = ' '.join([lemmatizer.lemmatize(w) for w in word_list])\n",
    "    #return lemmatized_output\n",
    "\n",
    "data['text'] = data['text'].apply(lambda x: clear_text(x)[0])\n",
    "data['paded_text'] = data['text'].apply(lambda x: clear_text(x)[1])"
   ]
  },
  {
   "cell_type": "code",
   "execution_count": 10,
   "metadata": {
    "executionInfo": {
     "elapsed": 7,
     "status": "ok",
     "timestamp": 1661450132242,
     "user": {
      "displayName": "Артём Консул",
      "userId": "04615563729073930582"
     },
     "user_tz": -180
    },
    "id": "sDlHn7syXa0X"
   },
   "outputs": [],
   "source": [
    "#print(data['text'][:4])"
   ]
  },
  {
   "cell_type": "markdown",
   "metadata": {
    "id": "ErZ9S-50Xa0Y"
   },
   "source": [
    "Используем для токенизации текстов BERT, сохранив также очищенные и уравненные по длине нулевыми значениями тексты в колонке 'paded_text'."
   ]
  },
  {
   "cell_type": "code",
   "execution_count": 11,
   "metadata": {
    "colab": {
     "base_uri": "https://localhost:8080/"
    },
    "executionInfo": {
     "elapsed": 14432,
     "status": "ok",
     "timestamp": 1661450146668,
     "user": {
      "displayName": "Артём Консул",
      "userId": "04615563729073930582"
     },
     "user_tz": -180
    },
    "id": "-TfDoSWIXa0Y",
    "outputId": "fd924b40-e7c5-4e0a-c121-e739a60421d0"
   },
   "outputs": [
    {
     "name": "stderr",
     "output_type": "stream",
     "text": [
      "Some weights of the model checkpoint at unitary/toxic-bert were not used when initializing BertForMaskedLM: ['classifier.bias', 'classifier.weight']\n",
      "- This IS expected if you are initializing BertForMaskedLM from the checkpoint of a model trained on another task or with another architecture (e.g. initializing a BertForSequenceClassification model from a BertForPreTraining model).\n",
      "- This IS NOT expected if you are initializing BertForMaskedLM from the checkpoint of a model that you expect to be exactly identical (initializing a BertForSequenceClassification model from a BertForSequenceClassification model).\n",
      "Some weights of BertForMaskedLM were not initialized from the model checkpoint at unitary/toxic-bert and are newly initialized: ['cls.predictions.transform.LayerNorm.weight', 'cls.predictions.transform.dense.bias', 'cls.predictions.decoder.weight', 'cls.predictions.bias', 'cls.predictions.transform.dense.weight', 'cls.predictions.transform.LayerNorm.bias']\n",
      "You should probably TRAIN this model on a down-stream task to be able to use it for predictions and inference.\n"
     ]
    }
   ],
   "source": [
    "#tokenizer = transformers.AutoTokenizer.from_pretrained('bert-base-uncased')#, model_max_length=512)\n",
    "tokenizer = transformers.AutoTokenizer.from_pretrained('unitary/toxic-bert', model_max_length=100)#, model_max_length=512)\n",
    "#model = transformers.AutoModelForMaskedLM.from_pretrained('bert-base-uncased')\n",
    "model = transformers.AutoModelForMaskedLM.from_pretrained('unitary/toxic-bert')"
   ]
  },
  {
   "cell_type": "code",
   "execution_count": 12,
   "metadata": {
    "executionInfo": {
     "elapsed": 9362,
     "status": "ok",
     "timestamp": 1661450156016,
     "user": {
      "displayName": "Артём Консул",
      "userId": "04615563729073930582"
     },
     "user_tz": -180
    },
    "id": "HMGJ4WeXXa0Y"
   },
   "outputs": [],
   "source": [
    "#tokenized = data['text'].apply(lambda x: tokenizer.encode(x, add_special_tokens=True, padding='max_length', truncation=True))\n",
    "tokenized = data['paded_text'].apply(lambda x: tokenizer.encode(x, add_special_tokens=True, padding='max_length', truncation=True))"
   ]
  },
  {
   "cell_type": "code",
   "execution_count": 13,
   "metadata": {
    "executionInfo": {
     "elapsed": 33,
     "status": "ok",
     "timestamp": 1661450156017,
     "user": {
      "displayName": "Артём Консул",
      "userId": "04615563729073930582"
     },
     "user_tz": -180
    },
    "id": "PVDDxyMxXa0Z"
   },
   "outputs": [],
   "source": [
    "padded = np.array([i for i in tokenized.values])\n",
    "attention_mask = np.where(padded != 0, 1, 0)"
   ]
  },
  {
   "cell_type": "code",
   "execution_count": 14,
   "metadata": {
    "colab": {
     "base_uri": "https://localhost:8080/"
    },
    "executionInfo": {
     "elapsed": 32,
     "status": "ok",
     "timestamp": 1661450156018,
     "user": {
      "displayName": "Артём Консул",
      "userId": "04615563729073930582"
     },
     "user_tz": -180
    },
    "id": "-sqPhwZiXa0Z",
    "outputId": "368cb083-d4b9-42ae-e6a8-b027e0b1af49"
   },
   "outputs": [
    {
     "data": {
      "text/plain": [
       "61"
      ]
     },
     "execution_count": 14,
     "metadata": {},
     "output_type": "execute_result"
    }
   ],
   "source": [
    "torch.cuda.empty_cache()\n",
    "gc.collect()"
   ]
  },
  {
   "cell_type": "markdown",
   "metadata": {
    "id": "6Qnkz_pAXa0a"
   },
   "source": [
    "По рекоммендации из документации model.eval используется перед началом формировния обёрток, а model.train после."
   ]
  },
  {
   "cell_type": "code",
   "execution_count": 15,
   "metadata": {
    "colab": {
     "base_uri": "https://localhost:8080/",
     "height": 49,
     "referenced_widgets": [
      "8a96595b4fcf4eb98b8760737528f1b1",
      "9cec600f534442cc9a8654755a094291",
      "26249fcf9f624294b0fd165f7008a789",
      "f76d748501804e6285b2cf829a666feb",
      "826e6bc19f404ebc81b75637d4cd2032",
      "6aee511884f941c4bc969e970e568ecc",
      "4b6f3adc3347420cb9c67cfc001d0f0a",
      "1ef47c5956b344fcb88b4f6d1887e73c",
      "32b3cde8419c43b791f523e1937ebd17",
      "5f139569fd3a4d6884a7c26b45289176",
      "e1dbaa1dc64744e9b77f5a625cf43e6d"
     ]
    },
    "executionInfo": {
     "elapsed": 12396,
     "status": "ok",
     "timestamp": 1661450168384,
     "user": {
      "displayName": "Артём Консул",
      "userId": "04615563729073930582"
     },
     "user_tz": -180
    },
    "id": "M1noHPvrXa0a",
    "outputId": "ab30a537-24e4-4bb5-bf4f-28a1f5f294e2"
   },
   "outputs": [
    {
     "data": {
      "application/vnd.jupyter.widget-view+json": {
       "model_id": "8a96595b4fcf4eb98b8760737528f1b1",
       "version_major": 2,
       "version_minor": 0
      },
      "text/plain": [
       "  0%|          | 0/798 [00:00<?, ?it/s]"
      ]
     },
     "metadata": {},
     "output_type": "display_data"
    }
   ],
   "source": [
    "device = torch.device(\"cuda\") if torch.cuda.is_available() else torch.device(\"cpu\")\n",
    "model.to(device)\n",
    "embeddings = torch.Tensor().to(device)\n",
    "model.eval()\n",
    "batch_size = 26\n",
    "batch_size = 1\n",
    "embeddings = []\n",
    "for i in notebook.tqdm(range((padded.shape[0] // batch_size))):\n",
    "    batch = torch.LongTensor(padded[batch_size*i:batch_size*(i+1)]).cuda()\n",
    "    attention_mask_batch = torch.LongTensor(attention_mask[batch_size*i:batch_size*(i+1)])\n",
    "    with torch.no_grad():\n",
    "        batch_embeddings = model(batch, attention_mask=attention_mask_batch.cuda())\n",
    "    embeddings.append(batch_embeddings[0][:,0,:].cpu().numpy())"
   ]
  },
  {
   "cell_type": "code",
   "execution_count": 16,
   "metadata": {
    "executionInfo": {
     "elapsed": 29,
     "status": "ok",
     "timestamp": 1661450168385,
     "user": {
      "displayName": "Артём Консул",
      "userId": "04615563729073930582"
     },
     "user_tz": -180
    },
    "id": "cW0C5YsTXa0b"
   },
   "outputs": [],
   "source": [
    "model.train();"
   ]
  },
  {
   "cell_type": "markdown",
   "metadata": {
    "id": "SBbG4FAGXa0b"
   },
   "source": [
    "Объединяем массивы в единый массив, из которого создаём датафрейм Пандас. Делим данные на тренировочную и тестовую выборки. Задаём параметр стратификации в соотвествии с таргетом, чтобы не потерять соотношение классов."
   ]
  },
  {
   "cell_type": "code",
   "execution_count": 17,
   "metadata": {
    "executionInfo": {
     "elapsed": 27,
     "status": "ok",
     "timestamp": 1661450168386,
     "user": {
      "displayName": "Артём Консул",
      "userId": "04615563729073930582"
     },
     "user_tz": -180
    },
    "id": "bkIqFcLAXa0b"
   },
   "outputs": [],
   "source": [
    "features = pd.DataFrame(data=np.concatenate(embeddings), index=data)\n",
    "target  = data['toxic']\n",
    "features_train, features_test, target_train, target_test = train_test_split(features, target, test_size=0.2, random_state=54321)"
   ]
  },
  {
   "cell_type": "markdown",
   "metadata": {
    "id": "S8_dKKqKXa0b"
   },
   "source": [
    "## Обучение"
   ]
  },
  {
   "cell_type": "markdown",
   "metadata": {
    "id": "_Ht4OXfmXa0b"
   },
   "source": [
    "LogisticRegression"
   ]
  },
  {
   "cell_type": "markdown",
   "metadata": {
    "id": "ksjPWy6dXa0c"
   },
   "source": [
    "Подбираем параметры модели из трёх словарей param_distributions, содержащих неконфликтующие параметры и определяем по максимально полученному значению f1 лучшие параметры для обучения."
   ]
  },
  {
   "cell_type": "code",
   "execution_count": null,
   "metadata": {
    "id": "hQTeIq5jXa0c"
   },
   "outputs": [],
   "source": [
    "parameters = {'C': np.linspace(10, 20, num = 11, endpoint = True),\n",
    "             'max_iter': [1000]}\n",
    "lrm = LogisticRegression()\n",
    "clf = GridSearchCV(lrm, parameters,\n",
    "                  cv=5,\n",
    "                  scoring='f1',\n",
    "                  n_jobs=-1,\n",
    "                  verbose=2,\n",
    "                  error_score=0)\n",
    "clf.fit(features_train, target_train)"
   ]
  },
  {
   "cell_type": "markdown",
   "metadata": {
    "id": "s5XfGrfxXa0d"
   },
   "source": [
    "Выводим параметры лучшей модели LogisticRegression."
   ]
  },
  {
   "cell_type": "code",
   "execution_count": null,
   "metadata": {
    "id": "rFw2YjoBXa0e"
   },
   "outputs": [],
   "source": [
    "print(f\"Наилучший показатель f1 на кросс-валидации : {clf.best_score_:.3f}\")\n",
    "print(f\"Параметр регуляризации для лучшей модели: {clf.best_params_}\")"
   ]
  },
  {
   "cell_type": "markdown",
   "metadata": {
    "id": "D3qVRFwdXa0e"
   },
   "source": [
    "CatBoostClassifier"
   ]
  },
  {
   "cell_type": "code",
   "execution_count": 22,
   "metadata": {
    "colab": {
     "base_uri": "https://localhost:8080/"
    },
    "executionInfo": {
     "elapsed": 6766759,
     "status": "ok",
     "timestamp": 1661457675035,
     "user": {
      "displayName": "Артём Консул",
      "userId": "04615563729073930582"
     },
     "user_tz": -180
    },
    "id": "j8GIkDzsXa0f",
    "outputId": "344e432b-4efd-488c-ea86-e9566ce1961a",
    "scrolled": true
   },
   "outputs": [
    {
     "name": "stdout",
     "output_type": "stream",
     "text": [
      "Learning rate set to 0.008503\n",
      "0:\tlearn: 0.8333333\ttotal: 8.95s\tremaining: 2h 28m 58s\n",
      "1:\tlearn: 0.8571429\ttotal: 15.8s\tremaining: 2h 11m 39s\n",
      "2:\tlearn: 0.9059829\ttotal: 24.5s\tremaining: 2h 15m 49s\n",
      "3:\tlearn: 0.9152542\ttotal: 31.4s\tremaining: 2h 10m 6s\n",
      "4:\tlearn: 0.9000000\ttotal: 38.1s\tremaining: 2h 6m 12s\n",
      "5:\tlearn: 0.9059829\ttotal: 44.9s\tremaining: 2h 4m 2s\n",
      "6:\tlearn: 0.9059829\ttotal: 51.8s\tremaining: 2h 2m 31s\n",
      "7:\tlearn: 0.8888889\ttotal: 58.6s\tremaining: 2h 1m 7s\n",
      "8:\tlearn: 0.8793103\ttotal: 1m 5s\tremaining: 2h 6s\n",
      "9:\tlearn: 0.8888889\ttotal: 1m 12s\tremaining: 1h 59m 4s\n",
      "10:\tlearn: 0.8888889\ttotal: 1m 19s\tremaining: 1h 58m 23s\n",
      "11:\tlearn: 0.8888889\ttotal: 1m 25s\tremaining: 1h 57m 39s\n",
      "12:\tlearn: 0.9059829\ttotal: 1m 32s\tremaining: 1h 56m 56s\n",
      "13:\tlearn: 0.8983051\ttotal: 1m 39s\tremaining: 1h 56m 22s\n",
      "14:\tlearn: 0.9059829\ttotal: 1m 45s\tremaining: 1h 55m 52s\n",
      "15:\tlearn: 0.9059829\ttotal: 1m 52s\tremaining: 1h 55m 25s\n",
      "16:\tlearn: 0.9059829\ttotal: 1m 59s\tremaining: 1h 55m\n",
      "17:\tlearn: 0.9059829\ttotal: 2m 6s\tremaining: 1h 54m 38s\n",
      "18:\tlearn: 0.9152542\ttotal: 2m 12s\tremaining: 1h 54m 20s\n",
      "19:\tlearn: 0.8983051\ttotal: 2m 19s\tremaining: 1h 54m\n",
      "20:\tlearn: 0.8983051\ttotal: 2m 26s\tremaining: 1h 53m 42s\n",
      "21:\tlearn: 0.8983051\ttotal: 2m 32s\tremaining: 1h 53m 21s\n",
      "22:\tlearn: 0.8907563\ttotal: 2m 39s\tremaining: 1h 53m 2s\n",
      "23:\tlearn: 0.8907563\ttotal: 2m 46s\tremaining: 1h 52m 49s\n",
      "24:\tlearn: 0.8983051\ttotal: 2m 53s\tremaining: 1h 52m 35s\n",
      "25:\tlearn: 0.8983051\ttotal: 3m\tremaining: 1h 52m 57s\n",
      "26:\tlearn: 0.8983051\ttotal: 3m 8s\tremaining: 1h 53m 8s\n",
      "27:\tlearn: 0.8965517\ttotal: 3m 15s\tremaining: 1h 52m 50s\n",
      "28:\tlearn: 0.8965517\ttotal: 3m 21s\tremaining: 1h 52m 35s\n",
      "29:\tlearn: 0.9075630\ttotal: 3m 28s\tremaining: 1h 52m 22s\n",
      "30:\tlearn: 0.9152542\ttotal: 3m 35s\tremaining: 1h 52m 8s\n",
      "31:\tlearn: 0.8907563\ttotal: 3m 41s\tremaining: 1h 51m 53s\n",
      "32:\tlearn: 0.9243697\ttotal: 3m 48s\tremaining: 1h 51m 40s\n",
      "33:\tlearn: 0.9243697\ttotal: 3m 55s\tremaining: 1h 51m 26s\n",
      "34:\tlearn: 0.9152542\ttotal: 4m 2s\tremaining: 1h 51m 15s\n",
      "35:\tlearn: 0.9152542\ttotal: 4m 8s\tremaining: 1h 51m 1s\n",
      "36:\tlearn: 0.9059829\ttotal: 4m 15s\tremaining: 1h 50m 49s\n",
      "37:\tlearn: 0.9243697\ttotal: 4m 22s\tremaining: 1h 50m 39s\n",
      "38:\tlearn: 0.9152542\ttotal: 4m 28s\tremaining: 1h 50m 26s\n",
      "39:\tlearn: 0.9243697\ttotal: 4m 35s\tremaining: 1h 50m 14s\n",
      "40:\tlearn: 0.9243697\ttotal: 4m 42s\tremaining: 1h 50m 1s\n",
      "41:\tlearn: 0.9243697\ttotal: 4m 49s\tremaining: 1h 49m 52s\n",
      "42:\tlearn: 0.9333333\ttotal: 4m 55s\tremaining: 1h 49m 42s\n",
      "43:\tlearn: 0.9333333\ttotal: 5m 2s\tremaining: 1h 49m 29s\n",
      "44:\tlearn: 0.9333333\ttotal: 5m 9s\tremaining: 1h 49m 19s\n",
      "45:\tlearn: 0.9333333\ttotal: 5m 15s\tremaining: 1h 49m 9s\n",
      "46:\tlearn: 0.9333333\ttotal: 5m 22s\tremaining: 1h 48m 57s\n",
      "47:\tlearn: 0.9333333\ttotal: 5m 29s\tremaining: 1h 48m 46s\n",
      "48:\tlearn: 0.9333333\ttotal: 5m 35s\tremaining: 1h 48m 35s\n",
      "49:\tlearn: 0.9333333\ttotal: 5m 44s\tremaining: 1h 48m 58s\n",
      "50:\tlearn: 0.9256198\ttotal: 5m 50s\tremaining: 1h 48m 49s\n",
      "51:\tlearn: 0.9256198\ttotal: 5m 57s\tremaining: 1h 48m 40s\n",
      "52:\tlearn: 0.9256198\ttotal: 6m 4s\tremaining: 1h 48m 29s\n",
      "53:\tlearn: 0.9256198\ttotal: 6m 11s\tremaining: 1h 48m 22s\n",
      "54:\tlearn: 0.9256198\ttotal: 6m 17s\tremaining: 1h 48m 14s\n",
      "55:\tlearn: 0.9256198\ttotal: 6m 24s\tremaining: 1h 48m 3s\n",
      "56:\tlearn: 0.9256198\ttotal: 6m 31s\tremaining: 1h 47m 54s\n",
      "57:\tlearn: 0.9333333\ttotal: 6m 38s\tremaining: 1h 47m 46s\n",
      "58:\tlearn: 0.9333333\ttotal: 6m 44s\tremaining: 1h 47m 37s\n",
      "59:\tlearn: 0.9333333\ttotal: 6m 51s\tremaining: 1h 47m 27s\n",
      "60:\tlearn: 0.9421488\ttotal: 6m 58s\tremaining: 1h 47m 17s\n",
      "61:\tlearn: 0.9421488\ttotal: 7m 4s\tremaining: 1h 47m 7s\n",
      "62:\tlearn: 0.9421488\ttotal: 7m 11s\tremaining: 1h 46m 58s\n",
      "63:\tlearn: 0.9421488\ttotal: 7m 18s\tremaining: 1h 46m 47s\n",
      "64:\tlearn: 0.9421488\ttotal: 7m 24s\tremaining: 1h 46m 39s\n",
      "65:\tlearn: 0.9421488\ttotal: 7m 31s\tremaining: 1h 46m 30s\n",
      "66:\tlearn: 0.9421488\ttotal: 7m 38s\tremaining: 1h 46m 22s\n",
      "67:\tlearn: 0.9421488\ttotal: 7m 45s\tremaining: 1h 46m 13s\n",
      "68:\tlearn: 0.9421488\ttotal: 7m 51s\tremaining: 1h 46m 4s\n",
      "69:\tlearn: 0.9421488\ttotal: 7m 58s\tremaining: 1h 45m 55s\n",
      "70:\tlearn: 0.9421488\ttotal: 8m 4s\tremaining: 1h 45m 45s\n",
      "71:\tlearn: 0.9421488\ttotal: 8m 11s\tremaining: 1h 45m 36s\n",
      "72:\tlearn: 0.9421488\ttotal: 8m 18s\tremaining: 1h 45m 27s\n",
      "73:\tlearn: 0.9421488\ttotal: 8m 26s\tremaining: 1h 45m 42s\n",
      "74:\tlearn: 0.9421488\ttotal: 8m 33s\tremaining: 1h 45m 35s\n",
      "75:\tlearn: 0.9421488\ttotal: 8m 40s\tremaining: 1h 45m 27s\n",
      "76:\tlearn: 0.9421488\ttotal: 8m 47s\tremaining: 1h 45m 18s\n",
      "77:\tlearn: 0.9421488\ttotal: 8m 53s\tremaining: 1h 45m 10s\n",
      "78:\tlearn: 0.9421488\ttotal: 9m\tremaining: 1h 45m 2s\n",
      "79:\tlearn: 0.9421488\ttotal: 9m 7s\tremaining: 1h 44m 55s\n",
      "80:\tlearn: 0.9421488\ttotal: 9m 14s\tremaining: 1h 44m 45s\n",
      "81:\tlearn: 0.9421488\ttotal: 9m 20s\tremaining: 1h 44m 37s\n",
      "82:\tlearn: 0.9421488\ttotal: 9m 27s\tremaining: 1h 44m 27s\n",
      "83:\tlearn: 0.9421488\ttotal: 9m 33s\tremaining: 1h 44m 18s\n",
      "84:\tlearn: 0.9421488\ttotal: 9m 40s\tremaining: 1h 44m 9s\n",
      "85:\tlearn: 0.9421488\ttotal: 9m 47s\tremaining: 1h 44m\n",
      "86:\tlearn: 0.9421488\ttotal: 9m 53s\tremaining: 1h 43m 52s\n",
      "87:\tlearn: 0.9421488\ttotal: 10m\tremaining: 1h 43m 45s\n",
      "88:\tlearn: 0.9421488\ttotal: 10m 8s\tremaining: 1h 43m 44s\n",
      "89:\tlearn: 0.9421488\ttotal: 10m 14s\tremaining: 1h 43m 37s\n",
      "90:\tlearn: 0.9500000\ttotal: 10m 21s\tremaining: 1h 43m 30s\n",
      "91:\tlearn: 0.9500000\ttotal: 10m 28s\tremaining: 1h 43m 22s\n",
      "92:\tlearn: 0.9500000\ttotal: 10m 35s\tremaining: 1h 43m 14s\n",
      "93:\tlearn: 0.9500000\ttotal: 10m 41s\tremaining: 1h 43m 7s\n",
      "94:\tlearn: 0.9500000\ttotal: 10m 48s\tremaining: 1h 42m 59s\n",
      "95:\tlearn: 0.9500000\ttotal: 10m 55s\tremaining: 1h 42m 52s\n",
      "96:\tlearn: 0.9500000\ttotal: 11m 3s\tremaining: 1h 42m 59s\n",
      "97:\tlearn: 0.9500000\ttotal: 11m 10s\tremaining: 1h 42m 53s\n",
      "98:\tlearn: 0.9579832\ttotal: 11m 17s\tremaining: 1h 42m 44s\n",
      "99:\tlearn: 0.9579832\ttotal: 11m 24s\tremaining: 1h 42m 36s\n",
      "100:\tlearn: 0.9579832\ttotal: 11m 30s\tremaining: 1h 42m 28s\n",
      "101:\tlearn: 0.9579832\ttotal: 11m 37s\tremaining: 1h 42m 20s\n",
      "102:\tlearn: 0.9579832\ttotal: 11m 44s\tremaining: 1h 42m 12s\n",
      "103:\tlearn: 0.9579832\ttotal: 11m 50s\tremaining: 1h 42m 4s\n",
      "104:\tlearn: 0.9579832\ttotal: 11m 57s\tremaining: 1h 41m 55s\n",
      "105:\tlearn: 0.9579832\ttotal: 12m 4s\tremaining: 1h 41m 46s\n",
      "106:\tlearn: 0.9579832\ttotal: 12m 10s\tremaining: 1h 41m 38s\n",
      "107:\tlearn: 0.9579832\ttotal: 12m 17s\tremaining: 1h 41m 30s\n",
      "108:\tlearn: 0.9579832\ttotal: 12m 24s\tremaining: 1h 41m 22s\n",
      "109:\tlearn: 0.9579832\ttotal: 12m 30s\tremaining: 1h 41m 13s\n",
      "110:\tlearn: 0.9579832\ttotal: 12m 37s\tremaining: 1h 41m 6s\n",
      "111:\tlearn: 0.9579832\ttotal: 12m 44s\tremaining: 1h 40m 59s\n",
      "112:\tlearn: 0.9579832\ttotal: 12m 50s\tremaining: 1h 40m 51s\n",
      "113:\tlearn: 0.9579832\ttotal: 12m 57s\tremaining: 1h 40m 44s\n",
      "114:\tlearn: 0.9579832\ttotal: 13m 4s\tremaining: 1h 40m 37s\n",
      "115:\tlearn: 0.9579832\ttotal: 13m 11s\tremaining: 1h 40m 29s\n",
      "116:\tlearn: 0.9579832\ttotal: 13m 17s\tremaining: 1h 40m 21s\n",
      "117:\tlearn: 0.9579832\ttotal: 13m 24s\tremaining: 1h 40m 14s\n",
      "118:\tlearn: 0.9579832\ttotal: 13m 31s\tremaining: 1h 40m 6s\n",
      "119:\tlearn: 0.9579832\ttotal: 13m 38s\tremaining: 1h 39m 58s\n",
      "120:\tlearn: 0.9579832\ttotal: 13m 45s\tremaining: 1h 39m 54s\n",
      "121:\tlearn: 0.9579832\ttotal: 13m 53s\tremaining: 1h 39m 56s\n",
      "122:\tlearn: 0.9579832\ttotal: 13m 59s\tremaining: 1h 39m 48s\n",
      "123:\tlearn: 0.9579832\ttotal: 14m 6s\tremaining: 1h 39m 41s\n",
      "124:\tlearn: 0.9579832\ttotal: 14m 13s\tremaining: 1h 39m 33s\n",
      "125:\tlearn: 0.9579832\ttotal: 14m 20s\tremaining: 1h 39m 25s\n",
      "126:\tlearn: 0.9579832\ttotal: 14m 26s\tremaining: 1h 39m 17s\n",
      "127:\tlearn: 0.9666667\ttotal: 14m 33s\tremaining: 1h 39m 10s\n",
      "128:\tlearn: 0.9666667\ttotal: 14m 40s\tremaining: 1h 39m 2s\n",
      "129:\tlearn: 0.9666667\ttotal: 14m 46s\tremaining: 1h 38m 54s\n",
      "130:\tlearn: 0.9666667\ttotal: 14m 53s\tremaining: 1h 38m 46s\n",
      "131:\tlearn: 0.9666667\ttotal: 15m\tremaining: 1h 38m 38s\n",
      "132:\tlearn: 0.9666667\ttotal: 15m 6s\tremaining: 1h 38m 31s\n",
      "133:\tlearn: 0.9752066\ttotal: 15m 13s\tremaining: 1h 38m 24s\n",
      "134:\tlearn: 0.9752066\ttotal: 15m 20s\tremaining: 1h 38m 16s\n",
      "135:\tlearn: 0.9752066\ttotal: 15m 26s\tremaining: 1h 38m 8s\n",
      "136:\tlearn: 0.9752066\ttotal: 15m 33s\tremaining: 1h 38m 1s\n",
      "137:\tlearn: 0.9752066\ttotal: 15m 40s\tremaining: 1h 37m 54s\n",
      "138:\tlearn: 0.9752066\ttotal: 15m 47s\tremaining: 1h 37m 46s\n",
      "139:\tlearn: 0.9752066\ttotal: 15m 53s\tremaining: 1h 37m 38s\n",
      "140:\tlearn: 0.9752066\ttotal: 16m\tremaining: 1h 37m 30s\n",
      "141:\tlearn: 0.9752066\ttotal: 16m 7s\tremaining: 1h 37m 23s\n",
      "142:\tlearn: 0.9752066\ttotal: 16m 13s\tremaining: 1h 37m 16s\n",
      "143:\tlearn: 0.9752066\ttotal: 16m 20s\tremaining: 1h 37m 8s\n",
      "144:\tlearn: 0.9752066\ttotal: 16m 28s\tremaining: 1h 37m 6s\n",
      "145:\tlearn: 0.9752066\ttotal: 16m 35s\tremaining: 1h 37m 4s\n",
      "146:\tlearn: 0.9752066\ttotal: 16m 42s\tremaining: 1h 36m 57s\n",
      "147:\tlearn: 0.9752066\ttotal: 16m 49s\tremaining: 1h 36m 49s\n",
      "148:\tlearn: 0.9752066\ttotal: 16m 55s\tremaining: 1h 36m 42s\n",
      "149:\tlearn: 0.9752066\ttotal: 17m 2s\tremaining: 1h 36m 35s\n",
      "150:\tlearn: 0.9752066\ttotal: 17m 9s\tremaining: 1h 36m 28s\n",
      "151:\tlearn: 0.9752066\ttotal: 17m 16s\tremaining: 1h 36m 20s\n",
      "152:\tlearn: 0.9752066\ttotal: 17m 22s\tremaining: 1h 36m 12s\n",
      "153:\tlearn: 0.9833333\ttotal: 17m 29s\tremaining: 1h 36m 5s\n",
      "154:\tlearn: 0.9833333\ttotal: 17m 36s\tremaining: 1h 35m 57s\n",
      "155:\tlearn: 0.9833333\ttotal: 17m 42s\tremaining: 1h 35m 50s\n",
      "156:\tlearn: 0.9833333\ttotal: 17m 49s\tremaining: 1h 35m 42s\n",
      "157:\tlearn: 0.9833333\ttotal: 17m 56s\tremaining: 1h 35m 35s\n",
      "158:\tlearn: 0.9833333\ttotal: 18m 2s\tremaining: 1h 35m 27s\n",
      "159:\tlearn: 0.9833333\ttotal: 18m 9s\tremaining: 1h 35m 20s\n",
      "160:\tlearn: 0.9833333\ttotal: 18m 16s\tremaining: 1h 35m 13s\n",
      "161:\tlearn: 0.9833333\ttotal: 18m 23s\tremaining: 1h 35m 6s\n",
      "162:\tlearn: 0.9833333\ttotal: 18m 29s\tremaining: 1h 34m 58s\n",
      "163:\tlearn: 0.9833333\ttotal: 18m 36s\tremaining: 1h 34m 51s\n",
      "164:\tlearn: 0.9833333\ttotal: 18m 43s\tremaining: 1h 34m 43s\n",
      "165:\tlearn: 0.9833333\ttotal: 18m 49s\tremaining: 1h 34m 36s\n",
      "166:\tlearn: 0.9833333\ttotal: 18m 56s\tremaining: 1h 34m 29s\n",
      "167:\tlearn: 0.9833333\ttotal: 19m 3s\tremaining: 1h 34m 21s\n",
      "168:\tlearn: 0.9833333\ttotal: 19m 11s\tremaining: 1h 34m 21s\n",
      "169:\tlearn: 0.9833333\ttotal: 19m 18s\tremaining: 1h 34m 15s\n",
      "170:\tlearn: 0.9833333\ttotal: 19m 25s\tremaining: 1h 34m 8s\n",
      "171:\tlearn: 0.9833333\ttotal: 19m 31s\tremaining: 1h 34m\n",
      "172:\tlearn: 0.9833333\ttotal: 19m 38s\tremaining: 1h 33m 53s\n",
      "173:\tlearn: 0.9917355\ttotal: 19m 45s\tremaining: 1h 33m 46s\n",
      "174:\tlearn: 0.9917355\ttotal: 19m 51s\tremaining: 1h 33m 39s\n",
      "175:\tlearn: 0.9917355\ttotal: 19m 58s\tremaining: 1h 33m 31s\n",
      "176:\tlearn: 0.9917355\ttotal: 20m 5s\tremaining: 1h 33m 25s\n",
      "177:\tlearn: 0.9917355\ttotal: 20m 12s\tremaining: 1h 33m 20s\n",
      "178:\tlearn: 0.9917355\ttotal: 20m 19s\tremaining: 1h 33m 13s\n",
      "179:\tlearn: 0.9917355\ttotal: 20m 26s\tremaining: 1h 33m 5s\n",
      "180:\tlearn: 0.9917355\ttotal: 20m 32s\tremaining: 1h 32m 58s\n",
      "181:\tlearn: 0.9917355\ttotal: 20m 39s\tremaining: 1h 32m 50s\n",
      "182:\tlearn: 0.9917355\ttotal: 20m 46s\tremaining: 1h 32m 43s\n",
      "183:\tlearn: 0.9917355\ttotal: 20m 52s\tremaining: 1h 32m 36s\n",
      "184:\tlearn: 0.9917355\ttotal: 20m 59s\tremaining: 1h 32m 29s\n",
      "185:\tlearn: 0.9917355\ttotal: 21m 6s\tremaining: 1h 32m 21s\n",
      "186:\tlearn: 0.9917355\ttotal: 21m 13s\tremaining: 1h 32m 14s\n",
      "187:\tlearn: 0.9917355\ttotal: 21m 19s\tremaining: 1h 32m 7s\n",
      "188:\tlearn: 0.9917355\ttotal: 21m 26s\tremaining: 1h 31m 59s\n",
      "189:\tlearn: 0.9917355\ttotal: 21m 33s\tremaining: 1h 31m 52s\n",
      "190:\tlearn: 0.9917355\ttotal: 21m 39s\tremaining: 1h 31m 45s\n",
      "191:\tlearn: 0.9917355\ttotal: 21m 46s\tremaining: 1h 31m 38s\n",
      "192:\tlearn: 0.9917355\ttotal: 21m 55s\tremaining: 1h 31m 38s\n",
      "193:\tlearn: 0.9917355\ttotal: 22m 1s\tremaining: 1h 31m 31s\n",
      "194:\tlearn: 0.9917355\ttotal: 22m 8s\tremaining: 1h 31m 24s\n",
      "195:\tlearn: 0.9917355\ttotal: 22m 15s\tremaining: 1h 31m 17s\n",
      "196:\tlearn: 0.9917355\ttotal: 22m 21s\tremaining: 1h 31m 9s\n",
      "197:\tlearn: 0.9917355\ttotal: 22m 28s\tremaining: 1h 31m 3s\n",
      "198:\tlearn: 0.9917355\ttotal: 22m 35s\tremaining: 1h 30m 55s\n",
      "199:\tlearn: 0.9917355\ttotal: 22m 41s\tremaining: 1h 30m 47s\n",
      "200:\tlearn: 0.9917355\ttotal: 22m 48s\tremaining: 1h 30m 40s\n",
      "201:\tlearn: 0.9917355\ttotal: 22m 55s\tremaining: 1h 30m 32s\n",
      "202:\tlearn: 0.9917355\ttotal: 23m 1s\tremaining: 1h 30m 25s\n",
      "203:\tlearn: 0.9917355\ttotal: 23m 8s\tremaining: 1h 30m 17s\n",
      "204:\tlearn: 0.9917355\ttotal: 23m 15s\tremaining: 1h 30m 10s\n",
      "205:\tlearn: 0.9917355\ttotal: 23m 21s\tremaining: 1h 30m 3s\n",
      "206:\tlearn: 0.9917355\ttotal: 23m 28s\tremaining: 1h 29m 55s\n",
      "207:\tlearn: 0.9917355\ttotal: 23m 35s\tremaining: 1h 29m 48s\n",
      "208:\tlearn: 0.9917355\ttotal: 23m 41s\tremaining: 1h 29m 41s\n",
      "209:\tlearn: 0.9917355\ttotal: 23m 48s\tremaining: 1h 29m 33s\n",
      "210:\tlearn: 0.9917355\ttotal: 23m 55s\tremaining: 1h 29m 26s\n",
      "211:\tlearn: 0.9917355\ttotal: 24m 1s\tremaining: 1h 29m 19s\n",
      "212:\tlearn: 0.9917355\ttotal: 24m 8s\tremaining: 1h 29m 11s\n",
      "213:\tlearn: 0.9917355\ttotal: 24m 15s\tremaining: 1h 29m 4s\n",
      "214:\tlearn: 0.9917355\ttotal: 24m 21s\tremaining: 1h 28m 56s\n",
      "215:\tlearn: 0.9917355\ttotal: 24m 30s\tremaining: 1h 28m 56s\n",
      "216:\tlearn: 0.9917355\ttotal: 24m 36s\tremaining: 1h 28m 49s\n",
      "217:\tlearn: 0.9917355\ttotal: 24m 43s\tremaining: 1h 28m 42s\n",
      "218:\tlearn: 0.9917355\ttotal: 24m 50s\tremaining: 1h 28m 34s\n",
      "219:\tlearn: 0.9917355\ttotal: 24m 56s\tremaining: 1h 28m 27s\n",
      "220:\tlearn: 0.9917355\ttotal: 25m 3s\tremaining: 1h 28m 20s\n",
      "221:\tlearn: 0.9917355\ttotal: 25m 10s\tremaining: 1h 28m 13s\n",
      "222:\tlearn: 0.9917355\ttotal: 25m 17s\tremaining: 1h 28m 5s\n",
      "223:\tlearn: 0.9917355\ttotal: 25m 23s\tremaining: 1h 27m 58s\n",
      "224:\tlearn: 0.9917355\ttotal: 25m 30s\tremaining: 1h 27m 51s\n",
      "225:\tlearn: 0.9917355\ttotal: 25m 37s\tremaining: 1h 27m 44s\n",
      "226:\tlearn: 0.9917355\ttotal: 25m 43s\tremaining: 1h 27m 37s\n",
      "227:\tlearn: 0.9917355\ttotal: 25m 50s\tremaining: 1h 27m 30s\n",
      "228:\tlearn: 0.9917355\ttotal: 25m 57s\tremaining: 1h 27m 23s\n",
      "229:\tlearn: 0.9917355\ttotal: 26m 3s\tremaining: 1h 27m 15s\n",
      "230:\tlearn: 0.9917355\ttotal: 26m 10s\tremaining: 1h 27m 8s\n",
      "231:\tlearn: 0.9917355\ttotal: 26m 17s\tremaining: 1h 27m 1s\n",
      "232:\tlearn: 0.9917355\ttotal: 26m 24s\tremaining: 1h 26m 54s\n",
      "233:\tlearn: 0.9917355\ttotal: 26m 30s\tremaining: 1h 26m 47s\n",
      "234:\tlearn: 0.9917355\ttotal: 26m 37s\tremaining: 1h 26m 40s\n",
      "235:\tlearn: 0.9917355\ttotal: 26m 44s\tremaining: 1h 26m 33s\n",
      "236:\tlearn: 0.9917355\ttotal: 26m 51s\tremaining: 1h 26m 27s\n",
      "237:\tlearn: 0.9917355\ttotal: 26m 57s\tremaining: 1h 26m 20s\n",
      "238:\tlearn: 0.9917355\ttotal: 27m 5s\tremaining: 1h 26m 14s\n",
      "239:\tlearn: 0.9917355\ttotal: 27m 13s\tremaining: 1h 26m 11s\n",
      "240:\tlearn: 0.9917355\ttotal: 27m 19s\tremaining: 1h 26m 4s\n",
      "241:\tlearn: 0.9917355\ttotal: 27m 26s\tremaining: 1h 25m 56s\n",
      "242:\tlearn: 0.9917355\ttotal: 27m 33s\tremaining: 1h 25m 49s\n",
      "243:\tlearn: 0.9917355\ttotal: 27m 39s\tremaining: 1h 25m 42s\n",
      "244:\tlearn: 0.9917355\ttotal: 27m 46s\tremaining: 1h 25m 35s\n",
      "245:\tlearn: 0.9917355\ttotal: 27m 53s\tremaining: 1h 25m 28s\n",
      "246:\tlearn: 0.9917355\ttotal: 27m 59s\tremaining: 1h 25m 20s\n",
      "247:\tlearn: 0.9917355\ttotal: 28m 6s\tremaining: 1h 25m 13s\n",
      "248:\tlearn: 0.9917355\ttotal: 28m 13s\tremaining: 1h 25m 6s\n",
      "249:\tlearn: 0.9917355\ttotal: 28m 19s\tremaining: 1h 24m 59s\n",
      "250:\tlearn: 0.9917355\ttotal: 28m 26s\tremaining: 1h 24m 53s\n",
      "251:\tlearn: 0.9917355\ttotal: 28m 33s\tremaining: 1h 24m 45s\n",
      "252:\tlearn: 0.9917355\ttotal: 28m 40s\tremaining: 1h 24m 39s\n",
      "253:\tlearn: 0.9917355\ttotal: 28m 46s\tremaining: 1h 24m 31s\n",
      "254:\tlearn: 0.9917355\ttotal: 28m 53s\tremaining: 1h 24m 24s\n",
      "255:\tlearn: 0.9917355\ttotal: 29m\tremaining: 1h 24m 17s\n",
      "256:\tlearn: 0.9917355\ttotal: 29m 6s\tremaining: 1h 24m 10s\n",
      "257:\tlearn: 1.0000000\ttotal: 29m 13s\tremaining: 1h 24m 3s\n",
      "258:\tlearn: 1.0000000\ttotal: 29m 20s\tremaining: 1h 23m 56s\n",
      "259:\tlearn: 1.0000000\ttotal: 29m 26s\tremaining: 1h 23m 48s\n",
      "260:\tlearn: 1.0000000\ttotal: 29m 33s\tremaining: 1h 23m 41s\n",
      "261:\tlearn: 1.0000000\ttotal: 29m 40s\tremaining: 1h 23m 34s\n",
      "262:\tlearn: 1.0000000\ttotal: 29m 48s\tremaining: 1h 23m 32s\n",
      "263:\tlearn: 1.0000000\ttotal: 29m 55s\tremaining: 1h 23m 24s\n",
      "264:\tlearn: 1.0000000\ttotal: 30m 1s\tremaining: 1h 23m 17s\n",
      "265:\tlearn: 1.0000000\ttotal: 30m 8s\tremaining: 1h 23m 10s\n",
      "266:\tlearn: 1.0000000\ttotal: 30m 15s\tremaining: 1h 23m 5s\n",
      "267:\tlearn: 1.0000000\ttotal: 30m 22s\tremaining: 1h 22m 58s\n",
      "268:\tlearn: 1.0000000\ttotal: 30m 29s\tremaining: 1h 22m 51s\n",
      "269:\tlearn: 1.0000000\ttotal: 30m 35s\tremaining: 1h 22m 43s\n",
      "270:\tlearn: 1.0000000\ttotal: 30m 42s\tremaining: 1h 22m 36s\n",
      "271:\tlearn: 1.0000000\ttotal: 30m 49s\tremaining: 1h 22m 29s\n",
      "272:\tlearn: 1.0000000\ttotal: 30m 55s\tremaining: 1h 22m 22s\n",
      "273:\tlearn: 1.0000000\ttotal: 31m 2s\tremaining: 1h 22m 15s\n",
      "274:\tlearn: 1.0000000\ttotal: 31m 9s\tremaining: 1h 22m 8s\n",
      "275:\tlearn: 1.0000000\ttotal: 31m 15s\tremaining: 1h 22m\n",
      "276:\tlearn: 1.0000000\ttotal: 31m 22s\tremaining: 1h 21m 53s\n",
      "277:\tlearn: 1.0000000\ttotal: 31m 29s\tremaining: 1h 21m 46s\n",
      "278:\tlearn: 1.0000000\ttotal: 31m 35s\tremaining: 1h 21m 39s\n",
      "279:\tlearn: 1.0000000\ttotal: 31m 42s\tremaining: 1h 21m 32s\n",
      "280:\tlearn: 1.0000000\ttotal: 31m 49s\tremaining: 1h 21m 25s\n",
      "281:\tlearn: 1.0000000\ttotal: 31m 55s\tremaining: 1h 21m 18s\n",
      "282:\tlearn: 1.0000000\ttotal: 32m 2s\tremaining: 1h 21m 11s\n",
      "283:\tlearn: 1.0000000\ttotal: 32m 9s\tremaining: 1h 21m 3s\n",
      "284:\tlearn: 1.0000000\ttotal: 32m 15s\tremaining: 1h 20m 56s\n",
      "285:\tlearn: 1.0000000\ttotal: 32m 24s\tremaining: 1h 20m 54s\n",
      "286:\tlearn: 1.0000000\ttotal: 32m 31s\tremaining: 1h 20m 47s\n",
      "287:\tlearn: 1.0000000\ttotal: 32m 37s\tremaining: 1h 20m 40s\n",
      "288:\tlearn: 1.0000000\ttotal: 32m 44s\tremaining: 1h 20m 33s\n",
      "289:\tlearn: 1.0000000\ttotal: 32m 51s\tremaining: 1h 20m 26s\n",
      "290:\tlearn: 1.0000000\ttotal: 32m 57s\tremaining: 1h 20m 19s\n",
      "291:\tlearn: 1.0000000\ttotal: 33m 4s\tremaining: 1h 20m 12s\n",
      "292:\tlearn: 1.0000000\ttotal: 33m 11s\tremaining: 1h 20m 5s\n",
      "293:\tlearn: 1.0000000\ttotal: 33m 18s\tremaining: 1h 19m 58s\n",
      "294:\tlearn: 1.0000000\ttotal: 33m 25s\tremaining: 1h 19m 51s\n",
      "295:\tlearn: 1.0000000\ttotal: 33m 31s\tremaining: 1h 19m 44s\n",
      "296:\tlearn: 1.0000000\ttotal: 33m 38s\tremaining: 1h 19m 37s\n",
      "297:\tlearn: 1.0000000\ttotal: 33m 45s\tremaining: 1h 19m 30s\n",
      "298:\tlearn: 1.0000000\ttotal: 33m 51s\tremaining: 1h 19m 23s\n",
      "299:\tlearn: 1.0000000\ttotal: 33m 58s\tremaining: 1h 19m 16s\n",
      "300:\tlearn: 1.0000000\ttotal: 34m 5s\tremaining: 1h 19m 9s\n",
      "301:\tlearn: 1.0000000\ttotal: 34m 11s\tremaining: 1h 19m 2s\n",
      "302:\tlearn: 1.0000000\ttotal: 34m 18s\tremaining: 1h 18m 55s\n",
      "303:\tlearn: 1.0000000\ttotal: 34m 25s\tremaining: 1h 18m 48s\n",
      "304:\tlearn: 1.0000000\ttotal: 34m 32s\tremaining: 1h 18m 41s\n",
      "305:\tlearn: 1.0000000\ttotal: 34m 38s\tremaining: 1h 18m 34s\n",
      "306:\tlearn: 1.0000000\ttotal: 34m 45s\tremaining: 1h 18m 27s\n",
      "307:\tlearn: 1.0000000\ttotal: 34m 52s\tremaining: 1h 18m 20s\n",
      "308:\tlearn: 1.0000000\ttotal: 35m\tremaining: 1h 18m 16s\n",
      "309:\tlearn: 1.0000000\ttotal: 35m 7s\tremaining: 1h 18m 10s\n",
      "310:\tlearn: 1.0000000\ttotal: 35m 14s\tremaining: 1h 18m 3s\n",
      "311:\tlearn: 1.0000000\ttotal: 35m 20s\tremaining: 1h 17m 56s\n",
      "312:\tlearn: 1.0000000\ttotal: 35m 27s\tremaining: 1h 17m 49s\n",
      "313:\tlearn: 1.0000000\ttotal: 35m 34s\tremaining: 1h 17m 42s\n",
      "314:\tlearn: 1.0000000\ttotal: 35m 40s\tremaining: 1h 17m 35s\n",
      "315:\tlearn: 1.0000000\ttotal: 35m 47s\tremaining: 1h 17m 28s\n",
      "316:\tlearn: 1.0000000\ttotal: 35m 54s\tremaining: 1h 17m 21s\n",
      "317:\tlearn: 1.0000000\ttotal: 36m 1s\tremaining: 1h 17m 14s\n",
      "318:\tlearn: 1.0000000\ttotal: 36m 7s\tremaining: 1h 17m 7s\n",
      "319:\tlearn: 1.0000000\ttotal: 36m 14s\tremaining: 1h 17m\n",
      "320:\tlearn: 1.0000000\ttotal: 36m 21s\tremaining: 1h 16m 53s\n",
      "321:\tlearn: 1.0000000\ttotal: 36m 27s\tremaining: 1h 16m 46s\n",
      "322:\tlearn: 1.0000000\ttotal: 36m 34s\tremaining: 1h 16m 39s\n",
      "323:\tlearn: 1.0000000\ttotal: 36m 41s\tremaining: 1h 16m 32s\n",
      "324:\tlearn: 1.0000000\ttotal: 36m 47s\tremaining: 1h 16m 25s\n",
      "325:\tlearn: 1.0000000\ttotal: 36m 54s\tremaining: 1h 16m 18s\n",
      "326:\tlearn: 1.0000000\ttotal: 37m 1s\tremaining: 1h 16m 11s\n",
      "327:\tlearn: 1.0000000\ttotal: 37m 8s\tremaining: 1h 16m 5s\n",
      "328:\tlearn: 1.0000000\ttotal: 37m 15s\tremaining: 1h 15m 58s\n",
      "329:\tlearn: 1.0000000\ttotal: 37m 21s\tremaining: 1h 15m 51s\n",
      "330:\tlearn: 1.0000000\ttotal: 37m 28s\tremaining: 1h 15m 44s\n",
      "331:\tlearn: 1.0000000\ttotal: 37m 35s\tremaining: 1h 15m 37s\n",
      "332:\tlearn: 1.0000000\ttotal: 37m 43s\tremaining: 1h 15m 34s\n",
      "333:\tlearn: 1.0000000\ttotal: 37m 50s\tremaining: 1h 15m 27s\n",
      "334:\tlearn: 1.0000000\ttotal: 37m 57s\tremaining: 1h 15m 20s\n",
      "335:\tlearn: 1.0000000\ttotal: 38m 3s\tremaining: 1h 15m 13s\n",
      "336:\tlearn: 1.0000000\ttotal: 38m 10s\tremaining: 1h 15m 6s\n",
      "337:\tlearn: 1.0000000\ttotal: 38m 17s\tremaining: 1h 14m 59s\n",
      "338:\tlearn: 1.0000000\ttotal: 38m 24s\tremaining: 1h 14m 52s\n",
      "339:\tlearn: 1.0000000\ttotal: 38m 30s\tremaining: 1h 14m 45s\n",
      "340:\tlearn: 1.0000000\ttotal: 38m 37s\tremaining: 1h 14m 38s\n",
      "341:\tlearn: 1.0000000\ttotal: 38m 44s\tremaining: 1h 14m 31s\n",
      "342:\tlearn: 1.0000000\ttotal: 38m 50s\tremaining: 1h 14m 24s\n",
      "343:\tlearn: 1.0000000\ttotal: 38m 57s\tremaining: 1h 14m 17s\n",
      "344:\tlearn: 1.0000000\ttotal: 39m 4s\tremaining: 1h 14m 10s\n",
      "345:\tlearn: 1.0000000\ttotal: 39m 10s\tremaining: 1h 14m 3s\n",
      "346:\tlearn: 1.0000000\ttotal: 39m 17s\tremaining: 1h 13m 56s\n",
      "347:\tlearn: 1.0000000\ttotal: 39m 24s\tremaining: 1h 13m 49s\n",
      "348:\tlearn: 1.0000000\ttotal: 39m 30s\tremaining: 1h 13m 42s\n",
      "349:\tlearn: 1.0000000\ttotal: 39m 37s\tremaining: 1h 13m 35s\n",
      "350:\tlearn: 1.0000000\ttotal: 39m 44s\tremaining: 1h 13m 28s\n",
      "351:\tlearn: 1.0000000\ttotal: 39m 50s\tremaining: 1h 13m 21s\n",
      "352:\tlearn: 1.0000000\ttotal: 39m 57s\tremaining: 1h 13m 14s\n",
      "353:\tlearn: 1.0000000\ttotal: 40m 4s\tremaining: 1h 13m 7s\n",
      "354:\tlearn: 1.0000000\ttotal: 40m 11s\tremaining: 1h 13m 1s\n",
      "355:\tlearn: 1.0000000\ttotal: 40m 20s\tremaining: 1h 12m 58s\n",
      "356:\tlearn: 1.0000000\ttotal: 40m 27s\tremaining: 1h 12m 52s\n",
      "357:\tlearn: 1.0000000\ttotal: 40m 34s\tremaining: 1h 12m 45s\n",
      "358:\tlearn: 1.0000000\ttotal: 40m 40s\tremaining: 1h 12m 38s\n",
      "359:\tlearn: 1.0000000\ttotal: 40m 47s\tremaining: 1h 12m 31s\n",
      "360:\tlearn: 1.0000000\ttotal: 40m 54s\tremaining: 1h 12m 24s\n",
      "361:\tlearn: 1.0000000\ttotal: 41m\tremaining: 1h 12m 17s\n",
      "362:\tlearn: 1.0000000\ttotal: 41m 7s\tremaining: 1h 12m 10s\n",
      "363:\tlearn: 1.0000000\ttotal: 41m 14s\tremaining: 1h 12m 3s\n",
      "364:\tlearn: 1.0000000\ttotal: 41m 21s\tremaining: 1h 11m 56s\n",
      "365:\tlearn: 1.0000000\ttotal: 41m 27s\tremaining: 1h 11m 49s\n",
      "366:\tlearn: 1.0000000\ttotal: 41m 34s\tremaining: 1h 11m 42s\n",
      "367:\tlearn: 1.0000000\ttotal: 41m 41s\tremaining: 1h 11m 35s\n",
      "368:\tlearn: 1.0000000\ttotal: 41m 47s\tremaining: 1h 11m 28s\n",
      "369:\tlearn: 1.0000000\ttotal: 41m 54s\tremaining: 1h 11m 21s\n",
      "370:\tlearn: 1.0000000\ttotal: 42m 1s\tremaining: 1h 11m 14s\n",
      "371:\tlearn: 1.0000000\ttotal: 42m 8s\tremaining: 1h 11m 8s\n",
      "372:\tlearn: 1.0000000\ttotal: 42m 15s\tremaining: 1h 11m 1s\n",
      "373:\tlearn: 1.0000000\ttotal: 42m 21s\tremaining: 1h 10m 54s\n",
      "374:\tlearn: 1.0000000\ttotal: 42m 28s\tremaining: 1h 10m 47s\n",
      "375:\tlearn: 1.0000000\ttotal: 42m 35s\tremaining: 1h 10m 40s\n",
      "376:\tlearn: 1.0000000\ttotal: 42m 42s\tremaining: 1h 10m 33s\n",
      "377:\tlearn: 1.0000000\ttotal: 42m 48s\tremaining: 1h 10m 27s\n",
      "378:\tlearn: 1.0000000\ttotal: 42m 57s\tremaining: 1h 10m 23s\n",
      "379:\tlearn: 1.0000000\ttotal: 43m 4s\tremaining: 1h 10m 16s\n",
      "380:\tlearn: 1.0000000\ttotal: 43m 10s\tremaining: 1h 10m 9s\n",
      "381:\tlearn: 1.0000000\ttotal: 43m 17s\tremaining: 1h 10m 2s\n",
      "382:\tlearn: 1.0000000\ttotal: 43m 24s\tremaining: 1h 9m 55s\n",
      "383:\tlearn: 1.0000000\ttotal: 43m 30s\tremaining: 1h 9m 48s\n",
      "384:\tlearn: 1.0000000\ttotal: 43m 37s\tremaining: 1h 9m 41s\n",
      "385:\tlearn: 1.0000000\ttotal: 43m 44s\tremaining: 1h 9m 34s\n",
      "386:\tlearn: 1.0000000\ttotal: 43m 50s\tremaining: 1h 9m 27s\n",
      "387:\tlearn: 1.0000000\ttotal: 43m 57s\tremaining: 1h 9m 20s\n",
      "388:\tlearn: 1.0000000\ttotal: 44m 4s\tremaining: 1h 9m 13s\n",
      "389:\tlearn: 1.0000000\ttotal: 44m 10s\tremaining: 1h 9m 6s\n",
      "390:\tlearn: 1.0000000\ttotal: 44m 17s\tremaining: 1h 8m 59s\n",
      "391:\tlearn: 1.0000000\ttotal: 44m 24s\tremaining: 1h 8m 52s\n",
      "392:\tlearn: 1.0000000\ttotal: 44m 31s\tremaining: 1h 8m 45s\n",
      "393:\tlearn: 1.0000000\ttotal: 44m 37s\tremaining: 1h 8m 38s\n",
      "394:\tlearn: 1.0000000\ttotal: 44m 44s\tremaining: 1h 8m 31s\n",
      "395:\tlearn: 1.0000000\ttotal: 44m 51s\tremaining: 1h 8m 24s\n",
      "396:\tlearn: 1.0000000\ttotal: 44m 57s\tremaining: 1h 8m 17s\n",
      "397:\tlearn: 1.0000000\ttotal: 45m 4s\tremaining: 1h 8m 11s\n",
      "398:\tlearn: 1.0000000\ttotal: 45m 11s\tremaining: 1h 8m 4s\n",
      "399:\tlearn: 1.0000000\ttotal: 45m 18s\tremaining: 1h 7m 57s\n",
      "400:\tlearn: 1.0000000\ttotal: 45m 25s\tremaining: 1h 7m 50s\n",
      "401:\tlearn: 1.0000000\ttotal: 45m 33s\tremaining: 1h 7m 46s\n",
      "402:\tlearn: 1.0000000\ttotal: 45m 40s\tremaining: 1h 7m 39s\n",
      "403:\tlearn: 1.0000000\ttotal: 45m 46s\tremaining: 1h 7m 32s\n",
      "404:\tlearn: 1.0000000\ttotal: 45m 53s\tremaining: 1h 7m 25s\n",
      "405:\tlearn: 1.0000000\ttotal: 46m\tremaining: 1h 7m 18s\n",
      "406:\tlearn: 1.0000000\ttotal: 46m 7s\tremaining: 1h 7m 11s\n",
      "407:\tlearn: 1.0000000\ttotal: 46m 13s\tremaining: 1h 7m 4s\n",
      "408:\tlearn: 1.0000000\ttotal: 46m 20s\tremaining: 1h 6m 57s\n",
      "409:\tlearn: 1.0000000\ttotal: 46m 27s\tremaining: 1h 6m 51s\n",
      "410:\tlearn: 1.0000000\ttotal: 46m 34s\tremaining: 1h 6m 44s\n",
      "411:\tlearn: 1.0000000\ttotal: 46m 40s\tremaining: 1h 6m 37s\n",
      "412:\tlearn: 1.0000000\ttotal: 46m 47s\tremaining: 1h 6m 30s\n",
      "413:\tlearn: 1.0000000\ttotal: 46m 54s\tremaining: 1h 6m 23s\n",
      "414:\tlearn: 1.0000000\ttotal: 47m\tremaining: 1h 6m 16s\n",
      "415:\tlearn: 1.0000000\ttotal: 47m 7s\tremaining: 1h 6m 9s\n",
      "416:\tlearn: 1.0000000\ttotal: 47m 14s\tremaining: 1h 6m 2s\n",
      "417:\tlearn: 1.0000000\ttotal: 47m 20s\tremaining: 1h 5m 55s\n",
      "418:\tlearn: 1.0000000\ttotal: 47m 27s\tremaining: 1h 5m 48s\n",
      "419:\tlearn: 1.0000000\ttotal: 47m 34s\tremaining: 1h 5m 41s\n",
      "420:\tlearn: 1.0000000\ttotal: 47m 41s\tremaining: 1h 5m 34s\n",
      "421:\tlearn: 1.0000000\ttotal: 47m 47s\tremaining: 1h 5m 27s\n",
      "422:\tlearn: 1.0000000\ttotal: 47m 54s\tremaining: 1h 5m 21s\n",
      "423:\tlearn: 1.0000000\ttotal: 48m 1s\tremaining: 1h 5m 14s\n",
      "424:\tlearn: 1.0000000\ttotal: 48m 9s\tremaining: 1h 5m 9s\n",
      "425:\tlearn: 1.0000000\ttotal: 48m 16s\tremaining: 1h 5m 2s\n",
      "426:\tlearn: 1.0000000\ttotal: 48m 23s\tremaining: 1h 4m 55s\n",
      "427:\tlearn: 1.0000000\ttotal: 48m 30s\tremaining: 1h 4m 49s\n",
      "428:\tlearn: 1.0000000\ttotal: 48m 36s\tremaining: 1h 4m 42s\n",
      "429:\tlearn: 1.0000000\ttotal: 48m 43s\tremaining: 1h 4m 35s\n",
      "430:\tlearn: 1.0000000\ttotal: 48m 50s\tremaining: 1h 4m 28s\n",
      "431:\tlearn: 1.0000000\ttotal: 48m 56s\tremaining: 1h 4m 21s\n",
      "432:\tlearn: 1.0000000\ttotal: 49m 3s\tremaining: 1h 4m 14s\n",
      "433:\tlearn: 1.0000000\ttotal: 49m 10s\tremaining: 1h 4m 7s\n",
      "434:\tlearn: 1.0000000\ttotal: 49m 16s\tremaining: 1h 4m\n",
      "435:\tlearn: 1.0000000\ttotal: 49m 23s\tremaining: 1h 3m 53s\n",
      "436:\tlearn: 1.0000000\ttotal: 49m 30s\tremaining: 1h 3m 46s\n",
      "437:\tlearn: 1.0000000\ttotal: 49m 36s\tremaining: 1h 3m 39s\n",
      "438:\tlearn: 1.0000000\ttotal: 49m 43s\tremaining: 1h 3m 32s\n",
      "439:\tlearn: 1.0000000\ttotal: 49m 50s\tremaining: 1h 3m 25s\n",
      "440:\tlearn: 1.0000000\ttotal: 49m 57s\tremaining: 1h 3m 19s\n",
      "441:\tlearn: 1.0000000\ttotal: 50m 3s\tremaining: 1h 3m 12s\n",
      "442:\tlearn: 1.0000000\ttotal: 50m 10s\tremaining: 1h 3m 5s\n",
      "443:\tlearn: 1.0000000\ttotal: 50m 17s\tremaining: 1h 2m 58s\n",
      "444:\tlearn: 1.0000000\ttotal: 50m 24s\tremaining: 1h 2m 52s\n",
      "445:\tlearn: 1.0000000\ttotal: 50m 31s\tremaining: 1h 2m 45s\n",
      "446:\tlearn: 1.0000000\ttotal: 50m 38s\tremaining: 1h 2m 38s\n",
      "447:\tlearn: 1.0000000\ttotal: 50m 46s\tremaining: 1h 2m 33s\n",
      "448:\tlearn: 1.0000000\ttotal: 50m 53s\tremaining: 1h 2m 26s\n",
      "449:\tlearn: 1.0000000\ttotal: 51m\tremaining: 1h 2m 20s\n",
      "450:\tlearn: 1.0000000\ttotal: 51m 6s\tremaining: 1h 2m 13s\n",
      "451:\tlearn: 1.0000000\ttotal: 51m 13s\tremaining: 1h 2m 6s\n",
      "452:\tlearn: 1.0000000\ttotal: 51m 20s\tremaining: 1h 1m 59s\n",
      "453:\tlearn: 1.0000000\ttotal: 51m 26s\tremaining: 1h 1m 52s\n",
      "454:\tlearn: 1.0000000\ttotal: 51m 33s\tremaining: 1h 1m 45s\n",
      "455:\tlearn: 1.0000000\ttotal: 51m 40s\tremaining: 1h 1m 38s\n",
      "456:\tlearn: 1.0000000\ttotal: 51m 46s\tremaining: 1h 1m 31s\n",
      "457:\tlearn: 1.0000000\ttotal: 51m 53s\tremaining: 1h 1m 24s\n",
      "458:\tlearn: 1.0000000\ttotal: 52m\tremaining: 1h 1m 17s\n",
      "459:\tlearn: 1.0000000\ttotal: 52m 7s\tremaining: 1h 1m 10s\n",
      "460:\tlearn: 1.0000000\ttotal: 52m 13s\tremaining: 1h 1m 3s\n",
      "461:\tlearn: 1.0000000\ttotal: 52m 20s\tremaining: 1h 57s\n",
      "462:\tlearn: 1.0000000\ttotal: 52m 27s\tremaining: 1h 50s\n",
      "463:\tlearn: 1.0000000\ttotal: 52m 33s\tremaining: 1h 43s\n",
      "464:\tlearn: 1.0000000\ttotal: 52m 40s\tremaining: 1h 36s\n",
      "465:\tlearn: 1.0000000\ttotal: 52m 47s\tremaining: 1h 29s\n",
      "466:\tlearn: 1.0000000\ttotal: 52m 53s\tremaining: 1h 22s\n",
      "467:\tlearn: 1.0000000\ttotal: 53m\tremaining: 1h 15s\n",
      "468:\tlearn: 1.0000000\ttotal: 53m 7s\tremaining: 1h 8s\n",
      "469:\tlearn: 1.0000000\ttotal: 53m 13s\tremaining: 1h 1s\n",
      "470:\tlearn: 1.0000000\ttotal: 53m 22s\tremaining: 59m 56s\n",
      "471:\tlearn: 1.0000000\ttotal: 53m 29s\tremaining: 59m 49s\n",
      "472:\tlearn: 1.0000000\ttotal: 53m 35s\tremaining: 59m 42s\n",
      "473:\tlearn: 1.0000000\ttotal: 53m 42s\tremaining: 59m 36s\n",
      "474:\tlearn: 1.0000000\ttotal: 53m 49s\tremaining: 59m 29s\n",
      "475:\tlearn: 1.0000000\ttotal: 53m 55s\tremaining: 59m 22s\n",
      "476:\tlearn: 1.0000000\ttotal: 54m 2s\tremaining: 59m 15s\n",
      "477:\tlearn: 1.0000000\ttotal: 54m 9s\tremaining: 59m 8s\n",
      "478:\tlearn: 1.0000000\ttotal: 54m 15s\tremaining: 59m 1s\n",
      "479:\tlearn: 1.0000000\ttotal: 54m 22s\tremaining: 58m 54s\n",
      "480:\tlearn: 1.0000000\ttotal: 54m 28s\tremaining: 58m 47s\n",
      "481:\tlearn: 1.0000000\ttotal: 54m 35s\tremaining: 58m 40s\n",
      "482:\tlearn: 1.0000000\ttotal: 54m 42s\tremaining: 58m 33s\n",
      "483:\tlearn: 1.0000000\ttotal: 54m 49s\tremaining: 58m 26s\n",
      "484:\tlearn: 1.0000000\ttotal: 54m 55s\tremaining: 58m 19s\n",
      "485:\tlearn: 1.0000000\ttotal: 55m 2s\tremaining: 58m 12s\n",
      "486:\tlearn: 1.0000000\ttotal: 55m 8s\tremaining: 58m 5s\n",
      "487:\tlearn: 1.0000000\ttotal: 55m 15s\tremaining: 57m 58s\n",
      "488:\tlearn: 1.0000000\ttotal: 55m 22s\tremaining: 57m 51s\n",
      "489:\tlearn: 1.0000000\ttotal: 55m 28s\tremaining: 57m 44s\n",
      "490:\tlearn: 1.0000000\ttotal: 55m 35s\tremaining: 57m 37s\n",
      "491:\tlearn: 1.0000000\ttotal: 55m 42s\tremaining: 57m 30s\n",
      "492:\tlearn: 1.0000000\ttotal: 55m 50s\tremaining: 57m 25s\n",
      "493:\tlearn: 1.0000000\ttotal: 55m 56s\tremaining: 57m 18s\n",
      "494:\tlearn: 1.0000000\ttotal: 56m 3s\tremaining: 57m 11s\n",
      "495:\tlearn: 1.0000000\ttotal: 56m 10s\tremaining: 57m 4s\n",
      "496:\tlearn: 1.0000000\ttotal: 56m 16s\tremaining: 56m 57s\n",
      "497:\tlearn: 1.0000000\ttotal: 56m 23s\tremaining: 56m 50s\n",
      "498:\tlearn: 1.0000000\ttotal: 56m 30s\tremaining: 56m 43s\n",
      "499:\tlearn: 1.0000000\ttotal: 56m 36s\tremaining: 56m 36s\n",
      "500:\tlearn: 1.0000000\ttotal: 56m 43s\tremaining: 56m 29s\n",
      "501:\tlearn: 1.0000000\ttotal: 56m 50s\tremaining: 56m 23s\n",
      "502:\tlearn: 1.0000000\ttotal: 56m 56s\tremaining: 56m 16s\n",
      "503:\tlearn: 1.0000000\ttotal: 57m 3s\tremaining: 56m 9s\n",
      "504:\tlearn: 1.0000000\ttotal: 57m 10s\tremaining: 56m 2s\n",
      "505:\tlearn: 1.0000000\ttotal: 57m 16s\tremaining: 55m 55s\n",
      "506:\tlearn: 1.0000000\ttotal: 57m 23s\tremaining: 55m 48s\n",
      "507:\tlearn: 1.0000000\ttotal: 57m 30s\tremaining: 55m 41s\n",
      "508:\tlearn: 1.0000000\ttotal: 57m 36s\tremaining: 55m 34s\n",
      "509:\tlearn: 1.0000000\ttotal: 57m 43s\tremaining: 55m 27s\n",
      "510:\tlearn: 1.0000000\ttotal: 57m 50s\tremaining: 55m 20s\n",
      "511:\tlearn: 1.0000000\ttotal: 57m 56s\tremaining: 55m 13s\n",
      "512:\tlearn: 1.0000000\ttotal: 58m 3s\tremaining: 55m 6s\n",
      "513:\tlearn: 1.0000000\ttotal: 58m 10s\tremaining: 54m 59s\n",
      "514:\tlearn: 1.0000000\ttotal: 58m 16s\tremaining: 54m 52s\n",
      "515:\tlearn: 1.0000000\ttotal: 58m 24s\tremaining: 54m 47s\n",
      "516:\tlearn: 1.0000000\ttotal: 58m 31s\tremaining: 54m 40s\n",
      "517:\tlearn: 1.0000000\ttotal: 58m 37s\tremaining: 54m 33s\n",
      "518:\tlearn: 1.0000000\ttotal: 58m 44s\tremaining: 54m 26s\n",
      "519:\tlearn: 1.0000000\ttotal: 58m 51s\tremaining: 54m 19s\n",
      "520:\tlearn: 1.0000000\ttotal: 58m 57s\tremaining: 54m 12s\n",
      "521:\tlearn: 1.0000000\ttotal: 59m 4s\tremaining: 54m 5s\n",
      "522:\tlearn: 1.0000000\ttotal: 59m 11s\tremaining: 53m 58s\n",
      "523:\tlearn: 1.0000000\ttotal: 59m 17s\tremaining: 53m 51s\n",
      "524:\tlearn: 1.0000000\ttotal: 59m 24s\tremaining: 53m 44s\n",
      "525:\tlearn: 1.0000000\ttotal: 59m 31s\tremaining: 53m 37s\n",
      "526:\tlearn: 1.0000000\ttotal: 59m 37s\tremaining: 53m 31s\n",
      "527:\tlearn: 1.0000000\ttotal: 59m 44s\tremaining: 53m 24s\n",
      "528:\tlearn: 1.0000000\ttotal: 59m 50s\tremaining: 53m 17s\n",
      "529:\tlearn: 1.0000000\ttotal: 59m 57s\tremaining: 53m 10s\n",
      "530:\tlearn: 1.0000000\ttotal: 1h 4s\tremaining: 53m 3s\n",
      "531:\tlearn: 1.0000000\ttotal: 1h 11s\tremaining: 52m 56s\n",
      "532:\tlearn: 1.0000000\ttotal: 1h 17s\tremaining: 52m 49s\n",
      "533:\tlearn: 1.0000000\ttotal: 1h 24s\tremaining: 52m 42s\n",
      "534:\tlearn: 1.0000000\ttotal: 1h 31s\tremaining: 52m 36s\n",
      "535:\tlearn: 1.0000000\ttotal: 1h 38s\tremaining: 52m 29s\n",
      "536:\tlearn: 1.0000000\ttotal: 1h 44s\tremaining: 52m 22s\n",
      "537:\tlearn: 1.0000000\ttotal: 1h 52s\tremaining: 52m 16s\n",
      "538:\tlearn: 1.0000000\ttotal: 1h 59s\tremaining: 52m 9s\n",
      "539:\tlearn: 1.0000000\ttotal: 1h 1m 5s\tremaining: 52m 2s\n",
      "540:\tlearn: 1.0000000\ttotal: 1h 1m 12s\tremaining: 51m 55s\n",
      "541:\tlearn: 1.0000000\ttotal: 1h 1m 19s\tremaining: 51m 49s\n",
      "542:\tlearn: 1.0000000\ttotal: 1h 1m 26s\tremaining: 51m 42s\n",
      "543:\tlearn: 1.0000000\ttotal: 1h 1m 32s\tremaining: 51m 35s\n",
      "544:\tlearn: 1.0000000\ttotal: 1h 1m 39s\tremaining: 51m 28s\n",
      "545:\tlearn: 1.0000000\ttotal: 1h 1m 46s\tremaining: 51m 21s\n",
      "546:\tlearn: 1.0000000\ttotal: 1h 1m 52s\tremaining: 51m 14s\n",
      "547:\tlearn: 1.0000000\ttotal: 1h 1m 59s\tremaining: 51m 7s\n",
      "548:\tlearn: 1.0000000\ttotal: 1h 2m 6s\tremaining: 51m 1s\n",
      "549:\tlearn: 1.0000000\ttotal: 1h 2m 12s\tremaining: 50m 54s\n",
      "550:\tlearn: 1.0000000\ttotal: 1h 2m 19s\tremaining: 50m 47s\n",
      "551:\tlearn: 1.0000000\ttotal: 1h 2m 26s\tremaining: 50m 40s\n",
      "552:\tlearn: 1.0000000\ttotal: 1h 2m 32s\tremaining: 50m 33s\n",
      "553:\tlearn: 1.0000000\ttotal: 1h 2m 39s\tremaining: 50m 26s\n",
      "554:\tlearn: 1.0000000\ttotal: 1h 2m 46s\tremaining: 50m 19s\n",
      "555:\tlearn: 1.0000000\ttotal: 1h 2m 52s\tremaining: 50m 12s\n",
      "556:\tlearn: 1.0000000\ttotal: 1h 2m 59s\tremaining: 50m 5s\n",
      "557:\tlearn: 1.0000000\ttotal: 1h 3m 6s\tremaining: 49m 59s\n",
      "558:\tlearn: 1.0000000\ttotal: 1h 3m 12s\tremaining: 49m 52s\n",
      "559:\tlearn: 1.0000000\ttotal: 1h 3m 20s\tremaining: 49m 46s\n",
      "560:\tlearn: 1.0000000\ttotal: 1h 3m 27s\tremaining: 49m 39s\n",
      "561:\tlearn: 1.0000000\ttotal: 1h 3m 34s\tremaining: 49m 32s\n",
      "562:\tlearn: 1.0000000\ttotal: 1h 3m 40s\tremaining: 49m 25s\n",
      "563:\tlearn: 1.0000000\ttotal: 1h 3m 47s\tremaining: 49m 18s\n",
      "564:\tlearn: 1.0000000\ttotal: 1h 3m 53s\tremaining: 49m 11s\n",
      "565:\tlearn: 1.0000000\ttotal: 1h 4m\tremaining: 49m 4s\n",
      "566:\tlearn: 1.0000000\ttotal: 1h 4m 7s\tremaining: 48m 58s\n",
      "567:\tlearn: 1.0000000\ttotal: 1h 4m 13s\tremaining: 48m 51s\n",
      "568:\tlearn: 1.0000000\ttotal: 1h 4m 20s\tremaining: 48m 44s\n",
      "569:\tlearn: 1.0000000\ttotal: 1h 4m 27s\tremaining: 48m 37s\n",
      "570:\tlearn: 1.0000000\ttotal: 1h 4m 33s\tremaining: 48m 30s\n",
      "571:\tlearn: 1.0000000\ttotal: 1h 4m 40s\tremaining: 48m 23s\n",
      "572:\tlearn: 1.0000000\ttotal: 1h 4m 47s\tremaining: 48m 16s\n",
      "573:\tlearn: 1.0000000\ttotal: 1h 4m 53s\tremaining: 48m 9s\n",
      "574:\tlearn: 1.0000000\ttotal: 1h 5m\tremaining: 48m 2s\n",
      "575:\tlearn: 1.0000000\ttotal: 1h 5m 7s\tremaining: 47m 56s\n",
      "576:\tlearn: 1.0000000\ttotal: 1h 5m 13s\tremaining: 47m 49s\n",
      "577:\tlearn: 1.0000000\ttotal: 1h 5m 20s\tremaining: 47m 42s\n",
      "578:\tlearn: 1.0000000\ttotal: 1h 5m 27s\tremaining: 47m 35s\n",
      "579:\tlearn: 1.0000000\ttotal: 1h 5m 33s\tremaining: 47m 28s\n",
      "580:\tlearn: 1.0000000\ttotal: 1h 5m 40s\tremaining: 47m 21s\n",
      "581:\tlearn: 1.0000000\ttotal: 1h 5m 48s\tremaining: 47m 15s\n",
      "582:\tlearn: 1.0000000\ttotal: 1h 5m 54s\tremaining: 47m 8s\n",
      "583:\tlearn: 1.0000000\ttotal: 1h 6m 1s\tremaining: 47m 1s\n",
      "584:\tlearn: 1.0000000\ttotal: 1h 6m 8s\tremaining: 46m 54s\n",
      "585:\tlearn: 1.0000000\ttotal: 1h 6m 14s\tremaining: 46m 48s\n",
      "586:\tlearn: 1.0000000\ttotal: 1h 6m 21s\tremaining: 46m 41s\n",
      "587:\tlearn: 1.0000000\ttotal: 1h 6m 28s\tremaining: 46m 34s\n",
      "588:\tlearn: 1.0000000\ttotal: 1h 6m 34s\tremaining: 46m 27s\n",
      "589:\tlearn: 1.0000000\ttotal: 1h 6m 41s\tremaining: 46m 20s\n",
      "590:\tlearn: 1.0000000\ttotal: 1h 6m 47s\tremaining: 46m 13s\n",
      "591:\tlearn: 1.0000000\ttotal: 1h 6m 54s\tremaining: 46m 6s\n",
      "592:\tlearn: 1.0000000\ttotal: 1h 7m 1s\tremaining: 45m 59s\n",
      "593:\tlearn: 1.0000000\ttotal: 1h 7m 7s\tremaining: 45m 52s\n",
      "594:\tlearn: 1.0000000\ttotal: 1h 7m 14s\tremaining: 45m 46s\n",
      "595:\tlearn: 1.0000000\ttotal: 1h 7m 21s\tremaining: 45m 39s\n",
      "596:\tlearn: 1.0000000\ttotal: 1h 7m 27s\tremaining: 45m 32s\n",
      "597:\tlearn: 1.0000000\ttotal: 1h 7m 34s\tremaining: 45m 25s\n",
      "598:\tlearn: 1.0000000\ttotal: 1h 7m 40s\tremaining: 45m 18s\n",
      "599:\tlearn: 1.0000000\ttotal: 1h 7m 47s\tremaining: 45m 11s\n",
      "600:\tlearn: 1.0000000\ttotal: 1h 7m 54s\tremaining: 45m 4s\n",
      "601:\tlearn: 1.0000000\ttotal: 1h 8m\tremaining: 44m 57s\n",
      "602:\tlearn: 1.0000000\ttotal: 1h 8m 7s\tremaining: 44m 51s\n",
      "603:\tlearn: 1.0000000\ttotal: 1h 8m 15s\tremaining: 44m 45s\n",
      "604:\tlearn: 1.0000000\ttotal: 1h 8m 21s\tremaining: 44m 38s\n",
      "605:\tlearn: 1.0000000\ttotal: 1h 8m 28s\tremaining: 44m 31s\n",
      "606:\tlearn: 1.0000000\ttotal: 1h 8m 35s\tremaining: 44m 24s\n",
      "607:\tlearn: 1.0000000\ttotal: 1h 8m 42s\tremaining: 44m 17s\n",
      "608:\tlearn: 1.0000000\ttotal: 1h 8m 48s\tremaining: 44m 10s\n",
      "609:\tlearn: 1.0000000\ttotal: 1h 8m 55s\tremaining: 44m 3s\n",
      "610:\tlearn: 1.0000000\ttotal: 1h 9m 1s\tremaining: 43m 56s\n",
      "611:\tlearn: 1.0000000\ttotal: 1h 9m 8s\tremaining: 43m 50s\n",
      "612:\tlearn: 1.0000000\ttotal: 1h 9m 15s\tremaining: 43m 43s\n",
      "613:\tlearn: 1.0000000\ttotal: 1h 9m 21s\tremaining: 43m 36s\n",
      "614:\tlearn: 1.0000000\ttotal: 1h 9m 28s\tremaining: 43m 29s\n",
      "615:\tlearn: 1.0000000\ttotal: 1h 9m 35s\tremaining: 43m 22s\n",
      "616:\tlearn: 1.0000000\ttotal: 1h 9m 41s\tremaining: 43m 15s\n",
      "617:\tlearn: 1.0000000\ttotal: 1h 9m 48s\tremaining: 43m 8s\n",
      "618:\tlearn: 1.0000000\ttotal: 1h 9m 55s\tremaining: 43m 2s\n",
      "619:\tlearn: 1.0000000\ttotal: 1h 10m 1s\tremaining: 42m 55s\n",
      "620:\tlearn: 1.0000000\ttotal: 1h 10m 8s\tremaining: 42m 48s\n",
      "621:\tlearn: 1.0000000\ttotal: 1h 10m 15s\tremaining: 42m 41s\n",
      "622:\tlearn: 1.0000000\ttotal: 1h 10m 21s\tremaining: 42m 34s\n",
      "623:\tlearn: 1.0000000\ttotal: 1h 10m 28s\tremaining: 42m 27s\n",
      "624:\tlearn: 1.0000000\ttotal: 1h 10m 35s\tremaining: 42m 21s\n",
      "625:\tlearn: 1.0000000\ttotal: 1h 10m 43s\tremaining: 42m 15s\n",
      "626:\tlearn: 1.0000000\ttotal: 1h 10m 50s\tremaining: 42m 8s\n",
      "627:\tlearn: 1.0000000\ttotal: 1h 10m 56s\tremaining: 42m 1s\n",
      "628:\tlearn: 1.0000000\ttotal: 1h 11m 3s\tremaining: 41m 54s\n",
      "629:\tlearn: 1.0000000\ttotal: 1h 11m 10s\tremaining: 41m 47s\n",
      "630:\tlearn: 1.0000000\ttotal: 1h 11m 16s\tremaining: 41m 40s\n",
      "631:\tlearn: 1.0000000\ttotal: 1h 11m 23s\tremaining: 41m 34s\n",
      "632:\tlearn: 1.0000000\ttotal: 1h 11m 29s\tremaining: 41m 27s\n",
      "633:\tlearn: 1.0000000\ttotal: 1h 11m 36s\tremaining: 41m 20s\n",
      "634:\tlearn: 1.0000000\ttotal: 1h 11m 43s\tremaining: 41m 13s\n",
      "635:\tlearn: 1.0000000\ttotal: 1h 11m 49s\tremaining: 41m 6s\n",
      "636:\tlearn: 1.0000000\ttotal: 1h 11m 56s\tremaining: 40m 59s\n",
      "637:\tlearn: 1.0000000\ttotal: 1h 12m 3s\tremaining: 40m 52s\n",
      "638:\tlearn: 1.0000000\ttotal: 1h 12m 9s\tremaining: 40m 46s\n",
      "639:\tlearn: 1.0000000\ttotal: 1h 12m 16s\tremaining: 40m 39s\n",
      "640:\tlearn: 1.0000000\ttotal: 1h 12m 23s\tremaining: 40m 32s\n",
      "641:\tlearn: 1.0000000\ttotal: 1h 12m 29s\tremaining: 40m 25s\n",
      "642:\tlearn: 1.0000000\ttotal: 1h 12m 36s\tremaining: 40m 18s\n",
      "643:\tlearn: 1.0000000\ttotal: 1h 12m 43s\tremaining: 40m 11s\n",
      "644:\tlearn: 1.0000000\ttotal: 1h 12m 49s\tremaining: 40m 5s\n",
      "645:\tlearn: 1.0000000\ttotal: 1h 12m 56s\tremaining: 39m 58s\n",
      "646:\tlearn: 1.0000000\ttotal: 1h 13m 2s\tremaining: 39m 51s\n",
      "647:\tlearn: 1.0000000\ttotal: 1h 13m 10s\tremaining: 39m 45s\n",
      "648:\tlearn: 1.0000000\ttotal: 1h 13m 17s\tremaining: 39m 38s\n",
      "649:\tlearn: 1.0000000\ttotal: 1h 13m 23s\tremaining: 39m 31s\n",
      "650:\tlearn: 1.0000000\ttotal: 1h 13m 30s\tremaining: 39m 24s\n",
      "651:\tlearn: 1.0000000\ttotal: 1h 13m 37s\tremaining: 39m 17s\n",
      "652:\tlearn: 1.0000000\ttotal: 1h 13m 43s\tremaining: 39m 10s\n",
      "653:\tlearn: 1.0000000\ttotal: 1h 13m 50s\tremaining: 39m 3s\n",
      "654:\tlearn: 1.0000000\ttotal: 1h 13m 57s\tremaining: 38m 57s\n",
      "655:\tlearn: 1.0000000\ttotal: 1h 14m 3s\tremaining: 38m 50s\n",
      "656:\tlearn: 1.0000000\ttotal: 1h 14m 10s\tremaining: 38m 43s\n",
      "657:\tlearn: 1.0000000\ttotal: 1h 14m 16s\tremaining: 38m 36s\n",
      "658:\tlearn: 1.0000000\ttotal: 1h 14m 23s\tremaining: 38m 29s\n",
      "659:\tlearn: 1.0000000\ttotal: 1h 14m 30s\tremaining: 38m 22s\n",
      "660:\tlearn: 1.0000000\ttotal: 1h 14m 36s\tremaining: 38m 16s\n",
      "661:\tlearn: 1.0000000\ttotal: 1h 14m 43s\tremaining: 38m 9s\n",
      "662:\tlearn: 1.0000000\ttotal: 1h 14m 50s\tremaining: 38m 2s\n",
      "663:\tlearn: 1.0000000\ttotal: 1h 14m 57s\tremaining: 37m 55s\n",
      "664:\tlearn: 1.0000000\ttotal: 1h 15m 3s\tremaining: 37m 48s\n",
      "665:\tlearn: 1.0000000\ttotal: 1h 15m 10s\tremaining: 37m 41s\n",
      "666:\tlearn: 1.0000000\ttotal: 1h 15m 16s\tremaining: 37m 35s\n",
      "667:\tlearn: 1.0000000\ttotal: 1h 15m 23s\tremaining: 37m 28s\n",
      "668:\tlearn: 1.0000000\ttotal: 1h 15m 30s\tremaining: 37m 21s\n",
      "669:\tlearn: 1.0000000\ttotal: 1h 15m 38s\tremaining: 37m 15s\n",
      "670:\tlearn: 1.0000000\ttotal: 1h 15m 44s\tremaining: 37m 8s\n",
      "671:\tlearn: 1.0000000\ttotal: 1h 15m 51s\tremaining: 37m 1s\n",
      "672:\tlearn: 1.0000000\ttotal: 1h 15m 58s\tremaining: 36m 54s\n",
      "673:\tlearn: 1.0000000\ttotal: 1h 16m 4s\tremaining: 36m 47s\n",
      "674:\tlearn: 1.0000000\ttotal: 1h 16m 11s\tremaining: 36m 41s\n",
      "675:\tlearn: 1.0000000\ttotal: 1h 16m 18s\tremaining: 36m 34s\n",
      "676:\tlearn: 1.0000000\ttotal: 1h 16m 24s\tremaining: 36m 27s\n",
      "677:\tlearn: 1.0000000\ttotal: 1h 16m 31s\tremaining: 36m 20s\n",
      "678:\tlearn: 1.0000000\ttotal: 1h 16m 38s\tremaining: 36m 13s\n",
      "679:\tlearn: 1.0000000\ttotal: 1h 16m 44s\tremaining: 36m 6s\n",
      "680:\tlearn: 1.0000000\ttotal: 1h 16m 51s\tremaining: 36m\n",
      "681:\tlearn: 1.0000000\ttotal: 1h 16m 58s\tremaining: 35m 53s\n",
      "682:\tlearn: 1.0000000\ttotal: 1h 17m 4s\tremaining: 35m 46s\n",
      "683:\tlearn: 1.0000000\ttotal: 1h 17m 11s\tremaining: 35m 39s\n",
      "684:\tlearn: 1.0000000\ttotal: 1h 17m 18s\tremaining: 35m 32s\n",
      "685:\tlearn: 1.0000000\ttotal: 1h 17m 24s\tremaining: 35m 25s\n",
      "686:\tlearn: 1.0000000\ttotal: 1h 17m 31s\tremaining: 35m 19s\n",
      "687:\tlearn: 1.0000000\ttotal: 1h 17m 37s\tremaining: 35m 12s\n",
      "688:\tlearn: 1.0000000\ttotal: 1h 17m 44s\tremaining: 35m 5s\n",
      "689:\tlearn: 1.0000000\ttotal: 1h 17m 51s\tremaining: 34m 58s\n",
      "690:\tlearn: 1.0000000\ttotal: 1h 17m 57s\tremaining: 34m 51s\n",
      "691:\tlearn: 1.0000000\ttotal: 1h 18m 5s\tremaining: 34m 45s\n",
      "692:\tlearn: 1.0000000\ttotal: 1h 18m 12s\tremaining: 34m 38s\n",
      "693:\tlearn: 1.0000000\ttotal: 1h 18m 18s\tremaining: 34m 31s\n",
      "694:\tlearn: 1.0000000\ttotal: 1h 18m 25s\tremaining: 34m 25s\n",
      "695:\tlearn: 1.0000000\ttotal: 1h 18m 32s\tremaining: 34m 18s\n",
      "696:\tlearn: 1.0000000\ttotal: 1h 18m 39s\tremaining: 34m 11s\n",
      "697:\tlearn: 1.0000000\ttotal: 1h 18m 45s\tremaining: 34m 4s\n",
      "698:\tlearn: 1.0000000\ttotal: 1h 18m 52s\tremaining: 33m 57s\n",
      "699:\tlearn: 1.0000000\ttotal: 1h 18m 59s\tremaining: 33m 51s\n",
      "700:\tlearn: 1.0000000\ttotal: 1h 19m 5s\tremaining: 33m 44s\n",
      "701:\tlearn: 1.0000000\ttotal: 1h 19m 12s\tremaining: 33m 37s\n",
      "702:\tlearn: 1.0000000\ttotal: 1h 19m 18s\tremaining: 33m 30s\n",
      "703:\tlearn: 1.0000000\ttotal: 1h 19m 25s\tremaining: 33m 23s\n",
      "704:\tlearn: 1.0000000\ttotal: 1h 19m 32s\tremaining: 33m 16s\n",
      "705:\tlearn: 1.0000000\ttotal: 1h 19m 38s\tremaining: 33m 10s\n",
      "706:\tlearn: 1.0000000\ttotal: 1h 19m 45s\tremaining: 33m 3s\n",
      "707:\tlearn: 1.0000000\ttotal: 1h 19m 52s\tremaining: 32m 56s\n",
      "708:\tlearn: 1.0000000\ttotal: 1h 19m 58s\tremaining: 32m 49s\n",
      "709:\tlearn: 1.0000000\ttotal: 1h 20m 5s\tremaining: 32m 42s\n",
      "710:\tlearn: 1.0000000\ttotal: 1h 20m 12s\tremaining: 32m 35s\n",
      "711:\tlearn: 1.0000000\ttotal: 1h 20m 18s\tremaining: 32m 29s\n",
      "712:\tlearn: 1.0000000\ttotal: 1h 20m 25s\tremaining: 32m 22s\n",
      "713:\tlearn: 1.0000000\ttotal: 1h 20m 32s\tremaining: 32m 15s\n",
      "714:\tlearn: 1.0000000\ttotal: 1h 20m 40s\tremaining: 32m 9s\n",
      "715:\tlearn: 1.0000000\ttotal: 1h 20m 46s\tremaining: 32m 2s\n",
      "716:\tlearn: 1.0000000\ttotal: 1h 20m 53s\tremaining: 31m 55s\n",
      "717:\tlearn: 1.0000000\ttotal: 1h 21m\tremaining: 31m 48s\n",
      "718:\tlearn: 1.0000000\ttotal: 1h 21m 6s\tremaining: 31m 42s\n",
      "719:\tlearn: 1.0000000\ttotal: 1h 21m 13s\tremaining: 31m 35s\n",
      "720:\tlearn: 1.0000000\ttotal: 1h 21m 20s\tremaining: 31m 28s\n",
      "721:\tlearn: 1.0000000\ttotal: 1h 21m 26s\tremaining: 31m 21s\n",
      "722:\tlearn: 1.0000000\ttotal: 1h 21m 33s\tremaining: 31m 14s\n",
      "723:\tlearn: 1.0000000\ttotal: 1h 21m 39s\tremaining: 31m 7s\n",
      "724:\tlearn: 1.0000000\ttotal: 1h 21m 46s\tremaining: 31m 1s\n",
      "725:\tlearn: 1.0000000\ttotal: 1h 21m 53s\tremaining: 30m 54s\n",
      "726:\tlearn: 1.0000000\ttotal: 1h 21m 59s\tremaining: 30m 47s\n",
      "727:\tlearn: 1.0000000\ttotal: 1h 22m 6s\tremaining: 30m 40s\n",
      "728:\tlearn: 1.0000000\ttotal: 1h 22m 12s\tremaining: 30m 33s\n",
      "729:\tlearn: 1.0000000\ttotal: 1h 22m 19s\tremaining: 30m 26s\n",
      "730:\tlearn: 1.0000000\ttotal: 1h 22m 26s\tremaining: 30m 20s\n",
      "731:\tlearn: 1.0000000\ttotal: 1h 22m 32s\tremaining: 30m 13s\n",
      "732:\tlearn: 1.0000000\ttotal: 1h 22m 39s\tremaining: 30m 6s\n",
      "733:\tlearn: 1.0000000\ttotal: 1h 22m 46s\tremaining: 29m 59s\n",
      "734:\tlearn: 1.0000000\ttotal: 1h 22m 52s\tremaining: 29m 52s\n",
      "735:\tlearn: 1.0000000\ttotal: 1h 23m\tremaining: 29m 46s\n",
      "736:\tlearn: 1.0000000\ttotal: 1h 23m 7s\tremaining: 29m 39s\n",
      "737:\tlearn: 1.0000000\ttotal: 1h 23m 14s\tremaining: 29m 32s\n",
      "738:\tlearn: 1.0000000\ttotal: 1h 23m 20s\tremaining: 29m 26s\n",
      "739:\tlearn: 1.0000000\ttotal: 1h 23m 27s\tremaining: 29m 19s\n",
      "740:\tlearn: 1.0000000\ttotal: 1h 23m 33s\tremaining: 29m 12s\n",
      "741:\tlearn: 1.0000000\ttotal: 1h 23m 40s\tremaining: 29m 5s\n",
      "742:\tlearn: 1.0000000\ttotal: 1h 23m 47s\tremaining: 28m 58s\n",
      "743:\tlearn: 1.0000000\ttotal: 1h 23m 53s\tremaining: 28m 52s\n",
      "744:\tlearn: 1.0000000\ttotal: 1h 24m\tremaining: 28m 45s\n",
      "745:\tlearn: 1.0000000\ttotal: 1h 24m 7s\tremaining: 28m 38s\n",
      "746:\tlearn: 1.0000000\ttotal: 1h 24m 13s\tremaining: 28m 31s\n",
      "747:\tlearn: 1.0000000\ttotal: 1h 24m 20s\tremaining: 28m 24s\n",
      "748:\tlearn: 1.0000000\ttotal: 1h 24m 27s\tremaining: 28m 18s\n",
      "749:\tlearn: 1.0000000\ttotal: 1h 24m 33s\tremaining: 28m 11s\n",
      "750:\tlearn: 1.0000000\ttotal: 1h 24m 40s\tremaining: 28m 4s\n",
      "751:\tlearn: 1.0000000\ttotal: 1h 24m 47s\tremaining: 27m 57s\n",
      "752:\tlearn: 1.0000000\ttotal: 1h 24m 53s\tremaining: 27m 50s\n",
      "753:\tlearn: 1.0000000\ttotal: 1h 25m\tremaining: 27m 44s\n",
      "754:\tlearn: 1.0000000\ttotal: 1h 25m 7s\tremaining: 27m 37s\n",
      "755:\tlearn: 1.0000000\ttotal: 1h 25m 13s\tremaining: 27m 30s\n",
      "756:\tlearn: 1.0000000\ttotal: 1h 25m 20s\tremaining: 27m 23s\n",
      "757:\tlearn: 1.0000000\ttotal: 1h 25m 28s\tremaining: 27m 17s\n",
      "758:\tlearn: 1.0000000\ttotal: 1h 25m 34s\tremaining: 27m 10s\n",
      "759:\tlearn: 1.0000000\ttotal: 1h 25m 41s\tremaining: 27m 3s\n",
      "760:\tlearn: 1.0000000\ttotal: 1h 25m 48s\tremaining: 26m 56s\n",
      "761:\tlearn: 1.0000000\ttotal: 1h 25m 54s\tremaining: 26m 50s\n",
      "762:\tlearn: 1.0000000\ttotal: 1h 26m 1s\tremaining: 26m 43s\n",
      "763:\tlearn: 1.0000000\ttotal: 1h 26m 8s\tremaining: 26m 36s\n",
      "764:\tlearn: 1.0000000\ttotal: 1h 26m 15s\tremaining: 26m 29s\n",
      "765:\tlearn: 1.0000000\ttotal: 1h 26m 21s\tremaining: 26m 22s\n",
      "766:\tlearn: 1.0000000\ttotal: 1h 26m 28s\tremaining: 26m 16s\n",
      "767:\tlearn: 1.0000000\ttotal: 1h 26m 35s\tremaining: 26m 9s\n",
      "768:\tlearn: 1.0000000\ttotal: 1h 26m 41s\tremaining: 26m 2s\n",
      "769:\tlearn: 1.0000000\ttotal: 1h 26m 48s\tremaining: 25m 55s\n",
      "770:\tlearn: 1.0000000\ttotal: 1h 26m 55s\tremaining: 25m 49s\n",
      "771:\tlearn: 1.0000000\ttotal: 1h 27m 1s\tremaining: 25m 42s\n",
      "772:\tlearn: 1.0000000\ttotal: 1h 27m 8s\tremaining: 25m 35s\n",
      "773:\tlearn: 1.0000000\ttotal: 1h 27m 15s\tremaining: 25m 28s\n",
      "774:\tlearn: 1.0000000\ttotal: 1h 27m 21s\tremaining: 25m 21s\n",
      "775:\tlearn: 1.0000000\ttotal: 1h 27m 28s\tremaining: 25m 15s\n",
      "776:\tlearn: 1.0000000\ttotal: 1h 27m 35s\tremaining: 25m 8s\n",
      "777:\tlearn: 1.0000000\ttotal: 1h 27m 41s\tremaining: 25m 1s\n",
      "778:\tlearn: 1.0000000\ttotal: 1h 27m 48s\tremaining: 24m 54s\n",
      "779:\tlearn: 1.0000000\ttotal: 1h 27m 56s\tremaining: 24m 48s\n",
      "780:\tlearn: 1.0000000\ttotal: 1h 28m 2s\tremaining: 24m 41s\n",
      "781:\tlearn: 1.0000000\ttotal: 1h 28m 9s\tremaining: 24m 34s\n",
      "782:\tlearn: 1.0000000\ttotal: 1h 28m 16s\tremaining: 24m 27s\n",
      "783:\tlearn: 1.0000000\ttotal: 1h 28m 22s\tremaining: 24m 21s\n",
      "784:\tlearn: 1.0000000\ttotal: 1h 28m 29s\tremaining: 24m 14s\n",
      "785:\tlearn: 1.0000000\ttotal: 1h 28m 36s\tremaining: 24m 7s\n",
      "786:\tlearn: 1.0000000\ttotal: 1h 28m 42s\tremaining: 24m\n",
      "787:\tlearn: 1.0000000\ttotal: 1h 28m 49s\tremaining: 23m 53s\n",
      "788:\tlearn: 1.0000000\ttotal: 1h 28m 55s\tremaining: 23m 46s\n",
      "789:\tlearn: 1.0000000\ttotal: 1h 29m 2s\tremaining: 23m 40s\n",
      "790:\tlearn: 1.0000000\ttotal: 1h 29m 9s\tremaining: 23m 33s\n",
      "791:\tlearn: 1.0000000\ttotal: 1h 29m 15s\tremaining: 23m 26s\n",
      "792:\tlearn: 1.0000000\ttotal: 1h 29m 22s\tremaining: 23m 19s\n",
      "793:\tlearn: 1.0000000\ttotal: 1h 29m 29s\tremaining: 23m 12s\n",
      "794:\tlearn: 1.0000000\ttotal: 1h 29m 35s\tremaining: 23m 6s\n",
      "795:\tlearn: 1.0000000\ttotal: 1h 29m 42s\tremaining: 22m 59s\n",
      "796:\tlearn: 1.0000000\ttotal: 1h 29m 48s\tremaining: 22m 52s\n",
      "797:\tlearn: 1.0000000\ttotal: 1h 29m 55s\tremaining: 22m 45s\n",
      "798:\tlearn: 1.0000000\ttotal: 1h 30m 2s\tremaining: 22m 38s\n",
      "799:\tlearn: 1.0000000\ttotal: 1h 30m 8s\tremaining: 22m 32s\n",
      "800:\tlearn: 1.0000000\ttotal: 1h 30m 15s\tremaining: 22m 25s\n",
      "801:\tlearn: 1.0000000\ttotal: 1h 30m 23s\tremaining: 22m 18s\n",
      "802:\tlearn: 1.0000000\ttotal: 1h 30m 29s\tremaining: 22m 12s\n",
      "803:\tlearn: 1.0000000\ttotal: 1h 30m 36s\tremaining: 22m 5s\n",
      "804:\tlearn: 1.0000000\ttotal: 1h 30m 43s\tremaining: 21m 58s\n",
      "805:\tlearn: 1.0000000\ttotal: 1h 30m 50s\tremaining: 21m 51s\n",
      "806:\tlearn: 1.0000000\ttotal: 1h 30m 57s\tremaining: 21m 45s\n",
      "807:\tlearn: 1.0000000\ttotal: 1h 31m 3s\tremaining: 21m 38s\n",
      "808:\tlearn: 1.0000000\ttotal: 1h 31m 10s\tremaining: 21m 31s\n",
      "809:\tlearn: 1.0000000\ttotal: 1h 31m 17s\tremaining: 21m 24s\n",
      "810:\tlearn: 1.0000000\ttotal: 1h 31m 23s\tremaining: 21m 17s\n",
      "811:\tlearn: 1.0000000\ttotal: 1h 31m 30s\tremaining: 21m 11s\n",
      "812:\tlearn: 1.0000000\ttotal: 1h 31m 36s\tremaining: 21m 4s\n",
      "813:\tlearn: 1.0000000\ttotal: 1h 31m 43s\tremaining: 20m 57s\n",
      "814:\tlearn: 1.0000000\ttotal: 1h 31m 50s\tremaining: 20m 50s\n",
      "815:\tlearn: 1.0000000\ttotal: 1h 31m 56s\tremaining: 20m 44s\n",
      "816:\tlearn: 1.0000000\ttotal: 1h 32m 3s\tremaining: 20m 37s\n",
      "817:\tlearn: 1.0000000\ttotal: 1h 32m 10s\tremaining: 20m 30s\n",
      "818:\tlearn: 1.0000000\ttotal: 1h 32m 16s\tremaining: 20m 23s\n",
      "819:\tlearn: 1.0000000\ttotal: 1h 32m 23s\tremaining: 20m 16s\n",
      "820:\tlearn: 1.0000000\ttotal: 1h 32m 30s\tremaining: 20m 10s\n",
      "821:\tlearn: 1.0000000\ttotal: 1h 32m 36s\tremaining: 20m 3s\n",
      "822:\tlearn: 1.0000000\ttotal: 1h 32m 43s\tremaining: 19m 56s\n",
      "823:\tlearn: 1.0000000\ttotal: 1h 32m 51s\tremaining: 19m 49s\n",
      "824:\tlearn: 1.0000000\ttotal: 1h 32m 57s\tremaining: 19m 43s\n",
      "825:\tlearn: 1.0000000\ttotal: 1h 33m 4s\tremaining: 19m 36s\n",
      "826:\tlearn: 1.0000000\ttotal: 1h 33m 11s\tremaining: 19m 29s\n",
      "827:\tlearn: 1.0000000\ttotal: 1h 33m 17s\tremaining: 19m 22s\n",
      "828:\tlearn: 1.0000000\ttotal: 1h 33m 24s\tremaining: 19m 16s\n",
      "829:\tlearn: 1.0000000\ttotal: 1h 33m 31s\tremaining: 19m 9s\n",
      "830:\tlearn: 1.0000000\ttotal: 1h 33m 37s\tremaining: 19m 2s\n",
      "831:\tlearn: 1.0000000\ttotal: 1h 33m 44s\tremaining: 18m 55s\n",
      "832:\tlearn: 1.0000000\ttotal: 1h 33m 51s\tremaining: 18m 48s\n",
      "833:\tlearn: 1.0000000\ttotal: 1h 33m 57s\tremaining: 18m 42s\n",
      "834:\tlearn: 1.0000000\ttotal: 1h 34m 4s\tremaining: 18m 35s\n",
      "835:\tlearn: 1.0000000\ttotal: 1h 34m 11s\tremaining: 18m 28s\n",
      "836:\tlearn: 1.0000000\ttotal: 1h 34m 17s\tremaining: 18m 21s\n",
      "837:\tlearn: 1.0000000\ttotal: 1h 34m 24s\tremaining: 18m 15s\n",
      "838:\tlearn: 1.0000000\ttotal: 1h 34m 31s\tremaining: 18m 8s\n",
      "839:\tlearn: 1.0000000\ttotal: 1h 34m 38s\tremaining: 18m 1s\n",
      "840:\tlearn: 1.0000000\ttotal: 1h 34m 44s\tremaining: 17m 54s\n",
      "841:\tlearn: 1.0000000\ttotal: 1h 34m 51s\tremaining: 17m 47s\n",
      "842:\tlearn: 1.0000000\ttotal: 1h 34m 58s\tremaining: 17m 41s\n",
      "843:\tlearn: 1.0000000\ttotal: 1h 35m 4s\tremaining: 17m 34s\n",
      "844:\tlearn: 1.0000000\ttotal: 1h 35m 11s\tremaining: 17m 27s\n",
      "845:\tlearn: 1.0000000\ttotal: 1h 35m 19s\tremaining: 17m 21s\n",
      "846:\tlearn: 1.0000000\ttotal: 1h 35m 25s\tremaining: 17m 14s\n",
      "847:\tlearn: 1.0000000\ttotal: 1h 35m 32s\tremaining: 17m 7s\n",
      "848:\tlearn: 1.0000000\ttotal: 1h 35m 39s\tremaining: 17m\n",
      "849:\tlearn: 1.0000000\ttotal: 1h 35m 45s\tremaining: 16m 53s\n",
      "850:\tlearn: 1.0000000\ttotal: 1h 35m 52s\tremaining: 16m 47s\n",
      "851:\tlearn: 1.0000000\ttotal: 1h 35m 59s\tremaining: 16m 40s\n",
      "852:\tlearn: 1.0000000\ttotal: 1h 36m 5s\tremaining: 16m 33s\n",
      "853:\tlearn: 1.0000000\ttotal: 1h 36m 12s\tremaining: 16m 26s\n",
      "854:\tlearn: 1.0000000\ttotal: 1h 36m 18s\tremaining: 16m 20s\n",
      "855:\tlearn: 1.0000000\ttotal: 1h 36m 25s\tremaining: 16m 13s\n",
      "856:\tlearn: 1.0000000\ttotal: 1h 36m 32s\tremaining: 16m 6s\n",
      "857:\tlearn: 1.0000000\ttotal: 1h 36m 38s\tremaining: 15m 59s\n",
      "858:\tlearn: 1.0000000\ttotal: 1h 36m 45s\tremaining: 15m 52s\n",
      "859:\tlearn: 1.0000000\ttotal: 1h 36m 51s\tremaining: 15m 46s\n",
      "860:\tlearn: 1.0000000\ttotal: 1h 36m 58s\tremaining: 15m 39s\n",
      "861:\tlearn: 1.0000000\ttotal: 1h 37m 5s\tremaining: 15m 32s\n",
      "862:\tlearn: 1.0000000\ttotal: 1h 37m 11s\tremaining: 15m 25s\n",
      "863:\tlearn: 1.0000000\ttotal: 1h 37m 18s\tremaining: 15m 19s\n",
      "864:\tlearn: 1.0000000\ttotal: 1h 37m 25s\tremaining: 15m 12s\n",
      "865:\tlearn: 1.0000000\ttotal: 1h 37m 31s\tremaining: 15m 5s\n",
      "866:\tlearn: 1.0000000\ttotal: 1h 37m 39s\tremaining: 14m 58s\n",
      "867:\tlearn: 1.0000000\ttotal: 1h 37m 46s\tremaining: 14m 52s\n",
      "868:\tlearn: 1.0000000\ttotal: 1h 37m 52s\tremaining: 14m 45s\n",
      "869:\tlearn: 1.0000000\ttotal: 1h 37m 59s\tremaining: 14m 38s\n",
      "870:\tlearn: 1.0000000\ttotal: 1h 38m 6s\tremaining: 14m 31s\n",
      "871:\tlearn: 1.0000000\ttotal: 1h 38m 12s\tremaining: 14m 25s\n",
      "872:\tlearn: 1.0000000\ttotal: 1h 38m 19s\tremaining: 14m 18s\n",
      "873:\tlearn: 1.0000000\ttotal: 1h 38m 26s\tremaining: 14m 11s\n",
      "874:\tlearn: 1.0000000\ttotal: 1h 38m 32s\tremaining: 14m 4s\n",
      "875:\tlearn: 1.0000000\ttotal: 1h 38m 39s\tremaining: 13m 57s\n",
      "876:\tlearn: 1.0000000\ttotal: 1h 38m 46s\tremaining: 13m 51s\n",
      "877:\tlearn: 1.0000000\ttotal: 1h 38m 52s\tremaining: 13m 44s\n",
      "878:\tlearn: 1.0000000\ttotal: 1h 38m 59s\tremaining: 13m 37s\n",
      "879:\tlearn: 1.0000000\ttotal: 1h 39m 6s\tremaining: 13m 30s\n",
      "880:\tlearn: 1.0000000\ttotal: 1h 39m 12s\tremaining: 13m 24s\n",
      "881:\tlearn: 1.0000000\ttotal: 1h 39m 19s\tremaining: 13m 17s\n",
      "882:\tlearn: 1.0000000\ttotal: 1h 39m 26s\tremaining: 13m 10s\n",
      "883:\tlearn: 1.0000000\ttotal: 1h 39m 32s\tremaining: 13m 3s\n",
      "884:\tlearn: 1.0000000\ttotal: 1h 39m 39s\tremaining: 12m 57s\n",
      "885:\tlearn: 1.0000000\ttotal: 1h 39m 46s\tremaining: 12m 50s\n",
      "886:\tlearn: 1.0000000\ttotal: 1h 39m 52s\tremaining: 12m 43s\n",
      "887:\tlearn: 1.0000000\ttotal: 1h 39m 59s\tremaining: 12m 36s\n",
      "888:\tlearn: 1.0000000\ttotal: 1h 40m 7s\tremaining: 12m 30s\n",
      "889:\tlearn: 1.0000000\ttotal: 1h 40m 13s\tremaining: 12m 23s\n",
      "890:\tlearn: 1.0000000\ttotal: 1h 40m 20s\tremaining: 12m 16s\n",
      "891:\tlearn: 1.0000000\ttotal: 1h 40m 27s\tremaining: 12m 9s\n",
      "892:\tlearn: 1.0000000\ttotal: 1h 40m 33s\tremaining: 12m 2s\n",
      "893:\tlearn: 1.0000000\ttotal: 1h 40m 40s\tremaining: 11m 56s\n",
      "894:\tlearn: 1.0000000\ttotal: 1h 40m 47s\tremaining: 11m 49s\n",
      "895:\tlearn: 1.0000000\ttotal: 1h 40m 54s\tremaining: 11m 42s\n",
      "896:\tlearn: 1.0000000\ttotal: 1h 41m 1s\tremaining: 11m 35s\n",
      "897:\tlearn: 1.0000000\ttotal: 1h 41m 7s\tremaining: 11m 29s\n",
      "898:\tlearn: 1.0000000\ttotal: 1h 41m 14s\tremaining: 11m 22s\n",
      "899:\tlearn: 1.0000000\ttotal: 1h 41m 20s\tremaining: 11m 15s\n",
      "900:\tlearn: 1.0000000\ttotal: 1h 41m 27s\tremaining: 11m 8s\n",
      "901:\tlearn: 1.0000000\ttotal: 1h 41m 34s\tremaining: 11m 2s\n",
      "902:\tlearn: 1.0000000\ttotal: 1h 41m 40s\tremaining: 10m 55s\n",
      "903:\tlearn: 1.0000000\ttotal: 1h 41m 47s\tremaining: 10m 48s\n",
      "904:\tlearn: 1.0000000\ttotal: 1h 41m 54s\tremaining: 10m 41s\n",
      "905:\tlearn: 1.0000000\ttotal: 1h 42m\tremaining: 10m 35s\n",
      "906:\tlearn: 1.0000000\ttotal: 1h 42m 7s\tremaining: 10m 28s\n",
      "907:\tlearn: 1.0000000\ttotal: 1h 42m 13s\tremaining: 10m 21s\n",
      "908:\tlearn: 1.0000000\ttotal: 1h 42m 20s\tremaining: 10m 14s\n",
      "909:\tlearn: 1.0000000\ttotal: 1h 42m 27s\tremaining: 10m 7s\n",
      "910:\tlearn: 1.0000000\ttotal: 1h 42m 35s\tremaining: 10m 1s\n",
      "911:\tlearn: 1.0000000\ttotal: 1h 42m 41s\tremaining: 9m 54s\n",
      "912:\tlearn: 1.0000000\ttotal: 1h 42m 48s\tremaining: 9m 47s\n",
      "913:\tlearn: 1.0000000\ttotal: 1h 42m 55s\tremaining: 9m 41s\n",
      "914:\tlearn: 1.0000000\ttotal: 1h 43m 2s\tremaining: 9m 34s\n",
      "915:\tlearn: 1.0000000\ttotal: 1h 43m 8s\tremaining: 9m 27s\n",
      "916:\tlearn: 1.0000000\ttotal: 1h 43m 15s\tremaining: 9m 20s\n",
      "917:\tlearn: 1.0000000\ttotal: 1h 43m 21s\tremaining: 9m 13s\n",
      "918:\tlearn: 1.0000000\ttotal: 1h 43m 28s\tremaining: 9m 7s\n",
      "919:\tlearn: 1.0000000\ttotal: 1h 43m 35s\tremaining: 9m\n",
      "920:\tlearn: 1.0000000\ttotal: 1h 43m 41s\tremaining: 8m 53s\n",
      "921:\tlearn: 1.0000000\ttotal: 1h 43m 48s\tremaining: 8m 46s\n",
      "922:\tlearn: 1.0000000\ttotal: 1h 43m 55s\tremaining: 8m 40s\n",
      "923:\tlearn: 1.0000000\ttotal: 1h 44m 2s\tremaining: 8m 33s\n",
      "924:\tlearn: 1.0000000\ttotal: 1h 44m 8s\tremaining: 8m 26s\n",
      "925:\tlearn: 1.0000000\ttotal: 1h 44m 15s\tremaining: 8m 19s\n",
      "926:\tlearn: 1.0000000\ttotal: 1h 44m 22s\tremaining: 8m 13s\n",
      "927:\tlearn: 1.0000000\ttotal: 1h 44m 29s\tremaining: 8m 6s\n",
      "928:\tlearn: 1.0000000\ttotal: 1h 44m 35s\tremaining: 7m 59s\n",
      "929:\tlearn: 1.0000000\ttotal: 1h 44m 42s\tremaining: 7m 52s\n",
      "930:\tlearn: 1.0000000\ttotal: 1h 44m 48s\tremaining: 7m 46s\n",
      "931:\tlearn: 1.0000000\ttotal: 1h 44m 56s\tremaining: 7m 39s\n",
      "932:\tlearn: 1.0000000\ttotal: 1h 45m 3s\tremaining: 7m 32s\n",
      "933:\tlearn: 1.0000000\ttotal: 1h 45m 10s\tremaining: 7m 25s\n",
      "934:\tlearn: 1.0000000\ttotal: 1h 45m 16s\tremaining: 7m 19s\n",
      "935:\tlearn: 1.0000000\ttotal: 1h 45m 23s\tremaining: 7m 12s\n",
      "936:\tlearn: 1.0000000\ttotal: 1h 45m 30s\tremaining: 7m 5s\n",
      "937:\tlearn: 1.0000000\ttotal: 1h 45m 36s\tremaining: 6m 58s\n",
      "938:\tlearn: 1.0000000\ttotal: 1h 45m 43s\tremaining: 6m 52s\n",
      "939:\tlearn: 1.0000000\ttotal: 1h 45m 50s\tremaining: 6m 45s\n",
      "940:\tlearn: 1.0000000\ttotal: 1h 45m 56s\tremaining: 6m 38s\n",
      "941:\tlearn: 1.0000000\ttotal: 1h 46m 3s\tremaining: 6m 31s\n",
      "942:\tlearn: 1.0000000\ttotal: 1h 46m 10s\tremaining: 6m 25s\n",
      "943:\tlearn: 1.0000000\ttotal: 1h 46m 16s\tremaining: 6m 18s\n",
      "944:\tlearn: 1.0000000\ttotal: 1h 46m 23s\tremaining: 6m 11s\n",
      "945:\tlearn: 1.0000000\ttotal: 1h 46m 30s\tremaining: 6m 4s\n",
      "946:\tlearn: 1.0000000\ttotal: 1h 46m 36s\tremaining: 5m 58s\n",
      "947:\tlearn: 1.0000000\ttotal: 1h 46m 43s\tremaining: 5m 51s\n",
      "948:\tlearn: 1.0000000\ttotal: 1h 46m 50s\tremaining: 5m 44s\n",
      "949:\tlearn: 1.0000000\ttotal: 1h 46m 56s\tremaining: 5m 37s\n",
      "950:\tlearn: 1.0000000\ttotal: 1h 47m 3s\tremaining: 5m 30s\n",
      "951:\tlearn: 1.0000000\ttotal: 1h 47m 10s\tremaining: 5m 24s\n",
      "952:\tlearn: 1.0000000\ttotal: 1h 47m 17s\tremaining: 5m 17s\n",
      "953:\tlearn: 1.0000000\ttotal: 1h 47m 25s\tremaining: 5m 10s\n",
      "954:\tlearn: 1.0000000\ttotal: 1h 47m 31s\tremaining: 5m 4s\n",
      "955:\tlearn: 1.0000000\ttotal: 1h 47m 38s\tremaining: 4m 57s\n",
      "956:\tlearn: 1.0000000\ttotal: 1h 47m 45s\tremaining: 4m 50s\n",
      "957:\tlearn: 1.0000000\ttotal: 1h 47m 51s\tremaining: 4m 43s\n",
      "958:\tlearn: 1.0000000\ttotal: 1h 47m 58s\tremaining: 4m 36s\n",
      "959:\tlearn: 1.0000000\ttotal: 1h 48m 5s\tremaining: 4m 30s\n",
      "960:\tlearn: 1.0000000\ttotal: 1h 48m 12s\tremaining: 4m 23s\n",
      "961:\tlearn: 1.0000000\ttotal: 1h 48m 18s\tremaining: 4m 16s\n",
      "962:\tlearn: 1.0000000\ttotal: 1h 48m 25s\tremaining: 4m 9s\n",
      "963:\tlearn: 1.0000000\ttotal: 1h 48m 32s\tremaining: 4m 3s\n",
      "964:\tlearn: 1.0000000\ttotal: 1h 48m 38s\tremaining: 3m 56s\n",
      "965:\tlearn: 1.0000000\ttotal: 1h 48m 45s\tremaining: 3m 49s\n",
      "966:\tlearn: 1.0000000\ttotal: 1h 48m 52s\tremaining: 3m 42s\n",
      "967:\tlearn: 1.0000000\ttotal: 1h 48m 59s\tremaining: 3m 36s\n",
      "968:\tlearn: 1.0000000\ttotal: 1h 49m 5s\tremaining: 3m 29s\n",
      "969:\tlearn: 1.0000000\ttotal: 1h 49m 12s\tremaining: 3m 22s\n",
      "970:\tlearn: 1.0000000\ttotal: 1h 49m 19s\tremaining: 3m 15s\n",
      "971:\tlearn: 1.0000000\ttotal: 1h 49m 25s\tremaining: 3m 9s\n",
      "972:\tlearn: 1.0000000\ttotal: 1h 49m 32s\tremaining: 3m 2s\n",
      "973:\tlearn: 1.0000000\ttotal: 1h 49m 39s\tremaining: 2m 55s\n",
      "974:\tlearn: 1.0000000\ttotal: 1h 49m 47s\tremaining: 2m 48s\n",
      "975:\tlearn: 1.0000000\ttotal: 1h 49m 53s\tremaining: 2m 42s\n",
      "976:\tlearn: 1.0000000\ttotal: 1h 50m\tremaining: 2m 35s\n",
      "977:\tlearn: 1.0000000\ttotal: 1h 50m 7s\tremaining: 2m 28s\n",
      "978:\tlearn: 1.0000000\ttotal: 1h 50m 13s\tremaining: 2m 21s\n",
      "979:\tlearn: 1.0000000\ttotal: 1h 50m 20s\tremaining: 2m 15s\n",
      "980:\tlearn: 1.0000000\ttotal: 1h 50m 27s\tremaining: 2m 8s\n",
      "981:\tlearn: 1.0000000\ttotal: 1h 50m 33s\tremaining: 2m 1s\n",
      "982:\tlearn: 1.0000000\ttotal: 1h 50m 40s\tremaining: 1m 54s\n",
      "983:\tlearn: 1.0000000\ttotal: 1h 50m 47s\tremaining: 1m 48s\n",
      "984:\tlearn: 1.0000000\ttotal: 1h 50m 54s\tremaining: 1m 41s\n",
      "985:\tlearn: 1.0000000\ttotal: 1h 51m 1s\tremaining: 1m 34s\n",
      "986:\tlearn: 1.0000000\ttotal: 1h 51m 8s\tremaining: 1m 27s\n",
      "987:\tlearn: 1.0000000\ttotal: 1h 51m 14s\tremaining: 1m 21s\n",
      "988:\tlearn: 1.0000000\ttotal: 1h 51m 21s\tremaining: 1m 14s\n",
      "989:\tlearn: 1.0000000\ttotal: 1h 51m 28s\tremaining: 1m 7s\n",
      "990:\tlearn: 1.0000000\ttotal: 1h 51m 35s\tremaining: 1m\n",
      "991:\tlearn: 1.0000000\ttotal: 1h 51m 41s\tremaining: 54s\n",
      "992:\tlearn: 1.0000000\ttotal: 1h 51m 48s\tremaining: 47.3s\n",
      "993:\tlearn: 1.0000000\ttotal: 1h 51m 55s\tremaining: 40.5s\n",
      "994:\tlearn: 1.0000000\ttotal: 1h 52m 2s\tremaining: 33.8s\n",
      "995:\tlearn: 1.0000000\ttotal: 1h 52m 10s\tremaining: 27s\n",
      "996:\tlearn: 1.0000000\ttotal: 1h 52m 16s\tremaining: 20.3s\n",
      "997:\tlearn: 1.0000000\ttotal: 1h 52m 23s\tremaining: 13.5s\n",
      "998:\tlearn: 1.0000000\ttotal: 1h 52m 30s\tremaining: 6.76s\n",
      "999:\tlearn: 1.0000000\ttotal: 1h 52m 37s\tremaining: 0us\n"
     ]
    }
   ],
   "source": [
    "\n",
    "#torch.cuda.empty_cache()\n",
    "gc.collect()\n",
    "model = CatBoostClassifier(eval_metric='F1', task_type='CPU', save_snapshot=True, snapshot_file=snapsht_CB_path)\n",
    "\n",
    "\n",
    "# grid = {'learning_rate': [0.03, 0.1],\n",
    "#         'depth': [4, 10],\n",
    "#         'l2_leaf_reg': [1, 9]}\n",
    "\n",
    "# randomized_search_result = model.randomized_search(grid,\n",
    "#                                                    features_train,\n",
    "#                                                    target_train,\n",
    "#                                                    plot=True)\n",
    "model_CB_best = model.fit(features_train, target_train)\n",
    "#model_CB_best = randomized_search_result.best_estimator_\n",
    "#model_CB_best.fit(features_train, target_train)"
   ]
  },
  {
   "cell_type": "code",
   "execution_count": 23,
   "metadata": {
    "colab": {
     "base_uri": "https://localhost:8080/"
    },
    "executionInfo": {
     "elapsed": 486,
     "status": "ok",
     "timestamp": 1661457926884,
     "user": {
      "displayName": "Артём Консул",
      "userId": "04615563729073930582"
     },
     "user_tz": -180
    },
    "id": "krfAO6QWXa0f",
    "outputId": "f2b14841-a2c4-4439-e80d-a54be61c8f3e",
    "scrolled": true
   },
   "outputs": [
    {
     "name": "stdout",
     "output_type": "stream",
     "text": [
      "Наилучший показатель f1 на кросс-валидации : {'learn': {'Logloss': 0.0018953853472988506, 'F1': 1.0}}\n"
     ]
    }
   ],
   "source": [
    "#print(model_CB_best.best_score_)\n",
    "predicted = model_CB_best.predict(features_test)\n",
    "\n",
    "print(f\"Наилучший показатель f1 на кросс-валидации : {model_CB_best.get_best_score()}\")\n",
    "#print(f\"Параметр регуляризации для лучшей модели: {model_CB_best.best_params_}\")\n",
    "# scores_CB = cross_val_score(model_CB_best, features_train, target_train, scoring='f1', cv=5)\n",
    "# print(f'Параметры лучшей модели CatBoostClassifier по метрике F1: {abs(scores_CB.mean())}')"
   ]
  },
  {
   "cell_type": "code",
   "execution_count": 24,
   "metadata": {
    "colab": {
     "base_uri": "https://localhost:8080/"
    },
    "executionInfo": {
     "elapsed": 2897,
     "status": "ok",
     "timestamp": 1661458031640,
     "user": {
      "displayName": "Артём Консул",
      "userId": "04615563729073930582"
     },
     "user_tz": -180
    },
    "id": "YSa0pAwlXa0f",
    "outputId": "ca2a812e-aed7-4a9f-b212-50b0abce59d4"
   },
   "outputs": [
    {
     "name": "stdout",
     "output_type": "stream",
     "text": [
      "Наилучший показатель f1 на кросс-валидации тестовой выборке: 0.8648648648648648\n"
     ]
    }
   ],
   "source": [
    "predicted = model_CB_best.predict(features_test)\n",
    "score = f1_score(target_test, predicted)\n",
    "print(f\"Наилучший показатель f1 на кросс-валидации тестовой выборке: {score}\")"
   ]
  },
  {
   "cell_type": "markdown",
   "metadata": {
    "id": "9BIUjpHKXa0g"
   },
   "source": [
    "## Выводы"
   ]
  },
  {
   "cell_type": "markdown",
   "metadata": {
    "id": "QJp8uCQKXa0g"
   },
   "source": [
    "В целях расширить опыт, в данном проекте импользовали нейронную модель лематизации, токенизации и эмбендинга - BERT. Она весьма упрощает этот процесс и по уверениям разработчиков делает это качественнее иных инструментов и способов. В связи с этим мы не стали готовить данные, проходя указанные отдельные этапы, а пропустили данные через алгоритм токенизации и эмбендинга и приступили к обучению и тестированию моделей кросс-валидацией. В качестве основной модели предсказаний использовали CatBoostClassifier, которая показала себя с наилучшей стороны по показателю метрик и времени обучения, чем обязана технологии градиентного бустинга, лежащей в её основе. "
   ]
  },
  {
   "cell_type": "markdown",
   "metadata": {
    "id": "2WbaNxVmXa0g"
   },
   "source": [
    "## Чек-лист проверки"
   ]
  },
  {
   "cell_type": "markdown",
   "metadata": {
    "id": "fEDJd4k_Xa0g"
   },
   "source": [
    "- [x]  Jupyter Notebook открыт\n",
    "- [x]  Весь код выполняется без ошибок\n",
    "- [x]  Ячейки с кодом расположены в порядке исполнения\n",
    "- [x]  Данные загружены и подготовлены\n",
    "- [x]  Модели обучены\n",
    "- [X]  Значение метрики *F1* не меньше 0.75\n",
    "- [X]  Выводы написаны"
   ]
  }
 ],
 "metadata": {
  "ExecuteTimeLog": [
   {
    "duration": 1957,
    "start_time": "2022-08-17T21:28:19.940Z"
   },
   {
    "duration": 4408,
    "start_time": "2022-08-17T21:28:21.905Z"
   },
   {
    "duration": 1201,
    "start_time": "2022-08-17T21:28:56.409Z"
   },
   {
    "duration": 94635,
    "start_time": "2022-08-18T13:15:20.329Z"
   },
   {
    "duration": 0,
    "start_time": "2022-08-18T13:16:54.965Z"
   },
   {
    "duration": 19,
    "start_time": "2022-08-18T13:25:23.536Z"
   },
   {
    "duration": 18,
    "start_time": "2022-08-18T13:25:39.581Z"
   },
   {
    "duration": 513,
    "start_time": "2022-08-18T13:26:01.904Z"
   },
   {
    "duration": 1393,
    "start_time": "2022-08-18T13:26:06.056Z"
   },
   {
    "duration": 2352,
    "start_time": "2022-08-18T13:26:26.121Z"
   },
   {
    "duration": 873,
    "start_time": "2022-08-18T13:31:27.241Z"
   },
   {
    "duration": 797,
    "start_time": "2022-08-18T13:32:07.915Z"
   },
   {
    "duration": 2134,
    "start_time": "2022-08-18T13:32:22.378Z"
   },
   {
    "duration": 63,
    "start_time": "2022-08-18T13:34:17.921Z"
   },
   {
    "duration": 49,
    "start_time": "2022-08-18T13:34:57.576Z"
   },
   {
    "duration": 41,
    "start_time": "2022-08-18T13:35:13.408Z"
   },
   {
    "duration": 678,
    "start_time": "2022-08-18T13:36:47.118Z"
   },
   {
    "duration": 50,
    "start_time": "2022-08-18T13:38:18.214Z"
   },
   {
    "duration": 709,
    "start_time": "2022-08-18T13:38:53.020Z"
   },
   {
    "duration": 753,
    "start_time": "2022-08-18T13:39:09.852Z"
   },
   {
    "duration": 684,
    "start_time": "2022-08-18T13:39:47.685Z"
   },
   {
    "duration": 736,
    "start_time": "2022-08-18T13:40:34.171Z"
   },
   {
    "duration": 730,
    "start_time": "2022-08-18T13:40:46.900Z"
   },
   {
    "duration": 730,
    "start_time": "2022-08-18T13:41:20.411Z"
   },
   {
    "duration": 760,
    "start_time": "2022-08-18T13:41:56.562Z"
   },
   {
    "duration": 225,
    "start_time": "2022-08-18T13:42:04.680Z"
   },
   {
    "duration": 39,
    "start_time": "2022-08-18T13:42:04.907Z"
   },
   {
    "duration": 949,
    "start_time": "2022-08-18T13:42:04.948Z"
   },
   {
    "duration": 10,
    "start_time": "2022-08-18T13:42:05.898Z"
   },
   {
    "duration": 784,
    "start_time": "2022-08-18T13:42:05.910Z"
   },
   {
    "duration": 756,
    "start_time": "2022-08-18T13:42:13.770Z"
   },
   {
    "duration": 53,
    "start_time": "2022-08-18T13:42:54.737Z"
   },
   {
    "duration": 6,
    "start_time": "2022-08-18T13:42:54.792Z"
   },
   {
    "duration": 943,
    "start_time": "2022-08-18T13:42:54.799Z"
   },
   {
    "duration": 21,
    "start_time": "2022-08-18T13:42:55.744Z"
   },
   {
    "duration": 770,
    "start_time": "2022-08-18T13:42:58.905Z"
   },
   {
    "duration": 762,
    "start_time": "2022-08-18T13:43:16.593Z"
   },
   {
    "duration": 697,
    "start_time": "2022-08-18T13:56:59.702Z"
   },
   {
    "duration": 766,
    "start_time": "2022-08-18T13:57:10.845Z"
   },
   {
    "duration": 784,
    "start_time": "2022-08-18T13:57:29.541Z"
   },
   {
    "duration": 729,
    "start_time": "2022-08-18T13:57:43.533Z"
   },
   {
    "duration": 2667,
    "start_time": "2022-08-18T13:57:51.477Z"
   },
   {
    "duration": 58,
    "start_time": "2022-08-18T13:59:10.115Z"
   },
   {
    "duration": 177723,
    "start_time": "2022-08-18T13:59:16.171Z"
   },
   {
    "duration": 230,
    "start_time": "2022-08-18T14:02:13.896Z"
   },
   {
    "duration": 832,
    "start_time": "2022-08-18T14:02:14.129Z"
   },
   {
    "duration": 10,
    "start_time": "2022-08-18T14:02:14.966Z"
   },
   {
    "duration": 401,
    "start_time": "2022-08-18T14:02:14.978Z"
   },
   {
    "duration": 68,
    "start_time": "2022-08-18T14:18:48.079Z"
   },
   {
    "duration": 60,
    "start_time": "2022-08-19T07:14:47.133Z"
   },
   {
    "duration": 2210,
    "start_time": "2022-08-26T22:04:59.807Z"
   },
   {
    "duration": 49,
    "start_time": "2022-08-26T22:05:04.932Z"
   },
   {
    "duration": 85340,
    "start_time": "2022-08-26T22:06:20.838Z"
   },
   {
    "duration": 2530,
    "start_time": "2022-08-26T22:08:38.601Z"
   },
   {
    "duration": 28,
    "start_time": "2022-08-26T22:21:44.154Z"
   },
   {
    "duration": 50,
    "start_time": "2022-08-27T15:16:35.447Z"
   }
  ],
  "accelerator": "GPU",
  "colab": {
   "collapsed_sections": [
    "2WbaNxVmXa0g"
   ],
   "name": "Интернет-магазин3 (3).ipynb",
   "provenance": [
    {
     "file_id": "1CexCRd-reyEP798tDt8rV47CkD90Rs6z",
     "timestamp": 1661458780678
    }
   ]
  },
  "gpuClass": "standard",
  "kernelspec": {
   "display_name": "Python 3 (ipykernel)",
   "language": "python",
   "name": "python3"
  },
  "language_info": {
   "codemirror_mode": {
    "name": "ipython",
    "version": 3
   },
   "file_extension": ".py",
   "mimetype": "text/x-python",
   "name": "python",
   "nbconvert_exporter": "python",
   "pygments_lexer": "ipython3",
   "version": "3.9.7"
  },
  "toc": {
   "base_numbering": 1,
   "nav_menu": {},
   "number_sections": true,
   "sideBar": true,
   "skip_h1_title": true,
   "title_cell": "Содержание",
   "title_sidebar": "Contents",
   "toc_cell": true,
   "toc_position": {
    "height": "calc(100% - 180px)",
    "left": "10px",
    "top": "150px",
    "width": "302.391px"
   },
   "toc_section_display": true,
   "toc_window_display": false
  },
  "widgets": {
   "application/vnd.jupyter.widget-state+json": {
    "1ef47c5956b344fcb88b4f6d1887e73c": {
     "model_module": "@jupyter-widgets/base",
     "model_module_version": "1.2.0",
     "model_name": "LayoutModel",
     "state": {
      "_model_module": "@jupyter-widgets/base",
      "_model_module_version": "1.2.0",
      "_model_name": "LayoutModel",
      "_view_count": null,
      "_view_module": "@jupyter-widgets/base",
      "_view_module_version": "1.2.0",
      "_view_name": "LayoutView",
      "align_content": null,
      "align_items": null,
      "align_self": null,
      "border": null,
      "bottom": null,
      "display": null,
      "flex": null,
      "flex_flow": null,
      "grid_area": null,
      "grid_auto_columns": null,
      "grid_auto_flow": null,
      "grid_auto_rows": null,
      "grid_column": null,
      "grid_gap": null,
      "grid_row": null,
      "grid_template_areas": null,
      "grid_template_columns": null,
      "grid_template_rows": null,
      "height": null,
      "justify_content": null,
      "justify_items": null,
      "left": null,
      "margin": null,
      "max_height": null,
      "max_width": null,
      "min_height": null,
      "min_width": null,
      "object_fit": null,
      "object_position": null,
      "order": null,
      "overflow": null,
      "overflow_x": null,
      "overflow_y": null,
      "padding": null,
      "right": null,
      "top": null,
      "visibility": null,
      "width": null
     }
    },
    "26249fcf9f624294b0fd165f7008a789": {
     "model_module": "@jupyter-widgets/controls",
     "model_module_version": "1.5.0",
     "model_name": "FloatProgressModel",
     "state": {
      "_dom_classes": [],
      "_model_module": "@jupyter-widgets/controls",
      "_model_module_version": "1.5.0",
      "_model_name": "FloatProgressModel",
      "_view_count": null,
      "_view_module": "@jupyter-widgets/controls",
      "_view_module_version": "1.5.0",
      "_view_name": "ProgressView",
      "bar_style": "success",
      "description": "",
      "description_tooltip": null,
      "layout": "IPY_MODEL_1ef47c5956b344fcb88b4f6d1887e73c",
      "max": 798,
      "min": 0,
      "orientation": "horizontal",
      "style": "IPY_MODEL_32b3cde8419c43b791f523e1937ebd17",
      "value": 798
     }
    },
    "32b3cde8419c43b791f523e1937ebd17": {
     "model_module": "@jupyter-widgets/controls",
     "model_module_version": "1.5.0",
     "model_name": "ProgressStyleModel",
     "state": {
      "_model_module": "@jupyter-widgets/controls",
      "_model_module_version": "1.5.0",
      "_model_name": "ProgressStyleModel",
      "_view_count": null,
      "_view_module": "@jupyter-widgets/base",
      "_view_module_version": "1.2.0",
      "_view_name": "StyleView",
      "bar_color": null,
      "description_width": ""
     }
    },
    "4b6f3adc3347420cb9c67cfc001d0f0a": {
     "model_module": "@jupyter-widgets/controls",
     "model_module_version": "1.5.0",
     "model_name": "DescriptionStyleModel",
     "state": {
      "_model_module": "@jupyter-widgets/controls",
      "_model_module_version": "1.5.0",
      "_model_name": "DescriptionStyleModel",
      "_view_count": null,
      "_view_module": "@jupyter-widgets/base",
      "_view_module_version": "1.2.0",
      "_view_name": "StyleView",
      "description_width": ""
     }
    },
    "5f139569fd3a4d6884a7c26b45289176": {
     "model_module": "@jupyter-widgets/base",
     "model_module_version": "1.2.0",
     "model_name": "LayoutModel",
     "state": {
      "_model_module": "@jupyter-widgets/base",
      "_model_module_version": "1.2.0",
      "_model_name": "LayoutModel",
      "_view_count": null,
      "_view_module": "@jupyter-widgets/base",
      "_view_module_version": "1.2.0",
      "_view_name": "LayoutView",
      "align_content": null,
      "align_items": null,
      "align_self": null,
      "border": null,
      "bottom": null,
      "display": null,
      "flex": null,
      "flex_flow": null,
      "grid_area": null,
      "grid_auto_columns": null,
      "grid_auto_flow": null,
      "grid_auto_rows": null,
      "grid_column": null,
      "grid_gap": null,
      "grid_row": null,
      "grid_template_areas": null,
      "grid_template_columns": null,
      "grid_template_rows": null,
      "height": null,
      "justify_content": null,
      "justify_items": null,
      "left": null,
      "margin": null,
      "max_height": null,
      "max_width": null,
      "min_height": null,
      "min_width": null,
      "object_fit": null,
      "object_position": null,
      "order": null,
      "overflow": null,
      "overflow_x": null,
      "overflow_y": null,
      "padding": null,
      "right": null,
      "top": null,
      "visibility": null,
      "width": null
     }
    },
    "6aee511884f941c4bc969e970e568ecc": {
     "model_module": "@jupyter-widgets/base",
     "model_module_version": "1.2.0",
     "model_name": "LayoutModel",
     "state": {
      "_model_module": "@jupyter-widgets/base",
      "_model_module_version": "1.2.0",
      "_model_name": "LayoutModel",
      "_view_count": null,
      "_view_module": "@jupyter-widgets/base",
      "_view_module_version": "1.2.0",
      "_view_name": "LayoutView",
      "align_content": null,
      "align_items": null,
      "align_self": null,
      "border": null,
      "bottom": null,
      "display": null,
      "flex": null,
      "flex_flow": null,
      "grid_area": null,
      "grid_auto_columns": null,
      "grid_auto_flow": null,
      "grid_auto_rows": null,
      "grid_column": null,
      "grid_gap": null,
      "grid_row": null,
      "grid_template_areas": null,
      "grid_template_columns": null,
      "grid_template_rows": null,
      "height": null,
      "justify_content": null,
      "justify_items": null,
      "left": null,
      "margin": null,
      "max_height": null,
      "max_width": null,
      "min_height": null,
      "min_width": null,
      "object_fit": null,
      "object_position": null,
      "order": null,
      "overflow": null,
      "overflow_x": null,
      "overflow_y": null,
      "padding": null,
      "right": null,
      "top": null,
      "visibility": null,
      "width": null
     }
    },
    "826e6bc19f404ebc81b75637d4cd2032": {
     "model_module": "@jupyter-widgets/base",
     "model_module_version": "1.2.0",
     "model_name": "LayoutModel",
     "state": {
      "_model_module": "@jupyter-widgets/base",
      "_model_module_version": "1.2.0",
      "_model_name": "LayoutModel",
      "_view_count": null,
      "_view_module": "@jupyter-widgets/base",
      "_view_module_version": "1.2.0",
      "_view_name": "LayoutView",
      "align_content": null,
      "align_items": null,
      "align_self": null,
      "border": null,
      "bottom": null,
      "display": null,
      "flex": null,
      "flex_flow": null,
      "grid_area": null,
      "grid_auto_columns": null,
      "grid_auto_flow": null,
      "grid_auto_rows": null,
      "grid_column": null,
      "grid_gap": null,
      "grid_row": null,
      "grid_template_areas": null,
      "grid_template_columns": null,
      "grid_template_rows": null,
      "height": null,
      "justify_content": null,
      "justify_items": null,
      "left": null,
      "margin": null,
      "max_height": null,
      "max_width": null,
      "min_height": null,
      "min_width": null,
      "object_fit": null,
      "object_position": null,
      "order": null,
      "overflow": null,
      "overflow_x": null,
      "overflow_y": null,
      "padding": null,
      "right": null,
      "top": null,
      "visibility": null,
      "width": null
     }
    },
    "8a96595b4fcf4eb98b8760737528f1b1": {
     "model_module": "@jupyter-widgets/controls",
     "model_module_version": "1.5.0",
     "model_name": "HBoxModel",
     "state": {
      "_dom_classes": [],
      "_model_module": "@jupyter-widgets/controls",
      "_model_module_version": "1.5.0",
      "_model_name": "HBoxModel",
      "_view_count": null,
      "_view_module": "@jupyter-widgets/controls",
      "_view_module_version": "1.5.0",
      "_view_name": "HBoxView",
      "box_style": "",
      "children": [
       "IPY_MODEL_9cec600f534442cc9a8654755a094291",
       "IPY_MODEL_26249fcf9f624294b0fd165f7008a789",
       "IPY_MODEL_f76d748501804e6285b2cf829a666feb"
      ],
      "layout": "IPY_MODEL_826e6bc19f404ebc81b75637d4cd2032"
     }
    },
    "9cec600f534442cc9a8654755a094291": {
     "model_module": "@jupyter-widgets/controls",
     "model_module_version": "1.5.0",
     "model_name": "HTMLModel",
     "state": {
      "_dom_classes": [],
      "_model_module": "@jupyter-widgets/controls",
      "_model_module_version": "1.5.0",
      "_model_name": "HTMLModel",
      "_view_count": null,
      "_view_module": "@jupyter-widgets/controls",
      "_view_module_version": "1.5.0",
      "_view_name": "HTMLView",
      "description": "",
      "description_tooltip": null,
      "layout": "IPY_MODEL_6aee511884f941c4bc969e970e568ecc",
      "placeholder": "​",
      "style": "IPY_MODEL_4b6f3adc3347420cb9c67cfc001d0f0a",
      "value": "100%"
     }
    },
    "e1dbaa1dc64744e9b77f5a625cf43e6d": {
     "model_module": "@jupyter-widgets/controls",
     "model_module_version": "1.5.0",
     "model_name": "DescriptionStyleModel",
     "state": {
      "_model_module": "@jupyter-widgets/controls",
      "_model_module_version": "1.5.0",
      "_model_name": "DescriptionStyleModel",
      "_view_count": null,
      "_view_module": "@jupyter-widgets/base",
      "_view_module_version": "1.2.0",
      "_view_name": "StyleView",
      "description_width": ""
     }
    },
    "f76d748501804e6285b2cf829a666feb": {
     "model_module": "@jupyter-widgets/controls",
     "model_module_version": "1.5.0",
     "model_name": "HTMLModel",
     "state": {
      "_dom_classes": [],
      "_model_module": "@jupyter-widgets/controls",
      "_model_module_version": "1.5.0",
      "_model_name": "HTMLModel",
      "_view_count": null,
      "_view_module": "@jupyter-widgets/controls",
      "_view_module_version": "1.5.0",
      "_view_name": "HTMLView",
      "description": "",
      "description_tooltip": null,
      "layout": "IPY_MODEL_5f139569fd3a4d6884a7c26b45289176",
      "placeholder": "​",
      "style": "IPY_MODEL_e1dbaa1dc64744e9b77f5a625cf43e6d",
      "value": " 798/798 [00:10&lt;00:00, 78.40it/s]"
     }
    }
   }
  }
 },
 "nbformat": 4,
 "nbformat_minor": 1
}
