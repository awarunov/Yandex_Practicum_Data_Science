{
 "cells": [
  {
   "cell_type": "markdown",
   "metadata": {},
   "source": [
    "# Восстановление золота из руды"
   ]
  },
  {
   "cell_type": "markdown",
   "metadata": {},
   "source": [
    "Подготовьте прототип модели машинного обучения для «Цифры». Компания разрабатывает решения для эффективной работы промышленных предприятий.\n",
    "\n",
    "Модель должна предсказать коэффициент восстановления золота из золотосодержащей руды. Используйте данные с параметрами добычи и очистки. \n",
    "\n",
    "Модель поможет оптимизировать производство, чтобы не запускать предприятие с убыточными характеристиками.\n",
    "\n",
    "Вам нужно:\n",
    "\n",
    "1. Подготовить данные;\n",
    "2. Провести исследовательский анализ данных;\n",
    "3. Построить и обучить модель.\n",
    "\n",
    "Чтобы выполнить проект, обращайтесь к библиотекам *pandas*, *matplotlib* и *sklearn.* Вам поможет их документация."
   ]
  },
  {
   "cell_type": "markdown",
   "metadata": {},
   "source": [
    "## Подготовка данных"
   ]
  },
  {
   "cell_type": "code",
   "execution_count": 7,
   "metadata": {},
   "outputs": [
    {
     "data": {
      "text/html": [
       "<style>.container { width:80% !important; }</style>"
      ],
      "text/plain": [
       "<IPython.core.display.HTML object>"
      ]
     },
     "metadata": {},
     "output_type": "display_data"
    }
   ],
   "source": [
    "import pandas as pd\n",
    "import traceback\n",
    "import os.path\n",
    "from sklearn.linear_model import LinearRegression\n",
    "from sklearn.tree import DecisionTreeRegressor\n",
    "from sklearn.ensemble import RandomForestRegressor\n",
    "from sklearn.model_selection import GridSearchCV\n",
    "from sklearn.preprocessing import StandardScaler\n",
    "from sklearn.model_selection import cross_val_score, RandomizedSearchCV\n",
    "from sklearn.metrics import make_scorer, mean_absolute_error\n",
    "from sklearn.dummy import DummyRegressor\n",
    "from scipy.stats import randint as sp_randint\n",
    "import plotly.express as px\n",
    "import matplotlib.pyplot as plt\n",
    "import numpy as np\n",
    "pd.set_option('display.max_rows', 100)\n",
    "pd.set_option('display.max_columns', 29)\n",
    "data_files = {'train_data': pd.Series(['gold_recovery_train_new.csv'], index = ['file_name']), \n",
    "              'test_data':pd.Series(['gold_recovery_test_new.csv'], index = ['file_name']), \n",
    "              'full_data': pd.Series(['gold_recovery_full_new.csv'], index = ['file_name'])\n",
    "             }\n",
    "local_path = os.path.join('C:', os.sep, 'Users', 'timpu', 'Desktop', 'Data Science(Проекты и шпаргалки)',\n",
    "                          'Проекты', '10 Страхование', 'data')\n",
    "web_dir_path = os.path.join(os.sep, 'datasets' + os.sep)\n",
    "from IPython.display import display, HTML\n",
    "display(HTML(\"<style>.container { width:80% !important; }</style>\"))\n",
    "%config InlineBackend.print_figure_kwargs={'facecolor' : \"w\"}"
   ]
  },
  {
   "cell_type": "code",
   "execution_count": 9,
   "metadata": {
    "scrolled": true
   },
   "outputs": [
    {
     "name": "stdout",
     "output_type": "stream",
     "text": [
      "Общая информация о датасете gold_recovery_train_new.csv:\n",
      "<class 'pandas.core.frame.DataFrame'>\n",
      "RangeIndex: 14149 entries, 0 to 14148\n",
      "Data columns (total 87 columns):\n",
      " #   Column                                              Non-Null Count  Dtype  \n",
      "---  ------                                              --------------  -----  \n",
      " 0   date                                                14149 non-null  object \n",
      " 1   final.output.concentrate_ag                         14148 non-null  float64\n",
      " 2   final.output.concentrate_pb                         14148 non-null  float64\n",
      " 3   final.output.concentrate_sol                        13938 non-null  float64\n",
      " 4   final.output.concentrate_au                         14149 non-null  float64\n",
      " 5   final.output.recovery                               14149 non-null  float64\n",
      " 6   final.output.tail_ag                                14149 non-null  float64\n",
      " 7   final.output.tail_pb                                14049 non-null  float64\n",
      " 8   final.output.tail_sol                               14144 non-null  float64\n",
      " 9   final.output.tail_au                                14149 non-null  float64\n",
      " 10  primary_cleaner.input.sulfate                       14129 non-null  float64\n",
      " 11  primary_cleaner.input.depressant                    14117 non-null  float64\n",
      " 12  primary_cleaner.input.feed_size                     14149 non-null  float64\n",
      " 13  primary_cleaner.input.xanthate                      14049 non-null  float64\n",
      " 14  primary_cleaner.output.concentrate_ag               14149 non-null  float64\n",
      " 15  primary_cleaner.output.concentrate_pb               14063 non-null  float64\n",
      " 16  primary_cleaner.output.concentrate_sol              13863 non-null  float64\n",
      " 17  primary_cleaner.output.concentrate_au               14149 non-null  float64\n",
      " 18  primary_cleaner.output.tail_ag                      14148 non-null  float64\n",
      " 19  primary_cleaner.output.tail_pb                      14134 non-null  float64\n",
      " 20  primary_cleaner.output.tail_sol                     14103 non-null  float64\n",
      " 21  primary_cleaner.output.tail_au                      14149 non-null  float64\n",
      " 22  primary_cleaner.state.floatbank8_a_air              14145 non-null  float64\n",
      " 23  primary_cleaner.state.floatbank8_a_level            14148 non-null  float64\n",
      " 24  primary_cleaner.state.floatbank8_b_air              14145 non-null  float64\n",
      " 25  primary_cleaner.state.floatbank8_b_level            14148 non-null  float64\n",
      " 26  primary_cleaner.state.floatbank8_c_air              14147 non-null  float64\n",
      " 27  primary_cleaner.state.floatbank8_c_level            14148 non-null  float64\n",
      " 28  primary_cleaner.state.floatbank8_d_air              14146 non-null  float64\n",
      " 29  primary_cleaner.state.floatbank8_d_level            14148 non-null  float64\n",
      " 30  rougher.calculation.sulfate_to_au_concentrate       14148 non-null  float64\n",
      " 31  rougher.calculation.floatbank10_sulfate_to_au_feed  14148 non-null  float64\n",
      " 32  rougher.calculation.floatbank11_sulfate_to_au_feed  14148 non-null  float64\n",
      " 33  rougher.calculation.au_pb_ratio                     14149 non-null  float64\n",
      " 34  rougher.input.feed_ag                               14149 non-null  float64\n",
      " 35  rougher.input.feed_pb                               14049 non-null  float64\n",
      " 36  rougher.input.feed_rate                             14141 non-null  float64\n",
      " 37  rougher.input.feed_size                             14005 non-null  float64\n",
      " 38  rougher.input.feed_sol                              14071 non-null  float64\n",
      " 39  rougher.input.feed_au                               14149 non-null  float64\n",
      " 40  rougher.input.floatbank10_sulfate                   14120 non-null  float64\n",
      " 41  rougher.input.floatbank10_xanthate                  14141 non-null  float64\n",
      " 42  rougher.input.floatbank11_sulfate                   14113 non-null  float64\n",
      " 43  rougher.input.floatbank11_xanthate                  13721 non-null  float64\n",
      " 44  rougher.output.concentrate_ag                       14149 non-null  float64\n",
      " 45  rougher.output.concentrate_pb                       14149 non-null  float64\n",
      " 46  rougher.output.concentrate_sol                      14127 non-null  float64\n",
      " 47  rougher.output.concentrate_au                       14149 non-null  float64\n",
      " 48  rougher.output.recovery                             14149 non-null  float64\n",
      " 49  rougher.output.tail_ag                              14148 non-null  float64\n",
      " 50  rougher.output.tail_pb                              14149 non-null  float64\n",
      " 51  rougher.output.tail_sol                             14149 non-null  float64\n",
      " 52  rougher.output.tail_au                              14149 non-null  float64\n",
      " 53  rougher.state.floatbank10_a_air                     14148 non-null  float64\n",
      " 54  rougher.state.floatbank10_a_level                   14148 non-null  float64\n",
      " 55  rougher.state.floatbank10_b_air                     14148 non-null  float64\n",
      " 56  rougher.state.floatbank10_b_level                   14148 non-null  float64\n",
      " 57  rougher.state.floatbank10_c_air                     14148 non-null  float64\n",
      " 58  rougher.state.floatbank10_c_level                   14148 non-null  float64\n",
      " 59  rougher.state.floatbank10_d_air                     14149 non-null  float64\n",
      " 60  rougher.state.floatbank10_d_level                   14149 non-null  float64\n",
      " 61  rougher.state.floatbank10_e_air                     13713 non-null  float64\n",
      " 62  rougher.state.floatbank10_e_level                   14149 non-null  float64\n",
      " 63  rougher.state.floatbank10_f_air                     14149 non-null  float64\n",
      " 64  rougher.state.floatbank10_f_level                   14149 non-null  float64\n",
      " 65  secondary_cleaner.output.tail_ag                    14147 non-null  float64\n",
      " 66  secondary_cleaner.output.tail_pb                    14139 non-null  float64\n",
      " 67  secondary_cleaner.output.tail_sol                   12544 non-null  float64\n",
      " 68  secondary_cleaner.output.tail_au                    14149 non-null  float64\n",
      " 69  secondary_cleaner.state.floatbank2_a_air            13932 non-null  float64\n",
      " 70  secondary_cleaner.state.floatbank2_a_level          14148 non-null  float64\n",
      " 71  secondary_cleaner.state.floatbank2_b_air            14128 non-null  float64\n",
      " 72  secondary_cleaner.state.floatbank2_b_level          14148 non-null  float64\n",
      " 73  secondary_cleaner.state.floatbank3_a_air            14145 non-null  float64\n",
      " 74  secondary_cleaner.state.floatbank3_a_level          14148 non-null  float64\n",
      " 75  secondary_cleaner.state.floatbank3_b_air            14148 non-null  float64\n",
      " 76  secondary_cleaner.state.floatbank3_b_level          14148 non-null  float64\n",
      " 77  secondary_cleaner.state.floatbank4_a_air            14143 non-null  float64\n",
      " 78  secondary_cleaner.state.floatbank4_a_level          14148 non-null  float64\n",
      " 79  secondary_cleaner.state.floatbank4_b_air            14148 non-null  float64\n",
      " 80  secondary_cleaner.state.floatbank4_b_level          14148 non-null  float64\n",
      " 81  secondary_cleaner.state.floatbank5_a_air            14148 non-null  float64\n",
      " 82  secondary_cleaner.state.floatbank5_a_level          14148 non-null  float64\n",
      " 83  secondary_cleaner.state.floatbank5_b_air            14148 non-null  float64\n",
      " 84  secondary_cleaner.state.floatbank5_b_level          14148 non-null  float64\n",
      " 85  secondary_cleaner.state.floatbank6_a_air            14147 non-null  float64\n",
      " 86  secondary_cleaner.state.floatbank6_a_level          14148 non-null  float64\n",
      "dtypes: float64(86), object(1)\n",
      "memory usage: 9.4+ MB\n",
      "\n",
      "Обзор данных датасета:\n"
     ]
    },
    {
     "data": {
      "text/html": [
       "<div>\n",
       "<style scoped>\n",
       "    .dataframe tbody tr th:only-of-type {\n",
       "        vertical-align: middle;\n",
       "    }\n",
       "\n",
       "    .dataframe tbody tr th {\n",
       "        vertical-align: top;\n",
       "    }\n",
       "\n",
       "    .dataframe thead th {\n",
       "        text-align: right;\n",
       "    }\n",
       "</style>\n",
       "<table border=\"1\" class=\"dataframe\">\n",
       "  <thead>\n",
       "    <tr style=\"text-align: right;\">\n",
       "      <th></th>\n",
       "      <th>date</th>\n",
       "      <th>final.output.concentrate_ag</th>\n",
       "      <th>final.output.concentrate_pb</th>\n",
       "      <th>final.output.concentrate_sol</th>\n",
       "      <th>final.output.concentrate_au</th>\n",
       "      <th>final.output.recovery</th>\n",
       "      <th>final.output.tail_ag</th>\n",
       "      <th>final.output.tail_pb</th>\n",
       "      <th>final.output.tail_sol</th>\n",
       "      <th>final.output.tail_au</th>\n",
       "      <th>primary_cleaner.input.sulfate</th>\n",
       "      <th>primary_cleaner.input.depressant</th>\n",
       "      <th>primary_cleaner.input.feed_size</th>\n",
       "      <th>primary_cleaner.input.xanthate</th>\n",
       "      <th>...</th>\n",
       "      <th>secondary_cleaner.state.floatbank3_a_air</th>\n",
       "      <th>secondary_cleaner.state.floatbank3_a_level</th>\n",
       "      <th>secondary_cleaner.state.floatbank3_b_air</th>\n",
       "      <th>secondary_cleaner.state.floatbank3_b_level</th>\n",
       "      <th>secondary_cleaner.state.floatbank4_a_air</th>\n",
       "      <th>secondary_cleaner.state.floatbank4_a_level</th>\n",
       "      <th>secondary_cleaner.state.floatbank4_b_air</th>\n",
       "      <th>secondary_cleaner.state.floatbank4_b_level</th>\n",
       "      <th>secondary_cleaner.state.floatbank5_a_air</th>\n",
       "      <th>secondary_cleaner.state.floatbank5_a_level</th>\n",
       "      <th>secondary_cleaner.state.floatbank5_b_air</th>\n",
       "      <th>secondary_cleaner.state.floatbank5_b_level</th>\n",
       "      <th>secondary_cleaner.state.floatbank6_a_air</th>\n",
       "      <th>secondary_cleaner.state.floatbank6_a_level</th>\n",
       "    </tr>\n",
       "  </thead>\n",
       "  <tbody>\n",
       "    <tr>\n",
       "      <th>0</th>\n",
       "      <td>2016-01-15 00:00:00</td>\n",
       "      <td>6.055403</td>\n",
       "      <td>9.889648</td>\n",
       "      <td>5.507324</td>\n",
       "      <td>42.192020</td>\n",
       "      <td>70.541216</td>\n",
       "      <td>10.411962</td>\n",
       "      <td>0.895447</td>\n",
       "      <td>16.904297</td>\n",
       "      <td>2.143149</td>\n",
       "      <td>127.092003</td>\n",
       "      <td>10.128295</td>\n",
       "      <td>7.25</td>\n",
       "      <td>0.988759</td>\n",
       "      <td>...</td>\n",
       "      <td>23.961798</td>\n",
       "      <td>-495.262817</td>\n",
       "      <td>21.940409</td>\n",
       "      <td>-499.340973</td>\n",
       "      <td>14.016835</td>\n",
       "      <td>-502.488007</td>\n",
       "      <td>12.099931</td>\n",
       "      <td>-504.715942</td>\n",
       "      <td>9.925633</td>\n",
       "      <td>-498.310211</td>\n",
       "      <td>8.079666</td>\n",
       "      <td>-500.470978</td>\n",
       "      <td>14.151341</td>\n",
       "      <td>-605.841980</td>\n",
       "    </tr>\n",
       "    <tr>\n",
       "      <th>1</th>\n",
       "      <td>2016-01-15 01:00:00</td>\n",
       "      <td>6.029369</td>\n",
       "      <td>9.968944</td>\n",
       "      <td>5.257781</td>\n",
       "      <td>42.701629</td>\n",
       "      <td>69.266198</td>\n",
       "      <td>10.462676</td>\n",
       "      <td>0.927452</td>\n",
       "      <td>16.634514</td>\n",
       "      <td>2.224930</td>\n",
       "      <td>125.629232</td>\n",
       "      <td>10.296251</td>\n",
       "      <td>7.25</td>\n",
       "      <td>1.002663</td>\n",
       "      <td>...</td>\n",
       "      <td>23.970550</td>\n",
       "      <td>-500.085473</td>\n",
       "      <td>22.085714</td>\n",
       "      <td>-499.446897</td>\n",
       "      <td>13.992281</td>\n",
       "      <td>-505.503262</td>\n",
       "      <td>11.950531</td>\n",
       "      <td>-501.331529</td>\n",
       "      <td>10.039245</td>\n",
       "      <td>-500.169983</td>\n",
       "      <td>7.984757</td>\n",
       "      <td>-500.582168</td>\n",
       "      <td>13.998353</td>\n",
       "      <td>-599.787184</td>\n",
       "    </tr>\n",
       "    <tr>\n",
       "      <th>2</th>\n",
       "      <td>2016-01-15 02:00:00</td>\n",
       "      <td>6.055926</td>\n",
       "      <td>10.213995</td>\n",
       "      <td>5.383759</td>\n",
       "      <td>42.657501</td>\n",
       "      <td>68.116445</td>\n",
       "      <td>10.507046</td>\n",
       "      <td>0.953716</td>\n",
       "      <td>16.208849</td>\n",
       "      <td>2.257889</td>\n",
       "      <td>123.819808</td>\n",
       "      <td>11.316280</td>\n",
       "      <td>7.25</td>\n",
       "      <td>0.991265</td>\n",
       "      <td>...</td>\n",
       "      <td>23.913535</td>\n",
       "      <td>-499.442343</td>\n",
       "      <td>23.957717</td>\n",
       "      <td>-499.901982</td>\n",
       "      <td>14.015015</td>\n",
       "      <td>-502.520901</td>\n",
       "      <td>11.912783</td>\n",
       "      <td>-501.133383</td>\n",
       "      <td>10.070913</td>\n",
       "      <td>-500.129135</td>\n",
       "      <td>8.013877</td>\n",
       "      <td>-500.517572</td>\n",
       "      <td>14.028663</td>\n",
       "      <td>-601.427363</td>\n",
       "    </tr>\n",
       "    <tr>\n",
       "      <th>3</th>\n",
       "      <td>2016-01-15 03:00:00</td>\n",
       "      <td>6.047977</td>\n",
       "      <td>9.977019</td>\n",
       "      <td>4.858634</td>\n",
       "      <td>42.689819</td>\n",
       "      <td>68.347543</td>\n",
       "      <td>10.422762</td>\n",
       "      <td>0.883763</td>\n",
       "      <td>16.532835</td>\n",
       "      <td>2.146849</td>\n",
       "      <td>122.270188</td>\n",
       "      <td>11.322140</td>\n",
       "      <td>7.25</td>\n",
       "      <td>0.996739</td>\n",
       "      <td>...</td>\n",
       "      <td>23.966838</td>\n",
       "      <td>-500.008812</td>\n",
       "      <td>23.954443</td>\n",
       "      <td>-499.944710</td>\n",
       "      <td>14.036510</td>\n",
       "      <td>-500.857308</td>\n",
       "      <td>11.999550</td>\n",
       "      <td>-501.193686</td>\n",
       "      <td>9.970366</td>\n",
       "      <td>-499.201640</td>\n",
       "      <td>7.977324</td>\n",
       "      <td>-500.255908</td>\n",
       "      <td>14.005551</td>\n",
       "      <td>-599.996129</td>\n",
       "    </tr>\n",
       "    <tr>\n",
       "      <th>4</th>\n",
       "      <td>2016-01-15 04:00:00</td>\n",
       "      <td>6.148599</td>\n",
       "      <td>10.142511</td>\n",
       "      <td>4.939416</td>\n",
       "      <td>42.774141</td>\n",
       "      <td>66.927016</td>\n",
       "      <td>10.360302</td>\n",
       "      <td>0.792826</td>\n",
       "      <td>16.525686</td>\n",
       "      <td>2.055292</td>\n",
       "      <td>117.988169</td>\n",
       "      <td>11.913613</td>\n",
       "      <td>7.25</td>\n",
       "      <td>1.009869</td>\n",
       "      <td>...</td>\n",
       "      <td>23.985703</td>\n",
       "      <td>-500.083811</td>\n",
       "      <td>23.958945</td>\n",
       "      <td>-499.990309</td>\n",
       "      <td>14.027298</td>\n",
       "      <td>-499.838632</td>\n",
       "      <td>11.953070</td>\n",
       "      <td>-501.053894</td>\n",
       "      <td>9.925709</td>\n",
       "      <td>-501.686727</td>\n",
       "      <td>7.894242</td>\n",
       "      <td>-500.356035</td>\n",
       "      <td>13.996647</td>\n",
       "      <td>-601.496691</td>\n",
       "    </tr>\n",
       "    <tr>\n",
       "      <th>...</th>\n",
       "      <td>...</td>\n",
       "      <td>...</td>\n",
       "      <td>...</td>\n",
       "      <td>...</td>\n",
       "      <td>...</td>\n",
       "      <td>...</td>\n",
       "      <td>...</td>\n",
       "      <td>...</td>\n",
       "      <td>...</td>\n",
       "      <td>...</td>\n",
       "      <td>...</td>\n",
       "      <td>...</td>\n",
       "      <td>...</td>\n",
       "      <td>...</td>\n",
       "      <td>...</td>\n",
       "      <td>...</td>\n",
       "      <td>...</td>\n",
       "      <td>...</td>\n",
       "      <td>...</td>\n",
       "      <td>...</td>\n",
       "      <td>...</td>\n",
       "      <td>...</td>\n",
       "      <td>...</td>\n",
       "      <td>...</td>\n",
       "      <td>...</td>\n",
       "      <td>...</td>\n",
       "      <td>...</td>\n",
       "      <td>...</td>\n",
       "      <td>...</td>\n",
       "    </tr>\n",
       "    <tr>\n",
       "      <th>14144</th>\n",
       "      <td>2018-08-18 06:59:59</td>\n",
       "      <td>3.224920</td>\n",
       "      <td>11.356233</td>\n",
       "      <td>6.803482</td>\n",
       "      <td>46.713954</td>\n",
       "      <td>73.755150</td>\n",
       "      <td>8.769645</td>\n",
       "      <td>3.141541</td>\n",
       "      <td>10.403181</td>\n",
       "      <td>1.529220</td>\n",
       "      <td>123.381787</td>\n",
       "      <td>8.028927</td>\n",
       "      <td>6.50</td>\n",
       "      <td>1.304232</td>\n",
       "      <td>...</td>\n",
       "      <td>26.002402</td>\n",
       "      <td>-499.953431</td>\n",
       "      <td>22.987238</td>\n",
       "      <td>-499.967351</td>\n",
       "      <td>23.031497</td>\n",
       "      <td>-501.167942</td>\n",
       "      <td>20.007571</td>\n",
       "      <td>-499.740028</td>\n",
       "      <td>18.006038</td>\n",
       "      <td>-499.834374</td>\n",
       "      <td>13.001114</td>\n",
       "      <td>-500.155694</td>\n",
       "      <td>20.007840</td>\n",
       "      <td>-501.296428</td>\n",
       "    </tr>\n",
       "    <tr>\n",
       "      <th>14145</th>\n",
       "      <td>2018-08-18 07:59:59</td>\n",
       "      <td>3.195978</td>\n",
       "      <td>11.349355</td>\n",
       "      <td>6.862249</td>\n",
       "      <td>46.866780</td>\n",
       "      <td>69.049291</td>\n",
       "      <td>8.897321</td>\n",
       "      <td>3.130493</td>\n",
       "      <td>10.549470</td>\n",
       "      <td>1.612542</td>\n",
       "      <td>120.878188</td>\n",
       "      <td>7.962636</td>\n",
       "      <td>6.50</td>\n",
       "      <td>1.302419</td>\n",
       "      <td>...</td>\n",
       "      <td>26.031747</td>\n",
       "      <td>-500.384612</td>\n",
       "      <td>22.991058</td>\n",
       "      <td>-500.079590</td>\n",
       "      <td>22.960095</td>\n",
       "      <td>-501.612783</td>\n",
       "      <td>20.035660</td>\n",
       "      <td>-500.251357</td>\n",
       "      <td>17.998535</td>\n",
       "      <td>-500.395178</td>\n",
       "      <td>12.954048</td>\n",
       "      <td>-499.895163</td>\n",
       "      <td>19.968498</td>\n",
       "      <td>-501.041608</td>\n",
       "    </tr>\n",
       "    <tr>\n",
       "      <th>14146</th>\n",
       "      <td>2018-08-18 08:59:59</td>\n",
       "      <td>3.109998</td>\n",
       "      <td>11.434366</td>\n",
       "      <td>6.886013</td>\n",
       "      <td>46.795691</td>\n",
       "      <td>67.002189</td>\n",
       "      <td>8.529606</td>\n",
       "      <td>2.911418</td>\n",
       "      <td>11.115147</td>\n",
       "      <td>1.596616</td>\n",
       "      <td>105.666118</td>\n",
       "      <td>7.955111</td>\n",
       "      <td>6.50</td>\n",
       "      <td>1.315926</td>\n",
       "      <td>...</td>\n",
       "      <td>25.948429</td>\n",
       "      <td>-500.067268</td>\n",
       "      <td>22.968268</td>\n",
       "      <td>-499.839442</td>\n",
       "      <td>23.015718</td>\n",
       "      <td>-501.711599</td>\n",
       "      <td>19.951231</td>\n",
       "      <td>-499.857027</td>\n",
       "      <td>18.019543</td>\n",
       "      <td>-500.451156</td>\n",
       "      <td>13.023431</td>\n",
       "      <td>-499.914391</td>\n",
       "      <td>19.990885</td>\n",
       "      <td>-501.518452</td>\n",
       "    </tr>\n",
       "    <tr>\n",
       "      <th>14147</th>\n",
       "      <td>2018-08-18 09:59:59</td>\n",
       "      <td>3.367241</td>\n",
       "      <td>11.625587</td>\n",
       "      <td>6.799433</td>\n",
       "      <td>46.408188</td>\n",
       "      <td>65.523246</td>\n",
       "      <td>8.777171</td>\n",
       "      <td>2.819214</td>\n",
       "      <td>10.463847</td>\n",
       "      <td>1.602879</td>\n",
       "      <td>98.880538</td>\n",
       "      <td>7.984164</td>\n",
       "      <td>6.50</td>\n",
       "      <td>1.241969</td>\n",
       "      <td>...</td>\n",
       "      <td>25.971737</td>\n",
       "      <td>-499.608392</td>\n",
       "      <td>22.958448</td>\n",
       "      <td>-499.821308</td>\n",
       "      <td>23.024963</td>\n",
       "      <td>-501.153409</td>\n",
       "      <td>20.054122</td>\n",
       "      <td>-500.314711</td>\n",
       "      <td>17.979515</td>\n",
       "      <td>-499.272871</td>\n",
       "      <td>12.992404</td>\n",
       "      <td>-499.976268</td>\n",
       "      <td>20.013986</td>\n",
       "      <td>-500.625471</td>\n",
       "    </tr>\n",
       "    <tr>\n",
       "      <th>14148</th>\n",
       "      <td>2018-08-18 10:59:59</td>\n",
       "      <td>3.598375</td>\n",
       "      <td>11.737832</td>\n",
       "      <td>6.717509</td>\n",
       "      <td>46.299438</td>\n",
       "      <td>70.281454</td>\n",
       "      <td>8.406690</td>\n",
       "      <td>2.517518</td>\n",
       "      <td>10.652193</td>\n",
       "      <td>1.389434</td>\n",
       "      <td>95.248427</td>\n",
       "      <td>8.078957</td>\n",
       "      <td>6.50</td>\n",
       "      <td>1.283045</td>\n",
       "      <td>...</td>\n",
       "      <td>26.033990</td>\n",
       "      <td>-500.147792</td>\n",
       "      <td>22.952306</td>\n",
       "      <td>-500.037678</td>\n",
       "      <td>23.018622</td>\n",
       "      <td>-500.492702</td>\n",
       "      <td>20.020205</td>\n",
       "      <td>-500.220296</td>\n",
       "      <td>17.963512</td>\n",
       "      <td>-499.939490</td>\n",
       "      <td>12.990306</td>\n",
       "      <td>-500.080993</td>\n",
       "      <td>19.990336</td>\n",
       "      <td>-499.191575</td>\n",
       "    </tr>\n",
       "  </tbody>\n",
       "</table>\n",
       "<p>14149 rows × 87 columns</p>\n",
       "</div>"
      ],
      "text/plain": [
       "                      date  final.output.concentrate_ag  \\\n",
       "0      2016-01-15 00:00:00                     6.055403   \n",
       "1      2016-01-15 01:00:00                     6.029369   \n",
       "2      2016-01-15 02:00:00                     6.055926   \n",
       "3      2016-01-15 03:00:00                     6.047977   \n",
       "4      2016-01-15 04:00:00                     6.148599   \n",
       "...                    ...                          ...   \n",
       "14144  2018-08-18 06:59:59                     3.224920   \n",
       "14145  2018-08-18 07:59:59                     3.195978   \n",
       "14146  2018-08-18 08:59:59                     3.109998   \n",
       "14147  2018-08-18 09:59:59                     3.367241   \n",
       "14148  2018-08-18 10:59:59                     3.598375   \n",
       "\n",
       "       final.output.concentrate_pb  final.output.concentrate_sol  \\\n",
       "0                         9.889648                      5.507324   \n",
       "1                         9.968944                      5.257781   \n",
       "2                        10.213995                      5.383759   \n",
       "3                         9.977019                      4.858634   \n",
       "4                        10.142511                      4.939416   \n",
       "...                            ...                           ...   \n",
       "14144                    11.356233                      6.803482   \n",
       "14145                    11.349355                      6.862249   \n",
       "14146                    11.434366                      6.886013   \n",
       "14147                    11.625587                      6.799433   \n",
       "14148                    11.737832                      6.717509   \n",
       "\n",
       "       final.output.concentrate_au  final.output.recovery  \\\n",
       "0                        42.192020              70.541216   \n",
       "1                        42.701629              69.266198   \n",
       "2                        42.657501              68.116445   \n",
       "3                        42.689819              68.347543   \n",
       "4                        42.774141              66.927016   \n",
       "...                            ...                    ...   \n",
       "14144                    46.713954              73.755150   \n",
       "14145                    46.866780              69.049291   \n",
       "14146                    46.795691              67.002189   \n",
       "14147                    46.408188              65.523246   \n",
       "14148                    46.299438              70.281454   \n",
       "\n",
       "       final.output.tail_ag  final.output.tail_pb  final.output.tail_sol  \\\n",
       "0                 10.411962              0.895447              16.904297   \n",
       "1                 10.462676              0.927452              16.634514   \n",
       "2                 10.507046              0.953716              16.208849   \n",
       "3                 10.422762              0.883763              16.532835   \n",
       "4                 10.360302              0.792826              16.525686   \n",
       "...                     ...                   ...                    ...   \n",
       "14144              8.769645              3.141541              10.403181   \n",
       "14145              8.897321              3.130493              10.549470   \n",
       "14146              8.529606              2.911418              11.115147   \n",
       "14147              8.777171              2.819214              10.463847   \n",
       "14148              8.406690              2.517518              10.652193   \n",
       "\n",
       "       final.output.tail_au  primary_cleaner.input.sulfate  \\\n",
       "0                  2.143149                     127.092003   \n",
       "1                  2.224930                     125.629232   \n",
       "2                  2.257889                     123.819808   \n",
       "3                  2.146849                     122.270188   \n",
       "4                  2.055292                     117.988169   \n",
       "...                     ...                            ...   \n",
       "14144              1.529220                     123.381787   \n",
       "14145              1.612542                     120.878188   \n",
       "14146              1.596616                     105.666118   \n",
       "14147              1.602879                      98.880538   \n",
       "14148              1.389434                      95.248427   \n",
       "\n",
       "       primary_cleaner.input.depressant  primary_cleaner.input.feed_size  \\\n",
       "0                             10.128295                             7.25   \n",
       "1                             10.296251                             7.25   \n",
       "2                             11.316280                             7.25   \n",
       "3                             11.322140                             7.25   \n",
       "4                             11.913613                             7.25   \n",
       "...                                 ...                              ...   \n",
       "14144                          8.028927                             6.50   \n",
       "14145                          7.962636                             6.50   \n",
       "14146                          7.955111                             6.50   \n",
       "14147                          7.984164                             6.50   \n",
       "14148                          8.078957                             6.50   \n",
       "\n",
       "       primary_cleaner.input.xanthate  ...  \\\n",
       "0                            0.988759  ...   \n",
       "1                            1.002663  ...   \n",
       "2                            0.991265  ...   \n",
       "3                            0.996739  ...   \n",
       "4                            1.009869  ...   \n",
       "...                               ...  ...   \n",
       "14144                        1.304232  ...   \n",
       "14145                        1.302419  ...   \n",
       "14146                        1.315926  ...   \n",
       "14147                        1.241969  ...   \n",
       "14148                        1.283045  ...   \n",
       "\n",
       "       secondary_cleaner.state.floatbank3_a_air  \\\n",
       "0                                     23.961798   \n",
       "1                                     23.970550   \n",
       "2                                     23.913535   \n",
       "3                                     23.966838   \n",
       "4                                     23.985703   \n",
       "...                                         ...   \n",
       "14144                                 26.002402   \n",
       "14145                                 26.031747   \n",
       "14146                                 25.948429   \n",
       "14147                                 25.971737   \n",
       "14148                                 26.033990   \n",
       "\n",
       "       secondary_cleaner.state.floatbank3_a_level  \\\n",
       "0                                     -495.262817   \n",
       "1                                     -500.085473   \n",
       "2                                     -499.442343   \n",
       "3                                     -500.008812   \n",
       "4                                     -500.083811   \n",
       "...                                           ...   \n",
       "14144                                 -499.953431   \n",
       "14145                                 -500.384612   \n",
       "14146                                 -500.067268   \n",
       "14147                                 -499.608392   \n",
       "14148                                 -500.147792   \n",
       "\n",
       "       secondary_cleaner.state.floatbank3_b_air  \\\n",
       "0                                     21.940409   \n",
       "1                                     22.085714   \n",
       "2                                     23.957717   \n",
       "3                                     23.954443   \n",
       "4                                     23.958945   \n",
       "...                                         ...   \n",
       "14144                                 22.987238   \n",
       "14145                                 22.991058   \n",
       "14146                                 22.968268   \n",
       "14147                                 22.958448   \n",
       "14148                                 22.952306   \n",
       "\n",
       "       secondary_cleaner.state.floatbank3_b_level  \\\n",
       "0                                     -499.340973   \n",
       "1                                     -499.446897   \n",
       "2                                     -499.901982   \n",
       "3                                     -499.944710   \n",
       "4                                     -499.990309   \n",
       "...                                           ...   \n",
       "14144                                 -499.967351   \n",
       "14145                                 -500.079590   \n",
       "14146                                 -499.839442   \n",
       "14147                                 -499.821308   \n",
       "14148                                 -500.037678   \n",
       "\n",
       "       secondary_cleaner.state.floatbank4_a_air  \\\n",
       "0                                     14.016835   \n",
       "1                                     13.992281   \n",
       "2                                     14.015015   \n",
       "3                                     14.036510   \n",
       "4                                     14.027298   \n",
       "...                                         ...   \n",
       "14144                                 23.031497   \n",
       "14145                                 22.960095   \n",
       "14146                                 23.015718   \n",
       "14147                                 23.024963   \n",
       "14148                                 23.018622   \n",
       "\n",
       "       secondary_cleaner.state.floatbank4_a_level  \\\n",
       "0                                     -502.488007   \n",
       "1                                     -505.503262   \n",
       "2                                     -502.520901   \n",
       "3                                     -500.857308   \n",
       "4                                     -499.838632   \n",
       "...                                           ...   \n",
       "14144                                 -501.167942   \n",
       "14145                                 -501.612783   \n",
       "14146                                 -501.711599   \n",
       "14147                                 -501.153409   \n",
       "14148                                 -500.492702   \n",
       "\n",
       "       secondary_cleaner.state.floatbank4_b_air  \\\n",
       "0                                     12.099931   \n",
       "1                                     11.950531   \n",
       "2                                     11.912783   \n",
       "3                                     11.999550   \n",
       "4                                     11.953070   \n",
       "...                                         ...   \n",
       "14144                                 20.007571   \n",
       "14145                                 20.035660   \n",
       "14146                                 19.951231   \n",
       "14147                                 20.054122   \n",
       "14148                                 20.020205   \n",
       "\n",
       "       secondary_cleaner.state.floatbank4_b_level  \\\n",
       "0                                     -504.715942   \n",
       "1                                     -501.331529   \n",
       "2                                     -501.133383   \n",
       "3                                     -501.193686   \n",
       "4                                     -501.053894   \n",
       "...                                           ...   \n",
       "14144                                 -499.740028   \n",
       "14145                                 -500.251357   \n",
       "14146                                 -499.857027   \n",
       "14147                                 -500.314711   \n",
       "14148                                 -500.220296   \n",
       "\n",
       "       secondary_cleaner.state.floatbank5_a_air  \\\n",
       "0                                      9.925633   \n",
       "1                                     10.039245   \n",
       "2                                     10.070913   \n",
       "3                                      9.970366   \n",
       "4                                      9.925709   \n",
       "...                                         ...   \n",
       "14144                                 18.006038   \n",
       "14145                                 17.998535   \n",
       "14146                                 18.019543   \n",
       "14147                                 17.979515   \n",
       "14148                                 17.963512   \n",
       "\n",
       "       secondary_cleaner.state.floatbank5_a_level  \\\n",
       "0                                     -498.310211   \n",
       "1                                     -500.169983   \n",
       "2                                     -500.129135   \n",
       "3                                     -499.201640   \n",
       "4                                     -501.686727   \n",
       "...                                           ...   \n",
       "14144                                 -499.834374   \n",
       "14145                                 -500.395178   \n",
       "14146                                 -500.451156   \n",
       "14147                                 -499.272871   \n",
       "14148                                 -499.939490   \n",
       "\n",
       "       secondary_cleaner.state.floatbank5_b_air  \\\n",
       "0                                      8.079666   \n",
       "1                                      7.984757   \n",
       "2                                      8.013877   \n",
       "3                                      7.977324   \n",
       "4                                      7.894242   \n",
       "...                                         ...   \n",
       "14144                                 13.001114   \n",
       "14145                                 12.954048   \n",
       "14146                                 13.023431   \n",
       "14147                                 12.992404   \n",
       "14148                                 12.990306   \n",
       "\n",
       "       secondary_cleaner.state.floatbank5_b_level  \\\n",
       "0                                     -500.470978   \n",
       "1                                     -500.582168   \n",
       "2                                     -500.517572   \n",
       "3                                     -500.255908   \n",
       "4                                     -500.356035   \n",
       "...                                           ...   \n",
       "14144                                 -500.155694   \n",
       "14145                                 -499.895163   \n",
       "14146                                 -499.914391   \n",
       "14147                                 -499.976268   \n",
       "14148                                 -500.080993   \n",
       "\n",
       "       secondary_cleaner.state.floatbank6_a_air  \\\n",
       "0                                     14.151341   \n",
       "1                                     13.998353   \n",
       "2                                     14.028663   \n",
       "3                                     14.005551   \n",
       "4                                     13.996647   \n",
       "...                                         ...   \n",
       "14144                                 20.007840   \n",
       "14145                                 19.968498   \n",
       "14146                                 19.990885   \n",
       "14147                                 20.013986   \n",
       "14148                                 19.990336   \n",
       "\n",
       "       secondary_cleaner.state.floatbank6_a_level  \n",
       "0                                     -605.841980  \n",
       "1                                     -599.787184  \n",
       "2                                     -601.427363  \n",
       "3                                     -599.996129  \n",
       "4                                     -601.496691  \n",
       "...                                           ...  \n",
       "14144                                 -501.296428  \n",
       "14145                                 -501.041608  \n",
       "14146                                 -501.518452  \n",
       "14147                                 -500.625471  \n",
       "14148                                 -499.191575  \n",
       "\n",
       "[14149 rows x 87 columns]"
      ]
     },
     "metadata": {},
     "output_type": "display_data"
    },
    {
     "name": "stdout",
     "output_type": "stream",
     "text": [
      "Минимальные значения в датасете gold_recovery_train_new.csv:\n",
      "date                                                  2016-01-15 00:00:00\n",
      "final.output.concentrate_ag                                           0.0\n",
      "final.output.concentrate_pb                                           0.0\n",
      "final.output.concentrate_sol                                          0.0\n",
      "final.output.concentrate_au                                           0.0\n",
      "final.output.recovery                                                 0.0\n",
      "final.output.tail_ag                                                  0.0\n",
      "final.output.tail_pb                                                  0.0\n",
      "final.output.tail_sol                                                 0.0\n",
      "final.output.tail_au                                                  0.0\n",
      "primary_cleaner.input.sulfate                                    0.003112\n",
      "primary_cleaner.input.depressant                                      0.0\n",
      "primary_cleaner.input.feed_size                                      1.08\n",
      "primary_cleaner.input.xanthate                                   0.000005\n",
      "primary_cleaner.output.concentrate_ag                                 0.0\n",
      "primary_cleaner.output.concentrate_pb                                 0.0\n",
      "primary_cleaner.output.concentrate_sol                                0.0\n",
      "primary_cleaner.output.concentrate_au                                 0.0\n",
      "primary_cleaner.output.tail_ag                                        0.0\n",
      "primary_cleaner.output.tail_pb                                        0.0\n",
      "primary_cleaner.output.tail_sol                                       0.0\n",
      "primary_cleaner.output.tail_au                                        0.0\n",
      "primary_cleaner.state.floatbank8_a_air                           0.006352\n",
      "primary_cleaner.state.floatbank8_a_level                      -798.641662\n",
      "primary_cleaner.state.floatbank8_b_air                             0.0087\n",
      "primary_cleaner.state.floatbank8_b_level                      -740.122129\n",
      "primary_cleaner.state.floatbank8_c_air                           0.015159\n",
      "primary_cleaner.state.floatbank8_c_level                      -799.803073\n",
      "primary_cleaner.state.floatbank8_d_air                           0.008655\n",
      "primary_cleaner.state.floatbank8_d_level                      -799.788598\n",
      "rougher.calculation.sulfate_to_au_concentrate            -42235197.369184\n",
      "rougher.calculation.floatbank10_sulfate_to_au_feed            -486.598675\n",
      "rougher.calculation.floatbank11_sulfate_to_au_feed            -264.982785\n",
      "rougher.calculation.au_pb_ratio                                 -0.010548\n",
      "rougher.input.feed_ag                                                0.01\n",
      "rougher.input.feed_pb                                                0.01\n",
      "rougher.input.feed_rate                                          0.012786\n",
      "rougher.input.feed_size                                          9.659576\n",
      "rougher.input.feed_sol                                               0.01\n",
      "rougher.input.feed_au                                                0.01\n",
      "rougher.input.floatbank10_sulfate                                0.001083\n",
      "rougher.input.floatbank10_xanthate                               0.001428\n",
      "rougher.input.floatbank11_sulfate                                0.000098\n",
      "rougher.input.floatbank11_xanthate                                0.00029\n",
      "rougher.output.concentrate_ag                                         0.0\n",
      "rougher.output.concentrate_pb                                         0.0\n",
      "rougher.output.concentrate_sol                                        0.0\n",
      "rougher.output.concentrate_au                                         0.0\n",
      "rougher.output.recovery                                               0.0\n",
      "rougher.output.tail_ag                                           0.594562\n",
      "rougher.output.tail_pb                                           0.007566\n",
      "rougher.output.tail_sol                                         10.014648\n",
      "rougher.output.tail_au                                           0.020676\n",
      "rougher.state.floatbank10_a_air                                 -0.041078\n",
      "rougher.state.floatbank10_a_level                             -650.202881\n",
      "rougher.state.floatbank10_b_air                                 -0.653384\n",
      "rougher.state.floatbank10_b_level                             -650.260008\n",
      "rougher.state.floatbank10_c_air                                 -0.035112\n",
      "rougher.state.floatbank10_c_level                             -640.995627\n",
      "rougher.state.floatbank10_d_air                                 -0.554299\n",
      "rougher.state.floatbank10_d_level                             -640.519003\n",
      "rougher.state.floatbank10_e_air                                 -1.970275\n",
      "rougher.state.floatbank10_e_level                             -649.443911\n",
      "rougher.state.floatbank10_f_air                                 -2.430587\n",
      "rougher.state.floatbank10_f_level                             -649.880981\n",
      "secondary_cleaner.output.tail_ag                                      0.0\n",
      "secondary_cleaner.output.tail_pb                                      0.0\n",
      "secondary_cleaner.output.tail_sol                                     0.0\n",
      "secondary_cleaner.output.tail_au                                      0.0\n",
      "secondary_cleaner.state.floatbank2_a_air                         0.077503\n",
      "secondary_cleaner.state.floatbank2_a_level                    -799.606441\n",
      "secondary_cleaner.state.floatbank2_b_air                              0.0\n",
      "secondary_cleaner.state.floatbank2_b_level                    -799.873878\n",
      "secondary_cleaner.state.floatbank3_a_air                              0.0\n",
      "secondary_cleaner.state.floatbank3_a_level                    -799.613013\n",
      "secondary_cleaner.state.floatbank3_b_air                              0.0\n",
      "secondary_cleaner.state.floatbank3_b_level                    -759.177381\n",
      "secondary_cleaner.state.floatbank4_a_air                              0.0\n",
      "secondary_cleaner.state.floatbank4_a_level                    -799.709069\n",
      "secondary_cleaner.state.floatbank4_b_air                              0.0\n",
      "secondary_cleaner.state.floatbank4_b_level                    -799.889113\n",
      "secondary_cleaner.state.floatbank5_a_air                        -0.372054\n",
      "secondary_cleaner.state.floatbank5_a_level                    -797.142475\n",
      "secondary_cleaner.state.floatbank5_b_air                         0.646208\n",
      "secondary_cleaner.state.floatbank5_b_level                     -800.00618\n",
      "secondary_cleaner.state.floatbank6_a_air                         0.195324\n",
      "secondary_cleaner.state.floatbank6_a_level                    -809.398668\n",
      "dtype: object \n",
      "\n",
      "Максимальные значения в датасете gold_recovery_train_new.csv:\n",
      "date                                                  2018-08-18 10:59:59\n",
      "final.output.concentrate_ag                                     16.001945\n",
      "final.output.concentrate_pb                                     17.031899\n",
      "final.output.concentrate_sol                                    18.124851\n",
      "final.output.concentrate_au                                     52.756638\n",
      "final.output.recovery                                               100.0\n",
      "final.output.tail_ag                                            19.552149\n",
      "final.output.tail_pb                                             5.639565\n",
      "final.output.tail_sol                                            22.31773\n",
      "final.output.tail_au                                             8.197408\n",
      "primary_cleaner.input.sulfate                                  250.127834\n",
      "primary_cleaner.input.depressant                                20.052255\n",
      "primary_cleaner.input.feed_size                                     10.47\n",
      "primary_cleaner.input.xanthate                                   2.512968\n",
      "primary_cleaner.output.concentrate_ag                           16.081632\n",
      "primary_cleaner.output.concentrate_pb                           17.081278\n",
      "primary_cleaner.output.concentrate_sol                          22.280845\n",
      "primary_cleaner.output.concentrate_au                           45.933934\n",
      "primary_cleaner.output.tail_ag                                  29.459575\n",
      "primary_cleaner.output.tail_pb                                   9.634565\n",
      "primary_cleaner.output.tail_sol                                 20.620833\n",
      "primary_cleaner.output.tail_au                                  17.788925\n",
      "primary_cleaner.state.floatbank8_a_air                         2079.53134\n",
      "primary_cleaner.state.floatbank8_a_level                      -330.134203\n",
      "primary_cleaner.state.floatbank8_b_air                        2114.906758\n",
      "primary_cleaner.state.floatbank8_b_level                       -347.35438\n",
      "primary_cleaner.state.floatbank8_c_air                        2013.156457\n",
      "primary_cleaner.state.floatbank8_c_level                       -346.65345\n",
      "primary_cleaner.state.floatbank8_d_air                        2398.903635\n",
      "primary_cleaner.state.floatbank8_d_level                       -30.601828\n",
      "rougher.calculation.sulfate_to_au_concentrate                 3428098.939\n",
      "rougher.calculation.floatbank10_sulfate_to_au_feed          629638.977914\n",
      "rougher.calculation.floatbank11_sulfate_to_au_feed          718684.955855\n",
      "rougher.calculation.au_pb_ratio                                 39.379272\n",
      "rougher.input.feed_ag                                           14.596026\n",
      "rougher.input.feed_pb                                            7.142594\n",
      "rougher.input.feed_rate                                        717.508837\n",
      "rougher.input.feed_size                                        484.967466\n",
      "rougher.input.feed_sol                                          48.363177\n",
      "rougher.input.feed_au                                           13.126043\n",
      "rougher.input.floatbank10_sulfate                               36.118275\n",
      "rougher.input.floatbank10_xanthate                               9.703448\n",
      "rougher.input.floatbank11_sulfate                               37.980648\n",
      "rougher.input.floatbank11_xanthate                               9.698407\n",
      "rougher.output.concentrate_ag                                   24.480271\n",
      "rougher.output.concentrate_pb                                   13.617072\n",
      "rougher.output.concentrate_sol                                  38.351193\n",
      "rougher.output.concentrate_au                                   28.146838\n",
      "rougher.output.recovery                                             100.0\n",
      "rougher.output.tail_ag                                          12.719177\n",
      "rougher.output.tail_pb                                           3.778064\n",
      "rougher.output.tail_sol                                         66.117188\n",
      "rougher.output.tail_au                                            9.68898\n",
      "rougher.state.floatbank10_a_air                               1521.980372\n",
      "rougher.state.floatbank10_a_level                             -281.039299\n",
      "rougher.state.floatbank10_b_air                               1809.194008\n",
      "rougher.state.floatbank10_b_level                              -296.38308\n",
      "rougher.state.floatbank10_c_air                               2499.129174\n",
      "rougher.state.floatbank10_c_level                             -292.155509\n",
      "rougher.state.floatbank10_d_air                                1817.19929\n",
      "rougher.state.floatbank10_d_level                             -208.330673\n",
      "rougher.state.floatbank10_e_air                               1922.636637\n",
      "rougher.state.floatbank10_e_level                             -272.199598\n",
      "rougher.state.floatbank10_f_air                               1706.307502\n",
      "rougher.state.floatbank10_f_level                              -191.71848\n",
      "secondary_cleaner.output.tail_ag                                23.264738\n",
      "secondary_cleaner.output.tail_pb                                17.042505\n",
      "secondary_cleaner.output.tail_sol                               17.976171\n",
      "secondary_cleaner.output.tail_au                                26.811643\n",
      "secondary_cleaner.state.floatbank2_a_air                        52.651399\n",
      "secondary_cleaner.state.floatbank2_a_level                    -127.875565\n",
      "secondary_cleaner.state.floatbank2_b_air                        35.152122\n",
      "secondary_cleaner.state.floatbank2_b_level                    -212.064665\n",
      "secondary_cleaner.state.floatbank3_a_air                        44.260464\n",
      "secondary_cleaner.state.floatbank3_a_level                     -191.67881\n",
      "secondary_cleaner.state.floatbank3_b_air                        35.072841\n",
      "secondary_cleaner.state.floatbank3_b_level                    -159.742331\n",
      "secondary_cleaner.state.floatbank4_a_air                        30.115735\n",
      "secondary_cleaner.state.floatbank4_a_level                    -245.239184\n",
      "secondary_cleaner.state.floatbank4_b_air                        24.007913\n",
      "secondary_cleaner.state.floatbank4_b_level                    -145.071088\n",
      "secondary_cleaner.state.floatbank5_a_air                        43.709931\n",
      "secondary_cleaner.state.floatbank5_a_level                    -275.073125\n",
      "secondary_cleaner.state.floatbank5_b_air                        27.926001\n",
      "secondary_cleaner.state.floatbank5_b_level                    -157.396071\n",
      "secondary_cleaner.state.floatbank6_a_air                        32.188906\n",
      "secondary_cleaner.state.floatbank6_a_level                    -104.427459\n",
      "dtype: object \n",
      "\n",
      "Количество дубликатов в датасете gold_recovery_train_new.csv:\n",
      "0 \n",
      "\n",
      "Колонки с пропущенными значениями в датасете gold_recovery_train_new.csv:\n",
      "\n",
      "date                                                     0\n",
      "final.output.concentrate_ag                              1\n",
      "final.output.concentrate_pb                              1\n",
      "final.output.concentrate_sol                           211\n",
      "final.output.concentrate_au                              0\n",
      "final.output.recovery                                    0\n",
      "final.output.tail_ag                                     0\n",
      "final.output.tail_pb                                   100\n",
      "final.output.tail_sol                                    5\n",
      "final.output.tail_au                                     0\n",
      "primary_cleaner.input.sulfate                           20\n",
      "primary_cleaner.input.depressant                        32\n",
      "primary_cleaner.input.feed_size                          0\n",
      "primary_cleaner.input.xanthate                         100\n",
      "primary_cleaner.output.concentrate_ag                    0\n",
      "primary_cleaner.output.concentrate_pb                   86\n",
      "primary_cleaner.output.concentrate_sol                 286\n",
      "primary_cleaner.output.concentrate_au                    0\n",
      "primary_cleaner.output.tail_ag                           1\n",
      "primary_cleaner.output.tail_pb                          15\n",
      "primary_cleaner.output.tail_sol                         46\n",
      "primary_cleaner.output.tail_au                           0\n",
      "primary_cleaner.state.floatbank8_a_air                   4\n",
      "primary_cleaner.state.floatbank8_a_level                 1\n",
      "primary_cleaner.state.floatbank8_b_air                   4\n",
      "primary_cleaner.state.floatbank8_b_level                 1\n",
      "primary_cleaner.state.floatbank8_c_air                   2\n",
      "primary_cleaner.state.floatbank8_c_level                 1\n",
      "primary_cleaner.state.floatbank8_d_air                   3\n",
      "primary_cleaner.state.floatbank8_d_level                 1\n",
      "rougher.calculation.sulfate_to_au_concentrate            1\n",
      "rougher.calculation.floatbank10_sulfate_to_au_feed       1\n",
      "rougher.calculation.floatbank11_sulfate_to_au_feed       1\n",
      "rougher.calculation.au_pb_ratio                          0\n",
      "rougher.input.feed_ag                                    0\n",
      "rougher.input.feed_pb                                  100\n",
      "rougher.input.feed_rate                                  8\n",
      "rougher.input.feed_size                                144\n",
      "rougher.input.feed_sol                                  78\n",
      "rougher.input.feed_au                                    0\n",
      "rougher.input.floatbank10_sulfate                       29\n",
      "rougher.input.floatbank10_xanthate                       8\n",
      "rougher.input.floatbank11_sulfate                       36\n",
      "rougher.input.floatbank11_xanthate                     428\n",
      "rougher.output.concentrate_ag                            0\n",
      "rougher.output.concentrate_pb                            0\n",
      "rougher.output.concentrate_sol                          22\n",
      "rougher.output.concentrate_au                            0\n",
      "rougher.output.recovery                                  0\n",
      "rougher.output.tail_ag                                   1\n",
      "rougher.output.tail_pb                                   0\n",
      "rougher.output.tail_sol                                  0\n",
      "rougher.output.tail_au                                   0\n",
      "rougher.state.floatbank10_a_air                          1\n",
      "rougher.state.floatbank10_a_level                        1\n",
      "rougher.state.floatbank10_b_air                          1\n",
      "rougher.state.floatbank10_b_level                        1\n",
      "rougher.state.floatbank10_c_air                          1\n",
      "rougher.state.floatbank10_c_level                        1\n",
      "rougher.state.floatbank10_d_air                          0\n",
      "rougher.state.floatbank10_d_level                        0\n",
      "rougher.state.floatbank10_e_air                        436\n",
      "rougher.state.floatbank10_e_level                        0\n",
      "rougher.state.floatbank10_f_air                          0\n",
      "rougher.state.floatbank10_f_level                        0\n",
      "secondary_cleaner.output.tail_ag                         2\n",
      "secondary_cleaner.output.tail_pb                        10\n",
      "secondary_cleaner.output.tail_sol                     1605\n",
      "secondary_cleaner.output.tail_au                         0\n",
      "secondary_cleaner.state.floatbank2_a_air               217\n",
      "secondary_cleaner.state.floatbank2_a_level               1\n",
      "secondary_cleaner.state.floatbank2_b_air                21\n",
      "secondary_cleaner.state.floatbank2_b_level               1\n",
      "secondary_cleaner.state.floatbank3_a_air                 4\n",
      "secondary_cleaner.state.floatbank3_a_level               1\n",
      "secondary_cleaner.state.floatbank3_b_air                 1\n",
      "secondary_cleaner.state.floatbank3_b_level               1\n",
      "secondary_cleaner.state.floatbank4_a_air                 6\n",
      "secondary_cleaner.state.floatbank4_a_level               1\n",
      "secondary_cleaner.state.floatbank4_b_air                 1\n",
      "secondary_cleaner.state.floatbank4_b_level               1\n",
      "secondary_cleaner.state.floatbank5_a_air                 1\n",
      "secondary_cleaner.state.floatbank5_a_level               1\n",
      "secondary_cleaner.state.floatbank5_b_air                 1\n",
      "secondary_cleaner.state.floatbank5_b_level               1\n",
      "secondary_cleaner.state.floatbank6_a_air                 2\n",
      "secondary_cleaner.state.floatbank6_a_level               1\n",
      "dtype: int64 \n",
      "\n",
      "Общая информация о датасете gold_recovery_test_new.csv:\n",
      "<class 'pandas.core.frame.DataFrame'>\n",
      "RangeIndex: 5290 entries, 0 to 5289\n",
      "Data columns (total 53 columns):\n",
      " #   Column                                      Non-Null Count  Dtype  \n",
      "---  ------                                      --------------  -----  \n",
      " 0   date                                        5290 non-null   object \n",
      " 1   primary_cleaner.input.sulfate               5286 non-null   float64\n",
      " 2   primary_cleaner.input.depressant            5285 non-null   float64\n",
      " 3   primary_cleaner.input.feed_size             5290 non-null   float64\n",
      " 4   primary_cleaner.input.xanthate              5286 non-null   float64\n",
      " 5   primary_cleaner.state.floatbank8_a_air      5290 non-null   float64\n",
      " 6   primary_cleaner.state.floatbank8_a_level    5290 non-null   float64\n",
      " 7   primary_cleaner.state.floatbank8_b_air      5290 non-null   float64\n",
      " 8   primary_cleaner.state.floatbank8_b_level    5290 non-null   float64\n",
      " 9   primary_cleaner.state.floatbank8_c_air      5290 non-null   float64\n",
      " 10  primary_cleaner.state.floatbank8_c_level    5290 non-null   float64\n",
      " 11  primary_cleaner.state.floatbank8_d_air      5290 non-null   float64\n",
      " 12  primary_cleaner.state.floatbank8_d_level    5290 non-null   float64\n",
      " 13  rougher.input.feed_ag                       5290 non-null   float64\n",
      " 14  rougher.input.feed_pb                       5290 non-null   float64\n",
      " 15  rougher.input.feed_rate                     5287 non-null   float64\n",
      " 16  rougher.input.feed_size                     5289 non-null   float64\n",
      " 17  rougher.input.feed_sol                      5269 non-null   float64\n",
      " 18  rougher.input.feed_au                       5290 non-null   float64\n",
      " 19  rougher.input.floatbank10_sulfate           5285 non-null   float64\n",
      " 20  rougher.input.floatbank10_xanthate          5290 non-null   float64\n",
      " 21  rougher.input.floatbank11_sulfate           5282 non-null   float64\n",
      " 22  rougher.input.floatbank11_xanthate          5265 non-null   float64\n",
      " 23  rougher.state.floatbank10_a_air             5290 non-null   float64\n",
      " 24  rougher.state.floatbank10_a_level           5290 non-null   float64\n",
      " 25  rougher.state.floatbank10_b_air             5290 non-null   float64\n",
      " 26  rougher.state.floatbank10_b_level           5290 non-null   float64\n",
      " 27  rougher.state.floatbank10_c_air             5290 non-null   float64\n",
      " 28  rougher.state.floatbank10_c_level           5290 non-null   float64\n",
      " 29  rougher.state.floatbank10_d_air             5290 non-null   float64\n",
      " 30  rougher.state.floatbank10_d_level           5290 non-null   float64\n",
      " 31  rougher.state.floatbank10_e_air             5290 non-null   float64\n",
      " 32  rougher.state.floatbank10_e_level           5290 non-null   float64\n",
      " 33  rougher.state.floatbank10_f_air             5290 non-null   float64\n",
      " 34  rougher.state.floatbank10_f_level           5290 non-null   float64\n",
      " 35  secondary_cleaner.state.floatbank2_a_air    5287 non-null   float64\n",
      " 36  secondary_cleaner.state.floatbank2_a_level  5290 non-null   float64\n",
      " 37  secondary_cleaner.state.floatbank2_b_air    5288 non-null   float64\n",
      " 38  secondary_cleaner.state.floatbank2_b_level  5290 non-null   float64\n",
      " 39  secondary_cleaner.state.floatbank3_a_air    5281 non-null   float64\n",
      " 40  secondary_cleaner.state.floatbank3_a_level  5290 non-null   float64\n",
      " 41  secondary_cleaner.state.floatbank3_b_air    5290 non-null   float64\n",
      " 42  secondary_cleaner.state.floatbank3_b_level  5290 non-null   float64\n",
      " 43  secondary_cleaner.state.floatbank4_a_air    5290 non-null   float64\n",
      " 44  secondary_cleaner.state.floatbank4_a_level  5290 non-null   float64\n",
      " 45  secondary_cleaner.state.floatbank4_b_air    5290 non-null   float64\n",
      " 46  secondary_cleaner.state.floatbank4_b_level  5290 non-null   float64\n",
      " 47  secondary_cleaner.state.floatbank5_a_air    5290 non-null   float64\n",
      " 48  secondary_cleaner.state.floatbank5_a_level  5290 non-null   float64\n",
      " 49  secondary_cleaner.state.floatbank5_b_air    5290 non-null   float64\n",
      " 50  secondary_cleaner.state.floatbank5_b_level  5290 non-null   float64\n",
      " 51  secondary_cleaner.state.floatbank6_a_air    5290 non-null   float64\n",
      " 52  secondary_cleaner.state.floatbank6_a_level  5290 non-null   float64\n",
      "dtypes: float64(52), object(1)\n",
      "memory usage: 2.1+ MB\n",
      "\n",
      "Обзор данных датасета:\n"
     ]
    },
    {
     "data": {
      "text/html": [
       "<div>\n",
       "<style scoped>\n",
       "    .dataframe tbody tr th:only-of-type {\n",
       "        vertical-align: middle;\n",
       "    }\n",
       "\n",
       "    .dataframe tbody tr th {\n",
       "        vertical-align: top;\n",
       "    }\n",
       "\n",
       "    .dataframe thead th {\n",
       "        text-align: right;\n",
       "    }\n",
       "</style>\n",
       "<table border=\"1\" class=\"dataframe\">\n",
       "  <thead>\n",
       "    <tr style=\"text-align: right;\">\n",
       "      <th></th>\n",
       "      <th>date</th>\n",
       "      <th>primary_cleaner.input.sulfate</th>\n",
       "      <th>primary_cleaner.input.depressant</th>\n",
       "      <th>primary_cleaner.input.feed_size</th>\n",
       "      <th>primary_cleaner.input.xanthate</th>\n",
       "      <th>primary_cleaner.state.floatbank8_a_air</th>\n",
       "      <th>primary_cleaner.state.floatbank8_a_level</th>\n",
       "      <th>primary_cleaner.state.floatbank8_b_air</th>\n",
       "      <th>primary_cleaner.state.floatbank8_b_level</th>\n",
       "      <th>primary_cleaner.state.floatbank8_c_air</th>\n",
       "      <th>primary_cleaner.state.floatbank8_c_level</th>\n",
       "      <th>primary_cleaner.state.floatbank8_d_air</th>\n",
       "      <th>primary_cleaner.state.floatbank8_d_level</th>\n",
       "      <th>rougher.input.feed_ag</th>\n",
       "      <th>...</th>\n",
       "      <th>secondary_cleaner.state.floatbank3_a_air</th>\n",
       "      <th>secondary_cleaner.state.floatbank3_a_level</th>\n",
       "      <th>secondary_cleaner.state.floatbank3_b_air</th>\n",
       "      <th>secondary_cleaner.state.floatbank3_b_level</th>\n",
       "      <th>secondary_cleaner.state.floatbank4_a_air</th>\n",
       "      <th>secondary_cleaner.state.floatbank4_a_level</th>\n",
       "      <th>secondary_cleaner.state.floatbank4_b_air</th>\n",
       "      <th>secondary_cleaner.state.floatbank4_b_level</th>\n",
       "      <th>secondary_cleaner.state.floatbank5_a_air</th>\n",
       "      <th>secondary_cleaner.state.floatbank5_a_level</th>\n",
       "      <th>secondary_cleaner.state.floatbank5_b_air</th>\n",
       "      <th>secondary_cleaner.state.floatbank5_b_level</th>\n",
       "      <th>secondary_cleaner.state.floatbank6_a_air</th>\n",
       "      <th>secondary_cleaner.state.floatbank6_a_level</th>\n",
       "    </tr>\n",
       "  </thead>\n",
       "  <tbody>\n",
       "    <tr>\n",
       "      <th>0</th>\n",
       "      <td>2016-09-01 00:59:59</td>\n",
       "      <td>210.800909</td>\n",
       "      <td>14.993118</td>\n",
       "      <td>8.080000</td>\n",
       "      <td>1.005021</td>\n",
       "      <td>1398.981301</td>\n",
       "      <td>-500.225577</td>\n",
       "      <td>1399.144926</td>\n",
       "      <td>-499.919735</td>\n",
       "      <td>1400.102998</td>\n",
       "      <td>-500.704369</td>\n",
       "      <td>1399.001695</td>\n",
       "      <td>-499.485144</td>\n",
       "      <td>13.128569</td>\n",
       "      <td>...</td>\n",
       "      <td>20.018166</td>\n",
       "      <td>-450.395995</td>\n",
       "      <td>13.987058</td>\n",
       "      <td>-449.831513</td>\n",
       "      <td>12.023554</td>\n",
       "      <td>-497.795834</td>\n",
       "      <td>8.016656</td>\n",
       "      <td>-501.289139</td>\n",
       "      <td>7.946562</td>\n",
       "      <td>-432.317850</td>\n",
       "      <td>4.872511</td>\n",
       "      <td>-500.037437</td>\n",
       "      <td>26.705889</td>\n",
       "      <td>-499.709414</td>\n",
       "    </tr>\n",
       "    <tr>\n",
       "      <th>1</th>\n",
       "      <td>2016-09-01 01:59:59</td>\n",
       "      <td>215.392455</td>\n",
       "      <td>14.987471</td>\n",
       "      <td>8.080000</td>\n",
       "      <td>0.990469</td>\n",
       "      <td>1398.777912</td>\n",
       "      <td>-500.057435</td>\n",
       "      <td>1398.055362</td>\n",
       "      <td>-499.778182</td>\n",
       "      <td>1396.151033</td>\n",
       "      <td>-499.240168</td>\n",
       "      <td>1399.508091</td>\n",
       "      <td>-500.416324</td>\n",
       "      <td>13.036280</td>\n",
       "      <td>...</td>\n",
       "      <td>19.988503</td>\n",
       "      <td>-450.114024</td>\n",
       "      <td>14.092981</td>\n",
       "      <td>-450.059163</td>\n",
       "      <td>12.058140</td>\n",
       "      <td>-498.695773</td>\n",
       "      <td>8.130979</td>\n",
       "      <td>-499.634209</td>\n",
       "      <td>7.958270</td>\n",
       "      <td>-525.839648</td>\n",
       "      <td>4.878850</td>\n",
       "      <td>-500.162375</td>\n",
       "      <td>25.019940</td>\n",
       "      <td>-499.819438</td>\n",
       "    </tr>\n",
       "    <tr>\n",
       "      <th>2</th>\n",
       "      <td>2016-09-01 02:59:59</td>\n",
       "      <td>215.259946</td>\n",
       "      <td>12.884934</td>\n",
       "      <td>7.786667</td>\n",
       "      <td>0.996043</td>\n",
       "      <td>1398.493666</td>\n",
       "      <td>-500.868360</td>\n",
       "      <td>1398.860436</td>\n",
       "      <td>-499.764529</td>\n",
       "      <td>1398.075709</td>\n",
       "      <td>-502.151509</td>\n",
       "      <td>1399.497088</td>\n",
       "      <td>-499.715479</td>\n",
       "      <td>13.138412</td>\n",
       "      <td>...</td>\n",
       "      <td>20.039689</td>\n",
       "      <td>-450.263164</td>\n",
       "      <td>14.077881</td>\n",
       "      <td>-449.660997</td>\n",
       "      <td>11.962366</td>\n",
       "      <td>-498.767484</td>\n",
       "      <td>8.096893</td>\n",
       "      <td>-500.827423</td>\n",
       "      <td>8.071056</td>\n",
       "      <td>-500.801673</td>\n",
       "      <td>4.905125</td>\n",
       "      <td>-499.828510</td>\n",
       "      <td>24.994862</td>\n",
       "      <td>-500.622559</td>\n",
       "    </tr>\n",
       "    <tr>\n",
       "      <th>3</th>\n",
       "      <td>2016-09-01 03:59:59</td>\n",
       "      <td>215.336236</td>\n",
       "      <td>12.006805</td>\n",
       "      <td>7.640000</td>\n",
       "      <td>0.863514</td>\n",
       "      <td>1399.618111</td>\n",
       "      <td>-498.863574</td>\n",
       "      <td>1397.440120</td>\n",
       "      <td>-499.211024</td>\n",
       "      <td>1400.129303</td>\n",
       "      <td>-498.355873</td>\n",
       "      <td>1401.065165</td>\n",
       "      <td>-501.038738</td>\n",
       "      <td>12.400507</td>\n",
       "      <td>...</td>\n",
       "      <td>20.031100</td>\n",
       "      <td>-449.372570</td>\n",
       "      <td>14.013968</td>\n",
       "      <td>-449.526900</td>\n",
       "      <td>12.033091</td>\n",
       "      <td>-498.350935</td>\n",
       "      <td>8.074946</td>\n",
       "      <td>-499.474407</td>\n",
       "      <td>7.897085</td>\n",
       "      <td>-500.868509</td>\n",
       "      <td>4.931400</td>\n",
       "      <td>-499.963623</td>\n",
       "      <td>24.948919</td>\n",
       "      <td>-498.709987</td>\n",
       "    </tr>\n",
       "    <tr>\n",
       "      <th>4</th>\n",
       "      <td>2016-09-01 04:59:59</td>\n",
       "      <td>199.099327</td>\n",
       "      <td>10.682530</td>\n",
       "      <td>7.530000</td>\n",
       "      <td>0.805575</td>\n",
       "      <td>1401.268123</td>\n",
       "      <td>-500.808305</td>\n",
       "      <td>1398.128818</td>\n",
       "      <td>-499.504543</td>\n",
       "      <td>1402.172226</td>\n",
       "      <td>-500.810606</td>\n",
       "      <td>1399.480508</td>\n",
       "      <td>-499.374053</td>\n",
       "      <td>11.327427</td>\n",
       "      <td>...</td>\n",
       "      <td>19.962364</td>\n",
       "      <td>-450.638828</td>\n",
       "      <td>14.009245</td>\n",
       "      <td>-450.022259</td>\n",
       "      <td>12.025367</td>\n",
       "      <td>-500.786497</td>\n",
       "      <td>8.054678</td>\n",
       "      <td>-500.397500</td>\n",
       "      <td>8.107890</td>\n",
       "      <td>-509.526725</td>\n",
       "      <td>4.957674</td>\n",
       "      <td>-500.360026</td>\n",
       "      <td>25.003331</td>\n",
       "      <td>-500.856333</td>\n",
       "    </tr>\n",
       "    <tr>\n",
       "      <th>...</th>\n",
       "      <td>...</td>\n",
       "      <td>...</td>\n",
       "      <td>...</td>\n",
       "      <td>...</td>\n",
       "      <td>...</td>\n",
       "      <td>...</td>\n",
       "      <td>...</td>\n",
       "      <td>...</td>\n",
       "      <td>...</td>\n",
       "      <td>...</td>\n",
       "      <td>...</td>\n",
       "      <td>...</td>\n",
       "      <td>...</td>\n",
       "      <td>...</td>\n",
       "      <td>...</td>\n",
       "      <td>...</td>\n",
       "      <td>...</td>\n",
       "      <td>...</td>\n",
       "      <td>...</td>\n",
       "      <td>...</td>\n",
       "      <td>...</td>\n",
       "      <td>...</td>\n",
       "      <td>...</td>\n",
       "      <td>...</td>\n",
       "      <td>...</td>\n",
       "      <td>...</td>\n",
       "      <td>...</td>\n",
       "      <td>...</td>\n",
       "      <td>...</td>\n",
       "    </tr>\n",
       "    <tr>\n",
       "      <th>5285</th>\n",
       "      <td>2017-12-31 19:59:59</td>\n",
       "      <td>173.957757</td>\n",
       "      <td>15.963399</td>\n",
       "      <td>8.070000</td>\n",
       "      <td>0.896701</td>\n",
       "      <td>1401.930554</td>\n",
       "      <td>-499.728848</td>\n",
       "      <td>1401.441445</td>\n",
       "      <td>-499.193423</td>\n",
       "      <td>1399.810313</td>\n",
       "      <td>-499.599127</td>\n",
       "      <td>1400.334792</td>\n",
       "      <td>-499.243459</td>\n",
       "      <td>11.638973</td>\n",
       "      <td>...</td>\n",
       "      <td>24.939573</td>\n",
       "      <td>-500.098479</td>\n",
       "      <td>12.968448</td>\n",
       "      <td>-499.952023</td>\n",
       "      <td>13.995957</td>\n",
       "      <td>-500.157454</td>\n",
       "      <td>12.069155</td>\n",
       "      <td>-499.673279</td>\n",
       "      <td>7.977259</td>\n",
       "      <td>-499.516126</td>\n",
       "      <td>5.933319</td>\n",
       "      <td>-499.965973</td>\n",
       "      <td>8.987171</td>\n",
       "      <td>-499.755909</td>\n",
       "    </tr>\n",
       "    <tr>\n",
       "      <th>5286</th>\n",
       "      <td>2017-12-31 20:59:59</td>\n",
       "      <td>172.910270</td>\n",
       "      <td>16.002605</td>\n",
       "      <td>8.070000</td>\n",
       "      <td>0.896519</td>\n",
       "      <td>1447.075722</td>\n",
       "      <td>-494.716823</td>\n",
       "      <td>1448.851892</td>\n",
       "      <td>-465.963026</td>\n",
       "      <td>1443.890424</td>\n",
       "      <td>-503.587739</td>\n",
       "      <td>1447.653388</td>\n",
       "      <td>-480.403849</td>\n",
       "      <td>11.338091</td>\n",
       "      <td>...</td>\n",
       "      <td>26.369171</td>\n",
       "      <td>-499.222375</td>\n",
       "      <td>17.704862</td>\n",
       "      <td>-499.545681</td>\n",
       "      <td>16.749781</td>\n",
       "      <td>-496.031539</td>\n",
       "      <td>13.365371</td>\n",
       "      <td>-499.122723</td>\n",
       "      <td>9.288553</td>\n",
       "      <td>-496.892967</td>\n",
       "      <td>7.372897</td>\n",
       "      <td>-499.942956</td>\n",
       "      <td>8.986832</td>\n",
       "      <td>-499.903761</td>\n",
       "    </tr>\n",
       "    <tr>\n",
       "      <th>5287</th>\n",
       "      <td>2017-12-31 21:59:59</td>\n",
       "      <td>171.135718</td>\n",
       "      <td>15.993669</td>\n",
       "      <td>8.070000</td>\n",
       "      <td>1.165996</td>\n",
       "      <td>1498.836182</td>\n",
       "      <td>-501.770403</td>\n",
       "      <td>1499.572353</td>\n",
       "      <td>-495.516347</td>\n",
       "      <td>1502.749213</td>\n",
       "      <td>-520.667442</td>\n",
       "      <td>1502.585343</td>\n",
       "      <td>-498.260225</td>\n",
       "      <td>11.285908</td>\n",
       "      <td>...</td>\n",
       "      <td>28.000224</td>\n",
       "      <td>-500.565876</td>\n",
       "      <td>22.996528</td>\n",
       "      <td>-500.477583</td>\n",
       "      <td>19.994130</td>\n",
       "      <td>-499.791312</td>\n",
       "      <td>15.101425</td>\n",
       "      <td>-499.936252</td>\n",
       "      <td>10.989181</td>\n",
       "      <td>-498.347898</td>\n",
       "      <td>9.020944</td>\n",
       "      <td>-500.040448</td>\n",
       "      <td>8.982038</td>\n",
       "      <td>-497.789882</td>\n",
       "    </tr>\n",
       "    <tr>\n",
       "      <th>5288</th>\n",
       "      <td>2017-12-31 22:59:59</td>\n",
       "      <td>179.697158</td>\n",
       "      <td>15.438979</td>\n",
       "      <td>8.070000</td>\n",
       "      <td>1.501068</td>\n",
       "      <td>1498.466243</td>\n",
       "      <td>-500.483984</td>\n",
       "      <td>1497.986986</td>\n",
       "      <td>-519.200340</td>\n",
       "      <td>1496.569047</td>\n",
       "      <td>-487.479567</td>\n",
       "      <td>1502.688918</td>\n",
       "      <td>-501.569723</td>\n",
       "      <td>11.289710</td>\n",
       "      <td>...</td>\n",
       "      <td>27.980387</td>\n",
       "      <td>-499.907225</td>\n",
       "      <td>23.046562</td>\n",
       "      <td>-499.744914</td>\n",
       "      <td>19.958760</td>\n",
       "      <td>-499.958750</td>\n",
       "      <td>15.026853</td>\n",
       "      <td>-499.723143</td>\n",
       "      <td>11.011607</td>\n",
       "      <td>-499.985046</td>\n",
       "      <td>9.009783</td>\n",
       "      <td>-499.937902</td>\n",
       "      <td>9.012660</td>\n",
       "      <td>-500.154284</td>\n",
       "    </tr>\n",
       "    <tr>\n",
       "      <th>5289</th>\n",
       "      <td>2017-12-31 23:59:59</td>\n",
       "      <td>181.556856</td>\n",
       "      <td>14.995850</td>\n",
       "      <td>8.070000</td>\n",
       "      <td>1.623454</td>\n",
       "      <td>1498.096303</td>\n",
       "      <td>-499.796922</td>\n",
       "      <td>1501.743791</td>\n",
       "      <td>-505.146931</td>\n",
       "      <td>1499.535978</td>\n",
       "      <td>-492.428226</td>\n",
       "      <td>1499.674340</td>\n",
       "      <td>-499.766717</td>\n",
       "      <td>10.904646</td>\n",
       "      <td>...</td>\n",
       "      <td>28.023491</td>\n",
       "      <td>-500.170406</td>\n",
       "      <td>23.013559</td>\n",
       "      <td>-500.218801</td>\n",
       "      <td>20.034715</td>\n",
       "      <td>-500.728588</td>\n",
       "      <td>14.914199</td>\n",
       "      <td>-499.948518</td>\n",
       "      <td>10.986607</td>\n",
       "      <td>-500.658027</td>\n",
       "      <td>8.989497</td>\n",
       "      <td>-500.337588</td>\n",
       "      <td>8.988632</td>\n",
       "      <td>-500.764937</td>\n",
       "    </tr>\n",
       "  </tbody>\n",
       "</table>\n",
       "<p>5290 rows × 53 columns</p>\n",
       "</div>"
      ],
      "text/plain": [
       "                     date  primary_cleaner.input.sulfate  \\\n",
       "0     2016-09-01 00:59:59                     210.800909   \n",
       "1     2016-09-01 01:59:59                     215.392455   \n",
       "2     2016-09-01 02:59:59                     215.259946   \n",
       "3     2016-09-01 03:59:59                     215.336236   \n",
       "4     2016-09-01 04:59:59                     199.099327   \n",
       "...                   ...                            ...   \n",
       "5285  2017-12-31 19:59:59                     173.957757   \n",
       "5286  2017-12-31 20:59:59                     172.910270   \n",
       "5287  2017-12-31 21:59:59                     171.135718   \n",
       "5288  2017-12-31 22:59:59                     179.697158   \n",
       "5289  2017-12-31 23:59:59                     181.556856   \n",
       "\n",
       "      primary_cleaner.input.depressant  primary_cleaner.input.feed_size  \\\n",
       "0                            14.993118                         8.080000   \n",
       "1                            14.987471                         8.080000   \n",
       "2                            12.884934                         7.786667   \n",
       "3                            12.006805                         7.640000   \n",
       "4                            10.682530                         7.530000   \n",
       "...                                ...                              ...   \n",
       "5285                         15.963399                         8.070000   \n",
       "5286                         16.002605                         8.070000   \n",
       "5287                         15.993669                         8.070000   \n",
       "5288                         15.438979                         8.070000   \n",
       "5289                         14.995850                         8.070000   \n",
       "\n",
       "      primary_cleaner.input.xanthate  primary_cleaner.state.floatbank8_a_air  \\\n",
       "0                           1.005021                             1398.981301   \n",
       "1                           0.990469                             1398.777912   \n",
       "2                           0.996043                             1398.493666   \n",
       "3                           0.863514                             1399.618111   \n",
       "4                           0.805575                             1401.268123   \n",
       "...                              ...                                     ...   \n",
       "5285                        0.896701                             1401.930554   \n",
       "5286                        0.896519                             1447.075722   \n",
       "5287                        1.165996                             1498.836182   \n",
       "5288                        1.501068                             1498.466243   \n",
       "5289                        1.623454                             1498.096303   \n",
       "\n",
       "      primary_cleaner.state.floatbank8_a_level  \\\n",
       "0                                  -500.225577   \n",
       "1                                  -500.057435   \n",
       "2                                  -500.868360   \n",
       "3                                  -498.863574   \n",
       "4                                  -500.808305   \n",
       "...                                        ...   \n",
       "5285                               -499.728848   \n",
       "5286                               -494.716823   \n",
       "5287                               -501.770403   \n",
       "5288                               -500.483984   \n",
       "5289                               -499.796922   \n",
       "\n",
       "      primary_cleaner.state.floatbank8_b_air  \\\n",
       "0                                1399.144926   \n",
       "1                                1398.055362   \n",
       "2                                1398.860436   \n",
       "3                                1397.440120   \n",
       "4                                1398.128818   \n",
       "...                                      ...   \n",
       "5285                             1401.441445   \n",
       "5286                             1448.851892   \n",
       "5287                             1499.572353   \n",
       "5288                             1497.986986   \n",
       "5289                             1501.743791   \n",
       "\n",
       "      primary_cleaner.state.floatbank8_b_level  \\\n",
       "0                                  -499.919735   \n",
       "1                                  -499.778182   \n",
       "2                                  -499.764529   \n",
       "3                                  -499.211024   \n",
       "4                                  -499.504543   \n",
       "...                                        ...   \n",
       "5285                               -499.193423   \n",
       "5286                               -465.963026   \n",
       "5287                               -495.516347   \n",
       "5288                               -519.200340   \n",
       "5289                               -505.146931   \n",
       "\n",
       "      primary_cleaner.state.floatbank8_c_air  \\\n",
       "0                                1400.102998   \n",
       "1                                1396.151033   \n",
       "2                                1398.075709   \n",
       "3                                1400.129303   \n",
       "4                                1402.172226   \n",
       "...                                      ...   \n",
       "5285                             1399.810313   \n",
       "5286                             1443.890424   \n",
       "5287                             1502.749213   \n",
       "5288                             1496.569047   \n",
       "5289                             1499.535978   \n",
       "\n",
       "      primary_cleaner.state.floatbank8_c_level  \\\n",
       "0                                  -500.704369   \n",
       "1                                  -499.240168   \n",
       "2                                  -502.151509   \n",
       "3                                  -498.355873   \n",
       "4                                  -500.810606   \n",
       "...                                        ...   \n",
       "5285                               -499.599127   \n",
       "5286                               -503.587739   \n",
       "5287                               -520.667442   \n",
       "5288                               -487.479567   \n",
       "5289                               -492.428226   \n",
       "\n",
       "      primary_cleaner.state.floatbank8_d_air  \\\n",
       "0                                1399.001695   \n",
       "1                                1399.508091   \n",
       "2                                1399.497088   \n",
       "3                                1401.065165   \n",
       "4                                1399.480508   \n",
       "...                                      ...   \n",
       "5285                             1400.334792   \n",
       "5286                             1447.653388   \n",
       "5287                             1502.585343   \n",
       "5288                             1502.688918   \n",
       "5289                             1499.674340   \n",
       "\n",
       "      primary_cleaner.state.floatbank8_d_level  rougher.input.feed_ag  ...  \\\n",
       "0                                  -499.485144              13.128569  ...   \n",
       "1                                  -500.416324              13.036280  ...   \n",
       "2                                  -499.715479              13.138412  ...   \n",
       "3                                  -501.038738              12.400507  ...   \n",
       "4                                  -499.374053              11.327427  ...   \n",
       "...                                        ...                    ...  ...   \n",
       "5285                               -499.243459              11.638973  ...   \n",
       "5286                               -480.403849              11.338091  ...   \n",
       "5287                               -498.260225              11.285908  ...   \n",
       "5288                               -501.569723              11.289710  ...   \n",
       "5289                               -499.766717              10.904646  ...   \n",
       "\n",
       "      secondary_cleaner.state.floatbank3_a_air  \\\n",
       "0                                    20.018166   \n",
       "1                                    19.988503   \n",
       "2                                    20.039689   \n",
       "3                                    20.031100   \n",
       "4                                    19.962364   \n",
       "...                                        ...   \n",
       "5285                                 24.939573   \n",
       "5286                                 26.369171   \n",
       "5287                                 28.000224   \n",
       "5288                                 27.980387   \n",
       "5289                                 28.023491   \n",
       "\n",
       "      secondary_cleaner.state.floatbank3_a_level  \\\n",
       "0                                    -450.395995   \n",
       "1                                    -450.114024   \n",
       "2                                    -450.263164   \n",
       "3                                    -449.372570   \n",
       "4                                    -450.638828   \n",
       "...                                          ...   \n",
       "5285                                 -500.098479   \n",
       "5286                                 -499.222375   \n",
       "5287                                 -500.565876   \n",
       "5288                                 -499.907225   \n",
       "5289                                 -500.170406   \n",
       "\n",
       "      secondary_cleaner.state.floatbank3_b_air  \\\n",
       "0                                    13.987058   \n",
       "1                                    14.092981   \n",
       "2                                    14.077881   \n",
       "3                                    14.013968   \n",
       "4                                    14.009245   \n",
       "...                                        ...   \n",
       "5285                                 12.968448   \n",
       "5286                                 17.704862   \n",
       "5287                                 22.996528   \n",
       "5288                                 23.046562   \n",
       "5289                                 23.013559   \n",
       "\n",
       "      secondary_cleaner.state.floatbank3_b_level  \\\n",
       "0                                    -449.831513   \n",
       "1                                    -450.059163   \n",
       "2                                    -449.660997   \n",
       "3                                    -449.526900   \n",
       "4                                    -450.022259   \n",
       "...                                          ...   \n",
       "5285                                 -499.952023   \n",
       "5286                                 -499.545681   \n",
       "5287                                 -500.477583   \n",
       "5288                                 -499.744914   \n",
       "5289                                 -500.218801   \n",
       "\n",
       "      secondary_cleaner.state.floatbank4_a_air  \\\n",
       "0                                    12.023554   \n",
       "1                                    12.058140   \n",
       "2                                    11.962366   \n",
       "3                                    12.033091   \n",
       "4                                    12.025367   \n",
       "...                                        ...   \n",
       "5285                                 13.995957   \n",
       "5286                                 16.749781   \n",
       "5287                                 19.994130   \n",
       "5288                                 19.958760   \n",
       "5289                                 20.034715   \n",
       "\n",
       "      secondary_cleaner.state.floatbank4_a_level  \\\n",
       "0                                    -497.795834   \n",
       "1                                    -498.695773   \n",
       "2                                    -498.767484   \n",
       "3                                    -498.350935   \n",
       "4                                    -500.786497   \n",
       "...                                          ...   \n",
       "5285                                 -500.157454   \n",
       "5286                                 -496.031539   \n",
       "5287                                 -499.791312   \n",
       "5288                                 -499.958750   \n",
       "5289                                 -500.728588   \n",
       "\n",
       "      secondary_cleaner.state.floatbank4_b_air  \\\n",
       "0                                     8.016656   \n",
       "1                                     8.130979   \n",
       "2                                     8.096893   \n",
       "3                                     8.074946   \n",
       "4                                     8.054678   \n",
       "...                                        ...   \n",
       "5285                                 12.069155   \n",
       "5286                                 13.365371   \n",
       "5287                                 15.101425   \n",
       "5288                                 15.026853   \n",
       "5289                                 14.914199   \n",
       "\n",
       "      secondary_cleaner.state.floatbank4_b_level  \\\n",
       "0                                    -501.289139   \n",
       "1                                    -499.634209   \n",
       "2                                    -500.827423   \n",
       "3                                    -499.474407   \n",
       "4                                    -500.397500   \n",
       "...                                          ...   \n",
       "5285                                 -499.673279   \n",
       "5286                                 -499.122723   \n",
       "5287                                 -499.936252   \n",
       "5288                                 -499.723143   \n",
       "5289                                 -499.948518   \n",
       "\n",
       "      secondary_cleaner.state.floatbank5_a_air  \\\n",
       "0                                     7.946562   \n",
       "1                                     7.958270   \n",
       "2                                     8.071056   \n",
       "3                                     7.897085   \n",
       "4                                     8.107890   \n",
       "...                                        ...   \n",
       "5285                                  7.977259   \n",
       "5286                                  9.288553   \n",
       "5287                                 10.989181   \n",
       "5288                                 11.011607   \n",
       "5289                                 10.986607   \n",
       "\n",
       "      secondary_cleaner.state.floatbank5_a_level  \\\n",
       "0                                    -432.317850   \n",
       "1                                    -525.839648   \n",
       "2                                    -500.801673   \n",
       "3                                    -500.868509   \n",
       "4                                    -509.526725   \n",
       "...                                          ...   \n",
       "5285                                 -499.516126   \n",
       "5286                                 -496.892967   \n",
       "5287                                 -498.347898   \n",
       "5288                                 -499.985046   \n",
       "5289                                 -500.658027   \n",
       "\n",
       "      secondary_cleaner.state.floatbank5_b_air  \\\n",
       "0                                     4.872511   \n",
       "1                                     4.878850   \n",
       "2                                     4.905125   \n",
       "3                                     4.931400   \n",
       "4                                     4.957674   \n",
       "...                                        ...   \n",
       "5285                                  5.933319   \n",
       "5286                                  7.372897   \n",
       "5287                                  9.020944   \n",
       "5288                                  9.009783   \n",
       "5289                                  8.989497   \n",
       "\n",
       "      secondary_cleaner.state.floatbank5_b_level  \\\n",
       "0                                    -500.037437   \n",
       "1                                    -500.162375   \n",
       "2                                    -499.828510   \n",
       "3                                    -499.963623   \n",
       "4                                    -500.360026   \n",
       "...                                          ...   \n",
       "5285                                 -499.965973   \n",
       "5286                                 -499.942956   \n",
       "5287                                 -500.040448   \n",
       "5288                                 -499.937902   \n",
       "5289                                 -500.337588   \n",
       "\n",
       "      secondary_cleaner.state.floatbank6_a_air  \\\n",
       "0                                    26.705889   \n",
       "1                                    25.019940   \n",
       "2                                    24.994862   \n",
       "3                                    24.948919   \n",
       "4                                    25.003331   \n",
       "...                                        ...   \n",
       "5285                                  8.987171   \n",
       "5286                                  8.986832   \n",
       "5287                                  8.982038   \n",
       "5288                                  9.012660   \n",
       "5289                                  8.988632   \n",
       "\n",
       "      secondary_cleaner.state.floatbank6_a_level  \n",
       "0                                    -499.709414  \n",
       "1                                    -499.819438  \n",
       "2                                    -500.622559  \n",
       "3                                    -498.709987  \n",
       "4                                    -500.856333  \n",
       "...                                          ...  \n",
       "5285                                 -499.755909  \n",
       "5286                                 -499.903761  \n",
       "5287                                 -497.789882  \n",
       "5288                                 -500.154284  \n",
       "5289                                 -500.764937  \n",
       "\n",
       "[5290 rows x 53 columns]"
      ]
     },
     "metadata": {},
     "output_type": "display_data"
    },
    {
     "name": "stdout",
     "output_type": "stream",
     "text": [
      "Минимальные значения в датасете gold_recovery_test_new.csv:\n",
      "date                                          2016-09-01 00:59:59\n",
      "primary_cleaner.input.sulfate                            2.566156\n",
      "primary_cleaner.input.depressant                         0.003839\n",
      "primary_cleaner.input.feed_size                              5.65\n",
      "primary_cleaner.input.xanthate                           0.004984\n",
      "primary_cleaner.state.floatbank8_a_air                        0.0\n",
      "primary_cleaner.state.floatbank8_a_level              -795.316337\n",
      "primary_cleaner.state.floatbank8_b_air                        0.0\n",
      "primary_cleaner.state.floatbank8_b_level              -799.997015\n",
      "primary_cleaner.state.floatbank8_c_air                        0.0\n",
      "primary_cleaner.state.floatbank8_c_level              -799.960571\n",
      "primary_cleaner.state.floatbank8_d_air                        0.0\n",
      "primary_cleaner.state.floatbank8_d_level               -799.79425\n",
      "rougher.input.feed_ag                                    0.568441\n",
      "rougher.input.feed_pb                                    0.273677\n",
      "rougher.input.feed_rate                                  0.002986\n",
      "rougher.input.feed_size                                  0.046369\n",
      "rougher.input.feed_sol                                   1.393488\n",
      "rougher.input.feed_au                                    0.568632\n",
      "rougher.input.floatbank10_sulfate                        0.001147\n",
      "rougher.input.floatbank10_xanthate                       0.000568\n",
      "rougher.input.floatbank11_sulfate                        0.000077\n",
      "rougher.input.floatbank11_xanthate                       0.006985\n",
      "rougher.state.floatbank10_a_air                         -0.042069\n",
      "rougher.state.floatbank10_a_level                     -657.949759\n",
      "rougher.state.floatbank10_b_air                         -0.721806\n",
      "rougher.state.floatbank10_b_level                     -650.245277\n",
      "rougher.state.floatbank10_c_air                         -0.056636\n",
      "rougher.state.floatbank10_c_level                     -647.544439\n",
      "rougher.state.floatbank10_d_air                         -0.992219\n",
      "rougher.state.floatbank10_d_level                     -648.390665\n",
      "rougher.state.floatbank10_e_air                         -1.982295\n",
      "rougher.state.floatbank10_e_level                     -649.267537\n",
      "rougher.state.floatbank10_f_air                          -2.59339\n",
      "rougher.state.floatbank10_f_level                     -649.949283\n",
      "secondary_cleaner.state.floatbank2_a_air                 0.205329\n",
      "secondary_cleaner.state.floatbank2_a_level            -784.091091\n",
      "secondary_cleaner.state.floatbank2_b_air                 0.006064\n",
      "secondary_cleaner.state.floatbank2_b_level            -797.783989\n",
      "secondary_cleaner.state.floatbank3_a_air                      0.0\n",
      "secondary_cleaner.state.floatbank3_a_level            -799.755798\n",
      "secondary_cleaner.state.floatbank3_b_air                      0.0\n",
      "secondary_cleaner.state.floatbank3_b_level            -809.333008\n",
      "secondary_cleaner.state.floatbank4_a_air                      0.0\n",
      "secondary_cleaner.state.floatbank4_a_level            -799.798523\n",
      "secondary_cleaner.state.floatbank4_b_air                      0.0\n",
      "secondary_cleaner.state.floatbank4_b_level            -800.836914\n",
      "secondary_cleaner.state.floatbank5_a_air                 0.069227\n",
      "secondary_cleaner.state.floatbank5_a_level            -797.323986\n",
      "secondary_cleaner.state.floatbank5_b_air                 0.528083\n",
      "secondary_cleaner.state.floatbank5_b_level            -800.220337\n",
      "secondary_cleaner.state.floatbank6_a_air                -0.079426\n",
      "secondary_cleaner.state.floatbank6_a_level            -809.741464\n",
      "dtype: object \n",
      "\n",
      "Максимальные значения в датасете gold_recovery_test_new.csv:\n",
      "date                                          2017-12-31 23:59:59\n",
      "primary_cleaner.input.sulfate                          265.983123\n",
      "primary_cleaner.input.depressant                             40.0\n",
      "primary_cleaner.input.feed_size                              15.5\n",
      "primary_cleaner.input.xanthate                           4.102454\n",
      "primary_cleaner.state.floatbank8_a_air                 2103.10358\n",
      "primary_cleaner.state.floatbank8_a_level               -57.195404\n",
      "primary_cleaner.state.floatbank8_b_air                1813.083671\n",
      "primary_cleaner.state.floatbank8_b_level              -142.527229\n",
      "primary_cleaner.state.floatbank8_c_air                1715.053773\n",
      "primary_cleaner.state.floatbank8_c_level              -150.937035\n",
      "primary_cleaner.state.floatbank8_d_air                1913.256561\n",
      "primary_cleaner.state.floatbank8_d_level              -158.950573\n",
      "rougher.input.feed_ag                                    14.40613\n",
      "rougher.input.feed_pb                                    6.905684\n",
      "rougher.input.feed_rate                                 707.36402\n",
      "rougher.input.feed_size                                 392.49404\n",
      "rougher.input.feed_sol                                  53.477742\n",
      "rougher.input.feed_au                                    13.73133\n",
      "rougher.input.floatbank10_sulfate                       24.280636\n",
      "rougher.input.floatbank10_xanthate                       8.910468\n",
      "rougher.input.floatbank11_sulfate                       24.280966\n",
      "rougher.input.floatbank11_xanthate                       8.621338\n",
      "rougher.state.floatbank10_a_air                       1423.274687\n",
      "rougher.state.floatbank10_a_level                     -273.776101\n",
      "rougher.state.floatbank10_b_air                       1706.640419\n",
      "rougher.state.floatbank10_b_level                     -298.200051\n",
      "rougher.state.floatbank10_c_air                       1731.017788\n",
      "rougher.state.floatbank10_c_level                     -298.036852\n",
      "rougher.state.floatbank10_d_air                       1775.218584\n",
      "rougher.state.floatbank10_d_level                      -76.397327\n",
      "rougher.state.floatbank10_e_air                       1467.184843\n",
      "rougher.state.floatbank10_e_level                     -139.753025\n",
      "rougher.state.floatbank10_f_air                       1476.588107\n",
      "rougher.state.floatbank10_f_level                     -249.801043\n",
      "secondary_cleaner.state.floatbank2_a_air                32.138727\n",
      "secondary_cleaner.state.floatbank2_a_level             -300.34367\n",
      "secondary_cleaner.state.floatbank2_b_air                28.165864\n",
      "secondary_cleaner.state.floatbank2_b_level            -211.999273\n",
      "secondary_cleaner.state.floatbank3_a_air                40.041997\n",
      "secondary_cleaner.state.floatbank3_a_level            -313.866425\n",
      "secondary_cleaner.state.floatbank3_b_air                32.039365\n",
      "secondary_cleaner.state.floatbank3_b_level            -202.277366\n",
      "secondary_cleaner.state.floatbank4_a_air                30.051797\n",
      "secondary_cleaner.state.floatbank4_a_level            -401.565212\n",
      "secondary_cleaner.state.floatbank4_b_air                31.269706\n",
      "secondary_cleaner.state.floatbank4_b_level              -6.506986\n",
      "secondary_cleaner.state.floatbank5_a_air                25.258848\n",
      "secondary_cleaner.state.floatbank5_a_level            -244.483566\n",
      "secondary_cleaner.state.floatbank5_b_air                14.086866\n",
      "secondary_cleaner.state.floatbank5_b_level            -137.740004\n",
      "secondary_cleaner.state.floatbank6_a_air                26.705889\n",
      "secondary_cleaner.state.floatbank6_a_level            -123.307487\n",
      "dtype: object \n",
      "\n",
      "Количество дубликатов в датасете gold_recovery_test_new.csv:\n",
      "0 \n",
      "\n",
      "Колонки с пропущенными значениями в датасете gold_recovery_test_new.csv:\n",
      "\n",
      "date                                           0\n",
      "primary_cleaner.input.sulfate                  4\n",
      "primary_cleaner.input.depressant               5\n",
      "primary_cleaner.input.feed_size                0\n",
      "primary_cleaner.input.xanthate                 4\n",
      "primary_cleaner.state.floatbank8_a_air         0\n",
      "primary_cleaner.state.floatbank8_a_level       0\n",
      "primary_cleaner.state.floatbank8_b_air         0\n",
      "primary_cleaner.state.floatbank8_b_level       0\n",
      "primary_cleaner.state.floatbank8_c_air         0\n",
      "primary_cleaner.state.floatbank8_c_level       0\n",
      "primary_cleaner.state.floatbank8_d_air         0\n",
      "primary_cleaner.state.floatbank8_d_level       0\n",
      "rougher.input.feed_ag                          0\n",
      "rougher.input.feed_pb                          0\n",
      "rougher.input.feed_rate                        3\n",
      "rougher.input.feed_size                        1\n",
      "rougher.input.feed_sol                        21\n",
      "rougher.input.feed_au                          0\n",
      "rougher.input.floatbank10_sulfate              5\n",
      "rougher.input.floatbank10_xanthate             0\n",
      "rougher.input.floatbank11_sulfate              8\n",
      "rougher.input.floatbank11_xanthate            25\n",
      "rougher.state.floatbank10_a_air                0\n",
      "rougher.state.floatbank10_a_level              0\n",
      "rougher.state.floatbank10_b_air                0\n",
      "rougher.state.floatbank10_b_level              0\n",
      "rougher.state.floatbank10_c_air                0\n",
      "rougher.state.floatbank10_c_level              0\n",
      "rougher.state.floatbank10_d_air                0\n",
      "rougher.state.floatbank10_d_level              0\n",
      "rougher.state.floatbank10_e_air                0\n",
      "rougher.state.floatbank10_e_level              0\n",
      "rougher.state.floatbank10_f_air                0\n",
      "rougher.state.floatbank10_f_level              0\n",
      "secondary_cleaner.state.floatbank2_a_air       3\n",
      "secondary_cleaner.state.floatbank2_a_level     0\n",
      "secondary_cleaner.state.floatbank2_b_air       2\n",
      "secondary_cleaner.state.floatbank2_b_level     0\n",
      "secondary_cleaner.state.floatbank3_a_air       9\n",
      "secondary_cleaner.state.floatbank3_a_level     0\n",
      "secondary_cleaner.state.floatbank3_b_air       0\n",
      "secondary_cleaner.state.floatbank3_b_level     0\n",
      "secondary_cleaner.state.floatbank4_a_air       0\n",
      "secondary_cleaner.state.floatbank4_a_level     0\n",
      "secondary_cleaner.state.floatbank4_b_air       0\n",
      "secondary_cleaner.state.floatbank4_b_level     0\n",
      "secondary_cleaner.state.floatbank5_a_air       0\n",
      "secondary_cleaner.state.floatbank5_a_level     0\n",
      "secondary_cleaner.state.floatbank5_b_air       0\n",
      "secondary_cleaner.state.floatbank5_b_level     0\n",
      "secondary_cleaner.state.floatbank6_a_air       0\n",
      "secondary_cleaner.state.floatbank6_a_level     0\n",
      "dtype: int64 \n",
      "\n",
      "Общая информация о датасете gold_recovery_full_new.csv:\n",
      "<class 'pandas.core.frame.DataFrame'>\n",
      "RangeIndex: 19439 entries, 0 to 19438\n",
      "Data columns (total 87 columns):\n",
      " #   Column                                              Non-Null Count  Dtype  \n",
      "---  ------                                              --------------  -----  \n",
      " 0   date                                                19439 non-null  object \n",
      " 1   final.output.concentrate_ag                         19438 non-null  float64\n",
      " 2   final.output.concentrate_pb                         19438 non-null  float64\n",
      " 3   final.output.concentrate_sol                        19228 non-null  float64\n",
      " 4   final.output.concentrate_au                         19439 non-null  float64\n",
      " 5   final.output.recovery                               19439 non-null  float64\n",
      " 6   final.output.tail_ag                                19438 non-null  float64\n",
      " 7   final.output.tail_pb                                19338 non-null  float64\n",
      " 8   final.output.tail_sol                               19433 non-null  float64\n",
      " 9   final.output.tail_au                                19439 non-null  float64\n",
      " 10  primary_cleaner.input.sulfate                       19415 non-null  float64\n",
      " 11  primary_cleaner.input.depressant                    19402 non-null  float64\n",
      " 12  primary_cleaner.input.feed_size                     19439 non-null  float64\n",
      " 13  primary_cleaner.input.xanthate                      19335 non-null  float64\n",
      " 14  primary_cleaner.output.concentrate_ag               19439 non-null  float64\n",
      " 15  primary_cleaner.output.concentrate_pb               19323 non-null  float64\n",
      " 16  primary_cleaner.output.concentrate_sol              19069 non-null  float64\n",
      " 17  primary_cleaner.output.concentrate_au               19439 non-null  float64\n",
      " 18  primary_cleaner.output.tail_ag                      19435 non-null  float64\n",
      " 19  primary_cleaner.output.tail_pb                      19418 non-null  float64\n",
      " 20  primary_cleaner.output.tail_sol                     19377 non-null  float64\n",
      " 21  primary_cleaner.output.tail_au                      19439 non-null  float64\n",
      " 22  primary_cleaner.state.floatbank8_a_air              19435 non-null  float64\n",
      " 23  primary_cleaner.state.floatbank8_a_level            19438 non-null  float64\n",
      " 24  primary_cleaner.state.floatbank8_b_air              19435 non-null  float64\n",
      " 25  primary_cleaner.state.floatbank8_b_level            19438 non-null  float64\n",
      " 26  primary_cleaner.state.floatbank8_c_air              19437 non-null  float64\n",
      " 27  primary_cleaner.state.floatbank8_c_level            19438 non-null  float64\n",
      " 28  primary_cleaner.state.floatbank8_d_air              19436 non-null  float64\n",
      " 29  primary_cleaner.state.floatbank8_d_level            19438 non-null  float64\n",
      " 30  rougher.calculation.sulfate_to_au_concentrate       19437 non-null  float64\n",
      " 31  rougher.calculation.floatbank10_sulfate_to_au_feed  19437 non-null  float64\n",
      " 32  rougher.calculation.floatbank11_sulfate_to_au_feed  19437 non-null  float64\n",
      " 33  rougher.calculation.au_pb_ratio                     19439 non-null  float64\n",
      " 34  rougher.input.feed_ag                               19439 non-null  float64\n",
      " 35  rougher.input.feed_pb                               19339 non-null  float64\n",
      " 36  rougher.input.feed_rate                             19428 non-null  float64\n",
      " 37  rougher.input.feed_size                             19294 non-null  float64\n",
      " 38  rougher.input.feed_sol                              19340 non-null  float64\n",
      " 39  rougher.input.feed_au                               19439 non-null  float64\n",
      " 40  rougher.input.floatbank10_sulfate                   19405 non-null  float64\n",
      " 41  rougher.input.floatbank10_xanthate                  19431 non-null  float64\n",
      " 42  rougher.input.floatbank11_sulfate                   19395 non-null  float64\n",
      " 43  rougher.input.floatbank11_xanthate                  18986 non-null  float64\n",
      " 44  rougher.output.concentrate_ag                       19439 non-null  float64\n",
      " 45  rougher.output.concentrate_pb                       19439 non-null  float64\n",
      " 46  rougher.output.concentrate_sol                      19416 non-null  float64\n",
      " 47  rougher.output.concentrate_au                       19439 non-null  float64\n",
      " 48  rougher.output.recovery                             19439 non-null  float64\n",
      " 49  rougher.output.tail_ag                              19438 non-null  float64\n",
      " 50  rougher.output.tail_pb                              19439 non-null  float64\n",
      " 51  rougher.output.tail_sol                             19439 non-null  float64\n",
      " 52  rougher.output.tail_au                              19439 non-null  float64\n",
      " 53  rougher.state.floatbank10_a_air                     19438 non-null  float64\n",
      " 54  rougher.state.floatbank10_a_level                   19438 non-null  float64\n",
      " 55  rougher.state.floatbank10_b_air                     19438 non-null  float64\n",
      " 56  rougher.state.floatbank10_b_level                   19438 non-null  float64\n",
      " 57  rougher.state.floatbank10_c_air                     19438 non-null  float64\n",
      " 58  rougher.state.floatbank10_c_level                   19438 non-null  float64\n",
      " 59  rougher.state.floatbank10_d_air                     19439 non-null  float64\n",
      " 60  rougher.state.floatbank10_d_level                   19439 non-null  float64\n",
      " 61  rougher.state.floatbank10_e_air                     19003 non-null  float64\n",
      " 62  rougher.state.floatbank10_e_level                   19439 non-null  float64\n",
      " 63  rougher.state.floatbank10_f_air                     19439 non-null  float64\n",
      " 64  rougher.state.floatbank10_f_level                   19439 non-null  float64\n",
      " 65  secondary_cleaner.output.tail_ag                    19437 non-null  float64\n",
      " 66  secondary_cleaner.output.tail_pb                    19427 non-null  float64\n",
      " 67  secondary_cleaner.output.tail_sol                   17691 non-null  float64\n",
      " 68  secondary_cleaner.output.tail_au                    19439 non-null  float64\n",
      " 69  secondary_cleaner.state.floatbank2_a_air            19219 non-null  float64\n",
      " 70  secondary_cleaner.state.floatbank2_a_level          19438 non-null  float64\n",
      " 71  secondary_cleaner.state.floatbank2_b_air            19416 non-null  float64\n",
      " 72  secondary_cleaner.state.floatbank2_b_level          19438 non-null  float64\n",
      " 73  secondary_cleaner.state.floatbank3_a_air            19426 non-null  float64\n",
      " 74  secondary_cleaner.state.floatbank3_a_level          19438 non-null  float64\n",
      " 75  secondary_cleaner.state.floatbank3_b_air            19438 non-null  float64\n",
      " 76  secondary_cleaner.state.floatbank3_b_level          19438 non-null  float64\n",
      " 77  secondary_cleaner.state.floatbank4_a_air            19433 non-null  float64\n",
      " 78  secondary_cleaner.state.floatbank4_a_level          19438 non-null  float64\n",
      " 79  secondary_cleaner.state.floatbank4_b_air            19438 non-null  float64\n",
      " 80  secondary_cleaner.state.floatbank4_b_level          19438 non-null  float64\n",
      " 81  secondary_cleaner.state.floatbank5_a_air            19438 non-null  float64\n",
      " 82  secondary_cleaner.state.floatbank5_a_level          19438 non-null  float64\n",
      " 83  secondary_cleaner.state.floatbank5_b_air            19438 non-null  float64\n",
      " 84  secondary_cleaner.state.floatbank5_b_level          19438 non-null  float64\n",
      " 85  secondary_cleaner.state.floatbank6_a_air            19437 non-null  float64\n",
      " 86  secondary_cleaner.state.floatbank6_a_level          19438 non-null  float64\n",
      "dtypes: float64(86), object(1)\n",
      "memory usage: 12.9+ MB\n",
      "\n",
      "Обзор данных датасета:\n"
     ]
    },
    {
     "data": {
      "text/html": [
       "<div>\n",
       "<style scoped>\n",
       "    .dataframe tbody tr th:only-of-type {\n",
       "        vertical-align: middle;\n",
       "    }\n",
       "\n",
       "    .dataframe tbody tr th {\n",
       "        vertical-align: top;\n",
       "    }\n",
       "\n",
       "    .dataframe thead th {\n",
       "        text-align: right;\n",
       "    }\n",
       "</style>\n",
       "<table border=\"1\" class=\"dataframe\">\n",
       "  <thead>\n",
       "    <tr style=\"text-align: right;\">\n",
       "      <th></th>\n",
       "      <th>date</th>\n",
       "      <th>final.output.concentrate_ag</th>\n",
       "      <th>final.output.concentrate_pb</th>\n",
       "      <th>final.output.concentrate_sol</th>\n",
       "      <th>final.output.concentrate_au</th>\n",
       "      <th>final.output.recovery</th>\n",
       "      <th>final.output.tail_ag</th>\n",
       "      <th>final.output.tail_pb</th>\n",
       "      <th>final.output.tail_sol</th>\n",
       "      <th>final.output.tail_au</th>\n",
       "      <th>primary_cleaner.input.sulfate</th>\n",
       "      <th>primary_cleaner.input.depressant</th>\n",
       "      <th>primary_cleaner.input.feed_size</th>\n",
       "      <th>primary_cleaner.input.xanthate</th>\n",
       "      <th>...</th>\n",
       "      <th>secondary_cleaner.state.floatbank3_a_air</th>\n",
       "      <th>secondary_cleaner.state.floatbank3_a_level</th>\n",
       "      <th>secondary_cleaner.state.floatbank3_b_air</th>\n",
       "      <th>secondary_cleaner.state.floatbank3_b_level</th>\n",
       "      <th>secondary_cleaner.state.floatbank4_a_air</th>\n",
       "      <th>secondary_cleaner.state.floatbank4_a_level</th>\n",
       "      <th>secondary_cleaner.state.floatbank4_b_air</th>\n",
       "      <th>secondary_cleaner.state.floatbank4_b_level</th>\n",
       "      <th>secondary_cleaner.state.floatbank5_a_air</th>\n",
       "      <th>secondary_cleaner.state.floatbank5_a_level</th>\n",
       "      <th>secondary_cleaner.state.floatbank5_b_air</th>\n",
       "      <th>secondary_cleaner.state.floatbank5_b_level</th>\n",
       "      <th>secondary_cleaner.state.floatbank6_a_air</th>\n",
       "      <th>secondary_cleaner.state.floatbank6_a_level</th>\n",
       "    </tr>\n",
       "  </thead>\n",
       "  <tbody>\n",
       "    <tr>\n",
       "      <th>0</th>\n",
       "      <td>2016-01-15 00:00:00</td>\n",
       "      <td>6.055403</td>\n",
       "      <td>9.889648</td>\n",
       "      <td>5.507324</td>\n",
       "      <td>42.192020</td>\n",
       "      <td>70.541216</td>\n",
       "      <td>10.411962</td>\n",
       "      <td>0.895447</td>\n",
       "      <td>16.904297</td>\n",
       "      <td>2.143149</td>\n",
       "      <td>127.092003</td>\n",
       "      <td>10.128295</td>\n",
       "      <td>7.25</td>\n",
       "      <td>0.988759</td>\n",
       "      <td>...</td>\n",
       "      <td>23.961798</td>\n",
       "      <td>-495.262817</td>\n",
       "      <td>21.940409</td>\n",
       "      <td>-499.340973</td>\n",
       "      <td>14.016835</td>\n",
       "      <td>-502.488007</td>\n",
       "      <td>12.099931</td>\n",
       "      <td>-504.715942</td>\n",
       "      <td>9.925633</td>\n",
       "      <td>-498.310211</td>\n",
       "      <td>8.079666</td>\n",
       "      <td>-500.470978</td>\n",
       "      <td>14.151341</td>\n",
       "      <td>-605.841980</td>\n",
       "    </tr>\n",
       "    <tr>\n",
       "      <th>1</th>\n",
       "      <td>2016-01-15 01:00:00</td>\n",
       "      <td>6.029369</td>\n",
       "      <td>9.968944</td>\n",
       "      <td>5.257781</td>\n",
       "      <td>42.701629</td>\n",
       "      <td>69.266198</td>\n",
       "      <td>10.462676</td>\n",
       "      <td>0.927452</td>\n",
       "      <td>16.634514</td>\n",
       "      <td>2.224930</td>\n",
       "      <td>125.629232</td>\n",
       "      <td>10.296251</td>\n",
       "      <td>7.25</td>\n",
       "      <td>1.002663</td>\n",
       "      <td>...</td>\n",
       "      <td>23.970550</td>\n",
       "      <td>-500.085473</td>\n",
       "      <td>22.085714</td>\n",
       "      <td>-499.446897</td>\n",
       "      <td>13.992281</td>\n",
       "      <td>-505.503262</td>\n",
       "      <td>11.950531</td>\n",
       "      <td>-501.331529</td>\n",
       "      <td>10.039245</td>\n",
       "      <td>-500.169983</td>\n",
       "      <td>7.984757</td>\n",
       "      <td>-500.582168</td>\n",
       "      <td>13.998353</td>\n",
       "      <td>-599.787184</td>\n",
       "    </tr>\n",
       "    <tr>\n",
       "      <th>2</th>\n",
       "      <td>2016-01-15 02:00:00</td>\n",
       "      <td>6.055926</td>\n",
       "      <td>10.213995</td>\n",
       "      <td>5.383759</td>\n",
       "      <td>42.657501</td>\n",
       "      <td>68.116445</td>\n",
       "      <td>10.507046</td>\n",
       "      <td>0.953716</td>\n",
       "      <td>16.208849</td>\n",
       "      <td>2.257889</td>\n",
       "      <td>123.819808</td>\n",
       "      <td>11.316280</td>\n",
       "      <td>7.25</td>\n",
       "      <td>0.991265</td>\n",
       "      <td>...</td>\n",
       "      <td>23.913535</td>\n",
       "      <td>-499.442343</td>\n",
       "      <td>23.957717</td>\n",
       "      <td>-499.901982</td>\n",
       "      <td>14.015015</td>\n",
       "      <td>-502.520901</td>\n",
       "      <td>11.912783</td>\n",
       "      <td>-501.133383</td>\n",
       "      <td>10.070913</td>\n",
       "      <td>-500.129135</td>\n",
       "      <td>8.013877</td>\n",
       "      <td>-500.517572</td>\n",
       "      <td>14.028663</td>\n",
       "      <td>-601.427363</td>\n",
       "    </tr>\n",
       "    <tr>\n",
       "      <th>3</th>\n",
       "      <td>2016-01-15 03:00:00</td>\n",
       "      <td>6.047977</td>\n",
       "      <td>9.977019</td>\n",
       "      <td>4.858634</td>\n",
       "      <td>42.689819</td>\n",
       "      <td>68.347543</td>\n",
       "      <td>10.422762</td>\n",
       "      <td>0.883763</td>\n",
       "      <td>16.532835</td>\n",
       "      <td>2.146849</td>\n",
       "      <td>122.270188</td>\n",
       "      <td>11.322140</td>\n",
       "      <td>7.25</td>\n",
       "      <td>0.996739</td>\n",
       "      <td>...</td>\n",
       "      <td>23.966838</td>\n",
       "      <td>-500.008812</td>\n",
       "      <td>23.954443</td>\n",
       "      <td>-499.944710</td>\n",
       "      <td>14.036510</td>\n",
       "      <td>-500.857308</td>\n",
       "      <td>11.999550</td>\n",
       "      <td>-501.193686</td>\n",
       "      <td>9.970366</td>\n",
       "      <td>-499.201640</td>\n",
       "      <td>7.977324</td>\n",
       "      <td>-500.255908</td>\n",
       "      <td>14.005551</td>\n",
       "      <td>-599.996129</td>\n",
       "    </tr>\n",
       "    <tr>\n",
       "      <th>4</th>\n",
       "      <td>2016-01-15 04:00:00</td>\n",
       "      <td>6.148599</td>\n",
       "      <td>10.142511</td>\n",
       "      <td>4.939416</td>\n",
       "      <td>42.774141</td>\n",
       "      <td>66.927016</td>\n",
       "      <td>10.360302</td>\n",
       "      <td>0.792826</td>\n",
       "      <td>16.525686</td>\n",
       "      <td>2.055292</td>\n",
       "      <td>117.988169</td>\n",
       "      <td>11.913613</td>\n",
       "      <td>7.25</td>\n",
       "      <td>1.009869</td>\n",
       "      <td>...</td>\n",
       "      <td>23.985703</td>\n",
       "      <td>-500.083811</td>\n",
       "      <td>23.958945</td>\n",
       "      <td>-499.990309</td>\n",
       "      <td>14.027298</td>\n",
       "      <td>-499.838632</td>\n",
       "      <td>11.953070</td>\n",
       "      <td>-501.053894</td>\n",
       "      <td>9.925709</td>\n",
       "      <td>-501.686727</td>\n",
       "      <td>7.894242</td>\n",
       "      <td>-500.356035</td>\n",
       "      <td>13.996647</td>\n",
       "      <td>-601.496691</td>\n",
       "    </tr>\n",
       "    <tr>\n",
       "      <th>...</th>\n",
       "      <td>...</td>\n",
       "      <td>...</td>\n",
       "      <td>...</td>\n",
       "      <td>...</td>\n",
       "      <td>...</td>\n",
       "      <td>...</td>\n",
       "      <td>...</td>\n",
       "      <td>...</td>\n",
       "      <td>...</td>\n",
       "      <td>...</td>\n",
       "      <td>...</td>\n",
       "      <td>...</td>\n",
       "      <td>...</td>\n",
       "      <td>...</td>\n",
       "      <td>...</td>\n",
       "      <td>...</td>\n",
       "      <td>...</td>\n",
       "      <td>...</td>\n",
       "      <td>...</td>\n",
       "      <td>...</td>\n",
       "      <td>...</td>\n",
       "      <td>...</td>\n",
       "      <td>...</td>\n",
       "      <td>...</td>\n",
       "      <td>...</td>\n",
       "      <td>...</td>\n",
       "      <td>...</td>\n",
       "      <td>...</td>\n",
       "      <td>...</td>\n",
       "    </tr>\n",
       "    <tr>\n",
       "      <th>19434</th>\n",
       "      <td>2018-08-18 06:59:59</td>\n",
       "      <td>3.224920</td>\n",
       "      <td>11.356233</td>\n",
       "      <td>6.803482</td>\n",
       "      <td>46.713954</td>\n",
       "      <td>73.755150</td>\n",
       "      <td>8.769645</td>\n",
       "      <td>3.141541</td>\n",
       "      <td>10.403181</td>\n",
       "      <td>1.529220</td>\n",
       "      <td>123.381787</td>\n",
       "      <td>8.028927</td>\n",
       "      <td>6.50</td>\n",
       "      <td>1.304232</td>\n",
       "      <td>...</td>\n",
       "      <td>26.002402</td>\n",
       "      <td>-499.953431</td>\n",
       "      <td>22.987238</td>\n",
       "      <td>-499.967351</td>\n",
       "      <td>23.031497</td>\n",
       "      <td>-501.167942</td>\n",
       "      <td>20.007571</td>\n",
       "      <td>-499.740028</td>\n",
       "      <td>18.006038</td>\n",
       "      <td>-499.834374</td>\n",
       "      <td>13.001114</td>\n",
       "      <td>-500.155694</td>\n",
       "      <td>20.007840</td>\n",
       "      <td>-501.296428</td>\n",
       "    </tr>\n",
       "    <tr>\n",
       "      <th>19435</th>\n",
       "      <td>2018-08-18 07:59:59</td>\n",
       "      <td>3.195978</td>\n",
       "      <td>11.349355</td>\n",
       "      <td>6.862249</td>\n",
       "      <td>46.866780</td>\n",
       "      <td>69.049291</td>\n",
       "      <td>8.897321</td>\n",
       "      <td>3.130493</td>\n",
       "      <td>10.549470</td>\n",
       "      <td>1.612542</td>\n",
       "      <td>120.878188</td>\n",
       "      <td>7.962636</td>\n",
       "      <td>6.50</td>\n",
       "      <td>1.302419</td>\n",
       "      <td>...</td>\n",
       "      <td>26.031747</td>\n",
       "      <td>-500.384612</td>\n",
       "      <td>22.991058</td>\n",
       "      <td>-500.079590</td>\n",
       "      <td>22.960095</td>\n",
       "      <td>-501.612783</td>\n",
       "      <td>20.035660</td>\n",
       "      <td>-500.251357</td>\n",
       "      <td>17.998535</td>\n",
       "      <td>-500.395178</td>\n",
       "      <td>12.954048</td>\n",
       "      <td>-499.895163</td>\n",
       "      <td>19.968498</td>\n",
       "      <td>-501.041608</td>\n",
       "    </tr>\n",
       "    <tr>\n",
       "      <th>19436</th>\n",
       "      <td>2018-08-18 08:59:59</td>\n",
       "      <td>3.109998</td>\n",
       "      <td>11.434366</td>\n",
       "      <td>6.886013</td>\n",
       "      <td>46.795691</td>\n",
       "      <td>67.002189</td>\n",
       "      <td>8.529606</td>\n",
       "      <td>2.911418</td>\n",
       "      <td>11.115147</td>\n",
       "      <td>1.596616</td>\n",
       "      <td>105.666118</td>\n",
       "      <td>7.955111</td>\n",
       "      <td>6.50</td>\n",
       "      <td>1.315926</td>\n",
       "      <td>...</td>\n",
       "      <td>25.948429</td>\n",
       "      <td>-500.067268</td>\n",
       "      <td>22.968268</td>\n",
       "      <td>-499.839442</td>\n",
       "      <td>23.015718</td>\n",
       "      <td>-501.711599</td>\n",
       "      <td>19.951231</td>\n",
       "      <td>-499.857027</td>\n",
       "      <td>18.019543</td>\n",
       "      <td>-500.451156</td>\n",
       "      <td>13.023431</td>\n",
       "      <td>-499.914391</td>\n",
       "      <td>19.990885</td>\n",
       "      <td>-501.518452</td>\n",
       "    </tr>\n",
       "    <tr>\n",
       "      <th>19437</th>\n",
       "      <td>2018-08-18 09:59:59</td>\n",
       "      <td>3.367241</td>\n",
       "      <td>11.625587</td>\n",
       "      <td>6.799433</td>\n",
       "      <td>46.408188</td>\n",
       "      <td>65.523246</td>\n",
       "      <td>8.777171</td>\n",
       "      <td>2.819214</td>\n",
       "      <td>10.463847</td>\n",
       "      <td>1.602879</td>\n",
       "      <td>98.880538</td>\n",
       "      <td>7.984164</td>\n",
       "      <td>6.50</td>\n",
       "      <td>1.241969</td>\n",
       "      <td>...</td>\n",
       "      <td>25.971737</td>\n",
       "      <td>-499.608392</td>\n",
       "      <td>22.958448</td>\n",
       "      <td>-499.821308</td>\n",
       "      <td>23.024963</td>\n",
       "      <td>-501.153409</td>\n",
       "      <td>20.054122</td>\n",
       "      <td>-500.314711</td>\n",
       "      <td>17.979515</td>\n",
       "      <td>-499.272871</td>\n",
       "      <td>12.992404</td>\n",
       "      <td>-499.976268</td>\n",
       "      <td>20.013986</td>\n",
       "      <td>-500.625471</td>\n",
       "    </tr>\n",
       "    <tr>\n",
       "      <th>19438</th>\n",
       "      <td>2018-08-18 10:59:59</td>\n",
       "      <td>3.598375</td>\n",
       "      <td>11.737832</td>\n",
       "      <td>6.717509</td>\n",
       "      <td>46.299438</td>\n",
       "      <td>70.281454</td>\n",
       "      <td>8.406690</td>\n",
       "      <td>2.517518</td>\n",
       "      <td>10.652193</td>\n",
       "      <td>1.389434</td>\n",
       "      <td>95.248427</td>\n",
       "      <td>8.078957</td>\n",
       "      <td>6.50</td>\n",
       "      <td>1.283045</td>\n",
       "      <td>...</td>\n",
       "      <td>26.033990</td>\n",
       "      <td>-500.147792</td>\n",
       "      <td>22.952306</td>\n",
       "      <td>-500.037678</td>\n",
       "      <td>23.018622</td>\n",
       "      <td>-500.492702</td>\n",
       "      <td>20.020205</td>\n",
       "      <td>-500.220296</td>\n",
       "      <td>17.963512</td>\n",
       "      <td>-499.939490</td>\n",
       "      <td>12.990306</td>\n",
       "      <td>-500.080993</td>\n",
       "      <td>19.990336</td>\n",
       "      <td>-499.191575</td>\n",
       "    </tr>\n",
       "  </tbody>\n",
       "</table>\n",
       "<p>19439 rows × 87 columns</p>\n",
       "</div>"
      ],
      "text/plain": [
       "                      date  final.output.concentrate_ag  \\\n",
       "0      2016-01-15 00:00:00                     6.055403   \n",
       "1      2016-01-15 01:00:00                     6.029369   \n",
       "2      2016-01-15 02:00:00                     6.055926   \n",
       "3      2016-01-15 03:00:00                     6.047977   \n",
       "4      2016-01-15 04:00:00                     6.148599   \n",
       "...                    ...                          ...   \n",
       "19434  2018-08-18 06:59:59                     3.224920   \n",
       "19435  2018-08-18 07:59:59                     3.195978   \n",
       "19436  2018-08-18 08:59:59                     3.109998   \n",
       "19437  2018-08-18 09:59:59                     3.367241   \n",
       "19438  2018-08-18 10:59:59                     3.598375   \n",
       "\n",
       "       final.output.concentrate_pb  final.output.concentrate_sol  \\\n",
       "0                         9.889648                      5.507324   \n",
       "1                         9.968944                      5.257781   \n",
       "2                        10.213995                      5.383759   \n",
       "3                         9.977019                      4.858634   \n",
       "4                        10.142511                      4.939416   \n",
       "...                            ...                           ...   \n",
       "19434                    11.356233                      6.803482   \n",
       "19435                    11.349355                      6.862249   \n",
       "19436                    11.434366                      6.886013   \n",
       "19437                    11.625587                      6.799433   \n",
       "19438                    11.737832                      6.717509   \n",
       "\n",
       "       final.output.concentrate_au  final.output.recovery  \\\n",
       "0                        42.192020              70.541216   \n",
       "1                        42.701629              69.266198   \n",
       "2                        42.657501              68.116445   \n",
       "3                        42.689819              68.347543   \n",
       "4                        42.774141              66.927016   \n",
       "...                            ...                    ...   \n",
       "19434                    46.713954              73.755150   \n",
       "19435                    46.866780              69.049291   \n",
       "19436                    46.795691              67.002189   \n",
       "19437                    46.408188              65.523246   \n",
       "19438                    46.299438              70.281454   \n",
       "\n",
       "       final.output.tail_ag  final.output.tail_pb  final.output.tail_sol  \\\n",
       "0                 10.411962              0.895447              16.904297   \n",
       "1                 10.462676              0.927452              16.634514   \n",
       "2                 10.507046              0.953716              16.208849   \n",
       "3                 10.422762              0.883763              16.532835   \n",
       "4                 10.360302              0.792826              16.525686   \n",
       "...                     ...                   ...                    ...   \n",
       "19434              8.769645              3.141541              10.403181   \n",
       "19435              8.897321              3.130493              10.549470   \n",
       "19436              8.529606              2.911418              11.115147   \n",
       "19437              8.777171              2.819214              10.463847   \n",
       "19438              8.406690              2.517518              10.652193   \n",
       "\n",
       "       final.output.tail_au  primary_cleaner.input.sulfate  \\\n",
       "0                  2.143149                     127.092003   \n",
       "1                  2.224930                     125.629232   \n",
       "2                  2.257889                     123.819808   \n",
       "3                  2.146849                     122.270188   \n",
       "4                  2.055292                     117.988169   \n",
       "...                     ...                            ...   \n",
       "19434              1.529220                     123.381787   \n",
       "19435              1.612542                     120.878188   \n",
       "19436              1.596616                     105.666118   \n",
       "19437              1.602879                      98.880538   \n",
       "19438              1.389434                      95.248427   \n",
       "\n",
       "       primary_cleaner.input.depressant  primary_cleaner.input.feed_size  \\\n",
       "0                             10.128295                             7.25   \n",
       "1                             10.296251                             7.25   \n",
       "2                             11.316280                             7.25   \n",
       "3                             11.322140                             7.25   \n",
       "4                             11.913613                             7.25   \n",
       "...                                 ...                              ...   \n",
       "19434                          8.028927                             6.50   \n",
       "19435                          7.962636                             6.50   \n",
       "19436                          7.955111                             6.50   \n",
       "19437                          7.984164                             6.50   \n",
       "19438                          8.078957                             6.50   \n",
       "\n",
       "       primary_cleaner.input.xanthate  ...  \\\n",
       "0                            0.988759  ...   \n",
       "1                            1.002663  ...   \n",
       "2                            0.991265  ...   \n",
       "3                            0.996739  ...   \n",
       "4                            1.009869  ...   \n",
       "...                               ...  ...   \n",
       "19434                        1.304232  ...   \n",
       "19435                        1.302419  ...   \n",
       "19436                        1.315926  ...   \n",
       "19437                        1.241969  ...   \n",
       "19438                        1.283045  ...   \n",
       "\n",
       "       secondary_cleaner.state.floatbank3_a_air  \\\n",
       "0                                     23.961798   \n",
       "1                                     23.970550   \n",
       "2                                     23.913535   \n",
       "3                                     23.966838   \n",
       "4                                     23.985703   \n",
       "...                                         ...   \n",
       "19434                                 26.002402   \n",
       "19435                                 26.031747   \n",
       "19436                                 25.948429   \n",
       "19437                                 25.971737   \n",
       "19438                                 26.033990   \n",
       "\n",
       "       secondary_cleaner.state.floatbank3_a_level  \\\n",
       "0                                     -495.262817   \n",
       "1                                     -500.085473   \n",
       "2                                     -499.442343   \n",
       "3                                     -500.008812   \n",
       "4                                     -500.083811   \n",
       "...                                           ...   \n",
       "19434                                 -499.953431   \n",
       "19435                                 -500.384612   \n",
       "19436                                 -500.067268   \n",
       "19437                                 -499.608392   \n",
       "19438                                 -500.147792   \n",
       "\n",
       "       secondary_cleaner.state.floatbank3_b_air  \\\n",
       "0                                     21.940409   \n",
       "1                                     22.085714   \n",
       "2                                     23.957717   \n",
       "3                                     23.954443   \n",
       "4                                     23.958945   \n",
       "...                                         ...   \n",
       "19434                                 22.987238   \n",
       "19435                                 22.991058   \n",
       "19436                                 22.968268   \n",
       "19437                                 22.958448   \n",
       "19438                                 22.952306   \n",
       "\n",
       "       secondary_cleaner.state.floatbank3_b_level  \\\n",
       "0                                     -499.340973   \n",
       "1                                     -499.446897   \n",
       "2                                     -499.901982   \n",
       "3                                     -499.944710   \n",
       "4                                     -499.990309   \n",
       "...                                           ...   \n",
       "19434                                 -499.967351   \n",
       "19435                                 -500.079590   \n",
       "19436                                 -499.839442   \n",
       "19437                                 -499.821308   \n",
       "19438                                 -500.037678   \n",
       "\n",
       "       secondary_cleaner.state.floatbank4_a_air  \\\n",
       "0                                     14.016835   \n",
       "1                                     13.992281   \n",
       "2                                     14.015015   \n",
       "3                                     14.036510   \n",
       "4                                     14.027298   \n",
       "...                                         ...   \n",
       "19434                                 23.031497   \n",
       "19435                                 22.960095   \n",
       "19436                                 23.015718   \n",
       "19437                                 23.024963   \n",
       "19438                                 23.018622   \n",
       "\n",
       "       secondary_cleaner.state.floatbank4_a_level  \\\n",
       "0                                     -502.488007   \n",
       "1                                     -505.503262   \n",
       "2                                     -502.520901   \n",
       "3                                     -500.857308   \n",
       "4                                     -499.838632   \n",
       "...                                           ...   \n",
       "19434                                 -501.167942   \n",
       "19435                                 -501.612783   \n",
       "19436                                 -501.711599   \n",
       "19437                                 -501.153409   \n",
       "19438                                 -500.492702   \n",
       "\n",
       "       secondary_cleaner.state.floatbank4_b_air  \\\n",
       "0                                     12.099931   \n",
       "1                                     11.950531   \n",
       "2                                     11.912783   \n",
       "3                                     11.999550   \n",
       "4                                     11.953070   \n",
       "...                                         ...   \n",
       "19434                                 20.007571   \n",
       "19435                                 20.035660   \n",
       "19436                                 19.951231   \n",
       "19437                                 20.054122   \n",
       "19438                                 20.020205   \n",
       "\n",
       "       secondary_cleaner.state.floatbank4_b_level  \\\n",
       "0                                     -504.715942   \n",
       "1                                     -501.331529   \n",
       "2                                     -501.133383   \n",
       "3                                     -501.193686   \n",
       "4                                     -501.053894   \n",
       "...                                           ...   \n",
       "19434                                 -499.740028   \n",
       "19435                                 -500.251357   \n",
       "19436                                 -499.857027   \n",
       "19437                                 -500.314711   \n",
       "19438                                 -500.220296   \n",
       "\n",
       "       secondary_cleaner.state.floatbank5_a_air  \\\n",
       "0                                      9.925633   \n",
       "1                                     10.039245   \n",
       "2                                     10.070913   \n",
       "3                                      9.970366   \n",
       "4                                      9.925709   \n",
       "...                                         ...   \n",
       "19434                                 18.006038   \n",
       "19435                                 17.998535   \n",
       "19436                                 18.019543   \n",
       "19437                                 17.979515   \n",
       "19438                                 17.963512   \n",
       "\n",
       "       secondary_cleaner.state.floatbank5_a_level  \\\n",
       "0                                     -498.310211   \n",
       "1                                     -500.169983   \n",
       "2                                     -500.129135   \n",
       "3                                     -499.201640   \n",
       "4                                     -501.686727   \n",
       "...                                           ...   \n",
       "19434                                 -499.834374   \n",
       "19435                                 -500.395178   \n",
       "19436                                 -500.451156   \n",
       "19437                                 -499.272871   \n",
       "19438                                 -499.939490   \n",
       "\n",
       "       secondary_cleaner.state.floatbank5_b_air  \\\n",
       "0                                      8.079666   \n",
       "1                                      7.984757   \n",
       "2                                      8.013877   \n",
       "3                                      7.977324   \n",
       "4                                      7.894242   \n",
       "...                                         ...   \n",
       "19434                                 13.001114   \n",
       "19435                                 12.954048   \n",
       "19436                                 13.023431   \n",
       "19437                                 12.992404   \n",
       "19438                                 12.990306   \n",
       "\n",
       "       secondary_cleaner.state.floatbank5_b_level  \\\n",
       "0                                     -500.470978   \n",
       "1                                     -500.582168   \n",
       "2                                     -500.517572   \n",
       "3                                     -500.255908   \n",
       "4                                     -500.356035   \n",
       "...                                           ...   \n",
       "19434                                 -500.155694   \n",
       "19435                                 -499.895163   \n",
       "19436                                 -499.914391   \n",
       "19437                                 -499.976268   \n",
       "19438                                 -500.080993   \n",
       "\n",
       "       secondary_cleaner.state.floatbank6_a_air  \\\n",
       "0                                     14.151341   \n",
       "1                                     13.998353   \n",
       "2                                     14.028663   \n",
       "3                                     14.005551   \n",
       "4                                     13.996647   \n",
       "...                                         ...   \n",
       "19434                                 20.007840   \n",
       "19435                                 19.968498   \n",
       "19436                                 19.990885   \n",
       "19437                                 20.013986   \n",
       "19438                                 19.990336   \n",
       "\n",
       "       secondary_cleaner.state.floatbank6_a_level  \n",
       "0                                     -605.841980  \n",
       "1                                     -599.787184  \n",
       "2                                     -601.427363  \n",
       "3                                     -599.996129  \n",
       "4                                     -601.496691  \n",
       "...                                           ...  \n",
       "19434                                 -501.296428  \n",
       "19435                                 -501.041608  \n",
       "19436                                 -501.518452  \n",
       "19437                                 -500.625471  \n",
       "19438                                 -499.191575  \n",
       "\n",
       "[19439 rows x 87 columns]"
      ]
     },
     "metadata": {},
     "output_type": "display_data"
    },
    {
     "name": "stdout",
     "output_type": "stream",
     "text": [
      "Минимальные значения в датасете gold_recovery_full_new.csv:\n",
      "date                                                  2016-01-15 00:00:00\n",
      "final.output.concentrate_ag                                           0.0\n",
      "final.output.concentrate_pb                                           0.0\n",
      "final.output.concentrate_sol                                          0.0\n",
      "final.output.concentrate_au                                           0.0\n",
      "final.output.recovery                                                 0.0\n",
      "final.output.tail_ag                                                  0.0\n",
      "final.output.tail_pb                                                  0.0\n",
      "final.output.tail_sol                                                 0.0\n",
      "final.output.tail_au                                                  0.0\n",
      "primary_cleaner.input.sulfate                                    0.003112\n",
      "primary_cleaner.input.depressant                                      0.0\n",
      "primary_cleaner.input.feed_size                                      1.08\n",
      "primary_cleaner.input.xanthate                                   0.000005\n",
      "primary_cleaner.output.concentrate_ag                                 0.0\n",
      "primary_cleaner.output.concentrate_pb                                 0.0\n",
      "primary_cleaner.output.concentrate_sol                                0.0\n",
      "primary_cleaner.output.concentrate_au                                 0.0\n",
      "primary_cleaner.output.tail_ag                                        0.0\n",
      "primary_cleaner.output.tail_pb                                        0.0\n",
      "primary_cleaner.output.tail_sol                                       0.0\n",
      "primary_cleaner.output.tail_au                                        0.0\n",
      "primary_cleaner.state.floatbank8_a_air                                0.0\n",
      "primary_cleaner.state.floatbank8_a_level                      -798.641662\n",
      "primary_cleaner.state.floatbank8_b_air                                0.0\n",
      "primary_cleaner.state.floatbank8_b_level                      -799.997015\n",
      "primary_cleaner.state.floatbank8_c_air                                0.0\n",
      "primary_cleaner.state.floatbank8_c_level                      -799.960571\n",
      "primary_cleaner.state.floatbank8_d_air                                0.0\n",
      "primary_cleaner.state.floatbank8_d_level                       -799.79425\n",
      "rougher.calculation.sulfate_to_au_concentrate            -42235197.369184\n",
      "rougher.calculation.floatbank10_sulfate_to_au_feed            -486.598675\n",
      "rougher.calculation.floatbank11_sulfate_to_au_feed            -264.982785\n",
      "rougher.calculation.au_pb_ratio                                 -0.010548\n",
      "rougher.input.feed_ag                                                0.01\n",
      "rougher.input.feed_pb                                                0.01\n",
      "rougher.input.feed_rate                                          0.002986\n",
      "rougher.input.feed_size                                          0.046369\n",
      "rougher.input.feed_sol                                               0.01\n",
      "rougher.input.feed_au                                                0.01\n",
      "rougher.input.floatbank10_sulfate                                0.001083\n",
      "rougher.input.floatbank10_xanthate                               0.000568\n",
      "rougher.input.floatbank11_sulfate                                0.000077\n",
      "rougher.input.floatbank11_xanthate                                0.00029\n",
      "rougher.output.concentrate_ag                                         0.0\n",
      "rougher.output.concentrate_pb                                         0.0\n",
      "rougher.output.concentrate_sol                                        0.0\n",
      "rougher.output.concentrate_au                                         0.0\n",
      "rougher.output.recovery                                               0.0\n",
      "rougher.output.tail_ag                                           0.594562\n",
      "rougher.output.tail_pb                                           0.007566\n",
      "rougher.output.tail_sol                                         10.014648\n",
      "rougher.output.tail_au                                           0.020676\n",
      "rougher.state.floatbank10_a_air                                 -0.042069\n",
      "rougher.state.floatbank10_a_level                             -657.949759\n",
      "rougher.state.floatbank10_b_air                                 -0.721806\n",
      "rougher.state.floatbank10_b_level                             -650.260008\n",
      "rougher.state.floatbank10_c_air                                 -0.056636\n",
      "rougher.state.floatbank10_c_level                             -647.544439\n",
      "rougher.state.floatbank10_d_air                                 -0.992219\n",
      "rougher.state.floatbank10_d_level                             -648.390665\n",
      "rougher.state.floatbank10_e_air                                 -1.982295\n",
      "rougher.state.floatbank10_e_level                             -649.443911\n",
      "rougher.state.floatbank10_f_air                                  -2.59339\n",
      "rougher.state.floatbank10_f_level                             -649.949283\n",
      "secondary_cleaner.output.tail_ag                                      0.0\n",
      "secondary_cleaner.output.tail_pb                                      0.0\n",
      "secondary_cleaner.output.tail_sol                                     0.0\n",
      "secondary_cleaner.output.tail_au                                      0.0\n",
      "secondary_cleaner.state.floatbank2_a_air                         0.077503\n",
      "secondary_cleaner.state.floatbank2_a_level                    -799.606441\n",
      "secondary_cleaner.state.floatbank2_b_air                              0.0\n",
      "secondary_cleaner.state.floatbank2_b_level                    -799.873878\n",
      "secondary_cleaner.state.floatbank3_a_air                              0.0\n",
      "secondary_cleaner.state.floatbank3_a_level                    -799.755798\n",
      "secondary_cleaner.state.floatbank3_b_air                              0.0\n",
      "secondary_cleaner.state.floatbank3_b_level                    -809.333008\n",
      "secondary_cleaner.state.floatbank4_a_air                              0.0\n",
      "secondary_cleaner.state.floatbank4_a_level                    -799.798523\n",
      "secondary_cleaner.state.floatbank4_b_air                              0.0\n",
      "secondary_cleaner.state.floatbank4_b_level                    -800.836914\n",
      "secondary_cleaner.state.floatbank5_a_air                        -0.372054\n",
      "secondary_cleaner.state.floatbank5_a_level                    -797.323986\n",
      "secondary_cleaner.state.floatbank5_b_air                         0.528083\n",
      "secondary_cleaner.state.floatbank5_b_level                    -800.220337\n",
      "secondary_cleaner.state.floatbank6_a_air                        -0.079426\n",
      "secondary_cleaner.state.floatbank6_a_level                    -809.741464\n",
      "dtype: object \n",
      "\n",
      "Максимальные значения в датасете gold_recovery_full_new.csv:\n",
      "date                                                  2018-08-18 10:59:59\n",
      "final.output.concentrate_ag                                     16.001945\n",
      "final.output.concentrate_pb                                     17.031899\n",
      "final.output.concentrate_sol                                     19.61572\n",
      "final.output.concentrate_au                                     52.756638\n",
      "final.output.recovery                                               100.0\n",
      "final.output.tail_ag                                            19.552149\n",
      "final.output.tail_pb                                             5.804178\n",
      "final.output.tail_sol                                            22.31773\n",
      "final.output.tail_au                                             8.245022\n",
      "primary_cleaner.input.sulfate                                  265.983123\n",
      "primary_cleaner.input.depressant                                     40.0\n",
      "primary_cleaner.input.feed_size                                      15.5\n",
      "primary_cleaner.input.xanthate                                   4.102454\n",
      "primary_cleaner.output.concentrate_ag                           16.081632\n",
      "primary_cleaner.output.concentrate_pb                           17.081278\n",
      "primary_cleaner.output.concentrate_sol                          22.458114\n",
      "primary_cleaner.output.concentrate_au                           45.933934\n",
      "primary_cleaner.output.tail_ag                                  29.459575\n",
      "primary_cleaner.output.tail_pb                                   9.634565\n",
      "primary_cleaner.output.tail_sol                                 22.276364\n",
      "primary_cleaner.output.tail_au                                  17.788925\n",
      "primary_cleaner.state.floatbank8_a_air                         2103.10358\n",
      "primary_cleaner.state.floatbank8_a_level                       -57.195404\n",
      "primary_cleaner.state.floatbank8_b_air                        2114.906758\n",
      "primary_cleaner.state.floatbank8_b_level                      -142.527229\n",
      "primary_cleaner.state.floatbank8_c_air                        2013.156457\n",
      "primary_cleaner.state.floatbank8_c_level                      -150.937035\n",
      "primary_cleaner.state.floatbank8_d_air                        2398.903635\n",
      "primary_cleaner.state.floatbank8_d_level                       -30.601828\n",
      "rougher.calculation.sulfate_to_au_concentrate                 3428098.939\n",
      "rougher.calculation.floatbank10_sulfate_to_au_feed          629638.977914\n",
      "rougher.calculation.floatbank11_sulfate_to_au_feed          718684.955855\n",
      "rougher.calculation.au_pb_ratio                                 39.379272\n",
      "rougher.input.feed_ag                                           14.596026\n",
      "rougher.input.feed_pb                                            7.142594\n",
      "rougher.input.feed_rate                                        717.508837\n",
      "rougher.input.feed_size                                        484.967466\n",
      "rougher.input.feed_sol                                          53.477742\n",
      "rougher.input.feed_au                                            13.73133\n",
      "rougher.input.floatbank10_sulfate                               36.118275\n",
      "rougher.input.floatbank10_xanthate                               9.703448\n",
      "rougher.input.floatbank11_sulfate                               37.980648\n",
      "rougher.input.floatbank11_xanthate                               9.698407\n",
      "rougher.output.concentrate_ag                                   24.480271\n",
      "rougher.output.concentrate_pb                                   13.617072\n",
      "rougher.output.concentrate_sol                                  38.351193\n",
      "rougher.output.concentrate_au                                   28.824507\n",
      "rougher.output.recovery                                             100.0\n",
      "rougher.output.tail_ag                                          12.719177\n",
      "rougher.output.tail_pb                                           3.778064\n",
      "rougher.output.tail_sol                                         66.117188\n",
      "rougher.output.tail_au                                            9.68898\n",
      "rougher.state.floatbank10_a_air                               1521.980372\n",
      "rougher.state.floatbank10_a_level                             -273.776101\n",
      "rougher.state.floatbank10_b_air                               1809.194008\n",
      "rougher.state.floatbank10_b_level                              -296.38308\n",
      "rougher.state.floatbank10_c_air                               2499.129174\n",
      "rougher.state.floatbank10_c_level                             -292.155509\n",
      "rougher.state.floatbank10_d_air                                1817.19929\n",
      "rougher.state.floatbank10_d_level                              -76.397327\n",
      "rougher.state.floatbank10_e_air                               1922.636637\n",
      "rougher.state.floatbank10_e_level                             -139.753025\n",
      "rougher.state.floatbank10_f_air                               1706.307502\n",
      "rougher.state.floatbank10_f_level                              -191.71848\n",
      "secondary_cleaner.output.tail_ag                                23.264738\n",
      "secondary_cleaner.output.tail_pb                                17.042505\n",
      "secondary_cleaner.output.tail_sol                               26.000772\n",
      "secondary_cleaner.output.tail_au                                26.811643\n",
      "secondary_cleaner.state.floatbank2_a_air                        52.651399\n",
      "secondary_cleaner.state.floatbank2_a_level                    -127.875565\n",
      "secondary_cleaner.state.floatbank2_b_air                        35.152122\n",
      "secondary_cleaner.state.floatbank2_b_level                    -211.999273\n",
      "secondary_cleaner.state.floatbank3_a_air                        44.260464\n",
      "secondary_cleaner.state.floatbank3_a_level                     -191.67881\n",
      "secondary_cleaner.state.floatbank3_b_air                        35.072841\n",
      "secondary_cleaner.state.floatbank3_b_level                    -159.742331\n",
      "secondary_cleaner.state.floatbank4_a_air                        30.115735\n",
      "secondary_cleaner.state.floatbank4_a_level                    -245.239184\n",
      "secondary_cleaner.state.floatbank4_b_air                        31.269706\n",
      "secondary_cleaner.state.floatbank4_b_level                      -6.506986\n",
      "secondary_cleaner.state.floatbank5_a_air                        43.709931\n",
      "secondary_cleaner.state.floatbank5_a_level                    -244.483566\n",
      "secondary_cleaner.state.floatbank5_b_air                        27.926001\n",
      "secondary_cleaner.state.floatbank5_b_level                    -137.740004\n",
      "secondary_cleaner.state.floatbank6_a_air                        32.188906\n",
      "secondary_cleaner.state.floatbank6_a_level                    -104.427459\n",
      "dtype: object \n",
      "\n",
      "Количество дубликатов в датасете gold_recovery_full_new.csv:\n",
      "0 \n",
      "\n",
      "Колонки с пропущенными значениями в датасете gold_recovery_full_new.csv:\n",
      "\n",
      "date                                                     0\n",
      "final.output.concentrate_ag                              1\n",
      "final.output.concentrate_pb                              1\n",
      "final.output.concentrate_sol                           211\n",
      "final.output.concentrate_au                              0\n",
      "final.output.recovery                                    0\n",
      "final.output.tail_ag                                     1\n",
      "final.output.tail_pb                                   101\n",
      "final.output.tail_sol                                    6\n",
      "final.output.tail_au                                     0\n",
      "primary_cleaner.input.sulfate                           24\n",
      "primary_cleaner.input.depressant                        37\n",
      "primary_cleaner.input.feed_size                          0\n",
      "primary_cleaner.input.xanthate                         104\n",
      "primary_cleaner.output.concentrate_ag                    0\n",
      "primary_cleaner.output.concentrate_pb                  116\n",
      "primary_cleaner.output.concentrate_sol                 370\n",
      "primary_cleaner.output.concentrate_au                    0\n",
      "primary_cleaner.output.tail_ag                           4\n",
      "primary_cleaner.output.tail_pb                          21\n",
      "primary_cleaner.output.tail_sol                         62\n",
      "primary_cleaner.output.tail_au                           0\n",
      "primary_cleaner.state.floatbank8_a_air                   4\n",
      "primary_cleaner.state.floatbank8_a_level                 1\n",
      "primary_cleaner.state.floatbank8_b_air                   4\n",
      "primary_cleaner.state.floatbank8_b_level                 1\n",
      "primary_cleaner.state.floatbank8_c_air                   2\n",
      "primary_cleaner.state.floatbank8_c_level                 1\n",
      "primary_cleaner.state.floatbank8_d_air                   3\n",
      "primary_cleaner.state.floatbank8_d_level                 1\n",
      "rougher.calculation.sulfate_to_au_concentrate            2\n",
      "rougher.calculation.floatbank10_sulfate_to_au_feed       2\n",
      "rougher.calculation.floatbank11_sulfate_to_au_feed       2\n",
      "rougher.calculation.au_pb_ratio                          0\n",
      "rougher.input.feed_ag                                    0\n",
      "rougher.input.feed_pb                                  100\n",
      "rougher.input.feed_rate                                 11\n",
      "rougher.input.feed_size                                145\n",
      "rougher.input.feed_sol                                  99\n",
      "rougher.input.feed_au                                    0\n",
      "rougher.input.floatbank10_sulfate                       34\n",
      "rougher.input.floatbank10_xanthate                       8\n",
      "rougher.input.floatbank11_sulfate                       44\n",
      "rougher.input.floatbank11_xanthate                     453\n",
      "rougher.output.concentrate_ag                            0\n",
      "rougher.output.concentrate_pb                            0\n",
      "rougher.output.concentrate_sol                          23\n",
      "rougher.output.concentrate_au                            0\n",
      "rougher.output.recovery                                  0\n",
      "rougher.output.tail_ag                                   1\n",
      "rougher.output.tail_pb                                   0\n",
      "rougher.output.tail_sol                                  0\n",
      "rougher.output.tail_au                                   0\n",
      "rougher.state.floatbank10_a_air                          1\n",
      "rougher.state.floatbank10_a_level                        1\n",
      "rougher.state.floatbank10_b_air                          1\n",
      "rougher.state.floatbank10_b_level                        1\n",
      "rougher.state.floatbank10_c_air                          1\n",
      "rougher.state.floatbank10_c_level                        1\n",
      "rougher.state.floatbank10_d_air                          0\n",
      "rougher.state.floatbank10_d_level                        0\n",
      "rougher.state.floatbank10_e_air                        436\n",
      "rougher.state.floatbank10_e_level                        0\n",
      "rougher.state.floatbank10_f_air                          0\n",
      "rougher.state.floatbank10_f_level                        0\n",
      "secondary_cleaner.output.tail_ag                         2\n",
      "secondary_cleaner.output.tail_pb                        12\n",
      "secondary_cleaner.output.tail_sol                     1748\n",
      "secondary_cleaner.output.tail_au                         0\n",
      "secondary_cleaner.state.floatbank2_a_air               220\n",
      "secondary_cleaner.state.floatbank2_a_level               1\n",
      "secondary_cleaner.state.floatbank2_b_air                23\n",
      "secondary_cleaner.state.floatbank2_b_level               1\n",
      "secondary_cleaner.state.floatbank3_a_air                13\n",
      "secondary_cleaner.state.floatbank3_a_level               1\n",
      "secondary_cleaner.state.floatbank3_b_air                 1\n",
      "secondary_cleaner.state.floatbank3_b_level               1\n",
      "secondary_cleaner.state.floatbank4_a_air                 6\n",
      "secondary_cleaner.state.floatbank4_a_level               1\n",
      "secondary_cleaner.state.floatbank4_b_air                 1\n",
      "secondary_cleaner.state.floatbank4_b_level               1\n",
      "secondary_cleaner.state.floatbank5_a_air                 1\n",
      "secondary_cleaner.state.floatbank5_a_level               1\n",
      "secondary_cleaner.state.floatbank5_b_air                 1\n",
      "secondary_cleaner.state.floatbank5_b_level               1\n",
      "secondary_cleaner.state.floatbank6_a_air                 2\n",
      "secondary_cleaner.state.floatbank6_a_level               1\n",
      "dtype: int64 \n",
      "\n"
     ]
    }
   ],
   "source": [
    "for key_name, srce_data in data_files.items():\n",
    "    try:\n",
    "        srce_data['data']  = pd.read_csv(web_dir_path + srce_data['file_name'])\n",
    "    except FileNotFoundError:\n",
    "        srce_data['data']  = pd.read_csv(local_path + srce_data['file_name'])\n",
    "    else:\n",
    "        print('Общая информация о датасете ', srce_data['file_name'], ':', sep='')\n",
    "        srce_data['data'].info()\n",
    "        print('\\nОбзор данных датасета:', sep='')\n",
    "        display(srce_data['data'])\n",
    "        print('Минимальные значения в датасете ', srce_data['file_name'], ':', sep='')\n",
    "        print(srce_data['data'].min(), '\\n')\n",
    "        print('Максимальные значения в датасете ', srce_data['file_name'], ':', sep='')\n",
    "        print(srce_data['data'].max(), '\\n')\n",
    "        print('Количество дубликатов в датасете ', srce_data['file_name'], ':', sep='')\n",
    "        print(srce_data['data'].duplicated().sum(), '\\n')\n",
    "        print('Колонки с пропущенными значениями в датасете ', srce_data['file_name'], ':\\n', sep='')\n",
    "        print(srce_data['data'].isna().sum(), '\\n')\n",
    "        srce_data['data']['date'] = pd.to_datetime(srce_data['data']['date'])\n",
    "\n",
    "        srce_data['data'] = srce_data['data'].set_index('date')\n",
    "\n",
    "        srce_data['data'] = srce_data['data'].fillna(method='ffill')"
   ]
  },
  {
   "cell_type": "markdown",
   "metadata": {},
   "source": [
    "**Вывод**   \n",
    "Нами изучены данные и в соотвествии с условиями задачи столбец date привидён к типу \"дата\", а также установен в качестве индексного в датафреймах. Пропуски заполнены ближайшими значениями. "
   ]
  },
  {
   "cell_type": "markdown",
   "metadata": {},
   "source": [
    "Формула расчёта эффективности обогащения выглядит следующим образом:\n",
    "\n",
    "$$ recovery = \\frac{C \\times (F-T)}{F \\times (C-T)} \\times 100\\%$$   \n",
    "   \n",
    "C — доля золота в концентрате после флотации/очистки;   \n",
    "F — доля золота в сырье/концентрате до флотации/очистки;   \n",
    "T — доля золота в отвальных хвостах после флотации/очистки."
   ]
  },
  {
   "cell_type": "markdown",
   "metadata": {},
   "source": [
    "## Анализ данных"
   ]
  },
  {
   "cell_type": "code",
   "execution_count": 5,
   "metadata": {},
   "outputs": [],
   "source": [
    "def rec_test(c, f, t):\n",
    "    return ((c*(f - t))/(0.000001 + f*(c - t)))*100"
   ]
  },
  {
   "cell_type": "code",
   "execution_count": 6,
   "metadata": {
    "scrolled": true
   },
   "outputs": [
    {
     "name": "stdout",
     "output_type": "stream",
     "text": [
      "Средняя абсолютная ошибка эффективности обогащения, расчитанной по формуле  и привидённой в обучающей выборке для стадии rougher, равна: 3.285870273910435e-06\n",
      "Средняя абсолютная ошибка эффективности обогащения, расчитанной по формуле и привидённой в обучающей выборке для стадии final, равна: 55182072.810677774\n"
     ]
    }
   ],
   "source": [
    "#for stg in ['rougher', 'final']:\n",
    "recovery_rougher = rec_test(data_files['train_data']['data']['rougher.output.concentrate_au'],\n",
    "        data_files['train_data']['data']['rougher.input.feed_au'],\n",
    "        data_files['train_data']['data']['rougher.output.tail_au'])\n",
    "print(f'Средняя абсолютная ошибка эффективности обогащения, расчитанной по формуле  и привидённой в обучающей выборке для стадии rougher, равна:', \n",
    "      mean_absolute_error(recovery_rougher, data_files['train_data']['data']['rougher.output.recovery']))\n",
    "\n",
    "recovery_final = rec_test(data_files['train_data']['data']['final.output.concentrate_au'],\n",
    "        data_files['train_data']['data']['primary_cleaner.output.concentrate_au'],\n",
    "        data_files['train_data']['data']['final.output.tail_au'])\n",
    "print(f'Средняя абсолютная ошибка эффективности обогащения, расчитанной по формуле и привидённой в обучающей выборке для стадии final, равна:', \n",
    "      mean_absolute_error(recovery_final, data_files['train_data']['data']['final.output.recovery']))"
   ]
  },
  {
   "cell_type": "markdown",
   "metadata": {},
   "source": [
    "**Вывод**   \n",
    "Наличие такого минимального отклонения в данных стадии rougher говорит о фактическом совпадении расчётов и имеющихся в таблице данных. Однако расчёты для стадии final показывают, что эффективность, привиденная в данных не совпадает с расчётной, что говорит о возможной ошибке в данных."
   ]
  },
  {
   "cell_type": "code",
   "execution_count": 7,
   "metadata": {
    "scrolled": true
   },
   "outputs": [
    {
     "name": "stdout",
     "output_type": "stream",
     "text": [
      "<class 'pandas.core.frame.DataFrame'>\n",
      "DatetimeIndex: 19439 entries, 2016-01-15 00:00:00 to 2018-08-18 10:59:59\n",
      "Data columns (total 34 columns):\n",
      " #   Column                                              Non-Null Count  Dtype  \n",
      "---  ------                                              --------------  -----  \n",
      " 0   final.output.concentrate_ag                         19439 non-null  float64\n",
      " 1   final.output.concentrate_pb                         19439 non-null  float64\n",
      " 2   final.output.concentrate_sol                        19439 non-null  float64\n",
      " 3   final.output.concentrate_au                         19439 non-null  float64\n",
      " 4   final.output.recovery                               19439 non-null  float64\n",
      " 5   final.output.tail_ag                                19439 non-null  float64\n",
      " 6   final.output.tail_pb                                19439 non-null  float64\n",
      " 7   final.output.tail_sol                               19439 non-null  float64\n",
      " 8   final.output.tail_au                                19439 non-null  float64\n",
      " 9   primary_cleaner.output.concentrate_ag               19439 non-null  float64\n",
      " 10  primary_cleaner.output.concentrate_pb               19439 non-null  float64\n",
      " 11  primary_cleaner.output.concentrate_sol              19439 non-null  float64\n",
      " 12  primary_cleaner.output.concentrate_au               19439 non-null  float64\n",
      " 13  primary_cleaner.output.tail_ag                      19439 non-null  float64\n",
      " 14  primary_cleaner.output.tail_pb                      19439 non-null  float64\n",
      " 15  primary_cleaner.output.tail_sol                     19439 non-null  float64\n",
      " 16  primary_cleaner.output.tail_au                      19439 non-null  float64\n",
      " 17  rougher.calculation.sulfate_to_au_concentrate       19439 non-null  float64\n",
      " 18  rougher.calculation.floatbank10_sulfate_to_au_feed  19439 non-null  float64\n",
      " 19  rougher.calculation.floatbank11_sulfate_to_au_feed  19439 non-null  float64\n",
      " 20  rougher.calculation.au_pb_ratio                     19439 non-null  float64\n",
      " 21  rougher.output.concentrate_ag                       19439 non-null  float64\n",
      " 22  rougher.output.concentrate_pb                       19439 non-null  float64\n",
      " 23  rougher.output.concentrate_sol                      19439 non-null  float64\n",
      " 24  rougher.output.concentrate_au                       19439 non-null  float64\n",
      " 25  rougher.output.recovery                             19439 non-null  float64\n",
      " 26  rougher.output.tail_ag                              19439 non-null  float64\n",
      " 27  rougher.output.tail_pb                              19439 non-null  float64\n",
      " 28  rougher.output.tail_sol                             19439 non-null  float64\n",
      " 29  rougher.output.tail_au                              19439 non-null  float64\n",
      " 30  secondary_cleaner.output.tail_ag                    19439 non-null  float64\n",
      " 31  secondary_cleaner.output.tail_pb                    19439 non-null  float64\n",
      " 32  secondary_cleaner.output.tail_sol                   19439 non-null  float64\n",
      " 33  secondary_cleaner.output.tail_au                    19439 non-null  float64\n",
      "dtypes: float64(34)\n",
      "memory usage: 5.2 MB\n",
      "None\n"
     ]
    },
    {
     "data": {
      "text/html": [
       "<div>\n",
       "<style scoped>\n",
       "    .dataframe tbody tr th:only-of-type {\n",
       "        vertical-align: middle;\n",
       "    }\n",
       "\n",
       "    .dataframe tbody tr th {\n",
       "        vertical-align: top;\n",
       "    }\n",
       "\n",
       "    .dataframe thead th {\n",
       "        text-align: right;\n",
       "    }\n",
       "</style>\n",
       "<table border=\"1\" class=\"dataframe\">\n",
       "  <thead>\n",
       "    <tr style=\"text-align: right;\">\n",
       "      <th></th>\n",
       "      <th>final.output.concentrate_ag</th>\n",
       "      <th>final.output.concentrate_pb</th>\n",
       "      <th>final.output.concentrate_sol</th>\n",
       "      <th>final.output.concentrate_au</th>\n",
       "      <th>final.output.recovery</th>\n",
       "      <th>final.output.tail_ag</th>\n",
       "      <th>final.output.tail_pb</th>\n",
       "      <th>final.output.tail_sol</th>\n",
       "      <th>final.output.tail_au</th>\n",
       "      <th>primary_cleaner.output.concentrate_ag</th>\n",
       "      <th>primary_cleaner.output.concentrate_pb</th>\n",
       "      <th>primary_cleaner.output.concentrate_sol</th>\n",
       "      <th>primary_cleaner.output.concentrate_au</th>\n",
       "      <th>primary_cleaner.output.tail_ag</th>\n",
       "      <th>...</th>\n",
       "      <th>rougher.calculation.au_pb_ratio</th>\n",
       "      <th>rougher.output.concentrate_ag</th>\n",
       "      <th>rougher.output.concentrate_pb</th>\n",
       "      <th>rougher.output.concentrate_sol</th>\n",
       "      <th>rougher.output.concentrate_au</th>\n",
       "      <th>rougher.output.recovery</th>\n",
       "      <th>rougher.output.tail_ag</th>\n",
       "      <th>rougher.output.tail_pb</th>\n",
       "      <th>rougher.output.tail_sol</th>\n",
       "      <th>rougher.output.tail_au</th>\n",
       "      <th>secondary_cleaner.output.tail_ag</th>\n",
       "      <th>secondary_cleaner.output.tail_pb</th>\n",
       "      <th>secondary_cleaner.output.tail_sol</th>\n",
       "      <th>secondary_cleaner.output.tail_au</th>\n",
       "    </tr>\n",
       "    <tr>\n",
       "      <th>date</th>\n",
       "      <th></th>\n",
       "      <th></th>\n",
       "      <th></th>\n",
       "      <th></th>\n",
       "      <th></th>\n",
       "      <th></th>\n",
       "      <th></th>\n",
       "      <th></th>\n",
       "      <th></th>\n",
       "      <th></th>\n",
       "      <th></th>\n",
       "      <th></th>\n",
       "      <th></th>\n",
       "      <th></th>\n",
       "      <th></th>\n",
       "      <th></th>\n",
       "      <th></th>\n",
       "      <th></th>\n",
       "      <th></th>\n",
       "      <th></th>\n",
       "      <th></th>\n",
       "      <th></th>\n",
       "      <th></th>\n",
       "      <th></th>\n",
       "      <th></th>\n",
       "      <th></th>\n",
       "      <th></th>\n",
       "      <th></th>\n",
       "      <th></th>\n",
       "    </tr>\n",
       "  </thead>\n",
       "  <tbody>\n",
       "    <tr>\n",
       "      <th>2016-01-15 00:00:00</th>\n",
       "      <td>6.055403</td>\n",
       "      <td>9.889648</td>\n",
       "      <td>5.507324</td>\n",
       "      <td>42.192020</td>\n",
       "      <td>70.541216</td>\n",
       "      <td>10.411962</td>\n",
       "      <td>0.895447</td>\n",
       "      <td>16.904297</td>\n",
       "      <td>2.143149</td>\n",
       "      <td>8.547551</td>\n",
       "      <td>10.389648</td>\n",
       "      <td>19.529297</td>\n",
       "      <td>34.174427</td>\n",
       "      <td>14.936526</td>\n",
       "      <td>...</td>\n",
       "      <td>2.838687</td>\n",
       "      <td>11.500771</td>\n",
       "      <td>7.101074</td>\n",
       "      <td>28.029297</td>\n",
       "      <td>19.793808</td>\n",
       "      <td>87.107763</td>\n",
       "      <td>5.008018</td>\n",
       "      <td>0.508728</td>\n",
       "      <td>19.154297</td>\n",
       "      <td>1.170244</td>\n",
       "      <td>14.500184</td>\n",
       "      <td>4.694824</td>\n",
       "      <td>8.764648</td>\n",
       "      <td>2.606185</td>\n",
       "    </tr>\n",
       "    <tr>\n",
       "      <th>2016-01-15 01:00:00</th>\n",
       "      <td>6.029369</td>\n",
       "      <td>9.968944</td>\n",
       "      <td>5.257781</td>\n",
       "      <td>42.701629</td>\n",
       "      <td>69.266198</td>\n",
       "      <td>10.462676</td>\n",
       "      <td>0.927452</td>\n",
       "      <td>16.634514</td>\n",
       "      <td>2.224930</td>\n",
       "      <td>8.558743</td>\n",
       "      <td>10.497069</td>\n",
       "      <td>19.369147</td>\n",
       "      <td>34.118526</td>\n",
       "      <td>16.250511</td>\n",
       "      <td>...</td>\n",
       "      <td>2.858998</td>\n",
       "      <td>11.615865</td>\n",
       "      <td>7.278807</td>\n",
       "      <td>28.067063</td>\n",
       "      <td>20.050975</td>\n",
       "      <td>86.843261</td>\n",
       "      <td>4.955378</td>\n",
       "      <td>0.536689</td>\n",
       "      <td>18.965234</td>\n",
       "      <td>1.184827</td>\n",
       "      <td>14.265474</td>\n",
       "      <td>4.592547</td>\n",
       "      <td>9.001494</td>\n",
       "      <td>2.488248</td>\n",
       "    </tr>\n",
       "    <tr>\n",
       "      <th>2016-01-15 02:00:00</th>\n",
       "      <td>6.055926</td>\n",
       "      <td>10.213995</td>\n",
       "      <td>5.383759</td>\n",
       "      <td>42.657501</td>\n",
       "      <td>68.116445</td>\n",
       "      <td>10.507046</td>\n",
       "      <td>0.953716</td>\n",
       "      <td>16.208849</td>\n",
       "      <td>2.257889</td>\n",
       "      <td>8.603505</td>\n",
       "      <td>10.354494</td>\n",
       "      <td>19.167579</td>\n",
       "      <td>33.969464</td>\n",
       "      <td>16.491823</td>\n",
       "      <td>...</td>\n",
       "      <td>2.945989</td>\n",
       "      <td>11.695753</td>\n",
       "      <td>7.216833</td>\n",
       "      <td>27.454037</td>\n",
       "      <td>19.737170</td>\n",
       "      <td>86.842308</td>\n",
       "      <td>4.843460</td>\n",
       "      <td>0.546416</td>\n",
       "      <td>18.808533</td>\n",
       "      <td>1.162562</td>\n",
       "      <td>14.115662</td>\n",
       "      <td>4.624775</td>\n",
       "      <td>8.842896</td>\n",
       "      <td>2.458187</td>\n",
       "    </tr>\n",
       "    <tr>\n",
       "      <th>2016-01-15 03:00:00</th>\n",
       "      <td>6.047977</td>\n",
       "      <td>9.977019</td>\n",
       "      <td>4.858634</td>\n",
       "      <td>42.689819</td>\n",
       "      <td>68.347543</td>\n",
       "      <td>10.422762</td>\n",
       "      <td>0.883763</td>\n",
       "      <td>16.532835</td>\n",
       "      <td>2.146849</td>\n",
       "      <td>7.221879</td>\n",
       "      <td>8.496563</td>\n",
       "      <td>15.978538</td>\n",
       "      <td>28.260743</td>\n",
       "      <td>16.024359</td>\n",
       "      <td>...</td>\n",
       "      <td>3.002340</td>\n",
       "      <td>11.915047</td>\n",
       "      <td>7.175616</td>\n",
       "      <td>27.341277</td>\n",
       "      <td>19.320810</td>\n",
       "      <td>87.226430</td>\n",
       "      <td>4.655288</td>\n",
       "      <td>0.542525</td>\n",
       "      <td>19.330200</td>\n",
       "      <td>1.079755</td>\n",
       "      <td>13.732071</td>\n",
       "      <td>4.482453</td>\n",
       "      <td>9.122857</td>\n",
       "      <td>2.322062</td>\n",
       "    </tr>\n",
       "    <tr>\n",
       "      <th>2016-01-15 04:00:00</th>\n",
       "      <td>6.148599</td>\n",
       "      <td>10.142511</td>\n",
       "      <td>4.939416</td>\n",
       "      <td>42.774141</td>\n",
       "      <td>66.927016</td>\n",
       "      <td>10.360302</td>\n",
       "      <td>0.792826</td>\n",
       "      <td>16.525686</td>\n",
       "      <td>2.055292</td>\n",
       "      <td>9.089428</td>\n",
       "      <td>9.986786</td>\n",
       "      <td>19.199864</td>\n",
       "      <td>33.044932</td>\n",
       "      <td>16.480185</td>\n",
       "      <td>...</td>\n",
       "      <td>3.169615</td>\n",
       "      <td>12.411054</td>\n",
       "      <td>7.240205</td>\n",
       "      <td>27.041023</td>\n",
       "      <td>19.216101</td>\n",
       "      <td>86.688794</td>\n",
       "      <td>4.552800</td>\n",
       "      <td>0.515438</td>\n",
       "      <td>19.267422</td>\n",
       "      <td>1.012642</td>\n",
       "      <td>14.079996</td>\n",
       "      <td>4.470737</td>\n",
       "      <td>8.871028</td>\n",
       "      <td>2.330448</td>\n",
       "    </tr>\n",
       "    <tr>\n",
       "      <th>...</th>\n",
       "      <td>...</td>\n",
       "      <td>...</td>\n",
       "      <td>...</td>\n",
       "      <td>...</td>\n",
       "      <td>...</td>\n",
       "      <td>...</td>\n",
       "      <td>...</td>\n",
       "      <td>...</td>\n",
       "      <td>...</td>\n",
       "      <td>...</td>\n",
       "      <td>...</td>\n",
       "      <td>...</td>\n",
       "      <td>...</td>\n",
       "      <td>...</td>\n",
       "      <td>...</td>\n",
       "      <td>...</td>\n",
       "      <td>...</td>\n",
       "      <td>...</td>\n",
       "      <td>...</td>\n",
       "      <td>...</td>\n",
       "      <td>...</td>\n",
       "      <td>...</td>\n",
       "      <td>...</td>\n",
       "      <td>...</td>\n",
       "      <td>...</td>\n",
       "      <td>...</td>\n",
       "      <td>...</td>\n",
       "      <td>...</td>\n",
       "      <td>...</td>\n",
       "    </tr>\n",
       "    <tr>\n",
       "      <th>2018-08-18 06:59:59</th>\n",
       "      <td>3.224920</td>\n",
       "      <td>11.356233</td>\n",
       "      <td>6.803482</td>\n",
       "      <td>46.713954</td>\n",
       "      <td>73.755150</td>\n",
       "      <td>8.769645</td>\n",
       "      <td>3.141541</td>\n",
       "      <td>10.403181</td>\n",
       "      <td>1.529220</td>\n",
       "      <td>6.559174</td>\n",
       "      <td>12.445966</td>\n",
       "      <td>7.056338</td>\n",
       "      <td>32.940215</td>\n",
       "      <td>22.854592</td>\n",
       "      <td>...</td>\n",
       "      <td>1.155559</td>\n",
       "      <td>11.124896</td>\n",
       "      <td>10.984003</td>\n",
       "      <td>30.068876</td>\n",
       "      <td>18.603550</td>\n",
       "      <td>89.574376</td>\n",
       "      <td>4.207261</td>\n",
       "      <td>0.612935</td>\n",
       "      <td>16.666590</td>\n",
       "      <td>0.748633</td>\n",
       "      <td>0.000000</td>\n",
       "      <td>0.000000</td>\n",
       "      <td>0.000000</td>\n",
       "      <td>0.000000</td>\n",
       "    </tr>\n",
       "    <tr>\n",
       "      <th>2018-08-18 07:59:59</th>\n",
       "      <td>3.195978</td>\n",
       "      <td>11.349355</td>\n",
       "      <td>6.862249</td>\n",
       "      <td>46.866780</td>\n",
       "      <td>69.049291</td>\n",
       "      <td>8.897321</td>\n",
       "      <td>3.130493</td>\n",
       "      <td>10.549470</td>\n",
       "      <td>1.612542</td>\n",
       "      <td>6.612376</td>\n",
       "      <td>12.623947</td>\n",
       "      <td>7.542264</td>\n",
       "      <td>32.925325</td>\n",
       "      <td>23.002490</td>\n",
       "      <td>...</td>\n",
       "      <td>1.167342</td>\n",
       "      <td>11.425983</td>\n",
       "      <td>10.888213</td>\n",
       "      <td>29.783972</td>\n",
       "      <td>18.441436</td>\n",
       "      <td>87.724007</td>\n",
       "      <td>4.177943</td>\n",
       "      <td>0.650557</td>\n",
       "      <td>16.960649</td>\n",
       "      <td>0.771582</td>\n",
       "      <td>0.000000</td>\n",
       "      <td>0.000000</td>\n",
       "      <td>0.000000</td>\n",
       "      <td>0.000000</td>\n",
       "    </tr>\n",
       "    <tr>\n",
       "      <th>2018-08-18 08:59:59</th>\n",
       "      <td>3.109998</td>\n",
       "      <td>11.434366</td>\n",
       "      <td>6.886013</td>\n",
       "      <td>46.795691</td>\n",
       "      <td>67.002189</td>\n",
       "      <td>8.529606</td>\n",
       "      <td>2.911418</td>\n",
       "      <td>11.115147</td>\n",
       "      <td>1.596616</td>\n",
       "      <td>7.128896</td>\n",
       "      <td>12.633558</td>\n",
       "      <td>7.941900</td>\n",
       "      <td>31.856742</td>\n",
       "      <td>22.298149</td>\n",
       "      <td>...</td>\n",
       "      <td>1.125637</td>\n",
       "      <td>8.523497</td>\n",
       "      <td>8.955135</td>\n",
       "      <td>22.786467</td>\n",
       "      <td>15.111231</td>\n",
       "      <td>88.890579</td>\n",
       "      <td>4.050010</td>\n",
       "      <td>0.636095</td>\n",
       "      <td>18.323080</td>\n",
       "      <td>0.685059</td>\n",
       "      <td>0.000000</td>\n",
       "      <td>0.000000</td>\n",
       "      <td>0.000000</td>\n",
       "      <td>0.000000</td>\n",
       "    </tr>\n",
       "    <tr>\n",
       "      <th>2018-08-18 09:59:59</th>\n",
       "      <td>3.367241</td>\n",
       "      <td>11.625587</td>\n",
       "      <td>6.799433</td>\n",
       "      <td>46.408188</td>\n",
       "      <td>65.523246</td>\n",
       "      <td>8.777171</td>\n",
       "      <td>2.819214</td>\n",
       "      <td>10.463847</td>\n",
       "      <td>1.602879</td>\n",
       "      <td>7.490444</td>\n",
       "      <td>12.012378</td>\n",
       "      <td>6.942972</td>\n",
       "      <td>30.770892</td>\n",
       "      <td>22.714656</td>\n",
       "      <td>...</td>\n",
       "      <td>1.117935</td>\n",
       "      <td>11.658799</td>\n",
       "      <td>10.655377</td>\n",
       "      <td>29.052742</td>\n",
       "      <td>17.834772</td>\n",
       "      <td>89.858126</td>\n",
       "      <td>3.902494</td>\n",
       "      <td>0.625609</td>\n",
       "      <td>19.423740</td>\n",
       "      <td>0.567130</td>\n",
       "      <td>0.000000</td>\n",
       "      <td>0.000000</td>\n",
       "      <td>0.000000</td>\n",
       "      <td>0.000000</td>\n",
       "    </tr>\n",
       "    <tr>\n",
       "      <th>2018-08-18 10:59:59</th>\n",
       "      <td>3.598375</td>\n",
       "      <td>11.737832</td>\n",
       "      <td>6.717509</td>\n",
       "      <td>46.299438</td>\n",
       "      <td>70.281454</td>\n",
       "      <td>8.406690</td>\n",
       "      <td>2.517518</td>\n",
       "      <td>10.652193</td>\n",
       "      <td>1.389434</td>\n",
       "      <td>7.537584</td>\n",
       "      <td>11.650285</td>\n",
       "      <td>6.203553</td>\n",
       "      <td>30.356618</td>\n",
       "      <td>22.735927</td>\n",
       "      <td>...</td>\n",
       "      <td>1.126367</td>\n",
       "      <td>11.959486</td>\n",
       "      <td>10.702148</td>\n",
       "      <td>29.078235</td>\n",
       "      <td>17.804134</td>\n",
       "      <td>89.514960</td>\n",
       "      <td>3.925473</td>\n",
       "      <td>0.638677</td>\n",
       "      <td>19.946673</td>\n",
       "      <td>0.586439</td>\n",
       "      <td>0.000000</td>\n",
       "      <td>0.000000</td>\n",
       "      <td>0.000000</td>\n",
       "      <td>0.000000</td>\n",
       "    </tr>\n",
       "  </tbody>\n",
       "</table>\n",
       "<p>14149 rows × 34 columns</p>\n",
       "</div>"
      ],
      "text/plain": [
       "                     final.output.concentrate_ag  final.output.concentrate_pb  \\\n",
       "date                                                                            \n",
       "2016-01-15 00:00:00                     6.055403                     9.889648   \n",
       "2016-01-15 01:00:00                     6.029369                     9.968944   \n",
       "2016-01-15 02:00:00                     6.055926                    10.213995   \n",
       "2016-01-15 03:00:00                     6.047977                     9.977019   \n",
       "2016-01-15 04:00:00                     6.148599                    10.142511   \n",
       "...                                          ...                          ...   \n",
       "2018-08-18 06:59:59                     3.224920                    11.356233   \n",
       "2018-08-18 07:59:59                     3.195978                    11.349355   \n",
       "2018-08-18 08:59:59                     3.109998                    11.434366   \n",
       "2018-08-18 09:59:59                     3.367241                    11.625587   \n",
       "2018-08-18 10:59:59                     3.598375                    11.737832   \n",
       "\n",
       "                     final.output.concentrate_sol  \\\n",
       "date                                                \n",
       "2016-01-15 00:00:00                      5.507324   \n",
       "2016-01-15 01:00:00                      5.257781   \n",
       "2016-01-15 02:00:00                      5.383759   \n",
       "2016-01-15 03:00:00                      4.858634   \n",
       "2016-01-15 04:00:00                      4.939416   \n",
       "...                                           ...   \n",
       "2018-08-18 06:59:59                      6.803482   \n",
       "2018-08-18 07:59:59                      6.862249   \n",
       "2018-08-18 08:59:59                      6.886013   \n",
       "2018-08-18 09:59:59                      6.799433   \n",
       "2018-08-18 10:59:59                      6.717509   \n",
       "\n",
       "                     final.output.concentrate_au  final.output.recovery  \\\n",
       "date                                                                      \n",
       "2016-01-15 00:00:00                    42.192020              70.541216   \n",
       "2016-01-15 01:00:00                    42.701629              69.266198   \n",
       "2016-01-15 02:00:00                    42.657501              68.116445   \n",
       "2016-01-15 03:00:00                    42.689819              68.347543   \n",
       "2016-01-15 04:00:00                    42.774141              66.927016   \n",
       "...                                          ...                    ...   \n",
       "2018-08-18 06:59:59                    46.713954              73.755150   \n",
       "2018-08-18 07:59:59                    46.866780              69.049291   \n",
       "2018-08-18 08:59:59                    46.795691              67.002189   \n",
       "2018-08-18 09:59:59                    46.408188              65.523246   \n",
       "2018-08-18 10:59:59                    46.299438              70.281454   \n",
       "\n",
       "                     final.output.tail_ag  final.output.tail_pb  \\\n",
       "date                                                              \n",
       "2016-01-15 00:00:00             10.411962              0.895447   \n",
       "2016-01-15 01:00:00             10.462676              0.927452   \n",
       "2016-01-15 02:00:00             10.507046              0.953716   \n",
       "2016-01-15 03:00:00             10.422762              0.883763   \n",
       "2016-01-15 04:00:00             10.360302              0.792826   \n",
       "...                                   ...                   ...   \n",
       "2018-08-18 06:59:59              8.769645              3.141541   \n",
       "2018-08-18 07:59:59              8.897321              3.130493   \n",
       "2018-08-18 08:59:59              8.529606              2.911418   \n",
       "2018-08-18 09:59:59              8.777171              2.819214   \n",
       "2018-08-18 10:59:59              8.406690              2.517518   \n",
       "\n",
       "                     final.output.tail_sol  final.output.tail_au  \\\n",
       "date                                                               \n",
       "2016-01-15 00:00:00              16.904297              2.143149   \n",
       "2016-01-15 01:00:00              16.634514              2.224930   \n",
       "2016-01-15 02:00:00              16.208849              2.257889   \n",
       "2016-01-15 03:00:00              16.532835              2.146849   \n",
       "2016-01-15 04:00:00              16.525686              2.055292   \n",
       "...                                    ...                   ...   \n",
       "2018-08-18 06:59:59              10.403181              1.529220   \n",
       "2018-08-18 07:59:59              10.549470              1.612542   \n",
       "2018-08-18 08:59:59              11.115147              1.596616   \n",
       "2018-08-18 09:59:59              10.463847              1.602879   \n",
       "2018-08-18 10:59:59              10.652193              1.389434   \n",
       "\n",
       "                     primary_cleaner.output.concentrate_ag  \\\n",
       "date                                                         \n",
       "2016-01-15 00:00:00                               8.547551   \n",
       "2016-01-15 01:00:00                               8.558743   \n",
       "2016-01-15 02:00:00                               8.603505   \n",
       "2016-01-15 03:00:00                               7.221879   \n",
       "2016-01-15 04:00:00                               9.089428   \n",
       "...                                                    ...   \n",
       "2018-08-18 06:59:59                               6.559174   \n",
       "2018-08-18 07:59:59                               6.612376   \n",
       "2018-08-18 08:59:59                               7.128896   \n",
       "2018-08-18 09:59:59                               7.490444   \n",
       "2018-08-18 10:59:59                               7.537584   \n",
       "\n",
       "                     primary_cleaner.output.concentrate_pb  \\\n",
       "date                                                         \n",
       "2016-01-15 00:00:00                              10.389648   \n",
       "2016-01-15 01:00:00                              10.497069   \n",
       "2016-01-15 02:00:00                              10.354494   \n",
       "2016-01-15 03:00:00                               8.496563   \n",
       "2016-01-15 04:00:00                               9.986786   \n",
       "...                                                    ...   \n",
       "2018-08-18 06:59:59                              12.445966   \n",
       "2018-08-18 07:59:59                              12.623947   \n",
       "2018-08-18 08:59:59                              12.633558   \n",
       "2018-08-18 09:59:59                              12.012378   \n",
       "2018-08-18 10:59:59                              11.650285   \n",
       "\n",
       "                     primary_cleaner.output.concentrate_sol  \\\n",
       "date                                                          \n",
       "2016-01-15 00:00:00                               19.529297   \n",
       "2016-01-15 01:00:00                               19.369147   \n",
       "2016-01-15 02:00:00                               19.167579   \n",
       "2016-01-15 03:00:00                               15.978538   \n",
       "2016-01-15 04:00:00                               19.199864   \n",
       "...                                                     ...   \n",
       "2018-08-18 06:59:59                                7.056338   \n",
       "2018-08-18 07:59:59                                7.542264   \n",
       "2018-08-18 08:59:59                                7.941900   \n",
       "2018-08-18 09:59:59                                6.942972   \n",
       "2018-08-18 10:59:59                                6.203553   \n",
       "\n",
       "                     primary_cleaner.output.concentrate_au  \\\n",
       "date                                                         \n",
       "2016-01-15 00:00:00                              34.174427   \n",
       "2016-01-15 01:00:00                              34.118526   \n",
       "2016-01-15 02:00:00                              33.969464   \n",
       "2016-01-15 03:00:00                              28.260743   \n",
       "2016-01-15 04:00:00                              33.044932   \n",
       "...                                                    ...   \n",
       "2018-08-18 06:59:59                              32.940215   \n",
       "2018-08-18 07:59:59                              32.925325   \n",
       "2018-08-18 08:59:59                              31.856742   \n",
       "2018-08-18 09:59:59                              30.770892   \n",
       "2018-08-18 10:59:59                              30.356618   \n",
       "\n",
       "                     primary_cleaner.output.tail_ag  ...  \\\n",
       "date                                                 ...   \n",
       "2016-01-15 00:00:00                       14.936526  ...   \n",
       "2016-01-15 01:00:00                       16.250511  ...   \n",
       "2016-01-15 02:00:00                       16.491823  ...   \n",
       "2016-01-15 03:00:00                       16.024359  ...   \n",
       "2016-01-15 04:00:00                       16.480185  ...   \n",
       "...                                             ...  ...   \n",
       "2018-08-18 06:59:59                       22.854592  ...   \n",
       "2018-08-18 07:59:59                       23.002490  ...   \n",
       "2018-08-18 08:59:59                       22.298149  ...   \n",
       "2018-08-18 09:59:59                       22.714656  ...   \n",
       "2018-08-18 10:59:59                       22.735927  ...   \n",
       "\n",
       "                     rougher.calculation.au_pb_ratio  \\\n",
       "date                                                   \n",
       "2016-01-15 00:00:00                         2.838687   \n",
       "2016-01-15 01:00:00                         2.858998   \n",
       "2016-01-15 02:00:00                         2.945989   \n",
       "2016-01-15 03:00:00                         3.002340   \n",
       "2016-01-15 04:00:00                         3.169615   \n",
       "...                                              ...   \n",
       "2018-08-18 06:59:59                         1.155559   \n",
       "2018-08-18 07:59:59                         1.167342   \n",
       "2018-08-18 08:59:59                         1.125637   \n",
       "2018-08-18 09:59:59                         1.117935   \n",
       "2018-08-18 10:59:59                         1.126367   \n",
       "\n",
       "                     rougher.output.concentrate_ag  \\\n",
       "date                                                 \n",
       "2016-01-15 00:00:00                      11.500771   \n",
       "2016-01-15 01:00:00                      11.615865   \n",
       "2016-01-15 02:00:00                      11.695753   \n",
       "2016-01-15 03:00:00                      11.915047   \n",
       "2016-01-15 04:00:00                      12.411054   \n",
       "...                                            ...   \n",
       "2018-08-18 06:59:59                      11.124896   \n",
       "2018-08-18 07:59:59                      11.425983   \n",
       "2018-08-18 08:59:59                       8.523497   \n",
       "2018-08-18 09:59:59                      11.658799   \n",
       "2018-08-18 10:59:59                      11.959486   \n",
       "\n",
       "                     rougher.output.concentrate_pb  \\\n",
       "date                                                 \n",
       "2016-01-15 00:00:00                       7.101074   \n",
       "2016-01-15 01:00:00                       7.278807   \n",
       "2016-01-15 02:00:00                       7.216833   \n",
       "2016-01-15 03:00:00                       7.175616   \n",
       "2016-01-15 04:00:00                       7.240205   \n",
       "...                                            ...   \n",
       "2018-08-18 06:59:59                      10.984003   \n",
       "2018-08-18 07:59:59                      10.888213   \n",
       "2018-08-18 08:59:59                       8.955135   \n",
       "2018-08-18 09:59:59                      10.655377   \n",
       "2018-08-18 10:59:59                      10.702148   \n",
       "\n",
       "                     rougher.output.concentrate_sol  \\\n",
       "date                                                  \n",
       "2016-01-15 00:00:00                       28.029297   \n",
       "2016-01-15 01:00:00                       28.067063   \n",
       "2016-01-15 02:00:00                       27.454037   \n",
       "2016-01-15 03:00:00                       27.341277   \n",
       "2016-01-15 04:00:00                       27.041023   \n",
       "...                                             ...   \n",
       "2018-08-18 06:59:59                       30.068876   \n",
       "2018-08-18 07:59:59                       29.783972   \n",
       "2018-08-18 08:59:59                       22.786467   \n",
       "2018-08-18 09:59:59                       29.052742   \n",
       "2018-08-18 10:59:59                       29.078235   \n",
       "\n",
       "                     rougher.output.concentrate_au  rougher.output.recovery  \\\n",
       "date                                                                          \n",
       "2016-01-15 00:00:00                      19.793808                87.107763   \n",
       "2016-01-15 01:00:00                      20.050975                86.843261   \n",
       "2016-01-15 02:00:00                      19.737170                86.842308   \n",
       "2016-01-15 03:00:00                      19.320810                87.226430   \n",
       "2016-01-15 04:00:00                      19.216101                86.688794   \n",
       "...                                            ...                      ...   \n",
       "2018-08-18 06:59:59                      18.603550                89.574376   \n",
       "2018-08-18 07:59:59                      18.441436                87.724007   \n",
       "2018-08-18 08:59:59                      15.111231                88.890579   \n",
       "2018-08-18 09:59:59                      17.834772                89.858126   \n",
       "2018-08-18 10:59:59                      17.804134                89.514960   \n",
       "\n",
       "                     rougher.output.tail_ag  rougher.output.tail_pb  \\\n",
       "date                                                                  \n",
       "2016-01-15 00:00:00                5.008018                0.508728   \n",
       "2016-01-15 01:00:00                4.955378                0.536689   \n",
       "2016-01-15 02:00:00                4.843460                0.546416   \n",
       "2016-01-15 03:00:00                4.655288                0.542525   \n",
       "2016-01-15 04:00:00                4.552800                0.515438   \n",
       "...                                     ...                     ...   \n",
       "2018-08-18 06:59:59                4.207261                0.612935   \n",
       "2018-08-18 07:59:59                4.177943                0.650557   \n",
       "2018-08-18 08:59:59                4.050010                0.636095   \n",
       "2018-08-18 09:59:59                3.902494                0.625609   \n",
       "2018-08-18 10:59:59                3.925473                0.638677   \n",
       "\n",
       "                     rougher.output.tail_sol  rougher.output.tail_au  \\\n",
       "date                                                                   \n",
       "2016-01-15 00:00:00                19.154297                1.170244   \n",
       "2016-01-15 01:00:00                18.965234                1.184827   \n",
       "2016-01-15 02:00:00                18.808533                1.162562   \n",
       "2016-01-15 03:00:00                19.330200                1.079755   \n",
       "2016-01-15 04:00:00                19.267422                1.012642   \n",
       "...                                      ...                     ...   \n",
       "2018-08-18 06:59:59                16.666590                0.748633   \n",
       "2018-08-18 07:59:59                16.960649                0.771582   \n",
       "2018-08-18 08:59:59                18.323080                0.685059   \n",
       "2018-08-18 09:59:59                19.423740                0.567130   \n",
       "2018-08-18 10:59:59                19.946673                0.586439   \n",
       "\n",
       "                     secondary_cleaner.output.tail_ag  \\\n",
       "date                                                    \n",
       "2016-01-15 00:00:00                         14.500184   \n",
       "2016-01-15 01:00:00                         14.265474   \n",
       "2016-01-15 02:00:00                         14.115662   \n",
       "2016-01-15 03:00:00                         13.732071   \n",
       "2016-01-15 04:00:00                         14.079996   \n",
       "...                                               ...   \n",
       "2018-08-18 06:59:59                          0.000000   \n",
       "2018-08-18 07:59:59                          0.000000   \n",
       "2018-08-18 08:59:59                          0.000000   \n",
       "2018-08-18 09:59:59                          0.000000   \n",
       "2018-08-18 10:59:59                          0.000000   \n",
       "\n",
       "                     secondary_cleaner.output.tail_pb  \\\n",
       "date                                                    \n",
       "2016-01-15 00:00:00                          4.694824   \n",
       "2016-01-15 01:00:00                          4.592547   \n",
       "2016-01-15 02:00:00                          4.624775   \n",
       "2016-01-15 03:00:00                          4.482453   \n",
       "2016-01-15 04:00:00                          4.470737   \n",
       "...                                               ...   \n",
       "2018-08-18 06:59:59                          0.000000   \n",
       "2018-08-18 07:59:59                          0.000000   \n",
       "2018-08-18 08:59:59                          0.000000   \n",
       "2018-08-18 09:59:59                          0.000000   \n",
       "2018-08-18 10:59:59                          0.000000   \n",
       "\n",
       "                     secondary_cleaner.output.tail_sol  \\\n",
       "date                                                     \n",
       "2016-01-15 00:00:00                           8.764648   \n",
       "2016-01-15 01:00:00                           9.001494   \n",
       "2016-01-15 02:00:00                           8.842896   \n",
       "2016-01-15 03:00:00                           9.122857   \n",
       "2016-01-15 04:00:00                           8.871028   \n",
       "...                                                ...   \n",
       "2018-08-18 06:59:59                           0.000000   \n",
       "2018-08-18 07:59:59                           0.000000   \n",
       "2018-08-18 08:59:59                           0.000000   \n",
       "2018-08-18 09:59:59                           0.000000   \n",
       "2018-08-18 10:59:59                           0.000000   \n",
       "\n",
       "                     secondary_cleaner.output.tail_au  \n",
       "date                                                   \n",
       "2016-01-15 00:00:00                          2.606185  \n",
       "2016-01-15 01:00:00                          2.488248  \n",
       "2016-01-15 02:00:00                          2.458187  \n",
       "2016-01-15 03:00:00                          2.322062  \n",
       "2016-01-15 04:00:00                          2.330448  \n",
       "...                                               ...  \n",
       "2018-08-18 06:59:59                          0.000000  \n",
       "2018-08-18 07:59:59                          0.000000  \n",
       "2018-08-18 08:59:59                          0.000000  \n",
       "2018-08-18 09:59:59                          0.000000  \n",
       "2018-08-18 10:59:59                          0.000000  \n",
       "\n",
       "[14149 rows x 34 columns]"
      ]
     },
     "metadata": {},
     "output_type": "display_data"
    }
   ],
   "source": [
    "miss_col = []\n",
    "for col in data_files['full_data']['data']:\n",
    "    try:\n",
    "        data_files['test_data']['data'][col]\n",
    "    except KeyError:\n",
    "        miss_col.append(col)\n",
    "print(data_files['full_data']['data'][miss_col].info())\n",
    "display(data_files['full_data']['data'].loc[~data_files['full_data']['data'].index.isin(data_files['test_data']['data'].index)][miss_col])"
   ]
  },
  {
   "cell_type": "code",
   "execution_count": 8,
   "metadata": {},
   "outputs": [
    {
     "name": "stdout",
     "output_type": "stream",
     "text": [
      "                     rougher.output.recovery  final.output.recovery\n",
      "date                                                               \n",
      "2016-09-01 00:59:59                89.993421              70.273583\n",
      "2016-09-01 01:59:59                88.089657              68.910432\n",
      "2016-09-01 02:59:59                88.412756              68.143213\n",
      "2016-09-01 03:59:59                87.360133              67.776393\n",
      "2016-09-01 04:59:59                83.236367              61.467078\n",
      "...                                      ...                    ...\n",
      "2017-12-31 19:59:59                95.172585              68.919891\n",
      "2017-12-31 20:59:59                94.575036              68.440582\n",
      "2017-12-31 21:59:59                93.018138              67.092759\n",
      "2017-12-31 22:59:59                92.599042              68.061186\n",
      "2017-12-31 23:59:59                91.177695              71.699976\n",
      "\n",
      "[5290 rows x 2 columns]\n"
     ]
    }
   ],
   "source": [
    "target_test_lst = ['rougher.output.recovery', 'final.output.recovery']\n",
    "data_files['test_data']['targets'] = data_files['full_data']['data'].loc[data_files['full_data']['data'].index.isin(data_files['test_data']['data'].index)][target_test_lst]\n",
    "print(data_files['test_data']['targets'])"
   ]
  },
  {
   "cell_type": "markdown",
   "metadata": {},
   "source": [
    "**Вывод**   \n",
    "Мы получили список пропущенных 34 колонок тестовой выборки и сформировали выборку из полного датасета данных, которые по временному индексу не вошли в тестовую выборку. Из условий задачи известно, что тестовая выборка не содержит целевого признака и показателей, которые вычисляются на поздних технологических этапах. Из чего можно предположить, что данные исключены по причине их связи с целевыми признаками, то есть чтобы избежать утечки данных и завышенных результатов предсказаний модели. Тип данных исключенных столбцов вещественный (float)."
   ]
  },
  {
   "cell_type": "code",
   "execution_count": 9,
   "metadata": {
    "scrolled": false
   },
   "outputs": [
    {
     "data": {
      "image/png": "[encoded data removed]",
      "text/plain": [
       "<Figure size 1280x720 with 1 Axes>"
      ]
     },
     "metadata": {
      "needs_background": "light"
     },
     "output_type": "display_data"
    },
    {
     "data": {
      "image/png": "[encoded data removed]",
      "text/plain": [
       "<Figure size 1280x720 with 1 Axes>"
      ]
     },
     "metadata": {
      "needs_background": "light"
     },
     "output_type": "display_data"
    },
    {
     "data": {
      "image/png": "[encoded data removed]",
      "text/plain": [
       "<Figure size 1280x720 with 1 Axes>"
      ]
     },
     "metadata": {
      "needs_background": "light"
     },
     "output_type": "display_data"
    }
   ],
   "source": [
    "\n",
    "for el in ['ag', 'au', 'pb']:\n",
    "    plt.figure(figsize=(16, 9), dpi=80)\n",
    "    for stg in ['rougher.input.feed_', 'rougher.output.concentrate_', 'primary_cleaner.output.concentrate_', 'final.output.concentrate_']:\n",
    "        data = data_files['full_data']['data'][stg + el]\n",
    "        q25, q75 = np.percentile(data, [25, 75])\n",
    "        bin_width = 2 * (q75 - q25) * len(data) ** (-1/3)\n",
    "        bins = round((data.max() - data.min()) / bin_width)\n",
    "        plt.hist(data, bins=bins, alpha = 0.6, label=stg+el)\n",
    "        plt.legend(loc='upper left')\n",
    "        plt.title(f'Распределение {el} по этапам очистки')\n",
    "    plt.show()"
   ]
  },
  {
   "cell_type": "markdown",
   "metadata": {},
   "source": [
    "**Вывод**   \n",
    "Постороены графики с расчётом количества корзин по методу Фридмана-Диакониса (Freedman-Diaconis). Графики показывают, что по мере очистки с каждым этапом содержание золота растёт, а содержание иных металлов падает, так как технологические процессы подразумевают повышение содержания золота, соотвественно понижение содердания примесей и иных сопуствующих металлов."
   ]
  },
  {
   "cell_type": "code",
   "execution_count": 10,
   "metadata": {},
   "outputs": [
    {
     "data": {
      "image/png": "[encoded data removed]",
      "text/plain": [
       "<Figure size 1280x720 with 1 Axes>"
      ]
     },
     "metadata": {
      "needs_background": "light"
     },
     "output_type": "display_data"
    }
   ],
   "source": [
    "plt.figure(figsize=(16, 9), dpi=80)\n",
    "train_data = data_files['train_data']['data']['rougher.input.feed_size']\n",
    "q25, q75 = np.percentile(train_data, [25, 75])\n",
    "bin_width = 2 * (q75 - q25) * len(train_data) ** (-1/3)\n",
    "bins = round((train_data.max() - train_data.min()) / bin_width)\n",
    "plt.hist(train_data, bins=bins, alpha = 0.6, label=\"train\")\n",
    "\n",
    "test_data = data_files['test_data']['data']['rougher.input.feed_size']\n",
    "q25, q75 = np.percentile(test_data, [25, 75])\n",
    "bin_width = 2 * (q75 - q25) * len(test_data) ** (-1/3)\n",
    "bins = round((test_data.max() - test_data.min()) / bin_width)\n",
    "plt.hist(test_data, bins=bins, alpha = 0.6, label=\"test\")\n",
    "\n",
    "plt.legend(loc='upper left')\n",
    "plt.title('Распределение размеров гранул по выборкам train-test')\n",
    "plt.show()"
   ]
  },
  {
   "cell_type": "code",
   "execution_count": 11,
   "metadata": {},
   "outputs": [
    {
     "data": {
      "image/png": "[encoded data removed]",
      "text/plain": [
       "<Figure size 1152x648 with 3 Axes>"
      ]
     },
     "metadata": {
      "needs_background": "light"
     },
     "output_type": "display_data"
    }
   ],
   "source": [
    "train_data = data_files['train_data']['data']['rougher.input.feed_size']\n",
    "test_data = data_files['test_data']['data']['rougher.input.feed_size']\n",
    "\n",
    "import seaborn as sns\n",
    "\n",
    "\n",
    "fig, ax1 = plt.subplots(figsize=(16, 9))\n",
    "sns.kdeplot(x=train_data, ax=ax1)\n",
    "ax1.set_xlim((train_data.min(), train_data.max()))\n",
    "ax2 = ax1.twinx()\n",
    "sns.kdeplot(x=test_data, ax=ax1)\n",
    "ax1.set_xlim((test_data.min(), test_data.max()))\n",
    "ax2 = ax1.twinx()"
   ]
  },
  {
   "cell_type": "code",
   "execution_count": 12,
   "metadata": {},
   "outputs": [
    {
     "name": "stdout",
     "output_type": "stream",
     "text": [
      "Размеры гранул в train-выборке, квартили, страндартное отклонение распределения:\n",
      "count    14149.000000\n",
      "mean        60.239856\n",
      "std         23.005310\n",
      "min          9.659576\n",
      "25%         48.966751\n",
      "50%         55.269784\n",
      "75%         66.007526\n",
      "max        484.967466\n",
      "Name: rougher.input.feed_size, dtype: float64\n",
      "____________________________________________________________________________\n",
      "Размеры гранул в test-выборке, квартили, страндартное отклонение распределения:\n",
      "count    5290.000000\n",
      "mean       55.952754\n",
      "std        19.080334\n",
      "min         0.046369\n",
      "25%        43.906504\n",
      "50%        50.846843\n",
      "75%        62.451165\n",
      "max       392.494040\n",
      "Name: rougher.input.feed_size, dtype: float64\n"
     ]
    }
   ],
   "source": [
    "print('Размеры гранул в train-выборке, квартили, страндартное отклонение распределения:')\n",
    "print(train_data.describe())\n",
    "print('____________________________________________________________________________')\n",
    "print('Размеры гранул в test-выборке, квартили, страндартное отклонение распределения:')\n",
    "print(test_data.describe())"
   ]
  },
  {
   "cell_type": "markdown",
   "metadata": {},
   "source": [
    "**Вывод**   \n",
    "В тестовой выборке значения параметра размера гранул rougher.input.feed_size заметно ниже по основным параметрам, описывающим распределение."
   ]
  },
  {
   "cell_type": "code",
   "execution_count": 13,
   "metadata": {
    "scrolled": false
   },
   "outputs": [
    {
     "data": {
      "image/png": "[encoded data removed]",
      "text/plain": [
       "<Figure size 1280x720 with 1 Axes>"
      ]
     },
     "metadata": {
      "needs_background": "light"
     },
     "output_type": "display_data"
    },
    {
     "data": {
      "image/png": "[encoded data removed]",
      "text/plain": [
       "<Figure size 1280x720 with 1 Axes>"
      ]
     },
     "metadata": {
      "needs_background": "light"
     },
     "output_type": "display_data"
    }
   ],
   "source": [
    "train_data = data_files['train_data']['data'].copy()\n",
    "for el in ['ag', 'au', 'pb']:\n",
    "    for stg in ['rougher.input.feed_', 'rougher.output.concentrate_', 'primary_cleaner.output.concentrate_', 'final.output.concentrate_']:\n",
    "        try:\n",
    "            train_data[stg + 'sum'] = train_data[stg + 'sum'] + train_data[stg + el]\n",
    "        except:\n",
    "            train_data[stg + 'sum'] = train_data[stg + el]\n",
    "            \n",
    "plt.figure(figsize=(16, 9), dpi=80)    \n",
    "for stg in ['rougher.input.feed_sum', 'rougher.output.concentrate_sum', 'primary_cleaner.output.concentrate_sum', 'final.output.concentrate_sum']:\n",
    "        data = train_data[stg]\n",
    "        q25, q75 = np.percentile(data, [25, 75])\n",
    "        bin_width = 2 * (q75 - q25) * len(data) ** (-1/3)\n",
    "        bins = round((data.max() - data.min()) / bin_width)\n",
    "        plt.hist(data, bins=bins, alpha = 0.6, label=stg)\n",
    "        plt.legend(loc='upper left')\n",
    "        plt.title(f'Распределение суммарных концентраций веществ по этапам очистки по данным train выборки с аномалиями')\n",
    "plt.show()\n",
    "\n",
    "plt.figure(figsize=(16, 9), dpi=80)    \n",
    "for stg in ['rougher.input.feed_sum', 'rougher.output.concentrate_sum', 'primary_cleaner.output.concentrate_sum', 'final.output.concentrate_sum']:\n",
    "        data = train_data[train_data[stg] != 0][stg]\n",
    "        q25, q75 = np.percentile(data, [25, 75])\n",
    "        bin_width = 2 * (q75 - q25) * len(data) ** (-1/3)\n",
    "        bins = round((data.max() - data.min()) / bin_width)\n",
    "        plt.hist(data, bins=bins, alpha = 0.6, label=stg)\n",
    "        plt.legend(loc='upper left')\n",
    "        plt.title(f'Распределение суммарных концентраций веществ по этапам очистки по данным train выборки без аномалий')\n",
    "plt.show()\n"
   ]
  },
  {
   "cell_type": "markdown",
   "metadata": {},
   "source": [
    "**Вывод**   \n",
    "Устранили нулевые (совокупная концентрация 0) значения. По гистограмам наблюдается смещение в сторону увеличения суммарных концентраций веществ, что говорит о нромальном технологическом процессе, эффективность второго этапа которого в части очистки сопуствующих веществ (ag, pb) не очевидна."
   ]
  },
  {
   "cell_type": "markdown",
   "metadata": {},
   "source": [
    "## Модель"
   ]
  },
  {
   "cell_type": "markdown",
   "metadata": {},
   "source": [
    "Формула расчёта метрик SMAPE выглядят следующим образом:\n",
    "\n",
    "$ \\ \\begin{align*} sMAPE =  \\frac{1}{N}  \\sum_{i=1}^{N}  \\frac{|y_i - \\widehat{y}_i|}{(|y_i| + |\\widehat{y}_i|)/2} \\times 100\\% \\ \\end{align*}$"
   ]
  },
  {
   "cell_type": "markdown",
   "metadata": {},
   "source": [
    "$Итоговое \\\\ \\begin{align*}\n",
    "sMAPE = 25\\% \\times sMAPE(rougher) + 75 \\% \\ \\times \\  sMAPE(final) \n",
    "\\end{align*}$"
   ]
  },
  {
   "cell_type": "code",
   "execution_count": 14,
   "metadata": {},
   "outputs": [],
   "source": [
    "def smp(target, predictions):\n",
    "    smape = 1 / len(target) * sum(abs(target - predictions) / (0.000001 + abs(target) + abs(predictions)) / 2) * 100\n",
    "    return smape\n"
   ]
  },
  {
   "cell_type": "code",
   "execution_count": 15,
   "metadata": {},
   "outputs": [],
   "source": [
    "def model_srch(features_train, target_train, smape_scorer, stg_name):\n",
    "    \n",
    "    param_dist_forest = {\"max_depth\": [3, None],\n",
    "                  \"max_features\": sp_randint(1, 11),\n",
    "                  \"min_samples_split\": sp_randint(2, 11),}\n",
    "\n",
    "    random_search = RandomizedSearchCV(RandomForestRegressor(), param_distributions=param_dist_forest,\n",
    "                                       n_iter=20, scoring=smape_scorer, random_state = 54321)\n",
    "    random_search.fit(features_train, target_train)\n",
    "    best_model_forest = random_search.best_estimator_\n",
    "\n",
    "    param_dist_tree = {\"splitter\":[\"best\",\"random\"],\n",
    "                       \"max_depth\" : [1,3,5,7,9,11,12],\n",
    "                       \"min_samples_leaf\":[1,2,3,4,5,6,7,8,9,10],\n",
    "                       \"min_weight_fraction_leaf\":[0.1,0.2,0.3,0.4,0.5],\n",
    "                       \"max_features\":[\"auto\",\"log2\",\"sqrt\",None],\n",
    "                       \"max_leaf_nodes\":[None,10,20,30,40,50,60,70,80,90] }\n",
    "\n",
    "    random_search = RandomizedSearchCV(DecisionTreeRegressor(), param_distributions=param_dist_tree,\n",
    "                                        scoring=smape_scorer, cv=5, refit=True, random_state = 54321)\n",
    "    random_search.fit(features_train, target_train)\n",
    "    best_model_tree = random_search.best_estimator_\n",
    "\n",
    "    model_forest = best_model_forest\n",
    "    scores_forest = cross_val_score(model_forest, features_train, target_train, scoring=smape_scorer, cv=5)\n",
    "    model_forest = model_forest.fit(features_train, target_train)\n",
    "    smape_forest = abs(scores_forest.mean())\n",
    "\n",
    "    model_forest_dummy = DummyRegressor(strategy = 'mean')   \n",
    "    scores_forest_dummy = cross_val_score(model_forest_dummy, features_train, target_train, scoring=smape_scorer, cv=5)\n",
    "    model_forest_dummy = model_forest_dummy.fit(features_train, target_train)\n",
    "    smape_forest_dummy = abs(scores_forest_dummy.mean())\n",
    "\n",
    "    print(f'Лучшее значение sMAPE для случайного леса ({stg_name}): {smape_forest}')\n",
    "    print(f'Лучшее значение sMAPE для DUMMY случайного леса ({stg_name}): {smape_forest_dummy}')\n",
    "    print(f'R2 модели случайного леса ({stg_name}): {model_forest.score(features_train, target_train)}')\n",
    "    print(f'R2 DUMMY модели случайного леса ({stg_name}): {model_forest_dummy.score(features_train, target_train)}')\n",
    "    print('________________________________________________________________________________________')\n",
    "    \n",
    "    model_tree = best_model_tree\n",
    "    scores_tree = cross_val_score(model_tree, features_train, target_train, scoring=smape_scorer, cv=5)\n",
    "    model_tree = model_tree.fit(features_train, target_train)\n",
    "    smape_tree = abs(scores_tree.mean())\n",
    "\n",
    "    model_tree_dummy = DummyRegressor(strategy = 'mean')    \n",
    "    scores_tree_dummy = cross_val_score(model_tree_dummy, features_train, target_train, scoring=smape_scorer, cv=5)\n",
    "    model_tree_dummy = model_tree_dummy.fit(features_train, target_train)\n",
    "    smape_tree_dummy = abs(scores_tree_dummy.mean())\n",
    "\n",
    "\n",
    "    print(f'Лучшее значение sMAPE для дерева решений ({stg_name}): {smape_tree}')\n",
    "    print(f'Лучшее значение sMAPE для DUMMY дерева решений ({stg_name}): {smape_tree_dummy}')\n",
    "    print(f'R2 модели дерева решений ({stg_name}): {model_tree.score(features_train, target_train)}')\n",
    "    print(f'R2 DUMMY модели дерева решений ({stg_name}): {model_tree_dummy.score(features_train, target_train)}')\n",
    "    print('________________________________________________________________________________________')\n",
    "    \n",
    "    model_linear = LinearRegression()\n",
    "    scores_linear = cross_val_score(model_linear, features_train, target_train, scoring=smape_scorer, cv=5)\n",
    "    model_linear = model_linear.fit(features_train, target_train)\n",
    "    smape_linear = abs(scores_linear.mean())\n",
    "\n",
    "    model_linear_dummy = DummyRegressor(strategy = 'mean')   \n",
    "    scores_linear_dummy = cross_val_score(model_linear_dummy, features_train, target_train, scoring=smape_scorer, cv=5)\n",
    "    model_linear_dummy = model_linear_dummy.fit(features_train, target_train)\n",
    "    smape_linear_dummy = abs(scores_linear_dummy.mean())\n",
    "\n",
    "    print(f'Лучшее значение sMAPE для линейной регрессии ({stg_name}):  {smape_linear}')\n",
    "    print(f'Лучшее значение sMAPE для DUMMY линейной регрессии ({stg_name}): {smape_linear_dummy}')\n",
    "    print(f'R2 модели линейной регрессии ({stg_name}): {model_linear.score(features_train, target_train)}')\n",
    "    print(f'R2 DUMMY модели линейной регрессии ({stg_name}): {model_linear_dummy.score(features_train, target_train)}')\n",
    "    print('********************************************************************************************************')\n",
    "    \n",
    "    \n",
    "    return model_forest, model_tree, model_linear\n"
   ]
  },
  {
   "cell_type": "markdown",
   "metadata": {},
   "source": [
    "**Пояснения к коду**   \n",
    "Ниже мы убираем и сохраняем таргеты из трэйн-даты, убираем также отсуствующие в тест-дате колонки-фичи, масштабируем числовые данные, сбрасываем индексы-даты, чтобы убрать утечку данных, сохраняем в новых датасетах в словаре. Затем мы перебираем таргеты из списка, отбирая фичи для обучения по стадии очистки (rougher(включает фичи rougher), final(включает фичи и rougher, и final)), обучаем на них модели 3-х видов в функции model_srch, подбираем параметры с помощью RandomizedSearchCV и используем лучшие параметры в обучении моделей, определяя их с помощью кастомной метрики smape. Проверяем работоспособность моделей, сравнивая их метрики с DUMMY-моделями, убеждаемся, что они работают. Выводим на экран значения и определяем по ним лучшую."
   ]
  },
  {
   "cell_type": "code",
   "execution_count": 16,
   "metadata": {
    "scrolled": false
   },
   "outputs": [
    {
     "name": "stdout",
     "output_type": "stream",
     "text": [
      "Вычисляются лучшие параметры моделей и значения метрик...\n",
      "Лучшее значение sMAPE для случайного леса (rougher): 2.8727117711187082\n",
      "Лучшее значение sMAPE для DUMMY случайного леса (rougher): 3.053834078385612\n",
      "R2 модели случайного леса (rougher): 0.25890900917126813\n",
      "R2 DUMMY модели случайного леса (rougher): 0.0\n",
      "________________________________________________________________________________________\n",
      "Лучшее значение sMAPE для дерева решений (rougher): 3.024119164743493\n",
      "Лучшее значение sMAPE для DUMMY дерева решений (rougher): 3.053834078385612\n",
      "R2 модели дерева решений (rougher): 0.02618271485564372\n",
      "R2 DUMMY модели дерева решений (rougher): 0.0\n",
      "________________________________________________________________________________________\n",
      "Лучшее значение sMAPE для линейной регрессии (rougher):  3.118081040328472\n",
      "Лучшее значение sMAPE для DUMMY линейной регрессии (rougher): 3.053834078385612\n",
      "R2 модели линейной регрессии (rougher): 0.15912131222377868\n",
      "R2 DUMMY модели линейной регрессии (rougher): 0.0\n",
      "********************************************************************************************************\n",
      "Лучшее значение sMAPE для случайного леса (final): 2.5335258364762447\n",
      "Лучшее значение sMAPE для DUMMY случайного леса (final): 2.8403398017156065\n",
      "R2 модели случайного леса (final): 0.3024607621845484\n",
      "R2 DUMMY модели случайного леса (final): 0.0\n",
      "________________________________________________________________________________________\n",
      "Лучшее значение sMAPE для дерева решений (final): 2.6747152263834884\n",
      "Лучшее значение sMAPE для DUMMY дерева решений (final): 2.8403398017156065\n",
      "R2 модели дерева решений (final): 0.15481481864025726\n",
      "R2 DUMMY модели дерева решений (final): 0.0\n",
      "________________________________________________________________________________________\n",
      "Лучшее значение sMAPE для линейной регрессии (final):  3.0613250537245786\n",
      "Лучшее значение sMAPE для DUMMY линейной регрессии (final): 2.8403398017156065\n",
      "R2 модели линейной регрессии (final): 0.3145415768618611\n",
      "R2 DUMMY модели линейной регрессии (final): 0.0\n",
      "********************************************************************************************************\n"
     ]
    }
   ],
   "source": [
    "target_train_lst = ['rougher.output.recovery', 'final.output.recovery']\n",
    "data_files['train_data']['targets'] = data_files['train_data']['data'][target_train_lst]\n",
    "df = data_files['train_data']['data'].drop(miss_col, axis=1)\n",
    "scaler = StandardScaler()\n",
    "scaler.fit(df)\n",
    "df[df.columns] = scaler.transform(df)\n",
    "data_files['train_data']['sclr_data'] = df.reset_index(drop=True)\n",
    "\n",
    "df = data_files['test_data']['data']\n",
    "df[df.columns] = scaler.transform(df)\n",
    "data_files['test_data']['sclr_data'] = df.reset_index(drop=True)\n",
    "\n",
    "data_files['scaler'] = scaler\n",
    "\n",
    "for trgt in data_files['train_data']['targets']:\n",
    "    \n",
    "    smape_scorer = make_scorer(smp, greater_is_better=False)\n",
    "    \n",
    "    target_train = data_files['train_data']['data'][trgt]\n",
    "    if 'rougher' in trgt:\n",
    "        features_train = data_files['train_data']['sclr_data'].loc[:, data_files['train_data']['sclr_data'].columns.str.contains(r'^rougher')]\n",
    "        print('Вычисляются лучшие параметры моделей и значения метрик...') \n",
    "        model_rougher_forest, model_rougher_tree, model_rougher_linear = model_srch(features_train, target_train, smape_scorer, 'rougher')\n",
    "    \n",
    "    else:\n",
    "        features_train = data_files['train_data']['sclr_data']\n",
    "        model_final_forest, model_final_tree, model_final_linear = model_srch(features_train, target_train, smape_scorer, 'final')"
   ]
  },
  {
   "cell_type": "markdown",
   "metadata": {},
   "source": [
    "**Вывод**   \n",
    "DUMMY-модель показывает стабильные значения метрик, что подтверждает отсуствие зависимости предсказаний от входящих данных. Предсказания моделей, обученных в рамках исследования отличаются по метрикам, что подтверждает их работоспособность.  Выбираем модель \"случайный лес\", т.к. она показала минимальный sMAPE при кросс-валидации на фичах стадии rougher и final, а также максимальный R2."
   ]
  },
  {
   "cell_type": "code",
   "execution_count": 17,
   "metadata": {},
   "outputs": [
    {
     "name": "stdout",
     "output_type": "stream",
     "text": [
      "Лучшее значение sMAPE для случайного леса (флотация) на тестовой выборке: 2.317796845708501\n",
      "________________________________________________________________________________________\n",
      "-----------------------------------------------------------------\n",
      "Лучшее значение sMAPE для случайного леса (финал) на тестовой выборке: 2.282674080111349\n",
      "-----------------------------------------------------------------\n",
      "Итоговое sMAPE лучшей модели RandomForestRegressor: 2.2914547715106375\n"
     ]
    }
   ],
   "source": [
    "for trgt in data_files['test_data']['targets']:\n",
    "    \n",
    "    if 'rougher' in trgt:\n",
    "        features_test = data_files['test_data']['sclr_data'].loc[:, data_files['test_data']['sclr_data'].columns.str.contains(r'^rougher')]\n",
    "        scores_rougher_forest = cross_val_score(model_rougher_forest, features_test, data_files['test_data']['targets'][trgt], scoring=smape_scorer, cv=5)\n",
    "        sMAPE_roughter = abs(scores_rougher_forest.mean())\n",
    "        print(f'Лучшее значение sMAPE для случайного леса (флотация) на тестовой выборке: {sMAPE_roughter}')\n",
    "        print('________________________________________________________________________________________')\n",
    "    else:\n",
    "        features_test = data_files['test_data']['sclr_data']\n",
    "        print('-----------------------------------------------------------------')\n",
    "        test_predict = model_final_forest.predict(features_test)\n",
    "        scores_final_forest = cross_val_score(model_final_forest, features_test, data_files['test_data']['targets'][trgt], scoring=smape_scorer, cv=5)\n",
    "        sMAPE_final = abs(scores_final_forest.mean())\n",
    "        print(f'Лучшее значение sMAPE для случайного леса (финал) на тестовой выборке: {sMAPE_final}')\n",
    "        print('-----------------------------------------------------------------')\n",
    "print('Итоговое sMAPE лучшей модели RandomForestRegressor:', (0.25 * sMAPE_roughter) + (0.75 * sMAPE_final))"
   ]
  },
  {
   "cell_type": "markdown",
   "metadata": {},
   "source": [
    "**Вывод**   \n",
    "Получили лучшую модель RandomForest с помощью RandomizedSearchCV и кросс-валидации, проверили на тестовой выборке."
   ]
  },
  {
   "cell_type": "markdown",
   "metadata": {},
   "source": [
    "## Общий вывод"
   ]
  },
  {
   "cell_type": "markdown",
   "metadata": {},
   "source": [
    " В процессе данного исследования мы провели загрузку данных из 3-х датасетов, осмотрели и подготовили данные приведя структуру в соотвествие с условиями задания -  в качестве индекса установили колонку времени, в целях последующего извлечения данных таргета по этому индексу, заполнили пропуски методом ближайших значений, исходя из хронологической взаимосвязи данных. Далее нами проведёны расчёты для анализа данных на корректность привидённой эффективности, который показал, что для стадии rougher данные корректны, для стадии final - нет.   \n",
    "Далее нами проведён исследовательский анализ данных, в процессе которого продемонстрирован процесс обогащения/очистки руды, изменнение (рост) концентраций полезных металлов при удалении сопуствующей нерудной породы (хвостов). Продемонстрированы распределения размеров гранул сырья в выборках train и test.  \n",
    "    Далее нами отмасштаббированы и отобраны из train выборки только те данные, которые имеются в test выборке, удалён индекс для избежания утечки данных  обучены разные модели с определением лучших гиперпараметров и кросс-валидацией, в результате выбраны две модели RandomForestRegressor для каждой стадии (rougher, final), которые были проверены кросс-валидацией с применением sMAPE скорера на test выборке и посчитана итоговая метрика sMAPE для этих лучших моделей в соотвествии с уловиями задания и с применением целевых таргетов отобранный ранее по индексу-дате из полного датасета.   "
   ]
  },
  {
   "cell_type": "markdown",
   "metadata": {},
   "source": [
    "## Чек-лист готовности проекта"
   ]
  },
  {
   "cell_type": "markdown",
   "metadata": {},
   "source": [
    "- [x]  Jupyter Notebook открыт\n",
    "- [x]  Весь код выполняется без ошибок\n",
    "- [x]  Ячейки с кодом расположены в порядке выполнения\n",
    "- [x]  Выполнен шаг 1: данные подготовлены\n",
    "    - [x]  Проверена формула вычисления эффективности обогащения\n",
    "    - [x]  Проанализированы признаки, недоступные в тестовой выборке\n",
    "    - [x]  Проведена предобработка данных\n",
    "- [x]  Выполнен шаг 2: данные проанализированы\n",
    "    - [x]  Исследовано изменение концентрации элементов на каждом этапе\n",
    "    - [x]  Проанализированы распределения размеров гранул на обучающей и тестовой выборках\n",
    "    - [x]  Исследованы суммарные концентрации\n",
    "- [x]  Выполнен шаг 3: построена модель прогнозирования\n",
    "    - [x]  Написана функция для вычисления итогового *sMAPE*\n",
    "    - [X]  Обучено и проверено несколько моделей\n",
    "    - [x]  Выбрана лучшая модель, её качество проверено на тестовой выборке"
   ]
  }
 ],
 "metadata": {
  "ExecuteTimeLog": [
   {
    "duration": 1598,
    "start_time": "2022-07-06T20:49:34.161Z"
   },
   {
    "duration": 48,
    "start_time": "2022-07-06T20:50:03.918Z"
   },
   {
    "duration": 1282,
    "start_time": "2022-07-06T20:50:45.118Z"
   },
   {
    "duration": 43,
    "start_time": "2022-07-06T20:51:03.960Z"
   },
   {
    "duration": 2697,
    "start_time": "2022-07-06T20:51:06.376Z"
   },
   {
    "duration": 3215,
    "start_time": "2022-07-06T20:56:53.803Z"
   },
   {
    "duration": 45,
    "start_time": "2022-07-06T21:25:43.710Z"
   },
   {
    "duration": 5,
    "start_time": "2022-07-06T21:26:05.597Z"
   },
   {
    "duration": 50,
    "start_time": "2022-07-09T17:51:56.356Z"
   },
   {
    "duration": 1736,
    "start_time": "2022-07-09T17:52:07.616Z"
   },
   {
    "duration": 2214,
    "start_time": "2022-07-09T17:52:09.846Z"
   },
   {
    "duration": 1096,
    "start_time": "2022-07-09T17:55:25.056Z"
   },
   {
    "duration": 67,
    "start_time": "2022-07-09T17:59:55.735Z"
   },
   {
    "duration": 49,
    "start_time": "2022-07-09T18:01:13.033Z"
   },
   {
    "duration": 890,
    "start_time": "2022-07-09T18:02:00.640Z"
   },
   {
    "duration": 97,
    "start_time": "2022-07-09T18:03:12.349Z"
   },
   {
    "duration": 48,
    "start_time": "2022-07-09T18:07:04.376Z"
   },
   {
    "duration": 7,
    "start_time": "2022-07-09T18:07:19.013Z"
   },
   {
    "duration": 10,
    "start_time": "2022-07-09T18:07:28.098Z"
   },
   {
    "duration": 20,
    "start_time": "2022-07-09T18:08:24.137Z"
   },
   {
    "duration": 17,
    "start_time": "2022-07-09T18:10:41.672Z"
   },
   {
    "duration": 16,
    "start_time": "2022-07-09T18:11:21.036Z"
   },
   {
    "duration": 18,
    "start_time": "2022-07-09T19:01:46.393Z"
   },
   {
    "duration": 23,
    "start_time": "2022-07-09T19:02:00.642Z"
   },
   {
    "duration": 23,
    "start_time": "2022-07-09T19:02:09.309Z"
   },
   {
    "duration": 22,
    "start_time": "2022-07-09T19:11:10.061Z"
   },
   {
    "duration": 52,
    "start_time": "2022-07-09T19:11:24.687Z"
   },
   {
    "duration": 892,
    "start_time": "2022-07-09T19:11:33.057Z"
   },
   {
    "duration": 1309,
    "start_time": "2022-07-09T19:12:04.748Z"
   },
   {
    "duration": 16,
    "start_time": "2022-07-09T19:12:10.282Z"
   },
   {
    "duration": 16,
    "start_time": "2022-07-09T19:14:58.996Z"
   },
   {
    "duration": 6,
    "start_time": "2022-07-09T19:15:41.654Z"
   },
   {
    "duration": 6,
    "start_time": "2022-07-09T19:17:39.164Z"
   },
   {
    "duration": 9,
    "start_time": "2022-07-09T19:18:11.554Z"
   },
   {
    "duration": 7,
    "start_time": "2022-07-09T19:19:32.493Z"
   },
   {
    "duration": 884,
    "start_time": "2022-07-09T19:32:27.754Z"
   },
   {
    "duration": 4,
    "start_time": "2022-07-09T19:32:45.451Z"
   },
   {
    "duration": 4,
    "start_time": "2022-07-09T19:32:58.757Z"
   },
   {
    "duration": 768,
    "start_time": "2022-07-09T19:33:49.604Z"
   },
   {
    "duration": 859,
    "start_time": "2022-07-09T19:34:15.516Z"
   },
   {
    "duration": 4,
    "start_time": "2022-07-09T19:34:22.405Z"
   },
   {
    "duration": 19,
    "start_time": "2022-07-09T19:34:41.581Z"
   },
   {
    "duration": 16,
    "start_time": "2022-07-09T19:35:01.988Z"
   },
   {
    "duration": 1033,
    "start_time": "2022-07-09T19:36:16.515Z"
   },
   {
    "duration": 1072,
    "start_time": "2022-07-09T19:36:34.345Z"
   },
   {
    "duration": 1022,
    "start_time": "2022-07-09T19:38:02.612Z"
   },
   {
    "duration": 19,
    "start_time": "2022-07-09T19:42:26.766Z"
   },
   {
    "duration": 14,
    "start_time": "2022-07-09T19:43:02.662Z"
   },
   {
    "duration": 1038,
    "start_time": "2022-07-09T19:48:17.645Z"
   },
   {
    "duration": 29,
    "start_time": "2022-07-09T19:48:56.479Z"
   },
   {
    "duration": 42,
    "start_time": "2022-07-09T19:49:06.688Z"
   },
   {
    "duration": 46,
    "start_time": "2022-07-09T19:51:07.296Z"
   },
   {
    "duration": 827,
    "start_time": "2022-07-09T19:51:12.843Z"
   },
   {
    "duration": 970,
    "start_time": "2022-07-09T19:51:58.742Z"
   },
   {
    "duration": 864,
    "start_time": "2022-07-09T19:52:31.403Z"
   },
   {
    "duration": 830,
    "start_time": "2022-07-09T19:52:43.700Z"
   },
   {
    "duration": 30,
    "start_time": "2022-07-09T19:52:50.342Z"
   },
   {
    "duration": 1174,
    "start_time": "2022-07-09T19:52:53.440Z"
   },
   {
    "duration": 7,
    "start_time": "2022-07-09T19:52:58.467Z"
   },
   {
    "duration": 18,
    "start_time": "2022-07-09T19:53:07.372Z"
   },
   {
    "duration": 26,
    "start_time": "2022-07-09T19:54:29.909Z"
   },
   {
    "duration": 18,
    "start_time": "2022-07-09T19:56:07.961Z"
   },
   {
    "duration": 25,
    "start_time": "2022-07-09T19:57:15.176Z"
   },
   {
    "duration": 1046,
    "start_time": "2022-07-09T19:57:49.869Z"
   },
   {
    "duration": 25,
    "start_time": "2022-07-09T19:57:58.010Z"
   },
   {
    "duration": 22,
    "start_time": "2022-07-09T20:06:14.369Z"
   },
   {
    "duration": 26,
    "start_time": "2022-07-09T20:06:33.405Z"
   },
   {
    "duration": 855,
    "start_time": "2022-07-09T20:07:25.685Z"
   },
   {
    "duration": 26,
    "start_time": "2022-07-09T20:08:21.582Z"
   },
   {
    "duration": 753,
    "start_time": "2022-07-09T20:08:38.488Z"
   },
   {
    "duration": 24,
    "start_time": "2022-07-09T20:10:42.173Z"
   },
   {
    "duration": 35,
    "start_time": "2022-07-09T20:12:38.354Z"
   },
   {
    "duration": 40,
    "start_time": "2022-07-09T20:14:29.750Z"
   },
   {
    "duration": 37,
    "start_time": "2022-07-09T20:14:56.146Z"
   },
   {
    "duration": 44,
    "start_time": "2022-07-09T20:15:10.975Z"
   },
   {
    "duration": 27,
    "start_time": "2022-07-09T20:15:44.567Z"
   },
   {
    "duration": 27,
    "start_time": "2022-07-09T20:16:48.363Z"
   },
   {
    "duration": 32,
    "start_time": "2022-07-09T20:18:08.820Z"
   },
   {
    "duration": 28,
    "start_time": "2022-07-09T20:18:34.451Z"
   },
   {
    "duration": 26,
    "start_time": "2022-07-09T20:18:54.654Z"
   },
   {
    "duration": 31,
    "start_time": "2022-07-09T20:19:03.311Z"
   },
   {
    "duration": 40,
    "start_time": "2022-07-09T20:19:58.932Z"
   },
   {
    "duration": 35,
    "start_time": "2022-07-09T20:22:50.313Z"
   },
   {
    "duration": 43,
    "start_time": "2022-07-09T20:23:47.505Z"
   },
   {
    "duration": 46,
    "start_time": "2022-07-09T20:24:13.691Z"
   },
   {
    "duration": 42,
    "start_time": "2022-07-09T20:32:08.756Z"
   },
   {
    "duration": 28,
    "start_time": "2022-07-09T20:33:54.150Z"
   },
   {
    "duration": 27,
    "start_time": "2022-07-09T20:42:33.079Z"
   },
   {
    "duration": 28,
    "start_time": "2022-07-09T20:52:32.759Z"
   },
   {
    "duration": 36,
    "start_time": "2022-07-09T20:52:41.804Z"
   },
   {
    "duration": 27,
    "start_time": "2022-07-09T20:52:51.491Z"
   },
   {
    "duration": 28,
    "start_time": "2022-07-09T20:54:56.148Z"
   },
   {
    "duration": 37,
    "start_time": "2022-07-09T20:55:12.783Z"
   },
   {
    "duration": 26,
    "start_time": "2022-07-09T20:55:29.616Z"
   },
   {
    "duration": 30,
    "start_time": "2022-07-09T20:56:37.312Z"
   },
   {
    "duration": 28,
    "start_time": "2022-07-09T20:56:55.664Z"
   },
   {
    "duration": 27,
    "start_time": "2022-07-09T20:59:00.648Z"
   },
   {
    "duration": 33,
    "start_time": "2022-07-09T20:59:30.652Z"
   },
   {
    "duration": 29,
    "start_time": "2022-07-09T21:00:14.250Z"
   },
   {
    "duration": 32,
    "start_time": "2022-07-09T21:01:35.663Z"
   },
   {
    "duration": 33,
    "start_time": "2022-07-09T21:01:58.637Z"
   },
   {
    "duration": 1161,
    "start_time": "2022-07-09T21:08:58.165Z"
   },
   {
    "duration": 34,
    "start_time": "2022-07-09T21:09:18.922Z"
   },
   {
    "duration": 30,
    "start_time": "2022-07-09T21:09:39.965Z"
   },
   {
    "duration": 47,
    "start_time": "2022-07-09T21:10:00.708Z"
   },
   {
    "duration": 1071,
    "start_time": "2022-07-09T21:10:42.706Z"
   },
   {
    "duration": 1170,
    "start_time": "2022-07-09T21:10:53.845Z"
   },
   {
    "duration": 804,
    "start_time": "2022-07-09T21:11:16.552Z"
   },
   {
    "duration": 50,
    "start_time": "2022-07-09T21:11:28.493Z"
   },
   {
    "duration": 784,
    "start_time": "2022-07-09T21:15:58.622Z"
   },
   {
    "duration": 908,
    "start_time": "2022-07-09T21:16:25.189Z"
   },
   {
    "duration": 57,
    "start_time": "2022-07-09T21:16:36.800Z"
   },
   {
    "duration": 1279,
    "start_time": "2022-07-09T21:16:36.859Z"
   },
   {
    "duration": 7,
    "start_time": "2022-07-09T21:16:38.140Z"
   },
   {
    "duration": 940,
    "start_time": "2022-07-09T21:16:41.213Z"
   },
   {
    "duration": 40,
    "start_time": "2022-07-09T21:17:08.973Z"
   },
   {
    "duration": 24,
    "start_time": "2022-07-09T21:17:40.062Z"
   },
   {
    "duration": 52,
    "start_time": "2022-07-09T21:20:07.810Z"
   },
   {
    "duration": 27,
    "start_time": "2022-07-09T21:24:14.914Z"
   },
   {
    "duration": 29,
    "start_time": "2022-07-09T21:32:50.148Z"
   },
   {
    "duration": 28,
    "start_time": "2022-07-09T21:33:23.555Z"
   },
   {
    "duration": 45,
    "start_time": "2022-07-09T21:33:30.858Z"
   },
   {
    "duration": 246,
    "start_time": "2022-07-09T21:38:13.900Z"
   },
   {
    "duration": 26,
    "start_time": "2022-07-09T21:39:27.099Z"
   },
   {
    "duration": 94,
    "start_time": "2022-07-09T21:39:45.881Z"
   },
   {
    "duration": 188,
    "start_time": "2022-07-09T21:39:59.220Z"
   },
   {
    "duration": 141,
    "start_time": "2022-07-09T21:40:57.780Z"
   },
   {
    "duration": 352,
    "start_time": "2022-07-09T21:42:26.453Z"
   },
   {
    "duration": 269,
    "start_time": "2022-07-09T21:43:24.911Z"
   },
   {
    "duration": 183,
    "start_time": "2022-07-09T21:45:55.548Z"
   },
   {
    "duration": 416,
    "start_time": "2022-07-09T21:46:12.492Z"
   },
   {
    "duration": 392,
    "start_time": "2022-07-09T21:47:13.660Z"
   },
   {
    "duration": 368,
    "start_time": "2022-07-09T21:49:13.535Z"
   },
   {
    "duration": 161,
    "start_time": "2022-07-09T21:50:27.672Z"
   },
   {
    "duration": 260,
    "start_time": "2022-07-09T21:50:47.786Z"
   },
   {
    "duration": 18,
    "start_time": "2022-07-09T21:51:31.880Z"
   },
   {
    "duration": 189,
    "start_time": "2022-07-09T22:00:56.199Z"
   },
   {
    "duration": 19,
    "start_time": "2022-07-09T22:01:23.429Z"
   },
   {
    "duration": 56,
    "start_time": "2022-07-09T22:01:45.150Z"
   },
   {
    "duration": 58,
    "start_time": "2022-07-09T22:02:55.666Z"
   },
   {
    "duration": 39,
    "start_time": "2022-07-09T22:03:13.915Z"
   },
   {
    "duration": 61,
    "start_time": "2022-07-09T22:03:35.520Z"
   },
   {
    "duration": 50,
    "start_time": "2022-07-09T22:04:02.538Z"
   },
   {
    "duration": 58,
    "start_time": "2022-07-09T22:04:22.274Z"
   },
   {
    "duration": 45,
    "start_time": "2022-07-09T22:04:55.442Z"
   },
   {
    "duration": 70,
    "start_time": "2022-07-09T22:05:35.857Z"
   },
   {
    "duration": 74,
    "start_time": "2022-07-09T22:05:52.612Z"
   },
   {
    "duration": 31,
    "start_time": "2022-07-09T22:07:11.434Z"
   },
   {
    "duration": 70,
    "start_time": "2022-07-09T22:08:21.377Z"
   },
   {
    "duration": 61,
    "start_time": "2022-07-09T22:10:44.625Z"
   },
   {
    "duration": 77,
    "start_time": "2022-07-09T22:14:35.038Z"
   },
   {
    "duration": 77,
    "start_time": "2022-07-09T22:16:33.624Z"
   },
   {
    "duration": 152,
    "start_time": "2022-07-09T22:16:38.340Z"
   },
   {
    "duration": 82,
    "start_time": "2022-07-09T22:16:53.934Z"
   },
   {
    "duration": 37,
    "start_time": "2022-07-09T22:17:16.265Z"
   },
   {
    "duration": 42,
    "start_time": "2022-07-09T22:19:16.120Z"
   },
   {
    "duration": 32,
    "start_time": "2022-07-09T22:19:41.317Z"
   },
   {
    "duration": 34,
    "start_time": "2022-07-09T22:20:02.281Z"
   },
   {
    "duration": 34,
    "start_time": "2022-07-09T22:20:22.856Z"
   },
   {
    "duration": 42,
    "start_time": "2022-07-09T22:21:19.889Z"
   },
   {
    "duration": 277,
    "start_time": "2022-07-09T22:22:16.275Z"
   },
   {
    "duration": 77,
    "start_time": "2022-07-09T22:22:56.732Z"
   },
   {
    "duration": 54,
    "start_time": "2022-07-09T22:23:22.234Z"
   },
   {
    "duration": 36,
    "start_time": "2022-07-09T22:23:49.236Z"
   },
   {
    "duration": 25,
    "start_time": "2022-07-09T22:24:13.835Z"
   },
   {
    "duration": 52,
    "start_time": "2022-07-09T22:24:24.018Z"
   },
   {
    "duration": 28,
    "start_time": "2022-07-09T22:25:17.703Z"
   },
   {
    "duration": 53,
    "start_time": "2022-07-09T22:27:05.871Z"
   },
   {
    "duration": 49,
    "start_time": "2022-07-09T22:27:37.689Z"
   },
   {
    "duration": 50,
    "start_time": "2022-07-09T22:27:48.745Z"
   },
   {
    "duration": 78,
    "start_time": "2022-07-09T22:53:09.266Z"
   },
   {
    "duration": 10,
    "start_time": "2022-07-09T22:53:26.026Z"
   },
   {
    "duration": 1129,
    "start_time": "2022-07-09T22:56:59.251Z"
   },
   {
    "duration": 1094,
    "start_time": "2022-07-09T22:58:01.698Z"
   },
   {
    "duration": 59,
    "start_time": "2022-07-09T23:29:37.411Z"
   },
   {
    "duration": 10,
    "start_time": "2022-07-09T23:29:43.163Z"
   },
   {
    "duration": 806,
    "start_time": "2022-07-09T23:29:53.362Z"
   },
   {
    "duration": 34,
    "start_time": "2022-07-09T23:30:28.329Z"
   },
   {
    "duration": 1163,
    "start_time": "2022-07-09T23:30:28.364Z"
   },
   {
    "duration": 7,
    "start_time": "2022-07-09T23:30:29.529Z"
   },
   {
    "duration": 68,
    "start_time": "2022-07-09T23:30:29.537Z"
   },
   {
    "duration": 10,
    "start_time": "2022-07-09T23:30:29.607Z"
   },
   {
    "duration": 798,
    "start_time": "2022-07-09T23:30:33.333Z"
   },
   {
    "duration": 1560,
    "start_time": "2022-07-10T07:05:08.419Z"
   },
   {
    "duration": 2084,
    "start_time": "2022-07-10T07:05:09.981Z"
   },
   {
    "duration": 8,
    "start_time": "2022-07-10T07:05:12.067Z"
   },
   {
    "duration": 59,
    "start_time": "2022-07-10T07:05:12.076Z"
   },
   {
    "duration": 27,
    "start_time": "2022-07-10T07:05:12.137Z"
   },
   {
    "duration": 985,
    "start_time": "2022-07-10T07:05:14.969Z"
   },
   {
    "duration": 10,
    "start_time": "2022-07-10T07:07:54.342Z"
   },
   {
    "duration": 2082,
    "start_time": "2022-07-10T07:08:55.327Z"
   },
   {
    "duration": 628,
    "start_time": "2022-07-10T07:09:05.518Z"
   },
   {
    "duration": 1033,
    "start_time": "2022-07-10T07:09:16.015Z"
   },
   {
    "duration": 850,
    "start_time": "2022-07-10T07:09:51.191Z"
   },
   {
    "duration": 15,
    "start_time": "2022-07-10T07:11:06.393Z"
   },
   {
    "duration": 2112,
    "start_time": "2022-07-10T07:11:54.378Z"
   },
   {
    "duration": 2380,
    "start_time": "2022-07-10T07:12:05.810Z"
   },
   {
    "duration": 851,
    "start_time": "2022-07-10T07:12:20.995Z"
   },
   {
    "duration": 1007,
    "start_time": "2022-07-10T07:12:32.474Z"
   },
   {
    "duration": 966,
    "start_time": "2022-07-10T07:12:50.500Z"
   },
   {
    "duration": 240,
    "start_time": "2022-07-10T07:18:14.602Z"
   },
   {
    "duration": 13,
    "start_time": "2022-07-10T07:31:32.220Z"
   },
   {
    "duration": 14,
    "start_time": "2022-07-10T07:31:41.268Z"
   },
   {
    "duration": 14,
    "start_time": "2022-07-10T07:31:51.610Z"
   },
   {
    "duration": 30,
    "start_time": "2022-07-10T07:32:27.692Z"
   },
   {
    "duration": 12,
    "start_time": "2022-07-10T07:40:48.416Z"
   },
   {
    "duration": 86,
    "start_time": "2022-07-10T07:41:17.457Z"
   },
   {
    "duration": 27,
    "start_time": "2022-07-10T07:41:33.832Z"
   },
   {
    "duration": 779,
    "start_time": "2022-07-10T07:41:40.768Z"
   },
   {
    "duration": 28,
    "start_time": "2022-07-10T07:42:01.653Z"
   },
   {
    "duration": 1310,
    "start_time": "2022-07-10T07:42:01.683Z"
   },
   {
    "duration": 6,
    "start_time": "2022-07-10T07:42:02.995Z"
   },
   {
    "duration": 67,
    "start_time": "2022-07-10T07:42:03.003Z"
   },
   {
    "duration": 10,
    "start_time": "2022-07-10T07:42:03.071Z"
   },
   {
    "duration": 215,
    "start_time": "2022-07-10T07:42:07.392Z"
   },
   {
    "duration": 2367,
    "start_time": "2022-07-10T07:42:23.248Z"
   },
   {
    "duration": 2463,
    "start_time": "2022-07-10T07:45:36.476Z"
   },
   {
    "duration": 2565,
    "start_time": "2022-07-10T09:51:02.084Z"
   },
   {
    "duration": 2610,
    "start_time": "2022-07-10T09:51:33.504Z"
   },
   {
    "duration": 2670,
    "start_time": "2022-07-10T10:03:00.378Z"
   },
   {
    "duration": 310,
    "start_time": "2022-07-10T10:07:15.618Z"
   },
   {
    "duration": 247,
    "start_time": "2022-07-10T10:07:41.468Z"
   },
   {
    "duration": 378,
    "start_time": "2022-07-10T10:07:57.228Z"
   },
   {
    "duration": 254,
    "start_time": "2022-07-10T10:08:16.981Z"
   },
   {
    "duration": 415,
    "start_time": "2022-07-10T10:12:11.082Z"
   },
   {
    "duration": 268,
    "start_time": "2022-07-10T10:12:41.985Z"
   },
   {
    "duration": 2448,
    "start_time": "2022-07-10T10:12:50.794Z"
   },
   {
    "duration": 268,
    "start_time": "2022-07-10T10:14:21.322Z"
   },
   {
    "duration": 362,
    "start_time": "2022-07-10T10:15:18.836Z"
   },
   {
    "duration": 272,
    "start_time": "2022-07-10T10:15:25.548Z"
   },
   {
    "duration": 248,
    "start_time": "2022-07-10T10:15:54.533Z"
   },
   {
    "duration": 216,
    "start_time": "2022-07-10T10:16:42.086Z"
   },
   {
    "duration": 840,
    "start_time": "2022-07-10T10:19:00.521Z"
   },
   {
    "duration": 922,
    "start_time": "2022-07-10T10:19:35.363Z"
   },
   {
    "duration": 912,
    "start_time": "2022-07-10T10:20:25.324Z"
   },
   {
    "duration": 15,
    "start_time": "2022-07-10T10:34:10.577Z"
   },
   {
    "duration": 24,
    "start_time": "2022-07-10T10:34:37.348Z"
   },
   {
    "duration": 12,
    "start_time": "2022-07-10T10:34:53.117Z"
   },
   {
    "duration": 128,
    "start_time": "2022-07-10T10:35:36.253Z"
   },
   {
    "duration": 133,
    "start_time": "2022-07-10T10:37:33.232Z"
   },
   {
    "duration": 116,
    "start_time": "2022-07-10T10:37:47.912Z"
   },
   {
    "duration": 117,
    "start_time": "2022-07-10T10:38:12.312Z"
   },
   {
    "duration": 993,
    "start_time": "2022-07-10T10:44:24.817Z"
   },
   {
    "duration": 870,
    "start_time": "2022-07-10T10:49:17.047Z"
   },
   {
    "duration": 186,
    "start_time": "2022-07-10T10:49:42.794Z"
   },
   {
    "duration": 1547,
    "start_time": "2022-07-10T10:50:32.249Z"
   },
   {
    "duration": 1138,
    "start_time": "2022-07-10T10:51:09.301Z"
   },
   {
    "duration": 440,
    "start_time": "2022-07-10T10:51:35.922Z"
   },
   {
    "duration": 1546,
    "start_time": "2022-07-10T10:52:02.051Z"
   },
   {
    "duration": 1392,
    "start_time": "2022-07-10T10:52:18.722Z"
   },
   {
    "duration": 433,
    "start_time": "2022-07-10T10:52:55.740Z"
   },
   {
    "duration": 401,
    "start_time": "2022-07-10T10:53:27.189Z"
   },
   {
    "duration": 126,
    "start_time": "2022-07-10T10:53:48.237Z"
   },
   {
    "duration": 435,
    "start_time": "2022-07-10T10:54:03.548Z"
   },
   {
    "duration": 525,
    "start_time": "2022-07-10T10:54:26.757Z"
   },
   {
    "duration": 272,
    "start_time": "2022-07-10T10:54:45.021Z"
   },
   {
    "duration": 554,
    "start_time": "2022-07-10T10:55:38.846Z"
   },
   {
    "duration": 733,
    "start_time": "2022-07-10T10:55:45.606Z"
   },
   {
    "duration": 894,
    "start_time": "2022-07-10T10:55:59.781Z"
   },
   {
    "duration": 1026,
    "start_time": "2022-07-10T10:56:18.190Z"
   },
   {
    "duration": 599,
    "start_time": "2022-07-10T10:58:24.434Z"
   },
   {
    "duration": 604,
    "start_time": "2022-07-10T10:59:08.947Z"
   },
   {
    "duration": 57,
    "start_time": "2022-07-10T10:59:16.031Z"
   },
   {
    "duration": 1419,
    "start_time": "2022-07-10T10:59:16.092Z"
   },
   {
    "duration": 7,
    "start_time": "2022-07-10T10:59:17.513Z"
   },
   {
    "duration": 78,
    "start_time": "2022-07-10T10:59:17.521Z"
   },
   {
    "duration": 10,
    "start_time": "2022-07-10T10:59:17.601Z"
   },
   {
    "duration": 2828,
    "start_time": "2022-07-10T10:59:17.613Z"
   },
   {
    "duration": 896,
    "start_time": "2022-07-10T10:59:20.443Z"
   },
   {
    "duration": 715,
    "start_time": "2022-07-10T10:59:27.691Z"
   },
   {
    "duration": 901,
    "start_time": "2022-07-10T11:01:52.720Z"
   },
   {
    "duration": 45,
    "start_time": "2022-07-10T11:02:02.801Z"
   },
   {
    "duration": 1471,
    "start_time": "2022-07-10T11:02:02.848Z"
   },
   {
    "duration": 10,
    "start_time": "2022-07-10T11:02:04.320Z"
   },
   {
    "duration": 86,
    "start_time": "2022-07-10T11:02:04.333Z"
   },
   {
    "duration": 12,
    "start_time": "2022-07-10T11:02:04.420Z"
   },
   {
    "duration": 2900,
    "start_time": "2022-07-10T11:02:04.433Z"
   },
   {
    "duration": 1024,
    "start_time": "2022-07-10T11:02:07.335Z"
   },
   {
    "duration": 674,
    "start_time": "2022-07-10T11:02:12.462Z"
   },
   {
    "duration": 8,
    "start_time": "2022-07-10T11:08:53.277Z"
   },
   {
    "duration": 10,
    "start_time": "2022-07-10T11:09:09.111Z"
   },
   {
    "duration": 9,
    "start_time": "2022-07-10T11:09:13.239Z"
   },
   {
    "duration": 7,
    "start_time": "2022-07-10T11:09:18.429Z"
   },
   {
    "duration": 10,
    "start_time": "2022-07-10T11:09:29.280Z"
   },
   {
    "duration": 11,
    "start_time": "2022-07-10T11:13:12.377Z"
   },
   {
    "duration": 15,
    "start_time": "2022-07-10T11:13:25.925Z"
   },
   {
    "duration": 17,
    "start_time": "2022-07-10T11:58:38.957Z"
   },
   {
    "duration": 7,
    "start_time": "2022-07-10T12:00:36.305Z"
   },
   {
    "duration": 1336,
    "start_time": "2022-07-10T12:00:43.493Z"
   },
   {
    "duration": 1494,
    "start_time": "2022-07-10T12:01:04.129Z"
   },
   {
    "duration": 1408,
    "start_time": "2022-07-10T12:01:31.242Z"
   },
   {
    "duration": 622,
    "start_time": "2022-07-10T12:02:01.857Z"
   },
   {
    "duration": 850,
    "start_time": "2022-07-10T12:02:13.977Z"
   },
   {
    "duration": 727,
    "start_time": "2022-07-10T12:03:01.056Z"
   },
   {
    "duration": 847,
    "start_time": "2022-07-10T12:04:00.881Z"
   },
   {
    "duration": 1035,
    "start_time": "2022-07-10T12:06:00.765Z"
   },
   {
    "duration": 676,
    "start_time": "2022-07-10T12:06:41.990Z"
   },
   {
    "duration": 563,
    "start_time": "2022-07-10T12:06:54.318Z"
   },
   {
    "duration": 36,
    "start_time": "2022-07-10T12:10:57.877Z"
   },
   {
    "duration": 717,
    "start_time": "2022-07-10T12:11:21.877Z"
   },
   {
    "duration": 42,
    "start_time": "2022-07-10T12:11:25.479Z"
   },
   {
    "duration": 580,
    "start_time": "2022-07-10T12:12:29.388Z"
   },
   {
    "duration": 102,
    "start_time": "2022-07-10T12:12:36.877Z"
   },
   {
    "duration": 720,
    "start_time": "2022-07-10T12:12:41.292Z"
   },
   {
    "duration": 568,
    "start_time": "2022-07-10T12:12:56.655Z"
   },
   {
    "duration": 753,
    "start_time": "2022-07-10T12:13:48.256Z"
   },
   {
    "duration": 82,
    "start_time": "2022-07-10T12:14:03.239Z"
   },
   {
    "duration": 400,
    "start_time": "2022-07-10T12:14:12.977Z"
   },
   {
    "duration": 45,
    "start_time": "2022-07-10T12:16:39.880Z"
   },
   {
    "duration": 95,
    "start_time": "2022-07-10T12:16:51.298Z"
   },
   {
    "duration": 111,
    "start_time": "2022-07-10T12:17:03.977Z"
   },
   {
    "duration": 53,
    "start_time": "2022-07-10T12:17:44.479Z"
   },
   {
    "duration": 206,
    "start_time": "2022-07-10T12:17:55.585Z"
   },
   {
    "duration": 805,
    "start_time": "2022-07-10T12:19:18.405Z"
   },
   {
    "duration": 361,
    "start_time": "2022-07-10T12:19:56.216Z"
   },
   {
    "duration": 387,
    "start_time": "2022-07-10T12:23:00.081Z"
   },
   {
    "duration": 195,
    "start_time": "2022-07-10T12:23:04.985Z"
   },
   {
    "duration": 36,
    "start_time": "2022-07-10T15:44:04.345Z"
   },
   {
    "duration": 1300,
    "start_time": "2022-07-10T15:44:04.384Z"
   },
   {
    "duration": 7,
    "start_time": "2022-07-10T15:44:05.686Z"
   },
   {
    "duration": 70,
    "start_time": "2022-07-10T15:44:05.695Z"
   },
   {
    "duration": 11,
    "start_time": "2022-07-10T15:44:05.766Z"
   },
   {
    "duration": 2507,
    "start_time": "2022-07-10T15:44:05.779Z"
   },
   {
    "duration": 934,
    "start_time": "2022-07-10T15:44:08.287Z"
   },
   {
    "duration": 551,
    "start_time": "2022-07-10T15:44:09.223Z"
   },
   {
    "duration": 11,
    "start_time": "2022-07-10T15:44:09.776Z"
   },
   {
    "duration": 752,
    "start_time": "2022-07-10T15:44:13.310Z"
   },
   {
    "duration": 49,
    "start_time": "2022-07-10T15:45:15.231Z"
   },
   {
    "duration": 1424,
    "start_time": "2022-07-10T15:45:19.203Z"
   },
   {
    "duration": 1408,
    "start_time": "2022-07-10T15:45:20.629Z"
   },
   {
    "duration": 9,
    "start_time": "2022-07-10T15:45:22.039Z"
   },
   {
    "duration": 77,
    "start_time": "2022-07-10T15:45:22.050Z"
   },
   {
    "duration": 11,
    "start_time": "2022-07-10T15:45:22.128Z"
   },
   {
    "duration": 2589,
    "start_time": "2022-07-10T15:45:22.141Z"
   },
   {
    "duration": 762,
    "start_time": "2022-07-10T15:45:24.732Z"
   },
   {
    "duration": 573,
    "start_time": "2022-07-10T15:45:25.496Z"
   },
   {
    "duration": 12,
    "start_time": "2022-07-10T15:45:26.070Z"
   },
   {
    "duration": 0,
    "start_time": "2022-07-10T15:45:27.141Z"
   },
   {
    "duration": 816,
    "start_time": "2022-07-10T15:45:40.144Z"
   },
   {
    "duration": 457,
    "start_time": "2022-07-10T15:46:13.977Z"
   },
   {
    "duration": 142,
    "start_time": "2022-07-10T15:48:20.058Z"
   },
   {
    "duration": 456,
    "start_time": "2022-07-10T15:51:06.449Z"
   },
   {
    "duration": 1084,
    "start_time": "2022-07-10T15:53:06.459Z"
   },
   {
    "duration": 62,
    "start_time": "2022-07-10T16:09:02.247Z"
   },
   {
    "duration": 415,
    "start_time": "2022-07-10T16:09:47.073Z"
   },
   {
    "duration": 72,
    "start_time": "2022-07-10T16:18:00.023Z"
   },
   {
    "duration": 928,
    "start_time": "2022-07-10T16:18:37.502Z"
   },
   {
    "duration": 690,
    "start_time": "2022-07-10T16:19:58.463Z"
   },
   {
    "duration": 13,
    "start_time": "2022-07-10T16:20:20.904Z"
   },
   {
    "duration": 956,
    "start_time": "2022-07-10T16:20:27.982Z"
   },
   {
    "duration": 1459,
    "start_time": "2022-07-10T16:21:23.172Z"
   },
   {
    "duration": 1315,
    "start_time": "2022-07-10T16:21:24.633Z"
   },
   {
    "duration": 19,
    "start_time": "2022-07-10T16:21:25.950Z"
   },
   {
    "duration": 74,
    "start_time": "2022-07-10T16:21:25.971Z"
   },
   {
    "duration": 13,
    "start_time": "2022-07-10T16:21:26.064Z"
   },
   {
    "duration": 2474,
    "start_time": "2022-07-10T16:21:26.079Z"
   },
   {
    "duration": 777,
    "start_time": "2022-07-10T16:21:28.554Z"
   },
   {
    "duration": 543,
    "start_time": "2022-07-10T16:21:29.333Z"
   },
   {
    "duration": 12,
    "start_time": "2022-07-10T16:21:29.878Z"
   },
   {
    "duration": 19,
    "start_time": "2022-07-10T16:21:34.359Z"
   },
   {
    "duration": 1145,
    "start_time": "2022-07-10T16:22:52.416Z"
   },
   {
    "duration": 1020,
    "start_time": "2022-07-10T16:24:43.219Z"
   },
   {
    "duration": 965,
    "start_time": "2022-07-10T16:25:32.484Z"
   },
   {
    "duration": 963,
    "start_time": "2022-07-10T16:28:03.777Z"
   },
   {
    "duration": 738,
    "start_time": "2022-07-10T16:29:18.546Z"
   },
   {
    "duration": 39,
    "start_time": "2022-07-10T16:29:31.918Z"
   },
   {
    "duration": 1433,
    "start_time": "2022-07-10T16:29:31.959Z"
   },
   {
    "duration": 8,
    "start_time": "2022-07-10T16:29:33.393Z"
   },
   {
    "duration": 77,
    "start_time": "2022-07-10T16:29:33.403Z"
   },
   {
    "duration": 12,
    "start_time": "2022-07-10T16:29:33.481Z"
   },
   {
    "duration": 2486,
    "start_time": "2022-07-10T16:29:33.494Z"
   },
   {
    "duration": 795,
    "start_time": "2022-07-10T16:29:35.982Z"
   },
   {
    "duration": 618,
    "start_time": "2022-07-10T16:29:36.779Z"
   },
   {
    "duration": 14,
    "start_time": "2022-07-10T16:29:37.399Z"
   },
   {
    "duration": 884,
    "start_time": "2022-07-10T16:29:37.977Z"
   },
   {
    "duration": 711,
    "start_time": "2022-07-10T16:30:31.106Z"
   },
   {
    "duration": 84,
    "start_time": "2022-07-10T16:31:59.692Z"
   },
   {
    "duration": 820,
    "start_time": "2022-07-10T16:32:15.844Z"
   },
   {
    "duration": 16,
    "start_time": "2022-07-10T16:37:45.369Z"
   },
   {
    "duration": 1103,
    "start_time": "2022-07-10T16:37:49.883Z"
   },
   {
    "duration": 19,
    "start_time": "2022-07-10T16:37:59.132Z"
   },
   {
    "duration": 637,
    "start_time": "2022-07-10T16:39:57.846Z"
   },
   {
    "duration": 941,
    "start_time": "2022-07-10T16:40:07.839Z"
   },
   {
    "duration": 738,
    "start_time": "2022-07-10T16:40:26.703Z"
   },
   {
    "duration": 22,
    "start_time": "2022-07-10T16:47:04.283Z"
   },
   {
    "duration": 8,
    "start_time": "2022-07-10T16:47:18.935Z"
   },
   {
    "duration": 1433,
    "start_time": "2022-07-10T16:50:37.758Z"
   },
   {
    "duration": 932,
    "start_time": "2022-07-10T16:52:48.455Z"
   },
   {
    "duration": 1105,
    "start_time": "2022-07-10T16:53:07.696Z"
   },
   {
    "duration": 1412,
    "start_time": "2022-07-10T16:53:42.177Z"
   },
   {
    "duration": 1449,
    "start_time": "2022-07-10T16:53:52.937Z"
   },
   {
    "duration": 1559,
    "start_time": "2022-07-10T16:55:11.958Z"
   },
   {
    "duration": 1417,
    "start_time": "2022-07-10T16:56:18.720Z"
   },
   {
    "duration": 1418,
    "start_time": "2022-07-10T16:56:20.139Z"
   },
   {
    "duration": 14,
    "start_time": "2022-07-10T16:56:21.563Z"
   },
   {
    "duration": 53,
    "start_time": "2022-07-10T16:56:21.579Z"
   },
   {
    "duration": 9,
    "start_time": "2022-07-10T16:56:21.634Z"
   },
   {
    "duration": 2603,
    "start_time": "2022-07-10T16:56:21.645Z"
   },
   {
    "duration": 834,
    "start_time": "2022-07-10T16:56:24.250Z"
   },
   {
    "duration": 600,
    "start_time": "2022-07-10T16:56:25.086Z"
   },
   {
    "duration": 11,
    "start_time": "2022-07-10T16:56:25.688Z"
   },
   {
    "duration": 1371,
    "start_time": "2022-07-10T16:56:31.519Z"
   },
   {
    "duration": 721,
    "start_time": "2022-07-10T16:58:19.219Z"
   },
   {
    "duration": 599,
    "start_time": "2022-07-10T16:58:45.793Z"
   },
   {
    "duration": 1403,
    "start_time": "2022-07-10T16:59:19.906Z"
   },
   {
    "duration": 1427,
    "start_time": "2022-07-10T16:59:21.311Z"
   },
   {
    "duration": 10,
    "start_time": "2022-07-10T16:59:22.740Z"
   },
   {
    "duration": 89,
    "start_time": "2022-07-10T16:59:22.768Z"
   },
   {
    "duration": 21,
    "start_time": "2022-07-10T16:59:22.860Z"
   },
   {
    "duration": 2465,
    "start_time": "2022-07-10T16:59:22.883Z"
   },
   {
    "duration": 804,
    "start_time": "2022-07-10T16:59:25.349Z"
   },
   {
    "duration": 627,
    "start_time": "2022-07-10T16:59:26.155Z"
   },
   {
    "duration": 12,
    "start_time": "2022-07-10T16:59:26.783Z"
   },
   {
    "duration": 730,
    "start_time": "2022-07-10T16:59:36.180Z"
   },
   {
    "duration": 576,
    "start_time": "2022-07-10T17:02:01.326Z"
   },
   {
    "duration": 638,
    "start_time": "2022-07-10T17:03:12.835Z"
   },
   {
    "duration": 67,
    "start_time": "2022-07-10T17:04:45.297Z"
   },
   {
    "duration": 553,
    "start_time": "2022-07-10T17:04:50.080Z"
   },
   {
    "duration": 597,
    "start_time": "2022-07-10T17:05:15.226Z"
   },
   {
    "duration": 657,
    "start_time": "2022-07-10T17:06:44.027Z"
   },
   {
    "duration": 604,
    "start_time": "2022-07-10T17:08:02.517Z"
   },
   {
    "duration": 562,
    "start_time": "2022-07-10T17:08:48.166Z"
   },
   {
    "duration": 130,
    "start_time": "2022-07-10T17:11:15.994Z"
   },
   {
    "duration": 426,
    "start_time": "2022-07-10T17:11:52.980Z"
   },
   {
    "duration": 584,
    "start_time": "2022-07-10T17:12:08.428Z"
   },
   {
    "duration": 525,
    "start_time": "2022-07-10T17:12:26.842Z"
   },
   {
    "duration": 1132,
    "start_time": "2022-07-10T17:12:59.095Z"
   },
   {
    "duration": 1221,
    "start_time": "2022-07-10T17:13:10.780Z"
   },
   {
    "duration": 1186,
    "start_time": "2022-07-10T17:15:30.905Z"
   },
   {
    "duration": 1070,
    "start_time": "2022-07-10T17:28:46.059Z"
   },
   {
    "duration": 1218,
    "start_time": "2022-07-10T17:28:51.257Z"
   },
   {
    "duration": 1379,
    "start_time": "2022-07-10T17:38:40.316Z"
   },
   {
    "duration": 1489,
    "start_time": "2022-07-10T17:40:57.311Z"
   },
   {
    "duration": 1414,
    "start_time": "2022-07-10T17:52:41.761Z"
   },
   {
    "duration": 11,
    "start_time": "2022-07-10T17:56:03.862Z"
   },
   {
    "duration": 73,
    "start_time": "2022-07-10T19:18:42.260Z"
   },
   {
    "duration": 13,
    "start_time": "2022-07-10T19:18:50.063Z"
   },
   {
    "duration": 20,
    "start_time": "2022-07-10T19:39:31.225Z"
   },
   {
    "duration": 22,
    "start_time": "2022-07-10T19:39:36.761Z"
   },
   {
    "duration": 36,
    "start_time": "2022-07-10T19:40:09.734Z"
   },
   {
    "duration": 29,
    "start_time": "2022-07-10T19:40:24.516Z"
   },
   {
    "duration": 1415,
    "start_time": "2022-07-10T19:51:23.665Z"
   },
   {
    "duration": 193,
    "start_time": "2022-07-10T19:51:58.176Z"
   },
   {
    "duration": 993,
    "start_time": "2022-07-10T19:53:17.961Z"
   },
   {
    "duration": 330,
    "start_time": "2022-07-10T19:53:38.538Z"
   },
   {
    "duration": 569,
    "start_time": "2022-07-10T20:00:03.602Z"
   },
   {
    "duration": 396,
    "start_time": "2022-07-10T20:00:31.669Z"
   },
   {
    "duration": 308,
    "start_time": "2022-07-10T20:15:56.162Z"
   },
   {
    "duration": 264,
    "start_time": "2022-07-10T20:16:16.813Z"
   },
   {
    "duration": 62,
    "start_time": "2022-07-10T20:16:30.050Z"
   },
   {
    "duration": 916,
    "start_time": "2022-07-10T20:16:37.791Z"
   },
   {
    "duration": 37,
    "start_time": "2022-07-10T20:19:58.712Z"
   },
   {
    "duration": 1382,
    "start_time": "2022-07-10T20:19:58.751Z"
   },
   {
    "duration": 7,
    "start_time": "2022-07-10T20:20:00.135Z"
   },
   {
    "duration": 71,
    "start_time": "2022-07-10T20:20:00.144Z"
   },
   {
    "duration": 10,
    "start_time": "2022-07-10T20:20:00.217Z"
   },
   {
    "duration": 2720,
    "start_time": "2022-07-10T20:20:00.228Z"
   },
   {
    "duration": 1036,
    "start_time": "2022-07-10T20:20:02.950Z"
   },
   {
    "duration": 605,
    "start_time": "2022-07-10T20:20:03.988Z"
   },
   {
    "duration": 11,
    "start_time": "2022-07-10T20:20:04.595Z"
   },
   {
    "duration": 2471,
    "start_time": "2022-07-10T20:20:04.608Z"
   },
   {
    "duration": 792,
    "start_time": "2022-07-10T20:20:13.386Z"
   },
   {
    "duration": 668,
    "start_time": "2022-07-10T20:20:31.906Z"
   },
   {
    "duration": 69,
    "start_time": "2022-07-10T20:27:29.814Z"
   },
   {
    "duration": 1370,
    "start_time": "2022-07-10T20:27:29.885Z"
   },
   {
    "duration": 12,
    "start_time": "2022-07-10T20:27:31.257Z"
   },
   {
    "duration": 67,
    "start_time": "2022-07-10T20:27:31.270Z"
   },
   {
    "duration": 25,
    "start_time": "2022-07-10T20:27:31.339Z"
   },
   {
    "duration": 2549,
    "start_time": "2022-07-10T20:27:31.365Z"
   },
   {
    "duration": 772,
    "start_time": "2022-07-10T20:27:33.916Z"
   },
   {
    "duration": 676,
    "start_time": "2022-07-10T20:27:34.691Z"
   },
   {
    "duration": 12,
    "start_time": "2022-07-10T20:27:35.369Z"
   },
   {
    "duration": 798,
    "start_time": "2022-07-10T20:39:35.377Z"
   },
   {
    "duration": 1028,
    "start_time": "2022-07-10T20:40:12.256Z"
   },
   {
    "duration": 15,
    "start_time": "2022-07-10T20:46:08.017Z"
   },
   {
    "duration": 50,
    "start_time": "2022-07-10T20:46:32.152Z"
   },
   {
    "duration": 39,
    "start_time": "2022-07-10T20:48:22.975Z"
   },
   {
    "duration": 1297,
    "start_time": "2022-07-10T20:48:23.016Z"
   },
   {
    "duration": 8,
    "start_time": "2022-07-10T20:48:24.315Z"
   },
   {
    "duration": 74,
    "start_time": "2022-07-10T20:48:24.325Z"
   },
   {
    "duration": 13,
    "start_time": "2022-07-10T20:48:24.402Z"
   },
   {
    "duration": 2569,
    "start_time": "2022-07-10T20:48:24.417Z"
   },
   {
    "duration": 999,
    "start_time": "2022-07-10T20:48:26.988Z"
   },
   {
    "duration": 505,
    "start_time": "2022-07-10T20:48:27.989Z"
   },
   {
    "duration": 12,
    "start_time": "2022-07-10T20:48:28.496Z"
   },
   {
    "duration": 2010,
    "start_time": "2022-07-10T20:48:35.071Z"
   },
   {
    "duration": 2629,
    "start_time": "2022-07-10T20:50:52.392Z"
   },
   {
    "duration": 2605,
    "start_time": "2022-07-10T20:50:59.009Z"
   },
   {
    "duration": 1459,
    "start_time": "2022-07-10T20:52:49.108Z"
   },
   {
    "duration": 1540,
    "start_time": "2022-07-10T20:52:50.575Z"
   },
   {
    "duration": 8,
    "start_time": "2022-07-10T20:52:52.117Z"
   },
   {
    "duration": 78,
    "start_time": "2022-07-10T20:52:52.127Z"
   },
   {
    "duration": 120,
    "start_time": "2022-07-10T20:52:52.206Z"
   },
   {
    "duration": 0,
    "start_time": "2022-07-10T20:52:52.328Z"
   },
   {
    "duration": 0,
    "start_time": "2022-07-10T20:52:52.329Z"
   },
   {
    "duration": 0,
    "start_time": "2022-07-10T20:52:52.330Z"
   },
   {
    "duration": 0,
    "start_time": "2022-07-10T20:52:52.331Z"
   },
   {
    "duration": 27,
    "start_time": "2022-07-10T20:52:58.363Z"
   },
   {
    "duration": 16,
    "start_time": "2022-07-10T20:53:42.702Z"
   },
   {
    "duration": 43,
    "start_time": "2022-07-10T20:53:50.683Z"
   },
   {
    "duration": 1481,
    "start_time": "2022-07-10T20:53:50.729Z"
   },
   {
    "duration": 7,
    "start_time": "2022-07-10T20:53:52.212Z"
   },
   {
    "duration": 79,
    "start_time": "2022-07-10T20:53:52.221Z"
   },
   {
    "duration": 11,
    "start_time": "2022-07-10T20:53:52.302Z"
   },
   {
    "duration": 2733,
    "start_time": "2022-07-10T20:53:52.314Z"
   },
   {
    "duration": 855,
    "start_time": "2022-07-10T20:53:55.049Z"
   },
   {
    "duration": 730,
    "start_time": "2022-07-10T20:53:55.906Z"
   },
   {
    "duration": 11,
    "start_time": "2022-07-10T20:53:56.638Z"
   },
   {
    "duration": 2432,
    "start_time": "2022-07-10T20:53:56.665Z"
   },
   {
    "duration": 1593,
    "start_time": "2022-07-10T20:54:31.549Z"
   },
   {
    "duration": 1510,
    "start_time": "2022-07-10T20:54:33.143Z"
   },
   {
    "duration": 18,
    "start_time": "2022-07-10T20:54:34.655Z"
   },
   {
    "duration": 64,
    "start_time": "2022-07-10T20:54:34.683Z"
   },
   {
    "duration": 16,
    "start_time": "2022-07-10T20:54:34.749Z"
   },
   {
    "duration": 2482,
    "start_time": "2022-07-10T20:54:34.775Z"
   },
   {
    "duration": 844,
    "start_time": "2022-07-10T20:54:37.259Z"
   },
   {
    "duration": 606,
    "start_time": "2022-07-10T20:54:38.105Z"
   },
   {
    "duration": 12,
    "start_time": "2022-07-10T20:54:38.713Z"
   },
   {
    "duration": 2975,
    "start_time": "2022-07-10T20:54:43.641Z"
   },
   {
    "duration": 2736,
    "start_time": "2022-07-10T20:56:15.254Z"
   },
   {
    "duration": 1034,
    "start_time": "2022-07-10T20:57:31.186Z"
   },
   {
    "duration": 915,
    "start_time": "2022-07-10T20:57:44.983Z"
   },
   {
    "duration": 2707,
    "start_time": "2022-07-10T20:58:10.583Z"
   },
   {
    "duration": 2269,
    "start_time": "2022-07-10T20:59:07.893Z"
   },
   {
    "duration": 20,
    "start_time": "2022-07-10T21:01:07.016Z"
   },
   {
    "duration": 6,
    "start_time": "2022-07-10T21:01:25.441Z"
   },
   {
    "duration": 2602,
    "start_time": "2022-07-10T21:01:37.224Z"
   },
   {
    "duration": 887,
    "start_time": "2022-07-10T21:03:09.764Z"
   },
   {
    "duration": 2535,
    "start_time": "2022-07-10T21:03:36.490Z"
   },
   {
    "duration": 1885,
    "start_time": "2022-07-10T21:04:23.229Z"
   },
   {
    "duration": 1557,
    "start_time": "2022-07-10T21:05:11.481Z"
   },
   {
    "duration": 1404,
    "start_time": "2022-07-10T21:05:13.039Z"
   },
   {
    "duration": 7,
    "start_time": "2022-07-10T21:05:14.445Z"
   },
   {
    "duration": 68,
    "start_time": "2022-07-10T21:05:14.454Z"
   },
   {
    "duration": 10,
    "start_time": "2022-07-10T21:05:14.524Z"
   },
   {
    "duration": 2573,
    "start_time": "2022-07-10T21:05:14.536Z"
   },
   {
    "duration": 805,
    "start_time": "2022-07-10T21:05:17.111Z"
   },
   {
    "duration": 573,
    "start_time": "2022-07-10T21:05:17.917Z"
   },
   {
    "duration": 11,
    "start_time": "2022-07-10T21:05:18.492Z"
   },
   {
    "duration": 2051,
    "start_time": "2022-07-10T21:05:34.685Z"
   },
   {
    "duration": 1801,
    "start_time": "2022-07-10T21:09:11.440Z"
   },
   {
    "duration": 57,
    "start_time": "2022-07-10T21:09:27.467Z"
   },
   {
    "duration": 1625,
    "start_time": "2022-07-10T21:09:33.809Z"
   },
   {
    "duration": 1432,
    "start_time": "2022-07-10T21:10:15.811Z"
   },
   {
    "duration": 1455,
    "start_time": "2022-07-10T21:10:40.114Z"
   },
   {
    "duration": 1476,
    "start_time": "2022-07-10T21:12:13.548Z"
   },
   {
    "duration": 1893,
    "start_time": "2022-07-10T21:12:29.707Z"
   },
   {
    "duration": 37,
    "start_time": "2022-07-10T21:12:42.916Z"
   },
   {
    "duration": 1343,
    "start_time": "2022-07-10T21:12:42.955Z"
   },
   {
    "duration": 9,
    "start_time": "2022-07-10T21:12:44.300Z"
   },
   {
    "duration": 74,
    "start_time": "2022-07-10T21:12:44.312Z"
   },
   {
    "duration": 9,
    "start_time": "2022-07-10T21:12:44.388Z"
   },
   {
    "duration": 2533,
    "start_time": "2022-07-10T21:12:44.399Z"
   },
   {
    "duration": 794,
    "start_time": "2022-07-10T21:12:46.934Z"
   },
   {
    "duration": 577,
    "start_time": "2022-07-10T21:12:47.730Z"
   },
   {
    "duration": 11,
    "start_time": "2022-07-10T21:12:48.309Z"
   },
   {
    "duration": 1723,
    "start_time": "2022-07-10T21:12:56.011Z"
   },
   {
    "duration": 2907,
    "start_time": "2022-07-10T21:13:28.516Z"
   },
   {
    "duration": 2881,
    "start_time": "2022-07-10T21:14:29.662Z"
   },
   {
    "duration": 44,
    "start_time": "2022-07-10T21:14:57.117Z"
   },
   {
    "duration": 15,
    "start_time": "2022-07-10T21:21:43.007Z"
   },
   {
    "duration": 14,
    "start_time": "2022-07-10T21:23:18.120Z"
   },
   {
    "duration": 14,
    "start_time": "2022-07-10T21:24:41.626Z"
   },
   {
    "duration": 33,
    "start_time": "2022-07-10T21:25:30.060Z"
   },
   {
    "duration": 39,
    "start_time": "2022-07-10T21:25:48.277Z"
   },
   {
    "duration": 14,
    "start_time": "2022-07-10T21:26:53.940Z"
   },
   {
    "duration": 37,
    "start_time": "2022-07-10T21:28:29.281Z"
   },
   {
    "duration": 1401,
    "start_time": "2022-07-10T21:28:29.320Z"
   },
   {
    "duration": 9,
    "start_time": "2022-07-10T21:28:30.724Z"
   },
   {
    "duration": 88,
    "start_time": "2022-07-10T21:28:30.735Z"
   },
   {
    "duration": 12,
    "start_time": "2022-07-10T21:28:30.825Z"
   },
   {
    "duration": 2635,
    "start_time": "2022-07-10T21:28:30.839Z"
   },
   {
    "duration": 834,
    "start_time": "2022-07-10T21:28:33.476Z"
   },
   {
    "duration": 661,
    "start_time": "2022-07-10T21:28:34.312Z"
   },
   {
    "duration": 14,
    "start_time": "2022-07-10T21:28:34.976Z"
   },
   {
    "duration": 2756,
    "start_time": "2022-07-10T21:28:34.993Z"
   },
   {
    "duration": 964,
    "start_time": "2022-07-10T21:28:40.350Z"
   },
   {
    "duration": 21,
    "start_time": "2022-07-10T21:29:17.687Z"
   },
   {
    "duration": 54,
    "start_time": "2022-07-10T21:30:47.875Z"
   },
   {
    "duration": 1589,
    "start_time": "2022-07-10T21:30:47.931Z"
   },
   {
    "duration": 7,
    "start_time": "2022-07-10T21:30:49.522Z"
   },
   {
    "duration": 81,
    "start_time": "2022-07-10T21:30:49.531Z"
   },
   {
    "duration": 11,
    "start_time": "2022-07-10T21:30:49.615Z"
   },
   {
    "duration": 2634,
    "start_time": "2022-07-10T21:30:49.627Z"
   },
   {
    "duration": 1092,
    "start_time": "2022-07-10T21:30:52.267Z"
   },
   {
    "duration": 538,
    "start_time": "2022-07-10T21:30:53.363Z"
   },
   {
    "duration": 12,
    "start_time": "2022-07-10T21:30:53.903Z"
   },
   {
    "duration": 2927,
    "start_time": "2022-07-10T21:30:53.917Z"
   },
   {
    "duration": 19,
    "start_time": "2022-07-10T21:31:04.121Z"
   },
   {
    "duration": 1345,
    "start_time": "2022-07-10T21:31:18.538Z"
   },
   {
    "duration": 65,
    "start_time": "2022-07-10T21:32:51.556Z"
   },
   {
    "duration": 38,
    "start_time": "2022-07-10T21:33:15.287Z"
   },
   {
    "duration": 2075,
    "start_time": "2022-07-10T21:33:50.125Z"
   },
   {
    "duration": 1618,
    "start_time": "2022-07-10T21:35:30.752Z"
   },
   {
    "duration": 30,
    "start_time": "2022-07-10T21:37:01.128Z"
   },
   {
    "duration": 30,
    "start_time": "2022-07-10T21:37:16.400Z"
   },
   {
    "duration": 1217,
    "start_time": "2022-07-10T21:37:44.216Z"
   },
   {
    "duration": 39,
    "start_time": "2022-07-10T21:38:46.738Z"
   },
   {
    "duration": 33,
    "start_time": "2022-07-10T21:40:19.052Z"
   },
   {
    "duration": 16,
    "start_time": "2022-07-10T21:40:55.046Z"
   },
   {
    "duration": 33,
    "start_time": "2022-07-10T21:41:44.653Z"
   },
   {
    "duration": 17,
    "start_time": "2022-07-10T21:41:51.845Z"
   },
   {
    "duration": 39,
    "start_time": "2022-07-10T21:42:11.893Z"
   },
   {
    "duration": 1488,
    "start_time": "2022-07-10T21:42:11.933Z"
   },
   {
    "duration": 8,
    "start_time": "2022-07-10T21:42:13.423Z"
   },
   {
    "duration": 74,
    "start_time": "2022-07-10T21:42:13.433Z"
   },
   {
    "duration": 10,
    "start_time": "2022-07-10T21:42:13.509Z"
   },
   {
    "duration": 2458,
    "start_time": "2022-07-10T21:42:13.521Z"
   },
   {
    "duration": 960,
    "start_time": "2022-07-10T21:42:15.981Z"
   },
   {
    "duration": 563,
    "start_time": "2022-07-10T21:42:16.942Z"
   },
   {
    "duration": 14,
    "start_time": "2022-07-10T21:42:17.507Z"
   },
   {
    "duration": 2968,
    "start_time": "2022-07-10T21:42:17.523Z"
   },
   {
    "duration": 23,
    "start_time": "2022-07-10T21:42:28.134Z"
   },
   {
    "duration": 17,
    "start_time": "2022-07-10T21:42:35.047Z"
   },
   {
    "duration": 1281,
    "start_time": "2022-07-10T21:42:41.830Z"
   },
   {
    "duration": 844,
    "start_time": "2022-07-10T21:43:05.376Z"
   },
   {
    "duration": 841,
    "start_time": "2022-07-10T21:43:35.704Z"
   },
   {
    "duration": 635,
    "start_time": "2022-07-10T21:45:02.413Z"
   },
   {
    "duration": 783,
    "start_time": "2022-07-10T21:46:40.548Z"
   },
   {
    "duration": 914,
    "start_time": "2022-07-10T21:47:02.643Z"
   },
   {
    "duration": 1069,
    "start_time": "2022-07-10T21:49:04.927Z"
   },
   {
    "duration": 17,
    "start_time": "2022-07-10T21:49:28.544Z"
   },
   {
    "duration": 65,
    "start_time": "2022-07-10T21:49:55.086Z"
   },
   {
    "duration": 1404,
    "start_time": "2022-07-10T21:49:55.153Z"
   },
   {
    "duration": 15,
    "start_time": "2022-07-10T21:49:56.559Z"
   },
   {
    "duration": 75,
    "start_time": "2022-07-10T21:49:56.577Z"
   },
   {
    "duration": 11,
    "start_time": "2022-07-10T21:49:56.654Z"
   },
   {
    "duration": 2740,
    "start_time": "2022-07-10T21:49:56.669Z"
   },
   {
    "duration": 843,
    "start_time": "2022-07-10T21:49:59.411Z"
   },
   {
    "duration": 746,
    "start_time": "2022-07-10T21:50:00.256Z"
   },
   {
    "duration": 12,
    "start_time": "2022-07-10T21:50:01.003Z"
   },
   {
    "duration": 2987,
    "start_time": "2022-07-10T21:50:01.017Z"
   },
   {
    "duration": 994,
    "start_time": "2022-07-10T21:50:10.528Z"
   },
   {
    "duration": 17,
    "start_time": "2022-07-10T21:52:15.234Z"
   },
   {
    "duration": 55,
    "start_time": "2022-07-10T21:52:54.580Z"
   },
   {
    "duration": 1408,
    "start_time": "2022-07-10T21:52:54.637Z"
   },
   {
    "duration": 7,
    "start_time": "2022-07-10T21:52:56.047Z"
   },
   {
    "duration": 71,
    "start_time": "2022-07-10T21:52:56.055Z"
   },
   {
    "duration": 9,
    "start_time": "2022-07-10T21:52:56.128Z"
   },
   {
    "duration": 2640,
    "start_time": "2022-07-10T21:52:56.138Z"
   },
   {
    "duration": 1025,
    "start_time": "2022-07-10T21:52:58.782Z"
   },
   {
    "duration": 608,
    "start_time": "2022-07-10T21:52:59.809Z"
   },
   {
    "duration": 12,
    "start_time": "2022-07-10T21:53:00.418Z"
   },
   {
    "duration": 3149,
    "start_time": "2022-07-10T21:53:00.431Z"
   },
   {
    "duration": 18,
    "start_time": "2022-07-10T21:53:10.589Z"
   },
   {
    "duration": 1278,
    "start_time": "2022-07-10T21:54:37.262Z"
   },
   {
    "duration": 17,
    "start_time": "2022-07-10T21:58:41.128Z"
   },
   {
    "duration": 375,
    "start_time": "2022-07-10T21:58:46.989Z"
   },
   {
    "duration": 1431,
    "start_time": "2022-07-10T21:58:47.366Z"
   },
   {
    "duration": 8,
    "start_time": "2022-07-10T21:58:48.799Z"
   },
   {
    "duration": 82,
    "start_time": "2022-07-10T21:58:48.808Z"
   },
   {
    "duration": 11,
    "start_time": "2022-07-10T21:58:48.892Z"
   },
   {
    "duration": 2521,
    "start_time": "2022-07-10T21:58:48.904Z"
   },
   {
    "duration": 994,
    "start_time": "2022-07-10T21:58:51.427Z"
   },
   {
    "duration": 602,
    "start_time": "2022-07-10T21:58:52.423Z"
   },
   {
    "duration": 11,
    "start_time": "2022-07-10T21:58:53.027Z"
   },
   {
    "duration": 2915,
    "start_time": "2022-07-10T21:58:53.040Z"
   },
   {
    "duration": 946,
    "start_time": "2022-07-10T21:58:58.088Z"
   },
   {
    "duration": 872,
    "start_time": "2022-07-10T22:00:11.203Z"
   },
   {
    "duration": 48,
    "start_time": "2022-07-10T22:01:23.470Z"
   },
   {
    "duration": 392,
    "start_time": "2022-07-10T22:02:48.588Z"
   },
   {
    "duration": 351,
    "start_time": "2022-07-10T22:03:15.342Z"
   },
   {
    "duration": 460,
    "start_time": "2022-07-10T22:03:49.807Z"
   },
   {
    "duration": 1161,
    "start_time": "2022-07-10T22:05:16.857Z"
   },
   {
    "duration": 49,
    "start_time": "2022-07-10T22:09:46.135Z"
   },
   {
    "duration": 41,
    "start_time": "2022-07-10T22:11:38.511Z"
   },
   {
    "duration": 1406,
    "start_time": "2022-07-10T22:11:38.554Z"
   },
   {
    "duration": 17,
    "start_time": "2022-07-10T22:11:39.966Z"
   },
   {
    "duration": 65,
    "start_time": "2022-07-10T22:11:39.985Z"
   },
   {
    "duration": 23,
    "start_time": "2022-07-10T22:11:40.052Z"
   },
   {
    "duration": 2620,
    "start_time": "2022-07-10T22:11:40.081Z"
   },
   {
    "duration": 834,
    "start_time": "2022-07-10T22:11:42.703Z"
   },
   {
    "duration": 797,
    "start_time": "2022-07-10T22:11:43.539Z"
   },
   {
    "duration": 11,
    "start_time": "2022-07-10T22:11:44.338Z"
   },
   {
    "duration": 2707,
    "start_time": "2022-07-10T22:11:44.352Z"
   },
   {
    "duration": 82,
    "start_time": "2022-07-10T22:11:53.088Z"
   },
   {
    "duration": 50,
    "start_time": "2022-07-10T22:12:44.362Z"
   },
   {
    "duration": 51,
    "start_time": "2022-07-10T22:13:13.991Z"
   },
   {
    "duration": 52,
    "start_time": "2022-07-10T22:14:01.093Z"
   },
   {
    "duration": 378,
    "start_time": "2022-07-10T22:15:03.604Z"
   },
   {
    "duration": 898,
    "start_time": "2022-07-10T22:15:10.391Z"
   },
   {
    "duration": 1646,
    "start_time": "2022-07-10T22:15:41.340Z"
   },
   {
    "duration": 470,
    "start_time": "2022-07-10T22:20:22.402Z"
   },
   {
    "duration": 800,
    "start_time": "2022-07-10T22:22:24.585Z"
   },
   {
    "duration": 767,
    "start_time": "2022-07-10T22:22:39.524Z"
   },
   {
    "duration": 612,
    "start_time": "2022-07-10T22:23:11.261Z"
   },
   {
    "duration": 580,
    "start_time": "2022-07-10T22:24:43.495Z"
   },
   {
    "duration": 770,
    "start_time": "2022-07-10T22:24:55.303Z"
   },
   {
    "duration": 947,
    "start_time": "2022-07-10T22:26:08.329Z"
   },
   {
    "duration": 568,
    "start_time": "2022-07-10T22:27:03.115Z"
   },
   {
    "duration": 43,
    "start_time": "2022-07-10T22:28:28.147Z"
   },
   {
    "duration": 59,
    "start_time": "2022-07-10T22:28:39.657Z"
   },
   {
    "duration": 1461,
    "start_time": "2022-07-10T22:28:39.718Z"
   },
   {
    "duration": 11,
    "start_time": "2022-07-10T22:28:41.181Z"
   },
   {
    "duration": 79,
    "start_time": "2022-07-10T22:28:41.194Z"
   },
   {
    "duration": 15,
    "start_time": "2022-07-10T22:28:41.275Z"
   },
   {
    "duration": 2660,
    "start_time": "2022-07-10T22:28:41.293Z"
   },
   {
    "duration": 1002,
    "start_time": "2022-07-10T22:28:43.955Z"
   },
   {
    "duration": 553,
    "start_time": "2022-07-10T22:28:44.959Z"
   },
   {
    "duration": 10,
    "start_time": "2022-07-10T22:28:45.514Z"
   },
   {
    "duration": 2968,
    "start_time": "2022-07-10T22:28:45.526Z"
   },
   {
    "duration": 693,
    "start_time": "2022-07-10T22:29:05.997Z"
   },
   {
    "duration": 980,
    "start_time": "2022-07-10T22:31:22.703Z"
   },
   {
    "duration": 36,
    "start_time": "2022-07-10T22:31:56.787Z"
   },
   {
    "duration": 59,
    "start_time": "2022-07-10T22:32:57.322Z"
   },
   {
    "duration": 1393,
    "start_time": "2022-07-10T22:32:57.384Z"
   },
   {
    "duration": 13,
    "start_time": "2022-07-10T22:32:58.779Z"
   },
   {
    "duration": 92,
    "start_time": "2022-07-10T22:32:58.794Z"
   },
   {
    "duration": 10,
    "start_time": "2022-07-10T22:32:58.894Z"
   },
   {
    "duration": 2684,
    "start_time": "2022-07-10T22:32:58.906Z"
   },
   {
    "duration": 1010,
    "start_time": "2022-07-10T22:33:01.592Z"
   },
   {
    "duration": 599,
    "start_time": "2022-07-10T22:33:02.604Z"
   },
   {
    "duration": 11,
    "start_time": "2022-07-10T22:33:03.205Z"
   },
   {
    "duration": 2941,
    "start_time": "2022-07-10T22:33:03.218Z"
   },
   {
    "duration": 686,
    "start_time": "2022-07-10T22:33:07.992Z"
   },
   {
    "duration": 57,
    "start_time": "2022-07-12T18:29:33.499Z"
   },
   {
    "duration": 1624,
    "start_time": "2022-07-12T18:29:42.555Z"
   },
   {
    "duration": 2236,
    "start_time": "2022-07-12T18:29:44.181Z"
   },
   {
    "duration": 18,
    "start_time": "2022-07-12T18:29:46.418Z"
   },
   {
    "duration": 50,
    "start_time": "2022-07-12T18:29:46.438Z"
   },
   {
    "duration": 9,
    "start_time": "2022-07-12T18:29:46.490Z"
   },
   {
    "duration": 2562,
    "start_time": "2022-07-12T18:29:46.501Z"
   },
   {
    "duration": 800,
    "start_time": "2022-07-12T18:29:49.064Z"
   },
   {
    "duration": 682,
    "start_time": "2022-07-12T18:29:49.866Z"
   },
   {
    "duration": 10,
    "start_time": "2022-07-12T18:29:50.550Z"
   },
   {
    "duration": 2590,
    "start_time": "2022-07-12T18:29:50.562Z"
   },
   {
    "duration": 971,
    "start_time": "2022-07-12T18:29:53.154Z"
   },
   {
    "duration": 904,
    "start_time": "2022-07-12T18:49:45.735Z"
   },
   {
    "duration": 822,
    "start_time": "2022-07-12T18:49:52.522Z"
   },
   {
    "duration": 707,
    "start_time": "2022-07-12T18:50:25.617Z"
   },
   {
    "duration": 585,
    "start_time": "2022-07-12T18:50:47.860Z"
   },
   {
    "duration": 867,
    "start_time": "2022-07-12T20:02:41.007Z"
   },
   {
    "duration": 868,
    "start_time": "2022-07-12T20:03:21.103Z"
   },
   {
    "duration": 831,
    "start_time": "2022-07-12T20:06:34.610Z"
   },
   {
    "duration": 1509,
    "start_time": "2022-07-12T20:09:10.302Z"
   },
   {
    "duration": 1474,
    "start_time": "2022-07-12T20:09:16.975Z"
   },
   {
    "duration": 54,
    "start_time": "2022-07-12T20:12:21.005Z"
   },
   {
    "duration": 1356,
    "start_time": "2022-07-12T20:12:21.061Z"
   },
   {
    "duration": 17,
    "start_time": "2022-07-12T20:12:22.419Z"
   },
   {
    "duration": 59,
    "start_time": "2022-07-12T20:12:22.439Z"
   },
   {
    "duration": 24,
    "start_time": "2022-07-12T20:12:22.500Z"
   },
   {
    "duration": 2478,
    "start_time": "2022-07-12T20:12:22.526Z"
   },
   {
    "duration": 957,
    "start_time": "2022-07-12T20:12:25.005Z"
   },
   {
    "duration": 753,
    "start_time": "2022-07-12T20:12:25.964Z"
   },
   {
    "duration": 18,
    "start_time": "2022-07-12T20:12:26.719Z"
   },
   {
    "duration": 3059,
    "start_time": "2022-07-12T20:12:26.740Z"
   },
   {
    "duration": 1307,
    "start_time": "2022-07-12T20:12:32.281Z"
   },
   {
    "duration": 1672,
    "start_time": "2022-07-12T20:13:16.083Z"
   },
   {
    "duration": 1275,
    "start_time": "2022-07-12T20:14:09.861Z"
   },
   {
    "duration": 829,
    "start_time": "2022-07-12T20:14:25.099Z"
   },
   {
    "duration": 876,
    "start_time": "2022-07-12T20:14:38.262Z"
   },
   {
    "duration": 678,
    "start_time": "2022-07-12T20:17:32.047Z"
   },
   {
    "duration": 314,
    "start_time": "2022-07-12T20:23:29.111Z"
   },
   {
    "duration": 452,
    "start_time": "2022-07-12T20:24:09.080Z"
   },
   {
    "duration": 609,
    "start_time": "2022-07-12T20:46:43.622Z"
   },
   {
    "duration": 1493,
    "start_time": "2022-07-12T20:49:52.934Z"
   },
   {
    "duration": 369,
    "start_time": "2022-07-12T20:50:11.765Z"
   },
   {
    "duration": 368,
    "start_time": "2022-07-12T20:50:59.462Z"
   },
   {
    "duration": 394,
    "start_time": "2022-07-12T20:51:24.936Z"
   },
   {
    "duration": 681,
    "start_time": "2022-07-12T20:52:28.249Z"
   },
   {
    "duration": 641,
    "start_time": "2022-07-12T20:52:48.089Z"
   },
   {
    "duration": 60,
    "start_time": "2022-07-12T20:55:41.030Z"
   },
   {
    "duration": 36,
    "start_time": "2022-07-12T20:55:45.965Z"
   },
   {
    "duration": 44,
    "start_time": "2022-07-12T20:55:58.709Z"
   },
   {
    "duration": 529,
    "start_time": "2022-07-12T21:00:00.796Z"
   },
   {
    "duration": 497,
    "start_time": "2022-07-12T21:00:12.635Z"
   },
   {
    "duration": 475,
    "start_time": "2022-07-12T21:00:44.354Z"
   },
   {
    "duration": 447,
    "start_time": "2022-07-12T21:00:59.378Z"
   },
   {
    "duration": 527,
    "start_time": "2022-07-12T21:01:36.500Z"
   },
   {
    "duration": 749,
    "start_time": "2022-07-12T21:02:06.379Z"
   },
   {
    "duration": 544,
    "start_time": "2022-07-12T21:03:01.381Z"
   },
   {
    "duration": 478,
    "start_time": "2022-07-12T21:03:06.847Z"
   },
   {
    "duration": 483,
    "start_time": "2022-07-12T21:03:11.942Z"
   },
   {
    "duration": 153,
    "start_time": "2022-07-12T21:03:36.373Z"
   },
   {
    "duration": 43,
    "start_time": "2022-07-12T21:03:51.494Z"
   },
   {
    "duration": 199,
    "start_time": "2022-07-12T21:04:20.825Z"
   },
   {
    "duration": 39,
    "start_time": "2022-07-12T21:04:29.306Z"
   },
   {
    "duration": 77,
    "start_time": "2022-07-12T21:04:44.021Z"
   },
   {
    "duration": 1245,
    "start_time": "2022-07-12T21:04:44.100Z"
   },
   {
    "duration": 7,
    "start_time": "2022-07-12T21:04:45.347Z"
   },
   {
    "duration": 54,
    "start_time": "2022-07-12T21:04:45.356Z"
   },
   {
    "duration": 19,
    "start_time": "2022-07-12T21:04:45.412Z"
   },
   {
    "duration": 2273,
    "start_time": "2022-07-12T21:04:45.433Z"
   },
   {
    "duration": 877,
    "start_time": "2022-07-12T21:04:47.708Z"
   },
   {
    "duration": 523,
    "start_time": "2022-07-12T21:04:48.586Z"
   },
   {
    "duration": 15,
    "start_time": "2022-07-12T21:04:49.110Z"
   },
   {
    "duration": 2580,
    "start_time": "2022-07-12T21:04:49.127Z"
   },
   {
    "duration": 92,
    "start_time": "2022-07-12T21:04:57.367Z"
   },
   {
    "duration": 42,
    "start_time": "2022-07-12T21:05:14.368Z"
   },
   {
    "duration": 41,
    "start_time": "2022-07-12T21:05:42.761Z"
   },
   {
    "duration": 47,
    "start_time": "2022-07-12T21:05:47.082Z"
   },
   {
    "duration": 101,
    "start_time": "2022-07-12T21:06:45.825Z"
   },
   {
    "duration": 105,
    "start_time": "2022-07-12T21:07:07.532Z"
   },
   {
    "duration": 485,
    "start_time": "2022-07-12T21:40:01.940Z"
   },
   {
    "duration": 495,
    "start_time": "2022-07-12T21:40:07.530Z"
   },
   {
    "duration": 419,
    "start_time": "2022-07-12T21:40:41.709Z"
   },
   {
    "duration": 48,
    "start_time": "2022-07-12T21:54:43.678Z"
   },
   {
    "duration": 43,
    "start_time": "2022-07-12T21:55:20.261Z"
   },
   {
    "duration": 47,
    "start_time": "2022-07-12T22:19:45.742Z"
   },
   {
    "duration": 46,
    "start_time": "2022-07-12T22:31:34.336Z"
   },
   {
    "duration": 53,
    "start_time": "2022-07-13T19:04:51.823Z"
   },
   {
    "duration": 1885,
    "start_time": "2022-07-13T19:04:57.213Z"
   },
   {
    "duration": 2215,
    "start_time": "2022-07-13T19:04:59.102Z"
   },
   {
    "duration": 14,
    "start_time": "2022-07-13T19:05:01.319Z"
   },
   {
    "duration": 70,
    "start_time": "2022-07-13T19:05:01.336Z"
   },
   {
    "duration": 14,
    "start_time": "2022-07-13T19:05:01.423Z"
   },
   {
    "duration": 2707,
    "start_time": "2022-07-13T19:05:01.439Z"
   },
   {
    "duration": 923,
    "start_time": "2022-07-13T19:05:04.148Z"
   },
   {
    "duration": 696,
    "start_time": "2022-07-13T19:05:05.073Z"
   },
   {
    "duration": 14,
    "start_time": "2022-07-13T19:05:05.771Z"
   },
   {
    "duration": 2961,
    "start_time": "2022-07-13T19:05:05.788Z"
   },
   {
    "duration": 3,
    "start_time": "2022-07-13T19:05:08.751Z"
   },
   {
    "duration": 471,
    "start_time": "2022-07-13T19:05:08.755Z"
   },
   {
    "duration": 57,
    "start_time": "2022-07-13T20:38:17.448Z"
   },
   {
    "duration": 51,
    "start_time": "2022-07-13T20:39:29.383Z"
   },
   {
    "duration": 310,
    "start_time": "2022-07-13T20:39:44.310Z"
   },
   {
    "duration": 73,
    "start_time": "2022-07-13T20:41:12.658Z"
   },
   {
    "duration": 70,
    "start_time": "2022-07-13T20:44:40.366Z"
   },
   {
    "duration": 4,
    "start_time": "2022-07-13T20:44:53.844Z"
   },
   {
    "duration": 33671,
    "start_time": "2022-07-13T20:44:56.677Z"
   },
   {
    "duration": 115,
    "start_time": "2022-07-13T21:20:31.712Z"
   },
   {
    "duration": 10062,
    "start_time": "2022-07-13T21:23:54.683Z"
   },
   {
    "duration": 10228,
    "start_time": "2022-07-13T21:25:16.294Z"
   },
   {
    "duration": 4,
    "start_time": "2022-07-13T21:25:40.509Z"
   },
   {
    "duration": 10201,
    "start_time": "2022-07-13T21:25:43.205Z"
   },
   {
    "duration": 3,
    "start_time": "2022-07-13T21:26:17.654Z"
   },
   {
    "duration": 10218,
    "start_time": "2022-07-13T21:26:20.343Z"
   },
   {
    "duration": 10468,
    "start_time": "2022-07-13T21:27:16.071Z"
   },
   {
    "duration": 108,
    "start_time": "2022-07-13T21:59:26.016Z"
   },
   {
    "duration": 9825,
    "start_time": "2022-07-13T21:59:53.223Z"
   },
   {
    "duration": 101,
    "start_time": "2022-07-13T22:01:42.122Z"
   },
   {
    "duration": 117,
    "start_time": "2022-07-13T22:02:04.307Z"
   },
   {
    "duration": 14,
    "start_time": "2022-07-13T22:02:36.108Z"
   },
   {
    "duration": 103,
    "start_time": "2022-07-13T22:02:43.522Z"
   },
   {
    "duration": 36,
    "start_time": "2022-07-13T22:03:36.572Z"
   },
   {
    "duration": 1159,
    "start_time": "2022-07-13T22:03:44.959Z"
   },
   {
    "duration": 40,
    "start_time": "2022-07-13T22:04:10.867Z"
   },
   {
    "duration": 1342,
    "start_time": "2022-07-13T22:04:10.909Z"
   },
   {
    "duration": 8,
    "start_time": "2022-07-13T22:04:12.252Z"
   },
   {
    "duration": 78,
    "start_time": "2022-07-13T22:04:12.262Z"
   },
   {
    "duration": 12,
    "start_time": "2022-07-13T22:04:12.342Z"
   },
   {
    "duration": 2337,
    "start_time": "2022-07-13T22:04:12.355Z"
   },
   {
    "duration": 964,
    "start_time": "2022-07-13T22:04:14.694Z"
   },
   {
    "duration": 581,
    "start_time": "2022-07-13T22:04:15.660Z"
   },
   {
    "duration": 12,
    "start_time": "2022-07-13T22:04:16.243Z"
   },
   {
    "duration": 2925,
    "start_time": "2022-07-13T22:04:16.257Z"
   },
   {
    "duration": 3,
    "start_time": "2022-07-13T22:04:19.184Z"
   },
   {
    "duration": 111,
    "start_time": "2022-07-13T22:04:23.023Z"
   },
   {
    "duration": 111,
    "start_time": "2022-07-13T22:05:04.414Z"
   },
   {
    "duration": 1471,
    "start_time": "2022-07-13T22:08:40.076Z"
   },
   {
    "duration": 1360,
    "start_time": "2022-07-13T22:08:41.549Z"
   },
   {
    "duration": 17,
    "start_time": "2022-07-13T22:08:42.911Z"
   },
   {
    "duration": 62,
    "start_time": "2022-07-13T22:08:42.931Z"
   },
   {
    "duration": 36,
    "start_time": "2022-07-13T22:08:42.995Z"
   },
   {
    "duration": 2546,
    "start_time": "2022-07-13T22:08:43.033Z"
   },
   {
    "duration": 856,
    "start_time": "2022-07-13T22:08:45.580Z"
   },
   {
    "duration": 732,
    "start_time": "2022-07-13T22:08:46.438Z"
   },
   {
    "duration": 13,
    "start_time": "2022-07-13T22:08:47.171Z"
   },
   {
    "duration": 2696,
    "start_time": "2022-07-13T22:08:47.187Z"
   },
   {
    "duration": 4,
    "start_time": "2022-07-13T22:08:49.886Z"
   },
   {
    "duration": 366,
    "start_time": "2022-07-13T22:09:04.636Z"
   },
   {
    "duration": 65,
    "start_time": "2022-07-13T22:11:19.187Z"
   },
   {
    "duration": 45,
    "start_time": "2022-07-13T22:11:33.276Z"
   },
   {
    "duration": 1471,
    "start_time": "2022-07-13T22:11:41.335Z"
   },
   {
    "duration": 1353,
    "start_time": "2022-07-13T22:11:42.808Z"
   },
   {
    "duration": 11,
    "start_time": "2022-07-13T22:11:44.162Z"
   },
   {
    "duration": 85,
    "start_time": "2022-07-13T22:11:44.176Z"
   },
   {
    "duration": 13,
    "start_time": "2022-07-13T22:11:44.264Z"
   },
   {
    "duration": 2488,
    "start_time": "2022-07-13T22:11:44.279Z"
   },
   {
    "duration": 804,
    "start_time": "2022-07-13T22:11:46.769Z"
   },
   {
    "duration": 672,
    "start_time": "2022-07-13T22:11:47.575Z"
   },
   {
    "duration": 13,
    "start_time": "2022-07-13T22:11:48.249Z"
   },
   {
    "duration": 2722,
    "start_time": "2022-07-13T22:11:48.265Z"
   },
   {
    "duration": 3,
    "start_time": "2022-07-13T22:11:50.989Z"
   },
   {
    "duration": 1571,
    "start_time": "2022-07-13T22:12:23.658Z"
   },
   {
    "duration": 1463,
    "start_time": "2022-07-13T22:12:25.231Z"
   },
   {
    "duration": 11,
    "start_time": "2022-07-13T22:12:26.696Z"
   },
   {
    "duration": 58,
    "start_time": "2022-07-13T22:12:26.724Z"
   },
   {
    "duration": 39,
    "start_time": "2022-07-13T22:12:26.784Z"
   },
   {
    "duration": 2519,
    "start_time": "2022-07-13T22:12:26.825Z"
   },
   {
    "duration": 826,
    "start_time": "2022-07-13T22:12:29.346Z"
   },
   {
    "duration": 681,
    "start_time": "2022-07-13T22:12:30.174Z"
   },
   {
    "duration": 11,
    "start_time": "2022-07-13T22:12:30.857Z"
   },
   {
    "duration": 2625,
    "start_time": "2022-07-13T22:12:30.870Z"
   },
   {
    "duration": 3,
    "start_time": "2022-07-13T22:12:33.497Z"
   },
   {
    "duration": 55,
    "start_time": "2022-07-13T22:13:39.426Z"
   },
   {
    "duration": 12,
    "start_time": "2022-07-13T22:14:15.755Z"
   },
   {
    "duration": 1417,
    "start_time": "2022-07-13T22:14:20.264Z"
   },
   {
    "duration": 1343,
    "start_time": "2022-07-13T22:14:21.683Z"
   },
   {
    "duration": 9,
    "start_time": "2022-07-13T22:14:23.029Z"
   },
   {
    "duration": 82,
    "start_time": "2022-07-13T22:14:23.040Z"
   },
   {
    "duration": 11,
    "start_time": "2022-07-13T22:14:23.124Z"
   },
   {
    "duration": 2490,
    "start_time": "2022-07-13T22:14:23.137Z"
   },
   {
    "duration": 820,
    "start_time": "2022-07-13T22:14:25.629Z"
   },
   {
    "duration": 693,
    "start_time": "2022-07-13T22:14:26.451Z"
   },
   {
    "duration": 12,
    "start_time": "2022-07-13T22:14:27.146Z"
   },
   {
    "duration": 2711,
    "start_time": "2022-07-13T22:14:27.160Z"
   },
   {
    "duration": 4,
    "start_time": "2022-07-13T22:14:29.873Z"
   },
   {
    "duration": 80547,
    "start_time": "2022-07-13T22:14:34.614Z"
   },
   {
    "duration": 116628,
    "start_time": "2022-07-13T22:17:02.383Z"
   },
   {
    "duration": 121,
    "start_time": "2022-07-13T22:40:56.567Z"
   },
   {
    "duration": 4,
    "start_time": "2022-07-13T22:41:04.485Z"
   },
   {
    "duration": 120196,
    "start_time": "2022-07-13T22:41:08.390Z"
   },
   {
    "duration": 5,
    "start_time": "2022-07-13T22:58:43.499Z"
   },
   {
    "duration": 120260,
    "start_time": "2022-07-13T22:58:45.644Z"
   },
   {
    "duration": 3,
    "start_time": "2022-07-13T23:06:12.758Z"
   },
   {
    "duration": 1689,
    "start_time": "2022-07-13T23:07:23.633Z"
   },
   {
    "duration": 1381,
    "start_time": "2022-07-13T23:07:25.324Z"
   },
   {
    "duration": 16,
    "start_time": "2022-07-13T23:07:26.707Z"
   },
   {
    "duration": 61,
    "start_time": "2022-07-13T23:07:26.725Z"
   },
   {
    "duration": 34,
    "start_time": "2022-07-13T23:07:26.789Z"
   },
   {
    "duration": 2624,
    "start_time": "2022-07-13T23:07:26.825Z"
   },
   {
    "duration": 828,
    "start_time": "2022-07-13T23:07:29.452Z"
   },
   {
    "duration": 749,
    "start_time": "2022-07-13T23:07:30.282Z"
   },
   {
    "duration": 18,
    "start_time": "2022-07-13T23:07:31.034Z"
   },
   {
    "duration": 2743,
    "start_time": "2022-07-13T23:07:31.054Z"
   },
   {
    "duration": 4,
    "start_time": "2022-07-13T23:07:33.798Z"
   },
   {
    "duration": 219,
    "start_time": "2022-07-13T23:20:00.881Z"
   },
   {
    "duration": 36221,
    "start_time": "2022-07-13T23:20:45.826Z"
   },
   {
    "duration": 38543,
    "start_time": "2022-07-13T23:27:35.161Z"
   },
   {
    "duration": 131138,
    "start_time": "2022-07-13T23:32:31.424Z"
   },
   {
    "duration": 74,
    "start_time": "2022-07-14T18:17:46.663Z"
   },
   {
    "duration": 1744,
    "start_time": "2022-07-14T18:17:51.488Z"
   },
   {
    "duration": 2581,
    "start_time": "2022-07-14T18:17:53.235Z"
   },
   {
    "duration": 9,
    "start_time": "2022-07-14T18:17:55.818Z"
   },
   {
    "duration": 76,
    "start_time": "2022-07-14T18:17:55.829Z"
   },
   {
    "duration": 15,
    "start_time": "2022-07-14T18:17:55.907Z"
   },
   {
    "duration": 2635,
    "start_time": "2022-07-14T18:17:55.924Z"
   },
   {
    "duration": 803,
    "start_time": "2022-07-14T18:17:58.561Z"
   },
   {
    "duration": 764,
    "start_time": "2022-07-14T18:17:59.366Z"
   },
   {
    "duration": 16,
    "start_time": "2022-07-14T18:18:00.132Z"
   },
   {
    "duration": 2980,
    "start_time": "2022-07-14T18:18:00.154Z"
   },
   {
    "duration": 5,
    "start_time": "2022-07-14T18:18:03.136Z"
   },
   {
    "duration": 128964,
    "start_time": "2022-07-14T18:18:12.244Z"
   },
   {
    "duration": 4,
    "start_time": "2022-07-14T18:21:47.257Z"
   },
   {
    "duration": 130160,
    "start_time": "2022-07-14T18:21:49.848Z"
   },
   {
    "duration": 3,
    "start_time": "2022-07-14T18:24:09.444Z"
   },
   {
    "duration": 129648,
    "start_time": "2022-07-14T18:24:16.660Z"
   },
   {
    "duration": 1729,
    "start_time": "2022-07-14T18:28:26.899Z"
   },
   {
    "duration": 1415,
    "start_time": "2022-07-14T18:28:28.630Z"
   },
   {
    "duration": 11,
    "start_time": "2022-07-14T18:28:30.046Z"
   },
   {
    "duration": 97,
    "start_time": "2022-07-14T18:28:30.060Z"
   },
   {
    "duration": 17,
    "start_time": "2022-07-14T18:28:30.159Z"
   },
   {
    "duration": 2741,
    "start_time": "2022-07-14T18:28:30.178Z"
   },
   {
    "duration": 857,
    "start_time": "2022-07-14T18:28:32.921Z"
   },
   {
    "duration": 907,
    "start_time": "2022-07-14T18:28:33.780Z"
   },
   {
    "duration": 23,
    "start_time": "2022-07-14T18:28:34.689Z"
   },
   {
    "duration": 3207,
    "start_time": "2022-07-14T18:28:34.715Z"
   },
   {
    "duration": 4,
    "start_time": "2022-07-14T18:28:37.924Z"
   },
   {
    "duration": 135207,
    "start_time": "2022-07-14T18:29:16.701Z"
   },
   {
    "duration": 1580,
    "start_time": "2022-07-14T18:34:42.381Z"
   },
   {
    "duration": 1381,
    "start_time": "2022-07-14T18:34:43.963Z"
   },
   {
    "duration": 9,
    "start_time": "2022-07-14T18:34:45.347Z"
   },
   {
    "duration": 85,
    "start_time": "2022-07-14T18:34:45.358Z"
   },
   {
    "duration": 10,
    "start_time": "2022-07-14T18:34:45.445Z"
   },
   {
    "duration": 2651,
    "start_time": "2022-07-14T18:34:45.457Z"
   },
   {
    "duration": 921,
    "start_time": "2022-07-14T18:34:48.110Z"
   },
   {
    "duration": 733,
    "start_time": "2022-07-14T18:34:49.033Z"
   },
   {
    "duration": 12,
    "start_time": "2022-07-14T18:34:49.768Z"
   },
   {
    "duration": 2846,
    "start_time": "2022-07-14T18:34:49.781Z"
   },
   {
    "duration": 4,
    "start_time": "2022-07-14T18:34:52.629Z"
   },
   {
    "duration": 129484,
    "start_time": "2022-07-14T18:35:04.822Z"
   },
   {
    "duration": 1465,
    "start_time": "2022-07-14T18:41:58.657Z"
   },
   {
    "duration": 1532,
    "start_time": "2022-07-14T18:42:47.366Z"
   },
   {
    "duration": 20,
    "start_time": "2022-07-14T18:43:58.560Z"
   },
   {
    "duration": 25,
    "start_time": "2022-07-14T18:57:47.907Z"
   },
   {
    "duration": 22,
    "start_time": "2022-07-14T18:57:59.041Z"
   },
   {
    "duration": 22,
    "start_time": "2022-07-14T19:06:32.782Z"
   },
   {
    "duration": 138394,
    "start_time": "2022-07-14T19:09:08.313Z"
   },
   {
    "duration": 32496,
    "start_time": "2022-07-14T19:11:33.867Z"
   },
   {
    "duration": 10270,
    "start_time": "2022-07-14T19:16:40.763Z"
   },
   {
    "duration": 161414,
    "start_time": "2022-07-14T19:20:57.791Z"
   },
   {
    "duration": 17627,
    "start_time": "2022-07-14T19:23:44.155Z"
   },
   {
    "duration": 17571,
    "start_time": "2022-07-14T19:24:50.466Z"
   },
   {
    "duration": 17660,
    "start_time": "2022-07-14T19:25:18.827Z"
   },
   {
    "duration": 2195,
    "start_time": "2022-07-14T20:46:45.771Z"
   },
   {
    "duration": 3947,
    "start_time": "2022-07-14T20:46:47.969Z"
   },
   {
    "duration": 136,
    "start_time": "2022-07-14T20:46:51.919Z"
   },
   {
    "duration": 0,
    "start_time": "2022-07-14T20:46:52.058Z"
   },
   {
    "duration": 0,
    "start_time": "2022-07-14T20:46:52.059Z"
   },
   {
    "duration": 0,
    "start_time": "2022-07-14T20:46:52.061Z"
   },
   {
    "duration": 0,
    "start_time": "2022-07-14T20:46:52.062Z"
   },
   {
    "duration": 0,
    "start_time": "2022-07-14T20:46:52.064Z"
   },
   {
    "duration": 0,
    "start_time": "2022-07-14T20:46:52.065Z"
   },
   {
    "duration": 0,
    "start_time": "2022-07-14T20:46:52.066Z"
   },
   {
    "duration": 0,
    "start_time": "2022-07-14T20:46:52.068Z"
   },
   {
    "duration": 0,
    "start_time": "2022-07-14T20:46:52.069Z"
   },
   {
    "duration": 0,
    "start_time": "2022-07-14T20:46:52.070Z"
   },
   {
    "duration": 1894,
    "start_time": "2022-07-18T18:51:08.015Z"
   },
   {
    "duration": 75,
    "start_time": "2022-07-18T18:53:37.534Z"
   },
   {
    "duration": 58,
    "start_time": "2022-07-18T18:54:01.916Z"
   },
   {
    "duration": 1457,
    "start_time": "2022-07-18T18:54:13.105Z"
   },
   {
    "duration": 51,
    "start_time": "2022-07-18T18:55:09.244Z"
   },
   {
    "duration": 2433,
    "start_time": "2022-07-18T18:55:09.347Z"
   },
   {
    "duration": 8,
    "start_time": "2022-07-18T18:55:19.634Z"
   },
   {
    "duration": 58,
    "start_time": "2022-07-18T19:01:57.966Z"
   },
   {
    "duration": 1289,
    "start_time": "2022-07-18T19:01:58.139Z"
   },
   {
    "duration": 8,
    "start_time": "2022-07-18T19:01:59.430Z"
   },
   {
    "duration": 77,
    "start_time": "2022-07-18T19:01:59.440Z"
   },
   {
    "duration": 10,
    "start_time": "2022-07-18T19:01:59.520Z"
   },
   {
    "duration": 2525,
    "start_time": "2022-07-18T19:01:59.532Z"
   },
   {
    "duration": 812,
    "start_time": "2022-07-18T19:02:02.060Z"
   },
   {
    "duration": 753,
    "start_time": "2022-07-18T19:02:02.874Z"
   },
   {
    "duration": 14,
    "start_time": "2022-07-18T19:02:03.629Z"
   },
   {
    "duration": 2877,
    "start_time": "2022-07-18T19:02:03.646Z"
   },
   {
    "duration": 3,
    "start_time": "2022-07-18T19:02:06.526Z"
   },
   {
    "duration": 157779,
    "start_time": "2022-07-18T19:02:22.526Z"
   },
   {
    "duration": 46622,
    "start_time": "2022-07-18T19:28:30.552Z"
   },
   {
    "duration": 75,
    "start_time": "2022-07-18T19:41:09.229Z"
   },
   {
    "duration": 73,
    "start_time": "2022-07-18T19:41:16.172Z"
   },
   {
    "duration": 1402,
    "start_time": "2022-07-18T19:49:40.832Z"
   },
   {
    "duration": 48076,
    "start_time": "2022-07-18T19:50:11.933Z"
   },
   {
    "duration": 45743,
    "start_time": "2022-07-18T20:07:20.329Z"
   },
   {
    "duration": 45706,
    "start_time": "2022-07-18T20:10:20.757Z"
   },
   {
    "duration": 45218,
    "start_time": "2022-07-18T20:19:29.203Z"
   },
   {
    "duration": 70,
    "start_time": "2022-07-18T20:24:01.924Z"
   },
   {
    "duration": 1286,
    "start_time": "2022-07-18T20:24:01.997Z"
   },
   {
    "duration": 13,
    "start_time": "2022-07-18T20:24:03.285Z"
   },
   {
    "duration": 57,
    "start_time": "2022-07-18T20:24:03.300Z"
   },
   {
    "duration": 11,
    "start_time": "2022-07-18T20:24:03.359Z"
   },
   {
    "duration": 2622,
    "start_time": "2022-07-18T20:24:03.372Z"
   },
   {
    "duration": 1059,
    "start_time": "2022-07-18T20:24:05.997Z"
   },
   {
    "duration": 575,
    "start_time": "2022-07-18T20:24:07.057Z"
   },
   {
    "duration": 12,
    "start_time": "2022-07-18T20:24:07.634Z"
   },
   {
    "duration": 2960,
    "start_time": "2022-07-18T20:24:07.649Z"
   },
   {
    "duration": 3,
    "start_time": "2022-07-18T20:24:10.611Z"
   },
   {
    "duration": 49468,
    "start_time": "2022-07-18T20:24:24.878Z"
   },
   {
    "duration": 46824,
    "start_time": "2022-07-18T20:26:48.735Z"
   },
   {
    "duration": 45660,
    "start_time": "2022-07-18T20:36:43.096Z"
   },
   {
    "duration": 44758,
    "start_time": "2022-07-18T20:48:07.345Z"
   },
   {
    "duration": 58,
    "start_time": "2022-07-18T20:51:38.319Z"
   },
   {
    "duration": 63,
    "start_time": "2022-07-18T20:54:13.764Z"
   },
   {
    "duration": 1319,
    "start_time": "2022-07-18T20:55:37.152Z"
   },
   {
    "duration": 54,
    "start_time": "2022-07-18T20:55:51.358Z"
   },
   {
    "duration": 1281,
    "start_time": "2022-07-18T20:55:51.474Z"
   },
   {
    "duration": 7,
    "start_time": "2022-07-18T20:55:55.953Z"
   },
   {
    "duration": 60,
    "start_time": "2022-07-18T20:55:55.962Z"
   },
   {
    "duration": 13,
    "start_time": "2022-07-18T20:55:56.024Z"
   },
   {
    "duration": 2612,
    "start_time": "2022-07-18T20:55:56.039Z"
   },
   {
    "duration": 831,
    "start_time": "2022-07-18T20:55:58.653Z"
   },
   {
    "duration": 631,
    "start_time": "2022-07-18T20:55:59.485Z"
   },
   {
    "duration": 11,
    "start_time": "2022-07-18T20:56:00.118Z"
   },
   {
    "duration": 2914,
    "start_time": "2022-07-18T20:56:00.131Z"
   },
   {
    "duration": 3,
    "start_time": "2022-07-18T20:56:03.047Z"
   },
   {
    "duration": 45516,
    "start_time": "2022-07-18T20:56:15.685Z"
   },
   {
    "duration": 45148,
    "start_time": "2022-07-18T21:00:16.117Z"
   },
   {
    "duration": 44886,
    "start_time": "2022-07-18T21:02:10.321Z"
   },
   {
    "duration": 45267,
    "start_time": "2022-07-18T21:04:00.565Z"
   },
   {
    "duration": 44745,
    "start_time": "2022-07-18T21:09:21.161Z"
   },
   {
    "duration": 44490,
    "start_time": "2022-07-18T21:14:20.114Z"
   },
   {
    "duration": 154276,
    "start_time": "2022-07-18T21:19:33.924Z"
   },
   {
    "duration": 74,
    "start_time": "2022-07-18T21:23:20.321Z"
   },
   {
    "duration": 51,
    "start_time": "2022-07-18T21:23:32.946Z"
   },
   {
    "duration": 56,
    "start_time": "2022-07-18T21:25:24.911Z"
   },
   {
    "duration": 51,
    "start_time": "2022-07-18T21:25:47.768Z"
   },
   {
    "duration": 1193,
    "start_time": "2022-07-18T21:28:39.782Z"
   },
   {
    "duration": 54,
    "start_time": "2022-07-18T21:28:54.264Z"
   },
   {
    "duration": 1236,
    "start_time": "2022-07-18T21:28:54.319Z"
   },
   {
    "duration": 8,
    "start_time": "2022-07-18T21:28:55.557Z"
   },
   {
    "duration": 69,
    "start_time": "2022-07-18T21:28:55.567Z"
   },
   {
    "duration": 10,
    "start_time": "2022-07-18T21:28:55.638Z"
   },
   {
    "duration": 2473,
    "start_time": "2022-07-18T21:28:55.650Z"
   },
   {
    "duration": 1044,
    "start_time": "2022-07-18T21:28:58.125Z"
   },
   {
    "duration": 565,
    "start_time": "2022-07-18T21:28:59.170Z"
   },
   {
    "duration": 13,
    "start_time": "2022-07-18T21:28:59.737Z"
   },
   {
    "duration": 2867,
    "start_time": "2022-07-18T21:28:59.752Z"
   },
   {
    "duration": 4,
    "start_time": "2022-07-18T21:29:02.620Z"
   },
   {
    "duration": 36270,
    "start_time": "2022-07-18T21:37:08.983Z"
   },
   {
    "duration": 1505,
    "start_time": "2022-07-18T21:38:03.714Z"
   },
   {
    "duration": 1401,
    "start_time": "2022-07-18T21:38:05.221Z"
   },
   {
    "duration": 9,
    "start_time": "2022-07-18T21:38:06.625Z"
   },
   {
    "duration": 100,
    "start_time": "2022-07-18T21:38:06.638Z"
   },
   {
    "duration": 15,
    "start_time": "2022-07-18T21:38:06.740Z"
   },
   {
    "duration": 2610,
    "start_time": "2022-07-18T21:38:06.757Z"
   },
   {
    "duration": 826,
    "start_time": "2022-07-18T21:38:09.369Z"
   },
   {
    "duration": 722,
    "start_time": "2022-07-18T21:38:10.196Z"
   },
   {
    "duration": 11,
    "start_time": "2022-07-18T21:38:10.920Z"
   },
   {
    "duration": 2672,
    "start_time": "2022-07-18T21:38:10.933Z"
   },
   {
    "duration": 3,
    "start_time": "2022-07-18T21:38:13.607Z"
   },
   {
    "duration": 155847,
    "start_time": "2022-07-18T21:38:21.785Z"
   },
   {
    "duration": 157308,
    "start_time": "2022-07-18T22:06:31.592Z"
   },
   {
    "duration": 2364,
    "start_time": "2022-07-19T09:40:14.085Z"
   },
   {
    "duration": 2446,
    "start_time": "2022-07-19T09:40:16.451Z"
   },
   {
    "duration": 8,
    "start_time": "2022-07-19T09:40:18.899Z"
   },
   {
    "duration": 70,
    "start_time": "2022-07-19T09:40:18.909Z"
   },
   {
    "duration": 10,
    "start_time": "2022-07-19T09:40:18.981Z"
   },
   {
    "duration": 2318,
    "start_time": "2022-07-19T09:40:18.992Z"
   },
   {
    "duration": 736,
    "start_time": "2022-07-19T09:40:21.312Z"
   },
   {
    "duration": 718,
    "start_time": "2022-07-19T09:40:22.051Z"
   },
   {
    "duration": 11,
    "start_time": "2022-07-19T09:40:22.771Z"
   },
   {
    "duration": 2531,
    "start_time": "2022-07-19T09:40:22.785Z"
   },
   {
    "duration": 3,
    "start_time": "2022-07-19T09:40:25.317Z"
   },
   {
    "duration": 316,
    "start_time": "2022-07-19T09:40:25.322Z"
   },
   {
    "duration": 163,
    "start_time": "2022-07-19T09:41:06.865Z"
   },
   {
    "duration": 76,
    "start_time": "2022-07-19T09:41:18.705Z"
   },
   {
    "duration": 43,
    "start_time": "2022-07-19T09:41:28.001Z"
   },
   {
    "duration": 10,
    "start_time": "2022-07-19T09:42:41.986Z"
   },
   {
    "duration": 41166,
    "start_time": "2022-07-19T09:42:51.712Z"
   },
   {
    "duration": 1382,
    "start_time": "2022-07-19T09:47:17.760Z"
   },
   {
    "duration": 1258,
    "start_time": "2022-07-19T09:47:19.144Z"
   },
   {
    "duration": 8,
    "start_time": "2022-07-19T09:47:20.403Z"
   },
   {
    "duration": 66,
    "start_time": "2022-07-19T09:47:20.412Z"
   },
   {
    "duration": 9,
    "start_time": "2022-07-19T09:47:20.480Z"
   },
   {
    "duration": 2348,
    "start_time": "2022-07-19T09:47:20.490Z"
   },
   {
    "duration": 771,
    "start_time": "2022-07-19T09:47:22.840Z"
   },
   {
    "duration": 623,
    "start_time": "2022-07-19T09:47:23.613Z"
   },
   {
    "duration": 14,
    "start_time": "2022-07-19T09:47:24.238Z"
   },
   {
    "duration": 2490,
    "start_time": "2022-07-19T09:47:24.253Z"
   },
   {
    "duration": 7,
    "start_time": "2022-07-19T09:47:26.745Z"
   },
   {
    "duration": 166,
    "start_time": "2022-07-19T09:47:26.754Z"
   },
   {
    "duration": 40902,
    "start_time": "2022-07-19T09:47:29.390Z"
   },
   {
    "duration": 42336,
    "start_time": "2022-07-19T09:54:43.961Z"
   },
   {
    "duration": 1444,
    "start_time": "2022-07-19T10:03:22.794Z"
   },
   {
    "duration": 1293,
    "start_time": "2022-07-19T10:03:24.240Z"
   },
   {
    "duration": 18,
    "start_time": "2022-07-19T10:03:25.535Z"
   },
   {
    "duration": 56,
    "start_time": "2022-07-19T10:03:25.555Z"
   },
   {
    "duration": 9,
    "start_time": "2022-07-19T10:03:25.613Z"
   },
   {
    "duration": 2500,
    "start_time": "2022-07-19T10:03:25.624Z"
   },
   {
    "duration": 764,
    "start_time": "2022-07-19T10:03:28.126Z"
   },
   {
    "duration": 650,
    "start_time": "2022-07-19T10:03:28.892Z"
   },
   {
    "duration": 13,
    "start_time": "2022-07-19T10:03:29.544Z"
   },
   {
    "duration": 2503,
    "start_time": "2022-07-19T10:03:29.558Z"
   },
   {
    "duration": 3,
    "start_time": "2022-07-19T10:03:32.063Z"
   },
   {
    "duration": 92,
    "start_time": "2022-07-19T10:03:32.067Z"
   },
   {
    "duration": 183,
    "start_time": "2022-07-19T10:03:52.756Z"
   },
   {
    "duration": 10,
    "start_time": "2022-07-19T10:08:28.373Z"
   },
   {
    "duration": 54,
    "start_time": "2022-07-19T10:08:49.846Z"
   },
   {
    "duration": 63,
    "start_time": "2022-07-19T10:10:29.941Z"
   },
   {
    "duration": 12,
    "start_time": "2022-07-19T10:10:45.091Z"
   },
   {
    "duration": 1225,
    "start_time": "2022-07-19T10:10:51.442Z"
   },
   {
    "duration": 52,
    "start_time": "2022-07-19T10:11:04.554Z"
   },
   {
    "duration": 1159,
    "start_time": "2022-07-19T10:11:04.607Z"
   },
   {
    "duration": 7,
    "start_time": "2022-07-19T10:11:05.768Z"
   },
   {
    "duration": 54,
    "start_time": "2022-07-19T10:11:05.776Z"
   },
   {
    "duration": 28,
    "start_time": "2022-07-19T10:11:05.832Z"
   },
   {
    "duration": 2339,
    "start_time": "2022-07-19T10:11:05.861Z"
   },
   {
    "duration": 917,
    "start_time": "2022-07-19T10:11:08.201Z"
   },
   {
    "duration": 516,
    "start_time": "2022-07-19T10:11:09.120Z"
   },
   {
    "duration": 18,
    "start_time": "2022-07-19T10:11:09.638Z"
   },
   {
    "duration": 2618,
    "start_time": "2022-07-19T10:11:09.659Z"
   },
   {
    "duration": 4,
    "start_time": "2022-07-19T10:11:12.279Z"
   },
   {
    "duration": 18,
    "start_time": "2022-07-19T10:11:12.284Z"
   },
   {
    "duration": 1566,
    "start_time": "2022-07-19T10:15:07.851Z"
   },
   {
    "duration": 1228,
    "start_time": "2022-07-19T10:15:09.419Z"
   },
   {
    "duration": 11,
    "start_time": "2022-07-19T10:15:10.648Z"
   },
   {
    "duration": 57,
    "start_time": "2022-07-19T10:15:10.661Z"
   },
   {
    "duration": 9,
    "start_time": "2022-07-19T10:15:10.720Z"
   },
   {
    "duration": 2184,
    "start_time": "2022-07-19T10:15:10.730Z"
   },
   {
    "duration": 736,
    "start_time": "2022-07-19T10:15:12.916Z"
   },
   {
    "duration": 687,
    "start_time": "2022-07-19T10:15:13.654Z"
   },
   {
    "duration": 17,
    "start_time": "2022-07-19T10:15:14.343Z"
   },
   {
    "duration": 2623,
    "start_time": "2022-07-19T10:15:14.363Z"
   },
   {
    "duration": 4,
    "start_time": "2022-07-19T10:15:16.988Z"
   },
   {
    "duration": 12,
    "start_time": "2022-07-19T10:15:16.993Z"
   },
   {
    "duration": 296408,
    "start_time": "2022-07-19T10:15:24.408Z"
   },
   {
    "duration": 1432,
    "start_time": "2022-07-19T11:04:38.130Z"
   },
   {
    "duration": 1198,
    "start_time": "2022-07-19T11:04:39.564Z"
   },
   {
    "duration": 8,
    "start_time": "2022-07-19T11:04:40.764Z"
   },
   {
    "duration": 51,
    "start_time": "2022-07-19T11:04:40.773Z"
   },
   {
    "duration": 27,
    "start_time": "2022-07-19T11:04:40.825Z"
   },
   {
    "duration": 2225,
    "start_time": "2022-07-19T11:04:40.854Z"
   },
   {
    "duration": 730,
    "start_time": "2022-07-19T11:04:43.081Z"
   },
   {
    "duration": 651,
    "start_time": "2022-07-19T11:04:43.813Z"
   },
   {
    "duration": 13,
    "start_time": "2022-07-19T11:04:44.465Z"
   },
   {
    "duration": 2803,
    "start_time": "2022-07-19T11:04:44.480Z"
   },
   {
    "duration": 3,
    "start_time": "2022-07-19T11:04:47.285Z"
   },
   {
    "duration": 11,
    "start_time": "2022-07-19T11:04:47.290Z"
   },
   {
    "duration": 181,
    "start_time": "2022-07-19T11:05:16.302Z"
   },
   {
    "duration": 47,
    "start_time": "2022-07-19T11:09:15.719Z"
   },
   {
    "duration": 10,
    "start_time": "2022-07-19T11:09:43.216Z"
   },
   {
    "duration": 391286,
    "start_time": "2022-07-19T11:09:46.429Z"
   },
   {
    "duration": 10,
    "start_time": "2022-07-19T11:17:02.718Z"
   },
   {
    "duration": 260961,
    "start_time": "2022-07-19T11:17:06.434Z"
   },
   {
    "duration": 10,
    "start_time": "2022-07-19T11:53:52.864Z"
   },
   {
    "duration": 385624,
    "start_time": "2022-07-19T11:54:00.924Z"
   },
   {
    "duration": 10,
    "start_time": "2022-07-19T12:03:29.600Z"
   },
   {
    "duration": 13,
    "start_time": "2022-07-19T12:05:37.093Z"
   },
   {
    "duration": 43,
    "start_time": "2022-07-19T12:05:40.350Z"
   },
   {
    "duration": 1312,
    "start_time": "2022-07-19T12:05:52.996Z"
   },
   {
    "duration": 1271,
    "start_time": "2022-07-19T12:05:54.310Z"
   },
   {
    "duration": 9,
    "start_time": "2022-07-19T12:05:55.582Z"
   },
   {
    "duration": 67,
    "start_time": "2022-07-19T12:05:55.593Z"
   },
   {
    "duration": 10,
    "start_time": "2022-07-19T12:05:55.662Z"
   },
   {
    "duration": 2416,
    "start_time": "2022-07-19T12:05:55.673Z"
   },
   {
    "duration": 743,
    "start_time": "2022-07-19T12:05:58.090Z"
   },
   {
    "duration": 602,
    "start_time": "2022-07-19T12:05:58.834Z"
   },
   {
    "duration": 14,
    "start_time": "2022-07-19T12:05:59.438Z"
   },
   {
    "duration": 2448,
    "start_time": "2022-07-19T12:05:59.453Z"
   },
   {
    "duration": 4,
    "start_time": "2022-07-19T12:06:01.903Z"
   },
   {
    "duration": 12,
    "start_time": "2022-07-19T12:06:01.908Z"
   },
   {
    "duration": 9,
    "start_time": "2022-07-19T12:07:37.111Z"
   },
   {
    "duration": 6239,
    "start_time": "2022-07-19T12:07:40.252Z"
   },
   {
    "duration": 9,
    "start_time": "2022-07-19T12:12:02.501Z"
   },
   {
    "duration": 2177,
    "start_time": "2022-07-19T12:12:05.676Z"
   },
   {
    "duration": 9,
    "start_time": "2022-07-19T12:12:45.350Z"
   },
   {
    "duration": 41,
    "start_time": "2022-07-19T12:12:48.158Z"
   },
   {
    "duration": 11,
    "start_time": "2022-07-19T12:13:22.745Z"
   },
   {
    "duration": 2229,
    "start_time": "2022-07-19T12:13:26.180Z"
   },
   {
    "duration": 10,
    "start_time": "2022-07-19T12:18:22.445Z"
   },
   {
    "duration": 5008,
    "start_time": "2022-07-19T12:18:25.306Z"
   },
   {
    "duration": 8,
    "start_time": "2022-07-19T12:32:14.843Z"
   },
   {
    "duration": 487,
    "start_time": "2022-07-19T12:32:17.966Z"
   },
   {
    "duration": 8,
    "start_time": "2022-07-19T12:32:54.647Z"
   },
   {
    "duration": 2549,
    "start_time": "2022-07-19T12:32:57.798Z"
   },
   {
    "duration": 8,
    "start_time": "2022-07-19T12:33:49.986Z"
   },
   {
    "duration": 2637,
    "start_time": "2022-07-19T12:33:53.950Z"
   },
   {
    "duration": 14,
    "start_time": "2022-07-19T12:35:22.433Z"
   },
   {
    "duration": 3811,
    "start_time": "2022-07-19T12:35:25.041Z"
   },
   {
    "duration": 12,
    "start_time": "2022-07-19T12:35:53.164Z"
   },
   {
    "duration": 3515,
    "start_time": "2022-07-19T12:35:56.038Z"
   },
   {
    "duration": 123,
    "start_time": "2022-07-19T12:36:55.115Z"
   },
   {
    "duration": 493,
    "start_time": "2022-07-19T12:37:18.830Z"
   },
   {
    "duration": 11,
    "start_time": "2022-07-19T12:37:38.369Z"
   },
   {
    "duration": 462,
    "start_time": "2022-07-19T12:37:55.095Z"
   },
   {
    "duration": 11,
    "start_time": "2022-07-19T12:38:47.662Z"
   },
   {
    "duration": 417420,
    "start_time": "2022-07-19T12:38:52.534Z"
   },
   {
    "duration": 11,
    "start_time": "2022-07-19T12:57:30.770Z"
   },
   {
    "duration": 16,
    "start_time": "2022-07-19T13:05:27.212Z"
   },
   {
    "duration": 40,
    "start_time": "2022-07-19T13:05:31.958Z"
   },
   {
    "duration": 1352,
    "start_time": "2022-07-19T13:05:44.900Z"
   },
   {
    "duration": 1233,
    "start_time": "2022-07-19T13:05:46.254Z"
   },
   {
    "duration": 7,
    "start_time": "2022-07-19T13:05:47.488Z"
   },
   {
    "duration": 67,
    "start_time": "2022-07-19T13:05:47.497Z"
   },
   {
    "duration": 9,
    "start_time": "2022-07-19T13:05:47.566Z"
   },
   {
    "duration": 2415,
    "start_time": "2022-07-19T13:05:47.577Z"
   },
   {
    "duration": 803,
    "start_time": "2022-07-19T13:05:49.994Z"
   },
   {
    "duration": 687,
    "start_time": "2022-07-19T13:05:50.799Z"
   },
   {
    "duration": 11,
    "start_time": "2022-07-19T13:05:51.488Z"
   },
   {
    "duration": 2482,
    "start_time": "2022-07-19T13:05:51.501Z"
   },
   {
    "duration": 3,
    "start_time": "2022-07-19T13:05:53.984Z"
   },
   {
    "duration": 12,
    "start_time": "2022-07-19T13:05:53.988Z"
   },
   {
    "duration": 12,
    "start_time": "2022-07-19T13:06:00.698Z"
   },
   {
    "duration": 582122,
    "start_time": "2022-07-19T13:06:05.136Z"
   },
   {
    "duration": 1937,
    "start_time": "2022-07-19T16:20:08.344Z"
   },
   {
    "duration": 5286,
    "start_time": "2022-07-19T16:20:10.291Z"
   },
   {
    "duration": 12,
    "start_time": "2022-07-19T16:20:15.579Z"
   },
   {
    "duration": 116,
    "start_time": "2022-07-19T16:20:15.594Z"
   },
   {
    "duration": 12,
    "start_time": "2022-07-19T16:20:15.713Z"
   },
   {
    "duration": 1794,
    "start_time": "2022-07-19T16:23:07.560Z"
   },
   {
    "duration": 1692,
    "start_time": "2022-07-19T16:23:09.356Z"
   },
   {
    "duration": 14,
    "start_time": "2022-07-19T16:23:11.050Z"
   },
   {
    "duration": 109,
    "start_time": "2022-07-19T16:23:11.067Z"
   },
   {
    "duration": 15,
    "start_time": "2022-07-19T16:23:11.178Z"
   },
   {
    "duration": 3210,
    "start_time": "2022-07-19T16:23:11.196Z"
   },
   {
    "duration": 1054,
    "start_time": "2022-07-19T16:23:14.408Z"
   },
   {
    "duration": 970,
    "start_time": "2022-07-19T16:23:15.482Z"
   },
   {
    "duration": 25,
    "start_time": "2022-07-19T16:23:16.454Z"
   },
   {
    "duration": 3257,
    "start_time": "2022-07-19T16:23:16.483Z"
   },
   {
    "duration": 4,
    "start_time": "2022-07-19T16:23:19.742Z"
   },
   {
    "duration": 13,
    "start_time": "2022-07-19T16:23:31.622Z"
   },
   {
    "duration": 754013,
    "start_time": "2022-07-19T16:23:41.093Z"
   },
   {
    "duration": 1746,
    "start_time": "2022-07-19T17:30:43.962Z"
   },
   {
    "duration": 1677,
    "start_time": "2022-07-19T17:30:45.712Z"
   },
   {
    "duration": 11,
    "start_time": "2022-07-19T17:30:47.391Z"
   },
   {
    "duration": 93,
    "start_time": "2022-07-19T17:30:47.405Z"
   },
   {
    "duration": 15,
    "start_time": "2022-07-19T17:30:47.502Z"
   },
   {
    "duration": 2995,
    "start_time": "2022-07-19T17:30:47.519Z"
   },
   {
    "duration": 1019,
    "start_time": "2022-07-19T17:30:50.516Z"
   },
   {
    "duration": 915,
    "start_time": "2022-07-19T17:30:51.536Z"
   },
   {
    "duration": 19,
    "start_time": "2022-07-19T17:30:52.453Z"
   },
   {
    "duration": 3565,
    "start_time": "2022-07-19T17:30:52.476Z"
   },
   {
    "duration": 4,
    "start_time": "2022-07-19T17:30:56.044Z"
   },
   {
    "duration": 41,
    "start_time": "2022-07-19T17:30:56.054Z"
   },
   {
    "duration": 228,
    "start_time": "2022-07-19T17:30:56.102Z"
   },
   {
    "duration": 61,
    "start_time": "2022-07-19T17:32:21.529Z"
   },
   {
    "duration": 1545,
    "start_time": "2022-07-19T17:32:21.593Z"
   },
   {
    "duration": 8,
    "start_time": "2022-07-19T17:32:23.140Z"
   },
   {
    "duration": 75,
    "start_time": "2022-07-19T17:32:23.164Z"
   },
   {
    "duration": 15,
    "start_time": "2022-07-19T17:32:23.241Z"
   },
   {
    "duration": 2730,
    "start_time": "2022-07-19T17:32:23.263Z"
   },
   {
    "duration": 1108,
    "start_time": "2022-07-19T17:32:25.995Z"
   },
   {
    "duration": 694,
    "start_time": "2022-07-19T17:32:27.105Z"
   },
   {
    "duration": 12,
    "start_time": "2022-07-19T17:32:27.801Z"
   },
   {
    "duration": 3289,
    "start_time": "2022-07-19T17:32:27.816Z"
   },
   {
    "duration": 3,
    "start_time": "2022-07-19T17:32:31.108Z"
   },
   {
    "duration": 14,
    "start_time": "2022-07-19T17:32:31.114Z"
   },
   {
    "duration": 49,
    "start_time": "2022-07-19T17:32:36.452Z"
   },
   {
    "duration": 103,
    "start_time": "2022-07-19T17:34:49.037Z"
   },
   {
    "duration": 1696,
    "start_time": "2022-07-19T17:35:11.446Z"
   },
   {
    "duration": 1625,
    "start_time": "2022-07-19T17:35:13.144Z"
   },
   {
    "duration": 18,
    "start_time": "2022-07-19T17:35:14.770Z"
   },
   {
    "duration": 78,
    "start_time": "2022-07-19T17:35:14.791Z"
   },
   {
    "duration": 14,
    "start_time": "2022-07-19T17:35:14.874Z"
   },
   {
    "duration": 2630,
    "start_time": "2022-07-19T17:35:14.893Z"
   },
   {
    "duration": 871,
    "start_time": "2022-07-19T17:35:17.525Z"
   },
   {
    "duration": 831,
    "start_time": "2022-07-19T17:35:18.398Z"
   },
   {
    "duration": 13,
    "start_time": "2022-07-19T17:35:19.230Z"
   },
   {
    "duration": 2826,
    "start_time": "2022-07-19T17:35:19.245Z"
   },
   {
    "duration": 7,
    "start_time": "2022-07-19T17:35:22.075Z"
   },
   {
    "duration": 19,
    "start_time": "2022-07-19T17:35:22.088Z"
   },
   {
    "duration": 151,
    "start_time": "2022-07-19T17:35:31.409Z"
   },
   {
    "duration": 93,
    "start_time": "2022-07-19T17:38:17.442Z"
   },
   {
    "duration": 38,
    "start_time": "2022-07-19T17:38:33.518Z"
   },
   {
    "duration": 1516,
    "start_time": "2022-07-19T17:38:33.687Z"
   },
   {
    "duration": 10,
    "start_time": "2022-07-19T17:38:35.205Z"
   },
   {
    "duration": 83,
    "start_time": "2022-07-19T17:38:35.217Z"
   },
   {
    "duration": 13,
    "start_time": "2022-07-19T17:38:35.302Z"
   },
   {
    "duration": 2631,
    "start_time": "2022-07-19T17:38:35.318Z"
   },
   {
    "duration": 1056,
    "start_time": "2022-07-19T17:38:37.951Z"
   },
   {
    "duration": 596,
    "start_time": "2022-07-19T17:38:39.009Z"
   },
   {
    "duration": 15,
    "start_time": "2022-07-19T17:38:39.607Z"
   },
   {
    "duration": 3058,
    "start_time": "2022-07-19T17:38:39.624Z"
   },
   {
    "duration": 4,
    "start_time": "2022-07-19T17:38:42.685Z"
   },
   {
    "duration": 17,
    "start_time": "2022-07-19T17:38:42.691Z"
   },
   {
    "duration": 669570,
    "start_time": "2022-07-19T17:38:57.708Z"
   },
   {
    "duration": 5220,
    "start_time": "2022-07-19T17:50:49.380Z"
   },
   {
    "duration": 5015,
    "start_time": "2022-07-19T17:51:27.312Z"
   },
   {
    "duration": 5001,
    "start_time": "2022-07-19T17:53:12.608Z"
   },
   {
    "duration": 4999,
    "start_time": "2022-07-19T18:10:44.150Z"
   },
   {
    "duration": 5550,
    "start_time": "2022-07-19T18:14:42.088Z"
   },
   {
    "duration": 25,
    "start_time": "2022-07-19T18:24:19.321Z"
   },
   {
    "duration": 5098,
    "start_time": "2022-07-19T18:25:02.939Z"
   },
   {
    "duration": 5207,
    "start_time": "2022-07-19T18:27:36.299Z"
   },
   {
    "duration": 1910,
    "start_time": "2022-07-19T18:33:26.314Z"
   },
   {
    "duration": 1589,
    "start_time": "2022-07-19T18:33:28.226Z"
   },
   {
    "duration": 13,
    "start_time": "2022-07-19T18:33:29.816Z"
   },
   {
    "duration": 119,
    "start_time": "2022-07-19T18:33:29.832Z"
   },
   {
    "duration": 28,
    "start_time": "2022-07-19T18:33:29.953Z"
   },
   {
    "duration": 4211,
    "start_time": "2022-07-19T18:33:29.985Z"
   },
   {
    "duration": 1398,
    "start_time": "2022-07-19T18:33:34.206Z"
   },
   {
    "duration": 1044,
    "start_time": "2022-07-19T18:33:35.611Z"
   },
   {
    "duration": 33,
    "start_time": "2022-07-19T18:33:36.658Z"
   },
   {
    "duration": 3585,
    "start_time": "2022-07-19T18:33:36.700Z"
   },
   {
    "duration": 4,
    "start_time": "2022-07-19T18:33:40.290Z"
   },
   {
    "duration": 14,
    "start_time": "2022-07-19T18:33:40.299Z"
   },
   {
    "duration": 976086,
    "start_time": "2022-07-19T18:33:40.315Z"
   },
   {
    "duration": 17,
    "start_time": "2022-07-19T18:50:31.139Z"
   },
   {
    "duration": 21,
    "start_time": "2022-07-19T18:50:50.417Z"
   },
   {
    "duration": 890104,
    "start_time": "2022-07-19T18:50:56.785Z"
   },
   {
    "duration": 6298,
    "start_time": "2022-07-19T19:05:46.892Z"
   },
   {
    "duration": 2117,
    "start_time": "2022-07-20T11:04:36.925Z"
   },
   {
    "duration": 3688,
    "start_time": "2022-07-20T11:04:39.045Z"
   },
   {
    "duration": 15,
    "start_time": "2022-07-20T11:04:42.738Z"
   },
   {
    "duration": 67,
    "start_time": "2022-07-20T11:04:42.755Z"
   },
   {
    "duration": 22,
    "start_time": "2022-07-20T11:04:42.824Z"
   },
   {
    "duration": 2356,
    "start_time": "2022-07-20T11:04:42.849Z"
   },
   {
    "duration": 783,
    "start_time": "2022-07-20T11:04:45.207Z"
   },
   {
    "duration": 749,
    "start_time": "2022-07-20T11:04:45.992Z"
   },
   {
    "duration": 12,
    "start_time": "2022-07-20T11:04:46.743Z"
   },
   {
    "duration": 2934,
    "start_time": "2022-07-20T11:04:46.758Z"
   },
   {
    "duration": 4,
    "start_time": "2022-07-20T11:04:49.693Z"
   },
   {
    "duration": 12,
    "start_time": "2022-07-20T11:04:49.699Z"
   },
   {
    "duration": 780253,
    "start_time": "2022-07-20T11:04:59.811Z"
   },
   {
    "duration": 755289,
    "start_time": "2022-07-20T11:23:29.575Z"
   },
   {
    "duration": 123,
    "start_time": "2022-07-20T11:38:56.462Z"
   },
   {
    "duration": 12,
    "start_time": "2022-07-20T11:39:14.075Z"
   },
   {
    "duration": 12,
    "start_time": "2022-07-20T11:40:21.202Z"
   },
   {
    "duration": 3,
    "start_time": "2022-07-20T11:40:27.775Z"
   },
   {
    "duration": 1362,
    "start_time": "2022-07-20T11:40:29.554Z"
   },
   {
    "duration": 10,
    "start_time": "2022-07-20T11:55:18.466Z"
   },
   {
    "duration": 10,
    "start_time": "2022-07-20T11:56:10.215Z"
   },
   {
    "duration": 69,
    "start_time": "2022-07-20T11:57:11.997Z"
   },
   {
    "duration": 23,
    "start_time": "2022-07-20T11:58:50.303Z"
   },
   {
    "duration": 21,
    "start_time": "2022-07-20T12:04:22.669Z"
   },
   {
    "duration": 6,
    "start_time": "2022-07-20T12:04:52.729Z"
   },
   {
    "duration": 24,
    "start_time": "2022-07-20T12:05:01.668Z"
   },
   {
    "duration": 22,
    "start_time": "2022-07-20T12:05:18.976Z"
   },
   {
    "duration": 28,
    "start_time": "2022-07-20T12:05:36.409Z"
   },
   {
    "duration": 22,
    "start_time": "2022-07-20T12:06:48.482Z"
   },
   {
    "duration": 32,
    "start_time": "2022-07-20T12:08:06.046Z"
   },
   {
    "duration": 2,
    "start_time": "2022-07-20T12:08:09.393Z"
   },
   {
    "duration": 16,
    "start_time": "2022-07-20T12:08:11.244Z"
   },
   {
    "duration": 11,
    "start_time": "2022-07-20T12:08:59.693Z"
   },
   {
    "duration": 23,
    "start_time": "2022-07-20T12:23:06.437Z"
   },
   {
    "duration": 13,
    "start_time": "2022-07-20T12:23:31.554Z"
   },
   {
    "duration": 20,
    "start_time": "2022-07-20T12:34:11.838Z"
   },
   {
    "duration": 11,
    "start_time": "2022-07-20T12:42:01.817Z"
   },
   {
    "duration": 47,
    "start_time": "2022-07-20T15:33:29.357Z"
   },
   {
    "duration": 1722,
    "start_time": "2022-07-20T15:33:35.038Z"
   },
   {
    "duration": 3884,
    "start_time": "2022-07-20T15:33:36.762Z"
   },
   {
    "duration": 3,
    "start_time": "2022-07-20T15:33:40.648Z"
   },
   {
    "duration": 13,
    "start_time": "2022-07-20T15:33:40.653Z"
   },
   {
    "duration": 75,
    "start_time": "2022-07-20T15:33:40.667Z"
   },
   {
    "duration": 1610,
    "start_time": "2022-07-20T15:59:23.654Z"
   },
   {
    "duration": 1578,
    "start_time": "2022-07-20T15:59:25.267Z"
   },
   {
    "duration": 11,
    "start_time": "2022-07-20T15:59:26.850Z"
   },
   {
    "duration": 16,
    "start_time": "2022-07-20T15:59:26.863Z"
   },
   {
    "duration": 76,
    "start_time": "2022-07-20T15:59:26.881Z"
   },
   {
    "duration": 12,
    "start_time": "2022-07-20T15:59:26.959Z"
   },
   {
    "duration": 2686,
    "start_time": "2022-07-20T15:59:26.973Z"
   },
   {
    "duration": 881,
    "start_time": "2022-07-20T15:59:29.661Z"
   },
   {
    "duration": 780,
    "start_time": "2022-07-20T15:59:30.544Z"
   },
   {
    "duration": 20,
    "start_time": "2022-07-20T15:59:31.330Z"
   },
   {
    "duration": 3009,
    "start_time": "2022-07-20T15:59:31.351Z"
   },
   {
    "duration": 4,
    "start_time": "2022-07-20T15:59:34.362Z"
   },
   {
    "duration": 13,
    "start_time": "2022-07-20T15:59:34.368Z"
   },
   {
    "duration": 840042,
    "start_time": "2022-07-20T15:59:34.382Z"
   },
   {
    "duration": 5484,
    "start_time": "2022-07-20T16:13:34.433Z"
   },
   {
    "duration": 12,
    "start_time": "2022-07-20T16:30:00.828Z"
   },
   {
    "duration": 1724,
    "start_time": "2022-07-20T16:30:21.062Z"
   },
   {
    "duration": 1697,
    "start_time": "2022-07-20T16:30:22.788Z"
   },
   {
    "duration": 3,
    "start_time": "2022-07-20T16:30:24.487Z"
   },
   {
    "duration": 76,
    "start_time": "2022-07-20T16:30:24.492Z"
   },
   {
    "duration": 136,
    "start_time": "2022-07-20T16:30:24.570Z"
   },
   {
    "duration": 22,
    "start_time": "2022-07-20T16:30:24.708Z"
   },
   {
    "duration": 3329,
    "start_time": "2022-07-20T16:30:24.732Z"
   },
   {
    "duration": 965,
    "start_time": "2022-07-20T16:30:28.063Z"
   },
   {
    "duration": 811,
    "start_time": "2022-07-20T16:30:29.030Z"
   },
   {
    "duration": 15,
    "start_time": "2022-07-20T16:30:29.844Z"
   },
   {
    "duration": 3542,
    "start_time": "2022-07-20T16:30:29.862Z"
   },
   {
    "duration": 13,
    "start_time": "2022-07-20T16:30:33.406Z"
   },
   {
    "duration": 71,
    "start_time": "2022-07-20T16:30:33.420Z"
   },
   {
    "duration": 875867,
    "start_time": "2022-07-20T16:30:33.493Z"
   },
   {
    "duration": 6853,
    "start_time": "2022-07-20T16:45:09.409Z"
   },
   {
    "duration": 2713,
    "start_time": "2022-07-24T18:22:40.914Z"
   },
   {
    "duration": 172,
    "start_time": "2022-07-24T18:22:46.233Z"
   },
   {
    "duration": 124,
    "start_time": "2022-07-24T18:23:57.693Z"
   },
   {
    "duration": 58,
    "start_time": "2022-07-24T18:27:06.785Z"
   },
   {
    "duration": 69,
    "start_time": "2022-07-24T18:43:57.841Z"
   },
   {
    "duration": 41,
    "start_time": "2022-07-24T18:49:29.762Z"
   },
   {
    "duration": 50,
    "start_time": "2022-07-24T18:51:07.434Z"
   },
   {
    "duration": 1115,
    "start_time": "2022-07-24T18:51:16.385Z"
   },
   {
    "duration": 3248,
    "start_time": "2022-07-24T18:54:07.148Z"
   }
  ],
  "kernelspec": {
   "display_name": "Python 3 (ipykernel)",
   "language": "python",
   "name": "python3"
  },
  "language_info": {
   "codemirror_mode": {
    "name": "ipython",
    "version": 3
   },
   "file_extension": ".py",
   "mimetype": "text/x-python",
   "name": "python",
   "nbconvert_exporter": "python",
   "pygments_lexer": "ipython3",
   "version": "3.9.7"
  },
  "toc": {
   "base_numbering": 1,
   "nav_menu": {},
   "number_sections": true,
   "sideBar": true,
   "skip_h1_title": true,
   "title_cell": "Содержание",
   "title_sidebar": "Contents",
   "toc_cell": true,
   "toc_position": {
    "height": "calc(100% - 180px)",
    "left": "10px",
    "top": "150px",
    "width": "271px"
   },
   "toc_section_display": true,
   "toc_window_display": true
  }
 },
 "nbformat": 4,
 "nbformat_minor": 2
}
