{
 "cells": [
  {
   "cell_type": "markdown",
   "metadata": {},
   "source": [
    "# Защита персональных данных клиентов"
   ]
  },
  {
   "cell_type": "markdown",
   "metadata": {},
   "source": [
    "Вам нужно защитить данные клиентов страховой компании «Хоть потоп». Разработайте такой метод преобразования данных, чтобы по ним было сложно восстановить персональную информацию. Обоснуйте корректность его работы.\n",
    "\n",
    "Нужно защитить данные, чтобы при преобразовании качество моделей машинного обучения не ухудшилось. Подбирать наилучшую модель не требуется."
   ]
  },
  {
   "cell_type": "markdown",
   "metadata": {},
   "source": [
    "<h1>Содержание<span class=\"tocSkip\"></span></h1>\n",
    "<div class=\"toc\"><ul class=\"toc-item\"><li><span><a href=\"#Загрузка-данных\" data-toc-modified-id=\"Загрузка-данных-1\"><span class=\"toc-item-num\">1&nbsp;&nbsp;</span>Загрузка данных</a></span></li><li><span><a href=\"#Умножение-матриц\" data-toc-modified-id=\"Умножение-матриц-2\"><span class=\"toc-item-num\">2&nbsp;&nbsp;</span>Умножение матриц</a></span></li><li><span><a href=\"#Алгоритм-преобразования\" data-toc-modified-id=\"Алгоритм-преобразования-3\"><span class=\"toc-item-num\">3&nbsp;&nbsp;</span>Алгоритм преобразования</a></span></li><li><span><a href=\"#Проверка-алгоритма\" data-toc-modified-id=\"Проверка-алгоритма-4\"><span class=\"toc-item-num\">4&nbsp;&nbsp;</span>Проверка алгоритма</a></span></li><li><span><a href=\"#Чек-лист-проверки\" data-toc-modified-id=\"Чек-лист-проверки-5\"><span class=\"toc-item-num\">5&nbsp;&nbsp;</span>Чек-лист проверки</a></span></li></ul></div>"
   ]
  },
  {
   "cell_type": "markdown",
   "metadata": {},
   "source": [
    "## Загрузка данных"
   ]
  },
  {
   "cell_type": "code",
   "execution_count": 20,
   "metadata": {},
   "outputs": [
    {
     "data": {
      "text/html": [
       "<style>.container { width:80% !important; }</style>"
      ],
      "text/plain": [
       "<IPython.core.display.HTML object>"
      ]
     },
     "metadata": {},
     "output_type": "display_data"
    }
   ],
   "source": [
    "import pandas as pd\n",
    "import os.path\n",
    "from sklearn.linear_model import LinearRegression\n",
    "#from sklearn.model_selection import train_test_split\n",
    "#from sklearn.metrics import r2_score\n",
    "import numpy as np\n",
    "pd.set_option('display.max_rows', 100)\n",
    "pd.set_option('display.max_columns', 29)\n",
    "file_name = 'insurance.csv'\n",
    "local_path = os.path.join('C:', os.sep, 'Users', 'timpu', 'Desktop', 'Data Science(Проекты и шпаргалки)',\n",
    "                          'Проекты', '9 Золотодобыча', 'data')\n",
    "web_dir_path = os.path.join(os.sep, 'datasets' + os.sep)\n",
    "from IPython.display import display, HTML\n",
    "display(HTML(\"<style>.container { width:80% !important; }</style>\"))\n",
    "%config InlineBackend.print_figure_kwargs={'facecolor' : \"w\"}"
   ]
  },
  {
   "cell_type": "code",
   "execution_count": 21,
   "metadata": {
    "scrolled": true
   },
   "outputs": [
    {
     "name": "stdout",
     "output_type": "stream",
     "text": [
      "Общая информация о данных датасета insurance.csv:\n",
      "<class 'pandas.core.frame.DataFrame'>\n",
      "RangeIndex: 5000 entries, 0 to 4999\n",
      "Data columns (total 5 columns):\n",
      " #   Column             Non-Null Count  Dtype  \n",
      "---  ------             --------------  -----  \n",
      " 0   Пол                5000 non-null   int64  \n",
      " 1   Возраст            5000 non-null   float64\n",
      " 2   Зарплата           5000 non-null   float64\n",
      " 3   Члены семьи        5000 non-null   int64  \n",
      " 4   Страховые выплаты  5000 non-null   int64  \n",
      "dtypes: float64(2), int64(3)\n",
      "memory usage: 195.4 KB\n",
      "\n",
      "Обзор данных датасета:\n"
     ]
    },
    {
     "data": {
      "text/html": [
       "<div>\n",
       "<style scoped>\n",
       "    .dataframe tbody tr th:only-of-type {\n",
       "        vertical-align: middle;\n",
       "    }\n",
       "\n",
       "    .dataframe tbody tr th {\n",
       "        vertical-align: top;\n",
       "    }\n",
       "\n",
       "    .dataframe thead th {\n",
       "        text-align: right;\n",
       "    }\n",
       "</style>\n",
       "<table border=\"1\" class=\"dataframe\">\n",
       "  <thead>\n",
       "    <tr style=\"text-align: right;\">\n",
       "      <th></th>\n",
       "      <th>Пол</th>\n",
       "      <th>Возраст</th>\n",
       "      <th>Зарплата</th>\n",
       "      <th>Члены семьи</th>\n",
       "      <th>Страховые выплаты</th>\n",
       "    </tr>\n",
       "  </thead>\n",
       "  <tbody>\n",
       "    <tr>\n",
       "      <th>0</th>\n",
       "      <td>1</td>\n",
       "      <td>41.0</td>\n",
       "      <td>49600.0</td>\n",
       "      <td>1</td>\n",
       "      <td>0</td>\n",
       "    </tr>\n",
       "    <tr>\n",
       "      <th>1</th>\n",
       "      <td>0</td>\n",
       "      <td>46.0</td>\n",
       "      <td>38000.0</td>\n",
       "      <td>1</td>\n",
       "      <td>1</td>\n",
       "    </tr>\n",
       "    <tr>\n",
       "      <th>2</th>\n",
       "      <td>0</td>\n",
       "      <td>29.0</td>\n",
       "      <td>21000.0</td>\n",
       "      <td>0</td>\n",
       "      <td>0</td>\n",
       "    </tr>\n",
       "    <tr>\n",
       "      <th>3</th>\n",
       "      <td>0</td>\n",
       "      <td>21.0</td>\n",
       "      <td>41700.0</td>\n",
       "      <td>2</td>\n",
       "      <td>0</td>\n",
       "    </tr>\n",
       "    <tr>\n",
       "      <th>4</th>\n",
       "      <td>1</td>\n",
       "      <td>28.0</td>\n",
       "      <td>26100.0</td>\n",
       "      <td>0</td>\n",
       "      <td>0</td>\n",
       "    </tr>\n",
       "    <tr>\n",
       "      <th>...</th>\n",
       "      <td>...</td>\n",
       "      <td>...</td>\n",
       "      <td>...</td>\n",
       "      <td>...</td>\n",
       "      <td>...</td>\n",
       "    </tr>\n",
       "    <tr>\n",
       "      <th>4995</th>\n",
       "      <td>0</td>\n",
       "      <td>28.0</td>\n",
       "      <td>35700.0</td>\n",
       "      <td>2</td>\n",
       "      <td>0</td>\n",
       "    </tr>\n",
       "    <tr>\n",
       "      <th>4996</th>\n",
       "      <td>0</td>\n",
       "      <td>34.0</td>\n",
       "      <td>52400.0</td>\n",
       "      <td>1</td>\n",
       "      <td>0</td>\n",
       "    </tr>\n",
       "    <tr>\n",
       "      <th>4997</th>\n",
       "      <td>0</td>\n",
       "      <td>20.0</td>\n",
       "      <td>33900.0</td>\n",
       "      <td>2</td>\n",
       "      <td>0</td>\n",
       "    </tr>\n",
       "    <tr>\n",
       "      <th>4998</th>\n",
       "      <td>1</td>\n",
       "      <td>22.0</td>\n",
       "      <td>32700.0</td>\n",
       "      <td>3</td>\n",
       "      <td>0</td>\n",
       "    </tr>\n",
       "    <tr>\n",
       "      <th>4999</th>\n",
       "      <td>1</td>\n",
       "      <td>28.0</td>\n",
       "      <td>40600.0</td>\n",
       "      <td>1</td>\n",
       "      <td>0</td>\n",
       "    </tr>\n",
       "  </tbody>\n",
       "</table>\n",
       "<p>5000 rows × 5 columns</p>\n",
       "</div>"
      ],
      "text/plain": [
       "      Пол  Возраст  Зарплата  Члены семьи  Страховые выплаты\n",
       "0       1     41.0   49600.0            1                  0\n",
       "1       0     46.0   38000.0            1                  1\n",
       "2       0     29.0   21000.0            0                  0\n",
       "3       0     21.0   41700.0            2                  0\n",
       "4       1     28.0   26100.0            0                  0\n",
       "...   ...      ...       ...          ...                ...\n",
       "4995    0     28.0   35700.0            2                  0\n",
       "4996    0     34.0   52400.0            1                  0\n",
       "4997    0     20.0   33900.0            2                  0\n",
       "4998    1     22.0   32700.0            3                  0\n",
       "4999    1     28.0   40600.0            1                  0\n",
       "\n",
       "[5000 rows x 5 columns]"
      ]
     },
     "metadata": {},
     "output_type": "display_data"
    },
    {
     "name": "stdout",
     "output_type": "stream",
     "text": [
      "Минимальные значения в данных датасета insurance.csv:\n",
      "Пол                     0.0\n",
      "Возраст                18.0\n",
      "Зарплата             5300.0\n",
      "Члены семьи             0.0\n",
      "Страховые выплаты       0.0\n",
      "dtype: float64 \n",
      "\n",
      "Максимальные значения в данных датасета insurance.csv:\n",
      "Пол                      1.0\n",
      "Возраст                 65.0\n",
      "Зарплата             79000.0\n",
      "Члены семьи              6.0\n",
      "Страховые выплаты        5.0\n",
      "dtype: float64 \n",
      "\n",
      "Количество дубликатов в данных датасета insurance.csv:\n",
      "153 \n",
      "\n",
      "Колонки с пропущенными значениями в данных датасета insurance.csv:\n",
      "\n",
      "Пол                  0\n",
      "Возраст              0\n",
      "Зарплата             0\n",
      "Члены семьи          0\n",
      "Страховые выплаты    0\n",
      "dtype: int64 \n",
      "\n",
      "Параметры распределения данных в колонках датасета insurance.csv:\n",
      "\n",
      "               Пол      Возраст      Зарплата  Члены семьи  Страховые выплаты\n",
      "count  5000.000000  5000.000000   5000.000000  5000.000000        5000.000000\n",
      "mean      0.499000    30.952800  39916.360000     1.194200           0.148000\n",
      "std       0.500049     8.440807   9900.083569     1.091387           0.463183\n",
      "min       0.000000    18.000000   5300.000000     0.000000           0.000000\n",
      "25%       0.000000    24.000000  33300.000000     0.000000           0.000000\n",
      "50%       0.000000    30.000000  40200.000000     1.000000           0.000000\n",
      "75%       1.000000    37.000000  46600.000000     2.000000           0.000000\n",
      "max       1.000000    65.000000  79000.000000     6.000000           5.000000 \n",
      "\n",
      "Корреляция колонок в данных датасета insurance.csv:\n",
      "\n",
      "                        Пол   Возраст  Зарплата  Члены семьи  \\\n",
      "Пол                1.000000  0.002074  0.014910    -0.008991   \n",
      "Возраст            0.002074  1.000000 -0.019093    -0.006692   \n",
      "Зарплата           0.014910 -0.019093  1.000000    -0.030296   \n",
      "Члены семьи       -0.008991 -0.006692 -0.030296     1.000000   \n",
      "Страховые выплаты  0.010140  0.651030 -0.014963    -0.036290   \n",
      "\n",
      "                   Страховые выплаты  \n",
      "Пол                         0.010140  \n",
      "Возраст                     0.651030  \n",
      "Зарплата                   -0.014963  \n",
      "Члены семьи                -0.036290  \n",
      "Страховые выплаты           1.000000  \n"
     ]
    }
   ],
   "source": [
    "try:\n",
    "    data_full  = pd.read_csv(web_dir_path + file_name)\n",
    "except FileNotFoundError:\n",
    "    data_full = pd.read_csv(local_path + file_name)\n",
    "else:\n",
    "    print(f'Общая информация о данных датасета ', file_name, ':', sep='')\n",
    "    data_full.info()\n",
    "    print(f'\\nОбзор данных датасета:', sep='')\n",
    "    display(data_full)\n",
    "    print(f'Минимальные значения в данных датасета ', file_name, ':', sep='')\n",
    "    print(data_full.min(), '\\n')\n",
    "    print(f'Максимальные значения в данных датасета ', file_name, ':', sep='')\n",
    "    print(data_full.max(), '\\n')\n",
    "    print(f'Количество дубликатов в данных датасета ', file_name, ':', sep='')\n",
    "    print(data_full.duplicated().sum(), '\\n')\n",
    "    print(f'Колонки с пропущенными значениями в данных датасета ', file_name, ':\\n', sep='')\n",
    "    print(data_full.isna().sum(), '\\n')\n",
    "    print(f'Параметры распределения данных в колонках датасета ', file_name, ':\\n', sep='')\n",
    "    print(data_full.describe(), '\\n')\n",
    "    print(f'Корреляция колонок в данных датасета ', file_name, ':\\n', sep='')\n",
    "    print(data_full.corr())"
   ]
  },
  {
   "cell_type": "markdown",
   "metadata": {},
   "source": [
    "## Умножение матриц"
   ]
  },
  {
   "cell_type": "code",
   "execution_count": 22,
   "metadata": {},
   "outputs": [],
   "source": [
    "def X_modified(X, seed=12345):\n",
    "    try:\n",
    "        state = np.random.RandomState(seed=seed)\n",
    "        rand_matrix = state.normal(size=(X.shape[1], X.shape[1])) # Квадратная матрица P\n",
    "        inv = np.linalg.inv(rand_matrix) # Проверка на обратимость\n",
    "        x_modified = X @ rand_matrix # Умножаем признаки на обратимую матрицу\n",
    "        return x_modified, inv\n",
    "    except np.linalg.LinAlgError:\n",
    "        X_modified(X, seed+seed) # Если возникла ошибка, заново запускаем нашу функцию"
   ]
  },
  {
   "cell_type": "code",
   "execution_count": 23,
   "metadata": {},
   "outputs": [
    {
     "name": "stdout",
     "output_type": "stream",
     "text": [
      "R2 по признакам исходной выборки:\n",
      " 0.4249455028666801\n",
      "\n",
      "R2 по преобразованным умножением на обратимую матрицу признакам:\n",
      " 0.42494550286667687\n"
     ]
    }
   ],
   "source": [
    "features = data_full.drop('Страховые выплаты', axis=1) \n",
    "target = data_full['Страховые выплаты']\n",
    "\n",
    "features_new, inv_P = X_modified(features)\n",
    "model = LinearRegression()\n",
    "model.fit(features, target)\n",
    "print('R2 по признакам исходной выборки:\\n', model.score(features, target))\n",
    "model.fit(features_new, target)\n",
    "print('\\nR2 по преобразованным умножением на обратимую матрицу признакам:\\n', model.score(features_new, target))"
   ]
  },
  {
   "cell_type": "markdown",
   "metadata": {},
   "source": [
    "**Вывод**   \n",
    "Экспериментально подтверждается ответ на вопрос задачи - качество модели линейной регрессии не меняется при умножении матрицы признаков обучения модели на обратимую матрицу. То есть такой метод кодирования персональных данных может применяться в практике работы страховой компании \"Хоть потоп\". Далее проведём матемитические действия с формулами, которые обоснуют вывод о сохранении качества модели при применнии такого способа кодирования."
   ]
  },
  {
   "cell_type": "markdown",
   "metadata": {},
   "source": [
    "Обозначения:\n",
    "\n",
    "- $X$ — матрица признаков (нулевой столбец состоит из единиц)\n",
    "\n",
    "- $y$ — вектор целевого признака\n",
    "\n",
    "- $P$ — матрица, на которую умножаются признаки\n",
    "\n",
    "- $w$ — вектор весов линейной регрессии (нулевой элемент равен сдвигу)\n",
    "\n",
    "Основные формулы преобразования матриц:   \n",
    "\n",
    "$(AB)^T = B^T A^T$   \n",
    "$(AB)^{-1} = B^{-1} A^{-1}$   \n",
    "$AA^{-1} = A^{-1}A = E$   \n",
    "$AE = EA = A$"
   ]
  },
  {
   "cell_type": "markdown",
   "metadata": {},
   "source": [
    "Предсказания:\n",
    "\n",
    "$$\n",
    "a = Xw\n",
    "$$\n",
    "\n",
    "Задача обучения:\n",
    "\n",
    "$$\n",
    "w = \\arg\\min_w MSE(Xw, y)\n",
    "$$"
   ]
  },
  {
   "cell_type": "markdown",
   "metadata": {},
   "source": [
    "Формула расчёта параметра модели линейной регрессии w (веса) для получения минимальной MSE выглядит следующим образом:   \n",
    "\n",
    "$$w = (X^T\\bullet X)^{-1}\\bullet X^T\\bullet y$$"
   ]
  },
  {
   "cell_type": "markdown",
   "metadata": {},
   "source": [
    "По условиям задачи изменим указанную формулу в соотвествии с поставленной задачей, когда исходная матрица умножается на обратимую - P:\n",
    "$$a = X\\bullet P\\bullet w $$   \n",
    "\n",
    "$$w_1 = ((X\\bullet P)^T \\bullet (X \\bullet P))^{-1}\\bullet (X\\bullet P)^T \\bullet y$$"
   ]
  },
  {
   "cell_type": "markdown",
   "metadata": {},
   "source": [
    "Транспонированное произведение матриц равно произведению транспонированных матриц, взятых в обратном порядке, поэтому получаем следующую формулу:\n",
    "$$w_1 = (P^T\\bullet X^T \\bullet X \\bullet P)^{-1}\\bullet P^T\\bullet X^T \\bullet y$$"
   ]
  },
  {
   "cell_type": "markdown",
   "metadata": {},
   "source": [
    "Применим правило преобразования по формуле $(AB)^{-1} = B^{-1} A^{-1}$, поэтому получим следующую формулу:\n",
    "\n",
    "$$w_1 = P^{-1}\\bullet(P^{T}\\bullet X^{T} \\bullet X)^{-1}\\bullet P^{T} \\bullet X^{T}\\bullet y$$\n",
    "\n",
    "$$w_1 = P^{-1}\\bullet(X^{T} \\bullet X)^{-1}\\bullet P^{T-1} \\bullet P^{T} \\bullet X^{T}\\bullet y$$"
   ]
  },
  {
   "cell_type": "markdown",
   "metadata": {},
   "source": [
    "Применим правило преобразования по формуле $AA^{-1} = A^{-1}A = E$,тогда формула предсказаний будет выглядеть следующим образом:"
   ]
  },
  {
   "cell_type": "markdown",
   "metadata": {},
   "source": [
    "$$a_1 = X\\bullet P\\bullet P^{-1}\\bullet(X^{T} \\bullet X)^{-1}\\bullet P^{T-1} \\bullet P^{T} \\bullet X^{T}\\bullet y$$\n",
    "\n",
    "$$a_1 = X\\bullet (X^{T} \\bullet X)^{-1}\\bullet X^{T}\\bullet y = Xw = a$$"
   ]
  },
  {
   "cell_type": "markdown",
   "metadata": {},
   "source": [
    "Что и требовалось доказать.   \n",
    "\n",
    "**Вывод**   \n",
    "Математически доказано, что результат предсказаний не изменяется при умножении признаков на обратимую матрицу."
   ]
  },
  {
   "cell_type": "markdown",
   "metadata": {},
   "source": [
    "## Алгоритм преобразования"
   ]
  },
  {
   "cell_type": "code",
   "execution_count": 24,
   "metadata": {
    "scrolled": true
   },
   "outputs": [
    {
     "data": {
      "text/html": [
       "<div>\n",
       "<style scoped>\n",
       "    .dataframe tbody tr th:only-of-type {\n",
       "        vertical-align: middle;\n",
       "    }\n",
       "\n",
       "    .dataframe tbody tr th {\n",
       "        vertical-align: top;\n",
       "    }\n",
       "\n",
       "    .dataframe thead th {\n",
       "        text-align: right;\n",
       "    }\n",
       "</style>\n",
       "<table border=\"1\" class=\"dataframe\">\n",
       "  <thead>\n",
       "    <tr style=\"text-align: right;\">\n",
       "      <th></th>\n",
       "      <th>Пол</th>\n",
       "      <th>Возраст</th>\n",
       "      <th>Зарплата</th>\n",
       "      <th>Члены семьи</th>\n",
       "    </tr>\n",
       "  </thead>\n",
       "  <tbody>\n",
       "    <tr>\n",
       "      <th>0</th>\n",
       "      <td>1</td>\n",
       "      <td>41.0</td>\n",
       "      <td>49600.0</td>\n",
       "      <td>1</td>\n",
       "    </tr>\n",
       "    <tr>\n",
       "      <th>1</th>\n",
       "      <td>0</td>\n",
       "      <td>46.0</td>\n",
       "      <td>38000.0</td>\n",
       "      <td>1</td>\n",
       "    </tr>\n",
       "    <tr>\n",
       "      <th>2</th>\n",
       "      <td>0</td>\n",
       "      <td>29.0</td>\n",
       "      <td>21000.0</td>\n",
       "      <td>0</td>\n",
       "    </tr>\n",
       "    <tr>\n",
       "      <th>3</th>\n",
       "      <td>0</td>\n",
       "      <td>21.0</td>\n",
       "      <td>41700.0</td>\n",
       "      <td>2</td>\n",
       "    </tr>\n",
       "    <tr>\n",
       "      <th>4</th>\n",
       "      <td>1</td>\n",
       "      <td>28.0</td>\n",
       "      <td>26100.0</td>\n",
       "      <td>0</td>\n",
       "    </tr>\n",
       "    <tr>\n",
       "      <th>...</th>\n",
       "      <td>...</td>\n",
       "      <td>...</td>\n",
       "      <td>...</td>\n",
       "      <td>...</td>\n",
       "    </tr>\n",
       "    <tr>\n",
       "      <th>4995</th>\n",
       "      <td>0</td>\n",
       "      <td>28.0</td>\n",
       "      <td>35700.0</td>\n",
       "      <td>2</td>\n",
       "    </tr>\n",
       "    <tr>\n",
       "      <th>4996</th>\n",
       "      <td>0</td>\n",
       "      <td>34.0</td>\n",
       "      <td>52400.0</td>\n",
       "      <td>1</td>\n",
       "    </tr>\n",
       "    <tr>\n",
       "      <th>4997</th>\n",
       "      <td>0</td>\n",
       "      <td>20.0</td>\n",
       "      <td>33900.0</td>\n",
       "      <td>2</td>\n",
       "    </tr>\n",
       "    <tr>\n",
       "      <th>4998</th>\n",
       "      <td>1</td>\n",
       "      <td>22.0</td>\n",
       "      <td>32700.0</td>\n",
       "      <td>3</td>\n",
       "    </tr>\n",
       "    <tr>\n",
       "      <th>4999</th>\n",
       "      <td>1</td>\n",
       "      <td>28.0</td>\n",
       "      <td>40600.0</td>\n",
       "      <td>1</td>\n",
       "    </tr>\n",
       "  </tbody>\n",
       "</table>\n",
       "<p>5000 rows × 4 columns</p>\n",
       "</div>"
      ],
      "text/plain": [
       "      Пол  Возраст  Зарплата  Члены семьи\n",
       "0       1     41.0   49600.0            1\n",
       "1       0     46.0   38000.0            1\n",
       "2       0     29.0   21000.0            0\n",
       "3       0     21.0   41700.0            2\n",
       "4       1     28.0   26100.0            0\n",
       "...   ...      ...       ...          ...\n",
       "4995    0     28.0   35700.0            2\n",
       "4996    0     34.0   52400.0            1\n",
       "4997    0     20.0   33900.0            2\n",
       "4998    1     22.0   32700.0            3\n",
       "4999    1     28.0   40600.0            1\n",
       "\n",
       "[5000 rows x 4 columns]"
      ]
     },
     "metadata": {},
     "output_type": "display_data"
    },
    {
     "data": {
      "text/html": [
       "<div>\n",
       "<style scoped>\n",
       "    .dataframe tbody tr th:only-of-type {\n",
       "        vertical-align: middle;\n",
       "    }\n",
       "\n",
       "    .dataframe tbody tr th {\n",
       "        vertical-align: top;\n",
       "    }\n",
       "\n",
       "    .dataframe thead th {\n",
       "        text-align: right;\n",
       "    }\n",
       "</style>\n",
       "<table border=\"1\" class=\"dataframe\">\n",
       "  <thead>\n",
       "    <tr style=\"text-align: right;\">\n",
       "      <th></th>\n",
       "      <th>0</th>\n",
       "      <th>1</th>\n",
       "      <th>2</th>\n",
       "      <th>3</th>\n",
       "    </tr>\n",
       "  </thead>\n",
       "  <tbody>\n",
       "    <tr>\n",
       "      <th>0</th>\n",
       "      <td>38224.186641</td>\n",
       "      <td>61881.000420</td>\n",
       "      <td>49961.234837</td>\n",
       "      <td>-64280.684721</td>\n",
       "    </tr>\n",
       "    <tr>\n",
       "      <th>1</th>\n",
       "      <td>29313.558467</td>\n",
       "      <td>47428.845564</td>\n",
       "      <td>38278.822267</td>\n",
       "      <td>-49242.555394</td>\n",
       "    </tr>\n",
       "    <tr>\n",
       "      <th>2</th>\n",
       "      <td>16206.481556</td>\n",
       "      <td>26215.538233</td>\n",
       "      <td>21153.670838</td>\n",
       "      <td>-27212.472653</td>\n",
       "    </tr>\n",
       "    <tr>\n",
       "      <th>3</th>\n",
       "      <td>32110.072445</td>\n",
       "      <td>52006.047856</td>\n",
       "      <td>42004.453110</td>\n",
       "      <td>-54044.730722</td>\n",
       "    </tr>\n",
       "    <tr>\n",
       "      <th>4</th>\n",
       "      <td>20126.326163</td>\n",
       "      <td>32571.440926</td>\n",
       "      <td>26289.724215</td>\n",
       "      <td>-33824.037786</td>\n",
       "    </tr>\n",
       "    <tr>\n",
       "      <th>...</th>\n",
       "      <td>...</td>\n",
       "      <td>...</td>\n",
       "      <td>...</td>\n",
       "      <td>...</td>\n",
       "    </tr>\n",
       "    <tr>\n",
       "      <th>4995</th>\n",
       "      <td>27509.697503</td>\n",
       "      <td>44537.193278</td>\n",
       "      <td>35961.967320</td>\n",
       "      <td>-46265.431844</td>\n",
       "    </tr>\n",
       "    <tr>\n",
       "      <th>4996</th>\n",
       "      <td>40363.894074</td>\n",
       "      <td>65360.784898</td>\n",
       "      <td>52781.234122</td>\n",
       "      <td>-67911.520319</td>\n",
       "    </tr>\n",
       "    <tr>\n",
       "      <th>4997</th>\n",
       "      <td>26109.730637</td>\n",
       "      <td>42282.463506</td>\n",
       "      <td>34148.283213</td>\n",
       "      <td>-43934.487817</td>\n",
       "    </tr>\n",
       "    <tr>\n",
       "      <th>4998</th>\n",
       "      <td>25190.905401</td>\n",
       "      <td>40790.236490</td>\n",
       "      <td>32940.675278</td>\n",
       "      <td>-42378.128295</td>\n",
       "    </tr>\n",
       "    <tr>\n",
       "      <th>4999</th>\n",
       "      <td>31277.428385</td>\n",
       "      <td>50644.973517</td>\n",
       "      <td>40895.322817</td>\n",
       "      <td>-52618.357439</td>\n",
       "    </tr>\n",
       "  </tbody>\n",
       "</table>\n",
       "<p>5000 rows × 4 columns</p>\n",
       "</div>"
      ],
      "text/plain": [
       "                 0             1             2             3\n",
       "0     38224.186641  61881.000420  49961.234837 -64280.684721\n",
       "1     29313.558467  47428.845564  38278.822267 -49242.555394\n",
       "2     16206.481556  26215.538233  21153.670838 -27212.472653\n",
       "3     32110.072445  52006.047856  42004.453110 -54044.730722\n",
       "4     20126.326163  32571.440926  26289.724215 -33824.037786\n",
       "...            ...           ...           ...           ...\n",
       "4995  27509.697503  44537.193278  35961.967320 -46265.431844\n",
       "4996  40363.894074  65360.784898  52781.234122 -67911.520319\n",
       "4997  26109.730637  42282.463506  34148.283213 -43934.487817\n",
       "4998  25190.905401  40790.236490  32940.675278 -42378.128295\n",
       "4999  31277.428385  50644.973517  40895.322817 -52618.357439\n",
       "\n",
       "[5000 rows x 4 columns]"
      ]
     },
     "metadata": {},
     "output_type": "display_data"
    },
    {
     "data": {
      "text/plain": [
       "array([[-1.31136747,  0.3921804 ,  0.18868055, -0.67088287],\n",
       "       [ 1.75872714,  0.14106138, -0.17773045,  0.79787127],\n",
       "       [-0.41702659, -0.22854768,  0.3550602 ,  0.33039819],\n",
       "       [ 0.58912996,  0.19073027, -0.5545481 ,  0.6259302 ]])"
      ]
     },
     "execution_count": 24,
     "metadata": {},
     "output_type": "execute_result"
    }
   ],
   "source": [
    "display(features)\n",
    "display(features_new)\n",
    "inv_P"
   ]
  },
  {
   "cell_type": "markdown",
   "metadata": {},
   "source": [
    "**Вывод**   \n",
    "Мы сделали преобразование признаков таким образом, что полученные значения признаков теперь не представляются возможным для анализа и восприятия человеком, они закодированы. Теперь эти признаки можно отправить внешним пользователям для использования для предсказаний линейной регрессией без риска быть раскрытыми и использованными во вред отправителю."
   ]
  },
  {
   "cell_type": "markdown",
   "metadata": {},
   "source": [
    "**Алгоритм**\n",
    "1. Возьмём исходные признаки датасета и обучим на них модель линейной регрессии. Получим предсказания и посчитаем метрику R2.\n",
    "2. Преобразуем признаки умножением на случайную квадратную обратимую матрицу.\n",
    "3. Обучим модель линейной регрессии на преобразованных данных и проверим метрику R2.\n",
    "4. Убедимся, что метрики R2 до и после преобразования совпадают или близки до разности равной погрешности вычислений и хранения данных.\n",
    "5. Примем даннный алгоритм для использования при направлении данных внешним пользователям, так как результаты использования линейной регрессии на исходных и преобразованных данных не отличаются."
   ]
  },
  {
   "cell_type": "markdown",
   "metadata": {},
   "source": [
    "**Обоснование**\n",
    "Мы использвали случайную матрицу умножения, что значительно усложняет подбор и дешифровку, также математически доказали равенство результатов до и после преобразования признаков, что подтверждает применимость алгоритма при направлении данных внешним пользователям."
   ]
  },
  {
   "cell_type": "markdown",
   "metadata": {},
   "source": [
    "## Проверка алгоритма"
   ]
  },
  {
   "cell_type": "code",
   "execution_count": 27,
   "metadata": {},
   "outputs": [
    {
     "name": "stdout",
     "output_type": "stream",
     "text": [
      "R2 по признакам исходной выборки признаков:\n",
      " 0.4249455028666801\n",
      "\n",
      "R2 по преобразованным умножением на обратимую матрицу признакам:\n",
      " 0.42494550286667687\n"
     ]
    }
   ],
   "source": [
    "model = LinearRegression()\n",
    "model.fit(features, target)\n",
    "print('R2 по признакам исходной выборки признаков:\\n', model.score(features, target))\n",
    "model.fit(features_new, target)\n",
    "print('\\nR2 по преобразованным умножением на обратимую матрицу признакам:\\n', model.score(features_new, target))"
   ]
  },
  {
   "cell_type": "markdown",
   "metadata": {},
   "source": [
    "**Общий вывод**   \n",
    "Нами проведено исследовавние и получены данные о практической применимости преобразования признаков для обучения линейной регрессии умножением их матрицы на случайную квадратную обратимую матрицу. Исследование показало математическую верность такого подхода по результатам доказывания с использованием формул математических преобразований матриц и подтверждено экспериментальными расчётами на датасете страховой компании \"Хоть потоп\", случаность использованной матрицы множителя исходных признаков датасета для целей кодирования является средством противодействия подбору ключа для восстановления исходных признаков датасета. Алгоритм может применяться при организации доступа к данным внешним пользоватлелям с ограниченным допуском к конфиденциальной информации о признаках датасета, используемого в работе страховой компании \"Хоть потоп\"."
   ]
  },
  {
   "cell_type": "markdown",
   "metadata": {},
   "source": [
    "## Чек-лист проверки"
   ]
  },
  {
   "cell_type": "markdown",
   "metadata": {},
   "source": [
    "Поставьте 'x' в выполненных пунктах. Далее нажмите Shift+Enter."
   ]
  },
  {
   "cell_type": "markdown",
   "metadata": {},
   "source": [
    "- [x]  Jupyter Notebook открыт\n",
    "- [x]  Весь код выполняется без ошибок\n",
    "- [x]  Ячейки с кодом расположены в порядке исполнения\n",
    "- [x]  Выполнен шаг 1: данные загружены\n",
    "- [x]  Выполнен шаг 2: получен ответ на вопрос об умножении матриц\n",
    "    - [x]  Указан правильный вариант ответа\n",
    "    - [x]  Вариант обоснован\n",
    "- [x]  Выполнен шаг 3: предложен алгоритм преобразования\n",
    "    - [x]  Алгоритм описан\n",
    "    - [x]  Алгоритм обоснован\n",
    "- [x]  Выполнен шаг 4: алгоритм проверен\n",
    "    - [x]  Алгоритм реализован\n",
    "    - [x]  Проведено сравнение качества моделей до и после преобразования"
   ]
  }
 ],
 "metadata": {
  "ExecuteTimeLog": [
   {
    "duration": 1564,
    "start_time": "2022-07-24T18:58:13.661Z"
   },
   {
    "duration": 78,
    "start_time": "2022-07-24T18:58:15.227Z"
   },
   {
    "duration": 122,
    "start_time": "2022-07-24T20:16:13.839Z"
   },
   {
    "duration": 69,
    "start_time": "2022-07-24T21:06:44.462Z"
   },
   {
    "duration": 24,
    "start_time": "2022-07-24T21:07:42.903Z"
   },
   {
    "duration": 53,
    "start_time": "2022-07-24T21:08:56.571Z"
   },
   {
    "duration": 154,
    "start_time": "2022-07-24T21:09:38.586Z"
   },
   {
    "duration": 201,
    "start_time": "2022-07-24T21:09:57.728Z"
   },
   {
    "duration": 117,
    "start_time": "2022-07-24T21:26:31.611Z"
   },
   {
    "duration": 68,
    "start_time": "2022-07-24T21:28:01.963Z"
   },
   {
    "duration": 99,
    "start_time": "2022-07-24T21:28:11.738Z"
   },
   {
    "duration": 95,
    "start_time": "2022-07-24T21:28:31.227Z"
   },
   {
    "duration": 92,
    "start_time": "2022-07-24T21:33:22.740Z"
   },
   {
    "duration": 22,
    "start_time": "2022-07-24T21:33:42.022Z"
   },
   {
    "duration": 201,
    "start_time": "2022-07-24T22:52:19.222Z"
   },
   {
    "duration": 229,
    "start_time": "2022-07-24T23:18:42.399Z"
   },
   {
    "duration": 53,
    "start_time": "2022-07-24T23:19:22.683Z"
   },
   {
    "duration": 201,
    "start_time": "2022-07-25T00:48:49.631Z"
   },
   {
    "duration": 1383,
    "start_time": "2022-07-25T10:35:02.796Z"
   },
   {
    "duration": 122,
    "start_time": "2022-07-25T10:35:04.183Z"
   },
   {
    "duration": 3,
    "start_time": "2022-07-25T10:35:04.306Z"
   },
   {
    "duration": 63,
    "start_time": "2022-07-25T10:35:04.311Z"
   },
   {
    "duration": 30,
    "start_time": "2022-07-25T10:37:07.674Z"
   },
   {
    "duration": 25,
    "start_time": "2022-07-25T10:45:29.635Z"
   },
   {
    "duration": 16,
    "start_time": "2022-07-25T10:45:44.317Z"
   },
   {
    "duration": 21,
    "start_time": "2022-07-25T11:00:42.613Z"
   },
   {
    "duration": 41,
    "start_time": "2022-07-25T19:42:23.274Z"
   },
   {
    "duration": 183,
    "start_time": "2022-07-25T20:05:03.789Z"
   },
   {
    "duration": 7,
    "start_time": "2022-07-25T20:05:47.159Z"
   },
   {
    "duration": 115,
    "start_time": "2022-07-25T20:06:06.454Z"
   },
   {
    "duration": 8,
    "start_time": "2022-07-25T20:06:12.076Z"
   },
   {
    "duration": 5,
    "start_time": "2022-07-25T20:06:21.915Z"
   },
   {
    "duration": 374,
    "start_time": "2022-07-25T20:08:32.742Z"
   },
   {
    "duration": 6,
    "start_time": "2022-07-25T20:09:03.687Z"
   },
   {
    "duration": 6,
    "start_time": "2022-07-25T20:09:16.852Z"
   },
   {
    "duration": 7,
    "start_time": "2022-07-25T20:09:24.920Z"
   },
   {
    "duration": 7,
    "start_time": "2022-07-25T20:09:34.453Z"
   },
   {
    "duration": 8,
    "start_time": "2022-07-25T20:10:13.469Z"
   },
   {
    "duration": 7,
    "start_time": "2022-07-25T20:10:25.722Z"
   },
   {
    "duration": 7,
    "start_time": "2022-07-25T20:10:33.758Z"
   },
   {
    "duration": 6,
    "start_time": "2022-07-25T20:10:40.191Z"
   },
   {
    "duration": 7,
    "start_time": "2022-07-25T20:10:48.714Z"
   },
   {
    "duration": 10,
    "start_time": "2022-07-25T20:11:07.641Z"
   },
   {
    "duration": 6,
    "start_time": "2022-07-25T20:11:10.272Z"
   },
   {
    "duration": 6,
    "start_time": "2022-07-25T20:11:13.541Z"
   },
   {
    "duration": 5,
    "start_time": "2022-07-25T20:12:13.433Z"
   },
   {
    "duration": 6,
    "start_time": "2022-07-25T20:12:16.893Z"
   },
   {
    "duration": 5,
    "start_time": "2022-07-25T20:12:19.549Z"
   },
   {
    "duration": 4,
    "start_time": "2022-07-25T20:12:24.685Z"
   },
   {
    "duration": 7,
    "start_time": "2022-07-25T20:13:48.872Z"
   },
   {
    "duration": 5,
    "start_time": "2022-07-25T20:13:52.463Z"
   },
   {
    "duration": 6,
    "start_time": "2022-07-25T20:13:53.687Z"
   },
   {
    "duration": 5,
    "start_time": "2022-07-25T20:13:53.820Z"
   },
   {
    "duration": 5,
    "start_time": "2022-07-25T20:13:54.806Z"
   },
   {
    "duration": 6,
    "start_time": "2022-07-25T20:13:55.098Z"
   },
   {
    "duration": 6,
    "start_time": "2022-07-25T20:13:55.275Z"
   },
   {
    "duration": 5,
    "start_time": "2022-07-25T20:13:55.459Z"
   },
   {
    "duration": 6,
    "start_time": "2022-07-25T20:13:55.648Z"
   },
   {
    "duration": 6,
    "start_time": "2022-07-25T20:13:55.787Z"
   },
   {
    "duration": 5,
    "start_time": "2022-07-25T20:13:55.969Z"
   },
   {
    "duration": 6,
    "start_time": "2022-07-25T20:13:56.155Z"
   },
   {
    "duration": 6,
    "start_time": "2022-07-25T20:13:56.269Z"
   },
   {
    "duration": 3,
    "start_time": "2022-07-25T20:14:55.878Z"
   },
   {
    "duration": 1259,
    "start_time": "2022-07-25T20:15:24.455Z"
   },
   {
    "duration": 110,
    "start_time": "2022-07-25T20:15:25.716Z"
   },
   {
    "duration": 51,
    "start_time": "2022-07-25T20:15:31.156Z"
   },
   {
    "duration": 58,
    "start_time": "2022-07-25T20:15:40.875Z"
   },
   {
    "duration": 52,
    "start_time": "2022-07-25T20:15:40.935Z"
   },
   {
    "duration": 11,
    "start_time": "2022-07-25T20:16:07.780Z"
   },
   {
    "duration": 10,
    "start_time": "2022-07-25T20:16:51.159Z"
   },
   {
    "duration": 10,
    "start_time": "2022-07-25T20:16:55.818Z"
   },
   {
    "duration": 9,
    "start_time": "2022-07-25T20:16:57.086Z"
   },
   {
    "duration": 9,
    "start_time": "2022-07-25T20:16:58.014Z"
   },
   {
    "duration": 10,
    "start_time": "2022-07-25T20:16:58.896Z"
   },
   {
    "duration": 10,
    "start_time": "2022-07-25T20:16:59.588Z"
   },
   {
    "duration": 10,
    "start_time": "2022-07-25T20:17:00.291Z"
   },
   {
    "duration": 10,
    "start_time": "2022-07-25T20:17:28.899Z"
   },
   {
    "duration": 4,
    "start_time": "2022-07-25T20:18:12.498Z"
   },
   {
    "duration": 13,
    "start_time": "2022-07-25T20:18:15.171Z"
   },
   {
    "duration": 10,
    "start_time": "2022-07-25T20:18:43.097Z"
   },
   {
    "duration": 10,
    "start_time": "2022-07-25T20:18:49.060Z"
   },
   {
    "duration": 9,
    "start_time": "2022-07-25T20:18:49.750Z"
   },
   {
    "duration": 9,
    "start_time": "2022-07-25T20:18:50.468Z"
   },
   {
    "duration": 10,
    "start_time": "2022-07-25T20:18:51.109Z"
   },
   {
    "duration": 10,
    "start_time": "2022-07-25T20:18:51.748Z"
   },
   {
    "duration": 10,
    "start_time": "2022-07-25T20:18:52.404Z"
   },
   {
    "duration": 9,
    "start_time": "2022-07-25T20:18:53.788Z"
   },
   {
    "duration": 10,
    "start_time": "2022-07-25T20:18:55.097Z"
   },
   {
    "duration": 10,
    "start_time": "2022-07-25T20:18:55.896Z"
   },
   {
    "duration": 10,
    "start_time": "2022-07-25T20:18:56.691Z"
   },
   {
    "duration": 3,
    "start_time": "2022-07-25T20:19:57.478Z"
   },
   {
    "duration": 10,
    "start_time": "2022-07-25T20:20:02.693Z"
   },
   {
    "duration": 10,
    "start_time": "2022-07-25T20:20:11.747Z"
   },
   {
    "duration": 10,
    "start_time": "2022-07-25T20:20:18.055Z"
   },
   {
    "duration": 9,
    "start_time": "2022-07-25T20:20:22.108Z"
   },
   {
    "duration": 2,
    "start_time": "2022-07-25T20:20:55.959Z"
   },
   {
    "duration": 5,
    "start_time": "2022-07-25T20:21:24.250Z"
   },
   {
    "duration": 10,
    "start_time": "2022-07-25T20:21:53.643Z"
   },
   {
    "duration": 10,
    "start_time": "2022-07-25T20:21:54.855Z"
   },
   {
    "duration": 9,
    "start_time": "2022-07-25T20:21:55.598Z"
   },
   {
    "duration": 9,
    "start_time": "2022-07-25T20:21:56.267Z"
   },
   {
    "duration": 12,
    "start_time": "2022-07-25T20:21:56.999Z"
   },
   {
    "duration": 12,
    "start_time": "2022-07-25T20:21:57.673Z"
   },
   {
    "duration": 9,
    "start_time": "2022-07-25T20:21:58.463Z"
   },
   {
    "duration": 9,
    "start_time": "2022-07-25T20:21:59.268Z"
   },
   {
    "duration": 10,
    "start_time": "2022-07-25T20:22:00.232Z"
   },
   {
    "duration": 10,
    "start_time": "2022-07-25T20:22:01.147Z"
   },
   {
    "duration": 11,
    "start_time": "2022-07-25T20:22:02.094Z"
   },
   {
    "duration": 12,
    "start_time": "2022-07-25T20:22:02.808Z"
   },
   {
    "duration": 10,
    "start_time": "2022-07-25T20:22:15.759Z"
   },
   {
    "duration": 11,
    "start_time": "2022-07-25T20:22:16.587Z"
   },
   {
    "duration": 11,
    "start_time": "2022-07-25T20:22:17.199Z"
   },
   {
    "duration": 12,
    "start_time": "2022-07-25T20:22:18.002Z"
   },
   {
    "duration": 12,
    "start_time": "2022-07-25T20:22:18.576Z"
   },
   {
    "duration": 11,
    "start_time": "2022-07-25T20:22:19.232Z"
   },
   {
    "duration": 12,
    "start_time": "2022-07-25T20:22:19.780Z"
   },
   {
    "duration": 11,
    "start_time": "2022-07-25T20:22:20.335Z"
   },
   {
    "duration": 12,
    "start_time": "2022-07-25T20:22:20.867Z"
   },
   {
    "duration": 9,
    "start_time": "2022-07-25T20:22:21.456Z"
   },
   {
    "duration": 10,
    "start_time": "2022-07-25T20:22:21.955Z"
   },
   {
    "duration": 10,
    "start_time": "2022-07-25T20:22:22.464Z"
   },
   {
    "duration": 10,
    "start_time": "2022-07-25T20:22:23.059Z"
   },
   {
    "duration": 10,
    "start_time": "2022-07-25T20:22:23.659Z"
   },
   {
    "duration": 9,
    "start_time": "2022-07-25T20:22:24.202Z"
   },
   {
    "duration": 10,
    "start_time": "2022-07-25T20:22:24.776Z"
   },
   {
    "duration": 10,
    "start_time": "2022-07-25T20:22:25.459Z"
   },
   {
    "duration": 13,
    "start_time": "2022-07-25T20:22:25.975Z"
   },
   {
    "duration": 12,
    "start_time": "2022-07-25T20:22:26.551Z"
   },
   {
    "duration": 11,
    "start_time": "2022-07-25T20:22:27.111Z"
   },
   {
    "duration": 13,
    "start_time": "2022-07-25T20:22:27.714Z"
   },
   {
    "duration": 10,
    "start_time": "2022-07-25T20:22:28.279Z"
   },
   {
    "duration": 12,
    "start_time": "2022-07-25T20:22:28.771Z"
   },
   {
    "duration": 12,
    "start_time": "2022-07-25T20:22:30.260Z"
   },
   {
    "duration": 10,
    "start_time": "2022-07-25T20:22:30.859Z"
   },
   {
    "duration": 13,
    "start_time": "2022-07-25T20:22:31.418Z"
   },
   {
    "duration": 11,
    "start_time": "2022-07-25T20:22:31.998Z"
   },
   {
    "duration": 4,
    "start_time": "2022-07-25T20:23:50.968Z"
   },
   {
    "duration": 4,
    "start_time": "2022-07-25T20:23:53.406Z"
   },
   {
    "duration": 11,
    "start_time": "2022-07-25T20:24:03.367Z"
   },
   {
    "duration": 9,
    "start_time": "2022-07-25T20:24:15.859Z"
   },
   {
    "duration": 10,
    "start_time": "2022-07-25T20:24:16.943Z"
   },
   {
    "duration": 10,
    "start_time": "2022-07-25T20:24:17.983Z"
   },
   {
    "duration": 10,
    "start_time": "2022-07-25T20:24:18.851Z"
   },
   {
    "duration": 10,
    "start_time": "2022-07-25T20:24:23.469Z"
   },
   {
    "duration": 10,
    "start_time": "2022-07-25T20:24:24.373Z"
   },
   {
    "duration": 10,
    "start_time": "2022-07-25T20:24:25.051Z"
   },
   {
    "duration": 9,
    "start_time": "2022-07-25T20:24:25.693Z"
   },
   {
    "duration": 10,
    "start_time": "2022-07-25T20:24:26.455Z"
   },
   {
    "duration": 9,
    "start_time": "2022-07-25T20:24:27.071Z"
   },
   {
    "duration": 10,
    "start_time": "2022-07-25T20:24:28.104Z"
   },
   {
    "duration": 10,
    "start_time": "2022-07-25T20:24:28.782Z"
   },
   {
    "duration": 8,
    "start_time": "2022-07-25T20:24:29.219Z"
   },
   {
    "duration": 10,
    "start_time": "2022-07-25T20:24:29.881Z"
   },
   {
    "duration": 9,
    "start_time": "2022-07-27T18:38:34.949Z"
   },
   {
    "duration": 4,
    "start_time": "2022-07-27T18:39:42.349Z"
   },
   {
    "duration": 59,
    "start_time": "2022-07-27T18:39:52.974Z"
   },
   {
    "duration": 1794,
    "start_time": "2022-07-27T18:40:01.553Z"
   },
   {
    "duration": 111,
    "start_time": "2022-07-27T18:40:03.349Z"
   },
   {
    "duration": 5,
    "start_time": "2022-07-27T18:40:03.462Z"
   },
   {
    "duration": 95,
    "start_time": "2022-07-27T18:40:08.173Z"
   },
   {
    "duration": 108,
    "start_time": "2022-07-27T19:00:11.003Z"
   },
   {
    "duration": 77,
    "start_time": "2022-07-27T19:00:56.388Z"
   },
   {
    "duration": 76,
    "start_time": "2022-07-27T19:04:05.264Z"
   },
   {
    "duration": 69,
    "start_time": "2022-07-27T19:05:21.461Z"
   },
   {
    "duration": 24,
    "start_time": "2022-07-27T19:25:31.918Z"
   },
   {
    "duration": 110,
    "start_time": "2022-07-27T19:33:01.058Z"
   },
   {
    "duration": 34,
    "start_time": "2022-07-27T19:33:30.132Z"
   },
   {
    "duration": 26,
    "start_time": "2022-07-27T19:34:32.442Z"
   },
   {
    "duration": 15,
    "start_time": "2022-07-27T19:34:47.106Z"
   },
   {
    "duration": 10,
    "start_time": "2022-07-27T19:34:57.212Z"
   },
   {
    "duration": 15,
    "start_time": "2022-07-27T19:59:37.784Z"
   },
   {
    "duration": 11,
    "start_time": "2022-07-27T20:01:44.139Z"
   },
   {
    "duration": 30,
    "start_time": "2022-07-27T20:07:25.518Z"
   },
   {
    "duration": 68,
    "start_time": "2022-07-27T20:07:25.646Z"
   },
   {
    "duration": 5,
    "start_time": "2022-07-27T20:07:25.750Z"
   },
   {
    "duration": 99,
    "start_time": "2022-07-27T20:07:25.862Z"
   },
   {
    "duration": 19,
    "start_time": "2022-07-27T20:07:26.559Z"
   },
   {
    "duration": 16,
    "start_time": "2022-07-27T20:07:26.729Z"
   },
   {
    "duration": 15,
    "start_time": "2022-07-27T20:07:26.862Z"
   },
   {
    "duration": 17,
    "start_time": "2022-07-27T20:37:48.428Z"
   }
  ],
  "kernelspec": {
   "display_name": "Python 3 (ipykernel)",
   "language": "python",
   "name": "python3"
  },
  "language_info": {
   "codemirror_mode": {
    "name": "ipython",
    "version": 3
   },
   "file_extension": ".py",
   "mimetype": "text/x-python",
   "name": "python",
   "nbconvert_exporter": "python",
   "pygments_lexer": "ipython3",
   "version": "3.9.7"
  },
  "toc": {
   "base_numbering": 1,
   "nav_menu": {},
   "number_sections": true,
   "sideBar": true,
   "skip_h1_title": true,
   "title_cell": "Содержание",
   "title_sidebar": "Contents",
   "toc_cell": true,
   "toc_position": {},
   "toc_section_display": true,
   "toc_window_display": true
  }
 },
 "nbformat": 4,
 "nbformat_minor": 2
}
