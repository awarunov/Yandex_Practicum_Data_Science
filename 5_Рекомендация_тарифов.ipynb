{
 "cells": [
  {
   "cell_type": "markdown",
   "metadata": {},
   "source": [
    "# Описание проекта. Рекомендация тарифов\n",
    "В распоряжении данные о поведении клиентов, которые уже перешли на эти тарифы (из проекта курса «Статистический анализ данных»). Нужно построить модель для задачи классификации, которая выберет подходящий тариф. Предобработка данных не понадобится.\n",
    "\n",
    "Постройте модель с максимально большим значением *accuracy*. Чтобы сдать проект успешно, нужно довести долю правильных ответов по крайней мере до 0.75. Проверьте *accuracy* на тестовой выборке самостоятельно.\n",
    "\n",
    "Описание данных\n",
    "Каждый объект в наборе данных — это информация о поведении одного пользователя за месяц. Известно:  \n",
    "**сalls** — количество звонков,  \n",
    "**minutes** — суммарная длительность звонков в минутах,  \n",
    "**messages** — количество sms-сообщений,  \n",
    "**mb_used** — израсходованный интернет-трафик в Мб,  \n",
    "**is_ultra** — каким тарифом пользовался в течение месяца («Ультра» — 1, «Смарт» — 0)."
   ]
  },
  {
   "cell_type": "markdown",
   "metadata": {},
   "source": [
    "<h1>Содержание<span class=\"tocSkip\"></span></h1>\n",
    "<div class=\"toc\">\n",
    "    <ul class=\"toc-item\">\n",
    "        <li>\n",
    "            <span>\n",
    "                <a href=\"#Описание-проекта.-Рекомендация-тарифов\" data-toc-modified-id=\"Описание-проекта.-Рекомендация-тарифов\">\n",
    "                    Описание проекта. Рекомендация тарифов\n",
    "                </a>\n",
    "            </span>            \n",
    "    </ul>\n",
    "    <ul class=\"toc-item\">\n",
    "        <li>\n",
    "            <span>\n",
    "                <a href=\"#Открытие-и-изучение-файла\" data-toc-modified-id=\"Открытие-и-изучение-файла\">\n",
    "                    <span class=\"toc-item-num\">\n",
    "                        1&nbsp;&nbsp;\n",
    "                    </span>\n",
    "                    Открытие и изучение файла\n",
    "                </a>\n",
    "            </span>\n",
    "    </ul>\n",
    "    <ul class=\"toc-item\">\n",
    "        <li>\n",
    "            <span>\n",
    "                <a href=\"#Разбивка-данных-на-выборки\" data-toc-modified-id=\"Разбивка-данных-на-выборки\">\n",
    "                    <span class=\"toc-item-num\">\n",
    "                        2&nbsp;&nbsp;\n",
    "                    </span>\n",
    "                    Разбивка данных на выборки\n",
    "                </a>\n",
    "            </span>\n",
    "    </ul>\n",
    "    <ul class=\"toc-item\">\n",
    "        <li>\n",
    "            <span>\n",
    "                <a href=\"#Исследование-моделей\" data-toc-modified-id=\"Исследование-моделей\">\n",
    "                    <span class=\"toc-item-num\">\n",
    "                        3&nbsp;&nbsp;\n",
    "                    </span>\n",
    "                    Исследование моделей\n",
    "                </a>\n",
    "            </span>\n",
    "    </ul>\n",
    "    <ul class=\"toc-item\">\n",
    "        <li>\n",
    "            <span>\n",
    "                <a href=\"#Проверка-модели-на-тестовой-выборке\" data-toc-modified-id=\"Проверка-модели-на-тестовой-выборке\">\n",
    "                    <span class=\"toc-item-num\">\n",
    "                        4&nbsp;&nbsp;\n",
    "                    </span>\n",
    "                    Проверка модели на тестовой выборке\n",
    "                </a>\n",
    "            </span>\n",
    "    </ul>\n",
    "     <ul class=\"toc-item\">\n",
    "        <li>\n",
    "            <span>\n",
    "                <a href=\"#Проверка-модели-на-адекватность-(бонус)\" data-toc-modified-id=\"Проверка-модели-на-адекватность-(бонус)\">\n",
    "                    <span class=\"toc-item-num\">\n",
    "                        5&nbsp;&nbsp;\n",
    "                    </span>\n",
    "                    Проверка модели на адекватность (бонус)\n",
    "                </a>\n",
    "            </span>\n",
    "    </ul>\n",
    "    <ul class=\"toc-item\">\n",
    "        <li>\n",
    "            <span>\n",
    "                <a href=\"#Чек-лист-готовности-проекта\" data-toc-modified-id=\"Чек-лист-готовности-проекта\">\n",
    "                    <span class=\"toc-item-num\">\n",
    "                        6&nbsp;&nbsp;\n",
    "                    </span>\n",
    "                    Чек-лист готовности проекта\n",
    "                </a>\n",
    "            </span>\n",
    "        </li>\n",
    "    </ul>\n",
    "</div>"
   ]
  },
  {
   "cell_type": "code",
   "execution_count": 3,
   "metadata": {},
   "outputs": [
    {
     "data": {
      "text/html": [
       "<style>.container { width:80% !important; }</style>"
      ],
      "text/plain": [
       "<IPython.core.display.HTML object>"
      ]
     },
     "metadata": {},
     "output_type": "display_data"
    }
   ],
   "source": [
    "import pandas as pd\n",
    "from sklearn.tree import DecisionTreeClassifier\n",
    "from sklearn.ensemble import RandomForestClassifier\n",
    "from sklearn.linear_model import LogisticRegression\n",
    "from sklearn.model_selection import train_test_split\n",
    "#from sklearn.metrics import mean_squared_error\n",
    "from sklearn.metrics import accuracy_score\n",
    "from sklearn.dummy import DummyClassifier\n",
    "import traceback\n",
    "import matplotlib.pyplot as plt\n",
    "pd.set_option('display.max_rows', 100)\n",
    "pd.set_option('display.max_columns', 29)\n",
    "data_file_name = 'users_behavior.csv'\n",
    "local_path = 'C:/Users/timpu/Desktop/Data Science(Проекты и шпаргалки)/Проекты/Рекомендация_тарифов(машинное_обучение_1)/data/'\n",
    "web_path = '/datasets/'\n",
    "from IPython.display import display, HTML\n",
    "display(HTML(\"<style>.container { width:80% !important; }</style>\"))"
   ]
  },
  {
   "cell_type": "markdown",
   "metadata": {},
   "source": [
    "## Открытие и изучение файла"
   ]
  },
  {
   "cell_type": "code",
   "execution_count": 4,
   "metadata": {
    "scrolled": true
   },
   "outputs": [
    {
     "name": "stdout",
     "output_type": "stream",
     "text": [
      "Общая информация о датасете:\n",
      "<class 'pandas.core.frame.DataFrame'>\n",
      "RangeIndex: 3214 entries, 0 to 3213\n",
      "Data columns (total 5 columns):\n",
      " #   Column    Non-Null Count  Dtype  \n",
      "---  ------    --------------  -----  \n",
      " 0   calls     3214 non-null   float64\n",
      " 1   minutes   3214 non-null   float64\n",
      " 2   messages  3214 non-null   float64\n",
      " 3   mb_used   3214 non-null   float64\n",
      " 4   is_ultra  3214 non-null   int64  \n",
      "dtypes: float64(4), int64(1)\n",
      "memory usage: 125.7 KB\n"
     ]
    },
    {
     "data": {
      "text/html": [
       "<div>\n",
       "<style scoped>\n",
       "    .dataframe tbody tr th:only-of-type {\n",
       "        vertical-align: middle;\n",
       "    }\n",
       "\n",
       "    .dataframe tbody tr th {\n",
       "        vertical-align: top;\n",
       "    }\n",
       "\n",
       "    .dataframe thead th {\n",
       "        text-align: right;\n",
       "    }\n",
       "</style>\n",
       "<table border=\"1\" class=\"dataframe\">\n",
       "  <thead>\n",
       "    <tr style=\"text-align: right;\">\n",
       "      <th></th>\n",
       "      <th>calls</th>\n",
       "      <th>minutes</th>\n",
       "      <th>messages</th>\n",
       "      <th>mb_used</th>\n",
       "      <th>is_ultra</th>\n",
       "    </tr>\n",
       "  </thead>\n",
       "  <tbody>\n",
       "    <tr>\n",
       "      <th>0</th>\n",
       "      <td>40.0</td>\n",
       "      <td>311.90</td>\n",
       "      <td>83.0</td>\n",
       "      <td>19915.42</td>\n",
       "      <td>0</td>\n",
       "    </tr>\n",
       "    <tr>\n",
       "      <th>1</th>\n",
       "      <td>85.0</td>\n",
       "      <td>516.75</td>\n",
       "      <td>56.0</td>\n",
       "      <td>22696.96</td>\n",
       "      <td>0</td>\n",
       "    </tr>\n",
       "    <tr>\n",
       "      <th>2</th>\n",
       "      <td>77.0</td>\n",
       "      <td>467.66</td>\n",
       "      <td>86.0</td>\n",
       "      <td>21060.45</td>\n",
       "      <td>0</td>\n",
       "    </tr>\n",
       "    <tr>\n",
       "      <th>3</th>\n",
       "      <td>106.0</td>\n",
       "      <td>745.53</td>\n",
       "      <td>81.0</td>\n",
       "      <td>8437.39</td>\n",
       "      <td>1</td>\n",
       "    </tr>\n",
       "    <tr>\n",
       "      <th>4</th>\n",
       "      <td>66.0</td>\n",
       "      <td>418.74</td>\n",
       "      <td>1.0</td>\n",
       "      <td>14502.75</td>\n",
       "      <td>0</td>\n",
       "    </tr>\n",
       "    <tr>\n",
       "      <th>...</th>\n",
       "      <td>...</td>\n",
       "      <td>...</td>\n",
       "      <td>...</td>\n",
       "      <td>...</td>\n",
       "      <td>...</td>\n",
       "    </tr>\n",
       "    <tr>\n",
       "      <th>3209</th>\n",
       "      <td>122.0</td>\n",
       "      <td>910.98</td>\n",
       "      <td>20.0</td>\n",
       "      <td>35124.90</td>\n",
       "      <td>1</td>\n",
       "    </tr>\n",
       "    <tr>\n",
       "      <th>3210</th>\n",
       "      <td>25.0</td>\n",
       "      <td>190.36</td>\n",
       "      <td>0.0</td>\n",
       "      <td>3275.61</td>\n",
       "      <td>0</td>\n",
       "    </tr>\n",
       "    <tr>\n",
       "      <th>3211</th>\n",
       "      <td>97.0</td>\n",
       "      <td>634.44</td>\n",
       "      <td>70.0</td>\n",
       "      <td>13974.06</td>\n",
       "      <td>0</td>\n",
       "    </tr>\n",
       "    <tr>\n",
       "      <th>3212</th>\n",
       "      <td>64.0</td>\n",
       "      <td>462.32</td>\n",
       "      <td>90.0</td>\n",
       "      <td>31239.78</td>\n",
       "      <td>0</td>\n",
       "    </tr>\n",
       "    <tr>\n",
       "      <th>3213</th>\n",
       "      <td>80.0</td>\n",
       "      <td>566.09</td>\n",
       "      <td>6.0</td>\n",
       "      <td>29480.52</td>\n",
       "      <td>1</td>\n",
       "    </tr>\n",
       "  </tbody>\n",
       "</table>\n",
       "<p>3214 rows × 5 columns</p>\n",
       "</div>"
      ],
      "text/plain": [
       "      calls  minutes  messages   mb_used  is_ultra\n",
       "0      40.0   311.90      83.0  19915.42         0\n",
       "1      85.0   516.75      56.0  22696.96         0\n",
       "2      77.0   467.66      86.0  21060.45         0\n",
       "3     106.0   745.53      81.0   8437.39         1\n",
       "4      66.0   418.74       1.0  14502.75         0\n",
       "...     ...      ...       ...       ...       ...\n",
       "3209  122.0   910.98      20.0  35124.90         1\n",
       "3210   25.0   190.36       0.0   3275.61         0\n",
       "3211   97.0   634.44      70.0  13974.06         0\n",
       "3212   64.0   462.32      90.0  31239.78         0\n",
       "3213   80.0   566.09       6.0  29480.52         1\n",
       "\n",
       "[3214 rows x 5 columns]"
      ]
     },
     "metadata": {},
     "output_type": "display_data"
    },
    {
     "name": "stdout",
     "output_type": "stream",
     "text": [
      "Минимальные значения в датасете:\n",
      "calls       0.0\n",
      "minutes     0.0\n",
      "messages    0.0\n",
      "mb_used     0.0\n",
      "is_ultra    0.0\n",
      "dtype: float64 \n",
      "\n",
      "Максимальные значения в датасете:\n",
      "calls         244.00\n",
      "minutes      1632.06\n",
      "messages      224.00\n",
      "mb_used     49745.73\n",
      "is_ultra        1.00\n",
      "dtype: float64 \n",
      "\n",
      "Количество дубликатов в датасете:\n",
      "0 \n",
      "\n",
      "Колонки с пропущенными значениями в датасете:\n",
      "\n",
      "calls       0\n",
      "minutes     0\n",
      "messages    0\n",
      "mb_used     0\n",
      "is_ultra    0\n",
      "dtype: int64 \n",
      "\n",
      "Подсчёт уникальных значений в столбце calls:\n",
      "\n",
      "69.0     60\n",
      "68.0     49\n",
      "64.0     48\n",
      "77.0     47\n",
      "65.0     47\n",
      "         ..\n",
      "188.0     1\n",
      "173.0     1\n",
      "183.0     1\n",
      "169.0     1\n",
      "244.0     1\n",
      "Name: calls, Length: 184, dtype: int64 \n",
      "\n",
      "Подсчёт уникальных значений в столбце minutes:\n",
      "\n",
      "0.00      40\n",
      "1.00       3\n",
      "564.01     3\n",
      "2.00       3\n",
      "271.41     2\n",
      "          ..\n",
      "809.93     1\n",
      "699.74     1\n",
      "385.09     1\n",
      "112.54     1\n",
      "722.64     1\n",
      "Name: minutes, Length: 3144, dtype: int64 \n",
      "\n",
      "Подсчёт уникальных значений в столбце messages:\n",
      "\n",
      "0.0      497\n",
      "20.0      52\n",
      "6.0       46\n",
      "16.0      45\n",
      "17.0      44\n",
      "        ... \n",
      "172.0      1\n",
      "185.0      1\n",
      "132.0      1\n",
      "151.0      1\n",
      "190.0      1\n",
      "Name: messages, Length: 180, dtype: int64 \n",
      "\n",
      "Подсчёт уникальных значений в столбце mb_used:\n",
      "\n",
      "0.00        11\n",
      "0.01         2\n",
      "22924.34     1\n",
      "12403.15     1\n",
      "14514.98     1\n",
      "            ..\n",
      "6561.24      1\n",
      "3762.75      1\n",
      "22293.28     1\n",
      "18914.88     1\n",
      "15613.81     1\n",
      "Name: mb_used, Length: 3203, dtype: int64 \n",
      "\n",
      "Подсчёт уникальных значений в столбце is_ultra:\n",
      "\n",
      "0    2229\n",
      "1     985\n",
      "Name: is_ultra, dtype: int64 \n",
      "\n"
     ]
    }
   ],
   "source": [
    "try:\n",
    "    data = pd.read_csv(web_path + data_file_name)\n",
    "except FileNotFoundError:\n",
    "    data = pd.read_csv(local_path + data_file_name)\n",
    "except:\n",
    "    print('Возникла ошибка в коде, нужно перепроверить!')\n",
    "    traceback.print_exc()\n",
    "else:\n",
    "    print('Общая информация о датасете:')\n",
    "    data.info()\n",
    "    display(data)\n",
    "    print('Минимальные значения в датасете:')\n",
    "    print(data.min(), '\\n')\n",
    "    print('Максимальные значения в датасете:')\n",
    "    print(data.max(), '\\n')\n",
    "    print('Количество дубликатов в датасете:')\n",
    "    print(data.duplicated().sum(), '\\n')\n",
    "    print('Колонки с пропущенными значениями в датасете:\\n')\n",
    "    print(data.isna().sum(), '\\n')\n",
    "    for col in data.columns:\n",
    "        print(f'Подсчёт уникальных значений в столбце {col}:\\n')\n",
    "        print(data[col].value_counts().sort_values(ascending=False), '\\n')"
   ]
  },
  {
   "cell_type": "markdown",
   "metadata": {},
   "source": [
    "## Разбивка данных на выборки"
   ]
  },
  {
   "cell_type": "code",
   "execution_count": 5,
   "metadata": {},
   "outputs": [
    {
     "name": "stdout",
     "output_type": "stream",
     "text": [
      "data.shape: (3214, 5) 100% от data \n",
      "\n",
      "Количество уникальных значений в целевом столбце is_ultra:\n",
      "0    2229\n",
      "1     985\n",
      "Name: is_ultra, dtype: int64 \n",
      "\n",
      "Доля 0 значений в is_ultra в исходном датасете: 0.31 \n",
      "\n"
     ]
    }
   ],
   "source": [
    "print('data.shape:', data.shape, '100% от data', '\\n')\n",
    "print('Количество уникальных значений в целевом столбце is_ultra:')\n",
    "print(data['is_ultra'].value_counts(), '\\n')\n",
    "print('Доля 0 значений в is_ultra в исходном датасете:', round(data[data['is_ultra']==1]['is_ultra'].sum()/data.shape[0], 2), '\\n')"
   ]
  },
  {
   "cell_type": "code",
   "execution_count": 6,
   "metadata": {},
   "outputs": [
    {
     "name": "stdout",
     "output_type": "stream",
     "text": [
      "data_test.shape: (643, 5) 20.0 % от data \n",
      "\n",
      "Количество уникальных значений в целевом столбце is_ultra (БЕЗ stratify):\n",
      "0    427\n",
      "1    216\n",
      "Name: is_ultra, dtype: int64 \n",
      "\n",
      "Доля 0 значений в is_ultra data_test БЕЗ stratify: 0.34 \n",
      "\n",
      "Количество уникальных значений в целевом столбце is_ultra (С stratify):\n",
      "0    446\n",
      "1    197\n",
      "Name: is_ultra, dtype: int64 \n",
      "\n",
      "Доля 0 значений в is_ultra data_test С stratify: 0.31\n"
     ]
    }
   ],
   "source": [
    "data_train_valid, data_test = train_test_split(data, test_size=0.2, random_state=54321)\n",
    "print('data_test.shape:', data_test.shape, round(data_test.shape[0]/data.shape[0], 2)*100, '% от data', '\\n')\n",
    "print('Количество уникальных значений в целевом столбце is_ultra (БЕЗ stratify):')\n",
    "print(data_test['is_ultra'].value_counts(), '\\n')\n",
    "print('Доля 0 значений в is_ultra data_test БЕЗ stratify:', round(data_test[data_test['is_ultra']==1]['is_ultra'].sum()/data_test.shape[0], 2), '\\n')\n",
    "\n",
    "data_train_valid, data_test = train_test_split(data, test_size=0.2, random_state=54321, stratify = data['is_ultra'])\n",
    "print('Количество уникальных значений в целевом столбце is_ultra (С stratify):')\n",
    "print(data_test['is_ultra'].value_counts(),'\\n')\n",
    "print('Доля 0 значений в is_ultra data_test С stratify:', round(data_test[data_test['is_ultra']==1]['is_ultra'].sum()/data_test.shape[0], 2))\n",
    "\n"
   ]
  },
  {
   "cell_type": "code",
   "execution_count": 7,
   "metadata": {},
   "outputs": [
    {
     "name": "stdout",
     "output_type": "stream",
     "text": [
      "data_train.shape: (1928, 5) 60.0 % от data \n",
      "\n",
      "Количество уникальных значений в целевом столбце is_ultra (БЕЗ stratify):\n",
      "0    1345\n",
      "1     583\n",
      "Name: is_ultra, dtype: int64 \n",
      "\n",
      "Доля 0 значений в is_ultra data_train БЕЗ stratify: 0.3 \n",
      "\n",
      "data_train.shape: (1928, 5) 60.0 % от data\n",
      "Количество уникальных значений в целевом столбце is_ultra (C stratify):\n",
      "0    1337\n",
      "1     591\n",
      "Name: is_ultra, dtype: int64 \n",
      "\n",
      "Доля 0 значений в is_ultra data_train БЕЗ stratify: 0.31 \n",
      "\n"
     ]
    }
   ],
   "source": [
    "data_train, data_valid1 = train_test_split(data_train_valid, test_size=0.25, random_state=54321)\n",
    "print('data_train.shape:', data_train.shape, round(data_train.shape[0]/data.shape[0], 2)*100, '% от data', '\\n')\n",
    "print('Количество уникальных значений в целевом столбце is_ultra (БЕЗ stratify):')\n",
    "print(data_train['is_ultra'].value_counts(),'\\n')\n",
    "print('Доля 0 значений в is_ultra data_train БЕЗ stratify:', round(data_train[data_train['is_ultra']==1]['is_ultra'].sum()/data_train.shape[0], 2), '\\n')\n",
    "\n",
    "data_train, data_valid = train_test_split(data_train_valid, test_size=0.25, random_state=54321, stratify = data_train_valid['is_ultra'])\n",
    "print('data_train.shape:', data_train.shape, round(data_train.shape[0]/data.shape[0], 2)*100, '% от data')\n",
    "print('Количество уникальных значений в целевом столбце is_ultra (C stratify):')\n",
    "print(data_train['is_ultra'].value_counts(),'\\n')\n",
    "print('Доля 0 значений в is_ultra data_train БЕЗ stratify:', round(data_train[data_train['is_ultra']==1]['is_ultra'].sum()/data_train.shape[0], 2), '\\n')\n",
    "\n"
   ]
  },
  {
   "cell_type": "code",
   "execution_count": 8,
   "metadata": {},
   "outputs": [
    {
     "name": "stdout",
     "output_type": "stream",
     "text": [
      "data_valid.shape: (643, 5) 20.0 % от data \n",
      "\n",
      "Количество уникальных значений в целевом столбце is_ultra (БЕЗ stratify):\n",
      "0    438\n",
      "1    205\n",
      "Name: is_ultra, dtype: int64 \n",
      "\n",
      "Доля 0 значений в is_ultra data_valid БЕЗ stratify: 0.32 \n",
      "\n",
      "data_train, C stratify:\n",
      "0    446\n",
      "1    197\n",
      "Name: is_ultra, dtype: int64 \n",
      "\n",
      "Доля 0 значений в is_ultra data_valid С stratify: 0.31 \n",
      "\n"
     ]
    }
   ],
   "source": [
    "print('data_valid.shape:', data_valid.shape, round(data_valid.shape[0]/data.shape[0], 2)*100, '% от data', '\\n')\n",
    "print('Количество уникальных значений в целевом столбце is_ultra (БЕЗ stratify):')\n",
    "print(data_valid1['is_ultra'].value_counts(), '\\n')\n",
    "\n",
    "print('Доля 0 значений в is_ultra data_valid БЕЗ stratify:', round(data_valid1[data_valid1['is_ultra']==1]['is_ultra'].sum()/data_valid1.shape[0], 2), '\\n')\n",
    "\n",
    "print('data_train, C stratify:')\n",
    "print(data_valid['is_ultra'].value_counts(),'\\n')\n",
    "\n",
    "print('Доля 0 значений в is_ultra data_valid С stratify:', round(data_valid[data_valid['is_ultra']==1]['is_ultra'].sum()/data_valid.shape[0], 2), '\\n')"
   ]
  },
  {
   "cell_type": "markdown",
   "metadata": {},
   "source": [
    "Разбили данные на 3 выборки: тренировочную, валидационную и тестовую (data_train, data_valid, data_test) в пропорции 60/20/20."
   ]
  },
  {
   "cell_type": "markdown",
   "metadata": {},
   "source": [
    "## Исследование моделей"
   ]
  },
  {
   "cell_type": "code",
   "execution_count": 9,
   "metadata": {},
   "outputs": [
    {
     "name": "stdout",
     "output_type": "stream",
     "text": [
      "Лучшая модель DecisionTree на валидационной выборке с глубиной: 5\n",
      "Лучшая accuracy на валидационной выборке: 0.8118195956454122\n"
     ]
    },
    {
     "data": {
      "image/png": "[encoded data removed]",
      "text/plain": [
       "<Figure size 1152x648 with 1 Axes>"
      ]
     },
     "metadata": {
      "needs_background": "light"
     },
     "output_type": "display_data"
    },
    {
     "name": "stdout",
     "output_type": "stream",
     "text": [
      "CPU times: user 316 ms, sys: 20.7 ms, total: 336 ms\n",
      "Wall time: 338 ms\n"
     ]
    }
   ],
   "source": [
    "%%time\n",
    "features_train = data_train.drop('is_ultra', axis=1)\n",
    "target_train = data_train['is_ultra']\n",
    "features_valid = data_valid.drop('is_ultra', axis=1)\n",
    "target_valid = data_valid['is_ultra']\n",
    "best_depth = 0\n",
    "best_accuracy = 0\n",
    "list_depth = []\n",
    "list_accur = []\n",
    "# for depth in range(1, 11):\n",
    "# КОД РЕВЬЮЕРА\n",
    "for depth in range(1, 15):\n",
    "# КОД РЕВЬЮЕРА    \n",
    "    model = DecisionTreeClassifier(random_state=54321, max_depth=depth)\n",
    "    model.fit(features_train, target_train)\n",
    "    predictions = model.predict(features_valid)\n",
    "    accuracy = accuracy_score(target_valid, predictions)\n",
    "    list_depth.append(depth)\n",
    "    list_accur.append(accuracy)\n",
    "    if accuracy > best_accuracy:\n",
    "        best_depth = depth\n",
    "        best_accuracy = accuracy\n",
    "        model_DT = model\n",
    "print('Лучшая модель DecisionTree на валидационной выборке с глубиной:', best_depth)\n",
    "print('Лучшая accuracy на валидационной выборке:', best_accuracy)\n",
    "plt.figure(figsize=(16,9)) \n",
    "plt.title('График максимальной глубины и точности', fontdict={'size':20})\n",
    "plt.plot(list_depth, list_accur)\n",
    "plt.grid(linestyle='--', alpha=0.5)\n",
    "plt.show()"
   ]
  },
  {
   "cell_type": "code",
   "execution_count": 26,
   "metadata": {
    "scrolled": false
   },
   "outputs": [
    {
     "name": "stdout",
     "output_type": "stream",
     "text": [
      "Лучшая модель RandomForestClassifier на валидационной выборке с глубиной: 10\n",
      "Лучшая модель RandomForestClassifier на валидационной выборке с n_estimators: 11\n",
      "Лучшая accuracy на валидационной выборке: 0.8211508553654744\n"
     ]
    },
    {
     "data": {
      "image/png": "[encoded data removed]",
      "text/plain": [
       "<Figure size 1152x648 with 1 Axes>"
      ]
     },
     "metadata": {
      "needs_background": "light"
     },
     "output_type": "display_data"
    },
    {
     "name": "stdout",
     "output_type": "stream",
     "text": [
      "CPU times: user 20 s, sys: 132 ms, total: 20.1 s\n",
      "Wall time: 20.1 s\n"
     ]
    }
   ],
   "source": [
    "%%time\n",
    "best_depth = 0\n",
    "best_accuracy = 0\n",
    "best_est_count = 0\n",
    "list_depth = []\n",
    "list_est = []\n",
    "#list_accur = []\n",
    "list_accur_depth = []\n",
    "xyz = pd.DataFrame([['', '', '']], columns=['est', 'depth', 'accuracy'])\n",
    "for depth in range(1, 15):\n",
    "    best_est = 0\n",
    "    best_acc_est=0\n",
    "    for est_count in range(1, 101, 10):\n",
    "        model = RandomForestClassifier(random_state=54321, max_depth=depth, n_estimators=est_count)\n",
    "        model.fit(features_train, target_train)\n",
    "        predictions = model.predict(features_valid)\n",
    "        accuracy = accuracy_score(target_valid, predictions)\n",
    "        #xyz = xyz.append({'est' : est_count, 'depth' : depth, 'accuracy' : depth}, ignore_index=True)\n",
    "        if accuracy > best_acc_est:\n",
    "            best_est = est_count\n",
    "            best_acc_est = accuracy\n",
    "        if accuracy > best_accuracy:\n",
    "            best_depth = depth\n",
    "            best_accuracy = accuracy\n",
    "            best_est_count = est_count\n",
    "            model_RF = model\n",
    "    xyz = xyz.append({'est' : best_est, 'depth' : depth, 'accuracy' : best_acc_est}, ignore_index=True)\n",
    "    list_est.append(best_est)\n",
    "    list_depth.append(depth)\n",
    "    list_accur_depth.append(best_acc_est)\n",
    "print('Лучшая модель RandomForestClassifier на валидационной выборке с глубиной:', best_depth)\n",
    "print('Лучшая модель RandomForestClassifier на валидационной выборке с n_estimators:', best_est_count)\n",
    "print('Лучшая accuracy на валидационной выборке:', best_accuracy)\n",
    "\n",
    "plt.figure(figsize=(16,9))\n",
    "plt.scatter(list_depth, list_accur_depth, alpha=.6)#, color=red)\n",
    "for x, y, tex in zip(list_depth, list_accur_depth, list_est):\n",
    "    t = plt.text(x, y, tex, horizontalalignment='center', \n",
    "                 verticalalignment='center', fontdict={'color':'red', 'fontsize':'xx-large'})\n",
    "plt.plot(list_depth, list_accur_depth)\n",
    "plt.legend(['Accuracy', 'N_estimators'])\n",
    "\n",
    "plt.gca().spines[\"top\"].set_alpha(.3)\n",
    "plt.gca().spines[\"bottom\"].set_alpha(.3)\n",
    "plt.gca().spines[\"right\"].set_alpha(.3)\n",
    "plt.gca().spines[\"left\"].set_alpha(.3)\n",
    "plt.xticks(list_depth)\n",
    "plt.yticks(list_accur_depth)\n",
    "plt.title('График максимальной глубины, точности и количества эстиматоров', fontdict={'size':20})\n",
    "plt.xlabel('$Max_Depth$')\n",
    "plt.ylabel('$Accuracy$')\n",
    "plt.grid(linestyle='--', alpha=0.5)\n",
    "plt.show()"
   ]
  },
  {
   "cell_type": "code",
   "execution_count": 27,
   "metadata": {},
   "outputs": [
    {
     "data": {
      "application/vnd.plotly.v1+json": {
       "config": {
        "plotlyServerURL": "https://plot.ly"
       },
       "data": [
        {
         "hovertemplate": "est=%{x}<br>depth=%{y}<br>accuracy=%{z}<extra></extra>",
         "legendgroup": "",
         "marker": {
          "color": "#636efa",
          "symbol": "circle"
         },
         "mode": "markers",
         "name": "",
         "scene": "scene",
         "showlegend": false,
         "type": "scatter3d",
         "x": [
          "",
          11,
          61,
          11,
          91,
          81,
          31,
          11,
          91,
          11,
          11,
          81,
          81,
          81,
          71
         ],
         "y": [
          "",
          1,
          2,
          3,
          4,
          5,
          6,
          7,
          8,
          9,
          10,
          11,
          12,
          13,
          14
         ],
         "z": [
          "",
          0.7651632970451011,
          0.7978227060653188,
          0.8164852255054432,
          0.8180404354587869,
          0.8118195956454122,
          0.8180404354587869,
          0.8149300155520995,
          0.8180404354587869,
          0.8164852255054432,
          0.8211508553654744,
          0.8195956454121306,
          0.8211508553654744,
          0.8211508553654744,
          0.8164852255054432
         ]
        }
       ],
       "layout": {
        "height": 1000,
        "legend": {
         "tracegroupgap": 0
        },
        "scene": {
         "domain": {
          "x": [
           0,
           1
          ],
          "y": [
           0,
           1
          ]
         },
         "xaxis": {
          "title": {
           "text": "est"
          }
         },
         "yaxis": {
          "title": {
           "text": "depth"
          }
         },
         "zaxis": {
          "title": {
           "text": "accuracy"
          }
         }
        },
        "template": {
         "data": {
          "bar": [
           {
            "error_x": {
             "color": "#2a3f5f"
            },
            "error_y": {
             "color": "#2a3f5f"
            },
            "marker": {
             "line": {
              "color": "#E5ECF6",
              "width": 0.5
             },
             "pattern": {
              "fillmode": "overlay",
              "size": 10,
              "solidity": 0.2
             }
            },
            "type": "bar"
           }
          ],
          "barpolar": [
           {
            "marker": {
             "line": {
              "color": "#E5ECF6",
              "width": 0.5
             },
             "pattern": {
              "fillmode": "overlay",
              "size": 10,
              "solidity": 0.2
             }
            },
            "type": "barpolar"
           }
          ],
          "carpet": [
           {
            "aaxis": {
             "endlinecolor": "#2a3f5f",
             "gridcolor": "white",
             "linecolor": "white",
             "minorgridcolor": "white",
             "startlinecolor": "#2a3f5f"
            },
            "baxis": {
             "endlinecolor": "#2a3f5f",
             "gridcolor": "white",
             "linecolor": "white",
             "minorgridcolor": "white",
             "startlinecolor": "#2a3f5f"
            },
            "type": "carpet"
           }
          ],
          "choropleth": [
           {
            "colorbar": {
             "outlinewidth": 0,
             "ticks": ""
            },
            "type": "choropleth"
           }
          ],
          "contour": [
           {
            "colorbar": {
             "outlinewidth": 0,
             "ticks": ""
            },
            "colorscale": [
             [
              0,
              "#0d0887"
             ],
             [
              0.1111111111111111,
              "#46039f"
             ],
             [
              0.2222222222222222,
              "#7201a8"
             ],
             [
              0.3333333333333333,
              "#9c179e"
             ],
             [
              0.4444444444444444,
              "#bd3786"
             ],
             [
              0.5555555555555556,
              "#d8576b"
             ],
             [
              0.6666666666666666,
              "#ed7953"
             ],
             [
              0.7777777777777778,
              "#fb9f3a"
             ],
             [
              0.8888888888888888,
              "#fdca26"
             ],
             [
              1,
              "#f0f921"
             ]
            ],
            "type": "contour"
           }
          ],
          "contourcarpet": [
           {
            "colorbar": {
             "outlinewidth": 0,
             "ticks": ""
            },
            "type": "contourcarpet"
           }
          ],
          "heatmap": [
           {
            "colorbar": {
             "outlinewidth": 0,
             "ticks": ""
            },
            "colorscale": [
             [
              0,
              "#0d0887"
             ],
             [
              0.1111111111111111,
              "#46039f"
             ],
             [
              0.2222222222222222,
              "#7201a8"
             ],
             [
              0.3333333333333333,
              "#9c179e"
             ],
             [
              0.4444444444444444,
              "#bd3786"
             ],
             [
              0.5555555555555556,
              "#d8576b"
             ],
             [
              0.6666666666666666,
              "#ed7953"
             ],
             [
              0.7777777777777778,
              "#fb9f3a"
             ],
             [
              0.8888888888888888,
              "#fdca26"
             ],
             [
              1,
              "#f0f921"
             ]
            ],
            "type": "heatmap"
           }
          ],
          "heatmapgl": [
           {
            "colorbar": {
             "outlinewidth": 0,
             "ticks": ""
            },
            "colorscale": [
             [
              0,
              "#0d0887"
             ],
             [
              0.1111111111111111,
              "#46039f"
             ],
             [
              0.2222222222222222,
              "#7201a8"
             ],
             [
              0.3333333333333333,
              "#9c179e"
             ],
             [
              0.4444444444444444,
              "#bd3786"
             ],
             [
              0.5555555555555556,
              "#d8576b"
             ],
             [
              0.6666666666666666,
              "#ed7953"
             ],
             [
              0.7777777777777778,
              "#fb9f3a"
             ],
             [
              0.8888888888888888,
              "#fdca26"
             ],
             [
              1,
              "#f0f921"
             ]
            ],
            "type": "heatmapgl"
           }
          ],
          "histogram": [
           {
            "marker": {
             "pattern": {
              "fillmode": "overlay",
              "size": 10,
              "solidity": 0.2
             }
            },
            "type": "histogram"
           }
          ],
          "histogram2d": [
           {
            "colorbar": {
             "outlinewidth": 0,
             "ticks": ""
            },
            "colorscale": [
             [
              0,
              "#0d0887"
             ],
             [
              0.1111111111111111,
              "#46039f"
             ],
             [
              0.2222222222222222,
              "#7201a8"
             ],
             [
              0.3333333333333333,
              "#9c179e"
             ],
             [
              0.4444444444444444,
              "#bd3786"
             ],
             [
              0.5555555555555556,
              "#d8576b"
             ],
             [
              0.6666666666666666,
              "#ed7953"
             ],
             [
              0.7777777777777778,
              "#fb9f3a"
             ],
             [
              0.8888888888888888,
              "#fdca26"
             ],
             [
              1,
              "#f0f921"
             ]
            ],
            "type": "histogram2d"
           }
          ],
          "histogram2dcontour": [
           {
            "colorbar": {
             "outlinewidth": 0,
             "ticks": ""
            },
            "colorscale": [
             [
              0,
              "#0d0887"
             ],
             [
              0.1111111111111111,
              "#46039f"
             ],
             [
              0.2222222222222222,
              "#7201a8"
             ],
             [
              0.3333333333333333,
              "#9c179e"
             ],
             [
              0.4444444444444444,
              "#bd3786"
             ],
             [
              0.5555555555555556,
              "#d8576b"
             ],
             [
              0.6666666666666666,
              "#ed7953"
             ],
             [
              0.7777777777777778,
              "#fb9f3a"
             ],
             [
              0.8888888888888888,
              "#fdca26"
             ],
             [
              1,
              "#f0f921"
             ]
            ],
            "type": "histogram2dcontour"
           }
          ],
          "mesh3d": [
           {
            "colorbar": {
             "outlinewidth": 0,
             "ticks": ""
            },
            "type": "mesh3d"
           }
          ],
          "parcoords": [
           {
            "line": {
             "colorbar": {
              "outlinewidth": 0,
              "ticks": ""
             }
            },
            "type": "parcoords"
           }
          ],
          "pie": [
           {
            "automargin": true,
            "type": "pie"
           }
          ],
          "scatter": [
           {
            "marker": {
             "colorbar": {
              "outlinewidth": 0,
              "ticks": ""
             }
            },
            "type": "scatter"
           }
          ],
          "scatter3d": [
           {
            "line": {
             "colorbar": {
              "outlinewidth": 0,
              "ticks": ""
             }
            },
            "marker": {
             "colorbar": {
              "outlinewidth": 0,
              "ticks": ""
             }
            },
            "type": "scatter3d"
           }
          ],
          "scattercarpet": [
           {
            "marker": {
             "colorbar": {
              "outlinewidth": 0,
              "ticks": ""
             }
            },
            "type": "scattercarpet"
           }
          ],
          "scattergeo": [
           {
            "marker": {
             "colorbar": {
              "outlinewidth": 0,
              "ticks": ""
             }
            },
            "type": "scattergeo"
           }
          ],
          "scattergl": [
           {
            "marker": {
             "colorbar": {
              "outlinewidth": 0,
              "ticks": ""
             }
            },
            "type": "scattergl"
           }
          ],
          "scattermapbox": [
           {
            "marker": {
             "colorbar": {
              "outlinewidth": 0,
              "ticks": ""
             }
            },
            "type": "scattermapbox"
           }
          ],
          "scatterpolar": [
           {
            "marker": {
             "colorbar": {
              "outlinewidth": 0,
              "ticks": ""
             }
            },
            "type": "scatterpolar"
           }
          ],
          "scatterpolargl": [
           {
            "marker": {
             "colorbar": {
              "outlinewidth": 0,
              "ticks": ""
             }
            },
            "type": "scatterpolargl"
           }
          ],
          "scatterternary": [
           {
            "marker": {
             "colorbar": {
              "outlinewidth": 0,
              "ticks": ""
             }
            },
            "type": "scatterternary"
           }
          ],
          "surface": [
           {
            "colorbar": {
             "outlinewidth": 0,
             "ticks": ""
            },
            "colorscale": [
             [
              0,
              "#0d0887"
             ],
             [
              0.1111111111111111,
              "#46039f"
             ],
             [
              0.2222222222222222,
              "#7201a8"
             ],
             [
              0.3333333333333333,
              "#9c179e"
             ],
             [
              0.4444444444444444,
              "#bd3786"
             ],
             [
              0.5555555555555556,
              "#d8576b"
             ],
             [
              0.6666666666666666,
              "#ed7953"
             ],
             [
              0.7777777777777778,
              "#fb9f3a"
             ],
             [
              0.8888888888888888,
              "#fdca26"
             ],
             [
              1,
              "#f0f921"
             ]
            ],
            "type": "surface"
           }
          ],
          "table": [
           {
            "cells": {
             "fill": {
              "color": "#EBF0F8"
             },
             "line": {
              "color": "white"
             }
            },
            "header": {
             "fill": {
              "color": "#C8D4E3"
             },
             "line": {
              "color": "white"
             }
            },
            "type": "table"
           }
          ]
         },
         "layout": {
          "annotationdefaults": {
           "arrowcolor": "#2a3f5f",
           "arrowhead": 0,
           "arrowwidth": 1
          },
          "autotypenumbers": "strict",
          "coloraxis": {
           "colorbar": {
            "outlinewidth": 0,
            "ticks": ""
           }
          },
          "colorscale": {
           "diverging": [
            [
             0,
             "#8e0152"
            ],
            [
             0.1,
             "#c51b7d"
            ],
            [
             0.2,
             "#de77ae"
            ],
            [
             0.3,
             "#f1b6da"
            ],
            [
             0.4,
             "#fde0ef"
            ],
            [
             0.5,
             "#f7f7f7"
            ],
            [
             0.6,
             "#e6f5d0"
            ],
            [
             0.7,
             "#b8e186"
            ],
            [
             0.8,
             "#7fbc41"
            ],
            [
             0.9,
             "#4d9221"
            ],
            [
             1,
             "#276419"
            ]
           ],
           "sequential": [
            [
             0,
             "#0d0887"
            ],
            [
             0.1111111111111111,
             "#46039f"
            ],
            [
             0.2222222222222222,
             "#7201a8"
            ],
            [
             0.3333333333333333,
             "#9c179e"
            ],
            [
             0.4444444444444444,
             "#bd3786"
            ],
            [
             0.5555555555555556,
             "#d8576b"
            ],
            [
             0.6666666666666666,
             "#ed7953"
            ],
            [
             0.7777777777777778,
             "#fb9f3a"
            ],
            [
             0.8888888888888888,
             "#fdca26"
            ],
            [
             1,
             "#f0f921"
            ]
           ],
           "sequentialminus": [
            [
             0,
             "#0d0887"
            ],
            [
             0.1111111111111111,
             "#46039f"
            ],
            [
             0.2222222222222222,
             "#7201a8"
            ],
            [
             0.3333333333333333,
             "#9c179e"
            ],
            [
             0.4444444444444444,
             "#bd3786"
            ],
            [
             0.5555555555555556,
             "#d8576b"
            ],
            [
             0.6666666666666666,
             "#ed7953"
            ],
            [
             0.7777777777777778,
             "#fb9f3a"
            ],
            [
             0.8888888888888888,
             "#fdca26"
            ],
            [
             1,
             "#f0f921"
            ]
           ]
          },
          "colorway": [
           "#636efa",
           "#EF553B",
           "#00cc96",
           "#ab63fa",
           "#FFA15A",
           "#19d3f3",
           "#FF6692",
           "#B6E880",
           "#FF97FF",
           "#FECB52"
          ],
          "font": {
           "color": "#2a3f5f"
          },
          "geo": {
           "bgcolor": "white",
           "lakecolor": "white",
           "landcolor": "#E5ECF6",
           "showlakes": true,
           "showland": true,
           "subunitcolor": "white"
          },
          "hoverlabel": {
           "align": "left"
          },
          "hovermode": "closest",
          "mapbox": {
           "style": "light"
          },
          "paper_bgcolor": "white",
          "plot_bgcolor": "#E5ECF6",
          "polar": {
           "angularaxis": {
            "gridcolor": "white",
            "linecolor": "white",
            "ticks": ""
           },
           "bgcolor": "#E5ECF6",
           "radialaxis": {
            "gridcolor": "white",
            "linecolor": "white",
            "ticks": ""
           }
          },
          "scene": {
           "xaxis": {
            "backgroundcolor": "#E5ECF6",
            "gridcolor": "white",
            "gridwidth": 2,
            "linecolor": "white",
            "showbackground": true,
            "ticks": "",
            "zerolinecolor": "white"
           },
           "yaxis": {
            "backgroundcolor": "#E5ECF6",
            "gridcolor": "white",
            "gridwidth": 2,
            "linecolor": "white",
            "showbackground": true,
            "ticks": "",
            "zerolinecolor": "white"
           },
           "zaxis": {
            "backgroundcolor": "#E5ECF6",
            "gridcolor": "white",
            "gridwidth": 2,
            "linecolor": "white",
            "showbackground": true,
            "ticks": "",
            "zerolinecolor": "white"
           }
          },
          "shapedefaults": {
           "line": {
            "color": "#2a3f5f"
           }
          },
          "ternary": {
           "aaxis": {
            "gridcolor": "white",
            "linecolor": "white",
            "ticks": ""
           },
           "baxis": {
            "gridcolor": "white",
            "linecolor": "white",
            "ticks": ""
           },
           "bgcolor": "#E5ECF6",
           "caxis": {
            "gridcolor": "white",
            "linecolor": "white",
            "ticks": ""
           }
          },
          "title": {
           "x": 0.05
          },
          "xaxis": {
           "automargin": true,
           "gridcolor": "white",
           "linecolor": "white",
           "ticks": "",
           "title": {
            "standoff": 15
           },
           "zerolinecolor": "white",
           "zerolinewidth": 2
          },
          "yaxis": {
           "automargin": true,
           "gridcolor": "white",
           "linecolor": "white",
           "ticks": "",
           "title": {
            "standoff": 15
           },
           "zerolinecolor": "white",
           "zerolinewidth": 2
          }
         }
        },
        "title": {
         "text": "Зависимость accuracy модели от параметра max_depth и n_estimators"
        },
        "width": 1000
       }
      },
      "text/html": [
       "<div>                            <div id=\"cc83c317-949f-46ab-85f0-7bdf4c5aeabc\" class=\"plotly-graph-div\" style=\"height:1000px; width:1000px;\"></div>            <script type=\"text/javascript\">                require([\"plotly\"], function(Plotly) {                    window.PLOTLYENV=window.PLOTLYENV || {};                                    if (document.getElementById(\"cc83c317-949f-46ab-85f0-7bdf4c5aeabc\")) {                    Plotly.newPlot(                        \"cc83c317-949f-46ab-85f0-7bdf4c5aeabc\",                        [{\"hovertemplate\":\"est=%{x}<br>depth=%{y}<br>accuracy=%{z}<extra></extra>\",\"legendgroup\":\"\",\"marker\":{\"color\":\"#636efa\",\"symbol\":\"circle\"},\"mode\":\"markers\",\"name\":\"\",\"scene\":\"scene\",\"showlegend\":false,\"x\":[\"\",11.0,61.0,11.0,91.0,81.0,31.0,11.0,91.0,11.0,11.0,81.0,81.0,81.0,71.0],\"y\":[\"\",1.0,2.0,3.0,4.0,5.0,6.0,7.0,8.0,9.0,10.0,11.0,12.0,13.0,14.0],\"z\":[\"\",0.7651632970451011,0.7978227060653188,0.8164852255054432,0.8180404354587869,0.8118195956454122,0.8180404354587869,0.8149300155520995,0.8180404354587869,0.8164852255054432,0.8211508553654744,0.8195956454121306,0.8211508553654744,0.8211508553654744,0.8164852255054432],\"type\":\"scatter3d\"}],                        {\"template\":{\"data\":{\"bar\":[{\"error_x\":{\"color\":\"#2a3f5f\"},\"error_y\":{\"color\":\"#2a3f5f\"},\"marker\":{\"line\":{\"color\":\"#E5ECF6\",\"width\":0.5},\"pattern\":{\"fillmode\":\"overlay\",\"size\":10,\"solidity\":0.2}},\"type\":\"bar\"}],\"barpolar\":[{\"marker\":{\"line\":{\"color\":\"#E5ECF6\",\"width\":0.5},\"pattern\":{\"fillmode\":\"overlay\",\"size\":10,\"solidity\":0.2}},\"type\":\"barpolar\"}],\"carpet\":[{\"aaxis\":{\"endlinecolor\":\"#2a3f5f\",\"gridcolor\":\"white\",\"linecolor\":\"white\",\"minorgridcolor\":\"white\",\"startlinecolor\":\"#2a3f5f\"},\"baxis\":{\"endlinecolor\":\"#2a3f5f\",\"gridcolor\":\"white\",\"linecolor\":\"white\",\"minorgridcolor\":\"white\",\"startlinecolor\":\"#2a3f5f\"},\"type\":\"carpet\"}],\"choropleth\":[{\"colorbar\":{\"outlinewidth\":0,\"ticks\":\"\"},\"type\":\"choropleth\"}],\"contour\":[{\"colorbar\":{\"outlinewidth\":0,\"ticks\":\"\"},\"colorscale\":[[0.0,\"#0d0887\"],[0.1111111111111111,\"#46039f\"],[0.2222222222222222,\"#7201a8\"],[0.3333333333333333,\"#9c179e\"],[0.4444444444444444,\"#bd3786\"],[0.5555555555555556,\"#d8576b\"],[0.6666666666666666,\"#ed7953\"],[0.7777777777777778,\"#fb9f3a\"],[0.8888888888888888,\"#fdca26\"],[1.0,\"#f0f921\"]],\"type\":\"contour\"}],\"contourcarpet\":[{\"colorbar\":{\"outlinewidth\":0,\"ticks\":\"\"},\"type\":\"contourcarpet\"}],\"heatmap\":[{\"colorbar\":{\"outlinewidth\":0,\"ticks\":\"\"},\"colorscale\":[[0.0,\"#0d0887\"],[0.1111111111111111,\"#46039f\"],[0.2222222222222222,\"#7201a8\"],[0.3333333333333333,\"#9c179e\"],[0.4444444444444444,\"#bd3786\"],[0.5555555555555556,\"#d8576b\"],[0.6666666666666666,\"#ed7953\"],[0.7777777777777778,\"#fb9f3a\"],[0.8888888888888888,\"#fdca26\"],[1.0,\"#f0f921\"]],\"type\":\"heatmap\"}],\"heatmapgl\":[{\"colorbar\":{\"outlinewidth\":0,\"ticks\":\"\"},\"colorscale\":[[0.0,\"#0d0887\"],[0.1111111111111111,\"#46039f\"],[0.2222222222222222,\"#7201a8\"],[0.3333333333333333,\"#9c179e\"],[0.4444444444444444,\"#bd3786\"],[0.5555555555555556,\"#d8576b\"],[0.6666666666666666,\"#ed7953\"],[0.7777777777777778,\"#fb9f3a\"],[0.8888888888888888,\"#fdca26\"],[1.0,\"#f0f921\"]],\"type\":\"heatmapgl\"}],\"histogram\":[{\"marker\":{\"pattern\":{\"fillmode\":\"overlay\",\"size\":10,\"solidity\":0.2}},\"type\":\"histogram\"}],\"histogram2d\":[{\"colorbar\":{\"outlinewidth\":0,\"ticks\":\"\"},\"colorscale\":[[0.0,\"#0d0887\"],[0.1111111111111111,\"#46039f\"],[0.2222222222222222,\"#7201a8\"],[0.3333333333333333,\"#9c179e\"],[0.4444444444444444,\"#bd3786\"],[0.5555555555555556,\"#d8576b\"],[0.6666666666666666,\"#ed7953\"],[0.7777777777777778,\"#fb9f3a\"],[0.8888888888888888,\"#fdca26\"],[1.0,\"#f0f921\"]],\"type\":\"histogram2d\"}],\"histogram2dcontour\":[{\"colorbar\":{\"outlinewidth\":0,\"ticks\":\"\"},\"colorscale\":[[0.0,\"#0d0887\"],[0.1111111111111111,\"#46039f\"],[0.2222222222222222,\"#7201a8\"],[0.3333333333333333,\"#9c179e\"],[0.4444444444444444,\"#bd3786\"],[0.5555555555555556,\"#d8576b\"],[0.6666666666666666,\"#ed7953\"],[0.7777777777777778,\"#fb9f3a\"],[0.8888888888888888,\"#fdca26\"],[1.0,\"#f0f921\"]],\"type\":\"histogram2dcontour\"}],\"mesh3d\":[{\"colorbar\":{\"outlinewidth\":0,\"ticks\":\"\"},\"type\":\"mesh3d\"}],\"parcoords\":[{\"line\":{\"colorbar\":{\"outlinewidth\":0,\"ticks\":\"\"}},\"type\":\"parcoords\"}],\"pie\":[{\"automargin\":true,\"type\":\"pie\"}],\"scatter\":[{\"marker\":{\"colorbar\":{\"outlinewidth\":0,\"ticks\":\"\"}},\"type\":\"scatter\"}],\"scatter3d\":[{\"line\":{\"colorbar\":{\"outlinewidth\":0,\"ticks\":\"\"}},\"marker\":{\"colorbar\":{\"outlinewidth\":0,\"ticks\":\"\"}},\"type\":\"scatter3d\"}],\"scattercarpet\":[{\"marker\":{\"colorbar\":{\"outlinewidth\":0,\"ticks\":\"\"}},\"type\":\"scattercarpet\"}],\"scattergeo\":[{\"marker\":{\"colorbar\":{\"outlinewidth\":0,\"ticks\":\"\"}},\"type\":\"scattergeo\"}],\"scattergl\":[{\"marker\":{\"colorbar\":{\"outlinewidth\":0,\"ticks\":\"\"}},\"type\":\"scattergl\"}],\"scattermapbox\":[{\"marker\":{\"colorbar\":{\"outlinewidth\":0,\"ticks\":\"\"}},\"type\":\"scattermapbox\"}],\"scatterpolar\":[{\"marker\":{\"colorbar\":{\"outlinewidth\":0,\"ticks\":\"\"}},\"type\":\"scatterpolar\"}],\"scatterpolargl\":[{\"marker\":{\"colorbar\":{\"outlinewidth\":0,\"ticks\":\"\"}},\"type\":\"scatterpolargl\"}],\"scatterternary\":[{\"marker\":{\"colorbar\":{\"outlinewidth\":0,\"ticks\":\"\"}},\"type\":\"scatterternary\"}],\"surface\":[{\"colorbar\":{\"outlinewidth\":0,\"ticks\":\"\"},\"colorscale\":[[0.0,\"#0d0887\"],[0.1111111111111111,\"#46039f\"],[0.2222222222222222,\"#7201a8\"],[0.3333333333333333,\"#9c179e\"],[0.4444444444444444,\"#bd3786\"],[0.5555555555555556,\"#d8576b\"],[0.6666666666666666,\"#ed7953\"],[0.7777777777777778,\"#fb9f3a\"],[0.8888888888888888,\"#fdca26\"],[1.0,\"#f0f921\"]],\"type\":\"surface\"}],\"table\":[{\"cells\":{\"fill\":{\"color\":\"#EBF0F8\"},\"line\":{\"color\":\"white\"}},\"header\":{\"fill\":{\"color\":\"#C8D4E3\"},\"line\":{\"color\":\"white\"}},\"type\":\"table\"}]},\"layout\":{\"annotationdefaults\":{\"arrowcolor\":\"#2a3f5f\",\"arrowhead\":0,\"arrowwidth\":1},\"autotypenumbers\":\"strict\",\"coloraxis\":{\"colorbar\":{\"outlinewidth\":0,\"ticks\":\"\"}},\"colorscale\":{\"diverging\":[[0,\"#8e0152\"],[0.1,\"#c51b7d\"],[0.2,\"#de77ae\"],[0.3,\"#f1b6da\"],[0.4,\"#fde0ef\"],[0.5,\"#f7f7f7\"],[0.6,\"#e6f5d0\"],[0.7,\"#b8e186\"],[0.8,\"#7fbc41\"],[0.9,\"#4d9221\"],[1,\"#276419\"]],\"sequential\":[[0.0,\"#0d0887\"],[0.1111111111111111,\"#46039f\"],[0.2222222222222222,\"#7201a8\"],[0.3333333333333333,\"#9c179e\"],[0.4444444444444444,\"#bd3786\"],[0.5555555555555556,\"#d8576b\"],[0.6666666666666666,\"#ed7953\"],[0.7777777777777778,\"#fb9f3a\"],[0.8888888888888888,\"#fdca26\"],[1.0,\"#f0f921\"]],\"sequentialminus\":[[0.0,\"#0d0887\"],[0.1111111111111111,\"#46039f\"],[0.2222222222222222,\"#7201a8\"],[0.3333333333333333,\"#9c179e\"],[0.4444444444444444,\"#bd3786\"],[0.5555555555555556,\"#d8576b\"],[0.6666666666666666,\"#ed7953\"],[0.7777777777777778,\"#fb9f3a\"],[0.8888888888888888,\"#fdca26\"],[1.0,\"#f0f921\"]]},\"colorway\":[\"#636efa\",\"#EF553B\",\"#00cc96\",\"#ab63fa\",\"#FFA15A\",\"#19d3f3\",\"#FF6692\",\"#B6E880\",\"#FF97FF\",\"#FECB52\"],\"font\":{\"color\":\"#2a3f5f\"},\"geo\":{\"bgcolor\":\"white\",\"lakecolor\":\"white\",\"landcolor\":\"#E5ECF6\",\"showlakes\":true,\"showland\":true,\"subunitcolor\":\"white\"},\"hoverlabel\":{\"align\":\"left\"},\"hovermode\":\"closest\",\"mapbox\":{\"style\":\"light\"},\"paper_bgcolor\":\"white\",\"plot_bgcolor\":\"#E5ECF6\",\"polar\":{\"angularaxis\":{\"gridcolor\":\"white\",\"linecolor\":\"white\",\"ticks\":\"\"},\"bgcolor\":\"#E5ECF6\",\"radialaxis\":{\"gridcolor\":\"white\",\"linecolor\":\"white\",\"ticks\":\"\"}},\"scene\":{\"xaxis\":{\"backgroundcolor\":\"#E5ECF6\",\"gridcolor\":\"white\",\"gridwidth\":2,\"linecolor\":\"white\",\"showbackground\":true,\"ticks\":\"\",\"zerolinecolor\":\"white\"},\"yaxis\":{\"backgroundcolor\":\"#E5ECF6\",\"gridcolor\":\"white\",\"gridwidth\":2,\"linecolor\":\"white\",\"showbackground\":true,\"ticks\":\"\",\"zerolinecolor\":\"white\"},\"zaxis\":{\"backgroundcolor\":\"#E5ECF6\",\"gridcolor\":\"white\",\"gridwidth\":2,\"linecolor\":\"white\",\"showbackground\":true,\"ticks\":\"\",\"zerolinecolor\":\"white\"}},\"shapedefaults\":{\"line\":{\"color\":\"#2a3f5f\"}},\"ternary\":{\"aaxis\":{\"gridcolor\":\"white\",\"linecolor\":\"white\",\"ticks\":\"\"},\"baxis\":{\"gridcolor\":\"white\",\"linecolor\":\"white\",\"ticks\":\"\"},\"bgcolor\":\"#E5ECF6\",\"caxis\":{\"gridcolor\":\"white\",\"linecolor\":\"white\",\"ticks\":\"\"}},\"title\":{\"x\":0.05},\"xaxis\":{\"automargin\":true,\"gridcolor\":\"white\",\"linecolor\":\"white\",\"ticks\":\"\",\"title\":{\"standoff\":15},\"zerolinecolor\":\"white\",\"zerolinewidth\":2},\"yaxis\":{\"automargin\":true,\"gridcolor\":\"white\",\"linecolor\":\"white\",\"ticks\":\"\",\"title\":{\"standoff\":15},\"zerolinecolor\":\"white\",\"zerolinewidth\":2}}},\"scene\":{\"domain\":{\"x\":[0.0,1.0],\"y\":[0.0,1.0]},\"xaxis\":{\"title\":{\"text\":\"est\"}},\"yaxis\":{\"title\":{\"text\":\"depth\"}},\"zaxis\":{\"title\":{\"text\":\"accuracy\"}}},\"legend\":{\"tracegroupgap\":0},\"title\":{\"text\":\"\\u0417\\u0430\\u0432\\u0438\\u0441\\u0438\\u043c\\u043e\\u0441\\u0442\\u044c accuracy \\u043c\\u043e\\u0434\\u0435\\u043b\\u0438 \\u043e\\u0442 \\u043f\\u0430\\u0440\\u0430\\u043c\\u0435\\u0442\\u0440\\u0430 max_depth \\u0438 n_estimators\"},\"height\":1000,\"width\":1000},                        {\"responsive\": true}                    ).then(function(){\n",
       "                            \n",
       "var gd = document.getElementById('cc83c317-949f-46ab-85f0-7bdf4c5aeabc');\n",
       "var x = new MutationObserver(function (mutations, observer) {{\n",
       "        var display = window.getComputedStyle(gd).display;\n",
       "        if (!display || display === 'none') {{\n",
       "            console.log([gd, 'removed!']);\n",
       "            Plotly.purge(gd);\n",
       "            observer.disconnect();\n",
       "        }}\n",
       "}});\n",
       "\n",
       "// Listen for the removal of the full notebook cells\n",
       "var notebookContainer = gd.closest('#notebook-container');\n",
       "if (notebookContainer) {{\n",
       "    x.observe(notebookContainer, {childList: true});\n",
       "}}\n",
       "\n",
       "// Listen for the clearing of the current output cell\n",
       "var outputEl = gd.closest('.output');\n",
       "if (outputEl) {{\n",
       "    x.observe(outputEl, {childList: true});\n",
       "}}\n",
       "\n",
       "                        })                };                });            </script>        </div>"
      ]
     },
     "metadata": {},
     "output_type": "display_data"
    }
   ],
   "source": [
    "import plotly.express as px\n",
    "fig = px.scatter_3d(xyz, \n",
    "                    x='est', \n",
    "                    y='depth', \n",
    "                    z='accuracy', \n",
    "                    title= 'Зависимость accuracy модели от параметра max_depth и n_estimators',\n",
    "                    width=1000,\n",
    "                    height=1000)\n",
    "fig.show()"
   ]
  },
  {
   "cell_type": "code",
   "execution_count": 28,
   "metadata": {},
   "outputs": [
    {
     "name": "stdout",
     "output_type": "stream",
     "text": [
      "CPU times: user 1min 42s, sys: 497 ms, total: 1min 42s\n",
      "Wall time: 1min 42s\n"
     ]
    },
    {
     "data": {
      "text/plain": [
       "GridSearchCV(estimator=RandomForestClassifier(random_state=54321),\n",
       "             param_grid={'max_depth': range(1, 15),\n",
       "                         'n_estimators': range(1, 101, 10)})"
      ]
     },
     "execution_count": 28,
     "metadata": {},
     "output_type": "execute_result"
    }
   ],
   "source": [
    "%%time\n",
    "from sklearn.model_selection import GridSearchCV\n",
    "#features = data.drop('is_ultra', axis=1)\n",
    "#target = data['is_ultra']\n",
    "\n",
    "features = data_train_valid.drop('is_ultra', axis=1)\n",
    "target = data_train_valid['is_ultra']\n",
    "\n",
    "parametrs = { 'n_estimators': range (1, 101, 10),\n",
    "              'max_depth': range (1,15, 1)\n",
    "            }\n",
    "clf = RandomForestClassifier(random_state=54321)\n",
    "grid = GridSearchCV(clf, parametrs)\n",
    "grid.fit(features, target)"
   ]
  },
  {
   "cell_type": "code",
   "execution_count": 30,
   "metadata": {},
   "outputs": [
    {
     "name": "stdout",
     "output_type": "stream",
     "text": [
      "{'max_depth': 10, 'n_estimators': 51}\n",
      "0.8090227040912696\n",
      "RandomForestClassifier(max_depth=10, n_estimators=51, random_state=54321)\n"
     ]
    }
   ],
   "source": [
    "print(grid.best_params_)\n",
    "print(grid.best_score_)\n",
    "print(grid.best_estimator_)"
   ]
  },
  {
   "cell_type": "code",
   "execution_count": null,
   "metadata": {
    "scrolled": true
   },
   "outputs": [],
   "source": [
    "%%time\n",
    "\n",
    "best_accuracy = 0\n",
    "comb_param = {'newton-cg': ['l2', 'none'],\n",
    "             'lbfgs': ['l2', 'none'],\n",
    "             'saga': ['l1', 'l2']\n",
    "            }\n",
    "\n",
    "for m_iter in range(100, 1000, 100):\n",
    "    for c_val in [100, 10, 0.1]:\n",
    "        for solvr_param in comb_param:\n",
    "            for pen_ty in comb_param[solvr_param]:\n",
    "                model = LogisticRegression(random_state = 54321, solver = solvr_param, C=c_val, penalty = pen_ty, max_iter = m_iter)\n",
    "                model.fit(features_train, target_train)\n",
    "                predictions = model.predict(features_valid)\n",
    "                accuracy = accuracy_score(target_valid, predictions)\n",
    "                if accuracy > best_accuracy:\n",
    "                    best_accuracy = accuracy\n",
    "                    best_param = 'solver=' + solvr_param +', penalty=' + pen_ty + ', max_iter=' + str(m_iter) + ', C=' + str(c_val)\n",
    "                    model_LR = model\n",
    "\n",
    "print('Лучшая модель LogisticRegression на валидационной выборке с параметрами:', best_param)\n",
    "print('Лучшая accuracy на валидационной выборке:', best_accuracy)"
   ]
  },
  {
   "cell_type": "code",
   "execution_count": null,
   "metadata": {
    "scrolled": true
   },
   "outputs": [],
   "source": [
    "features = data.drop('is_ultra', axis=1)\n",
    "target = data['is_ultra']\n",
    "lr_model = LogisticRegression()\n",
    "solvers = ['newton-cg', 'lbfgs', 'liblinear']\n",
    "penalty = ['l2']\n",
    "c_values = [100, 10, 0.1]\n",
    "\n",
    "grid = dict(solver=solvers,penalty=penalty,C=c_values)\n",
    "grid_search = GridSearchCV(estimator=lr_model, param_grid=grid, n_jobs=-1, scoring='accuracy', error_score=0)\n",
    "grid_result = grid_search.fit(features, target)\n",
    "\n",
    "print(\"Лучшая accuracy LogisticRegression: %f using %s\" % (grid_result.best_score_, grid_result.best_params_))"
   ]
  },
  {
   "cell_type": "markdown",
   "metadata": {},
   "source": [
    "**Вывод**  \n",
    "Таким образом, максимальную точность (accuracy) показывает модель - случайный лес (RandomForestClassifier)."
   ]
  },
  {
   "cell_type": "markdown",
   "metadata": {},
   "source": [
    "## Проверка модели на тестовой выборке"
   ]
  },
  {
   "cell_type": "code",
   "execution_count": null,
   "metadata": {},
   "outputs": [],
   "source": [
    "%%time\n",
    "\n",
    "features_train_valid = data_train_valid.drop('is_ultra', axis=1)\n",
    "target__train_valid = data_train_valid['is_ultra']\n",
    "\n",
    "features_test = data_test.drop('is_ultra', axis=1)\n",
    "target__test = data_test['is_ultra']\n",
    "\n",
    "\n",
    "model_RF = RandomForestClassifier(random_state=54321, max_depth=10, n_estimators=11)\n",
    "model_RF.fit(features_train_valid, target__train_valid)\n",
    "\n",
    "predictions = model_RF.predict(features_test)\n",
    "accuracy = accuracy_score(target_test, predictions)\n",
    "print('Модель RandomForestClassifier переобученная на объединённой (обучающая+валидационная) выборке показала accuracy на тесте:', accuracy)"
   ]
  },
  {
   "cell_type": "code",
   "execution_count": null,
   "metadata": {},
   "outputs": [],
   "source": [
    "%%time\n",
    "\n",
    "features_train_valid = data_train_valid.drop('is_ultra', axis=1)\n",
    "target__train_valid = data_train_valid['is_ultra']\n",
    "\n",
    "features_test = data_test.drop('is_ultra', axis=1)\n",
    "target__test = data_test['is_ultra']\n",
    "\n",
    "\n",
    "model_RF = RandomForestClassifier(random_state=54321, max_depth=11, n_estimators=71)\n",
    "model_RF.fit(features_train_valid, target__train_valid)\n",
    "\n",
    "predictions = model_RF.predict(features_test)\n",
    "accuracy = accuracy_score(target_test, predictions)\n",
    "print('Модель RandomForestClassifier переобученная на объединённой (обучающая+валидационная) выборке показала accuracy на тесте(гиперпараметры подобраны GridSearch):', accuracy)"
   ]
  },
  {
   "cell_type": "markdown",
   "metadata": {},
   "source": [
    "**Вывод**  \n",
    "Таким образом, наилучшую точность модель RandomForest показала при переобучении на обучающе-валидационной выборке с гиперпараметрами, подобранными алгоритмическим способом, с гиперпараметрами от GreedSearch значения точности немного ниже."
   ]
  },
  {
   "cell_type": "markdown",
   "metadata": {},
   "source": [
    "## Проверка модели на адекватность (бонус)"
   ]
  },
  {
   "cell_type": "code",
   "execution_count": null,
   "metadata": {},
   "outputs": [],
   "source": [
    "model_Dummy = DummyClassifier(random_state=54321)\n",
    "model_Dummy.fit(features_train, target_train)\n",
    "predictions = model_Dummy.predict(features_test)\n",
    "accuracy = accuracy_score(target_test, predictions)\n",
    "print('Модель DummyClassifier на тестовой выборке показала accuracy:', accuracy)"
   ]
  },
  {
   "cell_type": "markdown",
   "metadata": {},
   "source": [
    "**Вывод**  \n",
    "Таким образом, оценивая вменяемость модели model_RF (случайный лес) в сравнении с моделью model_Dummy (модель, не использующая входящих данных), можно сделать вывод, что обученная нами в данном исследовании модель проявляет себя заметно лучше по показателю accuracy, т.е. имеет предсказательную применимость."
   ]
  },
  {
   "cell_type": "markdown",
   "metadata": {},
   "source": [
    "## Чек-лист готовности проекта"
   ]
  },
  {
   "cell_type": "markdown",
   "metadata": {},
   "source": [
    "Поставьте 'x' в выполненных пунктах. Далее нажмите Shift+Enter."
   ]
  },
  {
   "cell_type": "markdown",
   "metadata": {},
   "source": [
    "- [x] Jupyter Notebook открыт\n",
    "- [x] Весь код исполняется без ошибок\n",
    "- [x] Ячейки с кодом расположены в порядке исполнения\n",
    "- [x] Выполнено задание 1: данные загружены и изучены\n",
    "- [x] Выполнено задание 2: данные разбиты на три выборки\n",
    "- [x] Выполнено задание 3: проведено исследование моделей\n",
    "    - [x] Рассмотрено больше одной модели\n",
    "    - [x] Рассмотрено хотя бы 3 значения гипепараметров для какой-нибудь модели\n",
    "    - [x] Написаны выводы по результатам исследования\n",
    "- [x] Выполнено задание 3: Проведено тестирование\n",
    "- [x] Удалось достичь accuracy не меньше 0.75\n"
   ]
  }
 ],
 "metadata": {
  "ExecuteTimeLog": [
   {
    "duration": 64,
    "start_time": "2022-05-30T21:43:54.773Z"
   },
   {
    "duration": 89,
    "start_time": "2022-05-30T21:44:00.599Z"
   },
   {
    "duration": 0,
    "start_time": "2022-05-30T21:44:00.691Z"
   },
   {
    "duration": 39,
    "start_time": "2022-05-30T21:44:28.880Z"
   },
   {
    "duration": 75,
    "start_time": "2022-05-30T21:45:36.848Z"
   },
   {
    "duration": 70,
    "start_time": "2022-05-30T21:46:12.053Z"
   },
   {
    "duration": 1853,
    "start_time": "2022-05-30T21:46:34.706Z"
   },
   {
    "duration": 265,
    "start_time": "2022-05-30T21:47:49.248Z"
   },
   {
    "duration": 55,
    "start_time": "2022-05-31T10:16:15.033Z"
   },
   {
    "duration": 897,
    "start_time": "2022-05-31T10:16:21.627Z"
   },
   {
    "duration": 164,
    "start_time": "2022-05-31T10:16:25.034Z"
   },
   {
    "duration": 59,
    "start_time": "2022-05-31T10:16:49.833Z"
   },
   {
    "duration": 59,
    "start_time": "2022-05-31T10:20:19.205Z"
   },
   {
    "duration": 61,
    "start_time": "2022-06-01T19:48:43.504Z"
   },
   {
    "duration": 1248,
    "start_time": "2022-06-01T19:48:48.114Z"
   },
   {
    "duration": 183,
    "start_time": "2022-06-01T19:48:49.364Z"
   },
   {
    "duration": 7,
    "start_time": "2022-06-01T19:48:53.427Z"
   },
   {
    "duration": 11,
    "start_time": "2022-06-01T19:49:12.407Z"
   },
   {
    "duration": 9,
    "start_time": "2022-06-01T19:49:44.606Z"
   },
   {
    "duration": 9,
    "start_time": "2022-06-01T19:50:19.289Z"
   },
   {
    "duration": 8,
    "start_time": "2022-06-01T19:50:34.679Z"
   },
   {
    "duration": 7,
    "start_time": "2022-06-01T19:50:41.773Z"
   },
   {
    "duration": 7,
    "start_time": "2022-06-01T19:50:57.095Z"
   },
   {
    "duration": 70,
    "start_time": "2022-06-01T20:34:06.137Z"
   },
   {
    "duration": 13,
    "start_time": "2022-06-01T20:34:36.237Z"
   },
   {
    "duration": 11,
    "start_time": "2022-06-01T20:34:43.658Z"
   },
   {
    "duration": 18,
    "start_time": "2022-06-01T20:36:04.012Z"
   },
   {
    "duration": 14,
    "start_time": "2022-06-01T20:36:15.835Z"
   },
   {
    "duration": 546,
    "start_time": "2022-06-01T20:38:15.470Z"
   },
   {
    "duration": 499,
    "start_time": "2022-06-01T20:38:33.031Z"
   },
   {
    "duration": 472,
    "start_time": "2022-06-01T20:42:15.999Z"
   },
   {
    "duration": 471,
    "start_time": "2022-06-01T20:43:33.398Z"
   },
   {
    "duration": 456,
    "start_time": "2022-06-01T21:03:52.546Z"
   },
   {
    "duration": 1543,
    "start_time": "2022-06-01T21:04:14.647Z"
   },
   {
    "duration": 3868,
    "start_time": "2022-06-01T21:04:29.692Z"
   },
   {
    "duration": 13382,
    "start_time": "2022-06-01T21:04:55.200Z"
   },
   {
    "duration": 2107,
    "start_time": "2022-06-01T21:06:28.084Z"
   },
   {
    "duration": 58118,
    "start_time": "2022-06-01T21:07:12.220Z"
   },
   {
    "duration": 5137,
    "start_time": "2022-06-01T21:08:26.461Z"
   },
   {
    "duration": 5291,
    "start_time": "2022-06-01T21:08:49.758Z"
   },
   {
    "duration": 15961,
    "start_time": "2022-06-01T21:09:10.958Z"
   },
   {
    "duration": 15603,
    "start_time": "2022-06-01T21:11:09.441Z"
   },
   {
    "duration": 112,
    "start_time": "2022-06-01T21:11:25.045Z"
   },
   {
    "duration": 180,
    "start_time": "2022-06-01T21:12:31.817Z"
   },
   {
    "duration": 100,
    "start_time": "2022-06-01T21:12:41.171Z"
   },
   {
    "duration": 162,
    "start_time": "2022-06-01T21:12:47.377Z"
   },
   {
    "duration": 507,
    "start_time": "2022-06-01T21:12:57.610Z"
   },
   {
    "duration": 81869,
    "start_time": "2022-06-01T21:14:45.820Z"
   },
   {
    "duration": 64,
    "start_time": "2022-06-01T21:16:51.064Z"
   },
   {
    "duration": 1741,
    "start_time": "2022-06-01T21:17:15.032Z"
   },
   {
    "duration": 5647,
    "start_time": "2022-06-01T21:17:26.597Z"
   },
   {
    "duration": 2059,
    "start_time": "2022-06-01T21:17:40.279Z"
   },
   {
    "duration": 11887,
    "start_time": "2022-06-01T21:17:46.872Z"
   },
   {
    "duration": 1657,
    "start_time": "2022-06-01T21:18:10.177Z"
   },
   {
    "duration": 85,
    "start_time": "2022-06-01T21:25:25.225Z"
   },
   {
    "duration": 13,
    "start_time": "2022-06-01T21:25:40.950Z"
   },
   {
    "duration": 1190,
    "start_time": "2022-06-01T21:25:47.050Z"
   },
   {
    "duration": 1178,
    "start_time": "2022-06-01T21:26:54.876Z"
   },
   {
    "duration": 1021,
    "start_time": "2022-06-01T21:27:00.332Z"
   },
   {
    "duration": 1090,
    "start_time": "2022-06-01T21:27:04.956Z"
   },
   {
    "duration": 944,
    "start_time": "2022-06-01T21:27:09.900Z"
   },
   {
    "duration": 1033,
    "start_time": "2022-06-01T21:27:17.972Z"
   },
   {
    "duration": 12994,
    "start_time": "2022-06-01T21:27:29.716Z"
   },
   {
    "duration": 13181,
    "start_time": "2022-06-01T21:28:20.575Z"
   },
   {
    "duration": 12089,
    "start_time": "2022-06-01T21:29:13.079Z"
   },
   {
    "duration": 18,
    "start_time": "2022-06-01T21:29:41.824Z"
   },
   {
    "duration": 12866,
    "start_time": "2022-06-01T21:29:52.672Z"
   },
   {
    "duration": 1072,
    "start_time": "2022-06-01T21:30:14.864Z"
   },
   {
    "duration": 1042,
    "start_time": "2022-06-01T21:35:21.647Z"
   },
   {
    "duration": 62,
    "start_time": "2022-06-01T22:16:53.623Z"
   },
   {
    "duration": 60,
    "start_time": "2022-06-01T22:17:05.139Z"
   },
   {
    "duration": 63,
    "start_time": "2022-06-01T22:17:19.251Z"
   },
   {
    "duration": 49,
    "start_time": "2022-06-01T22:18:53.926Z"
   },
   {
    "duration": 50,
    "start_time": "2022-06-01T22:19:16.605Z"
   },
   {
    "duration": 1413,
    "start_time": "2022-06-01T22:19:37.327Z"
   },
   {
    "duration": 969,
    "start_time": "2022-06-01T22:20:37.664Z"
   },
   {
    "duration": 41,
    "start_time": "2022-06-01T22:21:08.058Z"
   },
   {
    "duration": 28,
    "start_time": "2022-06-01T22:21:26.370Z"
   },
   {
    "duration": 197,
    "start_time": "2022-06-01T22:21:33.996Z"
   },
   {
    "duration": 195,
    "start_time": "2022-06-01T22:21:45.434Z"
   },
   {
    "duration": 230,
    "start_time": "2022-06-01T22:21:51.179Z"
   },
   {
    "duration": 300,
    "start_time": "2022-06-01T22:22:08.909Z"
   },
   {
    "duration": 354,
    "start_time": "2022-06-01T22:22:27.522Z"
   },
   {
    "duration": 924,
    "start_time": "2022-06-01T22:22:49.339Z"
   },
   {
    "duration": 1036,
    "start_time": "2022-06-01T22:24:22.916Z"
   },
   {
    "duration": 995,
    "start_time": "2022-06-01T22:24:38.637Z"
   },
   {
    "duration": 989,
    "start_time": "2022-06-01T22:24:48.140Z"
   },
   {
    "duration": 1005,
    "start_time": "2022-06-01T22:24:57.653Z"
   },
   {
    "duration": 175,
    "start_time": "2022-06-01T22:25:49.423Z"
   },
   {
    "duration": 112,
    "start_time": "2022-06-01T22:29:51.652Z"
   },
   {
    "duration": 29,
    "start_time": "2022-06-01T22:38:13.095Z"
   },
   {
    "duration": 14,
    "start_time": "2022-06-01T22:38:18.970Z"
   },
   {
    "duration": 59,
    "start_time": "2022-06-01T22:38:18.986Z"
   },
   {
    "duration": 5,
    "start_time": "2022-06-01T22:38:19.047Z"
   },
   {
    "duration": 64,
    "start_time": "2022-06-01T22:38:19.053Z"
   },
   {
    "duration": 1464,
    "start_time": "2022-06-01T22:38:19.119Z"
   },
   {
    "duration": 118,
    "start_time": "2022-06-01T22:38:20.585Z"
   },
   {
    "duration": 25,
    "start_time": "2022-06-01T22:38:28.446Z"
   },
   {
    "duration": 293,
    "start_time": "2022-06-01T22:39:46.383Z"
   },
   {
    "duration": 10,
    "start_time": "2022-06-01T22:41:10.722Z"
   },
   {
    "duration": 9,
    "start_time": "2022-06-01T22:42:43.908Z"
   },
   {
    "duration": 6,
    "start_time": "2022-06-01T22:45:47.002Z"
   },
   {
    "duration": 5,
    "start_time": "2022-06-01T22:46:29.292Z"
   },
   {
    "duration": 12,
    "start_time": "2022-06-01T22:47:00.106Z"
   },
   {
    "duration": 418,
    "start_time": "2022-06-01T22:47:08.992Z"
   },
   {
    "duration": 378,
    "start_time": "2022-06-01T22:47:21.618Z"
   },
   {
    "duration": 2170,
    "start_time": "2022-06-01T22:47:32.666Z"
   },
   {
    "duration": 2043,
    "start_time": "2022-06-01T22:47:55.548Z"
   },
   {
    "duration": 206,
    "start_time": "2022-06-01T22:48:22.555Z"
   },
   {
    "duration": 345,
    "start_time": "2022-06-01T22:48:32.395Z"
   },
   {
    "duration": 20,
    "start_time": "2022-06-01T22:50:48.216Z"
   },
   {
    "duration": 22,
    "start_time": "2022-06-01T22:50:56.870Z"
   },
   {
    "duration": 9,
    "start_time": "2022-06-01T23:06:51.766Z"
   },
   {
    "duration": 25,
    "start_time": "2022-06-01T23:07:00.037Z"
   },
   {
    "duration": 63,
    "start_time": "2022-06-01T23:07:00.064Z"
   },
   {
    "duration": 6,
    "start_time": "2022-06-01T23:07:00.128Z"
   },
   {
    "duration": 75,
    "start_time": "2022-06-01T23:07:00.135Z"
   },
   {
    "duration": 1581,
    "start_time": "2022-06-01T23:07:00.211Z"
   },
   {
    "duration": 27,
    "start_time": "2022-06-01T23:07:01.793Z"
   },
   {
    "duration": 11,
    "start_time": "2022-06-01T23:07:01.822Z"
   },
   {
    "duration": 6,
    "start_time": "2022-06-01T23:07:01.835Z"
   },
   {
    "duration": 7,
    "start_time": "2022-06-01T23:07:01.843Z"
   },
   {
    "duration": 5,
    "start_time": "2022-06-01T23:07:09.540Z"
   },
   {
    "duration": 1072,
    "start_time": "2022-06-02T08:38:39.702Z"
   },
   {
    "duration": 158,
    "start_time": "2022-06-02T08:38:40.777Z"
   },
   {
    "duration": 6,
    "start_time": "2022-06-02T08:38:40.939Z"
   },
   {
    "duration": 84,
    "start_time": "2022-06-02T08:38:40.947Z"
   },
   {
    "duration": 1909,
    "start_time": "2022-06-02T08:38:41.033Z"
   },
   {
    "duration": 20,
    "start_time": "2022-06-02T08:38:42.944Z"
   },
   {
    "duration": 20,
    "start_time": "2022-06-02T08:38:42.966Z"
   },
   {
    "duration": 66,
    "start_time": "2022-06-02T08:38:42.987Z"
   },
   {
    "duration": 21,
    "start_time": "2022-06-02T08:38:43.057Z"
   },
   {
    "duration": 43,
    "start_time": "2022-06-02T08:38:43.080Z"
   },
   {
    "duration": 6,
    "start_time": "2022-06-02T08:39:04.606Z"
   },
   {
    "duration": 6,
    "start_time": "2022-06-02T08:41:28.798Z"
   },
   {
    "duration": 4,
    "start_time": "2022-06-02T08:41:38.695Z"
   },
   {
    "duration": 4,
    "start_time": "2022-06-02T08:41:54.359Z"
   },
   {
    "duration": 5,
    "start_time": "2022-06-02T08:44:23.984Z"
   },
   {
    "duration": 7,
    "start_time": "2022-06-02T08:45:10.845Z"
   },
   {
    "duration": 7,
    "start_time": "2022-06-02T08:45:30.605Z"
   },
   {
    "duration": 54,
    "start_time": "2022-06-02T14:23:39.040Z"
   },
   {
    "duration": 40,
    "start_time": "2022-06-02T14:23:47.599Z"
   },
   {
    "duration": 93,
    "start_time": "2022-06-02T14:24:24.746Z"
   },
   {
    "duration": 53,
    "start_time": "2022-06-02T14:24:38.385Z"
   },
   {
    "duration": 1282,
    "start_time": "2022-06-02T14:24:42.665Z"
   },
   {
    "duration": 158,
    "start_time": "2022-06-02T14:24:43.949Z"
   },
   {
    "duration": 5,
    "start_time": "2022-06-02T14:24:44.109Z"
   },
   {
    "duration": 72,
    "start_time": "2022-06-02T14:24:44.116Z"
   },
   {
    "duration": 1710,
    "start_time": "2022-06-02T14:24:44.191Z"
   },
   {
    "duration": 75,
    "start_time": "2022-06-02T14:24:45.903Z"
   },
   {
    "duration": 44,
    "start_time": "2022-06-02T14:25:48.840Z"
   },
   {
    "duration": 919,
    "start_time": "2022-06-02T14:30:02.293Z"
   },
   {
    "duration": 29,
    "start_time": "2022-06-02T14:36:41.167Z"
   },
   {
    "duration": 78,
    "start_time": "2022-06-02T14:37:27.403Z"
   },
   {
    "duration": 900,
    "start_time": "2022-06-02T14:37:51.346Z"
   },
   {
    "duration": 16,
    "start_time": "2022-06-02T14:40:00.817Z"
   },
   {
    "duration": 88,
    "start_time": "2022-06-02T14:40:21.904Z"
   },
   {
    "duration": 9,
    "start_time": "2022-06-02T14:43:51.270Z"
   },
   {
    "duration": 15,
    "start_time": "2022-06-02T14:45:26.091Z"
   },
   {
    "duration": 200,
    "start_time": "2022-06-02T14:45:45.155Z"
   },
   {
    "duration": 11,
    "start_time": "2022-06-02T14:46:14.475Z"
   },
   {
    "duration": 230,
    "start_time": "2022-06-02T14:46:53.123Z"
   },
   {
    "duration": 6,
    "start_time": "2022-06-02T14:46:58.916Z"
   },
   {
    "duration": 330,
    "start_time": "2022-06-02T14:47:45.956Z"
   },
   {
    "duration": 169,
    "start_time": "2022-06-02T14:48:13.238Z"
   },
   {
    "duration": 55,
    "start_time": "2022-06-02T19:07:25.184Z"
   },
   {
    "duration": 1221,
    "start_time": "2022-06-02T19:07:32.190Z"
   },
   {
    "duration": 163,
    "start_time": "2022-06-02T19:07:33.414Z"
   },
   {
    "duration": 89,
    "start_time": "2022-06-02T19:07:40.511Z"
   },
   {
    "duration": 8,
    "start_time": "2022-06-02T19:11:15.953Z"
   },
   {
    "duration": 8,
    "start_time": "2022-06-02T19:11:44.056Z"
   },
   {
    "duration": 9,
    "start_time": "2022-06-02T19:12:30.193Z"
   },
   {
    "duration": 9,
    "start_time": "2022-06-02T19:12:36.750Z"
   },
   {
    "duration": 12,
    "start_time": "2022-06-02T19:13:29.076Z"
   },
   {
    "duration": 11,
    "start_time": "2022-06-02T19:14:29.488Z"
   },
   {
    "duration": 10,
    "start_time": "2022-06-02T19:15:44.941Z"
   },
   {
    "duration": 11,
    "start_time": "2022-06-02T19:15:51.110Z"
   },
   {
    "duration": 17,
    "start_time": "2022-06-02T19:17:09.006Z"
   },
   {
    "duration": 14,
    "start_time": "2022-06-02T19:17:25.398Z"
   },
   {
    "duration": 15,
    "start_time": "2022-06-02T19:17:38.238Z"
   },
   {
    "duration": 14,
    "start_time": "2022-06-02T19:18:02.072Z"
   },
   {
    "duration": 15,
    "start_time": "2022-06-02T19:18:17.799Z"
   },
   {
    "duration": 12,
    "start_time": "2022-06-02T19:18:30.319Z"
   },
   {
    "duration": 4,
    "start_time": "2022-06-02T19:18:40.582Z"
   },
   {
    "duration": 13,
    "start_time": "2022-06-02T19:18:52.384Z"
   },
   {
    "duration": 14,
    "start_time": "2022-06-02T19:18:57.752Z"
   },
   {
    "duration": 55,
    "start_time": "2022-06-02T19:19:01.975Z"
   },
   {
    "duration": 15,
    "start_time": "2022-06-02T19:19:07.951Z"
   },
   {
    "duration": 13,
    "start_time": "2022-06-02T19:19:16.267Z"
   },
   {
    "duration": 11,
    "start_time": "2022-06-02T19:19:26.835Z"
   },
   {
    "duration": 15,
    "start_time": "2022-06-02T19:19:45.087Z"
   },
   {
    "duration": 10,
    "start_time": "2022-06-02T19:20:34.393Z"
   },
   {
    "duration": 11,
    "start_time": "2022-06-02T19:20:54.240Z"
   },
   {
    "duration": 11,
    "start_time": "2022-06-02T19:21:05.433Z"
   },
   {
    "duration": 15,
    "start_time": "2022-06-02T19:21:18.840Z"
   },
   {
    "duration": 12,
    "start_time": "2022-06-02T19:22:03.355Z"
   },
   {
    "duration": 5,
    "start_time": "2022-06-02T19:22:34.155Z"
   },
   {
    "duration": 12,
    "start_time": "2022-06-02T19:22:39.754Z"
   },
   {
    "duration": 11,
    "start_time": "2022-06-02T19:23:09.722Z"
   },
   {
    "duration": 11,
    "start_time": "2022-06-02T19:23:25.299Z"
   },
   {
    "duration": 5,
    "start_time": "2022-06-02T19:24:23.236Z"
   },
   {
    "duration": 12,
    "start_time": "2022-06-02T19:24:57.364Z"
   },
   {
    "duration": 13,
    "start_time": "2022-06-02T19:31:00.106Z"
   },
   {
    "duration": 12,
    "start_time": "2022-06-02T19:31:10.234Z"
   },
   {
    "duration": 12,
    "start_time": "2022-06-02T19:31:20.490Z"
   },
   {
    "duration": 17,
    "start_time": "2022-06-02T19:32:35.748Z"
   },
   {
    "duration": 32,
    "start_time": "2022-06-02T19:40:26.119Z"
   },
   {
    "duration": 73,
    "start_time": "2022-06-02T19:40:26.153Z"
   },
   {
    "duration": 17,
    "start_time": "2022-06-02T19:40:34.517Z"
   },
   {
    "duration": 19,
    "start_time": "2022-06-02T19:41:04.982Z"
   },
   {
    "duration": 20,
    "start_time": "2022-06-02T19:41:34.151Z"
   },
   {
    "duration": 18,
    "start_time": "2022-06-02T19:45:40.046Z"
   },
   {
    "duration": 49,
    "start_time": "2022-06-02T19:51:06.525Z"
   },
   {
    "duration": 23,
    "start_time": "2022-06-02T19:52:17.963Z"
   },
   {
    "duration": 22,
    "start_time": "2022-06-02T19:52:43.411Z"
   },
   {
    "duration": 22,
    "start_time": "2022-06-02T19:54:02.383Z"
   },
   {
    "duration": 32,
    "start_time": "2022-06-02T19:54:18.909Z"
   },
   {
    "duration": 25,
    "start_time": "2022-06-02T19:54:43.383Z"
   },
   {
    "duration": 25,
    "start_time": "2022-06-02T19:55:46.063Z"
   },
   {
    "duration": 24,
    "start_time": "2022-06-02T19:56:00.662Z"
   },
   {
    "duration": 22,
    "start_time": "2022-06-02T19:56:09.255Z"
   },
   {
    "duration": 30,
    "start_time": "2022-06-02T19:56:36.559Z"
   },
   {
    "duration": 23,
    "start_time": "2022-06-02T19:56:43.184Z"
   },
   {
    "duration": 23,
    "start_time": "2022-06-02T19:57:04.225Z"
   },
   {
    "duration": 26,
    "start_time": "2022-06-02T19:57:09.448Z"
   },
   {
    "duration": 25,
    "start_time": "2022-06-02T19:57:21.984Z"
   },
   {
    "duration": 24,
    "start_time": "2022-06-02T19:57:47.474Z"
   },
   {
    "duration": 24,
    "start_time": "2022-06-02T19:58:35.290Z"
   },
   {
    "duration": 23,
    "start_time": "2022-06-02T19:59:26.603Z"
   },
   {
    "duration": 21,
    "start_time": "2022-06-02T19:59:57.287Z"
   },
   {
    "duration": 24,
    "start_time": "2022-06-02T20:00:04.097Z"
   },
   {
    "duration": 23,
    "start_time": "2022-06-02T20:01:15.448Z"
   },
   {
    "duration": 22,
    "start_time": "2022-06-02T20:01:48.005Z"
   },
   {
    "duration": 22,
    "start_time": "2022-06-02T20:01:52.708Z"
   },
   {
    "duration": 19,
    "start_time": "2022-06-02T20:02:06.744Z"
   },
   {
    "duration": 22,
    "start_time": "2022-06-02T20:02:17.644Z"
   },
   {
    "duration": 26,
    "start_time": "2022-06-02T20:02:34.597Z"
   },
   {
    "duration": 19,
    "start_time": "2022-06-02T20:02:41.302Z"
   },
   {
    "duration": 21,
    "start_time": "2022-06-02T20:03:11.548Z"
   },
   {
    "duration": 27,
    "start_time": "2022-06-02T20:04:40.417Z"
   },
   {
    "duration": 26,
    "start_time": "2022-06-02T20:05:11.955Z"
   },
   {
    "duration": 25,
    "start_time": "2022-06-02T20:05:29.586Z"
   },
   {
    "duration": 28,
    "start_time": "2022-06-02T20:09:49.830Z"
   },
   {
    "duration": 24,
    "start_time": "2022-06-02T20:09:55.173Z"
   },
   {
    "duration": 24,
    "start_time": "2022-06-02T20:10:34.855Z"
   },
   {
    "duration": 307,
    "start_time": "2022-06-02T20:13:03.947Z"
   },
   {
    "duration": 31,
    "start_time": "2022-06-02T20:13:26.882Z"
   },
   {
    "duration": 27,
    "start_time": "2022-06-02T20:14:00.187Z"
   },
   {
    "duration": 26,
    "start_time": "2022-06-02T20:14:22.990Z"
   },
   {
    "duration": 27,
    "start_time": "2022-06-02T20:14:36.012Z"
   },
   {
    "duration": 25,
    "start_time": "2022-06-02T20:14:59.964Z"
   },
   {
    "duration": 28,
    "start_time": "2022-06-02T20:15:15.028Z"
   },
   {
    "duration": 28,
    "start_time": "2022-06-02T20:15:47.739Z"
   },
   {
    "duration": 40,
    "start_time": "2022-06-02T20:16:48.262Z"
   },
   {
    "duration": 30,
    "start_time": "2022-06-02T20:16:55.042Z"
   },
   {
    "duration": 25,
    "start_time": "2022-06-02T20:17:13.015Z"
   },
   {
    "duration": 26,
    "start_time": "2022-06-02T20:17:27.718Z"
   },
   {
    "duration": 25,
    "start_time": "2022-06-02T20:17:35.644Z"
   },
   {
    "duration": 25,
    "start_time": "2022-06-02T20:17:42.740Z"
   },
   {
    "duration": 25,
    "start_time": "2022-06-02T20:17:53.820Z"
   },
   {
    "duration": 26,
    "start_time": "2022-06-02T20:18:03.255Z"
   },
   {
    "duration": 25,
    "start_time": "2022-06-02T20:19:44.522Z"
   },
   {
    "duration": 29,
    "start_time": "2022-06-02T20:20:03.385Z"
   },
   {
    "duration": 29,
    "start_time": "2022-06-02T20:21:11.867Z"
   },
   {
    "duration": 39,
    "start_time": "2022-06-02T20:21:38.843Z"
   },
   {
    "duration": 30,
    "start_time": "2022-06-02T20:22:01.019Z"
   },
   {
    "duration": 31,
    "start_time": "2022-06-02T20:22:20.277Z"
   },
   {
    "duration": 30,
    "start_time": "2022-06-02T20:23:10.975Z"
   },
   {
    "duration": 32,
    "start_time": "2022-06-02T20:23:23.511Z"
   },
   {
    "duration": 29,
    "start_time": "2022-06-02T20:24:17.025Z"
   },
   {
    "duration": 28,
    "start_time": "2022-06-02T20:24:33.970Z"
   },
   {
    "duration": 28,
    "start_time": "2022-06-02T20:25:24.805Z"
   },
   {
    "duration": 37,
    "start_time": "2022-06-02T20:25:29.022Z"
   },
   {
    "duration": 28,
    "start_time": "2022-06-02T20:26:01.581Z"
   },
   {
    "duration": 8,
    "start_time": "2022-06-02T20:28:37.744Z"
   },
   {
    "duration": 7,
    "start_time": "2022-06-02T20:28:56.971Z"
   },
   {
    "duration": 10,
    "start_time": "2022-06-02T20:29:08.828Z"
   },
   {
    "duration": 15,
    "start_time": "2022-06-02T20:29:17.275Z"
   },
   {
    "duration": 15,
    "start_time": "2022-06-02T20:29:50.831Z"
   },
   {
    "duration": 19,
    "start_time": "2022-06-02T20:30:08.724Z"
   },
   {
    "duration": 14,
    "start_time": "2022-06-02T20:30:22.702Z"
   },
   {
    "duration": 15,
    "start_time": "2022-06-02T20:30:54.222Z"
   },
   {
    "duration": 17,
    "start_time": "2022-06-02T20:31:17.552Z"
   },
   {
    "duration": 7,
    "start_time": "2022-06-02T20:31:37.352Z"
   },
   {
    "duration": 17,
    "start_time": "2022-06-02T20:31:55.120Z"
   },
   {
    "duration": 15,
    "start_time": "2022-06-02T20:32:42.257Z"
   },
   {
    "duration": 13,
    "start_time": "2022-06-02T20:33:23.915Z"
   },
   {
    "duration": 15,
    "start_time": "2022-06-02T20:33:34.131Z"
   },
   {
    "duration": 16,
    "start_time": "2022-06-02T20:34:51.301Z"
   },
   {
    "duration": 21,
    "start_time": "2022-06-02T20:35:33.592Z"
   },
   {
    "duration": 9,
    "start_time": "2022-06-02T20:36:40.553Z"
   },
   {
    "duration": 10,
    "start_time": "2022-06-02T20:37:28.289Z"
   },
   {
    "duration": 12,
    "start_time": "2022-06-02T20:38:10.555Z"
   },
   {
    "duration": 15,
    "start_time": "2022-06-02T20:38:34.547Z"
   },
   {
    "duration": 15,
    "start_time": "2022-06-02T20:38:45.603Z"
   },
   {
    "duration": 10,
    "start_time": "2022-06-02T20:39:17.702Z"
   },
   {
    "duration": 11,
    "start_time": "2022-06-02T20:39:28.339Z"
   },
   {
    "duration": 878,
    "start_time": "2022-06-02T20:48:24.027Z"
   },
   {
    "duration": 169,
    "start_time": "2022-06-02T20:50:42.924Z"
   },
   {
    "duration": 208,
    "start_time": "2022-06-02T20:51:08.389Z"
   },
   {
    "duration": 1865,
    "start_time": "2022-06-02T21:07:19.925Z"
   },
   {
    "duration": 1807,
    "start_time": "2022-06-02T21:07:42.774Z"
   },
   {
    "duration": 1740,
    "start_time": "2022-06-02T21:07:55.533Z"
   },
   {
    "duration": 1834,
    "start_time": "2022-06-02T21:08:09.966Z"
   },
   {
    "duration": 1897,
    "start_time": "2022-06-02T21:08:50.615Z"
   },
   {
    "duration": 1717,
    "start_time": "2022-06-02T21:09:16.497Z"
   },
   {
    "duration": 1851,
    "start_time": "2022-06-02T21:09:25.617Z"
   },
   {
    "duration": 1801,
    "start_time": "2022-06-02T21:09:36.592Z"
   },
   {
    "duration": 171,
    "start_time": "2022-06-02T21:11:48.595Z"
   },
   {
    "duration": 159,
    "start_time": "2022-06-02T21:11:58.330Z"
   },
   {
    "duration": 193,
    "start_time": "2022-06-02T21:12:12.003Z"
   },
   {
    "duration": 167,
    "start_time": "2022-06-02T21:12:27.924Z"
   },
   {
    "duration": 1911,
    "start_time": "2022-06-02T21:12:34.371Z"
   },
   {
    "duration": 1909,
    "start_time": "2022-06-02T21:12:47.349Z"
   },
   {
    "duration": 1833,
    "start_time": "2022-06-02T21:16:01.983Z"
   },
   {
    "duration": 1863,
    "start_time": "2022-06-02T21:16:54.264Z"
   },
   {
    "duration": 1878,
    "start_time": "2022-06-02T21:17:23.617Z"
   },
   {
    "duration": 1798,
    "start_time": "2022-06-02T21:17:43.401Z"
   },
   {
    "duration": 1851,
    "start_time": "2022-06-02T21:18:40.474Z"
   },
   {
    "duration": 1858,
    "start_time": "2022-06-02T21:19:30.275Z"
   },
   {
    "duration": 1868,
    "start_time": "2022-06-02T21:22:13.639Z"
   },
   {
    "duration": 1855,
    "start_time": "2022-06-02T21:23:07.905Z"
   },
   {
    "duration": 1828,
    "start_time": "2022-06-02T21:26:36.749Z"
   },
   {
    "duration": 1829,
    "start_time": "2022-06-02T21:26:48.068Z"
   },
   {
    "duration": 1930,
    "start_time": "2022-06-02T21:28:12.549Z"
   },
   {
    "duration": 4240,
    "start_time": "2022-06-02T21:28:50.174Z"
   },
   {
    "duration": 4231,
    "start_time": "2022-06-02T21:31:05.890Z"
   },
   {
    "duration": 4035,
    "start_time": "2022-06-02T21:31:41.978Z"
   },
   {
    "duration": 4166,
    "start_time": "2022-06-02T21:31:58.780Z"
   },
   {
    "duration": 4255,
    "start_time": "2022-06-02T21:32:14.148Z"
   },
   {
    "duration": 4324,
    "start_time": "2022-06-02T21:40:14.632Z"
   },
   {
    "duration": 1815,
    "start_time": "2022-06-02T21:40:52.505Z"
   },
   {
    "duration": 1840,
    "start_time": "2022-06-02T21:42:51.932Z"
   },
   {
    "duration": 1841,
    "start_time": "2022-06-02T21:43:01.014Z"
   },
   {
    "duration": 1833,
    "start_time": "2022-06-02T21:43:45.342Z"
   },
   {
    "duration": 2002,
    "start_time": "2022-06-02T21:44:17.854Z"
   },
   {
    "duration": 26,
    "start_time": "2022-06-02T21:44:42.104Z"
   },
   {
    "duration": 1948,
    "start_time": "2022-06-02T21:44:49.078Z"
   },
   {
    "duration": 1948,
    "start_time": "2022-06-02T22:00:47.693Z"
   },
   {
    "duration": 1895,
    "start_time": "2022-06-02T22:01:53.566Z"
   },
   {
    "duration": 2246,
    "start_time": "2022-06-02T22:02:25.630Z"
   },
   {
    "duration": 2101,
    "start_time": "2022-06-02T22:03:03.328Z"
   },
   {
    "duration": 2076,
    "start_time": "2022-06-02T22:04:20.849Z"
   },
   {
    "duration": 2091,
    "start_time": "2022-06-02T22:04:35.057Z"
   },
   {
    "duration": 2007,
    "start_time": "2022-06-02T22:04:52.482Z"
   },
   {
    "duration": 2096,
    "start_time": "2022-06-02T22:05:15.889Z"
   },
   {
    "duration": 2128,
    "start_time": "2022-06-02T22:06:31.484Z"
   },
   {
    "duration": 32,
    "start_time": "2022-06-02T22:07:29.677Z"
   },
   {
    "duration": 7,
    "start_time": "2022-06-02T22:08:01.319Z"
   },
   {
    "duration": 2055,
    "start_time": "2022-06-02T22:08:14.244Z"
   },
   {
    "duration": 2051,
    "start_time": "2022-06-02T22:09:10.775Z"
   },
   {
    "duration": 2168,
    "start_time": "2022-06-02T22:09:21.991Z"
   },
   {
    "duration": 2021,
    "start_time": "2022-06-02T22:10:14.928Z"
   },
   {
    "duration": 2013,
    "start_time": "2022-06-02T22:10:42.042Z"
   },
   {
    "duration": 1975,
    "start_time": "2022-06-02T22:12:39.875Z"
   },
   {
    "duration": 1896,
    "start_time": "2022-06-02T22:13:26.580Z"
   },
   {
    "duration": 1901,
    "start_time": "2022-06-02T22:14:34.269Z"
   },
   {
    "duration": 1906,
    "start_time": "2022-06-02T22:15:28.126Z"
   },
   {
    "duration": 2026,
    "start_time": "2022-06-02T22:17:37.105Z"
   },
   {
    "duration": 1889,
    "start_time": "2022-06-02T22:19:13.123Z"
   },
   {
    "duration": 1873,
    "start_time": "2022-06-02T22:20:12.300Z"
   },
   {
    "duration": 1873,
    "start_time": "2022-06-02T22:21:03.813Z"
   },
   {
    "duration": 13,
    "start_time": "2022-06-02T22:23:24.067Z"
   },
   {
    "duration": 41,
    "start_time": "2022-06-02T22:23:45.010Z"
   },
   {
    "duration": 1923,
    "start_time": "2022-06-02T22:24:06.609Z"
   },
   {
    "duration": 1911,
    "start_time": "2022-06-02T22:34:43.671Z"
   },
   {
    "duration": 76,
    "start_time": "2022-06-02T22:35:13.183Z"
   },
   {
    "duration": 1949,
    "start_time": "2022-06-02T22:35:28.542Z"
   },
   {
    "duration": 69,
    "start_time": "2022-06-02T22:37:19.266Z"
   },
   {
    "duration": 2436,
    "start_time": "2022-06-02T22:39:17.596Z"
   },
   {
    "duration": 86,
    "start_time": "2022-06-02T22:40:14.021Z"
   },
   {
    "duration": 24,
    "start_time": "2022-06-02T22:41:45.104Z"
   },
   {
    "duration": 45,
    "start_time": "2022-06-02T22:51:24.612Z"
   },
   {
    "duration": 32,
    "start_time": "2022-06-02T22:52:23.157Z"
   },
   {
    "duration": 23,
    "start_time": "2022-06-02T22:53:50.824Z"
   },
   {
    "duration": 41,
    "start_time": "2022-06-02T22:54:26.200Z"
   },
   {
    "duration": 1886,
    "start_time": "2022-06-02T22:54:36.952Z"
   },
   {
    "duration": 2115,
    "start_time": "2022-06-02T22:55:05.729Z"
   },
   {
    "duration": 1906,
    "start_time": "2022-06-02T22:57:58.943Z"
   },
   {
    "duration": 1889,
    "start_time": "2022-06-02T23:01:31.027Z"
   },
   {
    "duration": 1931,
    "start_time": "2022-06-02T23:02:14.082Z"
   },
   {
    "duration": 1865,
    "start_time": "2022-06-02T23:02:26.051Z"
   },
   {
    "duration": 1905,
    "start_time": "2022-06-02T23:03:10.779Z"
   },
   {
    "duration": 2257,
    "start_time": "2022-06-02T23:03:38.675Z"
   },
   {
    "duration": 2083,
    "start_time": "2022-06-02T23:03:50.125Z"
   },
   {
    "duration": 2019,
    "start_time": "2022-06-02T23:04:01.268Z"
   },
   {
    "duration": 1938,
    "start_time": "2022-06-02T23:06:57.951Z"
   },
   {
    "duration": 1965,
    "start_time": "2022-06-02T23:07:17.040Z"
   },
   {
    "duration": 1995,
    "start_time": "2022-06-02T23:07:29.241Z"
   },
   {
    "duration": 1899,
    "start_time": "2022-06-02T23:07:42.808Z"
   },
   {
    "duration": 2032,
    "start_time": "2022-06-02T23:07:54.297Z"
   },
   {
    "duration": 212,
    "start_time": "2022-06-02T23:10:09.645Z"
   },
   {
    "duration": 311,
    "start_time": "2022-06-02T23:10:19.541Z"
   },
   {
    "duration": 225,
    "start_time": "2022-06-02T23:11:00.317Z"
   },
   {
    "duration": 119749,
    "start_time": "2022-06-02T23:12:09.302Z"
   },
   {
    "duration": 11164,
    "start_time": "2022-06-02T23:22:06.336Z"
   },
   {
    "duration": 1414,
    "start_time": "2022-06-05T20:27:33.795Z"
   },
   {
    "duration": 176,
    "start_time": "2022-06-05T20:27:35.211Z"
   },
   {
    "duration": 8,
    "start_time": "2022-06-05T20:27:38.990Z"
   },
   {
    "duration": 125,
    "start_time": "2022-06-05T20:29:18.655Z"
   },
   {
    "duration": 15266,
    "start_time": "2022-06-05T20:30:16.939Z"
   },
   {
    "duration": 60,
    "start_time": "2022-06-05T20:34:37.666Z"
   },
   {
    "duration": 26,
    "start_time": "2022-06-05T20:34:44.305Z"
   },
   {
    "duration": 76,
    "start_time": "2022-06-05T20:34:44.334Z"
   },
   {
    "duration": 11,
    "start_time": "2022-06-05T20:34:44.413Z"
   },
   {
    "duration": 35,
    "start_time": "2022-06-05T20:34:44.427Z"
   },
   {
    "duration": 23,
    "start_time": "2022-06-05T20:34:44.465Z"
   },
   {
    "duration": 13,
    "start_time": "2022-06-05T20:34:44.489Z"
   },
   {
    "duration": 336,
    "start_time": "2022-06-05T20:34:44.541Z"
   },
   {
    "duration": 20997,
    "start_time": "2022-06-05T20:35:04.993Z"
   },
   {
    "duration": 31593,
    "start_time": "2022-06-05T20:36:59.907Z"
   },
   {
    "duration": 100831,
    "start_time": "2022-06-05T20:39:02.863Z"
   },
   {
    "duration": 15538,
    "start_time": "2022-06-05T20:49:06.774Z"
   },
   {
    "duration": 15016,
    "start_time": "2022-06-05T20:50:42.280Z"
   },
   {
    "duration": 15002,
    "start_time": "2022-06-05T20:51:42.556Z"
   },
   {
    "duration": 4,
    "start_time": "2022-06-05T20:52:32.001Z"
   },
   {
    "duration": 254,
    "start_time": "2022-06-05T20:54:37.900Z"
   },
   {
    "duration": 2453,
    "start_time": "2022-06-05T20:58:20.961Z"
   },
   {
    "duration": 13,
    "start_time": "2022-06-05T20:59:17.706Z"
   },
   {
    "duration": 15,
    "start_time": "2022-06-05T21:00:42.613Z"
   },
   {
    "duration": 17,
    "start_time": "2022-06-05T21:02:08.608Z"
   },
   {
    "duration": 49,
    "start_time": "2022-06-05T21:05:04.201Z"
   },
   {
    "duration": 36,
    "start_time": "2022-06-05T21:05:36.672Z"
   },
   {
    "duration": 21,
    "start_time": "2022-06-05T21:06:00.810Z"
   },
   {
    "duration": 32,
    "start_time": "2022-06-05T21:06:07.744Z"
   },
   {
    "duration": 57,
    "start_time": "2022-06-05T21:06:30.491Z"
   },
   {
    "duration": 37,
    "start_time": "2022-06-05T21:07:14.388Z"
   },
   {
    "duration": 37,
    "start_time": "2022-06-05T21:08:18.573Z"
   },
   {
    "duration": 34,
    "start_time": "2022-06-05T21:08:43.972Z"
   },
   {
    "duration": 15,
    "start_time": "2022-06-05T21:09:09.311Z"
   },
   {
    "duration": 13,
    "start_time": "2022-06-05T21:09:25.372Z"
   },
   {
    "duration": 13,
    "start_time": "2022-06-05T21:09:39.448Z"
   },
   {
    "duration": 16,
    "start_time": "2022-06-05T21:10:02.752Z"
   },
   {
    "duration": 2307,
    "start_time": "2022-06-05T21:10:45.374Z"
   },
   {
    "duration": 2198,
    "start_time": "2022-06-05T21:11:23.475Z"
   },
   {
    "duration": 2026,
    "start_time": "2022-06-05T21:11:29.072Z"
   },
   {
    "duration": 1727,
    "start_time": "2022-06-05T21:12:12.690Z"
   },
   {
    "duration": 1397,
    "start_time": "2022-06-05T21:12:18.290Z"
   },
   {
    "duration": 47,
    "start_time": "2022-06-05T21:18:18.225Z"
   },
   {
    "duration": 70,
    "start_time": "2022-06-05T21:18:25.787Z"
   },
   {
    "duration": 98,
    "start_time": "2022-06-05T21:18:31.555Z"
   },
   {
    "duration": 119,
    "start_time": "2022-06-05T21:18:36.847Z"
   },
   {
    "duration": 144,
    "start_time": "2022-06-05T21:18:40.507Z"
   },
   {
    "duration": 122,
    "start_time": "2022-06-05T21:18:59.945Z"
   },
   {
    "duration": 14334,
    "start_time": "2022-06-05T21:22:12.016Z"
   },
   {
    "duration": 4,
    "start_time": "2022-06-05T21:23:33.312Z"
   },
   {
    "duration": 140,
    "start_time": "2022-06-05T21:25:12.492Z"
   },
   {
    "duration": 142,
    "start_time": "2022-06-05T21:25:20.691Z"
   },
   {
    "duration": 9767,
    "start_time": "2022-06-05T21:26:09.546Z"
   },
   {
    "duration": 129,
    "start_time": "2022-06-05T21:26:43.449Z"
   },
   {
    "duration": 261,
    "start_time": "2022-06-05T21:27:18.945Z"
   },
   {
    "duration": 161,
    "start_time": "2022-06-05T21:27:40.814Z"
   },
   {
    "duration": 154,
    "start_time": "2022-06-05T21:28:13.119Z"
   },
   {
    "duration": 153,
    "start_time": "2022-06-05T21:28:25.414Z"
   },
   {
    "duration": 166,
    "start_time": "2022-06-05T21:29:25.784Z"
   },
   {
    "duration": 175,
    "start_time": "2022-06-05T21:29:33.415Z"
   },
   {
    "duration": 351,
    "start_time": "2022-06-05T21:30:00.649Z"
   },
   {
    "duration": 343,
    "start_time": "2022-06-05T21:30:10.849Z"
   },
   {
    "duration": 379,
    "start_time": "2022-06-05T21:30:32.253Z"
   },
   {
    "duration": 6,
    "start_time": "2022-06-05T21:32:06.867Z"
   },
   {
    "duration": 9673,
    "start_time": "2022-06-05T21:32:24.229Z"
   },
   {
    "duration": 160,
    "start_time": "2022-06-05T21:34:06.006Z"
   },
   {
    "duration": 4993,
    "start_time": "2022-06-05T21:34:20.615Z"
   },
   {
    "duration": 4546,
    "start_time": "2022-06-05T21:36:45.803Z"
   },
   {
    "duration": 4509,
    "start_time": "2022-06-05T21:38:43.925Z"
   },
   {
    "duration": 4393,
    "start_time": "2022-06-05T21:39:12.450Z"
   },
   {
    "duration": 12,
    "start_time": "2022-06-05T21:42:06.905Z"
   },
   {
    "duration": 549065,
    "start_time": "2022-06-05T21:44:19.180Z"
   },
   {
    "duration": 14085,
    "start_time": "2022-06-05T21:55:54.720Z"
   },
   {
    "duration": 343409,
    "start_time": "2022-06-05T21:57:55.134Z"
   },
   {
    "duration": 12,
    "start_time": "2022-06-05T22:43:24.907Z"
   },
   {
    "duration": 41931,
    "start_time": "2022-06-05T22:44:28.755Z"
   },
   {
    "duration": 107476,
    "start_time": "2022-06-05T22:55:10.145Z"
   },
   {
    "duration": 18712,
    "start_time": "2022-06-05T23:00:16.458Z"
   },
   {
    "duration": 18135,
    "start_time": "2022-06-05T23:03:10.850Z"
   },
   {
    "duration": 18626,
    "start_time": "2022-06-05T23:03:57.420Z"
   },
   {
    "duration": 361,
    "start_time": "2022-06-05T23:12:36.656Z"
   },
   {
    "duration": 382,
    "start_time": "2022-06-05T23:13:02.991Z"
   },
   {
    "duration": 374,
    "start_time": "2022-06-05T23:13:31.952Z"
   },
   {
    "duration": 408,
    "start_time": "2022-06-05T23:14:38.173Z"
   },
   {
    "duration": 14074,
    "start_time": "2022-06-05T23:14:52.673Z"
   },
   {
    "duration": 374,
    "start_time": "2022-06-05T23:15:45.074Z"
   },
   {
    "duration": 54886,
    "start_time": "2022-06-05T23:17:46.660Z"
   },
   {
    "duration": 364,
    "start_time": "2022-06-05T23:19:28.080Z"
   },
   {
    "duration": 14284,
    "start_time": "2022-06-05T23:21:31.586Z"
   },
   {
    "duration": 21,
    "start_time": "2022-06-05T23:29:18.723Z"
   },
   {
    "duration": 62,
    "start_time": "2022-06-05T23:29:31.694Z"
   },
   {
    "duration": 304,
    "start_time": "2022-06-05T23:30:46.342Z"
   },
   {
    "duration": 39,
    "start_time": "2022-06-05T23:31:28.651Z"
   },
   {
    "duration": 63,
    "start_time": "2022-06-05T23:31:28.698Z"
   },
   {
    "duration": 8,
    "start_time": "2022-06-05T23:31:28.762Z"
   },
   {
    "duration": 22,
    "start_time": "2022-06-05T23:31:28.772Z"
   },
   {
    "duration": 50,
    "start_time": "2022-06-05T23:31:28.796Z"
   },
   {
    "duration": 11,
    "start_time": "2022-06-05T23:31:28.847Z"
   },
   {
    "duration": 258,
    "start_time": "2022-06-05T23:31:28.859Z"
   },
   {
    "duration": 18345,
    "start_time": "2022-06-05T23:31:29.119Z"
   },
   {
    "duration": 107403,
    "start_time": "2022-06-05T23:31:47.465Z"
   },
   {
    "duration": 4,
    "start_time": "2022-06-05T23:33:34.871Z"
   },
   {
    "duration": 14125,
    "start_time": "2022-06-05T23:33:34.876Z"
   },
   {
    "duration": 51739,
    "start_time": "2022-06-05T23:33:49.003Z"
   },
   {
    "duration": 296,
    "start_time": "2022-06-05T23:36:15.515Z"
   },
   {
    "duration": 55,
    "start_time": "2022-06-05T23:36:35.595Z"
   },
   {
    "duration": 315,
    "start_time": "2022-06-05T23:41:35.697Z"
   },
   {
    "duration": 1174,
    "start_time": "2022-06-06T04:57:04.217Z"
   },
   {
    "duration": 216,
    "start_time": "2022-06-06T04:57:05.392Z"
   },
   {
    "duration": 8,
    "start_time": "2022-06-06T04:57:05.610Z"
   },
   {
    "duration": 35,
    "start_time": "2022-06-06T04:57:05.621Z"
   },
   {
    "duration": 17,
    "start_time": "2022-06-06T04:57:05.658Z"
   },
   {
    "duration": 11,
    "start_time": "2022-06-06T04:57:05.677Z"
   },
   {
    "duration": 271,
    "start_time": "2022-06-06T04:57:05.690Z"
   },
   {
    "duration": 17393,
    "start_time": "2022-06-06T04:57:05.963Z"
   },
   {
    "duration": 101025,
    "start_time": "2022-06-06T04:57:23.358Z"
   },
   {
    "duration": 4,
    "start_time": "2022-06-06T04:59:04.385Z"
   },
   {
    "duration": 13787,
    "start_time": "2022-06-06T04:59:04.390Z"
   },
   {
    "duration": 50182,
    "start_time": "2022-06-06T04:59:18.179Z"
   },
   {
    "duration": 381,
    "start_time": "2022-06-06T05:00:08.362Z"
   },
   {
    "duration": 313,
    "start_time": "2022-06-06T05:00:08.745Z"
   },
   {
    "duration": 10,
    "start_time": "2022-06-06T05:00:09.059Z"
   },
   {
    "duration": 0,
    "start_time": "2022-06-06T05:00:09.071Z"
   },
   {
    "duration": 11,
    "start_time": "2022-06-06T05:02:48.241Z"
   },
   {
    "duration": 618,
    "start_time": "2022-06-06T05:02:53.795Z"
   },
   {
    "duration": 91,
    "start_time": "2022-06-06T05:18:48.241Z"
   },
   {
    "duration": 1073,
    "start_time": "2022-06-06T05:20:11.366Z"
   },
   {
    "duration": 140,
    "start_time": "2022-06-06T05:20:12.441Z"
   },
   {
    "duration": 11,
    "start_time": "2022-06-06T05:20:12.584Z"
   },
   {
    "duration": 18,
    "start_time": "2022-06-06T05:20:12.600Z"
   },
   {
    "duration": 43,
    "start_time": "2022-06-06T05:20:12.619Z"
   },
   {
    "duration": 11,
    "start_time": "2022-06-06T05:20:12.664Z"
   },
   {
    "duration": 311,
    "start_time": "2022-06-06T05:20:12.677Z"
   },
   {
    "duration": 17766,
    "start_time": "2022-06-06T05:20:12.990Z"
   },
   {
    "duration": 32,
    "start_time": "2022-06-06T10:50:31.676Z"
   },
   {
    "duration": 664,
    "start_time": "2022-06-06T10:51:28.845Z"
   },
   {
    "duration": 1078,
    "start_time": "2022-06-06T10:51:48.980Z"
   },
   {
    "duration": 198,
    "start_time": "2022-06-06T10:51:50.061Z"
   },
   {
    "duration": 7,
    "start_time": "2022-06-06T10:51:50.261Z"
   },
   {
    "duration": 23,
    "start_time": "2022-06-06T10:51:50.270Z"
   },
   {
    "duration": 36,
    "start_time": "2022-06-06T10:51:50.295Z"
   },
   {
    "duration": 20,
    "start_time": "2022-06-06T10:51:50.332Z"
   },
   {
    "duration": 345,
    "start_time": "2022-06-06T10:51:50.354Z"
   },
   {
    "duration": 21439,
    "start_time": "2022-06-06T10:51:50.700Z"
   },
   {
    "duration": 59,
    "start_time": "2022-06-06T10:52:15.855Z"
   },
   {
    "duration": 11,
    "start_time": "2022-06-06T10:53:59.681Z"
   },
   {
    "duration": 537,
    "start_time": "2022-06-06T10:54:25.400Z"
   },
   {
    "duration": 29,
    "start_time": "2022-06-06T11:02:55.311Z"
   },
   {
    "duration": 37,
    "start_time": "2022-06-06T11:03:22.153Z"
   },
   {
    "duration": 19,
    "start_time": "2022-06-06T11:03:31.032Z"
   },
   {
    "duration": 19969,
    "start_time": "2022-06-06T11:05:45.631Z"
   },
   {
    "duration": 49,
    "start_time": "2022-06-06T11:06:09.971Z"
   },
   {
    "duration": 67,
    "start_time": "2022-06-06T11:09:14.577Z"
   },
   {
    "duration": 21011,
    "start_time": "2022-06-06T11:09:33.822Z"
   },
   {
    "duration": 22076,
    "start_time": "2022-06-06T11:09:59.490Z"
   },
   {
    "duration": 21349,
    "start_time": "2022-06-06T11:10:35.906Z"
   },
   {
    "duration": 78,
    "start_time": "2022-06-06T11:10:58.880Z"
   },
   {
    "duration": 52,
    "start_time": "2022-06-06T11:11:11.696Z"
   },
   {
    "duration": 20114,
    "start_time": "2022-06-06T11:13:30.587Z"
   },
   {
    "duration": 48,
    "start_time": "2022-06-06T11:13:56.178Z"
   },
   {
    "duration": 102767,
    "start_time": "2022-06-06T11:17:32.437Z"
   },
   {
    "duration": 4,
    "start_time": "2022-06-06T11:19:15.206Z"
   },
   {
    "duration": 3,
    "start_time": "2022-06-06T11:20:53.017Z"
   }
  ],
  "celltoolbar": "Tags",
  "kernelspec": {
   "display_name": "Python 3 (ipykernel)",
   "language": "python",
   "name": "python3"
  },
  "language_info": {
   "codemirror_mode": {
    "name": "ipython",
    "version": 3
   },
   "file_extension": ".py",
   "mimetype": "text/x-python",
   "name": "python",
   "nbconvert_exporter": "python",
   "pygments_lexer": "ipython3",
   "version": "3.9.7"
  },
  "toc": {
   "base_numbering": 1,
   "nav_menu": {
    "height": "260px",
    "width": "160px"
   },
   "number_sections": true,
   "sideBar": true,
   "skip_h1_title": true,
   "title_cell": "Table of Contents",
   "title_sidebar": "Contents",
   "toc_cell": false,
   "toc_position": {},
   "toc_section_display": true,
   "toc_window_display": false
  }
 },
 "nbformat": 4,
 "nbformat_minor": 2
}
