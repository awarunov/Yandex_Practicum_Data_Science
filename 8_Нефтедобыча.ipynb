{
 "cells": [
  {
   "cell_type": "markdown",
   "metadata": {},
   "source": [
    "# Выбор локации для скважины"
   ]
  },
  {
   "cell_type": "markdown",
   "metadata": {},
   "source": [
    "Допустим, вы работаете в добывающей компании «ГлавРосГосНефть». Нужно решить, где бурить новую скважину.\n",
    "\n",
    "Вам предоставлены пробы нефти в трёх регионах: в каждом 10 000 месторождений, где измерили качество нефти и объём её запасов. Постройте модель машинного обучения, которая поможет определить регион, где добыча принесёт наибольшую прибыль. Проанализируйте возможную прибыль и риски техникой *Bootstrap.*\n",
    "\n",
    "Шаги для выбора локации:\n",
    "\n",
    "- В избранном регионе ищут месторождения, для каждого определяют значения признаков;\n",
    "- Строят модель и оценивают объём запасов;\n",
    "- Выбирают месторождения с самым высокими оценками значений. Количество месторождений зависит от бюджета компании и стоимости разработки одной скважины;\n",
    "- Прибыль равна суммарной прибыли отобранных месторождений.   \n",
    "\n",
    "Описание данных:   \n",
    "\n",
    "Данные геологоразведки трёх регионов находятся в файлах:   \n",
    "/datasets/geo_data_0.csv   \n",
    "/datasets/geo_data_1.csv   \n",
    "/datasets/geo_data_2.csv   \n",
    "id — уникальный идентификатор скважины;   \n",
    "f0, f1, f2 — три признака точек (неважно, что они означают, но сами признаки значимы);   \n",
    "product — объём запасов в скважине (тыс. баррелей).   "
   ]
  },
  {
   "cell_type": "markdown",
   "metadata": {},
   "source": [
    "## Загрузка и подготовка данных"
   ]
  },
  {
   "cell_type": "code",
   "execution_count": 35,
   "metadata": {},
   "outputs": [
    {
     "data": {
      "text/html": [
       "<style>.container { width:80% !important; }</style>"
      ],
      "text/plain": [
       "<IPython.core.display.HTML object>"
      ]
     },
     "metadata": {},
     "output_type": "display_data"
    }
   ],
   "source": [
    "import pandas as pd\n",
    "import traceback\n",
    "import os.path\n",
    "from sklearn.linear_model import LinearRegression\n",
    "from sklearn.model_selection import train_test_split\n",
    "from sklearn.preprocessing import StandardScaler\n",
    "from sklearn.utils import shuffle\n",
    "from sklearn.metrics import mean_squared_error\n",
    "import plotly.express as px\n",
    "import matplotlib.pyplot as plt\n",
    "from numpy.random import RandomState\n",
    "pd.set_option('display.max_rows', 100)\n",
    "pd.set_option('display.max_columns', 29)\n",
    "data_files = {'Регион_0': pd.Series(['geo_data_0.csv'], index = ['file_name']), \n",
    "              'Регион_1':pd.Series(['geo_data_1.csv'], index = ['file_name']), \n",
    "              'Регион_2': pd.Series(['geo_data_2.csv'], index = ['file_name'])\n",
    "             }\n",
    "local_path = os.path.join('C:', os.sep, 'Users', 'timpu', 'Desktop', 'Data Science(Проекты и шпаргалки)',\n",
    "                          'Проекты', '8 Нефтедобыча', 'data')\n",
    "web_dir_path = os.path.join(os.sep, 'datasets' + os.sep)\n",
    "from IPython.display import display, HTML\n",
    "display(HTML(\"<style>.container { width:80% !important; }</style>\"))"
   ]
  },
  {
   "cell_type": "code",
   "execution_count": 36,
   "metadata": {
    "scrolled": true
   },
   "outputs": [
    {
     "name": "stdout",
     "output_type": "stream",
     "text": [
      "Общая информация о датасете geo_data_0.csv:\n",
      "<class 'pandas.core.frame.DataFrame'>\n",
      "RangeIndex: 100000 entries, 0 to 99999\n",
      "Data columns (total 5 columns):\n",
      " #   Column   Non-Null Count   Dtype  \n",
      "---  ------   --------------   -----  \n",
      " 0   id       100000 non-null  object \n",
      " 1   f0       100000 non-null  float64\n",
      " 2   f1       100000 non-null  float64\n",
      " 3   f2       100000 non-null  float64\n",
      " 4   product  100000 non-null  float64\n",
      "dtypes: float64(4), object(1)\n",
      "memory usage: 3.8+ MB\n",
      "\n",
      "Обзор данных датасета:\n"
     ]
    },
    {
     "data": {
      "text/html": [
       "<div>\n",
       "<style scoped>\n",
       "    .dataframe tbody tr th:only-of-type {\n",
       "        vertical-align: middle;\n",
       "    }\n",
       "\n",
       "    .dataframe tbody tr th {\n",
       "        vertical-align: top;\n",
       "    }\n",
       "\n",
       "    .dataframe thead th {\n",
       "        text-align: right;\n",
       "    }\n",
       "</style>\n",
       "<table border=\"1\" class=\"dataframe\">\n",
       "  <thead>\n",
       "    <tr style=\"text-align: right;\">\n",
       "      <th></th>\n",
       "      <th>id</th>\n",
       "      <th>f0</th>\n",
       "      <th>f1</th>\n",
       "      <th>f2</th>\n",
       "      <th>product</th>\n",
       "    </tr>\n",
       "  </thead>\n",
       "  <tbody>\n",
       "    <tr>\n",
       "      <th>0</th>\n",
       "      <td>txEyH</td>\n",
       "      <td>0.705745</td>\n",
       "      <td>-0.497823</td>\n",
       "      <td>1.221170</td>\n",
       "      <td>105.280062</td>\n",
       "    </tr>\n",
       "    <tr>\n",
       "      <th>1</th>\n",
       "      <td>2acmU</td>\n",
       "      <td>1.334711</td>\n",
       "      <td>-0.340164</td>\n",
       "      <td>4.365080</td>\n",
       "      <td>73.037750</td>\n",
       "    </tr>\n",
       "    <tr>\n",
       "      <th>2</th>\n",
       "      <td>409Wp</td>\n",
       "      <td>1.022732</td>\n",
       "      <td>0.151990</td>\n",
       "      <td>1.419926</td>\n",
       "      <td>85.265647</td>\n",
       "    </tr>\n",
       "    <tr>\n",
       "      <th>3</th>\n",
       "      <td>iJLyR</td>\n",
       "      <td>-0.032172</td>\n",
       "      <td>0.139033</td>\n",
       "      <td>2.978566</td>\n",
       "      <td>168.620776</td>\n",
       "    </tr>\n",
       "    <tr>\n",
       "      <th>4</th>\n",
       "      <td>Xdl7t</td>\n",
       "      <td>1.988431</td>\n",
       "      <td>0.155413</td>\n",
       "      <td>4.751769</td>\n",
       "      <td>154.036647</td>\n",
       "    </tr>\n",
       "    <tr>\n",
       "      <th>...</th>\n",
       "      <td>...</td>\n",
       "      <td>...</td>\n",
       "      <td>...</td>\n",
       "      <td>...</td>\n",
       "      <td>...</td>\n",
       "    </tr>\n",
       "    <tr>\n",
       "      <th>99995</th>\n",
       "      <td>DLsed</td>\n",
       "      <td>0.971957</td>\n",
       "      <td>0.370953</td>\n",
       "      <td>6.075346</td>\n",
       "      <td>110.744026</td>\n",
       "    </tr>\n",
       "    <tr>\n",
       "      <th>99996</th>\n",
       "      <td>QKivN</td>\n",
       "      <td>1.392429</td>\n",
       "      <td>-0.382606</td>\n",
       "      <td>1.273912</td>\n",
       "      <td>122.346843</td>\n",
       "    </tr>\n",
       "    <tr>\n",
       "      <th>99997</th>\n",
       "      <td>3rnvd</td>\n",
       "      <td>1.029585</td>\n",
       "      <td>0.018787</td>\n",
       "      <td>-1.348308</td>\n",
       "      <td>64.375443</td>\n",
       "    </tr>\n",
       "    <tr>\n",
       "      <th>99998</th>\n",
       "      <td>7kl59</td>\n",
       "      <td>0.998163</td>\n",
       "      <td>-0.528582</td>\n",
       "      <td>1.583869</td>\n",
       "      <td>74.040764</td>\n",
       "    </tr>\n",
       "    <tr>\n",
       "      <th>99999</th>\n",
       "      <td>1CWhH</td>\n",
       "      <td>1.764754</td>\n",
       "      <td>-0.266417</td>\n",
       "      <td>5.722849</td>\n",
       "      <td>149.633246</td>\n",
       "    </tr>\n",
       "  </tbody>\n",
       "</table>\n",
       "<p>100000 rows × 5 columns</p>\n",
       "</div>"
      ],
      "text/plain": [
       "          id        f0        f1        f2     product\n",
       "0      txEyH  0.705745 -0.497823  1.221170  105.280062\n",
       "1      2acmU  1.334711 -0.340164  4.365080   73.037750\n",
       "2      409Wp  1.022732  0.151990  1.419926   85.265647\n",
       "3      iJLyR -0.032172  0.139033  2.978566  168.620776\n",
       "4      Xdl7t  1.988431  0.155413  4.751769  154.036647\n",
       "...      ...       ...       ...       ...         ...\n",
       "99995  DLsed  0.971957  0.370953  6.075346  110.744026\n",
       "99996  QKivN  1.392429 -0.382606  1.273912  122.346843\n",
       "99997  3rnvd  1.029585  0.018787 -1.348308   64.375443\n",
       "99998  7kl59  0.998163 -0.528582  1.583869   74.040764\n",
       "99999  1CWhH  1.764754 -0.266417  5.722849  149.633246\n",
       "\n",
       "[100000 rows x 5 columns]"
      ]
     },
     "metadata": {},
     "output_type": "display_data"
    },
    {
     "name": "stdout",
     "output_type": "stream",
     "text": [
      "Минимальные значения в датасете geo_data_0.csv:\n",
      "id             006OJ\n",
      "f0         -1.408605\n",
      "f1         -0.848218\n",
      "f2        -12.088328\n",
      "product          0.0\n",
      "dtype: object \n",
      "\n",
      "Максимальные значения в датасете geo_data_0.csv:\n",
      "id              zzzLH\n",
      "f0           2.362331\n",
      "f1           1.343769\n",
      "f2           16.00379\n",
      "product    185.364347\n",
      "dtype: object \n",
      "\n",
      "Количество дубликатов в датасете geo_data_0.csv:\n",
      "0 \n",
      "\n",
      "Колонки с пропущенными значениями в датасете geo_data_0.csv:\n",
      "\n",
      "id         0\n",
      "f0         0\n",
      "f1         0\n",
      "f2         0\n",
      "product    0\n",
      "dtype: int64 \n",
      "\n",
      "features_train.shape: (75000, 3) 75.0 % от features\n",
      "features_valid.shape: (25000, 3) 25.0 % от features\n",
      "target_train.shape: (75000,) 75.0 % от target\n",
      "target_valid.shape: (25000,) 25.0 % от target\n",
      "________________________________________________________________________________________\n",
      "Общая информация о датасете geo_data_1.csv:\n",
      "<class 'pandas.core.frame.DataFrame'>\n",
      "RangeIndex: 100000 entries, 0 to 99999\n",
      "Data columns (total 5 columns):\n",
      " #   Column   Non-Null Count   Dtype  \n",
      "---  ------   --------------   -----  \n",
      " 0   id       100000 non-null  object \n",
      " 1   f0       100000 non-null  float64\n",
      " 2   f1       100000 non-null  float64\n",
      " 3   f2       100000 non-null  float64\n",
      " 4   product  100000 non-null  float64\n",
      "dtypes: float64(4), object(1)\n",
      "memory usage: 3.8+ MB\n",
      "\n",
      "Обзор данных датасета:\n"
     ]
    },
    {
     "data": {
      "text/html": [
       "<div>\n",
       "<style scoped>\n",
       "    .dataframe tbody tr th:only-of-type {\n",
       "        vertical-align: middle;\n",
       "    }\n",
       "\n",
       "    .dataframe tbody tr th {\n",
       "        vertical-align: top;\n",
       "    }\n",
       "\n",
       "    .dataframe thead th {\n",
       "        text-align: right;\n",
       "    }\n",
       "</style>\n",
       "<table border=\"1\" class=\"dataframe\">\n",
       "  <thead>\n",
       "    <tr style=\"text-align: right;\">\n",
       "      <th></th>\n",
       "      <th>id</th>\n",
       "      <th>f0</th>\n",
       "      <th>f1</th>\n",
       "      <th>f2</th>\n",
       "      <th>product</th>\n",
       "    </tr>\n",
       "  </thead>\n",
       "  <tbody>\n",
       "    <tr>\n",
       "      <th>0</th>\n",
       "      <td>kBEdx</td>\n",
       "      <td>-15.001348</td>\n",
       "      <td>-8.276000</td>\n",
       "      <td>-0.005876</td>\n",
       "      <td>3.179103</td>\n",
       "    </tr>\n",
       "    <tr>\n",
       "      <th>1</th>\n",
       "      <td>62mP7</td>\n",
       "      <td>14.272088</td>\n",
       "      <td>-3.475083</td>\n",
       "      <td>0.999183</td>\n",
       "      <td>26.953261</td>\n",
       "    </tr>\n",
       "    <tr>\n",
       "      <th>2</th>\n",
       "      <td>vyE1P</td>\n",
       "      <td>6.263187</td>\n",
       "      <td>-5.948386</td>\n",
       "      <td>5.001160</td>\n",
       "      <td>134.766305</td>\n",
       "    </tr>\n",
       "    <tr>\n",
       "      <th>3</th>\n",
       "      <td>KcrkZ</td>\n",
       "      <td>-13.081196</td>\n",
       "      <td>-11.506057</td>\n",
       "      <td>4.999415</td>\n",
       "      <td>137.945408</td>\n",
       "    </tr>\n",
       "    <tr>\n",
       "      <th>4</th>\n",
       "      <td>AHL4O</td>\n",
       "      <td>12.702195</td>\n",
       "      <td>-8.147433</td>\n",
       "      <td>5.004363</td>\n",
       "      <td>134.766305</td>\n",
       "    </tr>\n",
       "    <tr>\n",
       "      <th>...</th>\n",
       "      <td>...</td>\n",
       "      <td>...</td>\n",
       "      <td>...</td>\n",
       "      <td>...</td>\n",
       "      <td>...</td>\n",
       "    </tr>\n",
       "    <tr>\n",
       "      <th>99995</th>\n",
       "      <td>QywKC</td>\n",
       "      <td>9.535637</td>\n",
       "      <td>-6.878139</td>\n",
       "      <td>1.998296</td>\n",
       "      <td>53.906522</td>\n",
       "    </tr>\n",
       "    <tr>\n",
       "      <th>99996</th>\n",
       "      <td>ptvty</td>\n",
       "      <td>-10.160631</td>\n",
       "      <td>-12.558096</td>\n",
       "      <td>5.005581</td>\n",
       "      <td>137.945408</td>\n",
       "    </tr>\n",
       "    <tr>\n",
       "      <th>99997</th>\n",
       "      <td>09gWa</td>\n",
       "      <td>-7.378891</td>\n",
       "      <td>-3.084104</td>\n",
       "      <td>4.998651</td>\n",
       "      <td>137.945408</td>\n",
       "    </tr>\n",
       "    <tr>\n",
       "      <th>99998</th>\n",
       "      <td>rqwUm</td>\n",
       "      <td>0.665714</td>\n",
       "      <td>-6.152593</td>\n",
       "      <td>1.000146</td>\n",
       "      <td>30.132364</td>\n",
       "    </tr>\n",
       "    <tr>\n",
       "      <th>99999</th>\n",
       "      <td>relB0</td>\n",
       "      <td>-3.426139</td>\n",
       "      <td>-7.794274</td>\n",
       "      <td>-0.003299</td>\n",
       "      <td>3.179103</td>\n",
       "    </tr>\n",
       "  </tbody>\n",
       "</table>\n",
       "<p>100000 rows × 5 columns</p>\n",
       "</div>"
      ],
      "text/plain": [
       "          id         f0         f1        f2     product\n",
       "0      kBEdx -15.001348  -8.276000 -0.005876    3.179103\n",
       "1      62mP7  14.272088  -3.475083  0.999183   26.953261\n",
       "2      vyE1P   6.263187  -5.948386  5.001160  134.766305\n",
       "3      KcrkZ -13.081196 -11.506057  4.999415  137.945408\n",
       "4      AHL4O  12.702195  -8.147433  5.004363  134.766305\n",
       "...      ...        ...        ...       ...         ...\n",
       "99995  QywKC   9.535637  -6.878139  1.998296   53.906522\n",
       "99996  ptvty -10.160631 -12.558096  5.005581  137.945408\n",
       "99997  09gWa  -7.378891  -3.084104  4.998651  137.945408\n",
       "99998  rqwUm   0.665714  -6.152593  1.000146   30.132364\n",
       "99999  relB0  -3.426139  -7.794274 -0.003299    3.179103\n",
       "\n",
       "[100000 rows x 5 columns]"
      ]
     },
     "metadata": {},
     "output_type": "display_data"
    },
    {
     "name": "stdout",
     "output_type": "stream",
     "text": [
      "Минимальные значения в датасете geo_data_1.csv:\n",
      "id             0022J\n",
      "f0        -31.609576\n",
      "f1        -26.358598\n",
      "f2         -0.018144\n",
      "product          0.0\n",
      "dtype: object \n",
      "\n",
      "Максимальные значения в датасете geo_data_1.csv:\n",
      "id              zzzvI\n",
      "f0          29.421755\n",
      "f1          18.734063\n",
      "f2           5.019721\n",
      "product    137.945408\n",
      "dtype: object \n",
      "\n",
      "Количество дубликатов в датасете geo_data_1.csv:\n",
      "0 \n",
      "\n",
      "Колонки с пропущенными значениями в датасете geo_data_1.csv:\n",
      "\n",
      "id         0\n",
      "f0         0\n",
      "f1         0\n",
      "f2         0\n",
      "product    0\n",
      "dtype: int64 \n",
      "\n",
      "features_train.shape: (75000, 3) 75.0 % от features\n",
      "features_valid.shape: (25000, 3) 25.0 % от features\n",
      "target_train.shape: (75000,) 75.0 % от target\n",
      "target_valid.shape: (25000,) 25.0 % от target\n",
      "________________________________________________________________________________________\n",
      "Общая информация о датасете geo_data_2.csv:\n",
      "<class 'pandas.core.frame.DataFrame'>\n",
      "RangeIndex: 100000 entries, 0 to 99999\n",
      "Data columns (total 5 columns):\n",
      " #   Column   Non-Null Count   Dtype  \n",
      "---  ------   --------------   -----  \n",
      " 0   id       100000 non-null  object \n",
      " 1   f0       100000 non-null  float64\n",
      " 2   f1       100000 non-null  float64\n",
      " 3   f2       100000 non-null  float64\n",
      " 4   product  100000 non-null  float64\n",
      "dtypes: float64(4), object(1)\n",
      "memory usage: 3.8+ MB\n",
      "\n",
      "Обзор данных датасета:\n"
     ]
    },
    {
     "data": {
      "text/html": [
       "<div>\n",
       "<style scoped>\n",
       "    .dataframe tbody tr th:only-of-type {\n",
       "        vertical-align: middle;\n",
       "    }\n",
       "\n",
       "    .dataframe tbody tr th {\n",
       "        vertical-align: top;\n",
       "    }\n",
       "\n",
       "    .dataframe thead th {\n",
       "        text-align: right;\n",
       "    }\n",
       "</style>\n",
       "<table border=\"1\" class=\"dataframe\">\n",
       "  <thead>\n",
       "    <tr style=\"text-align: right;\">\n",
       "      <th></th>\n",
       "      <th>id</th>\n",
       "      <th>f0</th>\n",
       "      <th>f1</th>\n",
       "      <th>f2</th>\n",
       "      <th>product</th>\n",
       "    </tr>\n",
       "  </thead>\n",
       "  <tbody>\n",
       "    <tr>\n",
       "      <th>0</th>\n",
       "      <td>fwXo0</td>\n",
       "      <td>-1.146987</td>\n",
       "      <td>0.963328</td>\n",
       "      <td>-0.828965</td>\n",
       "      <td>27.758673</td>\n",
       "    </tr>\n",
       "    <tr>\n",
       "      <th>1</th>\n",
       "      <td>WJtFt</td>\n",
       "      <td>0.262778</td>\n",
       "      <td>0.269839</td>\n",
       "      <td>-2.530187</td>\n",
       "      <td>56.069697</td>\n",
       "    </tr>\n",
       "    <tr>\n",
       "      <th>2</th>\n",
       "      <td>ovLUW</td>\n",
       "      <td>0.194587</td>\n",
       "      <td>0.289035</td>\n",
       "      <td>-5.586433</td>\n",
       "      <td>62.871910</td>\n",
       "    </tr>\n",
       "    <tr>\n",
       "      <th>3</th>\n",
       "      <td>q6cA6</td>\n",
       "      <td>2.236060</td>\n",
       "      <td>-0.553760</td>\n",
       "      <td>0.930038</td>\n",
       "      <td>114.572842</td>\n",
       "    </tr>\n",
       "    <tr>\n",
       "      <th>4</th>\n",
       "      <td>WPMUX</td>\n",
       "      <td>-0.515993</td>\n",
       "      <td>1.716266</td>\n",
       "      <td>5.899011</td>\n",
       "      <td>149.600746</td>\n",
       "    </tr>\n",
       "    <tr>\n",
       "      <th>...</th>\n",
       "      <td>...</td>\n",
       "      <td>...</td>\n",
       "      <td>...</td>\n",
       "      <td>...</td>\n",
       "      <td>...</td>\n",
       "    </tr>\n",
       "    <tr>\n",
       "      <th>99995</th>\n",
       "      <td>4GxBu</td>\n",
       "      <td>-1.777037</td>\n",
       "      <td>1.125220</td>\n",
       "      <td>6.263374</td>\n",
       "      <td>172.327046</td>\n",
       "    </tr>\n",
       "    <tr>\n",
       "      <th>99996</th>\n",
       "      <td>YKFjq</td>\n",
       "      <td>-1.261523</td>\n",
       "      <td>-0.894828</td>\n",
       "      <td>2.524545</td>\n",
       "      <td>138.748846</td>\n",
       "    </tr>\n",
       "    <tr>\n",
       "      <th>99997</th>\n",
       "      <td>tKPY3</td>\n",
       "      <td>-1.199934</td>\n",
       "      <td>-2.957637</td>\n",
       "      <td>5.219411</td>\n",
       "      <td>157.080080</td>\n",
       "    </tr>\n",
       "    <tr>\n",
       "      <th>99998</th>\n",
       "      <td>nmxp2</td>\n",
       "      <td>-2.419896</td>\n",
       "      <td>2.417221</td>\n",
       "      <td>-5.548444</td>\n",
       "      <td>51.795253</td>\n",
       "    </tr>\n",
       "    <tr>\n",
       "      <th>99999</th>\n",
       "      <td>V9kWn</td>\n",
       "      <td>-2.551421</td>\n",
       "      <td>-2.025625</td>\n",
       "      <td>6.090891</td>\n",
       "      <td>102.775767</td>\n",
       "    </tr>\n",
       "  </tbody>\n",
       "</table>\n",
       "<p>100000 rows × 5 columns</p>\n",
       "</div>"
      ],
      "text/plain": [
       "          id        f0        f1        f2     product\n",
       "0      fwXo0 -1.146987  0.963328 -0.828965   27.758673\n",
       "1      WJtFt  0.262778  0.269839 -2.530187   56.069697\n",
       "2      ovLUW  0.194587  0.289035 -5.586433   62.871910\n",
       "3      q6cA6  2.236060 -0.553760  0.930038  114.572842\n",
       "4      WPMUX -0.515993  1.716266  5.899011  149.600746\n",
       "...      ...       ...       ...       ...         ...\n",
       "99995  4GxBu -1.777037  1.125220  6.263374  172.327046\n",
       "99996  YKFjq -1.261523 -0.894828  2.524545  138.748846\n",
       "99997  tKPY3 -1.199934 -2.957637  5.219411  157.080080\n",
       "99998  nmxp2 -2.419896  2.417221 -5.548444   51.795253\n",
       "99999  V9kWn -2.551421 -2.025625  6.090891  102.775767\n",
       "\n",
       "[100000 rows x 5 columns]"
      ]
     },
     "metadata": {},
     "output_type": "display_data"
    },
    {
     "name": "stdout",
     "output_type": "stream",
     "text": [
      "Минимальные значения в датасете geo_data_2.csv:\n",
      "id             009Gl\n",
      "f0         -8.760004\n",
      "f1          -7.08402\n",
      "f2        -11.970335\n",
      "product          0.0\n",
      "dtype: object \n",
      "\n",
      "Максимальные значения в датасете geo_data_2.csv:\n",
      "id              zzz9h\n",
      "f0           7.238262\n",
      "f1           7.844801\n",
      "f2          16.739402\n",
      "product    190.029838\n",
      "dtype: object \n",
      "\n",
      "Количество дубликатов в датасете geo_data_2.csv:\n",
      "0 \n",
      "\n",
      "Колонки с пропущенными значениями в датасете geo_data_2.csv:\n",
      "\n",
      "id         0\n",
      "f0         0\n",
      "f1         0\n",
      "f2         0\n",
      "product    0\n",
      "dtype: int64 \n",
      "\n",
      "features_train.shape: (75000, 3) 75.0 % от features\n",
      "features_valid.shape: (25000, 3) 25.0 % от features\n",
      "target_train.shape: (75000,) 75.0 % от target\n",
      "target_valid.shape: (25000,) 25.0 % от target\n",
      "________________________________________________________________________________________\n"
     ]
    }
   ],
   "source": [
    "for key_name, reg_data in data_files.items():\n",
    "    try:\n",
    "        reg_data['data']  = pd.read_csv(web_dir_path + reg_data['file_name'])\n",
    "    except FileNotFoundError:\n",
    "        reg_data['data']  = pd.read_csv(local_path + reg_data['file_name'])\n",
    "    else:\n",
    "        print('Общая информация о датасете ', reg_data['file_name'], ':', sep='')\n",
    "        reg_data['data'].info()\n",
    "        print('\\nОбзор данных датасета:', sep='')\n",
    "        display(reg_data['data'])\n",
    "        print('Минимальные значения в датасете ', reg_data['file_name'], ':', sep='')\n",
    "        print(reg_data['data'].min(), '\\n')\n",
    "        print('Максимальные значения в датасете ', reg_data['file_name'], ':', sep='')\n",
    "        print(reg_data['data'].max(), '\\n')\n",
    "        print('Количество дубликатов в датасете ', reg_data['file_name'], ':', sep='')\n",
    "        print(reg_data['data'].duplicated().sum(), '\\n')\n",
    "        print('Колонки с пропущенными значениями в датасете ', reg_data['file_name'], ':\\n', sep='')\n",
    "        print(reg_data['data'].isna().sum(), '\\n')\n",
    "        \n",
    "        target = reg_data['data']['product']\n",
    "        features = reg_data['data'].drop(['product', 'id'], axis=1)\n",
    "        reg_data['features_train'], reg_data['features_valid'], reg_data['target_train'], reg_data['target_valid'] = train_test_split(features, target, test_size = 0.25, \n",
    "                                                                                                 random_state = 12345)\n",
    "        print('features_train.shape:', reg_data['features_train'].shape, round(reg_data['features_train'].shape[0]/features.shape[0], 2)*100, '% от features')\n",
    "        print('features_valid.shape:', reg_data['features_valid'].shape, round(reg_data['features_valid'].shape[0]/features.shape[0], 2)*100, '% от features')\n",
    "        print('target_train.shape:', reg_data['target_train'].shape, round(reg_data['target_train'].shape[0]/target.shape[0], 2)*100, '% от target')\n",
    "        print('target_valid.shape:', reg_data['target_valid'].shape, round(reg_data['target_valid'].shape[0]/target.shape[0], 2)*100, '% от target')\n",
    "        \n",
    "        df = reg_data['features_train'].copy()\n",
    "        numeric = ['f0', 'f1', 'f2']\n",
    "        scaler = StandardScaler()\n",
    "        scaler.fit(df[numeric])\n",
    "        df[numeric] = scaler.transform(df[numeric])\n",
    "        reg_data['features_train'] = df\n",
    "        df = reg_data['features_valid'].copy()\n",
    "        df[numeric] = scaler.transform(df[numeric])\n",
    "        reg_data['features_valid'] = df\n",
    "        reg_data['scaler'] = scaler\n",
    "        print('________________________________________________________________________________________')"
   ]
  },
  {
   "cell_type": "markdown",
   "metadata": {},
   "source": [
    "**Вывод**   \n",
    "Данные загрузили в словарь, сделали выборки в соотношении 75:25, стандартизировали числовые данные столбцов features."
   ]
  },
  {
   "cell_type": "markdown",
   "metadata": {},
   "source": [
    "## Обучение и проверка модели"
   ]
  },
  {
   "cell_type": "code",
   "execution_count": 37,
   "metadata": {},
   "outputs": [
    {
     "name": "stdout",
     "output_type": "stream",
     "text": [
      "Средний запас предсказанного сырья Регион_0: 92.59256778438035\n",
      "RMSE модели Регион_0: 37.5794217150813\n",
      "-----------------------------------------------------------------\n",
      "Средний запас предсказанного сырья Регион_1: 68.728546895446\n",
      "RMSE модели Регион_1: 0.893099286775617\n",
      "-----------------------------------------------------------------\n",
      "Средний запас предсказанного сырья Регион_2: 94.96504596800489\n",
      "RMSE модели Регион_2: 40.02970873393434\n",
      "-----------------------------------------------------------------\n"
     ]
    }
   ],
   "source": [
    "for key_name, reg_data in data_files.items():\n",
    "    \n",
    "    model = LinearRegression()\n",
    "    model.fit(reg_data['features_train'], reg_data['target_train'])\n",
    "    reg_data['predicted'] = pd.Series(model.predict(reg_data['features_valid']))\n",
    "    reg_data['model'] = model\n",
    "    print('Средний запас предсказанного сырья ', key_name, ': ', reg_data['predicted'].mean(), sep='')\n",
    "    mse = mean_squared_error(reg_data['target_valid'], reg_data['predicted'])\n",
    "    print('RMSE модели ', key_name, ': ', mse ** 0.5, sep='')\n",
    "    print('-----------------------------------------------------------------')"
   ]
  },
  {
   "cell_type": "markdown",
   "metadata": {},
   "source": [
    "**Вывод**   \n",
    "Обучили модели для 3-х регионов, посчитали среднеквадратичную ошибку для модели каждого региона. Увидели, что средние запасы предсказанного сырья для первого и третьего регионов сопоставимы, второй сильно уступает по этому показателю. Однако, для второго региона значение средней квадратичной ошибки модели существенно выше, чем для первой и третьей, что говорит о невысокой достоверности такого предсказания."
   ]
  },
  {
   "cell_type": "markdown",
   "metadata": {},
   "source": [
    "## Подготовка к расчёту прибыли"
   ]
  },
  {
   "cell_type": "code",
   "execution_count": 38,
   "metadata": {},
   "outputs": [
    {
     "name": "stdout",
     "output_type": "stream",
     "text": [
      "Минимальный запас сырья в скважине для безубыточной добычи (прибыль равна 0) при расходах на разработку в 10 млд. руб. \n",
      "на 200 скажин в 1-ом регионе и при цене 1 ед. сырья 450 тыс. руб. составляет: 111.11\n"
     ]
    }
   ],
   "source": [
    "bdgt = 10e9\n",
    "bhls = 200\n",
    "rev_bhl = 450e3\n",
    "min_debt = (bdgt / bhls) / rev_bhl\n",
    "print(f\"\"\"Минимальный запас сырья в скважине для безубыточной добычи (прибыль равна 0) при расходах на разработку в 10 млд. руб. \n",
    "на 200 скажин в 1-ом регионе и при цене 1 ед. сырья 450 тыс. руб. составляет: {min_debt:.2f}\"\"\")"
   ]
  },
  {
   "cell_type": "markdown",
   "metadata": {},
   "source": [
    "**Вывод**   \n",
    "Путём несложных расчётов минимального запаса сырья в скажине и сравнения полученного значения со средними по регионам, приходим к выводу, что ни в одном регионе средний запас сырья на скважину не превышает минимальный порог, в связи с чем задача выбора региона разработки новых скважин на основе машинного прогнозирования является весьма актульной при принятии управленческих решений."
   ]
  },
  {
   "cell_type": "markdown",
   "metadata": {},
   "source": [
    "## Расчёт прибыли и рисков "
   ]
  },
  {
   "cell_type": "code",
   "execution_count": 45,
   "metadata": {},
   "outputs": [
    {
     "name": "stdout",
     "output_type": "stream",
     "text": [
      "Регион_0:\n",
      "Средняя прибыль: 425.94 млн.руб.\n",
      "95%-й доверительный интервал: (-102.09, 947.98)\n",
      "Вероятность убытка: 6.00%\n",
      "________________________________________________________________________________________\n",
      "Регион_1:\n",
      "Средняя прибыль: 515.22 млн.руб.\n",
      "95%-й доверительный интервал: (68.87, 931.55)\n",
      "Вероятность убытка: 1.00%\n",
      "________________________________________________________________________________________\n",
      "Регион_2:\n",
      "Средняя прибыль: 435.01 млн.руб.\n",
      "95%-й доверительный интервал: (-128.88, 969.71)\n",
      "Вероятность убытка: 6.40%\n",
      "________________________________________________________________________________________\n"
     ]
    }
   ],
   "source": [
    "def revenue_counter(target):\n",
    "    return (target.sum() * rev_bhl) - bdgt\n",
    "    \n",
    "for key_name, reg_data in data_files.items():\n",
    "    state = RandomState(12345)\n",
    "    values = []\n",
    "    \n",
    "    predicted = pd.Series(reg_data['predicted']).reset_index(drop=True)\n",
    "    target_valid = pd.Series(reg_data['target_valid']).reset_index(drop=True)\n",
    "    for i in range(1000):\n",
    "        target_subsample = target_valid.sample(n=500, replace=True, random_state=state)\n",
    "        pred_subsample = predicted[target_subsample.index].sort_values(ascending=False).head(200)\n",
    "        values.append(revenue_counter(target_subsample[pred_subsample.index].head(200)))\n",
    "    values = pd.Series(values)\n",
    "    mean = values.mean() / 1e6\n",
    "    lower = values.quantile(0.025) / 1e6\n",
    "    upper = values.quantile(0.975) / 1e6\n",
    "    prob_los = ((values <= 0).sum() / len(values))*100\n",
    "    print(f'{key_name}:')\n",
    "    print(f'Средняя прибыль: {mean:.2f} млн.руб.')\n",
    "    print(f'95%-й доверительный интервал: ({lower:.2f}, {upper:.2f})')\n",
    "    print(f'Вероятность убытка: {prob_los:.2f}%')\n",
    "    print('________________________________________________________________________________________')"
   ]
  },
  {
   "cell_type": "markdown",
   "metadata": {},
   "source": [
    "**Вывод**   \n",
    "На основании проведённого прогностического исследования, считаю возможным предложить для разработки 200 новых скважин Регион_0, т.к. использованная модель логистической регрессии показала на этом регионе лучшую метрику RMSE, вероятность убытка в пределах заданных задачей параметров, 95% доверительный интервал по нижней границе не имеет убыточного значения."
   ]
  },
  {
   "cell_type": "markdown",
   "metadata": {},
   "source": [
    "## Чек-лист готовности проекта"
   ]
  },
  {
   "cell_type": "markdown",
   "metadata": {},
   "source": [
    "Поставьте 'x' в выполненных пунктах. Далее нажмите Shift+Enter."
   ]
  },
  {
   "cell_type": "markdown",
   "metadata": {},
   "source": [
    "- [x]  Jupyter Notebook открыт\n",
    "- [x]  Весь код выполняется без ошибок\n",
    "- [x]  Ячейки с кодом расположены в порядке исполнения\n",
    "- [x]  Выполнен шаг 1: данные подготовлены\n",
    "- [x]  Выполнен шаг 2: модели обучены и проверены\n",
    "    - [x]  Данные корректно разбиты на обучающую и валидационную выборки\n",
    "    - [x]  Модели обучены, предсказания сделаны\n",
    "    - [x]  Предсказания и правильные ответы на валидационной выборке сохранены\n",
    "    - [x]  На экране напечатаны результаты\n",
    "    - [x]  Сделаны выводы\n",
    "- [x]  Выполнен шаг 3: проведена подготовка к расчёту прибыли\n",
    "    - [x]  Для всех ключевых значений созданы константы Python\n",
    "    - [x]  Посчитано минимальное среднее количество продукта в месторождениях региона, достаточное для разработки\n",
    "    - [x]  По предыдущему пункту сделаны выводы\n",
    "    - [x]  Написана функция расчёта прибыли\n",
    "- [x]  Выполнен шаг 4: посчитаны риски и прибыль\n",
    "    - [x]  Проведена процедура *Bootstrap*\n",
    "    - [x]  Все параметры бутстрепа соответствуют условию\n",
    "    - [x]  Найдены все нужные величины\n",
    "    - [x]  Предложен регион для разработки месторождения\n",
    "    - [x]  Выбор региона обоснован"
   ]
  }
 ],
 "metadata": {
  "ExecuteTimeLog": [
   {
    "duration": 61,
    "start_time": "2022-07-02T20:10:42.280Z"
   },
   {
    "duration": 1680,
    "start_time": "2022-07-02T20:10:45.435Z"
   },
   {
    "duration": 8,
    "start_time": "2022-07-02T20:10:48.019Z"
   },
   {
    "duration": 6,
    "start_time": "2022-07-02T20:11:10.165Z"
   },
   {
    "duration": 5,
    "start_time": "2022-07-02T20:12:11.103Z"
   },
   {
    "duration": 4,
    "start_time": "2022-07-02T20:12:34.502Z"
   },
   {
    "duration": 4,
    "start_time": "2022-07-02T20:13:59.759Z"
   },
   {
    "duration": 79,
    "start_time": "2022-07-02T20:14:01.781Z"
   },
   {
    "duration": 14,
    "start_time": "2022-07-02T20:15:40.284Z"
   },
   {
    "duration": 63,
    "start_time": "2022-07-02T20:15:58.285Z"
   },
   {
    "duration": 4,
    "start_time": "2022-07-02T20:16:12.498Z"
   },
   {
    "duration": 46,
    "start_time": "2022-07-02T20:16:59.468Z"
   },
   {
    "duration": 5,
    "start_time": "2022-07-02T20:17:03.346Z"
   },
   {
    "duration": 4,
    "start_time": "2022-07-02T20:17:27.011Z"
   },
   {
    "duration": 9,
    "start_time": "2022-07-02T20:17:58.324Z"
   },
   {
    "duration": 48,
    "start_time": "2022-07-02T20:19:35.279Z"
   },
   {
    "duration": 55,
    "start_time": "2022-07-02T20:19:59.383Z"
   },
   {
    "duration": 56,
    "start_time": "2022-07-02T20:20:43.226Z"
   },
   {
    "duration": 7,
    "start_time": "2022-07-02T20:21:28.913Z"
   },
   {
    "duration": 20,
    "start_time": "2022-07-02T20:23:41.282Z"
   },
   {
    "duration": 17,
    "start_time": "2022-07-02T20:24:02.739Z"
   },
   {
    "duration": 725,
    "start_time": "2022-07-02T20:26:03.183Z"
   },
   {
    "duration": 340,
    "start_time": "2022-07-02T20:26:25.261Z"
   },
   {
    "duration": 331,
    "start_time": "2022-07-02T20:26:53.447Z"
   },
   {
    "duration": 364,
    "start_time": "2022-07-02T20:27:11.431Z"
   },
   {
    "duration": 356,
    "start_time": "2022-07-02T20:28:13.762Z"
   },
   {
    "duration": 448,
    "start_time": "2022-07-02T20:29:39.515Z"
   },
   {
    "duration": 361,
    "start_time": "2022-07-02T20:29:48.530Z"
   },
   {
    "duration": 435,
    "start_time": "2022-07-02T20:30:14.740Z"
   },
   {
    "duration": 49,
    "start_time": "2022-07-02T20:31:05.063Z"
   },
   {
    "duration": 4,
    "start_time": "2022-07-02T20:34:27.662Z"
   },
   {
    "duration": 59,
    "start_time": "2022-07-02T20:34:53.505Z"
   },
   {
    "duration": 52,
    "start_time": "2022-07-02T20:35:18.603Z"
   },
   {
    "duration": 413,
    "start_time": "2022-07-02T20:35:25.085Z"
   },
   {
    "duration": 358,
    "start_time": "2022-07-02T20:35:48.315Z"
   },
   {
    "duration": 369,
    "start_time": "2022-07-02T20:37:24.880Z"
   },
   {
    "duration": 384,
    "start_time": "2022-07-02T20:38:01.437Z"
   },
   {
    "duration": 338,
    "start_time": "2022-07-02T20:38:26.472Z"
   },
   {
    "duration": 395,
    "start_time": "2022-07-02T20:40:45.809Z"
   },
   {
    "duration": 10,
    "start_time": "2022-07-02T20:42:39.579Z"
   },
   {
    "duration": 31,
    "start_time": "2022-07-02T20:42:46.073Z"
   },
   {
    "duration": 463,
    "start_time": "2022-07-02T20:42:48.794Z"
   },
   {
    "duration": 376,
    "start_time": "2022-07-02T20:43:28.740Z"
   },
   {
    "duration": 751,
    "start_time": "2022-07-02T20:44:05.300Z"
   },
   {
    "duration": 401,
    "start_time": "2022-07-02T20:44:12.510Z"
   },
   {
    "duration": 380,
    "start_time": "2022-07-02T20:44:38.758Z"
   },
   {
    "duration": 361,
    "start_time": "2022-07-02T20:47:19.017Z"
   },
   {
    "duration": 982,
    "start_time": "2022-07-02T20:48:14.498Z"
   },
   {
    "duration": 1109,
    "start_time": "2022-07-02T20:51:00.695Z"
   },
   {
    "duration": 974,
    "start_time": "2022-07-02T20:52:36.360Z"
   },
   {
    "duration": 568,
    "start_time": "2022-07-02T20:53:13.616Z"
   },
   {
    "duration": 589,
    "start_time": "2022-07-02T20:54:08.079Z"
   },
   {
    "duration": 616,
    "start_time": "2022-07-02T20:54:31.795Z"
   },
   {
    "duration": 619,
    "start_time": "2022-07-02T20:55:22.652Z"
   },
   {
    "duration": 599,
    "start_time": "2022-07-02T20:55:40.196Z"
   },
   {
    "duration": 596,
    "start_time": "2022-07-02T20:55:46.084Z"
   },
   {
    "duration": 48,
    "start_time": "2022-07-02T20:56:25.044Z"
   },
   {
    "duration": 636,
    "start_time": "2022-07-02T20:56:32.228Z"
   },
   {
    "duration": 587,
    "start_time": "2022-07-02T20:57:48.104Z"
   },
   {
    "duration": 606,
    "start_time": "2022-07-02T20:57:56.486Z"
   },
   {
    "duration": 603,
    "start_time": "2022-07-02T20:58:24.897Z"
   },
   {
    "duration": 599,
    "start_time": "2022-07-02T20:58:46.473Z"
   },
   {
    "duration": 967,
    "start_time": "2022-07-02T21:27:15.204Z"
   },
   {
    "duration": 630,
    "start_time": "2022-07-02T21:28:34.968Z"
   },
   {
    "duration": 232,
    "start_time": "2022-07-02T21:29:30.087Z"
   },
   {
    "duration": 233,
    "start_time": "2022-07-02T21:58:49.238Z"
   },
   {
    "duration": 220,
    "start_time": "2022-07-02T21:59:14.128Z"
   },
   {
    "duration": 246,
    "start_time": "2022-07-02T22:13:25.992Z"
   },
   {
    "duration": 725,
    "start_time": "2022-07-02T22:13:48.575Z"
   },
   {
    "duration": 229,
    "start_time": "2022-07-02T22:14:28.048Z"
   },
   {
    "duration": 698,
    "start_time": "2022-07-02T22:16:35.772Z"
   },
   {
    "duration": 665,
    "start_time": "2022-07-02T22:17:37.974Z"
   },
   {
    "duration": 650,
    "start_time": "2022-07-02T22:19:37.464Z"
   },
   {
    "duration": 1248,
    "start_time": "2022-07-02T22:21:54.508Z"
   },
   {
    "duration": 2739,
    "start_time": "2022-07-02T22:22:39.030Z"
   },
   {
    "duration": 1285,
    "start_time": "2022-07-02T22:23:56.304Z"
   },
   {
    "duration": 697,
    "start_time": "2022-07-02T22:27:15.372Z"
   },
   {
    "duration": 679,
    "start_time": "2022-07-02T22:29:09.623Z"
   },
   {
    "duration": 665,
    "start_time": "2022-07-02T22:29:37.000Z"
   },
   {
    "duration": 706,
    "start_time": "2022-07-02T22:29:55.551Z"
   },
   {
    "duration": 265,
    "start_time": "2022-07-02T22:36:08.761Z"
   },
   {
    "duration": 237,
    "start_time": "2022-07-02T22:36:57.020Z"
   },
   {
    "duration": 666,
    "start_time": "2022-07-02T22:37:24.868Z"
   },
   {
    "duration": 58,
    "start_time": "2022-07-02T22:38:13.068Z"
   },
   {
    "duration": 701,
    "start_time": "2022-07-02T22:39:09.092Z"
   },
   {
    "duration": 687,
    "start_time": "2022-07-02T22:40:18.182Z"
   },
   {
    "duration": 687,
    "start_time": "2022-07-02T22:40:50.872Z"
   },
   {
    "duration": 267,
    "start_time": "2022-07-02T22:42:32.351Z"
   },
   {
    "duration": 699,
    "start_time": "2022-07-02T22:44:35.453Z"
   },
   {
    "duration": 676,
    "start_time": "2022-07-02T22:50:42.154Z"
   },
   {
    "duration": 675,
    "start_time": "2022-07-02T22:51:13.590Z"
   },
   {
    "duration": 659,
    "start_time": "2022-07-02T22:53:38.025Z"
   },
   {
    "duration": 41,
    "start_time": "2022-07-02T22:56:36.776Z"
   },
   {
    "duration": 753,
    "start_time": "2022-07-02T22:56:39.028Z"
   },
   {
    "duration": 668,
    "start_time": "2022-07-02T22:59:09.694Z"
   },
   {
    "duration": 689,
    "start_time": "2022-07-02T22:59:59.809Z"
   },
   {
    "duration": 704,
    "start_time": "2022-07-02T23:03:18.549Z"
   },
   {
    "duration": 645,
    "start_time": "2022-07-02T23:04:04.992Z"
   },
   {
    "duration": 632,
    "start_time": "2022-07-02T23:04:25.150Z"
   },
   {
    "duration": 613,
    "start_time": "2022-07-02T23:04:34.237Z"
   },
   {
    "duration": 612,
    "start_time": "2022-07-02T23:04:41.093Z"
   },
   {
    "duration": 628,
    "start_time": "2022-07-02T23:04:54.926Z"
   },
   {
    "duration": 639,
    "start_time": "2022-07-02T23:05:18.071Z"
   },
   {
    "duration": 234,
    "start_time": "2022-07-02T23:14:03.865Z"
   },
   {
    "duration": 650,
    "start_time": "2022-07-02T23:14:28.290Z"
   },
   {
    "duration": 228,
    "start_time": "2022-07-02T23:17:36.950Z"
   },
   {
    "duration": 651,
    "start_time": "2022-07-02T23:17:55.302Z"
   },
   {
    "duration": 640,
    "start_time": "2022-07-02T23:18:44.384Z"
   },
   {
    "duration": 76,
    "start_time": "2022-07-02T23:19:19.001Z"
   },
   {
    "duration": 627,
    "start_time": "2022-07-02T23:19:27.416Z"
   },
   {
    "duration": 63,
    "start_time": "2022-07-02T23:19:59.160Z"
   },
   {
    "duration": 638,
    "start_time": "2022-07-02T23:20:04.185Z"
   },
   {
    "duration": 257,
    "start_time": "2022-07-02T23:20:12.690Z"
   },
   {
    "duration": 240,
    "start_time": "2022-07-02T23:21:53.989Z"
   },
   {
    "duration": 53,
    "start_time": "2022-07-03T06:42:41.590Z"
   },
   {
    "duration": 1733,
    "start_time": "2022-07-03T06:42:46.290Z"
   },
   {
    "duration": 748,
    "start_time": "2022-07-03T06:42:48.025Z"
   },
   {
    "duration": 255,
    "start_time": "2022-07-03T06:42:49.385Z"
   },
   {
    "duration": 88,
    "start_time": "2022-07-03T06:43:09.197Z"
   },
   {
    "duration": 274,
    "start_time": "2022-07-03T06:43:15.382Z"
   },
   {
    "duration": 83,
    "start_time": "2022-07-03T06:44:11.925Z"
   },
   {
    "duration": 1601,
    "start_time": "2022-07-03T06:46:35.311Z"
   },
   {
    "duration": 687,
    "start_time": "2022-07-03T06:47:46.499Z"
   },
   {
    "duration": 240,
    "start_time": "2022-07-03T06:48:09.890Z"
   },
   {
    "duration": 223,
    "start_time": "2022-07-03T06:48:21.848Z"
   },
   {
    "duration": 687,
    "start_time": "2022-07-03T06:48:50.328Z"
   },
   {
    "duration": 644,
    "start_time": "2022-07-03T06:50:27.627Z"
   },
   {
    "duration": 262,
    "start_time": "2022-07-03T06:57:09.731Z"
   },
   {
    "duration": 255,
    "start_time": "2022-07-03T06:59:40.099Z"
   },
   {
    "duration": 259,
    "start_time": "2022-07-03T07:00:37.440Z"
   },
   {
    "duration": 240,
    "start_time": "2022-07-03T07:01:03.927Z"
   },
   {
    "duration": 239,
    "start_time": "2022-07-03T07:01:29.353Z"
   },
   {
    "duration": 54,
    "start_time": "2022-07-03T16:34:45.785Z"
   },
   {
    "duration": 1620,
    "start_time": "2022-07-03T16:34:51.905Z"
   },
   {
    "duration": 598,
    "start_time": "2022-07-03T16:34:53.528Z"
   },
   {
    "duration": 261,
    "start_time": "2022-07-03T16:34:56.700Z"
   },
   {
    "duration": 913,
    "start_time": "2022-07-03T16:35:22.477Z"
   },
   {
    "duration": 687,
    "start_time": "2022-07-03T16:36:03.791Z"
   },
   {
    "duration": 697,
    "start_time": "2022-07-03T16:37:13.819Z"
   },
   {
    "duration": 762,
    "start_time": "2022-07-03T16:37:57.017Z"
   },
   {
    "duration": 273,
    "start_time": "2022-07-03T16:46:53.673Z"
   },
   {
    "duration": 293,
    "start_time": "2022-07-03T16:49:28.314Z"
   },
   {
    "duration": 798,
    "start_time": "2022-07-03T16:49:48.986Z"
   },
   {
    "duration": 249,
    "start_time": "2022-07-03T16:52:14.702Z"
   },
   {
    "duration": 867,
    "start_time": "2022-07-03T17:07:55.037Z"
   },
   {
    "duration": 841,
    "start_time": "2022-07-03T17:08:50.886Z"
   },
   {
    "duration": 879,
    "start_time": "2022-07-03T17:09:47.007Z"
   },
   {
    "duration": 815,
    "start_time": "2022-07-03T17:10:15.695Z"
   },
   {
    "duration": 840,
    "start_time": "2022-07-03T17:10:31.257Z"
   },
   {
    "duration": 885,
    "start_time": "2022-07-03T17:11:03.489Z"
   },
   {
    "duration": 1448,
    "start_time": "2022-07-03T17:16:08.005Z"
   },
   {
    "duration": 1134,
    "start_time": "2022-07-03T17:16:09.788Z"
   },
   {
    "duration": 985,
    "start_time": "2022-07-03T17:36:46.319Z"
   },
   {
    "duration": 923,
    "start_time": "2022-07-03T17:39:39.354Z"
   },
   {
    "duration": 896,
    "start_time": "2022-07-03T17:40:27.244Z"
   },
   {
    "duration": 1015,
    "start_time": "2022-07-03T17:41:49.387Z"
   },
   {
    "duration": 835,
    "start_time": "2022-07-03T17:44:11.901Z"
   },
   {
    "duration": 1024,
    "start_time": "2022-07-03T17:44:43.191Z"
   },
   {
    "duration": 994,
    "start_time": "2022-07-03T17:45:24.599Z"
   },
   {
    "duration": 944,
    "start_time": "2022-07-03T17:45:59.445Z"
   },
   {
    "duration": 903,
    "start_time": "2022-07-03T17:47:03.815Z"
   },
   {
    "duration": 892,
    "start_time": "2022-07-03T17:50:32.595Z"
   },
   {
    "duration": 850,
    "start_time": "2022-07-03T18:00:48.383Z"
   },
   {
    "duration": 984,
    "start_time": "2022-07-03T18:01:56.094Z"
   },
   {
    "duration": 926,
    "start_time": "2022-07-03T18:02:44.597Z"
   },
   {
    "duration": 1017,
    "start_time": "2022-07-03T18:04:16.989Z"
   },
   {
    "duration": 990,
    "start_time": "2022-07-03T18:05:00.655Z"
   },
   {
    "duration": 1161,
    "start_time": "2022-07-03T18:21:49.419Z"
   },
   {
    "duration": 681,
    "start_time": "2022-07-03T18:32:57.096Z"
   },
   {
    "duration": 514,
    "start_time": "2022-07-03T18:34:21.388Z"
   },
   {
    "duration": 495,
    "start_time": "2022-07-03T18:35:46.618Z"
   },
   {
    "duration": 483,
    "start_time": "2022-07-03T18:35:53.910Z"
   },
   {
    "duration": 480,
    "start_time": "2022-07-03T18:38:12.999Z"
   },
   {
    "duration": 388,
    "start_time": "2022-07-03T18:38:39.908Z"
   },
   {
    "duration": 441,
    "start_time": "2022-07-03T18:39:02.653Z"
   },
   {
    "duration": 373,
    "start_time": "2022-07-03T18:39:18.955Z"
   },
   {
    "duration": 344,
    "start_time": "2022-07-03T18:39:23.916Z"
   },
   {
    "duration": 365,
    "start_time": "2022-07-03T18:39:51.229Z"
   },
   {
    "duration": 369,
    "start_time": "2022-07-03T18:40:23.554Z"
   },
   {
    "duration": 322,
    "start_time": "2022-07-03T18:40:48.391Z"
   },
   {
    "duration": 400,
    "start_time": "2022-07-03T18:41:50.511Z"
   },
   {
    "duration": 365,
    "start_time": "2022-07-03T18:44:41.787Z"
   },
   {
    "duration": 428,
    "start_time": "2022-07-03T18:48:09.154Z"
   },
   {
    "duration": 406,
    "start_time": "2022-07-03T18:50:31.678Z"
   },
   {
    "duration": 2030,
    "start_time": "2022-07-03T18:55:37.199Z"
   },
   {
    "duration": 480,
    "start_time": "2022-07-03T18:55:55.817Z"
   },
   {
    "duration": 475,
    "start_time": "2022-07-03T18:56:45.385Z"
   },
   {
    "duration": 360,
    "start_time": "2022-07-03T18:57:14.916Z"
   },
   {
    "duration": 1222,
    "start_time": "2022-07-03T18:58:23.953Z"
   },
   {
    "duration": 1254,
    "start_time": "2022-07-03T18:58:52.999Z"
   },
   {
    "duration": 1129,
    "start_time": "2022-07-03T18:59:18.200Z"
   },
   {
    "duration": 445,
    "start_time": "2022-07-03T19:00:02.911Z"
   },
   {
    "duration": 116,
    "start_time": "2022-07-03T19:00:45.425Z"
   },
   {
    "duration": 496,
    "start_time": "2022-07-03T19:01:12.908Z"
   },
   {
    "duration": 544,
    "start_time": "2022-07-03T19:01:57.592Z"
   },
   {
    "duration": 1375,
    "start_time": "2022-07-03T19:07:36.303Z"
   },
   {
    "duration": 1287,
    "start_time": "2022-07-03T19:08:20.046Z"
   },
   {
    "duration": 1394,
    "start_time": "2022-07-03T19:10:19.319Z"
   },
   {
    "duration": 523,
    "start_time": "2022-07-03T19:10:46.378Z"
   },
   {
    "duration": 1304,
    "start_time": "2022-07-03T19:11:30.198Z"
   },
   {
    "duration": 434,
    "start_time": "2022-07-03T19:11:59.099Z"
   },
   {
    "duration": 552,
    "start_time": "2022-07-03T19:12:50.889Z"
   },
   {
    "duration": 485,
    "start_time": "2022-07-03T19:13:11.835Z"
   },
   {
    "duration": 501,
    "start_time": "2022-07-03T19:13:45.093Z"
   },
   {
    "duration": 1502,
    "start_time": "2022-07-03T19:14:02.436Z"
   },
   {
    "duration": 1188,
    "start_time": "2022-07-03T19:17:28.433Z"
   },
   {
    "duration": 993,
    "start_time": "2022-07-03T19:18:15.888Z"
   },
   {
    "duration": 1227,
    "start_time": "2022-07-03T19:18:26.744Z"
   },
   {
    "duration": 1207,
    "start_time": "2022-07-03T19:18:57.033Z"
   },
   {
    "duration": 448,
    "start_time": "2022-07-03T19:19:37.435Z"
   },
   {
    "duration": 1064,
    "start_time": "2022-07-03T19:20:17.953Z"
   },
   {
    "duration": 982,
    "start_time": "2022-07-03T19:20:25.089Z"
   },
   {
    "duration": 990,
    "start_time": "2022-07-03T19:21:08.842Z"
   },
   {
    "duration": 1231,
    "start_time": "2022-07-03T19:27:38.445Z"
   },
   {
    "duration": 1208,
    "start_time": "2022-07-03T19:28:41.548Z"
   },
   {
    "duration": 350,
    "start_time": "2022-07-03T19:29:30.735Z"
   },
   {
    "duration": 1169,
    "start_time": "2022-07-03T19:29:37.638Z"
   },
   {
    "duration": 1321,
    "start_time": "2022-07-03T19:34:30.885Z"
   },
   {
    "duration": 486,
    "start_time": "2022-07-03T19:38:27.549Z"
   },
   {
    "duration": 1144,
    "start_time": "2022-07-03T19:42:20.502Z"
   },
   {
    "duration": 1356,
    "start_time": "2022-07-03T19:43:56.692Z"
   },
   {
    "duration": 1269,
    "start_time": "2022-07-03T19:48:04.584Z"
   },
   {
    "duration": 1199,
    "start_time": "2022-07-03T19:48:25.728Z"
   },
   {
    "duration": 1398,
    "start_time": "2022-07-03T19:48:55.105Z"
   },
   {
    "duration": 14,
    "start_time": "2022-07-03T19:52:53.150Z"
   },
   {
    "duration": 90,
    "start_time": "2022-07-03T19:53:01.736Z"
   },
   {
    "duration": 1752,
    "start_time": "2022-07-03T19:53:06.227Z"
   },
   {
    "duration": 1420,
    "start_time": "2022-07-03T19:53:42.837Z"
   },
   {
    "duration": 29,
    "start_time": "2022-07-03T19:53:52.085Z"
   },
   {
    "duration": 43,
    "start_time": "2022-07-03T19:54:02.409Z"
   },
   {
    "duration": 1280,
    "start_time": "2022-07-03T19:55:03.510Z"
   },
   {
    "duration": 37,
    "start_time": "2022-07-03T19:55:09.141Z"
   },
   {
    "duration": 309,
    "start_time": "2022-07-03T19:55:39.395Z"
   },
   {
    "duration": 1008,
    "start_time": "2022-07-03T19:56:09.063Z"
   },
   {
    "duration": 328,
    "start_time": "2022-07-03T19:56:15.645Z"
   },
   {
    "duration": 1167,
    "start_time": "2022-07-03T19:56:30.351Z"
   },
   {
    "duration": 294,
    "start_time": "2022-07-03T19:56:35.884Z"
   },
   {
    "duration": 345,
    "start_time": "2022-07-03T19:57:50.129Z"
   },
   {
    "duration": 93,
    "start_time": "2022-07-03T19:58:13.849Z"
   },
   {
    "duration": 329,
    "start_time": "2022-07-03T19:58:19.136Z"
   },
   {
    "duration": 269,
    "start_time": "2022-07-03T20:01:45.750Z"
   },
   {
    "duration": 269,
    "start_time": "2022-07-03T20:07:05.300Z"
   },
   {
    "duration": 197,
    "start_time": "2022-07-03T20:07:49.109Z"
   },
   {
    "duration": 127,
    "start_time": "2022-07-03T20:11:44.243Z"
   },
   {
    "duration": 166,
    "start_time": "2022-07-03T20:12:21.639Z"
   },
   {
    "duration": 145,
    "start_time": "2022-07-03T20:12:34.042Z"
   },
   {
    "duration": 87,
    "start_time": "2022-07-03T20:12:46.287Z"
   },
   {
    "duration": 194,
    "start_time": "2022-07-03T20:12:59.601Z"
   },
   {
    "duration": 429,
    "start_time": "2022-07-03T20:14:30.164Z"
   },
   {
    "duration": 44,
    "start_time": "2022-07-03T20:14:38.793Z"
   },
   {
    "duration": 942,
    "start_time": "2022-07-03T20:14:40.345Z"
   },
   {
    "duration": 454,
    "start_time": "2022-07-03T20:14:43.746Z"
   },
   {
    "duration": 407,
    "start_time": "2022-07-03T20:15:43.086Z"
   },
   {
    "duration": 270,
    "start_time": "2022-07-03T20:16:08.007Z"
   },
   {
    "duration": 94,
    "start_time": "2022-07-03T20:16:26.584Z"
   },
   {
    "duration": 427,
    "start_time": "2022-07-03T20:29:33.989Z"
   },
   {
    "duration": 74,
    "start_time": "2022-07-03T20:29:39.451Z"
   },
   {
    "duration": 1025,
    "start_time": "2022-07-03T20:29:41.629Z"
   },
   {
    "duration": 466,
    "start_time": "2022-07-03T20:29:48.146Z"
   },
   {
    "duration": 265,
    "start_time": "2022-07-03T21:09:06.859Z"
   },
   {
    "duration": 88,
    "start_time": "2022-07-03T21:09:19.704Z"
   },
   {
    "duration": 212,
    "start_time": "2022-07-03T21:09:35.382Z"
   },
   {
    "duration": 155,
    "start_time": "2022-07-03T21:09:46.946Z"
   },
   {
    "duration": 164,
    "start_time": "2022-07-03T21:10:28.526Z"
   },
   {
    "duration": 38,
    "start_time": "2022-07-03T21:16:08.516Z"
   },
   {
    "duration": 1998,
    "start_time": "2022-07-03T21:16:16.689Z"
   },
   {
    "duration": 53,
    "start_time": "2022-07-03T21:16:43.700Z"
   },
   {
    "duration": 294,
    "start_time": "2022-07-03T21:16:46.544Z"
   },
   {
    "duration": 1178,
    "start_time": "2022-07-03T21:16:56.183Z"
   },
   {
    "duration": 222,
    "start_time": "2022-07-03T21:17:02.680Z"
   },
   {
    "duration": 20,
    "start_time": "2022-07-03T21:33:12.785Z"
   },
   {
    "duration": 11,
    "start_time": "2022-07-03T21:34:05.970Z"
   },
   {
    "duration": 4,
    "start_time": "2022-07-03T21:36:58.844Z"
   },
   {
    "duration": 3,
    "start_time": "2022-07-03T21:37:29.525Z"
   },
   {
    "duration": 5,
    "start_time": "2022-07-03T21:39:06.193Z"
   },
   {
    "duration": 4,
    "start_time": "2022-07-03T21:39:23.408Z"
   },
   {
    "duration": 4,
    "start_time": "2022-07-03T21:39:38.815Z"
   },
   {
    "duration": 3,
    "start_time": "2022-07-03T21:44:59.130Z"
   },
   {
    "duration": 4,
    "start_time": "2022-07-03T21:46:41.628Z"
   },
   {
    "duration": 4,
    "start_time": "2022-07-03T21:47:51.126Z"
   },
   {
    "duration": 4,
    "start_time": "2022-07-03T21:47:57.633Z"
   },
   {
    "duration": 59,
    "start_time": "2022-07-04T19:06:23.940Z"
   },
   {
    "duration": 1632,
    "start_time": "2022-07-04T19:06:32.111Z"
   },
   {
    "duration": 1382,
    "start_time": "2022-07-04T19:06:33.745Z"
   },
   {
    "duration": 198,
    "start_time": "2022-07-04T19:06:35.128Z"
   },
   {
    "duration": 74,
    "start_time": "2022-07-04T19:06:35.768Z"
   },
   {
    "duration": 12,
    "start_time": "2022-07-04T19:06:45.577Z"
   },
   {
    "duration": 5,
    "start_time": "2022-07-04T19:06:54.425Z"
   },
   {
    "duration": 15,
    "start_time": "2022-07-04T19:06:57.660Z"
   },
   {
    "duration": 19,
    "start_time": "2022-07-04T19:07:59.620Z"
   },
   {
    "duration": 36,
    "start_time": "2022-07-04T19:08:06.891Z"
   },
   {
    "duration": 19,
    "start_time": "2022-07-04T19:08:11.930Z"
   },
   {
    "duration": 842,
    "start_time": "2022-07-04T19:08:48.899Z"
   },
   {
    "duration": 922,
    "start_time": "2022-07-04T19:09:02.067Z"
   },
   {
    "duration": 810,
    "start_time": "2022-07-04T19:09:08.180Z"
   },
   {
    "duration": 147,
    "start_time": "2022-07-04T19:09:14.680Z"
   },
   {
    "duration": 836,
    "start_time": "2022-07-04T19:09:14.829Z"
   },
   {
    "duration": 236,
    "start_time": "2022-07-04T19:09:15.667Z"
   },
   {
    "duration": 92,
    "start_time": "2022-07-04T19:09:15.909Z"
   },
   {
    "duration": 7,
    "start_time": "2022-07-04T19:09:19.580Z"
   },
   {
    "duration": 6,
    "start_time": "2022-07-04T19:10:28.214Z"
   },
   {
    "duration": 7,
    "start_time": "2022-07-04T19:10:39.620Z"
   },
   {
    "duration": 7,
    "start_time": "2022-07-04T19:10:53.101Z"
   },
   {
    "duration": 6,
    "start_time": "2022-07-04T19:11:01.229Z"
   },
   {
    "duration": 4,
    "start_time": "2022-07-04T19:29:01.503Z"
   },
   {
    "duration": 4,
    "start_time": "2022-07-04T19:30:33.317Z"
   },
   {
    "duration": 4,
    "start_time": "2022-07-04T19:30:40.925Z"
   },
   {
    "duration": 5,
    "start_time": "2022-07-04T19:30:45.245Z"
   },
   {
    "duration": 64,
    "start_time": "2022-07-04T19:46:51.043Z"
   },
   {
    "duration": 18,
    "start_time": "2022-07-04T19:47:06.361Z"
   },
   {
    "duration": 18,
    "start_time": "2022-07-04T19:48:13.963Z"
   },
   {
    "duration": 8,
    "start_time": "2022-07-04T19:49:55.369Z"
   },
   {
    "duration": 10,
    "start_time": "2022-07-04T19:50:57.732Z"
   },
   {
    "duration": 10,
    "start_time": "2022-07-04T19:51:09.573Z"
   },
   {
    "duration": 14,
    "start_time": "2022-07-04T19:52:01.718Z"
   },
   {
    "duration": 10,
    "start_time": "2022-07-04T19:52:23.464Z"
   },
   {
    "duration": 134,
    "start_time": "2022-07-04T19:53:37.075Z"
   },
   {
    "duration": 88,
    "start_time": "2022-07-04T19:54:30.213Z"
   },
   {
    "duration": 298,
    "start_time": "2022-07-04T20:00:03.704Z"
   },
   {
    "duration": 259,
    "start_time": "2022-07-04T20:00:18.143Z"
   },
   {
    "duration": 143,
    "start_time": "2022-07-04T20:00:36.367Z"
   },
   {
    "duration": 151,
    "start_time": "2022-07-04T20:00:53.960Z"
   },
   {
    "duration": 28,
    "start_time": "2022-07-04T20:13:16.574Z"
   },
   {
    "duration": 45,
    "start_time": "2022-07-04T20:13:22.573Z"
   },
   {
    "duration": 938,
    "start_time": "2022-07-04T20:13:22.620Z"
   },
   {
    "duration": 344,
    "start_time": "2022-07-04T20:13:23.559Z"
   },
   {
    "duration": 4,
    "start_time": "2022-07-04T20:13:23.905Z"
   },
   {
    "duration": 20,
    "start_time": "2022-07-04T20:13:30.784Z"
   },
   {
    "duration": 22,
    "start_time": "2022-07-04T20:13:57.964Z"
   },
   {
    "duration": 22,
    "start_time": "2022-07-04T20:14:09.864Z"
   },
   {
    "duration": 29,
    "start_time": "2022-07-04T20:14:30.474Z"
   },
   {
    "duration": 41,
    "start_time": "2022-07-04T20:14:35.758Z"
   },
   {
    "duration": 869,
    "start_time": "2022-07-04T20:14:35.801Z"
   },
   {
    "duration": 330,
    "start_time": "2022-07-04T20:14:36.672Z"
   },
   {
    "duration": 4,
    "start_time": "2022-07-04T20:14:37.005Z"
   },
   {
    "duration": 21,
    "start_time": "2022-07-04T20:14:47.137Z"
   },
   {
    "duration": 23,
    "start_time": "2022-07-04T20:15:56.620Z"
   },
   {
    "duration": 23,
    "start_time": "2022-07-04T20:17:05.292Z"
   },
   {
    "duration": 8,
    "start_time": "2022-07-04T20:18:23.078Z"
   },
   {
    "duration": 30,
    "start_time": "2022-07-04T20:19:20.950Z"
   },
   {
    "duration": 25,
    "start_time": "2022-07-04T20:24:14.699Z"
   },
   {
    "duration": 3860,
    "start_time": "2022-07-04T20:25:06.292Z"
   },
   {
    "duration": 4130,
    "start_time": "2022-07-04T20:27:05.169Z"
   },
   {
    "duration": 3917,
    "start_time": "2022-07-04T20:29:20.462Z"
   },
   {
    "duration": 4525,
    "start_time": "2022-07-04T20:30:35.539Z"
   },
   {
    "duration": 3501,
    "start_time": "2022-07-04T20:33:46.168Z"
   },
   {
    "duration": 3408,
    "start_time": "2022-07-04T20:34:50.313Z"
   },
   {
    "duration": 3305,
    "start_time": "2022-07-04T20:35:51.662Z"
   },
   {
    "duration": 3408,
    "start_time": "2022-07-04T20:37:53.956Z"
   },
   {
    "duration": 3589,
    "start_time": "2022-07-04T20:38:20.959Z"
   },
   {
    "duration": 3414,
    "start_time": "2022-07-04T20:40:08.240Z"
   },
   {
    "duration": 3314,
    "start_time": "2022-07-04T20:40:20.960Z"
   },
   {
    "duration": 3484,
    "start_time": "2022-07-04T20:40:28.191Z"
   },
   {
    "duration": 3358,
    "start_time": "2022-07-04T20:44:37.974Z"
   },
   {
    "duration": 3386,
    "start_time": "2022-07-04T20:47:32.242Z"
   },
   {
    "duration": 3502,
    "start_time": "2022-07-04T20:48:32.018Z"
   },
   {
    "duration": 3638,
    "start_time": "2022-07-04T20:49:03.205Z"
   },
   {
    "duration": 233,
    "start_time": "2022-07-04T20:49:37.372Z"
   },
   {
    "duration": 3512,
    "start_time": "2022-07-04T20:50:23.045Z"
   },
   {
    "duration": 19,
    "start_time": "2022-07-05T16:11:48.120Z"
   },
   {
    "duration": 110,
    "start_time": "2022-07-05T16:11:56.339Z"
   },
   {
    "duration": 5,
    "start_time": "2022-07-05T16:11:56.751Z"
   },
   {
    "duration": 76,
    "start_time": "2022-07-05T18:10:32.701Z"
   },
   {
    "duration": 2066,
    "start_time": "2022-07-05T18:10:37.621Z"
   },
   {
    "duration": 1583,
    "start_time": "2022-07-05T18:10:39.690Z"
   },
   {
    "duration": 572,
    "start_time": "2022-07-05T18:10:41.275Z"
   },
   {
    "duration": 6,
    "start_time": "2022-07-05T18:10:41.850Z"
   },
   {
    "duration": 5293,
    "start_time": "2022-07-05T18:10:44.129Z"
   },
   {
    "duration": 8149,
    "start_time": "2022-07-05T18:11:32.466Z"
   },
   {
    "duration": 10009,
    "start_time": "2022-07-05T18:11:57.404Z"
   },
   {
    "duration": 5938,
    "start_time": "2022-07-05T18:12:37.669Z"
   },
   {
    "duration": 4543,
    "start_time": "2022-07-05T18:41:31.239Z"
   },
   {
    "duration": 5817,
    "start_time": "2022-07-05T18:42:15.731Z"
   },
   {
    "duration": 5075,
    "start_time": "2022-07-05T18:43:25.146Z"
   },
   {
    "duration": 5495,
    "start_time": "2022-07-05T18:43:49.185Z"
   },
   {
    "duration": 5328,
    "start_time": "2022-07-05T18:44:00.690Z"
   },
   {
    "duration": 5723,
    "start_time": "2022-07-05T18:44:39.796Z"
   },
   {
    "duration": 4256,
    "start_time": "2022-07-05T18:45:19.628Z"
   },
   {
    "duration": 44,
    "start_time": "2022-07-05T18:45:54.678Z"
   },
   {
    "duration": 808,
    "start_time": "2022-07-05T18:45:54.724Z"
   },
   {
    "duration": 320,
    "start_time": "2022-07-05T18:45:55.534Z"
   },
   {
    "duration": 5,
    "start_time": "2022-07-05T18:45:55.948Z"
   },
   {
    "duration": 4377,
    "start_time": "2022-07-05T18:46:00.015Z"
   },
   {
    "duration": 6022,
    "start_time": "2022-07-05T18:47:12.568Z"
   },
   {
    "duration": 3320,
    "start_time": "2022-07-05T18:59:25.342Z"
   },
   {
    "duration": 3260,
    "start_time": "2022-07-05T18:59:53.677Z"
   },
   {
    "duration": 78,
    "start_time": "2022-07-05T19:00:29.727Z"
   },
   {
    "duration": 4684,
    "start_time": "2022-07-05T19:00:42.472Z"
   },
   {
    "duration": 5979,
    "start_time": "2022-07-05T19:01:06.768Z"
   },
   {
    "duration": 18,
    "start_time": "2022-07-05T19:01:29.368Z"
   },
   {
    "duration": 6583,
    "start_time": "2022-07-05T19:02:36.290Z"
   },
   {
    "duration": 8118,
    "start_time": "2022-07-05T19:02:51.802Z"
   },
   {
    "duration": 16,
    "start_time": "2022-07-05T19:05:10.480Z"
   },
   {
    "duration": 13175,
    "start_time": "2022-07-05T19:07:35.928Z"
   },
   {
    "duration": 34,
    "start_time": "2022-07-05T19:07:49.105Z"
   },
   {
    "duration": 934,
    "start_time": "2022-07-05T19:07:49.141Z"
   },
   {
    "duration": 284,
    "start_time": "2022-07-05T19:07:50.077Z"
   },
   {
    "duration": 7,
    "start_time": "2022-07-05T19:07:50.447Z"
   },
   {
    "duration": 7300,
    "start_time": "2022-07-05T19:08:49.850Z"
   },
   {
    "duration": 6399,
    "start_time": "2022-07-05T19:09:49.460Z"
   },
   {
    "duration": 6536,
    "start_time": "2022-07-05T19:12:04.245Z"
   },
   {
    "duration": 4844,
    "start_time": "2022-07-05T19:12:26.823Z"
   },
   {
    "duration": 3475,
    "start_time": "2022-07-05T19:12:39.311Z"
   },
   {
    "duration": 3631,
    "start_time": "2022-07-05T19:12:56.519Z"
   },
   {
    "duration": 3397,
    "start_time": "2022-07-05T19:14:22.548Z"
   }
  ],
  "kernelspec": {
   "display_name": "Python 3 (ipykernel)",
   "language": "python",
   "name": "python3"
  },
  "language_info": {
   "codemirror_mode": {
    "name": "ipython",
    "version": 3
   },
   "file_extension": ".py",
   "mimetype": "text/x-python",
   "name": "python",
   "nbconvert_exporter": "python",
   "pygments_lexer": "ipython3",
   "version": "3.9.7"
  },
  "toc": {
   "base_numbering": 1,
   "nav_menu": {},
   "number_sections": true,
   "sideBar": true,
   "skip_h1_title": true,
   "title_cell": "Table of Contents",
   "title_sidebar": "Contents",
   "toc_cell": false,
   "toc_position": {},
   "toc_section_display": true,
   "toc_window_display": false
  }
 },
 "nbformat": 4,
 "nbformat_minor": 2
}
