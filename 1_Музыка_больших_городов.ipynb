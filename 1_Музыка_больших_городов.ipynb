{
 "cells": [
  {
   "cell_type": "markdown",
   "metadata": {
    "id": "E0vqbgi9ay0H"
   },
   "source": [
    "# Яндекс.Музыка"
   ]
  },
  {
   "cell_type": "markdown",
   "metadata": {
    "id": "VUC88oWjTJw2"
   },
   "source": [
    "Сравнение Москвы и Петербурга окружено мифами. Например:\n",
    " * Москва — мегаполис, подчинённый жёсткому ритму рабочей недели;\n",
    " * Петербург — культурная столица, со своими вкусами.\n",
    "\n",
    "На данных Яндекс.Музыки вы сравните поведение пользователей двух столиц.\n",
    "\n",
    "**Цель исследования** — проверьте три гипотезы:\n",
    "1. Активность пользователей зависит от дня недели. Причём в Москве и Петербурге это проявляется по-разному.\n",
    "2. В понедельник утром в Москве преобладают одни жанры, а в Петербурге — другие. Так же и вечером пятницы преобладают разные жанры — в зависимости от города. \n",
    "3. Москва и Петербург предпочитают разные жанры музыки. В Москве чаще слушают поп-музыку, в Петербурге — русский рэп.\n",
    "\n",
    "**Ход исследования**\n",
    "\n",
    "Данные о поведении пользователей вы получите из файла `yandex_music_project.csv`. О качестве данных ничего не известно. Поэтому перед проверкой гипотез понадобится обзор данных. \n",
    "\n",
    "Вы проверите данные на ошибки и оцените их влияние на исследование. Затем, на этапе предобработки вы поищете возможность исправить самые критичные ошибки данных.\n",
    " \n",
    "Таким образом, исследование пройдёт в три этапа:\n",
    " 1. Обзор данных.\n",
    " 2. Предобработка данных.\n",
    " 3. Проверка гипотез.\n",
    "\n"
   ]
  },
  {
   "cell_type": "markdown",
   "metadata": {
    "id": "Ml1hmfXC_Zcs"
   },
   "source": [
    "## Обзор данных\n",
    "\n",
    "Составьте первое представление о данных Яндекс.Музыки.\n",
    "\n",
    "\n"
   ]
  },
  {
   "cell_type": "markdown",
   "metadata": {
    "id": "57eAOGIz_Zcs"
   },
   "source": [
    "Основной инструмент аналитика — `pandas`. Импортируйте эту библиотеку."
   ]
  },
  {
   "cell_type": "code",
   "execution_count": 1,
   "metadata": {
    "id": "AXN7PHPN_Zcs"
   },
   "outputs": [],
   "source": [
    "# импорт библиотеки pandas\n",
    "\n",
    "import pandas as pd"
   ]
  },
  {
   "cell_type": "markdown",
   "metadata": {
    "id": "SG23P8tt_Zcs"
   },
   "source": [
    "Прочитайте файл `yandex_music_project.csv` из папки `/datasets` и сохраните его в переменной `df`:"
   ]
  },
  {
   "cell_type": "code",
   "execution_count": 2,
   "metadata": {
    "id": "fFVu7vqh_Zct"
   },
   "outputs": [],
   "source": [
    "# чтение файла с данными и сохранение в df\n",
    "\n",
    "df = pd.read_csv('/datasets/yandex_music_project.csv')"
   ]
  },
  {
   "cell_type": "code",
   "execution_count": 3,
   "metadata": {
    "id": "oWTVX3gW_Zct"
   },
   "outputs": [
    {
     "data": {
      "text/html": [
       "<div>\n",
       "<style scoped>\n",
       "    .dataframe tbody tr th:only-of-type {\n",
       "        vertical-align: middle;\n",
       "    }\n",
       "\n",
       "    .dataframe tbody tr th {\n",
       "        vertical-align: top;\n",
       "    }\n",
       "\n",
       "    .dataframe thead th {\n",
       "        text-align: right;\n",
       "    }\n",
       "</style>\n",
       "<table border=\"1\" class=\"dataframe\">\n",
       "  <thead>\n",
       "    <tr style=\"text-align: right;\">\n",
       "      <th></th>\n",
       "      <th>userID</th>\n",
       "      <th>Track</th>\n",
       "      <th>artist</th>\n",
       "      <th>genre</th>\n",
       "      <th>City</th>\n",
       "      <th>time</th>\n",
       "      <th>Day</th>\n",
       "    </tr>\n",
       "  </thead>\n",
       "  <tbody>\n",
       "    <tr>\n",
       "      <td>0</td>\n",
       "      <td>FFB692EC</td>\n",
       "      <td>Kamigata To Boots</td>\n",
       "      <td>The Mass Missile</td>\n",
       "      <td>rock</td>\n",
       "      <td>Saint-Petersburg</td>\n",
       "      <td>20:28:33</td>\n",
       "      <td>Wednesday</td>\n",
       "    </tr>\n",
       "    <tr>\n",
       "      <td>1</td>\n",
       "      <td>55204538</td>\n",
       "      <td>Delayed Because of Accident</td>\n",
       "      <td>Andreas Rönnberg</td>\n",
       "      <td>rock</td>\n",
       "      <td>Moscow</td>\n",
       "      <td>14:07:09</td>\n",
       "      <td>Friday</td>\n",
       "    </tr>\n",
       "    <tr>\n",
       "      <td>2</td>\n",
       "      <td>20EC38</td>\n",
       "      <td>Funiculì funiculà</td>\n",
       "      <td>Mario Lanza</td>\n",
       "      <td>pop</td>\n",
       "      <td>Saint-Petersburg</td>\n",
       "      <td>20:58:07</td>\n",
       "      <td>Wednesday</td>\n",
       "    </tr>\n",
       "    <tr>\n",
       "      <td>3</td>\n",
       "      <td>A3DD03C9</td>\n",
       "      <td>Dragons in the Sunset</td>\n",
       "      <td>Fire + Ice</td>\n",
       "      <td>folk</td>\n",
       "      <td>Saint-Petersburg</td>\n",
       "      <td>08:37:09</td>\n",
       "      <td>Monday</td>\n",
       "    </tr>\n",
       "    <tr>\n",
       "      <td>4</td>\n",
       "      <td>E2DC1FAE</td>\n",
       "      <td>Soul People</td>\n",
       "      <td>Space Echo</td>\n",
       "      <td>dance</td>\n",
       "      <td>Moscow</td>\n",
       "      <td>08:34:34</td>\n",
       "      <td>Monday</td>\n",
       "    </tr>\n",
       "    <tr>\n",
       "      <td>5</td>\n",
       "      <td>842029A1</td>\n",
       "      <td>Преданная</td>\n",
       "      <td>IMPERVTOR</td>\n",
       "      <td>rusrap</td>\n",
       "      <td>Saint-Petersburg</td>\n",
       "      <td>13:09:41</td>\n",
       "      <td>Friday</td>\n",
       "    </tr>\n",
       "    <tr>\n",
       "      <td>6</td>\n",
       "      <td>4CB90AA5</td>\n",
       "      <td>True</td>\n",
       "      <td>Roman Messer</td>\n",
       "      <td>dance</td>\n",
       "      <td>Moscow</td>\n",
       "      <td>13:00:07</td>\n",
       "      <td>Wednesday</td>\n",
       "    </tr>\n",
       "    <tr>\n",
       "      <td>7</td>\n",
       "      <td>F03E1C1F</td>\n",
       "      <td>Feeling This Way</td>\n",
       "      <td>Polina Griffith</td>\n",
       "      <td>dance</td>\n",
       "      <td>Moscow</td>\n",
       "      <td>20:47:49</td>\n",
       "      <td>Wednesday</td>\n",
       "    </tr>\n",
       "    <tr>\n",
       "      <td>8</td>\n",
       "      <td>8FA1D3BE</td>\n",
       "      <td>И вновь продолжается бой</td>\n",
       "      <td>NaN</td>\n",
       "      <td>ruspop</td>\n",
       "      <td>Moscow</td>\n",
       "      <td>09:17:40</td>\n",
       "      <td>Friday</td>\n",
       "    </tr>\n",
       "    <tr>\n",
       "      <td>9</td>\n",
       "      <td>E772D5C0</td>\n",
       "      <td>Pessimist</td>\n",
       "      <td>NaN</td>\n",
       "      <td>dance</td>\n",
       "      <td>Saint-Petersburg</td>\n",
       "      <td>21:20:49</td>\n",
       "      <td>Wednesday</td>\n",
       "    </tr>\n",
       "  </tbody>\n",
       "</table>\n",
       "</div>"
      ],
      "text/plain": [
       "     userID                        Track            artist   genre  \\\n",
       "0  FFB692EC            Kamigata To Boots  The Mass Missile    rock   \n",
       "1  55204538  Delayed Because of Accident  Andreas Rönnberg    rock   \n",
       "2    20EC38            Funiculì funiculà       Mario Lanza     pop   \n",
       "3  A3DD03C9        Dragons in the Sunset        Fire + Ice    folk   \n",
       "4  E2DC1FAE                  Soul People        Space Echo   dance   \n",
       "5  842029A1                    Преданная         IMPERVTOR  rusrap   \n",
       "6  4CB90AA5                         True      Roman Messer   dance   \n",
       "7  F03E1C1F             Feeling This Way   Polina Griffith   dance   \n",
       "8  8FA1D3BE     И вновь продолжается бой               NaN  ruspop   \n",
       "9  E772D5C0                    Pessimist               NaN   dance   \n",
       "\n",
       "             City        time        Day  \n",
       "0  Saint-Petersburg  20:28:33  Wednesday  \n",
       "1            Moscow  14:07:09     Friday  \n",
       "2  Saint-Petersburg  20:58:07  Wednesday  \n",
       "3  Saint-Petersburg  08:37:09     Monday  \n",
       "4            Moscow  08:34:34     Monday  \n",
       "5  Saint-Petersburg  13:09:41     Friday  \n",
       "6            Moscow  13:00:07  Wednesday  \n",
       "7            Moscow  20:47:49  Wednesday  \n",
       "8            Moscow  09:17:40     Friday  \n",
       "9  Saint-Petersburg  21:20:49  Wednesday  "
      ]
     },
     "execution_count": 3,
     "metadata": {},
     "output_type": "execute_result"
    }
   ],
   "source": [
    "# получение первых 10 строк таблицы df\n",
    "\n",
    "df.head(10)"
   ]
  },
  {
   "cell_type": "markdown",
   "metadata": {
    "id": "EO73Kwic_Zct"
   },
   "source": [
    "Одной командой получить общую информацию о таблице:"
   ]
  },
  {
   "cell_type": "code",
   "execution_count": 4,
   "metadata": {
    "id": "DSf2kIb-_Zct"
   },
   "outputs": [
    {
     "name": "stdout",
     "output_type": "stream",
     "text": [
      "<class 'pandas.core.frame.DataFrame'>\n",
      "RangeIndex: 65079 entries, 0 to 65078\n",
      "Data columns (total 7 columns):\n",
      "  userID    65079 non-null object\n",
      "Track       63848 non-null object\n",
      "artist      57876 non-null object\n",
      "genre       63881 non-null object\n",
      "  City      65079 non-null object\n",
      "time        65079 non-null object\n",
      "Day         65079 non-null object\n",
      "dtypes: object(7)\n",
      "memory usage: 3.5+ MB\n"
     ]
    }
   ],
   "source": [
    "# получение общей информации о данных в таблице df\n",
    "\n",
    "df.info()"
   ]
  },
  {
   "cell_type": "markdown",
   "metadata": {
    "id": "TaQ2Iwbr_Zct"
   },
   "source": [
    "Итак, в таблице семь столбцов. Тип данных во всех столбцах — `object`.\n",
    "\n",
    "Согласно документации к данным:\n",
    "* `userID` — идентификатор пользователя;\n",
    "* `Track` — название трека;  \n",
    "* `artist` — имя исполнителя;\n",
    "* `genre` — название жанра;\n",
    "* `City` — город пользователя;\n",
    "* `time` — время начала прослушивания;\n",
    "* `Day` — день недели.\n",
    "\n",
    "В названиях колонок видны три нарушения стиля:\n",
    "1. Строчные буквы сочетаются с прописными.\n",
    "2. Встречаются пробелы.\n",
    "3. Встречаются составные наименования, написанные слитно (без соблюдения \"змеиного_регистра\").\n",
    "\n",
    "Количество значений в столбцах различается. Значит, в данных есть пропущенные значения.\n"
   ]
  },
  {
   "cell_type": "markdown",
   "metadata": {
    "id": "MCB6-dXG_Zct"
   },
   "source": [
    "**Выводы**\n",
    "\n",
    "В каждой строке таблицы — данные о прослушанном треке. Часть колонок описывает саму композицию: название, исполнителя и жанр. Остальные данные рассказывают о пользователе: из какого он города, когда он слушал музыку. \n",
    "\n",
    "Предварительно можно утверждать, что данных достаточно для проверки гипотез. Но встречаются пропуски в данных, а в названиях колонок — расхождения с хорошим стилем.\n",
    "\n",
    "Чтобы двигаться дальше, нужно устранить проблемы в данных."
   ]
  },
  {
   "cell_type": "markdown",
   "metadata": {
    "id": "SjYF6Ub9_Zct"
   },
   "source": [
    "## Предобработка данных\n",
    "Исправьте стиль в заголовках столбцов, исключите пропуски. Затем проверьте данные на дубликаты."
   ]
  },
  {
   "cell_type": "markdown",
   "metadata": {
    "id": "dIaKXr29_Zct"
   },
   "source": [
    "### Стиль заголовков\n",
    "Выведите на экран названия столбцов:"
   ]
  },
  {
   "cell_type": "code",
   "execution_count": 5,
   "metadata": {
    "id": "oKOTdF_Q_Zct"
   },
   "outputs": [
    {
     "data": {
      "text/plain": [
       "Index(['  userID', 'Track', 'artist', 'genre', '  City  ', 'time', 'Day'], dtype='object')"
      ]
     },
     "execution_count": 5,
     "metadata": {},
     "output_type": "execute_result"
    }
   ],
   "source": [
    "# перечень названий столбцов таблицы df\n",
    "\n",
    "df.columns"
   ]
  },
  {
   "cell_type": "markdown",
   "metadata": {
    "id": "zj5534cv_Zct"
   },
   "source": [
    "Приведите названия в соответствие с хорошим стилем:\n",
    "* несколько слов в названии запишите в «змеином_регистре»,\n",
    "* все символы сделайте строчными,\n",
    "* устраните пробелы.\n",
    "\n",
    "Для этого переименуйте колонки так:\n",
    "* `'  userID'` → `'user_id'`;\n",
    "* `'Track'` → `'track'`;\n",
    "* `'  City  '` → `'city'`;\n",
    "* `'Day'` → `'day'`."
   ]
  },
  {
   "cell_type": "code",
   "execution_count": 6,
   "metadata": {
    "id": "ISlFqs5y_Zct"
   },
   "outputs": [],
   "source": [
    "# переименование столбцов\n",
    "\n",
    "df=df.rename(columns = {'  userID':'user_id', 'Track':'track', '  City  ':'city', 'Day':'day'})"
   ]
  },
  {
   "cell_type": "markdown",
   "metadata": {
    "id": "1dqbh00J_Zct"
   },
   "source": [
    "Проверьте результат. Для этого ещё раз выведите на экран названия столбцов:"
   ]
  },
  {
   "cell_type": "code",
   "execution_count": 7,
   "metadata": {
    "id": "d4NOAmTW_Zct"
   },
   "outputs": [
    {
     "data": {
      "text/plain": [
       "Index(['user_id', 'track', 'artist', 'genre', 'city', 'time', 'day'], dtype='object')"
      ]
     },
     "execution_count": 7,
     "metadata": {},
     "output_type": "execute_result"
    }
   ],
   "source": [
    "# проверка результатов - перечень названий столбцов\n",
    "\n",
    "df.columns"
   ]
  },
  {
   "cell_type": "markdown",
   "metadata": {
    "id": "5ISfbcfY_Zct"
   },
   "source": [
    "### Пропуски значений\n",
    "Сначала посчитайте, сколько в таблице пропущенных значений. Для этого достаточно двух методов `pandas`:"
   ]
  },
  {
   "cell_type": "code",
   "execution_count": 8,
   "metadata": {
    "id": "RskX29qr_Zct"
   },
   "outputs": [
    {
     "data": {
      "text/plain": [
       "user_id       0\n",
       "track      1231\n",
       "artist     7203\n",
       "genre      1198\n",
       "city          0\n",
       "time          0\n",
       "day           0\n",
       "dtype: int64"
      ]
     },
     "execution_count": 8,
     "metadata": {},
     "output_type": "execute_result"
    }
   ],
   "source": [
    "# подсчёт пропусков\n",
    "\n",
    "pd.isna(df).sum()"
   ]
  },
  {
   "cell_type": "markdown",
   "metadata": {
    "id": "qubhgnlO_Zct"
   },
   "source": [
    "Не все пропущенные значения влияют на исследование. Так в `track` и `artist` пропуски не важны для вашей работы. Достаточно заменить их явными обозначениями.\n",
    "\n",
    "Но пропуски в `genre` могут помешать сравнению музыкальных вкусов в Москве и Санкт-Петербурге. На практике было бы правильно установить причину пропусков и восстановить данные. Такой возможности нет в учебном проекте. Придётся:\n",
    "* заполнить и эти пропуски явными обозначениями,\n",
    "* оценить, насколько они повредят расчётам. "
   ]
  },
  {
   "cell_type": "markdown",
   "metadata": {
    "id": "fSv2laPA_Zct"
   },
   "source": [
    "Замените пропущенные значения в столбцах `track`, `artist` и `genre` на строку `'unknown'`. Для этого создайте список `columns_to_replace`, переберите его элементы циклом `for` и для каждого столбца выполните замену пропущенных значений:"
   ]
  },
  {
   "cell_type": "code",
   "execution_count": 9,
   "metadata": {
    "id": "KplB5qWs_Zct"
   },
   "outputs": [],
   "source": [
    "# перебор названий столбцов в цикле и замена пропущенных значений на 'unknown'\n",
    "\n",
    "columns_to_replace = ['track', 'artist', 'genre']\n",
    "for col in columns_to_replace:\n",
    "    df[col] = df[col].fillna('unknown')"
   ]
  },
  {
   "cell_type": "markdown",
   "metadata": {
    "id": "Ilsm-MZo_Zct"
   },
   "source": [
    "Убедитесь, что в таблице не осталось пропусков. Для этого ещё раз посчитайте пропущенные значения."
   ]
  },
  {
   "cell_type": "code",
   "execution_count": 10,
   "metadata": {
    "id": "Tq4nYRX4_Zct"
   },
   "outputs": [
    {
     "data": {
      "text/plain": [
       "user_id    0\n",
       "track      0\n",
       "artist     0\n",
       "genre      0\n",
       "city       0\n",
       "time       0\n",
       "day        0\n",
       "dtype: int64"
      ]
     },
     "execution_count": 10,
     "metadata": {},
     "output_type": "execute_result"
    }
   ],
   "source": [
    "# подсчёт пропусков\n",
    "\n",
    "df.isna().sum()"
   ]
  },
  {
   "cell_type": "markdown",
   "metadata": {
    "id": "BWKRtBJ3_Zct"
   },
   "source": [
    "### Дубликаты\n",
    "Посчитайте явные дубликаты в таблице одной командой:"
   ]
  },
  {
   "cell_type": "code",
   "execution_count": 11,
   "metadata": {
    "id": "36eES_S0_Zct"
   },
   "outputs": [
    {
     "data": {
      "text/plain": [
       "3826"
      ]
     },
     "execution_count": 11,
     "metadata": {},
     "output_type": "execute_result"
    }
   ],
   "source": [
    "# подсчёт явных дубликатов\n",
    "\n",
    "df.duplicated().sum()"
   ]
  },
  {
   "cell_type": "markdown",
   "metadata": {
    "id": "Ot25h6XR_Zct"
   },
   "source": [
    "Вызовите специальный метод `pandas`, чтобы удалить явные дубликаты:"
   ]
  },
  {
   "cell_type": "code",
   "execution_count": 12,
   "metadata": {
    "id": "exFHq6tt_Zct"
   },
   "outputs": [],
   "source": [
    "# удаление явных дубликатов (с удалением старых индексов и формированием новых)\n",
    "\n",
    "df = df.drop_duplicates().reset_index(drop=True)"
   ]
  },
  {
   "cell_type": "code",
   "execution_count": 13,
   "metadata": {},
   "outputs": [
    {
     "data": {
      "text/html": [
       "<div>\n",
       "<style scoped>\n",
       "    .dataframe tbody tr th:only-of-type {\n",
       "        vertical-align: middle;\n",
       "    }\n",
       "\n",
       "    .dataframe tbody tr th {\n",
       "        vertical-align: top;\n",
       "    }\n",
       "\n",
       "    .dataframe thead th {\n",
       "        text-align: right;\n",
       "    }\n",
       "</style>\n",
       "<table border=\"1\" class=\"dataframe\">\n",
       "  <thead>\n",
       "    <tr style=\"text-align: right;\">\n",
       "      <th></th>\n",
       "      <th>user_id</th>\n",
       "      <th>track</th>\n",
       "      <th>artist</th>\n",
       "      <th>genre</th>\n",
       "      <th>city</th>\n",
       "      <th>time</th>\n",
       "      <th>day</th>\n",
       "    </tr>\n",
       "  </thead>\n",
       "  <tbody>\n",
       "    <tr>\n",
       "      <td>61243</td>\n",
       "      <td>9E65547F</td>\n",
       "      <td>Fascinating Rhythm</td>\n",
       "      <td>Mark Murphy</td>\n",
       "      <td>jazz</td>\n",
       "      <td>Moscow</td>\n",
       "      <td>20:29:09</td>\n",
       "      <td>Wednesday</td>\n",
       "    </tr>\n",
       "    <tr>\n",
       "      <td>61244</td>\n",
       "      <td>49F35D53</td>\n",
       "      <td>Ass Up</td>\n",
       "      <td>Rameez</td>\n",
       "      <td>dance</td>\n",
       "      <td>Moscow</td>\n",
       "      <td>14:08:58</td>\n",
       "      <td>Friday</td>\n",
       "    </tr>\n",
       "    <tr>\n",
       "      <td>61245</td>\n",
       "      <td>92378E24</td>\n",
       "      <td>Swing it Like You Mean it</td>\n",
       "      <td>OJOJOJ</td>\n",
       "      <td>techno</td>\n",
       "      <td>Moscow</td>\n",
       "      <td>21:12:56</td>\n",
       "      <td>Friday</td>\n",
       "    </tr>\n",
       "    <tr>\n",
       "      <td>61246</td>\n",
       "      <td>C532021D</td>\n",
       "      <td>We Can Not Be Silenced</td>\n",
       "      <td>Pänzer</td>\n",
       "      <td>extrememetal</td>\n",
       "      <td>Moscow</td>\n",
       "      <td>08:38:24</td>\n",
       "      <td>Friday</td>\n",
       "    </tr>\n",
       "    <tr>\n",
       "      <td>61247</td>\n",
       "      <td>83A474E7</td>\n",
       "      <td>I Worship Only What You Bleed</td>\n",
       "      <td>The Black Dahlia Murder</td>\n",
       "      <td>extrememetal</td>\n",
       "      <td>Moscow</td>\n",
       "      <td>21:07:12</td>\n",
       "      <td>Monday</td>\n",
       "    </tr>\n",
       "    <tr>\n",
       "      <td>61248</td>\n",
       "      <td>729CBB09</td>\n",
       "      <td>My Name</td>\n",
       "      <td>McLean</td>\n",
       "      <td>rnb</td>\n",
       "      <td>Moscow</td>\n",
       "      <td>13:32:28</td>\n",
       "      <td>Wednesday</td>\n",
       "    </tr>\n",
       "    <tr>\n",
       "      <td>61249</td>\n",
       "      <td>D08D4A55</td>\n",
       "      <td>Maybe One Day (feat. Black Spade)</td>\n",
       "      <td>Blu &amp; Exile</td>\n",
       "      <td>hip</td>\n",
       "      <td>Saint-Petersburg</td>\n",
       "      <td>10:00:00</td>\n",
       "      <td>Monday</td>\n",
       "    </tr>\n",
       "    <tr>\n",
       "      <td>61250</td>\n",
       "      <td>C5E3A0D5</td>\n",
       "      <td>Jalopiina</td>\n",
       "      <td>unknown</td>\n",
       "      <td>industrial</td>\n",
       "      <td>Moscow</td>\n",
       "      <td>20:09:26</td>\n",
       "      <td>Friday</td>\n",
       "    </tr>\n",
       "    <tr>\n",
       "      <td>61251</td>\n",
       "      <td>321D0506</td>\n",
       "      <td>Freight Train</td>\n",
       "      <td>Chas McDevitt</td>\n",
       "      <td>rock</td>\n",
       "      <td>Moscow</td>\n",
       "      <td>21:43:59</td>\n",
       "      <td>Friday</td>\n",
       "    </tr>\n",
       "    <tr>\n",
       "      <td>61252</td>\n",
       "      <td>3A64EF84</td>\n",
       "      <td>Tell Me Sweet Little Lies</td>\n",
       "      <td>Monica Lopez</td>\n",
       "      <td>country</td>\n",
       "      <td>Moscow</td>\n",
       "      <td>21:59:46</td>\n",
       "      <td>Friday</td>\n",
       "    </tr>\n",
       "  </tbody>\n",
       "</table>\n",
       "</div>"
      ],
      "text/plain": [
       "        user_id                              track                   artist  \\\n",
       "61243  9E65547F                 Fascinating Rhythm              Mark Murphy   \n",
       "61244  49F35D53                             Ass Up                   Rameez   \n",
       "61245  92378E24          Swing it Like You Mean it                   OJOJOJ   \n",
       "61246  C532021D             We Can Not Be Silenced                   Pänzer   \n",
       "61247  83A474E7      I Worship Only What You Bleed  The Black Dahlia Murder   \n",
       "61248  729CBB09                            My Name                   McLean   \n",
       "61249  D08D4A55  Maybe One Day (feat. Black Spade)              Blu & Exile   \n",
       "61250  C5E3A0D5                          Jalopiina                  unknown   \n",
       "61251  321D0506                      Freight Train            Chas McDevitt   \n",
       "61252  3A64EF84          Tell Me Sweet Little Lies             Monica Lopez   \n",
       "\n",
       "              genre              city      time        day  \n",
       "61243          jazz            Moscow  20:29:09  Wednesday  \n",
       "61244         dance            Moscow  14:08:58     Friday  \n",
       "61245        techno            Moscow  21:12:56     Friday  \n",
       "61246  extrememetal            Moscow  08:38:24     Friday  \n",
       "61247  extrememetal            Moscow  21:07:12     Monday  \n",
       "61248           rnb            Moscow  13:32:28  Wednesday  \n",
       "61249           hip  Saint-Petersburg  10:00:00     Monday  \n",
       "61250    industrial            Moscow  20:09:26     Friday  \n",
       "61251          rock            Moscow  21:43:59     Friday  \n",
       "61252       country            Moscow  21:59:46     Friday  "
      ]
     },
     "execution_count": 13,
     "metadata": {},
     "output_type": "execute_result"
    }
   ],
   "source": [
    "df.tail(10)"
   ]
  },
  {
   "cell_type": "markdown",
   "metadata": {
    "id": "Im2YwBEG_Zct"
   },
   "source": [
    "Ещё раз посчитайте явные дубликаты в таблице — убедитесь, что полностью от них избавились:"
   ]
  },
  {
   "cell_type": "code",
   "execution_count": 14,
   "metadata": {
    "id": "-8PuNWQ0_Zct"
   },
   "outputs": [
    {
     "data": {
      "text/plain": [
       "0"
      ]
     },
     "execution_count": 14,
     "metadata": {},
     "output_type": "execute_result"
    }
   ],
   "source": [
    "# проверка на отсутствие дубликатов\n",
    "\n",
    "df.duplicated().sum()"
   ]
  },
  {
   "cell_type": "markdown",
   "metadata": {
    "id": "QlFBsxAr_Zct"
   },
   "source": [
    "Теперь избавьтесь от неявных дубликатов в колонке `genre`. Например, название одного и того же жанра может быть записано немного по-разному. Такие ошибки тоже повлияют на результат исследования."
   ]
  },
  {
   "cell_type": "markdown",
   "metadata": {
    "id": "eSjWwsOh_Zct"
   },
   "source": [
    "Выведите на экран список уникальных названий жанров, отсортированный в алфавитном порядке. Для этого:\n",
    "* извлеките нужный столбец датафрейма, \n",
    "* примените к нему метод сортировки,\n",
    "* для отсортированного столбца вызовите метод, который вернёт уникальные значения из столбца."
   ]
  },
  {
   "cell_type": "code",
   "execution_count": 15,
   "metadata": {
    "id": "JIUcqzZN_Zct"
   },
   "outputs": [
    {
     "data": {
      "text/plain": [
       "array(['acid', 'acoustic', 'action', 'adult', 'africa', 'afrikaans',\n",
       "       'alternative', 'alternativepunk', 'ambient', 'americana',\n",
       "       'animated', 'anime', 'arabesk', 'arabic', 'arena',\n",
       "       'argentinetango', 'art', 'audiobook', 'author', 'avantgarde',\n",
       "       'axé', 'baile', 'balkan', 'beats', 'bigroom', 'black', 'bluegrass',\n",
       "       'blues', 'bollywood', 'bossa', 'brazilian', 'breakbeat', 'breaks',\n",
       "       'broadway', 'cantautori', 'cantopop', 'canzone', 'caribbean',\n",
       "       'caucasian', 'celtic', 'chamber', 'chanson', 'children', 'chill',\n",
       "       'chinese', 'choral', 'christian', 'christmas', 'classical',\n",
       "       'classicmetal', 'club', 'colombian', 'comedy', 'conjazz',\n",
       "       'contemporary', 'country', 'cuban', 'dance', 'dancehall',\n",
       "       'dancepop', 'dark', 'death', 'deep', 'deutschrock', 'deutschspr',\n",
       "       'dirty', 'disco', 'dnb', 'documentary', 'downbeat', 'downtempo',\n",
       "       'drum', 'dub', 'dubstep', 'eastern', 'easy', 'electronic',\n",
       "       'electropop', 'emo', 'entehno', 'epicmetal', 'estrada', 'ethnic',\n",
       "       'eurofolk', 'european', 'experimental', 'extrememetal', 'fado',\n",
       "       'fairytail', 'film', 'fitness', 'flamenco', 'folk', 'folklore',\n",
       "       'folkmetal', 'folkrock', 'folktronica', 'forró', 'frankreich',\n",
       "       'französisch', 'french', 'funk', 'future', 'gangsta', 'garage',\n",
       "       'german', 'ghazal', 'gitarre', 'glitch', 'gospel', 'gothic',\n",
       "       'grime', 'grunge', 'gypsy', 'handsup', \"hard'n'heavy\", 'hardcore',\n",
       "       'hardstyle', 'hardtechno', 'hip', 'hip-hop', 'hiphop',\n",
       "       'historisch', 'holiday', 'hop', 'horror', 'house', 'hymn', 'idm',\n",
       "       'independent', 'indian', 'indie', 'indipop', 'industrial',\n",
       "       'inspirational', 'instrumental', 'international', 'irish', 'jam',\n",
       "       'japanese', 'jazz', 'jewish', 'jpop', 'jungle', 'k-pop',\n",
       "       'karadeniz', 'karaoke', 'kayokyoku', 'korean', 'laiko', 'latin',\n",
       "       'latino', 'leftfield', 'local', 'lounge', 'loungeelectronic',\n",
       "       'lovers', 'malaysian', 'mandopop', 'marschmusik', 'meditative',\n",
       "       'mediterranean', 'melodic', 'metal', 'metalcore', 'mexican',\n",
       "       'middle', 'minimal', 'miscellaneous', 'modern', 'mood', 'mpb',\n",
       "       'muslim', 'native', 'neoklassik', 'neue', 'new', 'newage',\n",
       "       'newwave', 'nu', 'nujazz', 'numetal', 'oceania', 'old', 'opera',\n",
       "       'orchestral', 'other', 'piano', 'podcasts', 'pop', 'popdance',\n",
       "       'popelectronic', 'popeurodance', 'poprussian', 'post',\n",
       "       'posthardcore', 'postrock', 'power', 'progmetal', 'progressive',\n",
       "       'psychedelic', 'punjabi', 'punk', 'quebecois', 'ragga', 'ram',\n",
       "       'rancheras', 'rap', 'rave', 'reggae', 'reggaeton', 'regional',\n",
       "       'relax', 'religious', 'retro', 'rhythm', 'rnb', 'rnr', 'rock',\n",
       "       'rockabilly', 'rockalternative', 'rockindie', 'rockother',\n",
       "       'romance', 'roots', 'ruspop', 'rusrap', 'rusrock', 'russian',\n",
       "       'salsa', 'samba', 'scenic', 'schlager', 'self', 'sertanejo',\n",
       "       'shanson', 'shoegazing', 'showtunes', 'singer', 'ska', 'skarock',\n",
       "       'slow', 'smooth', 'soft', 'soul', 'soulful', 'sound', 'soundtrack',\n",
       "       'southern', 'specialty', 'speech', 'spiritual', 'sport',\n",
       "       'stonerrock', 'surf', 'swing', 'synthpop', 'synthrock',\n",
       "       'sängerportrait', 'tango', 'tanzorchester', 'taraftar', 'tatar',\n",
       "       'tech', 'techno', 'teen', 'thrash', 'top', 'traditional',\n",
       "       'tradjazz', 'trance', 'tribal', 'trip', 'triphop', 'tropical',\n",
       "       'türk', 'türkçe', 'ukrrock', 'unknown', 'urban', 'uzbek',\n",
       "       'variété', 'vi', 'videogame', 'vocal', 'western', 'world',\n",
       "       'worldbeat', 'ïîï', 'электроника'], dtype=object)"
      ]
     },
     "execution_count": 15,
     "metadata": {},
     "output_type": "execute_result"
    }
   ],
   "source": [
    "# Просмотр уникальных названий жанров\n",
    "\n",
    "df['genre'].sort_values().unique()"
   ]
  },
  {
   "cell_type": "markdown",
   "metadata": {
    "id": "qej-Qmuo_Zct"
   },
   "source": [
    "Просмотрите список и найдите неявные дубликаты названия `hiphop`. Это могут быть названия с ошибками или альтернативные названия того же жанра.\n",
    "\n",
    "Вы увидите следующие неявные дубликаты:\n",
    "* *hip*,\n",
    "* *hop*,\n",
    "* *hip-hop*.\n",
    "\n",
    "Чтобы очистить от них таблицу, напишите функцию `replace_wrong_genres()` с двумя параметрами: \n",
    "* `wrong_genres` — список дубликатов,\n",
    "* `correct_genre` — строка с правильным значением.\n",
    "\n",
    "Функция должна исправить колонку `genre` в таблице `df`: заменить каждое значение из списка `wrong_genres` на значение из `correct_genre`."
   ]
  },
  {
   "cell_type": "code",
   "execution_count": 16,
   "metadata": {
    "id": "ErNDkmns_Zct"
   },
   "outputs": [],
   "source": [
    "# Функция для замены неявных дубликатов\n",
    "\n",
    "def replace_wrong_genres(wrong_genres, correct_genre):\n",
    "    for genre in wrong_genres:\n",
    "        df['genre'][df['genre'] == genre] = correct_genre\n",
    "    return df"
   ]
  },
  {
   "cell_type": "markdown",
   "metadata": {
    "id": "aDoBJxbA_Zct"
   },
   "source": [
    "Вызовите `replace_wrong_genres()` и передайте ей такие аргументы, чтобы она устранила неявные дубликаты: вместо `hip`, `hop` и `hip-hop` в таблице должно быть значение `hiphop`:"
   ]
  },
  {
   "cell_type": "code",
   "execution_count": 17,
   "metadata": {
    "id": "YN5i2hpmSo09"
   },
   "outputs": [
    {
     "data": {
      "text/plain": [
       "0"
      ]
     },
     "execution_count": 17,
     "metadata": {},
     "output_type": "execute_result"
    }
   ],
   "source": [
    "# Устранение неявных дубликатов\n",
    "\n",
    "wrong_genres = ['hip', 'hip-hop', 'hop']\n",
    "correct_genre = 'hiphop'\n",
    "df = replace_wrong_genres(wrong_genres, correct_genre)\n",
    "df.duplicated().sum()"
   ]
  },
  {
   "cell_type": "markdown",
   "metadata": {
    "id": "zQKF16_RG15m"
   },
   "source": [
    "Проверьте, что заменили неправильные названия:\n",
    "\n",
    "*   hip\n",
    "*   hop\n",
    "*   hip-hop\n",
    "\n",
    "Выведите отсортированный список уникальных значений столбца `genre`:"
   ]
  },
  {
   "cell_type": "code",
   "execution_count": 18,
   "metadata": {
    "id": "wvixALnFG15m"
   },
   "outputs": [
    {
     "data": {
      "text/plain": [
       "array(['acid', 'acoustic', 'action', 'adult', 'africa', 'afrikaans',\n",
       "       'alternative', 'alternativepunk', 'ambient', 'americana',\n",
       "       'animated', 'anime', 'arabesk', 'arabic', 'arena',\n",
       "       'argentinetango', 'art', 'audiobook', 'author', 'avantgarde',\n",
       "       'axé', 'baile', 'balkan', 'beats', 'bigroom', 'black', 'bluegrass',\n",
       "       'blues', 'bollywood', 'bossa', 'brazilian', 'breakbeat', 'breaks',\n",
       "       'broadway', 'cantautori', 'cantopop', 'canzone', 'caribbean',\n",
       "       'caucasian', 'celtic', 'chamber', 'chanson', 'children', 'chill',\n",
       "       'chinese', 'choral', 'christian', 'christmas', 'classical',\n",
       "       'classicmetal', 'club', 'colombian', 'comedy', 'conjazz',\n",
       "       'contemporary', 'country', 'cuban', 'dance', 'dancehall',\n",
       "       'dancepop', 'dark', 'death', 'deep', 'deutschrock', 'deutschspr',\n",
       "       'dirty', 'disco', 'dnb', 'documentary', 'downbeat', 'downtempo',\n",
       "       'drum', 'dub', 'dubstep', 'eastern', 'easy', 'electronic',\n",
       "       'electropop', 'emo', 'entehno', 'epicmetal', 'estrada', 'ethnic',\n",
       "       'eurofolk', 'european', 'experimental', 'extrememetal', 'fado',\n",
       "       'fairytail', 'film', 'fitness', 'flamenco', 'folk', 'folklore',\n",
       "       'folkmetal', 'folkrock', 'folktronica', 'forró', 'frankreich',\n",
       "       'französisch', 'french', 'funk', 'future', 'gangsta', 'garage',\n",
       "       'german', 'ghazal', 'gitarre', 'glitch', 'gospel', 'gothic',\n",
       "       'grime', 'grunge', 'gypsy', 'handsup', \"hard'n'heavy\", 'hardcore',\n",
       "       'hardstyle', 'hardtechno', 'hiphop', 'historisch', 'holiday',\n",
       "       'horror', 'house', 'hymn', 'idm', 'independent', 'indian', 'indie',\n",
       "       'indipop', 'industrial', 'inspirational', 'instrumental',\n",
       "       'international', 'irish', 'jam', 'japanese', 'jazz', 'jewish',\n",
       "       'jpop', 'jungle', 'k-pop', 'karadeniz', 'karaoke', 'kayokyoku',\n",
       "       'korean', 'laiko', 'latin', 'latino', 'leftfield', 'local',\n",
       "       'lounge', 'loungeelectronic', 'lovers', 'malaysian', 'mandopop',\n",
       "       'marschmusik', 'meditative', 'mediterranean', 'melodic', 'metal',\n",
       "       'metalcore', 'mexican', 'middle', 'minimal', 'miscellaneous',\n",
       "       'modern', 'mood', 'mpb', 'muslim', 'native', 'neoklassik', 'neue',\n",
       "       'new', 'newage', 'newwave', 'nu', 'nujazz', 'numetal', 'oceania',\n",
       "       'old', 'opera', 'orchestral', 'other', 'piano', 'podcasts', 'pop',\n",
       "       'popdance', 'popelectronic', 'popeurodance', 'poprussian', 'post',\n",
       "       'posthardcore', 'postrock', 'power', 'progmetal', 'progressive',\n",
       "       'psychedelic', 'punjabi', 'punk', 'quebecois', 'ragga', 'ram',\n",
       "       'rancheras', 'rap', 'rave', 'reggae', 'reggaeton', 'regional',\n",
       "       'relax', 'religious', 'retro', 'rhythm', 'rnb', 'rnr', 'rock',\n",
       "       'rockabilly', 'rockalternative', 'rockindie', 'rockother',\n",
       "       'romance', 'roots', 'ruspop', 'rusrap', 'rusrock', 'russian',\n",
       "       'salsa', 'samba', 'scenic', 'schlager', 'self', 'sertanejo',\n",
       "       'shanson', 'shoegazing', 'showtunes', 'singer', 'ska', 'skarock',\n",
       "       'slow', 'smooth', 'soft', 'soul', 'soulful', 'sound', 'soundtrack',\n",
       "       'southern', 'specialty', 'speech', 'spiritual', 'sport',\n",
       "       'stonerrock', 'surf', 'swing', 'synthpop', 'synthrock',\n",
       "       'sängerportrait', 'tango', 'tanzorchester', 'taraftar', 'tatar',\n",
       "       'tech', 'techno', 'teen', 'thrash', 'top', 'traditional',\n",
       "       'tradjazz', 'trance', 'tribal', 'trip', 'triphop', 'tropical',\n",
       "       'türk', 'türkçe', 'ukrrock', 'unknown', 'urban', 'uzbek',\n",
       "       'variété', 'vi', 'videogame', 'vocal', 'western', 'world',\n",
       "       'worldbeat', 'ïîï', 'электроника'], dtype=object)"
      ]
     },
     "execution_count": 18,
     "metadata": {},
     "output_type": "execute_result"
    }
   ],
   "source": [
    "# Проверка на неявные дубликаты\n",
    "\n",
    "df['genre'].sort_values().unique()"
   ]
  },
  {
   "cell_type": "markdown",
   "metadata": {
    "id": "jz6a9-7HQUDd"
   },
   "source": [
    "**Выводы**\n",
    "\n",
    "Предобработка обнаружила три проблемы в данных:\n",
    "\n",
    "- нарушения в стиле заголовков,\n",
    "- пропущенные значения,\n",
    "- дубликаты — явные и неявные.\n",
    "\n",
    "Вы исправили заголовки, чтобы упростить работу с таблицей. Без дубликатов исследование станет более точным.\n",
    "\n",
    "Пропущенные значения вы заменили на `'unknown'`. Ещё предстоит увидеть, не повредят ли исследованию пропуски в колонке `genre`.\n",
    "\n",
    "Теперь можно перейти к проверке гипотез. "
   ]
  },
  {
   "cell_type": "markdown",
   "metadata": {
    "id": "WttZHXH0SqKk"
   },
   "source": [
    "## Проверка гипотез"
   ]
  },
  {
   "cell_type": "markdown",
   "metadata": {
    "id": "Im936VVi_Zcu"
   },
   "source": [
    "### Сравнение поведения пользователей двух столиц"
   ]
  },
  {
   "cell_type": "markdown",
   "metadata": {
    "id": "nwt_MuaL_Zcu"
   },
   "source": [
    "Первая гипотеза утверждает, что пользователи по-разному слушают музыку в Москве и Санкт-Петербурге. Проверьте это предположение по данным о трёх днях недели — понедельнике, среде и пятнице. Для этого:\n",
    "\n",
    "* Разделите пользователей Москвы и Санкт-Петербурга\n",
    "* Сравните, сколько треков послушала каждая группа пользователей в понедельник, среду и пятницу.\n"
   ]
  },
  {
   "cell_type": "markdown",
   "metadata": {
    "id": "8Dw_YMmT_Zcu"
   },
   "source": [
    "Для тренировки сначала выполните каждый из расчётов по отдельности. \n",
    "\n",
    "Оцените активность пользователей в каждом городе. Сгруппируйте данные по городу и посчитайте прослушивания в каждой группе.\n",
    "\n"
   ]
  },
  {
   "cell_type": "code",
   "execution_count": 19,
   "metadata": {
    "id": "0_Qs96oh_Zcu"
   },
   "outputs": [
    {
     "data": {
      "text/plain": [
       "city\n",
       "Moscow              42741\n",
       "Saint-Petersburg    18512\n",
       "Name: user_id, dtype: int64"
      ]
     },
     "execution_count": 19,
     "metadata": {},
     "output_type": "execute_result"
    }
   ],
   "source": [
    "# Подсчёт прослушиваний в каждом городе\n",
    "city_grouped_count = df.groupby('city')['user_id'].count()\n",
    "\n",
    "city_grouped_count\n",
    "\n",
    "#print('Moscow:', df['city'][df['city'] == 'Moscow'].count())\n",
    "#print('Saint-Petersburg:', df['city'][df['city'] == 'Saint-Petersburg'].count())"
   ]
  },
  {
   "cell_type": "markdown",
   "metadata": {
    "id": "dzli3w8o_Zcu"
   },
   "source": [
    "В Москве прослушиваний больше, чем в Петербурге. Из этого не следует, что московские пользователи чаще слушают музыку. Просто самих пользователей в Москве больше.\n",
    "\n",
    "Теперь сгруппируйте данные по дню недели и подсчитайте прослушивания в понедельник, среду и пятницу. Учтите, что в данных есть информация только о прослушиваниях только за эти дни.\n"
   ]
  },
  {
   "cell_type": "code",
   "execution_count": 20,
   "metadata": {
    "id": "uZMKjiJz_Zcu"
   },
   "outputs": [
    {
     "data": {
      "text/plain": [
       "day\n",
       "Friday       21840\n",
       "Monday       21354\n",
       "Wednesday    18059\n",
       "Name: user_id, dtype: int64"
      ]
     },
     "execution_count": 20,
     "metadata": {},
     "output_type": "execute_result"
    }
   ],
   "source": [
    "# Подсчёт прослушиваний в каждый из трёх дней\n",
    "\n",
    "daily_grouped_count = df.groupby('day')['user_id'].count()\n",
    "\n",
    "daily_grouped_count\n",
    "\n",
    "#print('Monday:', df['day'][df['day'] == 'Monday'].count())\n",
    "#print('Wednesday:', df['day'][df['day'] == 'Wednesday'].count())\n",
    "#print('Friday:', df['day'][df['day'] == 'Friday'].count())"
   ]
  },
  {
   "cell_type": "markdown",
   "metadata": {
    "id": "cC2tNrlL_Zcu"
   },
   "source": [
    "В среднем пользователи из двух городов менее активны по средам. Но картина может измениться, если рассмотреть каждый город в отдельности."
   ]
  },
  {
   "cell_type": "markdown",
   "metadata": {
    "id": "POzs8bGa_Zcu"
   },
   "source": [
    "Вы видели, как работает группировка по городу и по дням недели. Теперь напишите функцию, которая объединит два эти расчёта.\n",
    "\n",
    "Создайте функцию `number_tracks()`, которая посчитает прослушивания для заданного дня и города. Ей понадобятся два параметра:\n",
    "* день недели,\n",
    "* название города.\n",
    "\n",
    "В функции сохраните в переменную строки исходной таблицы, у которых значение:\n",
    "  * в колонке `day` равно параметру `day`,\n",
    "  * в колонке `city` равно параметру `city`.\n",
    "\n",
    "Для этого примените последовательную фильтрацию с логической индексацией.\n",
    "\n",
    "Затем посчитайте значения в столбце `user_id` получившейся таблицы. Результат сохраните в новую переменную. Верните эту переменную из функции."
   ]
  },
  {
   "cell_type": "code",
   "execution_count": 21,
   "metadata": {
    "id": "Nz3GdQB1_Zcu"
   },
   "outputs": [],
   "source": [
    "# <создание функции number_tracks()>\n",
    "# Объявляется функция с двумя параметрами: day, city.\n",
    "\n",
    "def number_tracks(day, city):\n",
    "\n",
    "# В переменной track_list сохраняются те строки таблицы df, для которых \n",
    "# значение в столбце 'day' равно параметру day и одновременно значение\n",
    "# в столбце 'city' равно параметру city (используйте последовательную фильтрацию\n",
    "# с помощью логической индексации).\n",
    "\n",
    "    track_list = df[df['day'] == day]\n",
    "    track_list = track_list[track_list['city'] == city]\n",
    "    \n",
    "# В переменной track_list_count сохраняется число значений столбца 'user_id',\n",
    "# рассчитанное методом count() для таблицы track_list.\n",
    "# Функция возвращает число - значение track_list_count.\n",
    "\n",
    "    track_list_count = track_list['user_id'].count()\n",
    "    return track_list_count\n",
    "\n",
    "# Функция для подсчёта прослушиваний для конкретного города и дня.\n",
    "# С помощью последовательной фильтрации с логической индексацией она \n",
    "# сначала получит из исходной таблицы строки с нужным днём,\n",
    "# затем из результата отфильтрует строки с нужным городом,\n",
    "# методом count() посчитает количество значений в колонке user_id. \n",
    "# Это количество функция вернёт в качестве результата"
   ]
  },
  {
   "cell_type": "markdown",
   "metadata": {
    "id": "ytf7xFrFJQ2r"
   },
   "source": [
    "Вызовите `number_tracks()` шесть раз, меняя значение параметров — так, чтобы получить данные для каждого города в каждый из трёх дней."
   ]
  },
  {
   "cell_type": "code",
   "execution_count": 22,
   "metadata": {
    "id": "rJcRATNQ_Zcu"
   },
   "outputs": [
    {
     "name": "stdout",
     "output_type": "stream",
     "text": [
      "Количество прослушиваний в Москве по понедельникам: 15740\n"
     ]
    }
   ],
   "source": [
    "# количество прослушиваний в Москве по понедельникам\n",
    "\n",
    "print('Количество прослушиваний в Москве по понедельникам:', number_tracks('Monday', 'Moscow'))"
   ]
  },
  {
   "cell_type": "code",
   "execution_count": 23,
   "metadata": {
    "id": "hq_ncZ5T_Zcu"
   },
   "outputs": [
    {
     "name": "stdout",
     "output_type": "stream",
     "text": [
      "Количество прослушиваний в Санкт-Петербурге по понедельникам: 5614\n"
     ]
    }
   ],
   "source": [
    "# количество прослушиваний в Санкт-Петербурге по понедельникам\n",
    "\n",
    "print('Количество прослушиваний в Санкт-Петербурге по понедельникам:', number_tracks('Monday', 'Saint-Petersburg'))"
   ]
  },
  {
   "cell_type": "code",
   "execution_count": 24,
   "metadata": {
    "id": "_NTy2VPU_Zcu"
   },
   "outputs": [
    {
     "name": "stdout",
     "output_type": "stream",
     "text": [
      "Количество прослушиваний в Москве по средам: 11056\n"
     ]
    }
   ],
   "source": [
    "# количество прослушиваний в Москве по средам\n",
    "\n",
    "print('Количество прослушиваний в Москве по средам:', number_tracks('Wednesday', 'Moscow'))"
   ]
  },
  {
   "cell_type": "code",
   "execution_count": 25,
   "metadata": {
    "id": "j2y3TAwo_Zcu"
   },
   "outputs": [
    {
     "name": "stdout",
     "output_type": "stream",
     "text": [
      "Количество прослушиваний в Санкт-Петербурге по средам: 7003\n"
     ]
    }
   ],
   "source": [
    "# количество прослушиваний в Санкт-Петербурге по средам\n",
    "\n",
    "print('Количество прослушиваний в Санкт-Петербурге по средам:', number_tracks('Wednesday', 'Saint-Petersburg'))"
   ]
  },
  {
   "cell_type": "code",
   "execution_count": 26,
   "metadata": {
    "id": "vYDw5u_K_Zcu"
   },
   "outputs": [
    {
     "name": "stdout",
     "output_type": "stream",
     "text": [
      "Количество прослушиваний в Москве по пятницам: 15945\n"
     ]
    }
   ],
   "source": [
    "# количество прослушиваний в Москве по пятницам\n",
    "\n",
    "print('Количество прослушиваний в Москве по пятницам:', number_tracks('Friday', 'Moscow'))"
   ]
  },
  {
   "cell_type": "code",
   "execution_count": 27,
   "metadata": {
    "id": "8_yzFtW3_Zcu"
   },
   "outputs": [
    {
     "name": "stdout",
     "output_type": "stream",
     "text": [
      "Количество прослушиваний в Санкт-Петербурге по пятницам: 5895\n"
     ]
    }
   ],
   "source": [
    "# количество прослушиваний в Санкт-Петербурге по пятницам\n",
    "\n",
    "print('Количество прослушиваний в Санкт-Петербурге по пятницам:', number_tracks('Friday', 'Saint-Petersburg'))"
   ]
  },
  {
   "cell_type": "markdown",
   "metadata": {
    "id": "7QXffbO-_Zcu"
   },
   "source": [
    "Создайте c помощью конструктора `pd.DataFrame` таблицу, где\n",
    "* названия колонок — `['city', 'monday', 'wednesday', 'friday']`;\n",
    "* данные — результаты, которые вы получили с помощью `number_tracks`."
   ]
  },
  {
   "cell_type": "code",
   "execution_count": 28,
   "metadata": {
    "id": "APAcLpOr_Zcu"
   },
   "outputs": [
    {
     "data": {
      "text/html": [
       "<div>\n",
       "<style scoped>\n",
       "    .dataframe tbody tr th:only-of-type {\n",
       "        vertical-align: middle;\n",
       "    }\n",
       "\n",
       "    .dataframe tbody tr th {\n",
       "        vertical-align: top;\n",
       "    }\n",
       "\n",
       "    .dataframe thead th {\n",
       "        text-align: right;\n",
       "    }\n",
       "</style>\n",
       "<table border=\"1\" class=\"dataframe\">\n",
       "  <thead>\n",
       "    <tr style=\"text-align: right;\">\n",
       "      <th></th>\n",
       "      <th>city</th>\n",
       "      <th>monday</th>\n",
       "      <th>wednesday</th>\n",
       "      <th>friday</th>\n",
       "    </tr>\n",
       "  </thead>\n",
       "  <tbody>\n",
       "    <tr>\n",
       "      <td>0</td>\n",
       "      <td>Moscow</td>\n",
       "      <td>15740</td>\n",
       "      <td>11056</td>\n",
       "      <td>15945</td>\n",
       "    </tr>\n",
       "    <tr>\n",
       "      <td>1</td>\n",
       "      <td>Saint-Petersburg</td>\n",
       "      <td>5614</td>\n",
       "      <td>7003</td>\n",
       "      <td>5895</td>\n",
       "    </tr>\n",
       "  </tbody>\n",
       "</table>\n",
       "</div>"
      ],
      "text/plain": [
       "               city  monday  wednesday  friday\n",
       "0            Moscow   15740      11056   15945\n",
       "1  Saint-Petersburg    5614       7003    5895"
      ]
     },
     "execution_count": 28,
     "metadata": {},
     "output_type": "execute_result"
    }
   ],
   "source": [
    "# Таблица с результатами\n",
    "\n",
    "pd.DataFrame(data = [['Moscow', 15740, 11056, 15945], ['Saint-Petersburg', 5614, 7003, 5895]], columns = ['city', 'monday', 'wednesday', 'friday'])"
   ]
  },
  {
   "cell_type": "markdown",
   "metadata": {
    "id": "-EgPIHYu_Zcu"
   },
   "source": [
    "**Выводы**\n",
    "\n",
    "Данные показывают разницу поведения пользователей:\n",
    "\n",
    "- В Москве пик прослушиваний приходится на понедельник и пятницу, а в среду заметен спад.\n",
    "- В Петербурге, наоборот, больше слушают музыку по средам. Активность в понедельник и пятницу здесь почти в равной мере уступает среде.\n",
    "\n",
    "Значит, данные говорят в пользу первой гипотезы."
   ]
  },
  {
   "cell_type": "markdown",
   "metadata": {
    "id": "atZAxtq4_Zcu"
   },
   "source": [
    "### Музыка в начале и в конце недели"
   ]
  },
  {
   "cell_type": "markdown",
   "metadata": {
    "id": "eXrQqXFH_Zcu"
   },
   "source": [
    "Согласно второй гипотезе, утром в понедельник в Москве преобладают одни жанры, а в Петербурге — другие. Так же и вечером пятницы преобладают разные жанры — в зависимости от города."
   ]
  },
  {
   "cell_type": "markdown",
   "metadata": {
    "id": "S8UcW6Hw_Zcu"
   },
   "source": [
    "Сохраните таблицы с данными в две переменные:\n",
    "* по Москве — в `moscow_general`;\n",
    "* по Санкт-Петербургу — в `spb_general`."
   ]
  },
  {
   "cell_type": "code",
   "execution_count": 29,
   "metadata": {
    "id": "qeaFfM_P_Zcu"
   },
   "outputs": [],
   "source": [
    "# получение таблицы moscow_general из тех строк таблицы df, \n",
    "# для которых значение в столбце 'city' равно 'Moscow'\n",
    "\n",
    "moscow_general = df[df['city'] == 'Moscow']"
   ]
  },
  {
   "cell_type": "code",
   "execution_count": 30,
   "metadata": {
    "id": "ORaVRKto_Zcu"
   },
   "outputs": [],
   "source": [
    "# получение таблицы spb_general из тех строк таблицы df,\n",
    "# для которых значение в столбце 'city' равно 'Saint-Petersburg'\n",
    "\n",
    "spb_general = df[df['city'] == 'Saint-Petersburg']"
   ]
  },
  {
   "cell_type": "markdown",
   "metadata": {
    "id": "MEJV-CX2_Zcu"
   },
   "source": [
    "Создайте функцию `genre_weekday()` с четырьмя параметрами:\n",
    "* таблица (датафрейм) с данными,\n",
    "* день недели,\n",
    "* начальная временная метка в формате 'hh:mm', \n",
    "* последняя временная метка в формате 'hh:mm'.\n",
    "\n",
    "Функция должна вернуть информацию о топ-10 жанров тех треков, которые прослушивали в указанный день, в промежутке между двумя отметками времени."
   ]
  },
  {
   "cell_type": "code",
   "execution_count": 31,
   "metadata": {
    "id": "laJT9BYl_Zcu"
   },
   "outputs": [],
   "source": [
    "# Объявление функции genre_weekday() с параметрами table, day, time1, time2,\n",
    "# которая возвращает информацию о самых популярных жанрах в указанный день в\n",
    "# заданное время:\n",
    "# 1) в переменную genre_df сохраняются те строки переданного датафрейма table, для\n",
    "#    которых одновременно:\n",
    "#    - значение в столбце day равно значению аргумента day\n",
    "#    - значение в столбце time больше значения аргумента time1\n",
    "#    - значение в столбце time меньше значения аргумента time2\n",
    "#    Используйте последовательную фильтрацию с помощью логической индексации.\n",
    "# 2) сгруппировать датафрейм genre_df по столбцу genre, взять один из его\n",
    "#    столбцов и посчитать методом count() количество записей для каждого из\n",
    "#    присутствующих жанров, получившийся Series записать в переменную\n",
    "#    genre_df_count\n",
    "# 3) отсортировать genre_df_count по убыванию встречаемости и сохранить\n",
    "#    в переменную genre_df_sorted\n",
    "# 4) вернуть Series из 10 первых значений genre_df_sorted, это будут топ-10\n",
    "#    популярных жанров (в указанный день, в заданное время)\n",
    "\n",
    "def genre_weekday(table, day, time1, time2):\n",
    "    #import time\n",
    "    genre_df = table[table['day'] == day]\n",
    "    #genre_df = genre_df[genre_df['time'].str[0:5] > time1]\n",
    "    genre_df = genre_df[genre_df['time'] > time1]\n",
    "    #genre_df = genre_df[genre_df['time'].str[0:5] < time2]\n",
    "    genre_df = genre_df[genre_df['time'] < time2]\n",
    "    \n",
    "    genre_df_count = genre_df.groupby('genre')['user_id'].count()\n",
    "    genre_df_sorted = genre_df_count.sort_values(ascending = False)\n",
    "    return genre_df_sorted.head(10)"
   ]
  },
  {
   "cell_type": "markdown",
   "metadata": {
    "id": "la2s2_PF_Zcu"
   },
   "source": [
    "Cравните результаты функции `genre_weekday()` для Москвы и Санкт-Петербурга в понедельник утром (с 7:00 до 11:00) и в пятницу вечером (с 17:00 до 23:00):"
   ]
  },
  {
   "cell_type": "code",
   "execution_count": 32,
   "metadata": {
    "id": "yz7itPUQ_Zcu"
   },
   "outputs": [
    {
     "data": {
      "text/plain": [
       "genre\n",
       "pop            781\n",
       "dance          549\n",
       "electronic     480\n",
       "rock           474\n",
       "hiphop         286\n",
       "ruspop         186\n",
       "world          181\n",
       "rusrap         175\n",
       "alternative    164\n",
       "unknown        161\n",
       "Name: user_id, dtype: int64"
      ]
     },
     "execution_count": 32,
     "metadata": {},
     "output_type": "execute_result"
    }
   ],
   "source": [
    "# вызов функции для утра понедельника в Москве (вместо df — таблица moscow_general)\n",
    "\n",
    "\n",
    "genre_weekday(moscow_general, 'Monday', '07:00', '11:00')\n",
    "\n",
    "# объекты, хранящие время, являются строками и сравниваются как строки\n",
    "# пример вызова: genre_weekday(moscow_general, 'Monday', '07:00', '11:00')"
   ]
  },
  {
   "cell_type": "code",
   "execution_count": 33,
   "metadata": {
    "id": "kwUcHPdy_Zcu"
   },
   "outputs": [
    {
     "data": {
      "text/plain": [
       "genre\n",
       "pop            218\n",
       "dance          182\n",
       "rock           162\n",
       "electronic     147\n",
       "hiphop          80\n",
       "ruspop          64\n",
       "alternative     58\n",
       "rusrap          55\n",
       "jazz            44\n",
       "classical       40\n",
       "Name: user_id, dtype: int64"
      ]
     },
     "execution_count": 33,
     "metadata": {},
     "output_type": "execute_result"
    }
   ],
   "source": [
    "# вызов функции для утра понедельника в Петербурге (вместо df — таблица spb_general)\n",
    "\n",
    "genre_weekday(spb_general, 'Monday', '07:00', '11:00')"
   ]
  },
  {
   "cell_type": "code",
   "execution_count": 34,
   "metadata": {
    "id": "EzXVRE1o_Zcu"
   },
   "outputs": [
    {
     "data": {
      "text/plain": [
       "genre\n",
       "pop            713\n",
       "rock           517\n",
       "dance          495\n",
       "electronic     482\n",
       "hiphop         273\n",
       "world          208\n",
       "ruspop         170\n",
       "alternative    163\n",
       "classical      163\n",
       "rusrap         142\n",
       "Name: user_id, dtype: int64"
      ]
     },
     "execution_count": 34,
     "metadata": {},
     "output_type": "execute_result"
    }
   ],
   "source": [
    "# вызов функции для вечера пятницы в Москве\n",
    "\n",
    "genre_weekday(moscow_general, 'Friday', '17:00', '23:00')"
   ]
  },
  {
   "cell_type": "code",
   "execution_count": 35,
   "metadata": {
    "id": "JZaEKu5v_Zcu"
   },
   "outputs": [
    {
     "data": {
      "text/plain": [
       "genre\n",
       "pop            256\n",
       "rock           216\n",
       "electronic     216\n",
       "dance          210\n",
       "hiphop          97\n",
       "alternative     63\n",
       "jazz            61\n",
       "classical       60\n",
       "rusrap          59\n",
       "world           54\n",
       "Name: user_id, dtype: int64"
      ]
     },
     "execution_count": 35,
     "metadata": {},
     "output_type": "execute_result"
    }
   ],
   "source": [
    "# вызов функции для вечера пятницы в Петербурге\n",
    "\n",
    "genre_weekday(spb_general, 'Friday', '17:00', '23:00')"
   ]
  },
  {
   "cell_type": "markdown",
   "metadata": {
    "id": "wrCe4MNX_Zcu"
   },
   "source": [
    "**Выводы**\n",
    "\n",
    "Если сравнить топ-10 жанров в понедельник утром, можно сделать такие выводы:\n",
    "\n",
    "1. В Москве и Петербурге слушают похожую музыку. Единственное отличие — в московский рейтинг вошёл жанр “world”, а в петербургский — джаз и классика.\n",
    "\n",
    "2. В Москве пропущенных значений оказалось так много, что значение `'unknown'` заняло десятое место среди самых популярных жанров. Значит, пропущенные значения занимают существенную долю в данных и угрожают достоверности исследования.\n",
    "\n",
    "Вечер пятницы не меняет эту картину. Некоторые жанры поднимаются немного выше, другие спускаются, но в целом топ-10 остаётся тем же самым.\n",
    "\n",
    "Таким образом, вторая гипотеза подтвердилась лишь частично:\n",
    "* Пользователи слушают похожую музыку в начале недели и в конце.\n",
    "* Разница между Москвой и Петербургом не слишком выражена. В Москве чаще слушают русскую популярную музыку, в Петербурге — джаз.\n",
    "\n",
    "Однако пропуски в данных ставят под сомнение этот результат. В Москве их так много, что рейтинг топ-10 мог бы выглядеть иначе, если бы не утерянные  данные о жанрах."
   ]
  },
  {
   "cell_type": "markdown",
   "metadata": {
    "id": "JolODAqr_Zcu"
   },
   "source": [
    "### Жанровые предпочтения в Москве и Петербурге\n",
    "\n",
    "Гипотеза: Петербург — столица рэпа, музыку этого жанра там слушают чаще, чем в Москве.  А Москва — город контрастов, в котором, тем не менее, преобладает поп-музыка."
   ]
  },
  {
   "cell_type": "markdown",
   "metadata": {
    "id": "DlegSvaT_Zcu"
   },
   "source": [
    "Сгруппируйте таблицу `moscow_general` по жанру и посчитайте прослушивания треков каждого жанра методом `count()`. Затем отсортируйте результат в порядке убывания и сохраните его в таблице `moscow_genres`."
   ]
  },
  {
   "cell_type": "code",
   "execution_count": 36,
   "metadata": {
    "id": "r19lIPke_Zcu"
   },
   "outputs": [],
   "source": [
    "# одной строкой: группировка таблицы moscow_general по столбцу 'genre', \n",
    "# подсчёт числа значений 'genre' в этой группировке методом count(), \n",
    "# сортировка получившегося Series в порядке убывания и сохранение в moscow_genres\n",
    "\n",
    "moscow_genres = moscow_general.groupby('genre')['user_id'].count().sort_values(ascending=False)"
   ]
  },
  {
   "cell_type": "markdown",
   "metadata": {
    "id": "6kMuomxTiIr8"
   },
   "source": [
    "Выведите на экран первые десять строк `moscow_genres`:"
   ]
  },
  {
   "cell_type": "code",
   "execution_count": 37,
   "metadata": {
    "id": "WhCSooF8_Zcv"
   },
   "outputs": [
    {
     "data": {
      "text/plain": [
       "genre\n",
       "pop            5892\n",
       "dance          4435\n",
       "rock           3965\n",
       "electronic     3786\n",
       "hiphop         2096\n",
       "classical      1616\n",
       "world          1432\n",
       "alternative    1379\n",
       "ruspop         1372\n",
       "rusrap         1161\n",
       "Name: user_id, dtype: int64"
      ]
     },
     "execution_count": 37,
     "metadata": {},
     "output_type": "execute_result"
    }
   ],
   "source": [
    "# просмотр первых 10 строк moscow_genres\n",
    "\n",
    "moscow_genres.head(10)"
   ]
  },
  {
   "cell_type": "markdown",
   "metadata": {
    "id": "cnPG2vnN_Zcv"
   },
   "source": [
    "Теперь повторите то же и для Петербурга.\n",
    "\n",
    "Сгруппируйте таблицу `spb_general` по жанру. Посчитайте прослушивания треков каждого жанра. Результат отсортируйте в порядке убывания и сохраните в таблице `spb_genres`:\n"
   ]
  },
  {
   "cell_type": "code",
   "execution_count": 38,
   "metadata": {
    "id": "gluLIpE7_Zcv"
   },
   "outputs": [],
   "source": [
    "# одной строкой: группировка таблицы spb_general по столбцу 'genre', \n",
    "# подсчёт числа значений 'genre' в этой группировке методом count(), \n",
    "# сортировка получившегося Series в порядке убывания и сохранение в spb_genres\n",
    "\n",
    "spb_genres = spb_general.groupby('genre')['user_id'].count().sort_values(ascending=False)"
   ]
  },
  {
   "cell_type": "markdown",
   "metadata": {
    "id": "5Doha_ODgyQ8"
   },
   "source": [
    "Выведите на экран первые десять строк `spb_genres`:"
   ]
  },
  {
   "cell_type": "code",
   "execution_count": 39,
   "metadata": {
    "id": "uaGJHjVU_Zcv"
   },
   "outputs": [
    {
     "data": {
      "text/plain": [
       "genre\n",
       "pop            2431\n",
       "dance          1932\n",
       "rock           1879\n",
       "electronic     1736\n",
       "hiphop          960\n",
       "alternative     649\n",
       "classical       646\n",
       "rusrap          564\n",
       "ruspop          538\n",
       "world           515\n",
       "Name: user_id, dtype: int64"
      ]
     },
     "execution_count": 39,
     "metadata": {},
     "output_type": "execute_result"
    }
   ],
   "source": [
    "# просмотр первых 10 строк spb_genres\n",
    "\n",
    "spb_genres.head(10)"
   ]
  },
  {
   "cell_type": "markdown",
   "metadata": {
    "id": "RY51YJYu_Zcv"
   },
   "source": [
    "**Выводы**"
   ]
  },
  {
   "cell_type": "markdown",
   "metadata": {
    "id": "nVhnJEm__Zcv"
   },
   "source": [
    "Гипотеза частично подтвердилась:\n",
    "* Поп-музыка — самый популярный жанр в Москве, как и предполагала гипотеза. Более того, в топ-10 жанров встречается близкий жанр — русская популярная музыка.\n",
    "* Вопреки ожиданиям, рэп одинаково популярен в Москве и Петербурге. \n"
   ]
  },
  {
   "cell_type": "markdown",
   "metadata": {
    "id": "ykKQ0N65_Zcv"
   },
   "source": [
    "## Итоги исследования"
   ]
  },
  {
   "cell_type": "markdown",
   "metadata": {
    "id": "tjUwbHb3_Zcv"
   },
   "source": [
    "Вы проверили три гипотезы и установили:\n",
    "\n",
    "1. День недели по-разному влияет на активность пользователей в Москве и Петербурге. \n",
    "\n",
    "Первая гипотеза полностью подтвердилась.\n",
    "\n",
    "2. Музыкальные предпочтения не сильно меняются в течение недели — будь то Москва или Петербург. Небольшие различия заметны в начале недели, по понедельникам:\n",
    "* в Москве слушают музыку жанра “world”,\n",
    "* в Петербурге — джаз и классику.\n",
    "\n",
    "Таким образом, вторая гипотеза подтвердилась лишь отчасти. Этот результат мог оказаться иным, если бы не пропуски в данных.\n",
    "\n",
    "3. Во вкусах пользователей Москвы и Петербурга больше общего чем различий. Вопреки ожиданиям, предпочтения жанров в Петербурге напоминают московские.\n",
    "\n",
    "Третья гипотеза не подтвердилась. Если различия в предпочтениях и существуют, на основной массе пользователей они незаметны.\n",
    "\n",
    "**На практике исследования содержат проверки статистических гипотез.**\n",
    "Из данных одного сервиса не всегда можно сделать вывод о всех жителях города.\n",
    "Проверки статистических гипотез покажут, насколько они достоверны, исходя из имеющихся данных. \n",
    "С методами проверок гипотез вы ещё познакомитесь в следующих темах."
   ]
  }
 ],
 "metadata": {
  "ExecuteTimeLog": [
   {
    "duration": 295,
    "start_time": "2022-02-06T00:39:23.265Z"
   },
   {
    "duration": 270,
    "start_time": "2022-02-06T00:39:40.786Z"
   },
   {
    "duration": 654,
    "start_time": "2022-02-06T00:39:48.588Z"
   },
   {
    "duration": 278,
    "start_time": "2022-02-06T00:39:49.245Z"
   },
   {
    "duration": 1144,
    "start_time": "2022-02-06T00:39:48.384Z"
   },
   {
    "duration": 1140,
    "start_time": "2022-02-06T00:39:48.390Z"
   },
   {
    "duration": 1126,
    "start_time": "2022-02-06T00:39:48.405Z"
   },
   {
    "duration": 1123,
    "start_time": "2022-02-06T00:39:48.409Z"
   },
   {
    "duration": 1120,
    "start_time": "2022-02-06T00:39:48.414Z"
   },
   {
    "duration": 1119,
    "start_time": "2022-02-06T00:39:48.416Z"
   },
   {
    "duration": 1117,
    "start_time": "2022-02-06T00:39:48.419Z"
   },
   {
    "duration": 1115,
    "start_time": "2022-02-06T00:39:48.422Z"
   },
   {
    "duration": 1114,
    "start_time": "2022-02-06T00:39:48.424Z"
   },
   {
    "duration": 1111,
    "start_time": "2022-02-06T00:39:48.427Z"
   },
   {
    "duration": 1109,
    "start_time": "2022-02-06T00:39:48.430Z"
   },
   {
    "duration": 1108,
    "start_time": "2022-02-06T00:39:48.432Z"
   },
   {
    "duration": 1107,
    "start_time": "2022-02-06T00:39:48.434Z"
   },
   {
    "duration": 1106,
    "start_time": "2022-02-06T00:39:48.436Z"
   },
   {
    "duration": 1105,
    "start_time": "2022-02-06T00:39:48.438Z"
   },
   {
    "duration": 1103,
    "start_time": "2022-02-06T00:39:48.440Z"
   },
   {
    "duration": 1096,
    "start_time": "2022-02-06T00:39:48.448Z"
   },
   {
    "duration": 1094,
    "start_time": "2022-02-06T00:39:48.451Z"
   },
   {
    "duration": 1093,
    "start_time": "2022-02-06T00:39:48.453Z"
   },
   {
    "duration": 1091,
    "start_time": "2022-02-06T00:39:48.456Z"
   },
   {
    "duration": 1089,
    "start_time": "2022-02-06T00:39:48.459Z"
   },
   {
    "duration": 1086,
    "start_time": "2022-02-06T00:39:48.462Z"
   },
   {
    "duration": 1085,
    "start_time": "2022-02-06T00:39:48.464Z"
   },
   {
    "duration": 1084,
    "start_time": "2022-02-06T00:39:48.466Z"
   },
   {
    "duration": 1082,
    "start_time": "2022-02-06T00:39:48.469Z"
   },
   {
    "duration": 1081,
    "start_time": "2022-02-06T00:39:48.471Z"
   },
   {
    "duration": 1080,
    "start_time": "2022-02-06T00:39:48.473Z"
   },
   {
    "duration": 1077,
    "start_time": "2022-02-06T00:39:48.476Z"
   },
   {
    "duration": 1075,
    "start_time": "2022-02-06T00:39:48.479Z"
   },
   {
    "duration": 1073,
    "start_time": "2022-02-06T00:39:48.482Z"
   },
   {
    "duration": 1072,
    "start_time": "2022-02-06T00:39:48.484Z"
   },
   {
    "duration": 1071,
    "start_time": "2022-02-06T00:39:48.486Z"
   },
   {
    "duration": 1069,
    "start_time": "2022-02-06T00:39:48.489Z"
   },
   {
    "duration": 1068,
    "start_time": "2022-02-06T00:39:48.491Z"
   },
   {
    "duration": 1066,
    "start_time": "2022-02-06T00:39:48.494Z"
   },
   {
    "duration": 1063,
    "start_time": "2022-02-06T00:39:48.497Z"
   },
   {
    "duration": 264,
    "start_time": "2022-02-06T00:39:59.689Z"
   },
   {
    "duration": 2029,
    "start_time": "2022-02-06T00:40:26.225Z"
   },
   {
    "duration": 153,
    "start_time": "2022-02-06T00:40:53.317Z"
   },
   {
    "duration": 21,
    "start_time": "2022-02-06T00:41:01.085Z"
   },
   {
    "duration": 27,
    "start_time": "2022-02-06T00:42:00.605Z"
   },
   {
    "duration": 27,
    "start_time": "2022-02-06T00:42:16.602Z"
   },
   {
    "duration": 4,
    "start_time": "2022-02-06T00:53:17.173Z"
   },
   {
    "duration": 255,
    "start_time": "2022-02-06T00:54:08.435Z"
   },
   {
    "duration": 425,
    "start_time": "2022-02-06T00:55:04.108Z"
   },
   {
    "duration": 4,
    "start_time": "2022-02-06T00:55:11.550Z"
   },
   {
    "duration": 83,
    "start_time": "2022-02-06T00:59:04.490Z"
   },
   {
    "duration": 84,
    "start_time": "2022-02-06T00:59:39.043Z"
   },
   {
    "duration": 92,
    "start_time": "2022-02-06T00:59:48.596Z"
   },
   {
    "duration": 30,
    "start_time": "2022-02-06T01:01:17.813Z"
   },
   {
    "duration": 23,
    "start_time": "2022-02-06T01:01:29.222Z"
   },
   {
    "duration": 4,
    "start_time": "2022-02-06T01:01:44.294Z"
   },
   {
    "duration": 411,
    "start_time": "2022-02-07T20:43:46.646Z"
   },
   {
    "duration": 340,
    "start_time": "2022-02-07T20:44:32.861Z"
   },
   {
    "duration": 285,
    "start_time": "2022-02-07T20:44:53.341Z"
   },
   {
    "duration": 290,
    "start_time": "2022-02-07T20:45:04.134Z"
   },
   {
    "duration": 276,
    "start_time": "2022-02-07T20:45:14.373Z"
   },
   {
    "duration": 815,
    "start_time": "2022-02-07T20:45:37.077Z"
   },
   {
    "duration": 524,
    "start_time": "2022-02-07T20:45:37.895Z"
   },
   {
    "duration": 31,
    "start_time": "2022-02-07T20:45:38.423Z"
   },
   {
    "duration": 175,
    "start_time": "2022-02-07T20:45:38.458Z"
   },
   {
    "duration": 175,
    "start_time": "2022-02-07T20:45:38.636Z"
   },
   {
    "duration": 170,
    "start_time": "2022-02-07T20:45:38.814Z"
   },
   {
    "duration": 416,
    "start_time": "2022-02-07T20:45:38.987Z"
   },
   {
    "duration": 384,
    "start_time": "2022-02-07T20:45:39.406Z"
   },
   {
    "duration": 478,
    "start_time": "2022-02-07T20:45:39.794Z"
   },
   {
    "duration": 254,
    "start_time": "2022-02-07T20:45:40.277Z"
   },
   {
    "duration": 315,
    "start_time": "2022-02-07T20:45:40.533Z"
   },
   {
    "duration": 254,
    "start_time": "2022-02-07T20:45:40.851Z"
   },
   {
    "duration": 246,
    "start_time": "2022-02-07T20:45:41.108Z"
   },
   {
    "duration": 261,
    "start_time": "2022-02-07T20:45:41.356Z"
   },
   {
    "duration": 295,
    "start_time": "2022-02-07T20:45:41.620Z"
   },
   {
    "duration": 315,
    "start_time": "2022-02-07T20:45:41.918Z"
   },
   {
    "duration": 295,
    "start_time": "2022-02-07T20:45:42.236Z"
   },
   {
    "duration": 274,
    "start_time": "2022-02-07T20:45:42.534Z"
   },
   {
    "duration": 243,
    "start_time": "2022-02-07T20:45:42.811Z"
   },
   {
    "duration": 142,
    "start_time": "2022-02-07T20:45:43.057Z"
   },
   {
    "duration": 227,
    "start_time": "2022-02-07T20:45:43.201Z"
   },
   {
    "duration": 225,
    "start_time": "2022-02-07T20:45:43.431Z"
   },
   {
    "duration": 242,
    "start_time": "2022-02-07T20:45:43.658Z"
   },
   {
    "duration": 231,
    "start_time": "2022-02-07T20:45:43.903Z"
   },
   {
    "duration": 122,
    "start_time": "2022-02-07T20:45:44.137Z"
   },
   {
    "duration": 193,
    "start_time": "2022-02-07T20:45:44.262Z"
   },
   {
    "duration": 184,
    "start_time": "2022-02-07T20:45:44.460Z"
   },
   {
    "duration": 168,
    "start_time": "2022-02-07T20:45:44.648Z"
   },
   {
    "duration": 196,
    "start_time": "2022-02-07T20:45:44.819Z"
   },
   {
    "duration": 162,
    "start_time": "2022-02-07T20:45:45.017Z"
   },
   {
    "duration": 261,
    "start_time": "2022-02-07T20:45:45.182Z"
   },
   {
    "duration": 75,
    "start_time": "2022-02-07T20:45:45.445Z"
   },
   {
    "duration": 181,
    "start_time": "2022-02-07T20:45:45.522Z"
   },
   {
    "duration": 159,
    "start_time": "2022-02-07T20:45:45.705Z"
   },
   {
    "duration": 120,
    "start_time": "2022-02-07T20:45:45.867Z"
   },
   {
    "duration": 142,
    "start_time": "2022-02-07T20:45:45.990Z"
   },
   {
    "duration": 115,
    "start_time": "2022-02-07T20:45:46.135Z"
   },
   {
    "duration": 133,
    "start_time": "2022-02-07T20:45:46.253Z"
   },
   {
    "duration": 15,
    "start_time": "2022-02-07T20:46:09.727Z"
   },
   {
    "duration": 356,
    "start_time": "2022-02-07T20:46:15.351Z"
   },
   {
    "duration": 292,
    "start_time": "2022-02-07T20:46:41.615Z"
   },
   {
    "duration": 6,
    "start_time": "2022-02-07T20:47:06.768Z"
   },
   {
    "duration": 327,
    "start_time": "2022-02-07T20:47:28.360Z"
   },
   {
    "duration": 317,
    "start_time": "2022-02-07T20:47:48.928Z"
   },
   {
    "duration": 3,
    "start_time": "2022-02-07T20:48:07.880Z"
   },
   {
    "duration": 1926,
    "start_time": "2022-02-07T20:48:07.886Z"
   },
   {
    "duration": 27,
    "start_time": "2022-02-07T20:48:09.816Z"
   },
   {
    "duration": 334,
    "start_time": "2022-02-07T20:48:09.846Z"
   },
   {
    "duration": 196,
    "start_time": "2022-02-07T20:48:10.183Z"
   },
   {
    "duration": 170,
    "start_time": "2022-02-07T20:48:10.382Z"
   },
   {
    "duration": 273,
    "start_time": "2022-02-07T20:48:10.555Z"
   },
   {
    "duration": 291,
    "start_time": "2022-02-07T20:48:10.831Z"
   },
   {
    "duration": 186,
    "start_time": "2022-02-07T20:48:11.127Z"
   },
   {
    "duration": 344,
    "start_time": "2022-02-07T20:48:11.318Z"
   },
   {
    "duration": 277,
    "start_time": "2022-02-07T20:48:11.665Z"
   },
   {
    "duration": 202,
    "start_time": "2022-02-07T20:48:11.944Z"
   },
   {
    "duration": 259,
    "start_time": "2022-02-07T20:48:12.149Z"
   },
   {
    "duration": 327,
    "start_time": "2022-02-07T20:48:12.411Z"
   },
   {
    "duration": 195,
    "start_time": "2022-02-07T20:48:12.740Z"
   },
   {
    "duration": 193,
    "start_time": "2022-02-07T20:48:12.938Z"
   },
   {
    "duration": 320,
    "start_time": "2022-02-07T20:48:13.135Z"
   },
   {
    "duration": 309,
    "start_time": "2022-02-07T20:48:13.458Z"
   },
   {
    "duration": 392,
    "start_time": "2022-02-07T20:48:13.769Z"
   },
   {
    "duration": 298,
    "start_time": "2022-02-07T20:48:14.164Z"
   },
   {
    "duration": 219,
    "start_time": "2022-02-07T20:48:14.465Z"
   },
   {
    "duration": 233,
    "start_time": "2022-02-07T20:48:14.686Z"
   },
   {
    "duration": 327,
    "start_time": "2022-02-07T20:48:14.922Z"
   },
   {
    "duration": 343,
    "start_time": "2022-02-07T20:48:15.252Z"
   },
   {
    "duration": 435,
    "start_time": "2022-02-07T20:48:15.598Z"
   },
   {
    "duration": 370,
    "start_time": "2022-02-07T20:48:16.036Z"
   },
   {
    "duration": 295,
    "start_time": "2022-02-07T20:48:16.411Z"
   },
   {
    "duration": 274,
    "start_time": "2022-02-07T20:48:16.709Z"
   },
   {
    "duration": 254,
    "start_time": "2022-02-07T20:48:16.986Z"
   },
   {
    "duration": 295,
    "start_time": "2022-02-07T20:48:17.243Z"
   },
   {
    "duration": 314,
    "start_time": "2022-02-07T20:48:17.541Z"
   },
   {
    "duration": 359,
    "start_time": "2022-02-07T20:48:17.858Z"
   },
   {
    "duration": 462,
    "start_time": "2022-02-07T20:48:18.219Z"
   },
   {
    "duration": 288,
    "start_time": "2022-02-07T20:48:18.684Z"
   },
   {
    "duration": 240,
    "start_time": "2022-02-07T20:48:18.975Z"
   },
   {
    "duration": 309,
    "start_time": "2022-02-07T20:48:19.219Z"
   },
   {
    "duration": 224,
    "start_time": "2022-02-07T20:48:19.531Z"
   },
   {
    "duration": 199,
    "start_time": "2022-02-07T20:48:19.758Z"
   },
   {
    "duration": 7,
    "start_time": "2022-02-07T20:48:24.769Z"
   },
   {
    "duration": 31,
    "start_time": "2022-02-07T20:48:48.641Z"
   },
   {
    "duration": 6,
    "start_time": "2022-02-07T20:48:53.961Z"
   },
   {
    "duration": 295,
    "start_time": "2022-02-07T20:49:38.619Z"
   },
   {
    "duration": 14,
    "start_time": "2022-02-07T20:50:01.971Z"
   },
   {
    "duration": 280,
    "start_time": "2022-02-07T20:50:34.331Z"
   },
   {
    "duration": 301,
    "start_time": "2022-02-07T20:50:42.467Z"
   },
   {
    "duration": 270,
    "start_time": "2022-02-07T20:50:57.420Z"
   },
   {
    "duration": 11,
    "start_time": "2022-02-07T20:51:17.518Z"
   },
   {
    "duration": 44,
    "start_time": "2022-02-07T20:55:29.978Z"
   },
   {
    "duration": 35,
    "start_time": "2022-02-07T20:55:37.667Z"
   },
   {
    "duration": 38,
    "start_time": "2022-02-07T20:55:43.138Z"
   },
   {
    "duration": 36,
    "start_time": "2022-02-07T20:55:49.418Z"
   },
   {
    "duration": 46,
    "start_time": "2022-02-07T21:00:46.688Z"
   },
   {
    "duration": 32,
    "start_time": "2022-02-07T21:00:55.920Z"
   },
   {
    "duration": 96,
    "start_time": "2022-02-07T21:01:00.362Z"
   },
   {
    "duration": 109,
    "start_time": "2022-02-07T21:01:50.186Z"
   },
   {
    "duration": 276,
    "start_time": "2022-02-07T21:01:57.818Z"
   },
   {
    "duration": 17,
    "start_time": "2022-02-07T21:02:23.147Z"
   },
   {
    "duration": 33,
    "start_time": "2022-02-07T21:02:30.940Z"
   },
   {
    "duration": 14,
    "start_time": "2022-02-07T21:02:36.625Z"
   },
   {
    "duration": 29,
    "start_time": "2022-02-07T21:02:41.610Z"
   },
   {
    "duration": 19,
    "start_time": "2022-02-07T21:02:53.883Z"
   },
   {
    "duration": 31,
    "start_time": "2022-02-07T21:02:57.868Z"
   },
   {
    "duration": 88,
    "start_time": "2022-02-07T21:04:35.734Z"
   },
   {
    "duration": 143,
    "start_time": "2022-02-07T21:05:47.184Z"
   },
   {
    "duration": 13,
    "start_time": "2022-02-07T21:06:20.024Z"
   },
   {
    "duration": 33,
    "start_time": "2022-02-07T21:06:27.568Z"
   },
   {
    "duration": 10,
    "start_time": "2022-02-07T21:08:26.474Z"
   },
   {
    "duration": 33,
    "start_time": "2022-02-07T21:08:38.330Z"
   },
   {
    "duration": 3697,
    "start_time": "2022-02-07T21:09:47.852Z"
   },
   {
    "duration": -1406,
    "start_time": "2022-02-07T21:09:52.958Z"
   },
   {
    "duration": 3906,
    "start_time": "2022-02-07T21:09:58.157Z"
   },
   {
    "duration": 3779,
    "start_time": "2022-02-07T21:10:21.445Z"
   },
   {
    "duration": 4674,
    "start_time": "2022-02-07T21:10:59.007Z"
   },
   {
    "duration": 16,
    "start_time": "2022-02-07T21:11:25.377Z"
   },
   {
    "duration": 3890,
    "start_time": "2022-02-07T21:11:37.244Z"
   },
   {
    "duration": 4,
    "start_time": "2022-02-07T21:13:57.055Z"
   },
   {
    "duration": 395,
    "start_time": "2022-02-07T21:13:57.062Z"
   },
   {
    "duration": 93,
    "start_time": "2022-02-07T21:13:57.460Z"
   },
   {
    "duration": 243,
    "start_time": "2022-02-07T21:13:57.556Z"
   },
   {
    "duration": 211,
    "start_time": "2022-02-07T21:13:57.802Z"
   },
   {
    "duration": 248,
    "start_time": "2022-02-07T21:13:58.015Z"
   },
   {
    "duration": 210,
    "start_time": "2022-02-07T21:13:58.265Z"
   },
   {
    "duration": 281,
    "start_time": "2022-02-07T21:13:58.478Z"
   },
   {
    "duration": 272,
    "start_time": "2022-02-07T21:13:58.762Z"
   },
   {
    "duration": 185,
    "start_time": "2022-02-07T21:13:59.036Z"
   },
   {
    "duration": 201,
    "start_time": "2022-02-07T21:13:59.223Z"
   },
   {
    "duration": 252,
    "start_time": "2022-02-07T21:13:59.427Z"
   },
   {
    "duration": 215,
    "start_time": "2022-02-07T21:13:59.682Z"
   },
   {
    "duration": 367,
    "start_time": "2022-02-07T21:13:59.900Z"
   },
   {
    "duration": 307,
    "start_time": "2022-02-07T21:14:00.270Z"
   },
   {
    "duration": 293,
    "start_time": "2022-02-07T21:14:00.579Z"
   },
   {
    "duration": 264,
    "start_time": "2022-02-07T21:14:00.874Z"
   },
   {
    "duration": 227,
    "start_time": "2022-02-07T21:14:01.140Z"
   },
   {
    "duration": 240,
    "start_time": "2022-02-07T21:14:01.369Z"
   },
   {
    "duration": 243,
    "start_time": "2022-02-07T21:14:01.611Z"
   },
   {
    "duration": 209,
    "start_time": "2022-02-07T21:14:01.857Z"
   },
   {
    "duration": 293,
    "start_time": "2022-02-07T21:14:02.069Z"
   },
   {
    "duration": 218,
    "start_time": "2022-02-07T21:14:02.369Z"
   },
   {
    "duration": 206,
    "start_time": "2022-02-07T21:14:02.590Z"
   },
   {
    "duration": 230,
    "start_time": "2022-02-07T21:14:02.798Z"
   },
   {
    "duration": 192,
    "start_time": "2022-02-07T21:14:03.031Z"
   },
   {
    "duration": 205,
    "start_time": "2022-02-07T21:14:03.226Z"
   },
   {
    "duration": 230,
    "start_time": "2022-02-07T21:14:03.433Z"
   },
   {
    "duration": 224,
    "start_time": "2022-02-07T21:14:03.666Z"
   },
   {
    "duration": 205,
    "start_time": "2022-02-07T21:14:03.893Z"
   },
   {
    "duration": 268,
    "start_time": "2022-02-07T21:14:04.100Z"
   },
   {
    "duration": 225,
    "start_time": "2022-02-07T21:14:04.370Z"
   },
   {
    "duration": 331,
    "start_time": "2022-02-07T21:14:04.598Z"
   },
   {
    "duration": 270,
    "start_time": "2022-02-07T21:14:04.931Z"
   },
   {
    "duration": 197,
    "start_time": "2022-02-07T21:14:05.203Z"
   },
   {
    "duration": 240,
    "start_time": "2022-02-07T21:14:05.402Z"
   },
   {
    "duration": 220,
    "start_time": "2022-02-07T21:14:05.644Z"
   },
   {
    "duration": 175,
    "start_time": "2022-02-07T21:14:05.867Z"
   },
   {
    "duration": 22,
    "start_time": "2022-02-07T21:14:29.881Z"
   },
   {
    "duration": 80,
    "start_time": "2022-02-07T21:16:29.893Z"
   },
   {
    "duration": 75,
    "start_time": "2022-02-07T21:16:37.380Z"
   },
   {
    "duration": 56,
    "start_time": "2022-02-07T21:18:03.574Z"
   },
   {
    "duration": 121,
    "start_time": "2022-02-07T21:18:28.831Z"
   },
   {
    "duration": 66,
    "start_time": "2022-02-07T21:18:32.759Z"
   },
   {
    "duration": 56,
    "start_time": "2022-02-07T21:18:50.912Z"
   },
   {
    "duration": 305,
    "start_time": "2022-02-07T21:19:21.559Z"
   },
   {
    "duration": 279,
    "start_time": "2022-02-07T21:19:27.784Z"
   },
   {
    "duration": 41,
    "start_time": "2022-02-07T21:19:37.059Z"
   },
   {
    "duration": 46,
    "start_time": "2022-02-07T21:20:32.993Z"
   },
   {
    "duration": 132,
    "start_time": "2022-02-07T21:22:00.107Z"
   },
   {
    "duration": 79,
    "start_time": "2022-02-07T21:23:08.117Z"
   },
   {
    "duration": 294,
    "start_time": "2022-02-07T21:23:37.009Z"
   },
   {
    "duration": 30,
    "start_time": "2022-02-07T21:24:42.367Z"
   },
   {
    "duration": 287,
    "start_time": "2022-02-07T21:25:03.526Z"
   },
   {
    "duration": 39,
    "start_time": "2022-02-07T21:25:09.022Z"
   },
   {
    "duration": 77,
    "start_time": "2022-02-07T21:25:24.158Z"
   },
   {
    "duration": 4,
    "start_time": "2022-02-07T21:25:41.599Z"
   },
   {
    "duration": 339,
    "start_time": "2022-02-07T21:25:41.605Z"
   },
   {
    "duration": 16,
    "start_time": "2022-02-07T21:25:41.947Z"
   },
   {
    "duration": 217,
    "start_time": "2022-02-07T21:25:41.966Z"
   },
   {
    "duration": 174,
    "start_time": "2022-02-07T21:25:42.185Z"
   },
   {
    "duration": 250,
    "start_time": "2022-02-07T21:25:42.362Z"
   },
   {
    "duration": 163,
    "start_time": "2022-02-07T21:25:42.615Z"
   },
   {
    "duration": 221,
    "start_time": "2022-02-07T21:25:42.782Z"
   },
   {
    "duration": 180,
    "start_time": "2022-02-07T21:25:43.007Z"
   },
   {
    "duration": 180,
    "start_time": "2022-02-07T21:25:43.190Z"
   },
   {
    "duration": 244,
    "start_time": "2022-02-07T21:25:43.372Z"
   },
   {
    "duration": 133,
    "start_time": "2022-02-07T21:25:43.618Z"
   },
   {
    "duration": 229,
    "start_time": "2022-02-07T21:25:43.753Z"
   },
   {
    "duration": 78,
    "start_time": "2022-02-07T21:25:43.984Z"
   },
   {
    "duration": 151,
    "start_time": "2022-02-07T21:25:44.064Z"
   },
   {
    "duration": 153,
    "start_time": "2022-02-07T21:25:44.218Z"
   },
   {
    "duration": 178,
    "start_time": "2022-02-07T21:25:44.373Z"
   },
   {
    "duration": 135,
    "start_time": "2022-02-07T21:25:44.554Z"
   },
   {
    "duration": 190,
    "start_time": "2022-02-07T21:25:44.692Z"
   },
   {
    "duration": 192,
    "start_time": "2022-02-07T21:25:44.885Z"
   },
   {
    "duration": 234,
    "start_time": "2022-02-07T21:25:45.080Z"
   },
   {
    "duration": 225,
    "start_time": "2022-02-07T21:25:45.316Z"
   },
   {
    "duration": 146,
    "start_time": "2022-02-07T21:25:45.546Z"
   },
   {
    "duration": 232,
    "start_time": "2022-02-07T21:25:45.695Z"
   },
   {
    "duration": 165,
    "start_time": "2022-02-07T21:25:45.929Z"
   },
   {
    "duration": 246,
    "start_time": "2022-02-07T21:25:46.097Z"
   },
   {
    "duration": 174,
    "start_time": "2022-02-07T21:25:46.346Z"
   },
   {
    "duration": 165,
    "start_time": "2022-02-07T21:25:46.523Z"
   },
   {
    "duration": 173,
    "start_time": "2022-02-07T21:25:46.691Z"
   },
   {
    "duration": 164,
    "start_time": "2022-02-07T21:25:46.866Z"
   },
   {
    "duration": 280,
    "start_time": "2022-02-07T21:25:47.032Z"
   },
   {
    "duration": 151,
    "start_time": "2022-02-07T21:25:47.314Z"
   },
   {
    "duration": 253,
    "start_time": "2022-02-07T21:25:47.467Z"
   },
   {
    "duration": 175,
    "start_time": "2022-02-07T21:25:47.722Z"
   },
   {
    "duration": 164,
    "start_time": "2022-02-07T21:25:47.899Z"
   },
   {
    "duration": 186,
    "start_time": "2022-02-07T21:25:48.066Z"
   },
   {
    "duration": 178,
    "start_time": "2022-02-07T21:25:48.254Z"
   },
   {
    "duration": 174,
    "start_time": "2022-02-07T21:25:48.434Z"
   },
   {
    "duration": 53,
    "start_time": "2022-02-07T21:27:17.106Z"
   },
   {
    "duration": 79,
    "start_time": "2022-02-07T21:27:27.353Z"
   },
   {
    "duration": 44,
    "start_time": "2022-02-07T21:27:45.875Z"
   },
   {
    "duration": 84,
    "start_time": "2022-02-07T21:27:53.378Z"
   },
   {
    "duration": 41,
    "start_time": "2022-02-07T21:28:07.306Z"
   },
   {
    "duration": 82,
    "start_time": "2022-02-07T21:28:10.627Z"
   },
   {
    "duration": 101,
    "start_time": "2022-02-07T21:30:45.422Z"
   },
   {
    "duration": 85,
    "start_time": "2022-02-07T21:30:48.927Z"
   },
   {
    "duration": 3,
    "start_time": "2022-02-07T21:32:12.416Z"
   },
   {
    "duration": 444,
    "start_time": "2022-02-07T21:32:12.422Z"
   },
   {
    "duration": 16,
    "start_time": "2022-02-07T21:32:12.869Z"
   },
   {
    "duration": 243,
    "start_time": "2022-02-07T21:32:12.888Z"
   },
   {
    "duration": 196,
    "start_time": "2022-02-07T21:32:13.134Z"
   },
   {
    "duration": 203,
    "start_time": "2022-02-07T21:32:13.333Z"
   },
   {
    "duration": 158,
    "start_time": "2022-02-07T21:32:13.539Z"
   },
   {
    "duration": 224,
    "start_time": "2022-02-07T21:32:13.701Z"
   },
   {
    "duration": 197,
    "start_time": "2022-02-07T21:32:13.928Z"
   },
   {
    "duration": 215,
    "start_time": "2022-02-07T21:32:14.127Z"
   },
   {
    "duration": 256,
    "start_time": "2022-02-07T21:32:14.345Z"
   },
   {
    "duration": 208,
    "start_time": "2022-02-07T21:32:14.603Z"
   },
   {
    "duration": 189,
    "start_time": "2022-02-07T21:32:14.814Z"
   },
   {
    "duration": 219,
    "start_time": "2022-02-07T21:32:15.006Z"
   },
   {
    "duration": 188,
    "start_time": "2022-02-07T21:32:15.227Z"
   },
   {
    "duration": 214,
    "start_time": "2022-02-07T21:32:15.417Z"
   },
   {
    "duration": 192,
    "start_time": "2022-02-07T21:32:15.634Z"
   },
   {
    "duration": 282,
    "start_time": "2022-02-07T21:32:15.829Z"
   },
   {
    "duration": 188,
    "start_time": "2022-02-07T21:32:16.113Z"
   },
   {
    "duration": 210,
    "start_time": "2022-02-07T21:32:16.304Z"
   },
   {
    "duration": 215,
    "start_time": "2022-02-07T21:32:16.517Z"
   },
   {
    "duration": 216,
    "start_time": "2022-02-07T21:32:16.735Z"
   },
   {
    "duration": 213,
    "start_time": "2022-02-07T21:32:16.956Z"
   },
   {
    "duration": 285,
    "start_time": "2022-02-07T21:32:17.172Z"
   },
   {
    "duration": 167,
    "start_time": "2022-02-07T21:32:17.460Z"
   },
   {
    "duration": 214,
    "start_time": "2022-02-07T21:32:17.630Z"
   },
   {
    "duration": 175,
    "start_time": "2022-02-07T21:32:17.847Z"
   },
   {
    "duration": 179,
    "start_time": "2022-02-07T21:32:18.024Z"
   },
   {
    "duration": 209,
    "start_time": "2022-02-07T21:32:18.206Z"
   },
   {
    "duration": 203,
    "start_time": "2022-02-07T21:32:18.417Z"
   },
   {
    "duration": 406,
    "start_time": "2022-02-07T21:32:18.623Z"
   },
   {
    "duration": 180,
    "start_time": "2022-02-07T21:32:19.031Z"
   },
   {
    "duration": 284,
    "start_time": "2022-02-07T21:32:19.213Z"
   },
   {
    "duration": 183,
    "start_time": "2022-02-07T21:32:19.499Z"
   },
   {
    "duration": 227,
    "start_time": "2022-02-07T21:32:19.684Z"
   },
   {
    "duration": 215,
    "start_time": "2022-02-07T21:32:19.914Z"
   },
   {
    "duration": 190,
    "start_time": "2022-02-07T21:32:20.132Z"
   },
   {
    "duration": 181,
    "start_time": "2022-02-07T21:32:20.324Z"
   },
   {
    "duration": 424,
    "start_time": "2022-02-07T21:32:42.616Z"
   },
   {
    "duration": 281,
    "start_time": "2022-02-07T21:32:48.329Z"
   },
   {
    "duration": 327,
    "start_time": "2022-02-07T21:34:09.841Z"
   },
   {
    "duration": 1114,
    "start_time": "2022-02-07T21:35:28.902Z"
   },
   {
    "duration": 295,
    "start_time": "2022-02-07T21:37:21.182Z"
   },
   {
    "duration": 8,
    "start_time": "2022-02-07T21:38:54.648Z"
   },
   {
    "duration": 300,
    "start_time": "2022-02-07T21:42:49.133Z"
   },
   {
    "duration": 87,
    "start_time": "2022-02-07T21:42:55.182Z"
   },
   {
    "duration": 285,
    "start_time": "2022-02-07T21:43:12.325Z"
   },
   {
    "duration": 282,
    "start_time": "2022-02-07T21:43:18.093Z"
   },
   {
    "duration": 7,
    "start_time": "2022-02-07T21:44:06.950Z"
   },
   {
    "duration": 78,
    "start_time": "2022-02-07T21:44:32.911Z"
   },
   {
    "duration": 63,
    "start_time": "2022-02-07T21:45:43.666Z"
   },
   {
    "duration": 659,
    "start_time": "2022-02-07T21:46:10.746Z"
   },
   {
    "duration": 4,
    "start_time": "2022-02-07T21:46:25.968Z"
   },
   {
    "duration": 474,
    "start_time": "2022-02-07T21:46:25.975Z"
   },
   {
    "duration": 15,
    "start_time": "2022-02-07T21:46:26.452Z"
   },
   {
    "duration": 208,
    "start_time": "2022-02-07T21:46:26.470Z"
   },
   {
    "duration": 209,
    "start_time": "2022-02-07T21:46:26.680Z"
   },
   {
    "duration": 236,
    "start_time": "2022-02-07T21:46:26.891Z"
   },
   {
    "duration": 183,
    "start_time": "2022-02-07T21:46:27.129Z"
   },
   {
    "duration": 190,
    "start_time": "2022-02-07T21:46:27.315Z"
   },
   {
    "duration": 188,
    "start_time": "2022-02-07T21:46:27.508Z"
   },
   {
    "duration": 176,
    "start_time": "2022-02-07T21:46:27.698Z"
   },
   {
    "duration": 242,
    "start_time": "2022-02-07T21:46:27.877Z"
   },
   {
    "duration": 326,
    "start_time": "2022-02-07T21:46:28.122Z"
   },
   {
    "duration": 189,
    "start_time": "2022-02-07T21:46:28.451Z"
   },
   {
    "duration": 1491,
    "start_time": "2022-02-07T21:46:28.643Z"
   },
   {
    "duration": -1346,
    "start_time": "2022-02-07T21:46:31.483Z"
   },
   {
    "duration": -1349,
    "start_time": "2022-02-07T21:46:31.488Z"
   },
   {
    "duration": -1364,
    "start_time": "2022-02-07T21:46:31.504Z"
   },
   {
    "duration": -1367,
    "start_time": "2022-02-07T21:46:31.508Z"
   },
   {
    "duration": -1369,
    "start_time": "2022-02-07T21:46:31.512Z"
   },
   {
    "duration": -1369,
    "start_time": "2022-02-07T21:46:31.514Z"
   },
   {
    "duration": -1370,
    "start_time": "2022-02-07T21:46:31.516Z"
   },
   {
    "duration": -1370,
    "start_time": "2022-02-07T21:46:31.518Z"
   },
   {
    "duration": -1372,
    "start_time": "2022-02-07T21:46:31.521Z"
   },
   {
    "duration": -1372,
    "start_time": "2022-02-07T21:46:31.523Z"
   },
   {
    "duration": -1372,
    "start_time": "2022-02-07T21:46:31.525Z"
   },
   {
    "duration": -1373,
    "start_time": "2022-02-07T21:46:31.528Z"
   },
   {
    "duration": -1374,
    "start_time": "2022-02-07T21:46:31.530Z"
   },
   {
    "duration": -1374,
    "start_time": "2022-02-07T21:46:31.532Z"
   },
   {
    "duration": -1375,
    "start_time": "2022-02-07T21:46:31.534Z"
   },
   {
    "duration": -1391,
    "start_time": "2022-02-07T21:46:31.551Z"
   },
   {
    "duration": -1393,
    "start_time": "2022-02-07T21:46:31.554Z"
   },
   {
    "duration": -1394,
    "start_time": "2022-02-07T21:46:31.557Z"
   },
   {
    "duration": -1396,
    "start_time": "2022-02-07T21:46:31.560Z"
   },
   {
    "duration": -1397,
    "start_time": "2022-02-07T21:46:31.562Z"
   },
   {
    "duration": -1397,
    "start_time": "2022-02-07T21:46:31.564Z"
   },
   {
    "duration": -1398,
    "start_time": "2022-02-07T21:46:31.566Z"
   },
   {
    "duration": -1402,
    "start_time": "2022-02-07T21:46:31.571Z"
   },
   {
    "duration": -1409,
    "start_time": "2022-02-07T21:46:31.580Z"
   },
   {
    "duration": 55,
    "start_time": "2022-02-07T21:46:42.274Z"
   },
   {
    "duration": 55,
    "start_time": "2022-02-07T21:47:05.082Z"
   },
   {
    "duration": 55,
    "start_time": "2022-02-07T21:47:09.859Z"
   },
   {
    "duration": 99,
    "start_time": "2022-02-07T21:56:00.198Z"
   },
   {
    "duration": 394,
    "start_time": "2022-02-07T21:56:45.015Z"
   },
   {
    "duration": 393,
    "start_time": "2022-02-07T21:57:02.625Z"
   },
   {
    "duration": 100,
    "start_time": "2022-02-07T21:57:24.672Z"
   },
   {
    "duration": 109,
    "start_time": "2022-02-07T21:57:37.023Z"
   },
   {
    "duration": 427,
    "start_time": "2022-02-07T21:58:11.400Z"
   },
   {
    "duration": 370,
    "start_time": "2022-02-07T22:01:18.773Z"
   },
   {
    "duration": 145,
    "start_time": "2022-02-07T22:05:45.874Z"
   },
   {
    "duration": 386,
    "start_time": "2022-02-07T22:08:05.925Z"
   },
   {
    "duration": 103,
    "start_time": "2022-02-07T22:08:30.541Z"
   },
   {
    "duration": 447,
    "start_time": "2022-02-07T22:08:56.207Z"
   },
   {
    "duration": 382,
    "start_time": "2022-02-07T22:09:11.230Z"
   },
   {
    "duration": 828,
    "start_time": "2022-02-07T22:09:23.478Z"
   },
   {
    "duration": 438,
    "start_time": "2022-02-07T22:09:37.776Z"
   },
   {
    "duration": 101,
    "start_time": "2022-02-07T22:09:56.240Z"
   },
   {
    "duration": 104,
    "start_time": "2022-02-07T22:10:08.968Z"
   },
   {
    "duration": 93,
    "start_time": "2022-02-07T22:10:40.104Z"
   },
   {
    "duration": 102,
    "start_time": "2022-02-07T22:10:47.648Z"
   },
   {
    "duration": 174,
    "start_time": "2022-02-07T22:10:58.289Z"
   },
   {
    "duration": 381,
    "start_time": "2022-02-07T22:11:05.105Z"
   },
   {
    "duration": 102,
    "start_time": "2022-02-07T22:11:22.353Z"
   },
   {
    "duration": 99,
    "start_time": "2022-02-07T22:11:54.995Z"
   },
   {
    "duration": 392,
    "start_time": "2022-02-07T22:12:30.299Z"
   },
   {
    "duration": 424,
    "start_time": "2022-02-07T22:13:22.132Z"
   },
   {
    "duration": 381,
    "start_time": "2022-02-07T22:13:37.369Z"
   },
   {
    "duration": 328,
    "start_time": "2022-02-07T22:14:06.077Z"
   },
   {
    "duration": 62,
    "start_time": "2022-02-07T22:14:15.172Z"
   },
   {
    "duration": 57,
    "start_time": "2022-02-07T22:14:47.022Z"
   },
   {
    "duration": 345,
    "start_time": "2022-02-07T22:22:02.305Z"
   },
   {
    "duration": 120,
    "start_time": "2022-02-07T22:22:53.160Z"
   },
   {
    "duration": 58,
    "start_time": "2022-02-07T22:22:57.472Z"
   },
   {
    "duration": 55,
    "start_time": "2022-02-07T22:23:08.632Z"
   },
   {
    "duration": 97,
    "start_time": "2022-02-07T22:23:38.312Z"
   },
   {
    "duration": 324,
    "start_time": "2022-02-07T22:23:47.192Z"
   },
   {
    "duration": 5,
    "start_time": "2022-02-07T22:24:14.114Z"
   },
   {
    "duration": -1259,
    "start_time": "2022-02-07T22:24:52.626Z"
   },
   {
    "duration": 6886,
    "start_time": "2022-02-07T22:24:56.410Z"
   },
   {
    "duration": -1255,
    "start_time": "2022-02-07T22:25:17.867Z"
   },
   {
    "duration": -1257,
    "start_time": "2022-02-07T22:25:17.870Z"
   },
   {
    "duration": -1264,
    "start_time": "2022-02-07T22:25:17.879Z"
   },
   {
    "duration": -1264,
    "start_time": "2022-02-07T22:25:17.881Z"
   },
   {
    "duration": -1266,
    "start_time": "2022-02-07T22:25:17.884Z"
   },
   {
    "duration": -1268,
    "start_time": "2022-02-07T22:25:17.887Z"
   },
   {
    "duration": -1269,
    "start_time": "2022-02-07T22:25:17.890Z"
   },
   {
    "duration": -1271,
    "start_time": "2022-02-07T22:25:17.893Z"
   },
   {
    "duration": -1272,
    "start_time": "2022-02-07T22:25:17.895Z"
   },
   {
    "duration": -1273,
    "start_time": "2022-02-07T22:25:17.898Z"
   },
   {
    "duration": -1274,
    "start_time": "2022-02-07T22:25:17.900Z"
   },
   {
    "duration": -1275,
    "start_time": "2022-02-07T22:25:17.902Z"
   },
   {
    "duration": -1282,
    "start_time": "2022-02-07T22:25:17.911Z"
   },
   {
    "duration": -1283,
    "start_time": "2022-02-07T22:25:17.913Z"
   },
   {
    "duration": -1285,
    "start_time": "2022-02-07T22:25:17.916Z"
   },
   {
    "duration": -1285,
    "start_time": "2022-02-07T22:25:17.918Z"
   },
   {
    "duration": -1287,
    "start_time": "2022-02-07T22:25:17.921Z"
   },
   {
    "duration": -1289,
    "start_time": "2022-02-07T22:25:17.924Z"
   },
   {
    "duration": -1290,
    "start_time": "2022-02-07T22:25:17.927Z"
   },
   {
    "duration": -1291,
    "start_time": "2022-02-07T22:25:17.929Z"
   },
   {
    "duration": -1292,
    "start_time": "2022-02-07T22:25:17.932Z"
   },
   {
    "duration": -1336,
    "start_time": "2022-02-07T22:25:17.977Z"
   },
   {
    "duration": -1342,
    "start_time": "2022-02-07T22:25:17.984Z"
   },
   {
    "duration": -1343,
    "start_time": "2022-02-07T22:25:17.986Z"
   },
   {
    "duration": -1344,
    "start_time": "2022-02-07T22:25:17.989Z"
   },
   {
    "duration": -1347,
    "start_time": "2022-02-07T22:25:17.993Z"
   },
   {
    "duration": -1356,
    "start_time": "2022-02-07T22:25:18.003Z"
   },
   {
    "duration": -1357,
    "start_time": "2022-02-07T22:25:18.005Z"
   },
   {
    "duration": -1361,
    "start_time": "2022-02-07T22:25:18.011Z"
   },
   {
    "duration": -1363,
    "start_time": "2022-02-07T22:25:18.014Z"
   },
   {
    "duration": -1376,
    "start_time": "2022-02-07T22:25:18.028Z"
   },
   {
    "duration": -1377,
    "start_time": "2022-02-07T22:25:18.030Z"
   },
   {
    "duration": -1380,
    "start_time": "2022-02-07T22:25:18.035Z"
   },
   {
    "duration": -1387,
    "start_time": "2022-02-07T22:25:18.043Z"
   },
   {
    "duration": -1390,
    "start_time": "2022-02-07T22:25:18.047Z"
   },
   {
    "duration": -1390,
    "start_time": "2022-02-07T22:25:18.049Z"
   },
   {
    "duration": -1392,
    "start_time": "2022-02-07T22:25:18.052Z"
   },
   {
    "duration": -1394,
    "start_time": "2022-02-07T22:25:18.055Z"
   },
   {
    "duration": 7613,
    "start_time": "2022-02-07T22:25:29.971Z"
   },
   {
    "duration": 341,
    "start_time": "2022-02-07T22:25:41.301Z"
   },
   {
    "duration": 341,
    "start_time": "2022-02-07T22:26:12.844Z"
   },
   {
    "duration": 17,
    "start_time": "2022-02-07T22:26:30.012Z"
   },
   {
    "duration": 300,
    "start_time": "2022-02-07T22:26:53.181Z"
   },
   {
    "duration": -1256,
    "start_time": "2022-02-07T22:27:19.954Z"
   },
   {
    "duration": 300,
    "start_time": "2022-02-07T22:33:00.516Z"
   },
   {
    "duration": 282,
    "start_time": "2022-02-07T22:33:38.109Z"
   },
   {
    "duration": 5,
    "start_time": "2022-02-07T22:35:07.590Z"
   },
   {
    "duration": 296,
    "start_time": "2022-02-07T22:37:01.752Z"
   },
   {
    "duration": 295,
    "start_time": "2022-02-07T22:37:38.618Z"
   },
   {
    "duration": 302,
    "start_time": "2022-02-07T22:38:31.171Z"
   },
   {
    "duration": 6,
    "start_time": "2022-02-07T22:39:34.069Z"
   },
   {
    "duration": 6,
    "start_time": "2022-02-07T22:39:43.332Z"
   },
   {
    "duration": 1127,
    "start_time": "2022-02-07T22:42:04.584Z"
   },
   {
    "duration": 12,
    "start_time": "2022-02-07T22:42:12.968Z"
   },
   {
    "duration": 14,
    "start_time": "2022-02-07T22:42:23.320Z"
   },
   {
    "duration": 16,
    "start_time": "2022-02-07T22:43:00.720Z"
   },
   {
    "duration": 6,
    "start_time": "2022-02-07T22:43:59.394Z"
   },
   {
    "duration": 14,
    "start_time": "2022-02-07T22:44:15.394Z"
   },
   {
    "duration": 1458,
    "start_time": "2022-02-07T22:44:42.098Z"
   },
   {
    "duration": 500,
    "start_time": "2022-02-07T22:53:02.013Z"
   },
   {
    "duration": 295,
    "start_time": "2022-02-07T22:53:37.663Z"
   },
   {
    "duration": 285,
    "start_time": "2022-02-07T22:56:30.545Z"
   },
   {
    "duration": 20,
    "start_time": "2022-02-07T22:59:41.566Z"
   },
   {
    "duration": 20,
    "start_time": "2022-02-07T23:00:22.085Z"
   },
   {
    "duration": 21,
    "start_time": "2022-02-07T23:00:48.718Z"
   },
   {
    "duration": 90,
    "start_time": "2022-02-07T23:01:07.918Z"
   },
   {
    "duration": 95,
    "start_time": "2022-02-07T23:01:14.911Z"
   },
   {
    "duration": 19,
    "start_time": "2022-02-07T23:01:18.446Z"
   },
   {
    "duration": 21,
    "start_time": "2022-02-07T23:01:22.766Z"
   },
   {
    "duration": 20,
    "start_time": "2022-02-07T23:01:32.239Z"
   },
   {
    "duration": 21,
    "start_time": "2022-02-07T23:01:51.997Z"
   },
   {
    "duration": 20,
    "start_time": "2022-02-07T23:01:58.077Z"
   },
   {
    "duration": 22,
    "start_time": "2022-02-07T23:02:04.632Z"
   },
   {
    "duration": 20,
    "start_time": "2022-02-07T23:02:07.728Z"
   },
   {
    "duration": 20,
    "start_time": "2022-02-07T23:02:15.736Z"
   },
   {
    "duration": 19,
    "start_time": "2022-02-07T23:02:19.838Z"
   },
   {
    "duration": 20,
    "start_time": "2022-02-07T23:02:25.792Z"
   },
   {
    "duration": 19,
    "start_time": "2022-02-07T23:02:33.648Z"
   },
   {
    "duration": 36,
    "start_time": "2022-02-07T23:02:42.257Z"
   },
   {
    "duration": 20,
    "start_time": "2022-02-07T23:03:09.513Z"
   },
   {
    "duration": 1521,
    "start_time": "2022-02-07T23:03:52.345Z"
   },
   {
    "duration": 91,
    "start_time": "2022-02-07T23:04:11.915Z"
   },
   {
    "duration": 21,
    "start_time": "2022-02-07T23:04:20.355Z"
   },
   {
    "duration": 20,
    "start_time": "2022-02-07T23:18:40.436Z"
   },
   {
    "duration": 26,
    "start_time": "2022-02-07T23:19:57.950Z"
   },
   {
    "duration": 39,
    "start_time": "2022-02-07T23:20:20.046Z"
   },
   {
    "duration": 27,
    "start_time": "2022-02-07T23:20:30.637Z"
   },
   {
    "duration": 29,
    "start_time": "2022-02-07T23:20:46.967Z"
   },
   {
    "duration": 305,
    "start_time": "2022-02-07T23:20:59.207Z"
   },
   {
    "duration": 26,
    "start_time": "2022-02-07T23:21:07.672Z"
   },
   {
    "duration": 75,
    "start_time": "2022-02-07T23:21:29.055Z"
   },
   {
    "duration": 75,
    "start_time": "2022-02-07T23:21:34.591Z"
   },
   {
    "duration": 77,
    "start_time": "2022-02-07T23:21:43.864Z"
   },
   {
    "duration": 26,
    "start_time": "2022-02-07T23:22:52.976Z"
   },
   {
    "duration": 76,
    "start_time": "2022-02-07T23:23:25.986Z"
   },
   {
    "duration": 77,
    "start_time": "2022-02-07T23:23:40.043Z"
   },
   {
    "duration": 27,
    "start_time": "2022-02-07T23:23:58.931Z"
   },
   {
    "duration": 114,
    "start_time": "2022-02-07T23:24:16.931Z"
   },
   {
    "duration": 79,
    "start_time": "2022-02-07T23:24:30.133Z"
   },
   {
    "duration": 79,
    "start_time": "2022-02-07T23:25:40.573Z"
   },
   {
    "duration": 716,
    "start_time": "2022-02-08T20:45:34.167Z"
   },
   {
    "duration": 180,
    "start_time": "2022-02-08T20:45:34.886Z"
   },
   {
    "duration": 25,
    "start_time": "2022-02-08T20:45:35.070Z"
   },
   {
    "duration": 55,
    "start_time": "2022-02-08T20:45:35.098Z"
   },
   {
    "duration": 6,
    "start_time": "2022-02-08T20:45:35.155Z"
   },
   {
    "duration": 32,
    "start_time": "2022-02-08T20:45:35.163Z"
   },
   {
    "duration": 10,
    "start_time": "2022-02-08T20:45:35.197Z"
   },
   {
    "duration": 60,
    "start_time": "2022-02-08T20:45:35.211Z"
   },
   {
    "duration": 21,
    "start_time": "2022-02-08T20:45:35.275Z"
   },
   {
    "duration": 49,
    "start_time": "2022-02-08T20:45:35.299Z"
   },
   {
    "duration": 80,
    "start_time": "2022-02-08T20:45:35.351Z"
   },
   {
    "duration": 100,
    "start_time": "2022-02-08T20:45:35.434Z"
   },
   {
    "duration": 78,
    "start_time": "2022-02-08T20:45:35.549Z"
   },
   {
    "duration": 91,
    "start_time": "2022-02-08T20:45:35.629Z"
   },
   {
    "duration": 4,
    "start_time": "2022-02-08T20:45:35.722Z"
   },
   {
    "duration": 27,
    "start_time": "2022-02-08T20:45:35.728Z"
   },
   {
    "duration": 9,
    "start_time": "2022-02-08T20:45:35.758Z"
   },
   {
    "duration": 11,
    "start_time": "2022-02-08T20:45:35.769Z"
   },
   {
    "duration": 7,
    "start_time": "2022-02-08T20:45:35.782Z"
   },
   {
    "duration": 8,
    "start_time": "2022-02-08T20:45:35.792Z"
   },
   {
    "duration": 10,
    "start_time": "2022-02-08T20:45:35.803Z"
   },
   {
    "duration": 7,
    "start_time": "2022-02-08T20:45:35.815Z"
   },
   {
    "duration": 6,
    "start_time": "2022-02-08T20:45:35.849Z"
   },
   {
    "duration": 10,
    "start_time": "2022-02-08T20:45:35.858Z"
   },
   {
    "duration": 8,
    "start_time": "2022-02-08T20:45:35.871Z"
   },
   {
    "duration": 8,
    "start_time": "2022-02-08T20:45:35.881Z"
   },
   {
    "duration": 8,
    "start_time": "2022-02-08T20:45:35.891Z"
   },
   {
    "duration": 7,
    "start_time": "2022-02-08T20:45:35.902Z"
   },
   {
    "duration": 6,
    "start_time": "2022-02-08T20:45:35.911Z"
   },
   {
    "duration": 6,
    "start_time": "2022-02-08T20:45:35.919Z"
   },
   {
    "duration": 22,
    "start_time": "2022-02-08T20:45:35.927Z"
   },
   {
    "duration": 14,
    "start_time": "2022-02-08T20:45:35.952Z"
   },
   {
    "duration": 36,
    "start_time": "2022-02-08T20:45:35.968Z"
   },
   {
    "duration": 18,
    "start_time": "2022-02-08T20:45:36.006Z"
   },
   {
    "duration": 6,
    "start_time": "2022-02-08T20:45:36.027Z"
   },
   {
    "duration": 16,
    "start_time": "2022-02-08T20:45:36.035Z"
   },
   {
    "duration": 9,
    "start_time": "2022-02-08T20:45:36.053Z"
   },
   {
    "duration": 15,
    "start_time": "2022-02-08T20:45:36.064Z"
   },
   {
    "duration": 294,
    "start_time": "2022-02-10T00:34:28.956Z"
   },
   {
    "duration": 735,
    "start_time": "2022-02-10T00:34:36.122Z"
   },
   {
    "duration": 908,
    "start_time": "2022-02-10T00:34:36.860Z"
   },
   {
    "duration": 25,
    "start_time": "2022-02-10T00:34:37.772Z"
   },
   {
    "duration": 54,
    "start_time": "2022-02-10T00:34:37.800Z"
   },
   {
    "duration": 7,
    "start_time": "2022-02-10T00:34:37.856Z"
   },
   {
    "duration": 33,
    "start_time": "2022-02-10T00:34:37.865Z"
   },
   {
    "duration": 34,
    "start_time": "2022-02-10T00:34:37.900Z"
   },
   {
    "duration": 37,
    "start_time": "2022-02-10T00:34:37.937Z"
   },
   {
    "duration": 22,
    "start_time": "2022-02-10T00:34:37.977Z"
   },
   {
    "duration": 49,
    "start_time": "2022-02-10T00:34:38.002Z"
   },
   {
    "duration": 89,
    "start_time": "2022-02-10T00:34:38.053Z"
   },
   {
    "duration": 98,
    "start_time": "2022-02-10T00:34:38.144Z"
   },
   {
    "duration": 73,
    "start_time": "2022-02-10T00:34:38.244Z"
   },
   {
    "duration": 59,
    "start_time": "2022-02-10T00:34:40.867Z"
   },
   {
    "duration": 281,
    "start_time": "2022-02-10T00:35:57.445Z"
   },
   {
    "duration": 4,
    "start_time": "2022-02-10T00:36:00.220Z"
   },
   {
    "duration": 97,
    "start_time": "2022-02-10T00:36:01.164Z"
   },
   {
    "duration": 56,
    "start_time": "2022-02-10T00:36:20.604Z"
   },
   {
    "duration": 20,
    "start_time": "2022-02-10T00:36:58.054Z"
   },
   {
    "duration": 28,
    "start_time": "2022-02-10T00:37:29.469Z"
   },
   {
    "duration": 3,
    "start_time": "2022-02-10T00:40:38.687Z"
   },
   {
    "duration": 950,
    "start_time": "2022-02-10T00:40:38.692Z"
   },
   {
    "duration": 16,
    "start_time": "2022-02-10T00:40:39.645Z"
   },
   {
    "duration": 95,
    "start_time": "2022-02-10T00:40:39.664Z"
   },
   {
    "duration": 4,
    "start_time": "2022-02-10T00:40:39.762Z"
   },
   {
    "duration": 22,
    "start_time": "2022-02-10T00:40:39.769Z"
   },
   {
    "duration": 5,
    "start_time": "2022-02-10T00:40:39.793Z"
   },
   {
    "duration": 62,
    "start_time": "2022-02-10T00:40:39.800Z"
   },
   {
    "duration": 21,
    "start_time": "2022-02-10T00:40:39.865Z"
   },
   {
    "duration": 44,
    "start_time": "2022-02-10T00:40:39.889Z"
   },
   {
    "duration": 78,
    "start_time": "2022-02-10T00:40:39.936Z"
   },
   {
    "duration": 84,
    "start_time": "2022-02-10T00:40:40.033Z"
   },
   {
    "duration": 80,
    "start_time": "2022-02-10T00:40:40.120Z"
   },
   {
    "duration": 72,
    "start_time": "2022-02-10T00:40:40.202Z"
   },
   {
    "duration": 4,
    "start_time": "2022-02-10T00:40:40.276Z"
   },
   {
    "duration": 115,
    "start_time": "2022-02-10T00:40:40.282Z"
   },
   {
    "duration": 66,
    "start_time": "2022-02-10T00:40:40.399Z"
   },
   {
    "duration": 21,
    "start_time": "2022-02-10T00:40:40.467Z"
   },
   {
    "duration": 52,
    "start_time": "2022-02-10T00:40:40.490Z"
   },
   {
    "duration": 5,
    "start_time": "2022-02-10T00:40:40.544Z"
   },
   {
    "duration": 28,
    "start_time": "2022-02-10T00:40:40.551Z"
   },
   {
    "duration": 19,
    "start_time": "2022-02-10T00:40:40.581Z"
   },
   {
    "duration": 43,
    "start_time": "2022-02-10T00:40:40.603Z"
   },
   {
    "duration": 17,
    "start_time": "2022-02-10T00:40:40.648Z"
   },
   {
    "duration": 21,
    "start_time": "2022-02-10T00:40:40.667Z"
   },
   {
    "duration": 55,
    "start_time": "2022-02-10T00:40:40.690Z"
   },
   {
    "duration": 12,
    "start_time": "2022-02-10T00:41:02.283Z"
   },
   {
    "duration": 3,
    "start_time": "2022-02-10T00:41:32.197Z"
   },
   {
    "duration": 914,
    "start_time": "2022-02-10T00:41:32.203Z"
   },
   {
    "duration": 15,
    "start_time": "2022-02-10T00:41:33.120Z"
   },
   {
    "duration": 97,
    "start_time": "2022-02-10T00:41:33.138Z"
   },
   {
    "duration": 4,
    "start_time": "2022-02-10T00:41:33.238Z"
   },
   {
    "duration": 24,
    "start_time": "2022-02-10T00:41:33.245Z"
   },
   {
    "duration": 5,
    "start_time": "2022-02-10T00:41:33.271Z"
   },
   {
    "duration": 65,
    "start_time": "2022-02-10T00:41:33.278Z"
   },
   {
    "duration": 22,
    "start_time": "2022-02-10T00:41:33.347Z"
   },
   {
    "duration": 28,
    "start_time": "2022-02-10T00:41:33.372Z"
   },
   {
    "duration": 104,
    "start_time": "2022-02-10T00:41:33.402Z"
   },
   {
    "duration": 96,
    "start_time": "2022-02-10T00:41:33.508Z"
   },
   {
    "duration": 89,
    "start_time": "2022-02-10T00:41:33.606Z"
   },
   {
    "duration": 65,
    "start_time": "2022-02-10T00:41:33.697Z"
   },
   {
    "duration": 4,
    "start_time": "2022-02-10T00:41:33.764Z"
   },
   {
    "duration": 117,
    "start_time": "2022-02-10T00:41:33.770Z"
   },
   {
    "duration": 72,
    "start_time": "2022-02-10T00:41:33.890Z"
   },
   {
    "duration": 22,
    "start_time": "2022-02-10T00:41:33.965Z"
   },
   {
    "duration": 54,
    "start_time": "2022-02-10T00:41:33.990Z"
   },
   {
    "duration": 6,
    "start_time": "2022-02-10T00:41:34.047Z"
   },
   {
    "duration": 28,
    "start_time": "2022-02-10T00:41:34.056Z"
   },
   {
    "duration": 51,
    "start_time": "2022-02-10T00:41:34.087Z"
   },
   {
    "duration": 20,
    "start_time": "2022-02-10T00:41:34.141Z"
   },
   {
    "duration": 17,
    "start_time": "2022-02-10T00:41:34.163Z"
   },
   {
    "duration": 57,
    "start_time": "2022-02-10T00:41:34.182Z"
   },
   {
    "duration": 17,
    "start_time": "2022-02-10T00:41:34.242Z"
   },
   {
    "duration": 11,
    "start_time": "2022-02-10T00:41:34.263Z"
   },
   {
    "duration": 16,
    "start_time": "2022-02-10T00:41:34.276Z"
   },
   {
    "duration": 45,
    "start_time": "2022-02-10T00:41:34.294Z"
   },
   {
    "duration": 3,
    "start_time": "2022-02-10T00:44:49.903Z"
   },
   {
    "duration": 941,
    "start_time": "2022-02-10T00:44:49.910Z"
   },
   {
    "duration": 15,
    "start_time": "2022-02-10T00:44:50.854Z"
   },
   {
    "duration": 108,
    "start_time": "2022-02-10T00:44:50.872Z"
   },
   {
    "duration": 6,
    "start_time": "2022-02-10T00:44:50.982Z"
   },
   {
    "duration": 27,
    "start_time": "2022-02-10T00:44:50.990Z"
   },
   {
    "duration": 5,
    "start_time": "2022-02-10T00:44:51.019Z"
   },
   {
    "duration": 45,
    "start_time": "2022-02-10T00:44:51.026Z"
   },
   {
    "duration": 25,
    "start_time": "2022-02-10T00:44:51.075Z"
   },
   {
    "duration": 33,
    "start_time": "2022-02-10T00:44:51.103Z"
   },
   {
    "duration": 83,
    "start_time": "2022-02-10T00:44:51.138Z"
   },
   {
    "duration": 86,
    "start_time": "2022-02-10T00:44:51.233Z"
   },
   {
    "duration": 84,
    "start_time": "2022-02-10T00:44:51.321Z"
   },
   {
    "duration": 69,
    "start_time": "2022-02-10T00:44:51.407Z"
   },
   {
    "duration": 4,
    "start_time": "2022-02-10T00:44:51.479Z"
   },
   {
    "duration": 115,
    "start_time": "2022-02-10T00:44:51.485Z"
   },
   {
    "duration": 62,
    "start_time": "2022-02-10T00:44:51.602Z"
   },
   {
    "duration": 20,
    "start_time": "2022-02-10T00:44:51.667Z"
   },
   {
    "duration": 53,
    "start_time": "2022-02-10T00:44:51.689Z"
   },
   {
    "duration": 5,
    "start_time": "2022-02-10T00:44:51.744Z"
   },
   {
    "duration": 30,
    "start_time": "2022-02-10T00:44:51.751Z"
   },
   {
    "duration": 19,
    "start_time": "2022-02-10T00:44:51.783Z"
   },
   {
    "duration": 40,
    "start_time": "2022-02-10T00:44:51.805Z"
   },
   {
    "duration": 18,
    "start_time": "2022-02-10T00:44:51.847Z"
   },
   {
    "duration": 22,
    "start_time": "2022-02-10T00:44:51.867Z"
   },
   {
    "duration": 53,
    "start_time": "2022-02-10T00:44:51.892Z"
   },
   {
    "duration": 12,
    "start_time": "2022-02-10T00:44:51.950Z"
   },
   {
    "duration": 21,
    "start_time": "2022-02-10T00:44:51.965Z"
   },
   {
    "duration": 45,
    "start_time": "2022-02-10T00:44:51.988Z"
   },
   {
    "duration": 6,
    "start_time": "2022-02-10T00:44:52.036Z"
   },
   {
    "duration": 48,
    "start_time": "2022-02-10T00:44:52.044Z"
   },
   {
    "duration": 40,
    "start_time": "2022-02-10T00:44:52.094Z"
   },
   {
    "duration": 31,
    "start_time": "2022-02-10T00:44:52.136Z"
   },
   {
    "duration": 25,
    "start_time": "2022-02-10T00:44:52.169Z"
   },
   {
    "duration": 4,
    "start_time": "2022-02-10T00:46:39.128Z"
   },
   {
    "duration": 949,
    "start_time": "2022-02-10T00:46:39.135Z"
   },
   {
    "duration": 18,
    "start_time": "2022-02-10T00:46:40.087Z"
   },
   {
    "duration": 108,
    "start_time": "2022-02-10T00:46:40.108Z"
   },
   {
    "duration": 6,
    "start_time": "2022-02-10T00:46:40.219Z"
   },
   {
    "duration": 24,
    "start_time": "2022-02-10T00:46:40.228Z"
   },
   {
    "duration": 6,
    "start_time": "2022-02-10T00:46:40.255Z"
   },
   {
    "duration": 34,
    "start_time": "2022-02-10T00:46:40.265Z"
   },
   {
    "duration": 45,
    "start_time": "2022-02-10T00:46:40.302Z"
   },
   {
    "duration": 29,
    "start_time": "2022-02-10T00:46:40.349Z"
   },
   {
    "duration": 105,
    "start_time": "2022-02-10T00:46:40.380Z"
   },
   {
    "duration": 99,
    "start_time": "2022-02-10T00:46:40.487Z"
   },
   {
    "duration": 87,
    "start_time": "2022-02-10T00:46:40.589Z"
   },
   {
    "duration": 65,
    "start_time": "2022-02-10T00:46:40.678Z"
   },
   {
    "duration": 4,
    "start_time": "2022-02-10T00:46:40.745Z"
   },
   {
    "duration": 115,
    "start_time": "2022-02-10T00:46:40.751Z"
   },
   {
    "duration": 69,
    "start_time": "2022-02-10T00:46:40.868Z"
   },
   {
    "duration": 20,
    "start_time": "2022-02-10T00:46:40.939Z"
   },
   {
    "duration": 26,
    "start_time": "2022-02-10T00:46:40.961Z"
   },
   {
    "duration": 4,
    "start_time": "2022-02-10T00:46:40.990Z"
   },
   {
    "duration": 53,
    "start_time": "2022-02-10T00:46:40.996Z"
   },
   {
    "duration": 18,
    "start_time": "2022-02-10T00:46:41.051Z"
   },
   {
    "duration": 18,
    "start_time": "2022-02-10T00:46:41.073Z"
   },
   {
    "duration": 46,
    "start_time": "2022-02-10T00:46:41.094Z"
   },
   {
    "duration": 20,
    "start_time": "2022-02-10T00:46:41.143Z"
   },
   {
    "duration": 18,
    "start_time": "2022-02-10T00:46:41.166Z"
   },
   {
    "duration": 12,
    "start_time": "2022-02-10T00:46:41.186Z"
   },
   {
    "duration": 20,
    "start_time": "2022-02-10T00:46:41.233Z"
   },
   {
    "duration": 16,
    "start_time": "2022-02-10T00:46:41.255Z"
   },
   {
    "duration": 6,
    "start_time": "2022-02-10T00:46:41.273Z"
   },
   {
    "duration": 70,
    "start_time": "2022-02-10T00:46:41.281Z"
   },
   {
    "duration": 21,
    "start_time": "2022-02-10T00:46:41.353Z"
   },
   {
    "duration": 57,
    "start_time": "2022-02-10T00:46:41.376Z"
   },
   {
    "duration": 19,
    "start_time": "2022-02-10T00:46:41.436Z"
   },
   {
    "duration": 16,
    "start_time": "2022-02-10T00:46:41.457Z"
   },
   {
    "duration": 6,
    "start_time": "2022-02-10T00:46:41.475Z"
   },
   {
    "duration": 10,
    "start_time": "2022-02-10T00:46:41.483Z"
   },
   {
    "duration": 39,
    "start_time": "2022-02-10T00:46:41.495Z"
   },
   {
    "duration": 65,
    "start_time": "2022-02-10T13:24:26.084Z"
   },
   {
    "duration": 222,
    "start_time": "2022-02-10T13:25:01.271Z"
   },
   {
    "duration": 536,
    "start_time": "2022-02-10T13:25:10.114Z"
   },
   {
    "duration": 621,
    "start_time": "2022-02-10T13:25:10.652Z"
   },
   {
    "duration": 17,
    "start_time": "2022-02-10T13:25:11.275Z"
   },
   {
    "duration": 81,
    "start_time": "2022-02-10T13:25:11.294Z"
   },
   {
    "duration": 5,
    "start_time": "2022-02-10T13:25:11.377Z"
   },
   {
    "duration": 30,
    "start_time": "2022-02-10T13:25:11.384Z"
   },
   {
    "duration": 6,
    "start_time": "2022-02-10T13:25:11.416Z"
   },
   {
    "duration": 39,
    "start_time": "2022-02-10T13:25:11.423Z"
   },
   {
    "duration": 19,
    "start_time": "2022-02-10T13:25:11.465Z"
   },
   {
    "duration": 22,
    "start_time": "2022-02-10T13:25:11.486Z"
   },
   {
    "duration": 81,
    "start_time": "2022-02-10T13:25:11.510Z"
   },
   {
    "duration": 77,
    "start_time": "2022-02-10T13:25:11.592Z"
   },
   {
    "duration": 58,
    "start_time": "2022-02-10T13:25:11.671Z"
   },
   {
    "duration": 52,
    "start_time": "2022-02-10T13:25:11.731Z"
   },
   {
    "duration": 3,
    "start_time": "2022-02-10T13:25:11.784Z"
   },
   {
    "duration": 83,
    "start_time": "2022-02-10T13:25:11.789Z"
   },
   {
    "duration": 40,
    "start_time": "2022-02-10T13:25:11.873Z"
   },
   {
    "duration": 203,
    "start_time": "2022-02-10T13:25:15.465Z"
   },
   {
    "duration": 21,
    "start_time": "2022-02-10T13:25:56.908Z"
   },
   {
    "duration": 16,
    "start_time": "2022-02-10T13:26:31.652Z"
   },
   {
    "duration": 222,
    "start_time": "2022-02-10T13:28:08.438Z"
   },
   {
    "duration": 314,
    "start_time": "2022-02-10T13:29:01.166Z"
   },
   {
    "duration": 207,
    "start_time": "2022-02-10T13:29:22.885Z"
   },
   {
    "duration": 4,
    "start_time": "2022-02-10T13:31:22.778Z"
   },
   {
    "duration": 5,
    "start_time": "2022-02-10T13:31:41.234Z"
   },
   {
    "duration": 183,
    "start_time": "2022-02-10T13:32:36.921Z"
   },
   {
    "duration": 16,
    "start_time": "2022-02-10T13:35:56.933Z"
   },
   {
    "duration": 14,
    "start_time": "2022-02-10T13:36:24.575Z"
   },
   {
    "duration": 746,
    "start_time": "2022-02-16T18:24:08.146Z"
   },
   {
    "duration": 1046,
    "start_time": "2022-02-16T18:24:08.895Z"
   },
   {
    "duration": 28,
    "start_time": "2022-02-16T18:24:09.945Z"
   },
   {
    "duration": 82,
    "start_time": "2022-02-16T18:24:09.975Z"
   },
   {
    "duration": 6,
    "start_time": "2022-02-16T18:24:10.060Z"
   },
   {
    "duration": 36,
    "start_time": "2022-02-16T18:24:10.069Z"
   },
   {
    "duration": 6,
    "start_time": "2022-02-16T18:24:10.107Z"
   },
   {
    "duration": 43,
    "start_time": "2022-02-16T18:24:10.115Z"
   },
   {
    "duration": 24,
    "start_time": "2022-02-16T18:24:10.162Z"
   },
   {
    "duration": 57,
    "start_time": "2022-02-16T18:24:10.189Z"
   },
   {
    "duration": 101,
    "start_time": "2022-02-16T18:24:10.249Z"
   },
   {
    "duration": 99,
    "start_time": "2022-02-16T18:24:10.353Z"
   },
   {
    "duration": 82,
    "start_time": "2022-02-16T18:24:10.454Z"
   },
   {
    "duration": 62,
    "start_time": "2022-02-16T18:24:10.538Z"
   },
   {
    "duration": 4,
    "start_time": "2022-02-16T18:24:10.603Z"
   },
   {
    "duration": 112,
    "start_time": "2022-02-16T18:24:10.632Z"
   },
   {
    "duration": 61,
    "start_time": "2022-02-16T18:24:10.747Z"
   },
   {
    "duration": 40,
    "start_time": "2022-02-16T18:24:10.811Z"
   },
   {
    "duration": 28,
    "start_time": "2022-02-16T18:24:10.853Z"
   },
   {
    "duration": 5,
    "start_time": "2022-02-16T18:24:10.883Z"
   },
   {
    "duration": 69,
    "start_time": "2022-02-16T18:24:10.890Z"
   },
   {
    "duration": 28,
    "start_time": "2022-02-16T18:24:10.962Z"
   },
   {
    "duration": 45,
    "start_time": "2022-02-16T18:24:10.993Z"
   },
   {
    "duration": 22,
    "start_time": "2022-02-16T18:24:11.041Z"
   },
   {
    "duration": 24,
    "start_time": "2022-02-16T18:24:11.065Z"
   },
   {
    "duration": 48,
    "start_time": "2022-02-16T18:24:11.092Z"
   },
   {
    "duration": 16,
    "start_time": "2022-02-16T18:24:11.148Z"
   },
   {
    "duration": 18,
    "start_time": "2022-02-16T18:24:11.167Z"
   },
   {
    "duration": 48,
    "start_time": "2022-02-16T18:24:11.188Z"
   },
   {
    "duration": 7,
    "start_time": "2022-02-16T18:24:11.239Z"
   },
   {
    "duration": 50,
    "start_time": "2022-02-16T18:24:11.249Z"
   },
   {
    "duration": 38,
    "start_time": "2022-02-16T18:24:11.301Z"
   },
   {
    "duration": 30,
    "start_time": "2022-02-16T18:24:11.342Z"
   },
   {
    "duration": 24,
    "start_time": "2022-02-16T18:24:11.374Z"
   },
   {
    "duration": 12,
    "start_time": "2022-02-16T18:24:11.433Z"
   },
   {
    "duration": 6,
    "start_time": "2022-02-16T18:24:11.448Z"
   },
   {
    "duration": 8,
    "start_time": "2022-02-16T18:24:11.457Z"
   },
   {
    "duration": 6,
    "start_time": "2022-02-16T18:24:11.467Z"
   },
   {
    "duration": 15,
    "start_time": "2022-02-16T18:37:53.295Z"
   },
   {
    "duration": 15,
    "start_time": "2022-02-16T18:39:34.487Z"
   },
   {
    "duration": 17,
    "start_time": "2022-02-16T18:39:45.469Z"
   },
   {
    "duration": 312,
    "start_time": "2022-02-22T22:01:20.213Z"
   },
   {
    "duration": 583,
    "start_time": "2022-02-22T22:01:38.734Z"
   },
   {
    "duration": 705,
    "start_time": "2022-02-22T22:01:39.319Z"
   },
   {
    "duration": 16,
    "start_time": "2022-02-22T22:01:40.027Z"
   },
   {
    "duration": 37,
    "start_time": "2022-02-22T22:01:40.045Z"
   },
   {
    "duration": 4,
    "start_time": "2022-02-22T22:01:40.084Z"
   },
   {
    "duration": 22,
    "start_time": "2022-02-22T22:01:40.089Z"
   },
   {
    "duration": 4,
    "start_time": "2022-02-22T22:01:40.112Z"
   },
   {
    "duration": 38,
    "start_time": "2022-02-22T22:01:40.133Z"
   },
   {
    "duration": 16,
    "start_time": "2022-02-22T22:01:40.173Z"
   },
   {
    "duration": 42,
    "start_time": "2022-02-22T22:01:40.191Z"
   },
   {
    "duration": 54,
    "start_time": "2022-02-22T22:01:40.234Z"
   },
   {
    "duration": 61,
    "start_time": "2022-02-22T22:01:46.404Z"
   },
   {
    "duration": 9,
    "start_time": "2022-02-22T22:02:07.045Z"
   },
   {
    "duration": 3,
    "start_time": "2022-02-22T22:02:33.992Z"
   },
   {
    "duration": 668,
    "start_time": "2022-02-22T22:02:33.997Z"
   },
   {
    "duration": 10,
    "start_time": "2022-02-22T22:02:34.668Z"
   },
   {
    "duration": 62,
    "start_time": "2022-02-22T22:02:34.680Z"
   },
   {
    "duration": 4,
    "start_time": "2022-02-22T22:02:34.744Z"
   },
   {
    "duration": 17,
    "start_time": "2022-02-22T22:02:34.750Z"
   },
   {
    "duration": 3,
    "start_time": "2022-02-22T22:02:34.769Z"
   },
   {
    "duration": 27,
    "start_time": "2022-02-22T22:02:34.774Z"
   },
   {
    "duration": 33,
    "start_time": "2022-02-22T22:02:34.803Z"
   },
   {
    "duration": 22,
    "start_time": "2022-02-22T22:02:34.837Z"
   },
   {
    "duration": 54,
    "start_time": "2022-02-22T22:02:34.861Z"
   },
   {
    "duration": 55,
    "start_time": "2022-02-22T22:02:40.589Z"
   },
   {
    "duration": 11,
    "start_time": "2022-02-22T22:02:43.670Z"
   },
   {
    "duration": 3,
    "start_time": "2022-02-22T22:02:55.026Z"
   },
   {
    "duration": 681,
    "start_time": "2022-02-22T22:02:55.030Z"
   },
   {
    "duration": 9,
    "start_time": "2022-02-22T22:02:55.714Z"
   },
   {
    "duration": 45,
    "start_time": "2022-02-22T22:02:55.725Z"
   },
   {
    "duration": 4,
    "start_time": "2022-02-22T22:02:55.772Z"
   },
   {
    "duration": 22,
    "start_time": "2022-02-22T22:02:55.778Z"
   },
   {
    "duration": 4,
    "start_time": "2022-02-22T22:02:55.802Z"
   },
   {
    "duration": 26,
    "start_time": "2022-02-22T22:02:55.808Z"
   },
   {
    "duration": 16,
    "start_time": "2022-02-22T22:02:55.835Z"
   },
   {
    "duration": 21,
    "start_time": "2022-02-22T22:02:55.853Z"
   },
   {
    "duration": 66,
    "start_time": "2022-02-22T22:02:55.876Z"
   },
   {
    "duration": 11,
    "start_time": "2022-02-22T22:02:57.663Z"
   },
   {
    "duration": 19,
    "start_time": "2022-02-22T22:05:40.313Z"
   },
   {
    "duration": 43,
    "start_time": "2022-02-22T22:07:24.882Z"
   },
   {
    "duration": 41,
    "start_time": "2022-02-22T22:07:35.819Z"
   },
   {
    "duration": 385,
    "start_time": "2022-02-22T22:09:07.362Z"
   },
   {
    "duration": 7467,
    "start_time": "2022-02-22T22:09:10.636Z"
   },
   {
    "duration": 372,
    "start_time": "2022-02-22T22:09:17.733Z"
   },
   {
    "duration": 369,
    "start_time": "2022-02-22T22:09:17.737Z"
   },
   {
    "duration": 362,
    "start_time": "2022-02-22T22:09:17.745Z"
   },
   {
    "duration": 360,
    "start_time": "2022-02-22T22:09:17.748Z"
   },
   {
    "duration": 358,
    "start_time": "2022-02-22T22:09:17.751Z"
   },
   {
    "duration": 356,
    "start_time": "2022-02-22T22:09:17.754Z"
   },
   {
    "duration": 350,
    "start_time": "2022-02-22T22:09:17.761Z"
   },
   {
    "duration": 348,
    "start_time": "2022-02-22T22:09:17.764Z"
   },
   {
    "duration": 345,
    "start_time": "2022-02-22T22:09:17.768Z"
   },
   {
    "duration": 342,
    "start_time": "2022-02-22T22:09:17.772Z"
   },
   {
    "duration": 339,
    "start_time": "2022-02-22T22:09:17.775Z"
   },
   {
    "duration": 338,
    "start_time": "2022-02-22T22:09:17.777Z"
   },
   {
    "duration": 336,
    "start_time": "2022-02-22T22:09:17.780Z"
   },
   {
    "duration": 335,
    "start_time": "2022-02-22T22:09:17.782Z"
   },
   {
    "duration": 333,
    "start_time": "2022-02-22T22:09:17.785Z"
   },
   {
    "duration": 332,
    "start_time": "2022-02-22T22:09:17.788Z"
   },
   {
    "duration": 329,
    "start_time": "2022-02-22T22:09:17.791Z"
   },
   {
    "duration": 327,
    "start_time": "2022-02-22T22:09:17.794Z"
   },
   {
    "duration": 40,
    "start_time": "2022-02-22T22:09:32.101Z"
   },
   {
    "duration": 7242,
    "start_time": "2022-02-22T22:10:12.798Z"
   },
   {
    "duration": 363,
    "start_time": "2022-02-22T22:10:19.680Z"
   },
   {
    "duration": 359,
    "start_time": "2022-02-22T22:10:19.685Z"
   },
   {
    "duration": 357,
    "start_time": "2022-02-22T22:10:19.689Z"
   },
   {
    "duration": 353,
    "start_time": "2022-02-22T22:10:19.694Z"
   },
   {
    "duration": 352,
    "start_time": "2022-02-22T22:10:19.697Z"
   },
   {
    "duration": 346,
    "start_time": "2022-02-22T22:10:19.704Z"
   },
   {
    "duration": 343,
    "start_time": "2022-02-22T22:10:19.708Z"
   },
   {
    "duration": 341,
    "start_time": "2022-02-22T22:10:19.712Z"
   },
   {
    "duration": 339,
    "start_time": "2022-02-22T22:10:19.715Z"
   },
   {
    "duration": 337,
    "start_time": "2022-02-22T22:10:19.718Z"
   },
   {
    "duration": 335,
    "start_time": "2022-02-22T22:10:19.722Z"
   },
   {
    "duration": 332,
    "start_time": "2022-02-22T22:10:19.726Z"
   },
   {
    "duration": 329,
    "start_time": "2022-02-22T22:10:19.730Z"
   },
   {
    "duration": 328,
    "start_time": "2022-02-22T22:10:19.733Z"
   },
   {
    "duration": 327,
    "start_time": "2022-02-22T22:10:19.735Z"
   },
   {
    "duration": 322,
    "start_time": "2022-02-22T22:10:19.741Z"
   },
   {
    "duration": 320,
    "start_time": "2022-02-22T22:10:19.744Z"
   },
   {
    "duration": 319,
    "start_time": "2022-02-22T22:10:19.746Z"
   },
   {
    "duration": 7448,
    "start_time": "2022-02-22T22:10:43.238Z"
   },
   {
    "duration": 358,
    "start_time": "2022-02-22T22:10:50.330Z"
   },
   {
    "duration": 354,
    "start_time": "2022-02-22T22:10:50.335Z"
   },
   {
    "duration": 351,
    "start_time": "2022-02-22T22:10:50.339Z"
   },
   {
    "duration": 348,
    "start_time": "2022-02-22T22:10:50.343Z"
   },
   {
    "duration": 346,
    "start_time": "2022-02-22T22:10:50.346Z"
   },
   {
    "duration": 344,
    "start_time": "2022-02-22T22:10:50.349Z"
   },
   {
    "duration": 341,
    "start_time": "2022-02-22T22:10:50.352Z"
   },
   {
    "duration": 340,
    "start_time": "2022-02-22T22:10:50.354Z"
   },
   {
    "duration": 337,
    "start_time": "2022-02-22T22:10:50.358Z"
   },
   {
    "duration": 335,
    "start_time": "2022-02-22T22:10:50.361Z"
   },
   {
    "duration": 334,
    "start_time": "2022-02-22T22:10:50.363Z"
   },
   {
    "duration": 332,
    "start_time": "2022-02-22T22:10:50.366Z"
   },
   {
    "duration": 331,
    "start_time": "2022-02-22T22:10:50.368Z"
   },
   {
    "duration": 329,
    "start_time": "2022-02-22T22:10:50.371Z"
   },
   {
    "duration": 326,
    "start_time": "2022-02-22T22:10:50.375Z"
   },
   {
    "duration": 324,
    "start_time": "2022-02-22T22:10:50.378Z"
   },
   {
    "duration": 322,
    "start_time": "2022-02-22T22:10:50.381Z"
   },
   {
    "duration": 321,
    "start_time": "2022-02-22T22:10:50.383Z"
   },
   {
    "duration": 91,
    "start_time": "2022-02-22T22:11:05.671Z"
   },
   {
    "duration": 329,
    "start_time": "2022-02-22T22:14:41.060Z"
   },
   {
    "duration": 321,
    "start_time": "2022-02-22T22:15:07.395Z"
   },
   {
    "duration": 548,
    "start_time": "2022-02-22T22:20:18.947Z"
   },
   {
    "duration": 300,
    "start_time": "2022-02-22T22:20:45.419Z"
   },
   {
    "duration": 44,
    "start_time": "2022-02-22T22:21:51.893Z"
   },
   {
    "duration": 39,
    "start_time": "2022-02-22T22:22:17.516Z"
   },
   {
    "duration": 22,
    "start_time": "2022-02-22T22:22:50.573Z"
   },
   {
    "duration": 9,
    "start_time": "2022-02-22T22:23:12.645Z"
   },
   {
    "duration": 10,
    "start_time": "2022-02-22T22:23:45.087Z"
   },
   {
    "duration": 43,
    "start_time": "2022-02-22T22:24:45.631Z"
   },
   {
    "duration": 3,
    "start_time": "2022-02-22T22:24:52.026Z"
   },
   {
    "duration": 694,
    "start_time": "2022-02-22T22:24:52.031Z"
   },
   {
    "duration": 10,
    "start_time": "2022-02-22T22:24:52.727Z"
   },
   {
    "duration": 50,
    "start_time": "2022-02-22T22:24:52.738Z"
   },
   {
    "duration": 3,
    "start_time": "2022-02-22T22:24:52.790Z"
   },
   {
    "duration": 19,
    "start_time": "2022-02-22T22:24:52.795Z"
   },
   {
    "duration": 4,
    "start_time": "2022-02-22T22:24:52.816Z"
   },
   {
    "duration": 30,
    "start_time": "2022-02-22T22:24:52.821Z"
   },
   {
    "duration": 17,
    "start_time": "2022-02-22T22:24:52.853Z"
   },
   {
    "duration": 22,
    "start_time": "2022-02-22T22:24:52.872Z"
   },
   {
    "duration": 66,
    "start_time": "2022-02-22T22:24:52.895Z"
   },
   {
    "duration": 56,
    "start_time": "2022-02-22T22:24:52.962Z"
   },
   {
    "duration": 19,
    "start_time": "2022-02-22T22:24:53.020Z"
   },
   {
    "duration": 47,
    "start_time": "2022-02-22T22:24:53.041Z"
   },
   {
    "duration": 48,
    "start_time": "2022-02-22T22:24:53.090Z"
   },
   {
    "duration": 2,
    "start_time": "2022-02-22T22:24:53.140Z"
   },
   {
    "duration": 58,
    "start_time": "2022-02-22T22:24:53.144Z"
   },
   {
    "duration": 54,
    "start_time": "2022-02-22T22:24:53.203Z"
   },
   {
    "duration": 13,
    "start_time": "2022-02-22T22:24:53.258Z"
   },
   {
    "duration": 46,
    "start_time": "2022-02-22T22:24:55.799Z"
   },
   {
    "duration": 44,
    "start_time": "2022-02-22T22:25:08.848Z"
   },
   {
    "duration": 28,
    "start_time": "2022-02-22T22:25:27.799Z"
   },
   {
    "duration": 10,
    "start_time": "2022-02-22T22:25:57.665Z"
   },
   {
    "duration": 2,
    "start_time": "2022-02-22T22:28:59.041Z"
   },
   {
    "duration": 732,
    "start_time": "2022-02-22T22:28:59.047Z"
   },
   {
    "duration": 12,
    "start_time": "2022-02-22T22:28:59.781Z"
   },
   {
    "duration": 44,
    "start_time": "2022-02-22T22:28:59.795Z"
   },
   {
    "duration": 4,
    "start_time": "2022-02-22T22:28:59.842Z"
   },
   {
    "duration": 19,
    "start_time": "2022-02-22T22:28:59.847Z"
   },
   {
    "duration": 4,
    "start_time": "2022-02-22T22:28:59.868Z"
   },
   {
    "duration": 27,
    "start_time": "2022-02-22T22:28:59.873Z"
   },
   {
    "duration": 32,
    "start_time": "2022-02-22T22:28:59.901Z"
   },
   {
    "duration": 22,
    "start_time": "2022-02-22T22:28:59.936Z"
   },
   {
    "duration": 51,
    "start_time": "2022-02-22T22:28:59.960Z"
   },
   {
    "duration": 75,
    "start_time": "2022-02-22T22:29:00.013Z"
   },
   {
    "duration": 10,
    "start_time": "2022-02-22T22:29:00.089Z"
   },
   {
    "duration": 66,
    "start_time": "2022-02-22T22:29:00.101Z"
   },
   {
    "duration": 39,
    "start_time": "2022-02-22T22:29:00.168Z"
   },
   {
    "duration": 7,
    "start_time": "2022-02-22T22:29:00.209Z"
   },
   {
    "duration": 65,
    "start_time": "2022-02-22T22:29:00.232Z"
   },
   {
    "duration": 48,
    "start_time": "2022-02-22T22:29:00.298Z"
   },
   {
    "duration": 29,
    "start_time": "2022-02-22T22:29:00.347Z"
   },
   {
    "duration": 40,
    "start_time": "2022-02-22T22:29:00.378Z"
   },
   {
    "duration": 24,
    "start_time": "2022-02-22T22:29:00.420Z"
   },
   {
    "duration": 48,
    "start_time": "2022-02-22T22:29:00.446Z"
   },
   {
    "duration": 33,
    "start_time": "2022-02-22T22:29:00.496Z"
   },
   {
    "duration": 54,
    "start_time": "2022-02-22T22:29:00.531Z"
   },
   {
    "duration": 28,
    "start_time": "2022-02-22T22:29:00.587Z"
   },
   {
    "duration": 37,
    "start_time": "2022-02-22T22:29:00.616Z"
   },
   {
    "duration": 31,
    "start_time": "2022-02-22T22:29:00.655Z"
   },
   {
    "duration": 26,
    "start_time": "2022-02-22T22:29:00.689Z"
   },
   {
    "duration": 29,
    "start_time": "2022-02-22T22:29:00.717Z"
   },
   {
    "duration": 17,
    "start_time": "2022-02-22T22:29:00.748Z"
   },
   {
    "duration": 29,
    "start_time": "2022-02-22T22:29:00.766Z"
   },
   {
    "duration": 53,
    "start_time": "2022-02-22T22:29:00.797Z"
   },
   {
    "duration": 20,
    "start_time": "2022-02-22T22:29:00.852Z"
   },
   {
    "duration": 30,
    "start_time": "2022-02-22T22:29:00.874Z"
   },
   {
    "duration": 30,
    "start_time": "2022-02-22T22:29:00.906Z"
   },
   {
    "duration": 32,
    "start_time": "2022-02-22T22:29:00.938Z"
   },
   {
    "duration": 34,
    "start_time": "2022-02-22T22:29:00.972Z"
   },
   {
    "duration": 25,
    "start_time": "2022-02-22T22:29:01.008Z"
   },
   {
    "duration": 26,
    "start_time": "2022-02-22T22:29:01.035Z"
   },
   {
    "duration": 12,
    "start_time": "2022-02-22T22:29:21.429Z"
   },
   {
    "duration": 13,
    "start_time": "2022-02-22T22:29:30.816Z"
   },
   {
    "duration": 24,
    "start_time": "2022-02-22T22:29:50.406Z"
   },
   {
    "duration": 11,
    "start_time": "2022-02-22T22:30:00.510Z"
   },
   {
    "duration": 3,
    "start_time": "2022-02-22T22:30:07.858Z"
   },
   {
    "duration": 773,
    "start_time": "2022-02-22T22:30:07.864Z"
   },
   {
    "duration": 14,
    "start_time": "2022-02-22T22:30:08.642Z"
   },
   {
    "duration": 37,
    "start_time": "2022-02-22T22:30:08.658Z"
   },
   {
    "duration": 6,
    "start_time": "2022-02-22T22:30:08.697Z"
   },
   {
    "duration": 24,
    "start_time": "2022-02-22T22:30:08.704Z"
   },
   {
    "duration": 5,
    "start_time": "2022-02-22T22:30:08.729Z"
   },
   {
    "duration": 28,
    "start_time": "2022-02-22T22:30:08.736Z"
   },
   {
    "duration": 17,
    "start_time": "2022-02-22T22:30:08.768Z"
   },
   {
    "duration": 23,
    "start_time": "2022-02-22T22:30:08.787Z"
   },
   {
    "duration": 58,
    "start_time": "2022-02-22T22:30:08.832Z"
   },
   {
    "duration": 73,
    "start_time": "2022-02-22T22:30:08.892Z"
   },
   {
    "duration": 11,
    "start_time": "2022-02-22T22:30:08.966Z"
   },
   {
    "duration": 61,
    "start_time": "2022-02-22T22:30:08.978Z"
   },
   {
    "duration": 43,
    "start_time": "2022-02-22T22:30:09.040Z"
   },
   {
    "duration": 3,
    "start_time": "2022-02-22T22:30:09.084Z"
   },
   {
    "duration": 87,
    "start_time": "2022-02-22T22:30:09.089Z"
   },
   {
    "duration": 42,
    "start_time": "2022-02-22T22:30:09.177Z"
   },
   {
    "duration": 19,
    "start_time": "2022-02-22T22:30:09.220Z"
   },
   {
    "duration": 9,
    "start_time": "2022-02-22T22:30:09.241Z"
   },
   {
    "duration": 3,
    "start_time": "2022-02-22T22:30:09.252Z"
   },
   {
    "duration": 18,
    "start_time": "2022-02-22T22:30:09.257Z"
   },
   {
    "duration": 12,
    "start_time": "2022-02-22T22:30:09.277Z"
   },
   {
    "duration": 42,
    "start_time": "2022-02-22T22:30:09.292Z"
   },
   {
    "duration": 12,
    "start_time": "2022-02-22T22:30:09.336Z"
   },
   {
    "duration": 14,
    "start_time": "2022-02-22T22:30:09.350Z"
   },
   {
    "duration": 11,
    "start_time": "2022-02-22T22:30:09.366Z"
   },
   {
    "duration": 8,
    "start_time": "2022-02-22T22:30:09.379Z"
   },
   {
    "duration": 48,
    "start_time": "2022-02-22T22:30:09.388Z"
   },
   {
    "duration": 11,
    "start_time": "2022-02-22T22:30:09.437Z"
   },
   {
    "duration": 4,
    "start_time": "2022-02-22T22:30:09.450Z"
   },
   {
    "duration": 33,
    "start_time": "2022-02-22T22:30:09.455Z"
   },
   {
    "duration": 15,
    "start_time": "2022-02-22T22:30:09.489Z"
   },
   {
    "duration": 45,
    "start_time": "2022-02-22T22:30:09.505Z"
   },
   {
    "duration": 14,
    "start_time": "2022-02-22T22:30:09.552Z"
   },
   {
    "duration": 8,
    "start_time": "2022-02-22T22:30:09.568Z"
   },
   {
    "duration": 3,
    "start_time": "2022-02-22T22:30:09.578Z"
   },
   {
    "duration": 15,
    "start_time": "2022-02-22T22:30:09.583Z"
   },
   {
    "duration": 14,
    "start_time": "2022-02-22T22:30:09.599Z"
   },
   {
    "duration": 4,
    "start_time": "2022-02-22T22:32:19.568Z"
   },
   {
    "duration": 2,
    "start_time": "2022-02-22T22:32:32.339Z"
   },
   {
    "duration": 712,
    "start_time": "2022-02-22T22:32:32.343Z"
   },
   {
    "duration": 10,
    "start_time": "2022-02-22T22:32:33.057Z"
   },
   {
    "duration": 74,
    "start_time": "2022-02-22T22:32:33.069Z"
   },
   {
    "duration": 3,
    "start_time": "2022-02-22T22:32:33.145Z"
   },
   {
    "duration": 22,
    "start_time": "2022-02-22T22:32:33.150Z"
   },
   {
    "duration": 3,
    "start_time": "2022-02-22T22:32:33.175Z"
   },
   {
    "duration": 29,
    "start_time": "2022-02-22T22:32:33.180Z"
   },
   {
    "duration": 36,
    "start_time": "2022-02-22T22:32:33.211Z"
   },
   {
    "duration": 22,
    "start_time": "2022-02-22T22:32:33.249Z"
   },
   {
    "duration": 69,
    "start_time": "2022-02-22T22:32:33.272Z"
   },
   {
    "duration": 59,
    "start_time": "2022-02-22T22:32:33.342Z"
   },
   {
    "duration": 10,
    "start_time": "2022-02-22T22:32:33.402Z"
   },
   {
    "duration": 73,
    "start_time": "2022-02-22T22:32:33.414Z"
   },
   {
    "duration": 43,
    "start_time": "2022-02-22T22:32:33.489Z"
   },
   {
    "duration": 4,
    "start_time": "2022-02-22T22:32:33.534Z"
   },
   {
    "duration": 68,
    "start_time": "2022-02-22T22:32:33.540Z"
   },
   {
    "duration": 54,
    "start_time": "2022-02-22T22:32:33.610Z"
   },
   {
    "duration": 15,
    "start_time": "2022-02-22T22:32:33.668Z"
   },
   {
    "duration": 14,
    "start_time": "2022-02-22T22:32:33.685Z"
   },
   {
    "duration": 4,
    "start_time": "2022-02-22T22:32:33.701Z"
   },
   {
    "duration": 38,
    "start_time": "2022-02-22T22:32:33.707Z"
   },
   {
    "duration": 13,
    "start_time": "2022-02-22T22:32:33.747Z"
   },
   {
    "duration": 15,
    "start_time": "2022-02-22T22:32:33.761Z"
   },
   {
    "duration": 14,
    "start_time": "2022-02-22T22:32:33.777Z"
   },
   {
    "duration": 48,
    "start_time": "2022-02-22T22:32:33.792Z"
   },
   {
    "duration": 13,
    "start_time": "2022-02-22T22:32:33.843Z"
   },
   {
    "duration": 8,
    "start_time": "2022-02-22T22:32:33.857Z"
   },
   {
    "duration": 14,
    "start_time": "2022-02-22T22:32:33.866Z"
   },
   {
    "duration": 9,
    "start_time": "2022-02-22T22:32:33.882Z"
   },
   {
    "duration": 4,
    "start_time": "2022-02-22T22:32:33.893Z"
   },
   {
    "duration": 46,
    "start_time": "2022-02-22T22:32:33.899Z"
   },
   {
    "duration": 11,
    "start_time": "2022-02-22T22:32:33.947Z"
   },
   {
    "duration": 16,
    "start_time": "2022-02-22T22:32:33.959Z"
   },
   {
    "duration": 11,
    "start_time": "2022-02-22T22:32:33.977Z"
   },
   {
    "duration": 8,
    "start_time": "2022-02-22T22:32:33.989Z"
   },
   {
    "duration": 34,
    "start_time": "2022-02-22T22:32:33.999Z"
   },
   {
    "duration": 7,
    "start_time": "2022-02-22T22:32:34.035Z"
   },
   {
    "duration": 8,
    "start_time": "2022-02-22T22:32:34.043Z"
   },
   {
    "duration": 10,
    "start_time": "2022-02-22T22:34:00.595Z"
   },
   {
    "duration": 12,
    "start_time": "2022-02-22T22:34:05.378Z"
   },
   {
    "duration": 2189,
    "start_time": "2022-02-22T22:35:10.772Z"
   },
   {
    "duration": 24,
    "start_time": "2022-02-22T22:36:08.125Z"
   },
   {
    "duration": 19,
    "start_time": "2022-02-22T22:37:14.303Z"
   },
   {
    "duration": 626,
    "start_time": "2022-02-23T04:57:50.710Z"
   },
   {
    "duration": 654,
    "start_time": "2022-02-23T04:57:51.338Z"
   },
   {
    "duration": 15,
    "start_time": "2022-02-23T04:57:51.995Z"
   },
   {
    "duration": 61,
    "start_time": "2022-02-23T04:57:52.012Z"
   },
   {
    "duration": 4,
    "start_time": "2022-02-23T04:57:52.074Z"
   },
   {
    "duration": 19,
    "start_time": "2022-02-23T04:57:52.080Z"
   },
   {
    "duration": 9,
    "start_time": "2022-02-23T04:57:52.100Z"
   },
   {
    "duration": 26,
    "start_time": "2022-02-23T04:57:52.111Z"
   },
   {
    "duration": 16,
    "start_time": "2022-02-23T04:57:52.139Z"
   },
   {
    "duration": 22,
    "start_time": "2022-02-23T04:57:52.156Z"
   },
   {
    "duration": 71,
    "start_time": "2022-02-23T04:57:52.180Z"
   },
   {
    "duration": 64,
    "start_time": "2022-02-23T04:57:52.253Z"
   },
   {
    "duration": 20,
    "start_time": "2022-02-23T04:57:52.319Z"
   },
   {
    "duration": 45,
    "start_time": "2022-02-23T04:57:52.341Z"
   },
   {
    "duration": 50,
    "start_time": "2022-02-23T04:57:52.388Z"
   },
   {
    "duration": 3,
    "start_time": "2022-02-23T04:57:52.439Z"
   },
   {
    "duration": 58,
    "start_time": "2022-02-23T04:57:52.444Z"
   },
   {
    "duration": 53,
    "start_time": "2022-02-23T04:57:52.504Z"
   },
   {
    "duration": 10,
    "start_time": "2022-02-23T04:57:52.558Z"
   },
   {
    "duration": 9,
    "start_time": "2022-02-23T04:57:52.569Z"
   },
   {
    "duration": 3,
    "start_time": "2022-02-23T04:57:52.579Z"
   },
   {
    "duration": 16,
    "start_time": "2022-02-23T04:57:52.584Z"
   },
   {
    "duration": 13,
    "start_time": "2022-02-23T04:57:52.632Z"
   },
   {
    "duration": 13,
    "start_time": "2022-02-23T04:57:52.646Z"
   },
   {
    "duration": 11,
    "start_time": "2022-02-23T04:57:52.660Z"
   },
   {
    "duration": 12,
    "start_time": "2022-02-23T04:57:52.673Z"
   },
   {
    "duration": 12,
    "start_time": "2022-02-23T04:57:52.687Z"
   },
   {
    "duration": 36,
    "start_time": "2022-02-23T04:57:52.700Z"
   },
   {
    "duration": 10,
    "start_time": "2022-02-23T04:57:52.738Z"
   },
   {
    "duration": 7,
    "start_time": "2022-02-23T04:57:52.750Z"
   },
   {
    "duration": 5,
    "start_time": "2022-02-23T04:57:52.758Z"
   },
   {
    "duration": 25,
    "start_time": "2022-02-23T04:57:52.764Z"
   },
   {
    "duration": 12,
    "start_time": "2022-02-23T04:57:52.790Z"
   },
   {
    "duration": 36,
    "start_time": "2022-02-23T04:57:52.804Z"
   },
   {
    "duration": 11,
    "start_time": "2022-02-23T04:57:52.842Z"
   },
   {
    "duration": 9,
    "start_time": "2022-02-23T04:57:52.855Z"
   },
   {
    "duration": 6,
    "start_time": "2022-02-23T04:57:52.865Z"
   },
   {
    "duration": 11,
    "start_time": "2022-02-23T04:57:52.872Z"
   },
   {
    "duration": 9,
    "start_time": "2022-02-23T04:57:52.885Z"
   },
   {
    "duration": 103,
    "start_time": "2022-02-23T05:09:20.993Z"
   }
  ],
  "colab": {
   "collapsed_sections": [
    "E0vqbgi9ay0H",
    "VUC88oWjTJw2"
   ],
   "name": "yandex_music_project_2021.2.ipynb",
   "provenance": []
  },
  "kernelspec": {
   "display_name": "Python 3 (ipykernel)",
   "language": "python",
   "name": "python3"
  },
  "language_info": {
   "codemirror_mode": {
    "name": "ipython",
    "version": 3
   },
   "file_extension": ".py",
   "mimetype": "text/x-python",
   "name": "python",
   "nbconvert_exporter": "python",
   "pygments_lexer": "ipython3",
   "version": "3.9.7"
  },
  "toc": {
   "base_numbering": 1,
   "nav_menu": {},
   "number_sections": true,
   "sideBar": true,
   "skip_h1_title": true,
   "title_cell": "Table of Contents",
   "title_sidebar": "Contents",
   "toc_cell": false,
   "toc_position": {},
   "toc_section_display": true,
   "toc_window_display": false
  }
 },
 "nbformat": 4,
 "nbformat_minor": 1
}
