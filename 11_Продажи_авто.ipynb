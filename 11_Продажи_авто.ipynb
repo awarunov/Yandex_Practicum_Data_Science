{
 "cells": [
  {
   "cell_type": "markdown",
   "metadata": {},
   "source": [
    "# Определение стоимости автомобилей"
   ]
  },
  {
   "cell_type": "markdown",
   "metadata": {},
   "source": [
    "Сервис по продаже автомобилей с пробегом «Не бит, не крашен» разрабатывает приложение для привлечения новых клиентов. В нём можно быстро узнать рыночную стоимость своего автомобиля. В вашем распоряжении исторические данные: технические характеристики, комплектации и цены автомобилей. Вам нужно построить модель для определения стоимости. \n",
    "\n",
    "Заказчику важны:\n",
    "\n",
    "- качество предсказания;\n",
    "- скорость предсказания;\n",
    "- время обучения."
   ]
  },
  {
   "cell_type": "markdown",
   "metadata": {},
   "source": [
    "**Признаки:**  \n",
    "DateCrawled — дата скачивания анкеты из базы   \n",
    "VehicleType — тип автомобильного кузова   \n",
    "RegistrationYear — год регистрации автомобиля   \n",
    "Gearbox — тип коробки передач   \n",
    "Power — мощность (л. с.)   \n",
    "Model — модель автомобиля   \n",
    "Kilometer — пробег (км)   \n",
    "RegistrationMonth — месяц регистрации автомобиля   \n",
    "FuelType — тип топлива   \n",
    "Brand — марка автомобиля   \n",
    "NotRepaired — была машина в ремонте или нет   \n",
    "DateCreated — дата создания анкеты   \n",
    "NumberOfPictures — количество фотографий автомобиля   \n",
    "PostalCode — почтовый индекс владельца анкеты (пользователя)   \n",
    "LastSeen — дата последней активности пользователя   \n",
    "   \n",
    "**Целевой признак:**   \n",
    "Price — цена (евро)"
   ]
  },
  {
   "cell_type": "markdown",
   "metadata": {},
   "source": [
    "## Подготовка данных"
   ]
  },
  {
   "cell_type": "code",
   "execution_count": 3,
   "metadata": {},
   "outputs": [
    {
     "data": {
      "text/html": [
       "<style>.container { width:80% !important; }</style>"
      ],
      "text/plain": [
       "<IPython.core.display.HTML object>"
      ]
     },
     "metadata": {},
     "output_type": "display_data"
    }
   ],
   "source": [
    "import pandas as pd\n",
    "import os.path\n",
    "import seaborn as sns\n",
    "import matplotlib.pyplot as plt\n",
    "from sklearn.preprocessing import StandardScaler\n",
    "from sklearn.ensemble import RandomForestRegressor\n",
    "from lightgbm import LGBMRegressor\n",
    "from sklearn.metrics import mean_squared_error\n",
    "from sklearn.model_selection import train_test_split, cross_val_score, RandomizedSearchCV\n",
    "from scipy.stats import randint as sp_randint\n",
    "from catboost import CatBoostRegressor\n",
    "import numpy as np\n",
    "pd.set_option('display.max_rows', 100)\n",
    "pd.set_option('display.max_columns', 29)\n",
    "file_name = 'autos.csv'\n",
    "local_path = os.path.join('G:', os.sep, 'Мой диск', 'Data Science', 'Проекты', '11 Продажи авто', 'data')\n",
    "web_dir_path = os.path.join(os.sep, 'datasets' + os.sep)\n",
    "from IPython.display import display, HTML\n",
    "display(HTML(\"<style>.container { width:80% !important; }</style>\"))\n",
    "%config InlineBackend.print_figure_kwargs={'facecolor' : \"w\"}"
   ]
  },
  {
   "cell_type": "code",
   "execution_count": 4,
   "metadata": {
    "scrolled": false
   },
   "outputs": [
    {
     "name": "stdout",
     "output_type": "stream",
     "text": [
      "Общая информация о данных датасета autos.csv:\n",
      "\n",
      "<class 'pandas.core.frame.DataFrame'>\n",
      "RangeIndex: 354369 entries, 0 to 354368\n",
      "Data columns (total 16 columns):\n",
      " #   Column             Non-Null Count   Dtype \n",
      "---  ------             --------------   ----- \n",
      " 0   DateCrawled        354369 non-null  object\n",
      " 1   Price              354369 non-null  int64 \n",
      " 2   VehicleType        316879 non-null  object\n",
      " 3   RegistrationYear   354369 non-null  int64 \n",
      " 4   Gearbox            334536 non-null  object\n",
      " 5   Power              354369 non-null  int64 \n",
      " 6   Model              334664 non-null  object\n",
      " 7   Kilometer          354369 non-null  int64 \n",
      " 8   RegistrationMonth  354369 non-null  int64 \n",
      " 9   FuelType           321474 non-null  object\n",
      " 10  Brand              354369 non-null  object\n",
      " 11  NotRepaired        283215 non-null  object\n",
      " 12  DateCreated        354369 non-null  object\n",
      " 13  NumberOfPictures   354369 non-null  int64 \n",
      " 14  PostalCode         354369 non-null  int64 \n",
      " 15  LastSeen           354369 non-null  object\n",
      "dtypes: int64(7), object(9)\n",
      "memory usage: 43.3+ MB\n",
      "\n",
      "Обзор данных датасета autos.csv:\n"
     ]
    },
    {
     "data": {
      "text/html": [
       "<div>\n",
       "<style scoped>\n",
       "    .dataframe tbody tr th:only-of-type {\n",
       "        vertical-align: middle;\n",
       "    }\n",
       "\n",
       "    .dataframe tbody tr th {\n",
       "        vertical-align: top;\n",
       "    }\n",
       "\n",
       "    .dataframe thead th {\n",
       "        text-align: right;\n",
       "    }\n",
       "</style>\n",
       "<table border=\"1\" class=\"dataframe\">\n",
       "  <thead>\n",
       "    <tr style=\"text-align: right;\">\n",
       "      <th></th>\n",
       "      <th>DateCrawled</th>\n",
       "      <th>Price</th>\n",
       "      <th>VehicleType</th>\n",
       "      <th>RegistrationYear</th>\n",
       "      <th>Gearbox</th>\n",
       "      <th>Power</th>\n",
       "      <th>Model</th>\n",
       "      <th>Kilometer</th>\n",
       "      <th>RegistrationMonth</th>\n",
       "      <th>FuelType</th>\n",
       "      <th>Brand</th>\n",
       "      <th>NotRepaired</th>\n",
       "      <th>DateCreated</th>\n",
       "      <th>NumberOfPictures</th>\n",
       "      <th>PostalCode</th>\n",
       "      <th>LastSeen</th>\n",
       "    </tr>\n",
       "  </thead>\n",
       "  <tbody>\n",
       "    <tr>\n",
       "      <th>0</th>\n",
       "      <td>2016-03-24 11:52:17</td>\n",
       "      <td>480</td>\n",
       "      <td>NaN</td>\n",
       "      <td>1993</td>\n",
       "      <td>manual</td>\n",
       "      <td>0</td>\n",
       "      <td>golf</td>\n",
       "      <td>150000</td>\n",
       "      <td>0</td>\n",
       "      <td>petrol</td>\n",
       "      <td>volkswagen</td>\n",
       "      <td>NaN</td>\n",
       "      <td>2016-03-24 00:00:00</td>\n",
       "      <td>0</td>\n",
       "      <td>70435</td>\n",
       "      <td>2016-04-07 03:16:57</td>\n",
       "    </tr>\n",
       "    <tr>\n",
       "      <th>1</th>\n",
       "      <td>2016-03-24 10:58:45</td>\n",
       "      <td>18300</td>\n",
       "      <td>coupe</td>\n",
       "      <td>2011</td>\n",
       "      <td>manual</td>\n",
       "      <td>190</td>\n",
       "      <td>NaN</td>\n",
       "      <td>125000</td>\n",
       "      <td>5</td>\n",
       "      <td>gasoline</td>\n",
       "      <td>audi</td>\n",
       "      <td>yes</td>\n",
       "      <td>2016-03-24 00:00:00</td>\n",
       "      <td>0</td>\n",
       "      <td>66954</td>\n",
       "      <td>2016-04-07 01:46:50</td>\n",
       "    </tr>\n",
       "    <tr>\n",
       "      <th>2</th>\n",
       "      <td>2016-03-14 12:52:21</td>\n",
       "      <td>9800</td>\n",
       "      <td>suv</td>\n",
       "      <td>2004</td>\n",
       "      <td>auto</td>\n",
       "      <td>163</td>\n",
       "      <td>grand</td>\n",
       "      <td>125000</td>\n",
       "      <td>8</td>\n",
       "      <td>gasoline</td>\n",
       "      <td>jeep</td>\n",
       "      <td>NaN</td>\n",
       "      <td>2016-03-14 00:00:00</td>\n",
       "      <td>0</td>\n",
       "      <td>90480</td>\n",
       "      <td>2016-04-05 12:47:46</td>\n",
       "    </tr>\n",
       "    <tr>\n",
       "      <th>3</th>\n",
       "      <td>2016-03-17 16:54:04</td>\n",
       "      <td>1500</td>\n",
       "      <td>small</td>\n",
       "      <td>2001</td>\n",
       "      <td>manual</td>\n",
       "      <td>75</td>\n",
       "      <td>golf</td>\n",
       "      <td>150000</td>\n",
       "      <td>6</td>\n",
       "      <td>petrol</td>\n",
       "      <td>volkswagen</td>\n",
       "      <td>no</td>\n",
       "      <td>2016-03-17 00:00:00</td>\n",
       "      <td>0</td>\n",
       "      <td>91074</td>\n",
       "      <td>2016-03-17 17:40:17</td>\n",
       "    </tr>\n",
       "    <tr>\n",
       "      <th>4</th>\n",
       "      <td>2016-03-31 17:25:20</td>\n",
       "      <td>3600</td>\n",
       "      <td>small</td>\n",
       "      <td>2008</td>\n",
       "      <td>manual</td>\n",
       "      <td>69</td>\n",
       "      <td>fabia</td>\n",
       "      <td>90000</td>\n",
       "      <td>7</td>\n",
       "      <td>gasoline</td>\n",
       "      <td>skoda</td>\n",
       "      <td>no</td>\n",
       "      <td>2016-03-31 00:00:00</td>\n",
       "      <td>0</td>\n",
       "      <td>60437</td>\n",
       "      <td>2016-04-06 10:17:21</td>\n",
       "    </tr>\n",
       "    <tr>\n",
       "      <th>...</th>\n",
       "      <td>...</td>\n",
       "      <td>...</td>\n",
       "      <td>...</td>\n",
       "      <td>...</td>\n",
       "      <td>...</td>\n",
       "      <td>...</td>\n",
       "      <td>...</td>\n",
       "      <td>...</td>\n",
       "      <td>...</td>\n",
       "      <td>...</td>\n",
       "      <td>...</td>\n",
       "      <td>...</td>\n",
       "      <td>...</td>\n",
       "      <td>...</td>\n",
       "      <td>...</td>\n",
       "      <td>...</td>\n",
       "    </tr>\n",
       "    <tr>\n",
       "      <th>354364</th>\n",
       "      <td>2016-03-21 09:50:58</td>\n",
       "      <td>0</td>\n",
       "      <td>NaN</td>\n",
       "      <td>2005</td>\n",
       "      <td>manual</td>\n",
       "      <td>0</td>\n",
       "      <td>colt</td>\n",
       "      <td>150000</td>\n",
       "      <td>7</td>\n",
       "      <td>petrol</td>\n",
       "      <td>mitsubishi</td>\n",
       "      <td>yes</td>\n",
       "      <td>2016-03-21 00:00:00</td>\n",
       "      <td>0</td>\n",
       "      <td>2694</td>\n",
       "      <td>2016-03-21 10:42:49</td>\n",
       "    </tr>\n",
       "    <tr>\n",
       "      <th>354365</th>\n",
       "      <td>2016-03-14 17:48:27</td>\n",
       "      <td>2200</td>\n",
       "      <td>NaN</td>\n",
       "      <td>2005</td>\n",
       "      <td>NaN</td>\n",
       "      <td>0</td>\n",
       "      <td>NaN</td>\n",
       "      <td>20000</td>\n",
       "      <td>1</td>\n",
       "      <td>NaN</td>\n",
       "      <td>sonstige_autos</td>\n",
       "      <td>NaN</td>\n",
       "      <td>2016-03-14 00:00:00</td>\n",
       "      <td>0</td>\n",
       "      <td>39576</td>\n",
       "      <td>2016-04-06 00:46:52</td>\n",
       "    </tr>\n",
       "    <tr>\n",
       "      <th>354366</th>\n",
       "      <td>2016-03-05 19:56:21</td>\n",
       "      <td>1199</td>\n",
       "      <td>convertible</td>\n",
       "      <td>2000</td>\n",
       "      <td>auto</td>\n",
       "      <td>101</td>\n",
       "      <td>fortwo</td>\n",
       "      <td>125000</td>\n",
       "      <td>3</td>\n",
       "      <td>petrol</td>\n",
       "      <td>smart</td>\n",
       "      <td>no</td>\n",
       "      <td>2016-03-05 00:00:00</td>\n",
       "      <td>0</td>\n",
       "      <td>26135</td>\n",
       "      <td>2016-03-11 18:17:12</td>\n",
       "    </tr>\n",
       "    <tr>\n",
       "      <th>354367</th>\n",
       "      <td>2016-03-19 18:57:12</td>\n",
       "      <td>9200</td>\n",
       "      <td>bus</td>\n",
       "      <td>1996</td>\n",
       "      <td>manual</td>\n",
       "      <td>102</td>\n",
       "      <td>transporter</td>\n",
       "      <td>150000</td>\n",
       "      <td>3</td>\n",
       "      <td>gasoline</td>\n",
       "      <td>volkswagen</td>\n",
       "      <td>no</td>\n",
       "      <td>2016-03-19 00:00:00</td>\n",
       "      <td>0</td>\n",
       "      <td>87439</td>\n",
       "      <td>2016-04-07 07:15:26</td>\n",
       "    </tr>\n",
       "    <tr>\n",
       "      <th>354368</th>\n",
       "      <td>2016-03-20 19:41:08</td>\n",
       "      <td>3400</td>\n",
       "      <td>wagon</td>\n",
       "      <td>2002</td>\n",
       "      <td>manual</td>\n",
       "      <td>100</td>\n",
       "      <td>golf</td>\n",
       "      <td>150000</td>\n",
       "      <td>6</td>\n",
       "      <td>gasoline</td>\n",
       "      <td>volkswagen</td>\n",
       "      <td>NaN</td>\n",
       "      <td>2016-03-20 00:00:00</td>\n",
       "      <td>0</td>\n",
       "      <td>40764</td>\n",
       "      <td>2016-03-24 12:45:21</td>\n",
       "    </tr>\n",
       "  </tbody>\n",
       "</table>\n",
       "<p>354369 rows × 16 columns</p>\n",
       "</div>"
      ],
      "text/plain": [
       "                DateCrawled  Price  VehicleType  RegistrationYear Gearbox  \\\n",
       "0       2016-03-24 11:52:17    480          NaN              1993  manual   \n",
       "1       2016-03-24 10:58:45  18300        coupe              2011  manual   \n",
       "2       2016-03-14 12:52:21   9800          suv              2004    auto   \n",
       "3       2016-03-17 16:54:04   1500        small              2001  manual   \n",
       "4       2016-03-31 17:25:20   3600        small              2008  manual   \n",
       "...                     ...    ...          ...               ...     ...   \n",
       "354364  2016-03-21 09:50:58      0          NaN              2005  manual   \n",
       "354365  2016-03-14 17:48:27   2200          NaN              2005     NaN   \n",
       "354366  2016-03-05 19:56:21   1199  convertible              2000    auto   \n",
       "354367  2016-03-19 18:57:12   9200          bus              1996  manual   \n",
       "354368  2016-03-20 19:41:08   3400        wagon              2002  manual   \n",
       "\n",
       "        Power        Model  Kilometer  RegistrationMonth  FuelType  \\\n",
       "0           0         golf     150000                  0    petrol   \n",
       "1         190          NaN     125000                  5  gasoline   \n",
       "2         163        grand     125000                  8  gasoline   \n",
       "3          75         golf     150000                  6    petrol   \n",
       "4          69        fabia      90000                  7  gasoline   \n",
       "...       ...          ...        ...                ...       ...   \n",
       "354364      0         colt     150000                  7    petrol   \n",
       "354365      0          NaN      20000                  1       NaN   \n",
       "354366    101       fortwo     125000                  3    petrol   \n",
       "354367    102  transporter     150000                  3  gasoline   \n",
       "354368    100         golf     150000                  6  gasoline   \n",
       "\n",
       "                 Brand NotRepaired          DateCreated  NumberOfPictures  \\\n",
       "0           volkswagen         NaN  2016-03-24 00:00:00                 0   \n",
       "1                 audi         yes  2016-03-24 00:00:00                 0   \n",
       "2                 jeep         NaN  2016-03-14 00:00:00                 0   \n",
       "3           volkswagen          no  2016-03-17 00:00:00                 0   \n",
       "4                skoda          no  2016-03-31 00:00:00                 0   \n",
       "...                ...         ...                  ...               ...   \n",
       "354364      mitsubishi         yes  2016-03-21 00:00:00                 0   \n",
       "354365  sonstige_autos         NaN  2016-03-14 00:00:00                 0   \n",
       "354366           smart          no  2016-03-05 00:00:00                 0   \n",
       "354367      volkswagen          no  2016-03-19 00:00:00                 0   \n",
       "354368      volkswagen         NaN  2016-03-20 00:00:00                 0   \n",
       "\n",
       "        PostalCode             LastSeen  \n",
       "0            70435  2016-04-07 03:16:57  \n",
       "1            66954  2016-04-07 01:46:50  \n",
       "2            90480  2016-04-05 12:47:46  \n",
       "3            91074  2016-03-17 17:40:17  \n",
       "4            60437  2016-04-06 10:17:21  \n",
       "...            ...                  ...  \n",
       "354364        2694  2016-03-21 10:42:49  \n",
       "354365       39576  2016-04-06 00:46:52  \n",
       "354366       26135  2016-03-11 18:17:12  \n",
       "354367       87439  2016-04-07 07:15:26  \n",
       "354368       40764  2016-03-24 12:45:21  \n",
       "\n",
       "[354369 rows x 16 columns]"
      ]
     },
     "metadata": {},
     "output_type": "display_data"
    }
   ],
   "source": [
    "try:\n",
    "    data_full  = pd.read_csv(web_dir_path + file_name)\n",
    "except FileNotFoundError:\n",
    "    data_full = pd.read_csv(local_path + file_name)\n",
    "else:\n",
    "    print(f'Общая информация о данных датасета ', file_name, ':', '\\n', sep='')\n",
    "    data_full.info()\n",
    "    print(f'\\nОбзор данных датасета ', file_name, ':', sep='')\n",
    "    display(data_full)"
   ]
  },
  {
   "cell_type": "raw",
   "metadata": {},
   "source": [
    "Привидём данные колонок дат к правильному типу, чтобы посмотреть минимальные и максимальные значения. Посмотрим минимальные и максимальные значения. Отбросим не имеющие значения для исследования данные в столбцах 'DateCrawled', 'DateCreated', 'PostalCode', 'NumberOfPictures', 'LastSeen', 'RegistrationMonth'."
   ]
  },
  {
   "cell_type": "code",
   "execution_count": 5,
   "metadata": {
    "scrolled": false
   },
   "outputs": [
    {
     "name": "stdout",
     "output_type": "stream",
     "text": [
      "Минимальные значения в данных датасета:\n"
     ]
    },
    {
     "data": {
      "text/plain": [
       "DateCrawled          2016-03-05 14:06:22\n",
       "Price                                  0\n",
       "RegistrationYear                    1000\n",
       "Power                                  0\n",
       "Kilometer                           5000\n",
       "RegistrationMonth                      0\n",
       "Brand                         alfa_romeo\n",
       "DateCreated          2014-03-10 00:00:00\n",
       "NumberOfPictures                       0\n",
       "PostalCode                          1067\n",
       "LastSeen             2016-03-05 14:15:08\n",
       "dtype: object"
      ]
     },
     "metadata": {},
     "output_type": "display_data"
    },
    {
     "name": "stdout",
     "output_type": "stream",
     "text": [
      "Максимальные значения в данных датасета:\n"
     ]
    },
    {
     "data": {
      "text/plain": [
       "DateCrawled          2016-04-07 14:36:58\n",
       "Price                              20000\n",
       "RegistrationYear                    9999\n",
       "Power                              20000\n",
       "Kilometer                         150000\n",
       "RegistrationMonth                     12\n",
       "Brand                              volvo\n",
       "DateCreated          2016-04-07 00:00:00\n",
       "NumberOfPictures                       0\n",
       "PostalCode                         99998\n",
       "LastSeen             2016-04-07 14:58:51\n",
       "dtype: object"
      ]
     },
     "metadata": {},
     "output_type": "display_data"
    },
    {
     "data": {
      "text/html": [
       "<div>\n",
       "<style scoped>\n",
       "    .dataframe tbody tr th:only-of-type {\n",
       "        vertical-align: middle;\n",
       "    }\n",
       "\n",
       "    .dataframe tbody tr th {\n",
       "        vertical-align: top;\n",
       "    }\n",
       "\n",
       "    .dataframe thead th {\n",
       "        text-align: right;\n",
       "    }\n",
       "</style>\n",
       "<table border=\"1\" class=\"dataframe\">\n",
       "  <thead>\n",
       "    <tr style=\"text-align: right;\">\n",
       "      <th></th>\n",
       "      <th>Price</th>\n",
       "      <th>VehicleType</th>\n",
       "      <th>RegistrationYear</th>\n",
       "      <th>Gearbox</th>\n",
       "      <th>Power</th>\n",
       "      <th>Model</th>\n",
       "      <th>Kilometer</th>\n",
       "      <th>FuelType</th>\n",
       "      <th>Brand</th>\n",
       "      <th>NotRepaired</th>\n",
       "    </tr>\n",
       "  </thead>\n",
       "  <tbody>\n",
       "    <tr>\n",
       "      <th>0</th>\n",
       "      <td>480</td>\n",
       "      <td>NaN</td>\n",
       "      <td>1993</td>\n",
       "      <td>manual</td>\n",
       "      <td>0</td>\n",
       "      <td>golf</td>\n",
       "      <td>150000</td>\n",
       "      <td>petrol</td>\n",
       "      <td>volkswagen</td>\n",
       "      <td>NaN</td>\n",
       "    </tr>\n",
       "    <tr>\n",
       "      <th>1</th>\n",
       "      <td>18300</td>\n",
       "      <td>coupe</td>\n",
       "      <td>2011</td>\n",
       "      <td>manual</td>\n",
       "      <td>190</td>\n",
       "      <td>NaN</td>\n",
       "      <td>125000</td>\n",
       "      <td>gasoline</td>\n",
       "      <td>audi</td>\n",
       "      <td>yes</td>\n",
       "    </tr>\n",
       "    <tr>\n",
       "      <th>2</th>\n",
       "      <td>9800</td>\n",
       "      <td>suv</td>\n",
       "      <td>2004</td>\n",
       "      <td>auto</td>\n",
       "      <td>163</td>\n",
       "      <td>grand</td>\n",
       "      <td>125000</td>\n",
       "      <td>gasoline</td>\n",
       "      <td>jeep</td>\n",
       "      <td>NaN</td>\n",
       "    </tr>\n",
       "    <tr>\n",
       "      <th>3</th>\n",
       "      <td>1500</td>\n",
       "      <td>small</td>\n",
       "      <td>2001</td>\n",
       "      <td>manual</td>\n",
       "      <td>75</td>\n",
       "      <td>golf</td>\n",
       "      <td>150000</td>\n",
       "      <td>petrol</td>\n",
       "      <td>volkswagen</td>\n",
       "      <td>no</td>\n",
       "    </tr>\n",
       "    <tr>\n",
       "      <th>4</th>\n",
       "      <td>3600</td>\n",
       "      <td>small</td>\n",
       "      <td>2008</td>\n",
       "      <td>manual</td>\n",
       "      <td>69</td>\n",
       "      <td>fabia</td>\n",
       "      <td>90000</td>\n",
       "      <td>gasoline</td>\n",
       "      <td>skoda</td>\n",
       "      <td>no</td>\n",
       "    </tr>\n",
       "    <tr>\n",
       "      <th>...</th>\n",
       "      <td>...</td>\n",
       "      <td>...</td>\n",
       "      <td>...</td>\n",
       "      <td>...</td>\n",
       "      <td>...</td>\n",
       "      <td>...</td>\n",
       "      <td>...</td>\n",
       "      <td>...</td>\n",
       "      <td>...</td>\n",
       "      <td>...</td>\n",
       "    </tr>\n",
       "    <tr>\n",
       "      <th>354364</th>\n",
       "      <td>0</td>\n",
       "      <td>NaN</td>\n",
       "      <td>2005</td>\n",
       "      <td>manual</td>\n",
       "      <td>0</td>\n",
       "      <td>colt</td>\n",
       "      <td>150000</td>\n",
       "      <td>petrol</td>\n",
       "      <td>mitsubishi</td>\n",
       "      <td>yes</td>\n",
       "    </tr>\n",
       "    <tr>\n",
       "      <th>354365</th>\n",
       "      <td>2200</td>\n",
       "      <td>NaN</td>\n",
       "      <td>2005</td>\n",
       "      <td>NaN</td>\n",
       "      <td>0</td>\n",
       "      <td>NaN</td>\n",
       "      <td>20000</td>\n",
       "      <td>NaN</td>\n",
       "      <td>sonstige_autos</td>\n",
       "      <td>NaN</td>\n",
       "    </tr>\n",
       "    <tr>\n",
       "      <th>354366</th>\n",
       "      <td>1199</td>\n",
       "      <td>convertible</td>\n",
       "      <td>2000</td>\n",
       "      <td>auto</td>\n",
       "      <td>101</td>\n",
       "      <td>fortwo</td>\n",
       "      <td>125000</td>\n",
       "      <td>petrol</td>\n",
       "      <td>smart</td>\n",
       "      <td>no</td>\n",
       "    </tr>\n",
       "    <tr>\n",
       "      <th>354367</th>\n",
       "      <td>9200</td>\n",
       "      <td>bus</td>\n",
       "      <td>1996</td>\n",
       "      <td>manual</td>\n",
       "      <td>102</td>\n",
       "      <td>transporter</td>\n",
       "      <td>150000</td>\n",
       "      <td>gasoline</td>\n",
       "      <td>volkswagen</td>\n",
       "      <td>no</td>\n",
       "    </tr>\n",
       "    <tr>\n",
       "      <th>354368</th>\n",
       "      <td>3400</td>\n",
       "      <td>wagon</td>\n",
       "      <td>2002</td>\n",
       "      <td>manual</td>\n",
       "      <td>100</td>\n",
       "      <td>golf</td>\n",
       "      <td>150000</td>\n",
       "      <td>gasoline</td>\n",
       "      <td>volkswagen</td>\n",
       "      <td>NaN</td>\n",
       "    </tr>\n",
       "  </tbody>\n",
       "</table>\n",
       "<p>354369 rows × 10 columns</p>\n",
       "</div>"
      ],
      "text/plain": [
       "        Price  VehicleType  RegistrationYear Gearbox  Power        Model  \\\n",
       "0         480          NaN              1993  manual      0         golf   \n",
       "1       18300        coupe              2011  manual    190          NaN   \n",
       "2        9800          suv              2004    auto    163        grand   \n",
       "3        1500        small              2001  manual     75         golf   \n",
       "4        3600        small              2008  manual     69        fabia   \n",
       "...       ...          ...               ...     ...    ...          ...   \n",
       "354364      0          NaN              2005  manual      0         colt   \n",
       "354365   2200          NaN              2005     NaN      0          NaN   \n",
       "354366   1199  convertible              2000    auto    101       fortwo   \n",
       "354367   9200          bus              1996  manual    102  transporter   \n",
       "354368   3400        wagon              2002  manual    100         golf   \n",
       "\n",
       "        Kilometer  FuelType           Brand NotRepaired  \n",
       "0          150000    petrol      volkswagen         NaN  \n",
       "1          125000  gasoline            audi         yes  \n",
       "2          125000  gasoline            jeep         NaN  \n",
       "3          150000    petrol      volkswagen          no  \n",
       "4           90000  gasoline           skoda          no  \n",
       "...           ...       ...             ...         ...  \n",
       "354364     150000    petrol      mitsubishi         yes  \n",
       "354365      20000       NaN  sonstige_autos         NaN  \n",
       "354366     125000    petrol           smart          no  \n",
       "354367     150000  gasoline      volkswagen          no  \n",
       "354368     150000  gasoline      volkswagen         NaN  \n",
       "\n",
       "[354369 rows x 10 columns]"
      ]
     },
     "metadata": {},
     "output_type": "display_data"
    }
   ],
   "source": [
    "data_full['DateCrawled'] = pd.to_datetime(data_full['DateCrawled'])\n",
    "data_full['DateCreated'] = pd.to_datetime(data_full['DateCreated'])\n",
    "data_full['LastSeen'] = pd.to_datetime(data_full['LastSeen'])\n",
    "print(f'Минимальные значения в данных датасета:')\n",
    "display(data_full.min())\n",
    "print(f'Максимальные значения в данных датасета:')\n",
    "display(data_full.max())\n",
    "data = data_full.drop(['DateCrawled', 'DateCreated', 'PostalCode', 'NumberOfPictures', 'LastSeen', 'RegistrationMonth'], axis=1)\n",
    "display(data)"
   ]
  },
  {
   "cell_type": "markdown",
   "metadata": {},
   "source": []
  },
  {
   "cell_type": "markdown",
   "metadata": {},
   "source": [
    "Заполним пропуски в NotRepaired значением 'yes', т.к. пропуск здесь означает отсутствие сведений о ремонте ТС, что равносильно значению 'yes' других записей этого столбца. Пропуски в других столбцах заполняем 'other', т.к. аналогичная категория уже содержится в датасете и она также означает не соотвествие имеющимся категориям. Удаляем полные дубликаты, так как их наличие не оказывает положительного влияния на качество результатов моделей."
   ]
  },
  {
   "cell_type": "code",
   "execution_count": 6,
   "metadata": {},
   "outputs": [
    {
     "name": "stdout",
     "output_type": "stream",
     "text": [
      "Колонки с пропущенными значениями в данных датасета:\n"
     ]
    },
    {
     "data": {
      "text/plain": [
       "Price                   0\n",
       "VehicleType         37490\n",
       "RegistrationYear        0\n",
       "Gearbox             19833\n",
       "Power                   0\n",
       "Model               19705\n",
       "Kilometer               0\n",
       "FuelType            32895\n",
       "Brand                   0\n",
       "NotRepaired         71154\n",
       "dtype: int64"
      ]
     },
     "metadata": {},
     "output_type": "display_data"
    },
    {
     "name": "stdout",
     "output_type": "stream",
     "text": [
      "Количество дубликатов в данных датасета:\n",
      "46915  -  13.24 %\n",
      "\n",
      "Доля удалённых из датасета данных:\n",
      "45.77 %\n",
      "\n",
      "Доля удалённых из датасета строк:\n",
      "13.24 %\n",
      "\n"
     ]
    },
    {
     "data": {
      "text/html": [
       "<div>\n",
       "<style scoped>\n",
       "    .dataframe tbody tr th:only-of-type {\n",
       "        vertical-align: middle;\n",
       "    }\n",
       "\n",
       "    .dataframe tbody tr th {\n",
       "        vertical-align: top;\n",
       "    }\n",
       "\n",
       "    .dataframe thead th {\n",
       "        text-align: right;\n",
       "    }\n",
       "</style>\n",
       "<table border=\"1\" class=\"dataframe\">\n",
       "  <thead>\n",
       "    <tr style=\"text-align: right;\">\n",
       "      <th></th>\n",
       "      <th>Price</th>\n",
       "      <th>VehicleType</th>\n",
       "      <th>RegistrationYear</th>\n",
       "      <th>Gearbox</th>\n",
       "      <th>Power</th>\n",
       "      <th>Model</th>\n",
       "      <th>Kilometer</th>\n",
       "      <th>FuelType</th>\n",
       "      <th>Brand</th>\n",
       "      <th>NotRepaired</th>\n",
       "    </tr>\n",
       "  </thead>\n",
       "  <tbody>\n",
       "    <tr>\n",
       "      <th>0</th>\n",
       "      <td>480</td>\n",
       "      <td>other</td>\n",
       "      <td>1993</td>\n",
       "      <td>manual</td>\n",
       "      <td>0</td>\n",
       "      <td>golf</td>\n",
       "      <td>150000</td>\n",
       "      <td>petrol</td>\n",
       "      <td>volkswagen</td>\n",
       "      <td>yes</td>\n",
       "    </tr>\n",
       "    <tr>\n",
       "      <th>1</th>\n",
       "      <td>18300</td>\n",
       "      <td>coupe</td>\n",
       "      <td>2011</td>\n",
       "      <td>manual</td>\n",
       "      <td>190</td>\n",
       "      <td>other</td>\n",
       "      <td>125000</td>\n",
       "      <td>gasoline</td>\n",
       "      <td>audi</td>\n",
       "      <td>yes</td>\n",
       "    </tr>\n",
       "    <tr>\n",
       "      <th>2</th>\n",
       "      <td>9800</td>\n",
       "      <td>suv</td>\n",
       "      <td>2004</td>\n",
       "      <td>auto</td>\n",
       "      <td>163</td>\n",
       "      <td>grand</td>\n",
       "      <td>125000</td>\n",
       "      <td>gasoline</td>\n",
       "      <td>jeep</td>\n",
       "      <td>yes</td>\n",
       "    </tr>\n",
       "    <tr>\n",
       "      <th>3</th>\n",
       "      <td>1500</td>\n",
       "      <td>small</td>\n",
       "      <td>2001</td>\n",
       "      <td>manual</td>\n",
       "      <td>75</td>\n",
       "      <td>golf</td>\n",
       "      <td>150000</td>\n",
       "      <td>petrol</td>\n",
       "      <td>volkswagen</td>\n",
       "      <td>no</td>\n",
       "    </tr>\n",
       "    <tr>\n",
       "      <th>4</th>\n",
       "      <td>3600</td>\n",
       "      <td>small</td>\n",
       "      <td>2008</td>\n",
       "      <td>manual</td>\n",
       "      <td>69</td>\n",
       "      <td>fabia</td>\n",
       "      <td>90000</td>\n",
       "      <td>gasoline</td>\n",
       "      <td>skoda</td>\n",
       "      <td>no</td>\n",
       "    </tr>\n",
       "    <tr>\n",
       "      <th>...</th>\n",
       "      <td>...</td>\n",
       "      <td>...</td>\n",
       "      <td>...</td>\n",
       "      <td>...</td>\n",
       "      <td>...</td>\n",
       "      <td>...</td>\n",
       "      <td>...</td>\n",
       "      <td>...</td>\n",
       "      <td>...</td>\n",
       "      <td>...</td>\n",
       "    </tr>\n",
       "    <tr>\n",
       "      <th>354364</th>\n",
       "      <td>0</td>\n",
       "      <td>other</td>\n",
       "      <td>2005</td>\n",
       "      <td>manual</td>\n",
       "      <td>0</td>\n",
       "      <td>colt</td>\n",
       "      <td>150000</td>\n",
       "      <td>petrol</td>\n",
       "      <td>mitsubishi</td>\n",
       "      <td>yes</td>\n",
       "    </tr>\n",
       "    <tr>\n",
       "      <th>354365</th>\n",
       "      <td>2200</td>\n",
       "      <td>other</td>\n",
       "      <td>2005</td>\n",
       "      <td>other</td>\n",
       "      <td>0</td>\n",
       "      <td>other</td>\n",
       "      <td>20000</td>\n",
       "      <td>other</td>\n",
       "      <td>sonstige_autos</td>\n",
       "      <td>yes</td>\n",
       "    </tr>\n",
       "    <tr>\n",
       "      <th>354366</th>\n",
       "      <td>1199</td>\n",
       "      <td>convertible</td>\n",
       "      <td>2000</td>\n",
       "      <td>auto</td>\n",
       "      <td>101</td>\n",
       "      <td>fortwo</td>\n",
       "      <td>125000</td>\n",
       "      <td>petrol</td>\n",
       "      <td>smart</td>\n",
       "      <td>no</td>\n",
       "    </tr>\n",
       "    <tr>\n",
       "      <th>354367</th>\n",
       "      <td>9200</td>\n",
       "      <td>bus</td>\n",
       "      <td>1996</td>\n",
       "      <td>manual</td>\n",
       "      <td>102</td>\n",
       "      <td>transporter</td>\n",
       "      <td>150000</td>\n",
       "      <td>gasoline</td>\n",
       "      <td>volkswagen</td>\n",
       "      <td>no</td>\n",
       "    </tr>\n",
       "    <tr>\n",
       "      <th>354368</th>\n",
       "      <td>3400</td>\n",
       "      <td>wagon</td>\n",
       "      <td>2002</td>\n",
       "      <td>manual</td>\n",
       "      <td>100</td>\n",
       "      <td>golf</td>\n",
       "      <td>150000</td>\n",
       "      <td>gasoline</td>\n",
       "      <td>volkswagen</td>\n",
       "      <td>yes</td>\n",
       "    </tr>\n",
       "  </tbody>\n",
       "</table>\n",
       "<p>307454 rows × 10 columns</p>\n",
       "</div>"
      ],
      "text/plain": [
       "        Price  VehicleType  RegistrationYear Gearbox  Power        Model  \\\n",
       "0         480        other              1993  manual      0         golf   \n",
       "1       18300        coupe              2011  manual    190        other   \n",
       "2        9800          suv              2004    auto    163        grand   \n",
       "3        1500        small              2001  manual     75         golf   \n",
       "4        3600        small              2008  manual     69        fabia   \n",
       "...       ...          ...               ...     ...    ...          ...   \n",
       "354364      0        other              2005  manual      0         colt   \n",
       "354365   2200        other              2005   other      0        other   \n",
       "354366   1199  convertible              2000    auto    101       fortwo   \n",
       "354367   9200          bus              1996  manual    102  transporter   \n",
       "354368   3400        wagon              2002  manual    100         golf   \n",
       "\n",
       "        Kilometer  FuelType           Brand NotRepaired  \n",
       "0          150000    petrol      volkswagen         yes  \n",
       "1          125000  gasoline            audi         yes  \n",
       "2          125000  gasoline            jeep         yes  \n",
       "3          150000    petrol      volkswagen          no  \n",
       "4           90000  gasoline           skoda          no  \n",
       "...           ...       ...             ...         ...  \n",
       "354364     150000    petrol      mitsubishi         yes  \n",
       "354365      20000     other  sonstige_autos         yes  \n",
       "354366     125000    petrol           smart          no  \n",
       "354367     150000  gasoline      volkswagen          no  \n",
       "354368     150000  gasoline      volkswagen         yes  \n",
       "\n",
       "[307454 rows x 10 columns]"
      ]
     },
     "metadata": {},
     "output_type": "display_data"
    }
   ],
   "source": [
    "print(f'Колонки с пропущенными значениями в данных датасета:')\n",
    "display(data.isna().sum())\n",
    "data['NotRepaired'].fillna(value='yes', inplace=True)\n",
    "data.fillna(value='other', inplace=True)\n",
    "print(f'Количество дубликатов в данных датасета:')\n",
    "print(data.duplicated().sum(), ' - ', round(data.duplicated().sum()/len(data) * 100, 2), '%\\n')\n",
    "data = data.drop_duplicates()\n",
    "print(f'Доля удалённых из датасета данных:')\n",
    "print(round((1 - data.size/data_full.size) * 100, 2), '%\\n')\n",
    "print(f'Доля удалённых из датасета строк:')\n",
    "print(round((1 - data.shape[0]/data_full.shape[0]) * 100, 2), '%\\n')\n",
    "display(data)"
   ]
  },
  {
   "cell_type": "markdown",
   "metadata": {},
   "source": [
    "Посмотрим корреляцию данных."
   ]
  },
  {
   "cell_type": "code",
   "execution_count": 7,
   "metadata": {
    "scrolled": false
   },
   "outputs": [
    {
     "name": "stdout",
     "output_type": "stream",
     "text": [
      "\n",
      "Корреляция данных датасета:\n"
     ]
    },
    {
     "data": {
      "text/html": [
       "<div>\n",
       "<style scoped>\n",
       "    .dataframe tbody tr th:only-of-type {\n",
       "        vertical-align: middle;\n",
       "    }\n",
       "\n",
       "    .dataframe tbody tr th {\n",
       "        vertical-align: top;\n",
       "    }\n",
       "\n",
       "    .dataframe thead th {\n",
       "        text-align: right;\n",
       "    }\n",
       "</style>\n",
       "<table border=\"1\" class=\"dataframe\">\n",
       "  <thead>\n",
       "    <tr style=\"text-align: right;\">\n",
       "      <th></th>\n",
       "      <th>Price</th>\n",
       "      <th>RegistrationYear</th>\n",
       "      <th>Power</th>\n",
       "      <th>Kilometer</th>\n",
       "    </tr>\n",
       "  </thead>\n",
       "  <tbody>\n",
       "    <tr>\n",
       "      <th>Price</th>\n",
       "      <td>1.000000</td>\n",
       "      <td>0.025515</td>\n",
       "      <td>0.146914</td>\n",
       "      <td>-0.324512</td>\n",
       "    </tr>\n",
       "    <tr>\n",
       "      <th>RegistrationYear</th>\n",
       "      <td>0.025515</td>\n",
       "      <td>1.000000</td>\n",
       "      <td>-0.000951</td>\n",
       "      <td>-0.052473</td>\n",
       "    </tr>\n",
       "    <tr>\n",
       "      <th>Power</th>\n",
       "      <td>0.146914</td>\n",
       "      <td>-0.000951</td>\n",
       "      <td>1.000000</td>\n",
       "      <td>0.026911</td>\n",
       "    </tr>\n",
       "    <tr>\n",
       "      <th>Kilometer</th>\n",
       "      <td>-0.324512</td>\n",
       "      <td>-0.052473</td>\n",
       "      <td>0.026911</td>\n",
       "      <td>1.000000</td>\n",
       "    </tr>\n",
       "  </tbody>\n",
       "</table>\n",
       "</div>"
      ],
      "text/plain": [
       "                     Price  RegistrationYear     Power  Kilometer\n",
       "Price             1.000000          0.025515  0.146914  -0.324512\n",
       "RegistrationYear  0.025515          1.000000 -0.000951  -0.052473\n",
       "Power             0.146914         -0.000951  1.000000   0.026911\n",
       "Kilometer        -0.324512         -0.052473  0.026911   1.000000"
      ]
     },
     "metadata": {},
     "output_type": "display_data"
    },
    {
     "data": {
      "image/png": "[encoded data removed]",
      "text/plain": [
       "<Figure size 1152x648 with 2 Axes>"
      ]
     },
     "metadata": {},
     "output_type": "display_data"
    }
   ],
   "source": [
    "print(f'\\nКорреляция данных датасета:')\n",
    "display(data.corr())\n",
    "sns.set(rc = {'figure.figsize':(16,9)})\n",
    "ax = sns.heatmap(data.corr(), center=0, annot=True)"
   ]
  },
  {
   "cell_type": "markdown",
   "metadata": {},
   "source": [
    "Наибольшую корреляцию видим между данными Price и Power/RegistrationYear. Уберём строки с 0-ми значениями из столбцов Power и Price, RegistrationYear свыше 2016 года (максимальный год скачивания анкеты из базы данных) - эти данные, очевидно, являются ошибочными."
   ]
  },
  {
   "cell_type": "code",
   "execution_count": 8,
   "metadata": {
    "scrolled": false
   },
   "outputs": [],
   "source": [
    "data = data[(data['Price'] > 0) & (data['Power'] > 0) & (data['RegistrationYear'] < 2016)]"
   ]
  },
  {
   "cell_type": "markdown",
   "metadata": {},
   "source": [
    "Посмотрим распределение данных в столбцах Price и RegistrationYear."
   ]
  },
  {
   "cell_type": "code",
   "execution_count": 9,
   "metadata": {
    "scrolled": true
   },
   "outputs": [
    {
     "data": {
      "text/html": [
       "<div>\n",
       "<style scoped>\n",
       "    .dataframe tbody tr th:only-of-type {\n",
       "        vertical-align: middle;\n",
       "    }\n",
       "\n",
       "    .dataframe tbody tr th {\n",
       "        vertical-align: top;\n",
       "    }\n",
       "\n",
       "    .dataframe thead th {\n",
       "        text-align: right;\n",
       "    }\n",
       "</style>\n",
       "<table border=\"1\" class=\"dataframe\">\n",
       "  <thead>\n",
       "    <tr style=\"text-align: right;\">\n",
       "      <th></th>\n",
       "      <th>Power</th>\n",
       "      <th>RegistrationYear</th>\n",
       "    </tr>\n",
       "  </thead>\n",
       "  <tbody>\n",
       "    <tr>\n",
       "      <th>count</th>\n",
       "      <td>250421.000000</td>\n",
       "      <td>250421.000000</td>\n",
       "    </tr>\n",
       "    <tr>\n",
       "      <th>mean</th>\n",
       "      <td>126.189980</td>\n",
       "      <td>2002.527683</td>\n",
       "    </tr>\n",
       "    <tr>\n",
       "      <th>std</th>\n",
       "      <td>199.590096</td>\n",
       "      <td>8.487361</td>\n",
       "    </tr>\n",
       "    <tr>\n",
       "      <th>min</th>\n",
       "      <td>1.000000</td>\n",
       "      <td>1000.000000</td>\n",
       "    </tr>\n",
       "    <tr>\n",
       "      <th>25%</th>\n",
       "      <td>80.000000</td>\n",
       "      <td>1999.000000</td>\n",
       "    </tr>\n",
       "    <tr>\n",
       "      <th>50%</th>\n",
       "      <td>115.000000</td>\n",
       "      <td>2003.000000</td>\n",
       "    </tr>\n",
       "    <tr>\n",
       "      <th>75%</th>\n",
       "      <td>150.000000</td>\n",
       "      <td>2007.000000</td>\n",
       "    </tr>\n",
       "    <tr>\n",
       "      <th>max</th>\n",
       "      <td>20000.000000</td>\n",
       "      <td>2015.000000</td>\n",
       "    </tr>\n",
       "  </tbody>\n",
       "</table>\n",
       "</div>"
      ],
      "text/plain": [
       "               Power  RegistrationYear\n",
       "count  250421.000000     250421.000000\n",
       "mean      126.189980       2002.527683\n",
       "std       199.590096          8.487361\n",
       "min         1.000000       1000.000000\n",
       "25%        80.000000       1999.000000\n",
       "50%       115.000000       2003.000000\n",
       "75%       150.000000       2007.000000\n",
       "max     20000.000000       2015.000000"
      ]
     },
     "metadata": {},
     "output_type": "display_data"
    },
    {
     "data": {
      "text/plain": [
       "count      374.000000\n",
       "mean      2935.104278\n",
       "std       4107.295882\n",
       "min        504.000000\n",
       "25%        782.000000\n",
       "50%       1390.000000\n",
       "75%       2004.750000\n",
       "max      20000.000000\n",
       "Name: Power, dtype: float64"
      ]
     },
     "metadata": {},
     "output_type": "display_data"
    },
    {
     "data": {
      "text/html": [
       "<div>\n",
       "<style scoped>\n",
       "    .dataframe tbody tr th:only-of-type {\n",
       "        vertical-align: middle;\n",
       "    }\n",
       "\n",
       "    .dataframe tbody tr th {\n",
       "        vertical-align: top;\n",
       "    }\n",
       "\n",
       "    .dataframe thead th {\n",
       "        text-align: right;\n",
       "    }\n",
       "</style>\n",
       "<table border=\"1\" class=\"dataframe\">\n",
       "  <thead>\n",
       "    <tr style=\"text-align: right;\">\n",
       "      <th></th>\n",
       "      <th>Price</th>\n",
       "      <th>VehicleType</th>\n",
       "      <th>RegistrationYear</th>\n",
       "      <th>Gearbox</th>\n",
       "      <th>Power</th>\n",
       "      <th>Model</th>\n",
       "      <th>Kilometer</th>\n",
       "      <th>FuelType</th>\n",
       "      <th>Brand</th>\n",
       "      <th>NotRepaired</th>\n",
       "    </tr>\n",
       "  </thead>\n",
       "  <tbody>\n",
       "    <tr>\n",
       "      <th>1816</th>\n",
       "      <td>3200</td>\n",
       "      <td>small</td>\n",
       "      <td>2004</td>\n",
       "      <td>manual</td>\n",
       "      <td>1398</td>\n",
       "      <td>corolla</td>\n",
       "      <td>5000</td>\n",
       "      <td>petrol</td>\n",
       "      <td>toyota</td>\n",
       "      <td>no</td>\n",
       "    </tr>\n",
       "    <tr>\n",
       "      <th>4060</th>\n",
       "      <td>3100</td>\n",
       "      <td>sedan</td>\n",
       "      <td>2005</td>\n",
       "      <td>manual</td>\n",
       "      <td>953</td>\n",
       "      <td>colt</td>\n",
       "      <td>150000</td>\n",
       "      <td>gasoline</td>\n",
       "      <td>mitsubishi</td>\n",
       "      <td>no</td>\n",
       "    </tr>\n",
       "    <tr>\n",
       "      <th>5328</th>\n",
       "      <td>500</td>\n",
       "      <td>wagon</td>\n",
       "      <td>1999</td>\n",
       "      <td>manual</td>\n",
       "      <td>1001</td>\n",
       "      <td>astra</td>\n",
       "      <td>150000</td>\n",
       "      <td>petrol</td>\n",
       "      <td>opel</td>\n",
       "      <td>yes</td>\n",
       "    </tr>\n",
       "    <tr>\n",
       "      <th>6296</th>\n",
       "      <td>599</td>\n",
       "      <td>small</td>\n",
       "      <td>2002</td>\n",
       "      <td>manual</td>\n",
       "      <td>603</td>\n",
       "      <td>matiz</td>\n",
       "      <td>5000</td>\n",
       "      <td>petrol</td>\n",
       "      <td>chevrolet</td>\n",
       "      <td>yes</td>\n",
       "    </tr>\n",
       "    <tr>\n",
       "      <th>6504</th>\n",
       "      <td>3000</td>\n",
       "      <td>small</td>\n",
       "      <td>2009</td>\n",
       "      <td>manual</td>\n",
       "      <td>771</td>\n",
       "      <td>punto</td>\n",
       "      <td>125000</td>\n",
       "      <td>petrol</td>\n",
       "      <td>fiat</td>\n",
       "      <td>yes</td>\n",
       "    </tr>\n",
       "    <tr>\n",
       "      <th>...</th>\n",
       "      <td>...</td>\n",
       "      <td>...</td>\n",
       "      <td>...</td>\n",
       "      <td>...</td>\n",
       "      <td>...</td>\n",
       "      <td>...</td>\n",
       "      <td>...</td>\n",
       "      <td>...</td>\n",
       "      <td>...</td>\n",
       "      <td>...</td>\n",
       "    </tr>\n",
       "    <tr>\n",
       "      <th>348830</th>\n",
       "      <td>1</td>\n",
       "      <td>other</td>\n",
       "      <td>1000</td>\n",
       "      <td>other</td>\n",
       "      <td>1000</td>\n",
       "      <td>other</td>\n",
       "      <td>150000</td>\n",
       "      <td>other</td>\n",
       "      <td>sonstige_autos</td>\n",
       "      <td>yes</td>\n",
       "    </tr>\n",
       "    <tr>\n",
       "      <th>348883</th>\n",
       "      <td>7500</td>\n",
       "      <td>sedan</td>\n",
       "      <td>2011</td>\n",
       "      <td>manual</td>\n",
       "      <td>1548</td>\n",
       "      <td>scenic</td>\n",
       "      <td>90000</td>\n",
       "      <td>petrol</td>\n",
       "      <td>renault</td>\n",
       "      <td>yes</td>\n",
       "    </tr>\n",
       "    <tr>\n",
       "      <th>348968</th>\n",
       "      <td>250</td>\n",
       "      <td>small</td>\n",
       "      <td>1999</td>\n",
       "      <td>manual</td>\n",
       "      <td>1241</td>\n",
       "      <td>ypsilon</td>\n",
       "      <td>150000</td>\n",
       "      <td>petrol</td>\n",
       "      <td>lancia</td>\n",
       "      <td>yes</td>\n",
       "    </tr>\n",
       "    <tr>\n",
       "      <th>351947</th>\n",
       "      <td>1500</td>\n",
       "      <td>bus</td>\n",
       "      <td>2001</td>\n",
       "      <td>manual</td>\n",
       "      <td>1001</td>\n",
       "      <td>zafira</td>\n",
       "      <td>5000</td>\n",
       "      <td>gasoline</td>\n",
       "      <td>opel</td>\n",
       "      <td>no</td>\n",
       "    </tr>\n",
       "    <tr>\n",
       "      <th>353633</th>\n",
       "      <td>2400</td>\n",
       "      <td>sedan</td>\n",
       "      <td>2007</td>\n",
       "      <td>manual</td>\n",
       "      <td>650</td>\n",
       "      <td>c2</td>\n",
       "      <td>150000</td>\n",
       "      <td>petrol</td>\n",
       "      <td>citroen</td>\n",
       "      <td>yes</td>\n",
       "    </tr>\n",
       "  </tbody>\n",
       "</table>\n",
       "<p>374 rows × 10 columns</p>\n",
       "</div>"
      ],
      "text/plain": [
       "        Price VehicleType  RegistrationYear Gearbox  Power    Model  \\\n",
       "1816     3200       small              2004  manual   1398  corolla   \n",
       "4060     3100       sedan              2005  manual    953     colt   \n",
       "5328      500       wagon              1999  manual   1001    astra   \n",
       "6296      599       small              2002  manual    603    matiz   \n",
       "6504     3000       small              2009  manual    771    punto   \n",
       "...       ...         ...               ...     ...    ...      ...   \n",
       "348830      1       other              1000   other   1000    other   \n",
       "348883   7500       sedan              2011  manual   1548   scenic   \n",
       "348968    250       small              1999  manual   1241  ypsilon   \n",
       "351947   1500         bus              2001  manual   1001   zafira   \n",
       "353633   2400       sedan              2007  manual    650       c2   \n",
       "\n",
       "        Kilometer  FuelType           Brand NotRepaired  \n",
       "1816         5000    petrol          toyota          no  \n",
       "4060       150000  gasoline      mitsubishi          no  \n",
       "5328       150000    petrol            opel         yes  \n",
       "6296         5000    petrol       chevrolet         yes  \n",
       "6504       125000    petrol            fiat         yes  \n",
       "...           ...       ...             ...         ...  \n",
       "348830     150000     other  sonstige_autos         yes  \n",
       "348883      90000    petrol         renault         yes  \n",
       "348968     150000    petrol          lancia         yes  \n",
       "351947       5000  gasoline            opel          no  \n",
       "353633     150000    petrol         citroen         yes  \n",
       "\n",
       "[374 rows x 10 columns]"
      ]
     },
     "metadata": {},
     "output_type": "display_data"
    },
    {
     "data": {
      "text/plain": [
       "count      45.000000\n",
       "mean     1751.555556\n",
       "std       332.682729\n",
       "min      1000.000000\n",
       "25%      1800.000000\n",
       "50%      1927.000000\n",
       "75%      1935.000000\n",
       "max      1938.000000\n",
       "Name: RegistrationYear, dtype: float64"
      ]
     },
     "metadata": {},
     "output_type": "display_data"
    },
    {
     "data": {
      "text/html": [
       "<div>\n",
       "<style scoped>\n",
       "    .dataframe tbody tr th:only-of-type {\n",
       "        vertical-align: middle;\n",
       "    }\n",
       "\n",
       "    .dataframe tbody tr th {\n",
       "        vertical-align: top;\n",
       "    }\n",
       "\n",
       "    .dataframe thead th {\n",
       "        text-align: right;\n",
       "    }\n",
       "</style>\n",
       "<table border=\"1\" class=\"dataframe\">\n",
       "  <thead>\n",
       "    <tr style=\"text-align: right;\">\n",
       "      <th></th>\n",
       "      <th>Price</th>\n",
       "      <th>VehicleType</th>\n",
       "      <th>RegistrationYear</th>\n",
       "      <th>Gearbox</th>\n",
       "      <th>Power</th>\n",
       "      <th>Model</th>\n",
       "      <th>Kilometer</th>\n",
       "      <th>FuelType</th>\n",
       "      <th>Brand</th>\n",
       "      <th>NotRepaired</th>\n",
       "    </tr>\n",
       "  </thead>\n",
       "  <tbody>\n",
       "    <tr>\n",
       "      <th>18224</th>\n",
       "      <td>7999</td>\n",
       "      <td>other</td>\n",
       "      <td>1500</td>\n",
       "      <td>manual</td>\n",
       "      <td>224</td>\n",
       "      <td>impreza</td>\n",
       "      <td>5000</td>\n",
       "      <td>other</td>\n",
       "      <td>subaru</td>\n",
       "      <td>yes</td>\n",
       "    </tr>\n",
       "    <tr>\n",
       "      <th>22621</th>\n",
       "      <td>14000</td>\n",
       "      <td>sedan</td>\n",
       "      <td>1929</td>\n",
       "      <td>manual</td>\n",
       "      <td>30</td>\n",
       "      <td>other</td>\n",
       "      <td>5000</td>\n",
       "      <td>petrol</td>\n",
       "      <td>sonstige_autos</td>\n",
       "      <td>yes</td>\n",
       "    </tr>\n",
       "    <tr>\n",
       "      <th>23750</th>\n",
       "      <td>3900</td>\n",
       "      <td>wagon</td>\n",
       "      <td>1910</td>\n",
       "      <td>manual</td>\n",
       "      <td>90</td>\n",
       "      <td>passat</td>\n",
       "      <td>150000</td>\n",
       "      <td>petrol</td>\n",
       "      <td>volkswagen</td>\n",
       "      <td>yes</td>\n",
       "    </tr>\n",
       "    <tr>\n",
       "      <th>34055</th>\n",
       "      <td>2900</td>\n",
       "      <td>small</td>\n",
       "      <td>1937</td>\n",
       "      <td>manual</td>\n",
       "      <td>34</td>\n",
       "      <td>other</td>\n",
       "      <td>40000</td>\n",
       "      <td>petrol</td>\n",
       "      <td>ford</td>\n",
       "      <td>yes</td>\n",
       "    </tr>\n",
       "    <tr>\n",
       "      <th>34332</th>\n",
       "      <td>450</td>\n",
       "      <td>other</td>\n",
       "      <td>1800</td>\n",
       "      <td>other</td>\n",
       "      <td>1800</td>\n",
       "      <td>other</td>\n",
       "      <td>5000</td>\n",
       "      <td>other</td>\n",
       "      <td>mitsubishi</td>\n",
       "      <td>no</td>\n",
       "    </tr>\n",
       "    <tr>\n",
       "      <th>38875</th>\n",
       "      <td>1234</td>\n",
       "      <td>other</td>\n",
       "      <td>1234</td>\n",
       "      <td>other</td>\n",
       "      <td>26</td>\n",
       "      <td>other</td>\n",
       "      <td>5000</td>\n",
       "      <td>other</td>\n",
       "      <td>trabant</td>\n",
       "      <td>yes</td>\n",
       "    </tr>\n",
       "    <tr>\n",
       "      <th>56241</th>\n",
       "      <td>950</td>\n",
       "      <td>other</td>\n",
       "      <td>1400</td>\n",
       "      <td>manual</td>\n",
       "      <td>1400</td>\n",
       "      <td>golf</td>\n",
       "      <td>125000</td>\n",
       "      <td>petrol</td>\n",
       "      <td>volkswagen</td>\n",
       "      <td>yes</td>\n",
       "    </tr>\n",
       "    <tr>\n",
       "      <th>62803</th>\n",
       "      <td>3400</td>\n",
       "      <td>small</td>\n",
       "      <td>1910</td>\n",
       "      <td>manual</td>\n",
       "      <td>90</td>\n",
       "      <td>beetle</td>\n",
       "      <td>90000</td>\n",
       "      <td>other</td>\n",
       "      <td>volkswagen</td>\n",
       "      <td>no</td>\n",
       "    </tr>\n",
       "    <tr>\n",
       "      <th>68185</th>\n",
       "      <td>19900</td>\n",
       "      <td>convertible</td>\n",
       "      <td>1932</td>\n",
       "      <td>manual</td>\n",
       "      <td>18</td>\n",
       "      <td>other</td>\n",
       "      <td>5000</td>\n",
       "      <td>petrol</td>\n",
       "      <td>bmw</td>\n",
       "      <td>no</td>\n",
       "    </tr>\n",
       "    <tr>\n",
       "      <th>74814</th>\n",
       "      <td>400</td>\n",
       "      <td>other</td>\n",
       "      <td>1910</td>\n",
       "      <td>other</td>\n",
       "      <td>60</td>\n",
       "      <td>golf</td>\n",
       "      <td>150000</td>\n",
       "      <td>petrol</td>\n",
       "      <td>volkswagen</td>\n",
       "      <td>yes</td>\n",
       "    </tr>\n",
       "    <tr>\n",
       "      <th>76529</th>\n",
       "      <td>4800</td>\n",
       "      <td>sedan</td>\n",
       "      <td>1937</td>\n",
       "      <td>manual</td>\n",
       "      <td>38</td>\n",
       "      <td>other</td>\n",
       "      <td>5000</td>\n",
       "      <td>petrol</td>\n",
       "      <td>mercedes_benz</td>\n",
       "      <td>yes</td>\n",
       "    </tr>\n",
       "    <tr>\n",
       "      <th>98056</th>\n",
       "      <td>1</td>\n",
       "      <td>sedan</td>\n",
       "      <td>1910</td>\n",
       "      <td>manual</td>\n",
       "      <td>10</td>\n",
       "      <td>other</td>\n",
       "      <td>5000</td>\n",
       "      <td>gasoline</td>\n",
       "      <td>mercedes_benz</td>\n",
       "      <td>no</td>\n",
       "    </tr>\n",
       "    <tr>\n",
       "      <th>104836</th>\n",
       "      <td>4500</td>\n",
       "      <td>sedan</td>\n",
       "      <td>1935</td>\n",
       "      <td>manual</td>\n",
       "      <td>25</td>\n",
       "      <td>other</td>\n",
       "      <td>5000</td>\n",
       "      <td>petrol</td>\n",
       "      <td>sonstige_autos</td>\n",
       "      <td>no</td>\n",
       "    </tr>\n",
       "    <tr>\n",
       "      <th>117371</th>\n",
       "      <td>8750</td>\n",
       "      <td>convertible</td>\n",
       "      <td>1923</td>\n",
       "      <td>manual</td>\n",
       "      <td>11</td>\n",
       "      <td>c3</td>\n",
       "      <td>5000</td>\n",
       "      <td>petrol</td>\n",
       "      <td>citroen</td>\n",
       "      <td>no</td>\n",
       "    </tr>\n",
       "    <tr>\n",
       "      <th>119442</th>\n",
       "      <td>1</td>\n",
       "      <td>other</td>\n",
       "      <td>1000</td>\n",
       "      <td>other</td>\n",
       "      <td>1000</td>\n",
       "      <td>3er</td>\n",
       "      <td>5000</td>\n",
       "      <td>other</td>\n",
       "      <td>bmw</td>\n",
       "      <td>yes</td>\n",
       "    </tr>\n",
       "    <tr>\n",
       "      <th>122879</th>\n",
       "      <td>8000</td>\n",
       "      <td>other</td>\n",
       "      <td>1930</td>\n",
       "      <td>manual</td>\n",
       "      <td>23</td>\n",
       "      <td>other</td>\n",
       "      <td>150000</td>\n",
       "      <td>petrol</td>\n",
       "      <td>peugeot</td>\n",
       "      <td>yes</td>\n",
       "    </tr>\n",
       "    <tr>\n",
       "      <th>137324</th>\n",
       "      <td>11500</td>\n",
       "      <td>convertible</td>\n",
       "      <td>1929</td>\n",
       "      <td>manual</td>\n",
       "      <td>15</td>\n",
       "      <td>other</td>\n",
       "      <td>5000</td>\n",
       "      <td>other</td>\n",
       "      <td>bmw</td>\n",
       "      <td>yes</td>\n",
       "    </tr>\n",
       "    <tr>\n",
       "      <th>143621</th>\n",
       "      <td>550</td>\n",
       "      <td>other</td>\n",
       "      <td>1000</td>\n",
       "      <td>other</td>\n",
       "      <td>1000</td>\n",
       "      <td>golf</td>\n",
       "      <td>5000</td>\n",
       "      <td>petrol</td>\n",
       "      <td>volkswagen</td>\n",
       "      <td>yes</td>\n",
       "    </tr>\n",
       "    <tr>\n",
       "      <th>146207</th>\n",
       "      <td>12999</td>\n",
       "      <td>small</td>\n",
       "      <td>1938</td>\n",
       "      <td>manual</td>\n",
       "      <td>40</td>\n",
       "      <td>2_reihe</td>\n",
       "      <td>70000</td>\n",
       "      <td>petrol</td>\n",
       "      <td>peugeot</td>\n",
       "      <td>no</td>\n",
       "    </tr>\n",
       "    <tr>\n",
       "      <th>149465</th>\n",
       "      <td>10000</td>\n",
       "      <td>sedan</td>\n",
       "      <td>1938</td>\n",
       "      <td>manual</td>\n",
       "      <td>24</td>\n",
       "      <td>other</td>\n",
       "      <td>30000</td>\n",
       "      <td>petrol</td>\n",
       "      <td>sonstige_autos</td>\n",
       "      <td>yes</td>\n",
       "    </tr>\n",
       "    <tr>\n",
       "      <th>165188</th>\n",
       "      <td>16000</td>\n",
       "      <td>other</td>\n",
       "      <td>1935</td>\n",
       "      <td>manual</td>\n",
       "      <td>23</td>\n",
       "      <td>other</td>\n",
       "      <td>30000</td>\n",
       "      <td>petrol</td>\n",
       "      <td>opel</td>\n",
       "      <td>yes</td>\n",
       "    </tr>\n",
       "    <tr>\n",
       "      <th>174278</th>\n",
       "      <td>20000</td>\n",
       "      <td>sedan</td>\n",
       "      <td>1936</td>\n",
       "      <td>manual</td>\n",
       "      <td>23</td>\n",
       "      <td>other</td>\n",
       "      <td>30000</td>\n",
       "      <td>petrol</td>\n",
       "      <td>opel</td>\n",
       "      <td>yes</td>\n",
       "    </tr>\n",
       "    <tr>\n",
       "      <th>203230</th>\n",
       "      <td>400</td>\n",
       "      <td>other</td>\n",
       "      <td>1910</td>\n",
       "      <td>manual</td>\n",
       "      <td>170</td>\n",
       "      <td>3er</td>\n",
       "      <td>5000</td>\n",
       "      <td>other</td>\n",
       "      <td>bmw</td>\n",
       "      <td>yes</td>\n",
       "    </tr>\n",
       "    <tr>\n",
       "      <th>218241</th>\n",
       "      <td>7999</td>\n",
       "      <td>other</td>\n",
       "      <td>1800</td>\n",
       "      <td>other</td>\n",
       "      <td>290</td>\n",
       "      <td>golf</td>\n",
       "      <td>5000</td>\n",
       "      <td>other</td>\n",
       "      <td>volkswagen</td>\n",
       "      <td>yes</td>\n",
       "    </tr>\n",
       "    <tr>\n",
       "      <th>223945</th>\n",
       "      <td>1500</td>\n",
       "      <td>bus</td>\n",
       "      <td>1910</td>\n",
       "      <td>manual</td>\n",
       "      <td>999</td>\n",
       "      <td>espace</td>\n",
       "      <td>150000</td>\n",
       "      <td>other</td>\n",
       "      <td>renault</td>\n",
       "      <td>yes</td>\n",
       "    </tr>\n",
       "    <tr>\n",
       "      <th>229913</th>\n",
       "      <td>7500</td>\n",
       "      <td>small</td>\n",
       "      <td>1938</td>\n",
       "      <td>manual</td>\n",
       "      <td>18</td>\n",
       "      <td>other</td>\n",
       "      <td>5000</td>\n",
       "      <td>other</td>\n",
       "      <td>sonstige_autos</td>\n",
       "      <td>yes</td>\n",
       "    </tr>\n",
       "    <tr>\n",
       "      <th>230095</th>\n",
       "      <td>11500</td>\n",
       "      <td>convertible</td>\n",
       "      <td>1929</td>\n",
       "      <td>manual</td>\n",
       "      <td>15</td>\n",
       "      <td>other</td>\n",
       "      <td>5000</td>\n",
       "      <td>petrol</td>\n",
       "      <td>bmw</td>\n",
       "      <td>yes</td>\n",
       "    </tr>\n",
       "    <tr>\n",
       "      <th>235505</th>\n",
       "      <td>9999</td>\n",
       "      <td>convertible</td>\n",
       "      <td>1928</td>\n",
       "      <td>manual</td>\n",
       "      <td>40</td>\n",
       "      <td>other</td>\n",
       "      <td>150000</td>\n",
       "      <td>petrol</td>\n",
       "      <td>ford</td>\n",
       "      <td>yes</td>\n",
       "    </tr>\n",
       "    <tr>\n",
       "      <th>243656</th>\n",
       "      <td>2500</td>\n",
       "      <td>other</td>\n",
       "      <td>1000</td>\n",
       "      <td>other</td>\n",
       "      <td>34</td>\n",
       "      <td>other</td>\n",
       "      <td>5000</td>\n",
       "      <td>petrol</td>\n",
       "      <td>sonstige_autos</td>\n",
       "      <td>yes</td>\n",
       "    </tr>\n",
       "    <tr>\n",
       "      <th>256532</th>\n",
       "      <td>12500</td>\n",
       "      <td>other</td>\n",
       "      <td>1000</td>\n",
       "      <td>other</td>\n",
       "      <td>200</td>\n",
       "      <td>golf</td>\n",
       "      <td>5000</td>\n",
       "      <td>other</td>\n",
       "      <td>volkswagen</td>\n",
       "      <td>yes</td>\n",
       "    </tr>\n",
       "    <tr>\n",
       "      <th>263574</th>\n",
       "      <td>4700</td>\n",
       "      <td>other</td>\n",
       "      <td>1931</td>\n",
       "      <td>auto</td>\n",
       "      <td>40</td>\n",
       "      <td>other</td>\n",
       "      <td>150000</td>\n",
       "      <td>petrol</td>\n",
       "      <td>ford</td>\n",
       "      <td>yes</td>\n",
       "    </tr>\n",
       "    <tr>\n",
       "      <th>279596</th>\n",
       "      <td>2500</td>\n",
       "      <td>other</td>\n",
       "      <td>1910</td>\n",
       "      <td>other</td>\n",
       "      <td>60</td>\n",
       "      <td>other</td>\n",
       "      <td>5000</td>\n",
       "      <td>petrol</td>\n",
       "      <td>peugeot</td>\n",
       "      <td>yes</td>\n",
       "    </tr>\n",
       "    <tr>\n",
       "      <th>286928</th>\n",
       "      <td>1</td>\n",
       "      <td>other</td>\n",
       "      <td>1000</td>\n",
       "      <td>other</td>\n",
       "      <td>174</td>\n",
       "      <td>touareg</td>\n",
       "      <td>5000</td>\n",
       "      <td>gasoline</td>\n",
       "      <td>volkswagen</td>\n",
       "      <td>yes</td>\n",
       "    </tr>\n",
       "    <tr>\n",
       "      <th>295868</th>\n",
       "      <td>14900</td>\n",
       "      <td>coupe</td>\n",
       "      <td>1937</td>\n",
       "      <td>manual</td>\n",
       "      <td>150</td>\n",
       "      <td>other</td>\n",
       "      <td>10000</td>\n",
       "      <td>petrol</td>\n",
       "      <td>sonstige_autos</td>\n",
       "      <td>no</td>\n",
       "    </tr>\n",
       "    <tr>\n",
       "      <th>299914</th>\n",
       "      <td>16500</td>\n",
       "      <td>convertible</td>\n",
       "      <td>1927</td>\n",
       "      <td>manual</td>\n",
       "      <td>40</td>\n",
       "      <td>other</td>\n",
       "      <td>5000</td>\n",
       "      <td>petrol</td>\n",
       "      <td>ford</td>\n",
       "      <td>yes</td>\n",
       "    </tr>\n",
       "    <tr>\n",
       "      <th>306463</th>\n",
       "      <td>16800</td>\n",
       "      <td>other</td>\n",
       "      <td>1930</td>\n",
       "      <td>manual</td>\n",
       "      <td>24</td>\n",
       "      <td>other</td>\n",
       "      <td>150000</td>\n",
       "      <td>petrol</td>\n",
       "      <td>ford</td>\n",
       "      <td>no</td>\n",
       "    </tr>\n",
       "    <tr>\n",
       "      <th>309657</th>\n",
       "      <td>19000</td>\n",
       "      <td>sedan</td>\n",
       "      <td>1933</td>\n",
       "      <td>manual</td>\n",
       "      <td>23</td>\n",
       "      <td>other</td>\n",
       "      <td>50000</td>\n",
       "      <td>petrol</td>\n",
       "      <td>opel</td>\n",
       "      <td>yes</td>\n",
       "    </tr>\n",
       "    <tr>\n",
       "      <th>324049</th>\n",
       "      <td>8750</td>\n",
       "      <td>convertible</td>\n",
       "      <td>1923</td>\n",
       "      <td>manual</td>\n",
       "      <td>8</td>\n",
       "      <td>c3</td>\n",
       "      <td>5000</td>\n",
       "      <td>petrol</td>\n",
       "      <td>citroen</td>\n",
       "      <td>no</td>\n",
       "    </tr>\n",
       "    <tr>\n",
       "      <th>335547</th>\n",
       "      <td>9000</td>\n",
       "      <td>sedan</td>\n",
       "      <td>1938</td>\n",
       "      <td>manual</td>\n",
       "      <td>1</td>\n",
       "      <td>kadett</td>\n",
       "      <td>5000</td>\n",
       "      <td>petrol</td>\n",
       "      <td>opel</td>\n",
       "      <td>yes</td>\n",
       "    </tr>\n",
       "    <tr>\n",
       "      <th>336104</th>\n",
       "      <td>20000</td>\n",
       "      <td>coupe</td>\n",
       "      <td>1929</td>\n",
       "      <td>manual</td>\n",
       "      <td>12</td>\n",
       "      <td>other</td>\n",
       "      <td>10000</td>\n",
       "      <td>petrol</td>\n",
       "      <td>bmw</td>\n",
       "      <td>yes</td>\n",
       "    </tr>\n",
       "    <tr>\n",
       "      <th>338109</th>\n",
       "      <td>7000</td>\n",
       "      <td>coupe</td>\n",
       "      <td>1937</td>\n",
       "      <td>manual</td>\n",
       "      <td>85</td>\n",
       "      <td>other</td>\n",
       "      <td>5000</td>\n",
       "      <td>petrol</td>\n",
       "      <td>ford</td>\n",
       "      <td>yes</td>\n",
       "    </tr>\n",
       "    <tr>\n",
       "      <th>340759</th>\n",
       "      <td>700</td>\n",
       "      <td>other</td>\n",
       "      <td>1600</td>\n",
       "      <td>manual</td>\n",
       "      <td>1600</td>\n",
       "      <td>a3</td>\n",
       "      <td>150000</td>\n",
       "      <td>petrol</td>\n",
       "      <td>audi</td>\n",
       "      <td>no</td>\n",
       "    </tr>\n",
       "    <tr>\n",
       "      <th>348830</th>\n",
       "      <td>1</td>\n",
       "      <td>other</td>\n",
       "      <td>1000</td>\n",
       "      <td>other</td>\n",
       "      <td>1000</td>\n",
       "      <td>other</td>\n",
       "      <td>150000</td>\n",
       "      <td>other</td>\n",
       "      <td>sonstige_autos</td>\n",
       "      <td>yes</td>\n",
       "    </tr>\n",
       "    <tr>\n",
       "      <th>351682</th>\n",
       "      <td>11500</td>\n",
       "      <td>other</td>\n",
       "      <td>1800</td>\n",
       "      <td>other</td>\n",
       "      <td>16</td>\n",
       "      <td>other</td>\n",
       "      <td>5000</td>\n",
       "      <td>petrol</td>\n",
       "      <td>fiat</td>\n",
       "      <td>yes</td>\n",
       "    </tr>\n",
       "    <tr>\n",
       "      <th>353531</th>\n",
       "      <td>6000</td>\n",
       "      <td>sedan</td>\n",
       "      <td>1937</td>\n",
       "      <td>manual</td>\n",
       "      <td>38</td>\n",
       "      <td>other</td>\n",
       "      <td>5000</td>\n",
       "      <td>petrol</td>\n",
       "      <td>mercedes_benz</td>\n",
       "      <td>yes</td>\n",
       "    </tr>\n",
       "  </tbody>\n",
       "</table>\n",
       "</div>"
      ],
      "text/plain": [
       "        Price  VehicleType  RegistrationYear Gearbox  Power    Model  \\\n",
       "18224    7999        other              1500  manual    224  impreza   \n",
       "22621   14000        sedan              1929  manual     30    other   \n",
       "23750    3900        wagon              1910  manual     90   passat   \n",
       "34055    2900        small              1937  manual     34    other   \n",
       "34332     450        other              1800   other   1800    other   \n",
       "38875    1234        other              1234   other     26    other   \n",
       "56241     950        other              1400  manual   1400     golf   \n",
       "62803    3400        small              1910  manual     90   beetle   \n",
       "68185   19900  convertible              1932  manual     18    other   \n",
       "74814     400        other              1910   other     60     golf   \n",
       "76529    4800        sedan              1937  manual     38    other   \n",
       "98056       1        sedan              1910  manual     10    other   \n",
       "104836   4500        sedan              1935  manual     25    other   \n",
       "117371   8750  convertible              1923  manual     11       c3   \n",
       "119442      1        other              1000   other   1000      3er   \n",
       "122879   8000        other              1930  manual     23    other   \n",
       "137324  11500  convertible              1929  manual     15    other   \n",
       "143621    550        other              1000   other   1000     golf   \n",
       "146207  12999        small              1938  manual     40  2_reihe   \n",
       "149465  10000        sedan              1938  manual     24    other   \n",
       "165188  16000        other              1935  manual     23    other   \n",
       "174278  20000        sedan              1936  manual     23    other   \n",
       "203230    400        other              1910  manual    170      3er   \n",
       "218241   7999        other              1800   other    290     golf   \n",
       "223945   1500          bus              1910  manual    999   espace   \n",
       "229913   7500        small              1938  manual     18    other   \n",
       "230095  11500  convertible              1929  manual     15    other   \n",
       "235505   9999  convertible              1928  manual     40    other   \n",
       "243656   2500        other              1000   other     34    other   \n",
       "256532  12500        other              1000   other    200     golf   \n",
       "263574   4700        other              1931    auto     40    other   \n",
       "279596   2500        other              1910   other     60    other   \n",
       "286928      1        other              1000   other    174  touareg   \n",
       "295868  14900        coupe              1937  manual    150    other   \n",
       "299914  16500  convertible              1927  manual     40    other   \n",
       "306463  16800        other              1930  manual     24    other   \n",
       "309657  19000        sedan              1933  manual     23    other   \n",
       "324049   8750  convertible              1923  manual      8       c3   \n",
       "335547   9000        sedan              1938  manual      1   kadett   \n",
       "336104  20000        coupe              1929  manual     12    other   \n",
       "338109   7000        coupe              1937  manual     85    other   \n",
       "340759    700        other              1600  manual   1600       a3   \n",
       "348830      1        other              1000   other   1000    other   \n",
       "351682  11500        other              1800   other     16    other   \n",
       "353531   6000        sedan              1937  manual     38    other   \n",
       "\n",
       "        Kilometer  FuelType           Brand NotRepaired  \n",
       "18224        5000     other          subaru         yes  \n",
       "22621        5000    petrol  sonstige_autos         yes  \n",
       "23750      150000    petrol      volkswagen         yes  \n",
       "34055       40000    petrol            ford         yes  \n",
       "34332        5000     other      mitsubishi          no  \n",
       "38875        5000     other         trabant         yes  \n",
       "56241      125000    petrol      volkswagen         yes  \n",
       "62803       90000     other      volkswagen          no  \n",
       "68185        5000    petrol             bmw          no  \n",
       "74814      150000    petrol      volkswagen         yes  \n",
       "76529        5000    petrol   mercedes_benz         yes  \n",
       "98056        5000  gasoline   mercedes_benz          no  \n",
       "104836       5000    petrol  sonstige_autos          no  \n",
       "117371       5000    petrol         citroen          no  \n",
       "119442       5000     other             bmw         yes  \n",
       "122879     150000    petrol         peugeot         yes  \n",
       "137324       5000     other             bmw         yes  \n",
       "143621       5000    petrol      volkswagen         yes  \n",
       "146207      70000    petrol         peugeot          no  \n",
       "149465      30000    petrol  sonstige_autos         yes  \n",
       "165188      30000    petrol            opel         yes  \n",
       "174278      30000    petrol            opel         yes  \n",
       "203230       5000     other             bmw         yes  \n",
       "218241       5000     other      volkswagen         yes  \n",
       "223945     150000     other         renault         yes  \n",
       "229913       5000     other  sonstige_autos         yes  \n",
       "230095       5000    petrol             bmw         yes  \n",
       "235505     150000    petrol            ford         yes  \n",
       "243656       5000    petrol  sonstige_autos         yes  \n",
       "256532       5000     other      volkswagen         yes  \n",
       "263574     150000    petrol            ford         yes  \n",
       "279596       5000    petrol         peugeot         yes  \n",
       "286928       5000  gasoline      volkswagen         yes  \n",
       "295868      10000    petrol  sonstige_autos          no  \n",
       "299914       5000    petrol            ford         yes  \n",
       "306463     150000    petrol            ford          no  \n",
       "309657      50000    petrol            opel         yes  \n",
       "324049       5000    petrol         citroen          no  \n",
       "335547       5000    petrol            opel         yes  \n",
       "336104      10000    petrol             bmw         yes  \n",
       "338109       5000    petrol            ford         yes  \n",
       "340759     150000    petrol            audi          no  \n",
       "348830     150000     other  sonstige_autos         yes  \n",
       "351682       5000    petrol            fiat         yes  \n",
       "353531       5000    petrol   mercedes_benz         yes  "
      ]
     },
     "metadata": {},
     "output_type": "display_data"
    }
   ],
   "source": [
    "display(data[['Power', 'RegistrationYear']].describe())\n",
    "display(data[data['Power'] > 500]['Power'].describe())\n",
    "display(data[data['Power'] > 500])\n",
    "display(data[data['RegistrationYear'] < 1940]['RegistrationYear'].describe())\n",
    "display(data[data['RegistrationYear'] < 1940])"
   ]
  },
  {
   "cell_type": "markdown",
   "metadata": {},
   "source": [
    "Посмотрим выбросы методом 1,5 IQR по столбцам Power, RegistrationYear. Делаем данное действие т.к. исходя из минимальных и максимальных значений этих столбцов, распределения данных и осмотра данных они, очевидно, содержат ошибочные данные наравне с данными редких ТС. Исходя из заданного заказчиком критерия качества моделей и в целях сохранения данных о редких ТС, убрали данные от 500 л.с. и до 1940-го года регистрации ТС."
   ]
  },
  {
   "cell_type": "code",
   "execution_count": 10,
   "metadata": {},
   "outputs": [
    {
     "name": "stdout",
     "output_type": "stream",
     "text": [
      "Граница \"верхнего уса ящика\" колонки Power = 255 л.с. \n",
      "Граница \"нижнего уса ящика\" колонки Power = 0\n",
      "\n",
      "Количество удалённых строк данных от 500 л.с. ТС:\n",
      "0.14934849713083168  %\n"
     ]
    },
    {
     "data": {
      "image/png": "[encoded data removed]",
      "text/plain": [
       "<Figure size 1152x648 with 1 Axes>"
      ]
     },
     "metadata": {},
     "output_type": "display_data"
    }
   ],
   "source": [
    "temp_data = pd.DataFrame({'Power_before': data['Power'].copy()})\n",
    "q25, q75 = np.percentile(data['Power'], [25, 75])\n",
    "IQR = q75 - q25\n",
    "max_ = round(q75+(1.5*IQR), 0)\n",
    "min_ = round(q25-(1.5*IQR), 0)\n",
    "print(f'Граница \"верхнего уса ящика\" колонки Power = {max_:g} л.с. ') if max_ < data['Power'].max() else print('Граница \"верхнего уса ящика\" колонки Power = максимальному значению')\n",
    "print(f'Граница \"нижнего уса ящика\" колонки Power = {min_:g} л.с.\\n') if min_ > 0 else print('Граница \"нижнего уса ящика\" колонки Power = 0\\n')\n",
    "print('Количество удалённых строк данных от 500 л.с. ТС:')\n",
    "print(len(data[data['Power'] > 500])/len(data)*100, ' %')\n",
    "boxplot = pd.concat([temp_data, data.loc[(data['Power'] >= min_)&(data['Power'] <= max_), 'Power']], axis=1).boxplot(figsize=(16, 9));\n",
    "data = data.loc[(data['Power'] >= 0)&(data['Power'] <= 500)]"
   ]
  },
  {
   "cell_type": "code",
   "execution_count": 11,
   "metadata": {},
   "outputs": [
    {
     "name": "stdout",
     "output_type": "stream",
     "text": [
      "Граница \"верхнего уса ящика\" колонки RegistrationYear = максимальному значению\n",
      "Граница \"нижнего уса ящика\" колонки RegistrationYear = 1987\n",
      "\n",
      "Количество удалённых строк данных в пределах до 1940 гг регистрации ТС:\n",
      "0.01519714293712782  %\n"
     ]
    },
    {
     "data": {
      "image/png": "[encoded data removed]",
      "text/plain": [
       "<Figure size 1152x648 with 1 Axes>"
      ]
     },
     "metadata": {},
     "output_type": "display_data"
    }
   ],
   "source": [
    "temp_data = pd.DataFrame({'RegistrationYear_before': data['RegistrationYear'].copy()})\n",
    "q25, q75 = np.percentile(data['RegistrationYear'], [25, 75])\n",
    "IQR = q75 - q25\n",
    "max_ = round(q75+(1.5*IQR), 0)\n",
    "min_ = round(q25-(1.5*IQR), 0)\n",
    "print(f'Граница \"верхнего уса ящика\" колонки RegistrationYear = {max_:g} ') if max_ < data['RegistrationYear'].max() else print('Граница \"верхнего уса ящика\" колонки RegistrationYear = максимальному значению')\n",
    "print(f'Граница \"нижнего уса ящика\" колонки RegistrationYear = {min_:g}\\n') if min_ > 0 else print('Граница \"нижнего уса ящика\" колонки RegistrationYear = 0\\n')\n",
    "print('Количество удалённых строк данных в пределах до 1940 гг регистрации ТС:')\n",
    "print(len(data[data['RegistrationYear'] < 1940])/len(data)*100, ' %')\n",
    "boxplot = pd.concat([temp_data, data.loc[(data['RegistrationYear'] >= min_)&(data['RegistrationYear'] <= max_), 'RegistrationYear']], axis=1).boxplot(figsize=(16, 9));\n",
    "data = data.loc[data['RegistrationYear'] >= 1940]"
   ]
  },
  {
   "cell_type": "markdown",
   "metadata": {},
   "source": [
    "Масштабируем числовые данные."
   ]
  },
  {
   "cell_type": "code",
   "execution_count": 12,
   "metadata": {
    "scrolled": true
   },
   "outputs": [
    {
     "data": {
      "image/png": "[encoded data removed]",
      "text/plain": [
       "<Figure size 1152x648 with 1 Axes>"
      ]
     },
     "metadata": {},
     "output_type": "display_data"
    },
    {
     "data": {
      "image/png": "[encoded data removed]",
      "text/plain": [
       "<Figure size 1152x648 with 1 Axes>"
      ]
     },
     "metadata": {},
     "output_type": "display_data"
    },
    {
     "data": {
      "image/png": "[encoded data removed]",
      "text/plain": [
       "<Figure size 1152x648 with 1 Axes>"
      ]
     },
     "metadata": {},
     "output_type": "display_data"
    }
   ],
   "source": [
    "data_numeric = data.select_dtypes('int64').drop('Price', axis=1).copy()\n",
    "# data_numeric.info()\n",
    "# scaler = StandardScaler()\n",
    "# scaler.fit(data_numeric)\n",
    "# data[data_numeric.columns] = scaler.transform(data_numeric)\n",
    "# display(data)\n",
    "for col in data_numeric.columns:\n",
    "    plt.figure(figsize=(16, 9))\n",
    "    data_qntl = data_numeric[col]\n",
    "    q25, q75 = np.percentile(data_qntl, [25, 75])\n",
    "    bin_width = 2 * (q75 - q25) * len(data_qntl) ** (-1/3)\n",
    "    bins = round((data_qntl.max() - data_qntl.min()) / bin_width)\n",
    "    plt.hist(data_qntl, bins = 'fd', alpha = 1, label=col)\n",
    "    plt.legend(loc='upper left')\n",
    "    plt.title(f'Гистограмма распределения значений в колонке {col} числовых данных датасета')\n",
    "    plt.show()"
   ]
  },
  {
   "cell_type": "markdown",
   "metadata": {},
   "source": [
    "По гистограммам видим, что данные имеют приближенные к нормальным распределения, однако данные о пробеге категоризированы округлёнными значениями и такого распределения не демонстрируют, вместе с тем имеют значительный коэффициент отрицательной корелляции со стоимостью ТС."
   ]
  },
  {
   "cell_type": "markdown",
   "metadata": {},
   "source": [
    "Преобразуем прямым кодированием категориальные признаки в машиночитаемые столбцы из 0 и 1"
   ]
  },
  {
   "cell_type": "code",
   "execution_count": 13,
   "metadata": {},
   "outputs": [
    {
     "data": {
      "text/html": [
       "<div>\n",
       "<style scoped>\n",
       "    .dataframe tbody tr th:only-of-type {\n",
       "        vertical-align: middle;\n",
       "    }\n",
       "\n",
       "    .dataframe tbody tr th {\n",
       "        vertical-align: top;\n",
       "    }\n",
       "\n",
       "    .dataframe thead th {\n",
       "        text-align: right;\n",
       "    }\n",
       "</style>\n",
       "<table border=\"1\" class=\"dataframe\">\n",
       "  <thead>\n",
       "    <tr style=\"text-align: right;\">\n",
       "      <th></th>\n",
       "      <th>Price</th>\n",
       "      <th>RegistrationYear</th>\n",
       "      <th>Power</th>\n",
       "      <th>Kilometer</th>\n",
       "      <th>VehicleType_convertible</th>\n",
       "      <th>VehicleType_coupe</th>\n",
       "      <th>VehicleType_other</th>\n",
       "      <th>VehicleType_sedan</th>\n",
       "      <th>VehicleType_small</th>\n",
       "      <th>VehicleType_suv</th>\n",
       "      <th>VehicleType_wagon</th>\n",
       "      <th>Gearbox_manual</th>\n",
       "      <th>Gearbox_other</th>\n",
       "      <th>Model_145</th>\n",
       "      <th>...</th>\n",
       "      <th>Brand_renault</th>\n",
       "      <th>Brand_rover</th>\n",
       "      <th>Brand_saab</th>\n",
       "      <th>Brand_seat</th>\n",
       "      <th>Brand_skoda</th>\n",
       "      <th>Brand_smart</th>\n",
       "      <th>Brand_sonstige_autos</th>\n",
       "      <th>Brand_subaru</th>\n",
       "      <th>Brand_suzuki</th>\n",
       "      <th>Brand_toyota</th>\n",
       "      <th>Brand_trabant</th>\n",
       "      <th>Brand_volkswagen</th>\n",
       "      <th>Brand_volvo</th>\n",
       "      <th>NotRepaired_yes</th>\n",
       "    </tr>\n",
       "  </thead>\n",
       "  <tbody>\n",
       "    <tr>\n",
       "      <th>1</th>\n",
       "      <td>18300</td>\n",
       "      <td>2011</td>\n",
       "      <td>190</td>\n",
       "      <td>125000</td>\n",
       "      <td>0</td>\n",
       "      <td>1</td>\n",
       "      <td>0</td>\n",
       "      <td>0</td>\n",
       "      <td>0</td>\n",
       "      <td>0</td>\n",
       "      <td>0</td>\n",
       "      <td>1</td>\n",
       "      <td>0</td>\n",
       "      <td>0</td>\n",
       "      <td>...</td>\n",
       "      <td>0</td>\n",
       "      <td>0</td>\n",
       "      <td>0</td>\n",
       "      <td>0</td>\n",
       "      <td>0</td>\n",
       "      <td>0</td>\n",
       "      <td>0</td>\n",
       "      <td>0</td>\n",
       "      <td>0</td>\n",
       "      <td>0</td>\n",
       "      <td>0</td>\n",
       "      <td>0</td>\n",
       "      <td>0</td>\n",
       "      <td>1</td>\n",
       "    </tr>\n",
       "    <tr>\n",
       "      <th>2</th>\n",
       "      <td>9800</td>\n",
       "      <td>2004</td>\n",
       "      <td>163</td>\n",
       "      <td>125000</td>\n",
       "      <td>0</td>\n",
       "      <td>0</td>\n",
       "      <td>0</td>\n",
       "      <td>0</td>\n",
       "      <td>0</td>\n",
       "      <td>1</td>\n",
       "      <td>0</td>\n",
       "      <td>0</td>\n",
       "      <td>0</td>\n",
       "      <td>0</td>\n",
       "      <td>...</td>\n",
       "      <td>0</td>\n",
       "      <td>0</td>\n",
       "      <td>0</td>\n",
       "      <td>0</td>\n",
       "      <td>0</td>\n",
       "      <td>0</td>\n",
       "      <td>0</td>\n",
       "      <td>0</td>\n",
       "      <td>0</td>\n",
       "      <td>0</td>\n",
       "      <td>0</td>\n",
       "      <td>0</td>\n",
       "      <td>0</td>\n",
       "      <td>1</td>\n",
       "    </tr>\n",
       "    <tr>\n",
       "      <th>3</th>\n",
       "      <td>1500</td>\n",
       "      <td>2001</td>\n",
       "      <td>75</td>\n",
       "      <td>150000</td>\n",
       "      <td>0</td>\n",
       "      <td>0</td>\n",
       "      <td>0</td>\n",
       "      <td>0</td>\n",
       "      <td>1</td>\n",
       "      <td>0</td>\n",
       "      <td>0</td>\n",
       "      <td>1</td>\n",
       "      <td>0</td>\n",
       "      <td>0</td>\n",
       "      <td>...</td>\n",
       "      <td>0</td>\n",
       "      <td>0</td>\n",
       "      <td>0</td>\n",
       "      <td>0</td>\n",
       "      <td>0</td>\n",
       "      <td>0</td>\n",
       "      <td>0</td>\n",
       "      <td>0</td>\n",
       "      <td>0</td>\n",
       "      <td>0</td>\n",
       "      <td>0</td>\n",
       "      <td>1</td>\n",
       "      <td>0</td>\n",
       "      <td>0</td>\n",
       "    </tr>\n",
       "    <tr>\n",
       "      <th>4</th>\n",
       "      <td>3600</td>\n",
       "      <td>2008</td>\n",
       "      <td>69</td>\n",
       "      <td>90000</td>\n",
       "      <td>0</td>\n",
       "      <td>0</td>\n",
       "      <td>0</td>\n",
       "      <td>0</td>\n",
       "      <td>1</td>\n",
       "      <td>0</td>\n",
       "      <td>0</td>\n",
       "      <td>1</td>\n",
       "      <td>0</td>\n",
       "      <td>0</td>\n",
       "      <td>...</td>\n",
       "      <td>0</td>\n",
       "      <td>0</td>\n",
       "      <td>0</td>\n",
       "      <td>0</td>\n",
       "      <td>1</td>\n",
       "      <td>0</td>\n",
       "      <td>0</td>\n",
       "      <td>0</td>\n",
       "      <td>0</td>\n",
       "      <td>0</td>\n",
       "      <td>0</td>\n",
       "      <td>0</td>\n",
       "      <td>0</td>\n",
       "      <td>0</td>\n",
       "    </tr>\n",
       "    <tr>\n",
       "      <th>5</th>\n",
       "      <td>650</td>\n",
       "      <td>1995</td>\n",
       "      <td>102</td>\n",
       "      <td>150000</td>\n",
       "      <td>0</td>\n",
       "      <td>0</td>\n",
       "      <td>0</td>\n",
       "      <td>1</td>\n",
       "      <td>0</td>\n",
       "      <td>0</td>\n",
       "      <td>0</td>\n",
       "      <td>1</td>\n",
       "      <td>0</td>\n",
       "      <td>0</td>\n",
       "      <td>...</td>\n",
       "      <td>0</td>\n",
       "      <td>0</td>\n",
       "      <td>0</td>\n",
       "      <td>0</td>\n",
       "      <td>0</td>\n",
       "      <td>0</td>\n",
       "      <td>0</td>\n",
       "      <td>0</td>\n",
       "      <td>0</td>\n",
       "      <td>0</td>\n",
       "      <td>0</td>\n",
       "      <td>0</td>\n",
       "      <td>0</td>\n",
       "      <td>1</td>\n",
       "    </tr>\n",
       "    <tr>\n",
       "      <th>...</th>\n",
       "      <td>...</td>\n",
       "      <td>...</td>\n",
       "      <td>...</td>\n",
       "      <td>...</td>\n",
       "      <td>...</td>\n",
       "      <td>...</td>\n",
       "      <td>...</td>\n",
       "      <td>...</td>\n",
       "      <td>...</td>\n",
       "      <td>...</td>\n",
       "      <td>...</td>\n",
       "      <td>...</td>\n",
       "      <td>...</td>\n",
       "      <td>...</td>\n",
       "      <td>...</td>\n",
       "      <td>...</td>\n",
       "      <td>...</td>\n",
       "      <td>...</td>\n",
       "      <td>...</td>\n",
       "      <td>...</td>\n",
       "      <td>...</td>\n",
       "      <td>...</td>\n",
       "      <td>...</td>\n",
       "      <td>...</td>\n",
       "      <td>...</td>\n",
       "      <td>...</td>\n",
       "      <td>...</td>\n",
       "      <td>...</td>\n",
       "      <td>...</td>\n",
       "    </tr>\n",
       "    <tr>\n",
       "      <th>354360</th>\n",
       "      <td>3999</td>\n",
       "      <td>2005</td>\n",
       "      <td>3</td>\n",
       "      <td>150000</td>\n",
       "      <td>0</td>\n",
       "      <td>0</td>\n",
       "      <td>0</td>\n",
       "      <td>0</td>\n",
       "      <td>0</td>\n",
       "      <td>0</td>\n",
       "      <td>1</td>\n",
       "      <td>1</td>\n",
       "      <td>0</td>\n",
       "      <td>0</td>\n",
       "      <td>...</td>\n",
       "      <td>0</td>\n",
       "      <td>0</td>\n",
       "      <td>0</td>\n",
       "      <td>0</td>\n",
       "      <td>0</td>\n",
       "      <td>0</td>\n",
       "      <td>0</td>\n",
       "      <td>0</td>\n",
       "      <td>0</td>\n",
       "      <td>0</td>\n",
       "      <td>0</td>\n",
       "      <td>0</td>\n",
       "      <td>0</td>\n",
       "      <td>0</td>\n",
       "    </tr>\n",
       "    <tr>\n",
       "      <th>354362</th>\n",
       "      <td>3200</td>\n",
       "      <td>2004</td>\n",
       "      <td>225</td>\n",
       "      <td>150000</td>\n",
       "      <td>0</td>\n",
       "      <td>0</td>\n",
       "      <td>0</td>\n",
       "      <td>1</td>\n",
       "      <td>0</td>\n",
       "      <td>0</td>\n",
       "      <td>0</td>\n",
       "      <td>1</td>\n",
       "      <td>0</td>\n",
       "      <td>0</td>\n",
       "      <td>...</td>\n",
       "      <td>0</td>\n",
       "      <td>0</td>\n",
       "      <td>0</td>\n",
       "      <td>1</td>\n",
       "      <td>0</td>\n",
       "      <td>0</td>\n",
       "      <td>0</td>\n",
       "      <td>0</td>\n",
       "      <td>0</td>\n",
       "      <td>0</td>\n",
       "      <td>0</td>\n",
       "      <td>0</td>\n",
       "      <td>0</td>\n",
       "      <td>1</td>\n",
       "    </tr>\n",
       "    <tr>\n",
       "      <th>354366</th>\n",
       "      <td>1199</td>\n",
       "      <td>2000</td>\n",
       "      <td>101</td>\n",
       "      <td>125000</td>\n",
       "      <td>1</td>\n",
       "      <td>0</td>\n",
       "      <td>0</td>\n",
       "      <td>0</td>\n",
       "      <td>0</td>\n",
       "      <td>0</td>\n",
       "      <td>0</td>\n",
       "      <td>0</td>\n",
       "      <td>0</td>\n",
       "      <td>0</td>\n",
       "      <td>...</td>\n",
       "      <td>0</td>\n",
       "      <td>0</td>\n",
       "      <td>0</td>\n",
       "      <td>0</td>\n",
       "      <td>0</td>\n",
       "      <td>1</td>\n",
       "      <td>0</td>\n",
       "      <td>0</td>\n",
       "      <td>0</td>\n",
       "      <td>0</td>\n",
       "      <td>0</td>\n",
       "      <td>0</td>\n",
       "      <td>0</td>\n",
       "      <td>0</td>\n",
       "    </tr>\n",
       "    <tr>\n",
       "      <th>354367</th>\n",
       "      <td>9200</td>\n",
       "      <td>1996</td>\n",
       "      <td>102</td>\n",
       "      <td>150000</td>\n",
       "      <td>0</td>\n",
       "      <td>0</td>\n",
       "      <td>0</td>\n",
       "      <td>0</td>\n",
       "      <td>0</td>\n",
       "      <td>0</td>\n",
       "      <td>0</td>\n",
       "      <td>1</td>\n",
       "      <td>0</td>\n",
       "      <td>0</td>\n",
       "      <td>...</td>\n",
       "      <td>0</td>\n",
       "      <td>0</td>\n",
       "      <td>0</td>\n",
       "      <td>0</td>\n",
       "      <td>0</td>\n",
       "      <td>0</td>\n",
       "      <td>0</td>\n",
       "      <td>0</td>\n",
       "      <td>0</td>\n",
       "      <td>0</td>\n",
       "      <td>0</td>\n",
       "      <td>1</td>\n",
       "      <td>0</td>\n",
       "      <td>0</td>\n",
       "    </tr>\n",
       "    <tr>\n",
       "      <th>354368</th>\n",
       "      <td>3400</td>\n",
       "      <td>2002</td>\n",
       "      <td>100</td>\n",
       "      <td>150000</td>\n",
       "      <td>0</td>\n",
       "      <td>0</td>\n",
       "      <td>0</td>\n",
       "      <td>0</td>\n",
       "      <td>0</td>\n",
       "      <td>0</td>\n",
       "      <td>1</td>\n",
       "      <td>1</td>\n",
       "      <td>0</td>\n",
       "      <td>0</td>\n",
       "      <td>...</td>\n",
       "      <td>0</td>\n",
       "      <td>0</td>\n",
       "      <td>0</td>\n",
       "      <td>0</td>\n",
       "      <td>0</td>\n",
       "      <td>0</td>\n",
       "      <td>0</td>\n",
       "      <td>0</td>\n",
       "      <td>0</td>\n",
       "      <td>0</td>\n",
       "      <td>0</td>\n",
       "      <td>1</td>\n",
       "      <td>0</td>\n",
       "      <td>1</td>\n",
       "    </tr>\n",
       "  </tbody>\n",
       "</table>\n",
       "<p>250009 rows × 307 columns</p>\n",
       "</div>"
      ],
      "text/plain": [
       "        Price  RegistrationYear  Power  Kilometer  VehicleType_convertible  \\\n",
       "1       18300              2011    190     125000                        0   \n",
       "2        9800              2004    163     125000                        0   \n",
       "3        1500              2001     75     150000                        0   \n",
       "4        3600              2008     69      90000                        0   \n",
       "5         650              1995    102     150000                        0   \n",
       "...       ...               ...    ...        ...                      ...   \n",
       "354360   3999              2005      3     150000                        0   \n",
       "354362   3200              2004    225     150000                        0   \n",
       "354366   1199              2000    101     125000                        1   \n",
       "354367   9200              1996    102     150000                        0   \n",
       "354368   3400              2002    100     150000                        0   \n",
       "\n",
       "        VehicleType_coupe  VehicleType_other  VehicleType_sedan  \\\n",
       "1                       1                  0                  0   \n",
       "2                       0                  0                  0   \n",
       "3                       0                  0                  0   \n",
       "4                       0                  0                  0   \n",
       "5                       0                  0                  1   \n",
       "...                   ...                ...                ...   \n",
       "354360                  0                  0                  0   \n",
       "354362                  0                  0                  1   \n",
       "354366                  0                  0                  0   \n",
       "354367                  0                  0                  0   \n",
       "354368                  0                  0                  0   \n",
       "\n",
       "        VehicleType_small  VehicleType_suv  VehicleType_wagon  Gearbox_manual  \\\n",
       "1                       0                0                  0               1   \n",
       "2                       0                1                  0               0   \n",
       "3                       1                0                  0               1   \n",
       "4                       1                0                  0               1   \n",
       "5                       0                0                  0               1   \n",
       "...                   ...              ...                ...             ...   \n",
       "354360                  0                0                  1               1   \n",
       "354362                  0                0                  0               1   \n",
       "354366                  0                0                  0               0   \n",
       "354367                  0                0                  0               1   \n",
       "354368                  0                0                  1               1   \n",
       "\n",
       "        Gearbox_other  Model_145  ...  Brand_renault  Brand_rover  Brand_saab  \\\n",
       "1                   0          0  ...              0            0           0   \n",
       "2                   0          0  ...              0            0           0   \n",
       "3                   0          0  ...              0            0           0   \n",
       "4                   0          0  ...              0            0           0   \n",
       "5                   0          0  ...              0            0           0   \n",
       "...               ...        ...  ...            ...          ...         ...   \n",
       "354360              0          0  ...              0            0           0   \n",
       "354362              0          0  ...              0            0           0   \n",
       "354366              0          0  ...              0            0           0   \n",
       "354367              0          0  ...              0            0           0   \n",
       "354368              0          0  ...              0            0           0   \n",
       "\n",
       "        Brand_seat  Brand_skoda  Brand_smart  Brand_sonstige_autos  \\\n",
       "1                0            0            0                     0   \n",
       "2                0            0            0                     0   \n",
       "3                0            0            0                     0   \n",
       "4                0            1            0                     0   \n",
       "5                0            0            0                     0   \n",
       "...            ...          ...          ...                   ...   \n",
       "354360           0            0            0                     0   \n",
       "354362           1            0            0                     0   \n",
       "354366           0            0            1                     0   \n",
       "354367           0            0            0                     0   \n",
       "354368           0            0            0                     0   \n",
       "\n",
       "        Brand_subaru  Brand_suzuki  Brand_toyota  Brand_trabant  \\\n",
       "1                  0             0             0              0   \n",
       "2                  0             0             0              0   \n",
       "3                  0             0             0              0   \n",
       "4                  0             0             0              0   \n",
       "5                  0             0             0              0   \n",
       "...              ...           ...           ...            ...   \n",
       "354360             0             0             0              0   \n",
       "354362             0             0             0              0   \n",
       "354366             0             0             0              0   \n",
       "354367             0             0             0              0   \n",
       "354368             0             0             0              0   \n",
       "\n",
       "        Brand_volkswagen  Brand_volvo  NotRepaired_yes  \n",
       "1                      0            0                1  \n",
       "2                      0            0                1  \n",
       "3                      1            0                0  \n",
       "4                      0            0                0  \n",
       "5                      0            0                1  \n",
       "...                  ...          ...              ...  \n",
       "354360                 0            0                0  \n",
       "354362                 0            0                1  \n",
       "354366                 0            0                0  \n",
       "354367                 1            0                0  \n",
       "354368                 1            0                1  \n",
       "\n",
       "[250009 rows x 307 columns]"
      ]
     },
     "metadata": {},
     "output_type": "display_data"
    }
   ],
   "source": [
    "data_ohe = pd.get_dummies(data, drop_first=True)\n",
    "display(data_ohe)"
   ]
  },
  {
   "cell_type": "code",
   "execution_count": 14,
   "metadata": {},
   "outputs": [
    {
     "name": "stdout",
     "output_type": "stream",
     "text": [
      "<class 'pandas.core.frame.DataFrame'>\n",
      "Int64Index: 187506 entries, 25250 to 303246\n",
      "Data columns (total 3 columns):\n",
      " #   Column            Non-Null Count   Dtype\n",
      "---  ------            --------------   -----\n",
      " 0   RegistrationYear  187506 non-null  int64\n",
      " 1   Power             187506 non-null  int64\n",
      " 2   Kilometer         187506 non-null  int64\n",
      "dtypes: int64(3)\n",
      "memory usage: 5.7 MB\n"
     ]
    },
    {
     "name": "stderr",
     "output_type": "stream",
     "text": [
      "/opt/conda/lib/python3.9/site-packages/pandas/core/indexing.py:1738: SettingWithCopyWarning: \n",
      "A value is trying to be set on a copy of a slice from a DataFrame.\n",
      "Try using .loc[row_indexer,col_indexer] = value instead\n",
      "\n",
      "See the caveats in the documentation: https://pandas.pydata.org/pandas-docs/stable/user_guide/indexing.html#returning-a-view-versus-a-copy\n",
      "  self._setitem_single_column(loc, value[:, i].tolist(), pi)\n"
     ]
    },
    {
     "data": {
      "text/html": [
       "<div>\n",
       "<style scoped>\n",
       "    .dataframe tbody tr th:only-of-type {\n",
       "        vertical-align: middle;\n",
       "    }\n",
       "\n",
       "    .dataframe tbody tr th {\n",
       "        vertical-align: top;\n",
       "    }\n",
       "\n",
       "    .dataframe thead th {\n",
       "        text-align: right;\n",
       "    }\n",
       "</style>\n",
       "<table border=\"1\" class=\"dataframe\">\n",
       "  <thead>\n",
       "    <tr style=\"text-align: right;\">\n",
       "      <th></th>\n",
       "      <th>RegistrationYear</th>\n",
       "      <th>Power</th>\n",
       "      <th>Kilometer</th>\n",
       "      <th>VehicleType_convertible</th>\n",
       "      <th>VehicleType_coupe</th>\n",
       "      <th>VehicleType_other</th>\n",
       "      <th>VehicleType_sedan</th>\n",
       "      <th>VehicleType_small</th>\n",
       "      <th>VehicleType_suv</th>\n",
       "      <th>VehicleType_wagon</th>\n",
       "      <th>Gearbox_manual</th>\n",
       "      <th>Gearbox_other</th>\n",
       "      <th>Model_145</th>\n",
       "      <th>Model_147</th>\n",
       "      <th>...</th>\n",
       "      <th>Brand_renault</th>\n",
       "      <th>Brand_rover</th>\n",
       "      <th>Brand_saab</th>\n",
       "      <th>Brand_seat</th>\n",
       "      <th>Brand_skoda</th>\n",
       "      <th>Brand_smart</th>\n",
       "      <th>Brand_sonstige_autos</th>\n",
       "      <th>Brand_subaru</th>\n",
       "      <th>Brand_suzuki</th>\n",
       "      <th>Brand_toyota</th>\n",
       "      <th>Brand_trabant</th>\n",
       "      <th>Brand_volkswagen</th>\n",
       "      <th>Brand_volvo</th>\n",
       "      <th>NotRepaired_yes</th>\n",
       "    </tr>\n",
       "  </thead>\n",
       "  <tbody>\n",
       "    <tr>\n",
       "      <th>25250</th>\n",
       "      <td>-1.174976</td>\n",
       "      <td>-1.334510</td>\n",
       "      <td>0.612601</td>\n",
       "      <td>0</td>\n",
       "      <td>0</td>\n",
       "      <td>0</td>\n",
       "      <td>0</td>\n",
       "      <td>1</td>\n",
       "      <td>0</td>\n",
       "      <td>0</td>\n",
       "      <td>1</td>\n",
       "      <td>0</td>\n",
       "      <td>0</td>\n",
       "      <td>0</td>\n",
       "      <td>...</td>\n",
       "      <td>0</td>\n",
       "      <td>0</td>\n",
       "      <td>0</td>\n",
       "      <td>0</td>\n",
       "      <td>0</td>\n",
       "      <td>0</td>\n",
       "      <td>0</td>\n",
       "      <td>0</td>\n",
       "      <td>0</td>\n",
       "      <td>0</td>\n",
       "      <td>0</td>\n",
       "      <td>1</td>\n",
       "      <td>0</td>\n",
       "      <td>0</td>\n",
       "    </tr>\n",
       "    <tr>\n",
       "      <th>312249</th>\n",
       "      <td>-0.242956</td>\n",
       "      <td>-0.871015</td>\n",
       "      <td>0.612601</td>\n",
       "      <td>0</td>\n",
       "      <td>0</td>\n",
       "      <td>0</td>\n",
       "      <td>0</td>\n",
       "      <td>0</td>\n",
       "      <td>0</td>\n",
       "      <td>1</td>\n",
       "      <td>1</td>\n",
       "      <td>0</td>\n",
       "      <td>0</td>\n",
       "      <td>0</td>\n",
       "      <td>...</td>\n",
       "      <td>0</td>\n",
       "      <td>0</td>\n",
       "      <td>0</td>\n",
       "      <td>0</td>\n",
       "      <td>1</td>\n",
       "      <td>0</td>\n",
       "      <td>0</td>\n",
       "      <td>0</td>\n",
       "      <td>0</td>\n",
       "      <td>0</td>\n",
       "      <td>0</td>\n",
       "      <td>0</td>\n",
       "      <td>0</td>\n",
       "      <td>0</td>\n",
       "    </tr>\n",
       "    <tr>\n",
       "      <th>128844</th>\n",
       "      <td>-0.553629</td>\n",
       "      <td>-1.149112</td>\n",
       "      <td>0.612601</td>\n",
       "      <td>0</td>\n",
       "      <td>0</td>\n",
       "      <td>0</td>\n",
       "      <td>0</td>\n",
       "      <td>1</td>\n",
       "      <td>0</td>\n",
       "      <td>0</td>\n",
       "      <td>1</td>\n",
       "      <td>0</td>\n",
       "      <td>0</td>\n",
       "      <td>0</td>\n",
       "      <td>...</td>\n",
       "      <td>0</td>\n",
       "      <td>0</td>\n",
       "      <td>0</td>\n",
       "      <td>1</td>\n",
       "      <td>0</td>\n",
       "      <td>0</td>\n",
       "      <td>0</td>\n",
       "      <td>0</td>\n",
       "      <td>0</td>\n",
       "      <td>0</td>\n",
       "      <td>0</td>\n",
       "      <td>0</td>\n",
       "      <td>0</td>\n",
       "      <td>1</td>\n",
       "    </tr>\n",
       "    <tr>\n",
       "      <th>48859</th>\n",
       "      <td>-0.398292</td>\n",
       "      <td>0.055977</td>\n",
       "      <td>0.612601</td>\n",
       "      <td>0</td>\n",
       "      <td>0</td>\n",
       "      <td>0</td>\n",
       "      <td>0</td>\n",
       "      <td>1</td>\n",
       "      <td>0</td>\n",
       "      <td>0</td>\n",
       "      <td>1</td>\n",
       "      <td>0</td>\n",
       "      <td>0</td>\n",
       "      <td>0</td>\n",
       "      <td>...</td>\n",
       "      <td>0</td>\n",
       "      <td>0</td>\n",
       "      <td>0</td>\n",
       "      <td>0</td>\n",
       "      <td>0</td>\n",
       "      <td>0</td>\n",
       "      <td>0</td>\n",
       "      <td>0</td>\n",
       "      <td>0</td>\n",
       "      <td>0</td>\n",
       "      <td>0</td>\n",
       "      <td>1</td>\n",
       "      <td>0</td>\n",
       "      <td>0</td>\n",
       "    </tr>\n",
       "    <tr>\n",
       "      <th>72810</th>\n",
       "      <td>-0.087619</td>\n",
       "      <td>0.519472</td>\n",
       "      <td>0.612601</td>\n",
       "      <td>0</td>\n",
       "      <td>0</td>\n",
       "      <td>0</td>\n",
       "      <td>0</td>\n",
       "      <td>0</td>\n",
       "      <td>0</td>\n",
       "      <td>1</td>\n",
       "      <td>0</td>\n",
       "      <td>0</td>\n",
       "      <td>0</td>\n",
       "      <td>0</td>\n",
       "      <td>...</td>\n",
       "      <td>0</td>\n",
       "      <td>0</td>\n",
       "      <td>0</td>\n",
       "      <td>0</td>\n",
       "      <td>0</td>\n",
       "      <td>0</td>\n",
       "      <td>0</td>\n",
       "      <td>0</td>\n",
       "      <td>0</td>\n",
       "      <td>0</td>\n",
       "      <td>0</td>\n",
       "      <td>0</td>\n",
       "      <td>0</td>\n",
       "      <td>0</td>\n",
       "    </tr>\n",
       "    <tr>\n",
       "      <th>...</th>\n",
       "      <td>...</td>\n",
       "      <td>...</td>\n",
       "      <td>...</td>\n",
       "      <td>...</td>\n",
       "      <td>...</td>\n",
       "      <td>...</td>\n",
       "      <td>...</td>\n",
       "      <td>...</td>\n",
       "      <td>...</td>\n",
       "      <td>...</td>\n",
       "      <td>...</td>\n",
       "      <td>...</td>\n",
       "      <td>...</td>\n",
       "      <td>...</td>\n",
       "      <td>...</td>\n",
       "      <td>...</td>\n",
       "      <td>...</td>\n",
       "      <td>...</td>\n",
       "      <td>...</td>\n",
       "      <td>...</td>\n",
       "      <td>...</td>\n",
       "      <td>...</td>\n",
       "      <td>...</td>\n",
       "      <td>...</td>\n",
       "      <td>...</td>\n",
       "      <td>...</td>\n",
       "      <td>...</td>\n",
       "      <td>...</td>\n",
       "      <td>...</td>\n",
       "    </tr>\n",
       "    <tr>\n",
       "      <th>110660</th>\n",
       "      <td>0.533728</td>\n",
       "      <td>-0.036722</td>\n",
       "      <td>-0.053846</td>\n",
       "      <td>1</td>\n",
       "      <td>0</td>\n",
       "      <td>0</td>\n",
       "      <td>0</td>\n",
       "      <td>0</td>\n",
       "      <td>0</td>\n",
       "      <td>0</td>\n",
       "      <td>1</td>\n",
       "      <td>0</td>\n",
       "      <td>0</td>\n",
       "      <td>0</td>\n",
       "      <td>...</td>\n",
       "      <td>0</td>\n",
       "      <td>0</td>\n",
       "      <td>0</td>\n",
       "      <td>0</td>\n",
       "      <td>0</td>\n",
       "      <td>0</td>\n",
       "      <td>0</td>\n",
       "      <td>0</td>\n",
       "      <td>0</td>\n",
       "      <td>0</td>\n",
       "      <td>0</td>\n",
       "      <td>0</td>\n",
       "      <td>0</td>\n",
       "      <td>1</td>\n",
       "    </tr>\n",
       "    <tr>\n",
       "      <th>177197</th>\n",
       "      <td>0.689065</td>\n",
       "      <td>-0.778315</td>\n",
       "      <td>0.612601</td>\n",
       "      <td>0</td>\n",
       "      <td>0</td>\n",
       "      <td>0</td>\n",
       "      <td>0</td>\n",
       "      <td>0</td>\n",
       "      <td>0</td>\n",
       "      <td>1</td>\n",
       "      <td>1</td>\n",
       "      <td>0</td>\n",
       "      <td>0</td>\n",
       "      <td>0</td>\n",
       "      <td>...</td>\n",
       "      <td>0</td>\n",
       "      <td>0</td>\n",
       "      <td>0</td>\n",
       "      <td>0</td>\n",
       "      <td>1</td>\n",
       "      <td>0</td>\n",
       "      <td>0</td>\n",
       "      <td>0</td>\n",
       "      <td>0</td>\n",
       "      <td>0</td>\n",
       "      <td>0</td>\n",
       "      <td>0</td>\n",
       "      <td>0</td>\n",
       "      <td>0</td>\n",
       "    </tr>\n",
       "    <tr>\n",
       "      <th>173101</th>\n",
       "      <td>-1.174976</td>\n",
       "      <td>-0.222121</td>\n",
       "      <td>-3.252791</td>\n",
       "      <td>0</td>\n",
       "      <td>0</td>\n",
       "      <td>0</td>\n",
       "      <td>1</td>\n",
       "      <td>0</td>\n",
       "      <td>0</td>\n",
       "      <td>0</td>\n",
       "      <td>1</td>\n",
       "      <td>0</td>\n",
       "      <td>0</td>\n",
       "      <td>0</td>\n",
       "      <td>...</td>\n",
       "      <td>0</td>\n",
       "      <td>0</td>\n",
       "      <td>0</td>\n",
       "      <td>0</td>\n",
       "      <td>0</td>\n",
       "      <td>0</td>\n",
       "      <td>0</td>\n",
       "      <td>0</td>\n",
       "      <td>0</td>\n",
       "      <td>0</td>\n",
       "      <td>0</td>\n",
       "      <td>0</td>\n",
       "      <td>0</td>\n",
       "      <td>0</td>\n",
       "    </tr>\n",
       "    <tr>\n",
       "      <th>99575</th>\n",
       "      <td>0.999739</td>\n",
       "      <td>-0.778315</td>\n",
       "      <td>0.612601</td>\n",
       "      <td>0</td>\n",
       "      <td>0</td>\n",
       "      <td>0</td>\n",
       "      <td>1</td>\n",
       "      <td>0</td>\n",
       "      <td>0</td>\n",
       "      <td>0</td>\n",
       "      <td>1</td>\n",
       "      <td>0</td>\n",
       "      <td>0</td>\n",
       "      <td>0</td>\n",
       "      <td>...</td>\n",
       "      <td>0</td>\n",
       "      <td>0</td>\n",
       "      <td>0</td>\n",
       "      <td>0</td>\n",
       "      <td>0</td>\n",
       "      <td>0</td>\n",
       "      <td>0</td>\n",
       "      <td>0</td>\n",
       "      <td>0</td>\n",
       "      <td>0</td>\n",
       "      <td>0</td>\n",
       "      <td>1</td>\n",
       "      <td>0</td>\n",
       "      <td>0</td>\n",
       "    </tr>\n",
       "    <tr>\n",
       "      <th>303246</th>\n",
       "      <td>-0.553629</td>\n",
       "      <td>-1.334510</td>\n",
       "      <td>-1.253450</td>\n",
       "      <td>0</td>\n",
       "      <td>0</td>\n",
       "      <td>0</td>\n",
       "      <td>0</td>\n",
       "      <td>1</td>\n",
       "      <td>0</td>\n",
       "      <td>0</td>\n",
       "      <td>1</td>\n",
       "      <td>0</td>\n",
       "      <td>0</td>\n",
       "      <td>0</td>\n",
       "      <td>...</td>\n",
       "      <td>0</td>\n",
       "      <td>0</td>\n",
       "      <td>0</td>\n",
       "      <td>0</td>\n",
       "      <td>0</td>\n",
       "      <td>0</td>\n",
       "      <td>0</td>\n",
       "      <td>0</td>\n",
       "      <td>0</td>\n",
       "      <td>0</td>\n",
       "      <td>0</td>\n",
       "      <td>1</td>\n",
       "      <td>0</td>\n",
       "      <td>0</td>\n",
       "    </tr>\n",
       "  </tbody>\n",
       "</table>\n",
       "<p>187506 rows × 306 columns</p>\n",
       "</div>"
      ],
      "text/plain": [
       "        RegistrationYear     Power  Kilometer  VehicleType_convertible  \\\n",
       "25250          -1.174976 -1.334510   0.612601                        0   \n",
       "312249         -0.242956 -0.871015   0.612601                        0   \n",
       "128844         -0.553629 -1.149112   0.612601                        0   \n",
       "48859          -0.398292  0.055977   0.612601                        0   \n",
       "72810          -0.087619  0.519472   0.612601                        0   \n",
       "...                  ...       ...        ...                      ...   \n",
       "110660          0.533728 -0.036722  -0.053846                        1   \n",
       "177197          0.689065 -0.778315   0.612601                        0   \n",
       "173101         -1.174976 -0.222121  -3.252791                        0   \n",
       "99575           0.999739 -0.778315   0.612601                        0   \n",
       "303246         -0.553629 -1.334510  -1.253450                        0   \n",
       "\n",
       "        VehicleType_coupe  VehicleType_other  VehicleType_sedan  \\\n",
       "25250                   0                  0                  0   \n",
       "312249                  0                  0                  0   \n",
       "128844                  0                  0                  0   \n",
       "48859                   0                  0                  0   \n",
       "72810                   0                  0                  0   \n",
       "...                   ...                ...                ...   \n",
       "110660                  0                  0                  0   \n",
       "177197                  0                  0                  0   \n",
       "173101                  0                  0                  1   \n",
       "99575                   0                  0                  1   \n",
       "303246                  0                  0                  0   \n",
       "\n",
       "        VehicleType_small  VehicleType_suv  VehicleType_wagon  Gearbox_manual  \\\n",
       "25250                   1                0                  0               1   \n",
       "312249                  0                0                  1               1   \n",
       "128844                  1                0                  0               1   \n",
       "48859                   1                0                  0               1   \n",
       "72810                   0                0                  1               0   \n",
       "...                   ...              ...                ...             ...   \n",
       "110660                  0                0                  0               1   \n",
       "177197                  0                0                  1               1   \n",
       "173101                  0                0                  0               1   \n",
       "99575                   0                0                  0               1   \n",
       "303246                  1                0                  0               1   \n",
       "\n",
       "        Gearbox_other  Model_145  Model_147  ...  Brand_renault  Brand_rover  \\\n",
       "25250               0          0          0  ...              0            0   \n",
       "312249              0          0          0  ...              0            0   \n",
       "128844              0          0          0  ...              0            0   \n",
       "48859               0          0          0  ...              0            0   \n",
       "72810               0          0          0  ...              0            0   \n",
       "...               ...        ...        ...  ...            ...          ...   \n",
       "110660              0          0          0  ...              0            0   \n",
       "177197              0          0          0  ...              0            0   \n",
       "173101              0          0          0  ...              0            0   \n",
       "99575               0          0          0  ...              0            0   \n",
       "303246              0          0          0  ...              0            0   \n",
       "\n",
       "        Brand_saab  Brand_seat  Brand_skoda  Brand_smart  \\\n",
       "25250            0           0            0            0   \n",
       "312249           0           0            1            0   \n",
       "128844           0           1            0            0   \n",
       "48859            0           0            0            0   \n",
       "72810            0           0            0            0   \n",
       "...            ...         ...          ...          ...   \n",
       "110660           0           0            0            0   \n",
       "177197           0           0            1            0   \n",
       "173101           0           0            0            0   \n",
       "99575            0           0            0            0   \n",
       "303246           0           0            0            0   \n",
       "\n",
       "        Brand_sonstige_autos  Brand_subaru  Brand_suzuki  Brand_toyota  \\\n",
       "25250                      0             0             0             0   \n",
       "312249                     0             0             0             0   \n",
       "128844                     0             0             0             0   \n",
       "48859                      0             0             0             0   \n",
       "72810                      0             0             0             0   \n",
       "...                      ...           ...           ...           ...   \n",
       "110660                     0             0             0             0   \n",
       "177197                     0             0             0             0   \n",
       "173101                     0             0             0             0   \n",
       "99575                      0             0             0             0   \n",
       "303246                     0             0             0             0   \n",
       "\n",
       "        Brand_trabant  Brand_volkswagen  Brand_volvo  NotRepaired_yes  \n",
       "25250               0                 1            0                0  \n",
       "312249              0                 0            0                0  \n",
       "128844              0                 0            0                1  \n",
       "48859               0                 1            0                0  \n",
       "72810               0                 0            0                0  \n",
       "...               ...               ...          ...              ...  \n",
       "110660              0                 0            0                1  \n",
       "177197              0                 0            0                0  \n",
       "173101              0                 0            0                0  \n",
       "99575               0                 1            0                0  \n",
       "303246              0                 1            0                0  \n",
       "\n",
       "[187506 rows x 306 columns]"
      ]
     },
     "metadata": {},
     "output_type": "display_data"
    }
   ],
   "source": [
    "target_ohe = data_ohe['Price']\n",
    "features_ohe = data_ohe.drop('Price', axis=1)\n",
    "features_train_ohe, features_test_ohe, target_train_ohe, target_test_ohe = train_test_split(features_ohe, target_ohe, test_size = 0.25, \n",
    "                                                                                                 random_state = 12345)\n",
    "#display(features_train_ohe)\n",
    "features_train_ohe_numeric = features_train_ohe.select_dtypes('int64').copy()#.drop('Price', axis=1).copy()\n",
    "features_train_ohe_numeric.info()\n",
    "scaler = StandardScaler()\n",
    "scaler.fit(features_train_ohe_numeric)\n",
    "features_train_ohe.loc[:, features_train_ohe_numeric.columns] = scaler.transform(features_train_ohe_numeric)\n",
    "display(features_train_ohe)"
   ]
  },
  {
   "cell_type": "code",
   "execution_count": 15,
   "metadata": {},
   "outputs": [
    {
     "name": "stdout",
     "output_type": "stream",
     "text": [
      "<class 'pandas.core.frame.DataFrame'>\n",
      "Int64Index: 187506 entries, 25250 to 303246\n",
      "Data columns (total 3 columns):\n",
      " #   Column            Non-Null Count   Dtype\n",
      "---  ------            --------------   -----\n",
      " 0   RegistrationYear  187506 non-null  int64\n",
      " 1   Power             187506 non-null  int64\n",
      " 2   Kilometer         187506 non-null  int64\n",
      "dtypes: int64(3)\n",
      "memory usage: 5.7 MB\n"
     ]
    },
    {
     "name": "stderr",
     "output_type": "stream",
     "text": [
      "/opt/conda/lib/python3.9/site-packages/pandas/core/indexing.py:1738: SettingWithCopyWarning: \n",
      "A value is trying to be set on a copy of a slice from a DataFrame.\n",
      "Try using .loc[row_indexer,col_indexer] = value instead\n",
      "\n",
      "See the caveats in the documentation: https://pandas.pydata.org/pandas-docs/stable/user_guide/indexing.html#returning-a-view-versus-a-copy\n",
      "  self._setitem_single_column(loc, value[:, i].tolist(), pi)\n"
     ]
    },
    {
     "data": {
      "text/html": [
       "<div>\n",
       "<style scoped>\n",
       "    .dataframe tbody tr th:only-of-type {\n",
       "        vertical-align: middle;\n",
       "    }\n",
       "\n",
       "    .dataframe tbody tr th {\n",
       "        vertical-align: top;\n",
       "    }\n",
       "\n",
       "    .dataframe thead th {\n",
       "        text-align: right;\n",
       "    }\n",
       "</style>\n",
       "<table border=\"1\" class=\"dataframe\">\n",
       "  <thead>\n",
       "    <tr style=\"text-align: right;\">\n",
       "      <th></th>\n",
       "      <th>VehicleType</th>\n",
       "      <th>RegistrationYear</th>\n",
       "      <th>Gearbox</th>\n",
       "      <th>Power</th>\n",
       "      <th>Model</th>\n",
       "      <th>Kilometer</th>\n",
       "      <th>FuelType</th>\n",
       "      <th>Brand</th>\n",
       "      <th>NotRepaired</th>\n",
       "    </tr>\n",
       "  </thead>\n",
       "  <tbody>\n",
       "    <tr>\n",
       "      <th>25250</th>\n",
       "      <td>small</td>\n",
       "      <td>-1.174976</td>\n",
       "      <td>manual</td>\n",
       "      <td>-1.334510</td>\n",
       "      <td>polo</td>\n",
       "      <td>0.612601</td>\n",
       "      <td>petrol</td>\n",
       "      <td>volkswagen</td>\n",
       "      <td>no</td>\n",
       "    </tr>\n",
       "    <tr>\n",
       "      <th>312249</th>\n",
       "      <td>wagon</td>\n",
       "      <td>-0.242956</td>\n",
       "      <td>manual</td>\n",
       "      <td>-0.871015</td>\n",
       "      <td>fabia</td>\n",
       "      <td>0.612601</td>\n",
       "      <td>petrol</td>\n",
       "      <td>skoda</td>\n",
       "      <td>no</td>\n",
       "    </tr>\n",
       "    <tr>\n",
       "      <th>128844</th>\n",
       "      <td>small</td>\n",
       "      <td>-0.553629</td>\n",
       "      <td>manual</td>\n",
       "      <td>-1.149112</td>\n",
       "      <td>ibiza</td>\n",
       "      <td>0.612601</td>\n",
       "      <td>petrol</td>\n",
       "      <td>seat</td>\n",
       "      <td>yes</td>\n",
       "    </tr>\n",
       "    <tr>\n",
       "      <th>48859</th>\n",
       "      <td>small</td>\n",
       "      <td>-0.398292</td>\n",
       "      <td>manual</td>\n",
       "      <td>0.055977</td>\n",
       "      <td>golf</td>\n",
       "      <td>0.612601</td>\n",
       "      <td>other</td>\n",
       "      <td>volkswagen</td>\n",
       "      <td>no</td>\n",
       "    </tr>\n",
       "    <tr>\n",
       "      <th>72810</th>\n",
       "      <td>wagon</td>\n",
       "      <td>-0.087619</td>\n",
       "      <td>auto</td>\n",
       "      <td>0.519472</td>\n",
       "      <td>3er</td>\n",
       "      <td>0.612601</td>\n",
       "      <td>gasoline</td>\n",
       "      <td>bmw</td>\n",
       "      <td>no</td>\n",
       "    </tr>\n",
       "    <tr>\n",
       "      <th>...</th>\n",
       "      <td>...</td>\n",
       "      <td>...</td>\n",
       "      <td>...</td>\n",
       "      <td>...</td>\n",
       "      <td>...</td>\n",
       "      <td>...</td>\n",
       "      <td>...</td>\n",
       "      <td>...</td>\n",
       "      <td>...</td>\n",
       "    </tr>\n",
       "    <tr>\n",
       "      <th>110660</th>\n",
       "      <td>convertible</td>\n",
       "      <td>0.533728</td>\n",
       "      <td>manual</td>\n",
       "      <td>-0.036722</td>\n",
       "      <td>mx_reihe</td>\n",
       "      <td>-0.053846</td>\n",
       "      <td>petrol</td>\n",
       "      <td>mazda</td>\n",
       "      <td>yes</td>\n",
       "    </tr>\n",
       "    <tr>\n",
       "      <th>177197</th>\n",
       "      <td>wagon</td>\n",
       "      <td>0.689065</td>\n",
       "      <td>manual</td>\n",
       "      <td>-0.778315</td>\n",
       "      <td>fabia</td>\n",
       "      <td>0.612601</td>\n",
       "      <td>petrol</td>\n",
       "      <td>skoda</td>\n",
       "      <td>no</td>\n",
       "    </tr>\n",
       "    <tr>\n",
       "      <th>173101</th>\n",
       "      <td>sedan</td>\n",
       "      <td>-1.174976</td>\n",
       "      <td>manual</td>\n",
       "      <td>-0.222121</td>\n",
       "      <td>other</td>\n",
       "      <td>-3.252791</td>\n",
       "      <td>petrol</td>\n",
       "      <td>bmw</td>\n",
       "      <td>no</td>\n",
       "    </tr>\n",
       "    <tr>\n",
       "      <th>99575</th>\n",
       "      <td>sedan</td>\n",
       "      <td>0.999739</td>\n",
       "      <td>manual</td>\n",
       "      <td>-0.778315</td>\n",
       "      <td>golf</td>\n",
       "      <td>0.612601</td>\n",
       "      <td>petrol</td>\n",
       "      <td>volkswagen</td>\n",
       "      <td>no</td>\n",
       "    </tr>\n",
       "    <tr>\n",
       "      <th>303246</th>\n",
       "      <td>small</td>\n",
       "      <td>-0.553629</td>\n",
       "      <td>manual</td>\n",
       "      <td>-1.334510</td>\n",
       "      <td>lupo</td>\n",
       "      <td>-1.253450</td>\n",
       "      <td>petrol</td>\n",
       "      <td>volkswagen</td>\n",
       "      <td>no</td>\n",
       "    </tr>\n",
       "  </tbody>\n",
       "</table>\n",
       "<p>187506 rows × 9 columns</p>\n",
       "</div>"
      ],
      "text/plain": [
       "        VehicleType  RegistrationYear Gearbox     Power     Model  Kilometer  \\\n",
       "25250         small         -1.174976  manual -1.334510      polo   0.612601   \n",
       "312249        wagon         -0.242956  manual -0.871015     fabia   0.612601   \n",
       "128844        small         -0.553629  manual -1.149112     ibiza   0.612601   \n",
       "48859         small         -0.398292  manual  0.055977      golf   0.612601   \n",
       "72810         wagon         -0.087619    auto  0.519472       3er   0.612601   \n",
       "...             ...               ...     ...       ...       ...        ...   \n",
       "110660  convertible          0.533728  manual -0.036722  mx_reihe  -0.053846   \n",
       "177197        wagon          0.689065  manual -0.778315     fabia   0.612601   \n",
       "173101        sedan         -1.174976  manual -0.222121     other  -3.252791   \n",
       "99575         sedan          0.999739  manual -0.778315      golf   0.612601   \n",
       "303246        small         -0.553629  manual -1.334510      lupo  -1.253450   \n",
       "\n",
       "        FuelType       Brand NotRepaired  \n",
       "25250     petrol  volkswagen          no  \n",
       "312249    petrol       skoda          no  \n",
       "128844    petrol        seat         yes  \n",
       "48859      other  volkswagen          no  \n",
       "72810   gasoline         bmw          no  \n",
       "...          ...         ...         ...  \n",
       "110660    petrol       mazda         yes  \n",
       "177197    petrol       skoda          no  \n",
       "173101    petrol         bmw          no  \n",
       "99575     petrol  volkswagen          no  \n",
       "303246    petrol  volkswagen          no  \n",
       "\n",
       "[187506 rows x 9 columns]"
      ]
     },
     "metadata": {},
     "output_type": "display_data"
    }
   ],
   "source": [
    "data[data.select_dtypes('object').columns] = data.select_dtypes('object').astype('category')\n",
    "target = data['Price']\n",
    "features = data.drop('Price', axis=1)\n",
    "features_train, features_test, target_train, target_test = train_test_split(features, target, test_size = 0.25, \n",
    "                                                                                                 random_state = 12345)\n",
    "features_train_numeric = features_train.select_dtypes('int64').copy()#.drop('Price', axis=1).copy()\n",
    "features_train_numeric.info()\n",
    "#scaler = StandardScaler()\n",
    "scaler.fit(features_train_numeric)\n",
    "features_train.loc[:, features_train_numeric.columns] = scaler.transform(features_train_numeric)\n",
    "display(features_train)"
   ]
  },
  {
   "cell_type": "markdown",
   "metadata": {},
   "source": [
    "## Обучение моделей"
   ]
  },
  {
   "cell_type": "markdown",
   "metadata": {},
   "source": [
    "Посчитаем модель RandomForestRegressor"
   ]
  },
  {
   "cell_type": "code",
   "execution_count": 31,
   "metadata": {},
   "outputs": [],
   "source": [
    "param_dist_forest = {\"max_depth\": [3, None],\n",
    "                  \"max_features\": sp_randint(1, 11),\n",
    "                  \"min_samples_split\": sp_randint(2, 11),}\n",
    "\n",
    "random_search = RandomizedSearchCV(RandomForestRegressor(), param_distributions=param_dist_forest,\n",
    "                                       n_iter=3, scoring='neg_root_mean_squared_error', random_state = 54321)"
   ]
  },
  {
   "cell_type": "code",
   "execution_count": 32,
   "metadata": {},
   "outputs": [
    {
     "name": "stdout",
     "output_type": "stream",
     "text": [
      "Параметры лучшей модели RandomForestRegressor по метрике RMSE: RandomForestRegressor(max_features=8)\n"
     ]
    }
   ],
   "source": [
    "random_search.fit(features_train_ohe, target_train_ohe)\n",
    "best_model_forest_est = random_search.best_estimator_\n",
    "print(f'Параметры лучшей модели RandomForestRegressor по метрике RMSE: {best_model_forest_est}')"
   ]
  },
  {
   "cell_type": "code",
   "execution_count": 33,
   "metadata": {},
   "outputs": [
    {
     "name": "stdout",
     "output_type": "stream",
     "text": [
      "CPU times: user 1min 37s, sys: 1.16 s, total: 1min 38s\n",
      "Wall time: 1min 38s\n"
     ]
    }
   ],
   "source": [
    "%%time\n",
    "best_model_forest = best_model_forest_est.fit(features_train_ohe, target_train_ohe)"
   ]
  },
  {
   "cell_type": "code",
   "execution_count": 34,
   "metadata": {},
   "outputs": [
    {
     "name": "stdout",
     "output_type": "stream",
     "text": [
      "CPU times: user 10.4 s, sys: 180 ms, total: 10.6 s\n",
      "Wall time: 10.6 s\n"
     ]
    }
   ],
   "source": [
    "%%time\n",
    "predicted = best_model_forest.predict(features_train_ohe)"
   ]
  },
  {
   "cell_type": "code",
   "execution_count": 35,
   "metadata": {},
   "outputs": [
    {
     "name": "stdout",
     "output_type": "stream",
     "text": [
      "Лучшее значение RMSE для RandomForestRegressor: 1709.875379654645\n"
     ]
    }
   ],
   "source": [
    "scores_forest = cross_val_score(best_model_forest, features_train_ohe, target_train_ohe, scoring='neg_root_mean_squared_error', cv=5)\n",
    "rmse_forest = abs(scores_forest.mean())\n",
    "print(f'Лучшее значение RMSE для RandomForestRegressor: {rmse_forest}')"
   ]
  },
  {
   "cell_type": "markdown",
   "metadata": {},
   "source": [
    "Посчитаем модель LGBMRegressor"
   ]
  },
  {
   "cell_type": "code",
   "execution_count": 17,
   "metadata": {},
   "outputs": [],
   "source": [
    "param_dist_lgbm = {'boosting_type': ['gbdt'],\n",
    "                   'objective': ['regression'],\n",
    "                   'metric': ['rmse'],\n",
    "                   'max_depth': [6], \n",
    "                   'learning_rate': [0.1],\n",
    "                   'verbose': [10],\n",
    "                  }\n",
    "random_search = RandomizedSearchCV(LGBMRegressor(), param_distributions = param_dist_lgbm, n_iter = 3, scoring='neg_mean_absolute_error', random_state=54321, n_jobs = 18)"
   ]
  },
  {
   "cell_type": "code",
   "execution_count": 18,
   "metadata": {
    "scrolled": true
   },
   "outputs": [
    {
     "name": "stderr",
     "output_type": "stream",
     "text": [
      "/opt/conda/lib/python3.9/site-packages/sklearn/model_selection/_search.py:285: UserWarning: The total space of parameters 1 is smaller than n_iter=3. Running 1 iterations. For exhaustive searches, use GridSearchCV.\n",
      "  warnings.warn(\n"
     ]
    },
    {
     "name": "stdout",
     "output_type": "stream",
     "text": [
      "[LightGBM] [Warning] Accuracy may be bad since you didn't explicitly set num_leaves OR 2^max_depth > num_leaves. (num_leaves=31).\n",
      "[LightGBM] [Warning] Accuracy may be bad since you didn't explicitly set num_leaves OR 2^max_depth > num_leaves. (num_leaves=31).\n",
      "[LightGBM] [Debug] Dataset::GetMultiBinFromSparseFeatures: sparse rate 0.763685\n",
      "[LightGBM] [Debug] Dataset::GetMultiBinFromAllFeatures: sparse rate 0.181272\n",
      "[LightGBM] [Debug] init for col-wise cost 0.002944 seconds, init for row-wise cost 0.003681 seconds\n",
      "[LightGBM] [Warning] Auto-choosing row-wise multi-threading, the overhead of testing was 0.091530 seconds.\n",
      "You can set `force_row_wise=true` to remove the overhead.\n",
      "And if memory is not enough, you can set `force_col_wise=true`.\n",
      "[LightGBM] [Debug] Using Dense Multi-Val Bin\n",
      "[LightGBM] [Info] Total Bins 637\n",
      "[LightGBM] [Info] Number of data points in the train set: 187506, number of used features: 9\n",
      "[LightGBM] [Info] Start training from score 5006.257320\n",
      "[LightGBM] [Debug] Trained a tree with leaves = 31 and depth = 6\n",
      "[LightGBM] [Debug] Trained a tree with leaves = 31 and depth = 6\n",
      "[LightGBM] [Debug] Trained a tree with leaves = 31 and depth = 6\n",
      "[LightGBM] [Debug] Trained a tree with leaves = 31 and depth = 6\n",
      "[LightGBM] [Debug] Trained a tree with leaves = 31 and depth = 6\n",
      "[LightGBM] [Debug] Trained a tree with leaves = 31 and depth = 6\n",
      "[LightGBM] [Debug] Trained a tree with leaves = 31 and depth = 6\n",
      "[LightGBM] [Debug] Trained a tree with leaves = 31 and depth = 6\n",
      "[LightGBM] [Debug] Trained a tree with leaves = 31 and depth = 6\n",
      "[LightGBM] [Debug] Trained a tree with leaves = 31 and depth = 6\n",
      "[LightGBM] [Debug] Trained a tree with leaves = 31 and depth = 6\n",
      "[LightGBM] [Debug] Trained a tree with leaves = 31 and depth = 6\n",
      "[LightGBM] [Debug] Trained a tree with leaves = 31 and depth = 6\n",
      "[LightGBM] [Debug] Trained a tree with leaves = 31 and depth = 6\n",
      "[LightGBM] [Debug] Trained a tree with leaves = 31 and depth = 6\n",
      "[LightGBM] [Debug] Trained a tree with leaves = 31 and depth = 6\n",
      "[LightGBM] [Debug] Trained a tree with leaves = 31 and depth = 6\n",
      "[LightGBM] [Debug] Trained a tree with leaves = 31 and depth = 6\n",
      "[LightGBM] [Debug] Trained a tree with leaves = 31 and depth = 6\n",
      "[LightGBM] [Debug] Trained a tree with leaves = 31 and depth = 6\n",
      "[LightGBM] [Debug] Trained a tree with leaves = 31 and depth = 6\n",
      "[LightGBM] [Debug] Trained a tree with leaves = 31 and depth = 6\n",
      "[LightGBM] [Debug] Trained a tree with leaves = 31 and depth = 6\n",
      "[LightGBM] [Debug] Trained a tree with leaves = 31 and depth = 6\n",
      "[LightGBM] [Debug] Trained a tree with leaves = 31 and depth = 6\n",
      "[LightGBM] [Debug] Trained a tree with leaves = 31 and depth = 6\n",
      "[LightGBM] [Debug] Trained a tree with leaves = 31 and depth = 6\n",
      "[LightGBM] [Debug] Trained a tree with leaves = 31 and depth = 6\n",
      "[LightGBM] [Debug] Trained a tree with leaves = 31 and depth = 6\n",
      "[LightGBM] [Debug] Trained a tree with leaves = 31 and depth = 6\n",
      "[LightGBM] [Debug] Trained a tree with leaves = 31 and depth = 6\n",
      "[LightGBM] [Debug] Trained a tree with leaves = 31 and depth = 6\n",
      "[LightGBM] [Debug] Trained a tree with leaves = 31 and depth = 6\n",
      "[LightGBM] [Debug] Trained a tree with leaves = 31 and depth = 6\n",
      "[LightGBM] [Debug] Trained a tree with leaves = 31 and depth = 6\n",
      "[LightGBM] [Debug] Trained a tree with leaves = 31 and depth = 6\n",
      "[LightGBM] [Debug] Trained a tree with leaves = 31 and depth = 6\n",
      "[LightGBM] [Debug] Trained a tree with leaves = 31 and depth = 6\n",
      "[LightGBM] [Debug] Trained a tree with leaves = 31 and depth = 6\n",
      "[LightGBM] [Debug] Trained a tree with leaves = 31 and depth = 6\n",
      "[LightGBM] [Debug] Trained a tree with leaves = 31 and depth = 6\n",
      "[LightGBM] [Debug] Trained a tree with leaves = 31 and depth = 6\n",
      "[LightGBM] [Debug] Trained a tree with leaves = 31 and depth = 6\n",
      "[LightGBM] [Debug] Trained a tree with leaves = 31 and depth = 6\n",
      "[LightGBM] [Debug] Trained a tree with leaves = 31 and depth = 6\n",
      "[LightGBM] [Debug] Trained a tree with leaves = 31 and depth = 6\n",
      "[LightGBM] [Debug] Trained a tree with leaves = 31 and depth = 6\n",
      "[LightGBM] [Debug] Trained a tree with leaves = 31 and depth = 6\n",
      "[LightGBM] [Debug] Trained a tree with leaves = 31 and depth = 6\n",
      "[LightGBM] [Debug] Trained a tree with leaves = 31 and depth = 6\n",
      "[LightGBM] [Debug] Trained a tree with leaves = 31 and depth = 6\n",
      "[LightGBM] [Debug] Trained a tree with leaves = 31 and depth = 6\n",
      "[LightGBM] [Debug] Trained a tree with leaves = 31 and depth = 6\n",
      "[LightGBM] [Debug] Trained a tree with leaves = 31 and depth = 6\n",
      "[LightGBM] [Debug] Trained a tree with leaves = 31 and depth = 6\n",
      "[LightGBM] [Debug] Trained a tree with leaves = 31 and depth = 6\n",
      "[LightGBM] [Debug] Trained a tree with leaves = 31 and depth = 6\n",
      "[LightGBM] [Debug] Trained a tree with leaves = 31 and depth = 6\n",
      "[LightGBM] [Debug] Trained a tree with leaves = 31 and depth = 6\n",
      "[LightGBM] [Debug] Trained a tree with leaves = 31 and depth = 6\n",
      "[LightGBM] [Debug] Trained a tree with leaves = 31 and depth = 6\n",
      "[LightGBM] [Debug] Trained a tree with leaves = 31 and depth = 6\n",
      "[LightGBM] [Debug] Trained a tree with leaves = 31 and depth = 6\n",
      "[LightGBM] [Debug] Trained a tree with leaves = 31 and depth = 6\n",
      "[LightGBM] [Warning] No further splits with positive gain, best gain: -inf\n",
      "[LightGBM] [Debug] Trained a tree with leaves = 28 and depth = 6\n",
      "[LightGBM] [Debug] Trained a tree with leaves = 31 and depth = 6\n",
      "[LightGBM] [Debug] Trained a tree with leaves = 31 and depth = 6\n",
      "[LightGBM] [Debug] Trained a tree with leaves = 31 and depth = 6\n",
      "[LightGBM] [Debug] Trained a tree with leaves = 31 and depth = 6\n",
      "[LightGBM] [Debug] Trained a tree with leaves = 31 and depth = 6\n",
      "[LightGBM] [Debug] Trained a tree with leaves = 31 and depth = 6\n",
      "[LightGBM] [Debug] Trained a tree with leaves = 31 and depth = 6\n",
      "[LightGBM] [Debug] Trained a tree with leaves = 31 and depth = 6\n",
      "[LightGBM] [Debug] Trained a tree with leaves = 31 and depth = 6\n",
      "[LightGBM] [Debug] Trained a tree with leaves = 31 and depth = 6\n",
      "[LightGBM] [Debug] Trained a tree with leaves = 31 and depth = 6\n",
      "[LightGBM] [Debug] Trained a tree with leaves = 31 and depth = 6\n",
      "[LightGBM] [Debug] Trained a tree with leaves = 31 and depth = 6\n",
      "[LightGBM] [Debug] Trained a tree with leaves = 31 and depth = 6\n",
      "[LightGBM] [Debug] Trained a tree with leaves = 31 and depth = 6\n",
      "[LightGBM] [Debug] Trained a tree with leaves = 31 and depth = 6\n",
      "[LightGBM] [Debug] Trained a tree with leaves = 31 and depth = 6\n",
      "[LightGBM] [Debug] Trained a tree with leaves = 31 and depth = 6\n",
      "[LightGBM] [Debug] Trained a tree with leaves = 31 and depth = 6\n",
      "[LightGBM] [Debug] Trained a tree with leaves = 31 and depth = 6\n",
      "[LightGBM] [Warning] No further splits with positive gain, best gain: -inf\n",
      "[LightGBM] [Debug] Trained a tree with leaves = 27 and depth = 6\n",
      "[LightGBM] [Debug] Trained a tree with leaves = 31 and depth = 6\n",
      "[LightGBM] [Warning] No further splits with positive gain, best gain: -inf\n",
      "[LightGBM] [Debug] Trained a tree with leaves = 29 and depth = 6\n",
      "[LightGBM] [Debug] Trained a tree with leaves = 31 and depth = 6\n",
      "[LightGBM] [Debug] Trained a tree with leaves = 31 and depth = 6\n",
      "[LightGBM] [Debug] Trained a tree with leaves = 31 and depth = 6\n",
      "[LightGBM] [Debug] Trained a tree with leaves = 31 and depth = 6\n",
      "[LightGBM] [Debug] Trained a tree with leaves = 31 and depth = 6\n",
      "[LightGBM] [Debug] Trained a tree with leaves = 31 and depth = 6\n",
      "[LightGBM] [Warning] No further splits with positive gain, best gain: -inf\n",
      "[LightGBM] [Debug] Trained a tree with leaves = 21 and depth = 6\n",
      "[LightGBM] [Debug] Trained a tree with leaves = 31 and depth = 6\n",
      "[LightGBM] [Debug] Trained a tree with leaves = 31 and depth = 6\n",
      "[LightGBM] [Debug] Trained a tree with leaves = 31 and depth = 6\n",
      "[LightGBM] [Debug] Trained a tree with leaves = 31 and depth = 6\n",
      "[LightGBM] [Debug] Trained a tree with leaves = 31 and depth = 6\n",
      "Параметры лучшей модели LGBMRegressor по метрике RMSE: LGBMRegressor(max_depth=6, metric='rmse', objective='regression', verbose=10)\n"
     ]
    }
   ],
   "source": [
    "random_search.fit(features_train, target_train)\n",
    "best_model_lgbm_est = random_search.best_estimator_\n",
    "print(f'Параметры лучшей модели LGBMRegressor по метрике RMSE: {best_model_lgbm_est}')"
   ]
  },
  {
   "cell_type": "code",
   "execution_count": 19,
   "metadata": {
    "scrolled": true
   },
   "outputs": [
    {
     "name": "stdout",
     "output_type": "stream",
     "text": [
      "[LightGBM] [Warning] Accuracy may be bad since you didn't explicitly set num_leaves OR 2^max_depth > num_leaves. (num_leaves=31).\n",
      "[LightGBM] [Warning] Accuracy may be bad since you didn't explicitly set num_leaves OR 2^max_depth > num_leaves. (num_leaves=31).\n",
      "[LightGBM] [Debug] Dataset::GetMultiBinFromSparseFeatures: sparse rate 0.763685\n",
      "[LightGBM] [Debug] Dataset::GetMultiBinFromAllFeatures: sparse rate 0.181272\n",
      "[LightGBM] [Debug] init for col-wise cost 0.089800 seconds, init for row-wise cost 0.003651 seconds\n",
      "[LightGBM] [Warning] Auto-choosing row-wise multi-threading, the overhead of testing was 0.092266 seconds.\n",
      "You can set `force_row_wise=true` to remove the overhead.\n",
      "And if memory is not enough, you can set `force_col_wise=true`.\n",
      "[LightGBM] [Debug] Using Dense Multi-Val Bin\n",
      "[LightGBM] [Info] Total Bins 637\n",
      "[LightGBM] [Info] Number of data points in the train set: 187506, number of used features: 9\n",
      "[LightGBM] [Info] Start training from score 5006.257320\n",
      "[LightGBM] [Debug] Trained a tree with leaves = 31 and depth = 6\n",
      "[LightGBM] [Debug] Trained a tree with leaves = 31 and depth = 6\n",
      "[LightGBM] [Debug] Trained a tree with leaves = 31 and depth = 6\n",
      "[LightGBM] [Debug] Trained a tree with leaves = 31 and depth = 6\n",
      "[LightGBM] [Debug] Trained a tree with leaves = 31 and depth = 6\n",
      "[LightGBM] [Debug] Trained a tree with leaves = 31 and depth = 6\n",
      "[LightGBM] [Debug] Trained a tree with leaves = 31 and depth = 6\n",
      "[LightGBM] [Debug] Trained a tree with leaves = 31 and depth = 6\n",
      "[LightGBM] [Debug] Trained a tree with leaves = 31 and depth = 6\n",
      "[LightGBM] [Debug] Trained a tree with leaves = 31 and depth = 6\n",
      "[LightGBM] [Debug] Trained a tree with leaves = 31 and depth = 6\n",
      "[LightGBM] [Debug] Trained a tree with leaves = 31 and depth = 6\n",
      "[LightGBM] [Debug] Trained a tree with leaves = 31 and depth = 6\n",
      "[LightGBM] [Debug] Trained a tree with leaves = 31 and depth = 6\n",
      "[LightGBM] [Debug] Trained a tree with leaves = 31 and depth = 6\n",
      "[LightGBM] [Debug] Trained a tree with leaves = 31 and depth = 6\n",
      "[LightGBM] [Debug] Trained a tree with leaves = 31 and depth = 6\n",
      "[LightGBM] [Debug] Trained a tree with leaves = 31 and depth = 6\n",
      "[LightGBM] [Debug] Trained a tree with leaves = 31 and depth = 6\n",
      "[LightGBM] [Debug] Trained a tree with leaves = 31 and depth = 6\n",
      "[LightGBM] [Debug] Trained a tree with leaves = 31 and depth = 6\n",
      "[LightGBM] [Debug] Trained a tree with leaves = 31 and depth = 6\n",
      "[LightGBM] [Debug] Trained a tree with leaves = 31 and depth = 6\n",
      "[LightGBM] [Debug] Trained a tree with leaves = 31 and depth = 6\n",
      "[LightGBM] [Debug] Trained a tree with leaves = 31 and depth = 6\n",
      "[LightGBM] [Debug] Trained a tree with leaves = 31 and depth = 6\n",
      "[LightGBM] [Debug] Trained a tree with leaves = 31 and depth = 6\n",
      "[LightGBM] [Debug] Trained a tree with leaves = 31 and depth = 6\n",
      "[LightGBM] [Debug] Trained a tree with leaves = 31 and depth = 6\n",
      "[LightGBM] [Debug] Trained a tree with leaves = 31 and depth = 6\n",
      "[LightGBM] [Debug] Trained a tree with leaves = 31 and depth = 6\n",
      "[LightGBM] [Debug] Trained a tree with leaves = 31 and depth = 6\n",
      "[LightGBM] [Debug] Trained a tree with leaves = 31 and depth = 6\n",
      "[LightGBM] [Debug] Trained a tree with leaves = 31 and depth = 6\n",
      "[LightGBM] [Debug] Trained a tree with leaves = 31 and depth = 6\n",
      "[LightGBM] [Debug] Trained a tree with leaves = 31 and depth = 6\n",
      "[LightGBM] [Debug] Trained a tree with leaves = 31 and depth = 6\n",
      "[LightGBM] [Debug] Trained a tree with leaves = 31 and depth = 6\n",
      "[LightGBM] [Debug] Trained a tree with leaves = 31 and depth = 6\n",
      "[LightGBM] [Debug] Trained a tree with leaves = 31 and depth = 6\n",
      "[LightGBM] [Debug] Trained a tree with leaves = 31 and depth = 6\n",
      "[LightGBM] [Debug] Trained a tree with leaves = 31 and depth = 6\n",
      "[LightGBM] [Debug] Trained a tree with leaves = 31 and depth = 6\n",
      "[LightGBM] [Debug] Trained a tree with leaves = 31 and depth = 6\n",
      "[LightGBM] [Debug] Trained a tree with leaves = 31 and depth = 6\n",
      "[LightGBM] [Debug] Trained a tree with leaves = 31 and depth = 6\n",
      "[LightGBM] [Debug] Trained a tree with leaves = 31 and depth = 6\n",
      "[LightGBM] [Debug] Trained a tree with leaves = 31 and depth = 6\n",
      "[LightGBM] [Debug] Trained a tree with leaves = 31 and depth = 6\n",
      "[LightGBM] [Debug] Trained a tree with leaves = 31 and depth = 6\n",
      "[LightGBM] [Debug] Trained a tree with leaves = 31 and depth = 6\n",
      "[LightGBM] [Debug] Trained a tree with leaves = 31 and depth = 6\n",
      "[LightGBM] [Debug] Trained a tree with leaves = 31 and depth = 6\n",
      "[LightGBM] [Debug] Trained a tree with leaves = 31 and depth = 6\n",
      "[LightGBM] [Debug] Trained a tree with leaves = 31 and depth = 6\n",
      "[LightGBM] [Debug] Trained a tree with leaves = 31 and depth = 6\n",
      "[LightGBM] [Debug] Trained a tree with leaves = 31 and depth = 6\n",
      "[LightGBM] [Debug] Trained a tree with leaves = 31 and depth = 6\n",
      "[LightGBM] [Debug] Trained a tree with leaves = 31 and depth = 6\n",
      "[LightGBM] [Debug] Trained a tree with leaves = 31 and depth = 6\n",
      "[LightGBM] [Debug] Trained a tree with leaves = 31 and depth = 6\n",
      "[LightGBM] [Debug] Trained a tree with leaves = 31 and depth = 6\n",
      "[LightGBM] [Debug] Trained a tree with leaves = 31 and depth = 6\n",
      "[LightGBM] [Debug] Trained a tree with leaves = 31 and depth = 6\n",
      "[LightGBM] [Warning] No further splits with positive gain, best gain: -inf\n",
      "[LightGBM] [Debug] Trained a tree with leaves = 28 and depth = 6\n",
      "[LightGBM] [Debug] Trained a tree with leaves = 31 and depth = 6\n",
      "[LightGBM] [Debug] Trained a tree with leaves = 31 and depth = 6\n",
      "[LightGBM] [Debug] Trained a tree with leaves = 31 and depth = 6\n",
      "[LightGBM] [Debug] Trained a tree with leaves = 31 and depth = 6\n",
      "[LightGBM] [Debug] Trained a tree with leaves = 31 and depth = 6\n",
      "[LightGBM] [Debug] Trained a tree with leaves = 31 and depth = 6\n",
      "[LightGBM] [Debug] Trained a tree with leaves = 31 and depth = 6\n",
      "[LightGBM] [Debug] Trained a tree with leaves = 31 and depth = 6\n",
      "[LightGBM] [Debug] Trained a tree with leaves = 31 and depth = 6\n",
      "[LightGBM] [Debug] Trained a tree with leaves = 31 and depth = 6\n",
      "[LightGBM] [Debug] Trained a tree with leaves = 31 and depth = 6\n",
      "[LightGBM] [Debug] Trained a tree with leaves = 31 and depth = 6\n",
      "[LightGBM] [Debug] Trained a tree with leaves = 31 and depth = 6\n",
      "[LightGBM] [Debug] Trained a tree with leaves = 31 and depth = 6\n",
      "[LightGBM] [Debug] Trained a tree with leaves = 31 and depth = 6\n",
      "[LightGBM] [Debug] Trained a tree with leaves = 31 and depth = 6\n",
      "[LightGBM] [Debug] Trained a tree with leaves = 31 and depth = 6\n",
      "[LightGBM] [Debug] Trained a tree with leaves = 31 and depth = 6\n",
      "[LightGBM] [Debug] Trained a tree with leaves = 31 and depth = 6\n",
      "[LightGBM] [Debug] Trained a tree with leaves = 31 and depth = 6\n",
      "[LightGBM] [Warning] No further splits with positive gain, best gain: -inf\n",
      "[LightGBM] [Debug] Trained a tree with leaves = 27 and depth = 6\n",
      "[LightGBM] [Debug] Trained a tree with leaves = 31 and depth = 6\n",
      "[LightGBM] [Warning] No further splits with positive gain, best gain: -inf\n",
      "[LightGBM] [Debug] Trained a tree with leaves = 29 and depth = 6\n",
      "[LightGBM] [Debug] Trained a tree with leaves = 31 and depth = 6\n",
      "[LightGBM] [Debug] Trained a tree with leaves = 31 and depth = 6\n",
      "[LightGBM] [Debug] Trained a tree with leaves = 31 and depth = 6\n",
      "[LightGBM] [Debug] Trained a tree with leaves = 31 and depth = 6\n",
      "[LightGBM] [Debug] Trained a tree with leaves = 31 and depth = 6\n",
      "[LightGBM] [Debug] Trained a tree with leaves = 31 and depth = 6\n",
      "[LightGBM] [Warning] No further splits with positive gain, best gain: -inf\n",
      "[LightGBM] [Debug] Trained a tree with leaves = 21 and depth = 6\n",
      "[LightGBM] [Debug] Trained a tree with leaves = 31 and depth = 6\n",
      "[LightGBM] [Debug] Trained a tree with leaves = 31 and depth = 6\n",
      "[LightGBM] [Debug] Trained a tree with leaves = 31 and depth = 6\n",
      "[LightGBM] [Debug] Trained a tree with leaves = 31 and depth = 6\n",
      "[LightGBM] [Debug] Trained a tree with leaves = 31 and depth = 6\n",
      "CPU times: user 4.3 s, sys: 0 ns, total: 4.3 s\n",
      "Wall time: 4.31 s\n"
     ]
    }
   ],
   "source": [
    "%%time\n",
    "best_model_lgbm = best_model_lgbm_est.fit(features_train, target_train)"
   ]
  },
  {
   "cell_type": "code",
   "execution_count": 39,
   "metadata": {},
   "outputs": [
    {
     "name": "stdout",
     "output_type": "stream",
     "text": [
      "CPU times: user 1.76 s, sys: 0 ns, total: 1.76 s\n",
      "Wall time: 1.81 s\n"
     ]
    }
   ],
   "source": [
    "%%time\n",
    "predicted = best_model_lgbm.predict(features_train)"
   ]
  },
  {
   "cell_type": "code",
   "execution_count": 40,
   "metadata": {
    "scrolled": true
   },
   "outputs": [
    {
     "name": "stdout",
     "output_type": "stream",
     "text": [
      "[LightGBM] [Warning] Accuracy may be bad since you didn't explicitly set num_leaves OR 2^max_depth > num_leaves. (num_leaves=31).\n",
      "[LightGBM] [Warning] Accuracy may be bad since you didn't explicitly set num_leaves OR 2^max_depth > num_leaves. (num_leaves=31).\n",
      "[LightGBM] [Debug] Dataset::GetMultiBinFromSparseFeatures: sparse rate 0.763016\n",
      "[LightGBM] [Debug] Dataset::GetMultiBinFromAllFeatures: sparse rate 0.181196\n",
      "[LightGBM] [Debug] init for col-wise cost 0.091148 seconds, init for row-wise cost 0.002902 seconds\n",
      "[LightGBM] [Warning] Auto-choosing row-wise multi-threading, the overhead of testing was 0.092263 seconds.\n",
      "You can set `force_row_wise=true` to remove the overhead.\n",
      "And if memory is not enough, you can set `force_col_wise=true`.\n",
      "[LightGBM] [Debug] Using Dense Multi-Val Bin\n",
      "[LightGBM] [Info] Total Bins 635\n",
      "[LightGBM] [Info] Number of data points in the train set: 150004, number of used features: 9\n",
      "[LightGBM] [Info] Start training from score 5011.730094\n",
      "[LightGBM] [Debug] Trained a tree with leaves = 31 and depth = 6\n",
      "[LightGBM] [Debug] Trained a tree with leaves = 31 and depth = 6\n",
      "[LightGBM] [Debug] Trained a tree with leaves = 31 and depth = 6\n",
      "[LightGBM] [Debug] Trained a tree with leaves = 31 and depth = 6\n",
      "[LightGBM] [Debug] Trained a tree with leaves = 31 and depth = 6\n",
      "[LightGBM] [Debug] Trained a tree with leaves = 31 and depth = 6\n",
      "[LightGBM] [Debug] Trained a tree with leaves = 31 and depth = 6\n",
      "[LightGBM] [Debug] Trained a tree with leaves = 31 and depth = 6\n",
      "[LightGBM] [Debug] Trained a tree with leaves = 31 and depth = 6\n",
      "[LightGBM] [Debug] Trained a tree with leaves = 31 and depth = 6\n",
      "[LightGBM] [Debug] Trained a tree with leaves = 31 and depth = 6\n",
      "[LightGBM] [Debug] Trained a tree with leaves = 31 and depth = 6\n",
      "[LightGBM] [Debug] Trained a tree with leaves = 31 and depth = 6\n",
      "[LightGBM] [Debug] Trained a tree with leaves = 31 and depth = 6\n",
      "[LightGBM] [Debug] Trained a tree with leaves = 31 and depth = 6\n",
      "[LightGBM] [Debug] Trained a tree with leaves = 31 and depth = 6\n",
      "[LightGBM] [Debug] Trained a tree with leaves = 31 and depth = 6\n",
      "[LightGBM] [Debug] Trained a tree with leaves = 31 and depth = 6\n",
      "[LightGBM] [Debug] Trained a tree with leaves = 31 and depth = 6\n",
      "[LightGBM] [Debug] Trained a tree with leaves = 31 and depth = 6\n",
      "[LightGBM] [Debug] Trained a tree with leaves = 31 and depth = 6\n",
      "[LightGBM] [Debug] Trained a tree with leaves = 31 and depth = 6\n",
      "[LightGBM] [Debug] Trained a tree with leaves = 31 and depth = 6\n",
      "[LightGBM] [Debug] Trained a tree with leaves = 31 and depth = 6\n",
      "[LightGBM] [Debug] Trained a tree with leaves = 31 and depth = 6\n",
      "[LightGBM] [Debug] Trained a tree with leaves = 31 and depth = 6\n",
      "[LightGBM] [Debug] Trained a tree with leaves = 31 and depth = 6\n",
      "[LightGBM] [Debug] Trained a tree with leaves = 31 and depth = 6\n",
      "[LightGBM] [Debug] Trained a tree with leaves = 31 and depth = 6\n",
      "[LightGBM] [Debug] Trained a tree with leaves = 31 and depth = 6\n",
      "[LightGBM] [Debug] Trained a tree with leaves = 31 and depth = 6\n",
      "[LightGBM] [Debug] Trained a tree with leaves = 31 and depth = 6\n",
      "[LightGBM] [Debug] Trained a tree with leaves = 31 and depth = 6\n",
      "[LightGBM] [Debug] Trained a tree with leaves = 31 and depth = 6\n",
      "[LightGBM] [Debug] Trained a tree with leaves = 31 and depth = 6\n",
      "[LightGBM] [Debug] Trained a tree with leaves = 31 and depth = 6\n",
      "[LightGBM] [Debug] Trained a tree with leaves = 31 and depth = 6\n",
      "[LightGBM] [Debug] Trained a tree with leaves = 31 and depth = 6\n",
      "[LightGBM] [Debug] Trained a tree with leaves = 31 and depth = 6\n",
      "[LightGBM] [Debug] Trained a tree with leaves = 31 and depth = 6\n",
      "[LightGBM] [Debug] Trained a tree with leaves = 31 and depth = 6\n",
      "[LightGBM] [Debug] Trained a tree with leaves = 31 and depth = 6\n",
      "[LightGBM] [Debug] Trained a tree with leaves = 31 and depth = 6\n",
      "[LightGBM] [Debug] Trained a tree with leaves = 31 and depth = 6\n",
      "[LightGBM] [Debug] Trained a tree with leaves = 31 and depth = 6\n",
      "[LightGBM] [Debug] Trained a tree with leaves = 31 and depth = 6\n",
      "[LightGBM] [Debug] Trained a tree with leaves = 31 and depth = 6\n",
      "[LightGBM] [Debug] Trained a tree with leaves = 31 and depth = 6\n",
      "[LightGBM] [Debug] Trained a tree with leaves = 31 and depth = 6\n",
      "[LightGBM] [Debug] Trained a tree with leaves = 31 and depth = 6\n",
      "[LightGBM] [Debug] Trained a tree with leaves = 31 and depth = 6\n",
      "[LightGBM] [Debug] Trained a tree with leaves = 31 and depth = 6\n",
      "[LightGBM] [Debug] Trained a tree with leaves = 31 and depth = 6\n",
      "[LightGBM] [Debug] Trained a tree with leaves = 31 and depth = 6\n",
      "[LightGBM] [Debug] Trained a tree with leaves = 31 and depth = 6\n",
      "[LightGBM] [Debug] Trained a tree with leaves = 31 and depth = 6\n",
      "[LightGBM] [Debug] Trained a tree with leaves = 31 and depth = 6\n",
      "[LightGBM] [Debug] Trained a tree with leaves = 31 and depth = 6\n",
      "[LightGBM] [Debug] Trained a tree with leaves = 31 and depth = 6\n",
      "[LightGBM] [Debug] Trained a tree with leaves = 31 and depth = 6\n",
      "[LightGBM] [Debug] Trained a tree with leaves = 31 and depth = 6\n",
      "[LightGBM] [Debug] Trained a tree with leaves = 31 and depth = 6\n",
      "[LightGBM] [Debug] Trained a tree with leaves = 31 and depth = 6\n",
      "[LightGBM] [Debug] Trained a tree with leaves = 31 and depth = 6\n",
      "[LightGBM] [Debug] Trained a tree with leaves = 31 and depth = 6\n",
      "[LightGBM] [Debug] Trained a tree with leaves = 31 and depth = 6\n",
      "[LightGBM] [Debug] Trained a tree with leaves = 31 and depth = 6\n",
      "[LightGBM] [Debug] Trained a tree with leaves = 31 and depth = 6\n",
      "[LightGBM] [Debug] Trained a tree with leaves = 31 and depth = 6\n",
      "[LightGBM] [Debug] Trained a tree with leaves = 31 and depth = 6\n",
      "[LightGBM] [Debug] Trained a tree with leaves = 31 and depth = 6\n",
      "[LightGBM] [Debug] Trained a tree with leaves = 31 and depth = 6\n",
      "[LightGBM] [Debug] Trained a tree with leaves = 31 and depth = 6\n",
      "[LightGBM] [Debug] Trained a tree with leaves = 31 and depth = 6\n",
      "[LightGBM] [Debug] Trained a tree with leaves = 31 and depth = 6\n",
      "[LightGBM] [Debug] Trained a tree with leaves = 31 and depth = 6\n",
      "[LightGBM] [Warning] No further splits with positive gain, best gain: -inf\n",
      "[LightGBM] [Debug] Trained a tree with leaves = 28 and depth = 6\n",
      "[LightGBM] [Debug] Trained a tree with leaves = 31 and depth = 6\n",
      "[LightGBM] [Debug] Trained a tree with leaves = 31 and depth = 6\n",
      "[LightGBM] [Debug] Trained a tree with leaves = 31 and depth = 6\n",
      "[LightGBM] [Debug] Trained a tree with leaves = 31 and depth = 6\n",
      "[LightGBM] [Warning] No further splits with positive gain, best gain: -inf\n",
      "[LightGBM] [Debug] Trained a tree with leaves = 24 and depth = 6\n",
      "[LightGBM] [Debug] Trained a tree with leaves = 31 and depth = 6\n",
      "[LightGBM] [Warning] No further splits with positive gain, best gain: -inf\n",
      "[LightGBM] [Debug] Trained a tree with leaves = 29 and depth = 6\n",
      "[LightGBM] [Debug] Trained a tree with leaves = 31 and depth = 6\n",
      "[LightGBM] [Debug] Trained a tree with leaves = 31 and depth = 6\n",
      "[LightGBM] [Debug] Trained a tree with leaves = 31 and depth = 6\n",
      "[LightGBM] [Debug] Trained a tree with leaves = 31 and depth = 6\n",
      "[LightGBM] [Warning] No further splits with positive gain, best gain: -inf\n",
      "[LightGBM] [Debug] Trained a tree with leaves = 20 and depth = 6\n",
      "[LightGBM] [Debug] Trained a tree with leaves = 31 and depth = 6\n",
      "[LightGBM] [Debug] Trained a tree with leaves = 31 and depth = 6\n",
      "[LightGBM] [Debug] Trained a tree with leaves = 31 and depth = 6\n",
      "[LightGBM] [Debug] Trained a tree with leaves = 31 and depth = 6\n",
      "[LightGBM] [Debug] Trained a tree with leaves = 31 and depth = 6\n",
      "[LightGBM] [Warning] No further splits with positive gain, best gain: -inf\n",
      "[LightGBM] [Debug] Trained a tree with leaves = 24 and depth = 6\n",
      "[LightGBM] [Debug] Trained a tree with leaves = 31 and depth = 6\n",
      "[LightGBM] [Debug] Trained a tree with leaves = 31 and depth = 6\n",
      "[LightGBM] [Warning] No further splits with positive gain, best gain: -inf\n",
      "[LightGBM] [Debug] Trained a tree with leaves = 22 and depth = 6\n",
      "[LightGBM] [Debug] Trained a tree with leaves = 31 and depth = 6\n",
      "[LightGBM] [Debug] Trained a tree with leaves = 31 and depth = 6\n",
      "[LightGBM] [Warning] Accuracy may be bad since you didn't explicitly set num_leaves OR 2^max_depth > num_leaves. (num_leaves=31).\n",
      "[LightGBM] [Warning] Accuracy may be bad since you didn't explicitly set num_leaves OR 2^max_depth > num_leaves. (num_leaves=31).\n",
      "[LightGBM] [Debug] Dataset::GetMultiBinFromSparseFeatures: sparse rate 0.763748\n",
      "[LightGBM] [Debug] Dataset::GetMultiBinFromAllFeatures: sparse rate 0.181258\n",
      "[LightGBM] [Debug] init for col-wise cost 0.002672 seconds, init for row-wise cost 0.093352 seconds\n",
      "[LightGBM] [Warning] Auto-choosing row-wise multi-threading, the overhead of testing was 0.004206 seconds.\n",
      "You can set `force_row_wise=true` to remove the overhead.\n",
      "And if memory is not enough, you can set `force_col_wise=true`.\n",
      "[LightGBM] [Debug] Using Dense Multi-Val Bin\n",
      "[LightGBM] [Info] Total Bins 635\n",
      "[LightGBM] [Info] Number of data points in the train set: 150005, number of used features: 9\n",
      "[LightGBM] [Info] Start training from score 5003.633526\n",
      "[LightGBM] [Debug] Trained a tree with leaves = 31 and depth = 6\n",
      "[LightGBM] [Debug] Trained a tree with leaves = 31 and depth = 6\n",
      "[LightGBM] [Debug] Trained a tree with leaves = 31 and depth = 6\n",
      "[LightGBM] [Debug] Trained a tree with leaves = 31 and depth = 6\n",
      "[LightGBM] [Debug] Trained a tree with leaves = 31 and depth = 6\n",
      "[LightGBM] [Debug] Trained a tree with leaves = 31 and depth = 6\n",
      "[LightGBM] [Debug] Trained a tree with leaves = 31 and depth = 6\n",
      "[LightGBM] [Debug] Trained a tree with leaves = 31 and depth = 6\n",
      "[LightGBM] [Debug] Trained a tree with leaves = 31 and depth = 6\n",
      "[LightGBM] [Debug] Trained a tree with leaves = 31 and depth = 6\n",
      "[LightGBM] [Debug] Trained a tree with leaves = 31 and depth = 6\n",
      "[LightGBM] [Debug] Trained a tree with leaves = 31 and depth = 6\n",
      "[LightGBM] [Debug] Trained a tree with leaves = 31 and depth = 6\n",
      "[LightGBM] [Debug] Trained a tree with leaves = 31 and depth = 6\n",
      "[LightGBM] [Debug] Trained a tree with leaves = 31 and depth = 6\n",
      "[LightGBM] [Debug] Trained a tree with leaves = 31 and depth = 6\n",
      "[LightGBM] [Debug] Trained a tree with leaves = 31 and depth = 6\n",
      "[LightGBM] [Debug] Trained a tree with leaves = 31 and depth = 6\n",
      "[LightGBM] [Debug] Trained a tree with leaves = 31 and depth = 6\n",
      "[LightGBM] [Debug] Trained a tree with leaves = 31 and depth = 6\n",
      "[LightGBM] [Debug] Trained a tree with leaves = 31 and depth = 6\n",
      "[LightGBM] [Debug] Trained a tree with leaves = 31 and depth = 6\n",
      "[LightGBM] [Debug] Trained a tree with leaves = 31 and depth = 6\n",
      "[LightGBM] [Debug] Trained a tree with leaves = 31 and depth = 6\n",
      "[LightGBM] [Debug] Trained a tree with leaves = 31 and depth = 6\n",
      "[LightGBM] [Debug] Trained a tree with leaves = 31 and depth = 6\n",
      "[LightGBM] [Debug] Trained a tree with leaves = 31 and depth = 6\n",
      "[LightGBM] [Debug] Trained a tree with leaves = 31 and depth = 6\n",
      "[LightGBM] [Debug] Trained a tree with leaves = 31 and depth = 6\n",
      "[LightGBM] [Debug] Trained a tree with leaves = 31 and depth = 6\n",
      "[LightGBM] [Debug] Trained a tree with leaves = 31 and depth = 6\n",
      "[LightGBM] [Debug] Trained a tree with leaves = 31 and depth = 6\n",
      "[LightGBM] [Debug] Trained a tree with leaves = 31 and depth = 6\n",
      "[LightGBM] [Debug] Trained a tree with leaves = 31 and depth = 6\n",
      "[LightGBM] [Debug] Trained a tree with leaves = 31 and depth = 6\n",
      "[LightGBM] [Debug] Trained a tree with leaves = 31 and depth = 6\n",
      "[LightGBM] [Debug] Trained a tree with leaves = 31 and depth = 6\n",
      "[LightGBM] [Debug] Trained a tree with leaves = 31 and depth = 6\n",
      "[LightGBM] [Debug] Trained a tree with leaves = 31 and depth = 6\n",
      "[LightGBM] [Debug] Trained a tree with leaves = 31 and depth = 6\n",
      "[LightGBM] [Debug] Trained a tree with leaves = 31 and depth = 6\n",
      "[LightGBM] [Debug] Trained a tree with leaves = 31 and depth = 6\n",
      "[LightGBM] [Debug] Trained a tree with leaves = 31 and depth = 6\n",
      "[LightGBM] [Debug] Trained a tree with leaves = 31 and depth = 6\n",
      "[LightGBM] [Debug] Trained a tree with leaves = 31 and depth = 6\n",
      "[LightGBM] [Debug] Trained a tree with leaves = 31 and depth = 6\n",
      "[LightGBM] [Debug] Trained a tree with leaves = 31 and depth = 6\n",
      "[LightGBM] [Debug] Trained a tree with leaves = 31 and depth = 6\n",
      "[LightGBM] [Debug] Trained a tree with leaves = 31 and depth = 6\n",
      "[LightGBM] [Debug] Trained a tree with leaves = 31 and depth = 6\n",
      "[LightGBM] [Debug] Trained a tree with leaves = 31 and depth = 6\n",
      "[LightGBM] [Debug] Trained a tree with leaves = 31 and depth = 6\n",
      "[LightGBM] [Debug] Trained a tree with leaves = 31 and depth = 6\n",
      "[LightGBM] [Debug] Trained a tree with leaves = 31 and depth = 6\n",
      "[LightGBM] [Debug] Trained a tree with leaves = 31 and depth = 6\n",
      "[LightGBM] [Debug] Trained a tree with leaves = 31 and depth = 6\n",
      "[LightGBM] [Debug] Trained a tree with leaves = 31 and depth = 6\n",
      "[LightGBM] [Debug] Trained a tree with leaves = 31 and depth = 6\n",
      "[LightGBM] [Debug] Trained a tree with leaves = 31 and depth = 6\n",
      "[LightGBM] [Debug] Trained a tree with leaves = 31 and depth = 6\n",
      "[LightGBM] [Debug] Trained a tree with leaves = 31 and depth = 6\n",
      "[LightGBM] [Debug] Trained a tree with leaves = 31 and depth = 6\n",
      "[LightGBM] [Debug] Trained a tree with leaves = 31 and depth = 6\n",
      "[LightGBM] [Debug] Trained a tree with leaves = 31 and depth = 6\n",
      "[LightGBM] [Debug] Trained a tree with leaves = 31 and depth = 6\n",
      "[LightGBM] [Debug] Trained a tree with leaves = 31 and depth = 6\n",
      "[LightGBM] [Debug] Trained a tree with leaves = 31 and depth = 6\n",
      "[LightGBM] [Debug] Trained a tree with leaves = 31 and depth = 6\n",
      "[LightGBM] [Debug] Trained a tree with leaves = 31 and depth = 6\n",
      "[LightGBM] [Debug] Trained a tree with leaves = 31 and depth = 6\n",
      "[LightGBM] [Debug] Trained a tree with leaves = 31 and depth = 6\n",
      "[LightGBM] [Debug] Trained a tree with leaves = 31 and depth = 6\n",
      "[LightGBM] [Debug] Trained a tree with leaves = 31 and depth = 6\n",
      "[LightGBM] [Debug] Trained a tree with leaves = 31 and depth = 6\n",
      "[LightGBM] [Warning] No further splits with positive gain, best gain: -inf\n",
      "[LightGBM] [Debug] Trained a tree with leaves = 21 and depth = 6\n",
      "[LightGBM] [Debug] Trained a tree with leaves = 31 and depth = 6\n",
      "[LightGBM] [Debug] Trained a tree with leaves = 31 and depth = 6\n",
      "[LightGBM] [Debug] Trained a tree with leaves = 31 and depth = 6\n",
      "[LightGBM] [Debug] Trained a tree with leaves = 31 and depth = 6\n",
      "[LightGBM] [Debug] Trained a tree with leaves = 31 and depth = 6\n",
      "[LightGBM] [Debug] Trained a tree with leaves = 31 and depth = 6\n",
      "[LightGBM] [Debug] Trained a tree with leaves = 31 and depth = 6\n",
      "[LightGBM] [Debug] Trained a tree with leaves = 31 and depth = 6\n",
      "[LightGBM] [Debug] Trained a tree with leaves = 31 and depth = 6\n",
      "[LightGBM] [Warning] No further splits with positive gain, best gain: -inf\n",
      "[LightGBM] [Debug] Trained a tree with leaves = 18 and depth = 6\n",
      "[LightGBM] [Debug] Trained a tree with leaves = 31 and depth = 6\n",
      "[LightGBM] [Debug] Trained a tree with leaves = 31 and depth = 6\n",
      "[LightGBM] [Debug] Trained a tree with leaves = 31 and depth = 6\n",
      "[LightGBM] [Debug] Trained a tree with leaves = 31 and depth = 6\n",
      "[LightGBM] [Debug] Trained a tree with leaves = 31 and depth = 6\n",
      "[LightGBM] [Debug] Trained a tree with leaves = 31 and depth = 6\n",
      "[LightGBM] [Debug] Trained a tree with leaves = 31 and depth = 6\n",
      "[LightGBM] [Debug] Trained a tree with leaves = 31 and depth = 6\n",
      "[LightGBM] [Debug] Trained a tree with leaves = 31 and depth = 6\n",
      "[LightGBM] [Debug] Trained a tree with leaves = 31 and depth = 6\n",
      "[LightGBM] [Debug] Trained a tree with leaves = 31 and depth = 6\n",
      "[LightGBM] [Debug] Trained a tree with leaves = 31 and depth = 6\n",
      "[LightGBM] [Debug] Trained a tree with leaves = 31 and depth = 6\n",
      "[LightGBM] [Debug] Trained a tree with leaves = 31 and depth = 6\n",
      "[LightGBM] [Debug] Trained a tree with leaves = 31 and depth = 6\n",
      "[LightGBM] [Warning] Accuracy may be bad since you didn't explicitly set num_leaves OR 2^max_depth > num_leaves. (num_leaves=31).\n",
      "[LightGBM] [Warning] Accuracy may be bad since you didn't explicitly set num_leaves OR 2^max_depth > num_leaves. (num_leaves=31).\n",
      "[LightGBM] [Debug] Dataset::GetMultiBinFromSparseFeatures: sparse rate 0.764058\n",
      "[LightGBM] [Debug] Dataset::GetMultiBinFromAllFeatures: sparse rate 0.181363\n",
      "[LightGBM] [Debug] init for col-wise cost 0.096018 seconds, init for row-wise cost 0.003062 seconds\n",
      "[LightGBM] [Warning] Auto-choosing row-wise multi-threading, the overhead of testing was 0.097439 seconds.\n",
      "You can set `force_row_wise=true` to remove the overhead.\n",
      "And if memory is not enough, you can set `force_col_wise=true`.\n",
      "[LightGBM] [Debug] Using Dense Multi-Val Bin\n",
      "[LightGBM] [Info] Total Bins 636\n",
      "[LightGBM] [Info] Number of data points in the train set: 150005, number of used features: 9\n",
      "[LightGBM] [Info] Start training from score 5000.234952\n",
      "[LightGBM] [Debug] Trained a tree with leaves = 31 and depth = 6\n",
      "[LightGBM] [Debug] Trained a tree with leaves = 31 and depth = 6\n",
      "[LightGBM] [Debug] Trained a tree with leaves = 31 and depth = 6\n",
      "[LightGBM] [Debug] Trained a tree with leaves = 31 and depth = 6\n",
      "[LightGBM] [Debug] Trained a tree with leaves = 31 and depth = 6\n",
      "[LightGBM] [Debug] Trained a tree with leaves = 31 and depth = 6\n",
      "[LightGBM] [Debug] Trained a tree with leaves = 31 and depth = 6\n",
      "[LightGBM] [Debug] Trained a tree with leaves = 31 and depth = 6\n",
      "[LightGBM] [Debug] Trained a tree with leaves = 31 and depth = 6\n",
      "[LightGBM] [Debug] Trained a tree with leaves = 31 and depth = 6\n",
      "[LightGBM] [Debug] Trained a tree with leaves = 31 and depth = 6\n",
      "[LightGBM] [Debug] Trained a tree with leaves = 31 and depth = 6\n",
      "[LightGBM] [Debug] Trained a tree with leaves = 31 and depth = 6\n",
      "[LightGBM] [Debug] Trained a tree with leaves = 31 and depth = 6\n",
      "[LightGBM] [Debug] Trained a tree with leaves = 31 and depth = 6\n",
      "[LightGBM] [Debug] Trained a tree with leaves = 31 and depth = 6\n",
      "[LightGBM] [Debug] Trained a tree with leaves = 31 and depth = 6\n",
      "[LightGBM] [Debug] Trained a tree with leaves = 31 and depth = 6\n",
      "[LightGBM] [Debug] Trained a tree with leaves = 31 and depth = 6\n",
      "[LightGBM] [Debug] Trained a tree with leaves = 31 and depth = 6\n",
      "[LightGBM] [Debug] Trained a tree with leaves = 31 and depth = 6\n",
      "[LightGBM] [Debug] Trained a tree with leaves = 31 and depth = 6\n",
      "[LightGBM] [Debug] Trained a tree with leaves = 31 and depth = 6\n",
      "[LightGBM] [Debug] Trained a tree with leaves = 31 and depth = 6\n",
      "[LightGBM] [Debug] Trained a tree with leaves = 31 and depth = 6\n",
      "[LightGBM] [Debug] Trained a tree with leaves = 31 and depth = 6\n",
      "[LightGBM] [Debug] Trained a tree with leaves = 31 and depth = 6\n",
      "[LightGBM] [Debug] Trained a tree with leaves = 31 and depth = 6\n",
      "[LightGBM] [Debug] Trained a tree with leaves = 31 and depth = 6\n",
      "[LightGBM] [Debug] Trained a tree with leaves = 31 and depth = 6\n",
      "[LightGBM] [Debug] Trained a tree with leaves = 31 and depth = 6\n",
      "[LightGBM] [Debug] Trained a tree with leaves = 31 and depth = 6\n",
      "[LightGBM] [Debug] Trained a tree with leaves = 31 and depth = 6\n",
      "[LightGBM] [Debug] Trained a tree with leaves = 31 and depth = 6\n",
      "[LightGBM] [Debug] Trained a tree with leaves = 31 and depth = 6\n",
      "[LightGBM] [Debug] Trained a tree with leaves = 31 and depth = 6\n",
      "[LightGBM] [Debug] Trained a tree with leaves = 31 and depth = 6\n",
      "[LightGBM] [Debug] Trained a tree with leaves = 31 and depth = 6\n",
      "[LightGBM] [Debug] Trained a tree with leaves = 31 and depth = 6\n",
      "[LightGBM] [Debug] Trained a tree with leaves = 31 and depth = 6\n",
      "[LightGBM] [Debug] Trained a tree with leaves = 31 and depth = 6\n",
      "[LightGBM] [Debug] Trained a tree with leaves = 31 and depth = 6\n",
      "[LightGBM] [Debug] Trained a tree with leaves = 31 and depth = 6\n",
      "[LightGBM] [Debug] Trained a tree with leaves = 31 and depth = 6\n",
      "[LightGBM] [Debug] Trained a tree with leaves = 31 and depth = 6\n",
      "[LightGBM] [Debug] Trained a tree with leaves = 31 and depth = 6\n",
      "[LightGBM] [Debug] Trained a tree with leaves = 31 and depth = 6\n",
      "[LightGBM] [Debug] Trained a tree with leaves = 31 and depth = 6\n",
      "[LightGBM] [Debug] Trained a tree with leaves = 31 and depth = 6\n",
      "[LightGBM] [Debug] Trained a tree with leaves = 31 and depth = 6\n",
      "[LightGBM] [Debug] Trained a tree with leaves = 31 and depth = 6\n",
      "[LightGBM] [Debug] Trained a tree with leaves = 31 and depth = 6\n",
      "[LightGBM] [Debug] Trained a tree with leaves = 31 and depth = 6\n",
      "[LightGBM] [Debug] Trained a tree with leaves = 31 and depth = 6\n",
      "[LightGBM] [Debug] Trained a tree with leaves = 31 and depth = 6\n",
      "[LightGBM] [Debug] Trained a tree with leaves = 31 and depth = 6\n",
      "[LightGBM] [Debug] Trained a tree with leaves = 31 and depth = 6\n",
      "[LightGBM] [Debug] Trained a tree with leaves = 31 and depth = 6\n",
      "[LightGBM] [Debug] Trained a tree with leaves = 31 and depth = 6\n",
      "[LightGBM] [Debug] Trained a tree with leaves = 31 and depth = 6\n",
      "[LightGBM] [Debug] Trained a tree with leaves = 31 and depth = 6\n",
      "[LightGBM] [Debug] Trained a tree with leaves = 31 and depth = 6\n",
      "[LightGBM] [Debug] Trained a tree with leaves = 31 and depth = 6\n",
      "[LightGBM] [Debug] Trained a tree with leaves = 31 and depth = 6\n",
      "[LightGBM] [Debug] Trained a tree with leaves = 31 and depth = 6\n",
      "[LightGBM] [Debug] Trained a tree with leaves = 31 and depth = 6\n",
      "[LightGBM] [Debug] Trained a tree with leaves = 31 and depth = 6\n",
      "[LightGBM] [Debug] Trained a tree with leaves = 31 and depth = 6\n",
      "[LightGBM] [Debug] Trained a tree with leaves = 31 and depth = 6\n",
      "[LightGBM] [Debug] Trained a tree with leaves = 31 and depth = 6\n",
      "[LightGBM] [Warning] No further splits with positive gain, best gain: -inf\n",
      "[LightGBM] [Debug] Trained a tree with leaves = 27 and depth = 6\n",
      "[LightGBM] [Debug] Trained a tree with leaves = 31 and depth = 6\n",
      "[LightGBM] [Debug] Trained a tree with leaves = 31 and depth = 6\n",
      "[LightGBM] [Debug] Trained a tree with leaves = 31 and depth = 6\n",
      "[LightGBM] [Debug] Trained a tree with leaves = 31 and depth = 6\n",
      "[LightGBM] [Debug] Trained a tree with leaves = 31 and depth = 6\n",
      "[LightGBM] [Warning] No further splits with positive gain, best gain: -inf\n",
      "[LightGBM] [Debug] Trained a tree with leaves = 22 and depth = 6\n",
      "[LightGBM] [Debug] Trained a tree with leaves = 31 and depth = 6\n",
      "[LightGBM] [Debug] Trained a tree with leaves = 31 and depth = 6\n",
      "[LightGBM] [Debug] Trained a tree with leaves = 31 and depth = 6\n",
      "[LightGBM] [Debug] Trained a tree with leaves = 31 and depth = 6\n",
      "[LightGBM] [Debug] Trained a tree with leaves = 31 and depth = 6\n",
      "[LightGBM] [Warning] No further splits with positive gain, best gain: -inf\n",
      "[LightGBM] [Debug] Trained a tree with leaves = 29 and depth = 6\n",
      "[LightGBM] [Debug] Trained a tree with leaves = 31 and depth = 6\n",
      "[LightGBM] [Debug] Trained a tree with leaves = 31 and depth = 6\n",
      "[LightGBM] [Debug] Trained a tree with leaves = 31 and depth = 6\n",
      "[LightGBM] [Debug] Trained a tree with leaves = 31 and depth = 6\n",
      "[LightGBM] [Warning] No further splits with positive gain, best gain: -inf\n",
      "[LightGBM] [Debug] Trained a tree with leaves = 25 and depth = 6\n",
      "[LightGBM] [Debug] Trained a tree with leaves = 31 and depth = 6\n",
      "[LightGBM] [Debug] Trained a tree with leaves = 31 and depth = 6\n",
      "[LightGBM] [Debug] Trained a tree with leaves = 31 and depth = 6\n",
      "[LightGBM] [Debug] Trained a tree with leaves = 31 and depth = 6\n",
      "[LightGBM] [Debug] Trained a tree with leaves = 31 and depth = 6\n",
      "[LightGBM] [Debug] Trained a tree with leaves = 31 and depth = 6\n",
      "[LightGBM] [Warning] No further splits with positive gain, best gain: -inf\n",
      "[LightGBM] [Debug] Trained a tree with leaves = 25 and depth = 6\n",
      "[LightGBM] [Debug] Trained a tree with leaves = 31 and depth = 6\n",
      "[LightGBM] [Debug] Trained a tree with leaves = 31 and depth = 6\n",
      "[LightGBM] [Debug] Trained a tree with leaves = 31 and depth = 6\n",
      "[LightGBM] [Debug] Trained a tree with leaves = 31 and depth = 6\n",
      "[LightGBM] [Debug] Trained a tree with leaves = 31 and depth = 6\n",
      "[LightGBM] [Warning] Accuracy may be bad since you didn't explicitly set num_leaves OR 2^max_depth > num_leaves. (num_leaves=31).\n",
      "[LightGBM] [Warning] Accuracy may be bad since you didn't explicitly set num_leaves OR 2^max_depth > num_leaves. (num_leaves=31).\n",
      "[LightGBM] [Debug] Dataset::GetMultiBinFromSparseFeatures: sparse rate 0.763568\n",
      "[LightGBM] [Debug] Dataset::GetMultiBinFromAllFeatures: sparse rate 0.181214\n",
      "[LightGBM] [Debug] init for col-wise cost 0.094734 seconds, init for row-wise cost 0.002940 seconds\n",
      "[LightGBM] [Warning] Auto-choosing row-wise multi-threading, the overhead of testing was 0.096088 seconds.\n",
      "You can set `force_row_wise=true` to remove the overhead.\n",
      "And if memory is not enough, you can set `force_col_wise=true`.\n",
      "[LightGBM] [Debug] Using Dense Multi-Val Bin\n",
      "[LightGBM] [Info] Total Bins 634\n",
      "[LightGBM] [Info] Number of data points in the train set: 150005, number of used features: 9\n",
      "[LightGBM] [Info] Start training from score 5006.408246\n",
      "[LightGBM] [Debug] Trained a tree with leaves = 31 and depth = 6\n",
      "[LightGBM] [Debug] Trained a tree with leaves = 31 and depth = 6\n",
      "[LightGBM] [Debug] Trained a tree with leaves = 31 and depth = 6\n",
      "[LightGBM] [Debug] Trained a tree with leaves = 31 and depth = 6\n",
      "[LightGBM] [Debug] Trained a tree with leaves = 31 and depth = 6\n",
      "[LightGBM] [Debug] Trained a tree with leaves = 31 and depth = 6\n",
      "[LightGBM] [Debug] Trained a tree with leaves = 31 and depth = 6\n",
      "[LightGBM] [Debug] Trained a tree with leaves = 31 and depth = 6\n",
      "[LightGBM] [Debug] Trained a tree with leaves = 31 and depth = 6\n",
      "[LightGBM] [Debug] Trained a tree with leaves = 31 and depth = 6\n",
      "[LightGBM] [Debug] Trained a tree with leaves = 31 and depth = 6\n",
      "[LightGBM] [Debug] Trained a tree with leaves = 31 and depth = 6\n",
      "[LightGBM] [Debug] Trained a tree with leaves = 31 and depth = 6\n",
      "[LightGBM] [Debug] Trained a tree with leaves = 31 and depth = 6\n",
      "[LightGBM] [Debug] Trained a tree with leaves = 31 and depth = 6\n",
      "[LightGBM] [Debug] Trained a tree with leaves = 31 and depth = 6\n",
      "[LightGBM] [Debug] Trained a tree with leaves = 31 and depth = 6\n",
      "[LightGBM] [Debug] Trained a tree with leaves = 31 and depth = 6\n",
      "[LightGBM] [Debug] Trained a tree with leaves = 31 and depth = 6\n",
      "[LightGBM] [Debug] Trained a tree with leaves = 31 and depth = 6\n",
      "[LightGBM] [Debug] Trained a tree with leaves = 31 and depth = 6\n",
      "[LightGBM] [Debug] Trained a tree with leaves = 31 and depth = 6\n",
      "[LightGBM] [Debug] Trained a tree with leaves = 31 and depth = 6\n",
      "[LightGBM] [Debug] Trained a tree with leaves = 31 and depth = 6\n",
      "[LightGBM] [Debug] Trained a tree with leaves = 31 and depth = 6\n",
      "[LightGBM] [Debug] Trained a tree with leaves = 31 and depth = 6\n",
      "[LightGBM] [Debug] Trained a tree with leaves = 31 and depth = 6\n",
      "[LightGBM] [Debug] Trained a tree with leaves = 31 and depth = 6\n",
      "[LightGBM] [Debug] Trained a tree with leaves = 31 and depth = 6\n",
      "[LightGBM] [Debug] Trained a tree with leaves = 31 and depth = 6\n",
      "[LightGBM] [Debug] Trained a tree with leaves = 31 and depth = 6\n",
      "[LightGBM] [Debug] Trained a tree with leaves = 31 and depth = 6\n",
      "[LightGBM] [Debug] Trained a tree with leaves = 31 and depth = 6\n",
      "[LightGBM] [Debug] Trained a tree with leaves = 31 and depth = 6\n",
      "[LightGBM] [Debug] Trained a tree with leaves = 31 and depth = 6\n",
      "[LightGBM] [Debug] Trained a tree with leaves = 31 and depth = 6\n",
      "[LightGBM] [Debug] Trained a tree with leaves = 31 and depth = 6\n",
      "[LightGBM] [Debug] Trained a tree with leaves = 31 and depth = 6\n",
      "[LightGBM] [Debug] Trained a tree with leaves = 31 and depth = 6\n",
      "[LightGBM] [Debug] Trained a tree with leaves = 31 and depth = 6\n",
      "[LightGBM] [Debug] Trained a tree with leaves = 31 and depth = 6\n",
      "[LightGBM] [Debug] Trained a tree with leaves = 31 and depth = 6\n",
      "[LightGBM] [Debug] Trained a tree with leaves = 31 and depth = 6\n",
      "[LightGBM] [Debug] Trained a tree with leaves = 31 and depth = 6\n",
      "[LightGBM] [Debug] Trained a tree with leaves = 31 and depth = 6\n",
      "[LightGBM] [Debug] Trained a tree with leaves = 31 and depth = 6\n",
      "[LightGBM] [Debug] Trained a tree with leaves = 31 and depth = 6\n",
      "[LightGBM] [Debug] Trained a tree with leaves = 31 and depth = 6\n",
      "[LightGBM] [Debug] Trained a tree with leaves = 31 and depth = 6\n",
      "[LightGBM] [Debug] Trained a tree with leaves = 31 and depth = 6\n",
      "[LightGBM] [Debug] Trained a tree with leaves = 31 and depth = 6\n",
      "[LightGBM] [Debug] Trained a tree with leaves = 31 and depth = 6\n",
      "[LightGBM] [Debug] Trained a tree with leaves = 31 and depth = 6\n",
      "[LightGBM] [Debug] Trained a tree with leaves = 31 and depth = 6\n",
      "[LightGBM] [Debug] Trained a tree with leaves = 31 and depth = 6\n",
      "[LightGBM] [Debug] Trained a tree with leaves = 31 and depth = 6\n",
      "[LightGBM] [Debug] Trained a tree with leaves = 31 and depth = 6\n",
      "[LightGBM] [Debug] Trained a tree with leaves = 31 and depth = 6\n",
      "[LightGBM] [Debug] Trained a tree with leaves = 31 and depth = 6\n",
      "[LightGBM] [Debug] Trained a tree with leaves = 31 and depth = 6\n",
      "[LightGBM] [Debug] Trained a tree with leaves = 31 and depth = 6\n",
      "[LightGBM] [Debug] Trained a tree with leaves = 31 and depth = 6\n",
      "[LightGBM] [Debug] Trained a tree with leaves = 31 and depth = 6\n",
      "[LightGBM] [Debug] Trained a tree with leaves = 31 and depth = 6\n",
      "[LightGBM] [Debug] Trained a tree with leaves = 31 and depth = 6\n",
      "[LightGBM] [Debug] Trained a tree with leaves = 31 and depth = 6\n",
      "[LightGBM] [Debug] Trained a tree with leaves = 31 and depth = 6\n",
      "[LightGBM] [Debug] Trained a tree with leaves = 31 and depth = 6\n",
      "[LightGBM] [Debug] Trained a tree with leaves = 31 and depth = 6\n",
      "[LightGBM] [Debug] Trained a tree with leaves = 31 and depth = 6\n",
      "[LightGBM] [Debug] Trained a tree with leaves = 31 and depth = 6\n",
      "[LightGBM] [Debug] Trained a tree with leaves = 31 and depth = 6\n",
      "[LightGBM] [Warning] No further splits with positive gain, best gain: -inf\n",
      "[LightGBM] [Debug] Trained a tree with leaves = 23 and depth = 6\n",
      "[LightGBM] [Debug] Trained a tree with leaves = 31 and depth = 6\n",
      "[LightGBM] [Debug] Trained a tree with leaves = 31 and depth = 6\n",
      "[LightGBM] [Debug] Trained a tree with leaves = 31 and depth = 6\n",
      "[LightGBM] [Debug] Trained a tree with leaves = 31 and depth = 6\n",
      "[LightGBM] [Debug] Trained a tree with leaves = 31 and depth = 6\n",
      "[LightGBM] [Debug] Trained a tree with leaves = 31 and depth = 6\n",
      "[LightGBM] [Warning] No further splits with positive gain, best gain: -inf\n",
      "[LightGBM] [Debug] Trained a tree with leaves = 21 and depth = 6\n",
      "[LightGBM] [Debug] Trained a tree with leaves = 31 and depth = 6\n",
      "[LightGBM] [Debug] Trained a tree with leaves = 31 and depth = 6\n",
      "[LightGBM] [Debug] Trained a tree with leaves = 31 and depth = 6\n",
      "[LightGBM] [Warning] No further splits with positive gain, best gain: -inf\n",
      "[LightGBM] [Debug] Trained a tree with leaves = 27 and depth = 6\n",
      "[LightGBM] [Debug] Trained a tree with leaves = 31 and depth = 6\n",
      "[LightGBM] [Debug] Trained a tree with leaves = 31 and depth = 6\n",
      "[LightGBM] [Warning] No further splits with positive gain, best gain: -inf\n",
      "[LightGBM] [Debug] Trained a tree with leaves = 29 and depth = 6\n",
      "[LightGBM] [Debug] Trained a tree with leaves = 31 and depth = 6\n",
      "[LightGBM] [Debug] Trained a tree with leaves = 31 and depth = 6\n",
      "[LightGBM] [Debug] Trained a tree with leaves = 31 and depth = 6\n",
      "[LightGBM] [Debug] Trained a tree with leaves = 31 and depth = 6\n",
      "[LightGBM] [Debug] Trained a tree with leaves = 31 and depth = 6\n",
      "[LightGBM] [Debug] Trained a tree with leaves = 31 and depth = 6\n",
      "[LightGBM] [Debug] Trained a tree with leaves = 31 and depth = 6\n",
      "[LightGBM] [Debug] Trained a tree with leaves = 31 and depth = 6\n",
      "[LightGBM] [Debug] Trained a tree with leaves = 31 and depth = 6\n",
      "[LightGBM] [Debug] Trained a tree with leaves = 31 and depth = 6\n",
      "[LightGBM] [Debug] Trained a tree with leaves = 31 and depth = 6\n",
      "[LightGBM] [Debug] Trained a tree with leaves = 31 and depth = 6\n",
      "[LightGBM] [Debug] Trained a tree with leaves = 31 and depth = 6\n",
      "[LightGBM] [Warning] Accuracy may be bad since you didn't explicitly set num_leaves OR 2^max_depth > num_leaves. (num_leaves=31).\n",
      "[LightGBM] [Warning] Accuracy may be bad since you didn't explicitly set num_leaves OR 2^max_depth > num_leaves. (num_leaves=31).\n",
      "[LightGBM] [Debug] Dataset::GetMultiBinFromSparseFeatures: sparse rate 0.764035\n",
      "[LightGBM] [Debug] Dataset::GetMultiBinFromAllFeatures: sparse rate 0.181328\n",
      "[LightGBM] [Debug] init for col-wise cost 0.002199 seconds, init for row-wise cost 0.094407 seconds\n",
      "[LightGBM] [Warning] Auto-choosing row-wise multi-threading, the overhead of testing was 0.003324 seconds.\n",
      "You can set `force_row_wise=true` to remove the overhead.\n",
      "And if memory is not enough, you can set `force_col_wise=true`.\n",
      "[LightGBM] [Debug] Using Dense Multi-Val Bin\n",
      "[LightGBM] [Info] Total Bins 635\n",
      "[LightGBM] [Info] Number of data points in the train set: 150005, number of used features: 9\n",
      "[LightGBM] [Info] Start training from score 5009.279817\n",
      "[LightGBM] [Debug] Trained a tree with leaves = 31 and depth = 6\n",
      "[LightGBM] [Debug] Trained a tree with leaves = 31 and depth = 6\n",
      "[LightGBM] [Debug] Trained a tree with leaves = 31 and depth = 6\n",
      "[LightGBM] [Debug] Trained a tree with leaves = 31 and depth = 6\n",
      "[LightGBM] [Debug] Trained a tree with leaves = 31 and depth = 6\n",
      "[LightGBM] [Debug] Trained a tree with leaves = 31 and depth = 6\n",
      "[LightGBM] [Debug] Trained a tree with leaves = 31 and depth = 6\n",
      "[LightGBM] [Debug] Trained a tree with leaves = 31 and depth = 6\n",
      "[LightGBM] [Debug] Trained a tree with leaves = 31 and depth = 6\n",
      "[LightGBM] [Debug] Trained a tree with leaves = 31 and depth = 6\n",
      "[LightGBM] [Debug] Trained a tree with leaves = 31 and depth = 6\n",
      "[LightGBM] [Debug] Trained a tree with leaves = 31 and depth = 6\n",
      "[LightGBM] [Debug] Trained a tree with leaves = 31 and depth = 6\n",
      "[LightGBM] [Debug] Trained a tree with leaves = 31 and depth = 6\n",
      "[LightGBM] [Debug] Trained a tree with leaves = 31 and depth = 6\n",
      "[LightGBM] [Debug] Trained a tree with leaves = 31 and depth = 6\n",
      "[LightGBM] [Debug] Trained a tree with leaves = 31 and depth = 6\n",
      "[LightGBM] [Debug] Trained a tree with leaves = 31 and depth = 6\n",
      "[LightGBM] [Debug] Trained a tree with leaves = 31 and depth = 6\n",
      "[LightGBM] [Debug] Trained a tree with leaves = 31 and depth = 6\n",
      "[LightGBM] [Debug] Trained a tree with leaves = 31 and depth = 6\n",
      "[LightGBM] [Debug] Trained a tree with leaves = 31 and depth = 6\n",
      "[LightGBM] [Debug] Trained a tree with leaves = 31 and depth = 6\n",
      "[LightGBM] [Debug] Trained a tree with leaves = 31 and depth = 6\n",
      "[LightGBM] [Debug] Trained a tree with leaves = 31 and depth = 6\n",
      "[LightGBM] [Debug] Trained a tree with leaves = 31 and depth = 6\n",
      "[LightGBM] [Debug] Trained a tree with leaves = 31 and depth = 6\n",
      "[LightGBM] [Debug] Trained a tree with leaves = 31 and depth = 6\n",
      "[LightGBM] [Debug] Trained a tree with leaves = 31 and depth = 6\n",
      "[LightGBM] [Debug] Trained a tree with leaves = 31 and depth = 6\n",
      "[LightGBM] [Debug] Trained a tree with leaves = 31 and depth = 6\n",
      "[LightGBM] [Debug] Trained a tree with leaves = 31 and depth = 6\n",
      "[LightGBM] [Debug] Trained a tree with leaves = 31 and depth = 6\n",
      "[LightGBM] [Debug] Trained a tree with leaves = 31 and depth = 6\n",
      "[LightGBM] [Debug] Trained a tree with leaves = 31 and depth = 6\n",
      "[LightGBM] [Debug] Trained a tree with leaves = 31 and depth = 6\n",
      "[LightGBM] [Debug] Trained a tree with leaves = 31 and depth = 6\n",
      "[LightGBM] [Debug] Trained a tree with leaves = 31 and depth = 6\n",
      "[LightGBM] [Debug] Trained a tree with leaves = 31 and depth = 6\n",
      "[LightGBM] [Debug] Trained a tree with leaves = 31 and depth = 6\n",
      "[LightGBM] [Debug] Trained a tree with leaves = 31 and depth = 6\n",
      "[LightGBM] [Debug] Trained a tree with leaves = 31 and depth = 6\n",
      "[LightGBM] [Debug] Trained a tree with leaves = 31 and depth = 6\n",
      "[LightGBM] [Debug] Trained a tree with leaves = 31 and depth = 6\n",
      "[LightGBM] [Debug] Trained a tree with leaves = 31 and depth = 6\n",
      "[LightGBM] [Debug] Trained a tree with leaves = 31 and depth = 6\n",
      "[LightGBM] [Debug] Trained a tree with leaves = 31 and depth = 6\n",
      "[LightGBM] [Debug] Trained a tree with leaves = 31 and depth = 6\n",
      "[LightGBM] [Debug] Trained a tree with leaves = 31 and depth = 6\n",
      "[LightGBM] [Debug] Trained a tree with leaves = 31 and depth = 6\n",
      "[LightGBM] [Debug] Trained a tree with leaves = 31 and depth = 6\n",
      "[LightGBM] [Debug] Trained a tree with leaves = 31 and depth = 6\n",
      "[LightGBM] [Debug] Trained a tree with leaves = 31 and depth = 6\n",
      "[LightGBM] [Debug] Trained a tree with leaves = 31 and depth = 6\n",
      "[LightGBM] [Debug] Trained a tree with leaves = 31 and depth = 6\n",
      "[LightGBM] [Debug] Trained a tree with leaves = 31 and depth = 6\n",
      "[LightGBM] [Debug] Trained a tree with leaves = 31 and depth = 6\n",
      "[LightGBM] [Debug] Trained a tree with leaves = 31 and depth = 6\n",
      "[LightGBM] [Debug] Trained a tree with leaves = 31 and depth = 6\n",
      "[LightGBM] [Debug] Trained a tree with leaves = 31 and depth = 6\n",
      "[LightGBM] [Debug] Trained a tree with leaves = 31 and depth = 6\n",
      "[LightGBM] [Debug] Trained a tree with leaves = 31 and depth = 6\n",
      "[LightGBM] [Debug] Trained a tree with leaves = 31 and depth = 6\n",
      "[LightGBM] [Debug] Trained a tree with leaves = 31 and depth = 6\n",
      "[LightGBM] [Debug] Trained a tree with leaves = 31 and depth = 6\n",
      "[LightGBM] [Debug] Trained a tree with leaves = 31 and depth = 6\n",
      "[LightGBM] [Debug] Trained a tree with leaves = 31 and depth = 6\n",
      "[LightGBM] [Debug] Trained a tree with leaves = 31 and depth = 6\n",
      "[LightGBM] [Debug] Trained a tree with leaves = 31 and depth = 6\n",
      "[LightGBM] [Debug] Trained a tree with leaves = 31 and depth = 6\n",
      "[LightGBM] [Debug] Trained a tree with leaves = 31 and depth = 6\n",
      "[LightGBM] [Debug] Trained a tree with leaves = 31 and depth = 6\n",
      "[LightGBM] [Debug] Trained a tree with leaves = 31 and depth = 6\n",
      "[LightGBM] [Debug] Trained a tree with leaves = 31 and depth = 6\n",
      "[LightGBM] [Debug] Trained a tree with leaves = 31 and depth = 6\n",
      "[LightGBM] [Debug] Trained a tree with leaves = 31 and depth = 6\n",
      "[LightGBM] [Debug] Trained a tree with leaves = 31 and depth = 6\n",
      "[LightGBM] [Debug] Trained a tree with leaves = 31 and depth = 6\n",
      "[LightGBM] [Debug] Trained a tree with leaves = 31 and depth = 6\n",
      "[LightGBM] [Debug] Trained a tree with leaves = 31 and depth = 6\n",
      "[LightGBM] [Debug] Trained a tree with leaves = 31 and depth = 6\n",
      "[LightGBM] [Warning] No further splits with positive gain, best gain: -inf\n",
      "[LightGBM] [Debug] Trained a tree with leaves = 24 and depth = 6\n",
      "[LightGBM] [Debug] Trained a tree with leaves = 31 and depth = 6\n",
      "[LightGBM] [Warning] No further splits with positive gain, best gain: -inf\n",
      "[LightGBM] [Debug] Trained a tree with leaves = 25 and depth = 6\n",
      "[LightGBM] [Debug] Trained a tree with leaves = 31 and depth = 6\n",
      "[LightGBM] [Debug] Trained a tree with leaves = 31 and depth = 6\n",
      "[LightGBM] [Debug] Trained a tree with leaves = 31 and depth = 6\n",
      "[LightGBM] [Debug] Trained a tree with leaves = 31 and depth = 6\n",
      "[LightGBM] [Debug] Trained a tree with leaves = 31 and depth = 6\n",
      "[LightGBM] [Warning] No further splits with positive gain, best gain: -inf\n",
      "[LightGBM] [Debug] Trained a tree with leaves = 27 and depth = 6\n",
      "[LightGBM] [Debug] Trained a tree with leaves = 31 and depth = 6\n",
      "[LightGBM] [Warning] No further splits with positive gain, best gain: -inf\n",
      "[LightGBM] [Debug] Trained a tree with leaves = 30 and depth = 6\n",
      "[LightGBM] [Debug] Trained a tree with leaves = 31 and depth = 6\n",
      "[LightGBM] [Debug] Trained a tree with leaves = 31 and depth = 6\n",
      "[LightGBM] [Warning] No further splits with positive gain, best gain: -inf\n",
      "[LightGBM] [Debug] Trained a tree with leaves = 29 and depth = 6\n",
      "[LightGBM] [Warning] No further splits with positive gain, best gain: -inf\n",
      "[LightGBM] [Debug] Trained a tree with leaves = 29 and depth = 6\n",
      "[LightGBM] [Debug] Trained a tree with leaves = 31 and depth = 6\n",
      "[LightGBM] [Debug] Trained a tree with leaves = 31 and depth = 6\n",
      "[LightGBM] [Debug] Trained a tree with leaves = 31 and depth = 6\n",
      "[LightGBM] [Debug] Trained a tree with leaves = 31 and depth = 6\n",
      "Лучшее значение RMSE для LGBMRegressor: 1658.4862195867063\n"
     ]
    }
   ],
   "source": [
    "scores_lgbm = cross_val_score(best_model_lgbm, features_train, target_train, scoring='neg_root_mean_squared_error', cv=5)\n",
    "rmse_lgbm = abs(scores_lgbm.mean())\n",
    "print(f'Лучшее значение RMSE для LGBMRegressor: {rmse_lgbm}')"
   ]
  },
  {
   "cell_type": "markdown",
   "metadata": {},
   "source": [
    "Посчитаем модель CatBoostRegressor"
   ]
  },
  {
   "cell_type": "code",
   "execution_count": 41,
   "metadata": {},
   "outputs": [],
   "source": [
    "param_dist_cbr = {'learning_rate': [0.03, 0.1],\n",
    "                  'depth': [6, 10],\n",
    "                  'l2_leaf_reg': [3, 5, 7, 9],\n",
    "                  'has_time': [True],\n",
    "                  'loss_function':'RMSE'\n",
    "                  }\n",
    "param_dist_cbr = {'depth'         : [6,8,10],\n",
    "                  'learning_rate' : [0.01, 0.05, 0.1],\n",
    "                  'iterations'    : [30, 50, 100]\n",
    "                 }\n",
    "cbr = CatBoostRegressor(loss_function=\"RMSE\", iterations=20, depth=10, verbose=10, cat_features=data.select_dtypes('category').columns.to_list())\n",
    "random_search = RandomizedSearchCV(cbr, param_distributions = param_dist_cbr, cv = 2, n_jobs=-1)"
   ]
  },
  {
   "cell_type": "code",
   "execution_count": 42,
   "metadata": {
    "scrolled": true
   },
   "outputs": [
    {
     "name": "stdout",
     "output_type": "stream",
     "text": [
      "0:\tlearn: 4641.2107732\ttotal: 86ms\tremaining: 8.51s\n",
      "10:\tlearn: 4342.5354594\ttotal: 372ms\tremaining: 3.01s\n",
      "20:\tlearn: 4077.1933798\ttotal: 644ms\tremaining: 2.42s\n",
      "30:\tlearn: 3843.3425893\ttotal: 928ms\tremaining: 2.06s\n",
      "40:\tlearn: 3635.4052139\ttotal: 1.21s\tremaining: 1.74s\n",
      "50:\tlearn: 3451.6056100\ttotal: 1.49s\tremaining: 1.43s\n",
      "60:\tlearn: 3288.6665160\ttotal: 1.76s\tremaining: 1.13s\n",
      "70:\tlearn: 3144.8398007\ttotal: 2.04s\tremaining: 834ms\n",
      "80:\tlearn: 3018.3132904\ttotal: 2.31s\tremaining: 542ms\n",
      "90:\tlearn: 2904.9430467\ttotal: 2.6s\tremaining: 258ms\n",
      "99:\tlearn: 2814.7711912\ttotal: 2.85s\tremaining: 0us\n",
      "0:\tlearn: 4633.5821901\ttotal: 32.7ms\tremaining: 3.24s\n",
      "10:\tlearn: 4337.9500500\ttotal: 314ms\tremaining: 2.54s\n",
      "20:\tlearn: 4075.3060369\ttotal: 585ms\tremaining: 2.2s\n",
      "30:\tlearn: 3843.2193177\ttotal: 859ms\tremaining: 1.91s\n",
      "40:\tlearn: 3637.0005601\ttotal: 1.13s\tremaining: 1.63s\n",
      "50:\tlearn: 3454.7622256\ttotal: 1.41s\tremaining: 1.35s\n",
      "60:\tlearn: 3291.5869485\ttotal: 1.68s\tremaining: 1.07s\n",
      "70:\tlearn: 3148.8048868\ttotal: 1.95s\tremaining: 798ms\n",
      "80:\tlearn: 3021.3091760\ttotal: 2.23s\tremaining: 522ms\n",
      "90:\tlearn: 2909.8971879\ttotal: 2.5s\tremaining: 247ms\n",
      "99:\tlearn: 2819.9601580\ttotal: 2.75s\tremaining: 0us\n",
      "0:\tlearn: 4336.1592975\ttotal: 55.1ms\tremaining: 2.7s\n",
      "10:\tlearn: 2549.9498576\ttotal: 547ms\tremaining: 1.94s\n",
      "20:\tlearn: 1996.3167032\ttotal: 1.02s\tremaining: 1.41s\n",
      "30:\tlearn: 1834.7904754\ttotal: 1.5s\tremaining: 918ms\n",
      "40:\tlearn: 1765.8828459\ttotal: 1.99s\tremaining: 438ms\n",
      "49:\tlearn: 1734.6053303\ttotal: 2.43s\tremaining: 0us\n",
      "0:\tlearn: 4326.5424148\ttotal: 53.6ms\tremaining: 2.63s\n",
      "10:\tlearn: 2558.7913462\ttotal: 544ms\tremaining: 1.93s\n",
      "20:\tlearn: 2007.6967572\ttotal: 1.04s\tremaining: 1.44s\n",
      "30:\tlearn: 1837.1198156\ttotal: 1.53s\tremaining: 936ms\n",
      "40:\tlearn: 1767.2601427\ttotal: 2.01s\tremaining: 442ms\n",
      "49:\tlearn: 1735.6226746\ttotal: 2.46s\tremaining: 0us\n",
      "0:\tlearn: 4336.1592975\ttotal: 56.8ms\tremaining: 1.65s\n",
      "10:\tlearn: 2549.9498576\ttotal: 553ms\tremaining: 955ms\n",
      "20:\tlearn: 1996.3167032\ttotal: 1.04s\tremaining: 445ms\n",
      "29:\tlearn: 1844.4369271\ttotal: 1.48s\tremaining: 0us\n",
      "0:\tlearn: 4326.5424148\ttotal: 52.5ms\tremaining: 1.52s\n",
      "10:\tlearn: 2558.7913462\ttotal: 557ms\tremaining: 963ms\n",
      "20:\tlearn: 2007.6967572\ttotal: 1.03s\tremaining: 443ms\n",
      "29:\tlearn: 1848.3068930\ttotal: 1.47s\tremaining: 0us\n",
      "0:\tlearn: 4359.5362847\ttotal: 33.7ms\tremaining: 1.65s\n",
      "10:\tlearn: 2692.7459519\ttotal: 319ms\tremaining: 1.13s\n",
      "20:\tlearn: 2171.6984984\ttotal: 609ms\tremaining: 841ms\n",
      "30:\tlearn: 1985.5232887\ttotal: 884ms\tremaining: 542ms\n",
      "40:\tlearn: 1914.2916185\ttotal: 1.16s\tremaining: 254ms\n",
      "49:\tlearn: 1879.8823257\ttotal: 1.41s\tremaining: 0us\n",
      "0:\tlearn: 4354.3143712\ttotal: 32.8ms\tremaining: 1.61s\n",
      "10:\tlearn: 2692.3281612\ttotal: 313ms\tremaining: 1.11s\n",
      "20:\tlearn: 2170.5982530\ttotal: 624ms\tremaining: 862ms\n",
      "30:\tlearn: 1988.6231723\ttotal: 919ms\tremaining: 563ms\n",
      "40:\tlearn: 1915.3158476\ttotal: 1.19s\tremaining: 262ms\n",
      "49:\tlearn: 1877.2395586\ttotal: 1.45s\tremaining: 0us\n",
      "0:\tlearn: 4639.9301064\ttotal: 44.3ms\tremaining: 2.17s\n",
      "10:\tlearn: 4327.5316163\ttotal: 415ms\tremaining: 1.47s\n",
      "20:\tlearn: 4052.0030317\ttotal: 767ms\tremaining: 1.06s\n",
      "30:\tlearn: 3806.4279246\ttotal: 1.13s\tremaining: 690ms\n",
      "40:\tlearn: 3587.7218209\ttotal: 1.48s\tremaining: 326ms\n",
      "49:\tlearn: 3412.8227924\ttotal: 1.8s\tremaining: 0us\n",
      "0:\tlearn: 4632.1895476\ttotal: 42.1ms\tremaining: 2.06s\n",
      "10:\tlearn: 4322.7469768\ttotal: 414ms\tremaining: 1.47s\n",
      "20:\tlearn: 4047.3691640\ttotal: 774ms\tremaining: 1.07s\n",
      "30:\tlearn: 3802.0155684\ttotal: 1.13s\tremaining: 692ms\n",
      "40:\tlearn: 3584.9172537\ttotal: 1.51s\tremaining: 331ms\n",
      "49:\tlearn: 3411.1383119\ttotal: 1.83s\tremaining: 0us\n",
      "0:\tlearn: 4508.4356294\ttotal: 40.5ms\tremaining: 1.17s\n",
      "10:\tlearn: 3305.3013835\ttotal: 411ms\tremaining: 710ms\n",
      "20:\tlearn: 2669.1824041\ttotal: 790ms\tremaining: 339ms\n",
      "29:\tlearn: 2322.8928572\ttotal: 1.16s\tremaining: 0us\n",
      "0:\tlearn: 4501.3105344\ttotal: 42.3ms\tremaining: 1.23s\n",
      "10:\tlearn: 3308.0871918\ttotal: 431ms\tremaining: 744ms\n",
      "20:\tlearn: 2675.6703463\ttotal: 801ms\tremaining: 343ms\n",
      "29:\tlearn: 2332.6779382\ttotal: 1.14s\tremaining: 0us\n",
      "0:\tlearn: 4508.4356294\ttotal: 42ms\tremaining: 4.16s\n",
      "10:\tlearn: 3305.3013835\ttotal: 439ms\tremaining: 3.55s\n",
      "20:\tlearn: 2669.1824041\ttotal: 805ms\tremaining: 3.03s\n",
      "30:\tlearn: 2295.8615172\ttotal: 1.17s\tremaining: 2.6s\n",
      "40:\tlearn: 2086.9475918\ttotal: 1.52s\tremaining: 2.19s\n",
      "50:\tlearn: 1973.2980706\ttotal: 1.89s\tremaining: 1.81s\n",
      "60:\tlearn: 1903.3396602\ttotal: 2.25s\tremaining: 1.44s\n",
      "70:\tlearn: 1862.1855587\ttotal: 2.6s\tremaining: 1.06s\n",
      "80:\tlearn: 1834.3741774\ttotal: 2.95s\tremaining: 692ms\n",
      "90:\tlearn: 1813.4903155\ttotal: 3.31s\tremaining: 327ms\n",
      "99:\tlearn: 1797.9857990\ttotal: 3.62s\tremaining: 0us\n",
      "0:\tlearn: 4501.3105344\ttotal: 40.4ms\tremaining: 4s\n",
      "10:\tlearn: 3308.0871918\ttotal: 410ms\tremaining: 3.32s\n",
      "20:\tlearn: 2675.6703463\ttotal: 773ms\tremaining: 2.91s\n",
      "30:\tlearn: 2306.0252440\ttotal: 1.13s\tremaining: 2.52s\n",
      "40:\tlearn: 2097.9822061\ttotal: 1.49s\tremaining: 2.14s\n",
      "50:\tlearn: 1986.5811956\ttotal: 1.84s\tremaining: 1.77s\n",
      "60:\tlearn: 1913.8839422\ttotal: 2.21s\tremaining: 1.41s\n",
      "70:\tlearn: 1869.8083706\ttotal: 2.56s\tremaining: 1.05s\n",
      "80:\tlearn: 1840.1767842\ttotal: 2.92s\tremaining: 685ms\n",
      "90:\tlearn: 1818.7678972\ttotal: 3.28s\tremaining: 324ms\n",
      "99:\tlearn: 1801.3873753\ttotal: 3.6s\tremaining: 0us\n",
      "0:\tlearn: 4359.5362847\ttotal: 34.7ms\tremaining: 3.44s\n",
      "10:\tlearn: 2692.7459519\ttotal: 336ms\tremaining: 2.72s\n",
      "20:\tlearn: 2171.6984984\ttotal: 613ms\tremaining: 2.31s\n",
      "30:\tlearn: 1985.5232887\ttotal: 891ms\tremaining: 1.98s\n",
      "40:\tlearn: 1914.2916185\ttotal: 1.16s\tremaining: 1.68s\n",
      "50:\tlearn: 1876.4089832\ttotal: 1.46s\tremaining: 1.4s\n",
      "60:\tlearn: 1849.0662852\ttotal: 1.73s\tremaining: 1.11s\n",
      "70:\tlearn: 1829.0693765\ttotal: 2s\tremaining: 819ms\n",
      "80:\tlearn: 1809.4750135\ttotal: 2.27s\tremaining: 534ms\n",
      "90:\tlearn: 1791.6773685\ttotal: 2.54s\tremaining: 252ms\n",
      "99:\tlearn: 1779.1215031\ttotal: 2.78s\tremaining: 0us\n",
      "0:\tlearn: 4354.3143712\ttotal: 31.9ms\tremaining: 3.16s\n",
      "10:\tlearn: 2692.3281612\ttotal: 311ms\tremaining: 2.52s\n",
      "20:\tlearn: 2170.5982530\ttotal: 582ms\tremaining: 2.19s\n",
      "30:\tlearn: 1988.6231723\ttotal: 852ms\tremaining: 1.9s\n",
      "40:\tlearn: 1915.3158476\ttotal: 1.12s\tremaining: 1.61s\n",
      "50:\tlearn: 1875.0358738\ttotal: 1.39s\tremaining: 1.34s\n",
      "60:\tlearn: 1845.1522770\ttotal: 1.68s\tremaining: 1.07s\n",
      "70:\tlearn: 1824.2720453\ttotal: 1.95s\tremaining: 796ms\n",
      "80:\tlearn: 1808.8607990\ttotal: 2.21s\tremaining: 520ms\n",
      "90:\tlearn: 1796.1976997\ttotal: 2.48s\tremaining: 246ms\n",
      "99:\tlearn: 1780.3805605\ttotal: 2.73s\tremaining: 0us\n",
      "0:\tlearn: 4514.8966136\ttotal: 32ms\tremaining: 927ms\n",
      "10:\tlearn: 3369.0809298\ttotal: 318ms\tremaining: 549ms\n",
      "20:\tlearn: 2754.5068836\ttotal: 591ms\tremaining: 253ms\n",
      "29:\tlearn: 2422.2477080\ttotal: 858ms\tremaining: 0us\n",
      "0:\tlearn: 4508.3322702\ttotal: 33.2ms\tremaining: 963ms\n",
      "10:\tlearn: 3376.5470995\ttotal: 321ms\tremaining: 554ms\n",
      "20:\tlearn: 2756.8716506\ttotal: 600ms\tremaining: 257ms\n",
      "29:\tlearn: 2424.4027841\ttotal: 847ms\tremaining: 0us\n",
      "0:\tlearn: 4638.9208732\ttotal: 56.4ms\tremaining: 1.64s\n",
      "10:\tlearn: 4318.4617062\ttotal: 576ms\tremaining: 995ms\n",
      "20:\tlearn: 4035.0265431\ttotal: 1.08s\tremaining: 464ms\n",
      "29:\tlearn: 3808.2319801\ttotal: 1.52s\tremaining: 0us\n",
      "0:\tlearn: 4630.8609056\ttotal: 53.7ms\tremaining: 1.56s\n",
      "10:\tlearn: 4310.5450812\ttotal: 554ms\tremaining: 957ms\n",
      "20:\tlearn: 4028.1879464\ttotal: 1.05s\tremaining: 451ms\n",
      "29:\tlearn: 3800.1590432\ttotal: 1.49s\tremaining: 0us\n",
      "0:\tlearn: 4330.7182423\ttotal: 102ms\tremaining: 5.01s\n",
      "10:\tlearn: 2535.8959283\ttotal: 1.01s\tremaining: 3.57s\n",
      "20:\tlearn: 2003.0913560\ttotal: 1.88s\tremaining: 2.6s\n",
      "30:\tlearn: 1835.0921529\ttotal: 2.77s\tremaining: 1.69s\n",
      "40:\tlearn: 1767.3982202\ttotal: 3.68s\tremaining: 808ms\n",
      "49:\tlearn: 1734.3631596\ttotal: 4.51s\tremaining: 0us\n",
      "Параметры лучшей модели CatBoostRegressor по метрике RMSE: <catboost.core.CatBoostRegressor object at 0x7f4f233d10a0>\n"
     ]
    }
   ],
   "source": [
    "random_search.fit(features_train, target_train)\n",
    "best_model_cbr_est = random_search.best_estimator_\n",
    "print(f'Параметры лучшей модели CatBoostRegressor по метрике RMSE: {best_model_cbr_est}')"
   ]
  },
  {
   "cell_type": "code",
   "execution_count": 43,
   "metadata": {},
   "outputs": [
    {
     "name": "stdout",
     "output_type": "stream",
     "text": [
      "0:\tlearn: 4330.7182423\ttotal: 106ms\tremaining: 5.18s\n",
      "10:\tlearn: 2535.8959283\ttotal: 1.03s\tremaining: 3.65s\n",
      "20:\tlearn: 2003.0913560\ttotal: 1.9s\tremaining: 2.62s\n",
      "30:\tlearn: 1835.0921529\ttotal: 2.77s\tremaining: 1.7s\n",
      "40:\tlearn: 1767.3982202\ttotal: 3.63s\tremaining: 797ms\n",
      "49:\tlearn: 1734.3631596\ttotal: 4.47s\tremaining: 0us\n",
      "CPU times: user 4.59 s, sys: 47.6 ms, total: 4.64 s\n",
      "Wall time: 5.24 s\n"
     ]
    }
   ],
   "source": [
    "%%time\n",
    "best_model_cbr = best_model_cbr_est.fit(features_train, target_train)"
   ]
  },
  {
   "cell_type": "code",
   "execution_count": 44,
   "metadata": {},
   "outputs": [
    {
     "name": "stdout",
     "output_type": "stream",
     "text": [
      "CPU times: user 123 ms, sys: 4.03 ms, total: 127 ms\n",
      "Wall time: 124 ms\n"
     ]
    }
   ],
   "source": [
    "%%time\n",
    "predicted = best_model_cbr.predict(features_train)"
   ]
  },
  {
   "cell_type": "code",
   "execution_count": 45,
   "metadata": {
    "scrolled": true
   },
   "outputs": [
    {
     "name": "stdout",
     "output_type": "stream",
     "text": [
      "0:\tlearn: 4328.8602639\ttotal: 80.7ms\tremaining: 3.95s\n",
      "10:\tlearn: 2549.2079231\ttotal: 807ms\tremaining: 2.86s\n",
      "20:\tlearn: 1997.4815903\ttotal: 1.52s\tremaining: 2.11s\n",
      "30:\tlearn: 1833.2588540\ttotal: 2.25s\tremaining: 1.38s\n",
      "40:\tlearn: 1766.0396352\ttotal: 2.96s\tremaining: 649ms\n",
      "49:\tlearn: 1735.8346940\ttotal: 3.62s\tremaining: 0us\n",
      "0:\tlearn: 4330.0335342\ttotal: 80.4ms\tremaining: 3.94s\n",
      "10:\tlearn: 2535.6670414\ttotal: 843ms\tremaining: 2.99s\n",
      "20:\tlearn: 1997.5668476\ttotal: 1.55s\tremaining: 2.14s\n",
      "30:\tlearn: 1839.6222197\ttotal: 2.28s\tremaining: 1.4s\n",
      "40:\tlearn: 1774.6825527\ttotal: 3.01s\tremaining: 661ms\n",
      "49:\tlearn: 1742.0419924\ttotal: 3.66s\tremaining: 0us\n",
      "0:\tlearn: 4325.5443554\ttotal: 82ms\tremaining: 4.02s\n",
      "10:\tlearn: 2522.1660237\ttotal: 807ms\tremaining: 2.86s\n",
      "20:\tlearn: 1998.2733549\ttotal: 1.52s\tremaining: 2.1s\n",
      "30:\tlearn: 1836.7803015\ttotal: 2.25s\tremaining: 1.38s\n",
      "40:\tlearn: 1766.1526197\ttotal: 2.97s\tremaining: 653ms\n",
      "49:\tlearn: 1732.5313578\ttotal: 3.62s\tremaining: 0us\n",
      "0:\tlearn: 4328.4039256\ttotal: 79.9ms\tremaining: 3.92s\n",
      "10:\tlearn: 2540.8546649\ttotal: 872ms\tremaining: 3.09s\n",
      "20:\tlearn: 2007.6451622\ttotal: 1.61s\tremaining: 2.23s\n",
      "30:\tlearn: 1837.3819360\ttotal: 2.35s\tremaining: 1.44s\n",
      "40:\tlearn: 1769.7825644\ttotal: 3.06s\tremaining: 671ms\n",
      "49:\tlearn: 1737.0743925\ttotal: 3.7s\tremaining: 0us\n",
      "0:\tlearn: 4331.0501818\ttotal: 79.4ms\tremaining: 3.89s\n",
      "10:\tlearn: 2537.5886276\ttotal: 816ms\tremaining: 2.89s\n",
      "20:\tlearn: 2009.7933001\ttotal: 1.53s\tremaining: 2.11s\n",
      "30:\tlearn: 1845.0826128\ttotal: 2.27s\tremaining: 1.39s\n",
      "40:\tlearn: 1774.0283432\ttotal: 2.99s\tremaining: 656ms\n",
      "49:\tlearn: 1744.7591671\ttotal: 3.64s\tremaining: 0us\n",
      "Лучшее значение RMSE для CatBoostRegressor: 1767.018928244342\n"
     ]
    }
   ],
   "source": [
    "scores_cbr = cross_val_score(best_model_cbr, features_train, target_train, scoring='neg_root_mean_squared_error', cv=5)\n",
    "rmse_cbr = abs(scores_cbr.mean())\n",
    "print(f'Лучшее значение RMSE для CatBoostRegressor: {rmse_cbr}')"
   ]
  },
  {
   "cell_type": "code",
   "execution_count": 27,
   "metadata": {},
   "outputs": [
    {
     "data": {
      "text/html": [
       "<div>\n",
       "<style scoped>\n",
       "    .dataframe tbody tr th:only-of-type {\n",
       "        vertical-align: middle;\n",
       "    }\n",
       "\n",
       "    .dataframe tbody tr th {\n",
       "        vertical-align: top;\n",
       "    }\n",
       "\n",
       "    .dataframe thead th {\n",
       "        text-align: right;\n",
       "    }\n",
       "</style>\n",
       "<table border=\"1\" class=\"dataframe\">\n",
       "  <thead>\n",
       "    <tr style=\"text-align: right;\">\n",
       "      <th></th>\n",
       "      <th>RandomForestRegressor</th>\n",
       "      <th>LGBMRegressor</th>\n",
       "      <th>CatBoostRegressor</th>\n",
       "    </tr>\n",
       "  </thead>\n",
       "  <tbody>\n",
       "    <tr>\n",
       "      <th>rmse</th>\n",
       "      <td>1709.87</td>\n",
       "      <td>1658.48</td>\n",
       "      <td>1767.010</td>\n",
       "    </tr>\n",
       "    <tr>\n",
       "      <th>fit_time, sec</th>\n",
       "      <td>98.00</td>\n",
       "      <td>4.31</td>\n",
       "      <td>5.240</td>\n",
       "    </tr>\n",
       "    <tr>\n",
       "      <th>predict_time, sec</th>\n",
       "      <td>10.60</td>\n",
       "      <td>1.81</td>\n",
       "      <td>0.124</td>\n",
       "    </tr>\n",
       "  </tbody>\n",
       "</table>\n",
       "</div>"
      ],
      "text/plain": [
       "                   RandomForestRegressor  LGBMRegressor  CatBoostRegressor\n",
       "rmse                             1709.87        1658.48           1767.010\n",
       "fit_time, sec                      98.00           4.31              5.240\n",
       "predict_time, sec                  10.60           1.81              0.124"
      ]
     },
     "execution_count": 27,
     "metadata": {},
     "output_type": "execute_result"
    }
   ],
   "source": [
    "results = pd.DataFrame(np.array([[1709.87, 1658.48, 1767.01], [98, 4.31, 5.24], [10.6, 1.81, 0.124]]),\n",
    "                   columns=['RandomForestRegressor', 'LGBMRegressor', 'CatBoostRegressor'],\n",
    "                      index = ['rmse', 'fit_time, sec', 'predict_time, sec'])\n",
    "results\n"
   ]
  },
  {
   "cell_type": "markdown",
   "metadata": {},
   "source": [
    "## Анализ моделей"
   ]
  },
  {
   "cell_type": "markdown",
   "metadata": {},
   "source": [
    "Таким образом, лучшую метрику RMSE показала модель LGBMRegressor, однако время обучения и предсказания у CatBoostRegressor на одной и той же конфигурации оборудования лучше."
   ]
  },
  {
   "cell_type": "markdown",
   "metadata": {},
   "source": [
    "Проверим лучшую модель на тестовой выборке и посчитаем метрику RMSE кросс-валидацией и прямым способом."
   ]
  },
  {
   "cell_type": "code",
   "execution_count": 20,
   "metadata": {},
   "outputs": [
    {
     "name": "stdout",
     "output_type": "stream",
     "text": [
      "[LightGBM] [Warning] Accuracy may be bad since you didn't explicitly set num_leaves OR 2^max_depth > num_leaves. (num_leaves=31).\n",
      "[LightGBM] [Warning] Accuracy may be bad since you didn't explicitly set num_leaves OR 2^max_depth > num_leaves. (num_leaves=31).\n",
      "[LightGBM] [Debug] Dataset::GetMultiBinFromSparseFeatures: sparse rate 0.764079\n",
      "[LightGBM] [Debug] Dataset::GetMultiBinFromAllFeatures: sparse rate 0.181231\n",
      "[LightGBM] [Debug] init for col-wise cost 0.005109 seconds, init for row-wise cost 0.001034 seconds\n",
      "[LightGBM] [Warning] Auto-choosing row-wise multi-threading, the overhead of testing was 0.005551 seconds.\n",
      "You can set `force_row_wise=true` to remove the overhead.\n",
      "And if memory is not enough, you can set `force_col_wise=true`.\n",
      "[LightGBM] [Debug] Using Dense Multi-Val Bin\n",
      "[LightGBM] [Info] Total Bins 594\n",
      "[LightGBM] [Info] Number of data points in the train set: 50002, number of used features: 9\n",
      "[LightGBM] [Info] Start training from score 5043.582497\n",
      "[LightGBM] [Debug] Trained a tree with leaves = 31 and depth = 6\n",
      "[LightGBM] [Debug] Trained a tree with leaves = 31 and depth = 6\n",
      "[LightGBM] [Debug] Trained a tree with leaves = 31 and depth = 6\n",
      "[LightGBM] [Debug] Trained a tree with leaves = 31 and depth = 6\n",
      "[LightGBM] [Debug] Trained a tree with leaves = 31 and depth = 6\n",
      "[LightGBM] [Debug] Trained a tree with leaves = 31 and depth = 6\n",
      "[LightGBM] [Debug] Trained a tree with leaves = 31 and depth = 6\n",
      "[LightGBM] [Debug] Trained a tree with leaves = 31 and depth = 6\n",
      "[LightGBM] [Debug] Trained a tree with leaves = 31 and depth = 6\n",
      "[LightGBM] [Debug] Trained a tree with leaves = 31 and depth = 6\n",
      "[LightGBM] [Debug] Trained a tree with leaves = 31 and depth = 6\n",
      "[LightGBM] [Debug] Trained a tree with leaves = 31 and depth = 6\n",
      "[LightGBM] [Debug] Trained a tree with leaves = 31 and depth = 6\n",
      "[LightGBM] [Debug] Trained a tree with leaves = 31 and depth = 6\n",
      "[LightGBM] [Debug] Trained a tree with leaves = 31 and depth = 6\n",
      "[LightGBM] [Debug] Trained a tree with leaves = 31 and depth = 6\n",
      "[LightGBM] [Debug] Trained a tree with leaves = 31 and depth = 6\n",
      "[LightGBM] [Debug] Trained a tree with leaves = 31 and depth = 6\n",
      "[LightGBM] [Debug] Trained a tree with leaves = 31 and depth = 6\n",
      "[LightGBM] [Debug] Trained a tree with leaves = 31 and depth = 6\n",
      "[LightGBM] [Debug] Trained a tree with leaves = 31 and depth = 6\n",
      "[LightGBM] [Debug] Trained a tree with leaves = 31 and depth = 6\n",
      "[LightGBM] [Debug] Trained a tree with leaves = 31 and depth = 6\n",
      "[LightGBM] [Debug] Trained a tree with leaves = 31 and depth = 6\n",
      "[LightGBM] [Debug] Trained a tree with leaves = 31 and depth = 6\n",
      "[LightGBM] [Debug] Trained a tree with leaves = 31 and depth = 6\n",
      "[LightGBM] [Debug] Trained a tree with leaves = 31 and depth = 6\n",
      "[LightGBM] [Debug] Trained a tree with leaves = 31 and depth = 6\n",
      "[LightGBM] [Debug] Trained a tree with leaves = 31 and depth = 6\n",
      "[LightGBM] [Debug] Trained a tree with leaves = 31 and depth = 6\n",
      "[LightGBM] [Debug] Trained a tree with leaves = 31 and depth = 6\n",
      "[LightGBM] [Debug] Trained a tree with leaves = 31 and depth = 6\n",
      "[LightGBM] [Debug] Trained a tree with leaves = 31 and depth = 6\n",
      "[LightGBM] [Debug] Trained a tree with leaves = 31 and depth = 6\n",
      "[LightGBM] [Debug] Trained a tree with leaves = 31 and depth = 6\n",
      "[LightGBM] [Debug] Trained a tree with leaves = 31 and depth = 6\n",
      "[LightGBM] [Debug] Trained a tree with leaves = 31 and depth = 6\n",
      "[LightGBM] [Debug] Trained a tree with leaves = 31 and depth = 6\n",
      "[LightGBM] [Debug] Trained a tree with leaves = 31 and depth = 6\n",
      "[LightGBM] [Debug] Trained a tree with leaves = 31 and depth = 6\n",
      "[LightGBM] [Debug] Trained a tree with leaves = 31 and depth = 6\n",
      "[LightGBM] [Debug] Trained a tree with leaves = 31 and depth = 6\n",
      "[LightGBM] [Warning] No further splits with positive gain, best gain: -inf\n",
      "[LightGBM] [Debug] Trained a tree with leaves = 28 and depth = 6\n",
      "[LightGBM] [Debug] Trained a tree with leaves = 31 and depth = 6\n",
      "[LightGBM] [Debug] Trained a tree with leaves = 31 and depth = 6\n",
      "[LightGBM] [Warning] No further splits with positive gain, best gain: -inf\n",
      "[LightGBM] [Debug] Trained a tree with leaves = 29 and depth = 6\n",
      "[LightGBM] [Debug] Trained a tree with leaves = 31 and depth = 6\n",
      "[LightGBM] [Debug] Trained a tree with leaves = 31 and depth = 6\n",
      "[LightGBM] [Debug] Trained a tree with leaves = 31 and depth = 6\n",
      "[LightGBM] [Debug] Trained a tree with leaves = 31 and depth = 6\n",
      "[LightGBM] [Debug] Trained a tree with leaves = 31 and depth = 6\n",
      "[LightGBM] [Debug] Trained a tree with leaves = 31 and depth = 6\n",
      "[LightGBM] [Debug] Trained a tree with leaves = 31 and depth = 6\n",
      "[LightGBM] [Debug] Trained a tree with leaves = 31 and depth = 6\n",
      "[LightGBM] [Debug] Trained a tree with leaves = 31 and depth = 6\n",
      "[LightGBM] [Debug] Trained a tree with leaves = 31 and depth = 6\n",
      "[LightGBM] [Debug] Trained a tree with leaves = 31 and depth = 6\n",
      "[LightGBM] [Debug] Trained a tree with leaves = 31 and depth = 6\n",
      "[LightGBM] [Debug] Trained a tree with leaves = 31 and depth = 6\n",
      "[LightGBM] [Debug] Trained a tree with leaves = 31 and depth = 6\n",
      "[LightGBM] [Debug] Trained a tree with leaves = 31 and depth = 6\n",
      "[LightGBM] [Debug] Trained a tree with leaves = 31 and depth = 6\n",
      "[LightGBM] [Debug] Trained a tree with leaves = 31 and depth = 6\n",
      "[LightGBM] [Debug] Trained a tree with leaves = 31 and depth = 6\n",
      "[LightGBM] [Debug] Trained a tree with leaves = 31 and depth = 6\n",
      "[LightGBM] [Debug] Trained a tree with leaves = 31 and depth = 6\n",
      "[LightGBM] [Debug] Trained a tree with leaves = 31 and depth = 6\n",
      "[LightGBM] [Debug] Trained a tree with leaves = 31 and depth = 6\n",
      "[LightGBM] [Debug] Trained a tree with leaves = 31 and depth = 6\n",
      "[LightGBM] [Debug] Trained a tree with leaves = 31 and depth = 6\n",
      "[LightGBM] [Debug] Trained a tree with leaves = 31 and depth = 6\n",
      "[LightGBM] [Debug] Trained a tree with leaves = 31 and depth = 6\n",
      "[LightGBM] [Debug] Trained a tree with leaves = 31 and depth = 6\n",
      "[LightGBM] [Debug] Trained a tree with leaves = 31 and depth = 6\n",
      "[LightGBM] [Debug] Trained a tree with leaves = 31 and depth = 6\n",
      "[LightGBM] [Warning] No further splits with positive gain, best gain: -inf\n",
      "[LightGBM] [Debug] Trained a tree with leaves = 25 and depth = 6\n",
      "[LightGBM] [Debug] Trained a tree with leaves = 31 and depth = 6\n",
      "[LightGBM] [Debug] Trained a tree with leaves = 31 and depth = 6\n",
      "[LightGBM] [Warning] No further splits with positive gain, best gain: -inf\n",
      "[LightGBM] [Debug] Trained a tree with leaves = 25 and depth = 6\n",
      "[LightGBM] [Debug] Trained a tree with leaves = 31 and depth = 6\n",
      "[LightGBM] [Debug] Trained a tree with leaves = 31 and depth = 6\n",
      "[LightGBM] [Debug] Trained a tree with leaves = 31 and depth = 6\n",
      "[LightGBM] [Debug] Trained a tree with leaves = 31 and depth = 6\n",
      "[LightGBM] [Debug] Trained a tree with leaves = 31 and depth = 6\n",
      "[LightGBM] [Debug] Trained a tree with leaves = 31 and depth = 6\n",
      "[LightGBM] [Debug] Trained a tree with leaves = 31 and depth = 6\n",
      "[LightGBM] [Debug] Trained a tree with leaves = 31 and depth = 6\n",
      "[LightGBM] [Debug] Trained a tree with leaves = 31 and depth = 6\n",
      "[LightGBM] [Warning] No further splits with positive gain, best gain: -inf\n",
      "[LightGBM] [Debug] Trained a tree with leaves = 27 and depth = 6\n",
      "[LightGBM] [Debug] Trained a tree with leaves = 31 and depth = 6\n",
      "[LightGBM] [Debug] Trained a tree with leaves = 31 and depth = 6\n",
      "[LightGBM] [Debug] Trained a tree with leaves = 31 and depth = 6\n",
      "[LightGBM] [Debug] Trained a tree with leaves = 31 and depth = 6\n",
      "[LightGBM] [Debug] Trained a tree with leaves = 31 and depth = 6\n",
      "[LightGBM] [Debug] Trained a tree with leaves = 31 and depth = 6\n",
      "[LightGBM] [Warning] No further splits with positive gain, best gain: -inf\n",
      "[LightGBM] [Debug] Trained a tree with leaves = 23 and depth = 6\n",
      "[LightGBM] [Debug] Trained a tree with leaves = 31 and depth = 6\n",
      "[LightGBM] [Debug] Trained a tree with leaves = 31 and depth = 6\n",
      "[LightGBM] [Warning] No further splits with positive gain, best gain: -inf\n",
      "[LightGBM] [Debug] Trained a tree with leaves = 30 and depth = 6\n",
      "[LightGBM] [Debug] Trained a tree with leaves = 31 and depth = 6\n",
      "[LightGBM] [Warning] Accuracy may be bad since you didn't explicitly set num_leaves OR 2^max_depth > num_leaves. (num_leaves=31).\n",
      "[LightGBM] [Warning] Accuracy may be bad since you didn't explicitly set num_leaves OR 2^max_depth > num_leaves. (num_leaves=31).\n",
      "[LightGBM] [Debug] Dataset::GetMultiBinFromSparseFeatures: sparse rate 0.764639\n",
      "[LightGBM] [Debug] Dataset::GetMultiBinFromAllFeatures: sparse rate 0.181284\n",
      "[LightGBM] [Debug] init for col-wise cost 0.000935 seconds, init for row-wise cost 0.000886 seconds\n",
      "[LightGBM] [Warning] Auto-choosing row-wise multi-threading, the overhead of testing was 0.001327 seconds.\n",
      "You can set `force_row_wise=true` to remove the overhead.\n",
      "And if memory is not enough, you can set `force_col_wise=true`.\n",
      "[LightGBM] [Debug] Using Dense Multi-Val Bin\n",
      "[LightGBM] [Info] Total Bins 592\n",
      "[LightGBM] [Info] Number of data points in the train set: 50002, number of used features: 9\n",
      "[LightGBM] [Info] Start training from score 5048.361626\n",
      "[LightGBM] [Debug] Trained a tree with leaves = 31 and depth = 6\n",
      "[LightGBM] [Debug] Trained a tree with leaves = 31 and depth = 6\n",
      "[LightGBM] [Debug] Trained a tree with leaves = 31 and depth = 6\n",
      "[LightGBM] [Debug] Trained a tree with leaves = 31 and depth = 6\n",
      "[LightGBM] [Debug] Trained a tree with leaves = 31 and depth = 6\n",
      "[LightGBM] [Debug] Trained a tree with leaves = 31 and depth = 6\n",
      "[LightGBM] [Debug] Trained a tree with leaves = 31 and depth = 6\n",
      "[LightGBM] [Debug] Trained a tree with leaves = 31 and depth = 6\n",
      "[LightGBM] [Debug] Trained a tree with leaves = 31 and depth = 6\n",
      "[LightGBM] [Debug] Trained a tree with leaves = 31 and depth = 6\n",
      "[LightGBM] [Debug] Trained a tree with leaves = 31 and depth = 6\n",
      "[LightGBM] [Debug] Trained a tree with leaves = 31 and depth = 6\n",
      "[LightGBM] [Debug] Trained a tree with leaves = 31 and depth = 6\n",
      "[LightGBM] [Debug] Trained a tree with leaves = 31 and depth = 6\n",
      "[LightGBM] [Debug] Trained a tree with leaves = 31 and depth = 6\n",
      "[LightGBM] [Debug] Trained a tree with leaves = 31 and depth = 6\n",
      "[LightGBM] [Debug] Trained a tree with leaves = 31 and depth = 6\n",
      "[LightGBM] [Debug] Trained a tree with leaves = 31 and depth = 6\n",
      "[LightGBM] [Debug] Trained a tree with leaves = 31 and depth = 6\n",
      "[LightGBM] [Debug] Trained a tree with leaves = 31 and depth = 6\n",
      "[LightGBM] [Debug] Trained a tree with leaves = 31 and depth = 6\n",
      "[LightGBM] [Debug] Trained a tree with leaves = 31 and depth = 6\n",
      "[LightGBM] [Debug] Trained a tree with leaves = 31 and depth = 6\n",
      "[LightGBM] [Debug] Trained a tree with leaves = 31 and depth = 6\n",
      "[LightGBM] [Debug] Trained a tree with leaves = 31 and depth = 6\n",
      "[LightGBM] [Debug] Trained a tree with leaves = 31 and depth = 6\n",
      "[LightGBM] [Debug] Trained a tree with leaves = 31 and depth = 6\n",
      "[LightGBM] [Debug] Trained a tree with leaves = 31 and depth = 6\n",
      "[LightGBM] [Debug] Trained a tree with leaves = 31 and depth = 6\n",
      "[LightGBM] [Debug] Trained a tree with leaves = 31 and depth = 6\n",
      "[LightGBM] [Debug] Trained a tree with leaves = 31 and depth = 6\n",
      "[LightGBM] [Debug] Trained a tree with leaves = 31 and depth = 6\n",
      "[LightGBM] [Debug] Trained a tree with leaves = 31 and depth = 6\n",
      "[LightGBM] [Debug] Trained a tree with leaves = 31 and depth = 6\n",
      "[LightGBM] [Debug] Trained a tree with leaves = 31 and depth = 6\n",
      "[LightGBM] [Debug] Trained a tree with leaves = 31 and depth = 6\n",
      "[LightGBM] [Debug] Trained a tree with leaves = 31 and depth = 6\n",
      "[LightGBM] [Debug] Trained a tree with leaves = 31 and depth = 6\n",
      "[LightGBM] [Debug] Trained a tree with leaves = 31 and depth = 6\n",
      "[LightGBM] [Debug] Trained a tree with leaves = 31 and depth = 6\n",
      "[LightGBM] [Warning] No further splits with positive gain, best gain: -inf\n",
      "[LightGBM] [Debug] Trained a tree with leaves = 29 and depth = 6\n",
      "[LightGBM] [Debug] Trained a tree with leaves = 31 and depth = 6\n",
      "[LightGBM] [Debug] Trained a tree with leaves = 31 and depth = 6\n",
      "[LightGBM] [Debug] Trained a tree with leaves = 31 and depth = 6\n",
      "[LightGBM] [Debug] Trained a tree with leaves = 31 and depth = 6\n",
      "[LightGBM] [Debug] Trained a tree with leaves = 31 and depth = 6\n",
      "[LightGBM] [Debug] Trained a tree with leaves = 31 and depth = 6\n",
      "[LightGBM] [Debug] Trained a tree with leaves = 31 and depth = 6\n",
      "[LightGBM] [Debug] Trained a tree with leaves = 31 and depth = 6\n",
      "[LightGBM] [Debug] Trained a tree with leaves = 31 and depth = 6\n",
      "[LightGBM] [Debug] Trained a tree with leaves = 31 and depth = 6\n",
      "[LightGBM] [Debug] Trained a tree with leaves = 31 and depth = 6\n",
      "[LightGBM] [Warning] No further splits with positive gain, best gain: -inf\n",
      "[LightGBM] [Debug] Trained a tree with leaves = 29 and depth = 6\n",
      "[LightGBM] [Debug] Trained a tree with leaves = 31 and depth = 6\n",
      "[LightGBM] [Debug] Trained a tree with leaves = 31 and depth = 6\n",
      "[LightGBM] [Debug] Trained a tree with leaves = 31 and depth = 6\n",
      "[LightGBM] [Debug] Trained a tree with leaves = 31 and depth = 6\n",
      "[LightGBM] [Debug] Trained a tree with leaves = 31 and depth = 6\n",
      "[LightGBM] [Debug] Trained a tree with leaves = 31 and depth = 6\n",
      "[LightGBM] [Debug] Trained a tree with leaves = 31 and depth = 6\n",
      "[LightGBM] [Debug] Trained a tree with leaves = 31 and depth = 6\n",
      "[LightGBM] [Debug] Trained a tree with leaves = 31 and depth = 6\n",
      "[LightGBM] [Debug] Trained a tree with leaves = 31 and depth = 6\n",
      "[LightGBM] [Debug] Trained a tree with leaves = 31 and depth = 6\n",
      "[LightGBM] [Debug] Trained a tree with leaves = 31 and depth = 6\n",
      "[LightGBM] [Debug] Trained a tree with leaves = 31 and depth = 6\n",
      "[LightGBM] [Debug] Trained a tree with leaves = 31 and depth = 6\n",
      "[LightGBM] [Debug] Trained a tree with leaves = 31 and depth = 6\n",
      "[LightGBM] [Debug] Trained a tree with leaves = 31 and depth = 6\n",
      "[LightGBM] [Debug] Trained a tree with leaves = 31 and depth = 6\n",
      "[LightGBM] [Debug] Trained a tree with leaves = 31 and depth = 6\n",
      "[LightGBM] [Debug] Trained a tree with leaves = 31 and depth = 6\n",
      "[LightGBM] [Debug] Trained a tree with leaves = 31 and depth = 6\n",
      "[LightGBM] [Debug] Trained a tree with leaves = 31 and depth = 6\n",
      "[LightGBM] [Debug] Trained a tree with leaves = 31 and depth = 6\n",
      "[LightGBM] [Warning] No further splits with positive gain, best gain: -inf\n",
      "[LightGBM] [Debug] Trained a tree with leaves = 22 and depth = 6\n",
      "[LightGBM] [Debug] Trained a tree with leaves = 31 and depth = 6\n",
      "[LightGBM] [Debug] Trained a tree with leaves = 31 and depth = 6\n",
      "[LightGBM] [Debug] Trained a tree with leaves = 31 and depth = 6\n",
      "[LightGBM] [Debug] Trained a tree with leaves = 31 and depth = 6\n",
      "[LightGBM] [Debug] Trained a tree with leaves = 31 and depth = 6\n",
      "[LightGBM] [Debug] Trained a tree with leaves = 31 and depth = 6\n",
      "[LightGBM] [Debug] Trained a tree with leaves = 31 and depth = 6\n",
      "[LightGBM] [Debug] Trained a tree with leaves = 31 and depth = 6\n",
      "[LightGBM] [Debug] Trained a tree with leaves = 31 and depth = 6\n",
      "[LightGBM] [Warning] No further splits with positive gain, best gain: -inf\n",
      "[LightGBM] [Debug] Trained a tree with leaves = 30 and depth = 6\n",
      "[LightGBM] [Debug] Trained a tree with leaves = 31 and depth = 6\n",
      "[LightGBM] [Debug] Trained a tree with leaves = 31 and depth = 6\n",
      "[LightGBM] [Warning] No further splits with positive gain, best gain: -inf\n",
      "[LightGBM] [Debug] Trained a tree with leaves = 29 and depth = 6\n",
      "[LightGBM] [Debug] Trained a tree with leaves = 31 and depth = 6\n",
      "[LightGBM] [Debug] Trained a tree with leaves = 31 and depth = 6\n",
      "[LightGBM] [Debug] Trained a tree with leaves = 31 and depth = 6\n",
      "[LightGBM] [Debug] Trained a tree with leaves = 31 and depth = 6\n",
      "[LightGBM] [Debug] Trained a tree with leaves = 31 and depth = 6\n",
      "[LightGBM] [Debug] Trained a tree with leaves = 31 and depth = 6\n",
      "[LightGBM] [Debug] Trained a tree with leaves = 31 and depth = 6\n",
      "[LightGBM] [Debug] Trained a tree with leaves = 31 and depth = 6\n",
      "[LightGBM] [Debug] Trained a tree with leaves = 31 and depth = 6\n",
      "[LightGBM] [Debug] Trained a tree with leaves = 31 and depth = 6\n",
      "[LightGBM] [Debug] Trained a tree with leaves = 31 and depth = 6\n",
      "[LightGBM] [Warning] Accuracy may be bad since you didn't explicitly set num_leaves OR 2^max_depth > num_leaves. (num_leaves=31).\n",
      "[LightGBM] [Warning] Accuracy may be bad since you didn't explicitly set num_leaves OR 2^max_depth > num_leaves. (num_leaves=31).\n",
      "[LightGBM] [Debug] Dataset::GetMultiBinFromSparseFeatures: sparse rate 0.764459\n",
      "[LightGBM] [Debug] Dataset::GetMultiBinFromAllFeatures: sparse rate 0.181415\n",
      "[LightGBM] [Debug] init for col-wise cost 0.002614 seconds, init for row-wise cost 0.000986 seconds\n",
      "[LightGBM] [Warning] Auto-choosing row-wise multi-threading, the overhead of testing was 0.002997 seconds.\n",
      "You can set `force_row_wise=true` to remove the overhead.\n",
      "And if memory is not enough, you can set `force_col_wise=true`.\n",
      "[LightGBM] [Debug] Using Dense Multi-Val Bin\n",
      "[LightGBM] [Info] Total Bins 583\n",
      "[LightGBM] [Info] Number of data points in the train set: 50002, number of used features: 9\n",
      "[LightGBM] [Info] Start training from score 5042.090776\n",
      "[LightGBM] [Debug] Trained a tree with leaves = 31 and depth = 6\n",
      "[LightGBM] [Debug] Trained a tree with leaves = 31 and depth = 6\n",
      "[LightGBM] [Debug] Trained a tree with leaves = 31 and depth = 6\n",
      "[LightGBM] [Debug] Trained a tree with leaves = 31 and depth = 6\n",
      "[LightGBM] [Debug] Trained a tree with leaves = 31 and depth = 6\n",
      "[LightGBM] [Debug] Trained a tree with leaves = 31 and depth = 6\n",
      "[LightGBM] [Debug] Trained a tree with leaves = 31 and depth = 6\n",
      "[LightGBM] [Debug] Trained a tree with leaves = 31 and depth = 6\n",
      "[LightGBM] [Debug] Trained a tree with leaves = 31 and depth = 6\n",
      "[LightGBM] [Debug] Trained a tree with leaves = 31 and depth = 6\n",
      "[LightGBM] [Debug] Trained a tree with leaves = 31 and depth = 6\n",
      "[LightGBM] [Debug] Trained a tree with leaves = 31 and depth = 6\n",
      "[LightGBM] [Debug] Trained a tree with leaves = 31 and depth = 6\n",
      "[LightGBM] [Debug] Trained a tree with leaves = 31 and depth = 6\n",
      "[LightGBM] [Debug] Trained a tree with leaves = 31 and depth = 6\n",
      "[LightGBM] [Debug] Trained a tree with leaves = 31 and depth = 6\n",
      "[LightGBM] [Debug] Trained a tree with leaves = 31 and depth = 6\n",
      "[LightGBM] [Debug] Trained a tree with leaves = 31 and depth = 6\n",
      "[LightGBM] [Debug] Trained a tree with leaves = 31 and depth = 6\n",
      "[LightGBM] [Debug] Trained a tree with leaves = 31 and depth = 6\n",
      "[LightGBM] [Debug] Trained a tree with leaves = 31 and depth = 6\n",
      "[LightGBM] [Debug] Trained a tree with leaves = 31 and depth = 6\n",
      "[LightGBM] [Debug] Trained a tree with leaves = 31 and depth = 6\n",
      "[LightGBM] [Debug] Trained a tree with leaves = 31 and depth = 6\n",
      "[LightGBM] [Debug] Trained a tree with leaves = 31 and depth = 6\n",
      "[LightGBM] [Debug] Trained a tree with leaves = 31 and depth = 6\n",
      "[LightGBM] [Debug] Trained a tree with leaves = 31 and depth = 6\n",
      "[LightGBM] [Debug] Trained a tree with leaves = 31 and depth = 6\n",
      "[LightGBM] [Debug] Trained a tree with leaves = 31 and depth = 6\n",
      "[LightGBM] [Debug] Trained a tree with leaves = 31 and depth = 6\n",
      "[LightGBM] [Debug] Trained a tree with leaves = 31 and depth = 6\n",
      "[LightGBM] [Debug] Trained a tree with leaves = 31 and depth = 6\n",
      "[LightGBM] [Debug] Trained a tree with leaves = 31 and depth = 6\n",
      "[LightGBM] [Debug] Trained a tree with leaves = 31 and depth = 6\n",
      "[LightGBM] [Debug] Trained a tree with leaves = 31 and depth = 6\n",
      "[LightGBM] [Debug] Trained a tree with leaves = 31 and depth = 6\n",
      "[LightGBM] [Debug] Trained a tree with leaves = 31 and depth = 6\n",
      "[LightGBM] [Debug] Trained a tree with leaves = 31 and depth = 6\n",
      "[LightGBM] [Debug] Trained a tree with leaves = 31 and depth = 6\n",
      "[LightGBM] [Debug] Trained a tree with leaves = 31 and depth = 6\n",
      "[LightGBM] [Debug] Trained a tree with leaves = 31 and depth = 6\n",
      "[LightGBM] [Debug] Trained a tree with leaves = 31 and depth = 6\n",
      "[LightGBM] [Debug] Trained a tree with leaves = 31 and depth = 6\n",
      "[LightGBM] [Debug] Trained a tree with leaves = 31 and depth = 6\n",
      "[LightGBM] [Warning] No further splits with positive gain, best gain: -inf\n",
      "[LightGBM] [Debug] Trained a tree with leaves = 30 and depth = 6\n",
      "[LightGBM] [Debug] Trained a tree with leaves = 31 and depth = 6\n",
      "[LightGBM] [Debug] Trained a tree with leaves = 31 and depth = 6\n",
      "[LightGBM] [Debug] Trained a tree with leaves = 31 and depth = 6\n",
      "[LightGBM] [Debug] Trained a tree with leaves = 31 and depth = 6\n",
      "[LightGBM] [Debug] Trained a tree with leaves = 31 and depth = 6\n",
      "[LightGBM] [Debug] Trained a tree with leaves = 31 and depth = 6\n",
      "[LightGBM] [Debug] Trained a tree with leaves = 31 and depth = 6\n",
      "[LightGBM] [Debug] Trained a tree with leaves = 31 and depth = 6\n",
      "[LightGBM] [Warning] No further splits with positive gain, best gain: -inf\n",
      "[LightGBM] [Debug] Trained a tree with leaves = 27 and depth = 6\n",
      "[LightGBM] [Debug] Trained a tree with leaves = 31 and depth = 6\n",
      "[LightGBM] [Debug] Trained a tree with leaves = 31 and depth = 6\n",
      "[LightGBM] [Debug] Trained a tree with leaves = 31 and depth = 6\n",
      "[LightGBM] [Debug] Trained a tree with leaves = 31 and depth = 6\n",
      "[LightGBM] [Debug] Trained a tree with leaves = 31 and depth = 6\n",
      "[LightGBM] [Debug] Trained a tree with leaves = 31 and depth = 6\n",
      "[LightGBM] [Warning] No further splits with positive gain, best gain: -inf\n",
      "[LightGBM] [Debug] Trained a tree with leaves = 28 and depth = 6\n",
      "[LightGBM] [Warning] No further splits with positive gain, best gain: -inf\n",
      "[LightGBM] [Debug] Trained a tree with leaves = 26 and depth = 6\n",
      "[LightGBM] [Debug] Trained a tree with leaves = 31 and depth = 6\n",
      "[LightGBM] [Debug] Trained a tree with leaves = 31 and depth = 6\n",
      "[LightGBM] [Debug] Trained a tree with leaves = 31 and depth = 6\n",
      "[LightGBM] [Debug] Trained a tree with leaves = 31 and depth = 6\n",
      "[LightGBM] [Debug] Trained a tree with leaves = 31 and depth = 6\n",
      "[LightGBM] [Debug] Trained a tree with leaves = 31 and depth = 6\n",
      "[LightGBM] [Debug] Trained a tree with leaves = 31 and depth = 6\n",
      "[LightGBM] [Debug] Trained a tree with leaves = 31 and depth = 6\n",
      "[LightGBM] [Debug] Trained a tree with leaves = 31 and depth = 6\n",
      "[LightGBM] [Debug] Trained a tree with leaves = 31 and depth = 6\n",
      "[LightGBM] [Debug] Trained a tree with leaves = 31 and depth = 6\n",
      "[LightGBM] [Debug] Trained a tree with leaves = 31 and depth = 6\n",
      "[LightGBM] [Debug] Trained a tree with leaves = 31 and depth = 6\n",
      "[LightGBM] [Debug] Trained a tree with leaves = 31 and depth = 6\n",
      "[LightGBM] [Debug] Trained a tree with leaves = 31 and depth = 6\n",
      "[LightGBM] [Warning] No further splits with positive gain, best gain: -inf\n",
      "[LightGBM] [Debug] Trained a tree with leaves = 27 and depth = 6\n",
      "[LightGBM] [Debug] Trained a tree with leaves = 31 and depth = 6\n",
      "[LightGBM] [Debug] Trained a tree with leaves = 31 and depth = 6\n",
      "[LightGBM] [Debug] Trained a tree with leaves = 31 and depth = 6\n",
      "[LightGBM] [Warning] No further splits with positive gain, best gain: -inf\n",
      "[LightGBM] [Debug] Trained a tree with leaves = 27 and depth = 6\n",
      "[LightGBM] [Debug] Trained a tree with leaves = 31 and depth = 6\n",
      "[LightGBM] [Debug] Trained a tree with leaves = 31 and depth = 6\n",
      "[LightGBM] [Debug] Trained a tree with leaves = 31 and depth = 6\n",
      "[LightGBM] [Debug] Trained a tree with leaves = 31 and depth = 6\n",
      "[LightGBM] [Debug] Trained a tree with leaves = 31 and depth = 6\n",
      "[LightGBM] [Debug] Trained a tree with leaves = 31 and depth = 6\n",
      "[LightGBM] [Debug] Trained a tree with leaves = 31 and depth = 6\n",
      "[LightGBM] [Debug] Trained a tree with leaves = 31 and depth = 6\n",
      "[LightGBM] [Debug] Trained a tree with leaves = 31 and depth = 6\n",
      "[LightGBM] [Debug] Trained a tree with leaves = 31 and depth = 6\n",
      "[LightGBM] [Debug] Trained a tree with leaves = 31 and depth = 6\n",
      "[LightGBM] [Debug] Trained a tree with leaves = 31 and depth = 6\n",
      "[LightGBM] [Debug] Trained a tree with leaves = 31 and depth = 6\n",
      "[LightGBM] [Debug] Trained a tree with leaves = 31 and depth = 6\n",
      "[LightGBM] [Debug] Trained a tree with leaves = 31 and depth = 6\n",
      "[LightGBM] [Debug] Trained a tree with leaves = 31 and depth = 6\n",
      "[LightGBM] [Debug] Trained a tree with leaves = 31 and depth = 6\n",
      "[LightGBM] [Debug] Trained a tree with leaves = 31 and depth = 6\n",
      "[LightGBM] [Warning] Accuracy may be bad since you didn't explicitly set num_leaves OR 2^max_depth > num_leaves. (num_leaves=31).\n",
      "[LightGBM] [Warning] Accuracy may be bad since you didn't explicitly set num_leaves OR 2^max_depth > num_leaves. (num_leaves=31).\n",
      "[LightGBM] [Debug] Dataset::GetMultiBinFromSparseFeatures: sparse rate 0.763664\n",
      "[LightGBM] [Debug] Dataset::GetMultiBinFromAllFeatures: sparse rate 0.181220\n",
      "[LightGBM] [Debug] init for col-wise cost 0.001479 seconds, init for row-wise cost 0.001022 seconds\n",
      "[LightGBM] [Warning] Auto-choosing row-wise multi-threading, the overhead of testing was 0.001954 seconds.\n",
      "You can set `force_row_wise=true` to remove the overhead.\n",
      "And if memory is not enough, you can set `force_col_wise=true`.\n",
      "[LightGBM] [Debug] Using Dense Multi-Val Bin\n",
      "[LightGBM] [Info] Total Bins 595\n",
      "[LightGBM] [Info] Number of data points in the train set: 50003, number of used features: 9\n",
      "[LightGBM] [Info] Start training from score 5028.873928\n",
      "[LightGBM] [Debug] Trained a tree with leaves = 31 and depth = 6\n",
      "[LightGBM] [Debug] Trained a tree with leaves = 31 and depth = 6\n",
      "[LightGBM] [Debug] Trained a tree with leaves = 31 and depth = 6\n",
      "[LightGBM] [Debug] Trained a tree with leaves = 31 and depth = 6\n",
      "[LightGBM] [Debug] Trained a tree with leaves = 31 and depth = 6\n",
      "[LightGBM] [Debug] Trained a tree with leaves = 31 and depth = 6\n",
      "[LightGBM] [Debug] Trained a tree with leaves = 31 and depth = 6\n",
      "[LightGBM] [Debug] Trained a tree with leaves = 31 and depth = 6\n",
      "[LightGBM] [Debug] Trained a tree with leaves = 31 and depth = 6\n",
      "[LightGBM] [Debug] Trained a tree with leaves = 31 and depth = 6\n",
      "[LightGBM] [Debug] Trained a tree with leaves = 31 and depth = 6\n",
      "[LightGBM] [Debug] Trained a tree with leaves = 31 and depth = 6\n",
      "[LightGBM] [Debug] Trained a tree with leaves = 31 and depth = 6\n",
      "[LightGBM] [Debug] Trained a tree with leaves = 31 and depth = 6\n",
      "[LightGBM] [Debug] Trained a tree with leaves = 31 and depth = 6\n",
      "[LightGBM] [Debug] Trained a tree with leaves = 31 and depth = 6\n",
      "[LightGBM] [Debug] Trained a tree with leaves = 31 and depth = 6\n",
      "[LightGBM] [Debug] Trained a tree with leaves = 31 and depth = 6\n",
      "[LightGBM] [Debug] Trained a tree with leaves = 31 and depth = 6\n",
      "[LightGBM] [Debug] Trained a tree with leaves = 31 and depth = 6\n",
      "[LightGBM] [Debug] Trained a tree with leaves = 31 and depth = 6\n",
      "[LightGBM] [Debug] Trained a tree with leaves = 31 and depth = 6\n",
      "[LightGBM] [Debug] Trained a tree with leaves = 31 and depth = 6\n",
      "[LightGBM] [Debug] Trained a tree with leaves = 31 and depth = 6\n",
      "[LightGBM] [Debug] Trained a tree with leaves = 31 and depth = 6\n",
      "[LightGBM] [Debug] Trained a tree with leaves = 31 and depth = 6\n",
      "[LightGBM] [Debug] Trained a tree with leaves = 31 and depth = 6\n",
      "[LightGBM] [Debug] Trained a tree with leaves = 31 and depth = 6\n",
      "[LightGBM] [Debug] Trained a tree with leaves = 31 and depth = 6\n",
      "[LightGBM] [Debug] Trained a tree with leaves = 31 and depth = 6\n",
      "[LightGBM] [Debug] Trained a tree with leaves = 31 and depth = 6\n",
      "[LightGBM] [Debug] Trained a tree with leaves = 31 and depth = 6\n",
      "[LightGBM] [Debug] Trained a tree with leaves = 31 and depth = 6\n",
      "[LightGBM] [Debug] Trained a tree with leaves = 31 and depth = 6\n",
      "[LightGBM] [Debug] Trained a tree with leaves = 31 and depth = 6\n",
      "[LightGBM] [Debug] Trained a tree with leaves = 31 and depth = 6\n",
      "[LightGBM] [Debug] Trained a tree with leaves = 31 and depth = 6\n",
      "[LightGBM] [Debug] Trained a tree with leaves = 31 and depth = 6\n",
      "[LightGBM] [Debug] Trained a tree with leaves = 31 and depth = 6\n",
      "[LightGBM] [Debug] Trained a tree with leaves = 31 and depth = 6\n",
      "[LightGBM] [Debug] Trained a tree with leaves = 31 and depth = 6\n",
      "[LightGBM] [Debug] Trained a tree with leaves = 31 and depth = 6\n",
      "[LightGBM] [Debug] Trained a tree with leaves = 31 and depth = 6\n",
      "[LightGBM] [Debug] Trained a tree with leaves = 31 and depth = 6\n",
      "[LightGBM] [Debug] Trained a tree with leaves = 31 and depth = 6\n",
      "[LightGBM] [Debug] Trained a tree with leaves = 31 and depth = 6\n",
      "[LightGBM] [Debug] Trained a tree with leaves = 31 and depth = 6\n",
      "[LightGBM] [Debug] Trained a tree with leaves = 31 and depth = 6\n",
      "[LightGBM] [Debug] Trained a tree with leaves = 31 and depth = 6\n",
      "[LightGBM] [Debug] Trained a tree with leaves = 31 and depth = 6\n",
      "[LightGBM] [Debug] Trained a tree with leaves = 31 and depth = 6\n",
      "[LightGBM] [Debug] Trained a tree with leaves = 31 and depth = 6\n",
      "[LightGBM] [Debug] Trained a tree with leaves = 31 and depth = 6\n",
      "[LightGBM] [Debug] Trained a tree with leaves = 31 and depth = 6\n",
      "[LightGBM] [Debug] Trained a tree with leaves = 31 and depth = 6\n",
      "[LightGBM] [Debug] Trained a tree with leaves = 31 and depth = 6\n",
      "[LightGBM] [Debug] Trained a tree with leaves = 31 and depth = 6\n",
      "[LightGBM] [Debug] Trained a tree with leaves = 31 and depth = 6\n",
      "[LightGBM] [Debug] Trained a tree with leaves = 31 and depth = 6\n",
      "[LightGBM] [Debug] Trained a tree with leaves = 31 and depth = 6\n",
      "[LightGBM] [Debug] Trained a tree with leaves = 31 and depth = 6\n",
      "[LightGBM] [Debug] Trained a tree with leaves = 31 and depth = 6\n",
      "[LightGBM] [Debug] Trained a tree with leaves = 31 and depth = 6\n",
      "[LightGBM] [Debug] Trained a tree with leaves = 31 and depth = 6\n",
      "[LightGBM] [Debug] Trained a tree with leaves = 31 and depth = 6\n",
      "[LightGBM] [Debug] Trained a tree with leaves = 31 and depth = 6\n",
      "[LightGBM] [Debug] Trained a tree with leaves = 31 and depth = 6\n",
      "[LightGBM] [Debug] Trained a tree with leaves = 31 and depth = 6\n",
      "[LightGBM] [Debug] Trained a tree with leaves = 31 and depth = 6\n",
      "[LightGBM] [Debug] Trained a tree with leaves = 31 and depth = 6\n",
      "[LightGBM] [Debug] Trained a tree with leaves = 31 and depth = 6\n",
      "[LightGBM] [Debug] Trained a tree with leaves = 31 and depth = 6\n",
      "[LightGBM] [Debug] Trained a tree with leaves = 31 and depth = 6\n",
      "[LightGBM] [Debug] Trained a tree with leaves = 31 and depth = 6\n",
      "[LightGBM] [Debug] Trained a tree with leaves = 31 and depth = 6\n",
      "[LightGBM] [Debug] Trained a tree with leaves = 31 and depth = 6\n",
      "[LightGBM] [Warning] No further splits with positive gain, best gain: -inf\n",
      "[LightGBM] [Debug] Trained a tree with leaves = 21 and depth = 6\n",
      "[LightGBM] [Debug] Trained a tree with leaves = 31 and depth = 6\n",
      "[LightGBM] [Debug] Trained a tree with leaves = 31 and depth = 6\n",
      "[LightGBM] [Warning] No further splits with positive gain, best gain: -inf\n",
      "[LightGBM] [Debug] Trained a tree with leaves = 13 and depth = 6\n",
      "[LightGBM] [Debug] Trained a tree with leaves = 31 and depth = 6\n",
      "[LightGBM] [Debug] Trained a tree with leaves = 31 and depth = 6\n",
      "[LightGBM] [Debug] Trained a tree with leaves = 31 and depth = 6\n",
      "[LightGBM] [Debug] Trained a tree with leaves = 31 and depth = 6\n",
      "[LightGBM] [Debug] Trained a tree with leaves = 31 and depth = 6\n",
      "[LightGBM] [Warning] No further splits with positive gain, best gain: -inf\n",
      "[LightGBM] [Debug] Trained a tree with leaves = 17 and depth = 6\n",
      "[LightGBM] [Debug] Trained a tree with leaves = 31 and depth = 6\n",
      "[LightGBM] [Debug] Trained a tree with leaves = 31 and depth = 6\n",
      "[LightGBM] [Warning] No further splits with positive gain, best gain: -inf\n",
      "[LightGBM] [Debug] Trained a tree with leaves = 28 and depth = 6\n",
      "[LightGBM] [Debug] Trained a tree with leaves = 31 and depth = 6\n",
      "[LightGBM] [Debug] Trained a tree with leaves = 31 and depth = 6\n",
      "[LightGBM] [Debug] Trained a tree with leaves = 31 and depth = 6\n",
      "[LightGBM] [Debug] Trained a tree with leaves = 31 and depth = 6\n",
      "[LightGBM] [Debug] Trained a tree with leaves = 31 and depth = 6\n",
      "[LightGBM] [Debug] Trained a tree with leaves = 31 and depth = 6\n",
      "[LightGBM] [Debug] Trained a tree with leaves = 31 and depth = 6\n",
      "[LightGBM] [Debug] Trained a tree with leaves = 31 and depth = 6\n",
      "[LightGBM] [Debug] Trained a tree with leaves = 31 and depth = 6\n",
      "[LightGBM] [Debug] Trained a tree with leaves = 31 and depth = 6\n",
      "[LightGBM] [Debug] Trained a tree with leaves = 31 and depth = 6\n",
      "[LightGBM] [Warning] Accuracy may be bad since you didn't explicitly set num_leaves OR 2^max_depth > num_leaves. (num_leaves=31).\n",
      "[LightGBM] [Warning] Accuracy may be bad since you didn't explicitly set num_leaves OR 2^max_depth > num_leaves. (num_leaves=31).\n",
      "[LightGBM] [Debug] Dataset::GetMultiBinFromSparseFeatures: sparse rate 0.764614\n",
      "[LightGBM] [Debug] Dataset::GetMultiBinFromAllFeatures: sparse rate 0.181198\n",
      "[LightGBM] [Debug] init for col-wise cost 0.001080 seconds, init for row-wise cost 0.001027 seconds\n",
      "[LightGBM] [Warning] Auto-choosing row-wise multi-threading, the overhead of testing was 0.001559 seconds.\n",
      "You can set `force_row_wise=true` to remove the overhead.\n",
      "And if memory is not enough, you can set `force_col_wise=true`.\n",
      "[LightGBM] [Debug] Using Dense Multi-Val Bin\n",
      "[LightGBM] [Info] Total Bins 592\n",
      "[LightGBM] [Info] Number of data points in the train set: 50003, number of used features: 9\n",
      "[LightGBM] [Info] Start training from score 5036.459652\n",
      "[LightGBM] [Debug] Trained a tree with leaves = 31 and depth = 6\n",
      "[LightGBM] [Debug] Trained a tree with leaves = 31 and depth = 6\n",
      "[LightGBM] [Debug] Trained a tree with leaves = 31 and depth = 6\n",
      "[LightGBM] [Debug] Trained a tree with leaves = 31 and depth = 6\n",
      "[LightGBM] [Debug] Trained a tree with leaves = 31 and depth = 6\n",
      "[LightGBM] [Debug] Trained a tree with leaves = 31 and depth = 6\n",
      "[LightGBM] [Debug] Trained a tree with leaves = 31 and depth = 6\n",
      "[LightGBM] [Debug] Trained a tree with leaves = 31 and depth = 6\n",
      "[LightGBM] [Debug] Trained a tree with leaves = 31 and depth = 6\n",
      "[LightGBM] [Debug] Trained a tree with leaves = 31 and depth = 6\n",
      "[LightGBM] [Debug] Trained a tree with leaves = 31 and depth = 6\n",
      "[LightGBM] [Debug] Trained a tree with leaves = 31 and depth = 6\n",
      "[LightGBM] [Debug] Trained a tree with leaves = 31 and depth = 6\n",
      "[LightGBM] [Debug] Trained a tree with leaves = 31 and depth = 6\n",
      "[LightGBM] [Debug] Trained a tree with leaves = 31 and depth = 6\n",
      "[LightGBM] [Debug] Trained a tree with leaves = 31 and depth = 6\n",
      "[LightGBM] [Debug] Trained a tree with leaves = 31 and depth = 6\n",
      "[LightGBM] [Debug] Trained a tree with leaves = 31 and depth = 6\n",
      "[LightGBM] [Debug] Trained a tree with leaves = 31 and depth = 6\n",
      "[LightGBM] [Debug] Trained a tree with leaves = 31 and depth = 6\n",
      "[LightGBM] [Debug] Trained a tree with leaves = 31 and depth = 6\n",
      "[LightGBM] [Debug] Trained a tree with leaves = 31 and depth = 6\n",
      "[LightGBM] [Debug] Trained a tree with leaves = 31 and depth = 6\n",
      "[LightGBM] [Debug] Trained a tree with leaves = 31 and depth = 6\n",
      "[LightGBM] [Debug] Trained a tree with leaves = 31 and depth = 6\n",
      "[LightGBM] [Debug] Trained a tree with leaves = 31 and depth = 6\n",
      "[LightGBM] [Debug] Trained a tree with leaves = 31 and depth = 6\n",
      "[LightGBM] [Debug] Trained a tree with leaves = 31 and depth = 6\n",
      "[LightGBM] [Debug] Trained a tree with leaves = 31 and depth = 6\n",
      "[LightGBM] [Debug] Trained a tree with leaves = 31 and depth = 6\n",
      "[LightGBM] [Debug] Trained a tree with leaves = 31 and depth = 6\n",
      "[LightGBM] [Debug] Trained a tree with leaves = 31 and depth = 6\n",
      "[LightGBM] [Debug] Trained a tree with leaves = 31 and depth = 6\n",
      "[LightGBM] [Debug] Trained a tree with leaves = 31 and depth = 6\n",
      "[LightGBM] [Debug] Trained a tree with leaves = 31 and depth = 6\n",
      "[LightGBM] [Debug] Trained a tree with leaves = 31 and depth = 6\n",
      "[LightGBM] [Debug] Trained a tree with leaves = 31 and depth = 6\n",
      "[LightGBM] [Debug] Trained a tree with leaves = 31 and depth = 6\n",
      "[LightGBM] [Debug] Trained a tree with leaves = 31 and depth = 6\n",
      "[LightGBM] [Debug] Trained a tree with leaves = 31 and depth = 6\n",
      "[LightGBM] [Debug] Trained a tree with leaves = 31 and depth = 6\n",
      "[LightGBM] [Debug] Trained a tree with leaves = 31 and depth = 6\n",
      "[LightGBM] [Debug] Trained a tree with leaves = 31 and depth = 6\n",
      "[LightGBM] [Debug] Trained a tree with leaves = 31 and depth = 6\n",
      "[LightGBM] [Debug] Trained a tree with leaves = 31 and depth = 6\n",
      "[LightGBM] [Debug] Trained a tree with leaves = 31 and depth = 6\n",
      "[LightGBM] [Debug] Trained a tree with leaves = 31 and depth = 6\n",
      "[LightGBM] [Debug] Trained a tree with leaves = 31 and depth = 6\n",
      "[LightGBM] [Debug] Trained a tree with leaves = 31 and depth = 6\n",
      "[LightGBM] [Debug] Trained a tree with leaves = 31 and depth = 6\n",
      "[LightGBM] [Debug] Trained a tree with leaves = 31 and depth = 6\n",
      "[LightGBM] [Debug] Trained a tree with leaves = 31 and depth = 6\n",
      "[LightGBM] [Debug] Trained a tree with leaves = 31 and depth = 6\n",
      "[LightGBM] [Debug] Trained a tree with leaves = 31 and depth = 6\n",
      "[LightGBM] [Debug] Trained a tree with leaves = 31 and depth = 6\n",
      "[LightGBM] [Debug] Trained a tree with leaves = 31 and depth = 6\n",
      "[LightGBM] [Debug] Trained a tree with leaves = 31 and depth = 6\n",
      "[LightGBM] [Debug] Trained a tree with leaves = 31 and depth = 6\n",
      "[LightGBM] [Debug] Trained a tree with leaves = 31 and depth = 6\n",
      "[LightGBM] [Debug] Trained a tree with leaves = 31 and depth = 6\n",
      "[LightGBM] [Debug] Trained a tree with leaves = 31 and depth = 6\n",
      "[LightGBM] [Debug] Trained a tree with leaves = 31 and depth = 6\n",
      "[LightGBM] [Debug] Trained a tree with leaves = 31 and depth = 6\n",
      "[LightGBM] [Warning] No further splits with positive gain, best gain: -inf\n",
      "[LightGBM] [Debug] Trained a tree with leaves = 30 and depth = 6\n",
      "[LightGBM] [Debug] Trained a tree with leaves = 31 and depth = 6\n",
      "[LightGBM] [Debug] Trained a tree with leaves = 31 and depth = 6\n",
      "[LightGBM] [Debug] Trained a tree with leaves = 31 and depth = 6\n",
      "[LightGBM] [Debug] Trained a tree with leaves = 31 and depth = 6\n",
      "[LightGBM] [Debug] Trained a tree with leaves = 31 and depth = 6\n",
      "[LightGBM] [Debug] Trained a tree with leaves = 31 and depth = 6\n",
      "[LightGBM] [Debug] Trained a tree with leaves = 31 and depth = 6\n",
      "[LightGBM] [Debug] Trained a tree with leaves = 31 and depth = 6\n",
      "[LightGBM] [Debug] Trained a tree with leaves = 31 and depth = 6\n",
      "[LightGBM] [Debug] Trained a tree with leaves = 31 and depth = 6\n",
      "[LightGBM] [Debug] Trained a tree with leaves = 31 and depth = 6\n",
      "[LightGBM] [Debug] Trained a tree with leaves = 31 and depth = 6\n",
      "[LightGBM] [Warning] No further splits with positive gain, best gain: -inf\n",
      "[LightGBM] [Debug] Trained a tree with leaves = 25 and depth = 6\n",
      "[LightGBM] [Debug] Trained a tree with leaves = 31 and depth = 6\n",
      "[LightGBM] [Debug] Trained a tree with leaves = 31 and depth = 6\n",
      "[LightGBM] [Debug] Trained a tree with leaves = 31 and depth = 6\n",
      "[LightGBM] [Debug] Trained a tree with leaves = 31 and depth = 6\n",
      "[LightGBM] [Debug] Trained a tree with leaves = 31 and depth = 6\n",
      "[LightGBM] [Debug] Trained a tree with leaves = 31 and depth = 6\n",
      "[LightGBM] [Debug] Trained a tree with leaves = 31 and depth = 6\n",
      "[LightGBM] [Debug] Trained a tree with leaves = 31 and depth = 6\n",
      "[LightGBM] [Debug] Trained a tree with leaves = 31 and depth = 6\n",
      "[LightGBM] [Debug] Trained a tree with leaves = 31 and depth = 6\n",
      "[LightGBM] [Debug] Trained a tree with leaves = 31 and depth = 6\n",
      "[LightGBM] [Warning] No further splits with positive gain, best gain: -inf\n",
      "[LightGBM] [Debug] Trained a tree with leaves = 24 and depth = 6\n",
      "[LightGBM] [Debug] Trained a tree with leaves = 31 and depth = 6\n",
      "[LightGBM] [Debug] Trained a tree with leaves = 31 and depth = 6\n",
      "[LightGBM] [Debug] Trained a tree with leaves = 31 and depth = 6\n",
      "[LightGBM] [Debug] Trained a tree with leaves = 31 and depth = 6\n",
      "[LightGBM] [Debug] Trained a tree with leaves = 31 and depth = 6\n",
      "[LightGBM] [Debug] Trained a tree with leaves = 31 and depth = 6\n",
      "[LightGBM] [Debug] Trained a tree with leaves = 31 and depth = 6\n",
      "[LightGBM] [Warning] No further splits with positive gain, best gain: -inf\n",
      "[LightGBM] [Debug] Trained a tree with leaves = 23 and depth = 6\n",
      "[LightGBM] [Debug] Trained a tree with leaves = 31 and depth = 6\n",
      "[LightGBM] [Debug] Trained a tree with leaves = 31 and depth = 6\n",
      "[LightGBM] [Debug] Trained a tree with leaves = 31 and depth = 6\n",
      "Лучшее значение RMSE для LGBMRegressor: 1680.042632184855\n"
     ]
    }
   ],
   "source": [
    "scores_lgbm = cross_val_score(best_model_lgbm, features_test, target_test, scoring='neg_root_mean_squared_error', cv=5)\n",
    "rmse_lgbm = abs(scores_lgbm.mean())\n",
    "print(f'Лучшее значение RMSE для LGBMRegressor: {rmse_lgbm}')"
   ]
  },
  {
   "cell_type": "code",
   "execution_count": 23,
   "metadata": {
    "scrolled": true
   },
   "outputs": [
    {
     "name": "stdout",
     "output_type": "stream",
     "text": [
      "<class 'pandas.core.frame.DataFrame'>\n",
      "Int64Index: 62503 entries, 11067 to 131553\n",
      "Data columns (total 3 columns):\n",
      " #   Column            Non-Null Count  Dtype\n",
      "---  ------            --------------  -----\n",
      " 0   RegistrationYear  62503 non-null  int64\n",
      " 1   Power             62503 non-null  int64\n",
      " 2   Kilometer         62503 non-null  int64\n",
      "dtypes: int64(3)\n",
      "memory usage: 1.9 MB\n"
     ]
    },
    {
     "name": "stderr",
     "output_type": "stream",
     "text": [
      "/opt/conda/lib/python3.9/site-packages/pandas/core/indexing.py:1738: SettingWithCopyWarning: \n",
      "A value is trying to be set on a copy of a slice from a DataFrame.\n",
      "Try using .loc[row_indexer,col_indexer] = value instead\n",
      "\n",
      "See the caveats in the documentation: https://pandas.pydata.org/pandas-docs/stable/user_guide/indexing.html#returning-a-view-versus-a-copy\n",
      "  self._setitem_single_column(loc, value[:, i].tolist(), pi)\n"
     ]
    },
    {
     "data": {
      "text/html": [
       "<div>\n",
       "<style scoped>\n",
       "    .dataframe tbody tr th:only-of-type {\n",
       "        vertical-align: middle;\n",
       "    }\n",
       "\n",
       "    .dataframe tbody tr th {\n",
       "        vertical-align: top;\n",
       "    }\n",
       "\n",
       "    .dataframe thead th {\n",
       "        text-align: right;\n",
       "    }\n",
       "</style>\n",
       "<table border=\"1\" class=\"dataframe\">\n",
       "  <thead>\n",
       "    <tr style=\"text-align: right;\">\n",
       "      <th></th>\n",
       "      <th>VehicleType</th>\n",
       "      <th>RegistrationYear</th>\n",
       "      <th>Gearbox</th>\n",
       "      <th>Power</th>\n",
       "      <th>Model</th>\n",
       "      <th>Kilometer</th>\n",
       "      <th>FuelType</th>\n",
       "      <th>Brand</th>\n",
       "      <th>NotRepaired</th>\n",
       "    </tr>\n",
       "  </thead>\n",
       "  <tbody>\n",
       "    <tr>\n",
       "      <th>11067</th>\n",
       "      <td>sedan</td>\n",
       "      <td>0.375081</td>\n",
       "      <td>manual</td>\n",
       "      <td>0.517652</td>\n",
       "      <td>superb</td>\n",
       "      <td>0.616730</td>\n",
       "      <td>petrol</td>\n",
       "      <td>skoda</td>\n",
       "      <td>no</td>\n",
       "    </tr>\n",
       "    <tr>\n",
       "      <th>52020</th>\n",
       "      <td>sedan</td>\n",
       "      <td>-1.192724</td>\n",
       "      <td>auto</td>\n",
       "      <td>-0.000938</td>\n",
       "      <td>c_klasse</td>\n",
       "      <td>-1.512184</td>\n",
       "      <td>petrol</td>\n",
       "      <td>mercedes_benz</td>\n",
       "      <td>no</td>\n",
       "    </tr>\n",
       "    <tr>\n",
       "      <th>338510</th>\n",
       "      <td>sedan</td>\n",
       "      <td>-1.035943</td>\n",
       "      <td>manual</td>\n",
       "      <td>-0.593612</td>\n",
       "      <td>6_reihe</td>\n",
       "      <td>0.616730</td>\n",
       "      <td>petrol</td>\n",
       "      <td>mazda</td>\n",
       "      <td>no</td>\n",
       "    </tr>\n",
       "    <tr>\n",
       "      <th>153132</th>\n",
       "      <td>sedan</td>\n",
       "      <td>-2.133407</td>\n",
       "      <td>manual</td>\n",
       "      <td>-0.445443</td>\n",
       "      <td>golf</td>\n",
       "      <td>0.616730</td>\n",
       "      <td>petrol</td>\n",
       "      <td>volkswagen</td>\n",
       "      <td>no</td>\n",
       "    </tr>\n",
       "    <tr>\n",
       "      <th>213640</th>\n",
       "      <td>small</td>\n",
       "      <td>0.375081</td>\n",
       "      <td>auto</td>\n",
       "      <td>-0.204670</td>\n",
       "      <td>modus</td>\n",
       "      <td>-0.713842</td>\n",
       "      <td>petrol</td>\n",
       "      <td>renault</td>\n",
       "      <td>no</td>\n",
       "    </tr>\n",
       "    <tr>\n",
       "      <th>...</th>\n",
       "      <td>...</td>\n",
       "      <td>...</td>\n",
       "      <td>...</td>\n",
       "      <td>...</td>\n",
       "      <td>...</td>\n",
       "      <td>...</td>\n",
       "      <td>...</td>\n",
       "      <td>...</td>\n",
       "      <td>...</td>\n",
       "    </tr>\n",
       "    <tr>\n",
       "      <th>298138</th>\n",
       "      <td>sedan</td>\n",
       "      <td>0.061520</td>\n",
       "      <td>manual</td>\n",
       "      <td>-0.112064</td>\n",
       "      <td>3er</td>\n",
       "      <td>-0.048556</td>\n",
       "      <td>petrol</td>\n",
       "      <td>bmw</td>\n",
       "      <td>no</td>\n",
       "    </tr>\n",
       "    <tr>\n",
       "      <th>45926</th>\n",
       "      <td>sedan</td>\n",
       "      <td>1.315764</td>\n",
       "      <td>manual</td>\n",
       "      <td>-0.315796</td>\n",
       "      <td>golf</td>\n",
       "      <td>-0.048556</td>\n",
       "      <td>other</td>\n",
       "      <td>volkswagen</td>\n",
       "      <td>no</td>\n",
       "    </tr>\n",
       "    <tr>\n",
       "      <th>351632</th>\n",
       "      <td>bus</td>\n",
       "      <td>-3.857993</td>\n",
       "      <td>auto</td>\n",
       "      <td>-0.778822</td>\n",
       "      <td>other</td>\n",
       "      <td>0.616730</td>\n",
       "      <td>petrol</td>\n",
       "      <td>sonstige_autos</td>\n",
       "      <td>yes</td>\n",
       "    </tr>\n",
       "    <tr>\n",
       "      <th>264732</th>\n",
       "      <td>convertible</td>\n",
       "      <td>1.002203</td>\n",
       "      <td>manual</td>\n",
       "      <td>1.147368</td>\n",
       "      <td>clk</td>\n",
       "      <td>-1.778299</td>\n",
       "      <td>petrol</td>\n",
       "      <td>mercedes_benz</td>\n",
       "      <td>no</td>\n",
       "    </tr>\n",
       "    <tr>\n",
       "      <th>131553</th>\n",
       "      <td>small</td>\n",
       "      <td>-0.722382</td>\n",
       "      <td>manual</td>\n",
       "      <td>-1.149244</td>\n",
       "      <td>polo</td>\n",
       "      <td>0.616730</td>\n",
       "      <td>petrol</td>\n",
       "      <td>volkswagen</td>\n",
       "      <td>no</td>\n",
       "    </tr>\n",
       "  </tbody>\n",
       "</table>\n",
       "<p>62503 rows × 9 columns</p>\n",
       "</div>"
      ],
      "text/plain": [
       "        VehicleType  RegistrationYear Gearbox     Power     Model  Kilometer  \\\n",
       "11067         sedan          0.375081  manual  0.517652    superb   0.616730   \n",
       "52020         sedan         -1.192724    auto -0.000938  c_klasse  -1.512184   \n",
       "338510        sedan         -1.035943  manual -0.593612   6_reihe   0.616730   \n",
       "153132        sedan         -2.133407  manual -0.445443      golf   0.616730   \n",
       "213640        small          0.375081    auto -0.204670     modus  -0.713842   \n",
       "...             ...               ...     ...       ...       ...        ...   \n",
       "298138        sedan          0.061520  manual -0.112064       3er  -0.048556   \n",
       "45926         sedan          1.315764  manual -0.315796      golf  -0.048556   \n",
       "351632          bus         -3.857993    auto -0.778822     other   0.616730   \n",
       "264732  convertible          1.002203  manual  1.147368       clk  -1.778299   \n",
       "131553        small         -0.722382  manual -1.149244      polo   0.616730   \n",
       "\n",
       "       FuelType           Brand NotRepaired  \n",
       "11067    petrol           skoda          no  \n",
       "52020    petrol   mercedes_benz          no  \n",
       "338510   petrol           mazda          no  \n",
       "153132   petrol      volkswagen          no  \n",
       "213640   petrol         renault          no  \n",
       "...         ...             ...         ...  \n",
       "298138   petrol             bmw          no  \n",
       "45926     other      volkswagen          no  \n",
       "351632   petrol  sonstige_autos         yes  \n",
       "264732   petrol   mercedes_benz          no  \n",
       "131553   petrol      volkswagen          no  \n",
       "\n",
       "[62503 rows x 9 columns]"
      ]
     },
     "metadata": {},
     "output_type": "display_data"
    }
   ],
   "source": [
    "features_test_numeric = features_test.select_dtypes('int64').copy()\n",
    "features_test_numeric.info()\n",
    "scaler.fit(features_test_numeric)\n",
    "features_test.loc[:, features_test_numeric.columns] = scaler.transform(features_test_numeric)\n",
    "display(features_test)"
   ]
  },
  {
   "cell_type": "code",
   "execution_count": 24,
   "metadata": {},
   "outputs": [
    {
     "name": "stdout",
     "output_type": "stream",
     "text": [
      "CPU times: user 606 ms, sys: 0 ns, total: 606 ms\n",
      "Wall time: 586 ms\n"
     ]
    }
   ],
   "source": [
    "%%time\n",
    "predicted = best_model_lgbm.predict(features_test)\n"
   ]
  },
  {
   "cell_type": "code",
   "execution_count": 25,
   "metadata": {},
   "outputs": [
    {
     "data": {
      "text/plain": [
       "1644.44439649256"
      ]
     },
     "metadata": {},
     "output_type": "display_data"
    }
   ],
   "source": [
    "display(mean_squared_error(target_test,predicted,squared=False))"
   ]
  },
  {
   "cell_type": "markdown",
   "metadata": {},
   "source": [
    "Таким образом, нами проверена лучшая из рассмотренных моделей, а именно LGBMRegressor. Метрика RMSE, использованная по условиям задания, показала на текстовой выборке схожие с трейн-выборкой результаты, т.е. окончательная проверка подтвердила работоспособность маодели, корректность препроцессинга данных и обучения модели. По способности к анализу категориальных данных, преимуществ какой-либо из бустинг-моделей не обнаружил."
   ]
  },
  {
   "cell_type": "markdown",
   "metadata": {},
   "source": [
    "## Чек-лист проверки"
   ]
  },
  {
   "cell_type": "markdown",
   "metadata": {},
   "source": [
    "Поставьте 'x' в выполненных пунктах. Далее нажмите Shift+Enter."
   ]
  },
  {
   "cell_type": "markdown",
   "metadata": {},
   "source": [
    "- [x]  Jupyter Notebook открыт\n",
    "- [x]  Весь код выполняется без ошибок\n",
    "- [x]  Ячейки с кодом расположены в порядке исполнения\n",
    "- [x]  Выполнена загрузка и подготовка данных\n",
    "- [x]  Выполнено обучение моделей\n",
    "- [x]  Есть анализ скорости работы и качества моделей"
   ]
  }
 ],
 "metadata": {
  "ExecuteTimeLog": [
   {
    "duration": 50,
    "start_time": "2022-07-31T20:17:04.416Z"
   },
   {
    "duration": 1112,
    "start_time": "2022-07-31T20:17:09.211Z"
   },
   {
    "duration": 127,
    "start_time": "2022-07-31T20:17:14.562Z"
   },
   {
    "duration": 40,
    "start_time": "2022-07-31T20:17:55.996Z"
   },
   {
    "duration": 2341,
    "start_time": "2022-07-31T20:17:59.945Z"
   },
   {
    "duration": 1950,
    "start_time": "2022-07-31T20:19:38.179Z"
   },
   {
    "duration": 2027,
    "start_time": "2022-07-31T20:20:25.707Z"
   },
   {
    "duration": 1893,
    "start_time": "2022-07-31T20:20:51.997Z"
   },
   {
    "duration": 555,
    "start_time": "2022-07-31T20:24:01.912Z"
   },
   {
    "duration": 2598,
    "start_time": "2022-07-31T20:26:34.162Z"
   },
   {
    "duration": 2154,
    "start_time": "2022-07-31T20:28:49.447Z"
   },
   {
    "duration": 1916,
    "start_time": "2022-07-31T20:31:26.974Z"
   },
   {
    "duration": 2456,
    "start_time": "2022-07-31T20:33:43.054Z"
   },
   {
    "duration": 2550,
    "start_time": "2022-07-31T20:40:02.059Z"
   },
   {
    "duration": 2523,
    "start_time": "2022-07-31T20:41:53.283Z"
   },
   {
    "duration": 2530,
    "start_time": "2022-07-31T20:42:47.018Z"
   },
   {
    "duration": 2530,
    "start_time": "2022-07-31T20:43:00.385Z"
   },
   {
    "duration": 2390,
    "start_time": "2022-07-31T20:43:18.835Z"
   },
   {
    "duration": 2606,
    "start_time": "2022-07-31T20:43:55.075Z"
   },
   {
    "duration": 1023,
    "start_time": "2022-07-31T20:54:55.832Z"
   },
   {
    "duration": 1067,
    "start_time": "2022-07-31T20:55:50.439Z"
   },
   {
    "duration": 1082,
    "start_time": "2022-07-31T20:56:13.430Z"
   },
   {
    "duration": 1025,
    "start_time": "2022-07-31T20:59:04.680Z"
   },
   {
    "duration": 917,
    "start_time": "2022-07-31T21:06:14.284Z"
   },
   {
    "duration": 2488,
    "start_time": "2022-07-31T21:06:29.274Z"
   },
   {
    "duration": 44,
    "start_time": "2022-08-02T18:31:32.111Z"
   },
   {
    "duration": 1555,
    "start_time": "2022-08-02T18:31:39.037Z"
   },
   {
    "duration": 2782,
    "start_time": "2022-08-02T18:31:40.594Z"
   },
   {
    "duration": 89,
    "start_time": "2022-08-02T18:31:48.873Z"
   },
   {
    "duration": 53,
    "start_time": "2022-08-02T18:32:07.011Z"
   },
   {
    "duration": 48,
    "start_time": "2022-08-02T18:32:21.279Z"
   },
   {
    "duration": 125,
    "start_time": "2022-08-02T18:34:23.809Z"
   },
   {
    "duration": 924,
    "start_time": "2022-08-02T18:37:45.039Z"
   },
   {
    "duration": 21,
    "start_time": "2022-08-02T18:38:56.476Z"
   },
   {
    "duration": 34,
    "start_time": "2022-08-02T18:42:05.650Z"
   },
   {
    "duration": 37,
    "start_time": "2022-08-02T18:42:12.641Z"
   },
   {
    "duration": 1040,
    "start_time": "2022-08-02T18:50:49.364Z"
   },
   {
    "duration": 1135,
    "start_time": "2022-08-02T18:51:38.669Z"
   },
   {
    "duration": 1134,
    "start_time": "2022-08-02T18:52:38.904Z"
   },
   {
    "duration": 33,
    "start_time": "2022-08-02T18:54:29.213Z"
   },
   {
    "duration": 891,
    "start_time": "2022-08-02T18:54:32.496Z"
   },
   {
    "duration": 58,
    "start_time": "2022-08-02T18:55:35.222Z"
   },
   {
    "duration": 1144,
    "start_time": "2022-08-02T18:55:53.453Z"
   },
   {
    "duration": 1045,
    "start_time": "2022-08-02T18:56:17.736Z"
   },
   {
    "duration": 1043,
    "start_time": "2022-08-02T18:56:55.656Z"
   },
   {
    "duration": 525,
    "start_time": "2022-08-02T18:57:41.399Z"
   },
   {
    "duration": 1026,
    "start_time": "2022-08-02T18:58:17.018Z"
   },
   {
    "duration": 2259,
    "start_time": "2022-08-02T19:03:54.965Z"
   },
   {
    "duration": 36,
    "start_time": "2022-08-02T19:04:49.804Z"
   },
   {
    "duration": 30,
    "start_time": "2022-08-02T19:04:55.632Z"
   },
   {
    "duration": 1920,
    "start_time": "2022-08-02T19:05:11.176Z"
   },
   {
    "duration": 2509,
    "start_time": "2022-08-02T19:10:32.602Z"
   },
   {
    "duration": 2772,
    "start_time": "2022-08-02T19:12:22.632Z"
   },
   {
    "duration": 3070,
    "start_time": "2022-08-02T19:17:35.712Z"
   },
   {
    "duration": 4451,
    "start_time": "2022-08-02T19:17:53.482Z"
   },
   {
    "duration": 3382,
    "start_time": "2022-08-02T19:19:16.087Z"
   },
   {
    "duration": 1357,
    "start_time": "2022-08-02T19:20:20.742Z"
   },
   {
    "duration": 934,
    "start_time": "2022-08-02T19:20:22.101Z"
   },
   {
    "duration": 39,
    "start_time": "2022-08-02T19:20:23.038Z"
   },
   {
    "duration": 2732,
    "start_time": "2022-08-02T19:20:29.165Z"
   },
   {
    "duration": 1938,
    "start_time": "2022-08-02T19:21:50.819Z"
   },
   {
    "duration": 1402,
    "start_time": "2022-08-02T19:23:34.225Z"
   },
   {
    "duration": 915,
    "start_time": "2022-08-02T19:23:35.629Z"
   },
   {
    "duration": 34,
    "start_time": "2022-08-02T19:23:36.546Z"
   },
   {
    "duration": 2890,
    "start_time": "2022-08-02T19:23:43.540Z"
   },
   {
    "duration": 2634,
    "start_time": "2022-08-02T19:27:07.471Z"
   },
   {
    "duration": 1959,
    "start_time": "2022-08-02T19:29:22.227Z"
   },
   {
    "duration": 45,
    "start_time": "2022-08-02T19:30:17.766Z"
   },
   {
    "duration": 2062,
    "start_time": "2022-08-02T19:30:23.217Z"
   },
   {
    "duration": 1992,
    "start_time": "2022-08-02T19:35:46.422Z"
   },
   {
    "duration": 193,
    "start_time": "2022-08-02T19:36:27.283Z"
   },
   {
    "duration": 94,
    "start_time": "2022-08-02T19:41:15.315Z"
   },
   {
    "duration": 52,
    "start_time": "2022-08-02T19:44:09.753Z"
   },
   {
    "duration": 2371,
    "start_time": "2022-08-02T19:47:47.520Z"
   },
   {
    "duration": 2152,
    "start_time": "2022-08-02T19:48:14.529Z"
   },
   {
    "duration": 2203,
    "start_time": "2022-08-02T19:48:53.816Z"
   },
   {
    "duration": 2308,
    "start_time": "2022-08-02T19:49:16.234Z"
   },
   {
    "duration": 2194,
    "start_time": "2022-08-02T19:49:35.078Z"
   },
   {
    "duration": 2587,
    "start_time": "2022-08-02T19:50:06.529Z"
   },
   {
    "duration": 2020,
    "start_time": "2022-08-02T19:53:10.221Z"
   },
   {
    "duration": 2581,
    "start_time": "2022-08-02T19:53:55.466Z"
   },
   {
    "duration": 72759,
    "start_time": "2022-08-02T19:55:40.653Z"
   },
   {
    "duration": 1431,
    "start_time": "2022-08-02T19:58:07.633Z"
   },
   {
    "duration": 926,
    "start_time": "2022-08-02T19:58:09.067Z"
   },
   {
    "duration": 44,
    "start_time": "2022-08-02T19:58:09.995Z"
   },
   {
    "duration": 52,
    "start_time": "2022-08-02T19:59:36.921Z"
   },
   {
    "duration": 1352,
    "start_time": "2022-08-02T19:59:40.542Z"
   },
   {
    "duration": 956,
    "start_time": "2022-08-02T19:59:41.896Z"
   },
   {
    "duration": 38,
    "start_time": "2022-08-02T19:59:42.853Z"
   },
   {
    "duration": 1412,
    "start_time": "2022-08-02T20:00:16.756Z"
   },
   {
    "duration": 966,
    "start_time": "2022-08-02T20:00:18.169Z"
   },
   {
    "duration": 45,
    "start_time": "2022-08-02T20:00:19.139Z"
   },
   {
    "duration": 71629,
    "start_time": "2022-08-02T20:00:32.140Z"
   },
   {
    "duration": 1361,
    "start_time": "2022-08-02T20:04:46.846Z"
   },
   {
    "duration": 1012,
    "start_time": "2022-08-02T20:04:48.209Z"
   },
   {
    "duration": 45,
    "start_time": "2022-08-02T20:04:49.222Z"
   },
   {
    "duration": 2704,
    "start_time": "2022-08-02T20:04:51.352Z"
   },
   {
    "duration": 707,
    "start_time": "2022-08-02T20:07:12.369Z"
   },
   {
    "duration": 1387,
    "start_time": "2022-08-02T20:07:23.065Z"
   },
   {
    "duration": 940,
    "start_time": "2022-08-02T20:07:24.454Z"
   },
   {
    "duration": 49,
    "start_time": "2022-08-02T20:07:25.396Z"
   },
   {
    "duration": 796,
    "start_time": "2022-08-02T20:07:38.325Z"
   },
   {
    "duration": 1423,
    "start_time": "2022-08-02T20:07:48.027Z"
   },
   {
    "duration": 532,
    "start_time": "2022-08-02T20:07:56.830Z"
   },
   {
    "duration": 730,
    "start_time": "2022-08-02T20:08:46.158Z"
   },
   {
    "duration": 70375,
    "start_time": "2022-08-02T20:09:07.525Z"
   },
   {
    "duration": 73571,
    "start_time": "2022-08-02T20:18:14.258Z"
   },
   {
    "duration": 0,
    "start_time": "2022-08-02T20:21:38.573Z"
   },
   {
    "duration": 1444,
    "start_time": "2022-08-02T20:22:39.628Z"
   },
   {
    "duration": 1001,
    "start_time": "2022-08-02T20:22:41.074Z"
   },
   {
    "duration": 37,
    "start_time": "2022-08-02T20:22:42.076Z"
   },
   {
    "duration": 742,
    "start_time": "2022-08-02T20:22:42.115Z"
   },
   {
    "duration": 1476,
    "start_time": "2022-08-02T20:22:42.858Z"
   },
   {
    "duration": 857,
    "start_time": "2022-08-02T20:22:44.335Z"
   },
   {
    "duration": 3,
    "start_time": "2022-08-02T20:22:45.194Z"
   },
   {
    "duration": 104,
    "start_time": "2022-08-02T20:22:45.198Z"
   },
   {
    "duration": 1274,
    "start_time": "2022-08-02T20:24:12.452Z"
   },
   {
    "duration": 5779,
    "start_time": "2022-08-02T20:24:32.363Z"
   },
   {
    "duration": 165,
    "start_time": "2022-08-02T21:09:56.082Z"
   },
   {
    "duration": 1101,
    "start_time": "2022-08-02T21:10:10.862Z"
   },
   {
    "duration": 1311,
    "start_time": "2022-08-02T21:10:38.181Z"
   },
   {
    "duration": 1309,
    "start_time": "2022-08-02T21:11:11.329Z"
   },
   {
    "duration": 227,
    "start_time": "2022-08-02T21:12:14.980Z"
   },
   {
    "duration": 507,
    "start_time": "2022-08-02T21:13:37.465Z"
   },
   {
    "duration": 534,
    "start_time": "2022-08-02T21:14:30.997Z"
   },
   {
    "duration": 627,
    "start_time": "2022-08-02T21:14:58.732Z"
   },
   {
    "duration": 554,
    "start_time": "2022-08-02T21:15:38.217Z"
   },
   {
    "duration": 5867,
    "start_time": "2022-08-02T21:16:44.579Z"
   },
   {
    "duration": 332,
    "start_time": "2022-08-02T21:18:35.794Z"
   },
   {
    "duration": 18,
    "start_time": "2022-08-02T21:19:04.241Z"
   },
   {
    "duration": 161,
    "start_time": "2022-08-02T21:19:17.229Z"
   },
   {
    "duration": 131,
    "start_time": "2022-08-02T21:20:10.766Z"
   },
   {
    "duration": 1152,
    "start_time": "2022-08-02T21:21:22.560Z"
   },
   {
    "duration": 304,
    "start_time": "2022-08-02T21:21:31.639Z"
   },
   {
    "duration": 297,
    "start_time": "2022-08-02T21:22:01.702Z"
   },
   {
    "duration": 256,
    "start_time": "2022-08-02T21:22:39.613Z"
   },
   {
    "duration": 248,
    "start_time": "2022-08-02T21:23:31.762Z"
   },
   {
    "duration": 246,
    "start_time": "2022-08-02T21:23:47.581Z"
   },
   {
    "duration": 253,
    "start_time": "2022-08-02T21:24:10.994Z"
   },
   {
    "duration": 414,
    "start_time": "2022-08-02T21:26:45.960Z"
   },
   {
    "duration": 239,
    "start_time": "2022-08-02T21:28:09.013Z"
   },
   {
    "duration": 274,
    "start_time": "2022-08-02T21:28:31.687Z"
   },
   {
    "duration": 237,
    "start_time": "2022-08-02T21:28:40.801Z"
   },
   {
    "duration": 227,
    "start_time": "2022-08-02T21:28:52.744Z"
   },
   {
    "duration": 239,
    "start_time": "2022-08-02T21:29:00.334Z"
   },
   {
    "duration": 222,
    "start_time": "2022-08-02T21:29:19.055Z"
   },
   {
    "duration": 237,
    "start_time": "2022-08-02T21:29:32.917Z"
   },
   {
    "duration": 234,
    "start_time": "2022-08-02T21:29:45.816Z"
   },
   {
    "duration": 246,
    "start_time": "2022-08-02T21:29:53.932Z"
   },
   {
    "duration": 255,
    "start_time": "2022-08-02T21:30:15.601Z"
   },
   {
    "duration": 327,
    "start_time": "2022-08-02T21:33:42.087Z"
   },
   {
    "duration": 271,
    "start_time": "2022-08-02T21:34:22.227Z"
   },
   {
    "duration": 258,
    "start_time": "2022-08-02T21:34:53.620Z"
   },
   {
    "duration": 341,
    "start_time": "2022-08-02T21:35:49.999Z"
   },
   {
    "duration": 1329,
    "start_time": "2022-08-02T21:36:21.053Z"
   },
   {
    "duration": 910,
    "start_time": "2022-08-02T21:36:22.383Z"
   },
   {
    "duration": 48,
    "start_time": "2022-08-02T21:36:23.295Z"
   },
   {
    "duration": 715,
    "start_time": "2022-08-02T21:36:23.345Z"
   },
   {
    "duration": 1329,
    "start_time": "2022-08-02T21:36:24.062Z"
   },
   {
    "duration": 357,
    "start_time": "2022-08-02T21:36:36.627Z"
   },
   {
    "duration": 892,
    "start_time": "2022-08-02T22:20:58.449Z"
   },
   {
    "duration": 10,
    "start_time": "2022-08-02T22:23:34.706Z"
   },
   {
    "duration": 804,
    "start_time": "2022-08-02T22:23:48.240Z"
   },
   {
    "duration": 47,
    "start_time": "2022-08-02T22:24:33.089Z"
   },
   {
    "duration": 1276,
    "start_time": "2022-08-02T22:24:46.203Z"
   },
   {
    "duration": 34,
    "start_time": "2022-08-02T22:24:53.045Z"
   },
   {
    "duration": 910,
    "start_time": "2022-08-02T22:24:53.218Z"
   },
   {
    "duration": 67,
    "start_time": "2022-08-02T22:25:02.505Z"
   },
   {
    "duration": 306,
    "start_time": "2022-08-02T22:26:29.525Z"
   },
   {
    "duration": 1332,
    "start_time": "2022-08-02T22:27:18.542Z"
   },
   {
    "duration": 931,
    "start_time": "2022-08-02T22:27:19.876Z"
   },
   {
    "duration": 385,
    "start_time": "2022-08-02T22:27:29.368Z"
   },
   {
    "duration": 36,
    "start_time": "2022-08-02T22:27:36.051Z"
   },
   {
    "duration": 850,
    "start_time": "2022-08-02T22:27:36.359Z"
   },
   {
    "duration": 239,
    "start_time": "2022-08-02T22:27:53.708Z"
   },
   {
    "duration": 139,
    "start_time": "2022-08-02T22:29:07.940Z"
   },
   {
    "duration": 147,
    "start_time": "2022-08-02T22:29:30.081Z"
   },
   {
    "duration": 215,
    "start_time": "2022-08-02T22:30:03.908Z"
   },
   {
    "duration": 10,
    "start_time": "2022-08-02T22:32:09.314Z"
   },
   {
    "duration": 400,
    "start_time": "2022-08-02T22:32:26.610Z"
   },
   {
    "duration": 271,
    "start_time": "2022-08-02T22:33:26.330Z"
   },
   {
    "duration": 275,
    "start_time": "2022-08-02T22:33:53.807Z"
   },
   {
    "duration": 56,
    "start_time": "2022-08-02T22:34:58.006Z"
   },
   {
    "duration": 47,
    "start_time": "2022-08-02T22:35:19.975Z"
   },
   {
    "duration": 54,
    "start_time": "2022-08-02T22:35:31.049Z"
   },
   {
    "duration": 44,
    "start_time": "2022-08-03T05:20:34.104Z"
   },
   {
    "duration": 1451,
    "start_time": "2022-08-03T05:20:38.958Z"
   },
   {
    "duration": 2787,
    "start_time": "2022-08-03T05:20:40.411Z"
   },
   {
    "duration": 291,
    "start_time": "2022-08-03T05:20:43.202Z"
   },
   {
    "duration": 70,
    "start_time": "2022-08-03T05:21:02.873Z"
   },
   {
    "duration": 527,
    "start_time": "2022-08-03T05:21:27.389Z"
   },
   {
    "duration": 1328,
    "start_time": "2022-08-03T05:30:49.101Z"
   },
   {
    "duration": 815,
    "start_time": "2022-08-03T05:30:52.210Z"
   },
   {
    "duration": 789,
    "start_time": "2022-08-03T05:31:06.415Z"
   },
   {
    "duration": 306,
    "start_time": "2022-08-03T05:31:15.579Z"
   },
   {
    "duration": 93,
    "start_time": "2022-08-03T05:35:12.564Z"
   },
   {
    "duration": 1725,
    "start_time": "2022-08-03T05:36:33.450Z"
   },
   {
    "duration": 1297,
    "start_time": "2022-08-03T05:36:55.847Z"
   },
   {
    "duration": 17,
    "start_time": "2022-08-03T05:37:13.247Z"
   },
   {
    "duration": 389,
    "start_time": "2022-08-03T05:38:34.647Z"
   },
   {
    "duration": 123,
    "start_time": "2022-08-03T05:40:07.262Z"
   },
   {
    "duration": 154,
    "start_time": "2022-08-03T05:41:20.716Z"
   },
   {
    "duration": 558,
    "start_time": "2022-08-03T05:43:28.895Z"
   },
   {
    "duration": 1398,
    "start_time": "2022-08-03T05:43:55.383Z"
   },
   {
    "duration": 888,
    "start_time": "2022-08-03T05:43:56.782Z"
   },
   {
    "duration": 416,
    "start_time": "2022-08-03T05:43:57.672Z"
   },
   {
    "duration": 504,
    "start_time": "2022-08-03T05:44:20.548Z"
   },
   {
    "duration": 629,
    "start_time": "2022-08-03T05:44:53.174Z"
   },
   {
    "duration": 43,
    "start_time": "2022-08-03T05:45:11.455Z"
   },
   {
    "duration": 100,
    "start_time": "2022-08-03T05:52:13.355Z"
   },
   {
    "duration": 13,
    "start_time": "2022-08-03T05:52:31.488Z"
   },
   {
    "duration": 11,
    "start_time": "2022-08-03T05:53:04.133Z"
   },
   {
    "duration": 18,
    "start_time": "2022-08-03T05:53:13.233Z"
   },
   {
    "duration": 11,
    "start_time": "2022-08-03T05:55:31.075Z"
   },
   {
    "duration": 455,
    "start_time": "2022-08-03T05:55:50.422Z"
   },
   {
    "duration": 11,
    "start_time": "2022-08-03T05:56:01.805Z"
   },
   {
    "duration": 472,
    "start_time": "2022-08-03T05:57:42.366Z"
   },
   {
    "duration": 472,
    "start_time": "2022-08-03T05:58:17.938Z"
   },
   {
    "duration": 849,
    "start_time": "2022-08-03T06:08:25.686Z"
   },
   {
    "duration": 456,
    "start_time": "2022-08-03T06:11:07.567Z"
   },
   {
    "duration": 471,
    "start_time": "2022-08-03T06:12:19.575Z"
   },
   {
    "duration": 480,
    "start_time": "2022-08-03T06:12:47.938Z"
   },
   {
    "duration": 427,
    "start_time": "2022-08-03T06:12:57.757Z"
   },
   {
    "duration": 1305,
    "start_time": "2022-08-03T06:13:11.137Z"
   },
   {
    "duration": 832,
    "start_time": "2022-08-03T06:13:12.444Z"
   },
   {
    "duration": 410,
    "start_time": "2022-08-03T06:13:13.278Z"
   },
   {
    "duration": 522,
    "start_time": "2022-08-03T06:13:20.500Z"
   },
   {
    "duration": 441,
    "start_time": "2022-08-03T06:15:03.009Z"
   },
   {
    "duration": 442,
    "start_time": "2022-08-03T06:15:25.688Z"
   },
   {
    "duration": 446,
    "start_time": "2022-08-03T06:15:50.290Z"
   },
   {
    "duration": 887,
    "start_time": "2022-08-03T06:16:40.800Z"
   },
   {
    "duration": 45,
    "start_time": "2022-08-03T06:17:11.565Z"
   },
   {
    "duration": 1620,
    "start_time": "2022-08-03T09:24:55.144Z"
   },
   {
    "duration": 3249,
    "start_time": "2022-08-03T09:24:56.768Z"
   },
   {
    "duration": 483,
    "start_time": "2022-08-03T09:25:00.019Z"
   },
   {
    "duration": 575,
    "start_time": "2022-08-03T09:25:00.505Z"
   },
   {
    "duration": 5627,
    "start_time": "2022-08-03T09:27:27.784Z"
   },
   {
    "duration": 518,
    "start_time": "2022-08-03T09:31:48.627Z"
   },
   {
    "duration": 477,
    "start_time": "2022-08-03T09:32:53.426Z"
   },
   {
    "duration": 534,
    "start_time": "2022-08-03T09:33:12.829Z"
   },
   {
    "duration": 490,
    "start_time": "2022-08-03T09:33:54.376Z"
   },
   {
    "duration": 100,
    "start_time": "2022-08-03T09:39:32.825Z"
   },
   {
    "duration": 75,
    "start_time": "2022-08-03T09:39:44.974Z"
   },
   {
    "duration": 881,
    "start_time": "2022-08-03T09:39:45.052Z"
   },
   {
    "duration": 436,
    "start_time": "2022-08-03T09:39:45.935Z"
   },
   {
    "duration": 577,
    "start_time": "2022-08-03T09:39:46.374Z"
   },
   {
    "duration": 50,
    "start_time": "2022-08-03T09:39:46.953Z"
   },
   {
    "duration": 10,
    "start_time": "2022-08-03T09:40:10.927Z"
   },
   {
    "duration": 11,
    "start_time": "2022-08-03T09:40:31.980Z"
   },
   {
    "duration": 333,
    "start_time": "2022-08-03T09:40:50.024Z"
   },
   {
    "duration": 385,
    "start_time": "2022-08-03T09:42:52.481Z"
   },
   {
    "duration": 21,
    "start_time": "2022-08-03T10:03:14.664Z"
   },
   {
    "duration": 24,
    "start_time": "2022-08-03T10:04:08.299Z"
   },
   {
    "duration": 334,
    "start_time": "2022-08-03T10:04:47.666Z"
   },
   {
    "duration": 1113,
    "start_time": "2022-08-03T10:05:28.638Z"
   },
   {
    "duration": 890,
    "start_time": "2022-08-03T10:06:05.339Z"
   },
   {
    "duration": 29,
    "start_time": "2022-08-03T10:07:03.270Z"
   },
   {
    "duration": 923,
    "start_time": "2022-08-03T10:07:14.643Z"
   },
   {
    "duration": 275,
    "start_time": "2022-08-03T10:07:51.800Z"
   },
   {
    "duration": 480,
    "start_time": "2022-08-03T10:09:05.401Z"
   },
   {
    "duration": 488,
    "start_time": "2022-08-03T10:09:28.908Z"
   },
   {
    "duration": 73,
    "start_time": "2022-08-03T10:11:06.543Z"
   },
   {
    "duration": 1021,
    "start_time": "2022-08-03T10:11:06.618Z"
   },
   {
    "duration": 433,
    "start_time": "2022-08-03T10:11:07.641Z"
   },
   {
    "duration": 2,
    "start_time": "2022-08-03T10:11:08.077Z"
   },
   {
    "duration": 38,
    "start_time": "2022-08-03T10:11:08.081Z"
   },
   {
    "duration": 308,
    "start_time": "2022-08-03T10:11:08.121Z"
   },
   {
    "duration": 622,
    "start_time": "2022-08-03T10:26:26.570Z"
   },
   {
    "duration": 299,
    "start_time": "2022-08-03T10:29:50.342Z"
   },
   {
    "duration": 521,
    "start_time": "2022-08-03T10:32:07.829Z"
   },
   {
    "duration": 500,
    "start_time": "2022-08-03T10:33:14.485Z"
   },
   {
    "duration": 60,
    "start_time": "2022-08-03T10:37:01.899Z"
   },
   {
    "duration": 343,
    "start_time": "2022-08-03T10:37:12.746Z"
   },
   {
    "duration": 1332,
    "start_time": "2022-08-03T10:52:30.542Z"
   },
   {
    "duration": 56,
    "start_time": "2022-08-03T10:53:57.692Z"
   },
   {
    "duration": 906,
    "start_time": "2022-08-03T10:54:16.634Z"
   },
   {
    "duration": 1485,
    "start_time": "2022-08-04T12:48:21.361Z"
   },
   {
    "duration": 1203,
    "start_time": "2022-08-04T12:48:22.848Z"
   },
   {
    "duration": 62,
    "start_time": "2022-08-04T12:48:35.648Z"
   },
   {
    "duration": 938,
    "start_time": "2022-08-04T12:48:39.455Z"
   },
   {
    "duration": 888,
    "start_time": "2022-08-04T12:48:46.398Z"
   },
   {
    "duration": 726,
    "start_time": "2022-08-04T12:57:28.904Z"
   },
   {
    "duration": 511,
    "start_time": "2022-08-04T12:59:30.542Z"
   },
   {
    "duration": 243,
    "start_time": "2022-08-04T13:00:00.771Z"
   },
   {
    "duration": 37,
    "start_time": "2022-08-04T13:14:47.052Z"
   },
   {
    "duration": 825,
    "start_time": "2022-08-04T13:14:47.091Z"
   },
   {
    "duration": 433,
    "start_time": "2022-08-04T13:14:47.917Z"
   },
   {
    "duration": 399,
    "start_time": "2022-08-04T13:14:48.352Z"
   },
   {
    "duration": 350,
    "start_time": "2022-08-04T13:14:48.753Z"
   },
   {
    "duration": 29,
    "start_time": "2022-08-04T13:15:15.859Z"
   },
   {
    "duration": 294,
    "start_time": "2022-08-04T13:15:20.020Z"
   },
   {
    "duration": 538,
    "start_time": "2022-08-04T13:24:02.683Z"
   },
   {
    "duration": 490,
    "start_time": "2022-08-04T13:24:51.882Z"
   },
   {
    "duration": 461,
    "start_time": "2022-08-04T13:25:08.279Z"
   },
   {
    "duration": 181,
    "start_time": "2022-08-04T13:41:02.777Z"
   },
   {
    "duration": 37,
    "start_time": "2022-08-04T13:41:13.483Z"
   },
   {
    "duration": 763,
    "start_time": "2022-08-04T13:41:13.522Z"
   },
   {
    "duration": 309,
    "start_time": "2022-08-04T13:41:31.220Z"
   },
   {
    "duration": 59,
    "start_time": "2022-08-04T13:42:55.945Z"
   },
   {
    "duration": 814,
    "start_time": "2022-08-04T13:42:56.006Z"
   },
   {
    "duration": 314,
    "start_time": "2022-08-04T13:43:00.918Z"
   },
   {
    "duration": 3,
    "start_time": "2022-08-04T13:44:57.269Z"
   },
   {
    "duration": 3,
    "start_time": "2022-08-04T13:45:02.717Z"
   },
   {
    "duration": 5782,
    "start_time": "2022-08-04T13:45:43.686Z"
   },
   {
    "duration": 6252,
    "start_time": "2022-08-04T13:46:15.983Z"
   },
   {
    "duration": 35,
    "start_time": "2022-08-04T13:46:58.924Z"
   },
   {
    "duration": 830,
    "start_time": "2022-08-04T13:46:58.961Z"
   },
   {
    "duration": 442,
    "start_time": "2022-08-04T13:46:59.792Z"
   },
   {
    "duration": 430,
    "start_time": "2022-08-04T13:47:00.236Z"
   },
   {
    "duration": 353,
    "start_time": "2022-08-04T13:47:00.667Z"
   },
   {
    "duration": 32,
    "start_time": "2022-08-04T13:47:01.022Z"
   },
   {
    "duration": 492,
    "start_time": "2022-08-04T13:47:01.056Z"
   },
   {
    "duration": 554,
    "start_time": "2022-08-04T13:47:01.550Z"
   },
   {
    "duration": 2,
    "start_time": "2022-08-04T13:47:02.106Z"
   },
   {
    "duration": 22,
    "start_time": "2022-08-04T13:47:02.110Z"
   },
   {
    "duration": 5960,
    "start_time": "2022-08-04T13:47:10.752Z"
   },
   {
    "duration": 46526,
    "start_time": "2022-08-04T13:47:49.135Z"
   },
   {
    "duration": 29429,
    "start_time": "2022-08-04T13:56:57.865Z"
   },
   {
    "duration": 1424,
    "start_time": "2022-08-04T13:58:12.769Z"
   },
   {
    "duration": 903,
    "start_time": "2022-08-04T13:58:14.195Z"
   },
   {
    "duration": 500,
    "start_time": "2022-08-04T13:58:15.100Z"
   },
   {
    "duration": 440,
    "start_time": "2022-08-04T13:58:15.602Z"
   },
   {
    "duration": 340,
    "start_time": "2022-08-04T13:58:16.044Z"
   },
   {
    "duration": 41,
    "start_time": "2022-08-04T13:58:16.385Z"
   },
   {
    "duration": 280,
    "start_time": "2022-08-04T13:58:16.427Z"
   },
   {
    "duration": 524,
    "start_time": "2022-08-04T13:58:16.708Z"
   },
   {
    "duration": 3,
    "start_time": "2022-08-04T13:58:17.233Z"
   },
   {
    "duration": 6,
    "start_time": "2022-08-04T13:58:17.237Z"
   },
   {
    "duration": 47355,
    "start_time": "2022-08-04T13:58:20.507Z"
   },
   {
    "duration": 0,
    "start_time": "2022-08-04T14:17:05.033Z"
   },
   {
    "duration": 1374,
    "start_time": "2022-08-04T14:17:26.874Z"
   },
   {
    "duration": 905,
    "start_time": "2022-08-04T14:17:28.250Z"
   },
   {
    "duration": 507,
    "start_time": "2022-08-04T14:17:29.157Z"
   },
   {
    "duration": 411,
    "start_time": "2022-08-04T14:17:29.667Z"
   },
   {
    "duration": 328,
    "start_time": "2022-08-04T14:17:30.080Z"
   },
   {
    "duration": 33,
    "start_time": "2022-08-04T14:17:30.410Z"
   },
   {
    "duration": 288,
    "start_time": "2022-08-04T14:17:30.445Z"
   },
   {
    "duration": 551,
    "start_time": "2022-08-04T14:17:30.735Z"
   },
   {
    "duration": 2,
    "start_time": "2022-08-04T14:17:31.288Z"
   },
   {
    "duration": 13,
    "start_time": "2022-08-04T14:17:31.299Z"
   },
   {
    "duration": 48669,
    "start_time": "2022-08-04T14:17:36.388Z"
   },
   {
    "duration": 60,
    "start_time": "2022-08-04T16:12:21.282Z"
   },
   {
    "duration": 1585,
    "start_time": "2022-08-04T16:12:25.273Z"
   },
   {
    "duration": 1544,
    "start_time": "2022-08-04T16:12:26.860Z"
   },
   {
    "duration": 699,
    "start_time": "2022-08-04T16:12:28.406Z"
   },
   {
    "duration": 506,
    "start_time": "2022-08-04T16:12:29.116Z"
   },
   {
    "duration": 165,
    "start_time": "2022-08-04T16:12:35.555Z"
   },
   {
    "duration": 193,
    "start_time": "2022-08-04T16:13:02.935Z"
   },
   {
    "duration": 188,
    "start_time": "2022-08-04T16:13:27.936Z"
   },
   {
    "duration": 136,
    "start_time": "2022-08-04T16:14:13.938Z"
   },
   {
    "duration": 241,
    "start_time": "2022-08-04T16:14:34.888Z"
   },
   {
    "duration": 168,
    "start_time": "2022-08-04T16:16:12.559Z"
   },
   {
    "duration": 46,
    "start_time": "2022-08-04T16:16:36.361Z"
   },
   {
    "duration": 1014,
    "start_time": "2022-08-04T16:16:36.413Z"
   },
   {
    "duration": 472,
    "start_time": "2022-08-04T16:16:37.428Z"
   },
   {
    "duration": 389,
    "start_time": "2022-08-04T16:16:37.902Z"
   },
   {
    "duration": 403,
    "start_time": "2022-08-04T16:16:48.659Z"
   },
   {
    "duration": 676,
    "start_time": "2022-08-04T16:19:09.933Z"
   },
   {
    "duration": 63,
    "start_time": "2022-08-04T16:21:43.963Z"
   },
   {
    "duration": 412,
    "start_time": "2022-08-04T16:22:33.177Z"
   },
   {
    "duration": 55,
    "start_time": "2022-08-04T16:26:17.454Z"
   },
   {
    "duration": 36,
    "start_time": "2022-08-04T16:28:14.948Z"
   },
   {
    "duration": 855,
    "start_time": "2022-08-04T16:28:14.986Z"
   },
   {
    "duration": 464,
    "start_time": "2022-08-04T16:28:15.842Z"
   },
   {
    "duration": 384,
    "start_time": "2022-08-04T16:28:16.311Z"
   },
   {
    "duration": 37,
    "start_time": "2022-08-04T16:28:24.826Z"
   },
   {
    "duration": 3,
    "start_time": "2022-08-04T16:28:28.743Z"
   },
   {
    "duration": 582,
    "start_time": "2022-08-04T16:28:35.349Z"
   },
   {
    "duration": 560,
    "start_time": "2022-08-04T16:35:27.247Z"
   },
   {
    "duration": 318,
    "start_time": "2022-08-04T16:37:37.725Z"
   },
   {
    "duration": 521,
    "start_time": "2022-08-04T16:41:39.232Z"
   },
   {
    "duration": 601,
    "start_time": "2022-08-04T16:47:28.444Z"
   },
   {
    "duration": 504,
    "start_time": "2022-08-04T16:50:57.824Z"
   },
   {
    "duration": 32,
    "start_time": "2022-08-04T16:51:15.525Z"
   },
   {
    "duration": 862,
    "start_time": "2022-08-04T16:51:15.559Z"
   },
   {
    "duration": 466,
    "start_time": "2022-08-04T16:51:16.423Z"
   },
   {
    "duration": 430,
    "start_time": "2022-08-04T16:51:16.891Z"
   },
   {
    "duration": 26,
    "start_time": "2022-08-04T16:51:17.326Z"
   },
   {
    "duration": 2,
    "start_time": "2022-08-04T16:51:17.354Z"
   },
   {
    "duration": 439,
    "start_time": "2022-08-04T16:51:28.232Z"
   },
   {
    "duration": 413,
    "start_time": "2022-08-04T16:51:40.625Z"
   },
   {
    "duration": 31,
    "start_time": "2022-08-04T16:51:44.834Z"
   },
   {
    "duration": 839,
    "start_time": "2022-08-04T16:51:44.867Z"
   },
   {
    "duration": 489,
    "start_time": "2022-08-04T16:51:45.707Z"
   },
   {
    "duration": 414,
    "start_time": "2022-08-04T16:51:46.199Z"
   },
   {
    "duration": 26,
    "start_time": "2022-08-04T16:51:46.615Z"
   },
   {
    "duration": 3,
    "start_time": "2022-08-04T16:51:46.642Z"
   },
   {
    "duration": 486,
    "start_time": "2022-08-04T16:51:46.646Z"
   },
   {
    "duration": 403,
    "start_time": "2022-08-04T16:51:58.463Z"
   },
   {
    "duration": 402,
    "start_time": "2022-08-04T16:53:37.250Z"
   },
   {
    "duration": 86,
    "start_time": "2022-08-04T16:53:45.318Z"
   },
   {
    "duration": 915,
    "start_time": "2022-08-04T16:53:45.406Z"
   },
   {
    "duration": 506,
    "start_time": "2022-08-04T16:53:46.323Z"
   },
   {
    "duration": 427,
    "start_time": "2022-08-04T16:53:46.831Z"
   },
   {
    "duration": 24,
    "start_time": "2022-08-04T16:53:47.260Z"
   },
   {
    "duration": 3,
    "start_time": "2022-08-04T16:53:47.285Z"
   },
   {
    "duration": 431,
    "start_time": "2022-08-04T16:53:56.541Z"
   },
   {
    "duration": 419,
    "start_time": "2022-08-04T16:54:34.325Z"
   },
   {
    "duration": 512,
    "start_time": "2022-08-04T16:54:59.667Z"
   },
   {
    "duration": 437,
    "start_time": "2022-08-04T16:55:15.644Z"
   },
   {
    "duration": 423,
    "start_time": "2022-08-04T16:55:25.659Z"
   },
   {
    "duration": 32,
    "start_time": "2022-08-04T16:55:39.070Z"
   },
   {
    "duration": 837,
    "start_time": "2022-08-04T16:55:39.105Z"
   },
   {
    "duration": 523,
    "start_time": "2022-08-04T16:55:39.944Z"
   },
   {
    "duration": 400,
    "start_time": "2022-08-04T16:55:40.469Z"
   },
   {
    "duration": 24,
    "start_time": "2022-08-04T16:55:40.870Z"
   },
   {
    "duration": 2,
    "start_time": "2022-08-04T16:55:40.896Z"
   },
   {
    "duration": 449,
    "start_time": "2022-08-04T16:56:04.438Z"
   },
   {
    "duration": 467,
    "start_time": "2022-08-04T16:56:27.346Z"
   },
   {
    "duration": 575,
    "start_time": "2022-08-04T16:59:49.224Z"
   },
   {
    "duration": 600,
    "start_time": "2022-08-04T17:00:14.283Z"
   },
   {
    "duration": 527,
    "start_time": "2022-08-04T17:00:24.581Z"
   },
   {
    "duration": 54,
    "start_time": "2022-08-04T17:00:42.882Z"
   },
   {
    "duration": 898,
    "start_time": "2022-08-04T17:00:42.939Z"
   },
   {
    "duration": 494,
    "start_time": "2022-08-04T17:00:43.839Z"
   },
   {
    "duration": 526,
    "start_time": "2022-08-04T17:00:44.338Z"
   },
   {
    "duration": 23,
    "start_time": "2022-08-04T17:00:44.866Z"
   },
   {
    "duration": 3,
    "start_time": "2022-08-04T17:00:44.891Z"
   },
   {
    "duration": 781,
    "start_time": "2022-08-04T17:00:52.642Z"
   },
   {
    "duration": 748,
    "start_time": "2022-08-04T17:03:03.244Z"
   },
   {
    "duration": 7,
    "start_time": "2022-08-04T17:21:21.872Z"
   },
   {
    "duration": 51,
    "start_time": "2022-08-04T17:21:27.871Z"
   },
   {
    "duration": 805,
    "start_time": "2022-08-04T17:21:27.925Z"
   },
   {
    "duration": 455,
    "start_time": "2022-08-04T17:21:28.732Z"
   },
   {
    "duration": 392,
    "start_time": "2022-08-04T17:21:29.189Z"
   },
   {
    "duration": 39,
    "start_time": "2022-08-04T17:21:29.583Z"
   },
   {
    "duration": 17,
    "start_time": "2022-08-04T17:21:47.250Z"
   },
   {
    "duration": 11,
    "start_time": "2022-08-04T17:23:18.279Z"
   },
   {
    "duration": 9,
    "start_time": "2022-08-04T17:23:51.431Z"
   },
   {
    "duration": 8,
    "start_time": "2022-08-04T17:24:38.479Z"
   },
   {
    "duration": 8,
    "start_time": "2022-08-04T17:25:09.135Z"
   },
   {
    "duration": 3,
    "start_time": "2022-08-04T17:25:23.553Z"
   },
   {
    "duration": 7,
    "start_time": "2022-08-04T17:25:33.735Z"
   },
   {
    "duration": 8,
    "start_time": "2022-08-04T17:26:10.682Z"
   },
   {
    "duration": 6,
    "start_time": "2022-08-04T17:27:29.279Z"
   },
   {
    "duration": 7,
    "start_time": "2022-08-04T17:27:44.852Z"
   },
   {
    "duration": 721,
    "start_time": "2022-08-04T17:31:18.435Z"
   },
   {
    "duration": 706,
    "start_time": "2022-08-04T17:32:28.733Z"
   },
   {
    "duration": 704,
    "start_time": "2022-08-04T17:32:39.158Z"
   },
   {
    "duration": 635,
    "start_time": "2022-08-04T17:40:24.051Z"
   },
   {
    "duration": 593,
    "start_time": "2022-08-04T17:43:06.424Z"
   },
   {
    "duration": 630,
    "start_time": "2022-08-04T17:43:49.432Z"
   },
   {
    "duration": 601,
    "start_time": "2022-08-04T17:45:04.758Z"
   },
   {
    "duration": 51,
    "start_time": "2022-08-04T17:47:52.635Z"
   },
   {
    "duration": 954,
    "start_time": "2022-08-04T17:47:52.689Z"
   },
   {
    "duration": 482,
    "start_time": "2022-08-04T17:47:53.644Z"
   },
   {
    "duration": 448,
    "start_time": "2022-08-04T17:47:54.128Z"
   },
   {
    "duration": 35,
    "start_time": "2022-08-04T17:47:54.578Z"
   },
   {
    "duration": 684,
    "start_time": "2022-08-04T17:48:06.385Z"
   },
   {
    "duration": 761,
    "start_time": "2022-08-04T17:48:34.736Z"
   },
   {
    "duration": 639,
    "start_time": "2022-08-04T17:49:49.730Z"
   },
   {
    "duration": 662,
    "start_time": "2022-08-04T17:50:28.825Z"
   },
   {
    "duration": 32,
    "start_time": "2022-08-04T17:50:39.675Z"
   },
   {
    "duration": 949,
    "start_time": "2022-08-04T17:50:39.709Z"
   },
   {
    "duration": 518,
    "start_time": "2022-08-04T17:50:40.660Z"
   },
   {
    "duration": 433,
    "start_time": "2022-08-04T17:50:41.181Z"
   },
   {
    "duration": 23,
    "start_time": "2022-08-04T17:50:41.626Z"
   },
   {
    "duration": 673,
    "start_time": "2022-08-04T17:51:04.659Z"
   },
   {
    "duration": 627,
    "start_time": "2022-08-04T17:51:45.143Z"
   },
   {
    "duration": 680,
    "start_time": "2022-08-04T17:52:00.824Z"
   },
   {
    "duration": 660,
    "start_time": "2022-08-04T17:52:57.436Z"
   },
   {
    "duration": 80,
    "start_time": "2022-08-04T17:53:07.520Z"
   },
   {
    "duration": 832,
    "start_time": "2022-08-04T17:53:07.602Z"
   },
   {
    "duration": 468,
    "start_time": "2022-08-04T17:53:08.436Z"
   },
   {
    "duration": 381,
    "start_time": "2022-08-04T17:53:08.905Z"
   },
   {
    "duration": 35,
    "start_time": "2022-08-04T17:53:09.288Z"
   },
   {
    "duration": 691,
    "start_time": "2022-08-04T17:53:19.273Z"
   },
   {
    "duration": 644,
    "start_time": "2022-08-04T17:53:33.370Z"
   },
   {
    "duration": 705,
    "start_time": "2022-08-04T17:54:45.871Z"
   },
   {
    "duration": 33,
    "start_time": "2022-08-04T17:58:59.659Z"
   },
   {
    "duration": 865,
    "start_time": "2022-08-04T17:58:59.694Z"
   },
   {
    "duration": 482,
    "start_time": "2022-08-04T17:59:00.561Z"
   },
   {
    "duration": 436,
    "start_time": "2022-08-04T17:59:01.045Z"
   },
   {
    "duration": 40,
    "start_time": "2022-08-04T17:59:01.482Z"
   },
   {
    "duration": 694,
    "start_time": "2022-08-04T18:00:43.939Z"
   },
   {
    "duration": 690,
    "start_time": "2022-08-04T18:01:40.827Z"
   },
   {
    "duration": 3,
    "start_time": "2022-08-04T18:02:14.736Z"
   },
   {
    "duration": 3,
    "start_time": "2022-08-04T18:02:15.765Z"
   },
   {
    "duration": 655,
    "start_time": "2022-08-04T18:02:28.924Z"
   },
   {
    "duration": 1630,
    "start_time": "2022-08-04T18:05:06.354Z"
   },
   {
    "duration": 1614,
    "start_time": "2022-08-04T18:05:55.179Z"
   },
   {
    "duration": 366,
    "start_time": "2022-08-04T18:06:28.385Z"
   },
   {
    "duration": 1049,
    "start_time": "2022-08-04T18:06:40.881Z"
   },
   {
    "duration": 1607,
    "start_time": "2022-08-04T18:07:26.262Z"
   },
   {
    "duration": 379,
    "start_time": "2022-08-04T18:07:37.092Z"
   },
   {
    "duration": 1631,
    "start_time": "2022-08-04T18:07:59.395Z"
   },
   {
    "duration": 1497,
    "start_time": "2022-08-04T18:08:42.831Z"
   },
   {
    "duration": 1603,
    "start_time": "2022-08-04T18:09:10.536Z"
   },
   {
    "duration": 638,
    "start_time": "2022-08-04T18:34:32.098Z"
   },
   {
    "duration": 483,
    "start_time": "2022-08-04T18:35:58.092Z"
   },
   {
    "duration": 622,
    "start_time": "2022-08-04T18:36:48.042Z"
   },
   {
    "duration": 719,
    "start_time": "2022-08-04T18:37:04.578Z"
   },
   {
    "duration": 1602,
    "start_time": "2022-08-04T18:42:07.191Z"
   },
   {
    "duration": 339,
    "start_time": "2022-08-04T18:43:28.826Z"
   },
   {
    "duration": 555,
    "start_time": "2022-08-04T18:44:03.751Z"
   },
   {
    "duration": 373,
    "start_time": "2022-08-04T18:45:49.827Z"
   },
   {
    "duration": 377,
    "start_time": "2022-08-04T18:49:48.757Z"
   },
   {
    "duration": 372,
    "start_time": "2022-08-04T18:50:19.758Z"
   },
   {
    "duration": 548,
    "start_time": "2022-08-04T18:53:05.195Z"
   },
   {
    "duration": 461,
    "start_time": "2022-08-04T18:53:33.738Z"
   },
   {
    "duration": 613,
    "start_time": "2022-08-04T18:55:12.896Z"
   },
   {
    "duration": 520,
    "start_time": "2022-08-04T18:55:39.339Z"
   },
   {
    "duration": 481,
    "start_time": "2022-08-04T18:55:55.896Z"
   },
   {
    "duration": 494,
    "start_time": "2022-08-04T18:56:28.587Z"
   },
   {
    "duration": 794,
    "start_time": "2022-08-04T19:03:48.847Z"
   },
   {
    "duration": 131,
    "start_time": "2022-08-04T19:05:09.294Z"
   },
   {
    "duration": 952,
    "start_time": "2022-08-04T20:34:03.930Z"
   },
   {
    "duration": 786,
    "start_time": "2022-08-04T20:57:42.602Z"
   },
   {
    "duration": 31,
    "start_time": "2022-08-04T20:58:05.248Z"
   },
   {
    "duration": 507,
    "start_time": "2022-08-04T21:01:00.126Z"
   },
   {
    "duration": 500,
    "start_time": "2022-08-04T21:02:07.525Z"
   },
   {
    "duration": 56,
    "start_time": "2022-08-04T21:02:39.756Z"
   },
   {
    "duration": 39,
    "start_time": "2022-08-04T21:02:54.830Z"
   },
   {
    "duration": 18,
    "start_time": "2022-08-04T21:03:45.444Z"
   },
   {
    "duration": 34,
    "start_time": "2022-08-04T21:03:47.933Z"
   },
   {
    "duration": 37,
    "start_time": "2022-08-04T21:05:21.238Z"
   },
   {
    "duration": 33,
    "start_time": "2022-08-04T21:06:03.926Z"
   },
   {
    "duration": 34,
    "start_time": "2022-08-04T21:06:19.541Z"
   },
   {
    "duration": 44,
    "start_time": "2022-08-04T21:08:07.384Z"
   },
   {
    "duration": 46,
    "start_time": "2022-08-04T21:08:17.953Z"
   },
   {
    "duration": 44,
    "start_time": "2022-08-04T21:09:11.481Z"
   },
   {
    "duration": 44,
    "start_time": "2022-08-04T21:09:58.423Z"
   },
   {
    "duration": 45,
    "start_time": "2022-08-04T21:10:42.123Z"
   },
   {
    "duration": 75,
    "start_time": "2022-08-04T21:12:57.550Z"
   },
   {
    "duration": 65,
    "start_time": "2022-08-04T21:14:24.274Z"
   },
   {
    "duration": 80,
    "start_time": "2022-08-04T21:14:57.818Z"
   },
   {
    "duration": 63,
    "start_time": "2022-08-04T21:15:40.025Z"
   },
   {
    "duration": 65,
    "start_time": "2022-08-04T21:16:03.654Z"
   },
   {
    "duration": 27,
    "start_time": "2022-08-04T21:16:36.239Z"
   },
   {
    "duration": 63,
    "start_time": "2022-08-04T21:20:13.073Z"
   },
   {
    "duration": 86,
    "start_time": "2022-08-04T21:28:37.326Z"
   },
   {
    "duration": 81,
    "start_time": "2022-08-04T21:30:15.423Z"
   },
   {
    "duration": 65,
    "start_time": "2022-08-04T21:30:39.674Z"
   },
   {
    "duration": 82,
    "start_time": "2022-08-04T21:31:18.650Z"
   },
   {
    "duration": 90,
    "start_time": "2022-08-04T21:32:02.721Z"
   },
   {
    "duration": 61,
    "start_time": "2022-08-04T21:32:38.654Z"
   },
   {
    "duration": 63,
    "start_time": "2022-08-04T21:33:44.966Z"
   },
   {
    "duration": 59,
    "start_time": "2022-08-04T21:35:23.300Z"
   },
   {
    "duration": 64,
    "start_time": "2022-08-04T21:36:23.440Z"
   },
   {
    "duration": 5,
    "start_time": "2022-08-04T22:18:38.277Z"
   },
   {
    "duration": 1185,
    "start_time": "2022-08-04T22:18:56.529Z"
   },
   {
    "duration": 108,
    "start_time": "2022-08-04T22:19:41.946Z"
   },
   {
    "duration": 831,
    "start_time": "2022-08-04T22:19:42.055Z"
   },
   {
    "duration": 432,
    "start_time": "2022-08-04T22:19:42.888Z"
   },
   {
    "duration": 117,
    "start_time": "2022-08-04T22:19:43.321Z"
   },
   {
    "duration": 417,
    "start_time": "2022-08-04T22:19:43.440Z"
   },
   {
    "duration": 23,
    "start_time": "2022-08-04T22:19:43.859Z"
   },
   {
    "duration": 43,
    "start_time": "2022-08-04T22:19:43.884Z"
   },
   {
    "duration": 0,
    "start_time": "2022-08-04T22:19:43.928Z"
   },
   {
    "duration": 1383,
    "start_time": "2022-08-04T22:19:49.419Z"
   },
   {
    "duration": 1366,
    "start_time": "2022-08-04T22:20:10.087Z"
   },
   {
    "duration": 40,
    "start_time": "2022-08-04T22:20:21.431Z"
   },
   {
    "duration": 775,
    "start_time": "2022-08-04T22:20:21.473Z"
   },
   {
    "duration": 484,
    "start_time": "2022-08-04T22:20:22.249Z"
   },
   {
    "duration": 128,
    "start_time": "2022-08-04T22:20:22.736Z"
   },
   {
    "duration": 393,
    "start_time": "2022-08-04T22:20:22.866Z"
   },
   {
    "duration": 24,
    "start_time": "2022-08-04T22:20:23.260Z"
   },
   {
    "duration": 43,
    "start_time": "2022-08-04T22:20:23.285Z"
   },
   {
    "duration": 0,
    "start_time": "2022-08-04T22:20:23.330Z"
   },
   {
    "duration": 1397,
    "start_time": "2022-08-04T22:20:28.426Z"
   },
   {
    "duration": 35,
    "start_time": "2022-08-04T22:21:58.930Z"
   },
   {
    "duration": 824,
    "start_time": "2022-08-04T22:21:58.967Z"
   },
   {
    "duration": 465,
    "start_time": "2022-08-04T22:21:59.792Z"
   },
   {
    "duration": 136,
    "start_time": "2022-08-04T22:22:00.258Z"
   },
   {
    "duration": 395,
    "start_time": "2022-08-04T22:22:00.396Z"
   },
   {
    "duration": 32,
    "start_time": "2022-08-04T22:22:00.793Z"
   },
   {
    "duration": 51,
    "start_time": "2022-08-04T22:22:00.827Z"
   },
   {
    "duration": 0,
    "start_time": "2022-08-04T22:22:00.880Z"
   },
   {
    "duration": 1380,
    "start_time": "2022-08-04T22:22:06.960Z"
   },
   {
    "duration": 1417,
    "start_time": "2022-08-04T22:24:09.017Z"
   },
   {
    "duration": 34,
    "start_time": "2022-08-04T22:24:20.922Z"
   },
   {
    "duration": 780,
    "start_time": "2022-08-04T22:24:20.958Z"
   },
   {
    "duration": 426,
    "start_time": "2022-08-04T22:24:21.739Z"
   },
   {
    "duration": 113,
    "start_time": "2022-08-04T22:24:22.166Z"
   },
   {
    "duration": 426,
    "start_time": "2022-08-04T22:24:22.281Z"
   },
   {
    "duration": 23,
    "start_time": "2022-08-04T22:24:22.711Z"
   },
   {
    "duration": 55,
    "start_time": "2022-08-04T22:24:22.736Z"
   },
   {
    "duration": 0,
    "start_time": "2022-08-04T22:24:22.793Z"
   },
   {
    "duration": 1420,
    "start_time": "2022-08-04T22:24:31.021Z"
   },
   {
    "duration": 1324,
    "start_time": "2022-08-04T22:25:22.743Z"
   },
   {
    "duration": 865,
    "start_time": "2022-08-04T22:25:24.069Z"
   },
   {
    "duration": 514,
    "start_time": "2022-08-04T22:25:24.936Z"
   },
   {
    "duration": 117,
    "start_time": "2022-08-04T22:25:25.452Z"
   },
   {
    "duration": 388,
    "start_time": "2022-08-04T22:25:25.570Z"
   },
   {
    "duration": 25,
    "start_time": "2022-08-04T22:25:25.960Z"
   },
   {
    "duration": 55,
    "start_time": "2022-08-04T22:25:25.987Z"
   },
   {
    "duration": 0,
    "start_time": "2022-08-04T22:25:26.044Z"
   },
   {
    "duration": 34,
    "start_time": "2022-08-04T22:26:03.468Z"
   },
   {
    "duration": 851,
    "start_time": "2022-08-04T22:26:03.503Z"
   },
   {
    "duration": 429,
    "start_time": "2022-08-04T22:26:04.356Z"
   },
   {
    "duration": 114,
    "start_time": "2022-08-04T22:26:04.787Z"
   },
   {
    "duration": 392,
    "start_time": "2022-08-04T22:26:04.911Z"
   },
   {
    "duration": 32,
    "start_time": "2022-08-04T22:26:05.304Z"
   },
   {
    "duration": 81,
    "start_time": "2022-08-04T22:26:05.338Z"
   },
   {
    "duration": 598,
    "start_time": "2022-08-04T22:26:16.241Z"
   },
   {
    "duration": 1326,
    "start_time": "2022-08-04T22:26:24.464Z"
   },
   {
    "duration": 140,
    "start_time": "2022-08-04T22:27:16.323Z"
   },
   {
    "duration": 598,
    "start_time": "2022-08-04T22:27:43.139Z"
   },
   {
    "duration": 34,
    "start_time": "2022-08-04T22:29:46.021Z"
   },
   {
    "duration": 870,
    "start_time": "2022-08-04T22:29:46.056Z"
   },
   {
    "duration": 432,
    "start_time": "2022-08-04T22:29:46.927Z"
   },
   {
    "duration": 114,
    "start_time": "2022-08-04T22:29:47.360Z"
   },
   {
    "duration": 378,
    "start_time": "2022-08-04T22:29:47.477Z"
   },
   {
    "duration": 23,
    "start_time": "2022-08-04T22:29:47.857Z"
   },
   {
    "duration": 78,
    "start_time": "2022-08-04T22:29:47.882Z"
   },
   {
    "duration": 607,
    "start_time": "2022-08-04T22:29:50.528Z"
   },
   {
    "duration": 1036,
    "start_time": "2022-08-04T22:35:01.421Z"
   },
   {
    "duration": 44,
    "start_time": "2022-08-04T22:35:48.250Z"
   },
   {
    "duration": 779,
    "start_time": "2022-08-04T22:35:48.296Z"
   },
   {
    "duration": 463,
    "start_time": "2022-08-04T22:35:49.077Z"
   },
   {
    "duration": 111,
    "start_time": "2022-08-04T22:35:49.542Z"
   },
   {
    "duration": 395,
    "start_time": "2022-08-04T22:35:49.655Z"
   },
   {
    "duration": 23,
    "start_time": "2022-08-04T22:35:50.052Z"
   },
   {
    "duration": 73,
    "start_time": "2022-08-04T22:35:50.077Z"
   },
   {
    "duration": 617,
    "start_time": "2022-08-04T22:35:50.151Z"
   },
   {
    "duration": 1039,
    "start_time": "2022-08-04T22:35:57.727Z"
   },
   {
    "duration": 37,
    "start_time": "2022-08-04T22:36:26.578Z"
   },
   {
    "duration": 804,
    "start_time": "2022-08-04T22:36:26.658Z"
   },
   {
    "duration": 453,
    "start_time": "2022-08-04T22:36:27.464Z"
   },
   {
    "duration": 122,
    "start_time": "2022-08-04T22:36:27.918Z"
   },
   {
    "duration": 422,
    "start_time": "2022-08-04T22:36:28.042Z"
   },
   {
    "duration": 29,
    "start_time": "2022-08-04T22:36:28.465Z"
   },
   {
    "duration": 78,
    "start_time": "2022-08-04T22:36:28.496Z"
   },
   {
    "duration": 670,
    "start_time": "2022-08-04T22:36:28.575Z"
   },
   {
    "duration": 1111,
    "start_time": "2022-08-04T22:36:39.046Z"
   },
   {
    "duration": 594,
    "start_time": "2022-08-04T22:39:22.922Z"
   },
   {
    "duration": 74,
    "start_time": "2022-08-04T22:53:15.303Z"
   },
   {
    "duration": 788,
    "start_time": "2022-08-04T22:53:15.493Z"
   },
   {
    "duration": 449,
    "start_time": "2022-08-04T22:53:16.284Z"
   },
   {
    "duration": 117,
    "start_time": "2022-08-04T22:53:16.735Z"
   },
   {
    "duration": 636,
    "start_time": "2022-08-04T22:53:21.462Z"
   },
   {
    "duration": 376,
    "start_time": "2022-08-04T22:53:46.016Z"
   },
   {
    "duration": 407,
    "start_time": "2022-08-04T22:56:37.865Z"
   },
   {
    "duration": 0,
    "start_time": "2022-08-04T22:59:21.256Z"
   },
   {
    "duration": 1364,
    "start_time": "2022-08-04T22:59:28.591Z"
   },
   {
    "duration": 855,
    "start_time": "2022-08-04T22:59:29.957Z"
   },
   {
    "duration": 488,
    "start_time": "2022-08-04T22:59:30.813Z"
   },
   {
    "duration": 118,
    "start_time": "2022-08-04T22:59:31.303Z"
   },
   {
    "duration": 663,
    "start_time": "2022-08-04T22:59:31.422Z"
   },
   {
    "duration": 376,
    "start_time": "2022-08-04T22:59:32.087Z"
   },
   {
    "duration": 27,
    "start_time": "2022-08-04T22:59:32.465Z"
   },
   {
    "duration": 84,
    "start_time": "2022-08-04T22:59:32.495Z"
   },
   {
    "duration": 580,
    "start_time": "2022-08-04T22:59:32.581Z"
   },
   {
    "duration": 516,
    "start_time": "2022-08-04T22:59:33.163Z"
   },
   {
    "duration": 2,
    "start_time": "2022-08-04T22:59:33.680Z"
   },
   {
    "duration": 10,
    "start_time": "2022-08-04T22:59:33.684Z"
   },
   {
    "duration": 6,
    "start_time": "2022-08-04T22:59:33.695Z"
   },
   {
    "duration": 5,
    "start_time": "2022-08-04T22:59:33.702Z"
   },
   {
    "duration": 1699,
    "start_time": "2022-08-04T22:59:33.712Z"
   },
   {
    "duration": 1804,
    "start_time": "2022-08-04T23:00:39.055Z"
   },
   {
    "duration": 1803,
    "start_time": "2022-08-04T23:01:02.559Z"
   },
   {
    "duration": 20,
    "start_time": "2022-08-04T23:24:18.796Z"
   },
   {
    "duration": 1341,
    "start_time": "2022-08-04T23:29:09.527Z"
   },
   {
    "duration": 849,
    "start_time": "2022-08-04T23:29:10.870Z"
   },
   {
    "duration": 508,
    "start_time": "2022-08-04T23:29:11.720Z"
   },
   {
    "duration": 119,
    "start_time": "2022-08-04T23:29:12.230Z"
   },
   {
    "duration": 694,
    "start_time": "2022-08-04T23:29:12.351Z"
   },
   {
    "duration": 400,
    "start_time": "2022-08-04T23:29:13.047Z"
   },
   {
    "duration": 24,
    "start_time": "2022-08-04T23:29:13.449Z"
   },
   {
    "duration": 79,
    "start_time": "2022-08-04T23:29:13.475Z"
   },
   {
    "duration": 533,
    "start_time": "2022-08-04T23:29:13.556Z"
   },
   {
    "duration": 497,
    "start_time": "2022-08-04T23:29:14.093Z"
   },
   {
    "duration": 2,
    "start_time": "2022-08-04T23:29:14.593Z"
   },
   {
    "duration": 6,
    "start_time": "2022-08-04T23:29:14.597Z"
   },
   {
    "duration": 1,
    "start_time": "2022-08-04T23:29:14.611Z"
   },
   {
    "duration": 5,
    "start_time": "2022-08-04T23:29:14.614Z"
   },
   {
    "duration": 47,
    "start_time": "2022-08-04T23:29:14.620Z"
   },
   {
    "duration": 750,
    "start_time": "2022-08-04T23:29:14.669Z"
   },
   {
    "duration": 0,
    "start_time": "2022-08-04T23:29:15.421Z"
   },
   {
    "duration": 5,
    "start_time": "2022-08-04T23:35:53.374Z"
   },
   {
    "duration": 42,
    "start_time": "2022-08-04T23:36:01.429Z"
   },
   {
    "duration": 39,
    "start_time": "2022-08-04T23:38:10.479Z"
   },
   {
    "duration": 31,
    "start_time": "2022-08-04T23:38:26.062Z"
   },
   {
    "duration": 32,
    "start_time": "2022-08-04T23:39:15.896Z"
   },
   {
    "duration": 37,
    "start_time": "2022-08-04T23:39:48.196Z"
   },
   {
    "duration": 832,
    "start_time": "2022-08-04T23:39:48.236Z"
   },
   {
    "duration": 453,
    "start_time": "2022-08-04T23:39:49.070Z"
   },
   {
    "duration": 110,
    "start_time": "2022-08-04T23:39:49.525Z"
   },
   {
    "duration": 642,
    "start_time": "2022-08-04T23:39:49.637Z"
   },
   {
    "duration": 370,
    "start_time": "2022-08-04T23:39:50.281Z"
   },
   {
    "duration": 20,
    "start_time": "2022-08-04T23:39:50.653Z"
   },
   {
    "duration": 69,
    "start_time": "2022-08-04T23:39:50.674Z"
   },
   {
    "duration": 512,
    "start_time": "2022-08-04T23:39:50.745Z"
   },
   {
    "duration": 564,
    "start_time": "2022-08-04T23:39:51.259Z"
   },
   {
    "duration": 2,
    "start_time": "2022-08-04T23:39:51.825Z"
   },
   {
    "duration": 8,
    "start_time": "2022-08-04T23:39:51.829Z"
   },
   {
    "duration": 11,
    "start_time": "2022-08-04T23:39:51.838Z"
   },
   {
    "duration": 6,
    "start_time": "2022-08-04T23:39:51.850Z"
   },
   {
    "duration": 54,
    "start_time": "2022-08-04T23:39:51.857Z"
   },
   {
    "duration": 38,
    "start_time": "2022-08-04T23:39:56.083Z"
   },
   {
    "duration": 31,
    "start_time": "2022-08-04T23:40:18.959Z"
   },
   {
    "duration": 48,
    "start_time": "2022-08-04T23:41:50.223Z"
   },
   {
    "duration": 34,
    "start_time": "2022-08-04T23:42:05.319Z"
   },
   {
    "duration": 778,
    "start_time": "2022-08-04T23:42:05.355Z"
   },
   {
    "duration": 437,
    "start_time": "2022-08-04T23:42:06.134Z"
   },
   {
    "duration": 116,
    "start_time": "2022-08-04T23:42:06.573Z"
   },
   {
    "duration": 635,
    "start_time": "2022-08-04T23:42:06.691Z"
   },
   {
    "duration": 415,
    "start_time": "2022-08-04T23:42:07.327Z"
   },
   {
    "duration": 20,
    "start_time": "2022-08-04T23:42:07.744Z"
   },
   {
    "duration": 75,
    "start_time": "2022-08-04T23:42:07.766Z"
   },
   {
    "duration": 514,
    "start_time": "2022-08-04T23:42:07.843Z"
   },
   {
    "duration": 496,
    "start_time": "2022-08-04T23:42:08.359Z"
   },
   {
    "duration": 2,
    "start_time": "2022-08-04T23:42:08.857Z"
   },
   {
    "duration": 7,
    "start_time": "2022-08-04T23:42:08.860Z"
   },
   {
    "duration": 11,
    "start_time": "2022-08-04T23:42:08.868Z"
   },
   {
    "duration": 10,
    "start_time": "2022-08-04T23:42:08.880Z"
   },
   {
    "duration": 45,
    "start_time": "2022-08-04T23:42:08.892Z"
   },
   {
    "duration": 49,
    "start_time": "2022-08-04T23:42:23.714Z"
   },
   {
    "duration": 876,
    "start_time": "2022-08-04T23:43:49.625Z"
   },
   {
    "duration": 122,
    "start_time": "2022-08-04T23:44:29.544Z"
   },
   {
    "duration": 48,
    "start_time": "2022-08-04T23:44:36.810Z"
   },
   {
    "duration": 778,
    "start_time": "2022-08-04T23:44:36.859Z"
   },
   {
    "duration": 432,
    "start_time": "2022-08-04T23:44:37.639Z"
   },
   {
    "duration": 112,
    "start_time": "2022-08-04T23:44:38.072Z"
   },
   {
    "duration": 640,
    "start_time": "2022-08-04T23:44:38.186Z"
   },
   {
    "duration": 397,
    "start_time": "2022-08-04T23:44:38.827Z"
   },
   {
    "duration": 21,
    "start_time": "2022-08-04T23:44:39.226Z"
   },
   {
    "duration": 78,
    "start_time": "2022-08-04T23:44:39.249Z"
   },
   {
    "duration": 519,
    "start_time": "2022-08-04T23:44:39.329Z"
   },
   {
    "duration": 518,
    "start_time": "2022-08-04T23:44:39.849Z"
   },
   {
    "duration": 3,
    "start_time": "2022-08-04T23:44:40.368Z"
   },
   {
    "duration": 8,
    "start_time": "2022-08-04T23:44:40.372Z"
   },
   {
    "duration": 6,
    "start_time": "2022-08-04T23:44:40.381Z"
   },
   {
    "duration": 5,
    "start_time": "2022-08-04T23:44:40.389Z"
   },
   {
    "duration": 64,
    "start_time": "2022-08-04T23:44:40.395Z"
   },
   {
    "duration": 1474,
    "start_time": "2022-08-04T23:44:42.870Z"
   },
   {
    "duration": 100,
    "start_time": "2022-08-04T23:47:41.090Z"
   },
   {
    "duration": 92,
    "start_time": "2022-08-04T23:49:47.663Z"
   },
   {
    "duration": 85,
    "start_time": "2022-08-05T06:37:14.063Z"
   },
   {
    "duration": 1907,
    "start_time": "2022-08-05T06:37:19.348Z"
   },
   {
    "duration": 1459,
    "start_time": "2022-08-05T06:37:21.257Z"
   },
   {
    "duration": 624,
    "start_time": "2022-08-05T06:37:22.718Z"
   },
   {
    "duration": 155,
    "start_time": "2022-08-05T06:37:23.345Z"
   },
   {
    "duration": 816,
    "start_time": "2022-08-05T06:37:23.502Z"
   },
   {
    "duration": 526,
    "start_time": "2022-08-05T06:37:24.320Z"
   },
   {
    "duration": 23,
    "start_time": "2022-08-05T06:37:24.849Z"
   },
   {
    "duration": 107,
    "start_time": "2022-08-05T06:37:24.874Z"
   },
   {
    "duration": 718,
    "start_time": "2022-08-05T06:37:24.982Z"
   },
   {
    "duration": 840,
    "start_time": "2022-08-05T06:37:25.702Z"
   },
   {
    "duration": 3,
    "start_time": "2022-08-05T06:37:26.544Z"
   },
   {
    "duration": 8,
    "start_time": "2022-08-05T06:37:26.548Z"
   },
   {
    "duration": 10,
    "start_time": "2022-08-05T06:37:26.558Z"
   },
   {
    "duration": 40,
    "start_time": "2022-08-05T06:37:26.570Z"
   },
   {
    "duration": 77,
    "start_time": "2022-08-05T06:37:26.615Z"
   },
   {
    "duration": 1080,
    "start_time": "2022-08-05T06:37:46.497Z"
   },
   {
    "duration": 1013,
    "start_time": "2022-08-05T06:39:17.470Z"
   },
   {
    "duration": 935,
    "start_time": "2022-08-05T06:42:12.489Z"
   },
   {
    "duration": 1101,
    "start_time": "2022-08-05T06:43:04.443Z"
   },
   {
    "duration": 1066,
    "start_time": "2022-08-05T06:43:43.586Z"
   },
   {
    "duration": 1085,
    "start_time": "2022-08-05T06:44:58.144Z"
   },
   {
    "duration": 878,
    "start_time": "2022-08-05T06:46:59.599Z"
   },
   {
    "duration": 814,
    "start_time": "2022-08-05T06:48:40.414Z"
   },
   {
    "duration": 1082,
    "start_time": "2022-08-05T06:49:38.057Z"
   },
   {
    "duration": 1345,
    "start_time": "2022-08-05T06:56:17.850Z"
   },
   {
    "duration": 1962,
    "start_time": "2022-08-05T06:57:19.712Z"
   },
   {
    "duration": 171,
    "start_time": "2022-08-05T07:00:19.667Z"
   },
   {
    "duration": 1140,
    "start_time": "2022-08-05T07:00:19.841Z"
   },
   {
    "duration": 655,
    "start_time": "2022-08-05T07:00:20.983Z"
   },
   {
    "duration": 166,
    "start_time": "2022-08-05T07:00:21.641Z"
   },
   {
    "duration": 819,
    "start_time": "2022-08-05T07:00:21.811Z"
   },
   {
    "duration": 468,
    "start_time": "2022-08-05T07:00:22.635Z"
   },
   {
    "duration": 28,
    "start_time": "2022-08-05T07:00:23.114Z"
   },
   {
    "duration": 102,
    "start_time": "2022-08-05T07:00:23.145Z"
   },
   {
    "duration": 725,
    "start_time": "2022-08-05T07:00:23.249Z"
   },
   {
    "duration": 689,
    "start_time": "2022-08-05T07:00:23.977Z"
   },
   {
    "duration": 3,
    "start_time": "2022-08-05T07:00:24.668Z"
   },
   {
    "duration": 11,
    "start_time": "2022-08-05T07:00:24.672Z"
   },
   {
    "duration": 8,
    "start_time": "2022-08-05T07:00:24.685Z"
   },
   {
    "duration": 15,
    "start_time": "2022-08-05T07:00:24.694Z"
   },
   {
    "duration": 192,
    "start_time": "2022-08-05T07:00:24.711Z"
   },
   {
    "duration": 175,
    "start_time": "2022-08-05T07:02:25.688Z"
   },
   {
    "duration": 73,
    "start_time": "2022-08-05T10:26:17.534Z"
   },
   {
    "duration": 1627,
    "start_time": "2022-08-05T10:26:24.595Z"
   },
   {
    "duration": 1259,
    "start_time": "2022-08-05T10:26:26.224Z"
   },
   {
    "duration": 555,
    "start_time": "2022-08-05T10:26:27.485Z"
   },
   {
    "duration": 138,
    "start_time": "2022-08-05T10:26:28.042Z"
   },
   {
    "duration": 686,
    "start_time": "2022-08-05T10:26:28.182Z"
   },
   {
    "duration": 562,
    "start_time": "2022-08-05T10:26:28.870Z"
   },
   {
    "duration": 29,
    "start_time": "2022-08-05T10:26:29.433Z"
   },
   {
    "duration": 93,
    "start_time": "2022-08-05T10:26:29.464Z"
   },
   {
    "duration": 603,
    "start_time": "2022-08-05T10:26:29.559Z"
   },
   {
    "duration": 632,
    "start_time": "2022-08-05T10:26:30.164Z"
   },
   {
    "duration": 154,
    "start_time": "2022-08-05T10:26:30.798Z"
   },
   {
    "duration": 160,
    "start_time": "2022-08-05T10:26:47.494Z"
   },
   {
    "duration": 1589,
    "start_time": "2022-08-05T10:28:09.730Z"
   },
   {
    "duration": 1604,
    "start_time": "2022-08-05T10:28:35.857Z"
   },
   {
    "duration": 2821,
    "start_time": "2022-08-05T10:29:54.637Z"
   },
   {
    "duration": 2869,
    "start_time": "2022-08-05T10:30:16.678Z"
   },
   {
    "duration": 1542,
    "start_time": "2022-08-05T10:30:30.560Z"
   },
   {
    "duration": 1144,
    "start_time": "2022-08-05T10:30:49.349Z"
   },
   {
    "duration": 46,
    "start_time": "2022-08-05T10:32:13.181Z"
   },
   {
    "duration": 856,
    "start_time": "2022-08-05T10:32:13.229Z"
   },
   {
    "duration": 472,
    "start_time": "2022-08-05T10:32:14.087Z"
   },
   {
    "duration": 129,
    "start_time": "2022-08-05T10:32:14.561Z"
   },
   {
    "duration": 647,
    "start_time": "2022-08-05T10:32:14.692Z"
   },
   {
    "duration": 389,
    "start_time": "2022-08-05T10:32:15.341Z"
   },
   {
    "duration": 24,
    "start_time": "2022-08-05T10:32:15.731Z"
   },
   {
    "duration": 61,
    "start_time": "2022-08-05T10:32:15.757Z"
   },
   {
    "duration": 562,
    "start_time": "2022-08-05T10:32:15.839Z"
   },
   {
    "duration": 593,
    "start_time": "2022-08-05T10:32:16.403Z"
   },
   {
    "duration": 551,
    "start_time": "2022-08-05T10:32:22.417Z"
   },
   {
    "duration": 774,
    "start_time": "2022-08-05T10:32:38.552Z"
   },
   {
    "duration": 46,
    "start_time": "2022-08-05T10:32:52.503Z"
   },
   {
    "duration": 43,
    "start_time": "2022-08-05T10:38:11.037Z"
   },
   {
    "duration": 155,
    "start_time": "2022-08-05T10:38:38.286Z"
   },
   {
    "duration": 138,
    "start_time": "2022-08-05T10:38:52.828Z"
   },
   {
    "duration": 53,
    "start_time": "2022-08-05T10:39:17.797Z"
   },
   {
    "duration": 841,
    "start_time": "2022-08-05T10:39:17.852Z"
   },
   {
    "duration": 526,
    "start_time": "2022-08-05T10:39:18.695Z"
   },
   {
    "duration": 134,
    "start_time": "2022-08-05T10:39:19.223Z"
   },
   {
    "duration": 663,
    "start_time": "2022-08-05T10:39:19.359Z"
   },
   {
    "duration": 380,
    "start_time": "2022-08-05T10:39:20.024Z"
   },
   {
    "duration": 19,
    "start_time": "2022-08-05T10:39:20.406Z"
   },
   {
    "duration": 62,
    "start_time": "2022-08-05T10:39:20.439Z"
   },
   {
    "duration": 572,
    "start_time": "2022-08-05T10:39:20.502Z"
   },
   {
    "duration": 555,
    "start_time": "2022-08-05T10:39:21.076Z"
   },
   {
    "duration": 149,
    "start_time": "2022-08-05T10:39:27.658Z"
   },
   {
    "duration": 485,
    "start_time": "2022-08-05T10:39:36.422Z"
   },
   {
    "duration": 464,
    "start_time": "2022-08-05T10:40:41.435Z"
   },
   {
    "duration": 473,
    "start_time": "2022-08-05T10:44:16.530Z"
   },
   {
    "duration": 73,
    "start_time": "2022-08-05T10:47:33.560Z"
   },
   {
    "duration": 34,
    "start_time": "2022-08-05T10:47:40.501Z"
   },
   {
    "duration": 859,
    "start_time": "2022-08-05T10:47:40.538Z"
   },
   {
    "duration": 483,
    "start_time": "2022-08-05T10:47:41.399Z"
   },
   {
    "duration": 132,
    "start_time": "2022-08-05T10:47:41.884Z"
   },
   {
    "duration": 668,
    "start_time": "2022-08-05T10:47:42.017Z"
   },
   {
    "duration": 412,
    "start_time": "2022-08-05T10:47:42.687Z"
   },
   {
    "duration": 20,
    "start_time": "2022-08-05T10:47:43.101Z"
   },
   {
    "duration": 87,
    "start_time": "2022-08-05T10:47:43.123Z"
   },
   {
    "duration": 611,
    "start_time": "2022-08-05T10:47:43.212Z"
   },
   {
    "duration": 585,
    "start_time": "2022-08-05T10:47:43.825Z"
   },
   {
    "duration": 1872,
    "start_time": "2022-08-05T10:47:47.453Z"
   },
   {
    "duration": 3,
    "start_time": "2022-08-05T10:49:03.611Z"
   },
   {
    "duration": 53,
    "start_time": "2022-08-05T11:30:58.470Z"
   },
   {
    "duration": 7,
    "start_time": "2022-08-05T11:31:13.455Z"
   },
   {
    "duration": 11,
    "start_time": "2022-08-05T11:31:32.443Z"
   },
   {
    "duration": 80,
    "start_time": "2022-08-05T11:33:41.906Z"
   },
   {
    "duration": 821,
    "start_time": "2022-08-05T11:33:41.988Z"
   },
   {
    "duration": 455,
    "start_time": "2022-08-05T11:33:42.810Z"
   },
   {
    "duration": 132,
    "start_time": "2022-08-05T11:33:43.266Z"
   },
   {
    "duration": 671,
    "start_time": "2022-08-05T11:33:43.400Z"
   },
   {
    "duration": 416,
    "start_time": "2022-08-05T11:33:44.073Z"
   },
   {
    "duration": 21,
    "start_time": "2022-08-05T11:33:44.491Z"
   },
   {
    "duration": 80,
    "start_time": "2022-08-05T11:33:44.514Z"
   },
   {
    "duration": 564,
    "start_time": "2022-08-05T11:33:44.597Z"
   },
   {
    "duration": 528,
    "start_time": "2022-08-05T11:33:45.163Z"
   },
   {
    "duration": 1664,
    "start_time": "2022-08-05T11:33:45.693Z"
   },
   {
    "duration": 486,
    "start_time": "2022-08-05T11:33:47.358Z"
   },
   {
    "duration": 364,
    "start_time": "2022-08-05T11:33:47.846Z"
   },
   {
    "duration": 4,
    "start_time": "2022-08-05T11:33:48.212Z"
   },
   {
    "duration": 11,
    "start_time": "2022-08-05T11:33:48.217Z"
   },
   {
    "duration": 9,
    "start_time": "2022-08-05T11:33:48.229Z"
   },
   {
    "duration": 64,
    "start_time": "2022-08-05T11:33:48.240Z"
   },
   {
    "duration": 10,
    "start_time": "2022-08-05T11:34:02.354Z"
   },
   {
    "duration": 27456,
    "start_time": "2022-08-05T11:34:27.883Z"
   },
   {
    "duration": 12,
    "start_time": "2022-08-05T11:42:23.764Z"
   },
   {
    "duration": 27557,
    "start_time": "2022-08-05T11:42:46.230Z"
   },
   {
    "duration": 9,
    "start_time": "2022-08-05T12:04:27.333Z"
   },
   {
    "duration": 4867,
    "start_time": "2022-08-05T12:04:44.683Z"
   },
   {
    "duration": 55,
    "start_time": "2022-08-05T12:20:24.935Z"
   },
   {
    "duration": 10,
    "start_time": "2022-08-05T12:20:32.683Z"
   },
   {
    "duration": 65,
    "start_time": "2022-08-05T12:21:25.565Z"
   },
   {
    "duration": 12,
    "start_time": "2022-08-05T12:21:36.396Z"
   },
   {
    "duration": 50,
    "start_time": "2022-08-05T12:22:04.282Z"
   },
   {
    "duration": 1452,
    "start_time": "2022-08-05T12:28:01.644Z"
   },
   {
    "duration": 909,
    "start_time": "2022-08-05T12:28:03.098Z"
   },
   {
    "duration": 535,
    "start_time": "2022-08-05T12:28:04.009Z"
   },
   {
    "duration": 128,
    "start_time": "2022-08-05T12:28:04.546Z"
   },
   {
    "duration": 688,
    "start_time": "2022-08-05T12:28:04.676Z"
   },
   {
    "duration": 438,
    "start_time": "2022-08-05T12:28:05.366Z"
   },
   {
    "duration": 21,
    "start_time": "2022-08-05T12:28:05.806Z"
   },
   {
    "duration": 69,
    "start_time": "2022-08-05T12:28:05.828Z"
   },
   {
    "duration": 574,
    "start_time": "2022-08-05T12:28:05.899Z"
   },
   {
    "duration": 522,
    "start_time": "2022-08-05T12:28:06.475Z"
   },
   {
    "duration": 1675,
    "start_time": "2022-08-05T12:28:06.999Z"
   },
   {
    "duration": 527,
    "start_time": "2022-08-05T12:28:08.676Z"
   },
   {
    "duration": 363,
    "start_time": "2022-08-05T12:28:09.204Z"
   },
   {
    "duration": 3,
    "start_time": "2022-08-05T12:28:09.570Z"
   },
   {
    "duration": 10,
    "start_time": "2022-08-05T12:28:09.574Z"
   },
   {
    "duration": 5,
    "start_time": "2022-08-05T12:28:09.586Z"
   },
   {
    "duration": 27627,
    "start_time": "2022-08-05T12:28:09.593Z"
   },
   {
    "duration": 4954,
    "start_time": "2022-08-05T12:28:37.221Z"
   },
   {
    "duration": 1394,
    "start_time": "2022-08-05T12:54:53.738Z"
   },
   {
    "duration": 1029,
    "start_time": "2022-08-05T12:54:55.133Z"
   },
   {
    "duration": 577,
    "start_time": "2022-08-05T12:54:56.163Z"
   },
   {
    "duration": 148,
    "start_time": "2022-08-05T12:54:56.742Z"
   },
   {
    "duration": 740,
    "start_time": "2022-08-05T12:54:56.892Z"
   },
   {
    "duration": 433,
    "start_time": "2022-08-05T12:54:57.638Z"
   },
   {
    "duration": 22,
    "start_time": "2022-08-05T12:54:58.072Z"
   },
   {
    "duration": 91,
    "start_time": "2022-08-05T12:54:58.095Z"
   },
   {
    "duration": 570,
    "start_time": "2022-08-05T12:54:58.189Z"
   },
   {
    "duration": 650,
    "start_time": "2022-08-05T12:54:58.761Z"
   },
   {
    "duration": 1844,
    "start_time": "2022-08-05T12:54:59.414Z"
   },
   {
    "duration": 532,
    "start_time": "2022-08-05T12:55:01.260Z"
   },
   {
    "duration": 371,
    "start_time": "2022-08-05T12:55:01.794Z"
   },
   {
    "duration": 3,
    "start_time": "2022-08-05T12:55:02.167Z"
   },
   {
    "duration": 8,
    "start_time": "2022-08-05T12:55:02.172Z"
   },
   {
    "duration": 8,
    "start_time": "2022-08-05T12:55:02.181Z"
   },
   {
    "duration": 7,
    "start_time": "2022-08-05T12:55:02.190Z"
   },
   {
    "duration": 27,
    "start_time": "2022-08-05T12:55:02.199Z"
   },
   {
    "duration": 52,
    "start_time": "2022-08-05T12:55:25.319Z"
   },
   {
    "duration": 5,
    "start_time": "2022-08-05T12:55:41.243Z"
   },
   {
    "duration": 1453,
    "start_time": "2022-08-05T13:02:49.141Z"
   },
   {
    "duration": 908,
    "start_time": "2022-08-05T13:02:50.596Z"
   },
   {
    "duration": 512,
    "start_time": "2022-08-05T13:02:51.506Z"
   },
   {
    "duration": 132,
    "start_time": "2022-08-05T13:02:52.020Z"
   },
   {
    "duration": 663,
    "start_time": "2022-08-05T13:02:52.154Z"
   },
   {
    "duration": 395,
    "start_time": "2022-08-05T13:02:52.818Z"
   },
   {
    "duration": 33,
    "start_time": "2022-08-05T13:02:53.214Z"
   },
   {
    "duration": 65,
    "start_time": "2022-08-05T13:02:53.248Z"
   },
   {
    "duration": 562,
    "start_time": "2022-08-05T13:02:53.314Z"
   },
   {
    "duration": 525,
    "start_time": "2022-08-05T13:02:53.877Z"
   },
   {
    "duration": 1643,
    "start_time": "2022-08-05T13:02:54.403Z"
   },
   {
    "duration": 495,
    "start_time": "2022-08-05T13:02:56.048Z"
   },
   {
    "duration": 367,
    "start_time": "2022-08-05T13:02:56.545Z"
   },
   {
    "duration": 2,
    "start_time": "2022-08-05T13:02:56.915Z"
   },
   {
    "duration": 8,
    "start_time": "2022-08-05T13:02:56.919Z"
   },
   {
    "duration": 8,
    "start_time": "2022-08-05T13:02:56.929Z"
   },
   {
    "duration": 6,
    "start_time": "2022-08-05T13:02:56.939Z"
   },
   {
    "duration": 8,
    "start_time": "2022-08-05T13:02:56.946Z"
   },
   {
    "duration": 7,
    "start_time": "2022-08-05T13:02:56.955Z"
   },
   {
    "duration": 5,
    "start_time": "2022-08-05T13:02:59.800Z"
   },
   {
    "duration": 381841,
    "start_time": "2022-08-05T13:03:02.337Z"
   },
   {
    "duration": 71706,
    "start_time": "2022-08-05T13:09:42.523Z"
   },
   {
    "duration": 4620,
    "start_time": "2022-08-05T13:11:03.777Z"
   },
   {
    "duration": 288368,
    "start_time": "2022-08-05T13:11:19.792Z"
   },
   {
    "duration": 108,
    "start_time": "2022-08-05T13:20:26.469Z"
   },
   {
    "duration": 43,
    "start_time": "2022-08-05T13:20:41.375Z"
   },
   {
    "duration": 14,
    "start_time": "2022-08-05T13:21:02.330Z"
   },
   {
    "duration": 5,
    "start_time": "2022-08-05T13:21:27.378Z"
   },
   {
    "duration": 4,
    "start_time": "2022-08-05T13:21:54.716Z"
   },
   {
    "duration": 29,
    "start_time": "2022-08-05T13:43:10.788Z"
   },
   {
    "duration": 37,
    "start_time": "2022-08-05T13:44:56.870Z"
   },
   {
    "duration": 4,
    "start_time": "2022-08-05T13:56:12.258Z"
   },
   {
    "duration": 67,
    "start_time": "2022-08-05T13:59:04.360Z"
   },
   {
    "duration": 60,
    "start_time": "2022-08-05T14:02:37.129Z"
   },
   {
    "duration": 3,
    "start_time": "2022-08-05T14:03:00.528Z"
   },
   {
    "duration": 82,
    "start_time": "2022-08-05T14:03:02.560Z"
   },
   {
    "duration": 15,
    "start_time": "2022-08-05T14:04:28.575Z"
   },
   {
    "duration": 4,
    "start_time": "2022-08-05T14:06:19.464Z"
   },
   {
    "duration": 3,
    "start_time": "2022-08-05T14:16:27.184Z"
   },
   {
    "duration": 14,
    "start_time": "2022-08-05T14:16:30.865Z"
   },
   {
    "duration": 3,
    "start_time": "2022-08-05T14:17:05.347Z"
   },
   {
    "duration": 13,
    "start_time": "2022-08-05T14:17:08.332Z"
   },
   {
    "duration": 3,
    "start_time": "2022-08-05T14:17:31.525Z"
   },
   {
    "duration": 14,
    "start_time": "2022-08-05T14:17:35.779Z"
   },
   {
    "duration": 3,
    "start_time": "2022-08-05T14:17:47.091Z"
   },
   {
    "duration": 25409,
    "start_time": "2022-08-05T14:17:51.069Z"
   },
   {
    "duration": 4,
    "start_time": "2022-08-05T14:22:08.787Z"
   },
   {
    "duration": 4517,
    "start_time": "2022-08-05T14:22:14.399Z"
   },
   {
    "duration": 4,
    "start_time": "2022-08-05T14:23:25.793Z"
   },
   {
    "duration": 4315,
    "start_time": "2022-08-05T14:23:30.399Z"
   },
   {
    "duration": 246,
    "start_time": "2022-08-05T14:39:56.217Z"
   },
   {
    "duration": 68,
    "start_time": "2022-08-05T14:40:53.676Z"
   },
   {
    "duration": 71,
    "start_time": "2022-08-05T16:57:04.339Z"
   },
   {
    "duration": 1988,
    "start_time": "2022-08-05T16:57:19.742Z"
   },
   {
    "duration": 4509,
    "start_time": "2022-08-05T16:57:21.733Z"
   },
   {
    "duration": 668,
    "start_time": "2022-08-05T16:57:26.244Z"
   },
   {
    "duration": 172,
    "start_time": "2022-08-05T16:57:26.915Z"
   },
   {
    "duration": 886,
    "start_time": "2022-08-05T16:57:27.091Z"
   },
   {
    "duration": 617,
    "start_time": "2022-08-05T16:57:27.979Z"
   },
   {
    "duration": 41,
    "start_time": "2022-08-05T16:57:28.600Z"
   },
   {
    "duration": 101,
    "start_time": "2022-08-05T16:57:28.643Z"
   },
   {
    "duration": 808,
    "start_time": "2022-08-05T16:57:28.747Z"
   },
   {
    "duration": 766,
    "start_time": "2022-08-05T16:57:29.558Z"
   },
   {
    "duration": 2257,
    "start_time": "2022-08-05T16:57:30.326Z"
   },
   {
    "duration": 811,
    "start_time": "2022-08-05T16:57:32.587Z"
   },
   {
    "duration": 414,
    "start_time": "2022-08-05T16:57:33.400Z"
   },
   {
    "duration": 70,
    "start_time": "2022-08-05T16:57:33.815Z"
   },
   {
    "duration": 7,
    "start_time": "2022-08-05T16:57:33.887Z"
   },
   {
    "duration": 39,
    "start_time": "2022-08-05T16:57:33.899Z"
   },
   {
    "duration": 8,
    "start_time": "2022-08-05T16:57:33.940Z"
   },
   {
    "duration": 7,
    "start_time": "2022-08-05T16:57:33.951Z"
   },
   {
    "duration": 12,
    "start_time": "2022-08-05T16:57:44.033Z"
   },
   {
    "duration": 7,
    "start_time": "2022-08-05T17:03:39.926Z"
   },
   {
    "duration": 30307,
    "start_time": "2022-08-05T17:03:44.543Z"
   },
   {
    "duration": 5741,
    "start_time": "2022-08-05T17:04:59.322Z"
   },
   {
    "duration": 4097,
    "start_time": "2022-08-05T17:05:05.065Z"
   },
   {
    "duration": 686,
    "start_time": "2022-08-05T17:05:09.163Z"
   },
   {
    "duration": 215,
    "start_time": "2022-08-05T17:05:09.852Z"
   },
   {
    "duration": 1033,
    "start_time": "2022-08-05T17:05:10.069Z"
   },
   {
    "duration": 574,
    "start_time": "2022-08-05T17:05:11.103Z"
   },
   {
    "duration": 30,
    "start_time": "2022-08-05T17:05:11.679Z"
   },
   {
    "duration": 113,
    "start_time": "2022-08-05T17:05:11.711Z"
   },
   {
    "duration": 949,
    "start_time": "2022-08-05T17:05:11.826Z"
   },
   {
    "duration": 813,
    "start_time": "2022-08-05T17:05:12.779Z"
   },
   {
    "duration": 2355,
    "start_time": "2022-08-05T17:05:13.601Z"
   },
   {
    "duration": 692,
    "start_time": "2022-08-05T17:05:15.959Z"
   },
   {
    "duration": 418,
    "start_time": "2022-08-05T17:05:16.653Z"
   },
   {
    "duration": 75,
    "start_time": "2022-08-05T17:05:17.073Z"
   },
   {
    "duration": 6,
    "start_time": "2022-08-05T17:05:17.151Z"
   },
   {
    "duration": 42,
    "start_time": "2022-08-05T17:05:17.160Z"
   },
   {
    "duration": 20,
    "start_time": "2022-08-05T17:05:17.215Z"
   },
   {
    "duration": 7,
    "start_time": "2022-08-05T17:05:17.238Z"
   },
   {
    "duration": 20,
    "start_time": "2022-08-05T17:05:17.246Z"
   },
   {
    "duration": 5,
    "start_time": "2022-08-05T17:06:28.350Z"
   },
   {
    "duration": 14813,
    "start_time": "2022-08-05T17:06:34.042Z"
   },
   {
    "duration": 105,
    "start_time": "2022-08-05T17:13:44.520Z"
   },
   {
    "duration": 28616,
    "start_time": "2022-08-05T17:13:45.785Z"
   },
   {
    "duration": 105,
    "start_time": "2022-08-05T17:14:40.758Z"
   },
   {
    "duration": 24,
    "start_time": "2022-08-05T17:22:16.315Z"
   },
   {
    "duration": 97,
    "start_time": "2022-08-05T17:27:33.614Z"
   },
   {
    "duration": 239,
    "start_time": "2022-08-05T17:28:26.561Z"
   },
   {
    "duration": 117,
    "start_time": "2022-08-05T17:28:46.013Z"
   },
   {
    "duration": 161,
    "start_time": "2022-08-05T17:28:59.074Z"
   },
   {
    "duration": 87,
    "start_time": "2022-08-05T17:29:08.763Z"
   },
   {
    "duration": 98,
    "start_time": "2022-08-05T17:29:16.587Z"
   },
   {
    "duration": 37,
    "start_time": "2022-08-05T17:29:39.785Z"
   },
   {
    "duration": 22,
    "start_time": "2022-08-05T17:30:04.667Z"
   },
   {
    "duration": 16,
    "start_time": "2022-08-05T17:30:18.640Z"
   },
   {
    "duration": 16,
    "start_time": "2022-08-05T17:31:20.855Z"
   },
   {
    "duration": 13822,
    "start_time": "2022-08-05T17:31:37.314Z"
   },
   {
    "duration": 71,
    "start_time": "2022-08-05T17:39:17.482Z"
   },
   {
    "duration": 2281,
    "start_time": "2022-08-05T17:40:09.020Z"
   },
   {
    "duration": 3703,
    "start_time": "2022-08-05T17:40:11.311Z"
   },
   {
    "duration": 696,
    "start_time": "2022-08-05T17:40:15.016Z"
   },
   {
    "duration": 143,
    "start_time": "2022-08-05T17:40:15.714Z"
   },
   {
    "duration": 865,
    "start_time": "2022-08-05T17:40:15.859Z"
   },
   {
    "duration": 502,
    "start_time": "2022-08-05T17:40:16.725Z"
   },
   {
    "duration": 29,
    "start_time": "2022-08-05T17:40:17.230Z"
   },
   {
    "duration": 109,
    "start_time": "2022-08-05T17:40:17.261Z"
   },
   {
    "duration": 796,
    "start_time": "2022-08-05T17:40:17.371Z"
   },
   {
    "duration": 705,
    "start_time": "2022-08-05T17:40:18.169Z"
   },
   {
    "duration": 2052,
    "start_time": "2022-08-05T17:40:18.876Z"
   },
   {
    "duration": 732,
    "start_time": "2022-08-05T17:40:20.931Z"
   },
   {
    "duration": 466,
    "start_time": "2022-08-05T17:40:21.665Z"
   },
   {
    "duration": 215,
    "start_time": "2022-08-05T17:40:22.133Z"
   },
   {
    "duration": 7,
    "start_time": "2022-08-05T17:40:54.678Z"
   },
   {
    "duration": 1634,
    "start_time": "2022-08-05T17:48:40.837Z"
   },
   {
    "duration": 1131,
    "start_time": "2022-08-05T17:48:42.473Z"
   },
   {
    "duration": 601,
    "start_time": "2022-08-05T17:48:43.607Z"
   },
   {
    "duration": 151,
    "start_time": "2022-08-05T17:48:44.211Z"
   },
   {
    "duration": 799,
    "start_time": "2022-08-05T17:48:44.364Z"
   },
   {
    "duration": 453,
    "start_time": "2022-08-05T17:48:45.164Z"
   },
   {
    "duration": 24,
    "start_time": "2022-08-05T17:48:45.619Z"
   },
   {
    "duration": 103,
    "start_time": "2022-08-05T17:48:45.645Z"
   },
   {
    "duration": 759,
    "start_time": "2022-08-05T17:48:45.750Z"
   },
   {
    "duration": 695,
    "start_time": "2022-08-05T17:48:46.511Z"
   },
   {
    "duration": 1931,
    "start_time": "2022-08-05T17:48:47.209Z"
   },
   {
    "duration": 613,
    "start_time": "2022-08-05T17:48:49.142Z"
   },
   {
    "duration": 394,
    "start_time": "2022-08-05T17:48:49.756Z"
   },
   {
    "duration": 183,
    "start_time": "2022-08-05T17:48:50.152Z"
   },
   {
    "duration": 9,
    "start_time": "2022-08-05T17:49:12.188Z"
   },
   {
    "duration": 340268,
    "start_time": "2022-08-05T17:49:18.646Z"
   },
   {
    "duration": 128,
    "start_time": "2022-08-05T17:59:08.609Z"
   },
   {
    "duration": 96,
    "start_time": "2022-08-05T18:01:13.361Z"
   },
   {
    "duration": 153221,
    "start_time": "2022-08-05T18:01:47.097Z"
   },
   {
    "duration": 656,
    "start_time": "2022-08-05T18:04:32.648Z"
   },
   {
    "duration": 522612,
    "start_time": "2022-08-05T18:04:42.794Z"
   },
   {
    "duration": 4,
    "start_time": "2022-08-05T18:23:02.958Z"
   },
   {
    "duration": 4,
    "start_time": "2022-08-05T18:27:27.217Z"
   },
   {
    "duration": 35269,
    "start_time": "2022-08-05T18:27:32.606Z"
   },
   {
    "duration": 5,
    "start_time": "2022-08-05T18:30:51.549Z"
   },
   {
    "duration": 3199,
    "start_time": "2022-08-05T18:30:57.661Z"
   },
   {
    "duration": 78,
    "start_time": "2022-08-05T18:37:36.063Z"
   },
   {
    "duration": 11,
    "start_time": "2022-08-05T18:37:47.901Z"
   },
   {
    "duration": 13,
    "start_time": "2022-08-05T18:37:59.131Z"
   },
   {
    "duration": 5,
    "start_time": "2022-08-05T18:38:27.577Z"
   },
   {
    "duration": 4518,
    "start_time": "2022-08-05T18:38:32.701Z"
   },
   {
    "duration": 18,
    "start_time": "2022-08-05T18:50:14.313Z"
   },
   {
    "duration": 11,
    "start_time": "2022-08-05T18:50:35.396Z"
   },
   {
    "duration": 408,
    "start_time": "2022-08-05T18:50:40.661Z"
   },
   {
    "duration": 13,
    "start_time": "2022-08-05T18:55:27.838Z"
   },
   {
    "duration": 481,
    "start_time": "2022-08-05T18:55:31.718Z"
   },
   {
    "duration": 475,
    "start_time": "2022-08-05T18:55:40.544Z"
   },
   {
    "duration": 11,
    "start_time": "2022-08-05T18:56:25.066Z"
   },
   {
    "duration": 216,
    "start_time": "2022-08-05T18:56:27.293Z"
   },
   {
    "duration": 12,
    "start_time": "2022-08-05T19:00:17.336Z"
   },
   {
    "duration": 15,
    "start_time": "2022-08-05T19:00:27.840Z"
   },
   {
    "duration": 11,
    "start_time": "2022-08-05T19:02:37.039Z"
   },
   {
    "duration": 83224,
    "start_time": "2022-08-05T19:02:40.949Z"
   },
   {
    "duration": 11257,
    "start_time": "2022-08-05T19:06:05.849Z"
   },
   {
    "duration": 65,
    "start_time": "2022-08-05T19:07:59.134Z"
   },
   {
    "duration": 47477,
    "start_time": "2022-08-05T19:08:03.838Z"
   },
   {
    "duration": 12,
    "start_time": "2022-08-05T19:27:34.060Z"
   },
   {
    "duration": 8,
    "start_time": "2022-08-05T19:30:29.463Z"
   },
   {
    "duration": 12,
    "start_time": "2022-08-05T19:43:47.285Z"
   },
   {
    "duration": 10,
    "start_time": "2022-08-05T19:44:15.737Z"
   },
   {
    "duration": 11,
    "start_time": "2022-08-05T19:44:37.744Z"
   },
   {
    "duration": 93,
    "start_time": "2022-08-05T19:44:52.303Z"
   },
   {
    "duration": 10,
    "start_time": "2022-08-05T19:44:56.346Z"
   },
   {
    "duration": 10,
    "start_time": "2022-08-05T19:45:10.962Z"
   },
   {
    "duration": 10,
    "start_time": "2022-08-05T19:46:13.743Z"
   },
   {
    "duration": 10,
    "start_time": "2022-08-05T19:46:38.141Z"
   },
   {
    "duration": 13,
    "start_time": "2022-08-05T19:47:58.059Z"
   },
   {
    "duration": 13,
    "start_time": "2022-08-05T19:48:14.867Z"
   },
   {
    "duration": 30,
    "start_time": "2022-08-05T19:48:31.329Z"
   },
   {
    "duration": 11,
    "start_time": "2022-08-05T19:48:36.240Z"
   },
   {
    "duration": 10,
    "start_time": "2022-08-05T19:48:52.354Z"
   },
   {
    "duration": 146,
    "start_time": "2022-08-05T19:50:08.144Z"
   },
   {
    "duration": 9,
    "start_time": "2022-08-05T19:50:20.304Z"
   },
   {
    "duration": 11,
    "start_time": "2022-08-05T19:51:19.566Z"
   },
   {
    "duration": 9,
    "start_time": "2022-08-05T19:52:36.642Z"
   },
   {
    "duration": 9,
    "start_time": "2022-08-05T19:53:50.540Z"
   },
   {
    "duration": 10,
    "start_time": "2022-08-05T19:54:05.386Z"
   },
   {
    "duration": 1596,
    "start_time": "2022-08-05T20:14:21.365Z"
   },
   {
    "duration": 1021,
    "start_time": "2022-08-05T20:14:22.963Z"
   },
   {
    "duration": 583,
    "start_time": "2022-08-05T20:14:23.991Z"
   },
   {
    "duration": 144,
    "start_time": "2022-08-05T20:14:24.576Z"
   },
   {
    "duration": 750,
    "start_time": "2022-08-05T20:14:24.722Z"
   },
   {
    "duration": 437,
    "start_time": "2022-08-05T20:14:25.475Z"
   },
   {
    "duration": 22,
    "start_time": "2022-08-05T20:14:25.914Z"
   },
   {
    "duration": 93,
    "start_time": "2022-08-05T20:14:25.938Z"
   },
   {
    "duration": 641,
    "start_time": "2022-08-05T20:14:26.033Z"
   },
   {
    "duration": 626,
    "start_time": "2022-08-05T20:14:26.676Z"
   },
   {
    "duration": 365,
    "start_time": "2022-08-05T20:14:27.304Z"
   },
   {
    "duration": 0,
    "start_time": "2022-08-05T20:14:27.671Z"
   },
   {
    "duration": 0,
    "start_time": "2022-08-05T20:14:27.673Z"
   },
   {
    "duration": 0,
    "start_time": "2022-08-05T20:14:27.674Z"
   },
   {
    "duration": 0,
    "start_time": "2022-08-05T20:14:27.676Z"
   },
   {
    "duration": 0,
    "start_time": "2022-08-05T20:14:27.678Z"
   },
   {
    "duration": 0,
    "start_time": "2022-08-05T20:14:27.692Z"
   },
   {
    "duration": 0,
    "start_time": "2022-08-05T20:14:27.693Z"
   },
   {
    "duration": 0,
    "start_time": "2022-08-05T20:14:27.695Z"
   },
   {
    "duration": 0,
    "start_time": "2022-08-05T20:14:27.696Z"
   },
   {
    "duration": 0,
    "start_time": "2022-08-05T20:14:27.697Z"
   },
   {
    "duration": 0,
    "start_time": "2022-08-05T20:14:27.698Z"
   },
   {
    "duration": 0,
    "start_time": "2022-08-05T20:14:27.699Z"
   },
   {
    "duration": 0,
    "start_time": "2022-08-05T20:14:27.700Z"
   },
   {
    "duration": 0,
    "start_time": "2022-08-05T20:14:27.702Z"
   },
   {
    "duration": 0,
    "start_time": "2022-08-05T20:14:27.702Z"
   },
   {
    "duration": 0,
    "start_time": "2022-08-05T20:14:27.703Z"
   },
   {
    "duration": 0,
    "start_time": "2022-08-05T20:14:27.705Z"
   },
   {
    "duration": 0,
    "start_time": "2022-08-05T20:14:27.706Z"
   },
   {
    "duration": 0,
    "start_time": "2022-08-05T20:14:27.707Z"
   },
   {
    "duration": 0,
    "start_time": "2022-08-05T20:14:27.708Z"
   },
   {
    "duration": 109,
    "start_time": "2022-08-05T20:19:17.477Z"
   },
   {
    "duration": 975,
    "start_time": "2022-08-05T20:19:17.587Z"
   },
   {
    "duration": 489,
    "start_time": "2022-08-05T20:19:18.564Z"
   },
   {
    "duration": 147,
    "start_time": "2022-08-05T20:19:19.055Z"
   },
   {
    "duration": 678,
    "start_time": "2022-08-05T20:19:19.205Z"
   },
   {
    "duration": 453,
    "start_time": "2022-08-05T20:19:19.885Z"
   },
   {
    "duration": 22,
    "start_time": "2022-08-05T20:19:20.340Z"
   },
   {
    "duration": 85,
    "start_time": "2022-08-05T20:19:20.363Z"
   },
   {
    "duration": 630,
    "start_time": "2022-08-05T20:19:20.450Z"
   },
   {
    "duration": 560,
    "start_time": "2022-08-05T20:19:21.081Z"
   },
   {
    "duration": 173,
    "start_time": "2022-08-05T20:19:21.643Z"
   },
   {
    "duration": 0,
    "start_time": "2022-08-05T20:19:21.818Z"
   },
   {
    "duration": 0,
    "start_time": "2022-08-05T20:19:21.820Z"
   },
   {
    "duration": 0,
    "start_time": "2022-08-05T20:19:21.822Z"
   },
   {
    "duration": 0,
    "start_time": "2022-08-05T20:19:21.823Z"
   },
   {
    "duration": 0,
    "start_time": "2022-08-05T20:19:21.825Z"
   },
   {
    "duration": 0,
    "start_time": "2022-08-05T20:19:21.826Z"
   },
   {
    "duration": 0,
    "start_time": "2022-08-05T20:19:21.828Z"
   },
   {
    "duration": 0,
    "start_time": "2022-08-05T20:19:21.829Z"
   },
   {
    "duration": 0,
    "start_time": "2022-08-05T20:19:21.831Z"
   },
   {
    "duration": 0,
    "start_time": "2022-08-05T20:19:21.832Z"
   },
   {
    "duration": 0,
    "start_time": "2022-08-05T20:19:21.834Z"
   },
   {
    "duration": 0,
    "start_time": "2022-08-05T20:19:21.836Z"
   },
   {
    "duration": 0,
    "start_time": "2022-08-05T20:19:21.838Z"
   },
   {
    "duration": 0,
    "start_time": "2022-08-05T20:19:21.839Z"
   },
   {
    "duration": 0,
    "start_time": "2022-08-05T20:19:21.840Z"
   },
   {
    "duration": 0,
    "start_time": "2022-08-05T20:19:21.842Z"
   },
   {
    "duration": 0,
    "start_time": "2022-08-05T20:19:21.843Z"
   },
   {
    "duration": 0,
    "start_time": "2022-08-05T20:19:21.844Z"
   },
   {
    "duration": 0,
    "start_time": "2022-08-05T20:19:21.846Z"
   },
   {
    "duration": 0,
    "start_time": "2022-08-05T20:19:21.847Z"
   },
   {
    "duration": 527,
    "start_time": "2022-08-05T20:19:42.996Z"
   },
   {
    "duration": 382,
    "start_time": "2022-08-05T20:19:51.188Z"
   },
   {
    "duration": 155,
    "start_time": "2022-08-05T20:19:54.279Z"
   },
   {
    "duration": 5,
    "start_time": "2022-08-05T20:19:58.804Z"
   },
   {
    "duration": 269,
    "start_time": "2022-08-05T20:53:09.208Z"
   },
   {
    "duration": 56,
    "start_time": "2022-08-05T20:53:10.288Z"
   },
   {
    "duration": 6,
    "start_time": "2022-08-05T20:53:14.417Z"
   },
   {
    "duration": 1764,
    "start_time": "2022-08-05T21:13:04.374Z"
   },
   {
    "duration": 2227,
    "start_time": "2022-08-05T21:13:06.139Z"
   },
   {
    "duration": 676,
    "start_time": "2022-08-05T21:13:08.367Z"
   },
   {
    "duration": 173,
    "start_time": "2022-08-05T21:13:09.045Z"
   },
   {
    "duration": 862,
    "start_time": "2022-08-05T21:13:09.223Z"
   },
   {
    "duration": 467,
    "start_time": "2022-08-05T21:13:10.102Z"
   },
   {
    "duration": 36,
    "start_time": "2022-08-05T21:13:10.571Z"
   },
   {
    "duration": 99,
    "start_time": "2022-08-05T21:13:10.608Z"
   },
   {
    "duration": 662,
    "start_time": "2022-08-05T21:13:10.709Z"
   },
   {
    "duration": 713,
    "start_time": "2022-08-05T21:13:11.373Z"
   },
   {
    "duration": 386,
    "start_time": "2022-08-05T21:13:12.088Z"
   },
   {
    "duration": 0,
    "start_time": "2022-08-05T21:13:12.477Z"
   },
   {
    "duration": 0,
    "start_time": "2022-08-05T21:13:12.478Z"
   },
   {
    "duration": 0,
    "start_time": "2022-08-05T21:13:12.479Z"
   },
   {
    "duration": 0,
    "start_time": "2022-08-05T21:13:12.481Z"
   },
   {
    "duration": 0,
    "start_time": "2022-08-05T21:13:12.482Z"
   },
   {
    "duration": 0,
    "start_time": "2022-08-05T21:13:12.492Z"
   },
   {
    "duration": 0,
    "start_time": "2022-08-05T21:13:12.498Z"
   },
   {
    "duration": 0,
    "start_time": "2022-08-05T21:13:12.499Z"
   },
   {
    "duration": 0,
    "start_time": "2022-08-05T21:13:12.500Z"
   },
   {
    "duration": 0,
    "start_time": "2022-08-05T21:13:12.501Z"
   },
   {
    "duration": 0,
    "start_time": "2022-08-05T21:13:12.503Z"
   },
   {
    "duration": 0,
    "start_time": "2022-08-05T21:13:12.504Z"
   },
   {
    "duration": 0,
    "start_time": "2022-08-05T21:13:12.505Z"
   },
   {
    "duration": 0,
    "start_time": "2022-08-05T21:13:12.506Z"
   },
   {
    "duration": 0,
    "start_time": "2022-08-05T21:13:12.508Z"
   },
   {
    "duration": 0,
    "start_time": "2022-08-05T21:13:12.509Z"
   },
   {
    "duration": 0,
    "start_time": "2022-08-05T21:13:12.511Z"
   },
   {
    "duration": 0,
    "start_time": "2022-08-05T21:13:12.512Z"
   },
   {
    "duration": 0,
    "start_time": "2022-08-05T21:13:12.513Z"
   },
   {
    "duration": 0,
    "start_time": "2022-08-05T21:13:12.514Z"
   },
   {
    "duration": 714,
    "start_time": "2022-08-05T21:13:29.868Z"
   },
   {
    "duration": 493,
    "start_time": "2022-08-05T21:13:31.525Z"
   },
   {
    "duration": 193,
    "start_time": "2022-08-05T21:13:34.647Z"
   },
   {
    "duration": 5,
    "start_time": "2022-08-05T21:13:38.032Z"
   },
   {
    "duration": 1735,
    "start_time": "2022-08-06T12:29:54.377Z"
   },
   {
    "duration": 1097,
    "start_time": "2022-08-06T12:29:56.114Z"
   },
   {
    "duration": 459,
    "start_time": "2022-08-06T12:29:57.212Z"
   },
   {
    "duration": 601,
    "start_time": "2022-08-06T12:29:57.673Z"
   },
   {
    "duration": 397,
    "start_time": "2022-08-06T12:29:58.275Z"
   },
   {
    "duration": 28,
    "start_time": "2022-08-06T12:29:58.674Z"
   },
   {
    "duration": 4,
    "start_time": "2022-08-06T12:30:19.917Z"
   },
   {
    "duration": 779,
    "start_time": "2022-08-06T12:30:22.745Z"
   },
   {
    "duration": 427,
    "start_time": "2022-08-06T12:30:23.586Z"
   },
   {
    "duration": 564,
    "start_time": "2022-08-06T12:30:24.405Z"
   },
   {
    "duration": 399,
    "start_time": "2022-08-06T12:30:25.024Z"
   },
   {
    "duration": 21,
    "start_time": "2022-08-06T12:30:25.744Z"
   },
   {
    "duration": 67,
    "start_time": "2022-08-06T12:30:26.956Z"
   },
   {
    "duration": 488,
    "start_time": "2022-08-06T12:30:27.325Z"
   },
   {
    "duration": 541,
    "start_time": "2022-08-06T12:30:27.815Z"
   },
   {
    "duration": 228,
    "start_time": "2022-08-06T12:30:28.359Z"
   },
   {
    "duration": 512,
    "start_time": "2022-08-06T12:30:28.992Z"
   },
   {
    "duration": 370,
    "start_time": "2022-08-06T12:30:30.220Z"
   },
   {
    "duration": 156,
    "start_time": "2022-08-06T12:30:30.592Z"
   },
   {
    "duration": 53,
    "start_time": "2022-08-06T12:31:01.198Z"
   },
   {
    "duration": 53,
    "start_time": "2022-08-06T12:31:19.993Z"
   },
   {
    "duration": 771,
    "start_time": "2022-08-06T12:31:21.897Z"
   },
   {
    "duration": 395,
    "start_time": "2022-08-06T12:31:22.670Z"
   },
   {
    "duration": 564,
    "start_time": "2022-08-06T12:31:23.106Z"
   },
   {
    "duration": 369,
    "start_time": "2022-08-06T12:31:23.672Z"
   },
   {
    "duration": 20,
    "start_time": "2022-08-06T12:31:24.234Z"
   },
   {
    "duration": 62,
    "start_time": "2022-08-06T12:31:24.856Z"
   },
   {
    "duration": 513,
    "start_time": "2022-08-06T12:31:25.390Z"
   },
   {
    "duration": 461,
    "start_time": "2022-08-06T12:31:26.006Z"
   },
   {
    "duration": 1583,
    "start_time": "2022-08-06T12:31:26.469Z"
   },
   {
    "duration": 492,
    "start_time": "2022-08-06T12:31:28.054Z"
   },
   {
    "duration": 383,
    "start_time": "2022-08-06T12:31:28.548Z"
   },
   {
    "duration": 4,
    "start_time": "2022-08-06T12:33:14.078Z"
   },
   {
    "duration": 63,
    "start_time": "2022-08-08T08:30:57.409Z"
   },
   {
    "duration": 1598,
    "start_time": "2022-08-08T08:31:21.735Z"
   },
   {
    "duration": 2883,
    "start_time": "2022-08-08T08:31:23.334Z"
   },
   {
    "duration": 454,
    "start_time": "2022-08-08T08:31:26.218Z"
   },
   {
    "duration": 765,
    "start_time": "2022-08-08T08:31:26.675Z"
   },
   {
    "duration": 477,
    "start_time": "2022-08-08T08:31:27.441Z"
   },
   {
    "duration": 22,
    "start_time": "2022-08-08T08:31:27.919Z"
   },
   {
    "duration": 67,
    "start_time": "2022-08-08T08:31:27.943Z"
   },
   {
    "duration": 509,
    "start_time": "2022-08-08T08:31:28.011Z"
   },
   {
    "duration": 527,
    "start_time": "2022-08-08T08:31:28.521Z"
   },
   {
    "duration": 1563,
    "start_time": "2022-08-08T08:31:29.051Z"
   },
   {
    "duration": 520,
    "start_time": "2022-08-08T08:31:30.615Z"
   },
   {
    "duration": 367,
    "start_time": "2022-08-08T08:31:31.137Z"
   },
   {
    "duration": 138,
    "start_time": "2022-08-08T08:31:31.506Z"
   },
   {
    "duration": 14,
    "start_time": "2022-08-08T08:31:31.645Z"
   },
   {
    "duration": 1497,
    "start_time": "2022-08-08T08:36:47.616Z"
   },
   {
    "duration": 868,
    "start_time": "2022-08-08T08:36:49.114Z"
   },
   {
    "duration": 498,
    "start_time": "2022-08-08T08:36:49.984Z"
   },
   {
    "duration": 660,
    "start_time": "2022-08-08T08:36:50.484Z"
   },
   {
    "duration": 390,
    "start_time": "2022-08-08T08:36:51.146Z"
   },
   {
    "duration": 31,
    "start_time": "2022-08-08T08:36:51.538Z"
   },
   {
    "duration": 82,
    "start_time": "2022-08-08T08:37:05.475Z"
   },
   {
    "duration": 846,
    "start_time": "2022-08-08T08:37:05.559Z"
   },
   {
    "duration": 472,
    "start_time": "2022-08-08T08:37:06.406Z"
   },
   {
    "duration": 666,
    "start_time": "2022-08-08T08:37:06.880Z"
   },
   {
    "duration": 426,
    "start_time": "2022-08-08T08:37:07.548Z"
   },
   {
    "duration": 24,
    "start_time": "2022-08-08T08:37:07.976Z"
   },
   {
    "duration": 95,
    "start_time": "2022-08-08T08:37:08.002Z"
   },
   {
    "duration": 529,
    "start_time": "2022-08-08T08:37:08.098Z"
   },
   {
    "duration": 612,
    "start_time": "2022-08-08T08:37:08.628Z"
   },
   {
    "duration": 77,
    "start_time": "2022-08-08T08:38:54.146Z"
   },
   {
    "duration": 827,
    "start_time": "2022-08-08T08:38:54.224Z"
   },
   {
    "duration": 425,
    "start_time": "2022-08-08T08:38:55.054Z"
   },
   {
    "duration": 613,
    "start_time": "2022-08-08T08:38:55.481Z"
   },
   {
    "duration": 411,
    "start_time": "2022-08-08T08:38:56.095Z"
   },
   {
    "duration": 20,
    "start_time": "2022-08-08T08:38:56.507Z"
   },
   {
    "duration": 80,
    "start_time": "2022-08-08T08:38:56.529Z"
   },
   {
    "duration": 560,
    "start_time": "2022-08-08T08:38:56.611Z"
   },
   {
    "duration": 637,
    "start_time": "2022-08-08T08:38:57.173Z"
   },
   {
    "duration": 56,
    "start_time": "2022-08-08T08:39:10.031Z"
   },
   {
    "duration": 862,
    "start_time": "2022-08-08T08:39:10.089Z"
   },
   {
    "duration": 446,
    "start_time": "2022-08-08T08:39:10.955Z"
   },
   {
    "duration": 676,
    "start_time": "2022-08-08T08:39:11.404Z"
   },
   {
    "duration": 436,
    "start_time": "2022-08-08T08:39:12.081Z"
   },
   {
    "duration": 19,
    "start_time": "2022-08-08T08:39:12.519Z"
   },
   {
    "duration": 77,
    "start_time": "2022-08-08T08:39:12.540Z"
   },
   {
    "duration": 566,
    "start_time": "2022-08-08T08:39:12.619Z"
   },
   {
    "duration": 577,
    "start_time": "2022-08-08T08:39:13.187Z"
   },
   {
    "duration": 1896,
    "start_time": "2022-08-08T08:39:13.767Z"
   },
   {
    "duration": 500,
    "start_time": "2022-08-08T08:39:15.665Z"
   },
   {
    "duration": 368,
    "start_time": "2022-08-08T08:39:16.167Z"
   },
   {
    "duration": 134,
    "start_time": "2022-08-08T08:39:16.537Z"
   },
   {
    "duration": 4,
    "start_time": "2022-08-08T08:39:16.674Z"
   },
   {
    "duration": 1553,
    "start_time": "2022-08-08T20:00:39.231Z"
   },
   {
    "duration": 1157,
    "start_time": "2022-08-08T20:00:40.785Z"
   },
   {
    "duration": 474,
    "start_time": "2022-08-08T20:00:41.943Z"
   },
   {
    "duration": 607,
    "start_time": "2022-08-08T20:00:42.418Z"
   },
   {
    "duration": 455,
    "start_time": "2022-08-08T20:00:43.027Z"
   },
   {
    "duration": 27,
    "start_time": "2022-08-08T20:00:43.484Z"
   },
   {
    "duration": 62,
    "start_time": "2022-08-08T20:00:43.513Z"
   },
   {
    "duration": 541,
    "start_time": "2022-08-08T20:00:43.577Z"
   },
   {
    "duration": 483,
    "start_time": "2022-08-08T20:00:44.119Z"
   },
   {
    "duration": 1556,
    "start_time": "2022-08-08T20:00:44.606Z"
   },
   {
    "duration": 574,
    "start_time": "2022-08-08T20:00:46.164Z"
   },
   {
    "duration": 399,
    "start_time": "2022-08-08T20:00:46.740Z"
   },
   {
    "duration": 143,
    "start_time": "2022-08-08T20:00:47.141Z"
   },
   {
    "duration": 5,
    "start_time": "2022-08-08T20:00:47.286Z"
   },
   {
    "duration": 33,
    "start_time": "2022-08-08T20:56:20.342Z"
   },
   {
    "duration": 762,
    "start_time": "2022-08-08T20:56:20.377Z"
   },
   {
    "duration": 445,
    "start_time": "2022-08-08T20:56:21.141Z"
   },
   {
    "duration": 736,
    "start_time": "2022-08-08T20:56:21.587Z"
   },
   {
    "duration": 408,
    "start_time": "2022-08-08T20:56:22.326Z"
   },
   {
    "duration": 21,
    "start_time": "2022-08-08T20:56:22.736Z"
   },
   {
    "duration": 84,
    "start_time": "2022-08-08T20:56:22.759Z"
   },
   {
    "duration": 567,
    "start_time": "2022-08-08T20:56:22.844Z"
   },
   {
    "duration": 484,
    "start_time": "2022-08-08T20:56:23.413Z"
   },
   {
    "duration": 1454,
    "start_time": "2022-08-08T20:56:23.899Z"
   },
   {
    "duration": 460,
    "start_time": "2022-08-08T20:56:25.356Z"
   },
   {
    "duration": 460,
    "start_time": "2022-08-08T20:56:25.818Z"
   },
   {
    "duration": 0,
    "start_time": "2022-08-08T20:56:26.280Z"
   },
   {
    "duration": 0,
    "start_time": "2022-08-08T20:56:26.281Z"
   },
   {
    "duration": 0,
    "start_time": "2022-08-08T20:56:26.282Z"
   },
   {
    "duration": 0,
    "start_time": "2022-08-08T20:56:26.284Z"
   },
   {
    "duration": 0,
    "start_time": "2022-08-08T20:56:26.284Z"
   },
   {
    "duration": 0,
    "start_time": "2022-08-08T20:56:26.285Z"
   },
   {
    "duration": 0,
    "start_time": "2022-08-08T20:56:26.300Z"
   },
   {
    "duration": 0,
    "start_time": "2022-08-08T20:56:26.301Z"
   },
   {
    "duration": 0,
    "start_time": "2022-08-08T20:56:26.302Z"
   },
   {
    "duration": 0,
    "start_time": "2022-08-08T20:56:26.303Z"
   },
   {
    "duration": 0,
    "start_time": "2022-08-08T20:56:26.303Z"
   },
   {
    "duration": 0,
    "start_time": "2022-08-08T20:56:26.304Z"
   },
   {
    "duration": 0,
    "start_time": "2022-08-08T20:56:26.305Z"
   },
   {
    "duration": 0,
    "start_time": "2022-08-08T20:56:26.306Z"
   },
   {
    "duration": 0,
    "start_time": "2022-08-08T20:56:26.307Z"
   },
   {
    "duration": 0,
    "start_time": "2022-08-08T20:56:26.308Z"
   },
   {
    "duration": 0,
    "start_time": "2022-08-08T20:56:26.309Z"
   },
   {
    "duration": 328,
    "start_time": "2022-08-08T21:02:14.559Z"
   },
   {
    "duration": 395,
    "start_time": "2022-08-08T21:02:52.895Z"
   },
   {
    "duration": 46,
    "start_time": "2022-08-08T21:03:07.529Z"
   },
   {
    "duration": 815,
    "start_time": "2022-08-08T21:03:07.577Z"
   },
   {
    "duration": 423,
    "start_time": "2022-08-08T21:03:08.399Z"
   },
   {
    "duration": 617,
    "start_time": "2022-08-08T21:03:08.824Z"
   },
   {
    "duration": 401,
    "start_time": "2022-08-08T21:03:09.443Z"
   },
   {
    "duration": 21,
    "start_time": "2022-08-08T21:03:09.845Z"
   },
   {
    "duration": 79,
    "start_time": "2022-08-08T21:03:09.867Z"
   },
   {
    "duration": 568,
    "start_time": "2022-08-08T21:03:09.947Z"
   },
   {
    "duration": 514,
    "start_time": "2022-08-08T21:03:10.517Z"
   },
   {
    "duration": 1528,
    "start_time": "2022-08-08T21:03:11.033Z"
   },
   {
    "duration": 610,
    "start_time": "2022-08-08T21:03:12.564Z"
   },
   {
    "duration": 486,
    "start_time": "2022-08-08T21:04:30.561Z"
   },
   {
    "duration": 373,
    "start_time": "2022-08-08T21:10:29.742Z"
   },
   {
    "duration": 395,
    "start_time": "2022-08-08T21:10:43.086Z"
   },
   {
    "duration": 405,
    "start_time": "2022-08-08T21:11:41.049Z"
   },
   {
    "duration": 396,
    "start_time": "2022-08-08T21:12:05.530Z"
   },
   {
    "duration": 242,
    "start_time": "2022-08-08T21:12:34.369Z"
   },
   {
    "duration": 147,
    "start_time": "2022-08-08T21:12:52.219Z"
   },
   {
    "duration": 355,
    "start_time": "2022-08-08T21:13:38.308Z"
   },
   {
    "duration": 50,
    "start_time": "2022-08-08T21:15:14.679Z"
   },
   {
    "duration": 356,
    "start_time": "2022-08-08T21:15:59.861Z"
   },
   {
    "duration": 424,
    "start_time": "2022-08-08T21:17:28.088Z"
   },
   {
    "duration": 317,
    "start_time": "2022-08-08T21:18:03.922Z"
   },
   {
    "duration": 442,
    "start_time": "2022-08-08T21:18:42.430Z"
   },
   {
    "duration": 432,
    "start_time": "2022-08-08T21:18:59.899Z"
   },
   {
    "duration": 420,
    "start_time": "2022-08-08T21:19:34.339Z"
   },
   {
    "duration": 149,
    "start_time": "2022-08-08T21:20:21.259Z"
   },
   {
    "duration": 38,
    "start_time": "2022-08-08T21:20:52.891Z"
   },
   {
    "duration": 787,
    "start_time": "2022-08-08T21:20:52.931Z"
   },
   {
    "duration": 454,
    "start_time": "2022-08-08T21:20:53.720Z"
   },
   {
    "duration": 614,
    "start_time": "2022-08-08T21:20:54.176Z"
   },
   {
    "duration": 383,
    "start_time": "2022-08-08T21:20:54.793Z"
   },
   {
    "duration": 28,
    "start_time": "2022-08-08T21:20:55.178Z"
   },
   {
    "duration": 141,
    "start_time": "2022-08-08T21:20:55.208Z"
   },
   {
    "duration": 621,
    "start_time": "2022-08-08T21:20:55.351Z"
   },
   {
    "duration": 546,
    "start_time": "2022-08-08T21:20:55.974Z"
   },
   {
    "duration": 1580,
    "start_time": "2022-08-08T21:20:56.522Z"
   },
   {
    "duration": 561,
    "start_time": "2022-08-08T21:20:58.107Z"
   },
   {
    "duration": 513,
    "start_time": "2022-08-08T21:20:58.670Z"
   },
   {
    "duration": 294,
    "start_time": "2022-08-08T21:20:59.185Z"
   },
   {
    "duration": 5,
    "start_time": "2022-08-08T21:20:59.480Z"
   },
   {
    "duration": 1486524,
    "start_time": "2022-08-08T21:20:59.486Z"
   },
   {
    "duration": 77766,
    "start_time": "2022-08-08T21:45:46.012Z"
   },
   {
    "duration": 2,
    "start_time": "2022-08-08T21:47:03.780Z"
   },
   {
    "duration": 91,
    "start_time": "2022-08-08T21:52:13.273Z"
   },
   {
    "duration": 0,
    "start_time": "2022-08-08T21:52:13.366Z"
   },
   {
    "duration": 0,
    "start_time": "2022-08-08T21:52:13.367Z"
   },
   {
    "duration": 0,
    "start_time": "2022-08-08T21:52:13.369Z"
   },
   {
    "duration": 0,
    "start_time": "2022-08-08T21:52:13.370Z"
   },
   {
    "duration": 0,
    "start_time": "2022-08-08T21:52:13.371Z"
   },
   {
    "duration": 0,
    "start_time": "2022-08-08T21:52:13.373Z"
   },
   {
    "duration": 0,
    "start_time": "2022-08-08T21:52:13.375Z"
   },
   {
    "duration": 0,
    "start_time": "2022-08-08T21:52:13.376Z"
   },
   {
    "duration": 0,
    "start_time": "2022-08-08T21:52:13.377Z"
   },
   {
    "duration": 0,
    "start_time": "2022-08-08T21:52:13.379Z"
   },
   {
    "duration": 0,
    "start_time": "2022-08-08T21:52:13.380Z"
   },
   {
    "duration": 0,
    "start_time": "2022-08-08T21:52:13.382Z"
   },
   {
    "duration": 0,
    "start_time": "2022-08-08T21:52:13.383Z"
   },
   {
    "duration": 0,
    "start_time": "2022-08-08T21:52:13.384Z"
   },
   {
    "duration": 0,
    "start_time": "2022-08-08T21:52:13.386Z"
   },
   {
    "duration": 4,
    "start_time": "2022-08-08T22:18:58.235Z"
   },
   {
    "duration": 54951,
    "start_time": "2022-08-08T22:18:59.268Z"
   },
   {
    "duration": 49320,
    "start_time": "2022-08-08T22:20:04.789Z"
   },
   {
    "duration": 1672,
    "start_time": "2022-08-08T22:21:16.632Z"
   },
   {
    "duration": 160934,
    "start_time": "2022-08-08T22:21:35.887Z"
   },
   {
    "duration": 22,
    "start_time": "2022-08-08T22:24:21.091Z"
   },
   {
    "duration": 167934,
    "start_time": "2022-08-08T22:25:15.380Z"
   },
   {
    "duration": 9,
    "start_time": "2022-08-08T22:28:22.345Z"
   },
   {
    "duration": 65414,
    "start_time": "2022-08-08T22:28:24.072Z"
   },
   {
    "duration": 5500,
    "start_time": "2022-08-08T22:29:37.897Z"
   },
   {
    "duration": 143,
    "start_time": "2022-08-08T22:29:53.185Z"
   },
   {
    "duration": 9,
    "start_time": "2022-08-08T22:30:24.851Z"
   },
   {
    "duration": 77518,
    "start_time": "2022-08-08T22:31:16.965Z"
   },
   {
    "duration": 10382,
    "start_time": "2022-08-08T22:34:42.682Z"
   },
   {
    "duration": 9,
    "start_time": "2022-08-08T22:35:24.131Z"
   },
   {
    "duration": 19,
    "start_time": "2022-08-08T22:35:33.747Z"
   },
   {
    "duration": 15,
    "start_time": "2022-08-08T22:35:39.083Z"
   },
   {
    "duration": 10,
    "start_time": "2022-08-08T22:35:51.710Z"
   },
   {
    "duration": 310506,
    "start_time": "2022-08-08T22:36:03.802Z"
   },
   {
    "duration": 10,
    "start_time": "2022-08-08T22:41:35.553Z"
   },
   {
    "duration": 12,
    "start_time": "2022-08-09T13:25:46.148Z"
   },
   {
    "duration": 57,
    "start_time": "2022-08-09T13:26:41.198Z"
   },
   {
    "duration": 2920,
    "start_time": "2022-08-09T13:26:41.258Z"
   },
   {
    "duration": 464,
    "start_time": "2022-08-09T13:26:44.179Z"
   },
   {
    "duration": 588,
    "start_time": "2022-08-09T13:26:44.644Z"
   },
   {
    "duration": 442,
    "start_time": "2022-08-09T13:26:45.234Z"
   },
   {
    "duration": 21,
    "start_time": "2022-08-09T13:26:45.677Z"
   },
   {
    "duration": 69,
    "start_time": "2022-08-09T13:26:45.699Z"
   },
   {
    "duration": 486,
    "start_time": "2022-08-09T13:26:45.769Z"
   },
   {
    "duration": 467,
    "start_time": "2022-08-09T13:26:46.257Z"
   },
   {
    "duration": 13,
    "start_time": "2022-08-09T13:26:46.726Z"
   },
   {
    "duration": 0,
    "start_time": "2022-08-09T13:26:46.741Z"
   },
   {
    "duration": 0,
    "start_time": "2022-08-09T13:26:46.742Z"
   },
   {
    "duration": 0,
    "start_time": "2022-08-09T13:26:46.743Z"
   },
   {
    "duration": 0,
    "start_time": "2022-08-09T13:26:46.744Z"
   },
   {
    "duration": 0,
    "start_time": "2022-08-09T13:26:46.745Z"
   },
   {
    "duration": 0,
    "start_time": "2022-08-09T13:26:46.746Z"
   },
   {
    "duration": 0,
    "start_time": "2022-08-09T13:26:46.747Z"
   },
   {
    "duration": 0,
    "start_time": "2022-08-09T13:26:46.841Z"
   },
   {
    "duration": 0,
    "start_time": "2022-08-09T13:26:46.842Z"
   },
   {
    "duration": 0,
    "start_time": "2022-08-09T13:26:46.843Z"
   },
   {
    "duration": 0,
    "start_time": "2022-08-09T13:26:46.844Z"
   },
   {
    "duration": 0,
    "start_time": "2022-08-09T13:26:46.845Z"
   },
   {
    "duration": 0,
    "start_time": "2022-08-09T13:26:46.846Z"
   },
   {
    "duration": 0,
    "start_time": "2022-08-09T13:26:46.847Z"
   },
   {
    "duration": 0,
    "start_time": "2022-08-09T13:26:46.847Z"
   },
   {
    "duration": 0,
    "start_time": "2022-08-09T13:26:46.848Z"
   },
   {
    "duration": 0,
    "start_time": "2022-08-09T13:26:46.849Z"
   },
   {
    "duration": 0,
    "start_time": "2022-08-09T13:26:46.850Z"
   },
   {
    "duration": 0,
    "start_time": "2022-08-09T13:26:46.851Z"
   },
   {
    "duration": 0,
    "start_time": "2022-08-09T13:26:46.852Z"
   },
   {
    "duration": 0,
    "start_time": "2022-08-09T13:26:46.853Z"
   },
   {
    "duration": 0,
    "start_time": "2022-08-09T13:26:46.854Z"
   },
   {
    "duration": 10,
    "start_time": "2022-08-09T13:27:10.668Z"
   },
   {
    "duration": 1285,
    "start_time": "2022-08-09T13:27:44.324Z"
   },
   {
    "duration": 241,
    "start_time": "2022-08-09T13:27:57.324Z"
   },
   {
    "duration": 69,
    "start_time": "2022-08-09T13:31:32.104Z"
   },
   {
    "duration": 828,
    "start_time": "2022-08-09T13:31:32.176Z"
   },
   {
    "duration": 406,
    "start_time": "2022-08-09T13:31:33.006Z"
   },
   {
    "duration": 574,
    "start_time": "2022-08-09T13:31:33.413Z"
   },
   {
    "duration": 370,
    "start_time": "2022-08-09T13:31:33.989Z"
   },
   {
    "duration": 25,
    "start_time": "2022-08-09T13:31:34.361Z"
   },
   {
    "duration": 81,
    "start_time": "2022-08-09T13:31:34.387Z"
   },
   {
    "duration": 622,
    "start_time": "2022-08-09T13:31:34.470Z"
   },
   {
    "duration": 524,
    "start_time": "2022-08-09T13:31:35.094Z"
   },
   {
    "duration": 1471,
    "start_time": "2022-08-09T13:31:35.620Z"
   },
   {
    "duration": 538,
    "start_time": "2022-08-09T13:31:37.093Z"
   },
   {
    "duration": 482,
    "start_time": "2022-08-09T13:31:37.632Z"
   },
   {
    "duration": 256,
    "start_time": "2022-08-09T13:31:38.116Z"
   },
   {
    "duration": 4,
    "start_time": "2022-08-09T13:31:38.375Z"
   },
   {
    "duration": 777188,
    "start_time": "2022-08-09T13:31:38.382Z"
   },
   {
    "duration": 98625,
    "start_time": "2022-08-09T13:44:35.571Z"
   },
   {
    "duration": 10571,
    "start_time": "2022-08-09T13:46:14.198Z"
   },
   {
    "duration": 415624,
    "start_time": "2022-08-09T13:46:24.770Z"
   },
   {
    "duration": 3,
    "start_time": "2022-08-09T13:53:20.395Z"
   },
   {
    "duration": 20335,
    "start_time": "2022-08-09T13:53:20.400Z"
   },
   {
    "duration": 4203,
    "start_time": "2022-08-09T13:53:40.738Z"
   },
   {
    "duration": 1818,
    "start_time": "2022-08-09T13:53:44.943Z"
   },
   {
    "duration": 21573,
    "start_time": "2022-08-09T13:53:46.763Z"
   },
   {
    "duration": 9,
    "start_time": "2022-08-09T13:54:08.338Z"
   },
   {
    "duration": 61999,
    "start_time": "2022-08-09T13:54:08.349Z"
   },
   {
    "duration": 5244,
    "start_time": "2022-08-09T13:55:10.349Z"
   },
   {
    "duration": 126,
    "start_time": "2022-08-09T13:55:15.595Z"
   },
   {
    "duration": 22105,
    "start_time": "2022-08-09T13:55:15.723Z"
   },
   {
    "duration": 9,
    "start_time": "2022-08-09T13:55:37.830Z"
   },
   {
    "duration": 12,
    "start_time": "2022-08-09T13:55:37.841Z"
   },
   {
    "duration": 21494,
    "start_time": "2022-08-09T13:55:37.855Z"
   },
   {
    "duration": 1659,
    "start_time": "2022-08-09T14:04:04.374Z"
   },
   {
    "duration": 325,
    "start_time": "2022-08-09T14:04:21.622Z"
   },
   {
    "duration": 88,
    "start_time": "2022-08-09T14:06:07.628Z"
   },
   {
    "duration": 12,
    "start_time": "2022-08-09T14:06:14.558Z"
   },
   {
    "duration": 5,
    "start_time": "2022-08-09T14:06:23.148Z"
   },
   {
    "duration": 5,
    "start_time": "2022-08-09T14:09:19.074Z"
   },
   {
    "duration": 47,
    "start_time": "2022-08-09T18:27:59.557Z"
   },
   {
    "duration": 6,
    "start_time": "2022-08-09T18:29:09.041Z"
   },
   {
    "duration": 1557,
    "start_time": "2022-08-09T18:29:28.456Z"
   },
   {
    "duration": 2768,
    "start_time": "2022-08-09T18:29:30.015Z"
   },
   {
    "duration": 464,
    "start_time": "2022-08-09T18:29:32.785Z"
   },
   {
    "duration": 647,
    "start_time": "2022-08-09T18:29:33.251Z"
   },
   {
    "duration": 474,
    "start_time": "2022-08-09T18:29:33.905Z"
   },
   {
    "duration": 28,
    "start_time": "2022-08-09T18:29:34.380Z"
   },
   {
    "duration": 64,
    "start_time": "2022-08-09T18:29:34.410Z"
   },
   {
    "duration": 560,
    "start_time": "2022-08-09T18:29:34.475Z"
   },
   {
    "duration": 569,
    "start_time": "2022-08-09T18:29:35.037Z"
   },
   {
    "duration": 1567,
    "start_time": "2022-08-09T18:29:35.608Z"
   },
   {
    "duration": 460,
    "start_time": "2022-08-09T18:29:37.176Z"
   },
   {
    "duration": 492,
    "start_time": "2022-08-09T18:29:37.637Z"
   },
   {
    "duration": 246,
    "start_time": "2022-08-09T18:29:38.130Z"
   },
   {
    "duration": 74,
    "start_time": "2022-08-09T18:29:53.435Z"
   },
   {
    "duration": 4,
    "start_time": "2022-08-09T18:30:18.002Z"
   },
   {
    "duration": 19915,
    "start_time": "2022-08-09T18:30:19.193Z"
   },
   {
    "duration": 4316,
    "start_time": "2022-08-09T18:30:47.298Z"
   },
   {
    "duration": 12493,
    "start_time": "2022-08-09T18:31:10.619Z"
   },
   {
    "duration": 257,
    "start_time": "2022-08-09T18:31:37.762Z"
   },
   {
    "duration": 5,
    "start_time": "2022-08-09T18:31:41.856Z"
   },
   {
    "duration": 59,
    "start_time": "2022-08-09T18:32:05.686Z"
   },
   {
    "duration": 590,
    "start_time": "2022-08-09T18:32:23.724Z"
   },
   {
    "duration": 4,
    "start_time": "2022-08-09T18:32:27.103Z"
   },
   {
    "duration": 11,
    "start_time": "2022-08-09T18:41:06.103Z"
   },
   {
    "duration": 10,
    "start_time": "2022-08-09T18:43:42.292Z"
   }
  ],
  "kernelspec": {
   "display_name": "Python 3 (ipykernel)",
   "language": "python",
   "name": "python3"
  },
  "language_info": {
   "codemirror_mode": {
    "name": "ipython",
    "version": 3
   },
   "file_extension": ".py",
   "mimetype": "text/x-python",
   "name": "python",
   "nbconvert_exporter": "python",
   "pygments_lexer": "ipython3",
   "version": "3.9.7"
  },
  "toc": {
   "base_numbering": 1,
   "nav_menu": {
    "height": "208px",
    "width": "233px"
   },
   "number_sections": true,
   "sideBar": true,
   "skip_h1_title": true,
   "title_cell": "Table of Contents",
   "title_sidebar": "Contents",
   "toc_cell": false,
   "toc_position": {},
   "toc_section_display": true,
   "toc_window_display": true
  }
 },
 "nbformat": 4,
 "nbformat_minor": 2
}
